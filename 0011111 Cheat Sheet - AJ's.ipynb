{
 "cells": [
  {
   "cell_type": "markdown",
   "id": "99ac097d",
   "metadata": {},
   "source": [
    "# Tokens\n",
    "\n",
    "### A token is the smallest individual unit in a python program. All statements and instructions in a program are built with tokens.\n",
    "\n",
    "### Keywords\n",
    "\n",
    "### Identifiers\n",
    "\n",
    "### Literals  -- are simply the RAW data that is assigned into the Variables.\n",
    "\n",
    "### Operators\n",
    "\n",
    "### Punctuators"
   ]
  },
  {
   "cell_type": "markdown",
   "id": "bf0780e6",
   "metadata": {},
   "source": [
    "# WHAT is a keyword in PYthon?\n",
    "\n",
    "### Keywords are special words which have a unique meaning and purpose in Python.\n",
    "### Keywords cannot be used as Variable names, function names etc.    \n",
    "### Python keywords reserved words."
   ]
  },
  {
   "cell_type": "code",
   "execution_count": 2,
   "id": "641a15c0",
   "metadata": {},
   "outputs": [
    {
     "name": "stdout",
     "output_type": "stream",
     "text": [
      "\n",
      "Here is a list of the Python keywords.  Enter any keyword to get more help.\n",
      "\n",
      "False               class               from                or\n",
      "None                continue            global              pass\n",
      "True                def                 if                  raise\n",
      "and                 del                 import              return\n",
      "as                  elif                in                  try\n",
      "assert              else                is                  while\n",
      "async               except              lambda              with\n",
      "await               finally             nonlocal            yield\n",
      "break               for                 not                 \n",
      "\n"
     ]
    }
   ],
   "source": [
    "help(\"keywords\")"
   ]
  },
  {
   "cell_type": "markdown",
   "id": "6cef7e4d",
   "metadata": {},
   "source": [
    "# Identifiers\n",
    "\n",
    "- Identifiers -- are names given to any variable, class, function, method etc.\n",
    "\n",
    "\n",
    "##     1. print() - - an Identifier     \n",
    "###      FUNCTION\n",
    "###      in print we write predefined things.\n",
    "\n",
    "\n",
    "##     2. input()  - - an Identifier   \n",
    "###     FUNCTION\n",
    "###     in input we define things.\n",
    "\n",
    "\n",
    "<br> FUNCTION"
   ]
  },
  {
   "cell_type": "markdown",
   "id": "0867e2df",
   "metadata": {},
   "source": [
    "# Python Input: Take Input from User\n",
    "### -- In Python, using the input() function, we take input from a user and using the print() function, we display output on the screen. Anything or DATA that comes out of input() function is a string 'OR' Anything in the input() command is a string."
   ]
  },
  {
   "cell_type": "code",
   "execution_count": 5,
   "id": "6a01f887",
   "metadata": {},
   "outputs": [
    {
     "name": "stdout",
     "output_type": "stream",
     "text": [
      "A + R + J + U + N\n",
      "\n",
      "\n",
      "A+R+J+U+N\n",
      "\n",
      "\n",
      "ARJ\" +  + \"N\n",
      "\n",
      "\n",
      "I am a Data Scientist\n",
      "I wanna become one of the best Data Scientist in the World\n",
      " Jai Thakur\tJai Maa Sradha\t Jai Guru Dev\n"
     ]
    }
   ],
   "source": [
    "print('A + R + J + U + N')\n",
    "print(\"\\n\")\n",
    "print('A+R+J+U+N')\n",
    "print(\"\\n\")\n",
    "print('A'+ \"R\" + 'J\" + 'U' + \"N')       # \"U\" may be taken union\n",
    "print(\"\\n\")\n",
    "print('I am a Data Scientist\\nI wanna become one of the best Data Scientist in the World\\n Jai Thakur\\tJai Maa Sradha\\t Jai Guru Dev')"
   ]
  },
  {
   "cell_type": "code",
   "execution_count": 7,
   "id": "cc9ebe70",
   "metadata": {},
   "outputs": [
    {
     "name": "stdout",
     "output_type": "stream",
     "text": [
      "Even Number: 122\n",
      "Odd Number:  555\n",
      "\n",
      "\n",
      "122555\n"
     ]
    }
   ],
   "source": [
    "a = input('Even Number: ')\n",
    "b = input('Odd Number:  ')\n",
    "c = a+b                       # Concatenation – State of being linked together; series of connected items or events.\n",
    "\n",
    "print('\\n')\n",
    "print(c)\n"
   ]
  },
  {
   "cell_type": "code",
   "execution_count": null,
   "id": "7a8f7b0e",
   "metadata": {},
   "outputs": [],
   "source": []
  },
  {
   "cell_type": "code",
   "execution_count": null,
   "id": "981bc1e9",
   "metadata": {},
   "outputs": [],
   "source": []
  },
  {
   "cell_type": "code",
   "execution_count": 10,
   "id": "580e8af2",
   "metadata": {},
   "outputs": [
    {
     "name": "stdout",
     "output_type": "stream",
     "text": [
      "Enter the Name of the Best Data Scientist: AJ\n",
      "\n",
      "\n",
      "Enter Employee Name: Aj\n",
      "Hello, Aj! Nice to meet you.\n"
     ]
    }
   ],
   "source": [
    "Best_data_scientist = input('Enter the Name of the Best Data Scientist: ')\n",
    "print('\\n')\n",
    "name = input('Enter Employee Name: ')              # take value from a user.\n",
    "print('Hello, ' + name + '! Nice to meet you.')\n"
   ]
  },
  {
   "cell_type": "code",
   "execution_count": 1,
   "id": "bbd2bc97",
   "metadata": {},
   "outputs": [
    {
     "name": "stdout",
     "output_type": "stream",
     "text": [
      "Write an odd number: 9\n",
      "<class 'str'>\n",
      "<class 'int'>\n"
     ]
    }
   ],
   "source": [
    "x = input('Write an odd number: ')\n",
    "#  input any Data into the input command and then check Data type, now change that data into integer again.\n",
    "print(type(x))\n",
    "x = int(x)\n",
    "print(type(x))"
   ]
  },
  {
   "cell_type": "code",
   "execution_count": 2,
   "id": "40ba65a3",
   "metadata": {},
   "outputs": [
    {
     "name": "stdout",
     "output_type": "stream",
     "text": [
      "Enter Marks: 100\n",
      "\n",
      "\n",
      "Students marks is:  100.0\n",
      "Type is:  <class 'float'>\n"
     ]
    }
   ],
   "source": [
    "Marks = float(input('Enter Marks: '))\n",
    "print('\\n')\n",
    "print('Students marks is: ', Marks)\n",
    "print('Type is: ', type(Marks))"
   ]
  },
  {
   "cell_type": "markdown",
   "id": "e37a970d",
   "metadata": {},
   "source": [
    "##  What Is a NameError in Python? \n",
    "### In Python, the NameError occurs when you try to use a variable, function, or module that doesn't exist or wasn't used in a valid way. Some of the common mistakes that cause this error are: Using a variable or function name that is yet to be defined."
   ]
  },
  {
   "cell_type": "markdown",
   "id": "ff247414",
   "metadata": {},
   "source": [
    "# use only pre-defined keywords in the PYthon\n",
    "\n",
    "- Example in print, int, class.... "
   ]
  },
  {
   "cell_type": "code",
   "execution_count": null,
   "id": "c6ad32f7",
   "metadata": {},
   "outputs": [],
   "source": []
  },
  {
   "cell_type": "code",
   "execution_count": null,
   "id": "fce568fb",
   "metadata": {},
   "outputs": [],
   "source": []
  },
  {
   "cell_type": "markdown",
   "id": "c7c4f1a6",
   "metadata": {},
   "source": [
    "### Important Note  -- Generally PYthon runs from left to right -- AND -- Top to Bottom "
   ]
  },
  {
   "cell_type": "markdown",
   "id": "3936e12a",
   "metadata": {},
   "source": [
    "## PRECEDENCE  of logical operators\n",
    "\n",
    "### 1. and\n",
    "### 2. or"
   ]
  },
  {
   "cell_type": "code",
   "execution_count": 1,
   "id": "27729ef8",
   "metadata": {},
   "outputs": [
    {
     "data": {
      "text/plain": [
       "True"
      ]
     },
     "execution_count": 1,
     "metadata": {},
     "output_type": "execute_result"
    }
   ],
   "source": [
    "True and False or True and True or False and False "
   ]
  },
  {
   "cell_type": "code",
   "execution_count": 2,
   "id": "bbb76f00",
   "metadata": {},
   "outputs": [
    {
     "data": {
      "text/plain": [
       "True"
      ]
     },
     "execution_count": 2,
     "metadata": {},
     "output_type": "execute_result"
    }
   ],
   "source": [
    "True or False and True or True and False or False "
   ]
  },
  {
   "cell_type": "code",
   "execution_count": 3,
   "id": "130bf590",
   "metadata": {},
   "outputs": [
    {
     "data": {
      "text/plain": [
       "True"
      ]
     },
     "execution_count": 3,
     "metadata": {},
     "output_type": "execute_result"
    }
   ],
   "source": [
    "True and False or True and True or not False and False "
   ]
  },
  {
   "cell_type": "code",
   "execution_count": 4,
   "id": "027cec23",
   "metadata": {},
   "outputs": [
    {
     "data": {
      "text/plain": [
       "True"
      ]
     },
     "execution_count": 4,
     "metadata": {},
     "output_type": "execute_result"
    }
   ],
   "source": [
    "True and False or True and True or not True and False "
   ]
  },
  {
   "cell_type": "code",
   "execution_count": null,
   "id": "5d5e583a",
   "metadata": {},
   "outputs": [],
   "source": []
  },
  {
   "cell_type": "code",
   "execution_count": null,
   "id": "c98d15c9",
   "metadata": {},
   "outputs": [],
   "source": []
  },
  {
   "cell_type": "code",
   "execution_count": null,
   "id": "20584b19",
   "metadata": {},
   "outputs": [],
   "source": []
  },
  {
   "cell_type": "markdown",
   "id": "ce9d5765",
   "metadata": {},
   "source": [
    "# 2. Variables - - an Identifier\n",
    "\n",
    "## Variables rules\n",
    "\n",
    " - A variable name must start with an alphabet OR an UNDERSCORE.\n",
    " \n",
    " - A variable cannot start with a number or any special character.\n",
    " \n",
    " - A variable Can ONLY!, contain alphabets, numbers and underscore.\n",
    " \n",
    " - A variable is CASE SENSITIVE.\n",
    " \n",
    " - Keywords cannot be used as variable names. example -- class, for, True, False....\n",
    " \n",
    "\n",
    "# 3. class - - an Identifier"
   ]
  },
  {
   "cell_type": "code",
   "execution_count": null,
   "id": "6bb31c00",
   "metadata": {},
   "outputs": [],
   "source": []
  },
  {
   "cell_type": "code",
   "execution_count": null,
   "id": "fb18b201",
   "metadata": {},
   "outputs": [],
   "source": []
  },
  {
   "cell_type": "code",
   "execution_count": null,
   "id": "8399ec38",
   "metadata": {},
   "outputs": [],
   "source": []
  },
  {
   "cell_type": "markdown",
   "id": "b2d86dfd",
   "metadata": {},
   "source": [
    "# 4. function - - an Identifier\n",
    "\n",
    "- len()  -- find the length of the string\n",
    "\n",
    "## Type of Casting function \n",
    "\n",
    "### int()\n",
    "\n",
    "### float()\n",
    "\n",
    "### str()\n",
    "\n",
    "### complex()\n",
    "\n",
    "### bool()\n",
    "\n",
    "### list()\n",
    "\n",
    "### tuple()\n",
    "\n",
    "### dict()\n",
    "\n",
    "### set()\n"
   ]
  },
  {
   "cell_type": "markdown",
   "id": "06f3eaf9",
   "metadata": {},
   "source": [
    "Best_data_scientist = input('Enter the Name of the Best Data Scientist: ')\n",
    "print(\"\\n\")\n",
    "name = input('Enter Employee Name: ')              # take value from a user.\n",
    "print('Hello, ' + name + '! Nice to meet you.')\n",
    "\n",
    "\n"
   ]
  },
  {
   "cell_type": "code",
   "execution_count": null,
   "id": "d7890ff6",
   "metadata": {},
   "outputs": [],
   "source": []
  },
  {
   "cell_type": "markdown",
   "id": "cb65348c",
   "metadata": {},
   "source": [
    "##        4. function - - an Identifier\n",
    "###         len() -- find the length of the string\n",
    "####         Type of Casting function\n",
    "\n",
    "####          int()\n",
    "####          float()\n",
    "####          str()\n",
    "####          complex()\n",
    "####          bool()\n",
    "####          list()\n",
    "####          tuple()\n",
    "####          dict()\n",
    "####          set()"
   ]
  },
  {
   "cell_type": "code",
   "execution_count": 2,
   "id": "951a1ca6",
   "metadata": {},
   "outputs": [
    {
     "name": "stdout",
     "output_type": "stream",
     "text": [
      "<class 'str'>\n",
      "<class 'int'>\n",
      "<class 'bool'>\n",
      "<class 'bool'>\n",
      "True\n",
      "<class 'str'>\n"
     ]
    }
   ],
   "source": [
    "print(type('kfh'))\n",
    "\n",
    "print(type(5364576))\n",
    "\n",
    "print(type(True))\n",
    "\n",
    "print(type(False))\n",
    "\n",
    "print(str(bool(True)))\n",
    "print(type(str(bool(True))))"
   ]
  },
  {
   "cell_type": "code",
   "execution_count": 3,
   "id": "cfabbc1a",
   "metadata": {},
   "outputs": [
    {
     "name": "stdout",
     "output_type": "stream",
     "text": [
      "<class 'dict'>\n",
      "<class 'dict'>\n",
      "\n",
      "\n",
      "<class 'dict'>\n",
      "<class 'set'>\n"
     ]
    }
   ],
   "source": [
    "x = {}\n",
    "print(type(x))\n",
    "set(dict(x))\n",
    "print(type(x))       # NULL set is NOT created\n",
    "print(\"\\n\")\n",
    "\n",
    "y = {}\n",
    "print(type(y))\n",
    "y = set(y)\n",
    "print(type(y))       # NULL set is created"
   ]
  },
  {
   "cell_type": "markdown",
   "id": "292ddda5",
   "metadata": {},
   "source": [
    "Commet                             Doc string\n",
    "\n",
    "aviod                              Not Avioded\n",
    "has - tag                          no has-tag\n",
    "none                               Triple quotation"
   ]
  },
  {
   "cell_type": "markdown",
   "id": "3659ea6f",
   "metadata": {},
   "source": [
    "#  DATA type:\n",
    "\n",
    "Primitive -- Numbers, strings and None\n",
    "\n",
    "          -- Numbers(float, integer, complex, bool) \n",
    "          \n",
    "\n",
    "Non - Primitive --- list, dictionary, set, tuples"
   ]
  },
  {
   "cell_type": "code",
   "execution_count": null,
   "id": "9b57cfaf",
   "metadata": {},
   "outputs": [],
   "source": []
  },
  {
   "cell_type": "code",
   "execution_count": null,
   "id": "b74cc18d",
   "metadata": {},
   "outputs": [],
   "source": []
  },
  {
   "cell_type": "code",
   "execution_count": null,
   "id": "0744ca3a",
   "metadata": {},
   "outputs": [],
   "source": []
  },
  {
   "cell_type": "markdown",
   "id": "64c55dda",
   "metadata": {},
   "source": [
    "## 5. Methods -- an Identifier\n",
    "\n",
    "####          .upper()\n",
    "####          .lower()\n",
    "####          .replace()\n",
    "####          .count()\n",
    "####          .endswith() --  reply in the form of boolen form\n",
    "####          .split() -- splits a string.\n",
    "####          .find() -  Index number finding technique."
   ]
  },
  {
   "cell_type": "markdown",
   "id": "9f7448aa",
   "metadata": {},
   "source": [
    "# Literals   \n",
    "\n",
    "## 1. String Litrals  \n",
    "\n",
    "### Q. What is a string?\n",
    "#### A string is a data type used in computer programming that is used to represent text rather than numbers. A string is a sequence of characters and can contain letters, number, symbols and EVEN SPACES. It must be enclosed in QUOTATION MARKS for it to be recognized as a STRING. \n",
    "\n",
    "\n",
    "## 2. Numeric Litrals\n",
    "  - A. Integer\n",
    "  - B. Float\n",
    "  - C. Complex\n",
    "\n",
    "## 3. Boolean Litrals\n",
    "\n",
    "## 4. Special Litrals (None)\n",
    "\n",
    "## 5. Litrals Collections\n",
    "  - A. List Litrals\n",
    "  - B. Tuple Litrals\n",
    "  - C. Dictionary Litrals\n",
    "  - D. Set Litrals\n",
    "  \n",
    "## -- indexing, slicing, stride."
   ]
  },
  {
   "cell_type": "code",
   "execution_count": 4,
   "id": "c8eac15b",
   "metadata": {},
   "outputs": [
    {
     "data": {
      "text/plain": [
       "2"
      ]
     },
     "execution_count": 4,
     "metadata": {},
     "output_type": "execute_result"
    }
   ],
   "source": [
    "32%6"
   ]
  },
  {
   "cell_type": "markdown",
   "id": "37a8b938",
   "metadata": {},
   "source": [
    "# Operators\n",
    "\n",
    "##          Operators\t         Operation\t                                   Example\n",
    "\n",
    "##          **\t                         Exponent/Power                          2 ** 12 = 4096\n",
    "\n",
    "##          %\t                        Modulus/Remainder\t                 32 % 6 = 2\n",
    "\n",
    "##          //\t                          Integer/Floored division\t            22 // 8 = 2\n",
    "\n",
    "##          /\t                          Division\t                                       22 / 8 = 2.75\n",
    "\n",
    "##          *\t                          Multiplication\t                           12 * 5 = 60\n",
    "\n",
    "##          -                             Subtraction\t                                15 - 12 = 3\n",
    "\n",
    "##          +\t                         Addition\t                                      22 + 22 = 44\n",
    "\n",
    "\n",
    "\n",
    "## Escape sequence  -- MAY BE STRING LITRAL? BUT LOGICALLY IT IS STRING LITRAL!\n",
    "\n",
    "                Code \t\t\tResult\n",
    "\n",
    "                 \\’             Single quote\n",
    "\n",
    "                \\\\ \t\t\t    Backslash\n",
    "\n",
    "                \\n\t\t    \tNew Line\n",
    "\n",
    "                \\b   \t\t\tBackspace\n",
    "\n",
    "                \\t\t     \t\tTab\n",
    "\n",
    "                \\r   \t\t\tCarriage Return\n",
    "\n",
    "\n",
    "###      --- \\'                     It will give us SINGLE QUOTE\n",
    "\n",
    "###      --- \\n                   New line character.\n",
    "\n",
    "###      --- \\\\                    print backslash (wherever we wanna print '\\' or it is NEEDED)\n",
    "\n",
    "###      --- \\t                    Use tab function of the keyboard (4 spaces)\n",
    "\n",
    "###      --- \\b                   Use backspace function of the keyboard. \n",
    "####                                      -- (Even number of \\b -- TWO spaces)\n",
    "####                                      -- (Odd number of \\b -- ONE spaces)\n",
    "        \n",
    "###      --- \\r                    Carriage Return.\n"
   ]
  },
  {
   "cell_type": "markdown",
   "id": "179eb629",
   "metadata": {},
   "source": [
    "# Punctuators\n",
    "\n",
    "### These are the symbols that are used in PYthon to organise the structures, statements and expressions.\n",
    "\n",
    "### \"\\\"  -- Line continuation  -- STRUCTURE THE STATEMENTS\n",
    "\n",
    "### Punctuators are symbols that are used to structure the statements. \n",
    "\n",
    "### Some commonly used punctuators are: \",\", #, \\, ( ), { }, [ ], @, :, "
   ]
  },
  {
   "cell_type": "markdown",
   "id": "8746ef65",
   "metadata": {},
   "source": [
    "# Operators\n",
    "\n",
    "## 1. ARithmetic Operators\n",
    "## 2. Comparison Operators\n",
    "## 3. Assignment Operators\n",
    "## 4. Logical Operators\n",
    "## 5. Bitwise Operators\n",
    "## 6. Membership Operators\n",
    "## 7. Identity Operators\n",
    "\n",
    "\n",
    "\n"
   ]
  },
  {
   "cell_type": "code",
   "execution_count": 1,
   "id": "bad414d9",
   "metadata": {},
   "outputs": [],
   "source": [
    "# Expression\n",
    "## An expression is a piece of code (must include operators and operands) that evaluates to give a value"
   ]
  },
  {
   "cell_type": "markdown",
   "id": "4e605d24",
   "metadata": {},
   "source": [
    "# Arithmetic Operators   +   -   *  /    //   **   %"
   ]
  },
  {
   "cell_type": "code",
   "execution_count": 1,
   "id": "2846df3d",
   "metadata": {},
   "outputs": [],
   "source": [
    "# Arithmetic Operators   +   -   *  /    //   **   %\n",
    "\n",
    "# Precedence of arithmetic operators\n",
    "\n",
    "# 1. ()\n",
    "# 2. **\n",
    "# 3. * , / , //  , %\n",
    "# 4. + , -\n",
    "\n"
   ]
  },
  {
   "cell_type": "code",
   "execution_count": 1,
   "id": "ab95c8c6",
   "metadata": {},
   "outputs": [],
   "source": [
    "# Arithmetic_Operators\n",
    "\n",
    "## addition operator (+)\n",
    "## subtraction operator (-)\n",
    "## assignment operator (=)\n",
    "## division operator (/)\n",
    "## floor division (//)\n",
    "## modulous (%)\n",
    "## power operator (**)"
   ]
  },
  {
   "cell_type": "markdown",
   "id": "2df07d39",
   "metadata": {},
   "source": [
    "# Comparison Operators   \"==\"    '!='    >    <   <=     >= "
   ]
  },
  {
   "cell_type": "code",
   "execution_count": null,
   "id": "58efcae3",
   "metadata": {},
   "outputs": [],
   "source": [
    "# Comparison Operators   \"==\"    '!='    >    <   <=     >= \n",
    "\n",
    "# \"==\"  --  is an operator in Python that compares the equality or value of two objects.\n",
    "# \"!=\"  --  Not equal to.\n",
    "# \">\"   --  Greater than.\n",
    "# \"<\"   --  Less than.\n",
    "# \">=\"  --  Greater than or equal to.\n",
    "# \"<=\"  --  Less than or equal to. "
   ]
  },
  {
   "cell_type": "markdown",
   "id": "34f4dfce",
   "metadata": {},
   "source": [
    "#  Logical Operators are ---  'and'       'or'       'not'"
   ]
  },
  {
   "cell_type": "code",
   "execution_count": 2,
   "id": "ef353f36",
   "metadata": {},
   "outputs": [],
   "source": [
    "# Logical operator      --- 'and' operator\n",
    "\n",
    "## True and True        ---  True\n",
    "\n",
    "## True and False       ---  False\n",
    "\n",
    "## False and False      ---  False\n",
    "\n",
    "## False and True       ---  False\n",
    "\n",
    "## When one condition is true it will print False AND when both are True then it will print TRUE.\n",
    "## True and True is  -- True  --- Else   -- False."
   ]
  },
  {
   "cell_type": "code",
   "execution_count": null,
   "id": "c4fd7f28",
   "metadata": {},
   "outputs": [],
   "source": [
    "# Logical operator       --- 'or' operator\n",
    "\n",
    "## True or True         ---  True\n",
    "\n",
    "## True or False        ---  True\n",
    "\n",
    "## False or True        ---  True\n",
    "\n",
    "## False or False       ---  False\n",
    "\n",
    "##  When one condition is ture it will print True AND when both are false then it will print False.\n",
    "\n",
    "## False and False is -- False  -- Else -- True. "
   ]
  },
  {
   "cell_type": "code",
   "execution_count": 3,
   "id": "7ae42cd8",
   "metadata": {},
   "outputs": [],
   "source": [
    "# Logical operator      --- 'not' operator  --- It will do Opposite of whatever condition given!\n",
    "\n",
    "###     not     True    --- False\n",
    "###     not     False   --- True"
   ]
  },
  {
   "attachments": {
    "Screenshot%20%28141%29.png": {
     "image/png": "[encoded data removed]"
    }
   },
   "cell_type": "markdown",
   "id": "385512b0",
   "metadata": {},
   "source": [
    "![Screenshot%20%28141%29.png](attachment:Screenshot%20%28141%29.png)"
   ]
  },
  {
   "cell_type": "code",
   "execution_count": 1,
   "id": "01f06fea",
   "metadata": {},
   "outputs": [
    {
     "data": {
      "text/plain": [
       "0"
      ]
     },
     "execution_count": 1,
     "metadata": {},
     "output_type": "execute_result"
    }
   ],
   "source": [
    "# Important\n",
    "\n",
    "45//984"
   ]
  },
  {
   "cell_type": "code",
   "execution_count": 2,
   "id": "27644f91",
   "metadata": {},
   "outputs": [
    {
     "data": {
      "text/plain": [
       "45"
      ]
     },
     "execution_count": 2,
     "metadata": {},
     "output_type": "execute_result"
    }
   ],
   "source": [
    "# Important\n",
    "\n",
    "45%984"
   ]
  },
  {
   "cell_type": "code",
   "execution_count": 3,
   "id": "40e48c01",
   "metadata": {},
   "outputs": [
    {
     "data": {
      "text/plain": [
       "0.04573170731707317"
      ]
     },
     "execution_count": 3,
     "metadata": {},
     "output_type": "execute_result"
    }
   ],
   "source": [
    "# Important\n",
    "\n",
    "45/984"
   ]
  },
  {
   "cell_type": "markdown",
   "id": "dedb9a76",
   "metadata": {},
   "source": [
    "# Identity Operators   --- \"is\"       and    \"is not\"\n",
    "\n",
    "### \"is\" and \"is not\" are opposite of each other.\n",
    "### Identity Operators   --- \"is\"       and    \"is not\"   ----- Check's whether two variables or objects share the same memory location or NOT.\n",
    "### Address OR Memory location"
   ]
  },
  {
   "cell_type": "code",
   "execution_count": 4,
   "id": "dfcacad2",
   "metadata": {},
   "outputs": [],
   "source": [
    "# \"is\" and \"is not\" are opposite of each other.\n",
    "## Identity Operators   - \"is\" and  \"is not\" -- Check's whether two variables or objects share the same memory location or NOT.\n",
    "## Address OR Memory location"
   ]
  },
  {
   "cell_type": "code",
   "execution_count": 5,
   "id": "8ada8731",
   "metadata": {},
   "outputs": [
    {
     "name": "stdout",
     "output_type": "stream",
     "text": [
      "False\n",
      "True\n",
      "1697931164608\n",
      "1697931163392\n"
     ]
    }
   ],
   "source": [
    "a = [12]             #  Examples of List DATA -- TYPE\n",
    "b = [12]\n",
    "print(a is b)        # Differet memory location  -- False\n",
    "print(a==b)          # Value Check  -- Same value  -- True\n",
    "\n",
    "print(id(a))\n",
    "print(id(b))"
   ]
  },
  {
   "cell_type": "markdown",
   "id": "6be87ea3",
   "metadata": {},
   "source": [
    "# Membership Operators   ---   \"in\"    and \"not in\"\n",
    "\n",
    "### Membership Operators   ---   \"in\"    and \"not in\"  -- Check's whether a value is present in a sequence of values.\n",
    "### Sequences  -- Stings, Lists, Tuples, sets, Dictionaries"
   ]
  },
  {
   "cell_type": "code",
   "execution_count": 6,
   "id": "db2436ed",
   "metadata": {},
   "outputs": [],
   "source": [
    "## Membership Operators   ---   \"in\"    and \"not in\"  -- Check's whether a value is present in a sequence of values.\n",
    "## Sequences  -- Stings, Lists, Tuples, sets, Dictionaries"
   ]
  },
  {
   "cell_type": "code",
   "execution_count": 10,
   "id": "1905f488",
   "metadata": {},
   "outputs": [
    {
     "data": {
      "text/plain": [
       "False"
      ]
     },
     "execution_count": 10,
     "metadata": {},
     "output_type": "execute_result"
    }
   ],
   "source": [
    "a = \"data science\"\n",
    "b = \"data\"\n",
    "\"string\" in a"
   ]
  },
  {
   "cell_type": "code",
   "execution_count": 11,
   "id": "c8a6cbe8",
   "metadata": {},
   "outputs": [
    {
     "data": {
      "text/plain": [
       "False"
      ]
     },
     "execution_count": 11,
     "metadata": {},
     "output_type": "execute_result"
    }
   ],
   "source": [
    "c = [1,2,3,[4],5]\n",
    "d = [4]\n",
    "d not in c"
   ]
  },
  {
   "cell_type": "code",
   "execution_count": 12,
   "id": "6de1d841",
   "metadata": {},
   "outputs": [
    {
     "data": {
      "text/plain": [
       "True"
      ]
     },
     "execution_count": 12,
     "metadata": {},
     "output_type": "execute_result"
    }
   ],
   "source": [
    "c = [1,2,3,[4],5]\n",
    "d = [4]\n",
    "d in c"
   ]
  },
  {
   "cell_type": "markdown",
   "id": "bba271b5",
   "metadata": {},
   "source": [
    "# Bitwise Operators  --   &    |     ^     ~      <<      >>\n",
    "\n",
    "\n",
    "#   |  -- Pike  --- It is not slash -- Bar symbol"
   ]
  },
  {
   "cell_type": "code",
   "execution_count": null,
   "id": "e1400f7d",
   "metadata": {},
   "outputs": [],
   "source": [
    "###  & --  Bitwise Operators  -- AND\n",
    "###  | --  Bitwise Operators  -- OR\n",
    "###  ^ --  Bitwise Operators  -- XOR\n",
    "###  ~ --  Bitwise Operators  -- NOT\n",
    "###  << -- Bitwise Operators  -- Left Shift\n",
    "###  >> -- Bitwise Operators  -- Right Shift"
   ]
  },
  {
   "cell_type": "markdown",
   "id": "93ceb779",
   "metadata": {},
   "source": [
    "# Assignment Operators"
   ]
  },
  {
   "cell_type": "code",
   "execution_count": null,
   "id": "45330a86",
   "metadata": {},
   "outputs": [],
   "source": [
    "# Assignment Operators  -->    +=   -=  *=  /=  //=  **=  %=    |=   &=  ^=  >>=   <<=   \n",
    "\n",
    "#  \"~=\" is NOT -- an Assignment Operators\n",
    "#   \"//\"  -->  This is Floor Division\n",
    "#   \"/\"   -->  This is simple Division --> will give Quotient only --> in float Data type.\n",
    "##  Divisor and Dividend."
   ]
  },
  {
   "cell_type": "code",
   "execution_count": 15,
   "id": "8d121302",
   "metadata": {},
   "outputs": [
    {
     "data": {
      "text/plain": [
       "69.0"
      ]
     },
     "execution_count": 15,
     "metadata": {},
     "output_type": "execute_result"
    }
   ],
   "source": [
    "345/5"
   ]
  },
  {
   "cell_type": "code",
   "execution_count": 16,
   "id": "e673eeb5",
   "metadata": {},
   "outputs": [
    {
     "data": {
      "text/plain": [
       "4.5"
      ]
     },
     "execution_count": 16,
     "metadata": {},
     "output_type": "execute_result"
    }
   ],
   "source": [
    "x = 9\n",
    "x /= 2     # x = x / 2\n",
    "x"
   ]
  },
  {
   "cell_type": "code",
   "execution_count": 17,
   "id": "f44c3250",
   "metadata": {},
   "outputs": [],
   "source": [
    "## Precedence of arithmetic operators\n",
    "\n",
    "### 1. ()\n",
    "### 2. **\n",
    "### 3. * , / , //  , %\n",
    "### 4. + , -"
   ]
  },
  {
   "cell_type": "markdown",
   "id": "1a32c48d",
   "metadata": {},
   "source": [
    "# Non - Primitive  --- also called DATA STRUCTURE \n",
    "## Non-primitive data type are also called Data structures.\n",
    "### In Data Structures primitive and non-primitive data types can both be stored in a sequence or structure."
   ]
  },
  {
   "cell_type": "code",
   "execution_count": 21,
   "id": "d3c63ed9",
   "metadata": {},
   "outputs": [],
   "source": [
    "# append()  --> VERB --> add (something) to the end of a written document: \n",
    "# extend()  --> enlage, lengthen, stretch"
   ]
  },
  {
   "cell_type": "code",
   "execution_count": 18,
   "id": "0e190ee1",
   "metadata": {},
   "outputs": [
    {
     "name": "stdout",
     "output_type": "stream",
     "text": [
      "[1, 2, 3, 'hello']\n"
     ]
    },
    {
     "data": {
      "text/plain": [
       "[1, 2, 3, 'h', 'e', 'l', 'l', 'o']"
      ]
     },
     "execution_count": 18,
     "metadata": {},
     "output_type": "execute_result"
    }
   ],
   "source": [
    "# List Methods  --- List items are called elements or items of a list\n",
    "\n",
    "# string -- in all are characters\n",
    "\n",
    "# list.append(item)  -- Add a single item at the end of the list\n",
    "\n",
    "z = [1,2,3]\n",
    "z.append(\"hello\")\n",
    "print(z)\n",
    "\n",
    "# .extend(iterable)  -- \n",
    "# iterable -- string, list, set, dictionary, tuple\n",
    "\n",
    "lst = [1,2,3]\n",
    "lst.extend(\"hello\")\n",
    "lst"
   ]
  },
  {
   "cell_type": "code",
   "execution_count": 19,
   "id": "0390eeb1",
   "metadata": {},
   "outputs": [
    {
     "name": "stdout",
     "output_type": "stream",
     "text": [
      "[1, 2, 3, 'hello']\n"
     ]
    },
    {
     "data": {
      "text/plain": [
       "[1, 2, 3, 'hello', str, 123]"
      ]
     },
     "execution_count": 19,
     "metadata": {},
     "output_type": "execute_result"
    }
   ],
   "source": [
    "# list.append(item)  -- Add a single item at the end of the list\n",
    "\n",
    "z = [1,2,3]\n",
    "z.append(\"hello\")\n",
    "print(z)\n",
    "\n",
    "# .extend(iterable)  -- \n",
    "# iterable -- string, list, set, dictionary, tuple\n",
    "\n",
    "lst = [1,2,3]\n",
    "lst.extend([\"hello\",str,123])\n",
    "lst"
   ]
  },
  {
   "cell_type": "code",
   "execution_count": null,
   "id": "ee943edb",
   "metadata": {},
   "outputs": [],
   "source": []
  },
  {
   "cell_type": "code",
   "execution_count": null,
   "id": "c73971e6",
   "metadata": {},
   "outputs": [],
   "source": []
  },
  {
   "cell_type": "code",
   "execution_count": null,
   "id": "0df11d13",
   "metadata": {},
   "outputs": [],
   "source": []
  },
  {
   "cell_type": "code",
   "execution_count": 1,
   "id": "fcd4cd95",
   "metadata": {},
   "outputs": [
    {
     "name": "stdout",
     "output_type": "stream",
     "text": [
      "Hello World\n"
     ]
    }
   ],
   "source": [
    "print (\"Hello World\")                      # Command is for output"
   ]
  },
  {
   "cell_type": "code",
   "execution_count": 2,
   "id": "71c63629",
   "metadata": {},
   "outputs": [
    {
     "data": {
      "text/plain": [
       "str"
      ]
     },
     "execution_count": 2,
     "metadata": {},
     "output_type": "execute_result"
    }
   ],
   "source": [
    "type(\"str\")                                # Check the data type "
   ]
  },
  {
   "cell_type": "code",
   "execution_count": 3,
   "id": "cdea0754",
   "metadata": {},
   "outputs": [],
   "source": [
    "x = 12 \n",
    "id(x)                                      # Location of the variable"
   ]
  },
  {
   "cell_type": "code",
   "execution_count": 3,
   "id": "36de1d0c",
   "metadata": {},
   "outputs": [
    {
     "data": {
      "text/plain": [
       "'Print'"
      ]
     },
     "execution_count": 3,
     "metadata": {},
     "output_type": "execute_result"
    }
   ],
   "source": [
    "\"\"\"Print\"\"\"               # Doc string    ## Tripale QUOTATION (Quotation) mark -- Used for Printing in SINGLE Quotation."
   ]
  },
  {
   "cell_type": "code",
   "execution_count": 6,
   "id": "c373faf0",
   "metadata": {},
   "outputs": [
    {
     "data": {
      "text/plain": [
       "2"
      ]
     },
     "execution_count": 6,
     "metadata": {},
     "output_type": "execute_result"
    }
   ],
   "source": [
    "10//4                     # '//'  floor division -- give us Quotient."
   ]
  },
  {
   "cell_type": "code",
   "execution_count": 7,
   "id": "b7c3c99a",
   "metadata": {},
   "outputs": [
    {
     "data": {
      "text/plain": [
       "1"
      ]
     },
     "execution_count": 7,
     "metadata": {},
     "output_type": "execute_result"
    }
   ],
   "source": [
    "5%4                       # '%' - Modulous ## gives us remainder."
   ]
  },
  {
   "cell_type": "code",
   "execution_count": 8,
   "id": "00b8272b",
   "metadata": {},
   "outputs": [
    {
     "data": {
      "text/plain": [
       "10000000000"
      ]
     },
     "execution_count": 8,
     "metadata": {},
     "output_type": "execute_result"
    }
   ],
   "source": [
    "10**10                     # '**' - Power or Exponential operator  ## Double star."
   ]
  },
  {
   "cell_type": "code",
   "execution_count": 1,
   "id": "39442d2e",
   "metadata": {},
   "outputs": [
    {
     "name": "stdout",
     "output_type": "stream",
     "text": [
      "1 2 3 4 5\n"
     ]
    }
   ],
   "source": [
    "print(1,2,3,4,5)                          ## IMPORTANT feature of the print command -- COMMAS are NOT PRINTED"
   ]
  },
  {
   "cell_type": "markdown",
   "id": "c62fc31d",
   "metadata": {},
   "source": [
    "\n",
    "        \n",
    "        \n"
   ]
  },
  {
   "cell_type": "code",
   "execution_count": 5,
   "id": "86cdc75c",
   "metadata": {},
   "outputs": [
    {
     "data": {
      "text/plain": [
       "'true'"
      ]
     },
     "execution_count": 5,
     "metadata": {},
     "output_type": "execute_result"
    }
   ],
   "source": [
    "\"true\""
   ]
  },
  {
   "cell_type": "code",
   "execution_count": 6,
   "id": "cbcc1685",
   "metadata": {},
   "outputs": [
    {
     "data": {
      "text/plain": [
       "True"
      ]
     },
     "execution_count": 6,
     "metadata": {},
     "output_type": "execute_result"
    }
   ],
   "source": [
    "True"
   ]
  },
  {
   "cell_type": "code",
   "execution_count": 7,
   "id": "015fe902",
   "metadata": {},
   "outputs": [
    {
     "data": {
      "text/plain": [
       "False"
      ]
     },
     "execution_count": 7,
     "metadata": {},
     "output_type": "execute_result"
    }
   ],
   "source": [
    "False"
   ]
  },
  {
   "cell_type": "code",
   "execution_count": 5,
   "id": "6bafe378",
   "metadata": {},
   "outputs": [
    {
     "name": "stdout",
     "output_type": "stream",
     "text": [
      "Write an odd number: 9\n",
      "<class 'str'>\n",
      "9\n",
      "<class 'int'>\n"
     ]
    }
   ],
   "source": [
    "x = input('Write an odd number: ')    # Input any Data into the input command and then check Data type, \n",
    "print(type(x))                        # now change that data into integer again.\n",
    "y = int(x)\n",
    "print(y)\n",
    "print(type(y))"
   ]
  },
  {
   "cell_type": "markdown",
   "id": "6c004e89",
   "metadata": {},
   "source": [
    "# What Is a NameError in Python? \n",
    "\n",
    "In Python, the NameError occurs when you try to use a variable, function, or module that doesn't exist or wasn't used in a valid way. Some of the common mistakes that cause this error are: Using a variable or function name that is yet to be defined.\n"
   ]
  },
  {
   "cell_type": "markdown",
   "id": "97daa7e3",
   "metadata": {},
   "source": [
    "# A “SyntaxError: invalid syntax. Perhaps you forgot a comma?” \n",
    "\n",
    "Indicates that there is a problem with the quotation mark opening and closing (“ ”) of our code.\n",
    "\n"
   ]
  },
  {
   "cell_type": "markdown",
   "id": "3ccd7d2e",
   "metadata": {},
   "source": [
    "# My Notes:\n",
    "\n",
    "--  Number of parentheses must same in a coding line (Same coding Line) or statement. \n",
    "\n",
    "--  Meaning of parentheses may be brackets().\n"
   ]
  },
  {
   "cell_type": "code",
   "execution_count": null,
   "id": "3e7524cb",
   "metadata": {},
   "outputs": [],
   "source": []
  },
  {
   "cell_type": "code",
   "execution_count": null,
   "id": "35fd46ff",
   "metadata": {},
   "outputs": [],
   "source": []
  },
  {
   "cell_type": "code",
   "execution_count": null,
   "id": "78a5c013",
   "metadata": {},
   "outputs": [],
   "source": []
  }
 ],
 "metadata": {
  "kernelspec": {
   "display_name": "Python 3 (ipykernel)",
   "language": "python",
   "name": "python3"
  },
  "language_info": {
   "codemirror_mode": {
    "name": "ipython",
    "version": 3
   },
   "file_extension": ".py",
   "mimetype": "text/x-python",
   "name": "python",
   "nbconvert_exporter": "python",
   "pygments_lexer": "ipython3",
   "version": "3.10.9"
  }
 },
 "nbformat": 4,
 "nbformat_minor": 5
}
