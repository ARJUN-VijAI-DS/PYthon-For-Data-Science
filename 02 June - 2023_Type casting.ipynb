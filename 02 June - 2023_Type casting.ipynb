{
 "cells": [
  {
   "cell_type": "code",
   "execution_count": 1,
   "id": "b329af41",
   "metadata": {},
   "outputs": [
    {
     "name": "stdout",
     "output_type": "stream",
     "text": [
      "347863874\n"
     ]
    }
   ],
   "source": [
    "print(347863874)"
   ]
  },
  {
   "cell_type": "code",
   "execution_count": 2,
   "id": "ba385779",
   "metadata": {},
   "outputs": [
    {
     "ename": "NameError",
     "evalue": "name 'bfgjhgfjgsj' is not defined",
     "output_type": "error",
     "traceback": [
      "\u001b[1;31m---------------------------------------------------------------------------\u001b[0m",
      "\u001b[1;31mNameError\u001b[0m                                 Traceback (most recent call last)",
      "Cell \u001b[1;32mIn[2], line 1\u001b[0m\n\u001b[1;32m----> 1\u001b[0m \u001b[38;5;28mprint\u001b[39m(\u001b[43mbfgjhgfjgsj\u001b[49m)\n",
      "\u001b[1;31mNameError\u001b[0m: name 'bfgjhgfjgsj' is not defined"
     ]
    }
   ],
   "source": [
    "print(bfgjhgfjgsj) # Quotation marks are missing"
   ]
  },
  {
   "cell_type": "code",
   "execution_count": 3,
   "id": "89eeb672",
   "metadata": {},
   "outputs": [
    {
     "name": "stdout",
     "output_type": "stream",
     "text": [
      "mbcjhj\n"
     ]
    }
   ],
   "source": [
    "print(\"mbcjhj\")"
   ]
  },
  {
   "cell_type": "code",
   "execution_count": 4,
   "id": "d15b25ab",
   "metadata": {},
   "outputs": [
    {
     "name": "stdout",
     "output_type": "stream",
     "text": [
      "56384skjfhjfh\n"
     ]
    }
   ],
   "source": [
    "print('56384skjfhjfh')"
   ]
  },
  {
   "cell_type": "code",
   "execution_count": 5,
   "id": "e4346944",
   "metadata": {},
   "outputs": [
    {
     "name": "stdout",
     "output_type": "stream",
     "text": [
      "89475mdjoi-bfhhtj et\n"
     ]
    }
   ],
   "source": [
    "print('89475mdjoi-bfhhtj et')"
   ]
  },
  {
   "cell_type": "markdown",
   "id": "282fff4a",
   "metadata": {},
   "source": [
    "# Hash tag is used -- it becomes heading\n",
    "-- I am Data Scientist\n",
    "\n",
    "\n",
    "##  Unlimited #### hastag can be uesd to write comment"
   ]
  },
  {
   "cell_type": "code",
   "execution_count": 7,
   "id": "6d6e5416",
   "metadata": {},
   "outputs": [
    {
     "name": "stdout",
     "output_type": "stream",
     "text": [
      "Yes\n"
     ]
    },
    {
     "data": {
      "text/plain": [
       "' Yes u will be'"
      ]
     },
     "execution_count": 7,
     "metadata": {},
     "output_type": "execute_result"
    }
   ],
   "source": [
    "# I am Data Scientist\n",
    "print('Yes')\n",
    "''' Yes u will be'''"
   ]
  },
  {
   "cell_type": "code",
   "execution_count": 8,
   "id": "520ca794",
   "metadata": {},
   "outputs": [
    {
     "name": "stdout",
     "output_type": "stream",
     "text": [
      "270\n"
     ]
    }
   ],
   "source": [
    "x = 90 + 90 + \\\n",
    "45 + 45\n",
    "print(x)"
   ]
  },
  {
   "cell_type": "code",
   "execution_count": 9,
   "id": "ba965965",
   "metadata": {},
   "outputs": [
    {
     "name": "stdout",
     "output_type": "stream",
     "text": [
      "I am feeling sleepy \n",
      " help me\n"
     ]
    }
   ],
   "source": [
    "print('I am feeling sleepy \\n help me' )"
   ]
  },
  {
   "cell_type": "code",
   "execution_count": 10,
   "id": "03e07e1f",
   "metadata": {},
   "outputs": [
    {
     "name": "stdout",
     "output_type": "stream",
     "text": [
      "ARJUN\n"
     ]
    }
   ],
   "source": [
    "print('A' + \"R\" + \"J\" + 'U' + 'N')"
   ]
  },
  {
   "cell_type": "code",
   "execution_count": 11,
   "id": "d3d566f5",
   "metadata": {},
   "outputs": [
    {
     "ename": "NameError",
     "evalue": "name 'adgh' is not defined",
     "output_type": "error",
     "traceback": [
      "\u001b[1;31m---------------------------------------------------------------------------\u001b[0m",
      "\u001b[1;31mNameError\u001b[0m                                 Traceback (most recent call last)",
      "Cell \u001b[1;32mIn[11], line 1\u001b[0m\n\u001b[1;32m----> 1\u001b[0m \u001b[38;5;28mtype\u001b[39m(\u001b[43madgh\u001b[49m)\n",
      "\u001b[1;31mNameError\u001b[0m: name 'adgh' is not defined"
     ]
    }
   ],
   "source": [
    "type(adgh)"
   ]
  },
  {
   "cell_type": "code",
   "execution_count": 12,
   "id": "0acc037e",
   "metadata": {},
   "outputs": [
    {
     "data": {
      "text/plain": [
       "str"
      ]
     },
     "execution_count": 12,
     "metadata": {},
     "output_type": "execute_result"
    }
   ],
   "source": [
    "type('kfh')"
   ]
  },
  {
   "cell_type": "code",
   "execution_count": 13,
   "id": "8c34024f",
   "metadata": {},
   "outputs": [
    {
     "data": {
      "text/plain": [
       "int"
      ]
     },
     "execution_count": 13,
     "metadata": {},
     "output_type": "execute_result"
    }
   ],
   "source": [
    "type(5364576)"
   ]
  },
  {
   "cell_type": "code",
   "execution_count": 14,
   "id": "72bd74e6",
   "metadata": {},
   "outputs": [
    {
     "data": {
      "text/plain": [
       "bool"
      ]
     },
     "execution_count": 14,
     "metadata": {},
     "output_type": "execute_result"
    }
   ],
   "source": [
    "type(True)"
   ]
  },
  {
   "cell_type": "markdown",
   "id": "1ec9d77d",
   "metadata": {},
   "source": [
    "# Type Casting"
   ]
  },
  {
   "cell_type": "code",
   "execution_count": 15,
   "id": "84ea796a",
   "metadata": {},
   "outputs": [
    {
     "data": {
      "text/plain": [
       "'22'"
      ]
     },
     "execution_count": 15,
     "metadata": {},
     "output_type": "execute_result"
    }
   ],
   "source": [
    "str(22)"
   ]
  },
  {
   "cell_type": "code",
   "execution_count": 16,
   "id": "1ad9f5b8",
   "metadata": {},
   "outputs": [
    {
     "data": {
      "text/plain": [
       "str"
      ]
     },
     "execution_count": 16,
     "metadata": {},
     "output_type": "execute_result"
    }
   ],
   "source": [
    "type(str(23245))"
   ]
  },
  {
   "cell_type": "code",
   "execution_count": 17,
   "id": "0f2751bb",
   "metadata": {},
   "outputs": [
    {
     "data": {
      "text/plain": [
       "'False'"
      ]
     },
     "execution_count": 17,
     "metadata": {},
     "output_type": "execute_result"
    }
   ],
   "source": [
    "str(False)"
   ]
  },
  {
   "cell_type": "code",
   "execution_count": 18,
   "id": "4bd2cd3b",
   "metadata": {},
   "outputs": [
    {
     "data": {
      "text/plain": [
       "'2343'"
      ]
     },
     "execution_count": 18,
     "metadata": {},
     "output_type": "execute_result"
    }
   ],
   "source": [
    "str(int(2343))"
   ]
  },
  {
   "cell_type": "code",
   "execution_count": 19,
   "id": "54408ea9",
   "metadata": {},
   "outputs": [
    {
     "ename": "NameError",
     "evalue": "name 'true' is not defined",
     "output_type": "error",
     "traceback": [
      "\u001b[1;31m---------------------------------------------------------------------------\u001b[0m",
      "\u001b[1;31mNameError\u001b[0m                                 Traceback (most recent call last)",
      "Cell \u001b[1;32mIn[19], line 1\u001b[0m\n\u001b[1;32m----> 1\u001b[0m \u001b[38;5;28mstr\u001b[39m(\u001b[38;5;28mbool\u001b[39m(\u001b[43mtrue\u001b[49m))\n",
      "\u001b[1;31mNameError\u001b[0m: name 'true' is not defined"
     ]
    }
   ],
   "source": [
    "str(bool(true))"
   ]
  },
  {
   "cell_type": "code",
   "execution_count": 20,
   "id": "a97e3cea",
   "metadata": {
    "scrolled": true
   },
   "outputs": [
    {
     "data": {
      "text/plain": [
       "'True'"
      ]
     },
     "execution_count": 20,
     "metadata": {},
     "output_type": "execute_result"
    }
   ],
   "source": [
    "str(bool(True))"
   ]
  },
  {
   "cell_type": "code",
   "execution_count": 1,
   "id": "7562f903",
   "metadata": {},
   "outputs": [
    {
     "ename": "SyntaxError",
     "evalue": "invalid syntax. Perhaps you forgot a comma? (757016205.py, line 1)",
     "output_type": "error",
     "traceback": [
      "\u001b[1;36m  Cell \u001b[1;32mIn[1], line 1\u001b[1;36m\u001b[0m\n\u001b[1;33m    print(type(set(x{})))\u001b[0m\n\u001b[1;37m                   ^\u001b[0m\n\u001b[1;31mSyntaxError\u001b[0m\u001b[1;31m:\u001b[0m invalid syntax. Perhaps you forgot a comma?\n"
     ]
    }
   ],
   "source": [
    "print(type(set(x{})))"
   ]
  },
  {
   "cell_type": "code",
   "execution_count": 6,
   "id": "5f06e25a",
   "metadata": {},
   "outputs": [
    {
     "name": "stdout",
     "output_type": "stream",
     "text": [
      "<class 'dict'>\n",
      "<class 'dict'>\n"
     ]
    }
   ],
   "source": [
    "x = {}\n",
    "print(type(x))\n",
    "set(dict(x))\n",
    "print(type(x))       # NULL set is NOT created"
   ]
  },
  {
   "cell_type": "code",
   "execution_count": 7,
   "id": "22391f20",
   "metadata": {},
   "outputs": [
    {
     "name": "stdout",
     "output_type": "stream",
     "text": [
      "<class 'dict'>\n",
      "<class 'set'>\n"
     ]
    }
   ],
   "source": [
    "x = {}\n",
    "print(type(x))\n",
    "x = set(x)\n",
    "print(type(x))       # NULL set is created"
   ]
  },
  {
   "cell_type": "code",
   "execution_count": null,
   "id": "b5ab9ffb",
   "metadata": {},
   "outputs": [],
   "source": []
  },
  {
   "cell_type": "code",
   "execution_count": null,
   "id": "75b28eff",
   "metadata": {},
   "outputs": [],
   "source": []
  },
  {
   "cell_type": "code",
   "execution_count": 21,
   "id": "dce35b0f",
   "metadata": {},
   "outputs": [
    {
     "ename": "ValueError",
     "evalue": "invalid literal for int() with base 10: 'Data Scientist'",
     "output_type": "error",
     "traceback": [
      "\u001b[1;31m---------------------------------------------------------------------------\u001b[0m",
      "\u001b[1;31mValueError\u001b[0m                                Traceback (most recent call last)",
      "Cell \u001b[1;32mIn[21], line 1\u001b[0m\n\u001b[1;32m----> 1\u001b[0m \u001b[38;5;28;43mint\u001b[39;49m\u001b[43m(\u001b[49m\u001b[38;5;124;43m'\u001b[39;49m\u001b[38;5;124;43mData Scientist\u001b[39;49m\u001b[38;5;124;43m'\u001b[39;49m\u001b[43m)\u001b[49m\n",
      "\u001b[1;31mValueError\u001b[0m: invalid literal for int() with base 10: 'Data Scientist'"
     ]
    }
   ],
   "source": [
    "int('Data Scientist')                      # Error because numerical Value must be there - "
   ]
  },
  {
   "cell_type": "code",
   "execution_count": 22,
   "id": "7bd67329",
   "metadata": {},
   "outputs": [
    {
     "ename": "ValueError",
     "evalue": "invalid literal for int() with base 10: '555DATA'",
     "output_type": "error",
     "traceback": [
      "\u001b[1;31m---------------------------------------------------------------------------\u001b[0m",
      "\u001b[1;31mValueError\u001b[0m                                Traceback (most recent call last)",
      "Cell \u001b[1;32mIn[22], line 1\u001b[0m\n\u001b[1;32m----> 1\u001b[0m \u001b[38;5;28;43mint\u001b[39;49m\u001b[43m(\u001b[49m\u001b[38;5;124;43m'\u001b[39;49m\u001b[38;5;124;43m555DATA\u001b[39;49m\u001b[38;5;124;43m'\u001b[39;49m\u001b[43m)\u001b[49m\n",
      "\u001b[1;31mValueError\u001b[0m: invalid literal for int() with base 10: '555DATA'"
     ]
    }
   ],
   "source": [
    "int('555DATA')"
   ]
  },
  {
   "cell_type": "code",
   "execution_count": 23,
   "id": "67079d91",
   "metadata": {},
   "outputs": [
    {
     "data": {
      "text/plain": [
       "2222"
      ]
     },
     "execution_count": 23,
     "metadata": {},
     "output_type": "execute_result"
    }
   ],
   "source": [
    "int('2222')"
   ]
  },
  {
   "cell_type": "code",
   "execution_count": 24,
   "id": "4a334862",
   "metadata": {},
   "outputs": [
    {
     "ename": "TypeError",
     "evalue": "int() argument must be a string, a bytes-like object or a real number, not 'complex'",
     "output_type": "error",
     "traceback": [
      "\u001b[1;31m---------------------------------------------------------------------------\u001b[0m",
      "\u001b[1;31mTypeError\u001b[0m                                 Traceback (most recent call last)",
      "Cell \u001b[1;32mIn[24], line 1\u001b[0m\n\u001b[1;32m----> 1\u001b[0m \u001b[38;5;28;43mint\u001b[39;49m\u001b[43m(\u001b[49m\u001b[38;5;241;43m55\u001b[39;49m\u001b[43mj\u001b[49m\u001b[43m)\u001b[49m\n",
      "\u001b[1;31mTypeError\u001b[0m: int() argument must be a string, a bytes-like object or a real number, not 'complex'"
     ]
    }
   ],
   "source": [
    "int(55j)"
   ]
  },
  {
   "cell_type": "code",
   "execution_count": 25,
   "id": "9e9e52e5",
   "metadata": {},
   "outputs": [
    {
     "ename": "ValueError",
     "evalue": "invalid literal for int() with base 10: '55j'",
     "output_type": "error",
     "traceback": [
      "\u001b[1;31m---------------------------------------------------------------------------\u001b[0m",
      "\u001b[1;31mValueError\u001b[0m                                Traceback (most recent call last)",
      "Cell \u001b[1;32mIn[25], line 1\u001b[0m\n\u001b[1;32m----> 1\u001b[0m \u001b[38;5;28;43mint\u001b[39;49m\u001b[43m(\u001b[49m\u001b[38;5;124;43m'\u001b[39;49m\u001b[38;5;124;43m55j\u001b[39;49m\u001b[38;5;124;43m'\u001b[39;49m\u001b[43m)\u001b[49m\n",
      "\u001b[1;31mValueError\u001b[0m: invalid literal for int() with base 10: '55j'"
     ]
    }
   ],
   "source": [
    "int('55j')"
   ]
  },
  {
   "cell_type": "code",
   "execution_count": 26,
   "id": "eb02c5c9",
   "metadata": {},
   "outputs": [
    {
     "ename": "ValueError",
     "evalue": "invalid literal for int() with base 10: '5jar'",
     "output_type": "error",
     "traceback": [
      "\u001b[1;31m---------------------------------------------------------------------------\u001b[0m",
      "\u001b[1;31mValueError\u001b[0m                                Traceback (most recent call last)",
      "Cell \u001b[1;32mIn[26], line 1\u001b[0m\n\u001b[1;32m----> 1\u001b[0m \u001b[38;5;28;43mint\u001b[39;49m\u001b[43m(\u001b[49m\u001b[38;5;124;43m'\u001b[39;49m\u001b[38;5;124;43m5jar\u001b[39;49m\u001b[38;5;124;43m'\u001b[39;49m\u001b[43m)\u001b[49m\n",
      "\u001b[1;31mValueError\u001b[0m: invalid literal for int() with base 10: '5jar'"
     ]
    }
   ],
   "source": [
    "int('5jar')"
   ]
  },
  {
   "cell_type": "code",
   "execution_count": 27,
   "id": "013f48ea",
   "metadata": {},
   "outputs": [
    {
     "ename": "ValueError",
     "evalue": "invalid literal for int() with base 10: '$$$$$'",
     "output_type": "error",
     "traceback": [
      "\u001b[1;31m---------------------------------------------------------------------------\u001b[0m",
      "\u001b[1;31mValueError\u001b[0m                                Traceback (most recent call last)",
      "Cell \u001b[1;32mIn[27], line 1\u001b[0m\n\u001b[1;32m----> 1\u001b[0m \u001b[38;5;28;43mint\u001b[39;49m\u001b[43m(\u001b[49m\u001b[38;5;124;43m'\u001b[39;49m\u001b[38;5;124;43m$$$$$\u001b[39;49m\u001b[38;5;124;43m'\u001b[39;49m\u001b[43m)\u001b[49m\n",
      "\u001b[1;31mValueError\u001b[0m: invalid literal for int() with base 10: '$$$$$'"
     ]
    }
   ],
   "source": [
    "int('$$$$$')"
   ]
  },
  {
   "cell_type": "code",
   "execution_count": 28,
   "id": "665b3033",
   "metadata": {},
   "outputs": [
    {
     "name": "stdout",
     "output_type": "stream",
     "text": [
      "A + R + J + U + N\n"
     ]
    }
   ],
   "source": [
    "print('A + R + J + U + N')"
   ]
  },
  {
   "cell_type": "code",
   "execution_count": 29,
   "id": "b3edba46",
   "metadata": {},
   "outputs": [
    {
     "name": "stdout",
     "output_type": "stream",
     "text": [
      "A+R+J+U+N\n"
     ]
    }
   ],
   "source": [
    "print('A+R+J+U+N')"
   ]
  },
  {
   "cell_type": "code",
   "execution_count": 30,
   "id": "396b9f5b",
   "metadata": {},
   "outputs": [
    {
     "name": "stdout",
     "output_type": "stream",
     "text": [
      "ARJ\" +  + \"N\n"
     ]
    }
   ],
   "source": [
    "print('A'+ \"R\" + 'J\" + 'U' + \"N')"
   ]
  },
  {
   "cell_type": "code",
   "execution_count": 31,
   "id": "3f1cdaf8",
   "metadata": {},
   "outputs": [
    {
     "ename": "SyntaxError",
     "evalue": "invalid syntax. Perhaps you forgot a comma? (145305780.py, line 1)",
     "output_type": "error",
     "traceback": [
      "\u001b[1;36m  Cell \u001b[1;32mIn[31], line 1\u001b[1;36m\u001b[0m\n\u001b[1;33m    print('D' + \"A\" + 'T\" + 'O' + \"A')\u001b[0m\n\u001b[1;37m          ^\u001b[0m\n\u001b[1;31mSyntaxError\u001b[0m\u001b[1;31m:\u001b[0m invalid syntax. Perhaps you forgot a comma?\n"
     ]
    }
   ],
   "source": [
    "print('D' + \"A\" + 'T\" + 'O' + \"A')"
   ]
  },
  {
   "cell_type": "code",
   "execution_count": 7,
   "id": "c7c401a0",
   "metadata": {},
   "outputs": [
    {
     "ename": "SyntaxError",
     "evalue": "unterminated string literal (detected at line 1) (3088881271.py, line 1)",
     "output_type": "error",
     "traceback": [
      "\u001b[1;36m  Cell \u001b[1;32mIn[7], line 1\u001b[1;36m\u001b[0m\n\u001b[1;33m    print('D' + \"A\" + 'T\" + 'O' + 'A')\u001b[0m\n\u001b[1;37m                                    ^\u001b[0m\n\u001b[1;31mSyntaxError\u001b[0m\u001b[1;31m:\u001b[0m unterminated string literal (detected at line 1)\n"
     ]
    }
   ],
   "source": [
    "print('D' + \"A\" + 'T\" + 'O' + 'A')"
   ]
  },
  {
   "cell_type": "code",
   "execution_count": 4,
   "id": "faf2b37f",
   "metadata": {},
   "outputs": [
    {
     "name": "stdout",
     "output_type": "stream",
     "text": [
      "ARJ\" +  + \"N\n"
     ]
    }
   ],
   "source": [
    "print('A'+ \"R\" + 'J\" + 'U' + \"N')"
   ]
  },
  {
   "cell_type": "code",
   "execution_count": 5,
   "id": "4751645d",
   "metadata": {},
   "outputs": [
    {
     "name": "stdout",
     "output_type": "stream",
     "text": [
      "ARJ\" +  + \"N\n"
     ]
    }
   ],
   "source": [
    "print('A'+ \"R\" + 'J\" + 'U' + \"N')"
   ]
  },
  {
   "cell_type": "code",
   "execution_count": 6,
   "id": "37c4c6db",
   "metadata": {},
   "outputs": [
    {
     "ename": "SyntaxError",
     "evalue": "invalid syntax. Perhaps you forgot a comma? (1707517237.py, line 1)",
     "output_type": "error",
     "traceback": [
      "\u001b[1;36m  Cell \u001b[1;32mIn[6], line 1\u001b[1;36m\u001b[0m\n\u001b[1;33m    print('A'+ \"R\" + 'J\" + 'l' + \"N')\u001b[0m\n\u001b[1;37m          ^\u001b[0m\n\u001b[1;31mSyntaxError\u001b[0m\u001b[1;31m:\u001b[0m invalid syntax. Perhaps you forgot a comma?\n"
     ]
    }
   ],
   "source": [
    "print('A'+ \"R\" + 'J\" + 'l' + \"N')"
   ]
  },
  {
   "cell_type": "code",
   "execution_count": 37,
   "id": "9f48fbec",
   "metadata": {},
   "outputs": [
    {
     "name": "stdout",
     "output_type": "stream",
     "text": [
      "U\n"
     ]
    }
   ],
   "source": [
    "print('U')"
   ]
  },
  {
   "cell_type": "code",
   "execution_count": 38,
   "id": "94c1fa26",
   "metadata": {},
   "outputs": [
    {
     "data": {
      "text/plain": [
       "True"
      ]
     },
     "execution_count": 38,
     "metadata": {},
     "output_type": "execute_result"
    }
   ],
   "source": [
    "bool(21.5)  # all interger value is \"True\""
   ]
  },
  {
   "cell_type": "code",
   "execution_count": 39,
   "id": "c732f5a5",
   "metadata": {},
   "outputs": [
    {
     "data": {
      "text/plain": [
       "True"
      ]
     },
     "execution_count": 39,
     "metadata": {},
     "output_type": "execute_result"
    }
   ],
   "source": [
    "bool(-23.5)"
   ]
  },
  {
   "cell_type": "code",
   "execution_count": 40,
   "id": "4fcc1729",
   "metadata": {},
   "outputs": [
    {
     "data": {
      "text/plain": [
       "True"
      ]
     },
     "execution_count": 40,
     "metadata": {},
     "output_type": "execute_result"
    }
   ],
   "source": [
    "bool(\"Data scientist\")"
   ]
  },
  {
   "cell_type": "code",
   "execution_count": 41,
   "id": "5d762dce",
   "metadata": {},
   "outputs": [
    {
     "data": {
      "text/plain": [
       "True"
      ]
     },
     "execution_count": 41,
     "metadata": {},
     "output_type": "execute_result"
    }
   ],
   "source": [
    "bool(10j)"
   ]
  },
  {
   "cell_type": "code",
   "execution_count": 42,
   "id": "3dbe1f68",
   "metadata": {
    "scrolled": true
   },
   "outputs": [
    {
     "ename": "NameError",
     "evalue": "name 'DATA' is not defined",
     "output_type": "error",
     "traceback": [
      "\u001b[1;31m---------------------------------------------------------------------------\u001b[0m",
      "\u001b[1;31mNameError\u001b[0m                                 Traceback (most recent call last)",
      "Cell \u001b[1;32mIn[42], line 1\u001b[0m\n\u001b[1;32m----> 1\u001b[0m \u001b[38;5;28mbool\u001b[39m(\u001b[43mDATA\u001b[49m)\n",
      "\u001b[1;31mNameError\u001b[0m: name 'DATA' is not defined"
     ]
    }
   ],
   "source": [
    "bool(DATA)"
   ]
  },
  {
   "cell_type": "code",
   "execution_count": 8,
   "id": "f5f2c228",
   "metadata": {},
   "outputs": [
    {
     "data": {
      "text/plain": [
       "True"
      ]
     },
     "execution_count": 8,
     "metadata": {},
     "output_type": "execute_result"
    }
   ],
   "source": [
    "bool('DATA')"
   ]
  },
  {
   "cell_type": "code",
   "execution_count": 1,
   "id": "07c138bf",
   "metadata": {},
   "outputs": [
    {
     "data": {
      "text/plain": [
       "True"
      ]
     },
     "execution_count": 1,
     "metadata": {},
     "output_type": "execute_result"
    }
   ],
   "source": [
    "bool('0')             # Here 0 is not zero but a string"
   ]
  },
  {
   "cell_type": "code",
   "execution_count": 43,
   "id": "77854442",
   "metadata": {},
   "outputs": [
    {
     "data": {
      "text/plain": [
       "False"
      ]
     },
     "execution_count": 43,
     "metadata": {},
     "output_type": "execute_result"
    }
   ],
   "source": [
    "bool(0)"
   ]
  },
  {
   "cell_type": "code",
   "execution_count": 44,
   "id": "5f284074",
   "metadata": {},
   "outputs": [
    {
     "ename": "SyntaxError",
     "evalue": "unexpected character after line continuation character (2832393120.py, line 1)",
     "output_type": "error",
     "traceback": [
      "\u001b[1;36m  Cell \u001b[1;32mIn[44], line 1\u001b[1;36m\u001b[0m\n\u001b[1;33m    bool(\\)\u001b[0m\n\u001b[1;37m          ^\u001b[0m\n\u001b[1;31mSyntaxError\u001b[0m\u001b[1;31m:\u001b[0m unexpected character after line continuation character\n"
     ]
    }
   ],
   "source": [
    "bool(\\)"
   ]
  },
  {
   "cell_type": "code",
   "execution_count": 45,
   "id": "0979e758",
   "metadata": {},
   "outputs": [
    {
     "ename": "SyntaxError",
     "evalue": "leading zeros in decimal integer literals are not permitted; use an 0o prefix for octal integers (2381618856.py, line 1)",
     "output_type": "error",
     "traceback": [
      "\u001b[1;36m  Cell \u001b[1;32mIn[45], line 1\u001b[1;36m\u001b[0m\n\u001b[1;33m    bool(08)\u001b[0m\n\u001b[1;37m         ^\u001b[0m\n\u001b[1;31mSyntaxError\u001b[0m\u001b[1;31m:\u001b[0m leading zeros in decimal integer literals are not permitted; use an 0o prefix for octal integers\n"
     ]
    }
   ],
   "source": [
    "bool(08)"
   ]
  },
  {
   "cell_type": "code",
   "execution_count": 46,
   "id": "23329aeb",
   "metadata": {},
   "outputs": [
    {
     "ename": "NameError",
     "evalue": "name 'complej' is not defined",
     "output_type": "error",
     "traceback": [
      "\u001b[1;31m---------------------------------------------------------------------------\u001b[0m",
      "\u001b[1;31mNameError\u001b[0m                                 Traceback (most recent call last)",
      "Cell \u001b[1;32mIn[46], line 1\u001b[0m\n\u001b[1;32m----> 1\u001b[0m \u001b[43mcomplej\u001b[49m(\u001b[38;5;28;01mTrue\u001b[39;00m)\n",
      "\u001b[1;31mNameError\u001b[0m: name 'complej' is not defined"
     ]
    }
   ],
   "source": [
    "complej(True)"
   ]
  },
  {
   "cell_type": "code",
   "execution_count": 47,
   "id": "cb6c71b9",
   "metadata": {},
   "outputs": [
    {
     "data": {
      "text/plain": [
       "(1+0j)"
      ]
     },
     "execution_count": 47,
     "metadata": {},
     "output_type": "execute_result"
    }
   ],
   "source": [
    "complex(True)"
   ]
  },
  {
   "cell_type": "code",
   "execution_count": 48,
   "id": "6180cb34",
   "metadata": {},
   "outputs": [
    {
     "data": {
      "text/plain": [
       "0j"
      ]
     },
     "execution_count": 48,
     "metadata": {},
     "output_type": "execute_result"
    }
   ],
   "source": [
    "complex(False)"
   ]
  },
  {
   "cell_type": "code",
   "execution_count": 49,
   "id": "628c92e9",
   "metadata": {},
   "outputs": [
    {
     "data": {
      "text/plain": [
       "(4.5+0j)"
      ]
     },
     "execution_count": 49,
     "metadata": {},
     "output_type": "execute_result"
    }
   ],
   "source": [
    "complex(4.5)"
   ]
  },
  {
   "cell_type": "code",
   "execution_count": 50,
   "id": "f0bbf96d",
   "metadata": {},
   "outputs": [
    {
     "ename": "TypeError",
     "evalue": "float() argument must be a string or a real number, not 'complex'",
     "output_type": "error",
     "traceback": [
      "\u001b[1;31m---------------------------------------------------------------------------\u001b[0m",
      "\u001b[1;31mTypeError\u001b[0m                                 Traceback (most recent call last)",
      "Cell \u001b[1;32mIn[50], line 1\u001b[0m\n\u001b[1;32m----> 1\u001b[0m \u001b[38;5;28;43mfloat\u001b[39;49m\u001b[43m(\u001b[49m\u001b[38;5;241;43m55\u001b[39;49m\u001b[43mj\u001b[49m\u001b[43m)\u001b[49m\n",
      "\u001b[1;31mTypeError\u001b[0m: float() argument must be a string or a real number, not 'complex'"
     ]
    }
   ],
   "source": [
    "float(55j)"
   ]
  },
  {
   "cell_type": "code",
   "execution_count": 52,
   "id": "16f9744b",
   "metadata": {},
   "outputs": [
    {
     "data": {
      "text/plain": [
       "2782799659376"
      ]
     },
     "execution_count": 52,
     "metadata": {},
     "output_type": "execute_result"
    }
   ],
   "source": [
    "a = 5\n",
    "id(a)"
   ]
  },
  {
   "cell_type": "code",
   "execution_count": 53,
   "id": "c38dcaad",
   "metadata": {},
   "outputs": [
    {
     "data": {
      "text/plain": [
       "2782799660976"
      ]
     },
     "execution_count": 53,
     "metadata": {},
     "output_type": "execute_result"
    }
   ],
   "source": [
    "a = 55\n",
    "\n",
    "id(a)"
   ]
  },
  {
   "cell_type": "code",
   "execution_count": 54,
   "id": "8c431ce0",
   "metadata": {},
   "outputs": [
    {
     "ename": "NameError",
     "evalue": "name 'Id' is not defined",
     "output_type": "error",
     "traceback": [
      "\u001b[1;31m---------------------------------------------------------------------------\u001b[0m",
      "\u001b[1;31mNameError\u001b[0m                                 Traceback (most recent call last)",
      "Cell \u001b[1;32mIn[54], line 2\u001b[0m\n\u001b[0;32m      1\u001b[0m a \u001b[38;5;241m=\u001b[39m \u001b[38;5;241m55\u001b[39m\n\u001b[1;32m----> 2\u001b[0m \u001b[43mId\u001b[49m(a)\n",
      "\u001b[1;31mNameError\u001b[0m: name 'Id' is not defined"
     ]
    }
   ],
   "source": [
    "a = 55\n",
    "Id(a)"
   ]
  },
  {
   "cell_type": "code",
   "execution_count": 55,
   "id": "864ef592",
   "metadata": {},
   "outputs": [
    {
     "data": {
      "text/plain": [
       "2782799660976"
      ]
     },
     "execution_count": 55,
     "metadata": {},
     "output_type": "execute_result"
    }
   ],
   "source": [
    "x = 55   # Address of  'a' and 'x' is same. \n",
    "id(x)"
   ]
  },
  {
   "cell_type": "code",
   "execution_count": 56,
   "id": "460d8957",
   "metadata": {},
   "outputs": [
    {
     "data": {
      "text/plain": [
       "2782799660976"
      ]
     },
     "execution_count": 56,
     "metadata": {},
     "output_type": "execute_result"
    }
   ],
   "source": [
    "a = 55\n",
    "b = 50\n",
    "c = a\n",
    "id(a)\n",
    "id(b)\n",
    "id(c)\n"
   ]
  },
  {
   "cell_type": "code",
   "execution_count": 57,
   "id": "5c8d1968",
   "metadata": {},
   "outputs": [
    {
     "data": {
      "text/plain": [
       "2782799660816"
      ]
     },
     "execution_count": 57,
     "metadata": {},
     "output_type": "execute_result"
    }
   ],
   "source": [
    "id(b)"
   ]
  },
  {
   "cell_type": "code",
   "execution_count": 58,
   "id": "dad07d8e",
   "metadata": {},
   "outputs": [
    {
     "data": {
      "text/plain": [
       "2782799660976"
      ]
     },
     "execution_count": 58,
     "metadata": {},
     "output_type": "execute_result"
    }
   ],
   "source": [
    "id(c)"
   ]
  },
  {
   "cell_type": "code",
   "execution_count": 59,
   "id": "2acb15c4",
   "metadata": {},
   "outputs": [],
   "source": [
    "_55 = 100"
   ]
  },
  {
   "cell_type": "code",
   "execution_count": 62,
   "id": "136326b6",
   "metadata": {},
   "outputs": [
    {
     "ename": "SyntaxError",
     "evalue": "unterminated string literal (detected at line 1) (1081857666.py, line 1)",
     "output_type": "error",
     "traceback": [
      "\u001b[1;36m  Cell \u001b[1;32mIn[62], line 1\u001b[1;36m\u001b[0m\n\u001b[1;33m    print('I am \\'Data Scientist\\')\u001b[0m\n\u001b[1;37m          ^\u001b[0m\n\u001b[1;31mSyntaxError\u001b[0m\u001b[1;31m:\u001b[0m unterminated string literal (detected at line 1)\n"
     ]
    }
   ],
   "source": [
    "print('I am \\'Data Scientist\\')"
   ]
  },
  {
   "cell_type": "code",
   "execution_count": 63,
   "id": "a2cdc37b",
   "metadata": {},
   "outputs": [
    {
     "name": "stdout",
     "output_type": "stream",
     "text": [
      "I am 'Data Scientist'\n"
     ]
    }
   ],
   "source": [
    "print('I am \\'Data Scientist\\'')"
   ]
  },
  {
   "cell_type": "code",
   "execution_count": 64,
   "id": "a5283d41",
   "metadata": {},
   "outputs": [
    {
     "name": "stdout",
     "output_type": "stream",
     "text": [
      "I am DATA \tScientist\n"
     ]
    }
   ],
   "source": [
    "print('I am DATA \\tScientist')"
   ]
  },
  {
   "cell_type": "code",
   "execution_count": 65,
   "id": "35bc2268",
   "metadata": {},
   "outputs": [
    {
     "ename": "SyntaxError",
     "evalue": "unexpected character after line continuation character (324013258.py, line 1)",
     "output_type": "error",
     "traceback": [
      "\u001b[1;36m  Cell \u001b[1;32mIn[65], line 1\u001b[1;36m\u001b[0m\n\u001b[1;33m    print(Arjun\\tThanos)\u001b[0m\n\u001b[1;37m                ^\u001b[0m\n\u001b[1;31mSyntaxError\u001b[0m\u001b[1;31m:\u001b[0m unexpected character after line continuation character\n"
     ]
    }
   ],
   "source": [
    "print(Arjun\\tThanos)"
   ]
  },
  {
   "cell_type": "code",
   "execution_count": 66,
   "id": "ca71e139",
   "metadata": {},
   "outputs": [
    {
     "name": "stdout",
     "output_type": "stream",
     "text": [
      "Arjun\r",
      "Thanos\n"
     ]
    }
   ],
   "source": [
    "print(\"Arjun\\rThanos\")"
   ]
  },
  {
   "cell_type": "code",
   "execution_count": 67,
   "id": "2bc14feb",
   "metadata": {},
   "outputs": [
    {
     "name": "stdout",
     "output_type": "stream",
     "text": [
      "Arjun\r",
      "Iron MAN\n"
     ]
    }
   ],
   "source": [
    "print('Arjun\\rIron MAN')"
   ]
  },
  {
   "cell_type": "code",
   "execution_count": null,
   "id": "2f0f367c",
   "metadata": {},
   "outputs": [],
   "source": []
  }
 ],
 "metadata": {
  "kernelspec": {
   "display_name": "Python 3 (ipykernel)",
   "language": "python",
   "name": "python3"
  },
  "language_info": {
   "codemirror_mode": {
    "name": "ipython",
    "version": 3
   },
   "file_extension": ".py",
   "mimetype": "text/x-python",
   "name": "python",
   "nbconvert_exporter": "python",
   "pygments_lexer": "ipython3",
   "version": "3.10.9"
  }
 },
 "nbformat": 4,
 "nbformat_minor": 5
}
