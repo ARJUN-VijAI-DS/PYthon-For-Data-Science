{
 "cells": [
  {
   "cell_type": "code",
   "execution_count": 1,
   "id": "6a5106fa",
   "metadata": {},
   "outputs": [
    {
     "name": "stdout",
     "output_type": "stream",
     "text": [
      "\n",
      "\n"
     ]
    }
   ],
   "source": [
    "print(\"\\n\")                  # new line character"
   ]
  },
  {
   "cell_type": "markdown",
   "id": "dad6938d",
   "metadata": {},
   "source": [
    "# Escape sequences\n"
   ]
  },
  {
   "cell_type": "code",
   "execution_count": 2,
   "id": "21ac4438",
   "metadata": {},
   "outputs": [
    {
     "name": "stdout",
     "output_type": "stream",
     "text": [
      "\\n'\n"
     ]
    }
   ],
   "source": [
    "print(\"\\\\n'\")                 # used Escape sequences -- \\\\   result backslash  \n",
    "                              ## double backslash will give us single backslash"
   ]
  },
  {
   "cell_type": "code",
   "execution_count": 3,
   "id": "65ac5799",
   "metadata": {},
   "outputs": [
    {
     "name": "stdout",
     "output_type": "stream",
     "text": [
      "\\n\n"
     ]
    }
   ],
   "source": [
    "print(\"\\\\n\")"
   ]
  },
  {
   "cell_type": "code",
   "execution_count": 4,
   "id": "1759111c",
   "metadata": {},
   "outputs": [
    {
     "name": "stdout",
     "output_type": "stream",
     "text": [
      "\\\n"
     ]
    }
   ],
   "source": [
    "print(\"\\\\\")                  # print backslash '\\'."
   ]
  },
  {
   "cell_type": "code",
   "execution_count": 5,
   "id": "e62b15e9",
   "metadata": {},
   "outputs": [
    {
     "name": "stdout",
     "output_type": "stream",
     "text": [
      "\\b\n"
     ]
    }
   ],
   "source": [
    "print(\"\\\\b\")                 # print backslash '\\b'."
   ]
  },
  {
   "cell_type": "code",
   "execution_count": 6,
   "id": "49bb84e8",
   "metadata": {},
   "outputs": [
    {
     "name": "stdout",
     "output_type": "stream",
     "text": [
      "\n",
      "abc\n"
     ]
    }
   ],
   "source": [
    "print(\"\\nabc\")               # use of New Line character."
   ]
  },
  {
   "cell_type": "code",
   "execution_count": 7,
   "id": "df8c912f",
   "metadata": {},
   "outputs": [
    {
     "name": "stdout",
     "output_type": "stream",
     "text": [
      "\\nabc\n"
     ]
    }
   ],
   "source": [
    "print(\"\\\\nabc\")              # print backslash '\\n' and Data."
   ]
  },
  {
   "cell_type": "code",
   "execution_count": 2,
   "id": "f77efe02",
   "metadata": {},
   "outputs": [
    {
     "ename": "NameError",
     "evalue": "name 'Print' is not defined",
     "output_type": "error",
     "traceback": [
      "\u001b[1;31m---------------------------------------------------------------------------\u001b[0m",
      "\u001b[1;31mNameError\u001b[0m                                 Traceback (most recent call last)",
      "Cell \u001b[1;32mIn[2], line 1\u001b[0m\n\u001b[1;32m----> 1\u001b[0m \u001b[43mPrint\u001b[49m(\u001b[38;5;124m\"\u001b[39m\u001b[38;5;124mture\u001b[39m\u001b[38;5;124m\"\u001b[39m)\n",
      "\u001b[1;31mNameError\u001b[0m: name 'Print' is not defined"
     ]
    }
   ],
   "source": [
    "Print(\"ture\")                # Python is case sensitive language."
   ]
  },
  {
   "cell_type": "code",
   "execution_count": 3,
   "id": "e3a6fe91",
   "metadata": {},
   "outputs": [
    {
     "name": "stdout",
     "output_type": "stream",
     "text": [
      "true\n"
     ]
    }
   ],
   "source": [
    "print(\"true\")"
   ]
  },
  {
   "cell_type": "code",
   "execution_count": 4,
   "id": "9f4bb871",
   "metadata": {},
   "outputs": [
    {
     "name": "stdout",
     "output_type": "stream",
     "text": [
      "'Hello I wanna learn Python.'\n",
      "'I wanna be Data Scientist\n"
     ]
    }
   ],
   "source": [
    "print(\"\\'Hello I wanna learn Python.'\\n'I wanna be Data Scientist\")          # Lets learn"
   ]
  },
  {
   "cell_type": "code",
   "execution_count": 5,
   "id": "f1c7fcb8",
   "metadata": {},
   "outputs": [
    {
     "name": "stdout",
     "output_type": "stream",
     "text": [
      "'In Python everything is defined NOT Declared\n"
     ]
    }
   ],
   "source": [
    "print(\"\\'In Python everything is defined NOT Declared\")          # Lets learn"
   ]
  },
  {
   "cell_type": "code",
   "execution_count": 1,
   "id": "c31fd6c2",
   "metadata": {},
   "outputs": [
    {
     "name": "stdout",
     "output_type": "stream",
     "text": [
      "'I am learning'\n"
     ]
    }
   ],
   "source": [
    "print(\"\\'I am learning'\")                                      # Lets learn"
   ]
  },
  {
   "cell_type": "code",
   "execution_count": 4,
   "id": "7fd014a0",
   "metadata": {},
   "outputs": [
    {
     "ename": "SyntaxError",
     "evalue": "unterminated string literal (detected at line 1) (2276401793.py, line 1)",
     "output_type": "error",
     "traceback": [
      "\u001b[1;36m  Cell \u001b[1;32mIn[4], line 1\u001b[1;36m\u001b[0m\n\u001b[1;33m    print('I am\\'Learning'')\u001b[0m\n\u001b[1;37m                          ^\u001b[0m\n\u001b[1;31mSyntaxError\u001b[0m\u001b[1;31m:\u001b[0m unterminated string literal (detected at line 1)\n"
     ]
    }
   ],
   "source": [
    "print('I am\\'Learning'')                        # Lets learn        "
   ]
  },
  {
   "cell_type": "code",
   "execution_count": 5,
   "id": "aea55821",
   "metadata": {},
   "outputs": [
    {
     "ename": "SyntaxError",
     "evalue": "unexpected character after line continuation character (3283726331.py, line 1)",
     "output_type": "error",
     "traceback": [
      "\u001b[1;36m  Cell \u001b[1;32mIn[5], line 1\u001b[1;36m\u001b[0m\n\u001b[1;33m    print('I am\\'Learning'\\'' )\u001b[0m\n\u001b[1;37m                           ^\u001b[0m\n\u001b[1;31mSyntaxError\u001b[0m\u001b[1;31m:\u001b[0m unexpected character after line continuation character\n"
     ]
    }
   ],
   "source": [
    "print('I am\\'Learning'\\'' )                    # Lets learn"
   ]
  },
  {
   "cell_type": "code",
   "execution_count": 8,
   "id": "84bf04ea",
   "metadata": {},
   "outputs": [
    {
     "name": "stdout",
     "output_type": "stream",
     "text": [
      "I am'Learning Python'\n"
     ]
    }
   ],
   "source": [
    "print('I am\\'Learning Python\\'' )"
   ]
  },
  {
   "cell_type": "code",
   "execution_count": 7,
   "id": "f357fbe5",
   "metadata": {},
   "outputs": [
    {
     "name": "stdout",
     "output_type": "stream",
     "text": [
      "\\Python\n"
     ]
    }
   ],
   "source": [
    "print('\\\\Python')                    # Lets learn"
   ]
  },
  {
   "cell_type": "code",
   "execution_count": 10,
   "id": "c8436786",
   "metadata": {},
   "outputs": [
    {
     "name": "stdout",
     "output_type": "stream",
     "text": [
      "\\n\n"
     ]
    }
   ],
   "source": [
    "print('\\\\n')                        # print \\n                    # Lets learn"
   ]
  },
  {
   "cell_type": "code",
   "execution_count": 11,
   "id": "6810db98",
   "metadata": {},
   "outputs": [
    {
     "name": "stdout",
     "output_type": "stream",
     "text": [
      "Python\b\n"
     ]
    }
   ],
   "source": [
    "print(\"Python\\b\")                  # \\b   ---  backspace          # Lets learn"
   ]
  },
  {
   "cell_type": "code",
   "execution_count": 12,
   "id": "3f585562",
   "metadata": {},
   "outputs": [
    {
     "name": "stdout",
     "output_type": "stream",
     "text": [
      "Pytho\b\n"
     ]
    }
   ],
   "source": [
    "print('Pytho\\b')"
   ]
  },
  {
   "cell_type": "code",
   "execution_count": 13,
   "id": "fd69bb34",
   "metadata": {},
   "outputs": [
    {
     "name": "stdout",
     "output_type": "stream",
     "text": [
      "Pyth\b\n"
     ]
    }
   ],
   "source": [
    "print('Pyth\\b')"
   ]
  },
  {
   "cell_type": "code",
   "execution_count": 10,
   "id": "4497e5fb",
   "metadata": {},
   "outputs": [
    {
     "name": "stdout",
     "output_type": "stream",
     "text": [
      "Python\b\b\n"
     ]
    }
   ],
   "source": [
    "print('Python\\b\\b')               # \\b   ---  backspace (even number - two backspaces)          # Lets learn"
   ]
  },
  {
   "cell_type": "code",
   "execution_count": 9,
   "id": "e5c67fee",
   "metadata": {},
   "outputs": [
    {
     "name": "stdout",
     "output_type": "stream",
     "text": [
      "Python\b\b\b\n"
     ]
    }
   ],
   "source": [
    "print('Python\\b\\b\\b')             # \\b   ---  backspace (odd number - one backspaces)          # Lets learn"
   ]
  },
  {
   "cell_type": "code",
   "execution_count": 16,
   "id": "d341d59a",
   "metadata": {},
   "outputs": [
    {
     "name": "stdout",
     "output_type": "stream",
     "text": [
      "I am learning Python\t\n"
     ]
    }
   ],
   "source": [
    "print('I am learning Python\\t')           # \\t - tab"
   ]
  },
  {
   "cell_type": "code",
   "execution_count": 17,
   "id": "cc9f6799",
   "metadata": {},
   "outputs": [
    {
     "name": "stdout",
     "output_type": "stream",
     "text": [
      "I am learning\tPython\n"
     ]
    }
   ],
   "source": [
    "print('I am learning\\tPython')"
   ]
  },
  {
   "cell_type": "code",
   "execution_count": 18,
   "id": "c8fd5306",
   "metadata": {},
   "outputs": [
    {
     "name": "stdout",
     "output_type": "stream",
     "text": [
      "I am Learning \t Python\n"
     ]
    }
   ],
   "source": [
    "print('I am Learning \\t Python')         # tab key will work in the ('') of print            # Lets learn"
   ]
  },
  {
   "cell_type": "code",
   "execution_count": 11,
   "id": "b09d0521",
   "metadata": {},
   "outputs": [
    {
     "name": "stdout",
     "output_type": "stream",
     "text": [
      "I am Learning \t\t Python\n"
     ]
    }
   ],
   "source": [
    "print('I am Learning \\t\\t Python')       # tab key will work in the ('') of print            # Lets learn"
   ]
  },
  {
   "cell_type": "code",
   "execution_count": 19,
   "id": "88eaace0",
   "metadata": {},
   "outputs": [
    {
     "name": "stdout",
     "output_type": "stream",
     "text": [
      "Hello\tHello\t\tHello\n"
     ]
    }
   ],
   "source": [
    "print('Hello\\tHello\\t\\tHello')           # \\t  - to reduce the coding space. - To increase the visibility "
   ]
  },
  {
   "cell_type": "code",
   "execution_count": 20,
   "id": "422ef552",
   "metadata": {},
   "outputs": [
    {
     "name": "stdout",
     "output_type": "stream",
     "text": [
      "PYTHON\r",
      "DATA\n"
     ]
    }
   ],
   "source": [
    "print('PYTHON\\rDATA')                    # \\r imposing itself -- cover up the space!"
   ]
  },
  {
   "cell_type": "code",
   "execution_count": 21,
   "id": "7fd8cf8f",
   "metadata": {},
   "outputs": [
    {
     "name": "stdout",
     "output_type": "stream",
     "text": [
      "PYTHON\r",
      "  DATA\n"
     ]
    }
   ],
   "source": [
    "print('PYTHON\\r  DATA')                  # imposed the whole word PYTHON"
   ]
  },
  {
   "cell_type": "code",
   "execution_count": 22,
   "id": "233d902b",
   "metadata": {},
   "outputs": [
    {
     "name": "stdout",
     "output_type": "stream",
     "text": [
      "PYTHON\r",
      "DATA\r",
      "HE\n"
     ]
    }
   ],
   "source": [
    "print('PYTHON\\rDATA\\rHE')                # --- DATAON then HETAON"
   ]
  },
  {
   "cell_type": "code",
   "execution_count": 24,
   "id": "f2b1fc80",
   "metadata": {},
   "outputs": [
    {
     "name": "stdout",
     "output_type": "stream",
     "text": [
      "Hello\r",
      "Namaste\r",
      "   Hola\n"
     ]
    }
   ],
   "source": [
    "print('Hello\\rNamaste\\r   Hola')         # \\r                          # Lets Learn"
   ]
  },
  {
   "cell_type": "code",
   "execution_count": 2,
   "id": "efb64b22",
   "metadata": {
    "scrolled": true
   },
   "outputs": [
    {
     "name": "stdout",
     "output_type": "stream",
     "text": [
      "I am a Data Scientist\n",
      "I wanna become one of the best Data Scientist in the World\n",
      " Jai Thakur\tJai Maa Sradha\t Jai Guru Dev\n"
     ]
    }
   ],
   "source": [
    "print('I am a Data Scientist\\nI wanna become one of the best Data Scientist in the World\\n Jai Thakur\\tJai Maa Sradha\\t Jai Guru Dev')"
   ]
  },
  {
   "cell_type": "code",
   "execution_count": null,
   "id": "dd7d7add",
   "metadata": {},
   "outputs": [],
   "source": []
  },
  {
   "cell_type": "code",
   "execution_count": null,
   "id": "1a5c9b97",
   "metadata": {},
   "outputs": [],
   "source": []
  },
  {
   "cell_type": "markdown",
   "id": "63204d4a",
   "metadata": {},
   "source": [
    " # Important Questions of Life:\n",
    "\n",
    "Answer following questions and write them in your journal.\n",
    "\n",
    "- What one thing -- if I did it  -- would profoundly improve the way I work.(And how I live?)\n",
    "\n",
    "- What needs to happen between now and the end of the next 90 days for me to feel that this is the best quarter of my work and personal life? (Remember clarity preceds mastery.)\n",
    "\n",
    "- What do I need to express appreciation to?(Make your list long)\n",
    "\n",
    "- What would I like to improve, professionaly and personally?\n",
    "\n",
    "- What could be I grateful for that I am not currently not grateful for?\n",
    "\n",
    "- How do I want to be remembered at my last day of the Journey?\n"
   ]
  },
  {
   "cell_type": "code",
   "execution_count": null,
   "id": "8d124332",
   "metadata": {},
   "outputs": [],
   "source": []
  }
 ],
 "metadata": {
  "kernelspec": {
   "display_name": "Python 3 (ipykernel)",
   "language": "python",
   "name": "python3"
  },
  "language_info": {
   "codemirror_mode": {
    "name": "ipython",
    "version": 3
   },
   "file_extension": ".py",
   "mimetype": "text/x-python",
   "name": "python",
   "nbconvert_exporter": "python",
   "pygments_lexer": "ipython3",
   "version": "3.10.9"
  }
 },
 "nbformat": 4,
 "nbformat_minor": 5
}
