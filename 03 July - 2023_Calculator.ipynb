{
 "cells": [
  {
   "cell_type": "code",
   "execution_count": null,
   "id": "8dc7f6cc",
   "metadata": {},
   "outputs": [],
   "source": [
    "# Set1 = {10,20,30,40,50}\n",
    "# Set2 = {30,40,50,60}\n",
    "# Write a PYthon program to return a new set with unique items from two sets by removing duplicates.\n",
    "# Update the first set with items that do not exist in the second set.\n",
    "# Remove 10,20,30 from Set 1."
   ]
  },
  {
   "cell_type": "code",
   "execution_count": null,
   "id": "7c771d28",
   "metadata": {},
   "outputs": [],
   "source": []
  },
  {
   "cell_type": "code",
   "execution_count": null,
   "id": "10783d97",
   "metadata": {},
   "outputs": [],
   "source": []
  },
  {
   "cell_type": "code",
   "execution_count": null,
   "id": "4c4956fe",
   "metadata": {},
   "outputs": [],
   "source": []
  },
  {
   "cell_type": "code",
   "execution_count": null,
   "id": "89c8690c",
   "metadata": {},
   "outputs": [],
   "source": []
  },
  {
   "cell_type": "code",
   "execution_count": 1,
   "id": "9d159e50",
   "metadata": {},
   "outputs": [
    {
     "ename": "NameError",
     "evalue": "name 'x' is not defined",
     "output_type": "error",
     "traceback": [
      "\u001b[1;31m---------------------------------------------------------------------------\u001b[0m",
      "\u001b[1;31mNameError\u001b[0m                                 Traceback (most recent call last)",
      "Cell \u001b[1;32mIn[1], line 4\u001b[0m\n\u001b[0;32m      1\u001b[0m \u001b[38;5;66;03m# Write a program to perform functions of a calculator using (if else) -- statement. --- Take Input from user.\u001b[39;00m\n\u001b[1;32m----> 4\u001b[0m z \u001b[38;5;241m=\u001b[39m \u001b[38;5;28mint\u001b[39m(\u001b[38;5;28minput\u001b[39m(\u001b[38;5;124m\"\u001b[39m\u001b[38;5;124mEnter First number:   \u001b[39m\u001b[38;5;124m\"\u001b[39m, \u001b[43mx\u001b[49m))\n\u001b[0;32m      5\u001b[0m y \u001b[38;5;241m=\u001b[39m \u001b[38;5;28mint\u001b[39m(\u001b[38;5;28minput\u001b[39m(\u001b[38;5;124m\"\u001b[39m\u001b[38;5;124mEnter Second number:  \u001b[39m\u001b[38;5;124m\"\u001b[39m, y))\n",
      "\u001b[1;31mNameError\u001b[0m: name 'x' is not defined"
     ]
    }
   ],
   "source": [
    "# Write a program to perform functions of a calculator using (if else) -- statement. --- Take Input from user.\n",
    "\n",
    "\n",
    "z = int(input(\"Enter First number:   \", x))\n",
    "y = int(input(\"Enter Second number:  \", y))\n",
    "\n",
    "## if z == x+y:\n",
    "##    print(z)                   # Addition\n"
   ]
  },
  {
   "cell_type": "code",
   "execution_count": 24,
   "id": "854347d7",
   "metadata": {},
   "outputs": [
    {
     "name": "stdout",
     "output_type": "stream",
     "text": [
      "Enter First number:   12\n",
      "Enter a Symbol:       +\n"
     ]
    },
    {
     "ename": "ValueError",
     "evalue": "invalid literal for int() with base 10: '+'",
     "output_type": "error",
     "traceback": [
      "\u001b[1;31m---------------------------------------------------------------------------\u001b[0m",
      "\u001b[1;31mValueError\u001b[0m                                Traceback (most recent call last)",
      "Cell \u001b[1;32mIn[24], line 5\u001b[0m\n\u001b[0;32m      1\u001b[0m \u001b[38;5;66;03m# Write a program to perform functions of a calculator using (if else) -- statement. --- Take Input from user.\u001b[39;00m\n\u001b[0;32m      4\u001b[0m x \u001b[38;5;241m=\u001b[39m \u001b[38;5;28mint\u001b[39m(\u001b[38;5;28minput\u001b[39m(\u001b[38;5;124m\"\u001b[39m\u001b[38;5;124mEnter First number:   \u001b[39m\u001b[38;5;124m\"\u001b[39m))\n\u001b[1;32m----> 5\u001b[0m z \u001b[38;5;241m=\u001b[39m \u001b[38;5;28;43mint\u001b[39;49m\u001b[43m(\u001b[49m\u001b[38;5;28;43minput\u001b[39;49m\u001b[43m(\u001b[49m\u001b[38;5;124;43m\"\u001b[39;49m\u001b[38;5;124;43mEnter a Symbol:       \u001b[39;49m\u001b[38;5;124;43m\"\u001b[39;49m\u001b[43m)\u001b[49m\u001b[43m)\u001b[49m\n\u001b[0;32m      6\u001b[0m y \u001b[38;5;241m=\u001b[39m \u001b[38;5;28mint\u001b[39m(\u001b[38;5;28minput\u001b[39m(\u001b[38;5;124m\"\u001b[39m\u001b[38;5;124mEnter Second number:  \u001b[39m\u001b[38;5;124m\"\u001b[39m))\n\u001b[0;32m      8\u001b[0m \u001b[38;5;28;01mif\u001b[39;00m C \u001b[38;5;241m==\u001b[39m x\u001b[38;5;241m+\u001b[39my:\n",
      "\u001b[1;31mValueError\u001b[0m: invalid literal for int() with base 10: '+'"
     ]
    }
   ],
   "source": [
    "# Write a program to perform functions of a calculator using (if else) -- statement. --- Take Input from user.\n",
    "\n",
    "\n",
    "x = int(input(\"Enter First number:   \"))\n",
    "z = int(input(\"Enter a Symbol:       \"))\n",
    "y = int(input(\"Enter Second number:  \"))\n",
    "\n",
    "if C == x+y:\n",
    "    print(z)                   # Addition"
   ]
  },
  {
   "cell_type": "code",
   "execution_count": 1,
   "id": "e5e28e54",
   "metadata": {},
   "outputs": [
    {
     "name": "stdout",
     "output_type": "stream",
     "text": [
      "Enter First number:   12\n",
      "Enter a Symbol:       +\n",
      "Enter Second number:  13\n"
     ]
    },
    {
     "ename": "NameError",
     "evalue": "name 'C' is not defined",
     "output_type": "error",
     "traceback": [
      "\u001b[1;31m---------------------------------------------------------------------------\u001b[0m",
      "\u001b[1;31mNameError\u001b[0m                                 Traceback (most recent call last)",
      "Cell \u001b[1;32mIn[1], line 8\u001b[0m\n\u001b[0;32m      5\u001b[0m z \u001b[38;5;241m=\u001b[39m \u001b[38;5;28minput\u001b[39m(\u001b[38;5;124m\"\u001b[39m\u001b[38;5;124mEnter a Symbol:       \u001b[39m\u001b[38;5;124m\"\u001b[39m)\n\u001b[0;32m      6\u001b[0m y \u001b[38;5;241m=\u001b[39m \u001b[38;5;28mint\u001b[39m(\u001b[38;5;28minput\u001b[39m(\u001b[38;5;124m\"\u001b[39m\u001b[38;5;124mEnter Second number:  \u001b[39m\u001b[38;5;124m\"\u001b[39m))\n\u001b[1;32m----> 8\u001b[0m \u001b[38;5;28;01mif\u001b[39;00m \u001b[43mC\u001b[49m \u001b[38;5;241m==\u001b[39m x\u001b[38;5;241m+\u001b[39my:\n\u001b[0;32m      9\u001b[0m     \u001b[38;5;28mprint\u001b[39m(C)\n",
      "\u001b[1;31mNameError\u001b[0m: name 'C' is not defined"
     ]
    }
   ],
   "source": [
    "# Write a program to perform functions of a calculator using (if else) -- statement. --- Take Input from user.\n",
    "\n",
    "\n",
    "x = int(input(\"Enter First number:   \"))\n",
    "z = input(\"Enter a Symbol:       \")\n",
    "y = int(input(\"Enter Second number:  \"))\n",
    "\n",
    "if C == x+y:\n",
    "    print(C)                   # Addition"
   ]
  },
  {
   "cell_type": "code",
   "execution_count": 3,
   "id": "57423a29",
   "metadata": {},
   "outputs": [
    {
     "name": "stdout",
     "output_type": "stream",
     "text": [
      "Enter First number:   12\n",
      "Enter Second number:  13\n",
      "Enter the Operation: +\n"
     ]
    }
   ],
   "source": [
    "# Write a program to perform functions of a calculator using (if else) -- statement. --- Take Input from user.\n",
    "\n",
    "\n",
    "x = int(input(\"Enter First number:   \"))\n",
    "y = int(input(\"Enter Second number:  \"))\n",
    "z = input(\"Enter the Operation: \")\n",
    "o = int() \n",
    "if o == x+y:\n",
    "    print(o)\n",
    "#elif o == x-y:\n",
    "#    print(o)\n",
    "#elif o == x*y:\n",
    "#    print(o)\n",
    " "
   ]
  },
  {
   "cell_type": "code",
   "execution_count": 4,
   "id": "08eb6f22",
   "metadata": {},
   "outputs": [
    {
     "ename": "SyntaxError",
     "evalue": "invalid syntax. Maybe you meant '==' or ':=' instead of '='? (1325199189.py, line 8)",
     "output_type": "error",
     "traceback": [
      "\u001b[1;36m  Cell \u001b[1;32mIn[4], line 8\u001b[1;36m\u001b[0m\n\u001b[1;33m    if o = x+y:\u001b[0m\n\u001b[1;37m       ^\u001b[0m\n\u001b[1;31mSyntaxError\u001b[0m\u001b[1;31m:\u001b[0m invalid syntax. Maybe you meant '==' or ':=' instead of '='?\n"
     ]
    }
   ],
   "source": [
    "# Write a program to perform functions of a calculator using (if else) -- statement. --- Take Input from user.\n",
    "\n",
    "\n",
    "x = int(input(\"Enter First number:   \"))\n",
    "y = int(input(\"Enter Second number:  \"))\n",
    "z = input(\"Enter the Operation: \")\n",
    "o = int() \n",
    "if o = x+y:\n",
    "    print(o)\n",
    "#elif o == x-y:\n",
    "#    print(o)\n",
    "#elif o == x*y:\n",
    "#    print(o)\n"
   ]
  },
  {
   "cell_type": "code",
   "execution_count": 3,
   "id": "eb0be37e",
   "metadata": {},
   "outputs": [
    {
     "name": "stdout",
     "output_type": "stream",
     "text": [
      "Enter First number:   12\n",
      "Enter Second number:  12\n",
      "Enter the Operation +,-, * or /+\n"
     ]
    },
    {
     "ename": "NameError",
     "evalue": "name 'o' is not defined",
     "output_type": "error",
     "traceback": [
      "\u001b[1;31m---------------------------------------------------------------------------\u001b[0m",
      "\u001b[1;31mNameError\u001b[0m                                 Traceback (most recent call last)",
      "Cell \u001b[1;32mIn[3], line 8\u001b[0m\n\u001b[0;32m      5\u001b[0m y \u001b[38;5;241m=\u001b[39m \u001b[38;5;28mint\u001b[39m(\u001b[38;5;28minput\u001b[39m(\u001b[38;5;124m\"\u001b[39m\u001b[38;5;124mEnter Second number:  \u001b[39m\u001b[38;5;124m\"\u001b[39m))\n\u001b[0;32m      6\u001b[0m z \u001b[38;5;241m=\u001b[39m \u001b[38;5;28minput\u001b[39m(\u001b[38;5;124m\"\u001b[39m\u001b[38;5;124mEnter the Operation +,-, * or /\u001b[39m\u001b[38;5;124m\"\u001b[39m)\n\u001b[1;32m----> 8\u001b[0m \u001b[43mo\u001b[49m \u001b[38;5;241m==\u001b[39m xzy\n\u001b[0;32m      9\u001b[0m \u001b[38;5;28mprint\u001b[39m(o)\n",
      "\u001b[1;31mNameError\u001b[0m: name 'o' is not defined"
     ]
    }
   ],
   "source": [
    "# Write a program to perform functions of a calculator using (if else) -- statement. --- Take Input from user.\n",
    "\n",
    "\n",
    "x = int(input(\"Enter First number:   \"))\n",
    "y = int(input(\"Enter Second number:  \"))\n",
    "z = input(\"Enter the Operation +,-, * or /\")\n",
    "\n",
    "o == xzy\n",
    "print(o)\n"
   ]
  },
  {
   "cell_type": "code",
   "execution_count": 4,
   "id": "e389c803",
   "metadata": {},
   "outputs": [
    {
     "name": "stdout",
     "output_type": "stream",
     "text": [
      "Enter First number:   13\n",
      "Enter Second number:  23\n",
      "Enter the Operation +,-, * or /-\n"
     ]
    },
    {
     "ename": "NameError",
     "evalue": "name 'o' is not defined",
     "output_type": "error",
     "traceback": [
      "\u001b[1;31m---------------------------------------------------------------------------\u001b[0m",
      "\u001b[1;31mNameError\u001b[0m                                 Traceback (most recent call last)",
      "Cell \u001b[1;32mIn[4], line 8\u001b[0m\n\u001b[0;32m      5\u001b[0m y \u001b[38;5;241m=\u001b[39m \u001b[38;5;28mint\u001b[39m(\u001b[38;5;28minput\u001b[39m(\u001b[38;5;124m\"\u001b[39m\u001b[38;5;124mEnter Second number:  \u001b[39m\u001b[38;5;124m\"\u001b[39m))\n\u001b[0;32m      6\u001b[0m z \u001b[38;5;241m=\u001b[39m \u001b[38;5;28minput\u001b[39m(\u001b[38;5;124m\"\u001b[39m\u001b[38;5;124mEnter the Operation +,-, * or /\u001b[39m\u001b[38;5;124m\"\u001b[39m)\n\u001b[1;32m----> 8\u001b[0m \u001b[43mo\u001b[49m \u001b[38;5;241m==\u001b[39m \u001b[38;5;28mint\u001b[39m(xzy)\n\u001b[0;32m      9\u001b[0m \u001b[38;5;28mprint\u001b[39m(o)\n",
      "\u001b[1;31mNameError\u001b[0m: name 'o' is not defined"
     ]
    }
   ],
   "source": [
    "# Write a program to perform functions of a calculator using (if else) -- statement. --- Take Input from user.\n",
    "\n",
    "\n",
    "x = int(input(\"Enter First number:   \"))\n",
    "y = int(input(\"Enter Second number:  \"))\n",
    "z = input(\"Enter the Operation +,-, * or /\")\n",
    "\n",
    "o == int(xzy)\n",
    "print(o)\n"
   ]
  },
  {
   "cell_type": "code",
   "execution_count": 5,
   "id": "a7e79bdc",
   "metadata": {},
   "outputs": [
    {
     "ename": "SyntaxError",
     "evalue": "invalid syntax. Perhaps you forgot a comma? (815972147.py, line 8)",
     "output_type": "error",
     "traceback": [
      "\u001b[1;36m  Cell \u001b[1;32mIn[5], line 8\u001b[1;36m\u001b[0m\n\u001b[1;33m    o == int(xz[0]y)\u001b[0m\n\u001b[1;37m             ^\u001b[0m\n\u001b[1;31mSyntaxError\u001b[0m\u001b[1;31m:\u001b[0m invalid syntax. Perhaps you forgot a comma?\n"
     ]
    }
   ],
   "source": [
    "# Write a program to perform functions of a calculator using (if else) -- statement. --- Take Input from user.\n",
    "\n",
    "\n",
    "x = int(input(\"Enter First number:   \"))\n",
    "y = int(input(\"Enter Second number:  \"))\n",
    "z = input(\"Enter the Operation +,-, * or /\")\n",
    "\n",
    "o == int(xz[0]y)\n",
    "print(o)"
   ]
  },
  {
   "cell_type": "code",
   "execution_count": 6,
   "id": "1d50450d",
   "metadata": {},
   "outputs": [
    {
     "ename": "SyntaxError",
     "evalue": "invalid syntax (3178264006.py, line 8)",
     "output_type": "error",
     "traceback": [
      "\u001b[1;36m  Cell \u001b[1;32mIn[6], line 8\u001b[1;36m\u001b[0m\n\u001b[1;33m    o == xz[0]y\u001b[0m\n\u001b[1;37m              ^\u001b[0m\n\u001b[1;31mSyntaxError\u001b[0m\u001b[1;31m:\u001b[0m invalid syntax\n"
     ]
    }
   ],
   "source": [
    "# Write a program to perform functions of a calculator using (if else) -- statement. --- Take Input from user.\n",
    "\n",
    "\n",
    "x = int(input(\"Enter First number:   \"))\n",
    "y = int(input(\"Enter Second number:  \"))\n",
    "z = input(\"Enter the Operation +,-, * or /\")\n",
    "\n",
    "o == xz[0]y\n",
    "print(o)"
   ]
  },
  {
   "cell_type": "code",
   "execution_count": 7,
   "id": "e4503e7b",
   "metadata": {},
   "outputs": [
    {
     "ename": "SyntaxError",
     "evalue": "invalid syntax (3189183490.py, line 8)",
     "output_type": "error",
     "traceback": [
      "\u001b[1;36m  Cell \u001b[1;32mIn[7], line 8\u001b[1;36m\u001b[0m\n\u001b[1;33m    o == xz[]y\u001b[0m\n\u001b[1;37m            ^\u001b[0m\n\u001b[1;31mSyntaxError\u001b[0m\u001b[1;31m:\u001b[0m invalid syntax\n"
     ]
    }
   ],
   "source": [
    "# Write a program to perform functions of a calculator using (if else) -- statement. --- Take Input from user.\n",
    "\n",
    "\n",
    "x = int(input(\"Enter First number:   \"))\n",
    "y = int(input(\"Enter Second number:  \"))\n",
    "z = input(\"Enter the Operation +,-, * or /\")\n",
    "\n",
    "o == xz[]y\n",
    "print(o)"
   ]
  },
  {
   "cell_type": "code",
   "execution_count": 8,
   "id": "6c256f12",
   "metadata": {},
   "outputs": [
    {
     "ename": "SyntaxError",
     "evalue": "invalid syntax (1462946227.py, line 8)",
     "output_type": "error",
     "traceback": [
      "\u001b[1;36m  Cell \u001b[1;32mIn[8], line 8\u001b[1;36m\u001b[0m\n\u001b[1;33m    o = xz[]y\u001b[0m\n\u001b[1;37m           ^\u001b[0m\n\u001b[1;31mSyntaxError\u001b[0m\u001b[1;31m:\u001b[0m invalid syntax\n"
     ]
    }
   ],
   "source": [
    "# Write a program to perform functions of a calculator using (if else) -- statement. --- Take Input from user.\n",
    "\n",
    "\n",
    "x = int(input(\"Enter First number:   \"))\n",
    "y = int(input(\"Enter Second number:  \"))\n",
    "z = input(\"Enter the Operation +,-, * or /\")\n",
    "\n",
    "o = xz[]y\n",
    "print(o)"
   ]
  },
  {
   "cell_type": "code",
   "execution_count": 9,
   "id": "717d738a",
   "metadata": {},
   "outputs": [
    {
     "ename": "SyntaxError",
     "evalue": "invalid syntax (974670143.py, line 8)",
     "output_type": "error",
     "traceback": [
      "\u001b[1;36m  Cell \u001b[1;32mIn[9], line 8\u001b[1;36m\u001b[0m\n\u001b[1;33m    o = xz[]y\u001b[0m\n\u001b[1;37m           ^\u001b[0m\n\u001b[1;31mSyntaxError\u001b[0m\u001b[1;31m:\u001b[0m invalid syntax\n"
     ]
    }
   ],
   "source": [
    "# Write a program to perform functions of a calculator using (if else) -- statement. --- Take Input from user.\n",
    "\n",
    "\n",
    "x = int(input(\"Enter First number:   \"))\n",
    "y = int(input(\"Enter Second number:  \"))\n",
    "z = set(input(\"Enter the Operation +,-, * or /\"))\n",
    "\n",
    "o = xz[]y\n",
    "print(o)"
   ]
  },
  {
   "cell_type": "code",
   "execution_count": 10,
   "id": "ffb5ee27",
   "metadata": {},
   "outputs": [
    {
     "name": "stdout",
     "output_type": "stream",
     "text": [
      "Enter First number:   123\n",
      "Enter Second number:  12\n",
      "Enter the Operation +,-, * or /+\n"
     ]
    },
    {
     "ename": "ValueError",
     "evalue": "invalid literal for int() with base 10: '+'",
     "output_type": "error",
     "traceback": [
      "\u001b[1;31m---------------------------------------------------------------------------\u001b[0m",
      "\u001b[1;31mValueError\u001b[0m                                Traceback (most recent call last)",
      "Cell \u001b[1;32mIn[10], line 6\u001b[0m\n\u001b[0;32m      4\u001b[0m x \u001b[38;5;241m=\u001b[39m \u001b[38;5;28mint\u001b[39m(\u001b[38;5;28minput\u001b[39m(\u001b[38;5;124m\"\u001b[39m\u001b[38;5;124mEnter First number:   \u001b[39m\u001b[38;5;124m\"\u001b[39m))\n\u001b[0;32m      5\u001b[0m y \u001b[38;5;241m=\u001b[39m \u001b[38;5;28mint\u001b[39m(\u001b[38;5;28minput\u001b[39m(\u001b[38;5;124m\"\u001b[39m\u001b[38;5;124mEnter Second number:  \u001b[39m\u001b[38;5;124m\"\u001b[39m))\n\u001b[1;32m----> 6\u001b[0m z \u001b[38;5;241m=\u001b[39m \u001b[38;5;28;43mint\u001b[39;49m\u001b[43m(\u001b[49m\u001b[38;5;28;43minput\u001b[39;49m\u001b[43m(\u001b[49m\u001b[38;5;124;43m\"\u001b[39;49m\u001b[38;5;124;43mEnter the Operation +,-, * or /\u001b[39;49m\u001b[38;5;124;43m\"\u001b[39;49m\u001b[43m)\u001b[49m\u001b[43m)\u001b[49m\n\u001b[0;32m      8\u001b[0m o \u001b[38;5;241m=\u001b[39m xzy\n\u001b[0;32m      9\u001b[0m \u001b[38;5;28mprint\u001b[39m(o)\n",
      "\u001b[1;31mValueError\u001b[0m: invalid literal for int() with base 10: '+'"
     ]
    }
   ],
   "source": [
    "# Write a program to perform functions of a calculator using (if else) -- statement. --- Take Input from user.\n",
    "\n",
    "\n",
    "x = int(input(\"Enter First number:   \"))\n",
    "y = int(input(\"Enter Second number:  \"))\n",
    "z = int(input(\"Enter the Operation +,-, * or /\"))\n",
    "\n",
    "o = xzy\n",
    "print(o)"
   ]
  },
  {
   "cell_type": "code",
   "execution_count": 11,
   "id": "70dd6135",
   "metadata": {},
   "outputs": [
    {
     "ename": "SyntaxError",
     "evalue": "invalid syntax (694674283.py, line 8)",
     "output_type": "error",
     "traceback": [
      "\u001b[1;36m  Cell \u001b[1;32mIn[11], line 8\u001b[1;36m\u001b[0m\n\u001b[1;33m    o = xz[:]y\u001b[0m\n\u001b[1;37m             ^\u001b[0m\n\u001b[1;31mSyntaxError\u001b[0m\u001b[1;31m:\u001b[0m invalid syntax\n"
     ]
    }
   ],
   "source": [
    "# Write a program to perform functions of a calculator using (if else) -- statement. --- Take Input from user.\n",
    "\n",
    "\n",
    "x = int(input(\"Enter First number:   \"))\n",
    "y = int(input(\"Enter Second number:  \"))\n",
    "z = list(input(\"Enter the Operation +,-, * or /\"))\n",
    "\n",
    "o = xz[:]y\n",
    "print(o)"
   ]
  },
  {
   "cell_type": "code",
   "execution_count": 12,
   "id": "d78dea5d",
   "metadata": {},
   "outputs": [
    {
     "name": "stdout",
     "output_type": "stream",
     "text": [
      "Enter First number:   123\n",
      "Enter Second number:  12\n",
      "Enter the Operation +,-, * or /+\n",
      "(123, ['+'], 12)\n"
     ]
    }
   ],
   "source": [
    "# Write a program to perform functions of a calculator using (if else) -- statement. --- Take Input from user.\n",
    "\n",
    "\n",
    "x = int(input(\"Enter First number:   \"))\n",
    "y = int(input(\"Enter Second number:  \"))\n",
    "z = list(input(\"Enter the Operation +,-, * or /\"))\n",
    "\n",
    "o = x,z[:],y\n",
    "print(o)"
   ]
  },
  {
   "cell_type": "code",
   "execution_count": 13,
   "id": "f1d4ef61",
   "metadata": {},
   "outputs": [
    {
     "ename": "SyntaxError",
     "evalue": "invalid syntax (741568990.py, line 1)",
     "output_type": "error",
     "traceback": [
      "\u001b[1;36m  Cell \u001b[1;32mIn[13], line 1\u001b[1;36m\u001b[0m\n\u001b[1;33m    type(+)\u001b[0m\n\u001b[1;37m          ^\u001b[0m\n\u001b[1;31mSyntaxError\u001b[0m\u001b[1;31m:\u001b[0m invalid syntax\n"
     ]
    }
   ],
   "source": [
    "type(+)"
   ]
  },
  {
   "cell_type": "code",
   "execution_count": 26,
   "id": "e742fe1d",
   "metadata": {},
   "outputs": [
    {
     "name": "stdout",
     "output_type": "stream",
     "text": [
      "Enter First number:   123\n",
      "Enter Second number:  123\n",
      "Enter the Operation +,-, * or /+\n"
     ]
    },
    {
     "ename": "NameError",
     "evalue": "name 'xzy' is not defined",
     "output_type": "error",
     "traceback": [
      "\u001b[1;31m---------------------------------------------------------------------------\u001b[0m",
      "\u001b[1;31mNameError\u001b[0m                                 Traceback (most recent call last)",
      "Cell \u001b[1;32mIn[26], line 9\u001b[0m\n\u001b[0;32m      6\u001b[0m z \u001b[38;5;241m=\u001b[39m (\u001b[38;5;28minput\u001b[39m(\u001b[38;5;124m\"\u001b[39m\u001b[38;5;124mEnter the Operation +,-, * or /\u001b[39m\u001b[38;5;124m\"\u001b[39m))\n\u001b[0;32m      8\u001b[0m z \u001b[38;5;241m=\u001b[39m z[::]\n\u001b[1;32m----> 9\u001b[0m o \u001b[38;5;241m=\u001b[39m \u001b[43mxzy\u001b[49m\n\u001b[0;32m     10\u001b[0m \u001b[38;5;28mprint\u001b[39m(o)\n",
      "\u001b[1;31mNameError\u001b[0m: name 'xzy' is not defined"
     ]
    }
   ],
   "source": [
    "# Write a program to perform functions of a calculator using (if else) -- statement. --- Take Input from user.\n",
    "\n",
    "\n",
    "x = int(input(\"Enter First number:   \"))\n",
    "y = int(input(\"Enter Second number:  \"))\n",
    "z = (input(\"Enter the Operation +,-, * or /\"))\n",
    "\n",
    "z = z[::]\n",
    "o = xzy\n",
    "print(o)"
   ]
  },
  {
   "cell_type": "code",
   "execution_count": 27,
   "id": "bc3cc853",
   "metadata": {},
   "outputs": [
    {
     "name": "stdout",
     "output_type": "stream",
     "text": [
      "Enter First number:   123\n",
      "Enter Second number:  12\n",
      "Enter the Operation +,-, * or /-\n"
     ]
    },
    {
     "ename": "NameError",
     "evalue": "name 'xzy' is not defined",
     "output_type": "error",
     "traceback": [
      "\u001b[1;31m---------------------------------------------------------------------------\u001b[0m",
      "\u001b[1;31mNameError\u001b[0m                                 Traceback (most recent call last)",
      "Cell \u001b[1;32mIn[27], line 9\u001b[0m\n\u001b[0;32m      6\u001b[0m z \u001b[38;5;241m=\u001b[39m (\u001b[38;5;28minput\u001b[39m(\u001b[38;5;124m\"\u001b[39m\u001b[38;5;124mEnter the Operation +,-, * or /\u001b[39m\u001b[38;5;124m\"\u001b[39m))\n\u001b[0;32m      8\u001b[0m z \u001b[38;5;241m=\u001b[39m z[\u001b[38;5;241m0\u001b[39m]\n\u001b[1;32m----> 9\u001b[0m o \u001b[38;5;241m=\u001b[39m \u001b[43mxzy\u001b[49m\n\u001b[0;32m     10\u001b[0m \u001b[38;5;28mprint\u001b[39m(o)\n",
      "\u001b[1;31mNameError\u001b[0m: name 'xzy' is not defined"
     ]
    }
   ],
   "source": [
    "# Write a program to perform functions of a calculator using (if else) -- statement. --- Take Input from user.\n",
    "\n",
    "\n",
    "x = int(input(\"Enter First number:   \"))\n",
    "y = int(input(\"Enter Second number:  \"))\n",
    "z = (input(\"Enter the Operation +,-, * or /\"))\n",
    "\n",
    "z = z[0]\n",
    "o = xzy\n",
    "print(o)"
   ]
  },
  {
   "cell_type": "code",
   "execution_count": 28,
   "id": "a1f66ea2",
   "metadata": {},
   "outputs": [
    {
     "name": "stdout",
     "output_type": "stream",
     "text": [
      "Enter First number:   133\n",
      "Enter Second number:  11\n",
      "Enter the Operation +,-, * or /+\n"
     ]
    },
    {
     "ename": "NameError",
     "evalue": "name 'xzy' is not defined",
     "output_type": "error",
     "traceback": [
      "\u001b[1;31m---------------------------------------------------------------------------\u001b[0m",
      "\u001b[1;31mNameError\u001b[0m                                 Traceback (most recent call last)",
      "Cell \u001b[1;32mIn[28], line 9\u001b[0m\n\u001b[0;32m      6\u001b[0m z \u001b[38;5;241m=\u001b[39m (\u001b[38;5;28minput\u001b[39m(\u001b[38;5;124m\"\u001b[39m\u001b[38;5;124mEnter the Operation +,-, * or /\u001b[39m\u001b[38;5;124m\"\u001b[39m))\n\u001b[0;32m      8\u001b[0m z \u001b[38;5;241m=\u001b[39m z[\u001b[38;5;241m0\u001b[39m]\n\u001b[1;32m----> 9\u001b[0m o \u001b[38;5;241m=\u001b[39m \u001b[38;5;28mint\u001b[39m(\u001b[43mxzy\u001b[49m)\n\u001b[0;32m     10\u001b[0m \u001b[38;5;28mprint\u001b[39m(o)\n",
      "\u001b[1;31mNameError\u001b[0m: name 'xzy' is not defined"
     ]
    }
   ],
   "source": [
    "# Write a program to perform functions of a calculator using (if else) -- statement. --- Take Input from user.\n",
    "\n",
    "\n",
    "x = int(input(\"Enter First number:   \"))\n",
    "y = int(input(\"Enter Second number:  \"))\n",
    "z = (input(\"Enter the Operation +,-, * or /\"))\n",
    "\n",
    "z = z[0]\n",
    "o = int(xzy)\n",
    "print(o)"
   ]
  },
  {
   "cell_type": "code",
   "execution_count": null,
   "id": "b9f6b584",
   "metadata": {},
   "outputs": [],
   "source": []
  },
  {
   "cell_type": "code",
   "execution_count": null,
   "id": "7857c308",
   "metadata": {},
   "outputs": [],
   "source": []
  },
  {
   "cell_type": "code",
   "execution_count": null,
   "id": "0398330e",
   "metadata": {},
   "outputs": [],
   "source": []
  },
  {
   "cell_type": "code",
   "execution_count": 2,
   "id": "d45e818d",
   "metadata": {},
   "outputs": [
    {
     "name": "stdout",
     "output_type": "stream",
     "text": [
      "Enter First number:   22\n",
      "Enter Second number:  22\n",
      "Enter the Operation +,-, * or /*\n"
     ]
    },
    {
     "ename": "NameError",
     "evalue": "name 'xzy' is not defined",
     "output_type": "error",
     "traceback": [
      "\u001b[1;31m---------------------------------------------------------------------------\u001b[0m",
      "\u001b[1;31mNameError\u001b[0m                                 Traceback (most recent call last)",
      "Cell \u001b[1;32mIn[2], line 9\u001b[0m\n\u001b[0;32m      6\u001b[0m z \u001b[38;5;241m=\u001b[39m (\u001b[38;5;28minput\u001b[39m(\u001b[38;5;124m\"\u001b[39m\u001b[38;5;124mEnter the Operation +,-, * or /\u001b[39m\u001b[38;5;124m\"\u001b[39m))\n\u001b[0;32m      8\u001b[0m z[\u001b[38;5;241m0\u001b[39m]\u001b[38;5;241m==\u001b[39mz\n\u001b[1;32m----> 9\u001b[0m o \u001b[38;5;241m=\u001b[39m \u001b[38;5;28mint\u001b[39m(\u001b[43mxzy\u001b[49m)\n\u001b[0;32m     10\u001b[0m \u001b[38;5;28mprint\u001b[39m(o)\n",
      "\u001b[1;31mNameError\u001b[0m: name 'xzy' is not defined"
     ]
    }
   ],
   "source": [
    "# Write a program to perform functions of a calculator using (if else) -- statement. --- Take Input from user.\n",
    "\n",
    "\n",
    "x = int(input(\"Enter First number:   \"))\n",
    "y = int(input(\"Enter Second number:  \"))\n",
    "z = (input(\"Enter the Operation +,-, * or /\"))\n",
    "\n",
    "z[0]==z\n",
    "o = int(xzy)\n",
    "print(o)"
   ]
  },
  {
   "cell_type": "code",
   "execution_count": 3,
   "id": "4f507aef",
   "metadata": {},
   "outputs": [
    {
     "ename": "SyntaxError",
     "evalue": "invalid syntax (150151682.py, line 1)",
     "output_type": "error",
     "traceback": [
      "\u001b[1;36m  Cell \u001b[1;32mIn[3], line 1\u001b[1;36m\u001b[0m\n\u001b[1;33m    type(+)\u001b[0m\n\u001b[1;37m          ^\u001b[0m\n\u001b[1;31mSyntaxError\u001b[0m\u001b[1;31m:\u001b[0m invalid syntax\n"
     ]
    }
   ],
   "source": [
    "type(+)\n"
   ]
  },
  {
   "cell_type": "code",
   "execution_count": null,
   "id": "2e5b67a1",
   "metadata": {},
   "outputs": [],
   "source": []
  },
  {
   "cell_type": "code",
   "execution_count": null,
   "id": "07bd5a98",
   "metadata": {},
   "outputs": [],
   "source": []
  },
  {
   "cell_type": "code",
   "execution_count": null,
   "id": "f1d04053",
   "metadata": {},
   "outputs": [],
   "source": []
  },
  {
   "cell_type": "code",
   "execution_count": null,
   "id": "ba7583d8",
   "metadata": {},
   "outputs": [],
   "source": []
  },
  {
   "cell_type": "code",
   "execution_count": 16,
   "id": "0645d606",
   "metadata": {},
   "outputs": [
    {
     "name": "stdout",
     "output_type": "stream",
     "text": [
      "Enter First number:   123\n",
      "Enter Second number:  12\n",
      "Enter the Operation +,-, * or /+\n",
      "135\n"
     ]
    }
   ],
   "source": [
    "# Write a program to perform functions of a calculator using (if else) -- statement. --- Take Input from user.\n",
    "\n",
    "\n",
    "x = int(input(\"Enter First number:   \"))\n",
    "y = int(input(\"Enter Second number:  \"))\n",
    "z = input(\"Enter the Operation +,-, * or /\")\n",
    "\n",
    "p=x+y;s=x-y;m=x*y;d=x/y\n",
    "\n",
    "if x+y:\n",
    "    print(p)\n",
    "elif x-y:\n",
    "    print(s)\n",
    "elif x*y:\n",
    "    print(m)\n",
    "else:\n",
    "    print(d)"
   ]
  },
  {
   "cell_type": "code",
   "execution_count": 19,
   "id": "cb81d7ea",
   "metadata": {},
   "outputs": [
    {
     "name": "stdout",
     "output_type": "stream",
     "text": [
      "Enter First number:   123\n",
      "Enter Second number:  12\n",
      "Enter the Operation +,-, * or /+\n",
      "10.25\n"
     ]
    }
   ],
   "source": [
    "# Write a program to perform functions of a calculator using (if else) -- statement. --- Take Input from user.\n",
    "\n",
    "\n",
    "x = int(input(\"Enter First number:   \"))\n",
    "y = int(input(\"Enter Second number:  \"))\n",
    "z = input(\"Enter the Operation +,-, * or /\")\n",
    "\n",
    "p=x+y;p=x-y;p=x*y;p=x/y\n",
    "\n",
    "if x+y:\n",
    "    print(p)\n",
    "elif x-y:\n",
    "    print(p)\n",
    "elif x*y:\n",
    "    print(p)\n",
    "else:\n",
    "    print(p)"
   ]
  },
  {
   "cell_type": "code",
   "execution_count": 20,
   "id": "a0ebf587",
   "metadata": {},
   "outputs": [
    {
     "ename": "SyntaxError",
     "evalue": "invalid syntax. Maybe you meant '==' or ':=' instead of '='? (3534027894.py, line 10)",
     "output_type": "error",
     "traceback": [
      "\u001b[1;36m  Cell \u001b[1;32mIn[20], line 10\u001b[1;36m\u001b[0m\n\u001b[1;33m    if p=x+y:\u001b[0m\n\u001b[1;37m       ^\u001b[0m\n\u001b[1;31mSyntaxError\u001b[0m\u001b[1;31m:\u001b[0m invalid syntax. Maybe you meant '==' or ':=' instead of '='?\n"
     ]
    }
   ],
   "source": [
    "# Write a program to perform functions of a calculator using (if else) -- statement. --- Take Input from user.\n",
    "\n",
    "\n",
    "x = int(input(\"Enter First number:   \"))\n",
    "y = int(input(\"Enter Second number:  \"))\n",
    "z = input(\"Enter the Operation +,-, * or /\")\n",
    "\n",
    "p=x+y;p=x-y;p=x*y;p=x/y\n",
    "\n",
    "if p=x+y:\n",
    "    print(p)\n",
    "elif p=x-y:\n",
    "    print(p)\n",
    "elif p=x*y:\n",
    "    print(p)\n",
    "elif p=x/y:\n",
    "    print(p)"
   ]
  },
  {
   "cell_type": "code",
   "execution_count": 22,
   "id": "a6e03702",
   "metadata": {},
   "outputs": [
    {
     "name": "stdout",
     "output_type": "stream",
     "text": [
      "Enter First number:   123\n",
      "Enter Second number:  11\n"
     ]
    },
    {
     "ename": "TypeError",
     "evalue": "Kernel.raw_input() takes from 1 to 2 positional arguments but 3 were given",
     "output_type": "error",
     "traceback": [
      "\u001b[1;31m---------------------------------------------------------------------------\u001b[0m",
      "\u001b[1;31mTypeError\u001b[0m                                 Traceback (most recent call last)",
      "Cell \u001b[1;32mIn[22], line 6\u001b[0m\n\u001b[0;32m      4\u001b[0m x \u001b[38;5;241m=\u001b[39m \u001b[38;5;28mint\u001b[39m(\u001b[38;5;28minput\u001b[39m(\u001b[38;5;124m\"\u001b[39m\u001b[38;5;124mEnter First number:   \u001b[39m\u001b[38;5;124m\"\u001b[39m))\n\u001b[0;32m      5\u001b[0m y \u001b[38;5;241m=\u001b[39m \u001b[38;5;28mint\u001b[39m(\u001b[38;5;28minput\u001b[39m(\u001b[38;5;124m\"\u001b[39m\u001b[38;5;124mEnter Second number:  \u001b[39m\u001b[38;5;124m\"\u001b[39m))\n\u001b[1;32m----> 6\u001b[0m z \u001b[38;5;241m=\u001b[39m \u001b[38;5;28;43minput\u001b[39;49m\u001b[43m(\u001b[49m\u001b[38;5;124;43m\"\u001b[39;49m\u001b[38;5;124;43mEnter the Operation +,-, * or /: \u001b[39;49m\u001b[38;5;124;43m\"\u001b[39;49m\u001b[43m,\u001b[49m\u001b[43m \u001b[49m\u001b[43mz\u001b[49m\u001b[43m)\u001b[49m\n\u001b[0;32m      8\u001b[0m p\u001b[38;5;241m=\u001b[39mx\u001b[38;5;241m+\u001b[39my;p\u001b[38;5;241m=\u001b[39mx\u001b[38;5;241m-\u001b[39my;p\u001b[38;5;241m=\u001b[39mx\u001b[38;5;241m*\u001b[39my;p\u001b[38;5;241m=\u001b[39mx\u001b[38;5;241m/\u001b[39my\n\u001b[0;32m     10\u001b[0m \u001b[38;5;28;01mif\u001b[39;00m p\u001b[38;5;241m==\u001b[39mx\u001b[38;5;241m+\u001b[39my:\n",
      "\u001b[1;31mTypeError\u001b[0m: Kernel.raw_input() takes from 1 to 2 positional arguments but 3 were given"
     ]
    }
   ],
   "source": [
    "# Write a program to perform functions of a calculator using (if else) -- statement. --- Take Input from user.\n",
    "\n",
    "\n",
    "x = int(input(\"Enter First number:   \"))\n",
    "y = int(input(\"Enter Second number:  \"))\n",
    "z = input(\"Enter the Operation +,-, * or /: \", z)\n",
    "\n",
    "p=x+y;p=x-y;p=x*y;p=x/y\n",
    "\n",
    "if p==x+y:\n",
    "    print(p)\n",
    "elif p==x-y:\n",
    "    print(p)\n",
    "elif p==x*y:\n",
    "    print(p)\n",
    "elif p==x/y:\n",
    "    print(p)"
   ]
  },
  {
   "cell_type": "code",
   "execution_count": 23,
   "id": "5401110e",
   "metadata": {},
   "outputs": [
    {
     "name": "stdout",
     "output_type": "stream",
     "text": [
      "Enter First number:   123\n",
      "Enter Second number:  12\n"
     ]
    },
    {
     "ename": "TypeError",
     "evalue": "Kernel.raw_input() takes from 1 to 2 positional arguments but 3 were given",
     "output_type": "error",
     "traceback": [
      "\u001b[1;31m---------------------------------------------------------------------------\u001b[0m",
      "\u001b[1;31mTypeError\u001b[0m                                 Traceback (most recent call last)",
      "Cell \u001b[1;32mIn[23], line 6\u001b[0m\n\u001b[0;32m      4\u001b[0m x \u001b[38;5;241m=\u001b[39m \u001b[38;5;28mint\u001b[39m(\u001b[38;5;28minput\u001b[39m(\u001b[38;5;124m\"\u001b[39m\u001b[38;5;124mEnter First number:   \u001b[39m\u001b[38;5;124m\"\u001b[39m))\n\u001b[0;32m      5\u001b[0m y \u001b[38;5;241m=\u001b[39m \u001b[38;5;28mint\u001b[39m(\u001b[38;5;28minput\u001b[39m(\u001b[38;5;124m\"\u001b[39m\u001b[38;5;124mEnter Second number:  \u001b[39m\u001b[38;5;124m\"\u001b[39m))\n\u001b[1;32m----> 6\u001b[0m z \u001b[38;5;241m=\u001b[39m \u001b[38;5;28;43minput\u001b[39;49m\u001b[43m(\u001b[49m\u001b[38;5;124;43m\"\u001b[39;49m\u001b[38;5;124;43mEnter the Operation +,-, * or /: \u001b[39;49m\u001b[38;5;124;43m\"\u001b[39;49m\u001b[43m,\u001b[49m\u001b[43mz\u001b[49m\u001b[43m)\u001b[49m\n\u001b[0;32m      8\u001b[0m p\u001b[38;5;241m=\u001b[39mx\u001b[38;5;241m+\u001b[39my;p\u001b[38;5;241m=\u001b[39mx\u001b[38;5;241m-\u001b[39my;p\u001b[38;5;241m=\u001b[39mx\u001b[38;5;241m*\u001b[39my;p\u001b[38;5;241m=\u001b[39mx\u001b[38;5;241m/\u001b[39my\n\u001b[0;32m     10\u001b[0m \u001b[38;5;28;01mif\u001b[39;00m p\u001b[38;5;241m==\u001b[39mx\u001b[38;5;241m+\u001b[39my:\n",
      "\u001b[1;31mTypeError\u001b[0m: Kernel.raw_input() takes from 1 to 2 positional arguments but 3 were given"
     ]
    }
   ],
   "source": [
    "# Write a program to perform functions of a calculator using (if else) -- statement. --- Take Input from user.\n",
    "\n",
    "\n",
    "x = int(input(\"Enter First number:   \"))\n",
    "y = int(input(\"Enter Second number:  \"))\n",
    "z = input(\"Enter the Operation +,-, * or /: \",z)\n",
    "\n",
    "p=x+y;p=x-y;p=x*y;p=x/y\n",
    "\n",
    "if p==x+y:\n",
    "    print(p)\n",
    "elif p==x-y:\n",
    "    print(p)\n",
    "elif p==x*y:\n",
    "    print(p)\n",
    "elif p==x/y:\n",
    "    print(p)"
   ]
  },
  {
   "cell_type": "code",
   "execution_count": 29,
   "id": "c4dfbb6a",
   "metadata": {},
   "outputs": [
    {
     "name": "stdout",
     "output_type": "stream",
     "text": [
      "Enter First number:   123\n",
      "Enter Second number:  123\n",
      "Enter the Operation +,-, * or /:+\n",
      "1.0\n"
     ]
    }
   ],
   "source": [
    "x = int(input(\"Enter First number:   \"))\n",
    "y = int(input(\"Enter Second number:  \"))\n",
    "z = input(\"Enter the Operation +,-, * or /:\")\n",
    "\n",
    "p=x+y\n",
    "p=x-y\n",
    "p=x*y\n",
    "p=x/y\n",
    "\n",
    "if p==x+y:\n",
    "    print(p)\n",
    "elif p==x-y:\n",
    "    print(p)\n",
    "elif p==x*y:\n",
    "    print(p)\n",
    "elif p==x/y:\n",
    "    print(p)"
   ]
  },
  {
   "cell_type": "code",
   "execution_count": 30,
   "id": "707c9590",
   "metadata": {},
   "outputs": [
    {
     "name": "stdout",
     "output_type": "stream",
     "text": [
      "Enter First number:   123\n",
      "Enter Second number:  11\n",
      "Enter the Operation +,-, * or /:-\n",
      "END\n"
     ]
    }
   ],
   "source": [
    "x = int(input(\"Enter First number:   \"))\n",
    "y = int(input(\"Enter Second number:  \"))\n",
    "z = input(\"Enter the Operation +,-, * or /:\")\n",
    "\n",
    "if p==x+y:\n",
    "    print(p)\n",
    "elif p==x-y:\n",
    "    print(p)\n",
    "elif p==x*y:\n",
    "    print(p)\n",
    "elif p==x/y:\n",
    "    print(p)\n",
    "else:\n",
    "    print(\"END\")"
   ]
  },
  {
   "cell_type": "code",
   "execution_count": 3,
   "id": "3066d8e0",
   "metadata": {},
   "outputs": [
    {
     "name": "stdout",
     "output_type": "stream",
     "text": [
      "Enter First number:   12\n",
      "Enter Second number:  12\n",
      "Enter the Operation +,-, * or /:*\n",
      "24\n",
      "END\n"
     ]
    }
   ],
   "source": [
    "x = int(input(\"Enter First number:   \"))\n",
    "y = int(input(\"Enter Second number:  \"))\n",
    "z = input(\"Enter the Operation +,-, * or /:\")\n",
    "\n",
    "if x+y:\n",
    "    print(x+y)\n",
    "elif x-y:\n",
    "    print(x-y)\n",
    "elif x*y:\n",
    "    print(x*y)\n",
    "elif x/y:\n",
    "    print(x/y)\n",
    "print(\"END\")"
   ]
  },
  {
   "cell_type": "code",
   "execution_count": 4,
   "id": "3942a482",
   "metadata": {},
   "outputs": [
    {
     "name": "stdout",
     "output_type": "stream",
     "text": [
      "Enter First number:   12\n",
      "Enter Second number:  212\n",
      "Enter the Operation +,-, * or /:-\n",
      "224\n",
      "-200\n",
      "2544\n",
      "0.05660377358490566\n",
      "END\n"
     ]
    }
   ],
   "source": [
    "x = int(input(\"Enter First number:   \"))\n",
    "y = int(input(\"Enter Second number:  \"))\n",
    "z = input(\"Enter the Operation +,-, * or /:\")\n",
    "\n",
    "if x+y:\n",
    "    print(x+y)\n",
    "if x-y:\n",
    "    print(x-y)\n",
    "if x*y:\n",
    "    print(x*y)\n",
    "if x/y:\n",
    "    print(x/y)\n",
    "print(\"END\")"
   ]
  },
  {
   "cell_type": "code",
   "execution_count": 5,
   "id": "4f8ab2d3",
   "metadata": {},
   "outputs": [
    {
     "ename": "SyntaxError",
     "evalue": "expected ':' (3072822348.py, line 7)",
     "output_type": "error",
     "traceback": [
      "\u001b[1;36m  Cell \u001b[1;32mIn[5], line 7\u001b[1;36m\u001b[0m\n\u001b[1;33m    else x-y:\u001b[0m\n\u001b[1;37m         ^\u001b[0m\n\u001b[1;31mSyntaxError\u001b[0m\u001b[1;31m:\u001b[0m expected ':'\n"
     ]
    }
   ],
   "source": [
    "x = int(input(\"Enter First number:   \"))\n",
    "y = int(input(\"Enter Second number:  \"))\n",
    "z = input(\"Enter the Operation +,-, * or /:\")\n",
    "\n",
    "if x+y:\n",
    "    print(x+y)\n",
    "else x-y:\n",
    "    print(x-y)\n",
    "else x*y:\n",
    "    print(x*y)\n",
    "else x/y:\n",
    "    print(x/y)\n",
    "print(\"END\")"
   ]
  },
  {
   "cell_type": "code",
   "execution_count": 6,
   "id": "d4264f96",
   "metadata": {},
   "outputs": [
    {
     "ename": "SyntaxError",
     "evalue": "invalid syntax (1306886825.py, line 9)",
     "output_type": "error",
     "traceback": [
      "\u001b[1;36m  Cell \u001b[1;32mIn[6], line 9\u001b[1;36m\u001b[0m\n\u001b[1;33m    else:\u001b[0m\n\u001b[1;37m    ^\u001b[0m\n\u001b[1;31mSyntaxError\u001b[0m\u001b[1;31m:\u001b[0m invalid syntax\n"
     ]
    }
   ],
   "source": [
    "x = int(input(\"Enter First number:   \"))\n",
    "y = int(input(\"Enter Second number:  \"))\n",
    "z = input(\"Enter the Operation +,-, * or /:\")\n",
    "\n",
    "if x+y:\n",
    "    print(x+y)\n",
    "else:\n",
    "    print(x-y)\n",
    "else:\n",
    "    print(x*y)\n",
    "else:\n",
    "    print(x/y)\n",
    "print(\"END\")"
   ]
  },
  {
   "cell_type": "code",
   "execution_count": 12,
   "id": "a569eb04",
   "metadata": {},
   "outputs": [
    {
     "name": "stdout",
     "output_type": "stream",
     "text": [
      "Enter First number:   12\n",
      "Enter Second number:  12\n",
      "Enter the Operation +,-, * or /:/\n",
      "24\n",
      "144\n",
      "END\n"
     ]
    }
   ],
   "source": [
    "x = int(input(\"Enter First number:   \"))\n",
    "y = int(input(\"Enter Second number:  \"))\n",
    "z = input(\"Enter the Operation +,-, * or /:\")\n",
    "\n",
    "if x+y:\n",
    "    print(x+y)\n",
    "    if x-y:\n",
    "        print(x-y)\n",
    "    else:\n",
    "        print(x*y)\n",
    "else:\n",
    "    print(x/y)\n",
    "print(\"END\")"
   ]
  },
  {
   "cell_type": "code",
   "execution_count": 15,
   "id": "88a11add",
   "metadata": {},
   "outputs": [
    {
     "name": "stdout",
     "output_type": "stream",
     "text": [
      "Enter First number:   12\n",
      "Enter Second number:  12\n",
      "Enter the Operation +,-, * or /:+\n",
      "24\n",
      "0\n",
      "144\n",
      "1.0\n",
      "END\n"
     ]
    }
   ],
   "source": [
    "x = int(input(\"Enter First number:   \"))\n",
    "y = int(input(\"Enter Second number:  \"))\n",
    "z = input(\"Enter the Operation +,-, * or /:\")\n",
    "\n",
    "if (x+y)==p:\n",
    "    print(p)\n",
    "if (x-y)==s:\n",
    "    print(s)\n",
    "if (x*y)==m:\n",
    "    print(m)\n",
    "if (x/y)==d:\n",
    "    print(d)\n",
    "print(\"END\")"
   ]
  },
  {
   "cell_type": "code",
   "execution_count": 16,
   "id": "d5dbcf0f",
   "metadata": {},
   "outputs": [
    {
     "name": "stdout",
     "output_type": "stream",
     "text": [
      "Enter First number:   12\n",
      "Enter Second number:  12\n",
      "Enter the Operation +,-, * or /:-\n"
     ]
    },
    {
     "ename": "NameError",
     "evalue": "name 'xzy' is not defined",
     "output_type": "error",
     "traceback": [
      "\u001b[1;31m---------------------------------------------------------------------------\u001b[0m",
      "\u001b[1;31mNameError\u001b[0m                                 Traceback (most recent call last)",
      "Cell \u001b[1;32mIn[16], line 5\u001b[0m\n\u001b[0;32m      2\u001b[0m y \u001b[38;5;241m=\u001b[39m \u001b[38;5;28mint\u001b[39m(\u001b[38;5;28minput\u001b[39m(\u001b[38;5;124m\"\u001b[39m\u001b[38;5;124mEnter Second number:  \u001b[39m\u001b[38;5;124m\"\u001b[39m))\n\u001b[0;32m      3\u001b[0m z \u001b[38;5;241m=\u001b[39m \u001b[38;5;28minput\u001b[39m(\u001b[38;5;124m\"\u001b[39m\u001b[38;5;124mEnter the Operation +,-, * or /:\u001b[39m\u001b[38;5;124m\"\u001b[39m)\n\u001b[1;32m----> 5\u001b[0m \u001b[38;5;28;01mif\u001b[39;00m (\u001b[43mxzy\u001b[49m)\u001b[38;5;241m==\u001b[39mp:\n\u001b[0;32m      6\u001b[0m     \u001b[38;5;28mprint\u001b[39m(p)\n\u001b[0;32m      7\u001b[0m \u001b[38;5;28;01mif\u001b[39;00m (xzy)\u001b[38;5;241m==\u001b[39ms:\n",
      "\u001b[1;31mNameError\u001b[0m: name 'xzy' is not defined"
     ]
    }
   ],
   "source": [
    "x = int(input(\"Enter First number:   \"))\n",
    "y = int(input(\"Enter Second number:  \"))\n",
    "z = input(\"Enter the Operation +,-, * or /:\")\n",
    "\n",
    "if (xzy)==p:\n",
    "    print(p)\n",
    "if (xzy)==s:\n",
    "    print(s)\n",
    "if (xzy)==m:\n",
    "    print(m)\n",
    "if (xzy)==d:\n",
    "    print(d)\n",
    "print(\"END\")"
   ]
  },
  {
   "cell_type": "markdown",
   "id": "5b7e0108",
   "metadata": {},
   "source": [
    "## Done -- Calculator  --- at 11:20 pm on 4th July 2023"
   ]
  },
  {
   "cell_type": "code",
   "execution_count": 1,
   "id": "c831b174",
   "metadata": {},
   "outputs": [
    {
     "name": "stdout",
     "output_type": "stream",
     "text": [
      "Enter First number:   12\n",
      "Enter Second number:  0\n",
      "Enter the Operation +,-, * or /:/\n"
     ]
    },
    {
     "ename": "ZeroDivisionError",
     "evalue": "division by zero",
     "output_type": "error",
     "traceback": [
      "\u001b[1;31m---------------------------------------------------------------------------\u001b[0m",
      "\u001b[1;31mZeroDivisionError\u001b[0m                         Traceback (most recent call last)",
      "Cell \u001b[1;32mIn[1], line 13\u001b[0m\n\u001b[0;32m     11\u001b[0m     \u001b[38;5;28mprint\u001b[39m(x\u001b[38;5;241m*\u001b[39my)\n\u001b[0;32m     12\u001b[0m \u001b[38;5;28;01mif\u001b[39;00m (z\u001b[38;5;241m==\u001b[39m\u001b[38;5;124m\"\u001b[39m\u001b[38;5;124m/\u001b[39m\u001b[38;5;124m\"\u001b[39m):\n\u001b[1;32m---> 13\u001b[0m     \u001b[38;5;28mprint\u001b[39m(\u001b[43mx\u001b[49m\u001b[38;5;241;43m/\u001b[39;49m\u001b[43my\u001b[49m)\n\u001b[0;32m     14\u001b[0m \u001b[38;5;28mprint\u001b[39m(\u001b[38;5;124m\"\u001b[39m\u001b[38;5;124mEND\u001b[39m\u001b[38;5;124m\"\u001b[39m)\n",
      "\u001b[1;31mZeroDivisionError\u001b[0m: division by zero"
     ]
    }
   ],
   "source": [
    "# Write a program to perform functions of a calculator using (if else) -- statement. --- Take Input from user.\n",
    "x = int(input(\"Enter First number:   \"))\n",
    "y = int(input(\"Enter Second number:  \"))\n",
    "z = input(\"Enter the Operation +,-, * or /:\")\n",
    "\n",
    "if (z==\"+\"):\n",
    "    print(x+y)\n",
    "if (z==\"-\"):\n",
    "    print(x-y)\n",
    "if (z==\"*\"):\n",
    "    print(x*y)\n",
    "if (z==\"/\"):\n",
    "    print(x/y)\n",
    "print(\"END\")"
   ]
  },
  {
   "cell_type": "code",
   "execution_count": 4,
   "id": "e0569266",
   "metadata": {},
   "outputs": [
    {
     "name": "stdout",
     "output_type": "stream",
     "text": [
      "Enter First number:   12\n",
      "Enter Second number:  12\n",
      "Enter the Operation +,-, * or /:/\n",
      "1.0\n",
      "END\n"
     ]
    }
   ],
   "source": [
    "# Write a program to perform functions of a calculator using (if else) -- statement. --- Take Input from user.\n",
    "x = int(input(\"Enter First number:   \"))\n",
    "y = int(input(\"Enter Second number:  \"))\n",
    "z = input(\"Enter the Operation +,-, * or /:\")\n",
    "\n",
    "if (z==\"+\"):\n",
    "    print(x+y)\n",
    "if (z==\"-\"):\n",
    "    print(x-y)\n",
    "if (z==\"*\"):\n",
    "    print(x*y)\n",
    "if (z==\"/\"):\n",
    "    print(x/y)\n",
    "print(\"END\")"
   ]
  },
  {
   "cell_type": "code",
   "execution_count": null,
   "id": "0fb507f1",
   "metadata": {},
   "outputs": [],
   "source": []
  },
  {
   "cell_type": "markdown",
   "id": "98e6766b",
   "metadata": {},
   "source": [
    "## Nested \"if-else\""
   ]
  },
  {
   "cell_type": "code",
   "execution_count": 6,
   "id": "4071f45b",
   "metadata": {},
   "outputs": [
    {
     "name": "stdout",
     "output_type": "stream",
     "text": [
      "Value of x: 31\n",
      "Value of y: 41\n",
      "Value of z: 41\n",
      "y>x<z\n"
     ]
    }
   ],
   "source": [
    "# Nested if-else\n",
    "\n",
    "\n",
    "x = int(input(\"Value of x: \"))\n",
    "y = int(input(\"Value of y: \"))\n",
    "z = int(input(\"Value of z: \"))\n",
    "if x>y:\n",
    "    if x>z:\n",
    "        print(\"x>y>z\")\n",
    "    else:\n",
    "        print(\"y<x<z\")\n",
    "elif x==y:\n",
    "    if x>z:\n",
    "        print(\"y==x>z\")\n",
    "    else:\n",
    "        print(\"y==x>z\")\n",
    "elif x<y:\n",
    "        if x>z:\n",
    "            print(\"y>x>z\")\n",
    "        else:\n",
    "            print(\"y>x<z\")\n"
   ]
  },
  {
   "cell_type": "code",
   "execution_count": 9,
   "id": "e791fe1d",
   "metadata": {},
   "outputs": [
    {
     "name": "stdout",
     "output_type": "stream",
     "text": [
      "Value of x: 44\n",
      "Value of y: 23\n",
      "Value of z: 55\n",
      "y<x<z\n"
     ]
    }
   ],
   "source": [
    "x = int(input(\"Value of x: \"))\n",
    "y = int(input(\"Value of y: \"))\n",
    "z = int(input(\"Value of z: \"))\n",
    "if x>y:\n",
    "    if x>z:\n",
    "        print(\"x>y>z\")\n",
    "    else:\n",
    "        print(\"y<x<z\")\n",
    "if x==y:\n",
    "    if x>z:\n",
    "        print(\"y==x>z\")\n",
    "    else:\n",
    "        print(\"y==x>z\")\n",
    "if x<y:\n",
    "        if x>z:\n",
    "            print(\"y>x>z\")\n",
    "        else:\n",
    "            print(\"y>x<z\")"
   ]
  },
  {
   "cell_type": "code",
   "execution_count": null,
   "id": "988d382c",
   "metadata": {},
   "outputs": [],
   "source": []
  },
  {
   "cell_type": "code",
   "execution_count": null,
   "id": "fc03dfd3",
   "metadata": {},
   "outputs": [],
   "source": [
    "elif z == x ==10:\n",
    "    print(\"x is: \" , x)\n",
    "elif x ==11:\n",
    "    print(\"x is: \" , x)\n",
    "elif x !=12:\n",
    "    print(\"DATA Scientist\")\n",
    "elif x ==180:\n",
    "    print(\"x is: \" , x)\n",
    "else:\n",
    "    print(\"x is not 8\")\n",
    "\n",
    "print('xyz')"
   ]
  },
  {
   "cell_type": "code",
   "execution_count": null,
   "id": "b3f34740",
   "metadata": {},
   "outputs": [],
   "source": []
  },
  {
   "cell_type": "code",
   "execution_count": 10,
   "id": "8d289b74",
   "metadata": {},
   "outputs": [
    {
     "name": "stdout",
     "output_type": "stream",
     "text": [
      "Value of x: 123\n",
      "Value of y: 234\n",
      "Value of z: 555\n",
      "x<y\n"
     ]
    }
   ],
   "source": [
    "# Single line if statement\n",
    "x = int(input(\"Value of x: \"))\n",
    "y = int(input(\"Value of y: \"))\n",
    "z = int(input(\"Value of z: \"))\n",
    "if x>y:       print(\"x>y\")\n",
    "elif x==y:    print(\"x==y\")\n",
    "else: print(\"x<y\")"
   ]
  },
  {
   "cell_type": "code",
   "execution_count": null,
   "id": "b788d550",
   "metadata": {},
   "outputs": [],
   "source": []
  },
  {
   "cell_type": "code",
   "execution_count": null,
   "id": "fa03bbd4",
   "metadata": {},
   "outputs": [],
   "source": [
    "# using() in if statement"
   ]
  },
  {
   "cell_type": "code",
   "execution_count": 23,
   "id": "5cf2d9e0",
   "metadata": {},
   "outputs": [
    {
     "name": "stdout",
     "output_type": "stream",
     "text": [
      "Value of x: 12\n",
      "Value of y: 23\n",
      "Value of z: 22\n",
      "y>x<z\n"
     ]
    }
   ],
   "source": [
    "x = int(input(\"Value of x: \"))\n",
    "y = int(input(\"Value of y: \"))\n",
    "z = int(input(\"Value of z: \"))\n",
    "if (x>y):\n",
    "    if (x>z):\n",
    "        print(\"x>y>z\")\n",
    "    else:\n",
    "        print(\"y<x<z\")\n",
    "elif (x==y):\n",
    "    if (x>z):\n",
    "        print(\"y==x>z\")\n",
    "    else:\n",
    "        print(\"y==x>z\")\n",
    "elif (x<y):\n",
    "        if (x>z):\n",
    "            print(\"y>x>z\")\n",
    "        else:\n",
    "            print(\"y>x<z\")"
   ]
  },
  {
   "cell_type": "code",
   "execution_count": 20,
   "id": "6dbb0b00",
   "metadata": {},
   "outputs": [
    {
     "name": "stdout",
     "output_type": "stream",
     "text": [
      "6\n"
     ]
    }
   ],
   "source": [
    "if ((8+4)/2==6):\n",
    "    print(\"6\")\n",
    "else:\n",
    "    print(\"no\")"
   ]
  },
  {
   "cell_type": "code",
   "execution_count": 21,
   "id": "df2f4122",
   "metadata": {},
   "outputs": [
    {
     "name": "stdout",
     "output_type": "stream",
     "text": [
      "no\n"
     ]
    }
   ],
   "source": [
    "if ((8+4/2)==6):\n",
    "    print(\"6\")\n",
    "else:\n",
    "    print(\"no\")"
   ]
  },
  {
   "cell_type": "code",
   "execution_count": 22,
   "id": "bae1e26d",
   "metadata": {},
   "outputs": [
    {
     "name": "stdout",
     "output_type": "stream",
     "text": [
      "10\n"
     ]
    }
   ],
   "source": [
    "if ((8+4/2==10)):\n",
    "    print(\"10\")\n",
    "else:\n",
    "    print()"
   ]
  },
  {
   "cell_type": "code",
   "execution_count": 13,
   "id": "3b50b593",
   "metadata": {},
   "outputs": [
    {
     "data": {
      "text/plain": [
       "True"
      ]
     },
     "execution_count": 13,
     "metadata": {},
     "output_type": "execute_result"
    }
   ],
   "source": [
    "(8+4)/2==6"
   ]
  },
  {
   "cell_type": "code",
   "execution_count": 14,
   "id": "e1c12468",
   "metadata": {},
   "outputs": [
    {
     "data": {
      "text/plain": [
       "10.0"
      ]
     },
     "execution_count": 14,
     "metadata": {},
     "output_type": "execute_result"
    }
   ],
   "source": [
    "8+4/2"
   ]
  },
  {
   "cell_type": "code",
   "execution_count": null,
   "id": "932c19ee",
   "metadata": {},
   "outputs": [],
   "source": []
  },
  {
   "cell_type": "code",
   "execution_count": null,
   "id": "95efaa6f",
   "metadata": {},
   "outputs": [],
   "source": []
  }
 ],
 "metadata": {
  "kernelspec": {
   "display_name": "Python 3 (ipykernel)",
   "language": "python",
   "name": "python3"
  },
  "language_info": {
   "codemirror_mode": {
    "name": "ipython",
    "version": 3
   },
   "file_extension": ".py",
   "mimetype": "text/x-python",
   "name": "python",
   "nbconvert_exporter": "python",
   "pygments_lexer": "ipython3",
   "version": "3.10.9"
  }
 },
 "nbformat": 4,
 "nbformat_minor": 5
}
