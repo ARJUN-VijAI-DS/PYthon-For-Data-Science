{
 "cells": [
  {
   "cell_type": "markdown",
   "id": "0f040ba4",
   "metadata": {},
   "source": [
    "# Python Input: Take Input from User\n",
    "\n",
    "-- In Python, using the input() function,  we take input from a user and using the print() function, we display output on the screen. Anything or DATA that comes out of input() function is a string 'OR' Anything in the input() command is a string."
   ]
  },
  {
   "cell_type": "code",
   "execution_count": 1,
   "id": "9c1e8ec3",
   "metadata": {},
   "outputs": [
    {
     "name": "stdout",
     "output_type": "stream",
     "text": [
      "Enter Employee Name: Arjun\n"
     ]
    }
   ],
   "source": [
    "                                             # take value from a user.\n",
    "name = input('Enter Employee Name: ')"
   ]
  },
  {
   "cell_type": "code",
   "execution_count": 12,
   "id": "e9dfd9f2",
   "metadata": {},
   "outputs": [
    {
     "name": "stdout",
     "output_type": "stream",
     "text": [
      "Enter Employee Name: Aj\n"
     ]
    }
   ],
   "source": [
    "                                             # Take value from user\n",
    "\n",
    "name = input('Enter Employee Name: ')"
   ]
  },
  {
   "cell_type": "code",
   "execution_count": 15,
   "id": "d9ba9607",
   "metadata": {},
   "outputs": [
    {
     "name": "stdout",
     "output_type": "stream",
     "text": [
      "24Aj\n"
     ]
    }
   ],
   "source": [
    "x = input(24)"
   ]
  },
  {
   "cell_type": "code",
   "execution_count": 16,
   "id": "78d52422",
   "metadata": {},
   "outputs": [
    {
     "name": "stdout",
     "output_type": "stream",
     "text": [
      "8Aj\n"
     ]
    }
   ],
   "source": [
    "y = input(3+5)"
   ]
  },
  {
   "cell_type": "code",
   "execution_count": 2,
   "id": "d8ac3b02",
   "metadata": {},
   "outputs": [
    {
     "name": "stdout",
     "output_type": "stream",
     "text": [
      "Employee number$ and tag number with @ sign---aa\n"
     ]
    }
   ],
   "source": [
    "q = input('Employee number$ and tag number with @ sign---')"
   ]
  },
  {
   "cell_type": "code",
   "execution_count": 3,
   "id": "cd436cc1",
   "metadata": {},
   "outputs": [
    {
     "name": "stdout",
     "output_type": "stream",
     "text": [
      "Employee number$ and tag number with @ sign-- Aj\n"
     ]
    }
   ],
   "source": [
    "q = input('Employee number$ and tag number with @ sign-- ')"
   ]
  },
  {
   "cell_type": "code",
   "execution_count": 3,
   "id": "a4de4f81",
   "metadata": {},
   "outputs": [
    {
     "name": "stdout",
     "output_type": "stream",
     "text": [
      "employee name = Aj\n"
     ]
    }
   ],
   "source": [
    "x = input('employee name = ')"
   ]
  },
  {
   "cell_type": "code",
   "execution_count": 4,
   "id": "c631e7cd",
   "metadata": {},
   "outputs": [
    {
     "name": "stdout",
     "output_type": "stream",
     "text": [
      "Employee name = Aj\n"
     ]
    }
   ],
   "source": [
    "x = input('Employee name = ')"
   ]
  },
  {
   "cell_type": "code",
   "execution_count": 13,
   "id": "8d7bb428",
   "metadata": {},
   "outputs": [
    {
     "name": "stdout",
     "output_type": "stream",
     "text": [
      "Even Number: 4\n",
      "Odd Number:  7\n"
     ]
    },
    {
     "ename": "NameError",
     "evalue": "name 'c' is not defined",
     "output_type": "error",
     "traceback": [
      "\u001b[1;31m---------------------------------------------------------------------------\u001b[0m",
      "\u001b[1;31mNameError\u001b[0m                                 Traceback (most recent call last)",
      "Cell \u001b[1;32mIn[13], line 3\u001b[0m\n\u001b[0;32m      1\u001b[0m a \u001b[38;5;241m=\u001b[39m \u001b[38;5;28minput\u001b[39m(\u001b[38;5;124m'\u001b[39m\u001b[38;5;124mEven Number: \u001b[39m\u001b[38;5;124m'\u001b[39m)\n\u001b[0;32m      2\u001b[0m b \u001b[38;5;241m=\u001b[39m \u001b[38;5;28minput\u001b[39m(\u001b[38;5;124m'\u001b[39m\u001b[38;5;124mOdd Number:  \u001b[39m\u001b[38;5;124m'\u001b[39m)\n\u001b[1;32m----> 3\u001b[0m c \u001b[38;5;241m=\u001b[39m a\u001b[38;5;241m+\u001b[39m\u001b[43mc\u001b[49m\n\u001b[0;32m      5\u001b[0m \u001b[38;5;28mprint\u001b[39m(\u001b[38;5;124m'\u001b[39m\u001b[38;5;130;01m\\n\u001b[39;00m\u001b[38;5;124m'\u001b[39m)\n\u001b[0;32m      6\u001b[0m \u001b[38;5;28mprint\u001b[39m(c)\n",
      "\u001b[1;31mNameError\u001b[0m: name 'c' is not defined"
     ]
    }
   ],
   "source": [
    "a = input('Even Number: ')\n",
    "b = input('Odd Number:  ')\n",
    "c = a+c                                  # Typing mistake -- IT SHOULD NOT BE REPEATED\n",
    "\n",
    "print('\\n')\n",
    "print(c)"
   ]
  },
  {
   "cell_type": "code",
   "execution_count": 14,
   "id": "3a39d48e",
   "metadata": {},
   "outputs": [
    {
     "name": "stdout",
     "output_type": "stream",
     "text": [
      "Even Number: 4\n",
      "Odd Number:  7\n",
      "\n",
      "\n",
      "47\n"
     ]
    }
   ],
   "source": [
    "a = input('Even Number: ')\n",
    "b = input('Odd Number:  ')\n",
    "c = a+b                                  # Concatenation – State of being linked together; series of connected items or events.\n",
    "\n",
    "print('\\n')\n",
    "print(c)"
   ]
  },
  {
   "cell_type": "code",
   "execution_count": 4,
   "id": "2a7d6a30",
   "metadata": {},
   "outputs": [
    {
     "ename": "SyntaxError",
     "evalue": "invalid syntax (193105136.py, line 1)",
     "output_type": "error",
     "traceback": [
      "\u001b[1;36m  Cell \u001b[1;32mIn[4], line 1\u001b[1;36m\u001b[0m\n\u001b[1;33m    Best data scientist = input('Enter the Name of the Data Scientist: ')\u001b[0m\n\u001b[1;37m         ^\u001b[0m\n\u001b[1;31mSyntaxError\u001b[0m\u001b[1;31m:\u001b[0m invalid syntax\n"
     ]
    }
   ],
   "source": [
    "Best data scientist = input('Enter the Name of the Data Scientist: ')"
   ]
  },
  {
   "cell_type": "code",
   "execution_count": 6,
   "id": "06d20fb1",
   "metadata": {
    "scrolled": true
   },
   "outputs": [
    {
     "name": "stdout",
     "output_type": "stream",
     "text": [
      "Enter the Name of the Best Data Scientist: AJ\n"
     ]
    }
   ],
   "source": [
    "Best_data_scientist = input('Enter the Name of the Best Data Scientist: ')"
   ]
  },
  {
   "cell_type": "code",
   "execution_count": 2,
   "id": "8c87636b",
   "metadata": {},
   "outputs": [
    {
     "name": "stdout",
     "output_type": "stream",
     "text": [
      "Enter the Name of the Data Scientist: AJ\n",
      "I am, a Scientist\n"
     ]
    }
   ],
   "source": [
    "Scientist = input('Enter the Name of the Data Scientist: ')\n",
    "\n",
    "print('I am, a Scientist')"
   ]
  },
  {
   "cell_type": "code",
   "execution_count": 9,
   "id": "f506ebe9",
   "metadata": {},
   "outputs": [
    {
     "name": "stdout",
     "output_type": "stream",
     "text": [
      "Enter Employee Name: Aj\n",
      "Hello, Aj! Nice to meet you.\n"
     ]
    }
   ],
   "source": [
    "name = input('Enter Employee Name: ')              # take value from a user.\n",
    "print('Hello, ' + name + '! Nice to meet you.')"
   ]
  },
  {
   "cell_type": "code",
   "execution_count": 7,
   "id": "8dcd4e7e",
   "metadata": {},
   "outputs": [
    {
     "name": "stdout",
     "output_type": "stream",
     "text": [
      "Enter Employee Name: AJ\n",
      "Hello, AJ! Nice to meet you\n"
     ]
    }
   ],
   "source": [
    "name = input('Enter Employee Name: ')              # take value from a user.\n",
    "print('Hello, ' + name + '! Nice to meet you')"
   ]
  },
  {
   "cell_type": "code",
   "execution_count": 2,
   "id": "b52f83f4",
   "metadata": {},
   "outputs": [
    {
     "name": "stdout",
     "output_type": "stream",
     "text": [
      "Enter the Name of the Data Scientist: Arjun\n",
      "I am, Scientist\n"
     ]
    }
   ],
   "source": [
    "Scientist = input('Enter the Name of the Data Scientist: ')\n",
    "\n",
    "print('I am, DATA Scientist')\n"
   ]
  },
  {
   "cell_type": "code",
   "execution_count": 3,
   "id": "b3a02c30",
   "metadata": {},
   "outputs": [
    {
     "ename": "SyntaxError",
     "evalue": "unterminated string literal (detected at line 4) (3483424027.py, line 4)",
     "output_type": "error",
     "traceback": [
      "\u001b[1;36m  Cell \u001b[1;32mIn[3], line 4\u001b[1;36m\u001b[0m\n\u001b[1;33m    Father-name = input('Enter Father Name: )\u001b[0m\n\u001b[1;37m                        ^\u001b[0m\n\u001b[1;31mSyntaxError\u001b[0m\u001b[1;31m:\u001b[0m unterminated string literal (detected at line 4)\n"
     ]
    }
   ],
   "source": [
    "Scientist = input('Enter the Name of the Data Scientist: ')\n",
    "Age = input('Enter your Age: ')\n",
    "Salary = input('Enter your Salary: ')\n",
    "Father-name = input('Enter Father Name: )\n",
    "                    \n",
    "print('I am, DATA Scientist')"
   ]
  },
  {
   "cell_type": "code",
   "execution_count": 4,
   "id": "4b85f4f1",
   "metadata": {},
   "outputs": [
    {
     "ename": "SyntaxError",
     "evalue": "cannot assign to expression here. Maybe you meant '==' instead of '='? (3594440524.py, line 4)",
     "output_type": "error",
     "traceback": [
      "\u001b[1;36m  Cell \u001b[1;32mIn[4], line 4\u001b[1;36m\u001b[0m\n\u001b[1;33m    Father-name = input('Enter Father Name: ' )\u001b[0m\n\u001b[1;37m    ^\u001b[0m\n\u001b[1;31mSyntaxError\u001b[0m\u001b[1;31m:\u001b[0m cannot assign to expression here. Maybe you meant '==' instead of '='?\n"
     ]
    }
   ],
   "source": [
    "Scientist = input('Enter the Name of the Data Scientist: ')\n",
    "Age = input('Enter your Age: ')\n",
    "Salary = input('Enter your Salary: ')\n",
    "Father-name = input('Enter Father Name: ' )\n",
    "                    \n",
    "print('I am, Scientist')\n",
    "\n",
    "                    "
   ]
  },
  {
   "cell_type": "code",
   "execution_count": 6,
   "id": "049c61a7",
   "metadata": {
    "scrolled": true
   },
   "outputs": [
    {
     "name": "stdout",
     "output_type": "stream",
     "text": [
      "Enter the Name of the Data Scientist: Arjun\n",
      "Enter your Age: 40 years\n",
      "Enter your Salary: 50 lakhs per month\n"
     ]
    },
    {
     "ename": "NameError",
     "evalue": "name 'Father' is not defined",
     "output_type": "error",
     "traceback": [
      "\u001b[1;31m---------------------------------------------------------------------------\u001b[0m",
      "\u001b[1;31mNameError\u001b[0m                                 Traceback (most recent call last)",
      "Cell \u001b[1;32mIn[6], line 4\u001b[0m\n\u001b[0;32m      2\u001b[0m Age \u001b[38;5;241m=\u001b[39m \u001b[38;5;28minput\u001b[39m(\u001b[38;5;124m'\u001b[39m\u001b[38;5;124mEnter your Age: \u001b[39m\u001b[38;5;124m'\u001b[39m)\n\u001b[0;32m      3\u001b[0m Salary \u001b[38;5;241m=\u001b[39m \u001b[38;5;28minput\u001b[39m(\u001b[38;5;124m'\u001b[39m\u001b[38;5;124mEnter your Salary: \u001b[39m\u001b[38;5;124m'\u001b[39m)\n\u001b[1;32m----> 4\u001b[0m \u001b[43mFather\u001b[49m\u001b[38;5;241m-\u001b[39mname \u001b[38;5;241m==\u001b[39m \u001b[38;5;28minput\u001b[39m(\u001b[38;5;124m'\u001b[39m\u001b[38;5;124mEnter Father Name: \u001b[39m\u001b[38;5;124m'\u001b[39m )\n\u001b[0;32m      6\u001b[0m \u001b[38;5;28mprint\u001b[39m(\u001b[38;5;124m'\u001b[39m\u001b[38;5;124mI am, Scientist\u001b[39m\u001b[38;5;124m'\u001b[39m)\n",
      "\u001b[1;31mNameError\u001b[0m: name 'Father' is not defined"
     ]
    }
   ],
   "source": [
    "Scientist = input('Enter the Name of the Data Scientist: ')\n",
    "Age = input('Enter your Age: ')\n",
    "Salary = input('Enter your Salary: ')\n",
    "Father-name == input('Enter Father Name: ' )\n",
    "                    \n",
    "print('I am, Scientist')\n",
    "\n",
    "                    "
   ]
  },
  {
   "cell_type": "code",
   "execution_count": 7,
   "id": "0f51c229",
   "metadata": {},
   "outputs": [
    {
     "name": "stdout",
     "output_type": "stream",
     "text": [
      "Enter the Name of the Data Scientist: Arjun\n",
      "Enter your Age: 40\n",
      "Enter your Salary: 50 lakh\n"
     ]
    },
    {
     "ename": "NameError",
     "evalue": "name 'Father' is not defined",
     "output_type": "error",
     "traceback": [
      "\u001b[1;31m---------------------------------------------------------------------------\u001b[0m",
      "\u001b[1;31mNameError\u001b[0m                                 Traceback (most recent call last)",
      "Cell \u001b[1;32mIn[7], line 4\u001b[0m\n\u001b[0;32m      2\u001b[0m Age \u001b[38;5;241m=\u001b[39m \u001b[38;5;28minput\u001b[39m(\u001b[38;5;124m'\u001b[39m\u001b[38;5;124mEnter your Age: \u001b[39m\u001b[38;5;124m'\u001b[39m)\n\u001b[0;32m      3\u001b[0m Salary \u001b[38;5;241m=\u001b[39m \u001b[38;5;28minput\u001b[39m(\u001b[38;5;124m'\u001b[39m\u001b[38;5;124mEnter your Salary: \u001b[39m\u001b[38;5;124m'\u001b[39m)\n\u001b[1;32m----> 4\u001b[0m \u001b[43mFather\u001b[49m\u001b[38;5;241m-\u001b[39mname \u001b[38;5;241m==\u001b[39m \u001b[38;5;28minput\u001b[39m(\u001b[38;5;124m'\u001b[39m\u001b[38;5;124mEnter Father-Name: \u001b[39m\u001b[38;5;124m'\u001b[39m )\n\u001b[0;32m      6\u001b[0m \u001b[38;5;28mprint\u001b[39m(\u001b[38;5;124m'\u001b[39m\u001b[38;5;124mI am, Scientist\u001b[39m\u001b[38;5;124m'\u001b[39m)\n",
      "\u001b[1;31mNameError\u001b[0m: name 'Father' is not defined"
     ]
    }
   ],
   "source": [
    "Scientist = input('Enter the Name of the Data Scientist: ')\n",
    "Age = input('Enter your Age: ')\n",
    "Salary = input('Enter your Salary: ')\n",
    "Father-name == input('Enter Father-Name: ' )\n",
    "                    \n",
    "print('I am, Scientist')\n",
    "\n",
    "                    "
   ]
  },
  {
   "cell_type": "code",
   "execution_count": 8,
   "id": "d208fd17",
   "metadata": {
    "scrolled": true
   },
   "outputs": [
    {
     "name": "stdout",
     "output_type": "stream",
     "text": [
      "Enter the Name of the Data Scientist: Arjun\n",
      "Enter your Age: 40\n",
      "Enter your Salary: 50\n"
     ]
    },
    {
     "ename": "NameError",
     "evalue": "name 'Father_name' is not defined",
     "output_type": "error",
     "traceback": [
      "\u001b[1;31m---------------------------------------------------------------------------\u001b[0m",
      "\u001b[1;31mNameError\u001b[0m                                 Traceback (most recent call last)",
      "Cell \u001b[1;32mIn[8], line 4\u001b[0m\n\u001b[0;32m      2\u001b[0m Age \u001b[38;5;241m=\u001b[39m \u001b[38;5;28minput\u001b[39m(\u001b[38;5;124m'\u001b[39m\u001b[38;5;124mEnter your Age: \u001b[39m\u001b[38;5;124m'\u001b[39m)\n\u001b[0;32m      3\u001b[0m Salary \u001b[38;5;241m=\u001b[39m \u001b[38;5;28minput\u001b[39m(\u001b[38;5;124m'\u001b[39m\u001b[38;5;124mEnter your Salary: \u001b[39m\u001b[38;5;124m'\u001b[39m)\n\u001b[1;32m----> 4\u001b[0m \u001b[43mFather_name\u001b[49m \u001b[38;5;241m==\u001b[39m \u001b[38;5;28minput\u001b[39m(\u001b[38;5;124m'\u001b[39m\u001b[38;5;124mEnter Father_Name: \u001b[39m\u001b[38;5;124m'\u001b[39m )\n\u001b[0;32m      6\u001b[0m \u001b[38;5;28mprint\u001b[39m(\u001b[38;5;124m'\u001b[39m\u001b[38;5;124mI am, Scientist\u001b[39m\u001b[38;5;124m'\u001b[39m)\n",
      "\u001b[1;31mNameError\u001b[0m: name 'Father_name' is not defined"
     ]
    }
   ],
   "source": [
    "Scientist = input('Enter the Name of the Data Scientist: ')\n",
    "Age = input('Enter your Age: ')\n",
    "Salary = input('Enter your Salary: ')\n",
    "Father_name == input('Enter Father_Name: ' )\n",
    "                    \n",
    "print('I am, Scientist')\n",
    "\n",
    "                    "
   ]
  },
  {
   "cell_type": "code",
   "execution_count": 9,
   "id": "7f8a871c",
   "metadata": {},
   "outputs": [
    {
     "name": "stdout",
     "output_type": "stream",
     "text": [
      "Enter the Name of the Data Scientist: arjun\n",
      "Enter your Age: 40\n",
      "Enter your Salary: 50\n",
      "Enter Father Name: Late Shri S.K. Gupta\n",
      "I am, Scientist\n"
     ]
    }
   ],
   "source": [
    "Scientist = input('Enter the Name of the Data Scientist: ')\n",
    "Age = input('Enter your Age: ')\n",
    "Salary = input('Enter your Salary: ')\n",
    "Father = input('Enter Father Name: ' )\n",
    "                    \n",
    "print('I am, Scientist')\n",
    "\n",
    "                    "
   ]
  },
  {
   "cell_type": "code",
   "execution_count": 10,
   "id": "4cedf6b2",
   "metadata": {
    "scrolled": true
   },
   "outputs": [
    {
     "name": "stdout",
     "output_type": "stream",
     "text": [
      "Enter the Name of the Data Scientist: Arjun\n",
      "Enter your Age: 40\n",
      "Enter your Salary: 50\n",
      "Enter Father Name: SK Gupta\n",
      "\n",
      "\n",
      "I am, Scientist\n",
      "My age is, Age\n",
      "My Salary is: \n",
      "My Father name is\n"
     ]
    }
   ],
   "source": [
    "Scientist = input('Enter the Name of the Data Scientist: ')\n",
    "Age = input('Enter your Age: ')\n",
    "Salary = input('Enter your Salary: ')\n",
    "Father = input('Enter Father Name: ' )\n",
    "                    \n",
    "# print all the fields\n",
    "print('\\n')\n",
    "print('I am, Scientist')\n",
    "print('My age is, Age')\n",
    "print('My Salary is: ')\n",
    "print('My Father name is')\n",
    "                    "
   ]
  },
  {
   "cell_type": "code",
   "execution_count": 13,
   "id": "b46129ef",
   "metadata": {
    "scrolled": true
   },
   "outputs": [
    {
     "name": "stdout",
     "output_type": "stream",
     "text": [
      "Enter the Name of the Data Scientist: Arjun\n",
      "Enter your Age: 40\n",
      "Enter your Salary: 50\n",
      "Enter Father Name: SK GUPTA\n",
      "I am, Arjun\n",
      "My age is: \n",
      "My Salary is: \n",
      "My Father name is: \n"
     ]
    }
   ],
   "source": [
    "Scientist = input('Enter the Name of the Data Scientist: ')\n",
    "Age = input('Enter your Age: ')\n",
    "Salary = input('Enter your Salary: ')\n",
    "Father = input('Enter Father Name: ' )\n",
    "                    \n",
    "# print all the fields\n",
    "\n",
    "print('I am, Arjun')\n",
    "print('My age is: ')\n",
    "print('My Salary is: ')\n",
    "print('My Father name is: ')\n",
    "                    "
   ]
  },
  {
   "cell_type": "code",
   "execution_count": 14,
   "id": "9cc9587a",
   "metadata": {},
   "outputs": [
    {
     "name": "stdout",
     "output_type": "stream",
     "text": [
      "Workdone in Morning: Cleaned Cooler\n"
     ]
    }
   ],
   "source": [
    "# Work done today.\n",
    "\n",
    "Morning = input('Workdone in Morning: ')\n"
   ]
  },
  {
   "cell_type": "code",
   "execution_count": 15,
   "id": "4d336034",
   "metadata": {
    "scrolled": true
   },
   "outputs": [
    {
     "name": "stdout",
     "output_type": "stream",
     "text": [
      "Enter Employee Name: Human\n",
      "Enter salary: 40\n",
      "Enter company name: Thanos\n",
      "\n",
      "\n",
      "Print Employee Details\n",
      "Name Salary Company\n",
      "Human 40 Thanos\n",
      "Human\n"
     ]
    },
    {
     "data": {
      "text/plain": [
       "NoneType"
      ]
     },
     "execution_count": 15,
     "metadata": {},
     "output_type": "execute_result"
    }
   ],
   "source": [
    "# Take three values from user\n",
    "name = input('Enter Employee Name: ')\n",
    "salary = input('Enter salary: ')\n",
    "company = input('Enter company name: ')\n",
    "\n",
    "# Display all Values on the screen\n",
    "print('\\n') # Next line\n",
    "print('Print Employee Details')\n",
    "print('Name' , 'Salary' , 'Company')\n",
    "print(name, salary, company)\n",
    "type(print(name))"
   ]
  },
  {
   "cell_type": "code",
   "execution_count": 16,
   "id": "6fa2a2a1",
   "metadata": {},
   "outputs": [
    {
     "name": "stdout",
     "output_type": "stream",
     "text": [
      "Enter Employee Name: AJ\n",
      "Enter salary: 40\n",
      "Enter company name: Thanos\n",
      "\n",
      "\n",
      "Print Employee Details\n",
      "Name Salary Company\n"
     ]
    }
   ],
   "source": [
    "# Take three values from user\n",
    "name = input('Enter Employee Name: ')\n",
    "salary = input('Enter salary: ')\n",
    "company = input('Enter company name: ')\n",
    "\n",
    "# Display all Values on the screen\n",
    "print('\\n') # Next line\n",
    "print('Print Employee Details')\n",
    "print('Name' , 'Salary' , 'Company')\n"
   ]
  },
  {
   "cell_type": "code",
   "execution_count": 1,
   "id": "82dd6022",
   "metadata": {},
   "outputs": [
    {
     "name": "stdout",
     "output_type": "stream",
     "text": [
      "Enter Employee Name: Aj\n",
      "Enter salary: 1111111111111\n",
      "Enter company name: tt\n",
      "\n",
      "\n",
      "Print Employee Details\n",
      "Name Salary Company\n",
      "Aj 1111111111111 tt\n",
      "Aj\n"
     ]
    },
    {
     "data": {
      "text/plain": [
       "NoneType"
      ]
     },
     "execution_count": 1,
     "metadata": {},
     "output_type": "execute_result"
    }
   ],
   "source": [
    "# Take three values from user\n",
    "name = input('Enter Employee Name: ')\n",
    "salary = input('Enter salary: ')\n",
    "company = input('Enter company name: ')\n",
    "\n",
    "# Display all Values on the screen\n",
    "print('\\n') # Next line\n",
    "print('Print Employee Details')\n",
    "print('Name' , 'Salary' , 'Company')\n",
    "print(name, salary, company) # print data horizontally.\n",
    "type(print(name))"
   ]
  },
  {
   "cell_type": "code",
   "execution_count": 18,
   "id": "897e4f52",
   "metadata": {},
   "outputs": [
    {
     "name": "stdout",
     "output_type": "stream",
     "text": [
      "1 2 3 4 5\n"
     ]
    }
   ],
   "source": [
    "print(1,2,3,4,5)"
   ]
  },
  {
   "cell_type": "code",
   "execution_count": 19,
   "id": "2721ddb7",
   "metadata": {},
   "outputs": [
    {
     "ename": "SyntaxError",
     "evalue": "unexpected character after line continuation character (1092502950.py, line 10)",
     "output_type": "error",
     "traceback": [
      "\u001b[1;36m  Cell \u001b[1;32mIn[19], line 10\u001b[1;36m\u001b[0m\n\u001b[1;33m    print(name, \\nsalary, \\ncompany)\u001b[0m\n\u001b[1;37m                 ^\u001b[0m\n\u001b[1;31mSyntaxError\u001b[0m\u001b[1;31m:\u001b[0m unexpected character after line continuation character\n"
     ]
    }
   ],
   "source": [
    "                                         # Take three values from user\n",
    "    \n",
    "name = input('Enter Employee Name: ')\n",
    "salary = input('Enter salary: ')\n",
    "company = input('Enter company name: ')\n",
    "\n",
    "                                        # Display all Values on the screen\n",
    "print('\\n') # Next line\n",
    "print('Print Employee Details')\n",
    "print('Name' , 'Salary' , 'Company')\n",
    "print(name, \\nsalary, \\ncompany)\n",
    "type(print(name))"
   ]
  },
  {
   "cell_type": "code",
   "execution_count": 20,
   "id": "b6d8ab5a",
   "metadata": {},
   "outputs": [
    {
     "ename": "SyntaxError",
     "evalue": "unexpected character after line continuation character (4224597115.py, line 10)",
     "output_type": "error",
     "traceback": [
      "\u001b[1;36m  Cell \u001b[1;32mIn[20], line 10\u001b[1;36m\u001b[0m\n\u001b[1;33m    print(name, \\n salary, \\n company)\u001b[0m\n\u001b[1;37m                 ^\u001b[0m\n\u001b[1;31mSyntaxError\u001b[0m\u001b[1;31m:\u001b[0m unexpected character after line continuation character\n"
     ]
    }
   ],
   "source": [
    "# Take three values from user\n",
    "name = input('Enter Employee Name: ')\n",
    "salary = input('Enter salary: ')\n",
    "company = input('Enter company name: ')\n",
    "\n",
    "# Display all Values on the screen\n",
    "print('\\n') # Next line\n",
    "print('Print Employee Details')\n",
    "print('Name' , 'Salary' , 'Company')\n",
    "print(name, \\n salary, \\n company)\n",
    "type(print(name))"
   ]
  },
  {
   "cell_type": "code",
   "execution_count": 21,
   "id": "c1a11f22",
   "metadata": {
    "scrolled": true
   },
   "outputs": [
    {
     "name": "stdout",
     "output_type": "stream",
     "text": [
      "Enter Employee Name: AJ\n",
      "Enter salary: 40\n",
      "Enter company name: TH\n",
      "\n",
      "\n",
      "Print Employee Details\n",
      "Name Salary Company\n",
      "AJ 40 TH\n"
     ]
    }
   ],
   "source": [
    "# Take three values from user\n",
    "name = input('Enter Employee Name: ')\n",
    "salary = input('Enter salary: ')\n",
    "company = input('Enter company name: ')\n",
    "\n",
    "# Display all Values on the screen\n",
    "print('\\n') # Next line\n",
    "print('Print Employee Details')\n",
    "print('Name' , 'Salary' , 'Company')\n",
    "print(name,\n",
    "      salary,\n",
    "      company)\n"
   ]
  },
  {
   "cell_type": "code",
   "execution_count": 22,
   "id": "32001fab",
   "metadata": {},
   "outputs": [
    {
     "ename": "SyntaxError",
     "evalue": "invalid syntax. Perhaps you forgot a comma? (985242321.py, line 10)",
     "output_type": "error",
     "traceback": [
      "\u001b[1;36m  Cell \u001b[1;32mIn[22], line 10\u001b[1;36m\u001b[0m\n\u001b[1;33m    print(name,'\\n'salary, '\\n' company)\u001b[0m\n\u001b[1;37m               ^\u001b[0m\n\u001b[1;31mSyntaxError\u001b[0m\u001b[1;31m:\u001b[0m invalid syntax. Perhaps you forgot a comma?\n"
     ]
    }
   ],
   "source": [
    "# Take three values from user\n",
    "name = input('Enter Employee Name: ')\n",
    "salary = input('Enter salary: ')\n",
    "company = input('Enter company name: ')\n",
    "\n",
    "# Display all Values on the screen\n",
    "print('\\n') # Next line\n",
    "print('Print Employee Details')\n",
    "print('Name' , 'Salary' , 'Company')\n",
    "print(name,'\\n'salary, '\\n' company)\n"
   ]
  },
  {
   "cell_type": "code",
   "execution_count": 23,
   "id": "9df03217",
   "metadata": {},
   "outputs": [
    {
     "name": "stdout",
     "output_type": "stream",
     "text": [
      "Enter Employee Name: Aj\n",
      "Enter salary: 40\n",
      "Enter company name: TH\n",
      "\n",
      "\n",
      "Print Employee Details\n",
      "Name \n",
      " Salary  \n",
      " Company\n",
      "Aj 40 TH\n"
     ]
    }
   ],
   "source": [
    "# Take three values from user\n",
    "name = input('Enter Employee Name: ')\n",
    "salary = input('Enter salary: ')\n",
    "company = input('Enter company name: ')\n",
    "\n",
    "# Display all Values on the screen\n",
    "print('\\n') # Next line\n",
    "print('Print Employee Details')\n",
    "print('Name' , '\\n Salary' , ' \\n Company')\n",
    "print(name, salary, company)\n"
   ]
  },
  {
   "cell_type": "code",
   "execution_count": 24,
   "id": "66058550",
   "metadata": {},
   "outputs": [
    {
     "ename": "SyntaxError",
     "evalue": "invalid syntax. Perhaps you forgot a comma? (2243579242.py, line 10)",
     "output_type": "error",
     "traceback": [
      "\u001b[1;36m  Cell \u001b[1;32mIn[24], line 10\u001b[1;36m\u001b[0m\n\u001b[1;33m    print(name,'\\n' salary, '\\n' company)\u001b[0m\n\u001b[1;37m               ^\u001b[0m\n\u001b[1;31mSyntaxError\u001b[0m\u001b[1;31m:\u001b[0m invalid syntax. Perhaps you forgot a comma?\n"
     ]
    }
   ],
   "source": [
    "# Take three values from user\n",
    "name = input('Enter Employee Name: ')\n",
    "salary = input('Enter salary: ')\n",
    "company = input('Enter company name: ')\n",
    "\n",
    "# Display all Values on the screen\n",
    "print('\\n') # Next line\n",
    "print('Print Employee Details')\n",
    "print('Name' , '\\n Salary' , ' \\n Company')\n",
    "print(name,'\\n' salary, '\\n' company)\n"
   ]
  },
  {
   "cell_type": "code",
   "execution_count": 1,
   "id": "216fcea8",
   "metadata": {},
   "outputs": [
    {
     "name": "stdout",
     "output_type": "stream",
     "text": [
      "Enter Employee Name: AJ\n",
      "Enter salary: 1cr\n",
      "Enter company name: Thanos\n",
      "\n",
      "\n",
      "Print Employee Details\n",
      "Name \n",
      " Salary  \n",
      " Company\n",
      "AJ 1cr Thanos\n"
     ]
    }
   ],
   "source": [
    "# Take three values from user\n",
    "name = input('Enter Employee Name: ')\n",
    "salary = input('Enter salary: ')\n",
    "company = input('Enter company name: ')\n",
    "\n",
    "# Display all Values on the screen\n",
    "print('\\n') # Next line\n",
    "print('Print Employee Details')\n",
    "print('Name' , '\\n Salary' , ' \\n Company')\n",
    "print(name,   salary,   company)\n"
   ]
  },
  {
   "cell_type": "code",
   "execution_count": 2,
   "id": "903a455c",
   "metadata": {},
   "outputs": [
    {
     "name": "stdout",
     "output_type": "stream",
     "text": [
      "Enter Employee Name: AJ\n",
      "Enter salary: 1cr\n",
      "Enter company name: Thanos\n",
      "\n",
      "\n",
      "Print Employee Details\n",
      "Name \n",
      " Salary \n",
      " Company\n",
      "AJ 1cr Thanos\n"
     ]
    }
   ],
   "source": [
    "           # Take three values from user\n",
    "name = input('Enter Employee Name: ')\n",
    "salary = input('Enter salary: ')\n",
    "company = input('Enter Company name: ')\n",
    "\n",
    "           # Display all Values on the screen\n",
    "print('\\n')                                       # Next line\n",
    "print('Print Employee Details')\n",
    "print('Name','\\n Salary','\\n Company')\n",
    "print(name,   salary,   company)"
   ]
  },
  {
   "cell_type": "code",
   "execution_count": 3,
   "id": "cf77dd10",
   "metadata": {},
   "outputs": [
    {
     "name": "stdout",
     "output_type": "stream",
     "text": [
      "Enter Employee Name: AJ\n",
      "Enter salary: 1cr\n",
      "Enter Company name: Thanos\n",
      "\n",
      "\n",
      "Print Employee Details\n",
      "Name \n",
      " Salary \n",
      " Company\n",
      "AJ 1cr Thanos\n"
     ]
    }
   ],
   "source": [
    "           # Take three values from user\n",
    "name = input('Enter Employee Name: ')\n",
    "salary = input('Enter salary: ')\n",
    "company = input('Enter Company name: ')\n",
    "\n",
    "           # Display all Values on the screen   --- Print horizontally\n",
    "print('\\n')                                       # Next line\n",
    "print('Print Employee Details')\n",
    "print('Name','\\n Salary','\\n Company')\n",
    "print(name,   \n",
    "      salary,   \n",
    "      company)"
   ]
  },
  {
   "cell_type": "code",
   "execution_count": 4,
   "id": "ee74405f",
   "metadata": {},
   "outputs": [
    {
     "name": "stdout",
     "output_type": "stream",
     "text": [
      "Enter Employee Name: Aj\n",
      "Enter salary: 1cr\n",
      "Enter Company name: Thanos\n",
      "\n",
      "\n",
      "Print Employee Details\n",
      "Name Aj\n",
      "Salary 1cr\n",
      "Company Thanos\n"
     ]
    }
   ],
   "source": [
    "           # Take three values from user  --- \n",
    "name = input('Enter Employee Name: ')\n",
    "salary = input('Enter salary: ')\n",
    "company = input('Enter Company name: ')\n",
    "\n",
    "           # Display all Values on the screen  --- Print vertically\n",
    "print('\\n')                                       # Next line\n",
    "print('Print Employee Details')\n",
    "print('Name',name)\n",
    "print('Salary', salary)\n",
    "print('Company', company)"
   ]
  },
  {
   "cell_type": "code",
   "execution_count": 5,
   "id": "69455401",
   "metadata": {},
   "outputs": [
    {
     "name": "stdout",
     "output_type": "stream",
     "text": [
      "Enter Employee Name: Aj\n",
      "Enter salary: 1cr\n",
      "Enter Company name: Thanos\n",
      "\n",
      "\n",
      "Print Employee Details\n",
      "Name     Aj\n",
      "Salary   1cr\n",
      "Company  Thanos\n"
     ]
    }
   ],
   "source": [
    "           # Take three values from user  --- \n",
    "name = input('Enter Employee Name: ')\n",
    "salary = input('Enter salary: ')\n",
    "company = input('Enter Company name: ')\n",
    "\n",
    "           # Display all Values on the screen  --- Print vertically\n",
    "print('\\n')                                       # Next line\n",
    "print('Print Employee Details')\n",
    "print('Name    ',name)\n",
    "print('Salary  ', salary)\n",
    "print('Company ', company)"
   ]
  },
  {
   "cell_type": "code",
   "execution_count": 6,
   "id": "b4381356",
   "metadata": {},
   "outputs": [
    {
     "name": "stdout",
     "output_type": "stream",
     "text": [
      "Enter Employee Name: Aj\n",
      "Enter salary: 1cr\n",
      "Enter Company name: Thanos\n",
      "\n",
      "\n",
      "Print Employee Details\n",
      "Name -\t   Aj\n",
      "Salary-\t  1cr\n",
      "Company-\t Thanos\n"
     ]
    }
   ],
   "source": [
    "# Take three values from user  --- \n",
    "name = input('Enter Employee Name: ')\n",
    "salary = input('Enter salary: ')\n",
    "company = input('Enter Company name: ')\n",
    "\n",
    "           # Display all Values on the screen  --- Print vertically\n",
    "print('\\n')                                       # Next line\n",
    "print('Print Employee Details')\n",
    "print('Name -\\t  ',name)\n",
    "print('Salary-\\t ',salary)\n",
    "print('Company-\\t',company)"
   ]
  },
  {
   "cell_type": "code",
   "execution_count": 7,
   "id": "ca988a61",
   "metadata": {},
   "outputs": [
    {
     "name": "stdout",
     "output_type": "stream",
     "text": [
      "Enter Employee Name: Aj\n",
      "Enter salary: 1cr\n",
      "Enter Company name: Thanos\n",
      "\n",
      "\n",
      "Print Employee Details\n",
      "Name\t -\t   Aj\n",
      "Salary\t-\t  1cr\n",
      "Company\t-\t Thanos\n"
     ]
    }
   ],
   "source": [
    "           # Take three values from user  --- \n",
    "name = input('Enter Employee Name: ')\n",
    "salary = input('Enter salary: ')\n",
    "company = input('Enter Company name: ')\n",
    "\n",
    "           # Display all Values on the screen  --- Print vertically\n",
    "print('\\n')                                       # Next line\n",
    "print('Print Employee Details')\n",
    "print('Name\\t -\\t ',name)\n",
    "print('Salary\\t-\\t ',salary)\n",
    "print('Company\\t-\\t',company)"
   ]
  },
  {
   "cell_type": "code",
   "execution_count": 8,
   "id": "bc0a9b37",
   "metadata": {},
   "outputs": [
    {
     "name": "stdout",
     "output_type": "stream",
     "text": [
      "Enter Employee Name: Aj\n",
      "Enter salary: 1cr\n",
      "Enter Company name: Thanos\n",
      "\n",
      "\n",
      "Print Employee Details\n",
      "Name\t-\t Aj\n",
      "Salary\t-\t 1cr\n",
      "Company\t-\t Thanos\n"
     ]
    }
   ],
   "source": [
    "# Take three values from user  --- \n",
    "name = input('Enter Employee Name: ')\n",
    "salary = input('Enter salary: ')\n",
    "company = input('Enter Company name: ')\n",
    "\n",
    "           # Display all Values on the screen  --- Print vertically\n",
    "print('\\n')                                       # Next line\n",
    "print('Print Employee Details')\n",
    "print('Name\\t-\\t',name)\n",
    "print('Salary\\t-\\t',salary)\n",
    "print('Company\\t-\\t',company)"
   ]
  },
  {
   "cell_type": "code",
   "execution_count": 9,
   "id": "efbf505c",
   "metadata": {
    "scrolled": true
   },
   "outputs": [
    {
     "ename": "SyntaxError",
     "evalue": "invalid syntax (2670486368.py, line 1)",
     "output_type": "error",
     "traceback": [
      "\u001b[1;36m  Cell \u001b[1;32mIn[9], line 1\u001b[1;36m\u001b[0m\n\u001b[1;33m    even = input(x = )\u001b[0m\n\u001b[1;37m                     ^\u001b[0m\n\u001b[1;31mSyntaxError\u001b[0m\u001b[1;31m:\u001b[0m invalid syntax\n"
     ]
    }
   ],
   "source": [
    "even = input(x = )\n",
    "odd  = input(y = )\n"
   ]
  },
  {
   "cell_type": "code",
   "execution_count": 10,
   "id": "e2f0a7d4",
   "metadata": {},
   "outputs": [
    {
     "name": "stdout",
     "output_type": "stream",
     "text": [
      "Even Number7\n",
      "Odd Number6\n",
      "\n",
      "\n",
      "76\n"
     ]
    }
   ],
   "source": [
    "x=input('Even Number')\n",
    "y=input('Odd Number')\n",
    "Z=x+y\n",
    "\n",
    "print('\\n')\n",
    "print(Z)"
   ]
  },
  {
   "cell_type": "code",
   "execution_count": 11,
   "id": "e57d20fe",
   "metadata": {},
   "outputs": [
    {
     "name": "stdout",
     "output_type": "stream",
     "text": [
      "Even Number: 8\n",
      "Odd Number:  5\n",
      "\n",
      "\n",
      "85\n"
     ]
    }
   ],
   "source": [
    "x=input('Even Number: ')          \n",
    "y=input('Odd Number:  ')\n",
    "Z=x+y\n",
    "\n",
    "print('\\n')\n",
    "print(Z)                  # Concatenation"
   ]
  },
  {
   "cell_type": "code",
   "execution_count": null,
   "id": "d81bc11f",
   "metadata": {},
   "outputs": [],
   "source": []
  }
 ],
 "metadata": {
  "kernelspec": {
   "display_name": "Python 3 (ipykernel)",
   "language": "python",
   "name": "python3"
  },
  "language_info": {
   "codemirror_mode": {
    "name": "ipython",
    "version": 3
   },
   "file_extension": ".py",
   "mimetype": "text/x-python",
   "name": "python",
   "nbconvert_exporter": "python",
   "pygments_lexer": "ipython3",
   "version": "3.10.9"
  }
 },
 "nbformat": 4,
 "nbformat_minor": 5
}
