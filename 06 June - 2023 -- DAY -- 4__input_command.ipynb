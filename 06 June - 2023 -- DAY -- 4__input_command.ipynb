{
 "cells": [
  {
   "cell_type": "code",
   "execution_count": null,
   "id": "c7ce018f",
   "metadata": {},
   "outputs": [],
   "source": [
    "x = input(\"What is your name: \")\n",
    "y = input(\"What is your age: \")\n",
    "z = input(\"What is my address: \")\n",
    "\n",
    "q = x + y + z\n"
   ]
  },
  {
   "cell_type": "markdown",
   "id": "1c589cbd",
   "metadata": {},
   "source": [
    "### I though that this q is in english - BUT q is now the part of PYthon that is -- a string now."
   ]
  },
  {
   "cell_type": "code",
   "execution_count": null,
   "id": "dc300f3d",
   "metadata": {},
   "outputs": [],
   "source": [
    "x = input(\"What is your name: \")\n",
    "y = input(\"What is your age: \")\n",
    "z = input(\"What is my address: \")\n",
    "\n",
    "q = x + y + z               # I though that this q is in english - BUT q is now the part of PYthon that is -- a string now.\n",
    "print(\"q\")"
   ]
  },
  {
   "cell_type": "markdown",
   "id": "b2e0bf77",
   "metadata": {},
   "source": [
    "### q is a string now."
   ]
  },
  {
   "cell_type": "code",
   "execution_count": null,
   "id": "a8d41c6b",
   "metadata": {},
   "outputs": [],
   "source": [
    "x = input(\"What is your name: \")\n",
    "y = input(\"What is your age: \")\n",
    "z = input(\"What is my address: \")\n",
    "\n",
    "q = x + y + z\n",
    "print(q)                     # q is a string now."
   ]
  },
  {
   "cell_type": "markdown",
   "id": "113afd04",
   "metadata": {},
   "source": [
    "# in input we define things.\n",
    "# in print we write predefined things.\n",
    "\n",
    "\n",
    "- rapid typing."
   ]
  },
  {
   "cell_type": "code",
   "execution_count": null,
   "id": "4e7add33",
   "metadata": {},
   "outputs": [],
   "source": [
    "x = input(\"What is my goal:  \")\n",
    "print(x)\n",
    "y = input(\"What is my goal2: \")\n",
    "print(y)\n",
    "z = input(\"What is my goal3: \")\n",
    "print(z)\n",
    "\n",
    "w = x + y + z\n",
    "print(w)"
   ]
  },
  {
   "cell_type": "code",
   "execution_count": 1,
   "id": "c624d2a2",
   "metadata": {},
   "outputs": [
    {
     "ename": "SyntaxError",
     "evalue": "invalid syntax. Perhaps you forgot a comma? (2873535535.py, line 9)",
     "output_type": "error",
     "traceback": [
      "\u001b[1;36m  Cell \u001b[1;32mIn[1], line 9\u001b[1;36m\u001b[0m\n\u001b[1;33m    print(\"\\n\" w)\u001b[0m\n\u001b[1;37m          ^\u001b[0m\n\u001b[1;31mSyntaxError\u001b[0m\u001b[1;31m:\u001b[0m invalid syntax. Perhaps you forgot a comma?\n"
     ]
    }
   ],
   "source": [
    "x = input(\"What is my goal:  \")\n",
    "print(x)\n",
    "y = input(\"What is my goal2: \")\n",
    "print(y)\n",
    "z = input(\"What is my goal3: \")\n",
    "print(z)\n",
    "\n",
    "w = x + y + z\n",
    "print(\"\\n\" w)\n"
   ]
  },
  {
   "cell_type": "code",
   "execution_count": null,
   "id": "a104ee15",
   "metadata": {},
   "outputs": [],
   "source": [
    "x = input(\"What is my goal:  \")\n",
    "print(x)\n",
    "y = input(\"What is my goal2: \")\n",
    "print(y)\n",
    "z = input(\"What is my goal3: \")\n",
    "print(z)\n",
    "\n",
    "w = x + y + z\n",
    "print(\"\\n\" , w)"
   ]
  },
  {
   "cell_type": "code",
   "execution_count": null,
   "id": "90c2334e",
   "metadata": {},
   "outputs": [],
   "source": []
  },
  {
   "cell_type": "code",
   "execution_count": null,
   "id": "bd2ff7c9",
   "metadata": {},
   "outputs": [],
   "source": []
  },
  {
   "cell_type": "code",
   "execution_count": null,
   "id": "6f03947e",
   "metadata": {},
   "outputs": [],
   "source": []
  },
  {
   "cell_type": "code",
   "execution_count": null,
   "id": "1cb79396",
   "metadata": {},
   "outputs": [],
   "source": []
  },
  {
   "cell_type": "code",
   "execution_count": 1,
   "id": "5b6c8b09",
   "metadata": {},
   "outputs": [
    {
     "name": "stdout",
     "output_type": "stream",
     "text": [
      "22int\n",
      "<class 'str'>\n"
     ]
    }
   ],
   "source": [
    "x = input('22')     #  input any Data into the input command and then check Data type.\n",
    "print(type(x))"
   ]
  },
  {
   "cell_type": "code",
   "execution_count": 2,
   "id": "17957047",
   "metadata": {
    "scrolled": false
   },
   "outputs": [
    {
     "name": "stdout",
     "output_type": "stream",
     "text": [
      "22AJ\n",
      "<class 'str'>\n"
     ]
    },
    {
     "ename": "ValueError",
     "evalue": "invalid literal for int() with base 10: 'AJ'",
     "output_type": "error",
     "traceback": [
      "\u001b[1;31m---------------------------------------------------------------------------\u001b[0m",
      "\u001b[1;31mValueError\u001b[0m                                Traceback (most recent call last)",
      "Cell \u001b[1;32mIn[2], line 3\u001b[0m\n\u001b[0;32m      1\u001b[0m x \u001b[38;5;241m=\u001b[39m \u001b[38;5;28minput\u001b[39m(\u001b[38;5;124m'\u001b[39m\u001b[38;5;124m22\u001b[39m\u001b[38;5;124m'\u001b[39m)    \u001b[38;5;66;03m#  input any Data into the input command and then check Data type, now change that data into integer again.\u001b[39;00m\n\u001b[0;32m      2\u001b[0m \u001b[38;5;28mprint\u001b[39m(\u001b[38;5;28mtype\u001b[39m(x))\n\u001b[1;32m----> 3\u001b[0m \u001b[38;5;28;43mint\u001b[39;49m\u001b[43m(\u001b[49m\u001b[43mx\u001b[49m\u001b[43m)\u001b[49m\n",
      "\u001b[1;31mValueError\u001b[0m: invalid literal for int() with base 10: 'AJ'"
     ]
    }
   ],
   "source": [
    "x = input('22')    #  input any Data into the input command and then check Data type, now change that data into integer again.\n",
    "print(type(x))\n",
    "int(x)"
   ]
  },
  {
   "cell_type": "code",
   "execution_count": 1,
   "id": "4d57dd8d",
   "metadata": {},
   "outputs": [
    {
     "name": "stdout",
     "output_type": "stream",
     "text": [
      "Write an odd number: 7\n",
      "<class 'str'>\n"
     ]
    },
    {
     "data": {
      "text/plain": [
       "7"
      ]
     },
     "execution_count": 1,
     "metadata": {},
     "output_type": "execute_result"
    }
   ],
   "source": [
    "x = input('Write an odd number: ')    \n",
    "#  input any Data into the input command and then check Data type, now change that data into integer again.\n",
    "print(type(x))\n",
    "int(x)"
   ]
  },
  {
   "cell_type": "code",
   "execution_count": 2,
   "id": "53da65fd",
   "metadata": {},
   "outputs": [
    {
     "name": "stdout",
     "output_type": "stream",
     "text": [
      "Write an odd number: 7\n",
      "<class 'str'>\n",
      "<class 'str'>\n"
     ]
    }
   ],
   "source": [
    "x = input('Write an odd number: ')\n",
    "#  input any Data into the input command and then check Data type, now change that data into integer again.\n",
    "print(type(x))\n",
    "int(x)\n",
    "print(type(x))"
   ]
  },
  {
   "cell_type": "code",
   "execution_count": 1,
   "id": "f4c90bdf",
   "metadata": {},
   "outputs": [
    {
     "name": "stdout",
     "output_type": "stream",
     "text": [
      "Write an odd number: 9\n",
      "<class 'str'>\n",
      "<class 'int'>\n"
     ]
    }
   ],
   "source": [
    "x = input('Write an odd number: ')\n",
    "#  input any Data into the input command and then check Data type, now change that data into integer again.\n",
    "print(type(x))\n",
    "x = int(x)\n",
    "print(type(x))"
   ]
  },
  {
   "cell_type": "code",
   "execution_count": 4,
   "id": "0b6e0579",
   "metadata": {
    "scrolled": true
   },
   "outputs": [
    {
     "name": "stdout",
     "output_type": "stream",
     "text": [
      "Write an odd number: 9\n",
      "<class 'str'>\n",
      "9\n"
     ]
    },
    {
     "ename": "TypeError",
     "evalue": "int() argument must be a string, a bytes-like object or a real number, not 'NoneType'",
     "output_type": "error",
     "traceback": [
      "\u001b[1;31m---------------------------------------------------------------------------\u001b[0m",
      "\u001b[1;31mTypeError\u001b[0m                                 Traceback (most recent call last)",
      "Cell \u001b[1;32mIn[4], line 3\u001b[0m\n\u001b[0;32m      1\u001b[0m x \u001b[38;5;241m=\u001b[39m \u001b[38;5;28minput\u001b[39m(\u001b[38;5;124m'\u001b[39m\u001b[38;5;124mWrite an odd number: \u001b[39m\u001b[38;5;124m'\u001b[39m)    \u001b[38;5;66;03m#  input any Data into the input command and then check Data type, now change that data into integer again.\u001b[39;00m\n\u001b[0;32m      2\u001b[0m \u001b[38;5;28mprint\u001b[39m(\u001b[38;5;28mtype\u001b[39m(x))\n\u001b[1;32m----> 3\u001b[0m \u001b[38;5;28;43mint\u001b[39;49m\u001b[43m(\u001b[49m\u001b[38;5;28;43mprint\u001b[39;49m\u001b[43m(\u001b[49m\u001b[43mx\u001b[49m\u001b[43m)\u001b[49m\u001b[43m)\u001b[49m\n\u001b[0;32m      4\u001b[0m \u001b[38;5;28mprint\u001b[39m(\u001b[38;5;28mtype\u001b[39m(x))\n",
      "\u001b[1;31mTypeError\u001b[0m: int() argument must be a string, a bytes-like object or a real number, not 'NoneType'"
     ]
    }
   ],
   "source": [
    "x = input('Write an odd number: ')\n",
    "#  input any Data into the input command and then check Data type, now change that data into integer again.\n",
    "print(type(x))\n",
    "int(print(x))\n",
    "print(type(x))"
   ]
  },
  {
   "cell_type": "code",
   "execution_count": 5,
   "id": "708f15a9",
   "metadata": {
    "scrolled": true
   },
   "outputs": [
    {
     "name": "stdout",
     "output_type": "stream",
     "text": [
      "Write an odd number: 9\n",
      "<class 'str'>\n"
     ]
    },
    {
     "ename": "ValueError",
     "evalue": "invalid literal for int() with base 10: 'x'",
     "output_type": "error",
     "traceback": [
      "\u001b[1;31m---------------------------------------------------------------------------\u001b[0m",
      "\u001b[1;31mValueError\u001b[0m                                Traceback (most recent call last)",
      "Cell \u001b[1;32mIn[5], line 3\u001b[0m\n\u001b[0;32m      1\u001b[0m x \u001b[38;5;241m=\u001b[39m \u001b[38;5;28minput\u001b[39m(\u001b[38;5;124m'\u001b[39m\u001b[38;5;124mWrite an odd number: \u001b[39m\u001b[38;5;124m'\u001b[39m)    \u001b[38;5;66;03m#  input any Data into the input command and then check Data type, now change that data into integer again.\u001b[39;00m\n\u001b[0;32m      2\u001b[0m \u001b[38;5;28mprint\u001b[39m(\u001b[38;5;28mtype\u001b[39m(x))\n\u001b[1;32m----> 3\u001b[0m \u001b[38;5;28;43mint\u001b[39;49m\u001b[43m(\u001b[49m\u001b[38;5;124;43m'\u001b[39;49m\u001b[38;5;124;43mx\u001b[39;49m\u001b[38;5;124;43m'\u001b[39;49m\u001b[43m)\u001b[49m\n\u001b[0;32m      4\u001b[0m \u001b[38;5;28mprint\u001b[39m(\u001b[38;5;28mtype\u001b[39m(x))\n",
      "\u001b[1;31mValueError\u001b[0m: invalid literal for int() with base 10: 'x'"
     ]
    }
   ],
   "source": [
    "x = input('Write an odd number: ')    #  input any Data into the input command and then check Data type, now change that data into integer again.\n",
    "print(type(x))\n",
    "int('x')\n",
    "print(type(x))"
   ]
  },
  {
   "cell_type": "code",
   "execution_count": 6,
   "id": "a2dae932",
   "metadata": {},
   "outputs": [
    {
     "name": "stdout",
     "output_type": "stream",
     "text": [
      "Write an odd number: 9\n",
      "<class 'str'>\n",
      "<class 'str'>\n"
     ]
    }
   ],
   "source": [
    "x = input('Write an odd number: ')    #  input any Data into the input command and then check Data type, now change that data into integer again.\n",
    "print(type(x))\n",
    "int(x)\n",
    "print(type(x))\n",
    "\n"
   ]
  },
  {
   "cell_type": "code",
   "execution_count": 7,
   "id": "b48b0341",
   "metadata": {},
   "outputs": [
    {
     "name": "stdout",
     "output_type": "stream",
     "text": [
      "Write an odd number: 9\n",
      "<class 'str'>\n",
      "9\n"
     ]
    },
    {
     "data": {
      "text/plain": [
       "int"
      ]
     },
     "execution_count": 7,
     "metadata": {},
     "output_type": "execute_result"
    }
   ],
   "source": [
    "x = input('Write an odd number: ')    #  input any Data into the input command and then check Data type, now change that data into integer again.\n",
    "print(type(x))\n",
    "y = int(x)\n",
    "print(y)\n",
    "type(y)\n"
   ]
  },
  {
   "cell_type": "code",
   "execution_count": 8,
   "id": "a60132b3",
   "metadata": {
    "scrolled": true
   },
   "outputs": [
    {
     "name": "stdout",
     "output_type": "stream",
     "text": [
      "Write an odd number:9\n",
      "<class 'int'>\n"
     ]
    }
   ],
   "source": [
    "x = int(input('Write an odd number:'))\n",
    "print(type(x))"
   ]
  },
  {
   "cell_type": "code",
   "execution_count": 9,
   "id": "184d1806",
   "metadata": {},
   "outputs": [
    {
     "name": "stdout",
     "output_type": "stream",
     "text": [
      "Enter Marks: 50\n",
      "\n",
      "\n",
      "Students marks is:  50.0\n"
     ]
    },
    {
     "ename": "NameError",
     "evalue": "name 'marks' is not defined",
     "output_type": "error",
     "traceback": [
      "\u001b[1;31m---------------------------------------------------------------------------\u001b[0m",
      "\u001b[1;31mNameError\u001b[0m                                 Traceback (most recent call last)",
      "Cell \u001b[1;32mIn[9], line 4\u001b[0m\n\u001b[0;32m      2\u001b[0m \u001b[38;5;28mprint\u001b[39m(\u001b[38;5;124m'\u001b[39m\u001b[38;5;130;01m\\n\u001b[39;00m\u001b[38;5;124m'\u001b[39m)\n\u001b[0;32m      3\u001b[0m \u001b[38;5;28mprint\u001b[39m(\u001b[38;5;124m'\u001b[39m\u001b[38;5;124mStudents marks is: \u001b[39m\u001b[38;5;124m'\u001b[39m, Marks)\n\u001b[1;32m----> 4\u001b[0m \u001b[38;5;28mprint\u001b[39m(\u001b[38;5;124m'\u001b[39m\u001b[38;5;124mType is: \u001b[39m\u001b[38;5;124m'\u001b[39m, \u001b[38;5;28mtype\u001b[39m(\u001b[43mmarks\u001b[49m))\n",
      "\u001b[1;31mNameError\u001b[0m: name 'marks' is not defined"
     ]
    }
   ],
   "source": [
    "Marks = float(input('Enter Marks: '))\n",
    "print('\\n')\n",
    "print('Students marks is: ', Marks)\n",
    "print('Type is: ', type(marks))"
   ]
  },
  {
   "cell_type": "code",
   "execution_count": 10,
   "id": "ec943dc1",
   "metadata": {},
   "outputs": [
    {
     "name": "stdout",
     "output_type": "stream",
     "text": [
      "Enter Marks: 55\n",
      "\n",
      "\n",
      "Students marks is:  55.0\n",
      "Type is:  <class 'float'>\n"
     ]
    }
   ],
   "source": [
    "Marks = float(input('Enter Marks: '))\n",
    "print('\\n')\n",
    "print('Students marks is: ', Marks)\n",
    "print('Type is: ', type(Marks))"
   ]
  },
  {
   "cell_type": "code",
   "execution_count": 11,
   "id": "0832beb1",
   "metadata": {},
   "outputs": [
    {
     "name": "stdout",
     "output_type": "stream",
     "text": [
      "Enter Marks: 499\n",
      "\n",
      "\n",
      "Students marks is:  True\n",
      "Type is:  <class 'bool'>\n"
     ]
    }
   ],
   "source": [
    "Marks = bool(input('Enter Marks: '))\n",
    "print('\\n')\n",
    "print('Students marks is: ', Marks)\n",
    "print('Type is: ', type(Marks))"
   ]
  },
  {
   "cell_type": "code",
   "execution_count": 12,
   "id": "49c644d4",
   "metadata": {},
   "outputs": [
    {
     "name": "stdout",
     "output_type": "stream",
     "text": [
      "Enter Marks: 399\n",
      "\n",
      "\n",
      "Students marks is:  (399+0j)\n",
      "Type is:  <class 'complex'>\n"
     ]
    }
   ],
   "source": [
    "Marks = complex(input('Enter Marks: '))\n",
    "print('\\n')\n",
    "print('Students marks is: ', Marks)\n",
    "print('Type is: ', type(Marks))"
   ]
  },
  {
   "cell_type": "code",
   "execution_count": 13,
   "id": "cc78a8cd",
   "metadata": {},
   "outputs": [
    {
     "name": "stdout",
     "output_type": "stream",
     "text": [
      "Enter Marks: 3999\n",
      "\n",
      "\n",
      "Students marks is:  3999\n",
      "Type is:  <class 'int'>\n"
     ]
    }
   ],
   "source": [
    "Marks = int(input('Enter Marks: '))\n",
    "print('\\n')\n",
    "print('Students marks is: ', Marks)\n",
    "print('Type is: ', type(Marks))"
   ]
  },
  {
   "cell_type": "code",
   "execution_count": 14,
   "id": "273a978e",
   "metadata": {},
   "outputs": [
    {
     "name": "stderr",
     "output_type": "stream",
     "text": [
      "<>:1: SyntaxWarning: 'str' object is not callable; perhaps you missed a comma?\n",
      "<>:1: SyntaxWarning: 'str' object is not callable; perhaps you missed a comma?\n",
      "C:\\Users\\user\\AppData\\Local\\Temp\\ipykernel_9656\\3281282769.py:1: SyntaxWarning: 'str' object is not callable; perhaps you missed a comma?\n",
      "  salary = str(input('Enter salary:' (print(type(salary)))))\n",
      "C:\\Users\\user\\AppData\\Local\\Temp\\ipykernel_9656\\3281282769.py:1: SyntaxWarning: 'str' object is not callable; perhaps you missed a comma?\n",
      "  salary = str(input('Enter salary:' (print(type(salary)))))\n",
      "C:\\Users\\user\\AppData\\Local\\Temp\\ipykernel_9656\\3281282769.py:1: SyntaxWarning: 'str' object is not callable; perhaps you missed a comma?\n",
      "  salary = str(input('Enter salary:' (print(type(salary)))))\n"
     ]
    },
    {
     "ename": "NameError",
     "evalue": "name 'salary' is not defined",
     "output_type": "error",
     "traceback": [
      "\u001b[1;31m---------------------------------------------------------------------------\u001b[0m",
      "\u001b[1;31mNameError\u001b[0m                                 Traceback (most recent call last)",
      "Cell \u001b[1;32mIn[14], line 1\u001b[0m\n\u001b[1;32m----> 1\u001b[0m salary \u001b[38;5;241m=\u001b[39m \u001b[38;5;28mstr\u001b[39m(\u001b[38;5;28minput\u001b[39m(\u001b[38;5;124m'\u001b[39m\u001b[38;5;124mEnter salary:\u001b[39m\u001b[38;5;124m'\u001b[39m (\u001b[38;5;28mprint\u001b[39m(\u001b[38;5;28mtype\u001b[39m(\u001b[43msalary\u001b[49m)))))\n",
      "\u001b[1;31mNameError\u001b[0m: name 'salary' is not defined"
     ]
    }
   ],
   "source": [
    "salary = str(input('Enter salary:' (print(type(salary)))))"
   ]
  },
  {
   "cell_type": "code",
   "execution_count": 15,
   "id": "f84eb89f",
   "metadata": {},
   "outputs": [
    {
     "ename": "SyntaxError",
     "evalue": "unmatched ')' (1321523779.py, line 1)",
     "output_type": "error",
     "traceback": [
      "\u001b[1;36m  Cell \u001b[1;32mIn[15], line 1\u001b[1;36m\u001b[0m\n\u001b[1;33m    salary = str(input('Enter salary:' (print))))\u001b[0m\n\u001b[1;37m                                                ^\u001b[0m\n\u001b[1;31mSyntaxError\u001b[0m\u001b[1;31m:\u001b[0m unmatched ')'\n"
     ]
    }
   ],
   "source": [
    "salary = str(input('Enter salary:' (print))))"
   ]
  },
  {
   "cell_type": "code",
   "execution_count": 16,
   "id": "2fc85eda",
   "metadata": {},
   "outputs": [
    {
     "ename": "SyntaxError",
     "evalue": "unexpected character after line continuation character (2462692994.py, line 1)",
     "output_type": "error",
     "traceback": [
      "\u001b[1;36m  Cell \u001b[1;32mIn[16], line 1\u001b[1;36m\u001b[0m\n\u001b[1;33m    salary = str(input('Enter salary:', (print''\\n' My salary:', salary))))\u001b[0m\n\u001b[1;37m                                                 ^\u001b[0m\n\u001b[1;31mSyntaxError\u001b[0m\u001b[1;31m:\u001b[0m unexpected character after line continuation character\n"
     ]
    }
   ],
   "source": [
    "salary = str(input('Enter salary:', (print''\\n' My salary:', salary))))"
   ]
  },
  {
   "cell_type": "code",
   "execution_count": 17,
   "id": "be12ad3c",
   "metadata": {},
   "outputs": [
    {
     "ename": "SyntaxError",
     "evalue": "unmatched ')' (1928499510.py, line 1)",
     "output_type": "error",
     "traceback": [
      "\u001b[1;36m  Cell \u001b[1;32mIn[17], line 1\u001b[1;36m\u001b[0m\n\u001b[1;33m    salary = str(input('Enter salary:', (print'\\n My salary:', salary))))\u001b[0m\n\u001b[1;37m                                                                        ^\u001b[0m\n\u001b[1;31mSyntaxError\u001b[0m\u001b[1;31m:\u001b[0m unmatched ')'\n"
     ]
    }
   ],
   "source": [
    "salary = str(input('Enter salary:', (print'\\n My salary:', salary))))"
   ]
  },
  {
   "cell_type": "code",
   "execution_count": 18,
   "id": "f0939712",
   "metadata": {},
   "outputs": [
    {
     "ename": "SyntaxError",
     "evalue": "unexpected character after line continuation character (353648596.py, line 1)",
     "output_type": "error",
     "traceback": [
      "\u001b[1;36m  Cell \u001b[1;32mIn[18], line 1\u001b[1;36m\u001b[0m\n\u001b[1;33m    salary = str(input('Enter salary:', (print''\\n' My salary:', salary)))\u001b[0m\n\u001b[1;37m                                                 ^\u001b[0m\n\u001b[1;31mSyntaxError\u001b[0m\u001b[1;31m:\u001b[0m unexpected character after line continuation character\n"
     ]
    }
   ],
   "source": [
    "salary = str(input('Enter salary:', (print''\\n' My salary:', salary)))"
   ]
  },
  {
   "cell_type": "code",
   "execution_count": 19,
   "id": "55eeea19",
   "metadata": {},
   "outputs": [
    {
     "ename": "SyntaxError",
     "evalue": "Missing parentheses in call to 'print'. Did you mean print(...)? (494256302.py, line 1)",
     "output_type": "error",
     "traceback": [
      "\u001b[1;36m  Cell \u001b[1;32mIn[19], line 1\u001b[1;36m\u001b[0m\n\u001b[1;33m    salary = str(input('Enter salary:', (print'\\n My salary:', salary)))\u001b[0m\n\u001b[1;37m                                         ^\u001b[0m\n\u001b[1;31mSyntaxError\u001b[0m\u001b[1;31m:\u001b[0m Missing parentheses in call to 'print'. Did you mean print(...)?\n"
     ]
    }
   ],
   "source": [
    "salary = str(input('Enter salary:', (print'\\n My salary:', salary)))\n"
   ]
  },
  {
   "cell_type": "code",
   "execution_count": 20,
   "id": "2c5a735b",
   "metadata": {},
   "outputs": [
    {
     "ename": "NameError",
     "evalue": "name 'salary' is not defined",
     "output_type": "error",
     "traceback": [
      "\u001b[1;31m---------------------------------------------------------------------------\u001b[0m",
      "\u001b[1;31mNameError\u001b[0m                                 Traceback (most recent call last)",
      "Cell \u001b[1;32mIn[20], line 1\u001b[0m\n\u001b[1;32m----> 1\u001b[0m salary \u001b[38;5;241m=\u001b[39m \u001b[38;5;28mstr\u001b[39m(\u001b[38;5;28minput\u001b[39m(\u001b[38;5;124m'\u001b[39m\u001b[38;5;124mEnter salary:\u001b[39m\u001b[38;5;124m'\u001b[39m, (\u001b[38;5;28mprint\u001b[39m(\u001b[38;5;124m'\u001b[39m\u001b[38;5;130;01m\\n\u001b[39;00m\u001b[38;5;124m My salary:\u001b[39m\u001b[38;5;124m'\u001b[39m, \u001b[43msalary\u001b[49m))))\n",
      "\u001b[1;31mNameError\u001b[0m: name 'salary' is not defined"
     ]
    }
   ],
   "source": [
    "salary = str(input('Enter salary:', (print('\\n My salary:', salary))))"
   ]
  },
  {
   "cell_type": "code",
   "execution_count": 21,
   "id": "ab077329",
   "metadata": {},
   "outputs": [
    {
     "name": "stderr",
     "output_type": "stream",
     "text": [
      "<>:1: SyntaxWarning: 'str' object is not callable; perhaps you missed a comma?\n",
      "<>:1: SyntaxWarning: 'str' object is not callable; perhaps you missed a comma?\n",
      "C:\\Users\\user\\AppData\\Local\\Temp\\ipykernel_9656\\3863690487.py:1: SyntaxWarning: 'str' object is not callable; perhaps you missed a comma?\n",
      "  salary = str(input('Enter salary:' (print('\\n My salary:', salary))))\n",
      "C:\\Users\\user\\AppData\\Local\\Temp\\ipykernel_9656\\3863690487.py:1: SyntaxWarning: 'str' object is not callable; perhaps you missed a comma?\n",
      "  salary = str(input('Enter salary:' (print('\\n My salary:', salary))))\n",
      "C:\\Users\\user\\AppData\\Local\\Temp\\ipykernel_9656\\3863690487.py:1: SyntaxWarning: 'str' object is not callable; perhaps you missed a comma?\n",
      "  salary = str(input('Enter salary:' (print('\\n My salary:', salary))))\n"
     ]
    },
    {
     "ename": "NameError",
     "evalue": "name 'salary' is not defined",
     "output_type": "error",
     "traceback": [
      "\u001b[1;31m---------------------------------------------------------------------------\u001b[0m",
      "\u001b[1;31mNameError\u001b[0m                                 Traceback (most recent call last)",
      "Cell \u001b[1;32mIn[21], line 1\u001b[0m\n\u001b[1;32m----> 1\u001b[0m salary \u001b[38;5;241m=\u001b[39m \u001b[38;5;28mstr\u001b[39m(\u001b[38;5;28minput\u001b[39m(\u001b[38;5;124m'\u001b[39m\u001b[38;5;124mEnter salary:\u001b[39m\u001b[38;5;124m'\u001b[39m (\u001b[38;5;28mprint\u001b[39m(\u001b[38;5;124m'\u001b[39m\u001b[38;5;130;01m\\n\u001b[39;00m\u001b[38;5;124m My salary:\u001b[39m\u001b[38;5;124m'\u001b[39m, \u001b[43msalary\u001b[49m))))\n",
      "\u001b[1;31mNameError\u001b[0m: name 'salary' is not defined"
     ]
    }
   ],
   "source": [
    "salary = str(input('Enter salary:' (print('\\n My salary:', salary))))"
   ]
  },
  {
   "cell_type": "code",
   "execution_count": 22,
   "id": "657cd12b",
   "metadata": {},
   "outputs": [
    {
     "ename": "NameError",
     "evalue": "name 'Salary' is not defined",
     "output_type": "error",
     "traceback": [
      "\u001b[1;31m---------------------------------------------------------------------------\u001b[0m",
      "\u001b[1;31mNameError\u001b[0m                                 Traceback (most recent call last)",
      "Cell \u001b[1;32mIn[22], line 1\u001b[0m\n\u001b[1;32m----> 1\u001b[0m Salary \u001b[38;5;241m=\u001b[39m \u001b[38;5;28mstr\u001b[39m(\u001b[38;5;28minput\u001b[39m(\u001b[38;5;124m'\u001b[39m\u001b[38;5;124mEnter Salary:\u001b[39m\u001b[38;5;124m'\u001b[39m, (\u001b[38;5;28mprint\u001b[39m(\u001b[38;5;124m'\u001b[39m\u001b[38;5;130;01m\\n\u001b[39;00m\u001b[38;5;124m My Salary:\u001b[39m\u001b[38;5;124m'\u001b[39m, \u001b[43mSalary\u001b[49m))))\n",
      "\u001b[1;31mNameError\u001b[0m: name 'Salary' is not defined"
     ]
    }
   ],
   "source": [
    "Salary = str(input('Enter Salary:', (print('\\n My Salary:', Salary))))\n"
   ]
  },
  {
   "cell_type": "code",
   "execution_count": 23,
   "id": "37d1d191",
   "metadata": {},
   "outputs": [
    {
     "ename": "SyntaxError",
     "evalue": "unterminated string literal (detected at line 1) (2217413731.py, line 1)",
     "output_type": "error",
     "traceback": [
      "\u001b[1;36m  Cell \u001b[1;32mIn[23], line 1\u001b[1;36m\u001b[0m\n\u001b[1;33m    Salary = str(input('Enter Salary:', (print('\\n' My Salary:', Salary))))\u001b[0m\n\u001b[1;37m                                                              ^\u001b[0m\n\u001b[1;31mSyntaxError\u001b[0m\u001b[1;31m:\u001b[0m unterminated string literal (detected at line 1)\n"
     ]
    }
   ],
   "source": [
    "Salary = str(input('Enter Salary:', (print('\\n' My Salary:', Salary))))\n"
   ]
  },
  {
   "cell_type": "code",
   "execution_count": 24,
   "id": "b007514a",
   "metadata": {},
   "outputs": [
    {
     "ename": "NameError",
     "evalue": "name 'Salary' is not defined",
     "output_type": "error",
     "traceback": [
      "\u001b[1;31m---------------------------------------------------------------------------\u001b[0m",
      "\u001b[1;31mNameError\u001b[0m                                 Traceback (most recent call last)",
      "Cell \u001b[1;32mIn[24], line 1\u001b[0m\n\u001b[1;32m----> 1\u001b[0m Salary \u001b[38;5;241m=\u001b[39m \u001b[38;5;28mstr\u001b[39m(\u001b[38;5;28minput\u001b[39m(\u001b[38;5;124m'\u001b[39m\u001b[38;5;124mEnter Salary:\u001b[39m\u001b[38;5;124m'\u001b[39m, (\u001b[38;5;28mprint\u001b[39m(\u001b[38;5;124m'\u001b[39m\u001b[38;5;130;01m\\n\u001b[39;00m\u001b[38;5;124m'\u001b[39m \u001b[38;5;124m'\u001b[39m\u001b[38;5;124mMy Salary:\u001b[39m\u001b[38;5;124m'\u001b[39m, \u001b[43mSalary\u001b[49m))))\n",
      "\u001b[1;31mNameError\u001b[0m: name 'Salary' is not defined"
     ]
    }
   ],
   "source": [
    "Salary = str(input('Enter Salary:', (print('\\n' 'My Salary:', Salary))))\n"
   ]
  },
  {
   "cell_type": "code",
   "execution_count": 25,
   "id": "98d3d78d",
   "metadata": {},
   "outputs": [
    {
     "ename": "NameError",
     "evalue": "name 'Salary' is not defined",
     "output_type": "error",
     "traceback": [
      "\u001b[1;31m---------------------------------------------------------------------------\u001b[0m",
      "\u001b[1;31mNameError\u001b[0m                                 Traceback (most recent call last)",
      "Cell \u001b[1;32mIn[25], line 1\u001b[0m\n\u001b[1;32m----> 1\u001b[0m Salary \u001b[38;5;241m=\u001b[39m \u001b[38;5;28mstr\u001b[39m(\u001b[38;5;28minput\u001b[39m(\u001b[38;5;124m'\u001b[39m\u001b[38;5;124mEnter Salary:\u001b[39m\u001b[38;5;124m'\u001b[39m, (\u001b[38;5;28mprint\u001b[39m(\u001b[38;5;124m'\u001b[39m\u001b[38;5;130;01m\\n\u001b[39;00m\u001b[38;5;124m My Salary:\u001b[39m\u001b[38;5;124m'\u001b[39m, \u001b[38;5;28minput\u001b[39m(\u001b[43mSalary\u001b[49m)))))\n",
      "\u001b[1;31mNameError\u001b[0m: name 'Salary' is not defined"
     ]
    }
   ],
   "source": [
    "Salary = str(input('Enter Salary:', (print('\\n My Salary:', input(Salary)))))\n"
   ]
  },
  {
   "cell_type": "code",
   "execution_count": 26,
   "id": "9cc5f4cf",
   "metadata": {
    "scrolled": true
   },
   "outputs": [
    {
     "name": "stdout",
     "output_type": "stream",
     "text": [
      "Enter Salary:100000000000000000\n"
     ]
    },
    {
     "ename": "TypeError",
     "evalue": "'Salary' is an invalid keyword argument for print()",
     "output_type": "error",
     "traceback": [
      "\u001b[1;31m---------------------------------------------------------------------------\u001b[0m",
      "\u001b[1;31mTypeError\u001b[0m                                 Traceback (most recent call last)",
      "Cell \u001b[1;32mIn[26], line 1\u001b[0m\n\u001b[1;32m----> 1\u001b[0m Salary \u001b[38;5;241m=\u001b[39m \u001b[38;5;28mstr\u001b[39m(\u001b[38;5;28minput\u001b[39m(\u001b[38;5;124m'\u001b[39m\u001b[38;5;124mSalary is:\u001b[39m\u001b[38;5;124m'\u001b[39m, (\u001b[38;5;28;43mprint\u001b[39;49m\u001b[43m(\u001b[49m\u001b[38;5;124;43m'\u001b[39;49m\u001b[38;5;130;43;01m\\n\u001b[39;49;00m\u001b[38;5;124;43m My Salary:\u001b[39;49m\u001b[38;5;124;43m'\u001b[39;49m\u001b[43m,\u001b[49m\u001b[43m \u001b[49m\u001b[43mSalary\u001b[49m\u001b[43m \u001b[49m\u001b[38;5;241;43m=\u001b[39;49m\u001b[43m \u001b[49m\u001b[38;5;28;43mint\u001b[39;49m\u001b[43m(\u001b[49m\u001b[38;5;28;43minput\u001b[39;49m\u001b[43m(\u001b[49m\u001b[38;5;124;43m'\u001b[39;49m\u001b[38;5;124;43mEnter Salary:\u001b[39;49m\u001b[38;5;124;43m'\u001b[39;49m\u001b[43m)\u001b[49m\u001b[43m)\u001b[49m\u001b[43m)\u001b[49m)))\n",
      "\u001b[1;31mTypeError\u001b[0m: 'Salary' is an invalid keyword argument for print()"
     ]
    }
   ],
   "source": [
    "Salary = str(input('Salary is:', (print('\\n My Salary:', Salary = int(input('Enter Salary:'))))))"
   ]
  },
  {
   "cell_type": "code",
   "execution_count": 27,
   "id": "60c0758e",
   "metadata": {},
   "outputs": [
    {
     "name": "stdout",
     "output_type": "stream",
     "text": [
      "Enter Salary:100000000000000\n"
     ]
    },
    {
     "ename": "TypeError",
     "evalue": "'Salary' is an invalid keyword argument for print()",
     "output_type": "error",
     "traceback": [
      "\u001b[1;31m---------------------------------------------------------------------------\u001b[0m",
      "\u001b[1;31mTypeError\u001b[0m                                 Traceback (most recent call last)",
      "Cell \u001b[1;32mIn[27], line 1\u001b[0m\n\u001b[1;32m----> 1\u001b[0m Salary \u001b[38;5;241m=\u001b[39m \u001b[38;5;28mstr\u001b[39m(\u001b[38;5;28mprint\u001b[39m(\u001b[38;5;124m'\u001b[39m\u001b[38;5;124mSalary is:\u001b[39m\u001b[38;5;124m'\u001b[39m, (\u001b[38;5;28;43mprint\u001b[39;49m\u001b[43m(\u001b[49m\u001b[38;5;124;43m'\u001b[39;49m\u001b[38;5;130;43;01m\\n\u001b[39;49;00m\u001b[38;5;124;43m My Salary:\u001b[39;49m\u001b[38;5;124;43m'\u001b[39;49m\u001b[43m,\u001b[49m\u001b[43m \u001b[49m\u001b[43mSalary\u001b[49m\u001b[43m \u001b[49m\u001b[38;5;241;43m=\u001b[39;49m\u001b[43m \u001b[49m\u001b[38;5;28;43mint\u001b[39;49m\u001b[43m(\u001b[49m\u001b[38;5;28;43minput\u001b[39;49m\u001b[43m(\u001b[49m\u001b[38;5;124;43m'\u001b[39;49m\u001b[38;5;124;43mEnter Salary:\u001b[39;49m\u001b[38;5;124;43m'\u001b[39;49m\u001b[43m)\u001b[49m\u001b[43m)\u001b[49m\u001b[43m)\u001b[49m)))\n",
      "\u001b[1;31mTypeError\u001b[0m: 'Salary' is an invalid keyword argument for print()"
     ]
    }
   ],
   "source": [
    "Salary = str(print('Salary is:', (print('\\n My Salary:', Salary = int(input('Enter Salary:'))))))"
   ]
  },
  {
   "cell_type": "code",
   "execution_count": 28,
   "id": "8ec605e3",
   "metadata": {},
   "outputs": [
    {
     "name": "stdout",
     "output_type": "stream",
     "text": [
      "Enter Salary:100000000000000\n"
     ]
    },
    {
     "ename": "TypeError",
     "evalue": "'Salary' is an invalid keyword argument for print()",
     "output_type": "error",
     "traceback": [
      "\u001b[1;31m---------------------------------------------------------------------------\u001b[0m",
      "\u001b[1;31mTypeError\u001b[0m                                 Traceback (most recent call last)",
      "Cell \u001b[1;32mIn[28], line 1\u001b[0m\n\u001b[1;32m----> 1\u001b[0m Salary \u001b[38;5;241m=\u001b[39m \u001b[38;5;28mstr\u001b[39m(\u001b[38;5;28minput\u001b[39m(\u001b[38;5;124m'\u001b[39m\u001b[38;5;124mSalary is:\u001b[39m\u001b[38;5;124m'\u001b[39m, (\u001b[38;5;28;43mprint\u001b[39;49m\u001b[43m(\u001b[49m\u001b[38;5;124;43m'\u001b[39;49m\u001b[38;5;130;43;01m\\n\u001b[39;49;00m\u001b[38;5;124;43m'\u001b[39;49m\u001b[43m \u001b[49m\u001b[38;5;124;43m'\u001b[39;49m\u001b[38;5;124;43mMy Salary:\u001b[39;49m\u001b[38;5;124;43m'\u001b[39;49m\u001b[43m,\u001b[49m\u001b[43m \u001b[49m\u001b[43mSalary\u001b[49m\u001b[43m \u001b[49m\u001b[38;5;241;43m=\u001b[39;49m\u001b[43m \u001b[49m\u001b[38;5;28;43mint\u001b[39;49m\u001b[43m(\u001b[49m\u001b[38;5;28;43minput\u001b[39;49m\u001b[43m(\u001b[49m\u001b[38;5;124;43m'\u001b[39;49m\u001b[38;5;124;43mEnter Salary:\u001b[39;49m\u001b[38;5;124;43m'\u001b[39;49m\u001b[43m)\u001b[49m\u001b[43m)\u001b[49m\u001b[43m)\u001b[49m)))\n",
      "\u001b[1;31mTypeError\u001b[0m: 'Salary' is an invalid keyword argument for print()"
     ]
    }
   ],
   "source": [
    "Salary = str(input('Salary is:', (print('\\n' 'My Salary:', Salary = int(input('Enter Salary:'))))))\n"
   ]
  },
  {
   "cell_type": "code",
   "execution_count": 29,
   "id": "d73478ad",
   "metadata": {},
   "outputs": [
    {
     "ename": "SyntaxError",
     "evalue": "invalid syntax. Perhaps you forgot a comma? (1276842792.py, line 1)",
     "output_type": "error",
     "traceback": [
      "\u001b[1;36m  Cell \u001b[1;32mIn[29], line 1\u001b[1;36m\u001b[0m\n\u001b[1;33m    Salary = str(input('Salary is:', (print('\\n My Salary:',Salary) Salary = int(input('Enter Salary:')))))\u001b[0m\n\u001b[1;37m                                      ^\u001b[0m\n\u001b[1;31mSyntaxError\u001b[0m\u001b[1;31m:\u001b[0m invalid syntax. Perhaps you forgot a comma?\n"
     ]
    }
   ],
   "source": [
    "Salary = str(input('Salary is:', (print('\\n My Salary:',Salary) Salary = int(input('Enter Salary:')))))"
   ]
  },
  {
   "cell_type": "code",
   "execution_count": 30,
   "id": "7702fcd6",
   "metadata": {},
   "outputs": [
    {
     "ename": "SyntaxError",
     "evalue": "invalid syntax. Perhaps you forgot a comma? (3613083849.py, line 1)",
     "output_type": "error",
     "traceback": [
      "\u001b[1;36m  Cell \u001b[1;32mIn[30], line 1\u001b[1;36m\u001b[0m\n\u001b[1;33m    Salary = str(input('Salary is:', (print('\\n' 'My Salary:',Salary) Salary = int(input('Enter Salary:')))))\u001b[0m\n\u001b[1;37m                                      ^\u001b[0m\n\u001b[1;31mSyntaxError\u001b[0m\u001b[1;31m:\u001b[0m invalid syntax. Perhaps you forgot a comma?\n"
     ]
    }
   ],
   "source": [
    "Salary = str(input('Salary is:', (print('\\n' 'My Salary:',Salary) Salary = int(input('Enter Salary:')))))"
   ]
  },
  {
   "cell_type": "code",
   "execution_count": 31,
   "id": "b77707f4",
   "metadata": {},
   "outputs": [
    {
     "ename": "SyntaxError",
     "evalue": "invalid syntax. Perhaps you forgot a comma? (1388400286.py, line 1)",
     "output_type": "error",
     "traceback": [
      "\u001b[1;36m  Cell \u001b[1;32mIn[31], line 1\u001b[1;36m\u001b[0m\n\u001b[1;33m    Salary = str(input('Salary is:', (print('\\n My Salary:') Salary = int(input('Enter Salary:')))))\u001b[0m\n\u001b[1;37m                                      ^\u001b[0m\n\u001b[1;31mSyntaxError\u001b[0m\u001b[1;31m:\u001b[0m invalid syntax. Perhaps you forgot a comma?\n"
     ]
    }
   ],
   "source": [
    "Salary = str(input('Salary is:', (print('\\n My Salary:') Salary = int(input('Enter Salary:')))))"
   ]
  },
  {
   "cell_type": "code",
   "execution_count": 32,
   "id": "843f1985",
   "metadata": {},
   "outputs": [
    {
     "ename": "SyntaxError",
     "evalue": "invalid syntax. Perhaps you forgot a comma? (1315210999.py, line 1)",
     "output_type": "error",
     "traceback": [
      "\u001b[1;36m  Cell \u001b[1;32mIn[32], line 1\u001b[1;36m\u001b[0m\n\u001b[1;33m    Salary = str(input('Salary is:', (print('\\n' 'My Salary:') Salary = int(input('Enter Salary:')))))\u001b[0m\n\u001b[1;37m                                      ^\u001b[0m\n\u001b[1;31mSyntaxError\u001b[0m\u001b[1;31m:\u001b[0m invalid syntax. Perhaps you forgot a comma?\n"
     ]
    }
   ],
   "source": [
    "Salary = str(input('Salary is:', (print('\\n' 'My Salary:') Salary = int(input('Enter Salary:')))))"
   ]
  },
  {
   "cell_type": "code",
   "execution_count": 33,
   "id": "90f93cc1",
   "metadata": {},
   "outputs": [
    {
     "ename": "SyntaxError",
     "evalue": "invalid syntax. Perhaps you forgot a comma? (2728738073.py, line 1)",
     "output_type": "error",
     "traceback": [
      "\u001b[1;36m  Cell \u001b[1;32mIn[33], line 1\u001b[1;36m\u001b[0m\n\u001b[1;33m    Salary = str(input('Salary is:', Salary (print('\\n' 'My Salary:') Salary = int(input('Enter Salary:')))))\u001b[0m\n\u001b[1;37m                                             ^\u001b[0m\n\u001b[1;31mSyntaxError\u001b[0m\u001b[1;31m:\u001b[0m invalid syntax. Perhaps you forgot a comma?\n"
     ]
    }
   ],
   "source": [
    "Salary = str(input('Salary is:', Salary (print('\\n' 'My Salary:') Salary = int(input('Enter Salary:')))))"
   ]
  },
  {
   "cell_type": "markdown",
   "id": "5c308b43",
   "metadata": {},
   "source": [
    "A “SyntaxError: invalid syntax. Perhaps you forgot a comma?” indicates that there is a problem with the quotation mark opening and closing (“ ”) of our code.\n",
    "\n"
   ]
  },
  {
   "cell_type": "code",
   "execution_count": 34,
   "id": "352c0030",
   "metadata": {
    "scrolled": true
   },
   "outputs": [
    {
     "ename": "NameError",
     "evalue": "name 'Salary' is not defined",
     "output_type": "error",
     "traceback": [
      "\u001b[1;31m---------------------------------------------------------------------------\u001b[0m",
      "\u001b[1;31mNameError\u001b[0m                                 Traceback (most recent call last)",
      "Cell \u001b[1;32mIn[34], line 1\u001b[0m\n\u001b[1;32m----> 1\u001b[0m Salary \u001b[38;5;241m=\u001b[39m \u001b[38;5;28mstr\u001b[39m(\u001b[38;5;28minput\u001b[39m(\u001b[38;5;124m'\u001b[39m\u001b[38;5;124mSalary is:\u001b[39m\u001b[38;5;124m'\u001b[39m, \u001b[43mSalary\u001b[49m (\u001b[38;5;28mprint\u001b[39m(\u001b[38;5;124m'\u001b[39m\u001b[38;5;130;01m\\n\u001b[39;00m\u001b[38;5;124m'\u001b[39m \u001b[38;5;124m'\u001b[39m\u001b[38;5;124mMy Salary:\u001b[39m\u001b[38;5;124m'\u001b[39m), Salary \u001b[38;5;241m=\u001b[39m \u001b[38;5;28mint\u001b[39m(\u001b[38;5;28minput\u001b[39m(\u001b[38;5;124m'\u001b[39m\u001b[38;5;124mEnter Salary:\u001b[39m\u001b[38;5;124m'\u001b[39m)))))\n",
      "\u001b[1;31mNameError\u001b[0m: name 'Salary' is not defined"
     ]
    }
   ],
   "source": [
    "Salary = str(input('Salary is:', Salary (print('\\n' 'My Salary:'), Salary = int(input('Enter Salary:')))))"
   ]
  },
  {
   "cell_type": "code",
   "execution_count": 35,
   "id": "6fe05bec",
   "metadata": {},
   "outputs": [
    {
     "ename": "SyntaxError",
     "evalue": "invalid syntax. Maybe you meant '==' or ':=' instead of '='? (3496212731.py, line 1)",
     "output_type": "error",
     "traceback": [
      "\u001b[1;36m  Cell \u001b[1;32mIn[35], line 1\u001b[1;36m\u001b[0m\n\u001b[1;33m    Salary = str(input('Salary is:', (print('\\n' 'My Salary:'), Salary = int(input('Enter Salary:')))))\u001b[0m\n\u001b[1;37m                                                                ^\u001b[0m\n\u001b[1;31mSyntaxError\u001b[0m\u001b[1;31m:\u001b[0m invalid syntax. Maybe you meant '==' or ':=' instead of '='?\n"
     ]
    }
   ],
   "source": [
    "Salary = str(input('Salary is:', (print('\\n' 'My Salary:'), Salary = int(input('Enter Salary:')))))"
   ]
  },
  {
   "cell_type": "code",
   "execution_count": 36,
   "id": "6eaa4553",
   "metadata": {},
   "outputs": [
    {
     "name": "stdout",
     "output_type": "stream",
     "text": [
      "\n",
      "My Salary:\n"
     ]
    },
    {
     "ename": "NameError",
     "evalue": "name 'Salary' is not defined",
     "output_type": "error",
     "traceback": [
      "\u001b[1;31m---------------------------------------------------------------------------\u001b[0m",
      "\u001b[1;31mNameError\u001b[0m                                 Traceback (most recent call last)",
      "Cell \u001b[1;32mIn[36], line 1\u001b[0m\n\u001b[1;32m----> 1\u001b[0m Salary \u001b[38;5;241m=\u001b[39m \u001b[38;5;28mstr\u001b[39m(\u001b[38;5;28minput\u001b[39m(\u001b[38;5;124m'\u001b[39m\u001b[38;5;124mSalary is:\u001b[39m\u001b[38;5;124m'\u001b[39m, (\u001b[38;5;28mprint\u001b[39m(\u001b[38;5;124m'\u001b[39m\u001b[38;5;130;01m\\n\u001b[39;00m\u001b[38;5;124m'\u001b[39m \u001b[38;5;124m'\u001b[39m\u001b[38;5;124mMy Salary:\u001b[39m\u001b[38;5;124m'\u001b[39m), \u001b[43mSalary\u001b[49m \u001b[38;5;241m==\u001b[39m \u001b[38;5;28mint\u001b[39m(\u001b[38;5;28minput\u001b[39m(\u001b[38;5;124m'\u001b[39m\u001b[38;5;124mEnter Salary:\u001b[39m\u001b[38;5;124m'\u001b[39m)))))\n",
      "\u001b[1;31mNameError\u001b[0m: name 'Salary' is not defined"
     ]
    }
   ],
   "source": [
    "Salary = str(input('Salary is:', (print('\\n' 'My Salary:'), Salary == int(input('Enter Salary:')))))"
   ]
  },
  {
   "cell_type": "markdown",
   "id": "8bcef4ee",
   "metadata": {},
   "source": [
    "### What Is a NameError in Python? In Python, the NameError occurs when you try to use a variable, function, or module that doesn't exist or wasn't used in a valid way. Some of the common mistakes that cause this error are: Using a variable or function name that is yet to be defined."
   ]
  },
  {
   "cell_type": "code",
   "execution_count": 37,
   "id": "43e5be7b",
   "metadata": {},
   "outputs": [
    {
     "ename": "SyntaxError",
     "evalue": "invalid syntax. Maybe you meant '==' or ':=' instead of '='? (2139430498.py, line 1)",
     "output_type": "error",
     "traceback": [
      "\u001b[1;36m  Cell \u001b[1;32mIn[37], line 1\u001b[1;36m\u001b[0m\n\u001b[1;33m    Salary = str(input('Salary is:', (print('\\n' 'My Salary:'), Salary = int(input('Enter Salary:')))))\u001b[0m\n\u001b[1;37m                                                                ^\u001b[0m\n\u001b[1;31mSyntaxError\u001b[0m\u001b[1;31m:\u001b[0m invalid syntax. Maybe you meant '==' or ':=' instead of '='?\n"
     ]
    }
   ],
   "source": [
    "Salary = str(input('Salary is:', (print('\\n' 'My Salary:'), Salary = int(input('Enter Salary:')))))\n"
   ]
  },
  {
   "cell_type": "code",
   "execution_count": 38,
   "id": "01fc3a8c",
   "metadata": {},
   "outputs": [
    {
     "name": "stdout",
     "output_type": "stream",
     "text": [
      "\n",
      "My Salary:\n"
     ]
    },
    {
     "ename": "NameError",
     "evalue": "name 'Salary' is not defined",
     "output_type": "error",
     "traceback": [
      "\u001b[1;31m---------------------------------------------------------------------------\u001b[0m",
      "\u001b[1;31mNameError\u001b[0m                                 Traceback (most recent call last)",
      "Cell \u001b[1;32mIn[38], line 1\u001b[0m\n\u001b[1;32m----> 1\u001b[0m Salary \u001b[38;5;241m=\u001b[39m \u001b[38;5;28mstr\u001b[39m(\u001b[38;5;28minput\u001b[39m(\u001b[38;5;124m'\u001b[39m\u001b[38;5;124mSalary is:\u001b[39m\u001b[38;5;124m'\u001b[39m, (\u001b[38;5;28mprint\u001b[39m(\u001b[38;5;124m'\u001b[39m\u001b[38;5;130;01m\\n\u001b[39;00m\u001b[38;5;124m'\u001b[39m \u001b[38;5;124m'\u001b[39m\u001b[38;5;124mMy Salary:\u001b[39m\u001b[38;5;124m'\u001b[39m), \u001b[43mSalary\u001b[49m \u001b[38;5;241m==\u001b[39m \u001b[38;5;28mint\u001b[39m(\u001b[38;5;28minput\u001b[39m(\u001b[38;5;124m'\u001b[39m\u001b[38;5;124mEnter Salary:\u001b[39m\u001b[38;5;124m'\u001b[39m)))))\n",
      "\u001b[1;31mNameError\u001b[0m: name 'Salary' is not defined"
     ]
    }
   ],
   "source": [
    "Salary = str(input('Salary is:', (print('\\n' 'My Salary:'), Salary == int(input('Enter Salary:')))))\n"
   ]
  },
  {
   "cell_type": "markdown",
   "id": "01647554",
   "metadata": {},
   "source": [
    "Marks = int(input('Enter Marks: '))\n",
    "\n",
    "print('\\n')\n",
    "\n",
    "print('Students marks is: ', Marks)\n",
    "\n",
    "print('Type is: ', type(Marks))\n",
    "\n"
   ]
  },
  {
   "cell_type": "code",
   "execution_count": 39,
   "id": "db5306a3",
   "metadata": {},
   "outputs": [
    {
     "name": "stdout",
     "output_type": "stream",
     "text": [
      "\n",
      "My Salary:\n"
     ]
    },
    {
     "ename": "NameError",
     "evalue": "name 'Salary' is not defined",
     "output_type": "error",
     "traceback": [
      "\u001b[1;31m---------------------------------------------------------------------------\u001b[0m",
      "\u001b[1;31mNameError\u001b[0m                                 Traceback (most recent call last)",
      "Cell \u001b[1;32mIn[39], line 1\u001b[0m\n\u001b[1;32m----> 1\u001b[0m Salary \u001b[38;5;241m=\u001b[39m \u001b[38;5;28mstr\u001b[39m(\u001b[38;5;28minput\u001b[39m(\u001b[38;5;124m'\u001b[39m\u001b[38;5;124mSalary is:\u001b[39m\u001b[38;5;124m'\u001b[39m, (\u001b[38;5;28mprint\u001b[39m(\u001b[38;5;124m'\u001b[39m\u001b[38;5;130;01m\\n\u001b[39;00m\u001b[38;5;124m'\u001b[39m \u001b[38;5;124m'\u001b[39m\u001b[38;5;124mMy Salary:\u001b[39m\u001b[38;5;124m'\u001b[39m)), \u001b[43mSalary\u001b[49m \u001b[38;5;241m==\u001b[39m \u001b[38;5;28mint\u001b[39m(\u001b[38;5;28minput\u001b[39m(\u001b[38;5;124m'\u001b[39m\u001b[38;5;124mEnter Salary:\u001b[39m\u001b[38;5;124m'\u001b[39m))))\n",
      "\u001b[1;31mNameError\u001b[0m: name 'Salary' is not defined"
     ]
    }
   ],
   "source": [
    "Salary = str(input('Salary is:', (print('\\n' 'My Salary:')), Salary == int(input('Enter Salary:'))))"
   ]
  },
  {
   "cell_type": "code",
   "execution_count": 3,
   "id": "0fd51613",
   "metadata": {},
   "outputs": [
    {
     "name": "stdout",
     "output_type": "stream",
     "text": [
      "Enter Salary:1000000000000000000\n"
     ]
    },
    {
     "ename": "TypeError",
     "evalue": "'Salary' is an invalid keyword argument for print()",
     "output_type": "error",
     "traceback": [
      "\u001b[1;31m---------------------------------------------------------------------------\u001b[0m",
      "\u001b[1;31mTypeError\u001b[0m                                 Traceback (most recent call last)",
      "Cell \u001b[1;32mIn[3], line 1\u001b[0m\n\u001b[1;32m----> 1\u001b[0m Salary \u001b[38;5;241m=\u001b[39m \u001b[38;5;28mstr\u001b[39m(\u001b[38;5;28mprint\u001b[39m(\u001b[38;5;124m'\u001b[39m\u001b[38;5;124mSalary is:\u001b[39m\u001b[38;5;124m'\u001b[39m, (\u001b[38;5;28;43mprint\u001b[39;49m\u001b[43m(\u001b[49m\u001b[38;5;124;43m'\u001b[39;49m\u001b[38;5;130;43;01m\\n\u001b[39;49;00m\u001b[38;5;124;43m'\u001b[39;49m\u001b[43m \u001b[49m\u001b[38;5;124;43m'\u001b[39;49m\u001b[38;5;124;43mMy Salary:\u001b[39;49m\u001b[38;5;124;43m'\u001b[39;49m\u001b[43m,\u001b[49m\u001b[43m \u001b[49m\u001b[43mSalary\u001b[49m\u001b[43m \u001b[49m\u001b[38;5;241;43m=\u001b[39;49m\u001b[43m \u001b[49m\u001b[38;5;28;43mint\u001b[39;49m\u001b[43m(\u001b[49m\u001b[38;5;28;43minput\u001b[39;49m\u001b[43m(\u001b[49m\u001b[38;5;124;43m'\u001b[39;49m\u001b[38;5;124;43mEnter Salary:\u001b[39;49m\u001b[38;5;124;43m'\u001b[39;49m\u001b[43m)\u001b[49m\u001b[43m)\u001b[49m\u001b[43m)\u001b[49m)))\n",
      "\u001b[1;31mTypeError\u001b[0m: 'Salary' is an invalid keyword argument for print()"
     ]
    }
   ],
   "source": [
    "Salary = str(print('Salary is:', (print('\\n' 'My Salary:', Salary = int(input('Enter Salary:'))))))\n"
   ]
  },
  {
   "cell_type": "code",
   "execution_count": 41,
   "id": "473281a8",
   "metadata": {},
   "outputs": [
    {
     "ename": "SyntaxError",
     "evalue": "invalid syntax. Maybe you meant '==' or ':=' instead of '='? (4228308090.py, line 1)",
     "output_type": "error",
     "traceback": [
      "\u001b[1;36m  Cell \u001b[1;32mIn[41], line 1\u001b[1;36m\u001b[0m\n\u001b[1;33m    Salary = str(print('Salary is:', (print('\\n' 'My Salary:'), Salary = int(input('Enter Salary:')))))\u001b[0m\n\u001b[1;37m                                                                ^\u001b[0m\n\u001b[1;31mSyntaxError\u001b[0m\u001b[1;31m:\u001b[0m invalid syntax. Maybe you meant '==' or ':=' instead of '='?\n"
     ]
    }
   ],
   "source": [
    "Salary = str(print('Salary is:', (print('\\n' 'My Salary:'), Salary = int(input('Enter Salary:')))))\n"
   ]
  },
  {
   "cell_type": "code",
   "execution_count": 42,
   "id": "c689a5be",
   "metadata": {},
   "outputs": [
    {
     "name": "stdout",
     "output_type": "stream",
     "text": [
      "\n",
      "My Salary:\n"
     ]
    },
    {
     "ename": "NameError",
     "evalue": "name 'Salary' is not defined",
     "output_type": "error",
     "traceback": [
      "\u001b[1;31m---------------------------------------------------------------------------\u001b[0m",
      "\u001b[1;31mNameError\u001b[0m                                 Traceback (most recent call last)",
      "Cell \u001b[1;32mIn[42], line 1\u001b[0m\n\u001b[1;32m----> 1\u001b[0m Salary \u001b[38;5;241m=\u001b[39m \u001b[38;5;28mstr\u001b[39m(\u001b[38;5;28mprint\u001b[39m(\u001b[38;5;124m'\u001b[39m\u001b[38;5;124mSalary is:\u001b[39m\u001b[38;5;124m'\u001b[39m, (\u001b[38;5;28mprint\u001b[39m(\u001b[38;5;124m'\u001b[39m\u001b[38;5;130;01m\\n\u001b[39;00m\u001b[38;5;124m'\u001b[39m \u001b[38;5;124m'\u001b[39m\u001b[38;5;124mMy Salary:\u001b[39m\u001b[38;5;124m'\u001b[39m), \u001b[43mSalary\u001b[49m \u001b[38;5;241m==\u001b[39m \u001b[38;5;28mint\u001b[39m(\u001b[38;5;28minput\u001b[39m(\u001b[38;5;124m'\u001b[39m\u001b[38;5;124mEnter Salary:\u001b[39m\u001b[38;5;124m'\u001b[39m)))))\n",
      "\u001b[1;31mNameError\u001b[0m: name 'Salary' is not defined"
     ]
    }
   ],
   "source": [
    "Salary = str(print('Salary is:', (print('\\n' 'My Salary:'), Salary == int(input('Enter Salary:')))))\n"
   ]
  },
  {
   "cell_type": "code",
   "execution_count": 43,
   "id": "6807e8cc",
   "metadata": {},
   "outputs": [
    {
     "name": "stdout",
     "output_type": "stream",
     "text": [
      "Enter Salary:1000000000000\n"
     ]
    },
    {
     "ename": "TypeError",
     "evalue": "'Salary' is an invalid keyword argument for print()",
     "output_type": "error",
     "traceback": [
      "\u001b[1;31m---------------------------------------------------------------------------\u001b[0m",
      "\u001b[1;31mTypeError\u001b[0m                                 Traceback (most recent call last)",
      "Cell \u001b[1;32mIn[43], line 1\u001b[0m\n\u001b[1;32m----> 1\u001b[0m Salary \u001b[38;5;241m=\u001b[39m \u001b[38;5;28mstr\u001b[39m(\u001b[38;5;28mprint\u001b[39m(\u001b[38;5;124m'\u001b[39m\u001b[38;5;124mSalary is:\u001b[39m\u001b[38;5;124m'\u001b[39m, (\u001b[38;5;28;43mprint\u001b[39;49m\u001b[43m(\u001b[49m\u001b[38;5;124;43m'\u001b[39;49m\u001b[38;5;130;43;01m\\n\u001b[39;49;00m\u001b[38;5;124;43m'\u001b[39;49m\u001b[43m \u001b[49m\u001b[38;5;124;43m'\u001b[39;49m\u001b[38;5;124;43mMy Salary:\u001b[39;49m\u001b[38;5;124;43m'\u001b[39;49m\u001b[43m,\u001b[49m\u001b[43m \u001b[49m\u001b[43mSalary\u001b[49m\u001b[43m \u001b[49m\u001b[38;5;241;43m=\u001b[39;49m\u001b[43m \u001b[49m\u001b[38;5;28;43mint\u001b[39;49m\u001b[43m(\u001b[49m\u001b[38;5;28;43minput\u001b[39;49m\u001b[43m(\u001b[49m\u001b[38;5;124;43m'\u001b[39;49m\u001b[38;5;124;43mEnter Salary:\u001b[39;49m\u001b[38;5;124;43m'\u001b[39;49m\u001b[43m)\u001b[49m\u001b[43m)\u001b[49m\u001b[43m)\u001b[49m)))\n",
      "\u001b[1;31mTypeError\u001b[0m: 'Salary' is an invalid keyword argument for print()"
     ]
    }
   ],
   "source": [
    "Salary = str(print('Salary is:', (print('\\n' 'My Salary:', Salary = int(input('Enter Salary:'))))))\n"
   ]
  },
  {
   "cell_type": "code",
   "execution_count": 44,
   "id": "0b1390fb",
   "metadata": {
    "scrolled": true
   },
   "outputs": [
    {
     "name": "stdout",
     "output_type": "stream",
     "text": [
      "Enter Salary:100000000000\n"
     ]
    },
    {
     "ename": "TypeError",
     "evalue": "'Salary' is an invalid keyword argument for print()",
     "output_type": "error",
     "traceback": [
      "\u001b[1;31m---------------------------------------------------------------------------\u001b[0m",
      "\u001b[1;31mTypeError\u001b[0m                                 Traceback (most recent call last)",
      "Cell \u001b[1;32mIn[44], line 1\u001b[0m\n\u001b[1;32m----> 1\u001b[0m Salary \u001b[38;5;241m=\u001b[39m \u001b[38;5;28mint\u001b[39m(\u001b[38;5;28mprint\u001b[39m(\u001b[38;5;124m'\u001b[39m\u001b[38;5;124mSalary is:\u001b[39m\u001b[38;5;124m'\u001b[39m, (\u001b[38;5;28;43mprint\u001b[39;49m\u001b[43m(\u001b[49m\u001b[38;5;124;43m'\u001b[39;49m\u001b[38;5;130;43;01m\\n\u001b[39;49;00m\u001b[38;5;124;43m'\u001b[39;49m\u001b[43m \u001b[49m\u001b[38;5;124;43m'\u001b[39;49m\u001b[38;5;124;43mMy Salary:\u001b[39;49m\u001b[38;5;124;43m'\u001b[39;49m\u001b[43m,\u001b[49m\u001b[43m \u001b[49m\u001b[43mSalary\u001b[49m\u001b[43m \u001b[49m\u001b[38;5;241;43m=\u001b[39;49m\u001b[43m \u001b[49m\u001b[38;5;28;43mint\u001b[39;49m\u001b[43m(\u001b[49m\u001b[38;5;28;43minput\u001b[39;49m\u001b[43m(\u001b[49m\u001b[38;5;124;43m'\u001b[39;49m\u001b[38;5;124;43mEnter Salary:\u001b[39;49m\u001b[38;5;124;43m'\u001b[39;49m\u001b[43m)\u001b[49m\u001b[43m)\u001b[49m\u001b[43m)\u001b[49m)))\n",
      "\u001b[1;31mTypeError\u001b[0m: 'Salary' is an invalid keyword argument for print()"
     ]
    }
   ],
   "source": [
    "Salary = int(print('Salary is:', (print('\\n' 'My Salary:', Salary = int(input('Enter Salary:'))))))\n"
   ]
  },
  {
   "cell_type": "code",
   "execution_count": 3,
   "id": "b0217bb6",
   "metadata": {},
   "outputs": [
    {
     "ename": "SyntaxError",
     "evalue": "Missing parentheses in call to 'print'. Did you mean print(...)? (2044642421.py, line 1)",
     "output_type": "error",
     "traceback": [
      "\u001b[1;36m  Cell \u001b[1;32mIn[3], line 1\u001b[1;36m\u001b[0m\n\u001b[1;33m    Salary = int(print'Type is: ', type(Salary ('Salary is:', Salary (print('\\n', Salary = int(input('Enter Salary:')))))))\u001b[0m\n\u001b[1;37m                 ^\u001b[0m\n\u001b[1;31mSyntaxError\u001b[0m\u001b[1;31m:\u001b[0m Missing parentheses in call to 'print'. Did you mean print(...)?\n"
     ]
    }
   ],
   "source": [
    "Salary = int(print'Type is: ', type(Salary ('Salary is:', Salary (print('\\n', Salary = int(input('Enter Salary:')))))))"
   ]
  },
  {
   "cell_type": "code",
   "execution_count": 4,
   "id": "7bef5bdc",
   "metadata": {},
   "outputs": [
    {
     "ename": "SyntaxError",
     "evalue": "Missing parentheses in call to 'print'. Did you mean print(...)? (1246725642.py, line 1)",
     "output_type": "error",
     "traceback": [
      "\u001b[1;36m  Cell \u001b[1;32mIn[4], line 1\u001b[1;36m\u001b[0m\n\u001b[1;33m    Salary = print'Type is: ', type(Salary ('Salary is:', Salary (print('\\n', Salary = int(input('Enter Salary:'))))))\u001b[0m\n\u001b[1;37m             ^\u001b[0m\n\u001b[1;31mSyntaxError\u001b[0m\u001b[1;31m:\u001b[0m Missing parentheses in call to 'print'. Did you mean print(...)?\n"
     ]
    }
   ],
   "source": [
    "Salary = print'Type is: ', type(Salary ('Salary is:', Salary (print('\\n', Salary = int(input('Enter Salary:'))))))\n",
    "\n",
    "# Six parentheses in Long CODING! then six parentheses in SHORT CODING!  \n",
    "# Meaning of parentheses may be brackets(). "
   ]
  },
  {
   "cell_type": "code",
   "execution_count": 5,
   "id": "007781b7",
   "metadata": {},
   "outputs": [
    {
     "ename": "SyntaxError",
     "evalue": "incomplete input (427080650.py, line 1)",
     "output_type": "error",
     "traceback": [
      "\u001b[1;36m  Cell \u001b[1;32mIn[5], line 1\u001b[1;36m\u001b[0m\n\u001b[1;33m    Salary = print('Type is: ', type(Salary ('Salary is:', Salary (print('\\n', Salary = int(input('Enter Salary:'))))))\u001b[0m\n\u001b[1;37m                                                                                                                       ^\u001b[0m\n\u001b[1;31mSyntaxError\u001b[0m\u001b[1;31m:\u001b[0m incomplete input\n"
     ]
    }
   ],
   "source": [
    "Salary = print('Type is: ', type(Salary ('Salary is:', Salary (print('\\n', Salary = int(input('Enter Salary:'))))))"
   ]
  },
  {
   "cell_type": "code",
   "execution_count": 6,
   "id": "3001c803",
   "metadata": {},
   "outputs": [
    {
     "ename": "NameError",
     "evalue": "name 'Salary' is not defined",
     "output_type": "error",
     "traceback": [
      "\u001b[1;31m---------------------------------------------------------------------------\u001b[0m",
      "\u001b[1;31mNameError\u001b[0m                                 Traceback (most recent call last)",
      "Cell \u001b[1;32mIn[6], line 1\u001b[0m\n\u001b[1;32m----> 1\u001b[0m Salary \u001b[38;5;241m=\u001b[39m \u001b[38;5;28mprint\u001b[39m(\u001b[38;5;124m'\u001b[39m\u001b[38;5;124mType is: \u001b[39m\u001b[38;5;124m'\u001b[39m, \u001b[38;5;28mtype\u001b[39m(\u001b[43mSalary\u001b[49m (\u001b[38;5;124m'\u001b[39m\u001b[38;5;124mSalary is:\u001b[39m\u001b[38;5;124m'\u001b[39m, Salary (\u001b[38;5;28mprint\u001b[39m(\u001b[38;5;124m'\u001b[39m\u001b[38;5;130;01m\\n\u001b[39;00m\u001b[38;5;124m'\u001b[39m, Salary \u001b[38;5;241m=\u001b[39m \u001b[38;5;28mint\u001b[39m(\u001b[38;5;28minput\u001b[39m(\u001b[38;5;124m'\u001b[39m\u001b[38;5;124mEnter Salary:\u001b[39m\u001b[38;5;124m'\u001b[39m)))))))\n",
      "\u001b[1;31mNameError\u001b[0m: name 'Salary' is not defined"
     ]
    }
   ],
   "source": [
    "Salary = print('Type is: ', type(Salary ('Salary is:', Salary (print('\\n', Salary = int(input('Enter Salary:')))))))"
   ]
  },
  {
   "cell_type": "code",
   "execution_count": 1,
   "id": "d6992a93",
   "metadata": {},
   "outputs": [
    {
     "ename": "NameError",
     "evalue": "name 'Salary' is not defined",
     "output_type": "error",
     "traceback": [
      "\u001b[1;31m---------------------------------------------------------------------------\u001b[0m",
      "\u001b[1;31mNameError\u001b[0m                                 Traceback (most recent call last)",
      "Cell \u001b[1;32mIn[1], line 1\u001b[0m\n\u001b[1;32m----> 1\u001b[0m Salary \u001b[38;5;241m=\u001b[39m \u001b[38;5;28mprint\u001b[39m(\u001b[38;5;124m'\u001b[39m\u001b[38;5;124mType is: \u001b[39m\u001b[38;5;124m'\u001b[39m, \u001b[38;5;28mtype\u001b[39m(\u001b[43mSalary\u001b[49m) (\u001b[38;5;124m'\u001b[39m\u001b[38;5;124mSalary is:\u001b[39m\u001b[38;5;124m'\u001b[39m, Salary (\u001b[38;5;28mprint\u001b[39m(\u001b[38;5;124m'\u001b[39m\u001b[38;5;130;01m\\n\u001b[39;00m\u001b[38;5;124m'\u001b[39m, Salary \u001b[38;5;241m=\u001b[39m \u001b[38;5;28mint\u001b[39m(\u001b[38;5;28minput\u001b[39m(\u001b[38;5;124m'\u001b[39m\u001b[38;5;124mEnter Salary:\u001b[39m\u001b[38;5;124m'\u001b[39m))))))\n",
      "\u001b[1;31mNameError\u001b[0m: name 'Salary' is not defined"
     ]
    }
   ],
   "source": [
    "Salary = print('Type is: ', type(Salary) ('Salary is:', Salary (print('\\n', Salary = int(input('Enter Salary:'))))))"
   ]
  },
  {
   "cell_type": "code",
   "execution_count": 4,
   "id": "71ce1743",
   "metadata": {},
   "outputs": [
    {
     "ename": "NameError",
     "evalue": "name 'Salary' is not defined",
     "output_type": "error",
     "traceback": [
      "\u001b[1;31m---------------------------------------------------------------------------\u001b[0m",
      "\u001b[1;31mNameError\u001b[0m                                 Traceback (most recent call last)",
      "Cell \u001b[1;32mIn[4], line 1\u001b[0m\n\u001b[1;32m----> 1\u001b[0m Salary \u001b[38;5;241m=\u001b[39m \u001b[38;5;28mprint\u001b[39m(\u001b[38;5;124m'\u001b[39m\u001b[38;5;124mType is: \u001b[39m\u001b[38;5;124m'\u001b[39m, \u001b[38;5;28mtype\u001b[39m(\u001b[38;5;28mint\u001b[39m(\u001b[43mSalary\u001b[49m)) (\u001b[38;5;124m'\u001b[39m\u001b[38;5;124mSalary is:\u001b[39m\u001b[38;5;124m'\u001b[39m, Salary (\u001b[38;5;28mprint\u001b[39m(\u001b[38;5;124m'\u001b[39m\u001b[38;5;130;01m\\n\u001b[39;00m\u001b[38;5;124m'\u001b[39m, Salary \u001b[38;5;241m=\u001b[39m \u001b[38;5;28mint\u001b[39m(\u001b[38;5;28minput\u001b[39m(\u001b[38;5;124m'\u001b[39m\u001b[38;5;124mEnter Salary:\u001b[39m\u001b[38;5;124m'\u001b[39m))))))\n",
      "\u001b[1;31mNameError\u001b[0m: name 'Salary' is not defined"
     ]
    }
   ],
   "source": [
    "Salary = print('Type is: ', type(int(Salary)) ('Salary is:', Salary (print('\\n', Salary = int(input('Enter Salary:'))))))"
   ]
  },
  {
   "cell_type": "code",
   "execution_count": 5,
   "id": "23ab3d1c",
   "metadata": {},
   "outputs": [
    {
     "ename": "SyntaxError",
     "evalue": "incomplete input (3664860649.py, line 1)",
     "output_type": "error",
     "traceback": [
      "\u001b[1;36m  Cell \u001b[1;32mIn[5], line 1\u001b[1;36m\u001b[0m\n\u001b[1;33m    Salary = print('Type is: ', type(int(Salary)) ('Salary is:', Salary = int(input('Enter Salary:') (print('\\n', Salary = int(input('Enter Salary:'))))))\u001b[0m\n\u001b[1;37m                                                                                                                                                          ^\u001b[0m\n\u001b[1;31mSyntaxError\u001b[0m\u001b[1;31m:\u001b[0m incomplete input\n"
     ]
    }
   ],
   "source": [
    "Salary = print('Type is: ', type(int(Salary)) ('Salary is:', Salary = int(input('Enter Salary:') (print('\\n', Salary = int(input('Enter Salary:'))))))"
   ]
  },
  {
   "cell_type": "code",
   "execution_count": 6,
   "id": "af575d96",
   "metadata": {},
   "outputs": [
    {
     "ename": "NameError",
     "evalue": "name 'Salary' is not defined",
     "output_type": "error",
     "traceback": [
      "\u001b[1;31m---------------------------------------------------------------------------\u001b[0m",
      "\u001b[1;31mNameError\u001b[0m                                 Traceback (most recent call last)",
      "Cell \u001b[1;32mIn[6], line 1\u001b[0m\n\u001b[1;32m----> 1\u001b[0m Salary \u001b[38;5;241m=\u001b[39m \u001b[38;5;28mprint\u001b[39m(\u001b[38;5;124m'\u001b[39m\u001b[38;5;124mType is: \u001b[39m\u001b[38;5;124m'\u001b[39m, \u001b[38;5;28mtype\u001b[39m(\u001b[38;5;28mint\u001b[39m(\u001b[43mSalary\u001b[49m)) (\u001b[38;5;124m'\u001b[39m\u001b[38;5;124mSalary is:\u001b[39m\u001b[38;5;124m'\u001b[39m, Salary \u001b[38;5;241m=\u001b[39m \u001b[38;5;28mint\u001b[39m(\u001b[38;5;28minput\u001b[39m(\u001b[38;5;124m'\u001b[39m\u001b[38;5;124mEnter Salary:\u001b[39m\u001b[38;5;124m'\u001b[39m) (\u001b[38;5;28mprint\u001b[39m(\u001b[38;5;124m'\u001b[39m\u001b[38;5;130;01m\\n\u001b[39;00m\u001b[38;5;124m'\u001b[39m, Salary \u001b[38;5;241m=\u001b[39m \u001b[38;5;28mint\u001b[39m(\u001b[38;5;28minput\u001b[39m(\u001b[38;5;124m'\u001b[39m\u001b[38;5;124mEnter Salary:\u001b[39m\u001b[38;5;124m'\u001b[39m)))))))\n",
      "\u001b[1;31mNameError\u001b[0m: name 'Salary' is not defined"
     ]
    }
   ],
   "source": [
    "Salary = print('Type is: ', type(int(Salary)) ('Salary is:', Salary = int(input('Enter Salary:') (print('\\n', Salary = int(input('Enter Salary:')))))))"
   ]
  },
  {
   "cell_type": "code",
   "execution_count": 7,
   "id": "71140cce",
   "metadata": {},
   "outputs": [
    {
     "ename": "SyntaxError",
     "evalue": "invalid syntax. Perhaps you forgot a comma? (1096407275.py, line 1)",
     "output_type": "error",
     "traceback": [
      "\u001b[1;36m  Cell \u001b[1;32mIn[7], line 1\u001b[1;36m\u001b[0m\n\u001b[1;33m    Salary = print('Type is: ' Salary = int(input('Enter Salary:'), type(int(Salary)) ('Salary is:', Salary = int(input('Enter Salary:') (print('\\n', Salary = int(input('Enter Salary:')))))))\u001b[0m\n\u001b[1;37m                   ^\u001b[0m\n\u001b[1;31mSyntaxError\u001b[0m\u001b[1;31m:\u001b[0m invalid syntax. Perhaps you forgot a comma?\n"
     ]
    }
   ],
   "source": [
    "Salary = print('Type is: ' Salary = int(input('Enter Salary:'), type(int(Salary)) ('Salary is:', Salary = int(input('Enter Salary:') (print('\\n', Salary = int(input('Enter Salary:')))))))"
   ]
  },
  {
   "cell_type": "code",
   "execution_count": null,
   "id": "53fc4c2e",
   "metadata": {},
   "outputs": [
    {
     "name": "stdout",
     "output_type": "stream",
     "text": [
      "Enter Salary:100000000000\n"
     ]
    }
   ],
   "source": [
    "Salary = int(input('Enter Salary:'))"
   ]
  },
  {
   "cell_type": "code",
   "execution_count": 2,
   "id": "30363159",
   "metadata": {},
   "outputs": [
    {
     "ename": "SyntaxError",
     "evalue": "invalid syntax. Perhaps you forgot a comma? (1021323114.py, line 1)",
     "output_type": "error",
     "traceback": [
      "\u001b[1;36m  Cell \u001b[1;32mIn[2], line 1\u001b[1;36m\u001b[0m\n\u001b[1;33m    Salary = print('Type is: ' Salary = int(input('Enter Salary:'), type(int('Salary')) ('Salary is:', Salary = int(input('Enter Salary:') (print('\\n', Salary = int(input('Enter Salary:')))))))\u001b[0m\n\u001b[1;37m                   ^\u001b[0m\n\u001b[1;31mSyntaxError\u001b[0m\u001b[1;31m:\u001b[0m invalid syntax. Perhaps you forgot a comma?\n"
     ]
    }
   ],
   "source": [
    "Salary = print('Type is: ' Salary = int(input('Enter Salary:'), type(int('Salary')) ('Salary is:', Salary = int(input('Enter Salary:') (print('\\n', Salary = int(input('Enter Salary:')))))))"
   ]
  },
  {
   "cell_type": "code",
   "execution_count": 3,
   "id": "bdcb1b99",
   "metadata": {},
   "outputs": [
    {
     "ename": "SyntaxError",
     "evalue": "invalid syntax. Perhaps you forgot a comma? (4030357079.py, line 1)",
     "output_type": "error",
     "traceback": [
      "\u001b[1;36m  Cell \u001b[1;32mIn[3], line 1\u001b[1;36m\u001b[0m\n\u001b[1;33m    Salary = print('Type is: ' Salary = int(input('Enter Salary:'), type(int('Salary')) ('Salary is:', Salary = int(input('Enter Salary:') , (print('\\n', Salary = int(input('Enter Salary:')))))))\u001b[0m\n\u001b[1;37m                   ^\u001b[0m\n\u001b[1;31mSyntaxError\u001b[0m\u001b[1;31m:\u001b[0m invalid syntax. Perhaps you forgot a comma?\n"
     ]
    }
   ],
   "source": [
    "Salary = print('Type is: ' Salary = int(input('Enter Salary:'), type(int('Salary')) ('Salary is:', Salary = int(input('Enter Salary:') , (print('\\n', Salary = int(input('Enter Salary:')))))))"
   ]
  },
  {
   "cell_type": "code",
   "execution_count": 4,
   "id": "c3ea43c5",
   "metadata": {},
   "outputs": [
    {
     "ename": "SyntaxError",
     "evalue": "invalid syntax (3531019275.py, line 1)",
     "output_type": "error",
     "traceback": [
      "\u001b[1;36m  Cell \u001b[1;32mIn[4], line 1\u001b[1;36m\u001b[0m\n\u001b[1;33m    Salary = print('Type is: ', type('Salary') (Salary is:', Salary (print('\\n', Salary = int(input('Enter Salary:'))))))\u001b[0m\n\u001b[1;37m                                                         ^\u001b[0m\n\u001b[1;31mSyntaxError\u001b[0m\u001b[1;31m:\u001b[0m invalid syntax\n"
     ]
    }
   ],
   "source": [
    "Salary = print('Type is: ', type('Salary') (Salary is:', Salary (print('\\n', Salary = int(input('Enter Salary:'))))))"
   ]
  },
  {
   "cell_type": "code",
   "execution_count": 6,
   "id": "bfcb317a",
   "metadata": {},
   "outputs": [
    {
     "ename": "NameError",
     "evalue": "name 'Salary' is not defined",
     "output_type": "error",
     "traceback": [
      "\u001b[1;31m---------------------------------------------------------------------------\u001b[0m",
      "\u001b[1;31mNameError\u001b[0m                                 Traceback (most recent call last)",
      "Cell \u001b[1;32mIn[6], line 1\u001b[0m\n\u001b[1;32m----> 1\u001b[0m Salary \u001b[38;5;241m=\u001b[39m \u001b[38;5;28mprint\u001b[39m(\u001b[38;5;124m'\u001b[39m\u001b[38;5;124mType is: \u001b[39m\u001b[38;5;124m'\u001b[39m, \u001b[38;5;28mtype\u001b[39m(\u001b[38;5;124m'\u001b[39m\u001b[38;5;124mSalary\u001b[39m\u001b[38;5;124m'\u001b[39m) ( \u001b[43mSalary\u001b[49m (\u001b[38;5;28mprint\u001b[39m(\u001b[38;5;124m'\u001b[39m\u001b[38;5;130;01m\\n\u001b[39;00m\u001b[38;5;124m'\u001b[39m, Salary \u001b[38;5;241m=\u001b[39m \u001b[38;5;28mint\u001b[39m(\u001b[38;5;28minput\u001b[39m(\u001b[38;5;124m'\u001b[39m\u001b[38;5;124mEnter Salary:\u001b[39m\u001b[38;5;124m'\u001b[39m))))))\n",
      "\u001b[1;31mNameError\u001b[0m: name 'Salary' is not defined"
     ]
    }
   ],
   "source": [
    "Salary = print('Type is: ', type('Salary') ( Salary (print('\\n', Salary = int(input('Enter Salary:'))))))"
   ]
  },
  {
   "cell_type": "code",
   "execution_count": 1,
   "id": "3fb19a75",
   "metadata": {},
   "outputs": [
    {
     "ename": "SyntaxError",
     "evalue": "unexpected character after line continuation character (2191106026.py, line 1)",
     "output_type": "error",
     "traceback": [
      "\u001b[1;36m  Cell \u001b[1;32mIn[1], line 1\u001b[1;36m\u001b[0m\n\u001b[1;33m    print'('\\n', Salary = int(input('Enter Salary:'))'\u001b[0m\n\u001b[1;37m             ^\u001b[0m\n\u001b[1;31mSyntaxError\u001b[0m\u001b[1;31m:\u001b[0m unexpected character after line continuation character\n"
     ]
    }
   ],
   "source": [
    "print'('\\n', Salary = int(input('Enter Salary:'))'  ### quotations are not allowed outside the parenteses"
   ]
  },
  {
   "cell_type": "code",
   "execution_count": 2,
   "id": "99b46825",
   "metadata": {},
   "outputs": [
    {
     "name": "stdout",
     "output_type": "stream",
     "text": [
      "Enter Salary:100000000000\n"
     ]
    },
    {
     "ename": "TypeError",
     "evalue": "'Salary' is an invalid keyword argument for print()",
     "output_type": "error",
     "traceback": [
      "\u001b[1;31m---------------------------------------------------------------------------\u001b[0m",
      "\u001b[1;31mTypeError\u001b[0m                                 Traceback (most recent call last)",
      "Cell \u001b[1;32mIn[2], line 1\u001b[0m\n\u001b[1;32m----> 1\u001b[0m \u001b[38;5;28;43mprint\u001b[39;49m\u001b[43m(\u001b[49m\u001b[38;5;124;43m'\u001b[39;49m\u001b[38;5;130;43;01m\\n\u001b[39;49;00m\u001b[38;5;124;43m'\u001b[39;49m\u001b[43m,\u001b[49m\u001b[43m \u001b[49m\u001b[43mSalary\u001b[49m\u001b[43m \u001b[49m\u001b[38;5;241;43m=\u001b[39;49m\u001b[43m \u001b[49m\u001b[38;5;28;43mint\u001b[39;49m\u001b[43m(\u001b[49m\u001b[38;5;28;43minput\u001b[39;49m\u001b[43m(\u001b[49m\u001b[38;5;124;43m'\u001b[39;49m\u001b[38;5;124;43mEnter Salary:\u001b[39;49m\u001b[38;5;124;43m'\u001b[39;49m\u001b[43m)\u001b[49m\u001b[43m)\u001b[49m\u001b[43m)\u001b[49m\n",
      "\u001b[1;31mTypeError\u001b[0m: 'Salary' is an invalid keyword argument for print()"
     ]
    }
   ],
   "source": [
    "print('\\n', Salary = int(input('Enter Salary:')))"
   ]
  },
  {
   "cell_type": "code",
   "execution_count": 3,
   "id": "d28ecfc8",
   "metadata": {},
   "outputs": [
    {
     "ename": "NameError",
     "evalue": "name 'salary' is not defined",
     "output_type": "error",
     "traceback": [
      "\u001b[1;31m---------------------------------------------------------------------------\u001b[0m",
      "\u001b[1;31mNameError\u001b[0m                                 Traceback (most recent call last)",
      "Cell \u001b[1;32mIn[3], line 1\u001b[0m\n\u001b[1;32m----> 1\u001b[0m \u001b[38;5;28mprint\u001b[39m(\u001b[43msalary\u001b[49m)\n",
      "\u001b[1;31mNameError\u001b[0m: name 'salary' is not defined"
     ]
    }
   ],
   "source": [
    "print(salary)"
   ]
  },
  {
   "cell_type": "code",
   "execution_count": 9,
   "id": "f0a4c10b",
   "metadata": {},
   "outputs": [
    {
     "name": "stdout",
     "output_type": "stream",
     "text": [
      "salary\n"
     ]
    }
   ],
   "source": [
    "print('salary')"
   ]
  },
  {
   "cell_type": "code",
   "execution_count": 4,
   "id": "ec28b388",
   "metadata": {},
   "outputs": [
    {
     "name": "stdout",
     "output_type": "stream",
     "text": [
      "Enter Salary:10000000\n",
      "10000000\n"
     ]
    }
   ],
   "source": [
    "print(int(input('Enter Salary:')))"
   ]
  },
  {
   "cell_type": "code",
   "execution_count": 5,
   "id": "13978e0b",
   "metadata": {},
   "outputs": [
    {
     "ename": "SyntaxError",
     "evalue": "expression cannot contain assignment, perhaps you meant \"==\"? (2634341501.py, line 1)",
     "output_type": "error",
     "traceback": [
      "\u001b[1;36m  Cell \u001b[1;32mIn[5], line 1\u001b[1;36m\u001b[0m\n\u001b[1;33m    print('\\n', 'Salary' = int(input('Enter Salary:')))\u001b[0m\n\u001b[1;37m                ^\u001b[0m\n\u001b[1;31mSyntaxError\u001b[0m\u001b[1;31m:\u001b[0m expression cannot contain assignment, perhaps you meant \"==\"?\n"
     ]
    }
   ],
   "source": [
    "print('\\n', 'Salary' = int(input('Enter Salary:')))"
   ]
  },
  {
   "cell_type": "code",
   "execution_count": 6,
   "id": "00462afa",
   "metadata": {},
   "outputs": [
    {
     "ename": "TypeError",
     "evalue": "'x' is an invalid keyword argument for print()",
     "output_type": "error",
     "traceback": [
      "\u001b[1;31m---------------------------------------------------------------------------\u001b[0m",
      "\u001b[1;31mTypeError\u001b[0m                                 Traceback (most recent call last)",
      "Cell \u001b[1;32mIn[6], line 1\u001b[0m\n\u001b[1;32m----> 1\u001b[0m \u001b[38;5;28;43mprint\u001b[39;49m\u001b[43m(\u001b[49m\u001b[43mx\u001b[49m\u001b[43m \u001b[49m\u001b[38;5;241;43m=\u001b[39;49m\u001b[43m \u001b[49m\u001b[38;5;241;43m10\u001b[39;49m\u001b[43m)\u001b[49m\n",
      "\u001b[1;31mTypeError\u001b[0m: 'x' is an invalid keyword argument for print()"
     ]
    }
   ],
   "source": [
    "print(x = 10)    #### print invalid keyword argument -- print -- only pre-defined keywords"
   ]
  },
  {
   "cell_type": "code",
   "execution_count": 7,
   "id": "d32c4561",
   "metadata": {},
   "outputs": [
    {
     "name": "stdout",
     "output_type": "stream",
     "text": [
      "10\n"
     ]
    }
   ],
   "source": [
    "x = 10\n",
    "print(x)"
   ]
  },
  {
   "cell_type": "code",
   "execution_count": 8,
   "id": "29943547",
   "metadata": {},
   "outputs": [
    {
     "name": "stdout",
     "output_type": "stream",
     "text": [
      "Enter Salary:10000000000\n",
      "\n",
      " 10000000000\n"
     ]
    }
   ],
   "source": [
    "print('\\n', int(input('Enter Salary:')))"
   ]
  },
  {
   "cell_type": "markdown",
   "id": "b654169c",
   "metadata": {},
   "source": [
    "# use only pre-defined keywords in the PYthon\n",
    "\n",
    "- Example in print, int, class... \n"
   ]
  },
  {
   "cell_type": "code",
   "execution_count": null,
   "id": "a318b4ad",
   "metadata": {},
   "outputs": [],
   "source": []
  },
  {
   "cell_type": "code",
   "execution_count": null,
   "id": "090d7818",
   "metadata": {},
   "outputs": [],
   "source": []
  },
  {
   "cell_type": "code",
   "execution_count": 1,
   "id": "66b543f0",
   "metadata": {},
   "outputs": [
    {
     "ename": "TypeError",
     "evalue": "Kernel.raw_input() takes from 1 to 2 positional arguments but 3 were given",
     "output_type": "error",
     "traceback": [
      "\u001b[1;31m---------------------------------------------------------------------------\u001b[0m",
      "\u001b[1;31mTypeError\u001b[0m                                 Traceback (most recent call last)",
      "Cell \u001b[1;32mIn[1], line 1\u001b[0m\n\u001b[1;32m----> 1\u001b[0m x \u001b[38;5;241m=\u001b[39m \u001b[38;5;28;43minput\u001b[39;49m\u001b[43m(\u001b[49m\u001b[38;5;124;43m\"\u001b[39;49m\u001b[38;5;124;43mEnter roll number:  \u001b[39;49m\u001b[38;5;124;43m\"\u001b[39;49m\u001b[43m \u001b[49m\u001b[43m,\u001b[49m\u001b[43m \u001b[49m\u001b[38;5;124;43m\"\u001b[39;49m\u001b[38;5;124;43mName of student:   \u001b[39;49m\u001b[38;5;124;43m\"\u001b[39;49m\u001b[43m)\u001b[49m\n",
      "\u001b[1;31mTypeError\u001b[0m: Kernel.raw_input() takes from 1 to 2 positional arguments but 3 were given"
     ]
    }
   ],
   "source": [
    "x = input(\"Enter roll number:  \" , \"Name of student:   \")"
   ]
  },
  {
   "cell_type": "code",
   "execution_count": 2,
   "id": "aaab27de",
   "metadata": {},
   "outputs": [
    {
     "name": "stdout",
     "output_type": "stream",
     "text": [
      "Enter roll number:  Name of student:   1 - Aj\n"
     ]
    }
   ],
   "source": [
    "x = input(\"Enter roll number:  \" \"Name of student:   \")"
   ]
  },
  {
   "cell_type": "code",
   "execution_count": 3,
   "id": "cb985cfb",
   "metadata": {},
   "outputs": [
    {
     "name": "stdout",
     "output_type": "stream",
     "text": [
      "Enter roll number and Name of student: 1 AJ\n"
     ]
    }
   ],
   "source": [
    "x = input(\"Enter roll number and Name of student: \")"
   ]
  },
  {
   "cell_type": "code",
   "execution_count": null,
   "id": "cb0284ae",
   "metadata": {},
   "outputs": [],
   "source": []
  }
 ],
 "metadata": {
  "kernelspec": {
   "display_name": "Python 3 (ipykernel)",
   "language": "python",
   "name": "python3"
  },
  "language_info": {
   "codemirror_mode": {
    "name": "ipython",
    "version": 3
   },
   "file_extension": ".py",
   "mimetype": "text/x-python",
   "name": "python",
   "nbconvert_exporter": "python",
   "pygments_lexer": "ipython3",
   "version": "3.10.9"
  }
 },
 "nbformat": 4,
 "nbformat_minor": 5
}
