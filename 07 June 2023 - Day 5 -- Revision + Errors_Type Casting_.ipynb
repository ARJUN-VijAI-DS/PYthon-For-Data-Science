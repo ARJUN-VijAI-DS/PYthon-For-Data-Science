{
 "cells": [
  {
   "cell_type": "code",
   "execution_count": 1,
   "id": "72f257ec",
   "metadata": {},
   "outputs": [
    {
     "name": "stdout",
     "output_type": "stream",
     "text": [
      "I am Data Scientict\n"
     ]
    }
   ],
   "source": [
    "print('I am Data Scientict')"
   ]
  },
  {
   "cell_type": "code",
   "execution_count": 2,
   "id": "ff7ed992",
   "metadata": {},
   "outputs": [
    {
     "ename": "SyntaxError",
     "evalue": "invalid syntax (3039502208.py, line 1)",
     "output_type": "error",
     "traceback": [
      "\u001b[1;36m  Cell \u001b[1;32mIn[2], line 1\u001b[1;36m\u001b[0m\n\u001b[1;33m    print('I am Data Scientict')  '''Hello'''\u001b[0m\n\u001b[1;37m                                  ^\u001b[0m\n\u001b[1;31mSyntaxError\u001b[0m\u001b[1;31m:\u001b[0m invalid syntax\n"
     ]
    }
   ],
   "source": [
    "print('I am Data Scientict')  '''Hello'''"
   ]
  },
  {
   "cell_type": "code",
   "execution_count": 3,
   "id": "378d85f2",
   "metadata": {},
   "outputs": [
    {
     "name": "stdout",
     "output_type": "stream",
     "text": [
      "I am Data Scientict\n"
     ]
    },
    {
     "data": {
      "text/plain": [
       "'Hello'"
      ]
     },
     "execution_count": 3,
     "metadata": {},
     "output_type": "execute_result"
    }
   ],
   "source": [
    "print('I am Data Scientict')   # print and Doc String are used in different line \n",
    "'''Hello'''"
   ]
  },
  {
   "cell_type": "markdown",
   "id": "8f78aed4",
   "metadata": {},
   "source": [
    "# Example of statically typed language \n",
    "C++, C , JAVA"
   ]
  },
  {
   "cell_type": "code",
   "execution_count": 7,
   "id": "8caf9798",
   "metadata": {},
   "outputs": [
    {
     "name": "stdout",
     "output_type": "stream",
     "text": [
      "I am Data Scientict\n"
     ]
    },
    {
     "data": {
      "text/plain": [
       "'Hello   \\\\   \\nHELLO'"
      ]
     },
     "execution_count": 7,
     "metadata": {},
     "output_type": "execute_result"
    }
   ],
   "source": [
    "print('I am Data Scientict')   # print and Doc String are used in different line \n",
    "'''Hello   \\   \n",
    "HELLO'''"
   ]
  },
  {
   "cell_type": "code",
   "execution_count": 8,
   "id": "45a5b7b6",
   "metadata": {},
   "outputs": [
    {
     "name": "stdout",
     "output_type": "stream",
     "text": [
      "I am Data Scientict\n"
     ]
    },
    {
     "data": {
      "text/plain": [
       "'Hello \\\\   \\nHELLO'"
      ]
     },
     "execution_count": 8,
     "metadata": {},
     "output_type": "execute_result"
    }
   ],
   "source": [
    "print('I am Data Scientict')   # print and Doc String are used in different line \n",
    "'''Hello \\   \n",
    "HELLO'''"
   ]
  },
  {
   "cell_type": "code",
   "execution_count": 12,
   "id": "e42dc947",
   "metadata": {},
   "outputs": [
    {
     "name": "stdout",
     "output_type": "stream",
     "text": [
      "I am Data Scientict\n"
     ]
    },
    {
     "data": {
      "text/plain": [
       "'HelloHELLO'"
      ]
     },
     "execution_count": 12,
     "metadata": {},
     "output_type": "execute_result"
    }
   ],
   "source": [
    "print('I am Data Scientict')   # print and Doc String are used in different line \n",
    "'''Hello\\\n",
    "HELLO'''"
   ]
  },
  {
   "cell_type": "code",
   "execution_count": 13,
   "id": "21e4c4d4",
   "metadata": {},
   "outputs": [
    {
     "name": "stdout",
     "output_type": "stream",
     "text": [
      "I am Data Scientict\n"
     ]
    },
    {
     "data": {
      "text/plain": [
       "'Hello\\nHELLO'"
      ]
     },
     "execution_count": 13,
     "metadata": {},
     "output_type": "execute_result"
    }
   ],
   "source": [
    "print('I am Data Scientict')\n",
    "# print and Doc String are used in different line to show the comment and print in next line \n",
    "'''Hello\n",
    "\\\n",
    "HELLO'''"
   ]
  },
  {
   "cell_type": "markdown",
   "id": "721a0c81",
   "metadata": {},
   "source": [
    "Commet                             Doc string\n",
    "\n",
    "aviod                              Not Avioded\n",
    "has - tag                          no has-tag\n",
    "None                               Triple quotation "
   ]
  },
  {
   "cell_type": "markdown",
   "id": "a36956c3",
   "metadata": {},
   "source": [
    "#  DATA type:\n",
    "\n",
    "Primitive -- Numbers, strings and None\n",
    "\n",
    "          -- Numbers(float, integer, complex, bool) \n",
    "          \n",
    "\n",
    "Non - Primitive --- list, dictionary, set, tuples\n",
    "\n"
   ]
  },
  {
   "cell_type": "code",
   "execution_count": 14,
   "id": "f9376c11",
   "metadata": {},
   "outputs": [
    {
     "data": {
      "text/plain": [
       "True"
      ]
     },
     "execution_count": 14,
     "metadata": {},
     "output_type": "execute_result"
    }
   ],
   "source": [
    "bool(\"123\")"
   ]
  },
  {
   "cell_type": "code",
   "execution_count": 15,
   "id": "dfb5a5b0",
   "metadata": {},
   "outputs": [
    {
     "ename": "NameError",
     "evalue": "name 'true' is not defined",
     "output_type": "error",
     "traceback": [
      "\u001b[1;31m---------------------------------------------------------------------------\u001b[0m",
      "\u001b[1;31mNameError\u001b[0m                                 Traceback (most recent call last)",
      "Cell \u001b[1;32mIn[15], line 1\u001b[0m\n\u001b[1;32m----> 1\u001b[0m \u001b[38;5;28mint\u001b[39m(\u001b[38;5;28mbool\u001b[39m(\u001b[43mtrue\u001b[49m))\n",
      "\u001b[1;31mNameError\u001b[0m: name 'true' is not defined"
     ]
    }
   ],
   "source": [
    "int(bool(true))"
   ]
  },
  {
   "cell_type": "code",
   "execution_count": 16,
   "id": "ca02545d",
   "metadata": {},
   "outputs": [
    {
     "data": {
      "text/plain": [
       "1"
      ]
     },
     "execution_count": 16,
     "metadata": {},
     "output_type": "execute_result"
    }
   ],
   "source": [
    "int(bool('true'))"
   ]
  },
  {
   "cell_type": "code",
   "execution_count": 17,
   "id": "16e6aecc",
   "metadata": {},
   "outputs": [
    {
     "data": {
      "text/plain": [
       "1"
      ]
     },
     "execution_count": 17,
     "metadata": {},
     "output_type": "execute_result"
    }
   ],
   "source": [
    "int(True)"
   ]
  },
  {
   "cell_type": "markdown",
   "id": "b0870485",
   "metadata": {},
   "source": [
    "# Type casting:\n",
    "\n",
    "- int()\n",
    "\n",
    "- float()\n",
    "\n",
    "- bool()\n",
    "\n",
    "- complex()\n",
    "\n",
    "- str()\n",
    "\n",
    "\n",
    "   - Not - Told\n",
    "\n",
    "- tuple()\n",
    "- list()\n",
    "- dic()\n",
    "- set()\n",
    "\n",
    "# '-' sign is converted to bulleten"
   ]
  },
  {
   "cell_type": "code",
   "execution_count": 1,
   "id": "9ad0eb84",
   "metadata": {},
   "outputs": [
    {
     "ename": "TypeError",
     "evalue": "int() argument must be a string, a bytes-like object or a real number, not 'type'",
     "output_type": "error",
     "traceback": [
      "\u001b[1;31m---------------------------------------------------------------------------\u001b[0m",
      "\u001b[1;31mTypeError\u001b[0m                                 Traceback (most recent call last)",
      "Cell \u001b[1;32mIn[1], line 1\u001b[0m\n\u001b[1;32m----> 1\u001b[0m \u001b[38;5;28;43mint\u001b[39;49m\u001b[43m(\u001b[49m\u001b[38;5;28;43mtype\u001b[39;49m\u001b[43m(\u001b[49m\u001b[38;5;241;43m90.9\u001b[39;49m\u001b[43m)\u001b[49m\u001b[43m)\u001b[49m\n",
      "\u001b[1;31mTypeError\u001b[0m: int() argument must be a string, a bytes-like object or a real number, not 'type'"
     ]
    }
   ],
   "source": [
    "int(type(90.9))"
   ]
  },
  {
   "cell_type": "code",
   "execution_count": 3,
   "id": "b5a18991",
   "metadata": {},
   "outputs": [
    {
     "name": "stdout",
     "output_type": "stream",
     "text": [
      "90\n"
     ]
    }
   ],
   "source": [
    "type(float(90))"
   ]
  },
  {
   "cell_type": "code",
   "execution_count": 4,
   "id": "c5502bc5",
   "metadata": {},
   "outputs": [
    {
     "name": "stdout",
     "output_type": "stream",
     "text": [
      "90\n"
     ]
    }
   ],
   "source": [
    "x = 90\n",
    "type(float(x))\n",
    "print(x)"
   ]
  },
  {
   "cell_type": "code",
   "execution_count": 6,
   "id": "cf4af775",
   "metadata": {},
   "outputs": [
    {
     "name": "stdout",
     "output_type": "stream",
     "text": [
      "<class 'float'>\n",
      "90.0\n"
     ]
    }
   ],
   "source": [
    "x = 90\n",
    "x = float(x)\n",
    "print(type(x))\n",
    "print(x)"
   ]
  },
  {
   "cell_type": "code",
   "execution_count": 3,
   "id": "5f1cbc2f",
   "metadata": {},
   "outputs": [
    {
     "name": "stdout",
     "output_type": "stream",
     "text": [
      "<class 'float'>\n"
     ]
    }
   ],
   "source": [
    "print(type(float(90)))"
   ]
  },
  {
   "cell_type": "markdown",
   "id": "75f7d99b",
   "metadata": {},
   "source": [
    "# Variable\n"
   ]
  },
  {
   "cell_type": "code",
   "execution_count": 4,
   "id": "767539cd",
   "metadata": {},
   "outputs": [
    {
     "name": "stdout",
     "output_type": "stream",
     "text": [
      "10 11\n",
      "2891812700688 2891812700720\n"
     ]
    }
   ],
   "source": [
    "x = 10\n",
    "y = 11\n",
    "print(x,y)\n",
    "print(id(x),id(y))\n"
   ]
  },
  {
   "cell_type": "code",
   "execution_count": 5,
   "id": "ff42c5c4",
   "metadata": {},
   "outputs": [
    {
     "name": "stdout",
     "output_type": "stream",
     "text": [
      "2891812700688 2891812700752 2891812700752\n"
     ]
    }
   ],
   "source": [
    "x = 10; y = 12; z = y\n",
    "print(id(x),id(y),id(z))"
   ]
  },
  {
   "cell_type": "markdown",
   "id": "12a8b33b",
   "metadata": {},
   "source": [
    "# operator"
   ]
  },
  {
   "cell_type": "code",
   "execution_count": 6,
   "id": "c78c3420",
   "metadata": {},
   "outputs": [
    {
     "data": {
      "text/plain": [
       "9.2"
      ]
     },
     "execution_count": 6,
     "metadata": {},
     "output_type": "execute_result"
    }
   ],
   "source": [
    "46/5"
   ]
  },
  {
   "cell_type": "code",
   "execution_count": 7,
   "id": "06d09a3d",
   "metadata": {},
   "outputs": [
    {
     "data": {
      "text/plain": [
       "9"
      ]
     },
     "execution_count": 7,
     "metadata": {},
     "output_type": "execute_result"
    }
   ],
   "source": [
    "46//5 # floor division (without point)"
   ]
  },
  {
   "cell_type": "code",
   "execution_count": 8,
   "id": "5338a5b7",
   "metadata": {},
   "outputs": [
    {
     "data": {
      "text/plain": [
       "1"
      ]
     },
     "execution_count": 8,
     "metadata": {},
     "output_type": "execute_result"
    }
   ],
   "source": [
    "46%5 # modulas (gives remainder)"
   ]
  },
  {
   "cell_type": "markdown",
   "id": "15644de6",
   "metadata": {},
   "source": [
    "# Escape Sequences\n",
    "\n",
    "- \\'       - print in single\n",
    "\n",
    "- \\\\       -- \n",
    "- \\n       --\n",
    "- \\b       --\n",
    "- \\t       --\n",
    "- \\r       --\n"
   ]
  },
  {
   "cell_type": "code",
   "execution_count": 9,
   "id": "0f5acd82",
   "metadata": {},
   "outputs": [
    {
     "name": "stdout",
     "output_type": "stream",
     "text": [
      "'Python'\n"
     ]
    }
   ],
   "source": [
    "print('\\'Python\\'')"
   ]
  },
  {
   "cell_type": "code",
   "execution_count": null,
   "id": "178c0e1d",
   "metadata": {},
   "outputs": [],
   "source": []
  }
 ],
 "metadata": {
  "kernelspec": {
   "display_name": "Python 3 (ipykernel)",
   "language": "python",
   "name": "python3"
  },
  "language_info": {
   "codemirror_mode": {
    "name": "ipython",
    "version": 3
   },
   "file_extension": ".py",
   "mimetype": "text/x-python",
   "name": "python",
   "nbconvert_exporter": "python",
   "pygments_lexer": "ipython3",
   "version": "3.10.9"
  }
 },
 "nbformat": 4,
 "nbformat_minor": 5
}
