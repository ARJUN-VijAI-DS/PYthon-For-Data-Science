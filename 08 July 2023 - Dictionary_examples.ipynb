{
 "cells": [
  {
   "cell_type": "code",
   "execution_count": 4,
   "id": "b5cb664b",
   "metadata": {},
   "outputs": [
    {
     "name": "stdout",
     "output_type": "stream",
     "text": [
      "students:1\n"
     ]
    },
    {
     "data": {
      "text/plain": [
       "'aa'"
      ]
     },
     "execution_count": 4,
     "metadata": {},
     "output_type": "execute_result"
    }
   ],
   "source": [
    "students = {1:\"aa\",2:\"bb\",3:\"cc\",4:\"dd\",5:\"ee\",6:\"ff\",7:\"gg\",8:\"hh\",9:\"ii\",10:\"jj\"}\n",
    "\n",
    "x = int(input(\"students:\"))\n",
    "students[x]"
   ]
  },
  {
   "cell_type": "code",
   "execution_count": 5,
   "id": "ef7dd0f3",
   "metadata": {},
   "outputs": [
    {
     "name": "stdout",
     "output_type": "stream",
     "text": [
      "students:aa\n"
     ]
    },
    {
     "ename": "KeyError",
     "evalue": "'aa'",
     "output_type": "error",
     "traceback": [
      "\u001b[1;31m---------------------------------------------------------------------------\u001b[0m",
      "\u001b[1;31mKeyError\u001b[0m                                  Traceback (most recent call last)",
      "Cell \u001b[1;32mIn[5], line 5\u001b[0m\n\u001b[0;32m      2\u001b[0m students \u001b[38;5;241m=\u001b[39m {\u001b[38;5;241m1\u001b[39m:\u001b[38;5;124m\"\u001b[39m\u001b[38;5;124maa\u001b[39m\u001b[38;5;124m\"\u001b[39m,\u001b[38;5;241m2\u001b[39m:\u001b[38;5;124m\"\u001b[39m\u001b[38;5;124mbb\u001b[39m\u001b[38;5;124m\"\u001b[39m,\u001b[38;5;241m3\u001b[39m:\u001b[38;5;124m\"\u001b[39m\u001b[38;5;124mcc\u001b[39m\u001b[38;5;124m\"\u001b[39m,\u001b[38;5;241m4\u001b[39m:\u001b[38;5;124m\"\u001b[39m\u001b[38;5;124mdd\u001b[39m\u001b[38;5;124m\"\u001b[39m,\u001b[38;5;241m5\u001b[39m:\u001b[38;5;124m\"\u001b[39m\u001b[38;5;124mee\u001b[39m\u001b[38;5;124m\"\u001b[39m,\u001b[38;5;241m6\u001b[39m:\u001b[38;5;124m\"\u001b[39m\u001b[38;5;124mff\u001b[39m\u001b[38;5;124m\"\u001b[39m,\u001b[38;5;241m7\u001b[39m:\u001b[38;5;124m\"\u001b[39m\u001b[38;5;124mgg\u001b[39m\u001b[38;5;124m\"\u001b[39m,\u001b[38;5;241m8\u001b[39m:\u001b[38;5;124m\"\u001b[39m\u001b[38;5;124mhh\u001b[39m\u001b[38;5;124m\"\u001b[39m,\u001b[38;5;241m9\u001b[39m:\u001b[38;5;124m\"\u001b[39m\u001b[38;5;124mii\u001b[39m\u001b[38;5;124m\"\u001b[39m,\u001b[38;5;241m10\u001b[39m:\u001b[38;5;124m\"\u001b[39m\u001b[38;5;124mjj\u001b[39m\u001b[38;5;124m\"\u001b[39m}\n\u001b[0;32m      4\u001b[0m x \u001b[38;5;241m=\u001b[39m \u001b[38;5;28minput\u001b[39m(\u001b[38;5;124m\"\u001b[39m\u001b[38;5;124mstudents:\u001b[39m\u001b[38;5;124m\"\u001b[39m)\n\u001b[1;32m----> 5\u001b[0m \u001b[43mstudents\u001b[49m\u001b[43m[\u001b[49m\u001b[43mx\u001b[49m\u001b[43m]\u001b[49m\n",
      "\u001b[1;31mKeyError\u001b[0m: 'aa'"
     ]
    }
   ],
   "source": [
    "## Enter the value in a dictionary and key must be printed\n",
    "students = {1:\"aa\",2:\"bb\",3:\"cc\",4:\"dd\",5:\"ee\",6:\"ff\",7:\"gg\",8:\"hh\",9:\"ii\",10:\"jj\"}\n",
    "\n",
    "x = input(\"students:\")\n",
    "students[x]"
   ]
  },
  {
   "cell_type": "code",
   "execution_count": 6,
   "id": "f870bcef",
   "metadata": {},
   "outputs": [
    {
     "name": "stdout",
     "output_type": "stream",
     "text": [
      "students:aa\n"
     ]
    },
    {
     "ename": "TypeError",
     "evalue": "'dict' object is not callable",
     "output_type": "error",
     "traceback": [
      "\u001b[1;31m---------------------------------------------------------------------------\u001b[0m",
      "\u001b[1;31mTypeError\u001b[0m                                 Traceback (most recent call last)",
      "Cell \u001b[1;32mIn[6], line 4\u001b[0m\n\u001b[0;32m      1\u001b[0m students \u001b[38;5;241m=\u001b[39m {\u001b[38;5;241m1\u001b[39m:\u001b[38;5;124m\"\u001b[39m\u001b[38;5;124maa\u001b[39m\u001b[38;5;124m\"\u001b[39m,\u001b[38;5;241m2\u001b[39m:\u001b[38;5;124m\"\u001b[39m\u001b[38;5;124mbb\u001b[39m\u001b[38;5;124m\"\u001b[39m,\u001b[38;5;241m3\u001b[39m:\u001b[38;5;124m\"\u001b[39m\u001b[38;5;124mcc\u001b[39m\u001b[38;5;124m\"\u001b[39m,\u001b[38;5;241m4\u001b[39m:\u001b[38;5;124m\"\u001b[39m\u001b[38;5;124mdd\u001b[39m\u001b[38;5;124m\"\u001b[39m,\u001b[38;5;241m5\u001b[39m:\u001b[38;5;124m\"\u001b[39m\u001b[38;5;124mee\u001b[39m\u001b[38;5;124m\"\u001b[39m,\u001b[38;5;241m6\u001b[39m:\u001b[38;5;124m\"\u001b[39m\u001b[38;5;124mff\u001b[39m\u001b[38;5;124m\"\u001b[39m,\u001b[38;5;241m7\u001b[39m:\u001b[38;5;124m\"\u001b[39m\u001b[38;5;124mgg\u001b[39m\u001b[38;5;124m\"\u001b[39m,\u001b[38;5;241m8\u001b[39m:\u001b[38;5;124m\"\u001b[39m\u001b[38;5;124mhh\u001b[39m\u001b[38;5;124m\"\u001b[39m,\u001b[38;5;241m9\u001b[39m:\u001b[38;5;124m\"\u001b[39m\u001b[38;5;124mii\u001b[39m\u001b[38;5;124m\"\u001b[39m,\u001b[38;5;241m10\u001b[39m:\u001b[38;5;124m\"\u001b[39m\u001b[38;5;124mjj\u001b[39m\u001b[38;5;124m\"\u001b[39m}\n\u001b[0;32m      3\u001b[0m x \u001b[38;5;241m=\u001b[39m \u001b[38;5;28minput\u001b[39m(\u001b[38;5;124m\"\u001b[39m\u001b[38;5;124mstudents:\u001b[39m\u001b[38;5;124m\"\u001b[39m)\n\u001b[1;32m----> 4\u001b[0m \u001b[43mstudents\u001b[49m\u001b[43m(\u001b[49m\u001b[43m)\u001b[49m\n",
      "\u001b[1;31mTypeError\u001b[0m: 'dict' object is not callable"
     ]
    }
   ],
   "source": [
    "students = {1:\"aa\",2:\"bb\",3:\"cc\",4:\"dd\",5:\"ee\",6:\"ff\",7:\"gg\",8:\"hh\",9:\"ii\",10:\"jj\"}\n",
    "\n",
    "x = input(\"students:\")\n",
    "students()"
   ]
  },
  {
   "cell_type": "code",
   "execution_count": 7,
   "id": "c16861d3",
   "metadata": {},
   "outputs": [
    {
     "name": "stdout",
     "output_type": "stream",
     "text": [
      "students:aa\n"
     ]
    },
    {
     "data": {
      "text/plain": [
       "{1: 'aa',\n",
       " 2: 'bb',\n",
       " 3: 'cc',\n",
       " 4: 'dd',\n",
       " 5: 'ee',\n",
       " 6: 'ff',\n",
       " 7: 'gg',\n",
       " 8: 'hh',\n",
       " 9: 'ii',\n",
       " 10: 'jj'}"
      ]
     },
     "execution_count": 7,
     "metadata": {},
     "output_type": "execute_result"
    }
   ],
   "source": [
    "students = {1:\"aa\",2:\"bb\",3:\"cc\",4:\"dd\",5:\"ee\",6:\"ff\",7:\"gg\",8:\"hh\",9:\"ii\",10:\"jj\"}\n",
    "\n",
    "x = input(\"students:\")\n",
    "students"
   ]
  },
  {
   "cell_type": "code",
   "execution_count": null,
   "id": "8e5de94e",
   "metadata": {},
   "outputs": [],
   "source": [
    "students = {1:\"aa\",2:\"bb\",3:\"cc\",4:\"dd\",5:\"ee\",6:\"ff\",7:\"gg\",8:\"hh\",9:\"ii\",10:\"jj\"}\n",
    "\n",
    "x = int(input(\"students:\"))\n",
    "students[x]"
   ]
  }
 ],
 "metadata": {
  "kernelspec": {
   "display_name": "Python 3 (ipykernel)",
   "language": "python",
   "name": "python3"
  },
  "language_info": {
   "codemirror_mode": {
    "name": "ipython",
    "version": 3
   },
   "file_extension": ".py",
   "mimetype": "text/x-python",
   "name": "python",
   "nbconvert_exporter": "python",
   "pygments_lexer": "ipython3",
   "version": "3.10.9"
  }
 },
 "nbformat": 4,
 "nbformat_minor": 5
}
