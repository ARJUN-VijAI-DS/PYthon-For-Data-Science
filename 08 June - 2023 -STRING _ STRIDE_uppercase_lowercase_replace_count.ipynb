{
 "cells": [
  {
   "cell_type": "markdown",
   "id": "435092f6",
   "metadata": {},
   "source": [
    "# Stride -- steps\n",
    "- String slicing can also accept a third parameter, the stride, which refers to how many steps you want to take from the first character of the string.\n",
    "\n",
    "# Positive stride "
   ]
  },
  {
   "attachments": {
    "Screenshot%20%28108%29.png": {
     "image/png": "[encoded data removed]"
    }
   },
   "cell_type": "markdown",
   "id": "35f1bf3c",
   "metadata": {},
   "source": [
    " ![Screenshot%20%28108%29.png](attachment:Screenshot%20%28108%29.png)\n",
    " "
   ]
  },
  {
   "cell_type": "code",
   "execution_count": 1,
   "id": "01001709",
   "metadata": {},
   "outputs": [
    {
     "data": {
      "text/plain": [
       "'PYthon is easy '"
      ]
     },
     "execution_count": 1,
     "metadata": {},
     "output_type": "execute_result"
    }
   ],
   "source": [
    "### striding[start index: stop index: stride/step valve]\n",
    "\n",
    "example = \"PYthon is easy \"\n",
    "example[0:15:1]"
   ]
  },
  {
   "cell_type": "code",
   "execution_count": 2,
   "id": "5e17bc16",
   "metadata": {},
   "outputs": [
    {
     "data": {
      "text/plain": [
       "'Pto ses '"
      ]
     },
     "execution_count": 2,
     "metadata": {},
     "output_type": "execute_result"
    }
   ],
   "source": [
    "example = \"PYthon is easy \"\n",
    "example[0:15:2]"
   ]
  },
  {
   "cell_type": "code",
   "execution_count": 1,
   "id": "ff8c101d",
   "metadata": {},
   "outputs": [
    {
     "data": {
      "text/plain": [
       "'Ph  s'"
      ]
     },
     "execution_count": 1,
     "metadata": {},
     "output_type": "execute_result"
    }
   ],
   "source": [
    "example = \"PYthon is easy \"\n",
    "example[0:15:3]"
   ]
  },
  {
   "cell_type": "code",
   "execution_count": 2,
   "id": "5c73f7e3",
   "metadata": {},
   "outputs": [
    {
     "data": {
      "text/plain": [
       "'PYthon is easy '"
      ]
     },
     "execution_count": 2,
     "metadata": {},
     "output_type": "execute_result"
    }
   ],
   "source": [
    "example = \"PYthon is easy \"\n",
    "example[::1]"
   ]
  },
  {
   "cell_type": "code",
   "execution_count": 4,
   "id": "84383607",
   "metadata": {},
   "outputs": [
    {
     "data": {
      "text/plain": [
       "'PYthon is easy'"
      ]
     },
     "execution_count": 4,
     "metadata": {},
     "output_type": "execute_result"
    }
   ],
   "source": [
    "example = \"PYthon is easy\"\n",
    "example[::]"
   ]
  },
  {
   "cell_type": "code",
   "execution_count": 3,
   "id": "c59537c2",
   "metadata": {},
   "outputs": [
    {
     "ename": "ValueError",
     "evalue": "slice step cannot be zero",
     "output_type": "error",
     "traceback": [
      "\u001b[1;31m---------------------------------------------------------------------------\u001b[0m",
      "\u001b[1;31mValueError\u001b[0m                                Traceback (most recent call last)",
      "Cell \u001b[1;32mIn[3], line 2\u001b[0m\n\u001b[0;32m      1\u001b[0m example \u001b[38;5;241m=\u001b[39m \u001b[38;5;124m\"\u001b[39m\u001b[38;5;124mPYthon is easy \u001b[39m\u001b[38;5;124m\"\u001b[39m\n\u001b[1;32m----> 2\u001b[0m \u001b[43mexample\u001b[49m\u001b[43m[\u001b[49m\u001b[43m:\u001b[49m\u001b[43m:\u001b[49m\u001b[38;5;241;43m0\u001b[39;49m\u001b[43m]\u001b[49m\n",
      "\u001b[1;31mValueError\u001b[0m: slice step cannot be zero"
     ]
    }
   ],
   "source": [
    "example = \"PYthon is easy \"\n",
    "example[::0]"
   ]
  },
  {
   "cell_type": "code",
   "execution_count": 4,
   "id": "c08f6a89",
   "metadata": {},
   "outputs": [
    {
     "data": {
      "text/plain": [
       "'Pto ses '"
      ]
     },
     "execution_count": 4,
     "metadata": {},
     "output_type": "execute_result"
    }
   ],
   "source": [
    "example = \"PYthon is easy \"\n",
    "example[0::2]"
   ]
  },
  {
   "cell_type": "code",
   "execution_count": 5,
   "id": "d3bb5c35",
   "metadata": {},
   "outputs": [
    {
     "data": {
      "text/plain": [
       "'Ph  s'"
      ]
     },
     "execution_count": 5,
     "metadata": {},
     "output_type": "execute_result"
    }
   ],
   "source": [
    "example = \"PYthon is easy \"\n",
    "example[0::3]"
   ]
  },
  {
   "cell_type": "code",
   "execution_count": 6,
   "id": "a45daa0d",
   "metadata": {},
   "outputs": [
    {
     "data": {
      "text/plain": [
       "'Pto ses '"
      ]
     },
     "execution_count": 6,
     "metadata": {},
     "output_type": "execute_result"
    }
   ],
   "source": [
    "example = \"PYthon is easy \"\n",
    "example[::2]"
   ]
  },
  {
   "cell_type": "markdown",
   "id": "13c925d1",
   "metadata": {},
   "source": [
    "# Negative Stride"
   ]
  },
  {
   "attachments": {
    "Screenshot%20%28108%29.png": {
     "image/png": "[encoded data removed]"
    }
   },
   "cell_type": "markdown",
   "id": "b0b72fb9",
   "metadata": {},
   "source": [
    "![Screenshot%20%28108%29.png](attachment:Screenshot%20%28108%29.png) \n",
    "\n"
   ]
  },
  {
   "cell_type": "code",
   "execution_count": 7,
   "id": "028840a5",
   "metadata": {},
   "outputs": [
    {
     "data": {
      "text/plain": [
       "'ya inhY'"
      ]
     },
     "execution_count": 7,
     "metadata": {},
     "output_type": "execute_result"
    }
   ],
   "source": [
    "example = \"PYthon is easy \"   # Negative stride -- reverse direction.\n",
    "example[-2::-2]"
   ]
  },
  {
   "cell_type": "code",
   "execution_count": 8,
   "id": "4e6de46e",
   "metadata": {},
   "outputs": [
    {
     "data": {
      "text/plain": [
       "'P'"
      ]
     },
     "execution_count": 8,
     "metadata": {},
     "output_type": "execute_result"
    }
   ],
   "source": [
    "example = \"PYthon is easy \"   # Negative stride -- reverse direction.\n",
    "example[0::-2]"
   ]
  },
  {
   "cell_type": "code",
   "execution_count": 14,
   "id": "9f35a02e",
   "metadata": {},
   "outputs": [
    {
     "data": {
      "text/plain": [
       "'P'"
      ]
     },
     "execution_count": 14,
     "metadata": {},
     "output_type": "execute_result"
    }
   ],
   "source": [
    "example = \"PYthon is easy \"   # Negative stride -- reverse direction.\n",
    "example[0::-14]"
   ]
  },
  {
   "cell_type": "code",
   "execution_count": 9,
   "id": "b0effa78",
   "metadata": {},
   "outputs": [
    {
     "data": {
      "text/plain": [
       "' asnt'"
      ]
     },
     "execution_count": 9,
     "metadata": {},
     "output_type": "execute_result"
    }
   ],
   "source": [
    "example = \"PYthon is easy \"   # Negative stride -- reverse direction.\n",
    "example[::-3]"
   ]
  },
  {
   "cell_type": "code",
   "execution_count": 8,
   "id": "a4db42cc",
   "metadata": {},
   "outputs": [
    {
     "data": {
      "text/plain": [
       "' nohtYP'"
      ]
     },
     "execution_count": 8,
     "metadata": {},
     "output_type": "execute_result"
    }
   ],
   "source": [
    "example = \"PYthon is easy \"   # Negative stride -- reverse direction.\n",
    "example[-9::-1]"
   ]
  },
  {
   "attachments": {
    "Screenshot%20%28108%29.png": {
     "image/png": "[encoded data removed]"
    }
   },
   "cell_type": "markdown",
   "id": "dd1e4d89",
   "metadata": {},
   "source": [
    "![Screenshot%20%28108%29.png](attachment:Screenshot%20%28108%29.png)"
   ]
  },
  {
   "cell_type": "code",
   "execution_count": 9,
   "id": "fdc0b869",
   "metadata": {},
   "outputs": [
    {
     "data": {
      "text/plain": [
       "'P'"
      ]
     },
     "execution_count": 9,
     "metadata": {},
     "output_type": "execute_result"
    }
   ],
   "source": [
    "example = \"PYthon is easy \"   # Negative stride -- reverse direction.\n",
    "example[0::-1]"
   ]
  },
  {
   "cell_type": "code",
   "execution_count": 10,
   "id": "ea10164b",
   "metadata": {},
   "outputs": [
    {
     "data": {
      "text/plain": [
       "' ysae si nohtYP'"
      ]
     },
     "execution_count": 10,
     "metadata": {},
     "output_type": "execute_result"
    }
   ],
   "source": [
    "example = \"PYthon is easy \"\n",
    "example[::-1]"
   ]
  },
  {
   "cell_type": "code",
   "execution_count": 10,
   "id": "c00cd09b",
   "metadata": {},
   "outputs": [
    {
     "data": {
      "text/plain": [
       "' ses otP'"
      ]
     },
     "execution_count": 10,
     "metadata": {},
     "output_type": "execute_result"
    }
   ],
   "source": [
    "example = \"PYthon is easy \"\n",
    "example[::-2]"
   ]
  },
  {
   "cell_type": "code",
   "execution_count": 12,
   "id": "e8d388d8",
   "metadata": {},
   "outputs": [
    {
     "data": {
      "text/plain": [
       "'i nohtYP'"
      ]
     },
     "execution_count": 12,
     "metadata": {},
     "output_type": "execute_result"
    }
   ],
   "source": [
    "example = \"PYthon is easy \"\n",
    "example[-8::-1]"
   ]
  },
  {
   "cell_type": "markdown",
   "id": "0c39d4d8",
   "metadata": {},
   "source": [
    "# Strings Methods and Functions\n",
    "# Concatenation of Strings\n",
    "\n",
    ".lower()  -- Methods\n",
    ".upper()  -- Methods "
   ]
  },
  {
   "cell_type": "markdown",
   "id": "0eb2f854",
   "metadata": {},
   "source": [
    "x.lower()   # lower Case  -- Methods\n",
    "\n",
    "\n",
    "x.upper()   # Upper Case  -- Methods \n"
   ]
  },
  {
   "cell_type": "code",
   "execution_count": 16,
   "id": "2985020c",
   "metadata": {},
   "outputs": [
    {
     "data": {
      "text/plain": [
       "'hello world'"
      ]
     },
     "execution_count": 16,
     "metadata": {},
     "output_type": "execute_result"
    }
   ],
   "source": [
    "x = \"hello world\"\n",
    "x"
   ]
  },
  {
   "cell_type": "code",
   "execution_count": 16,
   "id": "aad2750b",
   "metadata": {},
   "outputs": [
    {
     "data": {
      "text/plain": [
       "'HELLO WORLD'"
      ]
     },
     "execution_count": 16,
     "metadata": {},
     "output_type": "execute_result"
    }
   ],
   "source": [
    "x.upper()                # Upper Case"
   ]
  },
  {
   "cell_type": "code",
   "execution_count": 18,
   "id": "748c60d7",
   "metadata": {},
   "outputs": [
    {
     "data": {
      "text/plain": [
       "'hello world'"
      ]
     },
     "execution_count": 18,
     "metadata": {},
     "output_type": "execute_result"
    }
   ],
   "source": [
    "x.upper()                # Upper Case\n",
    "x"
   ]
  },
  {
   "cell_type": "code",
   "execution_count": 25,
   "id": "a8f69846",
   "metadata": {},
   "outputs": [
    {
     "data": {
      "text/plain": [
       "'HELLO WORLD'"
      ]
     },
     "execution_count": 25,
     "metadata": {},
     "output_type": "execute_result"
    }
   ],
   "source": [
    "z = 'hello world'        # Upper Case \n",
    "z = z.upper()\n",
    "z"
   ]
  },
  {
   "cell_type": "code",
   "execution_count": 26,
   "id": "22c1988b",
   "metadata": {},
   "outputs": [
    {
     "name": "stdout",
     "output_type": "stream",
     "text": [
      "HELLO WORLD\n",
      "hello world\n"
     ]
    }
   ],
   "source": [
    "z = \"hello world\"        # Upper Case\n",
    "print(z.upper())        ## Here the string value of \"z\" remains the same.\n",
    "print(z)"
   ]
  },
  {
   "cell_type": "code",
   "execution_count": 13,
   "id": "a0a6d8b5",
   "metadata": {},
   "outputs": [
    {
     "data": {
      "text/plain": [
       "'i am a data scientist'"
      ]
     },
     "execution_count": 13,
     "metadata": {},
     "output_type": "execute_result"
    }
   ],
   "source": [
    "x = \"I am a Data Scientist\"\n",
    "x.lower()               # lower Case"
   ]
  },
  {
   "cell_type": "code",
   "execution_count": 14,
   "id": "bb6743da",
   "metadata": {},
   "outputs": [
    {
     "data": {
      "text/plain": [
       "'Q. What is a string?'"
      ]
     },
     "execution_count": 14,
     "metadata": {},
     "output_type": "execute_result"
    }
   ],
   "source": [
    "y = \"Q. What is a string?\"   # Here the value of \"y\"(string) is printed in quotation marks\n",
    "y"
   ]
  },
  {
   "cell_type": "code",
   "execution_count": 15,
   "id": "ba31c751",
   "metadata": {},
   "outputs": [
    {
     "data": {
      "text/plain": [
       "'Q. WHAT IS A STRING?'"
      ]
     },
     "execution_count": 15,
     "metadata": {},
     "output_type": "execute_result"
    }
   ],
   "source": [
    "y.upper()                  # Upper case"
   ]
  },
  {
   "cell_type": "code",
   "execution_count": 21,
   "id": "c2ea7951",
   "metadata": {},
   "outputs": [
    {
     "data": {
      "text/plain": [
       "'q. what is a string?'"
      ]
     },
     "execution_count": 21,
     "metadata": {},
     "output_type": "execute_result"
    }
   ],
   "source": [
    "y.lower()                  # Lower Case"
   ]
  },
  {
   "cell_type": "code",
   "execution_count": 16,
   "id": "8f048c3e",
   "metadata": {},
   "outputs": [
    {
     "name": "stdout",
     "output_type": "stream",
     "text": [
      "Q. WHAT IS A STRING?\n",
      "q. what is a string?\n"
     ]
    }
   ],
   "source": [
    "y = y.lower()            # Learn this example -- print(y) -- printed the value in the string\n",
    "print(y.upper())\n",
    "print(y)"
   ]
  },
  {
   "cell_type": "code",
   "execution_count": 17,
   "id": "fd06c4c8",
   "metadata": {},
   "outputs": [
    {
     "name": "stdout",
     "output_type": "stream",
     "text": [
      "Q. WHAT IS A STRING?\n",
      "q. what is a string?\n"
     ]
    }
   ],
   "source": [
    "print(y.upper())          # Learn this example -- print(y) -- printed the value in the string\n",
    "print(y)"
   ]
  },
  {
   "cell_type": "code",
   "execution_count": 18,
   "id": "17f3568a",
   "metadata": {},
   "outputs": [
    {
     "name": "stdout",
     "output_type": "stream",
     "text": [
      "Q. WHAT IS A STRING?\n",
      "Q. WHAT IS A STRING?\n"
     ]
    }
   ],
   "source": [
    "y = y.upper()            # Learn this example -- print(y) -- printed the value in the string\n",
    "print(y.upper())\n",
    "print(y)"
   ]
  },
  {
   "cell_type": "markdown",
   "id": "3c3cb7de",
   "metadata": {},
   "source": [
    "# .replace()\n",
    "\n",
    "### Definition and Usage\n",
    "- The replace() method replaces a specified phrase with another specified phrase.\n",
    "\n",
    "## Syntax\n",
    "### string.replace(oldvalue, newvalue, count)\n",
    "- Parameter Values\n",
    "### Parameter\t                    Description\n",
    "- oldvalue ---\t               Required. The string to search for\n",
    "- newvalue ---\t               Required. The string to replace the old value with\n",
    "- count --- Optional. A number specifying how many occurrences of the old value you want to replace. Default is all occurrences\n",
    "\n"
   ]
  },
  {
   "cell_type": "code",
   "execution_count": 1,
   "id": "46dee6b1",
   "metadata": {},
   "outputs": [
    {
     "data": {
      "text/plain": [
       "'hezzo worzd'"
      ]
     },
     "execution_count": 1,
     "metadata": {},
     "output_type": "execute_result"
    }
   ],
   "source": [
    "x = \"hello world\"\n",
    "x = x.replace(\"l\",\"z\")      # .replace()  ---  value is stored in string\n",
    "x"
   ]
  },
  {
   "cell_type": "code",
   "execution_count": 21,
   "id": "47941502",
   "metadata": {},
   "outputs": [
    {
     "ename": "NameError",
     "evalue": "name 'replace' is not defined",
     "output_type": "error",
     "traceback": [
      "\u001b[1;31m---------------------------------------------------------------------------\u001b[0m",
      "\u001b[1;31mNameError\u001b[0m                                 Traceback (most recent call last)",
      "Cell \u001b[1;32mIn[21], line 1\u001b[0m\n\u001b[1;32m----> 1\u001b[0m x \u001b[38;5;241m=\u001b[39m \u001b[43mreplace\u001b[49m(\u001b[38;5;124m\"\u001b[39m\u001b[38;5;124ml\u001b[39m\u001b[38;5;124m\"\u001b[39m,\u001b[38;5;124m\"\u001b[39m\u001b[38;5;124mz\u001b[39m\u001b[38;5;124m\"\u001b[39m)        \u001b[38;5;66;03m# .replace() -- It is a method.\u001b[39;00m\n\u001b[0;32m      2\u001b[0m x\n",
      "\u001b[1;31mNameError\u001b[0m: name 'replace' is not defined"
     ]
    }
   ],
   "source": [
    "x = replace(\"l\",\"z\")        # .replace() -- It is a method.\n",
    "x"
   ]
  },
  {
   "cell_type": "code",
   "execution_count": 23,
   "id": "dfb3bace",
   "metadata": {},
   "outputs": [
    {
     "data": {
      "text/plain": [
       "'Nezzo worzd'"
      ]
     },
     "execution_count": 23,
     "metadata": {},
     "output_type": "execute_result"
    }
   ],
   "source": [
    "x = x.replace(\"h\",\"N\")     # .replace()  ---  value is stored in string\n",
    "x"
   ]
  },
  {
   "cell_type": "code",
   "execution_count": 24,
   "id": "27ea5f89",
   "metadata": {},
   "outputs": [
    {
     "data": {
      "text/plain": [
       "'Mzzo worzd'"
      ]
     },
     "execution_count": 24,
     "metadata": {},
     "output_type": "execute_result"
    }
   ],
   "source": [
    "x = x.replace(\"Ne\",\"M\")     # .replace()  ---  value is stored in string\n",
    "x"
   ]
  },
  {
   "cell_type": "code",
   "execution_count": 25,
   "id": "bebc1f10",
   "metadata": {},
   "outputs": [
    {
     "data": {
      "text/plain": [
       "'I am Data Scientist worzd'"
      ]
     },
     "execution_count": 25,
     "metadata": {},
     "output_type": "execute_result"
    }
   ],
   "source": [
    "x = x.replace(\"Mzzo\",\"I am Data Scientist\")     # .replace()  ---  value is stored in string\n",
    "x"
   ]
  },
  {
   "cell_type": "code",
   "execution_count": 26,
   "id": "31b8cb50",
   "metadata": {},
   "outputs": [
    {
     "data": {
      "text/plain": [
       "'I-am-Data-Scientist-worzd'"
      ]
     },
     "execution_count": 26,
     "metadata": {},
     "output_type": "execute_result"
    }
   ],
   "source": [
    "x = x.replace(\" \",\"-\")           # .replace()  ---  value is stored in string\n",
    "x                               ## \"-\" sign replaced the \"space character string\""
   ]
  },
  {
   "cell_type": "code",
   "execution_count": 27,
   "id": "69f40037",
   "metadata": {},
   "outputs": [
    {
     "data": {
      "text/plain": [
       "'I_am_Data_Scientist_worzd'"
      ]
     },
     "execution_count": 27,
     "metadata": {},
     "output_type": "execute_result"
    }
   ],
   "source": [
    "x = x.replace(\"-\",\"_\")           # .replace()  ---  value is stored in string\n",
    "x                                ## \"_\" sign replaced the \"-\" sign"
   ]
  },
  {
   "cell_type": "code",
   "execution_count": 28,
   "id": "e1403018",
   "metadata": {},
   "outputs": [
    {
     "data": {
      "text/plain": [
       "'I_am_Data_Scientist_worzd'"
      ]
     },
     "execution_count": 28,
     "metadata": {},
     "output_type": "execute_result"
    }
   ],
   "source": [
    "x = x.replace(\" \",\"+\")           # .replace()  ---  value is stored in string\n",
    "x                         ## nothing to replace here as \"space string is absent\""
   ]
  },
  {
   "cell_type": "code",
   "execution_count": 31,
   "id": "11a75dde",
   "metadata": {},
   "outputs": [
    {
     "data": {
      "text/plain": [
       "'stride'"
      ]
     },
     "execution_count": 31,
     "metadata": {},
     "output_type": "execute_result"
    }
   ],
   "source": [
    "z = \"stride\"\n",
    "z"
   ]
  },
  {
   "cell_type": "code",
   "execution_count": 29,
   "id": "c612a389",
   "metadata": {},
   "outputs": [
    {
     "data": {
      "text/plain": [
       "'+D+A+T+A+'"
      ]
     },
     "execution_count": 29,
     "metadata": {},
     "output_type": "execute_result"
    }
   ],
   "source": [
    "x = \"DATA\"\n",
    "x = x.replace(\"\",\"+\")\n",
    "x"
   ]
  },
  {
   "cell_type": "code",
   "execution_count": 30,
   "id": "ad2cdbbd",
   "metadata": {},
   "outputs": [
    {
     "data": {
      "text/plain": [
       "'-D-A-T-A-'"
      ]
     },
     "execution_count": 30,
     "metadata": {},
     "output_type": "execute_result"
    }
   ],
   "source": [
    "x = \"DATA\"\n",
    "x = x.replace(\"\",\"-\")\n",
    "x"
   ]
  },
  {
   "cell_type": "code",
   "execution_count": 32,
   "id": "4c5dd069",
   "metadata": {},
   "outputs": [
    {
     "data": {
      "text/plain": [
       "'-+---+-D-+---+-A-+---+-T-+---+-A-+---+-'"
      ]
     },
     "execution_count": 32,
     "metadata": {},
     "output_type": "execute_result"
    }
   ],
   "source": [
    "x = x.replace(\"\",\"-+-\")           # .replace()  ---  value is stored in string\n",
    "x"
   ]
  },
  {
   "cell_type": "code",
   "execution_count": 33,
   "id": "87ae2d6c",
   "metadata": {},
   "outputs": [
    {
     "data": {
      "text/plain": [
       "'_D_A_T_A_'"
      ]
     },
     "execution_count": 33,
     "metadata": {},
     "output_type": "execute_result"
    }
   ],
   "source": [
    "x = \"DATA\"\n",
    "x = x.replace(\"\",\"_\")\n",
    "x"
   ]
  },
  {
   "cell_type": "code",
   "execution_count": 34,
   "id": "fd75e8fe",
   "metadata": {},
   "outputs": [
    {
     "data": {
      "text/plain": [
       "'xDxAxTxAx'"
      ]
     },
     "execution_count": 34,
     "metadata": {},
     "output_type": "execute_result"
    }
   ],
   "source": [
    "x = \"DATA\"\n",
    "x = x.replace(\"\",\"x\")\n",
    "x"
   ]
  },
  {
   "cell_type": "code",
   "execution_count": 56,
   "id": "55ab43dd",
   "metadata": {},
   "outputs": [
    {
     "data": {
      "text/plain": [
       "'HelloDHelloAHelloTHelloAHello'"
      ]
     },
     "execution_count": 56,
     "metadata": {},
     "output_type": "execute_result"
    }
   ],
   "source": [
    "x = \"DATA\"\n",
    "x = x.replace(\"\",\"Hello\")\n",
    "x"
   ]
  },
  {
   "cell_type": "code",
   "execution_count": 35,
   "id": "4aca3b7f",
   "metadata": {},
   "outputs": [
    {
     "data": {
      "text/plain": [
       "'HELLODHELLOAHELLOTHELLOAHELLO'"
      ]
     },
     "execution_count": 35,
     "metadata": {},
     "output_type": "execute_result"
    }
   ],
   "source": [
    "x = \"DATA\"                     ## use of multiple methods.\n",
    "x.replace(\"\",\"Hello\").upper()\n"
   ]
  },
  {
   "cell_type": "code",
   "execution_count": 2,
   "id": "c4c01098",
   "metadata": {},
   "outputs": [
    {
     "data": {
      "text/plain": [
       "'DATA'"
      ]
     },
     "execution_count": 2,
     "metadata": {},
     "output_type": "execute_result"
    }
   ],
   "source": [
    "x = \"DATA\"              ## Important -- here value stored in the string \"x\" is printed.\n",
    "x.replace(\"\",\"Hello\").upper()\n",
    "x\n",
    "x.replace(\"\",\"Hello\").upper().lower()\n",
    "x"
   ]
  },
  {
   "cell_type": "code",
   "execution_count": 5,
   "id": "8044c56c",
   "metadata": {},
   "outputs": [
    {
     "name": "stdout",
     "output_type": "stream",
     "text": [
      "DATA\n",
      "DATA\n"
     ]
    }
   ],
   "source": [
    "x = \"DATA\"             ## Important -- here value stored in the string \"x\" is printed.\n",
    "x.replace(\"\",\"Hello\").upper()\n",
    "print(x)\n",
    "x.replace(\"\",\"Hello\").lower().upper()\n",
    "print(x)"
   ]
  },
  {
   "cell_type": "code",
   "execution_count": 61,
   "id": "2abff2d5",
   "metadata": {},
   "outputs": [
    {
     "name": "stdout",
     "output_type": "stream",
     "text": [
      "HELLODHELLOAHELLOTHELLOAHELLO\n",
      "hellodhelloahellothelloahello\n"
     ]
    }
   ],
   "source": [
    "x = \"DATA\"                ## Important example  -- see carefully.\n",
    "\n",
    "print(x.replace(\"\",\"Hello\").upper())\n",
    "\n",
    "print(x.replace(\"\",\"Hello\").upper().lower())"
   ]
  },
  {
   "cell_type": "code",
   "execution_count": 66,
   "id": "afafefcd",
   "metadata": {},
   "outputs": [
    {
     "name": "stdout",
     "output_type": "stream",
     "text": [
      "hello\n",
      "hi\n",
      "world\n"
     ]
    }
   ],
   "source": [
    "print(\"hello\")             \n",
    "print(\"hi\")\n",
    "print(\"world\")"
   ]
  },
  {
   "cell_type": "code",
   "execution_count": 68,
   "id": "0b93e082",
   "metadata": {},
   "outputs": [
    {
     "name": "stdout",
     "output_type": "stream",
     "text": [
      "hello\n"
     ]
    },
    {
     "data": {
      "text/plain": [
       "'world'"
      ]
     },
     "execution_count": 68,
     "metadata": {},
     "output_type": "execute_result"
    }
   ],
   "source": [
    "print(\"hello\")            ## -- IMPORTANT EXAMPLE.\n",
    "\"hi\"\n",
    "\"world\""
   ]
  },
  {
   "cell_type": "code",
   "execution_count": 4,
   "id": "91497022",
   "metadata": {},
   "outputs": [
    {
     "data": {
      "text/plain": [
       "'hellodhelloahellothelloahello'"
      ]
     },
     "execution_count": 4,
     "metadata": {},
     "output_type": "execute_result"
    }
   ],
   "source": [
    "x = \"DATA\"  \n",
    "\n",
    "x.replace(\"\",\"Hello\").upper()\n",
    "\n",
    "x.replace(\"\",\"Hello\").upper().lower()"
   ]
  },
  {
   "cell_type": "code",
   "execution_count": 41,
   "id": "7b771701",
   "metadata": {},
   "outputs": [
    {
     "data": {
      "text/plain": [
       "'TTride'"
      ]
     },
     "execution_count": 41,
     "metadata": {},
     "output_type": "execute_result"
    }
   ],
   "source": [
    "z = \"stride\"\n",
    "z = z.replace(\"st\",\"TT\")        # .replace()  ---  value is stored in string\n",
    "z"
   ]
  },
  {
   "cell_type": "markdown",
   "id": "ac9d890f",
   "metadata": {},
   "source": [
    "# .count()"
   ]
  },
  {
   "cell_type": "code",
   "execution_count": 42,
   "id": "8a5c3deb",
   "metadata": {},
   "outputs": [
    {
     "ename": "TypeError",
     "evalue": "count() takes at least 1 argument (0 given)",
     "output_type": "error",
     "traceback": [
      "\u001b[1;31m---------------------------------------------------------------------------\u001b[0m",
      "\u001b[1;31mTypeError\u001b[0m                                 Traceback (most recent call last)",
      "Cell \u001b[1;32mIn[42], line 1\u001b[0m\n\u001b[1;32m----> 1\u001b[0m z \u001b[38;5;241m=\u001b[39m \u001b[43mz\u001b[49m\u001b[38;5;241;43m.\u001b[39;49m\u001b[43mcount\u001b[49m\u001b[43m(\u001b[49m\u001b[43m)\u001b[49m        \u001b[38;5;66;03m# .count()  ---  value is stored in string\u001b[39;00m\n\u001b[0;32m      2\u001b[0m z\n",
      "\u001b[1;31mTypeError\u001b[0m: count() takes at least 1 argument (0 given)"
     ]
    }
   ],
   "source": [
    "z = z.count()        # .count()  ---  value is stored in string\n",
    "z"
   ]
  },
  {
   "cell_type": "code",
   "execution_count": 43,
   "id": "945feaa3",
   "metadata": {},
   "outputs": [
    {
     "data": {
      "text/plain": [
       "1"
      ]
     },
     "execution_count": 43,
     "metadata": {},
     "output_type": "execute_result"
    }
   ],
   "source": [
    "z = z.count(z)        # .count()  ---  value is stored in string\n",
    "z"
   ]
  },
  {
   "cell_type": "code",
   "execution_count": 44,
   "id": "c616a437",
   "metadata": {},
   "outputs": [
    {
     "ename": "AttributeError",
     "evalue": "'int' object has no attribute 'count'",
     "output_type": "error",
     "traceback": [
      "\u001b[1;31m---------------------------------------------------------------------------\u001b[0m",
      "\u001b[1;31mAttributeError\u001b[0m                            Traceback (most recent call last)",
      "Cell \u001b[1;32mIn[44], line 1\u001b[0m\n\u001b[1;32m----> 1\u001b[0m z \u001b[38;5;241m=\u001b[39m \u001b[43mz\u001b[49m\u001b[38;5;241;43m.\u001b[39;49m\u001b[43mcount\u001b[49m(z)\n",
      "\u001b[1;31mAttributeError\u001b[0m: 'int' object has no attribute 'count'"
     ]
    }
   ],
   "source": [
    "z = z.count(z)        # .count()  ---  value is stored in string\n"
   ]
  },
  {
   "cell_type": "code",
   "execution_count": 36,
   "id": "2c72e9b8",
   "metadata": {},
   "outputs": [
    {
     "ename": "AttributeError",
     "evalue": "'int' object has no attribute 'count'",
     "output_type": "error",
     "traceback": [
      "\u001b[1;31m---------------------------------------------------------------------------\u001b[0m",
      "\u001b[1;31mAttributeError\u001b[0m                            Traceback (most recent call last)",
      "Cell \u001b[1;32mIn[36], line 1\u001b[0m\n\u001b[1;32m----> 1\u001b[0m z \u001b[38;5;241m=\u001b[39m \u001b[43mz\u001b[49m\u001b[38;5;241;43m.\u001b[39;49m\u001b[43mcount\u001b[49m(z)        \u001b[38;5;66;03m# .count()  ---  value is stored in string\u001b[39;00m\n\u001b[0;32m      2\u001b[0m z\n",
      "\u001b[1;31mAttributeError\u001b[0m: 'int' object has no attribute 'count'"
     ]
    }
   ],
   "source": [
    "z = z.count(z)        # .count()  ---  value is stored in string\n",
    "z"
   ]
  },
  {
   "cell_type": "code",
   "execution_count": 45,
   "id": "c86bcd80",
   "metadata": {},
   "outputs": [
    {
     "data": {
      "text/plain": [
       "1"
      ]
     },
     "execution_count": 45,
     "metadata": {},
     "output_type": "execute_result"
    }
   ],
   "source": [
    "AJ = \"Q. What is a string?\"\n",
    "AJ = AJ.count(AJ)\n",
    "AJ"
   ]
  },
  {
   "cell_type": "code",
   "execution_count": 46,
   "id": "9390ace9",
   "metadata": {},
   "outputs": [
    {
     "data": {
      "text/plain": [
       "1"
      ]
     },
     "execution_count": 46,
     "metadata": {},
     "output_type": "execute_result"
    }
   ],
   "source": [
    "w = \"dfjhkjdhvkjhdkvjk\"\n",
    "w\n",
    "w = w.count(w)\n",
    "w"
   ]
  },
  {
   "cell_type": "code",
   "execution_count": 40,
   "id": "67dbff3c",
   "metadata": {},
   "outputs": [
    {
     "ename": "TypeError",
     "evalue": "count() takes at least 1 argument (0 given)",
     "output_type": "error",
     "traceback": [
      "\u001b[1;31m---------------------------------------------------------------------------\u001b[0m",
      "\u001b[1;31mTypeError\u001b[0m                                 Traceback (most recent call last)",
      "Cell \u001b[1;32mIn[40], line 3\u001b[0m\n\u001b[0;32m      1\u001b[0m w \u001b[38;5;241m=\u001b[39m \u001b[38;5;124m\"\u001b[39m\u001b[38;5;124mdfjhkjdhvkjhdkvjk\u001b[39m\u001b[38;5;124m\"\u001b[39m\n\u001b[0;32m      2\u001b[0m w\n\u001b[1;32m----> 3\u001b[0m w \u001b[38;5;241m=\u001b[39m \u001b[43mw\u001b[49m\u001b[38;5;241;43m.\u001b[39;49m\u001b[43mcount\u001b[49m\u001b[43m(\u001b[49m\u001b[43m)\u001b[49m\n\u001b[0;32m      4\u001b[0m w\n",
      "\u001b[1;31mTypeError\u001b[0m: count() takes at least 1 argument (0 given)"
     ]
    }
   ],
   "source": [
    "w = \"dfjhkjdhvkjhdkvjk\"\n",
    "w\n",
    "w = w.count()\n",
    "w"
   ]
  },
  {
   "cell_type": "code",
   "execution_count": 41,
   "id": "e65365a4",
   "metadata": {},
   "outputs": [
    {
     "data": {
      "text/plain": [
       "1"
      ]
     },
     "execution_count": 41,
     "metadata": {},
     "output_type": "execute_result"
    }
   ],
   "source": [
    "w = \"k\"\n",
    "w\n",
    "w = w.count(w)\n",
    "w"
   ]
  },
  {
   "cell_type": "code",
   "execution_count": 47,
   "id": "5349f21b",
   "metadata": {},
   "outputs": [
    {
     "ename": "NameError",
     "evalue": "name 'k' is not defined",
     "output_type": "error",
     "traceback": [
      "\u001b[1;31m---------------------------------------------------------------------------\u001b[0m",
      "\u001b[1;31mNameError\u001b[0m                                 Traceback (most recent call last)",
      "Cell \u001b[1;32mIn[47], line 5\u001b[0m\n\u001b[0;32m      3\u001b[0m w \u001b[38;5;241m=\u001b[39m \u001b[38;5;124m\"\u001b[39m\u001b[38;5;124mkkkkkkkkkkkkkkkkkk\u001b[39m\u001b[38;5;124m\"\u001b[39m\n\u001b[0;32m      4\u001b[0m w\n\u001b[1;32m----> 5\u001b[0m w \u001b[38;5;241m=\u001b[39m w\u001b[38;5;241m.\u001b[39mcount(\u001b[43mk\u001b[49m)\n\u001b[0;32m      6\u001b[0m w\n",
      "\u001b[1;31mNameError\u001b[0m: name 'k' is not defined"
     ]
    }
   ],
   "source": [
    "# .count()\n",
    "\n",
    "w = \"kkkkkkkkkkkkkkkkkk\"\n",
    "w\n",
    "w = w.count(k)\n",
    "w"
   ]
  },
  {
   "cell_type": "code",
   "execution_count": 48,
   "id": "fbd601d8",
   "metadata": {},
   "outputs": [
    {
     "data": {
      "text/plain": [
       "18"
      ]
     },
     "execution_count": 48,
     "metadata": {},
     "output_type": "execute_result"
    }
   ],
   "source": [
    "# .count()  --- counting number of times 'k' is coming.\n",
    "\n",
    "w = \"kkkkkkkkkkkkkkkkkk\"\n",
    "Z = w.count('k')\n",
    "Z"
   ]
  },
  {
   "cell_type": "code",
   "execution_count": 49,
   "id": "a83b341c",
   "metadata": {},
   "outputs": [
    {
     "data": {
      "text/plain": [
       "9"
      ]
     },
     "execution_count": 49,
     "metadata": {},
     "output_type": "execute_result"
    }
   ],
   "source": [
    "# .count()  --- counting number of times 'k' is coming.\n",
    "\n",
    "w = \"kkkkkkkkkkkkkkkkkk\"\n",
    "Z = w.count('kk')\n",
    "Z"
   ]
  },
  {
   "cell_type": "code",
   "execution_count": 50,
   "id": "6215fd9b",
   "metadata": {},
   "outputs": [
    {
     "data": {
      "text/plain": [
       "6"
      ]
     },
     "execution_count": 50,
     "metadata": {},
     "output_type": "execute_result"
    }
   ],
   "source": [
    "# .count()  --- counting number of times 'i' is coming.\n",
    "\n",
    "w = \"kiritjjbtrihjbitjrhbbniobni\"\n",
    "\n",
    "Z = w.count('i')\n",
    "Z"
   ]
  },
  {
   "cell_type": "code",
   "execution_count": 51,
   "id": "183443b0",
   "metadata": {},
   "outputs": [
    {
     "data": {
      "text/plain": [
       "6"
      ]
     },
     "execution_count": 51,
     "metadata": {},
     "output_type": "execute_result"
    }
   ],
   "source": [
    "# .count()  --- counting number of times 'j' is coming.\n",
    "\n",
    "w = \"kiritjjbtrihjbitjrhbbniobni\"\n",
    "\n",
    "Z = w.count('i')\n",
    "Z"
   ]
  },
  {
   "cell_type": "code",
   "execution_count": 52,
   "id": "690baaf8",
   "metadata": {},
   "outputs": [
    {
     "data": {
      "text/plain": [
       "0"
      ]
     },
     "execution_count": 52,
     "metadata": {},
     "output_type": "execute_result"
    }
   ],
   "source": [
    "# .count()  --- counting number of times 'z' is coming.\n",
    "\n",
    "w = \"kiritjjbtrihjbitjrhbbniobni\"\n",
    "\n",
    "J = w.count('z')\n",
    "J"
   ]
  },
  {
   "cell_type": "code",
   "execution_count": null,
   "id": "e94696d1",
   "metadata": {},
   "outputs": [],
   "source": []
  },
  {
   "cell_type": "code",
   "execution_count": null,
   "id": "d3fc5fd2",
   "metadata": {},
   "outputs": [],
   "source": []
  }
 ],
 "metadata": {
  "kernelspec": {
   "display_name": "Python 3 (ipykernel)",
   "language": "python",
   "name": "python3"
  },
  "language_info": {
   "codemirror_mode": {
    "name": "ipython",
    "version": 3
   },
   "file_extension": ".py",
   "mimetype": "text/x-python",
   "name": "python",
   "nbconvert_exporter": "python",
   "pygments_lexer": "ipython3",
   "version": "3.10.9"
  }
 },
 "nbformat": 4,
 "nbformat_minor": 5
}
