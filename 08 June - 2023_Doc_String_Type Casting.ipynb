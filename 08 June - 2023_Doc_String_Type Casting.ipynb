{
 "cells": [
  {
   "cell_type": "markdown",
   "id": "181d8fff",
   "metadata": {},
   "source": [
    "# Revision - 8th June - 2023\n",
    "\n",
    "\n",
    "# Python\n",
    "- dynamically typed language.\n",
    "- Not Statically typed language like C++, C ,JAVA\n",
    "- It i case sensitive"
   ]
  },
  {
   "cell_type": "code",
   "execution_count": 1,
   "id": "7867890b",
   "metadata": {},
   "outputs": [
    {
     "name": "stdout",
     "output_type": "stream",
     "text": [
      "I am Data Scientist\n"
     ]
    }
   ],
   "source": [
    "print('I am Data Scientist')"
   ]
  },
  {
   "cell_type": "code",
   "execution_count": 2,
   "id": "c381435c",
   "metadata": {},
   "outputs": [
    {
     "name": "stdout",
     "output_type": "stream",
     "text": [
      "Hello\n"
     ]
    }
   ],
   "source": [
    "print(\"Hello\")"
   ]
  },
  {
   "cell_type": "code",
   "execution_count": 3,
   "id": "b4e82a05",
   "metadata": {},
   "outputs": [
    {
     "name": "stdout",
     "output_type": "stream",
     "text": [
      "123.34\n"
     ]
    }
   ],
   "source": [
    "print(123.34)"
   ]
  },
  {
   "cell_type": "code",
   "execution_count": 4,
   "id": "22a57af0",
   "metadata": {},
   "outputs": [
    {
     "name": "stdout",
     "output_type": "stream",
     "text": [
      "____5663587   999\n"
     ]
    }
   ],
   "source": [
    "print(\"____5663587   999\")"
   ]
  },
  {
   "cell_type": "code",
   "execution_count": 5,
   "id": "6a429081",
   "metadata": {},
   "outputs": [
    {
     "name": "stdout",
     "output_type": "stream",
     "text": [
      "\\n\n"
     ]
    }
   ],
   "source": [
    "print('\\\\n')"
   ]
  },
  {
   "cell_type": "markdown",
   "id": "7f8fa98f",
   "metadata": {},
   "source": [
    "# Comment\n",
    "\n",
    "- Interpreter \n",
    "- compiler"
   ]
  },
  {
   "cell_type": "code",
   "execution_count": 6,
   "id": "2d492c8b",
   "metadata": {},
   "outputs": [],
   "source": [
    "#    - Interpreter \n",
    "##   - compiler\n",
    "\n",
    "# I am learning."
   ]
  },
  {
   "cell_type": "markdown",
   "id": "64b1f23e",
   "metadata": {},
   "source": [
    "# Doc string used before print() command will not work IMPORTANT!"
   ]
  },
  {
   "cell_type": "code",
   "execution_count": 8,
   "id": "acf2b95b",
   "metadata": {},
   "outputs": [
    {
     "name": "stdout",
     "output_type": "stream",
     "text": [
      "123456\n"
     ]
    }
   ],
   "source": [
    "'''Hello'''      # Doc string used before print() command will not work IMPORTANT!\n",
    "print(123456)"
   ]
  },
  {
   "cell_type": "markdown",
   "id": "3e3850b8",
   "metadata": {},
   "source": [
    "# Doc string used before print() command will not work IMPORTANT!\n",
    "- Cannot be used before coding.\n",
    "- Cannot be used between coding.\n",
    "\n",
    "\n",
    "-- IT CAN BE PRINTED ONLY in last of the CODING!\n",
    "\n",
    "\n",
    "-- It cannot be used in same line of the CODING part!\n",
    "\n",
    "\n",
    "\n",
    "# IMPORTANT"
   ]
  },
  {
   "cell_type": "code",
   "execution_count": 9,
   "id": "1d315154",
   "metadata": {},
   "outputs": [
    {
     "name": "stdout",
     "output_type": "stream",
     "text": [
      "1234\n",
      "I am Data Scientist\n"
     ]
    }
   ],
   "source": [
    "'''Hello'''\n",
    "print(1234)\n",
    "'''Why'''\n",
    "print('I am Data Scientist')"
   ]
  },
  {
   "cell_type": "code",
   "execution_count": 10,
   "id": "871fc650",
   "metadata": {},
   "outputs": [
    {
     "name": "stdout",
     "output_type": "stream",
     "text": [
      "1234\n",
      "I am Data Scientist\n"
     ]
    },
    {
     "data": {
      "text/plain": [
       "'I can do it'"
      ]
     },
     "execution_count": 10,
     "metadata": {},
     "output_type": "execute_result"
    }
   ],
   "source": [
    "'''Hello'''\n",
    "print(1234)\n",
    "'''Why'''\n",
    "print('I am Data Scientist')\n",
    "\n",
    "'''I can do it'''"
   ]
  },
  {
   "cell_type": "code",
   "execution_count": 11,
   "id": "a3b35abc",
   "metadata": {},
   "outputs": [
    {
     "ename": "SyntaxError",
     "evalue": "invalid syntax (1228202955.py, line 1)",
     "output_type": "error",
     "traceback": [
      "\u001b[1;36m  Cell \u001b[1;32mIn[11], line 1\u001b[1;36m\u001b[0m\n\u001b[1;33m    print(\"I am a learner\")  \"\"\"Hello\"\"\"\u001b[0m\n\u001b[1;37m                             ^\u001b[0m\n\u001b[1;31mSyntaxError\u001b[0m\u001b[1;31m:\u001b[0m invalid syntax\n"
     ]
    }
   ],
   "source": [
    "print(\"I am a learner\")  \"\"\"Hello\"\"\"  # SyntaxError -- Due to in valid GRAMMAR "
   ]
  },
  {
   "cell_type": "code",
   "execution_count": 13,
   "id": "5b46a0f8",
   "metadata": {},
   "outputs": [
    {
     "name": "stdout",
     "output_type": "stream",
     "text": [
      "hello\n"
     ]
    },
    {
     "data": {
      "text/plain": [
       "'I am a learner'"
      ]
     },
     "execution_count": 13,
     "metadata": {},
     "output_type": "execute_result"
    }
   ],
   "source": [
    "print('hello')\n",
    "'''I am a learner'''"
   ]
  },
  {
   "cell_type": "code",
   "execution_count": 14,
   "id": "0db23d2d",
   "metadata": {},
   "outputs": [
    {
     "name": "stdout",
     "output_type": "stream",
     "text": [
      "Python\n"
     ]
    },
    {
     "data": {
      "text/plain": [
       "'I am Learning Python'"
      ]
     },
     "execution_count": 14,
     "metadata": {},
     "output_type": "execute_result"
    }
   ],
   "source": [
    "# We are here to learn grammar of PYTHON\n",
    "\n",
    "print('Python')\n",
    "\n",
    "\"\"\"I am Learning Python\"\"\" "
   ]
  },
  {
   "cell_type": "markdown",
   "id": "ce442be6",
   "metadata": {},
   "source": [
    "# DATA Type"
   ]
  },
  {
   "cell_type": "code",
   "execution_count": 15,
   "id": "ea243c72",
   "metadata": {},
   "outputs": [
    {
     "name": "stdout",
     "output_type": "stream",
     "text": [
      "123.4\n"
     ]
    }
   ],
   "source": [
    "print(123.4)"
   ]
  },
  {
   "cell_type": "code",
   "execution_count": 16,
   "id": "88994dff",
   "metadata": {},
   "outputs": [
    {
     "name": "stdout",
     "output_type": "stream",
     "text": [
      "Aj\n"
     ]
    }
   ],
   "source": [
    "print('Aj')"
   ]
  },
  {
   "cell_type": "code",
   "execution_count": 17,
   "id": "39ee746c",
   "metadata": {},
   "outputs": [
    {
     "name": "stdout",
     "output_type": "stream",
     "text": [
      "55j\n"
     ]
    }
   ],
   "source": [
    "print(55j)"
   ]
  },
  {
   "cell_type": "code",
   "execution_count": 18,
   "id": "b92314cc",
   "metadata": {},
   "outputs": [
    {
     "name": "stdout",
     "output_type": "stream",
     "text": [
      "123345\n"
     ]
    }
   ],
   "source": [
    "print(123345)"
   ]
  },
  {
   "cell_type": "markdown",
   "id": "56ae961e",
   "metadata": {},
   "source": [
    "# Type Casting\n",
    "- convert one type of data to another."
   ]
  },
  {
   "cell_type": "code",
   "execution_count": 19,
   "id": "0fec9610",
   "metadata": {},
   "outputs": [
    {
     "ename": "SyntaxError",
     "evalue": "incomplete input (3565789243.py, line 1)",
     "output_type": "error",
     "traceback": [
      "\u001b[1;36m  Cell \u001b[1;32mIn[19], line 1\u001b[1;36m\u001b[0m\n\u001b[1;33m    print(int(1223.4\u001b[0m\n\u001b[1;37m                    ^\u001b[0m\n\u001b[1;31mSyntaxError\u001b[0m\u001b[1;31m:\u001b[0m incomplete input\n"
     ]
    }
   ],
   "source": [
    "print(int(1223.4"
   ]
  },
  {
   "cell_type": "code",
   "execution_count": 20,
   "id": "b7e87318",
   "metadata": {},
   "outputs": [
    {
     "name": "stdout",
     "output_type": "stream",
     "text": [
      "1234\n"
     ]
    }
   ],
   "source": [
    "print(int(1234.5))"
   ]
  },
  {
   "cell_type": "code",
   "execution_count": 21,
   "id": "6356c49e",
   "metadata": {},
   "outputs": [
    {
     "name": "stdout",
     "output_type": "stream",
     "text": [
      "123.0\n"
     ]
    }
   ],
   "source": [
    "print(float(123))"
   ]
  },
  {
   "cell_type": "code",
   "execution_count": 22,
   "id": "1cbe822c",
   "metadata": {},
   "outputs": [
    {
     "name": "stdout",
     "output_type": "stream",
     "text": [
      "True\n"
     ]
    }
   ],
   "source": [
    "print(bool(\"true\"))"
   ]
  },
  {
   "cell_type": "code",
   "execution_count": 23,
   "id": "e2146de1",
   "metadata": {},
   "outputs": [
    {
     "name": "stdout",
     "output_type": "stream",
     "text": [
      "False\n"
     ]
    }
   ],
   "source": [
    "print(bool(0))  # except 0 everything is True in Python"
   ]
  },
  {
   "cell_type": "code",
   "execution_count": 24,
   "id": "ff8a523b",
   "metadata": {},
   "outputs": [
    {
     "name": "stdout",
     "output_type": "stream",
     "text": [
      "True\n"
     ]
    }
   ],
   "source": [
    "print(bool(\"0\"))"
   ]
  },
  {
   "cell_type": "code",
   "execution_count": 25,
   "id": "2b59f603",
   "metadata": {},
   "outputs": [
    {
     "name": "stdout",
     "output_type": "stream",
     "text": [
      "(55+0j)\n"
     ]
    }
   ],
   "source": [
    "print(complex(55))"
   ]
  },
  {
   "cell_type": "code",
   "execution_count": 26,
   "id": "9a5ae22f",
   "metadata": {},
   "outputs": [
    {
     "name": "stdout",
     "output_type": "stream",
     "text": [
      "55\n"
     ]
    }
   ],
   "source": [
    "print(str(55))  # here 55 is a sring."
   ]
  },
  {
   "cell_type": "code",
   "execution_count": 27,
   "id": "caf14df3",
   "metadata": {},
   "outputs": [
    {
     "data": {
      "text/plain": [
       "'23'"
      ]
     },
     "execution_count": 27,
     "metadata": {},
     "output_type": "execute_result"
    }
   ],
   "source": [
    "str(23)"
   ]
  },
  {
   "cell_type": "code",
   "execution_count": 28,
   "id": "67d04456",
   "metadata": {},
   "outputs": [
    {
     "name": "stdout",
     "output_type": "stream",
     "text": [
      "<class 'str'>\n"
     ]
    }
   ],
   "source": [
    "print(type(str(55)))"
   ]
  },
  {
   "cell_type": "markdown",
   "id": "e1938011",
   "metadata": {},
   "source": [
    "# Type function()"
   ]
  },
  {
   "cell_type": "code",
   "execution_count": 29,
   "id": "ff223a2c",
   "metadata": {},
   "outputs": [
    {
     "data": {
      "text/plain": [
       "int"
      ]
     },
     "execution_count": 29,
     "metadata": {},
     "output_type": "execute_result"
    }
   ],
   "source": [
    "type(12)\n"
   ]
  },
  {
   "cell_type": "code",
   "execution_count": 30,
   "id": "d0b10766",
   "metadata": {},
   "outputs": [
    {
     "data": {
      "text/plain": [
       "str"
      ]
     },
     "execution_count": 30,
     "metadata": {},
     "output_type": "execute_result"
    }
   ],
   "source": [
    "type(\"hello\")"
   ]
  },
  {
   "cell_type": "code",
   "execution_count": 31,
   "id": "16b70e8b",
   "metadata": {},
   "outputs": [
    {
     "ename": "NameError",
     "evalue": "name 'true' is not defined",
     "output_type": "error",
     "traceback": [
      "\u001b[1;31m---------------------------------------------------------------------------\u001b[0m",
      "\u001b[1;31mNameError\u001b[0m                                 Traceback (most recent call last)",
      "Cell \u001b[1;32mIn[31], line 1\u001b[0m\n\u001b[1;32m----> 1\u001b[0m \u001b[38;5;28mtype\u001b[39m(\u001b[43mtrue\u001b[49m)\n",
      "\u001b[1;31mNameError\u001b[0m: name 'true' is not defined"
     ]
    }
   ],
   "source": [
    "type(true)"
   ]
  },
  {
   "cell_type": "code",
   "execution_count": 32,
   "id": "fce2e78d",
   "metadata": {},
   "outputs": [
    {
     "data": {
      "text/plain": [
       "bool"
      ]
     },
     "execution_count": 32,
     "metadata": {},
     "output_type": "execute_result"
    }
   ],
   "source": [
    "type(True)"
   ]
  },
  {
   "cell_type": "code",
   "execution_count": 33,
   "id": "5ca85dea",
   "metadata": {},
   "outputs": [
    {
     "data": {
      "text/plain": [
       "complex"
      ]
     },
     "execution_count": 33,
     "metadata": {},
     "output_type": "execute_result"
    }
   ],
   "source": [
    "type(55j)"
   ]
  },
  {
   "cell_type": "code",
   "execution_count": 34,
   "id": "0dc5ae7d",
   "metadata": {},
   "outputs": [
    {
     "data": {
      "text/plain": [
       "float"
      ]
     },
     "execution_count": 34,
     "metadata": {},
     "output_type": "execute_result"
    }
   ],
   "source": [
    "type(123.4)"
   ]
  },
  {
   "cell_type": "markdown",
   "id": "1838b75b",
   "metadata": {},
   "source": [
    "# Arithmetic_Operators\n",
    "\n",
    "- **Addition operator (+)**\n",
    "- subtraction operator (-)\n",
    "- assignment operator (=)\n",
    "- division operator (/)\n",
    "- floor division (//)\n",
    "- modulous (%)\n",
    "- power operator (**)\n",
    "\n"
   ]
  },
  {
   "cell_type": "code",
   "execution_count": 35,
   "id": "829bfb84",
   "metadata": {},
   "outputs": [
    {
     "name": "stdout",
     "output_type": "stream",
     "text": [
      "5\n"
     ]
    }
   ],
   "source": [
    "print(2 + 3)"
   ]
  },
  {
   "cell_type": "code",
   "execution_count": 36,
   "id": "b9f6c31c",
   "metadata": {},
   "outputs": [
    {
     "name": "stdout",
     "output_type": "stream",
     "text": [
      "-1\n"
     ]
    }
   ],
   "source": [
    "print(7-8)"
   ]
  },
  {
   "cell_type": "code",
   "execution_count": 37,
   "id": "8372828f",
   "metadata": {},
   "outputs": [
    {
     "name": "stdout",
     "output_type": "stream",
     "text": [
      "1.8181818181818181\n"
     ]
    }
   ],
   "source": [
    "print(100/55)"
   ]
  },
  {
   "cell_type": "code",
   "execution_count": 38,
   "id": "499790b9",
   "metadata": {},
   "outputs": [],
   "source": [
    "A = 55"
   ]
  },
  {
   "cell_type": "code",
   "execution_count": 39,
   "id": "09b9d6ca",
   "metadata": {},
   "outputs": [
    {
     "data": {
      "text/plain": [
       "2"
      ]
     },
     "execution_count": 39,
     "metadata": {},
     "output_type": "execute_result"
    }
   ],
   "source": [
    "10// 4"
   ]
  },
  {
   "cell_type": "code",
   "execution_count": 40,
   "id": "195e2413",
   "metadata": {},
   "outputs": [
    {
     "data": {
      "text/plain": [
       "2"
      ]
     },
     "execution_count": 40,
     "metadata": {},
     "output_type": "execute_result"
    }
   ],
   "source": [
    "10%4  # remainder"
   ]
  },
  {
   "cell_type": "code",
   "execution_count": 41,
   "id": "ff3d12ef",
   "metadata": {},
   "outputs": [
    {
     "data": {
      "text/plain": [
       "65536"
      ]
     },
     "execution_count": 41,
     "metadata": {},
     "output_type": "execute_result"
    }
   ],
   "source": [
    "2** 16  # power"
   ]
  },
  {
   "cell_type": "markdown",
   "id": "3b58abdd",
   "metadata": {},
   "source": [
    "# Variable  -- Exercise"
   ]
  },
  {
   "cell_type": "code",
   "execution_count": 42,
   "id": "cb39a5a3",
   "metadata": {},
   "outputs": [],
   "source": [
    "A123v = \"QW\""
   ]
  },
  {
   "cell_type": "code",
   "execution_count": 43,
   "id": "bc02c951",
   "metadata": {},
   "outputs": [
    {
     "name": "stdout",
     "output_type": "stream",
     "text": [
      "1898617438736 1898617441616 1898617441936\n"
     ]
    }
   ],
   "source": [
    "A = 10\n",
    "B = 100 \n",
    "\n",
    "c= A+B\n",
    "\n",
    "print(id(A), id(B), id(c))"
   ]
  },
  {
   "cell_type": "code",
   "execution_count": 44,
   "id": "15d981ca",
   "metadata": {},
   "outputs": [],
   "source": [
    "_int = 90"
   ]
  },
  {
   "cell_type": "code",
   "execution_count": 45,
   "id": "5e310b0d",
   "metadata": {},
   "outputs": [],
   "source": [
    "IS = 12"
   ]
  },
  {
   "cell_type": "code",
   "execution_count": 46,
   "id": "bdae0810",
   "metadata": {},
   "outputs": [
    {
     "ename": "SyntaxError",
     "evalue": "invalid syntax (2069318266.py, line 1)",
     "output_type": "error",
     "traceback": [
      "\u001b[1;36m  Cell \u001b[1;32mIn[46], line 1\u001b[1;36m\u001b[0m\n\u001b[1;33m    is=12\u001b[0m\n\u001b[1;37m    ^\u001b[0m\n\u001b[1;31mSyntaxError\u001b[0m\u001b[1;31m:\u001b[0m invalid syntax\n"
     ]
    }
   ],
   "source": [
    "is=12             # is  -- A keyword in PYTHON."
   ]
  },
  {
   "cell_type": "code",
   "execution_count": 47,
   "id": "e02d555e",
   "metadata": {},
   "outputs": [],
   "source": [
    "iis = 11"
   ]
  },
  {
   "cell_type": "code",
   "execution_count": 48,
   "id": "320e5588",
   "metadata": {},
   "outputs": [],
   "source": [
    "Is = 55"
   ]
  },
  {
   "cell_type": "markdown",
   "id": "fdbc9f35",
   "metadata": {},
   "source": [
    "# Expression\n",
    "- An expression is a piece of code (must include operators and operands) that evaluates to give a value"
   ]
  },
  {
   "cell_type": "code",
   "execution_count": 49,
   "id": "99bfd315",
   "metadata": {},
   "outputs": [
    {
     "name": "stdout",
     "output_type": "stream",
     "text": [
      "AjData\n"
     ]
    }
   ],
   "source": [
    "print('Aj' + 'Data')"
   ]
  },
  {
   "cell_type": "code",
   "execution_count": 50,
   "id": "083de0e1",
   "metadata": {},
   "outputs": [
    {
     "name": "stdout",
     "output_type": "stream",
     "text": [
      "100\n"
     ]
    }
   ],
   "source": [
    "print(55 + 45)"
   ]
  },
  {
   "cell_type": "code",
   "execution_count": 51,
   "id": "560e1716",
   "metadata": {
    "scrolled": true
   },
   "outputs": [
    {
     "ename": "TypeError",
     "evalue": "unsupported operand type(s) for +: 'int' and 'str'",
     "output_type": "error",
     "traceback": [
      "\u001b[1;31m---------------------------------------------------------------------------\u001b[0m",
      "\u001b[1;31mTypeError\u001b[0m                                 Traceback (most recent call last)",
      "Cell \u001b[1;32mIn[51], line 1\u001b[0m\n\u001b[1;32m----> 1\u001b[0m \u001b[38;5;28mprint\u001b[39m(\u001b[38;5;241;43m23\u001b[39;49m\u001b[38;5;241;43m+\u001b[39;49m\u001b[43m \u001b[49m\u001b[38;5;124;43m'\u001b[39;49m\u001b[38;5;124;43mhello\u001b[39;49m\u001b[38;5;124;43m'\u001b[39;49m)\n",
      "\u001b[1;31mTypeError\u001b[0m: unsupported operand type(s) for +: 'int' and 'str'"
     ]
    }
   ],
   "source": [
    "print(23+ 'hello')"
   ]
  },
  {
   "cell_type": "code",
   "execution_count": null,
   "id": "fef3a304",
   "metadata": {},
   "outputs": [],
   "source": []
  },
  {
   "cell_type": "markdown",
   "id": "1a7975ab",
   "metadata": {},
   "source": [
    "## Experiments with_STRING_Indexing_Slicing_Stride"
   ]
  },
  {
   "cell_type": "code",
   "execution_count": 1,
   "id": "8ebbe639",
   "metadata": {},
   "outputs": [
    {
     "ename": "TypeError",
     "evalue": "string indices must be integers",
     "output_type": "error",
     "traceback": [
      "\u001b[1;31m---------------------------------------------------------------------------\u001b[0m",
      "\u001b[1;31mTypeError\u001b[0m                                 Traceback (most recent call last)",
      "Cell \u001b[1;32mIn[1], line 3\u001b[0m\n\u001b[0;32m      1\u001b[0m x \u001b[38;5;241m=\u001b[39m \u001b[38;5;124m\"\u001b[39m\u001b[38;5;124mI am a Data scientist\u001b[39m\u001b[38;5;124m\"\u001b[39m\n\u001b[0;32m      2\u001b[0m y \u001b[38;5;241m=\u001b[39m \u001b[38;5;124m\"\u001b[39m\u001b[38;5;124mI am learning\u001b[39m\u001b[38;5;124m\"\u001b[39m\n\u001b[1;32m----> 3\u001b[0m \u001b[43my\u001b[49m\u001b[43m[\u001b[49m\u001b[43mx\u001b[49m\u001b[43m]\u001b[49m\n",
      "\u001b[1;31mTypeError\u001b[0m: string indices must be integers"
     ]
    }
   ],
   "source": [
    "x = \"I am a Data scientist\"\n",
    "y = \"I am learning\"\n",
    "y[x]"
   ]
  },
  {
   "cell_type": "code",
   "execution_count": 2,
   "id": "851d430e",
   "metadata": {},
   "outputs": [
    {
     "ename": "TypeError",
     "evalue": "slice indices must be integers or None or have an __index__ method",
     "output_type": "error",
     "traceback": [
      "\u001b[1;31m---------------------------------------------------------------------------\u001b[0m",
      "\u001b[1;31mTypeError\u001b[0m                                 Traceback (most recent call last)",
      "Cell \u001b[1;32mIn[2], line 3\u001b[0m\n\u001b[0;32m      1\u001b[0m x \u001b[38;5;241m=\u001b[39m \u001b[38;5;124m\"\u001b[39m\u001b[38;5;124mI am a Data scientist\u001b[39m\u001b[38;5;124m\"\u001b[39m\n\u001b[0;32m      2\u001b[0m y \u001b[38;5;241m=\u001b[39m \u001b[38;5;124m\"\u001b[39m\u001b[38;5;124mI am learning\u001b[39m\u001b[38;5;124m\"\u001b[39m\n\u001b[1;32m----> 3\u001b[0m \u001b[43my\u001b[49m\u001b[43m[\u001b[49m\u001b[43m:\u001b[49m\u001b[43mx\u001b[49m\u001b[43m]\u001b[49m\n",
      "\u001b[1;31mTypeError\u001b[0m: slice indices must be integers or None or have an __index__ method"
     ]
    }
   ],
   "source": [
    "x = \"I am a Data scientist\"\n",
    "y = \"I am learning\"\n",
    "y[:x]"
   ]
  },
  {
   "cell_type": "code",
   "execution_count": 3,
   "id": "ed0b5c7a",
   "metadata": {},
   "outputs": [
    {
     "data": {
      "text/plain": [
       "'I am learning'"
      ]
     },
     "execution_count": 3,
     "metadata": {},
     "output_type": "execute_result"
    }
   ],
   "source": [
    "x = \"I am a Data scientist\"\n",
    "y = \"I am learning\"\n",
    "y[::]"
   ]
  },
  {
   "cell_type": "code",
   "execution_count": 4,
   "id": "05a36d8e",
   "metadata": {},
   "outputs": [
    {
     "data": {
      "text/plain": [
       "'I am a Data scientist'"
      ]
     },
     "execution_count": 4,
     "metadata": {},
     "output_type": "execute_result"
    }
   ],
   "source": [
    "x = \"I am a Data scientist\"\n",
    "y = \"I am learning\"\n",
    "x[::]"
   ]
  },
  {
   "cell_type": "code",
   "execution_count": 5,
   "id": "52394d16",
   "metadata": {},
   "outputs": [
    {
     "ename": "TypeError",
     "evalue": "slice indices must be integers or None or have an __index__ method",
     "output_type": "error",
     "traceback": [
      "\u001b[1;31m---------------------------------------------------------------------------\u001b[0m",
      "\u001b[1;31mTypeError\u001b[0m                                 Traceback (most recent call last)",
      "Cell \u001b[1;32mIn[5], line 3\u001b[0m\n\u001b[0;32m      1\u001b[0m x \u001b[38;5;241m=\u001b[39m \u001b[38;5;124m\"\u001b[39m\u001b[38;5;124mI am a Data scientist\u001b[39m\u001b[38;5;124m\"\u001b[39m\n\u001b[0;32m      2\u001b[0m y \u001b[38;5;241m=\u001b[39m \u001b[38;5;124m\"\u001b[39m\u001b[38;5;124mI am learning\u001b[39m\u001b[38;5;124m\"\u001b[39m\n\u001b[1;32m----> 3\u001b[0m \u001b[43my\u001b[49m\u001b[43m[\u001b[49m\u001b[43m:\u001b[49m\u001b[43m:\u001b[49m\u001b[43mx\u001b[49m\u001b[43m]\u001b[49m\n",
      "\u001b[1;31mTypeError\u001b[0m: slice indices must be integers or None or have an __index__ method"
     ]
    }
   ],
   "source": [
    "x = \"I am a Data scientist\"\n",
    "y = \"I am learning\"\n",
    "y[::x]"
   ]
  },
  {
   "cell_type": "code",
   "execution_count": null,
   "id": "aab24ff8",
   "metadata": {},
   "outputs": [],
   "source": []
  },
  {
   "cell_type": "markdown",
   "id": "05216402",
   "metadata": {},
   "source": [
    "### .count()   and .replace()   -------  IMPORTANT EXAMPLE"
   ]
  },
  {
   "cell_type": "code",
   "execution_count": 1,
   "id": "0ba37228",
   "metadata": {},
   "outputs": [
    {
     "data": {
      "text/plain": [
       "'DATA SCIENTIST'"
      ]
     },
     "execution_count": 1,
     "metadata": {},
     "output_type": "execute_result"
    }
   ],
   "source": [
    "Aj = \"DATA SCIENTIST\"\n",
    "Aj.replace('z','t')"
   ]
  },
  {
   "cell_type": "code",
   "execution_count": 2,
   "id": "eb293e3f",
   "metadata": {},
   "outputs": [
    {
     "data": {
      "text/plain": [
       "0"
      ]
     },
     "execution_count": 2,
     "metadata": {},
     "output_type": "execute_result"
    }
   ],
   "source": [
    "Aj = \"DATA SCIENTIST\"\n",
    "Aj.count('z')"
   ]
  },
  {
   "cell_type": "code",
   "execution_count": null,
   "id": "445d0c09",
   "metadata": {},
   "outputs": [],
   "source": []
  }
 ],
 "metadata": {
  "kernelspec": {
   "display_name": "Python 3 (ipykernel)",
   "language": "python",
   "name": "python3"
  },
  "language_info": {
   "codemirror_mode": {
    "name": "ipython",
    "version": 3
   },
   "file_extension": ".py",
   "mimetype": "text/x-python",
   "name": "python",
   "nbconvert_exporter": "python",
   "pygments_lexer": "ipython3",
   "version": "3.10.9"
  }
 },
 "nbformat": 4,
 "nbformat_minor": 5
}
