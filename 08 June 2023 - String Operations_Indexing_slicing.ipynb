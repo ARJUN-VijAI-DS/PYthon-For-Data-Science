{
 "cells": [
  {
   "cell_type": "markdown",
   "id": "8ca5eefc",
   "metadata": {},
   "source": [
    "# TOPIC TO BE COVERED IN THIS LECTURE\n",
    "\n",
    "- INDEXING - means accessing individual characters (elements) of a string by its position whithin the string.\n",
    "\n",
    "\n",
    "- Slicing - means accessing a subset of a string based on its indices.(plural of index).\n",
    "\n",
    "\n",
    "\n",
    "- This is positive indexing -- starting with 0 \n",
    "\n",
    "\n",
    "- Negative indexing -- starting with -1 \n"
   ]
  },
  {
   "attachments": {
    "Screenshot%20%28108%29.png": {
     "image/png": "[encoded data removed]"
    }
   },
   "cell_type": "markdown",
   "id": "213bdfaf",
   "metadata": {},
   "source": [
    "#  ![Screenshot%20%28108%29.png](attachment:Screenshot%20%28108%29.png)"
   ]
  },
  {
   "cell_type": "code",
   "execution_count": 2,
   "id": "8baad176",
   "metadata": {},
   "outputs": [
    {
     "name": "stdout",
     "output_type": "stream",
     "text": [
      "A\n"
     ]
    }
   ],
   "source": [
    "example = \"PYTHON IS EASY \"\n",
    "print(example[11])"
   ]
  },
  {
   "cell_type": "code",
   "execution_count": 1,
   "id": "7fe6b91a",
   "metadata": {},
   "outputs": [
    {
     "name": "stdout",
     "output_type": "stream",
     "text": [
      "A\n"
     ]
    },
    {
     "ename": "TypeError",
     "evalue": "'str' object does not support item assignment",
     "output_type": "error",
     "traceback": [
      "\u001b[1;31m---------------------------------------------------------------------------\u001b[0m",
      "\u001b[1;31mTypeError\u001b[0m                                 Traceback (most recent call last)",
      "Cell \u001b[1;32mIn[1], line 3\u001b[0m\n\u001b[0;32m      1\u001b[0m ex \u001b[38;5;241m=\u001b[39m \u001b[38;5;124m\"\u001b[39m\u001b[38;5;124mPYTHON IS EASY \u001b[39m\u001b[38;5;124m\"\u001b[39m\n\u001b[0;32m      2\u001b[0m \u001b[38;5;28mprint\u001b[39m(ex[\u001b[38;5;241m11\u001b[39m])\n\u001b[1;32m----> 3\u001b[0m ex[\u001b[38;5;241m0\u001b[39m] \u001b[38;5;241m=\u001b[39m \u001b[38;5;124m\"\u001b[39m\u001b[38;5;124mH\u001b[39m\u001b[38;5;124m\"\u001b[39m\n\u001b[0;32m      4\u001b[0m \u001b[38;5;28mprint\u001b[39m(ex)\n",
      "\u001b[1;31mTypeError\u001b[0m: 'str' object does not support item assignment"
     ]
    }
   ],
   "source": [
    "ex = \"PYTHON IS EASY \"\n",
    "print(ex[11])\n",
    "ex[0] = \"H\"\n",
    "print(ex)"
   ]
  },
  {
   "cell_type": "code",
   "execution_count": 2,
   "id": "5578b851",
   "metadata": {
    "scrolled": true
   },
   "outputs": [
    {
     "name": "stdout",
     "output_type": "stream",
     "text": [
      "A\n"
     ]
    },
    {
     "ename": "AttributeError",
     "evalue": "'str' object has no attribute 'uppercase'",
     "output_type": "error",
     "traceback": [
      "\u001b[1;31m---------------------------------------------------------------------------\u001b[0m",
      "\u001b[1;31mAttributeError\u001b[0m                            Traceback (most recent call last)",
      "Cell \u001b[1;32mIn[2], line 3\u001b[0m\n\u001b[0;32m      1\u001b[0m ex \u001b[38;5;241m=\u001b[39m \u001b[38;5;124m\"\u001b[39m\u001b[38;5;124mPYTHON IS EASY \u001b[39m\u001b[38;5;124m\"\u001b[39m\n\u001b[0;32m      2\u001b[0m \u001b[38;5;28mprint\u001b[39m(ex[\u001b[38;5;241m11\u001b[39m])\n\u001b[1;32m----> 3\u001b[0m \u001b[43mex\u001b[49m\u001b[38;5;241;43m.\u001b[39;49m\u001b[43muppercase\u001b[49m(\u001b[38;5;241m0\u001b[39m)\n",
      "\u001b[1;31mAttributeError\u001b[0m: 'str' object has no attribute 'uppercase'"
     ]
    }
   ],
   "source": [
    "ex = \"PYTHON IS EASY \"\n",
    "print(ex[11])\n",
    "ex.uppercase(0)"
   ]
  },
  {
   "cell_type": "code",
   "execution_count": null,
   "id": "68de491c",
   "metadata": {},
   "outputs": [],
   "source": []
  },
  {
   "cell_type": "markdown",
   "id": "39a89359",
   "metadata": {},
   "source": [
    "# .split()"
   ]
  },
  {
   "cell_type": "code",
   "execution_count": 5,
   "id": "539a45e1",
   "metadata": {},
   "outputs": [
    {
     "data": {
      "text/plain": [
       "['Data', 'Scientist']"
      ]
     },
     "execution_count": 5,
     "metadata": {},
     "output_type": "execute_result"
    }
   ],
   "source": [
    "vv = \"Data Scientist\"          ## List is created\n",
    "vv.split()"
   ]
  },
  {
   "cell_type": "code",
   "execution_count": 6,
   "id": "da996e1a",
   "metadata": {},
   "outputs": [
    {
     "data": {
      "text/plain": [
       "['DataScientist']"
      ]
     },
     "execution_count": 6,
     "metadata": {},
     "output_type": "execute_result"
    }
   ],
   "source": [
    "vv = \"DataScientist\"           ## List is created\n",
    "vv.split()"
   ]
  },
  {
   "cell_type": "markdown",
   "id": "871d4928",
   "metadata": {},
   "source": [
    "# .endswith()"
   ]
  },
  {
   "cell_type": "code",
   "execution_count": 3,
   "id": "cdd29282",
   "metadata": {},
   "outputs": [
    {
     "data": {
      "text/plain": [
       "True"
      ]
     },
     "execution_count": 3,
     "metadata": {},
     "output_type": "execute_result"
    }
   ],
   "source": [
    "vv = \"Data Scientist\"         ## Terminating with \"\"\n",
    "vv.endswith(\"\")"
   ]
  },
  {
   "cell_type": "code",
   "execution_count": 7,
   "id": "8e8a9c77",
   "metadata": {},
   "outputs": [
    {
     "data": {
      "text/plain": [
       "''"
      ]
     },
     "execution_count": 7,
     "metadata": {},
     "output_type": "execute_result"
    }
   ],
   "source": [
    "\"\"  #  empty string"
   ]
  },
  {
   "cell_type": "markdown",
   "id": "824ee007",
   "metadata": {},
   "source": [
    "# .find()"
   ]
  },
  {
   "cell_type": "code",
   "execution_count": 1,
   "id": "41e73846",
   "metadata": {},
   "outputs": [
    {
     "data": {
      "text/plain": [
       "0"
      ]
     },
     "execution_count": 1,
     "metadata": {},
     "output_type": "execute_result"
    }
   ],
   "source": [
    "f = \"DATA Scientist\"\n",
    "f.find(\"\")"
   ]
  },
  {
   "cell_type": "code",
   "execution_count": null,
   "id": "420e6aa3",
   "metadata": {},
   "outputs": [],
   "source": []
  },
  {
   "cell_type": "code",
   "execution_count": 2,
   "id": "71a47f5d",
   "metadata": {},
   "outputs": [
    {
     "data": {
      "text/plain": [
       "False"
      ]
     },
     "execution_count": 2,
     "metadata": {},
     "output_type": "execute_result"
    }
   ],
   "source": [
    "vv = \"Data Scientist\"       # ending with space\n",
    "vv.endswith(\" \")"
   ]
  },
  {
   "cell_type": "code",
   "execution_count": null,
   "id": "5bef3501",
   "metadata": {},
   "outputs": [],
   "source": []
  },
  {
   "cell_type": "code",
   "execution_count": null,
   "id": "eba6aa64",
   "metadata": {},
   "outputs": [],
   "source": []
  },
  {
   "cell_type": "code",
   "execution_count": 3,
   "id": "d4f1363a",
   "metadata": {},
   "outputs": [
    {
     "name": "stdout",
     "output_type": "stream",
     "text": [
      "A\n"
     ]
    }
   ],
   "source": [
    "X = \"PYTHON IS EASY \"              # Here example and X are -- Variables\n",
    "print(X[11])"
   ]
  },
  {
   "cell_type": "code",
   "execution_count": 6,
   "id": "6ad677a7",
   "metadata": {},
   "outputs": [
    {
     "ename": "IndexError",
     "evalue": "string index out of range",
     "output_type": "error",
     "traceback": [
      "\u001b[1;31m---------------------------------------------------------------------------\u001b[0m",
      "\u001b[1;31mIndexError\u001b[0m                                Traceback (most recent call last)",
      "Cell \u001b[1;32mIn[6], line 2\u001b[0m\n\u001b[0;32m      1\u001b[0m example \u001b[38;5;241m=\u001b[39m \u001b[38;5;124m\"\u001b[39m\u001b[38;5;124mPYTHON IS EASY \u001b[39m\u001b[38;5;124m\"\u001b[39m        \u001b[38;5;66;03m# out range as string donot contain 15th character\u001b[39;00m\n\u001b[1;32m----> 2\u001b[0m \u001b[38;5;28mprint\u001b[39m(\u001b[43mexample\u001b[49m\u001b[43m[\u001b[49m\u001b[38;5;241;43m15\u001b[39;49m\u001b[43m]\u001b[49m)\n",
      "\u001b[1;31mIndexError\u001b[0m: string index out of range"
     ]
    }
   ],
   "source": [
    "example = \"PYTHON IS EASY \"        # out range as string donot contain 15th character\n",
    "print(example[15])"
   ]
  },
  {
   "attachments": {
    "Screenshot%20%28108%29.png": {
     "image/png": "[encoded data removed]"
    }
   },
   "cell_type": "markdown",
   "id": "41931b72",
   "metadata": {},
   "source": [
    "\n",
    "\n",
    "![Screenshot%20%28108%29.png](attachment:Screenshot%20%28108%29.png)"
   ]
  },
  {
   "cell_type": "code",
   "execution_count": 1,
   "id": "9726f855",
   "metadata": {
    "scrolled": true
   },
   "outputs": [
    {
     "ename": "NameError",
     "evalue": "name 'ex' is not defined",
     "output_type": "error",
     "traceback": [
      "\u001b[1;31m---------------------------------------------------------------------------\u001b[0m",
      "\u001b[1;31mNameError\u001b[0m                                 Traceback (most recent call last)",
      "Cell \u001b[1;32mIn[1], line 1\u001b[0m\n\u001b[1;32m----> 1\u001b[0m \u001b[38;5;28mprint\u001b[39m(\u001b[43mex\u001b[49m[\u001b[38;5;241m-\u001b[39m\u001b[38;5;241m7\u001b[39m],[\u001b[38;5;241m-\u001b[39m\u001b[38;5;241m6\u001b[39m])\n",
      "\u001b[1;31mNameError\u001b[0m: name 'ex' is not defined"
     ]
    }
   ],
   "source": [
    "print(ex[-7],[-6])             # Lets Learn"
   ]
  },
  {
   "cell_type": "code",
   "execution_count": 3,
   "id": "c4870132",
   "metadata": {},
   "outputs": [
    {
     "name": "stdout",
     "output_type": "stream",
     "text": [
      "L [-6]\n"
     ]
    }
   ],
   "source": [
    "ex = \"I WILL DO IT\"\n",
    "print(ex[-7],[-6])               # Lets Learn"
   ]
  },
  {
   "cell_type": "code",
   "execution_count": 4,
   "id": "7e79aff2",
   "metadata": {},
   "outputs": [
    {
     "name": "stdout",
     "output_type": "stream",
     "text": [
      "  [-15]\n"
     ]
    }
   ],
   "source": [
    "w = \"PYthon is FLASH-ABLE\"\n",
    "print(w[-11],[-15])"
   ]
  },
  {
   "cell_type": "code",
   "execution_count": 5,
   "id": "8e349522",
   "metadata": {},
   "outputs": [
    {
     "name": "stdout",
     "output_type": "stream",
     "text": [
      "  n\n"
     ]
    }
   ],
   "source": [
    "w = \"PYthon is FLASH-ABLE\"\n",
    "print(w[-11],w[-15])"
   ]
  },
  {
   "cell_type": "code",
   "execution_count": 7,
   "id": "d2ace9d1",
   "metadata": {},
   "outputs": [
    {
     "name": "stdout",
     "output_type": "stream",
     "text": [
      "Y N S Y\n"
     ]
    }
   ],
   "source": [
    "A = \"PYTHON IS EASY \"\n",
    "print(A[-14], A[-10],A[-7],A[-2])"
   ]
  },
  {
   "cell_type": "code",
   "execution_count": 8,
   "id": "8b9fbb57",
   "metadata": {},
   "outputs": [
    {
     "name": "stdout",
     "output_type": "stream",
     "text": [
      "E N S Y\n"
     ]
    }
   ],
   "source": [
    "A = \"PYTHON IS EASY \"\n",
    "print(A[10], A[-10],A[-7],A[-2])"
   ]
  },
  {
   "cell_type": "code",
   "execution_count": 10,
   "id": "6e34573d",
   "metadata": {},
   "outputs": [
    {
     "name": "stdout",
     "output_type": "stream",
     "text": [
      "S  \n"
     ]
    }
   ],
   "source": [
    "print(example[-7],example[-6])      #  At -7, S is there  and -6 is blank space."
   ]
  },
  {
   "cell_type": "code",
   "execution_count": 12,
   "id": "56113911",
   "metadata": {},
   "outputs": [
    {
     "name": "stdout",
     "output_type": "stream",
     "text": [
      "I\n"
     ]
    }
   ],
   "source": [
    "moon = \"moon Is beautiful\"\n",
    "print(moon[5])"
   ]
  },
  {
   "attachments": {
    "Screenshot%20%28108%29.png": {
     "image/png": "[encoded data removed]"
    }
   },
   "cell_type": "markdown",
   "id": "84b3f3e5",
   "metadata": {},
   "source": [
    "![Screenshot%20%28108%29.png](attachment:Screenshot%20%28108%29.png)"
   ]
  },
  {
   "cell_type": "code",
   "execution_count": 4,
   "id": "5fe639af",
   "metadata": {},
   "outputs": [
    {
     "data": {
      "text/plain": [
       "'O'"
      ]
     },
     "execution_count": 4,
     "metadata": {},
     "output_type": "execute_result"
    }
   ],
   "source": [
    "example = \"PYTHON IS EASY \"   # Negative indexing -- starting with -1\n",
    "example[-11]"
   ]
  },
  {
   "cell_type": "code",
   "execution_count": 6,
   "id": "8b6a0309",
   "metadata": {},
   "outputs": [
    {
     "name": "stdout",
     "output_type": "stream",
     "text": [
      "N T\n"
     ]
    }
   ],
   "source": [
    "X = \"PYTHON IS EASY \"          # Negative indexing -- starting with -1\n",
    "print(X[-10],X[-13])           # calling two index at once."
   ]
  },
  {
   "cell_type": "code",
   "execution_count": 5,
   "id": "f3b7992b",
   "metadata": {
    "scrolled": true
   },
   "outputs": [
    {
     "name": "stdout",
     "output_type": "stream",
     "text": [
      "N  \n"
     ]
    }
   ],
   "source": [
    "X = \"PYTHON IS EASY \"          # Negative indexing -- starting with -1\n",
    "print(X[-10],X[-9])           # calling two index at once."
   ]
  },
  {
   "cell_type": "code",
   "execution_count": 2,
   "id": "8c241f92",
   "metadata": {},
   "outputs": [
    {
     "name": "stdout",
     "output_type": "stream",
     "text": [
      "N    \n"
     ]
    }
   ],
   "source": [
    "X = \"PYTHON IS EASY \"          # Negative indexing -- starting with -1\n",
    "print(X[-10],X[-9],X[-1])     # calling three index at once.\n"
   ]
  },
  {
   "cell_type": "code",
   "execution_count": 7,
   "id": "e481ba35",
   "metadata": {},
   "outputs": [
    {
     "name": "stdout",
     "output_type": "stream",
     "text": [
      "N T S\n"
     ]
    }
   ],
   "source": [
    "X = \"PYTHON IS EASY \"          # Negative indexing -- starting with -1\n",
    "print(X[-10],X[-13],X[-3])     # calling three index at once.\n"
   ]
  },
  {
   "cell_type": "code",
   "execution_count": 8,
   "id": "dd19572b",
   "metadata": {},
   "outputs": [],
   "source": [
    "X = \"PYTHON IS EASY \"           # 6th place is space(empty space)\n",
    "X = [6]"
   ]
  },
  {
   "cell_type": "code",
   "execution_count": 10,
   "id": "003b1a4c",
   "metadata": {},
   "outputs": [
    {
     "name": "stdout",
     "output_type": "stream",
     "text": [
      " \n"
     ]
    }
   ],
   "source": [
    "X = \"PYTHON IS EASY \"           # 6th place is space(empty space)\n",
    "print(X[6])"
   ]
  },
  {
   "attachments": {
    "Screenshot%20%28108%29.png": {
     "image/png": "[encoded data removed]"
    }
   },
   "cell_type": "markdown",
   "id": "ba07d114",
   "metadata": {},
   "source": [
    "# Slicing\n",
    "\n",
    "- Slicing means accessing a subset of a string based on its indices.(plural of index)\n",
    "\n",
    "\n",
    "![Screenshot%20%28108%29.png](attachment:Screenshot%20%28108%29.png)\n",
    "\n"
   ]
  },
  {
   "cell_type": "code",
   "execution_count": 15,
   "id": "5e82670c",
   "metadata": {},
   "outputs": [
    {
     "data": {
      "text/plain": [
       "'PYTHON'"
      ]
     },
     "execution_count": 15,
     "metadata": {},
     "output_type": "execute_result"
    }
   ],
   "source": [
    "# POSITIVE SLICING\n",
    "\n",
    "# stirng [start index : stop index]   \n",
    "\n",
    "X =  \"PYTHON IS EASY \"\n",
    "X[0:6]                            # printing \"PYTHON\""
   ]
  },
  {
   "cell_type": "code",
   "execution_count": 13,
   "id": "6e72baa2",
   "metadata": {},
   "outputs": [
    {
     "name": "stdout",
     "output_type": "stream",
     "text": [
      "PYTHON\n"
     ]
    }
   ],
   "source": [
    "X =  \"PYTHON IS EASY \"\n",
    "print(X[0:6])                      # printing \"PYTHON\"\n"
   ]
  },
  {
   "cell_type": "code",
   "execution_count": 12,
   "id": "f38ca387",
   "metadata": {},
   "outputs": [
    {
     "name": "stdout",
     "output_type": "stream",
     "text": [
      "Hello  r, y n\n"
     ]
    }
   ],
   "source": [
    "Name = \"Hello sir, my name NAVIKA\"\n",
    "print(Name[0:6],Name[8:10],Name[12:15])"
   ]
  },
  {
   "cell_type": "markdown",
   "id": "89a58512",
   "metadata": {},
   "source": [
    "# ctrl '+' \n",
    "- Magnify\n",
    "\n",
    "\n",
    "# ctrl '-'\n",
    "- shrink"
   ]
  },
  {
   "attachments": {
    "Screenshot%20%28108%29.png": {
     "image/png": "[encoded data removed]"
    }
   },
   "cell_type": "markdown",
   "id": "cda81851",
   "metadata": {},
   "source": [
    "![Screenshot%20%28108%29.png](attachment:Screenshot%20%28108%29.png)"
   ]
  },
  {
   "cell_type": "code",
   "execution_count": 6,
   "id": "43e39019",
   "metadata": {},
   "outputs": [
    {
     "data": {
      "text/plain": [
       "''"
      ]
     },
     "execution_count": 6,
     "metadata": {},
     "output_type": "execute_result"
    }
   ],
   "source": [
    "Z =  \"PYTHON IS EASYT\"     # This is striding (Positive stride).\n",
    "Z[-1:-6:3]"
   ]
  },
  {
   "cell_type": "code",
   "execution_count": 7,
   "id": "5a56b782",
   "metadata": {},
   "outputs": [
    {
     "data": {
      "text/plain": [
       "''"
      ]
     },
     "execution_count": 7,
     "metadata": {},
     "output_type": "execute_result"
    }
   ],
   "source": [
    "X =  \"PYTHON IS EASY \"     # PYTHON will move in forward direction. \n",
    "X[-1:-6:2]"
   ]
  },
  {
   "cell_type": "code",
   "execution_count": 8,
   "id": "22cd3b6d",
   "metadata": {},
   "outputs": [
    {
     "data": {
      "text/plain": [
       "' EASY'"
      ]
     },
     "execution_count": 8,
     "metadata": {},
     "output_type": "execute_result"
    }
   ],
   "source": [
    "X =  \"PYTHON IS EASY \"\n",
    "X[-6:-1]                  # ????\n",
    "                          # python will move in forward direction."
   ]
  },
  {
   "cell_type": "code",
   "execution_count": 9,
   "id": "45035453",
   "metadata": {},
   "outputs": [
    {
     "data": {
      "text/plain": [
       "'PYTHON IS EASY '"
      ]
     },
     "execution_count": 9,
     "metadata": {},
     "output_type": "execute_result"
    }
   ],
   "source": [
    "X[::]"
   ]
  },
  {
   "cell_type": "code",
   "execution_count": 10,
   "id": "267758cf",
   "metadata": {},
   "outputs": [
    {
     "data": {
      "text/plain": [
       "' YSAE'"
      ]
     },
     "execution_count": 10,
     "metadata": {},
     "output_type": "execute_result"
    }
   ],
   "source": [
    "X[-1:-6:-1]              # This is striding (Negative stride). -- Reverse direction."
   ]
  },
  {
   "cell_type": "markdown",
   "id": "9fc9da15",
   "metadata": {},
   "source": [
    "# In slicing - PYTHON is moving in the forward direction only.\n",
    "\n",
    "- BUT in case of striding Phython id moving in forwad and backward direction also"
   ]
  },
  {
   "cell_type": "code",
   "execution_count": 14,
   "id": "251f67cc",
   "metadata": {},
   "outputs": [
    {
     "data": {
      "text/plain": [
       "''"
      ]
     },
     "execution_count": 14,
     "metadata": {},
     "output_type": "execute_result"
    }
   ],
   "source": [
    "X[-1:-6:1]          # Nothing is done as PYTHON is moving in Positive or forward direction so only quotions marks are Printed\n"
   ]
  },
  {
   "cell_type": "code",
   "execution_count": 16,
   "id": "cb34306c",
   "metadata": {},
   "outputs": [
    {
     "data": {
      "text/plain": [
       "''"
      ]
     },
     "execution_count": 16,
     "metadata": {},
     "output_type": "execute_result"
    }
   ],
   "source": [
    "X =  \"PYTHON IS EASY \"\n",
    "X[-1:-6]      # ????\n",
    "              # python will move in forward direction.\n"
   ]
  },
  {
   "cell_type": "code",
   "execution_count": 18,
   "id": "a876fea9",
   "metadata": {},
   "outputs": [
    {
     "data": {
      "text/plain": [
       "''"
      ]
     },
     "execution_count": 18,
     "metadata": {},
     "output_type": "execute_result"
    }
   ],
   "source": [
    "X =  \"PYTHON IS EASY \"\n",
    "X[-1:8]                 # ????\n",
    "                        # python will move in forward direction."
   ]
  },
  {
   "cell_type": "code",
   "execution_count": 19,
   "id": "4a41902a",
   "metadata": {},
   "outputs": [
    {
     "data": {
      "text/plain": [
       "'EASY '"
      ]
     },
     "execution_count": 19,
     "metadata": {},
     "output_type": "execute_result"
    }
   ],
   "source": [
    "X =  \"PYTHON IS EASY \"\n",
    "X[10:15]                # printing \"EASY\"\n"
   ]
  },
  {
   "cell_type": "code",
   "execution_count": 28,
   "id": "85add766",
   "metadata": {},
   "outputs": [
    {
     "data": {
      "text/plain": [
       "'EASY'"
      ]
     },
     "execution_count": 28,
     "metadata": {},
     "output_type": "execute_result"
    }
   ],
   "source": [
    "X[10:14]"
   ]
  },
  {
   "cell_type": "code",
   "execution_count": 20,
   "id": "7ca80ff4",
   "metadata": {},
   "outputs": [
    {
     "data": {
      "text/plain": [
       "'EASY '"
      ]
     },
     "execution_count": 20,
     "metadata": {},
     "output_type": "execute_result"
    }
   ],
   "source": [
    "X =  \"PYTHON IS EASY \"\n",
    "X[10:]                  # save your time"
   ]
  },
  {
   "cell_type": "code",
   "execution_count": 21,
   "id": "59bf3072",
   "metadata": {},
   "outputs": [
    {
     "data": {
      "text/plain": [
       "' IS EASY '"
      ]
     },
     "execution_count": 21,
     "metadata": {},
     "output_type": "execute_result"
    }
   ],
   "source": [
    "X =  \"PYTHON IS EASY \"\n",
    "X[6:]                   # save your time"
   ]
  },
  {
   "cell_type": "code",
   "execution_count": 22,
   "id": "815dafc0",
   "metadata": {},
   "outputs": [
    {
     "data": {
      "text/plain": [
       "'EASY '"
      ]
     },
     "execution_count": 22,
     "metadata": {},
     "output_type": "execute_result"
    }
   ],
   "source": [
    "X =  \"PYTHON IS EASY \"\n",
    "X[10:20]                # save your time"
   ]
  },
  {
   "cell_type": "code",
   "execution_count": 23,
   "id": "a4907ee3",
   "metadata": {},
   "outputs": [
    {
     "data": {
      "text/plain": [
       "'EASY '"
      ]
     },
     "execution_count": 23,
     "metadata": {},
     "output_type": "execute_result"
    }
   ],
   "source": [
    "X =  \"PYTHON IS EASY \"\n",
    "X[10:200]                # save your time"
   ]
  },
  {
   "cell_type": "code",
   "execution_count": 24,
   "id": "fa69c815",
   "metadata": {},
   "outputs": [
    {
     "data": {
      "text/plain": [
       "'PYTHON IS EASY '"
      ]
     },
     "execution_count": 24,
     "metadata": {},
     "output_type": "execute_result"
    }
   ],
   "source": [
    "X =  \"PYTHON IS EASY \"\n",
    "X[0:200]                 # save your time\n",
    "                        ## In stop index if, we give large number it will print till end only."
   ]
  },
  {
   "cell_type": "code",
   "execution_count": 25,
   "id": "74c703ad",
   "metadata": {},
   "outputs": [
    {
     "data": {
      "text/plain": [
       "''"
      ]
     },
     "execution_count": 25,
     "metadata": {},
     "output_type": "execute_result"
    }
   ],
   "source": [
    "X =  \"PYTHON IS EASY \"\n",
    "X[1000:10]      # save your time"
   ]
  },
  {
   "cell_type": "code",
   "execution_count": 26,
   "id": "351f45ad",
   "metadata": {},
   "outputs": [
    {
     "data": {
      "text/plain": [
       "'PYTHON IS EASY '"
      ]
     },
     "execution_count": 26,
     "metadata": {},
     "output_type": "execute_result"
    }
   ],
   "source": [
    "X =  \"PYTHON IS EASY \"\n",
    "X[:15]      # save your time\n",
    "            ## start index we give nothing -- it will start from 0"
   ]
  },
  {
   "cell_type": "code",
   "execution_count": 27,
   "id": "57677f4f",
   "metadata": {},
   "outputs": [
    {
     "data": {
      "text/plain": [
       "'PYTHON IS EASY '"
      ]
     },
     "execution_count": 27,
     "metadata": {},
     "output_type": "execute_result"
    }
   ],
   "source": [
    "X =  \"PYTHON IS EASY \"  # printing the whole string. [start is blank: stop is blank]\n",
    "X[:]"
   ]
  },
  {
   "cell_type": "markdown",
   "id": "687446ab",
   "metadata": {},
   "source": [
    "# Negative Slicing"
   ]
  },
  {
   "attachments": {
    "Screenshot%20%28108%29.png": {
     "image/png": "[encoded data removed]"
    }
   },
   "cell_type": "markdown",
   "id": "810e78c3",
   "metadata": {},
   "source": [
    " ![Screenshot%20%28108%29.png](attachment:Screenshot%20%28108%29.png)\n",
    " "
   ]
  },
  {
   "cell_type": "code",
   "execution_count": 36,
   "id": "e2c14854",
   "metadata": {},
   "outputs": [
    {
     "name": "stdout",
     "output_type": "stream",
     "text": [
      "IS\n"
     ]
    }
   ],
   "source": [
    "X =  \"PYTHON IS EASY \"\n",
    "print(X[-8:9])          # Negative/Positive Slicing -- smaller number first than larger number."
   ]
  },
  {
   "cell_type": "code",
   "execution_count": 16,
   "id": "9908678a",
   "metadata": {},
   "outputs": [
    {
     "name": "stdout",
     "output_type": "stream",
     "text": [
      "\n"
     ]
    }
   ],
   "source": [
    "X =  \"PYTHON IS EASY \"   # Trafic Jam -- No movement -- no interpretation.\n",
    "print(X[-8:-8])  \n"
   ]
  },
  {
   "cell_type": "code",
   "execution_count": 29,
   "id": "3d33f5e6",
   "metadata": {},
   "outputs": [
    {
     "data": {
      "text/plain": [
       "' EASY'"
      ]
     },
     "execution_count": 29,
     "metadata": {},
     "output_type": "execute_result"
    }
   ],
   "source": [
    "X =  \"PYTHON IS EASY \"\n",
    "X[-6:-1]      # Negative Slicing -- smaller number first than larger number."
   ]
  },
  {
   "cell_type": "code",
   "execution_count": 30,
   "id": "da01c6cb",
   "metadata": {},
   "outputs": [
    {
     "data": {
      "text/plain": [
       "'PYTHON I'"
      ]
     },
     "execution_count": 30,
     "metadata": {},
     "output_type": "execute_result"
    }
   ],
   "source": [
    "X =  \"PYTHON IS EASY \"\n",
    "X[-15:-7]      # Negative Slicing -- smaller number first than larger number."
   ]
  },
  {
   "cell_type": "code",
   "execution_count": 31,
   "id": "ec208312",
   "metadata": {},
   "outputs": [
    {
     "data": {
      "text/plain": [
       "''"
      ]
     },
     "execution_count": 31,
     "metadata": {},
     "output_type": "execute_result"
    }
   ],
   "source": [
    "X =  \"PYTHON IS EASY \"\n",
    "X[-1:-10]      # Negative Slicing -- Movement in Forward Direction.\n",
    "               # Only empty space is coming"
   ]
  },
  {
   "cell_type": "code",
   "execution_count": 30,
   "id": "ca909295",
   "metadata": {},
   "outputs": [
    {
     "name": "stdout",
     "output_type": "stream",
     "text": [
      " ysae\n"
     ]
    }
   ],
   "source": [
    "X = \"python is easy \"\n",
    "print(X[-1:-6:-1])"
   ]
  },
  {
   "cell_type": "code",
   "execution_count": 32,
   "id": "88eef368",
   "metadata": {},
   "outputs": [
    {
     "data": {
      "text/plain": [
       "''"
      ]
     },
     "execution_count": 32,
     "metadata": {},
     "output_type": "execute_result"
    }
   ],
   "source": [
    "X =  \"PYTHON IS EASY \"\n",
    "X[-9:-15]          # Negative Slicing -- smaller number first than larger number.\n",
    "                   # Only empty space is coming"
   ]
  },
  {
   "cell_type": "code",
   "execution_count": 33,
   "id": "f3343089",
   "metadata": {},
   "outputs": [
    {
     "data": {
      "text/plain": [
       "''"
      ]
     },
     "execution_count": 33,
     "metadata": {},
     "output_type": "execute_result"
    }
   ],
   "source": [
    "X =  \"PYTHON IS EASY \"\n",
    "print(X[:-15])          # Negative Slicing -- smaller number first than larger number."
   ]
  },
  {
   "cell_type": "code",
   "execution_count": 34,
   "id": "6999ca17",
   "metadata": {},
   "outputs": [
    {
     "name": "stdout",
     "output_type": "stream",
     "text": [
      "PYTHO\n"
     ]
    }
   ],
   "source": [
    "X =  \"PYTHON IS EASY \"\n",
    "print(X[:-10])          # Negative Slicing -- smaller number first than larger number."
   ]
  },
  {
   "cell_type": "code",
   "execution_count": 35,
   "id": "9acc23b9",
   "metadata": {},
   "outputs": [
    {
     "name": "stdout",
     "output_type": "stream",
     "text": [
      "N IS EASY \n"
     ]
    }
   ],
   "source": [
    "X =  \"PYTHON IS EASY \"\n",
    "print(X[-10:])          # Negative Slicing -- smaller number first than larger number."
   ]
  },
  {
   "cell_type": "code",
   "execution_count": 37,
   "id": "00275f3b",
   "metadata": {},
   "outputs": [
    {
     "name": "stdout",
     "output_type": "stream",
     "text": [
      "IS\n"
     ]
    }
   ],
   "source": [
    "X =  \"PYTHON IS EASY \"\n",
    "print(X[7:-6])          # Negative Slicing -- smaller number first than larger number."
   ]
  },
  {
   "cell_type": "markdown",
   "id": "a99d622c",
   "metadata": {},
   "source": [
    "# Note  --  in stop index -- last position is Excluded!"
   ]
  },
  {
   "cell_type": "markdown",
   "id": "6dcf7435",
   "metadata": {},
   "source": [
    "# What is String? (\" \" ; ' ')\n"
   ]
  },
  {
   "cell_type": "code",
   "execution_count": 4,
   "id": "0c65c352",
   "metadata": {},
   "outputs": [
    {
     "ename": "TypeError",
     "evalue": "'builtin_function_or_method' object is not subscriptable",
     "output_type": "error",
     "traceback": [
      "\u001b[1;31m---------------------------------------------------------------------------\u001b[0m",
      "\u001b[1;31mTypeError\u001b[0m                                 Traceback (most recent call last)",
      "Cell \u001b[1;32mIn[4], line 2\u001b[0m\n\u001b[0;32m      1\u001b[0m AJ \u001b[38;5;241m=\u001b[39m \u001b[38;5;124m\"\u001b[39m\u001b[38;5;124mI am learning python\u001b[39m\u001b[38;5;124m\"\u001b[39m\n\u001b[1;32m----> 2\u001b[0m AJ \u001b[38;5;241m=\u001b[39m \u001b[38;5;28;43mprint\u001b[39;49m\u001b[43m[\u001b[49m\u001b[38;5;241;43m10\u001b[39;49m\u001b[43m]\u001b[49m\n",
      "\u001b[1;31mTypeError\u001b[0m: 'builtin_function_or_method' object is not subscriptable"
     ]
    }
   ],
   "source": [
    "AJ = \"I am learning python\"\n",
    "AJ = print[10]"
   ]
  },
  {
   "cell_type": "code",
   "execution_count": 5,
   "id": "d3d4b1ca",
   "metadata": {},
   "outputs": [
    {
     "name": "stdout",
     "output_type": "stream",
     "text": [
      "i\n"
     ]
    }
   ],
   "source": [
    "AJ = \"I am learning python\"\n",
    "print(AJ[10])\n"
   ]
  },
  {
   "cell_type": "code",
   "execution_count": 6,
   "id": "7bcb7478",
   "metadata": {},
   "outputs": [
    {
     "name": "stdout",
     "output_type": "stream",
     "text": [
      "[12] [13] [16]\n"
     ]
    }
   ],
   "source": [
    "print([12],[13],[16])"
   ]
  },
  {
   "cell_type": "code",
   "execution_count": 7,
   "id": "30ca24cf",
   "metadata": {},
   "outputs": [
    {
     "name": "stdout",
     "output_type": "stream",
     "text": [
      "g   t\n"
     ]
    }
   ],
   "source": [
    "print(AJ[12],AJ[13],AJ[16])"
   ]
  },
  {
   "cell_type": "markdown",
   "id": "b7cc09bb",
   "metadata": {},
   "source": [
    "# Slicing"
   ]
  },
  {
   "cell_type": "code",
   "execution_count": 8,
   "id": "ec359ebb",
   "metadata": {},
   "outputs": [
    {
     "ename": "SyntaxError",
     "evalue": "invalid syntax (3941458456.py, line 2)",
     "output_type": "error",
     "traceback": [
      "\u001b[1;36m  Cell \u001b[1;32mIn[8], line 2\u001b[1;36m\u001b[0m\n\u001b[1;33m    print([-1:-22])\u001b[0m\n\u001b[1;37m             ^\u001b[0m\n\u001b[1;31mSyntaxError\u001b[0m\u001b[1;31m:\u001b[0m invalid syntax\n"
     ]
    }
   ],
   "source": [
    "AJ = \"I am learning python\"\n",
    "print([-1:-22])"
   ]
  },
  {
   "cell_type": "code",
   "execution_count": 9,
   "id": "75a5cb94",
   "metadata": {
    "scrolled": true
   },
   "outputs": [
    {
     "ename": "SyntaxError",
     "evalue": "invalid syntax (1676625898.py, line 2)",
     "output_type": "error",
     "traceback": [
      "\u001b[1;36m  Cell \u001b[1;32mIn[9], line 2\u001b[1;36m\u001b[0m\n\u001b[1;33m    print([:])\u001b[0m\n\u001b[1;37m           ^\u001b[0m\n\u001b[1;31mSyntaxError\u001b[0m\u001b[1;31m:\u001b[0m invalid syntax\n"
     ]
    }
   ],
   "source": [
    "AJ = \"I am learning python\"\n",
    "print([:])"
   ]
  },
  {
   "cell_type": "code",
   "execution_count": 10,
   "id": "e015ef6c",
   "metadata": {},
   "outputs": [
    {
     "ename": "SyntaxError",
     "evalue": "invalid syntax (1676625898.py, line 2)",
     "output_type": "error",
     "traceback": [
      "\u001b[1;36m  Cell \u001b[1;32mIn[10], line 2\u001b[1;36m\u001b[0m\n\u001b[1;33m    print([:])\u001b[0m\n\u001b[1;37m           ^\u001b[0m\n\u001b[1;31mSyntaxError\u001b[0m\u001b[1;31m:\u001b[0m invalid syntax\n"
     ]
    }
   ],
   "source": [
    "AJ = \"I am learning python\"\n",
    "print([:])"
   ]
  },
  {
   "cell_type": "code",
   "execution_count": 11,
   "id": "76574892",
   "metadata": {},
   "outputs": [
    {
     "name": "stdout",
     "output_type": "stream",
     "text": [
      "I am learning python\n"
     ]
    }
   ],
   "source": [
    "AJ = \"I am learning python\"\n",
    "print(AJ[:])"
   ]
  },
  {
   "cell_type": "code",
   "execution_count": 17,
   "id": "dc59af8f",
   "metadata": {},
   "outputs": [
    {
     "name": "stdout",
     "output_type": "stream",
     "text": [
      "\n"
     ]
    }
   ],
   "source": [
    "AJ = \"I am learning python\"\n",
    "print(AJ[-1:-22])\n"
   ]
  },
  {
   "cell_type": "code",
   "execution_count": 18,
   "id": "2ee29c6f",
   "metadata": {},
   "outputs": [
    {
     "ename": "SyntaxError",
     "evalue": "invalid syntax (1539177078.py, line 2)",
     "output_type": "error",
     "traceback": [
      "\u001b[1;36m  Cell \u001b[1;32mIn[18], line 2\u001b[1;36m\u001b[0m\n\u001b[1;33m    print([0:-22])\u001b[0m\n\u001b[1;37m            ^\u001b[0m\n\u001b[1;31mSyntaxError\u001b[0m\u001b[1;31m:\u001b[0m invalid syntax\n"
     ]
    }
   ],
   "source": [
    "AJ = \"I am learning python\"\n",
    "print([0:-22])"
   ]
  },
  {
   "cell_type": "code",
   "execution_count": 19,
   "id": "f29664ce",
   "metadata": {},
   "outputs": [
    {
     "name": "stdout",
     "output_type": "stream",
     "text": [
      "\n"
     ]
    }
   ],
   "source": [
    "AJ = \"I am learning python\" # empty space is being printed\n",
    "print(AJ[0:-22])"
   ]
  },
  {
   "cell_type": "code",
   "execution_count": 24,
   "id": "0400507c",
   "metadata": {},
   "outputs": [
    {
     "name": "stdout",
     "output_type": "stream",
     "text": [
      "I am learning pytho\n"
     ]
    }
   ],
   "source": [
    "AJ = \"I am learning python\"\n",
    "print(AJ[0:-1])"
   ]
  },
  {
   "cell_type": "code",
   "execution_count": 25,
   "id": "1d0a4e02",
   "metadata": {},
   "outputs": [
    {
     "name": "stdout",
     "output_type": "stream",
     "text": [
      "I am learning python\n"
     ]
    }
   ],
   "source": [
    "AJ = \"I am learning python \"  # slicing -- positive and negative index number.\n",
    "print(AJ[0:-1])"
   ]
  },
  {
   "cell_type": "code",
   "execution_count": 17,
   "id": "6e95db64",
   "metadata": {},
   "outputs": [
    {
     "name": "stdout",
     "output_type": "stream",
     "text": [
      "I a\n"
     ]
    }
   ],
   "source": [
    "AJ = \"I am learning python \"  # Good Example\n",
    "print(AJ[0:-18])"
   ]
  },
  {
   "cell_type": "code",
   "execution_count": 18,
   "id": "15e9413f",
   "metadata": {},
   "outputs": [
    {
     "name": "stdout",
     "output_type": "stream",
     "text": [
      "\n"
     ]
    }
   ],
   "source": [
    "AJ = \"I am learning python \"  # Good Example\n",
    "print(AJ[-18:0])"
   ]
  },
  {
   "cell_type": "code",
   "execution_count": 19,
   "id": "34621ed6",
   "metadata": {},
   "outputs": [
    {
     "name": "stdout",
     "output_type": "stream",
     "text": [
      " am learning python\n"
     ]
    }
   ],
   "source": [
    "AJ = \"I am learning python \"  # Good Example\n",
    "print(AJ[-20:20])"
   ]
  },
  {
   "attachments": {
    "Screenshot%20%28140%29.png": {
     "image/png": "[encoded data removed]"
    }
   },
   "cell_type": "markdown",
   "id": "b182b17d",
   "metadata": {},
   "source": [
    "   ![Screenshot%20%28140%29.png](attachment:Screenshot%20%28140%29.png)\n",
    "  "
   ]
  },
  {
   "cell_type": "markdown",
   "id": "de1c874b",
   "metadata": {},
   "source": [
    "# revision"
   ]
  },
  {
   "cell_type": "code",
   "execution_count": 20,
   "id": "bdd9eec1",
   "metadata": {},
   "outputs": [
    {
     "name": "stdout",
     "output_type": "stream",
     "text": [
      "earnin\n"
     ]
    }
   ],
   "source": [
    "AJ = \"I am learning python \"  # Good Example\n",
    "print(AJ[-15:-9])"
   ]
  },
  {
   "cell_type": "code",
   "execution_count": 21,
   "id": "b2a94ecb",
   "metadata": {},
   "outputs": [
    {
     "name": "stdout",
     "output_type": "stream",
     "text": [
      " am learning python\n"
     ]
    }
   ],
   "source": [
    "AJ = \"I am learning python \"  # Good Example\n",
    "print(AJ[-20:20])"
   ]
  },
  {
   "cell_type": "code",
   "execution_count": 22,
   "id": "ff13004f",
   "metadata": {},
   "outputs": [
    {
     "name": "stdout",
     "output_type": "stream",
     "text": [
      "I am learning python \n"
     ]
    }
   ],
   "source": [
    "AJ = \"I am learning python \"  # Good Example\n",
    "print(AJ[:])"
   ]
  },
  {
   "cell_type": "code",
   "execution_count": 23,
   "id": "ea0ee15e",
   "metadata": {},
   "outputs": [
    {
     "name": "stdout",
     "output_type": "stream",
     "text": [
      " am learning python \n"
     ]
    }
   ],
   "source": [
    "AJ = \"I am learning python \"  # Good Example\n",
    "print(AJ[-20:])"
   ]
  },
  {
   "cell_type": "code",
   "execution_count": null,
   "id": "ff1c85f9",
   "metadata": {},
   "outputs": [],
   "source": []
  }
 ],
 "metadata": {
  "kernelspec": {
   "display_name": "Python 3 (ipykernel)",
   "language": "python",
   "name": "python3"
  },
  "language_info": {
   "codemirror_mode": {
    "name": "ipython",
    "version": 3
   },
   "file_extension": ".py",
   "mimetype": "text/x-python",
   "name": "python",
   "nbconvert_exporter": "python",
   "pygments_lexer": "ipython3",
   "version": "3.10.9"
  }
 },
 "nbformat": 4,
 "nbformat_minor": 5
}
