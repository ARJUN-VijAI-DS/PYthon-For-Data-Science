{
 "cells": [
  {
   "cell_type": "markdown",
   "id": "e7527437",
   "metadata": {},
   "source": [
    "- \\\\\n",
    "\n",
    "- \\\\\\\n",
    "\n",
    "- \\\\\\\\\n",
    "\n",
    "- \\\\\\\\\\\n",
    "\n",
    "- \\n\n",
    "\n",
    "- \\b\n",
    "\n",
    "- \\t\n",
    "\n",
    "- \\r\n",
    "\n"
   ]
  },
  {
   "cell_type": "code",
   "execution_count": 1,
   "id": "80764336",
   "metadata": {},
   "outputs": [
    {
     "ename": "ValueError",
     "evalue": "invalid literal for int() with base 10: 'enter marks: '",
     "output_type": "error",
     "traceback": [
      "\u001b[1;31m---------------------------------------------------------------------------\u001b[0m",
      "\u001b[1;31mValueError\u001b[0m                                Traceback (most recent call last)",
      "Cell \u001b[1;32mIn[1], line 1\u001b[0m\n\u001b[1;32m----> 1\u001b[0m \u001b[38;5;28mprint\u001b[39m(\u001b[38;5;28minput\u001b[39m(\u001b[38;5;28mtype\u001b[39m(\u001b[38;5;28;43mint\u001b[39;49m\u001b[43m(\u001b[49m\u001b[38;5;124;43m\"\u001b[39;49m\u001b[38;5;124;43menter marks: \u001b[39;49m\u001b[38;5;124;43m\"\u001b[39;49m\u001b[43m)\u001b[49m)))\n",
      "\u001b[1;31mValueError\u001b[0m: invalid literal for int() with base 10: 'enter marks: '"
     ]
    }
   ],
   "source": [
    "print(input(type(int(\"enter marks: \"))))"
   ]
  },
  {
   "cell_type": "code",
   "execution_count": 1,
   "id": "de6b56d3",
   "metadata": {},
   "outputs": [
    {
     "name": "stdout",
     "output_type": "stream",
     "text": [
      "<class 'int'>aa\n",
      "aa\n"
     ]
    }
   ],
   "source": [
    "print(input(type(int(89898))))"
   ]
  },
  {
   "cell_type": "code",
   "execution_count": 2,
   "id": "ea164f13",
   "metadata": {},
   "outputs": [
    {
     "name": "stdout",
     "output_type": "stream",
     "text": [
      "<class 'int'>aa\n",
      "aa\n"
     ]
    },
    {
     "ename": "NameError",
     "evalue": "name 'aa' is not defined",
     "output_type": "error",
     "traceback": [
      "\u001b[1;31m---------------------------------------------------------------------------\u001b[0m",
      "\u001b[1;31mNameError\u001b[0m                                 Traceback (most recent call last)",
      "Cell \u001b[1;32mIn[2], line 2\u001b[0m\n\u001b[0;32m      1\u001b[0m \u001b[38;5;28mprint\u001b[39m(\u001b[38;5;28minput\u001b[39m(\u001b[38;5;28mtype\u001b[39m(\u001b[38;5;28mint\u001b[39m(\u001b[38;5;241m89898\u001b[39m))))\n\u001b[1;32m----> 2\u001b[0m \u001b[38;5;28mprint\u001b[39m(\u001b[38;5;28mtype\u001b[39m(\u001b[43maa\u001b[49m))\n",
      "\u001b[1;31mNameError\u001b[0m: name 'aa' is not defined"
     ]
    }
   ],
   "source": [
    "print(input(type(int(89898))))\n",
    "print(type(aa))                 # aa is not a \"VARIABLE HERE\""
   ]
  },
  {
   "cell_type": "code",
   "execution_count": null,
   "id": "11f23c23",
   "metadata": {},
   "outputs": [],
   "source": []
  },
  {
   "cell_type": "code",
   "execution_count": 11,
   "id": "e542451b",
   "metadata": {},
   "outputs": [
    {
     "ename": "NameError",
     "evalue": "name 'srt' is not defined",
     "output_type": "error",
     "traceback": [
      "\u001b[1;31m---------------------------------------------------------------------------\u001b[0m",
      "\u001b[1;31mNameError\u001b[0m                                 Traceback (most recent call last)",
      "Cell \u001b[1;32mIn[11], line 1\u001b[0m\n\u001b[1;32m----> 1\u001b[0m \u001b[38;5;28mprint\u001b[39m(\u001b[38;5;28minput\u001b[39m(\u001b[38;5;28mtype\u001b[39m(\u001b[43msrt\u001b[49m(\u001b[38;5;124m\"\u001b[39m\u001b[38;5;124menter marks: \u001b[39m\u001b[38;5;124m\"\u001b[39m))))\n",
      "\u001b[1;31mNameError\u001b[0m: name 'srt' is not defined"
     ]
    }
   ],
   "source": [
    "print(input(type(srt(\"enter marks: \"))))"
   ]
  },
  {
   "cell_type": "code",
   "execution_count": 12,
   "id": "2a29db9d",
   "metadata": {},
   "outputs": [
    {
     "name": "stdout",
     "output_type": "stream",
     "text": [
      "<class 'str'>Aj\n",
      "Aj\n"
     ]
    }
   ],
   "source": [
    "print(input(type(str(\"enter marks: \"))))"
   ]
  },
  {
   "cell_type": "code",
   "execution_count": 3,
   "id": "0b8b0d06",
   "metadata": {},
   "outputs": [
    {
     "name": "stdout",
     "output_type": "stream",
     "text": [
      "Hellooo\b\n"
     ]
    }
   ],
   "source": [
    "print(\"Hellooo\\b\")"
   ]
  },
  {
   "cell_type": "code",
   "execution_count": 4,
   "id": "cf7d72b1",
   "metadata": {},
   "outputs": [
    {
     "name": "stdout",
     "output_type": "stream",
     "text": [
      "Hellooo\b\b\n"
     ]
    }
   ],
   "source": [
    "print(\"Hellooo\\b\\b\")"
   ]
  },
  {
   "cell_type": "code",
   "execution_count": 5,
   "id": "cca03468",
   "metadata": {},
   "outputs": [
    {
     "name": "stdout",
     "output_type": "stream",
     "text": [
      "Helloo\b\b\b\n"
     ]
    }
   ],
   "source": [
    "print(\"Helloo\\b\\b\\b\")"
   ]
  },
  {
   "cell_type": "code",
   "execution_count": 6,
   "id": "19178122",
   "metadata": {},
   "outputs": [
    {
     "name": "stdout",
     "output_type": "stream",
     "text": [
      "'\n",
      "'\n"
     ]
    }
   ],
   "source": [
    "print('\\'\\n\\'')"
   ]
  },
  {
   "cell_type": "code",
   "execution_count": 7,
   "id": "05673d76",
   "metadata": {},
   "outputs": [
    {
     "name": "stdout",
     "output_type": "stream",
     "text": [
      "myself\t\t an aspiring Data Scientist\n"
     ]
    }
   ],
   "source": [
    "print(\"myself\\t\\t an aspiring Data Scientist\")"
   ]
  },
  {
   "cell_type": "code",
   "execution_count": 8,
   "id": "4985344b",
   "metadata": {},
   "outputs": [
    {
     "name": "stdout",
     "output_type": "stream",
     "text": [
      "\\b\n"
     ]
    }
   ],
   "source": [
    "print(\"\\\\b\")"
   ]
  },
  {
   "cell_type": "code",
   "execution_count": 9,
   "id": "a86384e3",
   "metadata": {},
   "outputs": [
    {
     "name": "stdout",
     "output_type": "stream",
     "text": [
      "Hello \t I'LL be successful \t\t\t Data scientist\n"
     ]
    }
   ],
   "source": [
    "print(\"Hello \\t I'LL be successful \\t\\t\\t Data scientist\")"
   ]
  },
  {
   "cell_type": "code",
   "execution_count": 10,
   "id": "db0cd001",
   "metadata": {},
   "outputs": [
    {
     "name": "stdout",
     "output_type": "stream",
     "text": [
      "my name is arjun\r",
      " I am an aspiring Data Scientist\n"
     ]
    }
   ],
   "source": [
    "print(\"my name is arjun\\r I am an aspiring Data Scientist\")"
   ]
  },
  {
   "cell_type": "code",
   "execution_count": 13,
   "id": "120a1c20",
   "metadata": {},
   "outputs": [
    {
     "name": "stdout",
     "output_type": "stream",
     "text": [
      "Total students in 6th B: 35\n",
      " There are 35students in my class\n"
     ]
    }
   ],
   "source": [
    "name = input(\"Total students in 6th B: \")\n",
    "print(\" There are \" +name+ \"students in my class\")"
   ]
  },
  {
   "cell_type": "code",
   "execution_count": 14,
   "id": "5d7f919f",
   "metadata": {},
   "outputs": [
    {
     "name": "stdout",
     "output_type": "stream",
     "text": [
      "Total students in 6th B: 38\n",
      " There are 38 students in my class\n"
     ]
    }
   ],
   "source": [
    "name = input(\"Total students in 6th B: \")\n",
    "print(\" There are \" + name + \" students in my class\")"
   ]
  },
  {
   "cell_type": "code",
   "execution_count": 17,
   "id": "79b539b7",
   "metadata": {},
   "outputs": [
    {
     "ename": "SyntaxError",
     "evalue": "invalid syntax (1395647937.py, line 2)",
     "output_type": "error",
     "traceback": [
      "\u001b[1;36m  Cell \u001b[1;32mIn[17], line 2\u001b[1;36m\u001b[0m\n\u001b[1;33m    work two = input(\"Take bath: \")\u001b[0m\n\u001b[1;37m         ^\u001b[0m\n\u001b[1;31mSyntaxError\u001b[0m\u001b[1;31m:\u001b[0m invalid syntax\n"
     ]
    }
   ],
   "source": [
    "work = input(\"water the plants: \")\n",
    "work two = input(\"Take bath: \")\n",
    "work there = input(\"Do breakfast: \")\n",
    "work four = input(\"Go to school: \")\n",
    "work five = input(\"Teach: \")\n",
    "\n",
    "print('\\n')\n",
    "print(\" work: \", work)\n",
    "print(\" work two: \", work two)\n",
    "print(\" work three: \", work three)\n",
    "print(\" work four: \", work four)\n",
    "print(\" work five: \", work five)\n",
    "print(work, work two, work three, work four, work five)"
   ]
  },
  {
   "cell_type": "code",
   "execution_count": 18,
   "id": "cc98924b",
   "metadata": {},
   "outputs": [
    {
     "ename": "SyntaxError",
     "evalue": "cannot assign to expression here. Maybe you meant '==' instead of '='? (797169196.py, line 2)",
     "output_type": "error",
     "traceback": [
      "\u001b[1;36m  Cell \u001b[1;32mIn[18], line 2\u001b[1;36m\u001b[0m\n\u001b[1;33m    work-two = input(\"Take bath: \")\u001b[0m\n\u001b[1;37m    ^\u001b[0m\n\u001b[1;31mSyntaxError\u001b[0m\u001b[1;31m:\u001b[0m cannot assign to expression here. Maybe you meant '==' instead of '='?\n"
     ]
    }
   ],
   "source": [
    "work = input(\"water the plants: \")           # variable cannot contain special characters\n",
    "work-two = input(\"Take bath: \")\n",
    "work-there = input(\"Do breakfast: \")\n",
    "work-four = input(\"Go to school: \")\n",
    "work-five = input(\"Teach: \")\n",
    "\n",
    "print('\\n')\n",
    "print(\" work: \", work)\n",
    "print(\" work-two: \", work-two)\n",
    "print(\" work-three: \", work-three)\n",
    "print(\" work-four: \", work-four)\n",
    "print(\" work-five: \", work-five)\n",
    "print(work, work two, work three, work four, work five)"
   ]
  },
  {
   "cell_type": "code",
   "execution_count": 20,
   "id": "f5c66b55",
   "metadata": {
    "scrolled": true
   },
   "outputs": [
    {
     "name": "stdout",
     "output_type": "stream",
     "text": [
      "water the plants: 4\n",
      "Take bath: 5\n",
      "Do breakfast: 6\n",
      "Go to school: 7\n",
      "Teach: 8\n",
      "\n",
      "\n",
      " work:  4\n",
      " worktwo:  5\n",
      " workthree:  6\n",
      " workfour:  7\n",
      " workfive:  8\n",
      "4 5 6 7 8\n"
     ]
    }
   ],
   "source": [
    "work = input(\"water the plants: \")           # variable cannot contain special characters\n",
    "worktwo = input(\"Take bath: \")\n",
    "workthree = input(\"Do breakfast: \")\n",
    "workfour = input(\"Go to school: \")\n",
    "workfive = input(\"Teach: \")\n",
    "\n",
    "print('\\n')\n",
    "print(\" work: \", work)\n",
    "print(\" worktwo: \", worktwo)\n",
    "print(\" workthree: \", workthree)\n",
    "print(\" workfour: \", workfour)\n",
    "print(\" workfive: \", workfive)\n",
    "print(work, worktwo, workthree, workfour, workfive)"
   ]
  },
  {
   "cell_type": "code",
   "execution_count": 21,
   "id": "852773be",
   "metadata": {},
   "outputs": [
    {
     "name": "stdout",
     "output_type": "stream",
     "text": [
      "Value given : 55\n",
      "<class 'float'> <class 'int'> <class 'complex'>\n"
     ]
    }
   ],
   "source": [
    "Q = input(\"Value given : \")\n",
    "print(type(float(Q)), type(int(Q)), type(complex(Q)))"
   ]
  },
  {
   "cell_type": "code",
   "execution_count": 22,
   "id": "f65c6c83",
   "metadata": {},
   "outputs": [
    {
     "name": "stdout",
     "output_type": "stream",
     "text": [
      "Value given : 55\n",
      "type is:  <class 'float'>\n"
     ]
    }
   ],
   "source": [
    "Q = float(input(\"Value given : \"))\n",
    "print(\"type is: \" , type(Q))\n"
   ]
  },
  {
   "cell_type": "code",
   "execution_count": 23,
   "id": "9d1b530f",
   "metadata": {},
   "outputs": [
    {
     "name": "stdout",
     "output_type": "stream",
     "text": [
      "son of Arjun: Nomit\n"
     ]
    },
    {
     "ename": "ValueError",
     "evalue": "complex() arg is a malformed string",
     "output_type": "error",
     "traceback": [
      "\u001b[1;31m---------------------------------------------------------------------------\u001b[0m",
      "\u001b[1;31mValueError\u001b[0m                                Traceback (most recent call last)",
      "Cell \u001b[1;32mIn[23], line 1\u001b[0m\n\u001b[1;32m----> 1\u001b[0m Arjun \u001b[38;5;241m=\u001b[39m \u001b[38;5;28;43mcomplex\u001b[39;49m\u001b[43m(\u001b[49m\u001b[38;5;28;43minput\u001b[39;49m\u001b[43m(\u001b[49m\u001b[38;5;124;43m\"\u001b[39;49m\u001b[38;5;124;43mson of Arjun: \u001b[39;49m\u001b[38;5;124;43m\"\u001b[39;49m\u001b[43m)\u001b[49m\u001b[43m)\u001b[49m\n\u001b[0;32m      2\u001b[0m \u001b[38;5;28mprint\u001b[39m(\u001b[38;5;124m\"\u001b[39m\u001b[38;5;130;01m\\n\u001b[39;00m\u001b[38;5;124m\"\u001b[39m)\n\u001b[0;32m      3\u001b[0m \u001b[38;5;28mprint\u001b[39m(\u001b[38;5;124m\"\u001b[39m\u001b[38;5;124mson of Arjun: \u001b[39m\u001b[38;5;124m\"\u001b[39m, Arjun)\n",
      "\u001b[1;31mValueError\u001b[0m: complex() arg is a malformed string"
     ]
    }
   ],
   "source": [
    "Arjun = complex(input(\"son of Arjun: \"))\n",
    "print(\"\\n\")\n",
    "print(\"son of Arjun: \", Arjun)"
   ]
  },
  {
   "cell_type": "code",
   "execution_count": 24,
   "id": "7e439a5d",
   "metadata": {
    "scrolled": true
   },
   "outputs": [
    {
     "name": "stdout",
     "output_type": "stream",
     "text": [
      "son of Arjun: Nomit\n",
      "\n",
      "\n",
      "son of Arjun:  Nomit\n"
     ]
    }
   ],
   "source": [
    "Arjun = str(input(\"son of Arjun: \"))      # NO need use \"str\" outside \"input command\" as output is \"STRING ONLY\"\n",
    "print(\"\\n\")\n",
    "print(\"son of Arjun: \", Arjun)"
   ]
  },
  {
   "cell_type": "code",
   "execution_count": 3,
   "id": "0887c970",
   "metadata": {},
   "outputs": [
    {
     "name": "stdout",
     "output_type": "stream",
     "text": [
      "son of Arjun: Nomit\n",
      "\n",
      "\n",
      "son of Arjun:  Nomit\n"
     ]
    }
   ],
   "source": [
    "Arjun = (input(\"son of Arjun: \"))      # NO need use \"str\" outside \"input command\" as output is \"STRING ONLY\"\n",
    "print(\"\\n\")\n",
    "print(\"son of Arjun: \", Arjun)"
   ]
  },
  {
   "cell_type": "code",
   "execution_count": null,
   "id": "563b2621",
   "metadata": {},
   "outputs": [],
   "source": []
  },
  {
   "cell_type": "code",
   "execution_count": null,
   "id": "cc44e7e4",
   "metadata": {},
   "outputs": [],
   "source": []
  },
  {
   "cell_type": "code",
   "execution_count": null,
   "id": "eb314659",
   "metadata": {},
   "outputs": [],
   "source": []
  },
  {
   "cell_type": "code",
   "execution_count": 4,
   "id": "2d4a8fe6",
   "metadata": {},
   "outputs": [
    {
     "name": "stdout",
     "output_type": "stream",
     "text": [
      "name of flowers: Lily\n"
     ]
    }
   ],
   "source": [
    "flowers = str(input(\"name of flowers: \"))      # NO need use \"str\" outside \"input command\" as output is \"STRING ONLY\""
   ]
  },
  {
   "cell_type": "code",
   "execution_count": 5,
   "id": "a343774b",
   "metadata": {},
   "outputs": [
    {
     "name": "stdout",
     "output_type": "stream",
     "text": [
      "name of flowers: Marigold\n"
     ]
    }
   ],
   "source": [
    "flowers = (input(\"name of flowers: \"))         # NO need use \"str\" outside \"input command\" as output is \"STRING ONLY\""
   ]
  },
  {
   "cell_type": "code",
   "execution_count": null,
   "id": "0d72469e",
   "metadata": {},
   "outputs": [],
   "source": []
  },
  {
   "cell_type": "code",
   "execution_count": null,
   "id": "c90bcd2e",
   "metadata": {},
   "outputs": [],
   "source": []
  },
  {
   "cell_type": "code",
   "execution_count": null,
   "id": "4d25e25d",
   "metadata": {},
   "outputs": [],
   "source": []
  },
  {
   "cell_type": "code",
   "execution_count": 3,
   "id": "75b420cf",
   "metadata": {},
   "outputs": [
    {
     "ename": "SyntaxError",
     "evalue": "unterminated string literal (detected at line 1) (196056601.py, line 1)",
     "output_type": "error",
     "traceback": [
      "\u001b[1;36m  Cell \u001b[1;32mIn[3], line 1\u001b[1;36m\u001b[0m\n\u001b[1;33m    print(\"Name of student\"\"\\t\\tAA\\t\\tBB\\t\\tCC\\t\\tDD)\u001b[0m\n\u001b[1;37m                           ^\u001b[0m\n\u001b[1;31mSyntaxError\u001b[0m\u001b[1;31m:\u001b[0m unterminated string literal (detected at line 1)\n"
     ]
    }
   ],
   "source": [
    "print(\"Name of student\"\"\\t\\tAA\\t\\tBB\\t\\tCC\\t\\tDD)\n",
    "print(\"\\n\")\n",
    "print(\"Hindi          \"\"\\t\\t90\\t\\t80\\t\\t77\\t\\t91)\n",
    "print(\"\\n\")\n",
    "print(\"English        \"\"\\t\\t65\\t\\t55\\t\\t88\\t\\t79)\n",
    "print(\"\\n\")\n",
    "print(\"Sanskrit       \"\"\\t\\t91\\t\\t85\\t\\t75\\t\\t65)\n",
    "print(\"\\n\")\n",
    "print(\"SST            \"\"\\t\\t92\\t\\t88\\t\\t98\\t\\t58)\n"
   ]
  },
  {
   "cell_type": "code",
   "execution_count": 2,
   "id": "ada466e9",
   "metadata": {},
   "outputs": [
    {
     "name": "stdout",
     "output_type": "stream",
     "text": [
      "Name of student\t\tAA\t\tBB\t\tCC\t\tDD\n",
      "\n",
      "\n",
      "Hindi          \t\t90\t\t80\t\t77\t\t91\n",
      "\n",
      "\n",
      "English        \t\t65\t\t55\t\t88\t\t79\n",
      "\n",
      "\n",
      "Sanskrit       \t\t91\t\t85\t\t75\t\t65\n",
      "\n",
      "\n",
      "SST            \t\t92\t\t88\t\t98\t\t58\n"
     ]
    }
   ],
   "source": [
    "print(\"Name of student\"\"\\t\\tAA\\t\\tBB\\t\\tCC\\t\\tDD\")\n",
    "print(\"\\n\")\n",
    "print(\"Hindi          \"\"\\t\\t90\\t\\t80\\t\\t77\\t\\t91\")\n",
    "print(\"\\n\")\n",
    "print(\"English        \"\"\\t\\t65\\t\\t55\\t\\t88\\t\\t79\")\n",
    "print(\"\\n\")\n",
    "print(\"Sanskrit       \"\"\\t\\t91\\t\\t85\\t\\t75\\t\\t65\")\n",
    "print(\"\\n\")\n",
    "print(\"SST            \"\"\\t\\t92\\t\\t88\\t\\t98\\t\\t58\")\n",
    "      "
   ]
  },
  {
   "cell_type": "code",
   "execution_count": 4,
   "id": "17b344f3",
   "metadata": {},
   "outputs": [],
   "source": [
    " #  Take two numbers (two digit positive numbers) as inputs form the users and add two numbers in this way x + y = Z \n",
    " # eg 25 + 36 = 2536.\n",
    " \n",
    " \n",
    " #  Take any two numbers (two digit positive numbers) as inputs form the users multiply the numbers in this way\n",
    " #  25\n",
    " #  36\n",
    " #  5*3 + 2*5 = 25"
   ]
  },
  {
   "cell_type": "code",
   "execution_count": 6,
   "id": "fbb554d3",
   "metadata": {},
   "outputs": [
    {
     "ename": "ValueError",
     "evalue": "invalid literal for int() with base 10: 'Enter a Two Digit integer: '",
     "output_type": "error",
     "traceback": [
      "\u001b[1;31m---------------------------------------------------------------------------\u001b[0m",
      "\u001b[1;31mValueError\u001b[0m                                Traceback (most recent call last)",
      "Cell \u001b[1;32mIn[6], line 3\u001b[0m\n\u001b[0;32m      1\u001b[0m \u001b[38;5;66;03m# take a two digit Integer form user and print the digit at one's place separately.\u001b[39;00m\n\u001b[1;32m----> 3\u001b[0m Data \u001b[38;5;241m=\u001b[39m \u001b[38;5;28minput\u001b[39m(\u001b[38;5;28;43mint\u001b[39;49m\u001b[43m(\u001b[49m\u001b[38;5;124;43m\"\u001b[39;49m\u001b[38;5;124;43mEnter a Two Digit integer: \u001b[39;49m\u001b[38;5;124;43m\"\u001b[39;49m\u001b[43m)\u001b[49m)\n\u001b[0;32m      4\u001b[0m \u001b[38;5;28mprint\u001b[39m(\u001b[38;5;124m\"\u001b[39m\u001b[38;5;130;01m\\n\u001b[39;00m\u001b[38;5;124m\"\u001b[39m)\n\u001b[0;32m      6\u001b[0m x  \u001b[38;5;241m=\u001b[39m Data\u001b[38;5;241m%\u001b[39m\u001b[38;5;241m10\u001b[39m \n",
      "\u001b[1;31mValueError\u001b[0m: invalid literal for int() with base 10: 'Enter a Two Digit integer: '"
     ]
    }
   ],
   "source": [
    "# take a two digit Integer form user and print the digit at one's place separately.\n",
    "\n",
    "Data = input(int(\"Enter a Two Digit integer: \"))\n",
    "print(\"\\n\")\n",
    "\n",
    "x  = Data%10 \n",
    "\n",
    "print(\"x\")\n",
    "\n"
   ]
  },
  {
   "cell_type": "code",
   "execution_count": 6,
   "id": "e37f9169",
   "metadata": {},
   "outputs": [
    {
     "name": "stdout",
     "output_type": "stream",
     "text": [
      "Enter a Two Digit integer: 23\n",
      "\n",
      "\n",
      "x\n",
      "3\n"
     ]
    }
   ],
   "source": [
    "# take a two digit Integer form user and print the digit at one's place separately.\n",
    "\n",
    "Data = int(input(\"Enter a Two Digit integer: \"))\n",
    "print(\"\\n\")\n",
    "\n",
    "x  = Data%10 \n",
    "\n",
    "print(\"x\")         # 'x' is a string here, that's why x is printed here\n",
    "print(x)           # Here 'x' is output"
   ]
  },
  {
   "cell_type": "code",
   "execution_count": null,
   "id": "4352da68",
   "metadata": {},
   "outputs": [],
   "source": []
  }
 ],
 "metadata": {
  "kernelspec": {
   "display_name": "Python 3 (ipykernel)",
   "language": "python",
   "name": "python3"
  },
  "language_info": {
   "codemirror_mode": {
    "name": "ipython",
    "version": 3
   },
   "file_extension": ".py",
   "mimetype": "text/x-python",
   "name": "python",
   "nbconvert_exporter": "python",
   "pygments_lexer": "ipython3",
   "version": "3.10.9"
  }
 },
 "nbformat": 4,
 "nbformat_minor": 5
}
