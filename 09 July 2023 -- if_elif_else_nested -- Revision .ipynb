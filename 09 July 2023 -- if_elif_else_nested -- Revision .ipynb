{
 "cells": [
  {
   "cell_type": "code",
   "execution_count": 1,
   "id": "c43b09ea",
   "metadata": {},
   "outputs": [
    {
     "name": "stdout",
     "output_type": "stream",
     "text": [
      "10\n",
      "x is not 10\n"
     ]
    }
   ],
   "source": [
    "x = input()\n",
    "if x==8:\n",
    "    print('x is ',x)\n",
    "elif x==10:\n",
    "    print('x is ',x)\n",
    "else:\n",
    "    print('x is not 10')   ### input is \"string HERE\""
   ]
  },
  {
   "cell_type": "code",
   "execution_count": 2,
   "id": "89b95036",
   "metadata": {},
   "outputs": [
    {
     "name": "stdout",
     "output_type": "stream",
     "text": [
      "10\n",
      "x is  10\n"
     ]
    }
   ],
   "source": [
    "x = int(input())\n",
    "if x==10:\n",
    "    print('x is ',x)\n",
    "elif x==10:\n",
    "    print('x is ',x)\n",
    "else:\n",
    "    print('x is not 10')"
   ]
  },
  {
   "cell_type": "code",
   "execution_count": 3,
   "id": "503fb354",
   "metadata": {},
   "outputs": [
    {
     "ename": "SyntaxError",
     "evalue": "invalid syntax (880216913.py, line 6)",
     "output_type": "error",
     "traceback": [
      "\u001b[1;36m  Cell \u001b[1;32mIn[3], line 6\u001b[1;36m\u001b[0m\n\u001b[1;33m    elif x==10:\u001b[0m\n\u001b[1;37m    ^\u001b[0m\n\u001b[1;31mSyntaxError\u001b[0m\u001b[1;31m:\u001b[0m invalid syntax\n"
     ]
    }
   ],
   "source": [
    "x = 10\n",
    "if x==8:\n",
    "    print('x is ',x)\n",
    "else:\n",
    "    print('x is not 10')\n",
    "elif x==10:\n",
    "    print('x is ',x)   ## if  -- else  -- elif    --- \"ERROR\""
   ]
  },
  {
   "cell_type": "code",
   "execution_count": 4,
   "id": "5d120c99",
   "metadata": {},
   "outputs": [
    {
     "name": "stdout",
     "output_type": "stream",
     "text": [
      "x is not 10\n",
      "x is  10\n"
     ]
    }
   ],
   "source": [
    "x = 10\n",
    "if x==8:\n",
    "    print('x is ',x)\n",
    "else:\n",
    "    print('x is not 10')\n",
    "if x==10:\n",
    "    print('x is ',x)   ### Execution Process --- \"Top to Bottom\"  and \"Left to right\""
   ]
  },
  {
   "cell_type": "code",
   "execution_count": null,
   "id": "82208ecb",
   "metadata": {},
   "outputs": [],
   "source": []
  },
  {
   "cell_type": "markdown",
   "id": "5957f656",
   "metadata": {},
   "source": [
    "## Very -- Important  --- command -- 'eval'"
   ]
  },
  {
   "cell_type": "code",
   "execution_count": 5,
   "id": "e1a472a8",
   "metadata": {},
   "outputs": [
    {
     "name": "stdout",
     "output_type": "stream",
     "text": [
      "11\n",
      "11\n"
     ]
    },
    {
     "data": {
      "text/plain": [
       "int"
      ]
     },
     "execution_count": 5,
     "metadata": {},
     "output_type": "execute_result"
    }
   ],
   "source": [
    "x = eval(input())\n",
    "print(x)\n",
    "type(x)"
   ]
  },
  {
   "cell_type": "code",
   "execution_count": null,
   "id": "8802ebe9",
   "metadata": {},
   "outputs": [],
   "source": []
  },
  {
   "cell_type": "code",
   "execution_count": null,
   "id": "e79bbadc",
   "metadata": {},
   "outputs": [],
   "source": []
  },
  {
   "cell_type": "code",
   "execution_count": 6,
   "id": "bcbf0688",
   "metadata": {},
   "outputs": [
    {
     "name": "stdout",
     "output_type": "stream",
     "text": [
      "value of x:4\n",
      "value of y:7\n",
      "value of z:8\n",
      "x>y<z\n"
     ]
    }
   ],
   "source": [
    "x = int(input(\"value of x:\"))\n",
    "y = int(input(\"value of y:\"))\n",
    "z = int(input(\"value of z:\"))\n",
    "if x>y:\n",
    "    if x>z:\n",
    "        print(\"x>y>z\")\n",
    "    else:\n",
    "        print(\"x<y<z\")\n",
    "elif x==y:\n",
    "    if x>z:\n",
    "        print(\"x==y>z\")\n",
    "    else:\n",
    "        print(\"x==y<z\")\n",
    "elif x<y:\n",
    "    if x>z:\n",
    "        print(\"x>y>z\")\n",
    "    else:\n",
    "        print(\"x>y<z\")"
   ]
  },
  {
   "cell_type": "code",
   "execution_count": 7,
   "id": "111943e8",
   "metadata": {},
   "outputs": [
    {
     "name": "stdout",
     "output_type": "stream",
     "text": [
      "value of x:7\n",
      "value of y:4\n",
      "value of z:4\n",
      "x>y>z\n"
     ]
    }
   ],
   "source": [
    "x = int(input(\"value of x:\"))\n",
    "y = int(input(\"value of y:\"))\n",
    "z = int(input(\"value of z:\"))\n",
    "if x>y:\n",
    "    if x>z:\n",
    "        print(\"x>y>z\")\n",
    "    elif y==z:\n",
    "        print(\"x>y==z\")\n",
    "    else:\n",
    "        print(\"x<y<z\")\n",
    "elif x==y:\n",
    "    if x>z:\n",
    "        print(\"x==y>z\")\n",
    "    else:\n",
    "        print(\"x==y<z\")\n",
    "elif x<y:\n",
    "    if x>z:\n",
    "        print(\"x>y>z\")\n",
    "    else:\n",
    "        print(\"x>y<z\")\n"
   ]
  },
  {
   "cell_type": "code",
   "execution_count": 8,
   "id": "765f1818",
   "metadata": {},
   "outputs": [
    {
     "name": "stdout",
     "output_type": "stream",
     "text": [
      "value of x:6\n",
      "value of y:7\n",
      "value of z:8\n",
      "x>y<z\n"
     ]
    }
   ],
   "source": [
    "x = int(input(\"value of x:\"))\n",
    "y = int(input(\"value of y:\"))\n",
    "z = int(input(\"value of z:\"))\n",
    "if x>y:\n",
    "    if x>z:\n",
    "        print(\"x>y>z\")\n",
    "    elif y==z:\n",
    "        print(\"x>y==z\")\n",
    "    else:\n",
    "        print(\"x<y<z\")\n",
    "elif x==y:\n",
    "    if x>z:\n",
    "        print(\"x==y>z\")\n",
    "    else:\n",
    "        print(\"x==y<z\")\n",
    "elif x<y:\n",
    "    if x>z:\n",
    "        print(\"x>y>z\")\n",
    "    else:\n",
    "        print(\"x>y<z\")\n",
    "## IF  -- \"if -- this condition is satisfied THEN -- elif and else is skipped\""
   ]
  },
  {
   "cell_type": "code",
   "execution_count": null,
   "id": "adaac92f",
   "metadata": {},
   "outputs": [],
   "source": []
  }
 ],
 "metadata": {
  "kernelspec": {
   "display_name": "Python 3 (ipykernel)",
   "language": "python",
   "name": "python3"
  },
  "language_info": {
   "codemirror_mode": {
    "name": "ipython",
    "version": 3
   },
   "file_extension": ".py",
   "mimetype": "text/x-python",
   "name": "python",
   "nbconvert_exporter": "python",
   "pygments_lexer": "ipython3",
   "version": "3.10.9"
  }
 },
 "nbformat": 4,
 "nbformat_minor": 5
}
