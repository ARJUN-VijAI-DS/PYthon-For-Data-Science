{
 "cells": [
  {
   "cell_type": "markdown",
   "id": "2d2da2f8",
   "metadata": {},
   "source": [
    "<font size = 5.5> **Constructor**\n",
    "\n",
    "<font size = 4> A Constructor is a **special method** used to initialize an object of a class.\n",
    "    <li> Defining constructors is optional.\n",
    "        <br> PYthon will provide a \"Default Constructor\" if \"No\" constructor is defined.\n",
    "    <li> The constructor is executed automatically at the time of object creation.\n",
    "    <li> The primary use of a constructor is to initialize instance variables of an object. The constructor contains a collection of statements that executes at the time of object creation. \n"
   ]
  },
  {
   "cell_type": "code",
   "execution_count": 1,
   "id": "31eced35",
   "metadata": {},
   "outputs": [],
   "source": [
    "class Student:\n",
    "    pass\n",
    "\n",
    "# PYthon gives default Constructor\n",
    "s1 = Student()\n",
    "s2 = Student()\n",
    "s3 = Student()"
   ]
  },
  {
   "cell_type": "code",
   "execution_count": 2,
   "id": "71f292a0",
   "metadata": {},
   "outputs": [
    {
     "ename": "TypeError",
     "evalue": "Student() takes no arguments",
     "output_type": "error",
     "traceback": [
      "\u001b[1;31m---------------------------------------------------------------------------\u001b[0m",
      "\u001b[1;31mTypeError\u001b[0m                                 Traceback (most recent call last)",
      "Cell \u001b[1;32mIn[2], line 1\u001b[0m\n\u001b[1;32m----> 1\u001b[0m s1\u001b[38;5;241m.\u001b[39mname \u001b[38;5;241m=\u001b[39m \u001b[43mStudent\u001b[49m\u001b[43m(\u001b[49m\u001b[38;5;124;43m\"\u001b[39;49m\u001b[38;5;124;43mAj\u001b[39;49m\u001b[38;5;124;43m\"\u001b[39;49m\u001b[43m)\u001b[49m\n\u001b[0;32m      2\u001b[0m s1\u001b[38;5;241m.\u001b[39mage \u001b[38;5;241m=\u001b[39m Student(\u001b[38;5;241m40\u001b[39m)\n\u001b[0;32m      3\u001b[0m s1\u001b[38;5;241m.\u001b[39mprofession \u001b[38;5;241m=\u001b[39m Student(\u001b[38;5;124m\"\u001b[39m\u001b[38;5;124mData Scientist\u001b[39m\u001b[38;5;124m\"\u001b[39m)\n",
      "\u001b[1;31mTypeError\u001b[0m: Student() takes no arguments"
     ]
    }
   ],
   "source": [
    "s1.name = Student(\"Aj\")\n",
    "s1.age = Student(40)\n",
    "s1.profession = Student(\"Data Scientist\")\n",
    "\n",
    "s2.name = Student(\"SS\")\n",
    "s2.age = Student(35)\n",
    "s2.profession = Student(\"Homemaker\")\n",
    "\n",
    "s3.name = Student(\"Tavi\")\n",
    "s3.age = Student(4)\n",
    "s3.profession = Student(\"Student\")"
   ]
  },
  {
   "cell_type": "code",
   "execution_count": 3,
   "id": "bbf7aa46",
   "metadata": {},
   "outputs": [],
   "source": [
    "s1.name = \"Aj\"\n",
    "s1.age = 40\n",
    "s1.profession = \"Data Scientist\"\n",
    "\n",
    "s2.name = \"SS\"\n",
    "s2.age = 35\n",
    "s2.profession = \"Homemaker\"\n",
    "\n",
    "s3.name = \"Tavi\"\n",
    "s3.age = 4\n",
    "s3.profession = \"Student\""
   ]
  },
  {
   "cell_type": "code",
   "execution_count": null,
   "id": "6710a61a",
   "metadata": {},
   "outputs": [],
   "source": []
  },
  {
   "cell_type": "code",
   "execution_count": 7,
   "id": "215c40d3",
   "metadata": {},
   "outputs": [],
   "source": [
    "class Student:\n",
    "    # Constructor\n",
    "    # initialise instance variables\n",
    "    def __init__(self,name,age,profession): ## It is convention to write  -- \"self\"\n",
    "        self.name       = name\n",
    "        self.age        = age\n",
    "        self.profession = profession\n",
    "        ## \"self\"  -- object is passing itself -- object that is being created\n",
    "        \n",
    "\n",
    "# Create objects using \"Constructor\"\n",
    "s1 = Student(\"Aj\",40,\"DATA Scientist\")\n",
    "s2 = Student(\"SS\",35,\"Homemaker\")\n",
    "s3 = Student(\"Tavi\",4,\"Student\")"
   ]
  },
  {
   "cell_type": "code",
   "execution_count": 8,
   "id": "3859de1a",
   "metadata": {},
   "outputs": [
    {
     "name": "stdout",
     "output_type": "stream",
     "text": [
      "<__main__.Student object at 0x000002440CD34940>\n"
     ]
    }
   ],
   "source": [
    "print(s1)"
   ]
  },
  {
   "cell_type": "code",
   "execution_count": 9,
   "id": "835578db",
   "metadata": {},
   "outputs": [
    {
     "ename": "AttributeError",
     "evalue": "'Student' object has no attribute 'student'",
     "output_type": "error",
     "traceback": [
      "\u001b[1;31m---------------------------------------------------------------------------\u001b[0m",
      "\u001b[1;31mAttributeError\u001b[0m                            Traceback (most recent call last)",
      "Cell \u001b[1;32mIn[9], line 1\u001b[0m\n\u001b[1;32m----> 1\u001b[0m \u001b[38;5;28mprint\u001b[39m(\u001b[43ms1\u001b[49m\u001b[38;5;241;43m.\u001b[39;49m\u001b[43mstudent\u001b[49m)\n",
      "\u001b[1;31mAttributeError\u001b[0m: 'Student' object has no attribute 'student'"
     ]
    }
   ],
   "source": [
    "print(s1.student)"
   ]
  },
  {
   "cell_type": "code",
   "execution_count": 11,
   "id": "7a3e1b5f",
   "metadata": {},
   "outputs": [
    {
     "name": "stdout",
     "output_type": "stream",
     "text": [
      "Aj 40 DATA Scientist\n"
     ]
    }
   ],
   "source": [
    "print(s1.name,s1.age,s1.profession)"
   ]
  },
  {
   "cell_type": "code",
   "execution_count": 12,
   "id": "954304a2",
   "metadata": {},
   "outputs": [
    {
     "name": "stdout",
     "output_type": "stream",
     "text": [
      "Aj \t 40 \t DATA Scientist\n"
     ]
    }
   ],
   "source": [
    "print(s1.name,\"\\t\",s1.age,\"\\t\", s1.profession)"
   ]
  },
  {
   "cell_type": "code",
   "execution_count": 13,
   "id": "36b37c01",
   "metadata": {},
   "outputs": [
    {
     "name": "stdout",
     "output_type": "stream",
     "text": [
      "Aj \n",
      " 40 \n",
      " DATA Scientist\n"
     ]
    }
   ],
   "source": [
    "print(s1.name,\"\\n\",s1.age,\"\\n\", s1.profession)"
   ]
  },
  {
   "cell_type": "code",
   "execution_count": null,
   "id": "93d419da",
   "metadata": {},
   "outputs": [],
   "source": []
  },
  {
   "cell_type": "code",
   "execution_count": null,
   "id": "6d5ebcd3",
   "metadata": {},
   "outputs": [],
   "source": []
  },
  {
   "cell_type": "markdown",
   "id": "3b55ff8e",
   "metadata": {},
   "source": [
    "<font size = 6.5> Destructor\n",
    "    <font size = 3.5>\n",
    "        <li> A destructor is called when an object is \"deleted\" or \"destroyed\"\n",
    "        <li> \"If Destructor is not given THEN -- PYthon will provide a \"DEFAULT Destructor\" <br> <li>Destructor is also a Special Method    "
   ]
  },
  {
   "cell_type": "code",
   "execution_count": 15,
   "id": "bf70cc29",
   "metadata": {},
   "outputs": [
    {
     "name": "stderr",
     "output_type": "stream",
     "text": [
      "Exception ignored in: <function Student.__del__ at 0x000002440EC14DC0>\n",
      "Traceback (most recent call last):\n",
      "  File \"C:\\Users\\user\\AppData\\Local\\Temp\\ipykernel_8404\\2657350005.py\", line 14, in __del__\n",
      "NameError: name 'name' is not defined\n"
     ]
    },
    {
     "name": "stdout",
     "output_type": "stream",
     "text": [
      "Inside Constructor\n",
      "Object is initialezed\n",
      "Hello my name is Emma\n",
      "Inside Destructor\n"
     ]
    }
   ],
   "source": [
    "class Student:\n",
    "    def __init__(self,name):\n",
    "        print(\"Inside Constructor\")\n",
    "        self.name = name\n",
    "        print(\"Object is initialezed\")\n",
    "        \n",
    "    def show(self):\n",
    "        print(\"Hello my name is\", self.name)\n",
    "        \n",
    "    # Destructor is called -- \"If destructor is not called then PYthon will call -- default destructor\"\n",
    "    \n",
    "    def __del__(self):\n",
    "        print(\"Inside Destructor\")\n",
    "        self.name = name\n",
    "        print(\"Object is destroyed\")\n",
    "        \n",
    "## Create an object\n",
    "s1 = Student(\"Emma\")\n",
    "s1.show()\n",
    "\n",
    "## Delete an Object\n",
    "del s1"
   ]
  },
  {
   "cell_type": "code",
   "execution_count": 16,
   "id": "9a65b6dc",
   "metadata": {},
   "outputs": [
    {
     "name": "stdout",
     "output_type": "stream",
     "text": [
      "Inside Constructor\n",
      "Object is initialezed\n",
      "Hello my name is Emma\n",
      "Inside Destructor\n",
      "Object is destroyed\n"
     ]
    }
   ],
   "source": [
    "class Student:\n",
    "    def __init__(self,name):\n",
    "        print(\"Inside Constructor\")\n",
    "        self.name = name\n",
    "        print(\"Object is initialezed\")\n",
    "        \n",
    "    def show(self):\n",
    "        print(\"Hello my name is\", self.name)\n",
    "        \n",
    "    # Destructor is called -- \"If destructor is not called then PYthon will call -- default destructor\"\n",
    "    \n",
    "    def __del__(self):\n",
    "        print(\"Inside Destructor\")\n",
    "        print(\"Object is destroyed\")\n",
    "        \n",
    "## Create an object\n",
    "s1 = Student(\"Emma\")\n",
    "s1.show()\n",
    "\n",
    "## Delete an Object\n",
    "del s1"
   ]
  },
  {
   "cell_type": "code",
   "execution_count": 17,
   "id": "4b360dfa",
   "metadata": {},
   "outputs": [
    {
     "name": "stderr",
     "output_type": "stream",
     "text": [
      "Exception ignored in: <function Student.__del__ at 0x000002440EC14310>\n",
      "Traceback (most recent call last):\n",
      "  File \"C:\\Users\\user\\AppData\\Local\\Temp\\ipykernel_8404\\3014686751.py\", line 21, in <module>\n",
      "TypeError: Student.__del__() missing 1 required positional argument: 'name'\n"
     ]
    },
    {
     "name": "stdout",
     "output_type": "stream",
     "text": [
      "Inside Constructor\n",
      "Object is initialezed\n",
      "Hello my name is Emma\n"
     ]
    }
   ],
   "source": [
    "class Student:\n",
    "    def __init__(self,name):\n",
    "        print(\"Inside Constructor\")\n",
    "        self.name = name\n",
    "        print(\"Object is initialezed\")\n",
    "        \n",
    "    def show(self):\n",
    "        print(\"Hello my name is\", self.name)\n",
    "        \n",
    "    # Destructor is called -- \"If destructor is not called then PYthon will call -- default destructor\"\n",
    "    \n",
    "    def __del__(self,name):    ## Different -- example\n",
    "        print(\"Inside Destructor\")\n",
    "        print(\"Object is destroyed\")\n",
    "        \n",
    "## Create an object\n",
    "s1 = Student(\"Emma\")\n",
    "s1.show()\n",
    "\n",
    "## Delete an Object\n",
    "del s1"
   ]
  },
  {
   "cell_type": "code",
   "execution_count": 18,
   "id": "da609a3d",
   "metadata": {},
   "outputs": [
    {
     "name": "stdout",
     "output_type": "stream",
     "text": [
      "Inside Constructor\n",
      "Object is initialezed\n",
      "Hello my name is Emma\n"
     ]
    },
    {
     "ename": "NameError",
     "evalue": "name 'self' is not defined",
     "output_type": "error",
     "traceback": [
      "\u001b[1;31m---------------------------------------------------------------------------\u001b[0m",
      "\u001b[1;31mNameError\u001b[0m                                 Traceback (most recent call last)",
      "Cell \u001b[1;32mIn[18], line 21\u001b[0m\n\u001b[0;32m     18\u001b[0m s1\u001b[38;5;241m.\u001b[39mshow()\n\u001b[0;32m     20\u001b[0m \u001b[38;5;66;03m## Delete an Object\u001b[39;00m\n\u001b[1;32m---> 21\u001b[0m s1\u001b[38;5;241m.\u001b[39m\u001b[38;5;21m__del__\u001b[39m(\u001b[38;5;28;43mself\u001b[39;49m,name)\n",
      "\u001b[1;31mNameError\u001b[0m: name 'self' is not defined"
     ]
    }
   ],
   "source": [
    "class Student:\n",
    "    def __init__(self,name):\n",
    "        print(\"Inside Constructor\")\n",
    "        self.name = name\n",
    "        print(\"Object is initialezed\")\n",
    "        \n",
    "    def show(self):\n",
    "        print(\"Hello my name is\", self.name)\n",
    "        \n",
    "    # Destructor is called -- \"If destructor is not called then PYthon will call -- default destructor\"\n",
    "    \n",
    "    def __del__(self,name):    ## Different -- example\n",
    "        print(\"Inside Destructor\")\n",
    "        print(\"Object is destroyed\")\n",
    "        \n",
    "## Create an object\n",
    "s1 = Student(\"Emma\")\n",
    "s1.show()\n",
    "\n",
    "## Delete an Object\n",
    "s1.__del__(self,name)"
   ]
  },
  {
   "cell_type": "code",
   "execution_count": 19,
   "id": "7febc79f",
   "metadata": {},
   "outputs": [
    {
     "name": "stderr",
     "output_type": "stream",
     "text": [
      "Exception ignored in: <function Student.__del__ at 0x000002440EC156C0>\n",
      "Traceback (most recent call last):\n",
      "  File \"C:\\Users\\user\\AppData\\Local\\Temp\\ipykernel_8404\\1900067523.py\", line 17, in <module>\n",
      "TypeError: Student.__del__() missing 1 required positional argument: 'name'\n"
     ]
    },
    {
     "name": "stdout",
     "output_type": "stream",
     "text": [
      "Inside Constructor\n",
      "Object is initialezed\n",
      "Hello my name is Emma\n"
     ]
    },
    {
     "ename": "NameError",
     "evalue": "name 'self' is not defined",
     "output_type": "error",
     "traceback": [
      "\u001b[1;31m---------------------------------------------------------------------------\u001b[0m",
      "\u001b[1;31mNameError\u001b[0m                                 Traceback (most recent call last)",
      "Cell \u001b[1;32mIn[19], line 21\u001b[0m\n\u001b[0;32m     18\u001b[0m s1\u001b[38;5;241m.\u001b[39mshow()\n\u001b[0;32m     20\u001b[0m \u001b[38;5;66;03m## Delete an Object\u001b[39;00m\n\u001b[1;32m---> 21\u001b[0m s1\u001b[38;5;241m.\u001b[39m\u001b[38;5;21m__del__\u001b[39m(\u001b[38;5;28;43mself\u001b[39;49m)\n",
      "\u001b[1;31mNameError\u001b[0m: name 'self' is not defined"
     ]
    }
   ],
   "source": [
    "class Student:\n",
    "    def __init__(self,name):\n",
    "        print(\"Inside Constructor\")\n",
    "        self.name = name\n",
    "        print(\"Object is initialezed\")\n",
    "        \n",
    "    def show(self):\n",
    "        print(\"Hello my name is\", self.name)\n",
    "        \n",
    "    # Destructor is called -- \"If destructor is not called then PYthon will call -- default destructor\"\n",
    "    \n",
    "    def __del__(self,name):    ## Different -- example\n",
    "        print(\"Inside Destructor\")\n",
    "        print(\"Object is destroyed\")\n",
    "        \n",
    "## Create an object\n",
    "s1 = Student(\"Emma\")\n",
    "s1.show()\n",
    "\n",
    "## Delete an Object\n",
    "s1.__del__(self)"
   ]
  },
  {
   "cell_type": "code",
   "execution_count": 2,
   "id": "b592b2e9",
   "metadata": {},
   "outputs": [
    {
     "name": "stderr",
     "output_type": "stream",
     "text": [
      "Exception ignored in: <function Student.__del__ at 0x0000029F49274AF0>\n",
      "Traceback (most recent call last):\n",
      "  File \"C:\\Users\\user\\AppData\\Local\\Temp\\ipykernel_8248\\1452087961.py\", line 17, in <module>\n",
      "TypeError: Student.__del__() missing 1 required positional argument: 'name'\n"
     ]
    },
    {
     "name": "stdout",
     "output_type": "stream",
     "text": [
      "Inside Constructor\n",
      "Object is initialezed\n",
      "Hello my name is Emma\n",
      "Inside Destructor\n",
      "Object is destroyed\n"
     ]
    }
   ],
   "source": [
    "class Student:\n",
    "    def __init__(self,name):\n",
    "        print(\"Inside Constructor\")\n",
    "        self.name = name\n",
    "        print(\"Object is initialezed\")\n",
    "        \n",
    "    def show(self):\n",
    "        print(\"Hello my name is\", self.name)\n",
    "        \n",
    "    # Destructor is called -- \"If destructor is not called then PYthon will call -- default destructor\"\n",
    "    \n",
    "    def __del__(self,name):    ## Different -- example\n",
    "        print(\"Inside Destructor\")\n",
    "        print(\"Object is destroyed\")\n",
    "        \n",
    "## Create an object\n",
    "s1 = Student(\"Emma\")\n",
    "s1.show()\n",
    "\n",
    "## Delete an Object\n",
    "s1.__del__(\"Emma\")"
   ]
  },
  {
   "cell_type": "code",
   "execution_count": 3,
   "id": "b21a6d44",
   "metadata": {},
   "outputs": [
    {
     "name": "stderr",
     "output_type": "stream",
     "text": [
      "Exception ignored in: <function Student.__del__ at 0x0000029F491B3910>\n",
      "Traceback (most recent call last):\n",
      "  File \"C:\\Users\\user\\AppData\\Local\\Temp\\ipykernel_8248\\3267759365.py\", line 17, in <module>\n",
      "TypeError: Student.__del__() missing 1 required positional argument: 'name'\n"
     ]
    },
    {
     "name": "stdout",
     "output_type": "stream",
     "text": [
      "Inside Constructor\n",
      "Object is initialezed\n",
      "Hello my name is Emma\n"
     ]
    },
    {
     "ename": "NameError",
     "evalue": "name 'self' is not defined",
     "output_type": "error",
     "traceback": [
      "\u001b[1;31m---------------------------------------------------------------------------\u001b[0m",
      "\u001b[1;31mNameError\u001b[0m                                 Traceback (most recent call last)",
      "Cell \u001b[1;32mIn[3], line 21\u001b[0m\n\u001b[0;32m     18\u001b[0m s1\u001b[38;5;241m.\u001b[39mshow()\n\u001b[0;32m     20\u001b[0m \u001b[38;5;66;03m## Delete an Object\u001b[39;00m\n\u001b[1;32m---> 21\u001b[0m s1\u001b[38;5;241m.\u001b[39m\u001b[38;5;21m__del__\u001b[39m(\u001b[38;5;28;43mself\u001b[39;49m,name)\n",
      "\u001b[1;31mNameError\u001b[0m: name 'self' is not defined"
     ]
    }
   ],
   "source": [
    "class Student:\n",
    "    def __init__(self,name):\n",
    "        print(\"Inside Constructor\")\n",
    "        self.name = name\n",
    "        print(\"Object is initialezed\")\n",
    "        \n",
    "    def show(self):\n",
    "        print(\"Hello my name is\", self.name)\n",
    "        \n",
    "    # Destructor is called -- \"If destructor is not called then PYthon will call -- default destructor\"\n",
    "    \n",
    "    def __del__(self,name):    ## Different -- example\n",
    "        print(\"Inside Destructor\")\n",
    "        print(\"Object is destroyed\")\n",
    "        \n",
    "## Create an object\n",
    "s1 = Student(\"Emma\")\n",
    "s1.show()\n",
    "\n",
    "## Delete an Object\n",
    "s1.__del__(self,name)"
   ]
  },
  {
   "cell_type": "code",
   "execution_count": 6,
   "id": "e47adc3a",
   "metadata": {},
   "outputs": [
    {
     "ename": "SyntaxError",
     "evalue": "invalid syntax (2662915552.py, line 21)",
     "output_type": "error",
     "traceback": [
      "\u001b[1;36m  Cell \u001b[1;32mIn[6], line 21\u001b[1;36m\u001b[0m\n\u001b[1;33m    s1.__del__(self,name):\u001b[0m\n\u001b[1;37m                         ^\u001b[0m\n\u001b[1;31mSyntaxError\u001b[0m\u001b[1;31m:\u001b[0m invalid syntax\n"
     ]
    }
   ],
   "source": [
    "class Student:\n",
    "    def __init__(self,name):\n",
    "        print(\"Inside Constructor\")\n",
    "        self.name = name\n",
    "        print(\"Object is initialezed\")\n",
    "        \n",
    "    def show(self):\n",
    "        print(\"Hello my name is\", self.name)\n",
    "        \n",
    "    # Destructor is called -- \"If destructor is not called then PYthon will call -- default destructor\"\n",
    "    \n",
    "    def __del__(self,name):    ## Different -- example\n",
    "        print(\"Inside Destructor\")\n",
    "        print(\"Object is destroyed\")\n",
    "        \n",
    "## Create an object\n",
    "s1 = Student(\"Emma\")\n",
    "s1.show()\n",
    "\n",
    "## Delete an Object\n",
    "s1.__del__(self,name):\n",
    "    del s1"
   ]
  },
  {
   "cell_type": "code",
   "execution_count": 7,
   "id": "de1efb2a",
   "metadata": {},
   "outputs": [
    {
     "name": "stderr",
     "output_type": "stream",
     "text": [
      "Exception ignored in: <function Student.__del__ at 0x0000029F4AA4AC20>\n",
      "Traceback (most recent call last):\n",
      "  File \"C:\\Users\\user\\AppData\\Local\\Temp\\ipykernel_8248\\3177565684.py\", line 17, in <module>\n",
      "TypeError: Student.__del__() missing 1 required positional argument: 'name'\n"
     ]
    },
    {
     "name": "stdout",
     "output_type": "stream",
     "text": [
      "Inside Constructor\n",
      "Object is initialezed\n",
      "Hello my name is Emma\n"
     ]
    },
    {
     "ename": "NameError",
     "evalue": "name 'self' is not defined",
     "output_type": "error",
     "traceback": [
      "\u001b[1;31m---------------------------------------------------------------------------\u001b[0m",
      "\u001b[1;31mNameError\u001b[0m                                 Traceback (most recent call last)",
      "Cell \u001b[1;32mIn[7], line 21\u001b[0m\n\u001b[0;32m     18\u001b[0m s1\u001b[38;5;241m.\u001b[39mshow()\n\u001b[0;32m     20\u001b[0m \u001b[38;5;66;03m## Delete an Object\u001b[39;00m\n\u001b[1;32m---> 21\u001b[0m s1\u001b[38;5;241m.\u001b[39m\u001b[38;5;21m__del__\u001b[39m(\u001b[38;5;28;43mself\u001b[39;49m,s1\u001b[38;5;241m.\u001b[39mname)\n",
      "\u001b[1;31mNameError\u001b[0m: name 'self' is not defined"
     ]
    }
   ],
   "source": [
    "class Student:\n",
    "    def __init__(self,name):\n",
    "        print(\"Inside Constructor\")\n",
    "        self.name = name\n",
    "        print(\"Object is initialezed\")\n",
    "        \n",
    "    def show(self):\n",
    "        print(\"Hello my name is\", self.name)\n",
    "        \n",
    "    # Destructor is called -- \"If destructor is not called then PYthon will call -- default destructor\"\n",
    "    \n",
    "    def __del__(self,name):    ## Different -- example\n",
    "        print(\"Inside Destructor\")\n",
    "        print(\"Object is destroyed\")\n",
    "        \n",
    "## Create an object\n",
    "s1 = Student(\"Emma\")\n",
    "s1.show()\n",
    "\n",
    "## Delete an Object\n",
    "s1.__del__(self,s1.name)\n",
    "    "
   ]
  },
  {
   "cell_type": "code",
   "execution_count": 8,
   "id": "ac971163",
   "metadata": {},
   "outputs": [
    {
     "name": "stderr",
     "output_type": "stream",
     "text": [
      "Exception ignored in: <function Student.__del__ at 0x0000029F4ADB8280>\n",
      "Traceback (most recent call last):\n",
      "  File \"C:\\Users\\user\\AppData\\Local\\Temp\\ipykernel_8248\\177434119.py\", line 17, in <module>\n",
      "TypeError: Student.__del__() missing 1 required positional argument: 'name'\n"
     ]
    },
    {
     "name": "stdout",
     "output_type": "stream",
     "text": [
      "Inside Constructor\n",
      "Object is initialezed\n",
      "Hello my name is Emma\n"
     ]
    },
    {
     "ename": "AttributeError",
     "evalue": "'Student' object has no attribute 'Student__del__'",
     "output_type": "error",
     "traceback": [
      "\u001b[1;31m---------------------------------------------------------------------------\u001b[0m",
      "\u001b[1;31mAttributeError\u001b[0m                            Traceback (most recent call last)",
      "Cell \u001b[1;32mIn[8], line 21\u001b[0m\n\u001b[0;32m     18\u001b[0m s1\u001b[38;5;241m.\u001b[39mshow()\n\u001b[0;32m     20\u001b[0m \u001b[38;5;66;03m## Delete an Object\u001b[39;00m\n\u001b[1;32m---> 21\u001b[0m \u001b[43ms1\u001b[49m\u001b[38;5;241;43m.\u001b[39;49m\u001b[43mStudent__del__\u001b[49m(\u001b[38;5;28mself\u001b[39m,name)\n",
      "\u001b[1;31mAttributeError\u001b[0m: 'Student' object has no attribute 'Student__del__'"
     ]
    }
   ],
   "source": [
    "class Student:\n",
    "    def __init__(self,name):\n",
    "        print(\"Inside Constructor\")\n",
    "        self.name = name\n",
    "        print(\"Object is initialezed\")\n",
    "        \n",
    "    def show(self):\n",
    "        print(\"Hello my name is\", self.name)\n",
    "        \n",
    "    # Destructor is called -- \"If destructor is not called then PYthon will call -- default destructor\"\n",
    "    \n",
    "    def __del__(self,name):    ## Different -- example\n",
    "        print(\"Inside Destructor\")\n",
    "        print(\"Object is destroyed\")\n",
    "        \n",
    "## Create an object\n",
    "s1 = Student(\"Emma\")\n",
    "s1.show()\n",
    "\n",
    "## Delete an Object\n",
    "s1.Student__del__(self,name)"
   ]
  },
  {
   "cell_type": "code",
   "execution_count": 9,
   "id": "0134d32b",
   "metadata": {},
   "outputs": [
    {
     "name": "stdout",
     "output_type": "stream",
     "text": [
      "Inside Constructor\n",
      "Object is initialezed\n",
      "Hello my name is Emma\n"
     ]
    },
    {
     "ename": "AttributeError",
     "evalue": "'Student' object has no attribute 'name__del__'",
     "output_type": "error",
     "traceback": [
      "\u001b[1;31m---------------------------------------------------------------------------\u001b[0m",
      "\u001b[1;31mAttributeError\u001b[0m                            Traceback (most recent call last)",
      "Cell \u001b[1;32mIn[9], line 21\u001b[0m\n\u001b[0;32m     18\u001b[0m s1\u001b[38;5;241m.\u001b[39mshow()\n\u001b[0;32m     20\u001b[0m \u001b[38;5;66;03m## Delete an Object\u001b[39;00m\n\u001b[1;32m---> 21\u001b[0m \u001b[43ms1\u001b[49m\u001b[38;5;241;43m.\u001b[39;49m\u001b[43mname__del__\u001b[49m(\u001b[38;5;28mself\u001b[39m,name)\n",
      "\u001b[1;31mAttributeError\u001b[0m: 'Student' object has no attribute 'name__del__'"
     ]
    }
   ],
   "source": [
    "class Student:\n",
    "    def __init__(self,name):\n",
    "        print(\"Inside Constructor\")\n",
    "        self.name = name\n",
    "        print(\"Object is initialezed\")\n",
    "        \n",
    "    def show(self):\n",
    "        print(\"Hello my name is\", self.name)\n",
    "        \n",
    "    # Destructor is called -- \"If destructor is not called then PYthon will call -- default destructor\"\n",
    "    \n",
    "    def __del__(self,name):    ## Different -- example\n",
    "        print(\"Inside Destructor\")\n",
    "        print(\"Object is destroyed\")\n",
    "        \n",
    "## Create an object\n",
    "s1 = Student(\"Emma\")\n",
    "s1.show()\n",
    "\n",
    "## Delete an Object\n",
    "s1.name__del__(self,name)"
   ]
  },
  {
   "cell_type": "code",
   "execution_count": 10,
   "id": "df504d24",
   "metadata": {},
   "outputs": [
    {
     "name": "stderr",
     "output_type": "stream",
     "text": [
      "Exception ignored in: <function Student.__del__ at 0x0000029F4ADB8040>\n",
      "Traceback (most recent call last):\n",
      "  File \"e:\\Users\\user\\anaconda3\\lib\\site-packages\\stack_data\\core.py\", line 520, in __init__\n",
      "    self.executing = Source.executing(frame_or_tb)\n",
      "TypeError: Student.__del__() missing 1 required positional argument: 'name'\n"
     ]
    },
    {
     "name": "stdout",
     "output_type": "stream",
     "text": [
      "Inside Constructor\n",
      "Object is initialezed\n",
      "Hello my name is Emma\n"
     ]
    },
    {
     "ename": "AttributeError",
     "evalue": "'Student' object has no attribute 'self'",
     "output_type": "error",
     "traceback": [
      "\u001b[1;31m---------------------------------------------------------------------------\u001b[0m",
      "\u001b[1;31mAttributeError\u001b[0m                            Traceback (most recent call last)",
      "Cell \u001b[1;32mIn[10], line 21\u001b[0m\n\u001b[0;32m     18\u001b[0m s1\u001b[38;5;241m.\u001b[39mshow()\n\u001b[0;32m     20\u001b[0m \u001b[38;5;66;03m## Delete an Object\u001b[39;00m\n\u001b[1;32m---> 21\u001b[0m \u001b[43ms1\u001b[49m\u001b[38;5;241;43m.\u001b[39;49m\u001b[43mself\u001b[49m\u001b[38;5;241m.\u001b[39mname__del__(\u001b[38;5;28mself\u001b[39m,name)\n",
      "\u001b[1;31mAttributeError\u001b[0m: 'Student' object has no attribute 'self'"
     ]
    }
   ],
   "source": [
    "class Student:\n",
    "    def __init__(self,name):\n",
    "        print(\"Inside Constructor\")\n",
    "        self.name = name\n",
    "        print(\"Object is initialezed\")\n",
    "        \n",
    "    def show(self):\n",
    "        print(\"Hello my name is\", self.name)\n",
    "        \n",
    "    # Destructor is called -- \"If destructor is not called then PYthon will call -- default destructor\"\n",
    "    \n",
    "    def __del__(self,name):    ## Different -- example\n",
    "        print(\"Inside Destructor\")\n",
    "        print(\"Object is destroyed\")\n",
    "        \n",
    "## Create an object\n",
    "s1 = Student(\"Emma\")\n",
    "s1.show()\n",
    "\n",
    "## Delete an Object\n",
    "s1.self.name__del__(self,name)"
   ]
  },
  {
   "cell_type": "code",
   "execution_count": 11,
   "id": "a255d569",
   "metadata": {},
   "outputs": [
    {
     "name": "stdout",
     "output_type": "stream",
     "text": [
      "Inside Constructor\n",
      "Object is initialezed\n",
      "Hello my name is Emma\n"
     ]
    },
    {
     "ename": "NameError",
     "evalue": "name '__del__' is not defined",
     "output_type": "error",
     "traceback": [
      "\u001b[1;31m---------------------------------------------------------------------------\u001b[0m",
      "\u001b[1;31mNameError\u001b[0m                                 Traceback (most recent call last)",
      "Cell \u001b[1;32mIn[11], line 21\u001b[0m\n\u001b[0;32m     18\u001b[0m s1\u001b[38;5;241m.\u001b[39mshow()\n\u001b[0;32m     20\u001b[0m \u001b[38;5;66;03m## Delete an Object\u001b[39;00m\n\u001b[1;32m---> 21\u001b[0m \u001b[38;5;21;43m__del__\u001b[39;49m(s1)\n",
      "\u001b[1;31mNameError\u001b[0m: name '__del__' is not defined"
     ]
    }
   ],
   "source": [
    "class Student:\n",
    "    def __init__(self,name):\n",
    "        print(\"Inside Constructor\")\n",
    "        self.name = name\n",
    "        print(\"Object is initialezed\")\n",
    "        \n",
    "    def show(self):\n",
    "        print(\"Hello my name is\", self.name)\n",
    "        \n",
    "    # Destructor is called -- \"If destructor is not called then PYthon will call -- default destructor\"\n",
    "    \n",
    "    def __del__(self,name):    ## Different -- example\n",
    "        print(\"Inside Destructor\")\n",
    "        print(\"Object is destroyed\")\n",
    "        \n",
    "## Create an object\n",
    "s1 = Student(\"Emma\")\n",
    "s1.show()\n",
    "\n",
    "## Delete an Object\n",
    "__del__(s1)"
   ]
  },
  {
   "cell_type": "code",
   "execution_count": 13,
   "id": "e020edc9",
   "metadata": {},
   "outputs": [
    {
     "name": "stderr",
     "output_type": "stream",
     "text": [
      "Exception ignored in: <function Student.__del__ at 0x0000029F4ADBB400>\n",
      "Traceback (most recent call last):\n",
      "  File \"C:\\Users\\user\\AppData\\Local\\Temp\\ipykernel_8248\\1452087961.py\", line 17, in <module>\n",
      "TypeError: Student.__del__() missing 1 required positional argument: 'name'\n"
     ]
    },
    {
     "name": "stdout",
     "output_type": "stream",
     "text": [
      "Inside Constructor\n",
      "Object is initialezed\n",
      "Hello my name is Emma\n",
      "Inside Destructor\n",
      "Object is destroyed\n"
     ]
    }
   ],
   "source": [
    "class Student:\n",
    "    def __init__(self,name):\n",
    "        print(\"Inside Constructor\")\n",
    "        self.name = name\n",
    "        print(\"Object is initialezed\")\n",
    "        \n",
    "    def show(self):\n",
    "        print(\"Hello my name is\", self.name)\n",
    "        \n",
    "    # Destructor is called -- \"If destructor is not called then PYthon will call -- default destructor\"\n",
    "    \n",
    "    def __del__(self,name):    ## Different -- example\n",
    "        print(\"Inside Destructor\")\n",
    "        print(\"Object is destroyed\")\n",
    "        \n",
    "## Create an object\n",
    "s1 = Student(\"Emma\")\n",
    "s1.show()\n",
    "\n",
    "## Delete an Object\n",
    "s1.__del__(\"Emma\")"
   ]
  },
  {
   "cell_type": "code",
   "execution_count": 14,
   "id": "28cb8002",
   "metadata": {},
   "outputs": [
    {
     "ename": "SyntaxError",
     "evalue": "invalid syntax (3239390696.py, line 12)",
     "output_type": "error",
     "traceback": [
      "\u001b[1;36m  Cell \u001b[1;32mIn[14], line 12\u001b[1;36m\u001b[0m\n\u001b[1;33m    def __del__(self.name):    ## Different -- example\u001b[0m\n\u001b[1;37m                    ^\u001b[0m\n\u001b[1;31mSyntaxError\u001b[0m\u001b[1;31m:\u001b[0m invalid syntax\n"
     ]
    }
   ],
   "source": [
    "class Student:\n",
    "    def __init__(self,name):\n",
    "        print(\"Inside Constructor\")\n",
    "        self.name = name\n",
    "        print(\"Object is initialezed\")\n",
    "        \n",
    "    def show(self):\n",
    "        print(\"Hello my name is\", self.name)\n",
    "        \n",
    "    # Destructor is called -- \"If destructor is not called then PYthon will call -- default destructor\"\n",
    "    \n",
    "    def __del__(self.name):    ## Different -- example\n",
    "        print(\"Inside Destructor\")\n",
    "        print(\"Object is destroyed\")\n",
    "        \n",
    "## Create an object\n",
    "s1 = Student(\"Emma\")\n",
    "s1.show()\n",
    "\n",
    "## Delete an Object\n",
    "s1.__del__(\"Emma\")"
   ]
  },
  {
   "cell_type": "code",
   "execution_count": 15,
   "id": "f12ba2ca",
   "metadata": {},
   "outputs": [
    {
     "ename": "SyntaxError",
     "evalue": "invalid syntax (288751199.py, line 12)",
     "output_type": "error",
     "traceback": [
      "\u001b[1;36m  Cell \u001b[1;32mIn[15], line 12\u001b[1;36m\u001b[0m\n\u001b[1;33m    def __del__(self.name = name):    ## Different -- example\u001b[0m\n\u001b[1;37m                    ^\u001b[0m\n\u001b[1;31mSyntaxError\u001b[0m\u001b[1;31m:\u001b[0m invalid syntax\n"
     ]
    }
   ],
   "source": [
    "class Student:\n",
    "    def __init__(self,name):\n",
    "        print(\"Inside Constructor\")\n",
    "        self.name = name\n",
    "        print(\"Object is initialezed\")\n",
    "        \n",
    "    def show(self):\n",
    "        print(\"Hello my name is\", self.name)\n",
    "        \n",
    "    # Destructor is called -- \"If destructor is not called then PYthon will call -- default destructor\"\n",
    "    \n",
    "    def __del__(self.name = name):    ## Different -- example\n",
    "        print(\"Inside Destructor\")\n",
    "        print(\"Object is destroyed\")\n",
    "        \n",
    "## Create an object\n",
    "s1 = Student(\"Emma\")\n",
    "s1.show()\n",
    "\n",
    "## Delete an Object\n",
    "s1.__del__(\"Emma\")"
   ]
  },
  {
   "cell_type": "code",
   "execution_count": 16,
   "id": "5179c090",
   "metadata": {},
   "outputs": [
    {
     "name": "stderr",
     "output_type": "stream",
     "text": [
      "Exception ignored in: <function Student.__del__ at 0x0000029F4ADBBAC0>\n",
      "Traceback (most recent call last):\n",
      "  File \"C:\\Users\\user\\AppData\\Local\\Temp\\ipykernel_8248\\1452087961.py\", line 17, in <module>\n",
      "TypeError: Student.__del__() missing 1 required positional argument: 'name'\n"
     ]
    },
    {
     "name": "stdout",
     "output_type": "stream",
     "text": [
      "Inside Constructor\n",
      "Object is initialezed\n",
      "Hello my name is Emma\n",
      "Inside Destructor\n",
      "Object is destroyed\n"
     ]
    }
   ],
   "source": [
    "class Student:\n",
    "    def __init__(self,name):\n",
    "        print(\"Inside Constructor\")\n",
    "        self.name = name\n",
    "        print(\"Object is initialezed\")\n",
    "        \n",
    "    def show(self):\n",
    "        print(\"Hello my name is\", self.name)\n",
    "        \n",
    "    # Destructor is called -- \"If destructor is not called then PYthon will call -- default destructor\"\n",
    "    \n",
    "    def __del__(self,name):    ## Different -- example\n",
    "        print(\"Inside Destructor\")\n",
    "        print(\"Object is destroyed\")\n",
    "        \n",
    "## Create an object\n",
    "s1 = Student(\"Emma\")\n",
    "s1.show()\n",
    "\n",
    "## Delete an Object\n",
    "s1.__del__(\"Emma\")"
   ]
  },
  {
   "cell_type": "code",
   "execution_count": 17,
   "id": "3b82dd5d",
   "metadata": {},
   "outputs": [
    {
     "name": "stderr",
     "output_type": "stream",
     "text": [
      "Exception ignored in: <function Student.__del__ at 0x0000029F4ADBA7A0>\n",
      "Traceback (most recent call last):\n",
      "  File \"C:\\Users\\user\\AppData\\Local\\Temp\\ipykernel_8248\\96251712.py\", line 17, in <module>\n",
      "TypeError: Student.__del__() missing 1 required positional argument: 'name'\n"
     ]
    },
    {
     "name": "stdout",
     "output_type": "stream",
     "text": [
      "Inside Constructor\n",
      "Object is initialezed\n",
      "Hello my name is Emma\n"
     ]
    },
    {
     "ename": "TypeError",
     "evalue": "Student.__del__() missing 1 required positional argument: 'name'",
     "output_type": "error",
     "traceback": [
      "\u001b[1;31m---------------------------------------------------------------------------\u001b[0m",
      "\u001b[1;31mTypeError\u001b[0m                                 Traceback (most recent call last)",
      "Cell \u001b[1;32mIn[17], line 21\u001b[0m\n\u001b[0;32m     18\u001b[0m s1\u001b[38;5;241m.\u001b[39mshow()\n\u001b[0;32m     20\u001b[0m \u001b[38;5;66;03m## Delete an Object\u001b[39;00m\n\u001b[1;32m---> 21\u001b[0m \u001b[43mStudent\u001b[49m\u001b[38;5;241;43m.\u001b[39;49m\u001b[38;5;21;43m__del__\u001b[39;49m\u001b[43m(\u001b[49m\u001b[38;5;124;43m\"\u001b[39;49m\u001b[38;5;124;43mEmma\u001b[39;49m\u001b[38;5;124;43m\"\u001b[39;49m\u001b[43m)\u001b[49m\n",
      "\u001b[1;31mTypeError\u001b[0m: Student.__del__() missing 1 required positional argument: 'name'"
     ]
    }
   ],
   "source": [
    "class Student:\n",
    "    def __init__(self,name):\n",
    "        print(\"Inside Constructor\")\n",
    "        self.name = name\n",
    "        print(\"Object is initialezed\")\n",
    "        \n",
    "    def show(self):\n",
    "        print(\"Hello my name is\", self.name)\n",
    "        \n",
    "    # Destructor is called -- \"If destructor is not called then PYthon will call -- default destructor\"\n",
    "    \n",
    "    def __del__(self,name):    ## Different -- example\n",
    "        print(\"Inside Destructor\")\n",
    "        print(\"Object is destroyed\")\n",
    "        \n",
    "## Create an object\n",
    "s1 = Student(\"Emma\")\n",
    "s1.show()\n",
    "\n",
    "## Delete an Object\n",
    "Student.__del__(\"Emma\")"
   ]
  },
  {
   "cell_type": "code",
   "execution_count": 18,
   "id": "85cffa4f",
   "metadata": {},
   "outputs": [
    {
     "name": "stderr",
     "output_type": "stream",
     "text": [
      "Exception ignored in: <function Student.__del__ at 0x0000029F4AE900D0>\n",
      "Traceback (most recent call last):\n",
      "  File \"C:\\Users\\user\\AppData\\Local\\Temp\\ipykernel_8248\\49926660.py\", line 17, in <module>\n",
      "TypeError: Student.__del__() missing 1 required positional argument: 'name'\n"
     ]
    },
    {
     "name": "stdout",
     "output_type": "stream",
     "text": [
      "Inside Constructor\n",
      "Object is initialezed\n",
      "Hello my name is Emma\n"
     ]
    },
    {
     "ename": "TypeError",
     "evalue": "Student.__del__() missing 1 required positional argument: 'name'",
     "output_type": "error",
     "traceback": [
      "\u001b[1;31m---------------------------------------------------------------------------\u001b[0m",
      "\u001b[1;31mTypeError\u001b[0m                                 Traceback (most recent call last)",
      "Cell \u001b[1;32mIn[18], line 21\u001b[0m\n\u001b[0;32m     18\u001b[0m s1\u001b[38;5;241m.\u001b[39mshow()\n\u001b[0;32m     20\u001b[0m \u001b[38;5;66;03m## Delete an Object\u001b[39;00m\n\u001b[1;32m---> 21\u001b[0m \u001b[43mStudent\u001b[49m\u001b[38;5;241;43m.\u001b[39;49m\u001b[38;5;21;43m__del__\u001b[39;49m\u001b[43m(\u001b[49m\u001b[43ms1\u001b[49m\u001b[43m)\u001b[49m\n",
      "\u001b[1;31mTypeError\u001b[0m: Student.__del__() missing 1 required positional argument: 'name'"
     ]
    }
   ],
   "source": [
    "class Student:\n",
    "    def __init__(self,name):\n",
    "        print(\"Inside Constructor\")\n",
    "        self.name = name\n",
    "        print(\"Object is initialezed\")\n",
    "        \n",
    "    def show(self):\n",
    "        print(\"Hello my name is\", self.name)\n",
    "        \n",
    "    # Destructor is called -- \"If destructor is not called then PYthon will call -- default destructor\"\n",
    "    \n",
    "    def __del__(self,name):    ## Different -- example\n",
    "        print(\"Inside Destructor\")\n",
    "        print(\"Object is destroyed\")\n",
    "        \n",
    "## Create an object\n",
    "s1 = Student(\"Emma\")\n",
    "s1.show()\n",
    "\n",
    "## Delete an Object\n",
    "Student.__del__(s1)"
   ]
  },
  {
   "cell_type": "code",
   "execution_count": 19,
   "id": "1052c847",
   "metadata": {},
   "outputs": [
    {
     "ename": "SyntaxError",
     "evalue": "invalid syntax (2919470681.py, line 12)",
     "output_type": "error",
     "traceback": [
      "\u001b[1;36m  Cell \u001b[1;32mIn[19], line 12\u001b[1;36m\u001b[0m\n\u001b[1;33m    def __del__(self,self.name):    ## Different -- example\u001b[0m\n\u001b[1;37m                         ^\u001b[0m\n\u001b[1;31mSyntaxError\u001b[0m\u001b[1;31m:\u001b[0m invalid syntax\n"
     ]
    }
   ],
   "source": [
    "class Student:\n",
    "    def __init__(self,name):\n",
    "        print(\"Inside Constructor\")\n",
    "        self.name = name\n",
    "        print(\"Object is initialezed\")\n",
    "        \n",
    "    def show(self):\n",
    "        print(\"Hello my name is\", self.name)\n",
    "        \n",
    "    # Destructor is called -- \"If destructor is not called then PYthon will call -- default destructor\"\n",
    "    \n",
    "    def __del__(self,self.name):    ## Different -- example\n",
    "        print(\"Inside Destructor\")\n",
    "        print(\"Object is destroyed\")\n",
    "        \n",
    "## Create an object\n",
    "s1 = Student(\"Emma\")\n",
    "s1.show()\n",
    "\n",
    "## Delete an Object\n",
    "Student.__del__(\"Emma\")"
   ]
  },
  {
   "cell_type": "code",
   "execution_count": null,
   "id": "150e8469",
   "metadata": {},
   "outputs": [],
   "source": []
  }
 ],
 "metadata": {
  "kernelspec": {
   "display_name": "Python 3 (ipykernel)",
   "language": "python",
   "name": "python3"
  },
  "language_info": {
   "codemirror_mode": {
    "name": "ipython",
    "version": 3
   },
   "file_extension": ".py",
   "mimetype": "text/x-python",
   "name": "python",
   "nbconvert_exporter": "python",
   "pygments_lexer": "ipython3",
   "version": "3.10.9"
  }
 },
 "nbformat": 4,
 "nbformat_minor": 5
}
