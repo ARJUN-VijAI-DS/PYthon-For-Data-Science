{
 "cells": [
  {
   "cell_type": "markdown",
   "id": "32b9dd97",
   "metadata": {},
   "source": [
    "# Strings are Arrays\n",
    "\n",
    "### What are Python Arrays?\n",
    "- Arrays are a fundamental data structure, and an important part of most programming languages. In Python, they are containers which are able to store more than one item at the same time. Specifically, they are an ordered collection of elements with every value being of the same data type.\n",
    "\n",
    "### What are strings?\n",
    "- Like many other popular programming languages, strings in Python are arrays of bytes representing unicode characters. However, Python does not have a character data type, a single character is simply a string with a length of 1. Square brackets can be used to access elements of the string.\n",
    "- A string is a data type used in computer programming that is used to represent text rather than numbers. A string is a sequence of characters and can contain letters, number, symbols and EVEN SPACES. It must be enclosed in QUOTATION MARKS for it to be recognized as a STRING.\n"
   ]
  },
  {
   "cell_type": "markdown",
   "id": "513e325f",
   "metadata": {},
   "source": [
    "# Strings\n",
    "- Are \"Primitive\" Data type.\n",
    "- Are \"Immutable\" Data Type.\n",
    "- \n",
    "- Are \"Iterable\" Data Type for -- \"for\" Loop.\n",
    "    - Iterative Statements -- \"Repeat statement -- number of times\"\n",
    "- Strings in python are surrounded by either single quotation marks, or double quotation marks.\n",
    "- For example 'hello' is the same as \"hello\".\n",
    "- We can display a string literal with the print() function:\n"
   ]
  },
  {
   "cell_type": "code",
   "execution_count": 5,
   "id": "91f97f85",
   "metadata": {},
   "outputs": [
    {
     "name": "stdout",
     "output_type": "stream",
     "text": [
      "I am DATA Scientist\n",
      "I am DATA Scientist\n"
     ]
    }
   ],
   "source": [
    "print(\"I am DATA Scientist\")\n",
    "print('I am DATA Scientist')"
   ]
  },
  {
   "cell_type": "markdown",
   "id": "843308a5",
   "metadata": {},
   "source": [
    "# Assign String to a Variable\n",
    "- Assigning a string to a variable is done with the variable name followed by an equal sign and the string:\n",
    "\n",
    "- Example:\n"
   ]
  },
  {
   "cell_type": "code",
   "execution_count": 6,
   "id": "9b91228b",
   "metadata": {},
   "outputs": [
    {
     "name": "stdout",
     "output_type": "stream",
     "text": [
      "I am DATA Scientist\n"
     ]
    }
   ],
   "source": [
    "a = \"I am DATA Scientist\"\n",
    "print(a)"
   ]
  },
  {
   "cell_type": "markdown",
   "id": "0d167c21",
   "metadata": {},
   "source": [
    "# Multiline Strings\n",
    "- We can assign a multiline string to a variable by using three quotes:\n",
    "\n",
    "### Also called \"Doc String\""
   ]
  },
  {
   "cell_type": "code",
   "execution_count": 8,
   "id": "51a0ba5e",
   "metadata": {},
   "outputs": [
    {
     "name": "stdout",
     "output_type": "stream",
     "text": [
      "I\n",
      "am\n",
      "Data\n",
      "Scientist.\n"
     ]
    }
   ],
   "source": [
    "# Example\n",
    "# We can use three double quotes:\n",
    "\n",
    "a = \"\"\"I\n",
    "am\n",
    "Data\n",
    "Scientist.\"\"\"\n",
    "print(a)\n",
    "# Note: in the result, the line breaks are inserted in the code."
   ]
  },
  {
   "cell_type": "code",
   "execution_count": 9,
   "id": "883bce24",
   "metadata": {},
   "outputs": [
    {
     "name": "stdout",
     "output_type": "stream",
     "text": [
      "I\n",
      "am\n",
      "Data\n",
      "Scientist.\n"
     ]
    }
   ],
   "source": [
    "# Example\n",
    "# We can use three single quotes:\n",
    "\n",
    "a = '''I\n",
    "am\n",
    "Data\n",
    "Scientist.'''\n",
    "print(a)\n",
    "# Note: in the result, the line breaks are inserted in the code."
   ]
  },
  {
   "cell_type": "markdown",
   "id": "4dbf006a",
   "metadata": {},
   "source": [
    "# Strings are Arrays\n",
    "- Like many other popular programming languages, strings in Python are arrays of bytes representing unicode characters.\n",
    "\n",
    "- However, Python does not have a character data type, a single character is simply a string with a length of 1.\n",
    "\n",
    "- Square brackets can be used to access elements of the string.\n",
    "\n",
    "### This is called \"Indexing of String\"\n",
    "- Indexing of String can be \"Positive Indexing of String\" -- \"Left to Right\"\n",
    "- Indexing of String can be \"Negative Indexing of String\" -- \"Right to Left\""
   ]
  },
  {
   "attachments": {
    "Screenshot%20%281%29.png": {
     "image/png": "[encoded data removed]"
    }
   },
   "cell_type": "markdown",
   "id": "5f85572d",
   "metadata": {},
   "source": [
    "![Screenshot%20%281%29.png](attachment:Screenshot%20%281%29.png)"
   ]
  },
  {
   "cell_type": "code",
   "execution_count": 12,
   "id": "4d539fdd",
   "metadata": {},
   "outputs": [
    {
     "name": "stdout",
     "output_type": "stream",
     "text": [
      "a\n",
      "!\n"
     ]
    }
   ],
   "source": [
    "# Example\n",
    "# Get the character at position 2 and -1 (remember that the first character has the position 0 or -1):\n",
    "\n",
    "a = \"I am DATA Scientist! \"\n",
    "print(a[2])\n",
    "print(a[-2])"
   ]
  },
  {
   "cell_type": "markdown",
   "id": "587ba1c2",
   "metadata": {},
   "source": [
    "# Looping Through a String\n",
    "- Since strings are arrays, we can loop through the characters in a string, with a \"for\" loop.\n",
    "- Are \"Iterable\" Data Type for -- \"for\" Loop.\n",
    "    - Iterative Statements -- \"Repeat statement -- number of times\""
   ]
  },
  {
   "cell_type": "code",
   "execution_count": 13,
   "id": "e8fa6a17",
   "metadata": {},
   "outputs": [
    {
     "name": "stdout",
     "output_type": "stream",
     "text": [
      "D\n",
      "A\n",
      "T\n",
      "A\n"
     ]
    }
   ],
   "source": [
    "# Example:\n",
    "# Loop through the letters in the word \"DATA\":\n",
    "\n",
    "for x in \"DATA\":\n",
    "  print(x)"
   ]
  },
  {
   "cell_type": "markdown",
   "id": "9ea638bc",
   "metadata": {},
   "source": [
    "# String Length\n",
    "\n",
    "### To get the length of a string, use the 'len()' function.\n",
    "\n"
   ]
  },
  {
   "cell_type": "code",
   "execution_count": 14,
   "id": "6309573c",
   "metadata": {},
   "outputs": [
    {
     "name": "stdout",
     "output_type": "stream",
     "text": [
      "21\n"
     ]
    }
   ],
   "source": [
    "# Example\n",
    "# The \"len()\" function returns the length of a string:\n",
    "\n",
    "a = \"I am DATA Scientist! \"\n",
    "print(len(a))"
   ]
  },
  {
   "cell_type": "markdown",
   "id": "d2aa4c5e",
   "metadata": {},
   "source": [
    "# Check String\n",
    "- To check if a certain phrase or character is present in a string, we can use the keyword **in**."
   ]
  },
  {
   "cell_type": "code",
   "execution_count": 1,
   "id": "af29c123",
   "metadata": {},
   "outputs": [
    {
     "name": "stdout",
     "output_type": "stream",
     "text": [
      "True\n"
     ]
    }
   ],
   "source": [
    "# Example\n",
    "# Check if \"free\" is present in the following text:\n",
    "\n",
    "text = \"The best things in NATURE are free!\"\n",
    "print(\"free\" in text)"
   ]
  },
  {
   "cell_type": "markdown",
   "id": "9cfc1908",
   "metadata": {},
   "source": [
    "# Use it in an \"if\" statement:"
   ]
  },
  {
   "cell_type": "code",
   "execution_count": 2,
   "id": "11da92ef",
   "metadata": {},
   "outputs": [
    {
     "name": "stdout",
     "output_type": "stream",
     "text": [
      "Yes, 'free' is present.\n"
     ]
    }
   ],
   "source": [
    "# Example\n",
    "# Print only if \"free\" is present:\n",
    "\n",
    "text = \"The best things in NATURE are free!\"\n",
    "if \"free\" in text:\n",
    "  print(\"Yes, 'free' is present.\")"
   ]
  },
  {
   "cell_type": "markdown",
   "id": "ca7dd0b2",
   "metadata": {},
   "source": [
    "# Check if NOT\n",
    "- To check if a certain **phrase or character is NOT present in a string, we can use the keyword not in."
   ]
  },
  {
   "cell_type": "code",
   "execution_count": 3,
   "id": "9a429afa",
   "metadata": {},
   "outputs": [
    {
     "name": "stdout",
     "output_type": "stream",
     "text": [
      "True\n"
     ]
    }
   ],
   "source": [
    "# Example\n",
    "# Check if \"expensive\" is NOT present in the following text:\n",
    "\n",
    "text = \"The best things in NATURE are free!\"\n",
    "print(\"expensive\" not in text)"
   ]
  },
  {
   "cell_type": "markdown",
   "id": "b5a26c91",
   "metadata": {},
   "source": [
    "# Use it in an \"if\" statement:"
   ]
  },
  {
   "cell_type": "code",
   "execution_count": 4,
   "id": "086e2922",
   "metadata": {},
   "outputs": [
    {
     "name": "stdout",
     "output_type": "stream",
     "text": [
      "No, 'expensive' is NOT present.\n"
     ]
    }
   ],
   "source": [
    "# Example\n",
    "# Print only if \"expensive\" is NOT present:\n",
    "\n",
    "text = \"The best things in Nature are free!\"\n",
    "if \"expensive\" not in text:\n",
    "  print(\"No, 'expensive' is NOT present.\")"
   ]
  },
  {
   "cell_type": "markdown",
   "id": "a56bbd78",
   "metadata": {},
   "source": [
    "# Python - Slicing Strings\n",
    "\n",
    "## Slicing\n",
    "\n",
    "### You can return a range of characters by using the slice syntax.\n",
    "\n",
    "- Specify **the start index and the end index, separated by a colon, to return a part of the string.**"
   ]
  },
  {
   "attachments": {
    "Screenshot%20%281%29.png": {
     "image/png": "[encoded data removed]"
    }
   },
   "cell_type": "markdown",
   "id": "574f04b9",
   "metadata": {},
   "source": [
    "![Screenshot%20%281%29.png](attachment:Screenshot%20%281%29.png)"
   ]
  },
  {
   "cell_type": "markdown",
   "id": "c49cc96c",
   "metadata": {},
   "source": [
    "### \"Positive Index Slicing\""
   ]
  },
  {
   "cell_type": "code",
   "execution_count": 5,
   "id": "86516c0b",
   "metadata": {},
   "outputs": [
    {
     "name": "stdout",
     "output_type": "stream",
     "text": [
      "DATA\n"
     ]
    }
   ],
   "source": [
    "# Example:\n",
    "# Get the characters **from position 2 to position 5 (not included):**\n",
    "\n",
    "b = \"I am DATA Scientist! \"\n",
    "print(b[5:9])"
   ]
  },
  {
   "cell_type": "markdown",
   "id": "02c7159b",
   "metadata": {},
   "source": [
    "## Slice To the End\n",
    "## By leaving out the end index, the range will go to the end:"
   ]
  },
  {
   "cell_type": "code",
   "execution_count": 10,
   "id": "55c6e824",
   "metadata": {},
   "outputs": [
    {
     "name": "stdout",
     "output_type": "stream",
     "text": [
      "DATA Scientist\n"
     ]
    }
   ],
   "source": [
    "# Example\n",
    "# Get the characters from position 5, and all the way to the end:\n",
    "\n",
    "b = \"I am DATA Scientist! \"\n",
    "print(b[5:])"
   ]
  },
  {
   "cell_type": "markdown",
   "id": "430af3b0",
   "metadata": {},
   "source": [
    "##  Slice From the Start\n",
    "### By leaving out the start index, the range will start at the first character:"
   ]
  },
  {
   "cell_type": "code",
   "execution_count": 9,
   "id": "43a98f51",
   "metadata": {},
   "outputs": [
    {
     "name": "stdout",
     "output_type": "stream",
     "text": [
      "I am DATA\n"
     ]
    }
   ],
   "source": [
    "# Example\n",
    "# Get the characters from the start to position 9 (not included):\n",
    "b = \"I am DATA Scientist! \"\n",
    "print(b[:9])"
   ]
  },
  {
   "cell_type": "code",
   "execution_count": 8,
   "id": "785d8c1c",
   "metadata": {},
   "outputs": [
    {
     "name": "stdout",
     "output_type": "stream",
     "text": [
      "I am DATA Scientist\n"
     ]
    }
   ],
   "source": [
    "b = \"I am DATA Scientist! \"\n",
    "print(b[:])"
   ]
  },
  {
   "cell_type": "markdown",
   "id": "28f1da65",
   "metadata": {},
   "source": [
    "### \"Negative Index Slicing\"\n",
    "\n",
    "# Negative Indexing\n",
    "## Use negative indexes to start the slice from the end of the string:\n"
   ]
  },
  {
   "cell_type": "code",
   "execution_count": 12,
   "id": "346d2d9d",
   "metadata": {},
   "outputs": [
    {
     "name": "stdout",
     "output_type": "stream",
     "text": [
      "ist\n"
     ]
    }
   ],
   "source": [
    "# Example:\n",
    "# Get the characters:\n",
    "\n",
    "# From: \"ist\" in \"Scientist\" (position -5)\n",
    "\n",
    "# To, but not included: \"t\" in \"Scientist! \" (position -2):\n",
    "\n",
    "b = \"I am DATA Scientist! \"\n",
    "print(b[-5:-2])"
   ]
  },
  {
   "cell_type": "code",
   "execution_count": null,
   "id": "fdfc68c0",
   "metadata": {},
   "outputs": [],
   "source": []
  },
  {
   "cell_type": "markdown",
   "id": "62f8868c",
   "metadata": {},
   "source": [
    "##  Python Casting\n",
    "### Specify a Variable Type\n",
    "- There may be times when you want to specify a type on to a variable. This can be done with casting. Python is an object-orientated language, and as such it uses classes to define data types, including its primitive types.\n",
    "\n",
    "- Casting in python is therefore done using constructor functions:\n",
    "\n",
    "- int() - constructs an integer number from an integer literal, a float literal (by removing all decimals), or a string literal (providing the string represents a whole number)\n",
    "- float() - constructs a float number from an integer literal, a float literal or a string literal (providing the string represents a float or an integer)\n",
    "- str() - constructs a string from a wide variety of data types, including strings, integer literals and float literals"
   ]
  }
 ],
 "metadata": {
  "kernelspec": {
   "display_name": "Python 3 (ipykernel)",
   "language": "python",
   "name": "python3"
  },
  "language_info": {
   "codemirror_mode": {
    "name": "ipython",
    "version": 3
   },
   "file_extension": ".py",
   "mimetype": "text/x-python",
   "name": "python",
   "nbconvert_exporter": "python",
   "pygments_lexer": "ipython3",
   "version": "3.10.9"
  }
 },
 "nbformat": 4,
 "nbformat_minor": 5
}
