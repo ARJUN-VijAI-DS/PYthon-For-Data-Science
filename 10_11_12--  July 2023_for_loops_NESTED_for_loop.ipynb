{
 "cells": [
  {
   "cell_type": "code",
   "execution_count": null,
   "id": "b8117230",
   "metadata": {},
   "outputs": [],
   "source": [
    "# Square each number inside a list and finally print list"
   ]
  },
  {
   "cell_type": "markdown",
   "id": "f8174392",
   "metadata": {},
   "source": [
    "## Nested \"for\" loops"
   ]
  },
  {
   "cell_type": "code",
   "execution_count": 5,
   "id": "e96cfe74",
   "metadata": {},
   "outputs": [
    {
     "name": "stdout",
     "output_type": "stream",
     "text": [
      "Enter the start value:1\n",
      "Enter the stop value:10\n",
      "1\n",
      "11\n",
      "2\n",
      "4\n",
      "6\n",
      "8\n",
      "10\n",
      "12\n",
      "14\n",
      "16\n",
      "18\n",
      "20\n"
     ]
    }
   ],
   "source": [
    "# print the multiplication table of 2.\n",
    "\n",
    "start = int(input(\"Enter the start value:\"))\n",
    "stop = 1+int(input(\"Enter the stop value:\"))\n",
    "print(start)\n",
    "print(stop)\n",
    "for z in range(start,stop):\n",
    "    print(2*z)"
   ]
  },
  {
   "cell_type": "code",
   "execution_count": 6,
   "id": "1d7decf6",
   "metadata": {},
   "outputs": [
    {
     "name": "stdout",
     "output_type": "stream",
     "text": [
      "Enter the start value:1\n",
      "Enter the stop value:10\n",
      "1\n",
      "11\n",
      "2  X  1 = 2\n",
      "2  X  2 = 4\n",
      "2  X  3 = 6\n",
      "2  X  4 = 8\n",
      "2  X  5 = 10\n",
      "2  X  6 = 12\n",
      "2  X  7 = 14\n",
      "2  X  8 = 16\n",
      "2  X  9 = 18\n",
      "2  X  10 = 20\n"
     ]
    }
   ],
   "source": [
    "# print the multiplication table of 2.\n",
    "\n",
    "start = int(input(\"Enter the start value:\"))\n",
    "stop = 1+int(input(\"Enter the stop value:\"))\n",
    "print(start)\n",
    "print(stop)\n",
    "for z in range(start,stop):\n",
    "    print(2,\" X \",z, \"=\", z*2)"
   ]
  },
  {
   "cell_type": "code",
   "execution_count": null,
   "id": "88c30a15",
   "metadata": {},
   "outputs": [],
   "source": []
  },
  {
   "cell_type": "code",
   "execution_count": 2,
   "id": "3deb725d",
   "metadata": {},
   "outputs": [
    {
     "ename": "SyntaxError",
     "evalue": "invalid syntax. Perhaps you forgot a comma? (612395826.py, line 8)",
     "output_type": "error",
     "traceback": [
      "\u001b[1;36m  Cell \u001b[1;32mIn[2], line 8\u001b[1;36m\u001b[0m\n\u001b[1;33m    print(\"Table of 2, 2*\",z \"=\" 2*z)\u001b[0m\n\u001b[1;37m                             ^\u001b[0m\n\u001b[1;31mSyntaxError\u001b[0m\u001b[1;31m:\u001b[0m invalid syntax. Perhaps you forgot a comma?\n"
     ]
    }
   ],
   "source": [
    "# print the multiplication table of 2.\n",
    "\n",
    "start = int(input(\"Enter the start value:\"))\n",
    "stop = 1+int(input(\"Enter the stop value:\"))\n",
    "print(start)\n",
    "print(stop)\n",
    "for z in range(start,stop):\n",
    "    print(\"Table of 2, 2*\",z \"=\" 2*z)"
   ]
  },
  {
   "cell_type": "code",
   "execution_count": 3,
   "id": "40d76f9d",
   "metadata": {},
   "outputs": [
    {
     "ename": "SyntaxError",
     "evalue": "invalid syntax (3921448572.py, line 8)",
     "output_type": "error",
     "traceback": [
      "\u001b[1;36m  Cell \u001b[1;32mIn[3], line 8\u001b[1;36m\u001b[0m\n\u001b[1;33m    print(\"Table of 2, 2*\",z \"=\", 2*z)\u001b[0m\n\u001b[1;37m                             ^\u001b[0m\n\u001b[1;31mSyntaxError\u001b[0m\u001b[1;31m:\u001b[0m invalid syntax\n"
     ]
    }
   ],
   "source": [
    "# print the multiplication table of 2.\n",
    "\n",
    "start = int(input(\"Enter the start value:\"))\n",
    "stop = 1+int(input(\"Enter the stop value:\"))\n",
    "print(start)\n",
    "print(stop)\n",
    "for z in range(start,stop):\n",
    "    print(\"Table of 2, 2*\",z \"=\", 2*z)"
   ]
  },
  {
   "cell_type": "code",
   "execution_count": 4,
   "id": "54c6456a",
   "metadata": {},
   "outputs": [
    {
     "ename": "SyntaxError",
     "evalue": "invalid syntax (786011802.py, line 8)",
     "output_type": "error",
     "traceback": [
      "\u001b[1;36m  Cell \u001b[1;32mIn[4], line 8\u001b[1;36m\u001b[0m\n\u001b[1;33m    print(\"Table of 2, 2*\",z\"=\",2*z)\u001b[0m\n\u001b[1;37m                            ^\u001b[0m\n\u001b[1;31mSyntaxError\u001b[0m\u001b[1;31m:\u001b[0m invalid syntax\n"
     ]
    }
   ],
   "source": [
    "# print the multiplication table of 2.\n",
    "\n",
    "start = int(input(\"Enter the start value:\"))\n",
    "stop = 1+int(input(\"Enter the stop value:\"))\n",
    "print(start)\n",
    "print(stop)\n",
    "for z in range(start,stop):\n",
    "    print(\"Table of 2: 2*\",z\"=\",2*z)"
   ]
  },
  {
   "cell_type": "code",
   "execution_count": 7,
   "id": "5abefce7",
   "metadata": {
    "collapsed": true
   },
   "outputs": [
    {
     "name": "stdout",
     "output_type": "stream",
     "text": [
      "Enter the start value:1\n",
      "Enter the stop value:10\n",
      "1\n",
      "11\n",
      "Table of 2: 2* 1 = 2\n",
      "Table of 2: 2* 2 = 4\n",
      "Table of 2: 2* 3 = 6\n",
      "Table of 2: 2* 4 = 8\n",
      "Table of 2: 2* 5 = 10\n",
      "Table of 2: 2* 6 = 12\n",
      "Table of 2: 2* 7 = 14\n",
      "Table of 2: 2* 8 = 16\n",
      "Table of 2: 2* 9 = 18\n",
      "Table of 2: 2* 10 = 20\n"
     ]
    }
   ],
   "source": [
    "# print the multiplication table of 2.\n",
    "\n",
    "start = int(input(\"Enter the start value:\"))\n",
    "stop = 1+int(input(\"Enter the stop value:\"))\n",
    "print(start)\n",
    "print(stop)\n",
    "for z in range(start,stop):\n",
    "    print(\"Table of 2: 2*\",z,\"=\",2*z)"
   ]
  },
  {
   "cell_type": "code",
   "execution_count": 8,
   "id": "b91597a2",
   "metadata": {},
   "outputs": [
    {
     "name": "stdout",
     "output_type": "stream",
     "text": [
      "Enter the start value:1\n",
      "Enter the stop value:10\n",
      "1\n",
      "11\n"
     ]
    },
    {
     "ename": "NameError",
     "evalue": "name 'n' is not defined",
     "output_type": "error",
     "traceback": [
      "\u001b[1;31m---------------------------------------------------------------------------\u001b[0m",
      "\u001b[1;31mNameError\u001b[0m                                 Traceback (most recent call last)",
      "Cell \u001b[1;32mIn[8], line 8\u001b[0m\n\u001b[0;32m      6\u001b[0m \u001b[38;5;28mprint\u001b[39m(stop)\n\u001b[0;32m      7\u001b[0m \u001b[38;5;28;01mfor\u001b[39;00m z \u001b[38;5;129;01min\u001b[39;00m \u001b[38;5;28mrange\u001b[39m(start,stop):\n\u001b[1;32m----> 8\u001b[0m     \u001b[38;5;28mprint\u001b[39m(\u001b[43mn\u001b[49m\u001b[38;5;241m*\u001b[39mz)\n",
      "\u001b[1;31mNameError\u001b[0m: name 'n' is not defined"
     ]
    }
   ],
   "source": [
    "# print the multiplication table of n.\n",
    "\n",
    "start = int(input(\"Enter the start value:\"))\n",
    "stop = 1+int(input(\"Enter the stop value:\"))\n",
    "print(start)\n",
    "print(stop)\n",
    "for z in range(start,stop):\n",
    "    print(n*z)"
   ]
  },
  {
   "cell_type": "code",
   "execution_count": 12,
   "id": "eb29b97e",
   "metadata": {
    "collapsed": true
   },
   "outputs": [
    {
     "name": "stdout",
     "output_type": "stream",
     "text": [
      "Enter the value of n:5\n",
      "Enter the start value:1\n",
      "Enter the stop value:10\n",
      "1\n",
      "11\n",
      "5\n",
      "10\n",
      "15\n",
      "20\n",
      "25\n",
      "30\n",
      "35\n",
      "40\n",
      "45\n",
      "50\n"
     ]
    }
   ],
   "source": [
    "# print the multiplication table of n.\n",
    "n = int(input(\"Enter the value of n:\"))\n",
    "start = int(input(\"Enter the start value:\"))\n",
    "stop = 1+int(input(\"Enter the stop value:\"))\n",
    "print(start)\n",
    "print(stop)\n",
    "for z in range(start,stop):\n",
    "    print(n*z)"
   ]
  },
  {
   "cell_type": "code",
   "execution_count": 1,
   "id": "ea03f6ca",
   "metadata": {
    "scrolled": true
   },
   "outputs": [
    {
     "ename": "IndentationError",
     "evalue": "unexpected indent (4102903416.py, line 4)",
     "output_type": "error",
     "traceback": [
      "\u001b[1;36m  Cell \u001b[1;32mIn[1], line 4\u001b[1;36m\u001b[0m\n\u001b[1;33m    for z in range(1,11):\u001b[0m\n\u001b[1;37m    ^\u001b[0m\n\u001b[1;31mIndentationError\u001b[0m\u001b[1;31m:\u001b[0m unexpected indent\n"
     ]
    }
   ],
   "source": [
    "# print the multiplication table of 2,3,4,5,6,7\n",
    "for z in range(1,11):\n",
    "    print(2,\" X \",z, \"=\", z*2)\n",
    "        for z in range(1,11):\n",
    "        print(3,\" X \",z, \"=\", z*3)"
   ]
  },
  {
   "cell_type": "code",
   "execution_count": 14,
   "id": "fa6e43f9",
   "metadata": {},
   "outputs": [
    {
     "ename": "IndentationError",
     "evalue": "expected an indented block after 'for' statement on line 3 (2989316894.py, line 4)",
     "output_type": "error",
     "traceback": [
      "\u001b[1;36m  Cell \u001b[1;32mIn[14], line 4\u001b[1;36m\u001b[0m\n\u001b[1;33m    print(2,\" X \",z, \"=\", z*2)\u001b[0m\n\u001b[1;37m    ^\u001b[0m\n\u001b[1;31mIndentationError\u001b[0m\u001b[1;31m:\u001b[0m expected an indented block after 'for' statement on line 3\n"
     ]
    }
   ],
   "source": [
    "# print the multiplication table of 2,3,4,5,6,7\n",
    "for z in range(1,11):\n",
    "        for z in range(1,11):\n",
    "        print(2,\" X \",z, \"=\", z*2)\n",
    "        print(3,\" X \",z, \"=\", z*3)"
   ]
  },
  {
   "cell_type": "code",
   "execution_count": null,
   "id": "f9bc0cdc",
   "metadata": {
    "scrolled": true
   },
   "outputs": [],
   "source": [
    "# print the multiplication table of 2,3,4,5,6,7\n",
    "for z in range(1,11):\n",
    "        for z in range(1,11):\n",
    "            print(2,\" X \",z, \"=\", z*2)\n",
    "            print(3,\" X \",z, \"=\", z*3)"
   ]
  },
  {
   "cell_type": "code",
   "execution_count": 2,
   "id": "ecaf566a",
   "metadata": {},
   "outputs": [
    {
     "ename": "IndentationError",
     "evalue": "unexpected indent (4063366365.py, line 4)",
     "output_type": "error",
     "traceback": [
      "\u001b[1;36m  Cell \u001b[1;32mIn[2], line 4\u001b[1;36m\u001b[0m\n\u001b[1;33m    if z>=10:\u001b[0m\n\u001b[1;37m    ^\u001b[0m\n\u001b[1;31mIndentationError\u001b[0m\u001b[1;31m:\u001b[0m unexpected indent\n"
     ]
    }
   ],
   "source": [
    "# print the multiplication table of 2,3,4,5,6,7\n",
    "for z in range(1,11):\n",
    "    print(2,\" X \",z, \"=\", z*2)\n",
    "        if z>=10:\n",
    "        for z in range(1,11):\n",
    "            print(3,\" X \",z, \"=\", z*3)"
   ]
  },
  {
   "cell_type": "markdown",
   "id": "6be5a4c4",
   "metadata": {},
   "source": [
    "## \"DONE\""
   ]
  },
  {
   "cell_type": "code",
   "execution_count": 5,
   "id": "1f682f9d",
   "metadata": {
    "collapsed": true
   },
   "outputs": [
    {
     "name": "stdout",
     "output_type": "stream",
     "text": [
      "2  X  1 = 2\n",
      "2  X  2 = 4\n",
      "2  X  3 = 6\n",
      "2  X  4 = 8\n",
      "2  X  5 = 10\n",
      "2  X  6 = 12\n",
      "2  X  7 = 14\n",
      "2  X  8 = 16\n",
      "2  X  9 = 18\n",
      "2  X  10 = 20\n",
      "3  X  1 = 3\n",
      "3  X  2 = 6\n",
      "3  X  3 = 9\n",
      "3  X  4 = 12\n",
      "3  X  5 = 15\n",
      "3  X  6 = 18\n",
      "3  X  7 = 21\n",
      "3  X  8 = 24\n",
      "3  X  9 = 27\n",
      "3  X  10 = 30\n",
      "4  X  1 = 4\n",
      "4  X  2 = 8\n",
      "4  X  3 = 12\n",
      "4  X  4 = 16\n",
      "4  X  5 = 20\n",
      "4  X  6 = 24\n",
      "4  X  7 = 28\n",
      "4  X  8 = 32\n",
      "4  X  9 = 36\n",
      "4  X  10 = 40\n",
      "5  X  1 = 5\n",
      "5  X  2 = 10\n",
      "5  X  3 = 15\n",
      "5  X  4 = 20\n",
      "5  X  5 = 25\n",
      "5  X  6 = 30\n",
      "5  X  7 = 35\n",
      "5  X  8 = 40\n",
      "5  X  9 = 45\n",
      "5  X  10 = 50\n",
      "6  X  1 = 6\n",
      "6  X  2 = 12\n",
      "6  X  3 = 18\n",
      "6  X  4 = 24\n",
      "6  X  5 = 30\n",
      "6  X  6 = 36\n",
      "6  X  7 = 42\n",
      "6  X  8 = 48\n",
      "6  X  9 = 54\n",
      "6  X  10 = 60\n",
      "7  X  1 = 7\n",
      "7  X  2 = 14\n",
      "7  X  3 = 21\n",
      "7  X  4 = 28\n",
      "7  X  5 = 35\n",
      "7  X  6 = 42\n",
      "7  X  7 = 49\n",
      "7  X  8 = 56\n",
      "7  X  9 = 63\n",
      "7  X  10 = 70\n"
     ]
    }
   ],
   "source": [
    "# print the multiplication table of 2,3,4,5,6,7\n",
    "for z in range(1,11):\n",
    "    print(2,\" X \",z, \"=\", z*2)\n",
    "    if z>=10:\n",
    "        for z in range(1,11):\n",
    "            print(3,\" X \",z, \"=\", z*3)\n",
    "            if z>=10:\n",
    "                for z in range(1,11):\n",
    "                    print(4,\" X \",z, \"=\", z*4)\n",
    "                    if z>=10:\n",
    "                        for z in range(1,11):\n",
    "                            print(5,\" X \",z, \"=\", z*5)\n",
    "                            if z>=10:\n",
    "                                for z in range(1,11):\n",
    "                                    print(6,\" X \",z, \"=\", z*6)\n",
    "                                    if z>=10:\n",
    "                                        for z in range(1,11):\n",
    "                                            print(7,\" X \",z, \"=\", z*7)\n",
    "                    "
   ]
  },
  {
   "cell_type": "code",
   "execution_count": 6,
   "id": "24740085",
   "metadata": {},
   "outputs": [
    {
     "ename": "IndentationError",
     "evalue": "expected an indented block after 'for' statement on line 2 (730161682.py, line 3)",
     "output_type": "error",
     "traceback": [
      "\u001b[1;36m  Cell \u001b[1;32mIn[6], line 3\u001b[1;36m\u001b[0m\n\u001b[1;33m    print(2,\" X \",z, \"=\", z*2)\u001b[0m\n\u001b[1;37m    ^\u001b[0m\n\u001b[1;31mIndentationError\u001b[0m\u001b[1;31m:\u001b[0m expected an indented block after 'for' statement on line 2\n"
     ]
    }
   ],
   "source": [
    "# print the multiplication table of 2,3,4,5,6,7\n",
    "for z in range(1,11):\n",
    "print(2,\" X \",z, \"=\", z*2)\n",
    "    for z in range(1,11):\n",
    "print(3,\" X \",z, \"=\", z*3)\n",
    "        for z in range(1,11):\n",
    "print(4,\" X \",z, \"=\", z*4)\n",
    "            for z in range(1,11):\n",
    "print(5,\" X \",z, \"=\", z*5)\n",
    "                for z in range(1,11):\n",
    "print(6,\" X \",z, \"=\", z*6)\n",
    "                    for z in range(1,11):\n",
    "print(7,\" X \",z, \"=\", z*7)\n",
    "                    "
   ]
  },
  {
   "cell_type": "code",
   "execution_count": 7,
   "id": "713f505e",
   "metadata": {},
   "outputs": [
    {
     "ename": "IndentationError",
     "evalue": "expected an indented block after 'for' statement on line 7 (105307067.py, line 8)",
     "output_type": "error",
     "traceback": [
      "\u001b[1;36m  Cell \u001b[1;32mIn[7], line 8\u001b[1;36m\u001b[0m\n\u001b[1;33m    print(7,\" X \",z, \"=\", z*7)\u001b[0m\n\u001b[1;37m                              ^\u001b[0m\n\u001b[1;31mIndentationError\u001b[0m\u001b[1;31m:\u001b[0m expected an indented block after 'for' statement on line 7\n"
     ]
    }
   ],
   "source": [
    "# print the multiplication table of 2,3,4,5,6,7\n",
    "for z in range(1,11):\n",
    "    for z in range(1,11):\n",
    "        for z in range(1,11):\n",
    "            for z in range(1,11):\n",
    "                for z in range(1,11):\n",
    "                    for z in range(1,11):\n",
    "print(7,\" X \",z, \"=\", z*7)\n",
    "print(2,\" X \",z, \"=\", z*2)\n",
    "print(3,\" X \",z, \"=\", z*3)\n",
    "print(4,\" X \",z, \"=\", z*4)\n",
    "print(5,\" X \",z, \"=\", z*5)\n",
    "print(6,\" X \",z, \"=\", z*6)"
   ]
  },
  {
   "cell_type": "code",
   "execution_count": null,
   "id": "5e36a22e",
   "metadata": {
    "scrolled": false
   },
   "outputs": [],
   "source": [
    "# print the multiplication table of 2,3,4,5,6,7\n",
    "for z in range(1,11):\n",
    "    for z in range(1,11):\n",
    "        for z in range(1,11):\n",
    "            for z in range(1,11):\n",
    "                for z in range(1,11):\n",
    "                    for z in range(1,11):\n",
    "                        print(2,\" X \",z, \"=\", z*2)\n",
    "                        print(3,\" X \",z, \"=\", z*3)\n",
    "                        print(4,\" X \",z, \"=\", z*4)\n",
    "                        print(5,\" X \",z, \"=\", z*5)\n",
    "                        print(6,\" X \",z, \"=\", z*6)\n",
    "                        print(7,\" X \",z, \"=\", z*7)"
   ]
  },
  {
   "cell_type": "markdown",
   "id": "8c2d678b",
   "metadata": {},
   "source": [
    "## \"DONE\""
   ]
  },
  {
   "cell_type": "code",
   "execution_count": 10,
   "id": "aed9078c",
   "metadata": {},
   "outputs": [
    {
     "name": "stdout",
     "output_type": "stream",
     "text": [
      "2  X  1 = 2\n",
      "2  X  2 = 4\n",
      "2  X  3 = 6\n",
      "2  X  4 = 8\n",
      "2  X  5 = 10\n",
      "2  X  6 = 12\n",
      "2  X  7 = 14\n",
      "2  X  8 = 16\n",
      "2  X  9 = 18\n",
      "2  X  10 = 20\n",
      "3  X  1 = 3\n",
      "3  X  2 = 6\n",
      "3  X  3 = 9\n",
      "3  X  4 = 12\n",
      "3  X  5 = 15\n",
      "3  X  6 = 18\n",
      "3  X  7 = 21\n",
      "3  X  8 = 24\n",
      "3  X  9 = 27\n",
      "3  X  10 = 30\n",
      "4  X  1 = 4\n",
      "4  X  2 = 8\n",
      "4  X  3 = 12\n",
      "4  X  4 = 16\n",
      "4  X  5 = 20\n",
      "4  X  6 = 24\n",
      "4  X  7 = 28\n",
      "4  X  8 = 32\n",
      "4  X  9 = 36\n",
      "4  X  10 = 40\n",
      "5  X  1 = 5\n",
      "5  X  2 = 10\n",
      "5  X  3 = 15\n",
      "5  X  4 = 20\n",
      "5  X  5 = 25\n",
      "5  X  6 = 30\n",
      "5  X  7 = 35\n",
      "5  X  8 = 40\n",
      "5  X  9 = 45\n",
      "5  X  10 = 50\n",
      "6  X  1 = 6\n",
      "6  X  2 = 12\n",
      "6  X  3 = 18\n",
      "6  X  4 = 24\n",
      "6  X  5 = 30\n",
      "6  X  6 = 36\n",
      "6  X  7 = 42\n",
      "6  X  8 = 48\n",
      "6  X  9 = 54\n",
      "6  X  10 = 60\n",
      "7  X  1 = 7\n",
      "7  X  2 = 14\n",
      "7  X  3 = 21\n",
      "7  X  4 = 28\n",
      "7  X  5 = 35\n",
      "7  X  6 = 42\n",
      "7  X  7 = 49\n",
      "7  X  8 = 56\n",
      "7  X  9 = 63\n",
      "7  X  10 = 70\n"
     ]
    }
   ],
   "source": [
    "# print the multiplication table of 2,3,4,5,6,7\n",
    "for z in range(1,11):\n",
    "    print(2,\" X \",z, \"=\", z*2)\n",
    "    if z>=10:\n",
    "        for z in range(1,11):\n",
    "            print(3,\" X \",z, \"=\", z*3)\n",
    "        for z in range(1,11):\n",
    "            print(4,\" X \",z, \"=\", z*4)\n",
    "        for z in range(1,11):\n",
    "            print(5,\" X \",z, \"=\", z*5)\n",
    "        for z in range(1,11):\n",
    "            print(6,\" X \",z, \"=\", z*6)\n",
    "        for z in range(1,11):\n",
    "            print(7,\" X \",z, \"=\", z*7)"
   ]
  },
  {
   "cell_type": "code",
   "execution_count": null,
   "id": "4ada4a27",
   "metadata": {},
   "outputs": [],
   "source": []
  },
  {
   "cell_type": "code",
   "execution_count": 1,
   "id": "1477d7df",
   "metadata": {},
   "outputs": [
    {
     "name": "stdout",
     "output_type": "stream",
     "text": [
      "I am DATAScientist\n"
     ]
    }
   ],
   "source": [
    "## end -- command in PYthon\n",
    "\n",
    "print(\"I am DATA\",end=\"\")\n",
    "print(\"Scientist\")"
   ]
  },
  {
   "cell_type": "code",
   "execution_count": 2,
   "id": "0beab47c",
   "metadata": {},
   "outputs": [
    {
     "name": "stdout",
     "output_type": "stream",
     "text": [
      "I am DATA Scientist\n"
     ]
    }
   ],
   "source": [
    "## end -- command in PYthon\n",
    "\n",
    "print(\"I am DATA\",end=\" \")\n",
    "print(\"Scientist\")"
   ]
  },
  {
   "cell_type": "code",
   "execution_count": 3,
   "id": "da8633bd",
   "metadata": {},
   "outputs": [
    {
     "name": "stdout",
     "output_type": "stream",
     "text": [
      "I am DATA_Scientist\n"
     ]
    }
   ],
   "source": [
    "## end -- command in PYthon\n",
    "\n",
    "print(\"I am DATA\",end=\"_\")\n",
    "print(\"Scientist\")"
   ]
  },
  {
   "cell_type": "code",
   "execution_count": null,
   "id": "72a0f495",
   "metadata": {},
   "outputs": [],
   "source": []
  },
  {
   "cell_type": "code",
   "execution_count": 4,
   "id": "b24a4c09",
   "metadata": {},
   "outputs": [
    {
     "ename": "SyntaxError",
     "evalue": "expected ':' (3357597154.py, line 4)",
     "output_type": "error",
     "traceback": [
      "\u001b[1;36m  Cell \u001b[1;32mIn[4], line 4\u001b[1;36m\u001b[0m\n\u001b[1;33m    if x>=4\u001b[0m\n\u001b[1;37m           ^\u001b[0m\n\u001b[1;31mSyntaxError\u001b[0m\u001b[1;31m:\u001b[0m expected ':'\n"
     ]
    }
   ],
   "source": [
    "# print \"*\" in output in line -- using for_loop\n",
    "\n",
    "for x in range(0,5):\n",
    "    if x>=4\n",
    "    print(\"*\")"
   ]
  },
  {
   "cell_type": "code",
   "execution_count": 8,
   "id": "db37be08",
   "metadata": {},
   "outputs": [
    {
     "name": "stdout",
     "output_type": "stream",
     "text": [
      "*\n"
     ]
    }
   ],
   "source": [
    "# print \"*\" in output in line -- using for_loop\n",
    "\n",
    "for x in range(0,5):\n",
    "    if x>=4:\n",
    "        print(\"*\")"
   ]
  },
  {
   "cell_type": "markdown",
   "id": "2bf0fc8d",
   "metadata": {},
   "source": [
    "## \"DONE\""
   ]
  },
  {
   "cell_type": "code",
   "execution_count": 6,
   "id": "adfb8ccc",
   "metadata": {},
   "outputs": [
    {
     "name": "stdout",
     "output_type": "stream",
     "text": [
      "*\n",
      "*\n",
      "*\n",
      "*\n",
      "*\n"
     ]
    }
   ],
   "source": [
    "# print \"*\" in output in line -- using for_loop\n",
    "\n",
    "for x in range(0,5):\n",
    "    print(\"*\")"
   ]
  },
  {
   "cell_type": "code",
   "execution_count": 9,
   "id": "cc3796f7",
   "metadata": {},
   "outputs": [
    {
     "name": "stdout",
     "output_type": "stream",
     "text": [
      "*\n",
      "*\n",
      "*\n",
      "*\n",
      "*\n"
     ]
    }
   ],
   "source": [
    "# print \"*\" in output in line -- using for_loop\n",
    "\n",
    "for x in range(5):\n",
    "    print(\"*\")"
   ]
  },
  {
   "cell_type": "code",
   "execution_count": null,
   "id": "1b85b624",
   "metadata": {},
   "outputs": [],
   "source": []
  },
  {
   "cell_type": "code",
   "execution_count": 7,
   "id": "64d2908e",
   "metadata": {},
   "outputs": [
    {
     "name": "stdout",
     "output_type": "stream",
     "text": [
      "2\n"
     ]
    },
    {
     "ename": "TypeError",
     "evalue": "can't multiply sequence by non-int of type 'str'",
     "output_type": "error",
     "traceback": [
      "\u001b[1;31m---------------------------------------------------------------------------\u001b[0m",
      "\u001b[1;31mTypeError\u001b[0m                                 Traceback (most recent call last)",
      "Cell \u001b[1;32mIn[7], line 4\u001b[0m\n\u001b[0;32m      2\u001b[0m p \u001b[38;5;241m=\u001b[39m \u001b[38;5;28minput\u001b[39m()\n\u001b[0;32m      3\u001b[0m \u001b[38;5;28;01mfor\u001b[39;00m x \u001b[38;5;129;01min\u001b[39;00m \u001b[38;5;28mrange\u001b[39m(\u001b[38;5;241m0\u001b[39m,\u001b[38;5;241m5\u001b[39m):\n\u001b[1;32m----> 4\u001b[0m     \u001b[38;5;28mprint\u001b[39m(\u001b[38;5;124;43m\"\u001b[39;49m\u001b[38;5;124;43m*\u001b[39;49m\u001b[38;5;124;43m\"\u001b[39;49m\u001b[38;5;241;43m*\u001b[39;49m\u001b[43mp\u001b[49m)\n",
      "\u001b[1;31mTypeError\u001b[0m: can't multiply sequence by non-int of type 'str'"
     ]
    }
   ],
   "source": [
    "# print \"*\" in output in line -- using for_loop\n",
    "p = input()\n",
    "for x in range(0,5):\n",
    "    print(\"*\"*p)"
   ]
  },
  {
   "cell_type": "code",
   "execution_count": 8,
   "id": "46f59693",
   "metadata": {},
   "outputs": [
    {
     "name": "stdout",
     "output_type": "stream",
     "text": [
      "5\n"
     ]
    },
    {
     "ename": "TypeError",
     "evalue": "int() argument must be a string, a bytes-like object or a real number, not 'range'",
     "output_type": "error",
     "traceback": [
      "\u001b[1;31m---------------------------------------------------------------------------\u001b[0m",
      "\u001b[1;31mTypeError\u001b[0m                                 Traceback (most recent call last)",
      "Cell \u001b[1;32mIn[8], line 3\u001b[0m\n\u001b[0;32m      1\u001b[0m \u001b[38;5;66;03m# print \"*\" in output in line -- using for_loop\u001b[39;00m\n\u001b[0;32m      2\u001b[0m p \u001b[38;5;241m=\u001b[39m \u001b[38;5;28minput\u001b[39m()\n\u001b[1;32m----> 3\u001b[0m \u001b[38;5;28;01mfor\u001b[39;00m x \u001b[38;5;129;01min\u001b[39;00m \u001b[38;5;28;43mint\u001b[39;49m\u001b[43m(\u001b[49m\u001b[38;5;28;43mrange\u001b[39;49m\u001b[43m(\u001b[49m\u001b[38;5;241;43m0\u001b[39;49m\u001b[43m,\u001b[49m\u001b[38;5;241;43m5\u001b[39;49m\u001b[43m)\u001b[49m\u001b[43m)\u001b[49m:\n\u001b[0;32m      4\u001b[0m     \u001b[38;5;28mprint\u001b[39m(\u001b[38;5;124m\"\u001b[39m\u001b[38;5;124m*\u001b[39m\u001b[38;5;124m\"\u001b[39m\u001b[38;5;241m*\u001b[39mp)\n",
      "\u001b[1;31mTypeError\u001b[0m: int() argument must be a string, a bytes-like object or a real number, not 'range'"
     ]
    }
   ],
   "source": [
    "# print \"*\" in output in line -- using for_loop\n",
    "p = input()\n",
    "for x in int(range(0,5)):\n",
    "    print(\"*\"*p)"
   ]
  },
  {
   "cell_type": "code",
   "execution_count": 10,
   "id": "9a42c538",
   "metadata": {},
   "outputs": [
    {
     "ename": "TypeError",
     "evalue": "int() argument must be a string, a bytes-like object or a real number, not 'range'",
     "output_type": "error",
     "traceback": [
      "\u001b[1;31m---------------------------------------------------------------------------\u001b[0m",
      "\u001b[1;31mTypeError\u001b[0m                                 Traceback (most recent call last)",
      "Cell \u001b[1;32mIn[10], line 2\u001b[0m\n\u001b[0;32m      1\u001b[0m \u001b[38;5;66;03m# print \"*\" in output in line -- using for_loop\u001b[39;00m\n\u001b[1;32m----> 2\u001b[0m \u001b[38;5;28;01mfor\u001b[39;00m x \u001b[38;5;129;01min\u001b[39;00m \u001b[38;5;28;43mint\u001b[39;49m\u001b[43m(\u001b[49m\u001b[38;5;28;43mrange\u001b[39;49m\u001b[43m(\u001b[49m\u001b[38;5;241;43m0\u001b[39;49m\u001b[43m,\u001b[49m\u001b[38;5;241;43m5\u001b[39;49m\u001b[43m)\u001b[49m\u001b[43m)\u001b[49m:\n\u001b[0;32m      3\u001b[0m     p \u001b[38;5;241m=\u001b[39m \u001b[38;5;28mstr\u001b[39m(x)\n\u001b[0;32m      4\u001b[0m     \u001b[38;5;28mprint\u001b[39m(\u001b[38;5;124m\"\u001b[39m\u001b[38;5;124m*\u001b[39m\u001b[38;5;124m\"\u001b[39m\u001b[38;5;241m*\u001b[39mp)\n",
      "\u001b[1;31mTypeError\u001b[0m: int() argument must be a string, a bytes-like object or a real number, not 'range'"
     ]
    }
   ],
   "source": [
    "# print \"*\" in output in line -- using for_loop\n",
    "for x in int(range(0,5)):\n",
    "    p = str(x)\n",
    "    print(\"*\"*p)"
   ]
  },
  {
   "cell_type": "code",
   "execution_count": 11,
   "id": "549fd9e1",
   "metadata": {},
   "outputs": [
    {
     "ename": "TypeError",
     "evalue": "can't multiply sequence by non-int of type 'str'",
     "output_type": "error",
     "traceback": [
      "\u001b[1;31m---------------------------------------------------------------------------\u001b[0m",
      "\u001b[1;31mTypeError\u001b[0m                                 Traceback (most recent call last)",
      "Cell \u001b[1;32mIn[11], line 4\u001b[0m\n\u001b[0;32m      2\u001b[0m \u001b[38;5;28;01mfor\u001b[39;00m x \u001b[38;5;129;01min\u001b[39;00m (\u001b[38;5;28mrange\u001b[39m(\u001b[38;5;241m0\u001b[39m,\u001b[38;5;241m5\u001b[39m)):\n\u001b[0;32m      3\u001b[0m     p \u001b[38;5;241m=\u001b[39m \u001b[38;5;28mstr\u001b[39m(x)\n\u001b[1;32m----> 4\u001b[0m     \u001b[38;5;28mprint\u001b[39m(\u001b[38;5;124;43m\"\u001b[39;49m\u001b[38;5;124;43m*\u001b[39;49m\u001b[38;5;124;43m\"\u001b[39;49m\u001b[38;5;241;43m*\u001b[39;49m\u001b[43mp\u001b[49m)\n",
      "\u001b[1;31mTypeError\u001b[0m: can't multiply sequence by non-int of type 'str'"
     ]
    }
   ],
   "source": [
    "# print \"*\" in output in line -- using for_loop\n",
    "for x in (range(0,5)):\n",
    "    p = str(x)\n",
    "    print(\"*\"*p)"
   ]
  },
  {
   "cell_type": "code",
   "execution_count": 1,
   "id": "715082eb",
   "metadata": {},
   "outputs": [
    {
     "name": "stdout",
     "output_type": "stream",
     "text": [
      "*\n"
     ]
    },
    {
     "ename": "ValueError",
     "evalue": "invalid literal for int() with base 10: '*'",
     "output_type": "error",
     "traceback": [
      "\u001b[1;31m---------------------------------------------------------------------------\u001b[0m",
      "\u001b[1;31mValueError\u001b[0m                                Traceback (most recent call last)",
      "Cell \u001b[1;32mIn[1], line 2\u001b[0m\n\u001b[0;32m      1\u001b[0m \u001b[38;5;66;03m# print \"*\" in output in line -- using for_loop\u001b[39;00m\n\u001b[1;32m----> 2\u001b[0m X  \u001b[38;5;241m=\u001b[39m \u001b[38;5;28;43mint\u001b[39;49m\u001b[43m(\u001b[49m\u001b[38;5;28;43minput\u001b[39;49m\u001b[43m(\u001b[49m\u001b[43m)\u001b[49m\u001b[43m)\u001b[49m\n\u001b[0;32m      3\u001b[0m \u001b[38;5;28;01mfor\u001b[39;00m X \u001b[38;5;129;01min\u001b[39;00m (\u001b[38;5;28mrange\u001b[39m(\u001b[38;5;241m0\u001b[39m,\u001b[38;5;241m5\u001b[39m)):\n\u001b[0;32m      4\u001b[0m     p \u001b[38;5;241m=\u001b[39m \u001b[38;5;28mstr\u001b[39m(x)\n",
      "\u001b[1;31mValueError\u001b[0m: invalid literal for int() with base 10: '*'"
     ]
    }
   ],
   "source": [
    "# print \"*\" in output in line -- using for_loop\n",
    "X  = int(input())\n",
    "for X in (range(0,5)):\n",
    "    p = str(x)\n",
    "    print(X*p)"
   ]
  },
  {
   "cell_type": "code",
   "execution_count": 2,
   "id": "ca0a7e81",
   "metadata": {},
   "outputs": [
    {
     "name": "stdout",
     "output_type": "stream",
     "text": [
      "*\n",
      "0\n",
      "0\n",
      "0\n",
      "0\n",
      "0\n"
     ]
    }
   ],
   "source": [
    "# print \"*\" in output in line -- using for_loop\n",
    "X  = input()\n",
    "for X in (range(0,5)):\n",
    "    p = int()\n",
    "    print(X*p)"
   ]
  },
  {
   "cell_type": "code",
   "execution_count": 3,
   "id": "2a9f625d",
   "metadata": {},
   "outputs": [
    {
     "name": "stdout",
     "output_type": "stream",
     "text": [
      "5\n"
     ]
    },
    {
     "ename": "TypeError",
     "evalue": "unsupported operand type(s) for *: 'int' and 'range'",
     "output_type": "error",
     "traceback": [
      "\u001b[1;31m---------------------------------------------------------------------------\u001b[0m",
      "\u001b[1;31mTypeError\u001b[0m                                 Traceback (most recent call last)",
      "Cell \u001b[1;32mIn[3], line 5\u001b[0m\n\u001b[0;32m      3\u001b[0m \u001b[38;5;28;01mfor\u001b[39;00m X \u001b[38;5;129;01min\u001b[39;00m (\u001b[38;5;28mrange\u001b[39m(\u001b[38;5;241m0\u001b[39m,\u001b[38;5;241m5\u001b[39m)):\n\u001b[0;32m      4\u001b[0m     p \u001b[38;5;241m=\u001b[39m \u001b[38;5;28mrange\u001b[39m(\u001b[38;5;241m0\u001b[39m,\u001b[38;5;241m5\u001b[39m)\n\u001b[1;32m----> 5\u001b[0m     \u001b[38;5;28mprint\u001b[39m(\u001b[43mX\u001b[49m\u001b[38;5;241;43m*\u001b[39;49m\u001b[43mp\u001b[49m)\n",
      "\u001b[1;31mTypeError\u001b[0m: unsupported operand type(s) for *: 'int' and 'range'"
     ]
    }
   ],
   "source": [
    "# print \"*\" in output in line -- using for_loop\n",
    "X  = input()\n",
    "for X in (range(0,5)):\n",
    "    p = range(0,5)\n",
    "    print(X*p)"
   ]
  },
  {
   "cell_type": "code",
   "execution_count": 4,
   "id": "2fb39a68",
   "metadata": {},
   "outputs": [
    {
     "name": "stdout",
     "output_type": "stream",
     "text": [
      "*\n"
     ]
    },
    {
     "ename": "TypeError",
     "evalue": "unsupported operand type(s) for *: 'int' and 'range'",
     "output_type": "error",
     "traceback": [
      "\u001b[1;31m---------------------------------------------------------------------------\u001b[0m",
      "\u001b[1;31mTypeError\u001b[0m                                 Traceback (most recent call last)",
      "Cell \u001b[1;32mIn[4], line 5\u001b[0m\n\u001b[0;32m      3\u001b[0m \u001b[38;5;28;01mfor\u001b[39;00m X \u001b[38;5;129;01min\u001b[39;00m (\u001b[38;5;28mrange\u001b[39m(\u001b[38;5;241m0\u001b[39m,\u001b[38;5;241m5\u001b[39m)):\n\u001b[0;32m      4\u001b[0m     p \u001b[38;5;241m=\u001b[39m \u001b[38;5;28mrange\u001b[39m(\u001b[38;5;241m0\u001b[39m,\u001b[38;5;241m5\u001b[39m)\n\u001b[1;32m----> 5\u001b[0m     \u001b[38;5;28mprint\u001b[39m(\u001b[43mX\u001b[49m\u001b[38;5;241;43m*\u001b[39;49m\u001b[43mp\u001b[49m)\n",
      "\u001b[1;31mTypeError\u001b[0m: unsupported operand type(s) for *: 'int' and 'range'"
     ]
    }
   ],
   "source": [
    "# print \"*\" in output in line -- using for_loop\n",
    "X  = input()\n",
    "for X in (range(0,5)):\n",
    "    p = range(0,5)\n",
    "    print(X*p)"
   ]
  },
  {
   "cell_type": "code",
   "execution_count": 5,
   "id": "eaff9ce9",
   "metadata": {},
   "outputs": [
    {
     "name": "stdout",
     "output_type": "stream",
     "text": [
      "*\n"
     ]
    },
    {
     "ename": "TypeError",
     "evalue": "unsupported operand type(s) for *: 'int' and 'range'",
     "output_type": "error",
     "traceback": [
      "\u001b[1;31m---------------------------------------------------------------------------\u001b[0m",
      "\u001b[1;31mTypeError\u001b[0m                                 Traceback (most recent call last)",
      "Cell \u001b[1;32mIn[5], line 4\u001b[0m\n\u001b[0;32m      2\u001b[0m \u001b[38;5;28;01mfor\u001b[39;00m X \u001b[38;5;129;01min\u001b[39;00m (\u001b[38;5;28mrange\u001b[39m(\u001b[38;5;241m0\u001b[39m,\u001b[38;5;241m5\u001b[39m)):\n\u001b[0;32m      3\u001b[0m     p \u001b[38;5;241m=\u001b[39m \u001b[38;5;28mrange\u001b[39m(\u001b[38;5;241m0\u001b[39m,\u001b[38;5;241m5\u001b[39m)\n\u001b[1;32m----> 4\u001b[0m     z \u001b[38;5;241m=\u001b[39m \u001b[43mX\u001b[49m\u001b[38;5;241;43m*\u001b[39;49m\u001b[43mp\u001b[49m\n\u001b[0;32m      5\u001b[0m     \u001b[38;5;28mprint\u001b[39m(z)\n",
      "\u001b[1;31mTypeError\u001b[0m: unsupported operand type(s) for *: 'int' and 'range'"
     ]
    }
   ],
   "source": [
    "X  = input()\n",
    "for X in (range(0,5)):\n",
    "    p = range(0,5)\n",
    "    z = X*p\n",
    "    print(z)"
   ]
  },
  {
   "cell_type": "code",
   "execution_count": 6,
   "id": "58b0f99d",
   "metadata": {},
   "outputs": [
    {
     "name": "stdout",
     "output_type": "stream",
     "text": [
      "*\n"
     ]
    },
    {
     "ename": "TypeError",
     "evalue": "int() argument must be a string, a bytes-like object or a real number, not 'range'",
     "output_type": "error",
     "traceback": [
      "\u001b[1;31m---------------------------------------------------------------------------\u001b[0m",
      "\u001b[1;31mTypeError\u001b[0m                                 Traceback (most recent call last)",
      "Cell \u001b[1;32mIn[6], line 3\u001b[0m\n\u001b[0;32m      1\u001b[0m X  \u001b[38;5;241m=\u001b[39m \u001b[38;5;28minput\u001b[39m()\n\u001b[0;32m      2\u001b[0m \u001b[38;5;28;01mfor\u001b[39;00m X \u001b[38;5;129;01min\u001b[39;00m (\u001b[38;5;28mrange\u001b[39m(\u001b[38;5;241m0\u001b[39m,\u001b[38;5;241m5\u001b[39m)):\n\u001b[1;32m----> 3\u001b[0m     p \u001b[38;5;241m=\u001b[39m \u001b[38;5;28;43mint\u001b[39;49m\u001b[43m(\u001b[49m\u001b[38;5;28;43mrange\u001b[39;49m\u001b[43m(\u001b[49m\u001b[38;5;241;43m0\u001b[39;49m\u001b[43m,\u001b[49m\u001b[38;5;241;43m5\u001b[39;49m\u001b[43m)\u001b[49m\u001b[43m)\u001b[49m\n\u001b[0;32m      4\u001b[0m     z \u001b[38;5;241m=\u001b[39m X\u001b[38;5;241m*\u001b[39mp\n\u001b[0;32m      5\u001b[0m     \u001b[38;5;28mprint\u001b[39m(z)\n",
      "\u001b[1;31mTypeError\u001b[0m: int() argument must be a string, a bytes-like object or a real number, not 'range'"
     ]
    }
   ],
   "source": [
    "X  = input()\n",
    "for X in (range(0,5)):\n",
    "    p = int(range(0,5))\n",
    "    z = X*p\n",
    "    print(z)"
   ]
  },
  {
   "cell_type": "code",
   "execution_count": 7,
   "id": "96d00507",
   "metadata": {},
   "outputs": [
    {
     "ename": "TypeError",
     "evalue": "int() argument must be a string, a bytes-like object or a real number, not 'range'",
     "output_type": "error",
     "traceback": [
      "\u001b[1;31m---------------------------------------------------------------------------\u001b[0m",
      "\u001b[1;31mTypeError\u001b[0m                                 Traceback (most recent call last)",
      "Cell \u001b[1;32mIn[7], line 3\u001b[0m\n\u001b[0;32m      1\u001b[0m X  \u001b[38;5;241m=\u001b[39m \u001b[38;5;124m\"\u001b[39m\u001b[38;5;124m*\u001b[39m\u001b[38;5;124m\"\u001b[39m\n\u001b[0;32m      2\u001b[0m \u001b[38;5;28;01mfor\u001b[39;00m X \u001b[38;5;129;01min\u001b[39;00m (\u001b[38;5;28mrange\u001b[39m(\u001b[38;5;241m0\u001b[39m,\u001b[38;5;241m5\u001b[39m)):\n\u001b[1;32m----> 3\u001b[0m     p \u001b[38;5;241m=\u001b[39m \u001b[38;5;28;43mint\u001b[39;49m\u001b[43m(\u001b[49m\u001b[38;5;28;43mrange\u001b[39;49m\u001b[43m(\u001b[49m\u001b[38;5;241;43m0\u001b[39;49m\u001b[43m,\u001b[49m\u001b[38;5;241;43m5\u001b[39;49m\u001b[43m)\u001b[49m\u001b[43m)\u001b[49m\n\u001b[0;32m      4\u001b[0m     z \u001b[38;5;241m=\u001b[39m X\u001b[38;5;241m*\u001b[39mp\n\u001b[0;32m      5\u001b[0m     \u001b[38;5;28mprint\u001b[39m(z)\n",
      "\u001b[1;31mTypeError\u001b[0m: int() argument must be a string, a bytes-like object or a real number, not 'range'"
     ]
    }
   ],
   "source": [
    "X  = \"*\"\n",
    "for X in (range(0,5)):\n",
    "    p = int(range(0,5))\n",
    "    z = X*p\n",
    "    print(z)"
   ]
  },
  {
   "cell_type": "code",
   "execution_count": 8,
   "id": "9687b43d",
   "metadata": {},
   "outputs": [
    {
     "ename": "TypeError",
     "evalue": "unsupported operand type(s) for *: 'int' and 'range'",
     "output_type": "error",
     "traceback": [
      "\u001b[1;31m---------------------------------------------------------------------------\u001b[0m",
      "\u001b[1;31mTypeError\u001b[0m                                 Traceback (most recent call last)",
      "Cell \u001b[1;32mIn[8], line 4\u001b[0m\n\u001b[0;32m      2\u001b[0m \u001b[38;5;28;01mfor\u001b[39;00m X \u001b[38;5;129;01min\u001b[39;00m (\u001b[38;5;28mrange\u001b[39m(\u001b[38;5;241m0\u001b[39m,\u001b[38;5;241m5\u001b[39m)):\n\u001b[0;32m      3\u001b[0m     p \u001b[38;5;241m=\u001b[39m \u001b[38;5;28mrange\u001b[39m(\u001b[38;5;241m0\u001b[39m,\u001b[38;5;241m5\u001b[39m)\n\u001b[1;32m----> 4\u001b[0m     z \u001b[38;5;241m=\u001b[39m \u001b[43mX\u001b[49m\u001b[38;5;241;43m*\u001b[39;49m\u001b[43mp\u001b[49m\n\u001b[0;32m      5\u001b[0m     \u001b[38;5;28mprint\u001b[39m(z)\n",
      "\u001b[1;31mTypeError\u001b[0m: unsupported operand type(s) for *: 'int' and 'range'"
     ]
    }
   ],
   "source": [
    "X  = \"*\"\n",
    "for X in (range(0,5)):\n",
    "    p = range(0,5)\n",
    "    z = X*p\n",
    "    print(z)"
   ]
  },
  {
   "cell_type": "code",
   "execution_count": 9,
   "id": "4a51ef32",
   "metadata": {},
   "outputs": [
    {
     "ename": "TypeError",
     "evalue": "'<=' not supported between instances of 'range' and 'int'",
     "output_type": "error",
     "traceback": [
      "\u001b[1;31m---------------------------------------------------------------------------\u001b[0m",
      "\u001b[1;31mTypeError\u001b[0m                                 Traceback (most recent call last)",
      "Cell \u001b[1;32mIn[9], line 3\u001b[0m\n\u001b[0;32m      1\u001b[0m X  \u001b[38;5;241m=\u001b[39m \u001b[38;5;124m\"\u001b[39m\u001b[38;5;124m*\u001b[39m\u001b[38;5;124m\"\u001b[39m\n\u001b[0;32m      2\u001b[0m \u001b[38;5;28;01mfor\u001b[39;00m X \u001b[38;5;129;01min\u001b[39;00m (\u001b[38;5;28mrange\u001b[39m(\u001b[38;5;241m0\u001b[39m,\u001b[38;5;241m5\u001b[39m)):\n\u001b[1;32m----> 3\u001b[0m     \u001b[43mp\u001b[49m\u001b[43m \u001b[49m\u001b[38;5;241;43m<\u001b[39;49m\u001b[38;5;241;43m=\u001b[39;49m\u001b[43m \u001b[49m\u001b[38;5;241;43m4\u001b[39;49m\n\u001b[0;32m      4\u001b[0m     z \u001b[38;5;241m=\u001b[39m X\u001b[38;5;241m*\u001b[39mp\n\u001b[0;32m      5\u001b[0m     \u001b[38;5;28mprint\u001b[39m(z)\n",
      "\u001b[1;31mTypeError\u001b[0m: '<=' not supported between instances of 'range' and 'int'"
     ]
    }
   ],
   "source": [
    "X  = \"*\"\n",
    "for X in (range(0,5)):\n",
    "    p <= 4\n",
    "    z = X*p\n",
    "    print(z)"
   ]
  },
  {
   "cell_type": "code",
   "execution_count": 10,
   "id": "3d5300cc",
   "metadata": {},
   "outputs": [
    {
     "name": "stdout",
     "output_type": "stream",
     "text": [
      "**\n"
     ]
    },
    {
     "ename": "TypeError",
     "evalue": "unsupported operand type(s) for *: 'int' and 'range'",
     "output_type": "error",
     "traceback": [
      "\u001b[1;31m---------------------------------------------------------------------------\u001b[0m",
      "\u001b[1;31mTypeError\u001b[0m                                 Traceback (most recent call last)",
      "Cell \u001b[1;32mIn[10], line 4\u001b[0m\n\u001b[0;32m      2\u001b[0m p \u001b[38;5;241m=\u001b[39m \u001b[38;5;28mrange\u001b[39m(\u001b[38;5;241m0\u001b[39m,\u001b[38;5;241m5\u001b[39m)\n\u001b[0;32m      3\u001b[0m \u001b[38;5;28;01mfor\u001b[39;00m X \u001b[38;5;129;01min\u001b[39;00m \u001b[38;5;28mrange\u001b[39m(\u001b[38;5;241m0\u001b[39m,\u001b[38;5;241m5\u001b[39m):\n\u001b[1;32m----> 4\u001b[0m     z \u001b[38;5;241m=\u001b[39m \u001b[43mX\u001b[49m\u001b[38;5;241;43m*\u001b[39;49m\u001b[43mp\u001b[49m\n\u001b[0;32m      5\u001b[0m     \u001b[38;5;28mprint\u001b[39m(z)\n",
      "\u001b[1;31mTypeError\u001b[0m: unsupported operand type(s) for *: 'int' and 'range'"
     ]
    }
   ],
   "source": [
    "X  = input(\"*\")\n",
    "p = range(0,5)\n",
    "for X in range(0,5):\n",
    "    z = X*p\n",
    "    print(z)"
   ]
  },
  {
   "cell_type": "code",
   "execution_count": 12,
   "id": "cb75d823",
   "metadata": {},
   "outputs": [
    {
     "name": "stdout",
     "output_type": "stream",
     "text": [
      "*\n",
      "<class 'str'>\n"
     ]
    },
    {
     "ename": "TypeError",
     "evalue": "can't multiply sequence by non-int of type 'range'",
     "output_type": "error",
     "traceback": [
      "\u001b[1;31m---------------------------------------------------------------------------\u001b[0m",
      "\u001b[1;31mTypeError\u001b[0m                                 Traceback (most recent call last)",
      "Cell \u001b[1;32mIn[12], line 5\u001b[0m\n\u001b[0;32m      3\u001b[0m p \u001b[38;5;241m=\u001b[39m \u001b[38;5;28mrange\u001b[39m(\u001b[38;5;241m0\u001b[39m,\u001b[38;5;241m5\u001b[39m)\n\u001b[0;32m      4\u001b[0m \u001b[38;5;28;01mfor\u001b[39;00m X \u001b[38;5;129;01min\u001b[39;00m \u001b[38;5;28mstr\u001b[39m(\u001b[38;5;28mrange\u001b[39m(\u001b[38;5;241m0\u001b[39m,\u001b[38;5;241m5\u001b[39m)):\n\u001b[1;32m----> 5\u001b[0m     z \u001b[38;5;241m=\u001b[39m \u001b[43mX\u001b[49m\u001b[38;5;241;43m*\u001b[39;49m\u001b[43mp\u001b[49m\n\u001b[0;32m      6\u001b[0m     \u001b[38;5;28mprint\u001b[39m(z)\n",
      "\u001b[1;31mTypeError\u001b[0m: can't multiply sequence by non-int of type 'range'"
     ]
    }
   ],
   "source": [
    "X  = input()\n",
    "print(type(X))\n",
    "p = range(0,5)\n",
    "for X in str(range(0,5)):\n",
    "    z = X*p\n",
    "    print(z)"
   ]
  },
  {
   "cell_type": "code",
   "execution_count": 1,
   "id": "add3816b",
   "metadata": {},
   "outputs": [
    {
     "name": "stdout",
     "output_type": "stream",
     "text": [
      "*\n",
      "<class 'str'>\n",
      "5\n",
      "0\n",
      "5\n",
      "10\n",
      "15\n",
      "20\n"
     ]
    }
   ],
   "source": [
    "X  = input()\n",
    "print(type(X))\n",
    "p = int(input())\n",
    "for X in range(p):\n",
    "    z = X*p\n",
    "    print(z)"
   ]
  },
  {
   "cell_type": "code",
   "execution_count": 2,
   "id": "1a483b4a",
   "metadata": {},
   "outputs": [
    {
     "name": "stdout",
     "output_type": "stream",
     "text": [
      "*\n",
      "<class 'str'>\n",
      "5\n",
      "*****\n",
      "*****\n",
      "*****\n",
      "*****\n",
      "*****\n"
     ]
    }
   ],
   "source": [
    "X  = input()\n",
    "print(type(X))\n",
    "p = int(input())\n",
    "for z in range(p):\n",
    "    z = X*p\n",
    "    print(z)"
   ]
  },
  {
   "cell_type": "code",
   "execution_count": 3,
   "id": "273348aa",
   "metadata": {},
   "outputs": [
    {
     "name": "stdout",
     "output_type": "stream",
     "text": [
      "*\n",
      "<class 'str'>\n",
      "5\n",
      "0\n",
      "1\n",
      "2\n",
      "3\n",
      "4\n"
     ]
    }
   ],
   "source": [
    "X  = input()\n",
    "print(type(X))\n",
    "p = int(input())\n",
    "for z in range(0,p):\n",
    "    z == X*z\n",
    "    print(z)"
   ]
  },
  {
   "cell_type": "markdown",
   "id": "23c8c5eb",
   "metadata": {},
   "source": [
    "## \"DONE\""
   ]
  },
  {
   "cell_type": "code",
   "execution_count": 1,
   "id": "9f4ee201",
   "metadata": {},
   "outputs": [
    {
     "name": "stdout",
     "output_type": "stream",
     "text": [
      "*\n",
      "<class 'str'>\n",
      "6\n",
      "\n",
      "*\n",
      "**\n",
      "***\n",
      "****\n",
      "*****\n",
      "******\n"
     ]
    }
   ],
   "source": [
    "X  = input()\n",
    "print(type(X))\n",
    "p = 1+int(input())\n",
    "for z in range(p):\n",
    "    z = X*z\n",
    "    print(z)"
   ]
  },
  {
   "cell_type": "code",
   "execution_count": 3,
   "id": "8308dad5",
   "metadata": {},
   "outputs": [
    {
     "name": "stdout",
     "output_type": "stream",
     "text": [
      "1\n",
      "*\n",
      "*\n",
      "*\n",
      "*\n"
     ]
    }
   ],
   "source": [
    "p = 1+int(input())\n",
    "for x in range(p):\n",
    "    for y in range(p):\n",
    "        print(\"*\")"
   ]
  },
  {
   "cell_type": "code",
   "execution_count": 4,
   "id": "00812766",
   "metadata": {},
   "outputs": [
    {
     "ename": "SyntaxError",
     "evalue": "invalid syntax. Perhaps you forgot a comma? (2142857553.py, line 4)",
     "output_type": "error",
     "traceback": [
      "\u001b[1;36m  Cell \u001b[1;32mIn[4], line 4\u001b[1;36m\u001b[0m\n\u001b[1;33m    print(\"*\"end=\"\")\u001b[0m\n\u001b[1;37m          ^\u001b[0m\n\u001b[1;31mSyntaxError\u001b[0m\u001b[1;31m:\u001b[0m invalid syntax. Perhaps you forgot a comma?\n"
     ]
    }
   ],
   "source": [
    "p = 1+int(input())\n",
    "for x in range(p):\n",
    "    for y in range(p):\n",
    "        print(\"*\"end=\"\")"
   ]
  },
  {
   "cell_type": "code",
   "execution_count": 6,
   "id": "101b07b4",
   "metadata": {},
   "outputs": [
    {
     "name": "stdout",
     "output_type": "stream",
     "text": [
      "2\n",
      "*********"
     ]
    }
   ],
   "source": [
    "p = 1+int(input())\n",
    "for x in range(p):\n",
    "    for y in range(p):\n",
    "        print(\"*\",end=\"\")"
   ]
  },
  {
   "cell_type": "code",
   "execution_count": 2,
   "id": "afc4a853",
   "metadata": {},
   "outputs": [
    {
     "name": "stdout",
     "output_type": "stream",
     "text": [
      "2\n",
      "* \n",
      "* \n",
      "* \n",
      "* \n",
      "* \n",
      "* \n",
      "* \n",
      "* \n",
      "* \n"
     ]
    }
   ],
   "source": [
    "p = 1+int(input())\n",
    "for x in range(p):\n",
    "    for y in range(p):\n",
    "        print(\"*\",end=\" \")\n",
    "        print()"
   ]
  },
  {
   "cell_type": "code",
   "execution_count": 9,
   "id": "162095bf",
   "metadata": {},
   "outputs": [
    {
     "name": "stdout",
     "output_type": "stream",
     "text": [
      "2\n",
      "* * * "
     ]
    }
   ],
   "source": [
    "p = 1+int(input())\n",
    "for x in range(p):\n",
    "    for y in range(p):\n",
    "        if y==x:\n",
    "            print(\"*\",end=\" \")"
   ]
  },
  {
   "cell_type": "code",
   "execution_count": 12,
   "id": "164deaa3",
   "metadata": {},
   "outputs": [
    {
     "name": "stdout",
     "output_type": "stream",
     "text": [
      "3\n"
     ]
    }
   ],
   "source": [
    "p = 1+int(input())\n",
    "for x in range(p):\n",
    "    for y in range(p):\n",
    "        if y>=p:\n",
    "            print(\"*\",end=\" \")"
   ]
  },
  {
   "cell_type": "code",
   "execution_count": 14,
   "id": "893637f7",
   "metadata": {},
   "outputs": [
    {
     "name": "stdout",
     "output_type": "stream",
     "text": [
      "2\n",
      "* * * * * * * * * "
     ]
    }
   ],
   "source": [
    "p = 1+int(input())\n",
    "for x in range(p):\n",
    "    for y in range(p):\n",
    "        if y<=p:\n",
    "            print(\"*\",end=\" \")"
   ]
  },
  {
   "cell_type": "code",
   "execution_count": 15,
   "id": "9b0c9606",
   "metadata": {},
   "outputs": [
    {
     "name": "stdout",
     "output_type": "stream",
     "text": [
      "2\n",
      "* * * "
     ]
    }
   ],
   "source": [
    "p = 1+int(input())\n",
    "for x in range(p):\n",
    "    for y in range(p):\n",
    "        if y<=p:\n",
    "            print(\"*\",end=\" \")\n",
    "            break"
   ]
  },
  {
   "cell_type": "code",
   "execution_count": 17,
   "id": "3580f3fd",
   "metadata": {},
   "outputs": [
    {
     "ename": "IndentationError",
     "evalue": "expected an indented block after 'if' statement on line 4 (154510562.py, line 5)",
     "output_type": "error",
     "traceback": [
      "\u001b[1;36m  Cell \u001b[1;32mIn[17], line 5\u001b[1;36m\u001b[0m\n\u001b[1;33m    print(\"*\",end=\" \")\u001b[0m\n\u001b[1;37m    ^\u001b[0m\n\u001b[1;31mIndentationError\u001b[0m\u001b[1;31m:\u001b[0m expected an indented block after 'if' statement on line 4\n"
     ]
    }
   ],
   "source": [
    "p = 1+int(input())\n",
    "for x in range(p):\n",
    "    for y in range(p):\n",
    "        if y<=p:\n",
    "        print(\"*\",end=\" \")            "
   ]
  },
  {
   "cell_type": "code",
   "execution_count": 18,
   "id": "8aacc378",
   "metadata": {},
   "outputs": [
    {
     "ename": "IndentationError",
     "evalue": "expected an indented block after 'if' statement on line 4 (1337716476.py, line 5)",
     "output_type": "error",
     "traceback": [
      "\u001b[1;36m  Cell \u001b[1;32mIn[18], line 5\u001b[1;36m\u001b[0m\n\u001b[1;33m    print(\"*\",end=\" \")\u001b[0m\n\u001b[1;37m    ^\u001b[0m\n\u001b[1;31mIndentationError\u001b[0m\u001b[1;31m:\u001b[0m expected an indented block after 'if' statement on line 4\n"
     ]
    }
   ],
   "source": [
    "p = 1+int(input())\n",
    "for x in range(p):\n",
    "    for y in range(p):\n",
    "        if y<=p:\n",
    "    print(\"*\",end=\" \")"
   ]
  },
  {
   "cell_type": "code",
   "execution_count": 19,
   "id": "4c9ade15",
   "metadata": {},
   "outputs": [
    {
     "name": "stdout",
     "output_type": "stream",
     "text": [
      "2\n",
      "* * * * * * "
     ]
    }
   ],
   "source": [
    "p = 1+int(input())\n",
    "for x in range(p):\n",
    "    for y in range(p):\n",
    "        if x>=y:\n",
    "            print(\"*\",end=\" \")"
   ]
  },
  {
   "cell_type": "code",
   "execution_count": 20,
   "id": "1dbe75cd",
   "metadata": {},
   "outputs": [
    {
     "name": "stdout",
     "output_type": "stream",
     "text": [
      "2\n",
      "*\n",
      " *\n",
      " *\n",
      " *\n",
      " *\n",
      " *\n",
      " "
     ]
    }
   ],
   "source": [
    "p = 1+int(input())\n",
    "for x in range(p):\n",
    "    for y in range(p):\n",
    "        if x>=y:\n",
    "            print(\"*\\n\",end=\" \")"
   ]
  },
  {
   "cell_type": "code",
   "execution_count": 21,
   "id": "449059ba",
   "metadata": {},
   "outputs": [
    {
     "name": "stdout",
     "output_type": "stream",
     "text": [
      "2\n",
      "*\n",
      "*\n",
      "*\n",
      "*\n",
      "*\n",
      "*\n"
     ]
    }
   ],
   "source": [
    "p = 1+int(input())\n",
    "for x in range(p):\n",
    "    for y in range(p):\n",
    "        if x>=y:\n",
    "            print(\"*\")"
   ]
  },
  {
   "cell_type": "code",
   "execution_count": 22,
   "id": "c9db1024",
   "metadata": {},
   "outputs": [
    {
     "name": "stdout",
     "output_type": "stream",
     "text": [
      "2\n",
      "\n",
      "\n",
      "*\n",
      "\n",
      "*\n",
      "**\n"
     ]
    }
   ],
   "source": [
    "p = 1+int(input())\n",
    "for x in range(p):\n",
    "    for y in range(p):\n",
    "        if x>=y:\n",
    "            print(\"*\"*y)"
   ]
  },
  {
   "cell_type": "code",
   "execution_count": 24,
   "id": "60580b80",
   "metadata": {},
   "outputs": [
    {
     "name": "stdout",
     "output_type": "stream",
     "text": [
      "3\n",
      "\n",
      "*\n",
      "**\n",
      "***\n",
      "\n",
      "*\n",
      "**\n",
      "***\n",
      "\n",
      "*\n",
      "**\n",
      "***\n",
      "\n",
      "*\n",
      "**\n",
      "***\n"
     ]
    }
   ],
   "source": [
    "p = 1+int(input())\n",
    "for x in range(p):\n",
    "    for y in range(p):\n",
    "        print(\"*\"*y)"
   ]
  },
  {
   "cell_type": "code",
   "execution_count": 25,
   "id": "b76840c6",
   "metadata": {},
   "outputs": [
    {
     "name": "stdout",
     "output_type": "stream",
     "text": [
      "2\n",
      "*********"
     ]
    }
   ],
   "source": [
    "p = 1+int(input())\n",
    "for x in range(p):\n",
    "    for y in range(p):\n",
    "        print(\"*\"*y,end=\"\")"
   ]
  },
  {
   "cell_type": "code",
   "execution_count": 26,
   "id": "13f3cc3f",
   "metadata": {},
   "outputs": [
    {
     "name": "stdout",
     "output_type": "stream",
     "text": [
      "2\n",
      "\n",
      "\n",
      "\n"
     ]
    }
   ],
   "source": [
    "p = 1+int(input())\n",
    "for x in range(p):\n",
    "    for y in range(p):\n",
    "        print(\"*\"*y)\n",
    "        break"
   ]
  },
  {
   "cell_type": "code",
   "execution_count": 29,
   "id": "4026c774",
   "metadata": {},
   "outputs": [
    {
     "name": "stdout",
     "output_type": "stream",
     "text": [
      "3\n",
      "\n",
      "*\n",
      "**\n",
      "***\n",
      "*\n",
      "**\n",
      "***\n",
      "**\n",
      "***\n",
      "***\n"
     ]
    }
   ],
   "source": [
    "p = 1+int(input())\n",
    "for x in range(p):\n",
    "    for y in range(p):\n",
    "        if y>=x:\n",
    "            print(\"*\"*y)"
   ]
  },
  {
   "cell_type": "markdown",
   "id": "a5bd085d",
   "metadata": {},
   "source": [
    "## \"DONE\""
   ]
  },
  {
   "cell_type": "code",
   "execution_count": 33,
   "id": "661c0001",
   "metadata": {},
   "outputs": [
    {
     "name": "stdout",
     "output_type": "stream",
     "text": [
      "6\n",
      "\n",
      "*\n",
      "**\n",
      "***\n",
      "****\n",
      "*****\n",
      "******\n"
     ]
    }
   ],
   "source": [
    "p = 1+int(input())\n",
    "for x in range(p):\n",
    "    for y in range(p):\n",
    "        if y==x:\n",
    "            print(\"*\"*y)"
   ]
  },
  {
   "cell_type": "code",
   "execution_count": 34,
   "id": "a75efcb3",
   "metadata": {},
   "outputs": [
    {
     "name": "stdout",
     "output_type": "stream",
     "text": [
      "5\n",
      " * ** *** **** ***** "
     ]
    }
   ],
   "source": [
    "p = 1+int(input())\n",
    "for x in range(p):\n",
    "    for y in range(p):\n",
    "        if y==x:\n",
    "            print(\"*\"*y, end=\" \")"
   ]
  },
  {
   "cell_type": "markdown",
   "id": "d9a8ecde",
   "metadata": {},
   "source": [
    "## \"DONE\""
   ]
  },
  {
   "cell_type": "code",
   "execution_count": 1,
   "id": "c95080f7",
   "metadata": {},
   "outputs": [
    {
     "name": "stdout",
     "output_type": "stream",
     "text": [
      "6\n",
      "\n",
      "* \n",
      "* * \n",
      "* * * \n",
      "* * * * \n",
      "* * * * * \n",
      "* * * * * * \n"
     ]
    }
   ],
   "source": [
    "p = 1+int(input())\n",
    "for x in range(p):\n",
    "    for y in range(p):\n",
    "        if y==x:\n",
    "            print(\"* \"*y)"
   ]
  },
  {
   "cell_type": "code",
   "execution_count": 2,
   "id": "d042e110",
   "metadata": {},
   "outputs": [
    {
     "name": "stdout",
     "output_type": "stream",
     "text": [
      "6\n"
     ]
    }
   ],
   "source": [
    "p = 1+int(input())\n",
    "for x in range(p):\n",
    "    for y in range(0,p,-1):\n",
    "        if y==x:\n",
    "            print(\"* \"*y)"
   ]
  },
  {
   "cell_type": "code",
   "execution_count": 3,
   "id": "d5b335a6",
   "metadata": {},
   "outputs": [
    {
     "name": "stdout",
     "output_type": "stream",
     "text": [
      "6\n",
      "* \n",
      "* * \n",
      "* * * \n",
      "* * * * \n",
      "* * * * * \n",
      "* * * * * * \n",
      "* * \n",
      "* * * \n",
      "* * * * \n",
      "* * * * * \n",
      "* * * * * * \n",
      "* * * \n",
      "* * * * \n",
      "* * * * * \n",
      "* * * * * * \n",
      "* * * * \n",
      "* * * * * \n",
      "* * * * * * \n",
      "* * * * * \n",
      "* * * * * * \n",
      "* * * * * * \n"
     ]
    }
   ],
   "source": [
    "p = 1+int(input())\n",
    "for x in range(p):\n",
    "    for y in range(p):\n",
    "        if y>x:\n",
    "            print(\"* \"*y)"
   ]
  },
  {
   "cell_type": "code",
   "execution_count": 4,
   "id": "7c0142fd",
   "metadata": {},
   "outputs": [
    {
     "ename": "SyntaxError",
     "evalue": "invalid syntax. Maybe you meant '==' or ':=' instead of '='? (2122331254.py, line 4)",
     "output_type": "error",
     "traceback": [
      "\u001b[1;36m  Cell \u001b[1;32mIn[4], line 4\u001b[1;36m\u001b[0m\n\u001b[1;33m    if y=y+x:\u001b[0m\n\u001b[1;37m       ^\u001b[0m\n\u001b[1;31mSyntaxError\u001b[0m\u001b[1;31m:\u001b[0m invalid syntax. Maybe you meant '==' or ':=' instead of '='?\n"
     ]
    }
   ],
   "source": [
    "p = 1+int(input())\n",
    "for x in range(p):\n",
    "    for y in range(p):\n",
    "        if y=y+x:\n",
    "            print(\"* \"*y)"
   ]
  },
  {
   "cell_type": "code",
   "execution_count": 5,
   "id": "3dbda706",
   "metadata": {},
   "outputs": [
    {
     "name": "stdout",
     "output_type": "stream",
     "text": [
      "5\n",
      "\n",
      "* \n",
      "* * \n",
      "* * * \n",
      "* * * * \n",
      "* * * * * \n"
     ]
    }
   ],
   "source": [
    "p = 1+int(input())\n",
    "for x in range(p):\n",
    "    for y in range(p):\n",
    "        if y==y+x:\n",
    "            print(\"* \"*y)"
   ]
  },
  {
   "cell_type": "code",
   "execution_count": 7,
   "id": "b03488cf",
   "metadata": {},
   "outputs": [
    {
     "name": "stdout",
     "output_type": "stream",
     "text": [
      "4\n",
      "\n",
      "\n",
      "* \n",
      "\n",
      "* \n",
      "* * \n",
      "\n",
      "* \n",
      "* * \n",
      "* * * \n"
     ]
    }
   ],
   "source": [
    "p = 1+int(input())\n",
    "for x in range(p):\n",
    "    for y in range(p):\n",
    "        if y<x:\n",
    "            print(\"* \"*y)"
   ]
  },
  {
   "cell_type": "code",
   "execution_count": 9,
   "id": "df16ef31",
   "metadata": {},
   "outputs": [
    {
     "ename": "IndentationError",
     "evalue": "expected an indented block after 'if' statement on line 4 (1861249879.py, line 5)",
     "output_type": "error",
     "traceback": [
      "\u001b[1;36m  Cell \u001b[1;32mIn[9], line 5\u001b[1;36m\u001b[0m\n\u001b[1;33m    print(\"* \"*y)\u001b[0m\n\u001b[1;37m    ^\u001b[0m\n\u001b[1;31mIndentationError\u001b[0m\u001b[1;31m:\u001b[0m expected an indented block after 'if' statement on line 4\n"
     ]
    }
   ],
   "source": [
    "p = 1+int(input())\n",
    "for x in range(p):\n",
    "    for y in range(p):\n",
    "        if y>x:\n",
    "    print(\"* \"*y)"
   ]
  },
  {
   "cell_type": "code",
   "execution_count": 10,
   "id": "d745014a",
   "metadata": {},
   "outputs": [
    {
     "name": "stdout",
     "output_type": "stream",
     "text": [
      "4\n",
      "* \n",
      "* * \n",
      "* * * \n",
      "* * * * \n",
      "* * * * \n"
     ]
    }
   ],
   "source": [
    "p = 1+int(input())\n",
    "for x in range(p):\n",
    "    for y in range(p):\n",
    "        if y>x:\n",
    "            break\n",
    "    print(\"* \"*y)"
   ]
  },
  {
   "cell_type": "code",
   "execution_count": 11,
   "id": "6bb76993",
   "metadata": {
    "scrolled": true
   },
   "outputs": [
    {
     "name": "stdout",
     "output_type": "stream",
     "text": [
      "5\n"
     ]
    },
    {
     "ename": "NameError",
     "evalue": "name 'P' is not defined",
     "output_type": "error",
     "traceback": [
      "\u001b[1;31m---------------------------------------------------------------------------\u001b[0m",
      "\u001b[1;31mNameError\u001b[0m                                 Traceback (most recent call last)",
      "Cell \u001b[1;32mIn[11], line 4\u001b[0m\n\u001b[0;32m      2\u001b[0m \u001b[38;5;28;01mfor\u001b[39;00m x \u001b[38;5;129;01min\u001b[39;00m \u001b[38;5;28mrange\u001b[39m(p):\n\u001b[0;32m      3\u001b[0m     \u001b[38;5;28;01mfor\u001b[39;00m y \u001b[38;5;129;01min\u001b[39;00m \u001b[38;5;28mrange\u001b[39m(p):\n\u001b[1;32m----> 4\u001b[0m         \u001b[38;5;28;01mif\u001b[39;00m y\u001b[38;5;241m>\u001b[39m\u001b[43mP\u001b[49m:\n\u001b[0;32m      5\u001b[0m             \u001b[38;5;28;01mbreak\u001b[39;00m\n\u001b[0;32m      6\u001b[0m     \u001b[38;5;28mprint\u001b[39m(\u001b[38;5;124m\"\u001b[39m\u001b[38;5;124m* \u001b[39m\u001b[38;5;124m\"\u001b[39m\u001b[38;5;241m*\u001b[39my,end\u001b[38;5;241m=\u001b[39m\u001b[38;5;124m\"\u001b[39m\u001b[38;5;124m\"\u001b[39m)\n",
      "\u001b[1;31mNameError\u001b[0m: name 'P' is not defined"
     ]
    }
   ],
   "source": [
    "p = 1+int(input())\n",
    "for x in range(p):\n",
    "    for y in range(p):\n",
    "        if y>P:\n",
    "            break\n",
    "    print(\"* \"*y,end=\"\")"
   ]
  },
  {
   "cell_type": "code",
   "execution_count": 12,
   "id": "8282ad65",
   "metadata": {},
   "outputs": [
    {
     "name": "stdout",
     "output_type": "stream",
     "text": [
      "5\n",
      "* * * * * * * * * * * * * * * * * * * * * * * * * * * * * * "
     ]
    }
   ],
   "source": [
    "p = 1+int(input())\n",
    "for x in range(p):\n",
    "    for y in range(p):\n",
    "        if y>p:\n",
    "            break\n",
    "    print(\"* \"*y,end=\"\")"
   ]
  },
  {
   "cell_type": "code",
   "execution_count": 13,
   "id": "ad69a4b1",
   "metadata": {},
   "outputs": [
    {
     "name": "stdout",
     "output_type": "stream",
     "text": [
      "6\n"
     ]
    }
   ],
   "source": [
    "p = 1+int(input())\n",
    "for x in range(p):\n",
    "    for y in range(p):\n",
    "        if y>p:\n",
    "            print(\"* \"*y,end=\"\")\n",
    "            break\n",
    "    "
   ]
  },
  {
   "cell_type": "code",
   "execution_count": 16,
   "id": "f9f1e90b",
   "metadata": {},
   "outputs": [
    {
     "name": "stdout",
     "output_type": "stream",
     "text": [
      "6\n"
     ]
    }
   ],
   "source": [
    "p = 1+int(input())\n",
    "for x in range(p):\n",
    "    for y in range(p):\n",
    "        if y<=p:\n",
    "            print(\"* \"*y,end=\"\")\n",
    "            break"
   ]
  },
  {
   "cell_type": "code",
   "execution_count": 17,
   "id": "58b0adfd",
   "metadata": {},
   "outputs": [
    {
     "name": "stdout",
     "output_type": "stream",
     "text": [
      "6\n"
     ]
    }
   ],
   "source": [
    "p = 1+int(input())\n",
    "for x in range(p):\n",
    "    for y in range(p):\n",
    "        if y<p:\n",
    "            print(\"* \"*y,end=\"\")\n",
    "            break"
   ]
  },
  {
   "cell_type": "code",
   "execution_count": 18,
   "id": "8535263c",
   "metadata": {},
   "outputs": [
    {
     "name": "stdout",
     "output_type": "stream",
     "text": [
      "5\n"
     ]
    }
   ],
   "source": [
    "p = 1+int(input())\n",
    "for x in range(p):\n",
    "    for y in range(p):\n",
    "        if y==p:\n",
    "            print(\"* \"*y,end=\"\")\n",
    "            break"
   ]
  },
  {
   "cell_type": "code",
   "execution_count": 20,
   "id": "1c8fe9b7",
   "metadata": {},
   "outputs": [
    {
     "name": "stdout",
     "output_type": "stream",
     "text": [
      "6\n"
     ]
    }
   ],
   "source": [
    "p = 1+int(input())\n",
    "for x in range(p):\n",
    "    for y in range(p):\n",
    "        if y==p:\n",
    "            print(\"* \"*y,end=\"\")"
   ]
  },
  {
   "cell_type": "code",
   "execution_count": 21,
   "id": "7577a37b",
   "metadata": {},
   "outputs": [
    {
     "name": "stdout",
     "output_type": "stream",
     "text": [
      "6\n"
     ]
    }
   ],
   "source": [
    "p = 1+int(input())\n",
    "for x in range(p):\n",
    "    for y in range(p):\n",
    "        if y==p:\n",
    "            print(\"* \"*p,end=\"\")"
   ]
  },
  {
   "cell_type": "code",
   "execution_count": 22,
   "id": "ad9f246e",
   "metadata": {},
   "outputs": [
    {
     "name": "stdout",
     "output_type": "stream",
     "text": [
      "6\n",
      "* * * * * * * * * * * * * * * * * * * * * * * * * * * * * * * * * * * * * * * * * * * * * * * * * * * * * * * * * * * * * * * * * * * * * * * * * * * * * * * * * * * * * * * * * * * * * * * * * * * * * * * * * * * * * * * * * * * * * * * * * * * * * * * * * * * * * * * * * * * * * * * * * * * * * * * * * * * * * * * * * * * * * * * * * * * * * * * * * * * * * * * * * * * * * * * * * * * * * * * * * * * * * * * * * * * * * * * * * * * * * * * * * * * * * * * * * * * * * * * * * * * * * * * * * * * * * * * * * * * * * * * * * * * * * * * * * * * * * * * * * * * * * * * * * * * * * * * * * * * * * * * * * * * * * * * * * * * * * * * * * * * * * * * * * * * * * * * * * * * * * * * "
     ]
    }
   ],
   "source": [
    "p = 1+int(input())\n",
    "for x in range(p):\n",
    "    for y in range(p):\n",
    "        if y<p:\n",
    "            print(\"* \"*p,end=\"\")"
   ]
  },
  {
   "cell_type": "code",
   "execution_count": 24,
   "id": "cb69f24f",
   "metadata": {},
   "outputs": [
    {
     "name": "stdout",
     "output_type": "stream",
     "text": [
      "3\n",
      "* * * * \n",
      "* * * * \n",
      "* * * * \n",
      "* * * * \n",
      "* * * * \n",
      "* * * * \n",
      "* * * * \n",
      "* * * * \n",
      "* * * * \n",
      "* * * * \n",
      "* * * * \n",
      "* * * * \n",
      "* * * * \n",
      "* * * * \n",
      "* * * * \n",
      "* * * * \n"
     ]
    }
   ],
   "source": [
    "p = 1+int(input())\n",
    "for x in range(p):\n",
    "    for y in range(p):\n",
    "        if y<p:\n",
    "            print(\"* \"*p)"
   ]
  },
  {
   "cell_type": "code",
   "execution_count": 26,
   "id": "465c3741",
   "metadata": {},
   "outputs": [
    {
     "name": "stdout",
     "output_type": "stream",
     "text": [
      "2\n",
      "* * * \n",
      "* * * \n",
      "* * * \n",
      "* * * \n",
      "* * * \n",
      "* * * \n",
      "* * * \n",
      "* * * \n",
      "* * * \n"
     ]
    }
   ],
   "source": [
    "p = 1+int(input())\n",
    "for x in range(p):\n",
    "    for y in range(p):\n",
    "        print(\"* \"*p)"
   ]
  },
  {
   "cell_type": "markdown",
   "id": "d225c98b",
   "metadata": {},
   "source": [
    "## \"DONE\""
   ]
  },
  {
   "cell_type": "code",
   "execution_count": 27,
   "id": "7df48e29",
   "metadata": {},
   "outputs": [
    {
     "name": "stdout",
     "output_type": "stream",
     "text": [
      "5\n",
      "* * * * * \n",
      "* * * * \n",
      "* * * \n",
      "* * \n",
      "* \n",
      "\n"
     ]
    }
   ],
   "source": [
    "p = 1+int(input())\n",
    "for x in range(p):\n",
    "    for y in range(p):\n",
    "        p=p-1\n",
    "        print(\"* \"*p)"
   ]
  },
  {
   "cell_type": "markdown",
   "id": "74d18284",
   "metadata": {},
   "source": [
    "## \"DONE\""
   ]
  },
  {
   "cell_type": "code",
   "execution_count": 29,
   "id": "620afcb6",
   "metadata": {},
   "outputs": [
    {
     "name": "stdout",
     "output_type": "stream",
     "text": [
      "6\n",
      "******\n",
      "*****\n",
      "****\n",
      "***\n",
      "**\n",
      "*\n",
      "\n"
     ]
    }
   ],
   "source": [
    "p = 1+int(input())\n",
    "for x in range(p):\n",
    "    for y in range(p):\n",
    "        p=p-1\n",
    "        print(\"*\"*p)"
   ]
  },
  {
   "cell_type": "code",
   "execution_count": null,
   "id": "7494d5aa",
   "metadata": {},
   "outputs": [],
   "source": []
  },
  {
   "cell_type": "code",
   "execution_count": null,
   "id": "894d828e",
   "metadata": {},
   "outputs": [],
   "source": []
  },
  {
   "cell_type": "code",
   "execution_count": null,
   "id": "8a3ff9fb",
   "metadata": {},
   "outputs": [],
   "source": []
  },
  {
   "cell_type": "code",
   "execution_count": 33,
   "id": "dec0f6fc",
   "metadata": {},
   "outputs": [
    {
     "name": "stdout",
     "output_type": "stream",
     "text": [
      "5\n",
      "******\n",
      "*****\n",
      "****\n",
      "***\n",
      "**\n",
      "*\n"
     ]
    }
   ],
   "source": [
    "p = 1+int(input())\n",
    "for x in range(p):\n",
    "    for y in range(p):\n",
    "        print(\"*\"*p)\n",
    "        p=p-1"
   ]
  },
  {
   "cell_type": "code",
   "execution_count": 34,
   "id": "eb0a1ddf",
   "metadata": {},
   "outputs": [
    {
     "name": "stdout",
     "output_type": "stream",
     "text": [
      "2\n",
      "***\n",
      "****\n",
      "*****\n",
      "******\n",
      "*******\n",
      "********\n",
      "*********\n",
      "**********\n",
      "***********\n",
      "************\n",
      "*************\n",
      "**************\n",
      "***************\n",
      "****************\n",
      "*****************\n",
      "******************\n",
      "*******************\n",
      "********************\n",
      "*********************\n",
      "**********************\n",
      "***********************\n"
     ]
    }
   ],
   "source": [
    "p = 1+int(input())\n",
    "for x in range(p):\n",
    "    for y in range(p):\n",
    "        print(\"*\"*p)\n",
    "        p=p+1"
   ]
  },
  {
   "cell_type": "code",
   "execution_count": 36,
   "id": "dfa1f89e",
   "metadata": {},
   "outputs": [
    {
     "name": "stdout",
     "output_type": "stream",
     "text": [
      "2\n",
      "**\n",
      "***\n",
      "****\n",
      "*****\n",
      "******\n",
      "*******\n",
      "********\n",
      "*********\n",
      "**********\n",
      "***********\n",
      "************\n",
      "*************\n",
      "**************\n",
      "***************\n",
      "****************\n",
      "*****************\n",
      "******************\n",
      "*******************\n",
      "********************\n",
      "*********************\n",
      "**********************\n"
     ]
    }
   ],
   "source": [
    "p = 1+int(input())\n",
    "for x in range(p):\n",
    "    for y in range(p):\n",
    "        print(\"*\"*(p-1))\n",
    "        p=p+1"
   ]
  },
  {
   "cell_type": "code",
   "execution_count": 38,
   "id": "f49cea1b",
   "metadata": {},
   "outputs": [
    {
     "name": "stdout",
     "output_type": "stream",
     "text": [
      "3\n",
      "\n",
      "***\n",
      "*\n",
      "**\n"
     ]
    }
   ],
   "source": [
    "p = 1+int(input())\n",
    "for x in range(p):\n",
    "    for y in range(p):\n",
    "        if y==x:\n",
    "            print(\"*\"*y)\n",
    "            p=p-1\n",
    "            print(\"*\"*p)"
   ]
  },
  {
   "cell_type": "code",
   "execution_count": 3,
   "id": "82252129",
   "metadata": {},
   "outputs": [
    {
     "ename": "SyntaxError",
     "evalue": "invalid syntax. Maybe you meant '==' or ':=' instead of '='? (2376999792.py, line 6)",
     "output_type": "error",
     "traceback": [
      "\u001b[1;36m  Cell \u001b[1;32mIn[3], line 6\u001b[1;36m\u001b[0m\n\u001b[1;33m    if p=p-1:\u001b[0m\n\u001b[1;37m       ^\u001b[0m\n\u001b[1;31mSyntaxError\u001b[0m\u001b[1;31m:\u001b[0m invalid syntax. Maybe you meant '==' or ':=' instead of '='?\n"
     ]
    }
   ],
   "source": [
    "p = 1+int(input())\n",
    "for x in range(p):\n",
    "    for y in range(p):\n",
    "        if y==x:\n",
    "            print(\"*\"*y)\n",
    "        if p=p-1:\n",
    "            print(\"*\"*p)"
   ]
  },
  {
   "cell_type": "code",
   "execution_count": 4,
   "id": "f9bf3245",
   "metadata": {},
   "outputs": [
    {
     "name": "stdout",
     "output_type": "stream",
     "text": [
      "3\n",
      "\n",
      "*\n",
      "**\n",
      "***\n"
     ]
    }
   ],
   "source": [
    "p = 1+int(input())\n",
    "for x in range(p):\n",
    "    for y in range(p):\n",
    "        if y==x:\n",
    "            print(\"*\"*y)\n",
    "        if p==p-1:\n",
    "            print(\"*\"*p)"
   ]
  },
  {
   "cell_type": "code",
   "execution_count": 5,
   "id": "ee10434d",
   "metadata": {},
   "outputs": [
    {
     "name": "stdout",
     "output_type": "stream",
     "text": [
      "3\n",
      "\n",
      "*\n",
      "**\n",
      "***\n"
     ]
    }
   ],
   "source": [
    "p = 1+int(input())\n",
    "for x in range(p):\n",
    "    for y in range(p):\n",
    "        if y==x:\n",
    "            print(\"*\"*y)\n",
    "    if p==p-1:\n",
    "        print(\"*\"*p)"
   ]
  },
  {
   "cell_type": "code",
   "execution_count": 6,
   "id": "136ecbc1",
   "metadata": {},
   "outputs": [
    {
     "ename": "SyntaxError",
     "evalue": "invalid syntax (2550848798.py, line 4)",
     "output_type": "error",
     "traceback": [
      "\u001b[1;36m  Cell \u001b[1;32mIn[6], line 4\u001b[1;36m\u001b[0m\n\u001b[1;33m    y==x:\u001b[0m\n\u001b[1;37m        ^\u001b[0m\n\u001b[1;31mSyntaxError\u001b[0m\u001b[1;31m:\u001b[0m invalid syntax\n"
     ]
    }
   ],
   "source": [
    "p = 1+int(input())\n",
    "for x in range(p):\n",
    "    for y in range(p):\n",
    "        y==x:\n",
    "        print(\"*\"*y)\n",
    "        p==p-1:\n",
    "        print(\"*\"*p)"
   ]
  },
  {
   "cell_type": "code",
   "execution_count": 7,
   "id": "57ab23bc",
   "metadata": {},
   "outputs": [
    {
     "name": "stdout",
     "output_type": "stream",
     "text": [
      "3\n",
      "\n",
      "****\n",
      "*\n",
      "****\n",
      "**\n",
      "****\n",
      "***\n",
      "****\n",
      "\n",
      "****\n",
      "*\n",
      "****\n",
      "**\n",
      "****\n",
      "***\n",
      "****\n",
      "\n",
      "****\n",
      "*\n",
      "****\n",
      "**\n",
      "****\n",
      "***\n",
      "****\n",
      "\n",
      "****\n",
      "*\n",
      "****\n",
      "**\n",
      "****\n",
      "***\n",
      "****\n"
     ]
    }
   ],
   "source": [
    "p = 1+int(input())\n",
    "for x in range(p):\n",
    "    for y in range(p):\n",
    "        y==x\n",
    "        print(\"*\"*y)\n",
    "        p==p-1\n",
    "        print(\"*\"*p)"
   ]
  },
  {
   "cell_type": "code",
   "execution_count": 12,
   "id": "102ac718",
   "metadata": {
    "scrolled": true
   },
   "outputs": [
    {
     "name": "stdout",
     "output_type": "stream",
     "text": [
      "3\n",
      "\n",
      "\n",
      "\n",
      "\n"
     ]
    }
   ],
   "source": [
    "p = 1+int(input())\n",
    "for x in range(p):\n",
    "    for y in range(p):\n",
    "        y==x\n",
    "        print(\"*\"*y)\n",
    "        break\n",
    "        p==p-1\n",
    "        print(\"*\"*p)"
   ]
  },
  {
   "cell_type": "code",
   "execution_count": null,
   "id": "e5dfe762",
   "metadata": {},
   "outputs": [],
   "source": []
  },
  {
   "cell_type": "code",
   "execution_count": null,
   "id": "91967588",
   "metadata": {},
   "outputs": [],
   "source": []
  },
  {
   "cell_type": "code",
   "execution_count": null,
   "id": "d20b6b78",
   "metadata": {},
   "outputs": [],
   "source": []
  },
  {
   "cell_type": "code",
   "execution_count": 40,
   "id": "fa0edcf5",
   "metadata": {},
   "outputs": [
    {
     "name": "stdout",
     "output_type": "stream",
     "text": [
      "3\n",
      "\n",
      "***\n",
      "**\n",
      "*\n",
      "\n"
     ]
    }
   ],
   "source": [
    "p = 1+int(input())\n",
    "for x in range(p):\n",
    "    for y in range(p):\n",
    "        if y==x:\n",
    "            print(\"*\"*y)\n",
    "        p=p-1\n",
    "        print(\"*\"*p)"
   ]
  },
  {
   "cell_type": "code",
   "execution_count": 2,
   "id": "3d152809",
   "metadata": {},
   "outputs": [
    {
     "ename": "IndentationError",
     "evalue": "expected an indented block after 'for' statement on line 3 (3413323930.py, line 4)",
     "output_type": "error",
     "traceback": [
      "\u001b[1;36m  Cell \u001b[1;32mIn[2], line 4\u001b[1;36m\u001b[0m\n\u001b[1;33m    p=p-1\u001b[0m\n\u001b[1;37m    ^\u001b[0m\n\u001b[1;31mIndentationError\u001b[0m\u001b[1;31m:\u001b[0m expected an indented block after 'for' statement on line 3\n"
     ]
    }
   ],
   "source": [
    "p = 1+int(input())\n",
    "for x in range(p):\n",
    "    for y in range(p):\n",
    "    p=p-1\n",
    "    print(\"*\"*p)\n",
    "        if y==x:\n",
    "            print(\"*\"*y)"
   ]
  },
  {
   "cell_type": "code",
   "execution_count": 1,
   "id": "40d9f759",
   "metadata": {},
   "outputs": [
    {
     "ename": "IndentationError",
     "evalue": "expected an indented block after 'if' statement on line 4 (3141159267.py, line 5)",
     "output_type": "error",
     "traceback": [
      "\u001b[1;36m  Cell \u001b[1;32mIn[1], line 5\u001b[1;36m\u001b[0m\n\u001b[1;33m    print(\"*\"*y)\u001b[0m\n\u001b[1;37m    ^\u001b[0m\n\u001b[1;31mIndentationError\u001b[0m\u001b[1;31m:\u001b[0m expected an indented block after 'if' statement on line 4\n"
     ]
    }
   ],
   "source": [
    "p = 1+int(input())\n",
    "for x in range(p):\n",
    "    for y in range(p):\n",
    "        if y==x:\n",
    "        print(\"*\"*y)\n",
    "#       p=p-1\n",
    "#       print(\"*\"*p)"
   ]
  },
  {
   "cell_type": "code",
   "execution_count": 3,
   "id": "c52d855c",
   "metadata": {},
   "outputs": [
    {
     "ename": "SyntaxError",
     "evalue": "invalid syntax (1098002309.py, line 6)",
     "output_type": "error",
     "traceback": [
      "\u001b[1;36m  Cell \u001b[1;32mIn[3], line 6\u001b[1;36m\u001b[0m\n\u001b[1;33m    for p==p-1:\u001b[0m\n\u001b[1;37m         ^\u001b[0m\n\u001b[1;31mSyntaxError\u001b[0m\u001b[1;31m:\u001b[0m invalid syntax\n"
     ]
    }
   ],
   "source": [
    "p = 1+int(input())\n",
    "for x in range(p):\n",
    "    for y in range(p):\n",
    "        if y==x:\n",
    "            print(\"*\"*y)\n",
    "    for p==p-1:\n",
    "        print(\"*\"*p)"
   ]
  },
  {
   "cell_type": "code",
   "execution_count": 4,
   "id": "b3888ae1",
   "metadata": {},
   "outputs": [
    {
     "name": "stdout",
     "output_type": "stream",
     "text": [
      "4\n",
      "\n",
      "*****\n",
      "*****\n",
      "*****\n",
      "*****\n",
      "*****\n",
      "*\n",
      "*****\n",
      "*****\n",
      "*****\n",
      "*****\n",
      "*****\n",
      "**\n",
      "*****\n",
      "*****\n",
      "*****\n",
      "*****\n",
      "*****\n",
      "***\n",
      "*****\n",
      "*****\n",
      "*****\n",
      "*****\n",
      "*****\n",
      "****\n",
      "*****\n",
      "*****\n",
      "*****\n",
      "*****\n",
      "*****\n"
     ]
    }
   ],
   "source": [
    "p = 1+int(input())\n",
    "for x in range(p):\n",
    "    for y in range(p):\n",
    "        if y==x:\n",
    "            print(\"*\"*y)\n",
    "    for y in range(p):\n",
    "        p==p-1\n",
    "        print(\"*\"*p)"
   ]
  },
  {
   "cell_type": "code",
   "execution_count": 5,
   "id": "37076c3e",
   "metadata": {},
   "outputs": [
    {
     "name": "stdout",
     "output_type": "stream",
     "text": [
      "4\n",
      "\n",
      "*\n",
      "**\n",
      "***\n",
      "****\n",
      "*****\n",
      "*****\n",
      "*****\n",
      "*****\n",
      "*****\n"
     ]
    }
   ],
   "source": [
    "p = 1+int(input())\n",
    "for x in range(p):\n",
    "    for y in range(p):\n",
    "        if y==x:\n",
    "            print(\"*\"*y)\n",
    "for y in range(p):\n",
    "    p==p-1\n",
    "    print(\"*\"*p)"
   ]
  },
  {
   "cell_type": "markdown",
   "id": "b0d95007",
   "metadata": {},
   "source": [
    "<font size = 5.5> \"DONE\""
   ]
  },
  {
   "cell_type": "code",
   "execution_count": 6,
   "id": "46df8fc1",
   "metadata": {},
   "outputs": [
    {
     "name": "stdout",
     "output_type": "stream",
     "text": [
      "5\n",
      "\n",
      "*\n",
      "**\n",
      "***\n",
      "****\n",
      "*****\n",
      "*****\n",
      "****\n",
      "***\n",
      "**\n",
      "*\n",
      "\n"
     ]
    }
   ],
   "source": [
    "p = 1+int(input())\n",
    "for x in range(p):\n",
    "    for y in range(p):\n",
    "        if y==x:\n",
    "            print(\"*\"*y)\n",
    "for y in range(p):\n",
    "    p=p-1\n",
    "    print(\"*\"*p)"
   ]
  },
  {
   "cell_type": "code",
   "execution_count": 7,
   "id": "aacd2aa8",
   "metadata": {},
   "outputs": [
    {
     "name": "stdout",
     "output_type": "stream",
     "text": [
      "3\n",
      "\t\n",
      "\n",
      "\t\n",
      "*\n",
      "\t\n",
      "**\n",
      "\t\n",
      "***\n"
     ]
    }
   ],
   "source": [
    "p = 1+int(input())\n",
    "for x in range(p):\n",
    "    for y in range(p):\n",
    "        if y==x:\n",
    "            print(\"\\t\")\n",
    "            print(\"*\"*y)"
   ]
  },
  {
   "cell_type": "code",
   "execution_count": 10,
   "id": "5e3b5910",
   "metadata": {},
   "outputs": [
    {
     "name": "stdout",
     "output_type": "stream",
     "text": [
      "3\n",
      "\n",
      "\t*\n",
      "\t*\t*\n",
      "\t*\t*\t*\n"
     ]
    }
   ],
   "source": [
    "p = 1+int(input())\n",
    "for x in range(p):\n",
    "    for y in range(p):\n",
    "        if y==x:\n",
    "            print(\"\\t\" \"*\"*y)"
   ]
  },
  {
   "cell_type": "code",
   "execution_count": 11,
   "id": "8d6825d5",
   "metadata": {},
   "outputs": [
    {
     "name": "stdout",
     "output_type": "stream",
     "text": [
      "3\n",
      "\t\t*\t**\t***"
     ]
    }
   ],
   "source": [
    "p = 1+int(input())\n",
    "for x in range(p):\n",
    "    for y in range(p):\n",
    "        if y==x:\n",
    "            print(\"\\t\",end= \"*\"*y)"
   ]
  },
  {
   "cell_type": "code",
   "execution_count": 12,
   "id": "55583cab",
   "metadata": {},
   "outputs": [
    {
     "name": "stdout",
     "output_type": "stream",
     "text": [
      "3\n",
      "\t\n",
      "\t*\n",
      "\t**\n",
      "\t***\n"
     ]
    }
   ],
   "source": [
    "p = 1+int(input())\n",
    "for x in range(p):\n",
    "    for y in range(p):\n",
    "        if y==x:\n",
    "            print(\"\\t\",end= \"*\"*y)\n",
    "            print()"
   ]
  },
  {
   "cell_type": "code",
   "execution_count": 13,
   "id": "6e780ae5",
   "metadata": {},
   "outputs": [
    {
     "name": "stdout",
     "output_type": "stream",
     "text": [
      "3\n",
      "\t\n",
      "\t*\n"
     ]
    }
   ],
   "source": [
    "p = 1+int(input())\n",
    "for x in range(p):\n",
    "    for y in range(p):\n",
    "        if y==x:\n",
    "            p=p-1\n",
    "            print(\"\\t\",end= \"*\"*y)\n",
    "            print()"
   ]
  },
  {
   "cell_type": "code",
   "execution_count": 14,
   "id": "8ea482d6",
   "metadata": {},
   "outputs": [
    {
     "name": "stdout",
     "output_type": "stream",
     "text": [
      "3\n",
      "\t\n",
      "\t\n",
      "\t*\n",
      "\t\n",
      "\t*\n",
      "\t**\n",
      "\t\n",
      "\t*\n",
      "\t**\n",
      "\t***\n"
     ]
    }
   ],
   "source": [
    "p = 1+int(input())\n",
    "for x in range(p):\n",
    "    for y in range(p):\n",
    "        if y<=x:\n",
    "            print(\"\\t\",end= \"*\"*y)\n",
    "            print()"
   ]
  },
  {
   "cell_type": "code",
   "execution_count": 15,
   "id": "4394364c",
   "metadata": {},
   "outputs": [
    {
     "ename": "SyntaxError",
     "evalue": "invalid syntax. Maybe you meant '==' or ':=' instead of '='? (4215544778.py, line 4)",
     "output_type": "error",
     "traceback": [
      "\u001b[1;36m  Cell \u001b[1;32mIn[15], line 4\u001b[1;36m\u001b[0m\n\u001b[1;33m    if y=x:\u001b[0m\n\u001b[1;37m       ^\u001b[0m\n\u001b[1;31mSyntaxError\u001b[0m\u001b[1;31m:\u001b[0m invalid syntax. Maybe you meant '==' or ':=' instead of '='?\n"
     ]
    }
   ],
   "source": [
    "p = 1+int(input())\n",
    "for x in range(p):\n",
    "    for y in range(p):\n",
    "        if y=x:\n",
    "            y,x=x,y\n",
    "            print(\"\\t\",end= \"*\"*y)\n",
    "            print()"
   ]
  },
  {
   "cell_type": "code",
   "execution_count": 16,
   "id": "66ff2dde",
   "metadata": {},
   "outputs": [
    {
     "name": "stdout",
     "output_type": "stream",
     "text": [
      "3\n",
      "\t\n",
      "\t*\n",
      "\t**\n",
      "\t***\n"
     ]
    }
   ],
   "source": [
    "p = 1+int(input())\n",
    "for x in range(p):\n",
    "    for y in range(p):\n",
    "        if y==x:\n",
    "            y,x=x,y\n",
    "            print(\"\\t\",end= \"*\"*y)\n",
    "            print()"
   ]
  },
  {
   "cell_type": "code",
   "execution_count": 17,
   "id": "c94b7069",
   "metadata": {},
   "outputs": [
    {
     "name": "stdout",
     "output_type": "stream",
     "text": [
      "3\n",
      "\n",
      "*\n",
      "**\n",
      "***\n"
     ]
    }
   ],
   "source": [
    "p = 1+int(input())\n",
    "for x in range(p):\n",
    "    for y in range(p):\n",
    "        if y==x:\n",
    "            print(\"*\"*y, end=\"\")\n",
    "            print()"
   ]
  },
  {
   "cell_type": "code",
   "execution_count": 18,
   "id": "cd96d820",
   "metadata": {},
   "outputs": [
    {
     "name": "stdout",
     "output_type": "stream",
     "text": [
      "3\n",
      "\t\n",
      "*\t\n",
      "**\t\n",
      "***\t\n"
     ]
    }
   ],
   "source": [
    "p = 1+int(input())\n",
    "for x in range(p):\n",
    "    for y in range(p):\n",
    "        if y==x:\n",
    "            print(\"*\"*y, end=\"\\t\")\n",
    "            print()"
   ]
  },
  {
   "cell_type": "code",
   "execution_count": 19,
   "id": "d322a7e9",
   "metadata": {},
   "outputs": [
    {
     "name": "stdout",
     "output_type": "stream",
     "text": [
      "3\n",
      "\t*\t**\t***\t"
     ]
    }
   ],
   "source": [
    "p = 1+int(input())\n",
    "for x in range(p):\n",
    "    for y in range(p):\n",
    "        if y==x:\n",
    "            print(\"*\"*y, end=\"\\t\")"
   ]
  },
  {
   "cell_type": "code",
   "execution_count": 20,
   "id": "6a7967ca",
   "metadata": {},
   "outputs": [
    {
     "name": "stdout",
     "output_type": "stream",
     "text": [
      "3\n",
      "\n",
      "*\n",
      "**\n",
      "***\n"
     ]
    }
   ],
   "source": [
    "p = 1+int(input())\n",
    "for x in range(p):\n",
    "    for y in range(p):\n",
    "        if y==x:\n",
    "            print(\"*\"*y, end=\"\\r\")\n",
    "            print()"
   ]
  },
  {
   "cell_type": "code",
   "execution_count": 21,
   "id": "890c6670",
   "metadata": {},
   "outputs": [
    {
     "name": "stdout",
     "output_type": "stream",
     "text": [
      "3\n",
      "***\r"
     ]
    }
   ],
   "source": [
    "p = 1+int(input())\n",
    "for x in range(p):\n",
    "    for y in range(p):\n",
    "        if y==x:\n",
    "            print(\"*\"*y, end=\"\\r\")"
   ]
  },
  {
   "cell_type": "code",
   "execution_count": 2,
   "id": "85400856",
   "metadata": {},
   "outputs": [
    {
     "ename": "SyntaxError",
     "evalue": "invalid syntax. Perhaps you forgot a comma? (3586736364.py, line 5)",
     "output_type": "error",
     "traceback": [
      "\u001b[1;36m  Cell \u001b[1;32mIn[2], line 5\u001b[1;36m\u001b[0m\n\u001b[1;33m    print(\"\\t\"print(\"*\"*y, end=\"\"))\u001b[0m\n\u001b[1;37m          ^\u001b[0m\n\u001b[1;31mSyntaxError\u001b[0m\u001b[1;31m:\u001b[0m invalid syntax. Perhaps you forgot a comma?\n"
     ]
    }
   ],
   "source": [
    "p = 1+int(input())\n",
    "for x in range(p):\n",
    "    for y in range(p):\n",
    "        if y==x:\n",
    "            print(\"\\t\"print(\"*\"*y, end=\"\"))\n",
    "            print()"
   ]
  },
  {
   "cell_type": "code",
   "execution_count": 3,
   "id": "53d1fd7a",
   "metadata": {},
   "outputs": [
    {
     "name": "stdout",
     "output_type": "stream",
     "text": [
      "3\n",
      "\t None\n",
      "\n",
      "*\t None\n",
      "\n",
      "**\t None\n",
      "\n",
      "***\t None\n",
      "\n"
     ]
    }
   ],
   "source": [
    "p = 1+int(input())\n",
    "for x in range(p):\n",
    "    for y in range(p):\n",
    "        if y==x:\n",
    "            print(\"\\t\",print(\"*\"*y, end=\"\"))\n",
    "            print()"
   ]
  },
  {
   "cell_type": "code",
   "execution_count": null,
   "id": "c77386c0",
   "metadata": {},
   "outputs": [],
   "source": [
    "p = 1+int(input())\n",
    "for x in range(p):\n",
    "    for y in range(p):\n",
    "        if y==x:\n",
    "            print(\"*\"*y, end=\"\")\n",
    "            print()"
   ]
  },
  {
   "cell_type": "code",
   "execution_count": null,
   "id": "dbeed8f5",
   "metadata": {},
   "outputs": [],
   "source": []
  },
  {
   "cell_type": "code",
   "execution_count": null,
   "id": "be746afb",
   "metadata": {},
   "outputs": [],
   "source": [
    "p = 1+int(input())\n",
    "for x in range(p):\n",
    "    for y in range(p):\n",
    "        if y==x:\n",
    "            print(\"* \"*y)"
   ]
  },
  {
   "cell_type": "code",
   "execution_count": 32,
   "id": "ddfc2709",
   "metadata": {},
   "outputs": [
    {
     "name": "stdout",
     "output_type": "stream",
     "text": [
      "3\n",
      "\n",
      "\t* \n",
      "\t* \t* \n",
      "\t* \t* \t* \n"
     ]
    }
   ],
   "source": [
    "p = 1+int(input())\n",
    "for x in range(p):\n",
    "    for y in range(p):\n",
    "        if y==x:\n",
    "            print(\"\\t* \"*y)"
   ]
  },
  {
   "cell_type": "code",
   "execution_count": null,
   "id": "0657fd9d",
   "metadata": {},
   "outputs": [],
   "source": [
    "p = 1+int(input())\n",
    "for x in range(p):\n",
    "    for y in range(p):\n",
    "        if y==x:\n",
    "            print(\"\\t* \"*y)"
   ]
  },
  {
   "cell_type": "code",
   "execution_count": null,
   "id": "03c10e8c",
   "metadata": {},
   "outputs": [],
   "source": []
  },
  {
   "cell_type": "code",
   "execution_count": null,
   "id": "1b829ab6",
   "metadata": {},
   "outputs": [],
   "source": []
  },
  {
   "cell_type": "markdown",
   "id": "12eb8f52",
   "metadata": {},
   "source": [
    "# for_loop in one line"
   ]
  },
  {
   "cell_type": "code",
   "execution_count": 12,
   "id": "748ea0cd",
   "metadata": {},
   "outputs": [
    {
     "name": "stdout",
     "output_type": "stream",
     "text": [
      "[0, 1, 2, 3]\n"
     ]
    }
   ],
   "source": [
    "lst=[]\n",
    "for x in range(0,4): lst.append(x)\n",
    "print(lst)"
   ]
  },
  {
   "cell_type": "code",
   "execution_count": 21,
   "id": "6db43b11",
   "metadata": {},
   "outputs": [
    {
     "name": "stdout",
     "output_type": "stream",
     "text": [
      "[1, 2, 3, 4, 5, 0, 1, 4, 9]\n"
     ]
    }
   ],
   "source": [
    "lst=[1,2,3,4,5]\n",
    "for x in range(0,4):\n",
    "    x = x**2\n",
    "    print(x)\n",
    "    lst.append(x)\n",
    "print(lst)"
   ]
  },
  {
   "cell_type": "code",
   "execution_count": 14,
   "id": "48e45849",
   "metadata": {},
   "outputs": [
    {
     "name": "stdout",
     "output_type": "stream",
     "text": [
      "1\n",
      "4\n",
      "9\n",
      "16\n",
      "25\n",
      "[1, 2, 3, 4, 5, 1, 4, 9, 16, 25]\n"
     ]
    }
   ],
   "source": [
    "lst=[1,2,3,4,5]\n",
    "for x in range(1,6):\n",
    "    x = x**2\n",
    "    print(x)\n",
    "    lst.append(x)\n",
    "print(lst)"
   ]
  },
  {
   "cell_type": "code",
   "execution_count": 15,
   "id": "78a7c61d",
   "metadata": {},
   "outputs": [
    {
     "name": "stdout",
     "output_type": "stream",
     "text": [
      "1\n"
     ]
    },
    {
     "ename": "TypeError",
     "evalue": "'int' object does not support item deletion",
     "output_type": "error",
     "traceback": [
      "\u001b[1;31m---------------------------------------------------------------------------\u001b[0m",
      "\u001b[1;31mTypeError\u001b[0m                                 Traceback (most recent call last)",
      "Cell \u001b[1;32mIn[15], line 6\u001b[0m\n\u001b[0;32m      4\u001b[0m     \u001b[38;5;28mprint\u001b[39m(x)\n\u001b[0;32m      5\u001b[0m     lst\u001b[38;5;241m.\u001b[39mappend(x)\n\u001b[1;32m----> 6\u001b[0m     \u001b[38;5;28;01mdel\u001b[39;00m x[\u001b[38;5;241m0\u001b[39m]\n\u001b[0;32m      7\u001b[0m \u001b[38;5;28mprint\u001b[39m(lst)\n",
      "\u001b[1;31mTypeError\u001b[0m: 'int' object does not support item deletion"
     ]
    }
   ],
   "source": [
    "lst=[1,2,3,4,5]\n",
    "for x in range(1,6):\n",
    "    x = x**2\n",
    "    print(x)\n",
    "    lst.append(x)\n",
    "    del x[0]\n",
    "print(lst)"
   ]
  },
  {
   "cell_type": "code",
   "execution_count": 4,
   "id": "beccc1d6",
   "metadata": {},
   "outputs": [
    {
     "name": "stdout",
     "output_type": "stream",
     "text": [
      "[1, 2, 3, 4, 5]\n",
      "2351072694656\n",
      "1\n",
      "4\n",
      "9\n",
      "16\n",
      "25\n",
      "[1, 4, 9, 16, 25]\n",
      "2351072694656\n"
     ]
    }
   ],
   "source": [
    "# Square each number inside a list and finally print list\n",
    "lst=[1,2,3,4,5]\n",
    "print(lst)\n",
    "print(id(lst))\n",
    "for x in range(1,6):\n",
    "    lst.remove(x)\n",
    "    x = x**2\n",
    "    print(x)\n",
    "    lst.append(x)\n",
    "print(lst)\n",
    "print(id(lst))"
   ]
  },
  {
   "cell_type": "markdown",
   "id": "344ecfcc",
   "metadata": {},
   "source": [
    "## \"Different question\""
   ]
  },
  {
   "cell_type": "code",
   "execution_count": 1,
   "id": "46b83dbf",
   "metadata": {},
   "outputs": [
    {
     "name": "stdout",
     "output_type": "stream",
     "text": [
      "[1, 3, 5, 7, 9]\n",
      "2647176006592\n",
      "1\n"
     ]
    },
    {
     "ename": "ValueError",
     "evalue": "list.remove(x): x not in list",
     "output_type": "error",
     "traceback": [
      "\u001b[1;31m---------------------------------------------------------------------------\u001b[0m",
      "\u001b[1;31mValueError\u001b[0m                                Traceback (most recent call last)",
      "Cell \u001b[1;32mIn[1], line 5\u001b[0m\n\u001b[0;32m      3\u001b[0m \u001b[38;5;28mprint\u001b[39m(\u001b[38;5;28mid\u001b[39m(lst))\n\u001b[0;32m      4\u001b[0m \u001b[38;5;28;01mfor\u001b[39;00m x \u001b[38;5;129;01min\u001b[39;00m \u001b[38;5;28mrange\u001b[39m(\u001b[38;5;241m1\u001b[39m,\u001b[38;5;241m6\u001b[39m):\n\u001b[1;32m----> 5\u001b[0m     \u001b[43mlst\u001b[49m\u001b[38;5;241;43m.\u001b[39;49m\u001b[43mremove\u001b[49m\u001b[43m(\u001b[49m\u001b[43mx\u001b[49m\u001b[43m)\u001b[49m\n\u001b[0;32m      6\u001b[0m     x \u001b[38;5;241m=\u001b[39m x\u001b[38;5;241m*\u001b[39m\u001b[38;5;241m*\u001b[39m\u001b[38;5;241m2\u001b[39m\n\u001b[0;32m      7\u001b[0m     \u001b[38;5;28mprint\u001b[39m(x)\n",
      "\u001b[1;31mValueError\u001b[0m: list.remove(x): x not in list"
     ]
    }
   ],
   "source": [
    "lst=[1,3,5,7,9]\n",
    "print(lst)\n",
    "print(id(lst))\n",
    "for x in range(1,6):\n",
    "    lst.remove(x)\n",
    "    x = x**2\n",
    "    print(x)\n",
    "    lst.append(x)\n",
    "print(lst)\n",
    "print(id(lst))"
   ]
  },
  {
   "cell_type": "code",
   "execution_count": 2,
   "id": "da008504",
   "metadata": {},
   "outputs": [
    {
     "name": "stdout",
     "output_type": "stream",
     "text": [
      "[1, 3, 5, 7, 9]\n",
      "2647204239360\n"
     ]
    },
    {
     "ename": "TypeError",
     "evalue": "list indices must be integers or slices, not tuple",
     "output_type": "error",
     "traceback": [
      "\u001b[1;31m---------------------------------------------------------------------------\u001b[0m",
      "\u001b[1;31mTypeError\u001b[0m                                 Traceback (most recent call last)",
      "Cell \u001b[1;32mIn[2], line 4\u001b[0m\n\u001b[0;32m      2\u001b[0m \u001b[38;5;28mprint\u001b[39m(lst)\n\u001b[0;32m      3\u001b[0m \u001b[38;5;28mprint\u001b[39m(\u001b[38;5;28mid\u001b[39m(lst))\n\u001b[1;32m----> 4\u001b[0m \u001b[38;5;28;01mfor\u001b[39;00m x \u001b[38;5;129;01min\u001b[39;00m \u001b[43mlst\u001b[49m\u001b[43m[\u001b[49m\u001b[38;5;241;43m1\u001b[39;49m\u001b[43m,\u001b[49m\u001b[38;5;241;43m3\u001b[39;49m\u001b[43m,\u001b[49m\u001b[38;5;241;43m5\u001b[39;49m\u001b[43m,\u001b[49m\u001b[38;5;241;43m7\u001b[39;49m\u001b[43m,\u001b[49m\u001b[38;5;241;43m9\u001b[39;49m\u001b[43m]\u001b[49m:\n\u001b[0;32m      5\u001b[0m     lst\u001b[38;5;241m.\u001b[39mremove(x)\n\u001b[0;32m      6\u001b[0m     x \u001b[38;5;241m=\u001b[39m x\u001b[38;5;241m*\u001b[39m\u001b[38;5;241m*\u001b[39m\u001b[38;5;241m2\u001b[39m\n",
      "\u001b[1;31mTypeError\u001b[0m: list indices must be integers or slices, not tuple"
     ]
    }
   ],
   "source": [
    "lst=[1,3,5,7,9]\n",
    "print(lst)\n",
    "print(id(lst))\n",
    "for x in lst[1,3,5,7,9]:\n",
    "    lst.remove(x)\n",
    "    x = x**2\n",
    "    print(x)\n",
    "    lst.append(x)\n",
    "print(lst)\n",
    "print(id(lst))"
   ]
  },
  {
   "cell_type": "code",
   "execution_count": 3,
   "id": "5a45b724",
   "metadata": {},
   "outputs": [
    {
     "name": "stdout",
     "output_type": "stream",
     "text": [
      "[1, 3, 5, 7, 9]\n",
      "2647204388544\n"
     ]
    },
    {
     "ename": "TypeError",
     "evalue": "'list' object is not callable",
     "output_type": "error",
     "traceback": [
      "\u001b[1;31m---------------------------------------------------------------------------\u001b[0m",
      "\u001b[1;31mTypeError\u001b[0m                                 Traceback (most recent call last)",
      "Cell \u001b[1;32mIn[3], line 4\u001b[0m\n\u001b[0;32m      2\u001b[0m \u001b[38;5;28mprint\u001b[39m(lst)\n\u001b[0;32m      3\u001b[0m \u001b[38;5;28mprint\u001b[39m(\u001b[38;5;28mid\u001b[39m(lst))\n\u001b[1;32m----> 4\u001b[0m \u001b[38;5;28;01mfor\u001b[39;00m x \u001b[38;5;129;01min\u001b[39;00m \u001b[43mlst\u001b[49m\u001b[43m(\u001b[49m\u001b[38;5;241;43m1\u001b[39;49m\u001b[43m,\u001b[49m\u001b[38;5;241;43m3\u001b[39;49m\u001b[43m,\u001b[49m\u001b[38;5;241;43m5\u001b[39;49m\u001b[43m,\u001b[49m\u001b[38;5;241;43m7\u001b[39;49m\u001b[43m,\u001b[49m\u001b[38;5;241;43m9\u001b[39;49m\u001b[43m)\u001b[49m:\n\u001b[0;32m      5\u001b[0m     lst\u001b[38;5;241m.\u001b[39mremove(x)\n\u001b[0;32m      6\u001b[0m     x \u001b[38;5;241m=\u001b[39m x\u001b[38;5;241m*\u001b[39m\u001b[38;5;241m*\u001b[39m\u001b[38;5;241m2\u001b[39m\n",
      "\u001b[1;31mTypeError\u001b[0m: 'list' object is not callable"
     ]
    }
   ],
   "source": [
    "lst=[1,3,5,7,9]\n",
    "print(lst)\n",
    "print(id(lst))\n",
    "for x in lst(1,3,5,7,9):\n",
    "    lst.remove(x)\n",
    "    x = x**2\n",
    "    print(x)\n",
    "    lst.append(x)\n",
    "print(lst)\n",
    "print(id(lst))"
   ]
  },
  {
   "cell_type": "code",
   "execution_count": 4,
   "id": "c3680179",
   "metadata": {},
   "outputs": [
    {
     "name": "stdout",
     "output_type": "stream",
     "text": [
      "[1, 3, 5, 7, 9]\n",
      "2647204395904\n"
     ]
    },
    {
     "ename": "TypeError",
     "evalue": "tuple expected at most 1 argument, got 5",
     "output_type": "error",
     "traceback": [
      "\u001b[1;31m---------------------------------------------------------------------------\u001b[0m",
      "\u001b[1;31mTypeError\u001b[0m                                 Traceback (most recent call last)",
      "Cell \u001b[1;32mIn[4], line 4\u001b[0m\n\u001b[0;32m      2\u001b[0m \u001b[38;5;28mprint\u001b[39m(lst)\n\u001b[0;32m      3\u001b[0m \u001b[38;5;28mprint\u001b[39m(\u001b[38;5;28mid\u001b[39m(lst))\n\u001b[1;32m----> 4\u001b[0m \u001b[38;5;28;01mfor\u001b[39;00m x \u001b[38;5;129;01min\u001b[39;00m \u001b[38;5;28;43mtuple\u001b[39;49m\u001b[43m(\u001b[49m\u001b[38;5;241;43m1\u001b[39;49m\u001b[43m,\u001b[49m\u001b[38;5;241;43m3\u001b[39;49m\u001b[43m,\u001b[49m\u001b[38;5;241;43m5\u001b[39;49m\u001b[43m,\u001b[49m\u001b[38;5;241;43m7\u001b[39;49m\u001b[43m,\u001b[49m\u001b[38;5;241;43m9\u001b[39;49m\u001b[43m)\u001b[49m:\n\u001b[0;32m      5\u001b[0m     lst\u001b[38;5;241m.\u001b[39mremove(x)\n\u001b[0;32m      6\u001b[0m     x \u001b[38;5;241m=\u001b[39m x\u001b[38;5;241m*\u001b[39m\u001b[38;5;241m*\u001b[39m\u001b[38;5;241m2\u001b[39m\n",
      "\u001b[1;31mTypeError\u001b[0m: tuple expected at most 1 argument, got 5"
     ]
    }
   ],
   "source": [
    "lst=[1,3,5,7,9]\n",
    "print(lst)\n",
    "print(id(lst))\n",
    "for x in tuple(1,3,5,7,9):\n",
    "    lst.remove(x)\n",
    "    x = x**2\n",
    "    print(x)\n",
    "    lst.append(x)\n",
    "print(lst)\n",
    "print(id(lst))"
   ]
  },
  {
   "cell_type": "code",
   "execution_count": 8,
   "id": "7f5621ad",
   "metadata": {},
   "outputs": [
    {
     "name": "stdout",
     "output_type": "stream",
     "text": [
      "[3, 5, 7, 9]\n",
      "1\n",
      "[3, 5, 7, 9, 1]\n",
      "[3, 7, 9, 1]\n",
      "25\n",
      "[3, 7, 9, 1, 25]\n",
      "[3, 7, 1, 25]\n",
      "81\n",
      "[3, 7, 1, 25, 81]\n",
      "[3, 7, 1, 81]\n",
      "625\n",
      "[3, 7, 1, 81, 625]\n",
      "[3, 7, 1, 81]\n",
      "390625\n",
      "[3, 7, 1, 81, 390625]\n"
     ]
    }
   ],
   "source": [
    "lst=[1,3,5,7,9]\n",
    "#print(lst)\n",
    "#print(id(lst))\n",
    "for x in lst:\n",
    "    lst.remove(x)\n",
    "    print(lst)\n",
    "    x = x**2\n",
    "    print(x)\n",
    "    lst.append(x)\n",
    "    print(lst)\n",
    "#print(lst)\n",
    "#print(id(lst))"
   ]
  },
  {
   "cell_type": "code",
   "execution_count": null,
   "id": "0134de59",
   "metadata": {},
   "outputs": [],
   "source": []
  },
  {
   "cell_type": "markdown",
   "id": "8ae154cc",
   "metadata": {},
   "source": [
    "## Tarnsfer statements  -- \"break\""
   ]
  },
  {
   "cell_type": "markdown",
   "id": "11545ab7",
   "metadata": {},
   "source": [
    "### break\n",
    "\n",
    "-  The \"break\" statement is used to terminate the loop instantly when it is \"ENCOUNTERED\""
   ]
  },
  {
   "cell_type": "code",
   "execution_count": 14,
   "id": "085b9e12",
   "metadata": {},
   "outputs": [
    {
     "name": "stdout",
     "output_type": "stream",
     "text": [
      "1\n",
      "2\n",
      "3\n",
      "Hello World\n"
     ]
    }
   ],
   "source": [
    "for x in range(1,7):\n",
    "    if x>3:\n",
    "        break\n",
    "    print(x)\n",
    "print('Hello World')"
   ]
  },
  {
   "cell_type": "code",
   "execution_count": 15,
   "id": "3e85be29",
   "metadata": {
    "scrolled": true
   },
   "outputs": [
    {
     "name": "stdout",
     "output_type": "stream",
     "text": [
      "1\n",
      "Hello World\n",
      "2\n",
      "Hello World\n",
      "3\n",
      "Hello World\n"
     ]
    }
   ],
   "source": [
    "for x in range(1,7):\n",
    "    if x>3:\n",
    "        break\n",
    "    print(x)\n",
    "    print('Hello World')"
   ]
  },
  {
   "cell_type": "code",
   "execution_count": 17,
   "id": "15c44f54",
   "metadata": {},
   "outputs": [
    {
     "name": "stdout",
     "output_type": "stream",
     "text": [
      "0\n",
      "1\n",
      "2\n",
      "I am breaking it(innermost -- loop)\n",
      "0\n",
      "1\n",
      "2\n",
      "I am breaking it(innermost -- loop)\n",
      "0\n",
      "1\n",
      "2\n",
      "I am breaking it(innermost -- loop)\n"
     ]
    }
   ],
   "source": [
    "## Here it breaks the innermost loop\n",
    "\n",
    "for x in range(3):\n",
    "    for y in range(4):\n",
    "        if y>2:\n",
    "            print(\"I am breaking it(innermost -- loop)\")\n",
    "            break\n",
    "        print(y)"
   ]
  },
  {
   "cell_type": "code",
   "execution_count": 18,
   "id": "ca5e5dc8",
   "metadata": {},
   "outputs": [
    {
     "ename": "IndentationError",
     "evalue": "expected an indented block after 'if' statement on line 6 (2854405447.py, line 7)",
     "output_type": "error",
     "traceback": [
      "\u001b[1;36m  Cell \u001b[1;32mIn[18], line 7\u001b[1;36m\u001b[0m\n\u001b[1;33m    print(\"I am breaking it(innermost -- loop)\")\u001b[0m\n\u001b[1;37m    ^\u001b[0m\n\u001b[1;31mIndentationError\u001b[0m\u001b[1;31m:\u001b[0m expected an indented block after 'if' statement on line 6\n"
     ]
    }
   ],
   "source": [
    "## Here it breaks the innermost loop\n",
    "\n",
    "for x in range(3):\n",
    "    for z in range(4):\n",
    "        for y in range(5):\n",
    "            if y>2:\n",
    "            print(\"I am breaking it(innermost -- loop)\")\n",
    "            break\n",
    "    print(y)"
   ]
  },
  {
   "cell_type": "code",
   "execution_count": 19,
   "id": "e33afe44",
   "metadata": {},
   "outputs": [
    {
     "name": "stdout",
     "output_type": "stream",
     "text": [
      "I am breaking it(innermost -- loop)\n",
      "I am breaking it(innermost -- loop)\n",
      "I am breaking it(innermost -- loop)\n",
      "I am breaking it(innermost -- loop)\n",
      "3\n",
      "I am breaking it(innermost -- loop)\n",
      "I am breaking it(innermost -- loop)\n",
      "I am breaking it(innermost -- loop)\n",
      "I am breaking it(innermost -- loop)\n",
      "3\n",
      "I am breaking it(innermost -- loop)\n",
      "I am breaking it(innermost -- loop)\n",
      "I am breaking it(innermost -- loop)\n",
      "I am breaking it(innermost -- loop)\n",
      "3\n"
     ]
    }
   ],
   "source": [
    "## Here it breaks the innermost loop\n",
    "\n",
    "for x in range(3):\n",
    "    for z in range(4):\n",
    "        for y in range(5):\n",
    "            if y>2:\n",
    "                print(\"I am breaking it(innermost -- loop)\")\n",
    "                break\n",
    "    print(y)"
   ]
  },
  {
   "cell_type": "code",
   "execution_count": 22,
   "id": "7f9661ae",
   "metadata": {},
   "outputs": [
    {
     "name": "stdout",
     "output_type": "stream",
     "text": [
      "I am breaking it(innermost -- loop)\n",
      "3\n",
      "I am breaking it(innermost -- loop)\n",
      "3\n",
      "I am breaking it(innermost -- loop)\n",
      "3\n",
      "I am breaking it(innermost -- loop)\n",
      "3\n",
      "I am breaking it(innermost -- loop)\n",
      "3\n",
      "I am breaking it(innermost -- loop)\n",
      "3\n",
      "I am breaking it(innermost -- loop)\n",
      "3\n",
      "I am breaking it(innermost -- loop)\n",
      "3\n",
      "I am breaking it(innermost -- loop)\n",
      "3\n",
      "I am breaking it(innermost -- loop)\n",
      "3\n",
      "I am breaking it(innermost -- loop)\n",
      "3\n",
      "I am breaking it(innermost -- loop)\n",
      "3\n"
     ]
    }
   ],
   "source": [
    "## Here it breaks the innermost loop\n",
    "\n",
    "for x in range(3):\n",
    "    for y in range(4):\n",
    "        for z in range(5):\n",
    "            if z>2:\n",
    "                print(\"I am breaking it(innermost -- loop)\")\n",
    "                break\n",
    "        print(z)"
   ]
  },
  {
   "cell_type": "code",
   "execution_count": 7,
   "id": "c7fec422",
   "metadata": {},
   "outputs": [
    {
     "name": "stdout",
     "output_type": "stream",
     "text": [
      "0\n",
      "1\n",
      "2\n",
      "I am breaking it(innermost -- loop)\n",
      "0\n",
      "1\n",
      "2\n",
      "I am breaking it(innermost -- loop)\n",
      "0\n",
      "1\n",
      "2\n",
      "I am breaking it(innermost -- loop)\n",
      "0\n",
      "1\n",
      "2\n",
      "I am breaking it(innermost -- loop)\n",
      "0\n",
      "1\n",
      "2\n",
      "I am breaking it(innermost -- loop)\n",
      "0\n",
      "1\n",
      "2\n",
      "I am breaking it(innermost -- loop)\n",
      "0\n",
      "1\n",
      "2\n",
      "I am breaking it(innermost -- loop)\n",
      "0\n",
      "1\n",
      "2\n",
      "I am breaking it(innermost -- loop)\n",
      "0\n",
      "1\n",
      "2\n",
      "I am breaking it(innermost -- loop)\n",
      "0\n",
      "1\n",
      "2\n",
      "I am breaking it(innermost -- loop)\n",
      "0\n",
      "1\n",
      "2\n",
      "I am breaking it(innermost -- loop)\n",
      "0\n",
      "1\n",
      "2\n",
      "I am breaking it(innermost -- loop)\n"
     ]
    }
   ],
   "source": [
    "## Here it breaks the innermost loop\n",
    "\n",
    "for x in range(3):\n",
    "    for y in range(4):\n",
    "        for z in range(5):\n",
    "            if z>2:\n",
    "                print(\"I am breaking it(innermost -- loop)\")\n",
    "                break\n",
    "            print(z)"
   ]
  },
  {
   "cell_type": "code",
   "execution_count": null,
   "id": "cd0461aa",
   "metadata": {},
   "outputs": [],
   "source": []
  },
  {
   "cell_type": "code",
   "execution_count": 9,
   "id": "f5841161",
   "metadata": {},
   "outputs": [
    {
     "name": "stdout",
     "output_type": "stream",
     "text": [
      "2000\n",
      "Yes\n"
     ]
    }
   ],
   "source": [
    "# Make a program to check whether a \"Year is Leap year OR not\"\n",
    "\n",
    "x = int(input())\n",
    "\n",
    "if x%4==0:\n",
    "    print(\"Yes\")\n",
    "else:\n",
    "    print(\"No\")"
   ]
  },
  {
   "cell_type": "code",
   "execution_count": 19,
   "id": "87560542",
   "metadata": {},
   "outputs": [
    {
     "ename": "SyntaxError",
     "evalue": "invalid syntax (2675090360.py, line 4)",
     "output_type": "error",
     "traceback": [
      "\u001b[1;36m  Cell \u001b[1;32mIn[19], line 4\u001b[1;36m\u001b[0m\n\u001b[1;33m    for x>=100:\u001b[0m\n\u001b[1;37m         ^\u001b[0m\n\u001b[1;31mSyntaxError\u001b[0m\u001b[1;31m:\u001b[0m invalid syntax\n"
     ]
    }
   ],
   "source": [
    "# Make a program to check whether a \"Year is Leap year OR not\"\n",
    "\n",
    "x = int(input())\n",
    "for x>=100:\n",
    "    if ((x/100)%4==0 and x%4==0):\n",
    "        print(\"Yes\")\n",
    "    else:\n"
   ]
  },
  {
   "cell_type": "code",
   "execution_count": 39,
   "id": "8c31d7b7",
   "metadata": {},
   "outputs": [
    {
     "name": "stdout",
     "output_type": "stream",
     "text": [
      "0\n",
      "No\n"
     ]
    }
   ],
   "source": [
    "# Make a program to check whether a \"Year is Leap year OR not\"\n",
    "x = int(input())\n",
    "if ( x<=0 and x>=100 and (x/100)%4==0 and x%4==0):\n",
    "    print(\"Yes\")\n",
    "elif (0<x<100 and x%4==0):\n",
    "    print(\"Yes\")\n",
    "else:\n",
    "    print(\"No\")"
   ]
  },
  {
   "cell_type": "code",
   "execution_count": 33,
   "id": "50e78754",
   "metadata": {},
   "outputs": [
    {
     "data": {
      "text/plain": [
       "1"
      ]
     },
     "execution_count": 33,
     "metadata": {},
     "output_type": "execute_result"
    }
   ],
   "source": [
    "136//100"
   ]
  },
  {
   "cell_type": "code",
   "execution_count": 29,
   "id": "ffe2a273",
   "metadata": {},
   "outputs": [
    {
     "name": "stdout",
     "output_type": "stream",
     "text": [
      "300\n",
      "Yes\n"
     ]
    }
   ],
   "source": [
    "# Make a program to check whether a \"Year is Leap year OR not\"\n",
    "x = int(input())\n",
    "if ( x>=100 and (x%100)%4==0 and x%4==0):\n",
    "    print(\"Yes\")\n",
    "elif (x<100 and x%4==0):\n",
    "    print(\"Yes\")\n",
    "else:\n",
    "    print(\"No\")"
   ]
  },
  {
   "cell_type": "code",
   "execution_count": 32,
   "id": "ff31a6a0",
   "metadata": {},
   "outputs": [
    {
     "data": {
      "text/plain": [
       "0"
      ]
     },
     "execution_count": 32,
     "metadata": {},
     "output_type": "execute_result"
    }
   ],
   "source": [
    "300%100"
   ]
  },
  {
   "cell_type": "code",
   "execution_count": 35,
   "id": "0c49daf2",
   "metadata": {},
   "outputs": [
    {
     "name": "stdout",
     "output_type": "stream",
     "text": [
      "24\n",
      "Yes\n"
     ]
    }
   ],
   "source": [
    "# Make a program to check whether a \"Year is Leap year OR not\"\n",
    "\n",
    "x = int(input())\n",
    "if (x<100 and x%4==0):\n",
    "    print(\"Yes\")\n",
    "else:\n",
    "    print(\"No\")"
   ]
  },
  {
   "cell_type": "code",
   "execution_count": null,
   "id": "25672347",
   "metadata": {},
   "outputs": [],
   "source": []
  }
 ],
 "metadata": {
  "kernelspec": {
   "display_name": "Python 3 (ipykernel)",
   "language": "python",
   "name": "python3"
  },
  "language_info": {
   "codemirror_mode": {
    "name": "ipython",
    "version": 3
   },
   "file_extension": ".py",
   "mimetype": "text/x-python",
   "name": "python",
   "nbconvert_exporter": "python",
   "pygments_lexer": "ipython3",
   "version": "3.10.9"
  }
 },
 "nbformat": 4,
 "nbformat_minor": 5
}
