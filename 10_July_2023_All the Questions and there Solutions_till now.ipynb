{
 "cells": [
  {
   "cell_type": "markdown",
   "id": "01520e0f",
   "metadata": {},
   "source": [
    "## \"DONE\"\n",
    "- Classify numbers from 1 to 100 as even or odd"
   ]
  },
  {
   "cell_type": "code",
   "execution_count": null,
   "id": "46d1baf8",
   "metadata": {},
   "outputs": [],
   "source": [
    "# Classify numbers from 1 to 100 as even or odd\n",
    "\n",
    "for x in range(1,101):\n",
    "    if x%2!=0:\n",
    "        print(x,\"is odd\")\n",
    "    else:\n",
    "        print(x,\"is even\")"
   ]
  },
  {
   "cell_type": "markdown",
   "id": "fafb5b16",
   "metadata": {},
   "source": [
    "## By Bhumika ji --- \"Don't Google\""
   ]
  },
  {
   "cell_type": "code",
   "execution_count": null,
   "id": "47c0342f",
   "metadata": {},
   "outputs": [],
   "source": [
    "# Print sum of all even numbers from 1 to 10\n",
    "\n",
    "Sum = 0\n",
    "for i in range(1,11):\n",
    "    if i%2==0:\n",
    "        Sum+=i\n",
    "print(\"Sum of all Even Numbers in between 1 to 10: \", Sum)  # This \"STATEMENT is OUT SIDE -- 'for' LOOP\""
   ]
  },
  {
   "cell_type": "code",
   "execution_count": null,
   "id": "35b25353",
   "metadata": {},
   "outputs": [],
   "source": [
    "# Print sum of all even numbers from 1 to 10\n",
    "\n",
    "Sum = 0\n",
    "for x in range(1,11):\n",
    "    if x%2==0:\n",
    "        Sum = Sum + x\n",
    "print(\"Sum of all Even Numbers in between 1 to 10: \", Sum)    # This \"STATEMENT is OUT SIDE -- 'for' LOOP\""
   ]
  },
  {
   "cell_type": "markdown",
   "id": "df3af1f0",
   "metadata": {},
   "source": [
    "# Old Method -- By Bhumika ji"
   ]
  },
  {
   "cell_type": "code",
   "execution_count": 1,
   "id": "b90f93b8",
   "metadata": {},
   "outputs": [
    {
     "name": "stdout",
     "output_type": "stream",
     "text": [
      "[1, 4, 9, 16, 25]\n"
     ]
    }
   ],
   "source": [
    "ll = [1,2,3,4,5]\n",
    "ll[0] = 1**2\n",
    "ll[1] = 2**2\n",
    "ll[2] = 3**2\n",
    "ll[3] = 4**2\n",
    "ll[4] = 5**2\n",
    "print(ll)"
   ]
  },
  {
   "cell_type": "markdown",
   "id": "6101f674",
   "metadata": {},
   "source": [
    "## \"DONE\""
   ]
  },
  {
   "cell_type": "code",
   "execution_count": 2,
   "id": "662589be",
   "metadata": {},
   "outputs": [
    {
     "name": "stdout",
     "output_type": "stream",
     "text": [
      "Enter the start value:1\n",
      "Enter the stop value:10\n",
      "1\n",
      "11\n",
      "30\n"
     ]
    }
   ],
   "source": [
    "# Ask the user for the range from which the sum of the even numbers should be printed.\n",
    "# eg. 10 to 20, 60 to 1000, 70 to 80\n",
    "sum = 0\n",
    "start = int(input(\"Enter the start value:\"))\n",
    "stop = 1+int(input(\"Enter the stop value:\"))\n",
    "print(start)\n",
    "print(stop)\n",
    "for z in range(start,stop):\n",
    "    if z%2==0:\n",
    "        sum = sum + z\n",
    "print(sum)"
   ]
  },
  {
   "cell_type": "code",
   "execution_count": 3,
   "id": "6fb24e47",
   "metadata": {},
   "outputs": [
    {
     "name": "stdout",
     "output_type": "stream",
     "text": [
      "start10\n",
      "stop20\n",
      "90\n"
     ]
    }
   ],
   "source": [
    "# Ask the user for the range from which the sum of the even numbers should be printed.\n",
    "# eg. 10 to 20, 60 to 1000, 70 to 80\n",
    "\n",
    "r = int(input(\"start\"))\n",
    "e = int(input(\"stop\"))\n",
    "\n",
    "sum = 0\n",
    "for q in range(r,e+1,2):\n",
    "    if q%2==0:\n",
    "        sum = sum + q\n",
    "print(sum)"
   ]
  },
  {
   "cell_type": "markdown",
   "id": "a67cffbf",
   "metadata": {},
   "source": [
    "## Method given by \"PArth SIR\""
   ]
  },
  {
   "cell_type": "code",
   "execution_count": 4,
   "id": "e24767f0",
   "metadata": {},
   "outputs": [
    {
     "name": "stdout",
     "output_type": "stream",
     "text": [
      "start0\n",
      "stop10\n",
      "30\n"
     ]
    }
   ],
   "source": [
    "# Ask the user for the range from which the sum of the even numbers should be printed.\n",
    "# eg. 10 to 20, 60 to 1000, 70 to 80\n",
    "\n",
    "r = int(input(\"start\"))\n",
    "e = int(input(\"stop\"))\n",
    "\n",
    "sum = 0\n",
    "for q in range(r,e+1,2):\n",
    "    sum = sum + q\n",
    "print(sum)           ## Method given by \"PArth SIR\""
   ]
  },
  {
   "cell_type": "markdown",
   "id": "04db44f2",
   "metadata": {},
   "source": [
    "## DONE -- Display the numbers divisible by 5 from a list."
   ]
  },
  {
   "cell_type": "code",
   "execution_count": null,
   "id": "02b4420d",
   "metadata": {},
   "outputs": [],
   "source": [
    "# Display the numbers divisible by 5 from a list.\n",
    "\n",
    "l = [1,15,20,23,39,55]\n",
    "for l in [1,15,20,23,39,55]:\n",
    "    if l%5==0:\n",
    "        print(l)"
   ]
  },
  {
   "cell_type": "markdown",
   "id": "0db3bc3e",
   "metadata": {},
   "source": [
    "## Mathematics formula -- N*(N+1)"
   ]
  },
  {
   "cell_type": "code",
   "execution_count": null,
   "id": "9809873d",
   "metadata": {},
   "outputs": [],
   "source": [
    "# Print sum of \"First n \" even numbers.\n",
    "n = int(input(\"Enter n - sum of first n even numbers: \"))\n",
    "Sum = n*(n+1)\n",
    "print(Sum)"
   ]
  },
  {
   "cell_type": "markdown",
   "id": "5d411638",
   "metadata": {},
   "source": [
    "### print \"*\" in output in line -- using for_loop"
   ]
  },
  {
   "cell_type": "code",
   "execution_count": null,
   "id": "a3fe299f",
   "metadata": {},
   "outputs": [],
   "source": [
    "# print \"*\" in output in line -- using for_loop\n",
    "\n",
    "for x in range(0,5):\n",
    "    print(\"*\")"
   ]
  },
  {
   "cell_type": "code",
   "execution_count": null,
   "id": "c731f3c4",
   "metadata": {},
   "outputs": [],
   "source": [
    "# print \"*\" in output in line -- using for_loop\n",
    "\n",
    "for x in range(5):\n",
    "    print(\"*\")"
   ]
  },
  {
   "cell_type": "code",
   "execution_count": null,
   "id": "ccfb82a2",
   "metadata": {},
   "outputs": [],
   "source": []
  },
  {
   "cell_type": "markdown",
   "id": "8f075b05",
   "metadata": {},
   "source": [
    "# for_loop in one line"
   ]
  },
  {
   "cell_type": "code",
   "execution_count": 1,
   "id": "4280b4c2",
   "metadata": {},
   "outputs": [
    {
     "name": "stdout",
     "output_type": "stream",
     "text": [
      "[1, 2, 3, 4, 5, 0, 1, 4, 9]\n"
     ]
    }
   ],
   "source": [
    "lst=[1,2,3,4,5]\n",
    "for x in range(0,4):\n",
    "    x = x**2\n",
    "    lst.append(x)\n",
    "print(lst)"
   ]
  },
  {
   "cell_type": "code",
   "execution_count": null,
   "id": "a17fb55f",
   "metadata": {},
   "outputs": [],
   "source": []
  },
  {
   "cell_type": "code",
   "execution_count": null,
   "id": "7c352668",
   "metadata": {},
   "outputs": [],
   "source": []
  },
  {
   "cell_type": "code",
   "execution_count": null,
   "id": "1ae1686f",
   "metadata": {},
   "outputs": [],
   "source": []
  },
  {
   "cell_type": "code",
   "execution_count": null,
   "id": "23e988e4",
   "metadata": {},
   "outputs": [],
   "source": []
  },
  {
   "cell_type": "code",
   "execution_count": null,
   "id": "b5ca8280",
   "metadata": {},
   "outputs": [],
   "source": []
  }
 ],
 "metadata": {
  "kernelspec": {
   "display_name": "Python 3 (ipykernel)",
   "language": "python",
   "name": "python3"
  },
  "language_info": {
   "codemirror_mode": {
    "name": "ipython",
    "version": 3
   },
   "file_extension": ".py",
   "mimetype": "text/x-python",
   "name": "python",
   "nbconvert_exporter": "python",
   "pygments_lexer": "ipython3",
   "version": "3.10.9"
  }
 },
 "nbformat": 4,
 "nbformat_minor": 5
}
