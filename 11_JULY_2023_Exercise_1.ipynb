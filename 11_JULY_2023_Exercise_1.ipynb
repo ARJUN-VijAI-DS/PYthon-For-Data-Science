{
 "cells": [
  {
   "cell_type": "markdown",
   "id": "6120acb6",
   "metadata": {},
   "source": [
    "# Exercise"
   ]
  },
  {
   "cell_type": "code",
   "execution_count": 1,
   "id": "c486923a",
   "metadata": {},
   "outputs": [
    {
     "name": "stdout",
     "output_type": "stream",
     "text": [
      "Frist  Number:  11\n",
      "Second Number:  22\n",
      "242 33\n"
     ]
    }
   ],
   "source": [
    "# Q1. Calculate the multiplication and sum of Two Numbers.\n",
    "\n",
    "p = int(input(\"Frist  Number:  \"))\n",
    "q = int(input(\"Second Number:  \"))\n",
    "print(p*q,p+q)"
   ]
  },
  {
   "cell_type": "code",
   "execution_count": null,
   "id": "5d80a084",
   "metadata": {},
   "outputs": [],
   "source": [
    "# Q2. Print characters from a string that are present at an even index number.\n",
    "\n"
   ]
  },
  {
   "cell_type": "code",
   "execution_count": 1,
   "id": "3684882e",
   "metadata": {},
   "outputs": [
    {
     "name": "stdout",
     "output_type": "stream",
     "text": [
      "9\n",
      "True\n",
      "\n",
      "\n"
     ]
    }
   ],
   "source": [
    "# Q5. Check if the first and the last number of a list is the same.\n",
    "\n",
    "L = [1,2,3,4,5,123,12,34,1]\n",
    "print(len(L))\n",
    "print(L[0]==L[8])\n",
    "print('\\n')"
   ]
  },
  {
   "cell_type": "code",
   "execution_count": null,
   "id": "283b7d7f",
   "metadata": {},
   "outputs": [],
   "source": []
  },
  {
   "cell_type": "code",
   "execution_count": null,
   "id": "1180936f",
   "metadata": {},
   "outputs": [],
   "source": [
    "# Check if the first and the last number of a list is the same. -- **For ANY list**\n",
    "\n",
    "ANY = list(input(\"List:   \"))\n",
    "print(len(ANY))\n",
    "print(ANY[1]==ANY[22])"
   ]
  },
  {
   "cell_type": "code",
   "execution_count": null,
   "id": "ad4b6539",
   "metadata": {},
   "outputs": [],
   "source": []
  },
  {
   "cell_type": "code",
   "execution_count": 12,
   "id": "ef789915",
   "metadata": {},
   "outputs": [
    {
     "name": "stdout",
     "output_type": "stream",
     "text": [
      "I'm DATA Scientist\n"
     ]
    }
   ],
   "source": [
    "# Q. Print characters from a string that are present at an **EVEN INDEX NUMBER**.\n",
    "\n",
    "aj = \"I'm DATA Scientist\"\n",
    "print(aj[::1])"
   ]
  },
  {
   "cell_type": "code",
   "execution_count": 13,
   "id": "d06a7c1d",
   "metadata": {},
   "outputs": [
    {
     "name": "stdout",
     "output_type": "stream",
     "text": [
      "18\n",
      "ImDT cets\n"
     ]
    }
   ],
   "source": [
    "aj = \"I'm DATA Scientist\"\n",
    "print(len(aj))\n",
    "print(aj[::2])"
   ]
  },
  {
   "cell_type": "code",
   "execution_count": null,
   "id": "58d90136",
   "metadata": {},
   "outputs": [],
   "source": []
  },
  {
   "cell_type": "code",
   "execution_count": 20,
   "id": "9177727e",
   "metadata": {},
   "outputs": [
    {
     "ename": "SyntaxError",
     "evalue": "cannot delete expression (2518615852.py, line 5)",
     "output_type": "error",
     "traceback": [
      "\u001b[1;36m  Cell \u001b[1;32mIn[20], line 5\u001b[1;36m\u001b[0m\n\u001b[1;33m    del (STR[0] and STR[n])\u001b[0m\n\u001b[1;37m         ^\u001b[0m\n\u001b[1;31mSyntaxError\u001b[0m\u001b[1;31m:\u001b[0m cannot delete expression\n"
     ]
    }
   ],
   "source": [
    "# Q. Remove first **N** characters from a string.\n",
    "STR = \"I'm DATA Scientist\"\n",
    "print(len(STR))\n",
    "n = int(input(\"Remove first N Characters from string:  \",))\n",
    "del (STR[0] and STR[n]) "
   ]
  },
  {
   "cell_type": "code",
   "execution_count": 3,
   "id": "a57ae15d",
   "metadata": {},
   "outputs": [
    {
     "name": "stdout",
     "output_type": "stream",
     "text": [
      "1\n",
      "2  2\n",
      "3  3  3\n",
      "4  4  4  4\n",
      "5  5  5  5  5\n"
     ]
    }
   ],
   "source": [
    "print(\"1\")\n",
    "print(\"2  2\")\n",
    "print(\"3  3  3\")\n",
    "print(\"4  4  4  4\")\n",
    "print(\"5  5  5  5  5\")"
   ]
  },
  {
   "cell_type": "code",
   "execution_count": null,
   "id": "b1e93780",
   "metadata": {},
   "outputs": [],
   "source": []
  },
  {
   "cell_type": "code",
   "execution_count": null,
   "id": "4c19d4c6",
   "metadata": {},
   "outputs": [],
   "source": []
  },
  {
   "cell_type": "code",
   "execution_count": null,
   "id": "b9d400e4",
   "metadata": {},
   "outputs": [],
   "source": []
  }
 ],
 "metadata": {
  "kernelspec": {
   "display_name": "Python 3 (ipykernel)",
   "language": "python",
   "name": "python3"
  },
  "language_info": {
   "codemirror_mode": {
    "name": "ipython",
    "version": 3
   },
   "file_extension": ".py",
   "mimetype": "text/x-python",
   "name": "python",
   "nbconvert_exporter": "python",
   "pygments_lexer": "ipython3",
   "version": "3.10.9"
  }
 },
 "nbformat": 4,
 "nbformat_minor": 5
}
