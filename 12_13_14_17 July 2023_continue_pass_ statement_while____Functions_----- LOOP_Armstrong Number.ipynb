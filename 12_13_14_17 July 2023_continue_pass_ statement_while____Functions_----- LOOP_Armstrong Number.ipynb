{
 "cells": [
  {
   "cell_type": "markdown",
   "id": "09e2f522",
   "metadata": {},
   "source": [
    "### \"continue\" -- Statement\n",
    "\n",
    "- The continue statement skips the current iteration of the loop and jumps to the next iteration. \n",
    "- **We generally use \"continue\" statement with \"if\" statement**"
   ]
  },
  {
   "cell_type": "code",
   "execution_count": 1,
   "id": "aac3117e",
   "metadata": {},
   "outputs": [
    {
     "name": "stdout",
     "output_type": "stream",
     "text": [
      "1\n",
      "2\n",
      "3\n",
      "4\n"
     ]
    }
   ],
   "source": [
    "for x in {1,2,3,4}:\n",
    "    print(x)"
   ]
  },
  {
   "cell_type": "code",
   "execution_count": 2,
   "id": "d53e7d10",
   "metadata": {},
   "outputs": [
    {
     "name": "stdout",
     "output_type": "stream",
     "text": [
      "1\n",
      "I am Data scientist\n",
      "2\n",
      "I am Data scientist\n",
      "4\n",
      "I am Data scientist\n"
     ]
    }
   ],
   "source": [
    "for x in {1,2,3,4}:\n",
    "    if x==3:\n",
    "        continue\n",
    "    print(x)\n",
    "    print(\"I am Data scientist\")"
   ]
  },
  {
   "cell_type": "code",
   "execution_count": 3,
   "id": "d6d69ff5",
   "metadata": {},
   "outputs": [
    {
     "name": "stdout",
     "output_type": "stream",
     "text": [
      "0\n",
      "1\n",
      "2\n",
      "3\n",
      "4\n"
     ]
    }
   ],
   "source": [
    "for x in range(5):\n",
    "    print(x)\n",
    "    continue\n",
    "    print(x+1)"
   ]
  },
  {
   "cell_type": "code",
   "execution_count": null,
   "id": "a4f94dd0",
   "metadata": {},
   "outputs": [],
   "source": []
  },
  {
   "cell_type": "markdown",
   "id": "f91d7f47",
   "metadata": {},
   "source": [
    "## \"pass\" statement\n",
    "\n",
    "- The pass statement does \"NOTHING\". It is used to create an empty block of code that may be useful in the \"FUTURE\"\n",
    "- pass  -- \"EMPTY BLOCK\"\n",
    "- pass  -- \"Used for ANY BLOCK of CODE\" "
   ]
  },
  {
   "cell_type": "code",
   "execution_count": 4,
   "id": "f9434d23",
   "metadata": {},
   "outputs": [],
   "source": [
    "for x in range(10):\n",
    "    pass"
   ]
  },
  {
   "cell_type": "code",
   "execution_count": 5,
   "id": "70f5a93e",
   "metadata": {},
   "outputs": [],
   "source": [
    "for t in range(10):\n",
    "    continue"
   ]
  },
  {
   "cell_type": "code",
   "execution_count": 6,
   "id": "030c765b",
   "metadata": {},
   "outputs": [
    {
     "name": "stdout",
     "output_type": "stream",
     "text": [
      "Data\n"
     ]
    }
   ],
   "source": [
    "for x in range(3):\n",
    "    pass\n",
    "print(\"Data\")"
   ]
  },
  {
   "cell_type": "code",
   "execution_count": 7,
   "id": "68c58165",
   "metadata": {},
   "outputs": [
    {
     "name": "stdout",
     "output_type": "stream",
     "text": [
      "Data\n",
      "Data\n",
      "Data\n"
     ]
    }
   ],
   "source": [
    "for x in range(3):\n",
    "    pass\n",
    "    print(\"Data\")"
   ]
  },
  {
   "cell_type": "code",
   "execution_count": 8,
   "id": "d093bc06",
   "metadata": {},
   "outputs": [],
   "source": [
    "for x in range(3):\n",
    "    continue\n",
    "    print(\"Data\")"
   ]
  },
  {
   "cell_type": "code",
   "execution_count": 11,
   "id": "8549bf81",
   "metadata": {},
   "outputs": [
    {
     "name": "stdout",
     "output_type": "stream",
     "text": [
      "0\n",
      "1\n",
      "2\n",
      "3\n",
      "4\n"
     ]
    }
   ],
   "source": [
    "for q in range(5):\n",
    "    if q == 3:\n",
    "        pass\n",
    "    print(q)"
   ]
  },
  {
   "cell_type": "code",
   "execution_count": 12,
   "id": "5a13bbb4",
   "metadata": {},
   "outputs": [
    {
     "name": "stdout",
     "output_type": "stream",
     "text": [
      "0\n",
      "1\n",
      "2\n",
      "4\n"
     ]
    }
   ],
   "source": [
    "for q in range(5):\n",
    "    if q ==3 :\n",
    "        continue\n",
    "    print(q)"
   ]
  },
  {
   "cell_type": "code",
   "execution_count": 13,
   "id": "4e22a01e",
   "metadata": {},
   "outputs": [
    {
     "name": "stdout",
     "output_type": "stream",
     "text": [
      "data\n"
     ]
    }
   ],
   "source": [
    "y=6\n",
    "if y>4:\n",
    "    pass\n",
    "print(\"data\")"
   ]
  },
  {
   "cell_type": "code",
   "execution_count": 14,
   "id": "a6e16336",
   "metadata": {},
   "outputs": [
    {
     "ename": "SyntaxError",
     "evalue": "'break' outside loop (1433638779.py, line 3)",
     "output_type": "error",
     "traceback": [
      "\u001b[1;36m  Cell \u001b[1;32mIn[14], line 3\u001b[1;36m\u001b[0m\n\u001b[1;33m    break\u001b[0m\n\u001b[1;37m    ^\u001b[0m\n\u001b[1;31mSyntaxError\u001b[0m\u001b[1;31m:\u001b[0m 'break' outside loop\n"
     ]
    }
   ],
   "source": [
    "y=6           # \"break\" works inside the loops \"ONLY\"\n",
    "if y>4:\n",
    "    break\n",
    "print(\"data\")"
   ]
  },
  {
   "cell_type": "code",
   "execution_count": 16,
   "id": "85b4820c",
   "metadata": {},
   "outputs": [
    {
     "ename": "SyntaxError",
     "evalue": "'continue' not properly in loop (1341477705.py, line 3)",
     "output_type": "error",
     "traceback": [
      "\u001b[1;36m  Cell \u001b[1;32mIn[16], line 3\u001b[1;36m\u001b[0m\n\u001b[1;33m    continue\u001b[0m\n\u001b[1;37m    ^\u001b[0m\n\u001b[1;31mSyntaxError\u001b[0m\u001b[1;31m:\u001b[0m 'continue' not properly in loop\n"
     ]
    }
   ],
   "source": [
    "y=6          # \"continue\" works inside the loops \"ONLY\"\n",
    "if y>4:\n",
    "    continue\n",
    "print(\"data\")"
   ]
  },
  {
   "cell_type": "markdown",
   "id": "dbe76316",
   "metadata": {},
   "source": [
    "## \"while\"   --- loop\n",
    "\n",
    "- Works tiil a **certain condition is True**.  \n",
    "\n",
    "- Used for **indefinite iterations**."
   ]
  },
  {
   "cell_type": "code",
   "execution_count": 1,
   "id": "92ac1c8d",
   "metadata": {},
   "outputs": [
    {
     "name": "stdout",
     "output_type": "stream",
     "text": [
      "9\n",
      "10\n",
      "11\n",
      "12\n",
      "13\n",
      "14\n"
     ]
    }
   ],
   "source": [
    "x = 9\n",
    "while x<15:\n",
    "    print(x)\n",
    "    x+=1"
   ]
  },
  {
   "cell_type": "code",
   "execution_count": 2,
   "id": "211d81de",
   "metadata": {},
   "outputs": [
    {
     "name": "stdout",
     "output_type": "stream",
     "text": [
      "9\n",
      "10\n",
      "11\n",
      "12\n",
      "13\n",
      "14\n"
     ]
    }
   ],
   "source": [
    "x = 9\n",
    "while x<15:\n",
    "    print(x)\n",
    "    x= x+1"
   ]
  },
  {
   "cell_type": "code",
   "execution_count": 5,
   "id": "06e2b4fd",
   "metadata": {
    "scrolled": false
   },
   "outputs": [
    {
     "name": "stdout",
     "output_type": "stream",
     "text": [
      "6\n",
      "\n",
      "* \n",
      "* * \n",
      "* * * \n",
      "* * * * \n",
      "* * * * * \n",
      "* * * * * * \n"
     ]
    }
   ],
   "source": [
    "p = 1+int(input())\n",
    "for x in range(p):\n",
    "    for y in range(p):\n",
    "        if x==y:\n",
    "            print(\"* \"*y)"
   ]
  },
  {
   "cell_type": "code",
   "execution_count": 1,
   "id": "d440eccd",
   "metadata": {},
   "outputs": [
    {
     "name": "stdout",
     "output_type": "stream",
     "text": [
      "<class 'list'>\n"
     ]
    },
    {
     "ename": "TypeError",
     "evalue": "descriptor 'remove' for 'list' objects doesn't apply to a 'int' object",
     "output_type": "error",
     "traceback": [
      "\u001b[1;31m---------------------------------------------------------------------------\u001b[0m",
      "\u001b[1;31mTypeError\u001b[0m                                 Traceback (most recent call last)",
      "Cell \u001b[1;32mIn[1], line 7\u001b[0m\n\u001b[0;32m      5\u001b[0m \u001b[38;5;28mprint\u001b[39m(\u001b[38;5;28mlist\u001b[39m)\n\u001b[0;32m      6\u001b[0m \u001b[38;5;28;01mwhile\u001b[39;00m \u001b[38;5;28mlist\u001b[39m\u001b[38;5;241m!=\u001b[39m[]:\n\u001b[1;32m----> 7\u001b[0m     \u001b[38;5;28;43mlist\u001b[39;49m\u001b[38;5;241;43m.\u001b[39;49m\u001b[43mremove\u001b[49m\u001b[43m(\u001b[49m\u001b[43mx\u001b[49m\u001b[43m)\u001b[49m\n\u001b[0;32m      8\u001b[0m     \u001b[38;5;28mprint\u001b[39m(\u001b[38;5;28mlist\u001b[39m)\n\u001b[0;32m      9\u001b[0m     x\u001b[38;5;241m=\u001b[39mx\u001b[38;5;241m+\u001b[39m\u001b[38;5;241m1\u001b[39m\n",
      "\u001b[1;31mTypeError\u001b[0m: descriptor 'remove' for 'list' objects doesn't apply to a 'int' object"
     ]
    }
   ],
   "source": [
    "i=1\n",
    "while i<4:\n",
    "    lsit=[1,2,3]\n",
    "    x=1\n",
    "    print(list)\n",
    "    while list!=[]:\n",
    "        list.remove(x)\n",
    "        print(list)\n",
    "        x=x+1\n",
    "    i=i+1"
   ]
  },
  {
   "cell_type": "code",
   "execution_count": 2,
   "id": "a89dd401",
   "metadata": {},
   "outputs": [
    {
     "name": "stdout",
     "output_type": "stream",
     "text": [
      "[1, 2, 3]\n",
      "[2, 3]\n",
      "[3]\n",
      "[]\n",
      "[1, 2, 3]\n",
      "[2, 3]\n",
      "[3]\n",
      "[]\n",
      "[1, 2, 3]\n",
      "[2, 3]\n",
      "[3]\n",
      "[]\n"
     ]
    }
   ],
   "source": [
    "i=1\n",
    "while i<4:\n",
    "    lst=[1,2,3]\n",
    "    x=1\n",
    "    print(lst)\n",
    "    while lst!=[]:\n",
    "        lst.remove(x)\n",
    "        print(lst)\n",
    "        x=x+1\n",
    "    i=i+1"
   ]
  },
  {
   "cell_type": "code",
   "execution_count": 30,
   "id": "39f4ef11",
   "metadata": {},
   "outputs": [
    {
     "name": "stdout",
     "output_type": "stream",
     "text": [
      "['1', '2', '3']\n"
     ]
    },
    {
     "ename": "ValueError",
     "evalue": "list.remove(x): x not in list",
     "output_type": "error",
     "traceback": [
      "\u001b[1;31m---------------------------------------------------------------------------\u001b[0m",
      "\u001b[1;31mValueError\u001b[0m                                Traceback (most recent call last)",
      "Cell \u001b[1;32mIn[30], line 7\u001b[0m\n\u001b[0;32m      5\u001b[0m \u001b[38;5;28mprint\u001b[39m(lst)\n\u001b[0;32m      6\u001b[0m \u001b[38;5;28;01mwhile\u001b[39;00m lst\u001b[38;5;241m!=\u001b[39m[]:\n\u001b[1;32m----> 7\u001b[0m     \u001b[43mlst\u001b[49m\u001b[38;5;241;43m.\u001b[39;49m\u001b[43mremove\u001b[49m\u001b[43m(\u001b[49m\u001b[43mx\u001b[49m\u001b[43m)\u001b[49m\n\u001b[0;32m      8\u001b[0m     \u001b[38;5;28mprint\u001b[39m(lst)\n\u001b[0;32m      9\u001b[0m     x\u001b[38;5;241m=\u001b[39mx\u001b[38;5;241m+\u001b[39m\u001b[38;5;241m1\u001b[39m\n",
      "\u001b[1;31mValueError\u001b[0m: list.remove(x): x not in list"
     ]
    }
   ],
   "source": [
    "i=1\n",
    "while i<4:\n",
    "    lst=['1','2','3']\n",
    "    x=1\n",
    "    print(lst)\n",
    "    while lst!=[]:\n",
    "        lst.remove(x)\n",
    "        print(lst)\n",
    "        x=x+1\n",
    "    i=i+1"
   ]
  },
  {
   "cell_type": "code",
   "execution_count": 4,
   "id": "7328cdfd",
   "metadata": {},
   "outputs": [
    {
     "ename": "SyntaxError",
     "evalue": "invalid syntax (3903825729.py, line 3)",
     "output_type": "error",
     "traceback": [
      "\u001b[1;36m  Cell \u001b[1;32mIn[4], line 3\u001b[1;36m\u001b[0m\n\u001b[1;33m    for x<5:\u001b[0m\n\u001b[1;37m         ^\u001b[0m\n\u001b[1;31mSyntaxError\u001b[0m\u001b[1;31m:\u001b[0m invalid syntax\n"
     ]
    }
   ],
   "source": [
    "l = [1,2,3,4]\n",
    "x=1\n",
    "for x<5:\n",
    "    l.remove(x)\n",
    "    x=x+1\n",
    "    print(l)"
   ]
  },
  {
   "cell_type": "code",
   "execution_count": 5,
   "id": "1f4a857f",
   "metadata": {},
   "outputs": [
    {
     "name": "stdout",
     "output_type": "stream",
     "text": [
      "[2, 3, 4]\n",
      "[3, 4]\n",
      "[4]\n",
      "[]\n"
     ]
    }
   ],
   "source": [
    "l = [1,2,3,4]\n",
    "x=1\n",
    "while x<5:\n",
    "    l.remove(x)\n",
    "    x=x+1\n",
    "    print(l)"
   ]
  },
  {
   "cell_type": "code",
   "execution_count": null,
   "id": "0b9db0a9",
   "metadata": {},
   "outputs": [],
   "source": []
  },
  {
   "cell_type": "code",
   "execution_count": null,
   "id": "a258d31e",
   "metadata": {},
   "outputs": [],
   "source": []
  },
  {
   "cell_type": "code",
   "execution_count": null,
   "id": "430d8903",
   "metadata": {},
   "outputs": [],
   "source": [
    "# Take a positive integer(3-digit) as input from the user.\n",
    "# Check whether the given number is an Armstrong number.\n",
    "# for example 153 = 1**3 + 5**3 + 3**3\n",
    "#             407 = 4**3 + 0**3 + 7**3\n",
    "\n"
   ]
  },
  {
   "cell_type": "code",
   "execution_count": 1,
   "id": "6829aedb",
   "metadata": {},
   "outputs": [
    {
     "ename": "NameError",
     "evalue": "name 'x' is not defined",
     "output_type": "error",
     "traceback": [
      "\u001b[1;31m---------------------------------------------------------------------------\u001b[0m",
      "\u001b[1;31mNameError\u001b[0m                                 Traceback (most recent call last)",
      "Cell \u001b[1;32mIn[1], line 1\u001b[0m\n\u001b[1;32m----> 1\u001b[0m x \u001b[38;5;241m=\u001b[39m \u001b[38;5;28mint\u001b[39m(\u001b[38;5;28minput\u001b[39m(\u001b[38;5;124m\"\u001b[39m\u001b[38;5;124mEnter a three digit number:\u001b[39m\u001b[38;5;124m\"\u001b[39m, \u001b[43mx\u001b[49m))\n",
      "\u001b[1;31mNameError\u001b[0m: name 'x' is not defined"
     ]
    }
   ],
   "source": [
    "x = int(input(\"Enter a three digit number:\", x))"
   ]
  },
  {
   "cell_type": "code",
   "execution_count": 2,
   "id": "6142008c",
   "metadata": {},
   "outputs": [
    {
     "ename": "NameError",
     "evalue": "name 'x' is not defined",
     "output_type": "error",
     "traceback": [
      "\u001b[1;31m---------------------------------------------------------------------------\u001b[0m",
      "\u001b[1;31mNameError\u001b[0m                                 Traceback (most recent call last)",
      "Cell \u001b[1;32mIn[2], line 1\u001b[0m\n\u001b[1;32m----> 1\u001b[0m x \u001b[38;5;241m=\u001b[39m \u001b[38;5;28mint\u001b[39m(\u001b[38;5;28minput\u001b[39m(\u001b[38;5;124m\"\u001b[39m\u001b[38;5;124mEnter a three digit number:\u001b[39m\u001b[38;5;124m\"\u001b[39m,\u001b[43mx\u001b[49m))\n",
      "\u001b[1;31mNameError\u001b[0m: name 'x' is not defined"
     ]
    }
   ],
   "source": [
    "x = int(input(\"Enter a three digit number:\",x))"
   ]
  },
  {
   "cell_type": "code",
   "execution_count": 18,
   "id": "797baa0e",
   "metadata": {},
   "outputs": [
    {
     "ename": "SyntaxError",
     "evalue": "invalid syntax. Maybe you meant '==' or ':=' instead of '='? (1406022020.py, line 8)",
     "output_type": "error",
     "traceback": [
      "\u001b[1;36m  Cell \u001b[1;32mIn[18], line 8\u001b[1;36m\u001b[0m\n\u001b[1;33m    if x = (a + b + c):\u001b[0m\n\u001b[1;37m       ^\u001b[0m\n\u001b[1;31mSyntaxError\u001b[0m\u001b[1;31m:\u001b[0m invalid syntax. Maybe you meant '==' or ':=' instead of '='?\n"
     ]
    }
   ],
   "source": [
    "x = int(input(\"Enter a three digit number:\"))\n",
    "a = (x%10)**3\n",
    "b = (x//100)**3\n",
    "c = ((x - ((x//100)*100 + x%10))//10)**3\n",
    "print(a)\n",
    "print(b)\n",
    "print(c)\n",
    "if x = (a + b + c):\n",
    "    print(\"Yes, the number is an Armstrong Number\")\n",
    "else:\n",
    "    print(\"No, the number is not an Armstrong Number\")"
   ]
  },
  {
   "cell_type": "code",
   "execution_count": 17,
   "id": "46da1545",
   "metadata": {},
   "outputs": [
    {
     "name": "stdout",
     "output_type": "stream",
     "text": [
      "Enter a three digit number:234\n",
      "64\n",
      "8\n",
      "27\n",
      "No, the number is not an Armstrong Number\n"
     ]
    }
   ],
   "source": [
    "x = int(input(\"Enter a three digit number:\"))\n",
    "a = (x%10)**3\n",
    "b = (x//100)**3\n",
    "c = ((x - ((x//100)*100 + x%10))//10)**3\n",
    "print(a)\n",
    "print(b)\n",
    "print(c)\n",
    "if x==(a + b + c):\n",
    "    print(\"Yes, the number is an Armstrong Number\")\n",
    "else:\n",
    "    print(\"No, the number is not an Armstrong Number\")"
   ]
  },
  {
   "cell_type": "code",
   "execution_count": 3,
   "id": "aa42c0fb",
   "metadata": {},
   "outputs": [
    {
     "name": "stdout",
     "output_type": "stream",
     "text": [
      "Enter a three digit number:234\n",
      "64\n",
      "8\n",
      "27\n",
      "No, the number is not an Armstrong Number\n"
     ]
    }
   ],
   "source": [
    "x = int(input(\"Enter a three digit number:\"))\n",
    "i=1\n",
    "while i<2:\n",
    "    i=i+1\n",
    "    a = (x%10)**3\n",
    "    b = (x//100)**3\n",
    "    c = ((x - ((x//100)*100 + x%10))//10)**3\n",
    "    print(a);print(b);print(c)\n",
    "    if x==(a + b + c):\n",
    "        print(\"Yes, the number is an Armstrong Number\")\n",
    "    else:\n",
    "        print(\"No, the number is not an Armstrong Number\")"
   ]
  },
  {
   "cell_type": "code",
   "execution_count": 5,
   "id": "9ce9d897",
   "metadata": {},
   "outputs": [
    {
     "name": "stdout",
     "output_type": "stream",
     "text": [
      "123\n"
     ]
    },
    {
     "data": {
      "text/plain": [
       "3"
      ]
     },
     "execution_count": 5,
     "metadata": {},
     "output_type": "execute_result"
    }
   ],
   "source": [
    "a = input()\n",
    "len(a)"
   ]
  },
  {
   "cell_type": "code",
   "execution_count": 6,
   "id": "09057172",
   "metadata": {},
   "outputs": [
    {
     "ename": "SyntaxError",
     "evalue": "cannot assign to function call here. Maybe you meant '==' instead of '='? (1894156178.py, line 3)",
     "output_type": "error",
     "traceback": [
      "\u001b[1;36m  Cell \u001b[1;32mIn[6], line 3\u001b[1;36m\u001b[0m\n\u001b[1;33m    int(a[0]) = x\u001b[0m\n\u001b[1;37m    ^\u001b[0m\n\u001b[1;31mSyntaxError\u001b[0m\u001b[1;31m:\u001b[0m cannot assign to function call here. Maybe you meant '==' instead of '='?\n"
     ]
    }
   ],
   "source": [
    "a = input()\n",
    "len(a)\n",
    "int(a[0]) = x"
   ]
  },
  {
   "cell_type": "code",
   "execution_count": 7,
   "id": "6206bf4e",
   "metadata": {},
   "outputs": [
    {
     "name": "stdout",
     "output_type": "stream",
     "text": [
      "123\n"
     ]
    },
    {
     "ename": "NameError",
     "evalue": "name 'fd' is not defined",
     "output_type": "error",
     "traceback": [
      "\u001b[1;31m---------------------------------------------------------------------------\u001b[0m",
      "\u001b[1;31mNameError\u001b[0m                                 Traceback (most recent call last)",
      "Cell \u001b[1;32mIn[7], line 3\u001b[0m\n\u001b[0;32m      1\u001b[0m a \u001b[38;5;241m=\u001b[39m \u001b[38;5;28minput\u001b[39m()\n\u001b[0;32m      2\u001b[0m \u001b[38;5;28mlen\u001b[39m(a)\n\u001b[1;32m----> 3\u001b[0m \u001b[38;5;28mint\u001b[39m(a[\u001b[38;5;241m0\u001b[39m]) \u001b[38;5;241m==\u001b[39m \u001b[43mfd\u001b[49m\n",
      "\u001b[1;31mNameError\u001b[0m: name 'fd' is not defined"
     ]
    }
   ],
   "source": [
    "a = input()\n",
    "len(a)\n",
    "int(a[0]) == fd"
   ]
  },
  {
   "cell_type": "code",
   "execution_count": 8,
   "id": "5cacceaf",
   "metadata": {},
   "outputs": [
    {
     "name": "stdout",
     "output_type": "stream",
     "text": [
      "123\n"
     ]
    },
    {
     "ename": "TypeError",
     "evalue": "cannot unpack non-iterable int object",
     "output_type": "error",
     "traceback": [
      "\u001b[1;31m---------------------------------------------------------------------------\u001b[0m",
      "\u001b[1;31mTypeError\u001b[0m                                 Traceback (most recent call last)",
      "Cell \u001b[1;32mIn[8], line 3\u001b[0m\n\u001b[0;32m      1\u001b[0m a \u001b[38;5;241m=\u001b[39m \u001b[38;5;28minput\u001b[39m()\n\u001b[0;32m      2\u001b[0m \u001b[38;5;28mlen\u001b[39m(a)\n\u001b[1;32m----> 3\u001b[0m fd,sd,td \u001b[38;5;241m=\u001b[39m \u001b[38;5;28mint\u001b[39m()\n\u001b[0;32m      4\u001b[0m \u001b[38;5;28mint\u001b[39m(a[\u001b[38;5;241m0\u001b[39m]) \u001b[38;5;241m==\u001b[39m fd\n",
      "\u001b[1;31mTypeError\u001b[0m: cannot unpack non-iterable int object"
     ]
    }
   ],
   "source": [
    "a = input()\n",
    "len(a)\n",
    "fd,sd,td = int()\n",
    "int(a[0]) == fd"
   ]
  },
  {
   "cell_type": "code",
   "execution_count": 9,
   "id": "c867a8d9",
   "metadata": {},
   "outputs": [
    {
     "ename": "SyntaxError",
     "evalue": "invalid syntax (1912787237.py, line 2)",
     "output_type": "error",
     "traceback": [
      "\u001b[1;36m  Cell \u001b[1;32mIn[9], line 2\u001b[1;36m\u001b[0m\n\u001b[1;33m    a = lst[]\u001b[0m\n\u001b[1;37m            ^\u001b[0m\n\u001b[1;31mSyntaxError\u001b[0m\u001b[1;31m:\u001b[0m invalid syntax\n"
     ]
    }
   ],
   "source": [
    "Am = input()\n",
    "a = lst[]\n",
    "a.append(\"x\")"
   ]
  },
  {
   "cell_type": "code",
   "execution_count": 10,
   "id": "3073b4c1",
   "metadata": {},
   "outputs": [
    {
     "ename": "SyntaxError",
     "evalue": "invalid syntax (2784834631.py, line 2)",
     "output_type": "error",
     "traceback": [
      "\u001b[1;36m  Cell \u001b[1;32mIn[10], line 2\u001b[1;36m\u001b[0m\n\u001b[1;33m    a = list[]\u001b[0m\n\u001b[1;37m             ^\u001b[0m\n\u001b[1;31mSyntaxError\u001b[0m\u001b[1;31m:\u001b[0m invalid syntax\n"
     ]
    }
   ],
   "source": [
    "Am = input()\n",
    "a = list[]\n",
    "a.append(\"x\")"
   ]
  },
  {
   "cell_type": "code",
   "execution_count": 12,
   "id": "d20c5b1d",
   "metadata": {},
   "outputs": [
    {
     "name": "stdout",
     "output_type": "stream",
     "text": [
      "<class 'list'>\n"
     ]
    }
   ],
   "source": [
    "a = list()\n",
    "print(type(a))"
   ]
  },
  {
   "cell_type": "code",
   "execution_count": 13,
   "id": "4580b921",
   "metadata": {},
   "outputs": [
    {
     "name": "stdout",
     "output_type": "stream",
     "text": [
      "123\n"
     ]
    },
    {
     "ename": "NameError",
     "evalue": "name 'lst' is not defined",
     "output_type": "error",
     "traceback": [
      "\u001b[1;31m---------------------------------------------------------------------------\u001b[0m",
      "\u001b[1;31mNameError\u001b[0m                                 Traceback (most recent call last)",
      "Cell \u001b[1;32mIn[13], line 2\u001b[0m\n\u001b[0;32m      1\u001b[0m Am \u001b[38;5;241m=\u001b[39m \u001b[38;5;28minput\u001b[39m()\n\u001b[1;32m----> 2\u001b[0m a \u001b[38;5;241m=\u001b[39m \u001b[43mlst\u001b[49m()\n\u001b[0;32m      3\u001b[0m a\u001b[38;5;241m.\u001b[39mappend(\u001b[38;5;124m\"\u001b[39m\u001b[38;5;124mx\u001b[39m\u001b[38;5;124m\"\u001b[39m)\n",
      "\u001b[1;31mNameError\u001b[0m: name 'lst' is not defined"
     ]
    }
   ],
   "source": [
    "Am = input()\n",
    "a = lst()\n",
    "a.append(\"x\")"
   ]
  },
  {
   "cell_type": "code",
   "execution_count": 14,
   "id": "a71a6059",
   "metadata": {},
   "outputs": [
    {
     "name": "stdout",
     "output_type": "stream",
     "text": [
      "123\n"
     ]
    },
    {
     "ename": "TypeError",
     "evalue": "'list' object is not callable",
     "output_type": "error",
     "traceback": [
      "\u001b[1;31m---------------------------------------------------------------------------\u001b[0m",
      "\u001b[1;31mTypeError\u001b[0m                                 Traceback (most recent call last)",
      "Cell \u001b[1;32mIn[14], line 3\u001b[0m\n\u001b[0;32m      1\u001b[0m Am \u001b[38;5;241m=\u001b[39m \u001b[38;5;28minput\u001b[39m()\n\u001b[0;32m      2\u001b[0m lst \u001b[38;5;241m=\u001b[39m \u001b[38;5;28mlist\u001b[39m()\n\u001b[1;32m----> 3\u001b[0m a \u001b[38;5;241m=\u001b[39m \u001b[43mlst\u001b[49m\u001b[43m(\u001b[49m\u001b[43m)\u001b[49m\n\u001b[0;32m      4\u001b[0m a\u001b[38;5;241m.\u001b[39mappend(\u001b[38;5;124m\"\u001b[39m\u001b[38;5;124mx\u001b[39m\u001b[38;5;124m\"\u001b[39m)\n",
      "\u001b[1;31mTypeError\u001b[0m: 'list' object is not callable"
     ]
    }
   ],
   "source": [
    "Am = input()\n",
    "lst = list()\n",
    "a = lst()\n",
    "a.append(\"x\")"
   ]
  },
  {
   "cell_type": "code",
   "execution_count": 16,
   "id": "1f174c0a",
   "metadata": {},
   "outputs": [
    {
     "name": "stdout",
     "output_type": "stream",
     "text": [
      "123\n",
      "['Am']\n"
     ]
    }
   ],
   "source": [
    "Am = input()\n",
    "lst = list()\n",
    "lst.append(\"Am\")\n",
    "print(lst)"
   ]
  },
  {
   "cell_type": "code",
   "execution_count": 17,
   "id": "4db4951f",
   "metadata": {},
   "outputs": [
    {
     "name": "stdout",
     "output_type": "stream",
     "text": [
      "123\n",
      "['123']\n"
     ]
    }
   ],
   "source": [
    "Am = input()\n",
    "lst = list()\n",
    "lst.append(Am)\n",
    "print(lst)"
   ]
  },
  {
   "cell_type": "code",
   "execution_count": 18,
   "id": "a0174ee9",
   "metadata": {},
   "outputs": [
    {
     "name": "stdout",
     "output_type": "stream",
     "text": [
      "123\n",
      "1\n"
     ]
    }
   ],
   "source": [
    "Am = input()\n",
    "print(Am[0])"
   ]
  },
  {
   "cell_type": "code",
   "execution_count": 19,
   "id": "84d7c341",
   "metadata": {},
   "outputs": [
    {
     "name": "stdout",
     "output_type": "stream",
     "text": [
      "123\n",
      "['1', '2', '3']\n"
     ]
    }
   ],
   "source": [
    "Am = input()\n",
    "lst = list()\n",
    "lst.extend(Am)\n",
    "print(lst)"
   ]
  },
  {
   "cell_type": "code",
   "execution_count": 23,
   "id": "9cbdfb17",
   "metadata": {},
   "outputs": [
    {
     "name": "stdout",
     "output_type": "stream",
     "text": [
      "1234\n",
      "1 4\n",
      "4\n",
      "<class 'str'>\n"
     ]
    }
   ],
   "source": [
    "Am = input()\n",
    "lst = list()\n",
    "lst.extend(Am)\n",
    "print(lst[0],lst[3])\n",
    "print(len(lst))\n",
    "print(type(lst[0]))"
   ]
  },
  {
   "cell_type": "code",
   "execution_count": 25,
   "id": "606e16a7",
   "metadata": {},
   "outputs": [
    {
     "name": "stdout",
     "output_type": "stream",
     "text": [
      "1234\n",
      "1 4\n",
      "4\n",
      "<class 'str'>\n",
      "<class 'str'>\n"
     ]
    }
   ],
   "source": [
    "Am = input()\n",
    "lst = list()\n",
    "lst.extend(Am)\n",
    "print(lst[0],lst[3])\n",
    "print(len(lst))\n",
    "print(type(lst[0]))\n",
    "int(lst[0])\n",
    "print(type(lst[0]))"
   ]
  },
  {
   "cell_type": "code",
   "execution_count": 26,
   "id": "6182d64c",
   "metadata": {},
   "outputs": [
    {
     "name": "stdout",
     "output_type": "stream",
     "text": [
      "1234\n",
      "1 4\n",
      "4\n",
      "<class 'str'>\n",
      "<class 'str'>\n"
     ]
    }
   ],
   "source": [
    "Am = input()\n",
    "lst = list()\n",
    "lst.extend(Am)\n",
    "print(lst[0],lst[3])\n",
    "print(len(lst))\n",
    "print(type(lst[0]))\n",
    "type(int(lst[0]))\n",
    "print(type(lst[0]))"
   ]
  },
  {
   "cell_type": "code",
   "execution_count": 27,
   "id": "c963530b",
   "metadata": {},
   "outputs": [
    {
     "name": "stdout",
     "output_type": "stream",
     "text": [
      "1234\n"
     ]
    },
    {
     "ename": "TypeError",
     "evalue": "'int' object is not iterable",
     "output_type": "error",
     "traceback": [
      "\u001b[1;31m---------------------------------------------------------------------------\u001b[0m",
      "\u001b[1;31mTypeError\u001b[0m                                 Traceback (most recent call last)",
      "Cell \u001b[1;32mIn[27], line 3\u001b[0m\n\u001b[0;32m      1\u001b[0m Am \u001b[38;5;241m=\u001b[39m \u001b[38;5;28mint\u001b[39m(\u001b[38;5;28minput\u001b[39m())\n\u001b[0;32m      2\u001b[0m lst \u001b[38;5;241m=\u001b[39m \u001b[38;5;28mlist\u001b[39m()\n\u001b[1;32m----> 3\u001b[0m \u001b[43mlst\u001b[49m\u001b[38;5;241;43m.\u001b[39;49m\u001b[43mextend\u001b[49m\u001b[43m(\u001b[49m\u001b[43mAm\u001b[49m\u001b[43m)\u001b[49m\n\u001b[0;32m      4\u001b[0m \u001b[38;5;28mprint\u001b[39m(lst[\u001b[38;5;241m0\u001b[39m],lst[\u001b[38;5;241m3\u001b[39m])\n\u001b[0;32m      5\u001b[0m \u001b[38;5;28mprint\u001b[39m(\u001b[38;5;28mlen\u001b[39m(lst))\n",
      "\u001b[1;31mTypeError\u001b[0m: 'int' object is not iterable"
     ]
    }
   ],
   "source": [
    "Am = int(input())\n",
    "lst = list()\n",
    "lst.extend(Am)\n",
    "print(lst[0],lst[3])\n",
    "print(len(lst))\n",
    "print(type(lst[0]))\n",
    "type(int(lst[0]))\n",
    "print(type(lst[0]))"
   ]
  },
  {
   "cell_type": "code",
   "execution_count": 29,
   "id": "f2871d79",
   "metadata": {},
   "outputs": [
    {
     "name": "stdout",
     "output_type": "stream",
     "text": [
      "1234\n",
      "1 4\n",
      "4\n",
      "['1', '2', '3', '4']\n",
      "<class 'str'>\n",
      "<class 'str'>\n"
     ]
    }
   ],
   "source": [
    "Am = input()\n",
    "lst = list()\n",
    "lst.extend(Am)\n",
    "print(lst[0],lst[3])\n",
    "print(len(lst))\n",
    "print(lst)\n",
    "print(type(lst[0]))\n",
    "type(int(lst[0]))\n",
    "print(type(lst[0]))"
   ]
  },
  {
   "cell_type": "code",
   "execution_count": 36,
   "id": "70190f6f",
   "metadata": {},
   "outputs": [
    {
     "name": "stdout",
     "output_type": "stream",
     "text": [
      "1234\n",
      "['1', '2', '3', '4']\n",
      "[1, '2', '3', '4']\n"
     ]
    }
   ],
   "source": [
    "Arm = input()\n",
    "lst = list()\n",
    "lst.extend(Arm)\n",
    "i =0\n",
    "print(lst)\n",
    "lst[0] = 1\n",
    "print(lst)"
   ]
  },
  {
   "cell_type": "code",
   "execution_count": 41,
   "id": "6426f90f",
   "metadata": {},
   "outputs": [
    {
     "name": "stdout",
     "output_type": "stream",
     "text": [
      "153\n",
      "['1', '5', '3']\n",
      "[1, '5', '3']\n",
      "Yes\n"
     ]
    }
   ],
   "source": [
    "Arm = input()\n",
    "lst = list()\n",
    "lst.extend(Arm)\n",
    "print(lst)\n",
    "lst[0] = 1\n",
    "print(lst)\n",
    "if int(Arm) == (int(lst[0])**3 + int(lst[1])**3 + int(lst[2])**3):\n",
    "    print(\"Yes\")\n",
    "else:\n",
    "    print(\"No\")"
   ]
  },
  {
   "cell_type": "code",
   "execution_count": 2,
   "id": "abb84b49",
   "metadata": {},
   "outputs": [
    {
     "name": "stdout",
     "output_type": "stream",
     "text": [
      "153\n",
      "['1', '5', '3']\n",
      "3\n",
      "[1, '5', '3']\n",
      "Yes\n"
     ]
    }
   ],
   "source": [
    "Arm = input()\n",
    "lst = list()\n",
    "lst.extend(Arm)\n",
    "print(lst)\n",
    "print(len(lst))\n",
    "lst[0] = 1\n",
    "print(lst)\n",
    "if int(Arm) == (int(lst[0])**len(Arm) + int(lst[1])**len(Arm) + int(lst[2])**len(Arm)):\n",
    "    print(\"Yes\")\n",
    "else:\n",
    "    print(\"No\")"
   ]
  },
  {
   "cell_type": "code",
   "execution_count": 2,
   "id": "fbe853e6",
   "metadata": {},
   "outputs": [
    {
     "name": "stdout",
     "output_type": "stream",
     "text": [
      "12\n"
     ]
    },
    {
     "ename": "IndexError",
     "evalue": "list index out of range",
     "output_type": "error",
     "traceback": [
      "\u001b[1;31m---------------------------------------------------------------------------\u001b[0m",
      "\u001b[1;31mIndexError\u001b[0m                                Traceback (most recent call last)",
      "Cell \u001b[1;32mIn[2], line 6\u001b[0m\n\u001b[0;32m      4\u001b[0m i\u001b[38;5;241m=\u001b[39m\u001b[38;5;241m1\u001b[39m;x\u001b[38;5;241m=\u001b[39m\u001b[38;5;241m0\u001b[39m;n\u001b[38;5;241m=\u001b[39m\u001b[38;5;241m0\u001b[39m\n\u001b[0;32m      5\u001b[0m \u001b[38;5;28;01mwhile\u001b[39;00m i\u001b[38;5;241m<\u001b[39m\u001b[38;5;241m=\u001b[39m \u001b[38;5;28mlen\u001b[39m(lst):\n\u001b[1;32m----> 6\u001b[0m     n \u001b[38;5;241m==\u001b[39m \u001b[38;5;28mint\u001b[39m(\u001b[43mlst\u001b[49m\u001b[43m[\u001b[49m\u001b[43mx\u001b[49m\u001b[43m]\u001b[49m)\u001b[38;5;241m*\u001b[39m\u001b[38;5;241m*\u001b[39m\u001b[38;5;28mlen\u001b[39m(lst) \u001b[38;5;241m+\u001b[39m n\n\u001b[0;32m      7\u001b[0m     x \u001b[38;5;241m=\u001b[39m x\u001b[38;5;241m+\u001b[39m\u001b[38;5;241m1\u001b[39m\n\u001b[0;32m      8\u001b[0m \u001b[38;5;28;01mif\u001b[39;00m \u001b[38;5;28mint\u001b[39m(Armstrong) \u001b[38;5;241m==\u001b[39m n:\n",
      "\u001b[1;31mIndexError\u001b[0m: list index out of range"
     ]
    }
   ],
   "source": [
    "Armstrong = input()\n",
    "lst = list()\n",
    "lst.extend(Armstrong)\n",
    "i=1;x=0;n=0\n",
    "while i<= len(lst):\n",
    "    n == int(lst[x])**len(lst) + n\n",
    "    x = x+1\n",
    "if int(Armstrong) == n:\n",
    "    print(\"The number is an Armstrong Number\")\n",
    "else:\n",
    "    print(\"The number is NOT an Armstrong Number\")"
   ]
  },
  {
   "cell_type": "code",
   "execution_count": 3,
   "id": "fdb85858",
   "metadata": {},
   "outputs": [
    {
     "name": "stdout",
     "output_type": "stream",
     "text": [
      "153\n"
     ]
    },
    {
     "ename": "IndexError",
     "evalue": "list index out of range",
     "output_type": "error",
     "traceback": [
      "\u001b[1;31m---------------------------------------------------------------------------\u001b[0m",
      "\u001b[1;31mIndexError\u001b[0m                                Traceback (most recent call last)",
      "Cell \u001b[1;32mIn[3], line 6\u001b[0m\n\u001b[0;32m      4\u001b[0m i\u001b[38;5;241m=\u001b[39m\u001b[38;5;241m1\u001b[39m;x\u001b[38;5;241m=\u001b[39m\u001b[38;5;241m0\u001b[39m;n\u001b[38;5;241m=\u001b[39m\u001b[38;5;241m0\u001b[39m\n\u001b[0;32m      5\u001b[0m \u001b[38;5;28;01mwhile\u001b[39;00m i\u001b[38;5;241m<\u001b[39m\u001b[38;5;241m=\u001b[39m \u001b[38;5;28mlen\u001b[39m(lst):\n\u001b[1;32m----> 6\u001b[0m     n \u001b[38;5;241m==\u001b[39m (\u001b[38;5;28mint\u001b[39m(\u001b[43mlst\u001b[49m\u001b[43m[\u001b[49m\u001b[43mx\u001b[49m\u001b[43m]\u001b[49m)\u001b[38;5;241m*\u001b[39m\u001b[38;5;241m*\u001b[39m\u001b[38;5;28mlen\u001b[39m(lst)) \u001b[38;5;241m+\u001b[39m n\n\u001b[0;32m      7\u001b[0m     x \u001b[38;5;241m=\u001b[39m x\u001b[38;5;241m+\u001b[39m\u001b[38;5;241m1\u001b[39m\n\u001b[0;32m      8\u001b[0m \u001b[38;5;28;01mif\u001b[39;00m \u001b[38;5;28mint\u001b[39m(Armstrong) \u001b[38;5;241m==\u001b[39m n:\n",
      "\u001b[1;31mIndexError\u001b[0m: list index out of range"
     ]
    }
   ],
   "source": [
    "Armstrong = input()\n",
    "lst = list()\n",
    "lst.extend(Armstrong)\n",
    "i=1;x=0;n=0\n",
    "while i<= len(lst):\n",
    "    n == (int(lst[x])**len(lst)) + n\n",
    "    x = x+1\n",
    "if int(Armstrong) == n:\n",
    "    print(\"The number is an Armstrong Number\")\n",
    "else:\n",
    "    print(\"The number is NOT an Armstrong Number\")"
   ]
  },
  {
   "cell_type": "code",
   "execution_count": 5,
   "id": "80fe2834",
   "metadata": {},
   "outputs": [
    {
     "name": "stdout",
     "output_type": "stream",
     "text": [
      "153\n"
     ]
    },
    {
     "ename": "IndexError",
     "evalue": "list index out of range",
     "output_type": "error",
     "traceback": [
      "\u001b[1;31m---------------------------------------------------------------------------\u001b[0m",
      "\u001b[1;31mIndexError\u001b[0m                                Traceback (most recent call last)",
      "Cell \u001b[1;32mIn[5], line 8\u001b[0m\n\u001b[0;32m      6\u001b[0m n\u001b[38;5;241m=\u001b[39m\u001b[38;5;241m0\u001b[39m\n\u001b[0;32m      7\u001b[0m \u001b[38;5;28;01mwhile\u001b[39;00m i\u001b[38;5;241m<\u001b[39m\u001b[38;5;241m=\u001b[39m \u001b[38;5;28mlen\u001b[39m(lst):\n\u001b[1;32m----> 8\u001b[0m     n \u001b[38;5;241m==\u001b[39m (\u001b[38;5;28mint\u001b[39m(\u001b[43mlst\u001b[49m\u001b[43m[\u001b[49m\u001b[43mx\u001b[49m\u001b[43m]\u001b[49m)\u001b[38;5;241m*\u001b[39m\u001b[38;5;241m*\u001b[39m\u001b[38;5;28mlen\u001b[39m(lst)) \u001b[38;5;241m+\u001b[39m n\n\u001b[0;32m      9\u001b[0m     x \u001b[38;5;241m=\u001b[39m x\u001b[38;5;241m+\u001b[39m\u001b[38;5;241m1\u001b[39m\n\u001b[0;32m     10\u001b[0m \u001b[38;5;28;01mif\u001b[39;00m \u001b[38;5;28mint\u001b[39m(Armstrong) \u001b[38;5;241m==\u001b[39m n:\n",
      "\u001b[1;31mIndexError\u001b[0m: list index out of range"
     ]
    }
   ],
   "source": [
    "Armstrong = input()\n",
    "lst = list()\n",
    "lst.extend(Armstrong)\n",
    "i=1\n",
    "x=0\n",
    "n=0\n",
    "while i<= len(lst):\n",
    "    n == (int(lst[x])**len(lst)) + n\n",
    "    x = x+1\n",
    "if int(Armstrong) == n:\n",
    "    print(\"The number is an Armstrong Number\")\n",
    "else:\n",
    "    print(\"The number is NOT an Armstrong Number\")"
   ]
  },
  {
   "cell_type": "code",
   "execution_count": 1,
   "id": "96612340",
   "metadata": {
    "scrolled": true
   },
   "outputs": [
    {
     "name": "stdout",
     "output_type": "stream",
     "text": [
      "153\n"
     ]
    },
    {
     "ename": "IndexError",
     "evalue": "list index out of range",
     "output_type": "error",
     "traceback": [
      "\u001b[1;31m---------------------------------------------------------------------------\u001b[0m",
      "\u001b[1;31mIndexError\u001b[0m                                Traceback (most recent call last)",
      "Cell \u001b[1;32mIn[1], line 8\u001b[0m\n\u001b[0;32m      6\u001b[0m x\u001b[38;5;241m=\u001b[39m\u001b[38;5;241m0\u001b[39m\n\u001b[0;32m      7\u001b[0m \u001b[38;5;28;01mwhile\u001b[39;00m i\u001b[38;5;241m<\u001b[39m\u001b[38;5;241m=\u001b[39m \u001b[38;5;28mlen\u001b[39m(lst):\n\u001b[1;32m----> 8\u001b[0m     n \u001b[38;5;241m==\u001b[39m (\u001b[38;5;28mint\u001b[39m(\u001b[43mlst\u001b[49m\u001b[43m[\u001b[49m\u001b[43mx\u001b[49m\u001b[43m]\u001b[49m)\u001b[38;5;241m*\u001b[39m\u001b[38;5;241m*\u001b[39m\u001b[38;5;28mlen\u001b[39m(lst)) \u001b[38;5;241m+\u001b[39m n\n\u001b[0;32m      9\u001b[0m     x \u001b[38;5;241m=\u001b[39m x\u001b[38;5;241m+\u001b[39m\u001b[38;5;241m1\u001b[39m\n\u001b[0;32m     10\u001b[0m \u001b[38;5;28;01mif\u001b[39;00m \u001b[38;5;28mint\u001b[39m(Armstrong) \u001b[38;5;241m==\u001b[39m n:\n",
      "\u001b[1;31mIndexError\u001b[0m: list index out of range"
     ]
    }
   ],
   "source": [
    "Armstrong = input()\n",
    "lst = list()\n",
    "lst.extend(Armstrong)\n",
    "i=1\n",
    "n=0\n",
    "x=0\n",
    "while i<= len(lst):\n",
    "    n == (int(lst[x])**len(lst)) + n\n",
    "    x = x+1\n",
    "if int(Armstrong) == n:\n",
    "    print(\"The number is an Armstrong Number\")\n",
    "else:\n",
    "    print(\"The number is NOT an Armstrong Number\")"
   ]
  },
  {
   "cell_type": "code",
   "execution_count": 5,
   "id": "4b6ed8d9",
   "metadata": {},
   "outputs": [
    {
     "name": "stdout",
     "output_type": "stream",
     "text": [
      "153\n",
      "['1', '5', '3']\n",
      "1\n",
      "0\n",
      "5\n",
      "0\n",
      "3\n",
      "0\n",
      "The number is NOT an Armstrong Number\n"
     ]
    }
   ],
   "source": [
    "# Take a positive integer(3-digit) as input from the user.\n",
    "# Check whether the given number is an Armstrong number.\n",
    "# for example 153 = 1**3 + 5**3 + 3**3\n",
    "#             407 = 4**3 + 0**3 + 7**3\n",
    "\n",
    "Armstrong = input()\n",
    "lst = list()\n",
    "lst.extend(Armstrong)\n",
    "i=1\n",
    "n=0\n",
    "x=0\n",
    "print(lst)\n",
    "while i<= len(lst):\n",
    "    print(lst[x])\n",
    "    n == (int(lst[x])**len(lst)) + n\n",
    "    print(n)\n",
    "    x = x+1\n",
    "    i = i+1\n",
    "if int(Armstrong) == n:\n",
    "    print(\"The number is an Armstrong Number\")\n",
    "else:\n",
    "    print(\"The number is NOT an Armstrong Number\")"
   ]
  },
  {
   "cell_type": "code",
   "execution_count": 6,
   "id": "2079541d",
   "metadata": {},
   "outputs": [
    {
     "name": "stdout",
     "output_type": "stream",
     "text": [
      "153\n",
      "['1', '5', '3']\n",
      "1\n",
      "1\n",
      "5\n",
      "126\n",
      "3\n",
      "153\n",
      "The number is an Armstrong Number\n"
     ]
    }
   ],
   "source": [
    "# Take a positive integer(3-digit) as input from the user.\n",
    "# Check whether the given number is an Armstrong number.\n",
    "# for example 153 = 1**3 + 5**3 + 3**3\n",
    "#             407 = 4**3 + 0**3 + 7**3\n",
    "\n",
    "Armstrong = input()\n",
    "lst = list()\n",
    "lst.extend(Armstrong)\n",
    "i=1\n",
    "n=0\n",
    "x=0\n",
    "print(lst)\n",
    "while i<= len(lst):\n",
    "    print(lst[x])\n",
    "    n = (int(lst[x])**len(lst)) + n\n",
    "    print(n)\n",
    "    x = x+1\n",
    "    i = i+1\n",
    "if int(Armstrong) == n:\n",
    "    print(\"The number is an Armstrong Number\")\n",
    "else:\n",
    "    print(\"The number is NOT an Armstrong Number\")"
   ]
  },
  {
   "cell_type": "markdown",
   "id": "585aad56",
   "metadata": {},
   "source": [
    "# \"DONE\""
   ]
  },
  {
   "cell_type": "code",
   "execution_count": 3,
   "id": "dbb7a3aa",
   "metadata": {
    "scrolled": true
   },
   "outputs": [
    {
     "name": "stdout",
     "output_type": "stream",
     "text": [
      "4679307774\n",
      "['4', '6', '7', '9', '3', '0', '7', '7', '7', '4']\n",
      "4\n",
      "1048576\n",
      "6\n",
      "61514752\n",
      "7\n",
      "343990001\n",
      "9\n",
      "3830774402\n",
      "3\n",
      "3830833451\n",
      "0\n",
      "3830833451\n",
      "7\n",
      "4113308700\n",
      "7\n",
      "4395783949\n",
      "7\n",
      "4678259198\n",
      "4\n",
      "4679307774\n",
      "The number is an Armstrong Number\n"
     ]
    }
   ],
   "source": [
    "# Take a positive integer(3-digit \"OR\" -- N-digit) as input from the user.\n",
    "# Check whether the given number is an Armstrong number.\n",
    "# for example 153 = 1**3 + 5**3 + 3**3\n",
    "#             407 = 4**3 + 0**3 + 7**3\n",
    "\n",
    "Armstrong = input()\n",
    "lst = list()\n",
    "lst.extend(Armstrong)\n",
    "i=1\n",
    "n=0\n",
    "x=0\n",
    "print(lst)\n",
    "while i<= len(lst):\n",
    "    print(lst[x])\n",
    "    n = (int(lst[x])**len(lst)) + n\n",
    "    print(n)\n",
    "    x = x+1\n",
    "    i = i+1\n",
    "if int(Armstrong) == n:\n",
    "    print(\"The number is an Armstrong Number\")\n",
    "else:\n",
    "    print(\"The number is NOT an Armstrong Number\")"
   ]
  },
  {
   "cell_type": "code",
   "execution_count": 9,
   "id": "953206e9",
   "metadata": {},
   "outputs": [
    {
     "data": {
      "text/plain": [
       "4449"
      ]
     },
     "execution_count": 9,
     "metadata": {},
     "output_type": "execute_result"
    }
   ],
   "source": [
    "8**4+2**4+3**4+4**4"
   ]
  },
  {
   "cell_type": "code",
   "execution_count": 12,
   "id": "b9c09337",
   "metadata": {},
   "outputs": [
    {
     "name": "stdout",
     "output_type": "stream",
     "text": [
      "4679307774\n",
      "The number is an Armstrong Number\n"
     ]
    }
   ],
   "source": [
    "# Take a positive integer(3-digit) as input from the user.\n",
    "# Check whether the given number is an Armstrong number.\n",
    "# for example 153 = 1**3 + 5**3 + 3**3\n",
    "#             407 = 4**3 + 0**3 + 7**3\n",
    "\n",
    "Armstrong = input()\n",
    "lst = list()\n",
    "lst.extend(Armstrong)\n",
    "i=1\n",
    "n=0\n",
    "x=0\n",
    "\n",
    "while i<= len(lst):\n",
    "    n = (int(lst[x])**len(lst)) + n\n",
    "    x = x+1\n",
    "    i = i+1\n",
    "if int(Armstrong) == n:\n",
    "    print(\"The number is an Armstrong Number\")\n",
    "else:\n",
    "    print(\"The number is NOT an Armstrong Number\")"
   ]
  },
  {
   "cell_type": "code",
   "execution_count": 2,
   "id": "a8a4f8ae",
   "metadata": {},
   "outputs": [
    {
     "name": "stdout",
     "output_type": "stream",
     "text": [
      "Enter Starting Digit:1\n",
      "Enter Ending Digit:  100\n"
     ]
    },
    {
     "ename": "NameError",
     "evalue": "name 'n' is not defined",
     "output_type": "error",
     "traceback": [
      "\u001b[1;31m---------------------------------------------------------------------------\u001b[0m",
      "\u001b[1;31mNameError\u001b[0m                                 Traceback (most recent call last)",
      "Cell \u001b[1;32mIn[2], line 23\u001b[0m\n\u001b[0;32m     21\u001b[0m         x \u001b[38;5;241m=\u001b[39m x\u001b[38;5;241m+\u001b[39m\u001b[38;5;241m1\u001b[39m\n\u001b[0;32m     22\u001b[0m         i \u001b[38;5;241m=\u001b[39m i\u001b[38;5;241m+\u001b[39m\u001b[38;5;241m1\u001b[39m\n\u001b[1;32m---> 23\u001b[0m \u001b[38;5;28;01mif\u001b[39;00m \u001b[38;5;28mint\u001b[39m(Armstrong) \u001b[38;5;241m==\u001b[39m \u001b[43mn\u001b[49m:\n\u001b[0;32m     24\u001b[0m     \u001b[38;5;28mprint\u001b[39m(\u001b[38;5;124m\"\u001b[39m\u001b[38;5;124mThe number is an Armstrong Number:\u001b[39m\u001b[38;5;124m\"\u001b[39m,n,end\u001b[38;5;241m=\u001b[39m\u001b[38;5;124m\"\u001b[39m\u001b[38;5;124m\"\u001b[39m)\n",
      "\u001b[1;31mNameError\u001b[0m: name 'n' is not defined"
     ]
    }
   ],
   "source": [
    "# Take a positive integer(3-digit) as input from the user.\n",
    "# Check whether the given number is an Armstrong number.\n",
    "# for example 153 = 1**3 + 5**3 + 3**3\n",
    "#             407 = 4**3 + 0**3 + 7**3\n",
    "\n",
    "### Make a new program where you (USER) have to enter a limit that is starting number and ending number to find Armstrong \n",
    "#### Numbers in between that limit.\n",
    "\n",
    "S = int(input(\"Enter Starting Digit:\"))\n",
    "E = int(input(\"Enter Ending Digit:  \"))\n",
    "Armstrong = 0\n",
    "while S<=Armstrong<=E:\n",
    "##    Armstrong = input()\n",
    "    lst = list()\n",
    "    lst.extend(Armstrong)\n",
    "    i=1\n",
    "    n=0\n",
    "    x=0\n",
    "    while i<= len(lst):\n",
    "        n = (int(lst[x])**len(lst)) + n\n",
    "        x = x+1\n",
    "        i = i+1\n",
    "if int(Armstrong) == n:\n",
    "    print(\"The number is an Armstrong Number:\",n,end=\"\")\n",
    "##else:\n",
    "##    print(\"The number is NOT an Armstrong Number\")"
   ]
  },
  {
   "cell_type": "code",
   "execution_count": 3,
   "id": "cccf143d",
   "metadata": {},
   "outputs": [
    {
     "name": "stdout",
     "output_type": "stream",
     "text": [
      "Enter Starting Digit:1\n",
      "Enter Ending Digit:  100\n"
     ]
    },
    {
     "ename": "NameError",
     "evalue": "name 'n' is not defined",
     "output_type": "error",
     "traceback": [
      "\u001b[1;31m---------------------------------------------------------------------------\u001b[0m",
      "\u001b[1;31mNameError\u001b[0m                                 Traceback (most recent call last)",
      "Cell \u001b[1;32mIn[3], line 24\u001b[0m\n\u001b[0;32m     22\u001b[0m         x \u001b[38;5;241m=\u001b[39m x\u001b[38;5;241m+\u001b[39m\u001b[38;5;241m1\u001b[39m\n\u001b[0;32m     23\u001b[0m         i \u001b[38;5;241m=\u001b[39m i\u001b[38;5;241m+\u001b[39m\u001b[38;5;241m1\u001b[39m\n\u001b[1;32m---> 24\u001b[0m \u001b[38;5;28;01mif\u001b[39;00m \u001b[38;5;28mint\u001b[39m(Armstrong) \u001b[38;5;241m==\u001b[39m \u001b[43mn\u001b[49m:\n\u001b[0;32m     25\u001b[0m     \u001b[38;5;28mprint\u001b[39m(\u001b[38;5;124m\"\u001b[39m\u001b[38;5;124mThe number is an Armstrong Number:\u001b[39m\u001b[38;5;124m\"\u001b[39m,n,end\u001b[38;5;241m=\u001b[39m\u001b[38;5;124m\"\u001b[39m\u001b[38;5;124m\"\u001b[39m)\n",
      "\u001b[1;31mNameError\u001b[0m: name 'n' is not defined"
     ]
    }
   ],
   "source": [
    "# Take a positive integer(3-digit) as input from the user.\n",
    "# Check whether the given number is an Armstrong number.\n",
    "# for example 153 = 1**3 + 5**3 + 3**3\n",
    "#             407 = 4**3 + 0**3 + 7**3\n",
    "\n",
    "### Make a new program where you (USER) have to enter a limit that is starting number and ending number to find Armstrong \n",
    "#### Numbers in between that limit.\n",
    "\n",
    "S = int(input(\"Enter Starting Digit:\"))\n",
    "E = int(input(\"Enter Ending Digit:  \"))\n",
    "Armstrong = 0\n",
    "while S<=Armstrong<=E:\n",
    "##    Armstrong = input()\n",
    "    global n\n",
    "    lst = list()\n",
    "    lst.extend(Armstrong)\n",
    "    i=1\n",
    "    n=0\n",
    "    x=0\n",
    "    while i<= len(lst):\n",
    "        n = (int(lst[x])**len(lst)) + n\n",
    "        x = x+1\n",
    "        i = i+1\n",
    "if int(Armstrong) == n:\n",
    "    print(\"The number is an Armstrong Number:\",n,end=\"\")\n",
    "##else:\n",
    "##    print(\"The number is NOT an Armstrong Number\")"
   ]
  },
  {
   "cell_type": "code",
   "execution_count": 4,
   "id": "4ffc80f0",
   "metadata": {},
   "outputs": [
    {
     "name": "stdout",
     "output_type": "stream",
     "text": [
      "Enter Starting Digit:1\n",
      "Enter Ending Digit:  100\n"
     ]
    },
    {
     "ename": "NameError",
     "evalue": "name 'n' is not defined",
     "output_type": "error",
     "traceback": [
      "\u001b[1;31m---------------------------------------------------------------------------\u001b[0m",
      "\u001b[1;31mNameError\u001b[0m                                 Traceback (most recent call last)",
      "Cell \u001b[1;32mIn[4], line 24\u001b[0m\n\u001b[0;32m     22\u001b[0m         x \u001b[38;5;241m=\u001b[39m x\u001b[38;5;241m+\u001b[39m\u001b[38;5;241m1\u001b[39m\n\u001b[0;32m     23\u001b[0m         i \u001b[38;5;241m=\u001b[39m i\u001b[38;5;241m+\u001b[39m\u001b[38;5;241m1\u001b[39m\n\u001b[1;32m---> 24\u001b[0m \u001b[38;5;28;01mif\u001b[39;00m \u001b[38;5;28mint\u001b[39m(Armstrong) \u001b[38;5;241m==\u001b[39m \u001b[38;5;28mint\u001b[39m(\u001b[43mn\u001b[49m):\n\u001b[0;32m     25\u001b[0m     \u001b[38;5;28mprint\u001b[39m(\u001b[38;5;124m\"\u001b[39m\u001b[38;5;124mThe number is an Armstrong Number:\u001b[39m\u001b[38;5;124m\"\u001b[39m,n,end\u001b[38;5;241m=\u001b[39m\u001b[38;5;124m\"\u001b[39m\u001b[38;5;124m\"\u001b[39m)\n",
      "\u001b[1;31mNameError\u001b[0m: name 'n' is not defined"
     ]
    }
   ],
   "source": [
    "# Take a positive integer(3-digit) as input from the user.\n",
    "# Check whether the given number is an Armstrong number.\n",
    "# for example 153 = 1**3 + 5**3 + 3**3\n",
    "#             407 = 4**3 + 0**3 + 7**3\n",
    "\n",
    "### Make a new program where you (USER) have to enter a limit that is starting number and ending number to find Armstrong \n",
    "#### Numbers in between that limit.\n",
    "\n",
    "S = int(input(\"Enter Starting Digit:\"))\n",
    "E = int(input(\"Enter Ending Digit:  \"))\n",
    "Armstrong = 0\n",
    "while S<=Armstrong<=E:\n",
    "##    Armstrong = input()\n",
    "##    global n\n",
    "    lst = list()\n",
    "    lst.extend(Armstrong)\n",
    "    i=1\n",
    "    n=0\n",
    "    x=0\n",
    "    while i<= len(lst):\n",
    "        n = (int(lst[x])**len(lst)) + n\n",
    "        x = x+1\n",
    "        i = i+1\n",
    "if int(Armstrong) == int(n):\n",
    "    print(\"The number is an Armstrong Number:\",n,end=\"\")\n",
    "##else:\n",
    "##    print(\"The number is NOT an Armstrong Number\")"
   ]
  },
  {
   "cell_type": "code",
   "execution_count": 5,
   "id": "fed08325",
   "metadata": {},
   "outputs": [
    {
     "ename": "SyntaxError",
     "evalue": "invalid syntax (2815457216.py, line 24)",
     "output_type": "error",
     "traceback": [
      "\u001b[1;36m  Cell \u001b[1;32mIn[5], line 24\u001b[1;36m\u001b[0m\n\u001b[1;33m    if (int(Armstrong) == n and n= int()):\u001b[0m\n\u001b[1;37m                                 ^\u001b[0m\n\u001b[1;31mSyntaxError\u001b[0m\u001b[1;31m:\u001b[0m invalid syntax\n"
     ]
    }
   ],
   "source": [
    "# Take a positive integer(3-digit) as input from the user.\n",
    "# Check whether the given number is an Armstrong number.\n",
    "# for example 153 = 1**3 + 5**3 + 3**3\n",
    "#             407 = 4**3 + 0**3 + 7**3\n",
    "\n",
    "### Make a new program where you (USER) have to enter a limit that is starting number and ending number to find Armstrong \n",
    "#### Numbers in between that limit.\n",
    "\n",
    "S = int(input(\"Enter Starting Digit:\"))\n",
    "E = int(input(\"Enter Ending Digit:  \"))\n",
    "Armstrong = 0\n",
    "while S<=Armstrong<=E:\n",
    "##    Armstrong = input()\n",
    "    global n\n",
    "    lst = list()\n",
    "    lst.extend(Armstrong)\n",
    "    i=1\n",
    "    n=0\n",
    "    x=0\n",
    "    while i<= len(lst):\n",
    "        n = (int(lst[x])**len(lst)) + n\n",
    "        x = x+1\n",
    "        i = i+1\n",
    "if (int(Armstrong) == n and n= int()):\n",
    "    print(\"The number is an Armstrong Number:\",n,end=\"\")\n",
    "##else:\n",
    "##    print(\"The number is NOT an Armstrong Number\")"
   ]
  },
  {
   "cell_type": "code",
   "execution_count": 6,
   "id": "4d20241f",
   "metadata": {},
   "outputs": [
    {
     "name": "stdout",
     "output_type": "stream",
     "text": [
      "Enter Starting Digit:1\n",
      "Enter Ending Digit:  100\n"
     ]
    },
    {
     "ename": "NameError",
     "evalue": "name 'n' is not defined",
     "output_type": "error",
     "traceback": [
      "\u001b[1;31m---------------------------------------------------------------------------\u001b[0m",
      "\u001b[1;31mNameError\u001b[0m                                 Traceback (most recent call last)",
      "Cell \u001b[1;32mIn[6], line 24\u001b[0m\n\u001b[0;32m     22\u001b[0m         x \u001b[38;5;241m=\u001b[39m x\u001b[38;5;241m+\u001b[39m\u001b[38;5;241m1\u001b[39m\n\u001b[0;32m     23\u001b[0m         i \u001b[38;5;241m=\u001b[39m i\u001b[38;5;241m+\u001b[39m\u001b[38;5;241m1\u001b[39m\n\u001b[1;32m---> 24\u001b[0m \u001b[38;5;28;01mif\u001b[39;00m (\u001b[43mn\u001b[49m \u001b[38;5;241m==\u001b[39m \u001b[38;5;28mint\u001b[39m() \u001b[38;5;129;01mand\u001b[39;00m \u001b[38;5;28mint\u001b[39m(Armstrong) \u001b[38;5;241m==\u001b[39m n):\n\u001b[0;32m     25\u001b[0m     \u001b[38;5;28mprint\u001b[39m(\u001b[38;5;124m\"\u001b[39m\u001b[38;5;124mThe number is an Armstrong Number:\u001b[39m\u001b[38;5;124m\"\u001b[39m,n,end\u001b[38;5;241m=\u001b[39m\u001b[38;5;124m\"\u001b[39m\u001b[38;5;124m\"\u001b[39m)\n",
      "\u001b[1;31mNameError\u001b[0m: name 'n' is not defined"
     ]
    }
   ],
   "source": [
    "# Take a positive integer(3-digit) as input from the user.\n",
    "# Check whether the given number is an Armstrong number.\n",
    "# for example 153 = 1**3 + 5**3 + 3**3\n",
    "#             407 = 4**3 + 0**3 + 7**3\n",
    "\n",
    "### Make a new program where you (USER) have to enter a limit that is starting number and ending number to find Armstrong \n",
    "#### Numbers in between that limit.\n",
    "\n",
    "S = int(input(\"Enter Starting Digit:\"))\n",
    "E = int(input(\"Enter Ending Digit:  \"))\n",
    "Armstrong = 0\n",
    "while S<=Armstrong<=E:\n",
    "##    Armstrong = input()\n",
    "    global n\n",
    "    lst = list()\n",
    "    lst.extend(Armstrong)\n",
    "    i=1\n",
    "    n=0\n",
    "    x=0\n",
    "    while i<= len(lst):\n",
    "        n = (int(lst[x])**len(lst)) + n\n",
    "        x = x+1\n",
    "        i = i+1\n",
    "if (n == int() and int(Armstrong) == n):\n",
    "    print(\"The number is an Armstrong Number:\",n,end=\"\")\n",
    "##else:\n",
    "##    print(\"The number is NOT an Armstrong Number\")"
   ]
  },
  {
   "cell_type": "code",
   "execution_count": 10,
   "id": "a674fecb",
   "metadata": {},
   "outputs": [
    {
     "ename": "SyntaxError",
     "evalue": "invalid syntax. Maybe you meant '==' or ':=' instead of '='? (1639661745.py, line 18)",
     "output_type": "error",
     "traceback": [
      "\u001b[1;36m  Cell \u001b[1;32mIn[10], line 18\u001b[1;36m\u001b[0m\n\u001b[1;33m    (n=0 and n= int())\u001b[0m\n\u001b[1;37m     ^\u001b[0m\n\u001b[1;31mSyntaxError\u001b[0m\u001b[1;31m:\u001b[0m invalid syntax. Maybe you meant '==' or ':=' instead of '='?\n"
     ]
    }
   ],
   "source": [
    "# Take a positive integer(3-digit) as input from the user.\n",
    "# Check whether the given number is an Armstrong number.\n",
    "# for example 153 = 1**3 + 5**3 + 3**3\n",
    "#             407 = 4**3 + 0**3 + 7**3\n",
    "\n",
    "### Make a new program where you (USER) have to enter a limit that is starting number and ending number to find Armstrong \n",
    "#### Numbers in between that limit.\n",
    "\n",
    "S = int(input(\"Enter Starting Digit:\"))\n",
    "E = int(input(\"Enter Ending Digit:  \"))\n",
    "Armstrong = 0\n",
    "while S<=Armstrong<=E:\n",
    "##    Armstrong = input()\n",
    "##    global n\n",
    "    lst = list()\n",
    "    lst.extend(Armstrong)\n",
    "    i=1\n",
    "    (n=0 and n= int())\n",
    "    x=0\n",
    "    while i<= len(lst):\n",
    "        n = (int(lst[x])**len(lst)) + n\n",
    "        x = x+1\n",
    "        i = i+1\n",
    "\n",
    "## n = int()\n",
    "if int(Armstrong) == n:\n",
    "    print(\"The Armstrong Numbers are:\",n,end=\"\")\n",
    "##else:\n",
    "##    print(\"The number is NOT an Armstrong Number\")"
   ]
  },
  {
   "cell_type": "code",
   "execution_count": 11,
   "id": "e13a38cd",
   "metadata": {},
   "outputs": [
    {
     "ename": "SyntaxError",
     "evalue": "invalid syntax (450379597.py, line 18)",
     "output_type": "error",
     "traceback": [
      "\u001b[1;36m  Cell \u001b[1;32mIn[11], line 18\u001b[1;36m\u001b[0m\n\u001b[1;33m    (n==0 and n= int())\u001b[0m\n\u001b[1;37m               ^\u001b[0m\n\u001b[1;31mSyntaxError\u001b[0m\u001b[1;31m:\u001b[0m invalid syntax\n"
     ]
    }
   ],
   "source": [
    "# Take a positive integer(3-digit) as input from the user.\n",
    "# Check whether the given number is an Armstrong number.\n",
    "# for example 153 = 1**3 + 5**3 + 3**3\n",
    "#             407 = 4**3 + 0**3 + 7**3\n",
    "\n",
    "### Make a new program where you (USER) have to enter a limit that is starting number and ending number to find Armstrong \n",
    "#### Numbers in between that limit.\n",
    "\n",
    "S = int(input(\"Enter Starting Digit:\"))\n",
    "E = int(input(\"Enter Ending Digit:  \"))\n",
    "Armstrong = 0\n",
    "while S<=Armstrong<=E:\n",
    "##    Armstrong = input()\n",
    "##    global n\n",
    "    lst = list()\n",
    "    lst.extend(Armstrong)\n",
    "    i=1\n",
    "    (n==0 and n= int())\n",
    "    x=0\n",
    "    while i<= len(lst):\n",
    "        n = (int(lst[x])**len(lst)) + n\n",
    "        x = x+1\n",
    "        i = i+1\n",
    "\n",
    "## n = int()\n",
    "if int(Armstrong) == n:\n",
    "    print(\"The Armstrong Numbers are:\",n,end=\"\")\n",
    "##else:\n",
    "##    print(\"The number is NOT an Armstrong Number\")"
   ]
  },
  {
   "cell_type": "code",
   "execution_count": 15,
   "id": "6344f1a2",
   "metadata": {},
   "outputs": [
    {
     "name": "stdout",
     "output_type": "stream",
     "text": [
      "Enter Starting Digit:1\n",
      "Enter Ending Digit:  5\n",
      "The Armstrong Numbers are: 0"
     ]
    }
   ],
   "source": [
    "# Take a positive integer(3-digit) as input from the user.\n",
    "# Check whether the given number is an Armstrong number.\n",
    "# for example 153 = 1**3 + 5**3 + 3**3\n",
    "#             407 = 4**3 + 0**3 + 7**3\n",
    "\n",
    "### Make a new program where you (USER) have to enter a limit that is starting number and ending number to find Armstrong \n",
    "#### Numbers in between that limit.\n",
    "\n",
    "S = int(input(\"Enter Starting Digit:\"))\n",
    "E = int(input(\"Enter Ending Digit:  \"))\n",
    "Armstrong = 0\n",
    "while S<=Armstrong<=E:\n",
    "    ##    Armstrong = input()\n",
    "    ##    global n\n",
    "    lst = list()\n",
    "    print(lst)\n",
    "    lst.extend(Armstrong)\n",
    "    i=1\n",
    "    (n==0 and n== int())\n",
    "    x=0\n",
    "    while i<= len(lst):\n",
    "        print(n)\n",
    "        n = (int(lst[x])**len(lst)) + n\n",
    "        x = x+1\n",
    "        i = i+1\n",
    "    Armstrong = Armstrong + 1\n",
    "## n = int()\n",
    "if int(Armstrong) == n:\n",
    "    print(\"The Armstrong Numbers are:\",n,end=\"\")\n",
    "##else:\n",
    "##    print(\"The number is NOT an Armstrong Number\")"
   ]
  },
  {
   "cell_type": "code",
   "execution_count": 16,
   "id": "519ce960",
   "metadata": {},
   "outputs": [
    {
     "name": "stdout",
     "output_type": "stream",
     "text": [
      "Enter Starting Digit:1\n",
      "Enter Ending Digit:  5\n"
     ]
    }
   ],
   "source": [
    "# Take a positive integer(3-digit) as input from the user.\n",
    "# Check whether the given number is an Armstrong number.\n",
    "# for example 153 = 1**3 + 5**3 + 3**3\n",
    "#             407 = 4**3 + 0**3 + 7**3\n",
    "\n",
    "### Make a new program where you (USER) have to enter a limit that is starting number and ending number to find Armstrong \n",
    "#### Numbers in between that limit.\n",
    "\n",
    "S = int(input(\"Enter Starting Digit:\"))\n",
    "E = int(input(\"Enter Ending Digit:  \"))\n",
    "Armstrong = 0\n",
    "while S<=Armstrong<=E:\n",
    "    ##    Armstrong = input()\n",
    "    ##    global n\n",
    "    lst = list()\n",
    "    print(lst)\n",
    "    lst.extend(Armstrong)\n",
    "    i=1\n",
    "    (n==0 and n== int())\n",
    "    x=0\n",
    "    while i<= len(lst):\n",
    "        print(n)\n",
    "        n = (int(lst[x])**len(lst)) + n\n",
    "        x = x+1\n",
    "        i = i+1\n",
    "    if int(Armstrong) == n:\n",
    "        print(\"The Armstrong Numbers are:\",n,end=\"\")\n",
    "    \n",
    "    Armstrong = Armstrong + 1\n",
    "\n",
    "## n = int()\n",
    "##else:\n",
    "##    print(\"The number is NOT an Armstrong Number\")"
   ]
  },
  {
   "cell_type": "code",
   "execution_count": 17,
   "id": "f8f6c413",
   "metadata": {},
   "outputs": [
    {
     "name": "stdout",
     "output_type": "stream",
     "text": [
      "Enter Starting Digit:1\n",
      "Enter Ending Digit:  5\n",
      "[]\n"
     ]
    },
    {
     "ename": "TypeError",
     "evalue": "'int' object is not iterable",
     "output_type": "error",
     "traceback": [
      "\u001b[1;31m---------------------------------------------------------------------------\u001b[0m",
      "\u001b[1;31mTypeError\u001b[0m                                 Traceback (most recent call last)",
      "Cell \u001b[1;32mIn[17], line 17\u001b[0m\n\u001b[0;32m     15\u001b[0m lst \u001b[38;5;241m=\u001b[39m \u001b[38;5;28mlist\u001b[39m()\n\u001b[0;32m     16\u001b[0m \u001b[38;5;28mprint\u001b[39m(lst)\n\u001b[1;32m---> 17\u001b[0m \u001b[43mlst\u001b[49m\u001b[38;5;241;43m.\u001b[39;49m\u001b[43mextend\u001b[49m\u001b[43m(\u001b[49m\u001b[43mArmstrong\u001b[49m\u001b[43m)\u001b[49m\n\u001b[0;32m     18\u001b[0m i\u001b[38;5;241m=\u001b[39m\u001b[38;5;241m1\u001b[39m\n\u001b[0;32m     19\u001b[0m (n\u001b[38;5;241m==\u001b[39m\u001b[38;5;241m0\u001b[39m \u001b[38;5;129;01mand\u001b[39;00m n\u001b[38;5;241m==\u001b[39m \u001b[38;5;28mint\u001b[39m())\n",
      "\u001b[1;31mTypeError\u001b[0m: 'int' object is not iterable"
     ]
    }
   ],
   "source": [
    "# Take a positive integer(3-digit) as input from the user.\n",
    "# Check whether the given number is an Armstrong number.\n",
    "# for example 153 = 1**3 + 5**3 + 3**3\n",
    "#             407 = 4**3 + 0**3 + 7**3\n",
    "\n",
    "### Make a new program where you (USER) have to enter a limit that is starting number and ending number to find Armstrong \n",
    "#### Numbers in between that limit.\n",
    "\n",
    "S = int(input(\"Enter Starting Digit:\"))\n",
    "E = int(input(\"Enter Ending Digit:  \"))\n",
    "Armstrong = 1\n",
    "while S<=Armstrong<=E:\n",
    "    ##    Armstrong = input()\n",
    "    ##    global n\n",
    "    lst = list()\n",
    "    print(lst)\n",
    "    lst.extend(Armstrong)\n",
    "    i=1\n",
    "    (n==0 and n== int())\n",
    "    x=0\n",
    "    while i<= len(lst):\n",
    "        print(n)\n",
    "        n = (int(lst[x])**len(lst)) + n\n",
    "        x = x+1\n",
    "        i = i+1\n",
    "    if int(Armstrong) == n:\n",
    "        print(\"The Armstrong Numbers are:\",n,end=\"\")\n",
    "    \n",
    "    Armstrong = Armstrong + 1\n",
    "\n",
    "## n = int()\n",
    "##else:\n",
    "##    print(\"The number is NOT an Armstrong Number\")"
   ]
  },
  {
   "cell_type": "code",
   "execution_count": 2,
   "id": "ef842a63",
   "metadata": {},
   "outputs": [
    {
     "name": "stdout",
     "output_type": "stream",
     "text": [
      "Enter Starting Digit:1\n",
      "Enter Ending Digit:  10\n"
     ]
    },
    {
     "ename": "TypeError",
     "evalue": "'int' object is not iterable",
     "output_type": "error",
     "traceback": [
      "\u001b[1;31m---------------------------------------------------------------------------\u001b[0m",
      "\u001b[1;31mTypeError\u001b[0m                                 Traceback (most recent call last)",
      "Cell \u001b[1;32mIn[2], line 12\u001b[0m\n\u001b[0;32m     10\u001b[0m \u001b[38;5;28;01mfor\u001b[39;00m Armstrong \u001b[38;5;129;01min\u001b[39;00m \u001b[38;5;28mrange\u001b[39m(S,E):\n\u001b[0;32m     11\u001b[0m     lst \u001b[38;5;241m=\u001b[39m \u001b[38;5;28mlist\u001b[39m()\n\u001b[1;32m---> 12\u001b[0m     \u001b[43mlst\u001b[49m\u001b[38;5;241;43m.\u001b[39;49m\u001b[43mextend\u001b[49m\u001b[43m(\u001b[49m\u001b[43mArmstrong\u001b[49m\u001b[43m)\u001b[49m\n\u001b[0;32m     13\u001b[0m     i\u001b[38;5;241m=\u001b[39m\u001b[38;5;241m1\u001b[39m\n\u001b[0;32m     14\u001b[0m     n\u001b[38;5;241m=\u001b[39m\u001b[38;5;241m0\u001b[39m\n",
      "\u001b[1;31mTypeError\u001b[0m: 'int' object is not iterable"
     ]
    }
   ],
   "source": [
    "## Print a Armstorng Numbers in a Range of Numbers given numbers(e.g. -- 1 to 1000)\n",
    "# Take a positive integer(3-digit \"OR\" -- N-digit) as input from the user.\n",
    "# Check whether the given number is an Armstrong number.\n",
    "# for example 153 = 1**3 + 5**3 + 3**3\n",
    "#             407 = 4**3 + 0**3 + 7**3\n",
    "\n",
    "S = int(input(\"Enter Starting Digit:\"))\n",
    "E = int(input(\"Enter Ending Digit:  \"))\n",
    "Armstrong = 0\n",
    "for Armstrong in range(S,E):\n",
    "    lst = list()\n",
    "    lst.extend(Armstrong)\n",
    "    i=1\n",
    "    n=0\n",
    "    x=0\n",
    "    print(lst)\n",
    "    while i<= len(lst):\n",
    "        n = (int(lst[x])**len(lst)) + n\n",
    "        x = x+1\n",
    "        i = i+1\n",
    "        if int(Armstrong) == n:\n",
    "            print(\"The number is an Armstrong Number:\",n)\n",
    "        "
   ]
  },
  {
   "cell_type": "code",
   "execution_count": 3,
   "id": "b79b0f84",
   "metadata": {},
   "outputs": [
    {
     "name": "stdout",
     "output_type": "stream",
     "text": [
      "Enter Starting Digit:1\n",
      "Enter Ending Digit:  100\n"
     ]
    },
    {
     "ename": "TypeError",
     "evalue": "'int' object is not iterable",
     "output_type": "error",
     "traceback": [
      "\u001b[1;31m---------------------------------------------------------------------------\u001b[0m",
      "\u001b[1;31mTypeError\u001b[0m                                 Traceback (most recent call last)",
      "Cell \u001b[1;32mIn[3], line 13\u001b[0m\n\u001b[0;32m     11\u001b[0m Armstrong \u001b[38;5;241m+\u001b[39m\u001b[38;5;241m=\u001b[39m \u001b[38;5;241m1\u001b[39m \n\u001b[0;32m     12\u001b[0m lst \u001b[38;5;241m=\u001b[39m \u001b[38;5;28mlist\u001b[39m()\n\u001b[1;32m---> 13\u001b[0m \u001b[43mlst\u001b[49m\u001b[38;5;241;43m.\u001b[39;49m\u001b[43mextend\u001b[49m\u001b[43m(\u001b[49m\u001b[43mArmstrong\u001b[49m\u001b[43m)\u001b[49m\n\u001b[0;32m     14\u001b[0m i\u001b[38;5;241m=\u001b[39m\u001b[38;5;241m1\u001b[39m\n\u001b[0;32m     15\u001b[0m n\u001b[38;5;241m=\u001b[39m\u001b[38;5;241m0\u001b[39m\n",
      "\u001b[1;31mTypeError\u001b[0m: 'int' object is not iterable"
     ]
    }
   ],
   "source": [
    "## Print a Armstorng Numbers in a Range of Numbers given numbers(e.g. -- 1 to 1000)\n",
    "# Take a positive integer(3-digit \"OR\" -- N-digit) as input from the user.\n",
    "# Check whether the given number is an Armstrong number.\n",
    "# for example 153 = 1**3 + 5**3 + 3**3\n",
    "#             407 = 4**3 + 0**3 + 7**3\n",
    "\n",
    "S = int(input(\"Enter Starting Digit:\"))\n",
    "E = int(input(\"Enter Ending Digit:  \"))\n",
    "Armstrong = 0\n",
    "for Armstrong in range(S,E):\n",
    "    Armstrong += 1 \n",
    "    lst = list()\n",
    "    lst.extend(Armstrong)\n",
    "    i=1\n",
    "    n=0\n",
    "    x=0\n",
    "    print(lst)\n",
    "    while i<= len(lst):\n",
    "        n = (int(lst[x])**len(lst)) + n\n",
    "        x = x+1\n",
    "        i = i+1\n",
    "    if int(Armstrong) == n:\n",
    "        print(\"The number is an Armstrong Number:\",n)"
   ]
  },
  {
   "cell_type": "code",
   "execution_count": 4,
   "id": "cc14b5e6",
   "metadata": {},
   "outputs": [
    {
     "name": "stdout",
     "output_type": "stream",
     "text": [
      "Enter Starting Digit:1\n",
      "Enter Ending Digit:  100\n"
     ]
    },
    {
     "ename": "TypeError",
     "evalue": "range expected at least 1 argument, got 0",
     "output_type": "error",
     "traceback": [
      "\u001b[1;31m---------------------------------------------------------------------------\u001b[0m",
      "\u001b[1;31mTypeError\u001b[0m                                 Traceback (most recent call last)",
      "Cell \u001b[1;32mIn[4], line 8\u001b[0m\n\u001b[0;32m      6\u001b[0m S \u001b[38;5;241m=\u001b[39m \u001b[38;5;28mint\u001b[39m(\u001b[38;5;28minput\u001b[39m(\u001b[38;5;124m\"\u001b[39m\u001b[38;5;124mEnter Starting Digit:\u001b[39m\u001b[38;5;124m\"\u001b[39m))\n\u001b[0;32m      7\u001b[0m E \u001b[38;5;241m=\u001b[39m \u001b[38;5;241m1\u001b[39m\u001b[38;5;241m+\u001b[39m\u001b[38;5;28mint\u001b[39m(\u001b[38;5;28minput\u001b[39m(\u001b[38;5;124m\"\u001b[39m\u001b[38;5;124mEnter Ending Digit:  \u001b[39m\u001b[38;5;124m\"\u001b[39m))\n\u001b[1;32m----> 8\u001b[0m Armstrong \u001b[38;5;241m=\u001b[39m \u001b[38;5;28;43mrange\u001b[39;49m\u001b[43m(\u001b[49m\u001b[43m)\u001b[49m\n\u001b[0;32m      9\u001b[0m \u001b[38;5;28;01mfor\u001b[39;00m Armstrong \u001b[38;5;129;01min\u001b[39;00m \u001b[38;5;28mrange\u001b[39m(S,E):\n\u001b[0;32m     10\u001b[0m     Armstrong \u001b[38;5;241m+\u001b[39m\u001b[38;5;241m=\u001b[39m \u001b[38;5;241m1\u001b[39m \n",
      "\u001b[1;31mTypeError\u001b[0m: range expected at least 1 argument, got 0"
     ]
    }
   ],
   "source": [
    "## Print a Armstorng Numbers in a Range of Numbers given numbers(e.g. -- 1 to 1000)\n",
    "# Take a positive integer(3-digit \"OR\" -- N-digit) as input from the user.\n",
    "# Check whether the given number is an Armstrong number.\n",
    "# for example 153 = 1**3 + 5**3 + 3**3\n",
    "\n",
    "S = int(input(\"Enter Starting Digit:\"))\n",
    "E = 1+int(input(\"Enter Ending Digit:  \"))\n",
    "Armstrong = range()\n",
    "for Armstrong in range(S,E):\n",
    "    Armstrong += 1 \n",
    "    lst = list()\n",
    "    lst.extend(Armstrong)\n",
    "    i=1\n",
    "    n=0\n",
    "    x=0\n",
    "    print(lst)\n",
    "    while i<= len(lst):\n",
    "        n = (int(lst[x])**len(lst)) + n\n",
    "        x = x+1\n",
    "        i = i+1\n",
    "    if int(Armstrong) == n:\n",
    "        print(\"The number is an Armstrong Number:\",n)"
   ]
  },
  {
   "cell_type": "code",
   "execution_count": 5,
   "id": "e7154398",
   "metadata": {},
   "outputs": [
    {
     "name": "stdout",
     "output_type": "stream",
     "text": [
      "Enter Starting Digit:1\n",
      "Enter Ending Digit:  100\n"
     ]
    },
    {
     "ename": "TypeError",
     "evalue": "'int' object is not iterable",
     "output_type": "error",
     "traceback": [
      "\u001b[1;31m---------------------------------------------------------------------------\u001b[0m",
      "\u001b[1;31mTypeError\u001b[0m                                 Traceback (most recent call last)",
      "Cell \u001b[1;32mIn[5], line 12\u001b[0m\n\u001b[0;32m     10\u001b[0m Armstrong \u001b[38;5;241m+\u001b[39m\u001b[38;5;241m=\u001b[39m \u001b[38;5;241m1\u001b[39m \n\u001b[0;32m     11\u001b[0m lst \u001b[38;5;241m=\u001b[39m \u001b[38;5;28mlist\u001b[39m()\n\u001b[1;32m---> 12\u001b[0m \u001b[43mlst\u001b[49m\u001b[38;5;241;43m.\u001b[39;49m\u001b[43mextend\u001b[49m\u001b[43m(\u001b[49m\u001b[43mArmstrong\u001b[49m\u001b[43m)\u001b[49m\n\u001b[0;32m     13\u001b[0m i\u001b[38;5;241m=\u001b[39m\u001b[38;5;241m1\u001b[39m\n\u001b[0;32m     14\u001b[0m n\u001b[38;5;241m=\u001b[39m\u001b[38;5;241m0\u001b[39m\n",
      "\u001b[1;31mTypeError\u001b[0m: 'int' object is not iterable"
     ]
    }
   ],
   "source": [
    "## Print a Armstorng Numbers in a Range of Numbers given numbers(e.g. -- 1 to 1000)\n",
    "# Take a positive integer(3-digit \"OR\" -- N-digit) as input from the user.\n",
    "# Check whether the given number is an Armstrong number.\n",
    "# for example 153 = 1**3 + 5**3 + 3**3\n",
    "\n",
    "S = int(input(\"Enter Starting Digit:\"))\n",
    "E = 1+int(input(\"Enter Ending Digit:  \"))\n",
    "Armstrong = range(0)\n",
    "for Armstrong in range(S,E):\n",
    "    Armstrong += 1 \n",
    "    lst = list()\n",
    "    lst.extend(Armstrong)\n",
    "    i=1\n",
    "    n=0\n",
    "    x=0\n",
    "    print(lst)\n",
    "    while i<= len(lst):\n",
    "        n = (int(lst[x])**len(lst)) + n\n",
    "        x = x+1\n",
    "        i = i+1\n",
    "    if int(Armstrong) == n:\n",
    "        print(\"The number is an Armstrong Number:\",n)"
   ]
  },
  {
   "cell_type": "code",
   "execution_count": 7,
   "id": "db653b02",
   "metadata": {},
   "outputs": [
    {
     "name": "stdout",
     "output_type": "stream",
     "text": [
      "Enter Starting Digit:1\n",
      "Enter Ending Digit:  100\n"
     ]
    },
    {
     "ename": "TypeError",
     "evalue": "'type' object is not iterable",
     "output_type": "error",
     "traceback": [
      "\u001b[1;31m---------------------------------------------------------------------------\u001b[0m",
      "\u001b[1;31mTypeError\u001b[0m                                 Traceback (most recent call last)",
      "Cell \u001b[1;32mIn[7], line 10\u001b[0m\n\u001b[0;32m      8\u001b[0m Armstrong \u001b[38;5;241m=\u001b[39m \u001b[38;5;28mstr\u001b[39m\n\u001b[0;32m      9\u001b[0m lst \u001b[38;5;241m=\u001b[39m \u001b[38;5;28mlist\u001b[39m()\n\u001b[1;32m---> 10\u001b[0m \u001b[43mlst\u001b[49m\u001b[38;5;241;43m.\u001b[39;49m\u001b[43mextend\u001b[49m\u001b[43m(\u001b[49m\u001b[43mArmstrong\u001b[49m\u001b[43m)\u001b[49m\n\u001b[0;32m     11\u001b[0m i\u001b[38;5;241m=\u001b[39m\u001b[38;5;241m1\u001b[39m\n\u001b[0;32m     12\u001b[0m n\u001b[38;5;241m=\u001b[39m\u001b[38;5;241m0\u001b[39m\n",
      "\u001b[1;31mTypeError\u001b[0m: 'type' object is not iterable"
     ]
    }
   ],
   "source": [
    "## Print a Armstorng Numbers in a Range of Numbers given numbers(e.g. -- 1 to 1000)\n",
    "# Take a positive integer(3-digit \"OR\" -- N-digit) as input from the user.\n",
    "# Check whether the given number is an Armstrong number.\n",
    "# for example 153 = 1**3 + 5**3 + 3**3\n",
    "\n",
    "S = int(input(\"Enter Starting Digit:\"))\n",
    "E = 1+int(input(\"Enter Ending Digit:  \"))\n",
    "Armstrong = str\n",
    "lst = list()\n",
    "lst.extend(Armstrong)\n",
    "i=1\n",
    "n=0\n",
    "x=0\n",
    "print(lst)\n",
    "for Armstrong in range(S,E):\n",
    "    while i<= len(lst):\n",
    "        n = (int(lst[x])**len(lst)) + n\n",
    "        x = x+1\n",
    "        i = i+1\n",
    "    if int(Armstrong) == n:\n",
    "        print(\"The number is an Armstrong Number:\",n)"
   ]
  },
  {
   "cell_type": "code",
   "execution_count": 8,
   "id": "39d74dda",
   "metadata": {},
   "outputs": [
    {
     "name": "stdout",
     "output_type": "stream",
     "text": [
      "Enter Starting Digit:1\n",
      "Enter Ending Digit:  10\n"
     ]
    },
    {
     "ename": "TypeError",
     "evalue": "'type' object is not iterable",
     "output_type": "error",
     "traceback": [
      "\u001b[1;31m---------------------------------------------------------------------------\u001b[0m",
      "\u001b[1;31mTypeError\u001b[0m                                 Traceback (most recent call last)",
      "Cell \u001b[1;32mIn[8], line 10\u001b[0m\n\u001b[0;32m      8\u001b[0m Armstrong \u001b[38;5;241m=\u001b[39m \u001b[38;5;28mtype\u001b[39m(\u001b[38;5;28mstr\u001b[39m)\n\u001b[0;32m      9\u001b[0m lst \u001b[38;5;241m=\u001b[39m \u001b[38;5;28mlist\u001b[39m()\n\u001b[1;32m---> 10\u001b[0m \u001b[43mlst\u001b[49m\u001b[38;5;241;43m.\u001b[39;49m\u001b[43mextend\u001b[49m\u001b[43m(\u001b[49m\u001b[43mArmstrong\u001b[49m\u001b[43m)\u001b[49m\n\u001b[0;32m     11\u001b[0m i\u001b[38;5;241m=\u001b[39m\u001b[38;5;241m1\u001b[39m\n\u001b[0;32m     12\u001b[0m n\u001b[38;5;241m=\u001b[39m\u001b[38;5;241m0\u001b[39m\n",
      "\u001b[1;31mTypeError\u001b[0m: 'type' object is not iterable"
     ]
    }
   ],
   "source": [
    "## Print a Armstorng Numbers in a Range of Numbers given numbers(e.g. -- 1 to 1000)\n",
    "# Take a positive integer(3-digit \"OR\" -- N-digit) as input from the user.\n",
    "# Check whether the given number is an Armstrong number.\n",
    "# for example 153 = 1**3 + 5**3 + 3**3\n",
    "\n",
    "S = int(input(\"Enter Starting Digit:\"))\n",
    "E = 1+int(input(\"Enter Ending Digit:  \"))\n",
    "Armstrong = type(str)\n",
    "lst = list()\n",
    "lst.extend(Armstrong)\n",
    "i=1\n",
    "n=0\n",
    "x=0\n",
    "print(lst)\n",
    "for Armstrong in range(S,E):\n",
    "    while i<= len(lst):\n",
    "        n = (int(lst[x])**len(lst)) + n\n",
    "        x = x+1\n",
    "        i = i+1\n",
    "    if int(Armstrong) == n:\n",
    "        print(\"The number is an Armstrong Number:\",n)"
   ]
  },
  {
   "cell_type": "code",
   "execution_count": 9,
   "id": "d66e58e7",
   "metadata": {},
   "outputs": [
    {
     "name": "stdout",
     "output_type": "stream",
     "text": [
      "Enter Starting Digit:1\n",
      "Enter Ending Digit:  10\n",
      "[]\n"
     ]
    }
   ],
   "source": [
    "## Print a Armstorng Numbers in a Range of Numbers given numbers(e.g. -- 1 to 1000)\n",
    "# Take a positive integer(3-digit \"OR\" -- N-digit) as input from the user.\n",
    "# Check whether the given number is an Armstrong number.\n",
    "# for example 153 = 1**3 + 5**3 + 3**3\n",
    "\n",
    "S = int(input(\"Enter Starting Digit:\"))\n",
    "E = 1+int(input(\"Enter Ending Digit:  \"))\n",
    "Armstrong = list()\n",
    "lst = list()\n",
    "lst.extend(Armstrong)\n",
    "i=1\n",
    "n=0\n",
    "x=0\n",
    "print(lst)\n",
    "for Armstrong in range(S,E):\n",
    "    while i<= len(lst):\n",
    "        n = (int(lst[x])**len(lst)) + n\n",
    "        x = x+1\n",
    "        i = i+1\n",
    "    if int(Armstrong) == n:\n",
    "        print(\"The number is an Armstrong Number:\",n)"
   ]
  },
  {
   "cell_type": "code",
   "execution_count": 10,
   "id": "a248405c",
   "metadata": {},
   "outputs": [
    {
     "name": "stdout",
     "output_type": "stream",
     "text": [
      "Enter Starting Digit:1\n",
      "Enter Ending Digit:  5\n"
     ]
    },
    {
     "ename": "TypeError",
     "evalue": "'int' object is not iterable",
     "output_type": "error",
     "traceback": [
      "\u001b[1;31m---------------------------------------------------------------------------\u001b[0m",
      "\u001b[1;31mTypeError\u001b[0m                                 Traceback (most recent call last)",
      "Cell \u001b[1;32mIn[10], line 12\u001b[0m\n\u001b[0;32m     10\u001b[0m \u001b[38;5;28;01mfor\u001b[39;00m Armstrong \u001b[38;5;129;01min\u001b[39;00m \u001b[38;5;28mrange\u001b[39m(S,E):\n\u001b[0;32m     11\u001b[0m     lst \u001b[38;5;241m=\u001b[39m \u001b[38;5;28mlist\u001b[39m()\n\u001b[1;32m---> 12\u001b[0m     \u001b[43mlst\u001b[49m\u001b[38;5;241;43m.\u001b[39;49m\u001b[43mextend\u001b[49m\u001b[43m(\u001b[49m\u001b[43mArmstrong\u001b[49m\u001b[43m)\u001b[49m\n\u001b[0;32m     13\u001b[0m     i\u001b[38;5;241m=\u001b[39m\u001b[38;5;241m1\u001b[39m\n\u001b[0;32m     14\u001b[0m     n\u001b[38;5;241m=\u001b[39m\u001b[38;5;241m0\u001b[39m\n",
      "\u001b[1;31mTypeError\u001b[0m: 'int' object is not iterable"
     ]
    }
   ],
   "source": [
    "## Print a Armstorng Numbers in a Range of Numbers given numbers(e.g. -- 1 to 1000)\n",
    "# Take a positive integer(3-digit \"OR\" -- N-digit) as input from the user.\n",
    "# Check whether the given number is an Armstrong number.\n",
    "# for example 153 = 1**3 + 5**3 + 3**3\n",
    "\n",
    "S = int(input(\"Enter Starting Digit:\"))\n",
    "E = 1+int(input(\"Enter Ending Digit:  \"))\n",
    "Armstrong = list()\n",
    "\n",
    "for Armstrong in range(S,E):\n",
    "    lst = list()\n",
    "    lst.extend(Armstrong)\n",
    "    i=1\n",
    "    n=0\n",
    "    x=0\n",
    "    print(lst)\n",
    "    while i<= len(lst):\n",
    "        n = (int(lst[x])**len(lst)) + n\n",
    "        x = x+1\n",
    "        i = i+1\n",
    "    if int(Armstrong) == n:\n",
    "        print(\"The number is an Armstrong Number:\",n)"
   ]
  },
  {
   "cell_type": "code",
   "execution_count": null,
   "id": "eb783ebd",
   "metadata": {},
   "outputs": [],
   "source": []
  },
  {
   "cell_type": "code",
   "execution_count": 4,
   "id": "cd13daaf",
   "metadata": {},
   "outputs": [
    {
     "name": "stdout",
     "output_type": "stream",
     "text": [
      "Help on class IndexError in module builtins:\n",
      "\n",
      "class IndexError(LookupError)\n",
      " |  Sequence index out of range.\n",
      " |  \n",
      " |  Method resolution order:\n",
      " |      IndexError\n",
      " |      LookupError\n",
      " |      Exception\n",
      " |      BaseException\n",
      " |      object\n",
      " |  \n",
      " |  Methods defined here:\n",
      " |  \n",
      " |  __init__(self, /, *args, **kwargs)\n",
      " |      Initialize self.  See help(type(self)) for accurate signature.\n",
      " |  \n",
      " |  ----------------------------------------------------------------------\n",
      " |  Static methods defined here:\n",
      " |  \n",
      " |  __new__(*args, **kwargs) from builtins.type\n",
      " |      Create and return a new object.  See help(type) for accurate signature.\n",
      " |  \n",
      " |  ----------------------------------------------------------------------\n",
      " |  Methods inherited from BaseException:\n",
      " |  \n",
      " |  __delattr__(self, name, /)\n",
      " |      Implement delattr(self, name).\n",
      " |  \n",
      " |  __getattribute__(self, name, /)\n",
      " |      Return getattr(self, name).\n",
      " |  \n",
      " |  __reduce__(...)\n",
      " |      Helper for pickle.\n",
      " |  \n",
      " |  __repr__(self, /)\n",
      " |      Return repr(self).\n",
      " |  \n",
      " |  __setattr__(self, name, value, /)\n",
      " |      Implement setattr(self, name, value).\n",
      " |  \n",
      " |  __setstate__(...)\n",
      " |  \n",
      " |  __str__(self, /)\n",
      " |      Return str(self).\n",
      " |  \n",
      " |  with_traceback(...)\n",
      " |      Exception.with_traceback(tb) --\n",
      " |      set self.__traceback__ to tb and return self.\n",
      " |  \n",
      " |  ----------------------------------------------------------------------\n",
      " |  Data descriptors inherited from BaseException:\n",
      " |  \n",
      " |  __cause__\n",
      " |      exception cause\n",
      " |  \n",
      " |  __context__\n",
      " |      exception context\n",
      " |  \n",
      " |  __dict__\n",
      " |  \n",
      " |  __suppress_context__\n",
      " |  \n",
      " |  __traceback__\n",
      " |  \n",
      " |  args\n",
      "\n"
     ]
    }
   ],
   "source": [
    "help(IndexError)"
   ]
  },
  {
   "cell_type": "code",
   "execution_count": null,
   "id": "560d7721",
   "metadata": {},
   "outputs": [],
   "source": []
  },
  {
   "cell_type": "code",
   "execution_count": 33,
   "id": "4edcca55",
   "metadata": {},
   "outputs": [
    {
     "name": "stdout",
     "output_type": "stream",
     "text": [
      "<class 'type'>\n"
     ]
    }
   ],
   "source": [
    "s = type(int(str(\"1\")))\n",
    "print(type(s))"
   ]
  },
  {
   "cell_type": "code",
   "execution_count": 35,
   "id": "2bf7ff61",
   "metadata": {},
   "outputs": [
    {
     "name": "stdout",
     "output_type": "stream",
     "text": [
      "<class 'int'>\n",
      "1\n"
     ]
    }
   ],
   "source": [
    "s = int(str(\"1\"))\n",
    "print(type(s))\n",
    "print(s)"
   ]
  },
  {
   "cell_type": "code",
   "execution_count": null,
   "id": "d88e46d0",
   "metadata": {},
   "outputs": [],
   "source": []
  },
  {
   "cell_type": "code",
   "execution_count": null,
   "id": "85493bb9",
   "metadata": {},
   "outputs": [],
   "source": []
  },
  {
   "cell_type": "code",
   "execution_count": null,
   "id": "520c86b1",
   "metadata": {},
   "outputs": [],
   "source": [
    "# Take a positive integer(3-digit) as input from the user.\n",
    "# Check whether the given number is an Armstrong number.\n",
    "# for example 153 = 1**3 + 5**3 + 3**3\n",
    "#             407 = 4**3 + 0**3 + 7**3\n",
    "\n",
    "x = "
   ]
  },
  {
   "cell_type": "code",
   "execution_count": null,
   "id": "6570f2cc",
   "metadata": {},
   "outputs": [],
   "source": []
  },
  {
   "cell_type": "code",
   "execution_count": null,
   "id": "ceade3e0",
   "metadata": {},
   "outputs": [],
   "source": []
  },
  {
   "cell_type": "code",
   "execution_count": null,
   "id": "0f0e61b8",
   "metadata": {},
   "outputs": [],
   "source": []
  },
  {
   "cell_type": "code",
   "execution_count": null,
   "id": "8bf92ac9",
   "metadata": {},
   "outputs": [],
   "source": []
  },
  {
   "cell_type": "code",
   "execution_count": 4,
   "id": "e2c2a821",
   "metadata": {},
   "outputs": [
    {
     "ename": "TypeError",
     "evalue": "object of type 'int' has no len()",
     "output_type": "error",
     "traceback": [
      "\u001b[1;31m---------------------------------------------------------------------------\u001b[0m",
      "\u001b[1;31mTypeError\u001b[0m                                 Traceback (most recent call last)",
      "Cell \u001b[1;32mIn[4], line 2\u001b[0m\n\u001b[0;32m      1\u001b[0m x \u001b[38;5;241m=\u001b[39m \u001b[38;5;241m990\u001b[39m\n\u001b[1;32m----> 2\u001b[0m \u001b[38;5;28;43mlen\u001b[39;49m\u001b[43m(\u001b[49m\u001b[43mx\u001b[49m\u001b[43m)\u001b[49m\n",
      "\u001b[1;31mTypeError\u001b[0m: object of type 'int' has no len()"
     ]
    }
   ],
   "source": [
    "x = 990\n",
    "len(x)"
   ]
  },
  {
   "cell_type": "code",
   "execution_count": 6,
   "id": "62a09e95",
   "metadata": {},
   "outputs": [
    {
     "data": {
      "text/plain": [
       "4"
      ]
     },
     "execution_count": 6,
     "metadata": {},
     "output_type": "execute_result"
    }
   ],
   "source": [
    "234%10"
   ]
  },
  {
   "cell_type": "code",
   "execution_count": 14,
   "id": "5145d1ac",
   "metadata": {},
   "outputs": [
    {
     "data": {
      "text/plain": [
       "64"
      ]
     },
     "execution_count": 14,
     "metadata": {},
     "output_type": "execute_result"
    }
   ],
   "source": [
    "4**3"
   ]
  },
  {
   "cell_type": "code",
   "execution_count": 7,
   "id": "e13827c5",
   "metadata": {},
   "outputs": [
    {
     "data": {
      "text/plain": [
       "34"
      ]
     },
     "execution_count": 7,
     "metadata": {},
     "output_type": "execute_result"
    }
   ],
   "source": [
    "234%100"
   ]
  },
  {
   "cell_type": "code",
   "execution_count": 8,
   "id": "54bcb6f6",
   "metadata": {},
   "outputs": [
    {
     "data": {
      "text/plain": [
       "234"
      ]
     },
     "execution_count": 8,
     "metadata": {},
     "output_type": "execute_result"
    }
   ],
   "source": [
    "234%1000"
   ]
  },
  {
   "cell_type": "code",
   "execution_count": 9,
   "id": "8ea02a40",
   "metadata": {},
   "outputs": [
    {
     "data": {
      "text/plain": [
       "2"
      ]
     },
     "execution_count": 9,
     "metadata": {},
     "output_type": "execute_result"
    }
   ],
   "source": [
    "234//100"
   ]
  },
  {
   "cell_type": "code",
   "execution_count": 11,
   "id": "a79835e0",
   "metadata": {},
   "outputs": [
    {
     "data": {
      "text/plain": [
       "3"
      ]
     },
     "execution_count": 11,
     "metadata": {},
     "output_type": "execute_result"
    }
   ],
   "source": [
    "(234 - ((234//100)*100 + 234%10))//10"
   ]
  },
  {
   "cell_type": "code",
   "execution_count": null,
   "id": "6de234eb",
   "metadata": {},
   "outputs": [],
   "source": []
  },
  {
   "cell_type": "code",
   "execution_count": 3,
   "id": "c8409397",
   "metadata": {},
   "outputs": [],
   "source": [
    "# Take a positive integer as input from the user. Find the factorial of that number\n",
    "# for example factorial of 4 = 1*2*3*4\n",
    "# factorial of 0 that is 0! = 1"
   ]
  },
  {
   "cell_type": "code",
   "execution_count": 23,
   "id": "e804a955",
   "metadata": {},
   "outputs": [
    {
     "name": "stdout",
     "output_type": "stream",
     "text": [
      "Enter the number to calculate Factorial:4\n"
     ]
    }
   ],
   "source": [
    "f = int(input(\"Enter the number to calculate Factorial:\"))"
   ]
  },
  {
   "cell_type": "code",
   "execution_count": null,
   "id": "c422df83",
   "metadata": {},
   "outputs": [],
   "source": []
  },
  {
   "cell_type": "code",
   "execution_count": null,
   "id": "dee32426",
   "metadata": {},
   "outputs": [],
   "source": []
  },
  {
   "cell_type": "code",
   "execution_count": null,
   "id": "209c0d5c",
   "metadata": {},
   "outputs": [],
   "source": []
  },
  {
   "cell_type": "code",
   "execution_count": null,
   "id": "b1a65f7d",
   "metadata": {},
   "outputs": [],
   "source": []
  },
  {
   "cell_type": "markdown",
   "id": "326a72df",
   "metadata": {},
   "source": [
    "## Functions are a block of code defined with a name \n",
    "\n",
    "### DRY  -- Do not Repeat Yourself\n",
    "\n",
    "### Functions provide reuseability of code"
   ]
  },
  {
   "cell_type": "code",
   "execution_count": null,
   "id": "74788dfd",
   "metadata": {},
   "outputs": [],
   "source": []
  },
  {
   "cell_type": "markdown",
   "id": "1951aeb5",
   "metadata": {},
   "source": [
    "## Types of Functions\n",
    "\n",
    "### 1. Built-in Functions or Predefined Functions -- already defined in PYthon.\n",
    "\n",
    "### 2. User-defined Functions  --- Defined by the User."
   ]
  },
  {
   "cell_type": "code",
   "execution_count": null,
   "id": "c86fd437",
   "metadata": {},
   "outputs": [],
   "source": []
  },
  {
   "cell_type": "markdown",
   "id": "855d5210",
   "metadata": {},
   "source": [
    "## Creating a Function"
   ]
  },
  {
   "cell_type": "code",
   "execution_count": 2,
   "id": "7d62d85d",
   "metadata": {},
   "outputs": [
    {
     "name": "stdout",
     "output_type": "stream",
     "text": [
      "Data Science is Amazing\n"
     ]
    }
   ],
   "source": [
    "def first_function():\n",
    "    print(\"Data Science is Amazing\")\n",
    "    \n",
    "first_function()  # function is called"
   ]
  },
  {
   "cell_type": "code",
   "execution_count": 3,
   "id": "98fdf256",
   "metadata": {},
   "outputs": [
    {
     "data": {
      "text/plain": [
       "<function __main__.first_function()>"
      ]
     },
     "execution_count": 3,
     "metadata": {},
     "output_type": "execute_result"
    }
   ],
   "source": [
    "first_function"
   ]
  },
  {
   "cell_type": "code",
   "execution_count": null,
   "id": "e237c392",
   "metadata": {},
   "outputs": [],
   "source": []
  },
  {
   "cell_type": "code",
   "execution_count": null,
   "id": "f02535d3",
   "metadata": {},
   "outputs": [],
   "source": []
  },
  {
   "cell_type": "code",
   "execution_count": null,
   "id": "7617e8d6",
   "metadata": {},
   "outputs": [],
   "source": []
  },
  {
   "cell_type": "code",
   "execution_count": null,
   "id": "4876c5a6",
   "metadata": {},
   "outputs": [],
   "source": []
  },
  {
   "cell_type": "code",
   "execution_count": 6,
   "id": "d01df373",
   "metadata": {},
   "outputs": [
    {
     "ename": "TypeError",
     "evalue": "first_function() takes 0 positional arguments but 1 was given",
     "output_type": "error",
     "traceback": [
      "\u001b[1;31m---------------------------------------------------------------------------\u001b[0m",
      "\u001b[1;31mTypeError\u001b[0m                                 Traceback (most recent call last)",
      "Cell \u001b[1;32mIn[6], line 4\u001b[0m\n\u001b[0;32m      1\u001b[0m \u001b[38;5;28;01mdef\u001b[39;00m \u001b[38;5;21mfirst_function\u001b[39m():\n\u001b[0;32m      2\u001b[0m     \u001b[38;5;28mprint\u001b[39m(\u001b[38;5;124m\"\u001b[39m\u001b[38;5;124mData Science is Amazing\u001b[39m\u001b[38;5;124m\"\u001b[39m)\n\u001b[1;32m----> 4\u001b[0m \u001b[43mfirst_function\u001b[49m\u001b[43m(\u001b[49m\u001b[38;5;241;43m12\u001b[39;49m\u001b[43m)\u001b[49m\n",
      "\u001b[1;31mTypeError\u001b[0m: first_function() takes 0 positional arguments but 1 was given"
     ]
    }
   ],
   "source": [
    "def first_function():\n",
    "    print(\"Data Science is Amazing\")\n",
    "    \n",
    "first_function(12)  # function is called"
   ]
  },
  {
   "cell_type": "code",
   "execution_count": null,
   "id": "5369c266",
   "metadata": {},
   "outputs": [],
   "source": []
  },
  {
   "cell_type": "code",
   "execution_count": null,
   "id": "821eec88",
   "metadata": {},
   "outputs": [],
   "source": []
  },
  {
   "cell_type": "markdown",
   "id": "1359b806",
   "metadata": {},
   "source": [
    "## Creating a Function with Parameters"
   ]
  },
  {
   "cell_type": "code",
   "execution_count": 8,
   "id": "8da5ca7c",
   "metadata": {},
   "outputs": [
    {
     "name": "stdout",
     "output_type": "stream",
     "text": [
      "Data Science is Amazing\n",
      "12\n"
     ]
    }
   ],
   "source": [
    "def first_function(x):   # \"x\"  is a variable here\n",
    "    print(\"Data Science is Amazing\")\n",
    "    print(x)\n",
    "    \n",
    "\n",
    "first_function(12)  # function is called"
   ]
  },
  {
   "cell_type": "code",
   "execution_count": 5,
   "id": "5a55a5ef",
   "metadata": {},
   "outputs": [
    {
     "name": "stdout",
     "output_type": "stream",
     "text": [
      "Data Science is Amazing\n",
      "12\n",
      "Data Science is Amazing\n",
      "DATA\n"
     ]
    }
   ],
   "source": [
    "def first_function(x):   # \"x\"  is a variable here\n",
    "    print(\"Data Science is Amazing\")\n",
    "    print(x)\n",
    "    \n",
    "\n",
    "first_function(12)  # function is called\n",
    "first_function(\"DATA\")  # function is called"
   ]
  },
  {
   "cell_type": "code",
   "execution_count": 1,
   "id": "27651700",
   "metadata": {},
   "outputs": [
    {
     "name": "stdout",
     "output_type": "stream",
     "text": [
      "Data Science is Amazing\n",
      "12\n",
      "Data Science is Amazing\n",
      "DATA\n"
     ]
    },
    {
     "data": {
      "text/plain": [
       "'DATA'"
      ]
     },
     "execution_count": 1,
     "metadata": {},
     "output_type": "execute_result"
    }
   ],
   "source": [
    "def first_function(x):   # \"x\"  is a variable here\n",
    "    print(\"Data Science is Amazing\")\n",
    "    print(x)\n",
    "    return x\n",
    "\n",
    "first_function(12)  # function is called\n",
    "first_function(\"DATA\")  # function is called"
   ]
  },
  {
   "cell_type": "code",
   "execution_count": 1,
   "id": "b245cbc0",
   "metadata": {},
   "outputs": [
    {
     "name": "stdout",
     "output_type": "stream",
     "text": [
      "15\n",
      "9\n",
      "36\n"
     ]
    }
   ],
   "source": [
    "def cal_1(x,y):\n",
    "    print(x+y)\n",
    "    print(x-y)\n",
    "    print(x*y)\n",
    "    return None\n",
    "\n",
    "cal_1(12,3)"
   ]
  },
  {
   "cell_type": "code",
   "execution_count": 2,
   "id": "7a5e473e",
   "metadata": {},
   "outputs": [
    {
     "name": "stdout",
     "output_type": "stream",
     "text": [
      "15\n",
      "9\n",
      "36\n"
     ]
    }
   ],
   "source": [
    "def cal_1(x,y):\n",
    "    print(x+y)\n",
    "    print(x-y)\n",
    "    print(x*y)\n",
    "    return\n",
    "\n",
    "cal_1(12,3)"
   ]
  },
  {
   "cell_type": "code",
   "execution_count": 3,
   "id": "c565e66a",
   "metadata": {},
   "outputs": [
    {
     "name": "stdout",
     "output_type": "stream",
     "text": [
      "15\n",
      "9\n",
      "36\n"
     ]
    }
   ],
   "source": [
    "def cal_1(x,y):\n",
    "    print(x+y)\n",
    "    print(x-y)\n",
    "    print(x*y)\n",
    "    \n",
    "cal_1(12,3)"
   ]
  },
  {
   "cell_type": "code",
   "execution_count": 4,
   "id": "6e77032b",
   "metadata": {},
   "outputs": [
    {
     "name": "stdout",
     "output_type": "stream",
     "text": [
      "15\n",
      "9\n",
      "36\n",
      "None\n"
     ]
    }
   ],
   "source": [
    "def cal_1(x,y):\n",
    "    print(x+y)\n",
    "    print(x-y)\n",
    "    print(x*y)\n",
    "    return\n",
    "\n",
    "d = cal_1(12,3)\n",
    "print(d)"
   ]
  },
  {
   "cell_type": "code",
   "execution_count": 5,
   "id": "f3710b41",
   "metadata": {},
   "outputs": [
    {
     "name": "stdout",
     "output_type": "stream",
     "text": [
      "15\n",
      "9\n",
      "36\n",
      "None\n"
     ]
    }
   ],
   "source": [
    "def cal_1(x,y):\n",
    "    print(x+y)\n",
    "    print(x-y)\n",
    "    print(x*y)\n",
    "    return None\n",
    "\n",
    "d = cal_1(12,3)\n",
    "print(d)"
   ]
  },
  {
   "cell_type": "code",
   "execution_count": 6,
   "id": "b668337f",
   "metadata": {},
   "outputs": [
    {
     "name": "stdout",
     "output_type": "stream",
     "text": [
      "15\n",
      "9\n",
      "36\n",
      "None\n"
     ]
    }
   ],
   "source": [
    "def cal_1(x,y):\n",
    "    print(x+y)\n",
    "    print(x-y)\n",
    "    print(x*y)\n",
    "    \n",
    "d = cal_1(12,3)\n",
    "print(d)"
   ]
  },
  {
   "cell_type": "code",
   "execution_count": 7,
   "id": "34efb509",
   "metadata": {},
   "outputs": [
    {
     "name": "stdout",
     "output_type": "stream",
     "text": [
      "15\n",
      "9\n",
      "36\n"
     ]
    }
   ],
   "source": [
    "def cal_1(x,y):\n",
    "    print(x+y)\n",
    "    print(x-y)\n",
    "    print(x*y)\n",
    "    return None\n",
    "\n",
    "d = cal_1(12,3)\n"
   ]
  },
  {
   "cell_type": "code",
   "execution_count": 8,
   "id": "6637b450",
   "metadata": {},
   "outputs": [
    {
     "name": "stdout",
     "output_type": "stream",
     "text": [
      "15\n",
      "9\n",
      "36\n"
     ]
    },
    {
     "data": {
      "text/plain": [
       "NoneType"
      ]
     },
     "execution_count": 8,
     "metadata": {},
     "output_type": "execute_result"
    }
   ],
   "source": [
    "def cal_1(x,y):\n",
    "    print(x+y)\n",
    "    print(x-y)\n",
    "    print(x*y)\n",
    "    return None\n",
    "\n",
    "type(cal_1(12,3))"
   ]
  },
  {
   "cell_type": "code",
   "execution_count": 10,
   "id": "8c020032",
   "metadata": {},
   "outputs": [
    {
     "name": "stdout",
     "output_type": "stream",
     "text": [
      "15\n",
      "9\n",
      "36\n",
      "20\n",
      "10\n",
      "75\n",
      "None\n"
     ]
    }
   ],
   "source": [
    "def cal_1(x,y):\n",
    "    print(x+y)\n",
    "    print(x-y)\n",
    "    print(x*y)\n",
    "    return None\n",
    "\n",
    "type(cal_1(12,3))\n",
    "print(cal_1(15,5))"
   ]
  },
  {
   "cell_type": "code",
   "execution_count": 11,
   "id": "dd6ef0b0",
   "metadata": {},
   "outputs": [
    {
     "ename": "IndentationError",
     "evalue": "unexpected indent (3868556377.py, line 9)",
     "output_type": "error",
     "traceback": [
      "\u001b[1;36m  Cell \u001b[1;32mIn[11], line 9\u001b[1;36m\u001b[0m\n\u001b[1;33m    print()\u001b[0m\n\u001b[1;37m    ^\u001b[0m\n\u001b[1;31mIndentationError\u001b[0m\u001b[1;31m:\u001b[0m unexpected indent\n"
     ]
    }
   ],
   "source": [
    "def cal_1(x,y):\n",
    "    print(x+y)\n",
    "    print(x-y)\n",
    "    print(x*y)\n",
    "    return None\n",
    "\n",
    "type(cal_1(12,3))\n",
    "print(cal_1(15,5))\n",
    "    print()"
   ]
  },
  {
   "cell_type": "code",
   "execution_count": 12,
   "id": "542d8e44",
   "metadata": {},
   "outputs": [
    {
     "name": "stdout",
     "output_type": "stream",
     "text": [
      "15\n",
      "9\n",
      "36\n",
      "20\n",
      "10\n",
      "75\n",
      "None\n",
      "\n"
     ]
    }
   ],
   "source": [
    "def cal_1(x,y):\n",
    "    print(x+y)\n",
    "    print(x-y)\n",
    "    print(x*y)\n",
    "    return None\n",
    "\n",
    "type(cal_1(12,3))\n",
    "print(cal_1(15,5))\n",
    "print()"
   ]
  },
  {
   "cell_type": "code",
   "execution_count": 13,
   "id": "7cc9dae0",
   "metadata": {},
   "outputs": [
    {
     "name": "stdout",
     "output_type": "stream",
     "text": [
      "20\n",
      "10\n",
      "75\n",
      "None\n",
      "\n"
     ]
    }
   ],
   "source": [
    "def cal_1(x,y):\n",
    "    print(x+y)\n",
    "    print(x-y)\n",
    "    print(x*y)\n",
    "    return None\n",
    "\n",
    "print(cal_1(15,5))\n",
    "print()"
   ]
  },
  {
   "cell_type": "code",
   "execution_count": 15,
   "id": "c4205f4f",
   "metadata": {},
   "outputs": [
    {
     "name": "stdout",
     "output_type": "stream",
     "text": [
      "20\n",
      "10\n",
      "75\n",
      "None\n",
      "15\n",
      "9\n",
      "36\n"
     ]
    },
    {
     "data": {
      "text/plain": [
       "NoneType"
      ]
     },
     "execution_count": 15,
     "metadata": {},
     "output_type": "execute_result"
    }
   ],
   "source": [
    "def cal_1(x,y):\n",
    "    print(x+y)\n",
    "    print(x-y)\n",
    "    print(x*y)\n",
    "    return None\n",
    "\n",
    "print(cal_1(15,5))\n",
    "type(cal_1(12,3))"
   ]
  },
  {
   "cell_type": "code",
   "execution_count": 16,
   "id": "5dc6fbe0",
   "metadata": {},
   "outputs": [
    {
     "name": "stdout",
     "output_type": "stream",
     "text": [
      "20\n",
      "10\n",
      "75\n",
      "None\n",
      "15\n",
      "9\n",
      "36\n"
     ]
    },
    {
     "data": {
      "text/plain": [
       "NoneType"
      ]
     },
     "execution_count": 16,
     "metadata": {},
     "output_type": "execute_result"
    }
   ],
   "source": [
    "def cal_1(x,y):\n",
    "    print(x+y)\n",
    "    print(x-y)\n",
    "    print(x*y)\n",
    "    \n",
    "print(cal_1(15,5))\n",
    "type(cal_1(12,3))"
   ]
  },
  {
   "cell_type": "code",
   "execution_count": 17,
   "id": "bd44cb7a",
   "metadata": {},
   "outputs": [
    {
     "name": "stdout",
     "output_type": "stream",
     "text": [
      "20\n",
      "10\n",
      "75\n",
      "None\n",
      "15\n",
      "9\n",
      "36\n",
      "<class 'NoneType'>\n"
     ]
    }
   ],
   "source": [
    "def cal_1(x,y):\n",
    "    print(x+y)\n",
    "    print(x-y)\n",
    "    print(x*y)\n",
    "    \n",
    "print(cal_1(15,5))\n",
    "print(type(cal_1(12,3))) ### Two times printing \"AS function is Called two times"
   ]
  },
  {
   "cell_type": "code",
   "execution_count": 18,
   "id": "4c21d9a1",
   "metadata": {},
   "outputs": [
    {
     "name": "stdout",
     "output_type": "stream",
     "text": [
      "15\n",
      "9\n",
      "36\n",
      "<class 'NoneType'>\n"
     ]
    }
   ],
   "source": [
    "def cal_1(x,y):\n",
    "    print(x+y)\n",
    "    print(x-y)\n",
    "    print(x*y)\n",
    "    \n",
    "\n",
    "print(type(cal_1(12,3)))"
   ]
  },
  {
   "cell_type": "code",
   "execution_count": 19,
   "id": "2e692679",
   "metadata": {},
   "outputs": [],
   "source": [
    "None"
   ]
  },
  {
   "cell_type": "code",
   "execution_count": 20,
   "id": "d08ef27e",
   "metadata": {},
   "outputs": [
    {
     "name": "stdout",
     "output_type": "stream",
     "text": [
      "None\n"
     ]
    }
   ],
   "source": [
    "print(None)"
   ]
  },
  {
   "cell_type": "code",
   "execution_count": null,
   "id": "76191bd5",
   "metadata": {},
   "outputs": [],
   "source": [
    "type()"
   ]
  },
  {
   "cell_type": "code",
   "execution_count": null,
   "id": "219a37b5",
   "metadata": {},
   "outputs": [],
   "source": []
  },
  {
   "cell_type": "code",
   "execution_count": null,
   "id": "3521bd6b",
   "metadata": {},
   "outputs": [],
   "source": []
  },
  {
   "cell_type": "code",
   "execution_count": 21,
   "id": "2f8cdf56",
   "metadata": {},
   "outputs": [
    {
     "name": "stdout",
     "output_type": "stream",
     "text": [
      "6\n"
     ]
    }
   ],
   "source": [
    "def cal_2(x,y,z):\n",
    "    print(x+y+z)\n",
    "\n",
    "cal_2(1,2,3)"
   ]
  },
  {
   "cell_type": "code",
   "execution_count": null,
   "id": "c4861058",
   "metadata": {},
   "outputs": [],
   "source": []
  },
  {
   "cell_type": "code",
   "execution_count": null,
   "id": "381c0188",
   "metadata": {},
   "outputs": [],
   "source": []
  },
  {
   "cell_type": "markdown",
   "id": "e3a2e867",
   "metadata": {},
   "source": [
    "## Returning value of a function"
   ]
  },
  {
   "cell_type": "code",
   "execution_count": 22,
   "id": "0c36fad3",
   "metadata": {},
   "outputs": [
    {
     "data": {
      "text/plain": [
       "22"
      ]
     },
     "execution_count": 22,
     "metadata": {},
     "output_type": "execute_result"
    }
   ],
   "source": [
    "def cal_3(x,y):\n",
    "    a = x+y\n",
    "    return a\n",
    "cal_3(10,12)"
   ]
  },
  {
   "cell_type": "code",
   "execution_count": 23,
   "id": "27eac66d",
   "metadata": {},
   "outputs": [
    {
     "name": "stdout",
     "output_type": "stream",
     "text": [
      "<class 'int'>\n"
     ]
    }
   ],
   "source": [
    "def cal_3(x,y):\n",
    "    a = x+y\n",
    "    return a\n",
    "print(type(cal_3(10,12)))"
   ]
  },
  {
   "cell_type": "code",
   "execution_count": 25,
   "id": "a4fa8264",
   "metadata": {},
   "outputs": [
    {
     "name": "stdout",
     "output_type": "stream",
     "text": [
      "32\n"
     ]
    }
   ],
   "source": [
    "def cal_3(x,y):\n",
    "    a = x+y\n",
    "    return a\n",
    "z = cal_3(10,12) +10\n",
    "print(z)"
   ]
  },
  {
   "cell_type": "code",
   "execution_count": 26,
   "id": "4fbff17f",
   "metadata": {},
   "outputs": [
    {
     "name": "stdout",
     "output_type": "stream",
     "text": [
      "x+y\n"
     ]
    },
    {
     "ename": "NameError",
     "evalue": "name 'a' is not defined",
     "output_type": "error",
     "traceback": [
      "\u001b[1;31m---------------------------------------------------------------------------\u001b[0m",
      "\u001b[1;31mNameError\u001b[0m                                 Traceback (most recent call last)",
      "Cell \u001b[1;32mIn[26], line 6\u001b[0m\n\u001b[0;32m      3\u001b[0m     \u001b[38;5;28mprint\u001b[39m (a)\n\u001b[0;32m      4\u001b[0m     \u001b[38;5;28;01mreturn\u001b[39;00m a\n\u001b[1;32m----> 6\u001b[0m \u001b[43mfunc_1\u001b[49m\u001b[43m(\u001b[49m\u001b[38;5;241;43m10\u001b[39;49m\u001b[43m,\u001b[49m\u001b[38;5;241;43m12\u001b[39;49m\u001b[43m)\u001b[49m\n",
      "Cell \u001b[1;32mIn[26], line 3\u001b[0m, in \u001b[0;36mfunc_1\u001b[1;34m(x, y)\u001b[0m\n\u001b[0;32m      1\u001b[0m \u001b[38;5;28;01mdef\u001b[39;00m \u001b[38;5;21mfunc_1\u001b[39m(x,y):\n\u001b[0;32m      2\u001b[0m     \u001b[38;5;28mprint\u001b[39m(\u001b[38;5;124m\"\u001b[39m\u001b[38;5;124mx+y\u001b[39m\u001b[38;5;124m\"\u001b[39m)\n\u001b[1;32m----> 3\u001b[0m     \u001b[38;5;28mprint\u001b[39m (\u001b[43ma\u001b[49m)\n\u001b[0;32m      4\u001b[0m     \u001b[38;5;28;01mreturn\u001b[39;00m a\n",
      "\u001b[1;31mNameError\u001b[0m: name 'a' is not defined"
     ]
    }
   ],
   "source": [
    "def func_1(x,y):\n",
    "    print(\"x+y\")\n",
    "    print (a)\n",
    "    return a\n",
    "\n",
    "func_1(10,12)"
   ]
  },
  {
   "cell_type": "code",
   "execution_count": 28,
   "id": "6d3c7431",
   "metadata": {},
   "outputs": [
    {
     "name": "stdout",
     "output_type": "stream",
     "text": [
      "Hello\n",
      "World\n"
     ]
    },
    {
     "data": {
      "text/plain": [
       "5"
      ]
     },
     "execution_count": 28,
     "metadata": {},
     "output_type": "execute_result"
    }
   ],
   "source": [
    "def func_2(a):\n",
    "    print(\"Hello\")\n",
    "    print(\"World\")\n",
    "    return a           ## function is terminated here -- that's why \"DATA\" is not printed......\"Important Point\"\n",
    "    print(\"DATA\")\n",
    "func_2(5)"
   ]
  },
  {
   "cell_type": "code",
   "execution_count": 29,
   "id": "10b446bf",
   "metadata": {},
   "outputs": [
    {
     "name": "stdout",
     "output_type": "stream",
     "text": [
      "Hello\n",
      "World\n"
     ]
    },
    {
     "data": {
      "text/plain": [
       "'HI!'"
      ]
     },
     "execution_count": 29,
     "metadata": {},
     "output_type": "execute_result"
    }
   ],
   "source": [
    "def func_2(a):\n",
    "    print(\"Hello\")\n",
    "    print(\"World\")\n",
    "    return a           ## function is terminated here -- that's why \"DATA\" is not printed......\"Important Point\"\n",
    "    print(\"DATA\")\n",
    "func_2(5)\n",
    "\"HI!\""
   ]
  },
  {
   "cell_type": "code",
   "execution_count": 30,
   "id": "cd666646",
   "metadata": {},
   "outputs": [
    {
     "data": {
      "text/plain": [
       "95"
      ]
     },
     "execution_count": 30,
     "metadata": {},
     "output_type": "execute_result"
    }
   ],
   "source": [
    "6\n",
    "95"
   ]
  },
  {
   "cell_type": "code",
   "execution_count": null,
   "id": "c2c3b236",
   "metadata": {},
   "outputs": [],
   "source": []
  },
  {
   "cell_type": "code",
   "execution_count": 2,
   "id": "c2d2aac2",
   "metadata": {},
   "outputs": [
    {
     "ename": "NameError",
     "evalue": "name 'x' is not defined",
     "output_type": "error",
     "traceback": [
      "\u001b[1;31m---------------------------------------------------------------------------\u001b[0m",
      "\u001b[1;31mNameError\u001b[0m                                 Traceback (most recent call last)",
      "Cell \u001b[1;32mIn[2], line 1\u001b[0m\n\u001b[1;32m----> 1\u001b[0m first_function(\u001b[43mx\u001b[49m)\n",
      "\u001b[1;31mNameError\u001b[0m: name 'x' is not defined"
     ]
    }
   ],
   "source": [
    "first_function(x)"
   ]
  },
  {
   "cell_type": "code",
   "execution_count": 3,
   "id": "30b59052",
   "metadata": {},
   "outputs": [
    {
     "name": "stdout",
     "output_type": "stream",
     "text": [
      "Data Science is Amazing\n"
     ]
    }
   ],
   "source": [
    "def first_function():   # \"x\"  is a variable here\n",
    "    print(\"Data Science is Amazing\")\n",
    "    \n",
    "\n",
    "first_function()  # function is called\n",
    "# first_function(\"DATA\")  # function is called"
   ]
  },
  {
   "cell_type": "code",
   "execution_count": 4,
   "id": "a5a6168e",
   "metadata": {},
   "outputs": [
    {
     "name": "stdout",
     "output_type": "stream",
     "text": [
      "Data Science is Amazing\n"
     ]
    }
   ],
   "source": [
    "first_function()"
   ]
  },
  {
   "cell_type": "code",
   "execution_count": null,
   "id": "c74f9fae",
   "metadata": {},
   "outputs": [],
   "source": [
    "def cal_11():\n",
    "    "
   ]
  },
  {
   "cell_type": "code",
   "execution_count": null,
   "id": "c23cb4d1",
   "metadata": {},
   "outputs": [],
   "source": []
  },
  {
   "cell_type": "code",
   "execution_count": null,
   "id": "78023d34",
   "metadata": {},
   "outputs": [],
   "source": []
  },
  {
   "cell_type": "code",
   "execution_count": null,
   "id": "2e2348c9",
   "metadata": {},
   "outputs": [],
   "source": []
  },
  {
   "cell_type": "code",
   "execution_count": 9,
   "id": "3e4dcb59",
   "metadata": {},
   "outputs": [
    {
     "name": "stdout",
     "output_type": "stream",
     "text": [
      "44\n"
     ]
    }
   ],
   "source": [
    "def second_function(x,y):\n",
    "    print(x+y)\n",
    "    \n",
    "second_function(34,10)"
   ]
  },
  {
   "cell_type": "code",
   "execution_count": 10,
   "id": "b4648bee",
   "metadata": {},
   "outputs": [
    {
     "name": "stdout",
     "output_type": "stream",
     "text": [
      "34\n",
      "<class 'str'>\n"
     ]
    }
   ],
   "source": [
    "def second_function(x,y):\n",
    "    print(x)\n",
    "    print(y)\n",
    "second_function(34,str)"
   ]
  },
  {
   "cell_type": "code",
   "execution_count": 11,
   "id": "c6d9c1a1",
   "metadata": {},
   "outputs": [
    {
     "name": "stdout",
     "output_type": "stream",
     "text": [
      "34\n",
      "str\n"
     ]
    }
   ],
   "source": [
    "def second_function(x,y):\n",
    "    print(x)\n",
    "    print(y)\n",
    "second_function(34,\"str\")"
   ]
  },
  {
   "cell_type": "code",
   "execution_count": 12,
   "id": "798baa7a",
   "metadata": {},
   "outputs": [
    {
     "name": "stdout",
     "output_type": "stream",
     "text": [
      "[]\n",
      "()\n"
     ]
    }
   ],
   "source": [
    "def second_function(x,y):\n",
    "    print(x)\n",
    "    print(y)\n",
    "    \n",
    "second_function([],())"
   ]
  },
  {
   "cell_type": "code",
   "execution_count": 21,
   "id": "aa55f5a2",
   "metadata": {},
   "outputs": [
    {
     "name": "stdout",
     "output_type": "stream",
     "text": [
      "<class 'list'>\n",
      "<class 'tuple'>\n",
      "<class 'set'>\n",
      "<class 'dict'>\n",
      "<class 'bool'>\n",
      "<class 'int'>\n",
      "<class 'range'>\n",
      "<class 'float'>\n"
     ]
    }
   ],
   "source": [
    "def second_function(x,y,z,a,b,c,d,e):\n",
    "    print(x);print(y);print(z);print(a);print(b);print(c);print(d);print(e)\n",
    "    \n",
    "second_function(list,tuple,set,dict,bool,int,range,float)"
   ]
  },
  {
   "cell_type": "code",
   "execution_count": null,
   "id": "1c010395",
   "metadata": {},
   "outputs": [],
   "source": []
  },
  {
   "cell_type": "markdown",
   "id": "d04e1bad",
   "metadata": {},
   "source": [
    "## Return value form a function"
   ]
  },
  {
   "cell_type": "code",
   "execution_count": 15,
   "id": "407789df",
   "metadata": {},
   "outputs": [
    {
     "data": {
      "text/plain": [
       "68"
      ]
     },
     "execution_count": 15,
     "metadata": {},
     "output_type": "execute_result"
    }
   ],
   "source": [
    "def calculator(x,y):\n",
    "    a = x+y\n",
    "    return a\n",
    "\n",
    "calculator(23,45)"
   ]
  },
  {
   "cell_type": "code",
   "execution_count": 16,
   "id": "7d62dc4f",
   "metadata": {},
   "outputs": [],
   "source": [
    "def calculator(x,y):\n",
    "    a = x+y\n",
    "    return a\n",
    "\n",
    "x = calculator(23,45)"
   ]
  },
  {
   "cell_type": "code",
   "execution_count": 17,
   "id": "5905cba5",
   "metadata": {},
   "outputs": [
    {
     "name": "stdout",
     "output_type": "stream",
     "text": [
      "Data\n"
     ]
    }
   ],
   "source": [
    "def calculator(x,y):\n",
    "    a = x+y\n",
    "    return a\n",
    "\n",
    "x = calculator(23,45)\n",
    "print(\"Data\")"
   ]
  },
  {
   "cell_type": "code",
   "execution_count": 18,
   "id": "b27a92e5",
   "metadata": {},
   "outputs": [
    {
     "name": "stdout",
     "output_type": "stream",
     "text": [
      "Data\n"
     ]
    }
   ],
   "source": [
    "12\n",
    "print(\"Data\")"
   ]
  },
  {
   "cell_type": "code",
   "execution_count": 19,
   "id": "42a08fda",
   "metadata": {},
   "outputs": [
    {
     "name": "stdout",
     "output_type": "stream",
     "text": [
      "68\n",
      "Data\n"
     ]
    }
   ],
   "source": [
    "def calculator(x,y):\n",
    "    a = x+y\n",
    "    return a\n",
    "\n",
    "x = calculator(23,45)\n",
    "print(x)\n",
    "print(\"Data\")"
   ]
  },
  {
   "cell_type": "code",
   "execution_count": 20,
   "id": "578f9aa5",
   "metadata": {},
   "outputs": [
    {
     "name": "stdout",
     "output_type": "stream",
     "text": [
      "70\n",
      "Data\n"
     ]
    }
   ],
   "source": [
    "def calculator(x,y):\n",
    "    a = x+y\n",
    "    return a\n",
    "\n",
    "x = calculator(23,45) + 2\n",
    "print(x)\n",
    "print(\"Data\")"
   ]
  },
  {
   "cell_type": "code",
   "execution_count": 22,
   "id": "6ffab1c8",
   "metadata": {},
   "outputs": [
    {
     "name": "stdout",
     "output_type": "stream",
     "text": [
      "we are adding number\n"
     ]
    },
    {
     "data": {
      "text/plain": [
       "35"
      ]
     },
     "execution_count": 22,
     "metadata": {},
     "output_type": "execute_result"
    }
   ],
   "source": [
    "def my_func(x,y):\n",
    "    print(\"we are adding numbers\")\n",
    "    a = x+y\n",
    "    return a              ## \n",
    "    print(\"Hello World\")  ## This is not printed \"As the FUCNTION\" returened    \n",
    "my_func(12,23)"
   ]
  },
  {
   "cell_type": "markdown",
   "id": "cf0f2729",
   "metadata": {},
   "source": [
    "## Important Example"
   ]
  },
  {
   "cell_type": "code",
   "execution_count": 23,
   "id": "9bfcf15a",
   "metadata": {},
   "outputs": [
    {
     "name": "stdout",
     "output_type": "stream",
     "text": [
      "xyz\n",
      "None\n"
     ]
    }
   ],
   "source": [
    "def func():\n",
    "    print(\"xyz\")\n",
    "\n",
    "x = func()\n",
    "print(x)"
   ]
  },
  {
   "cell_type": "code",
   "execution_count": 25,
   "id": "74842bec",
   "metadata": {},
   "outputs": [
    {
     "ename": "SyntaxError",
     "evalue": "invalid syntax. Perhaps you forgot a comma? (206749686.py, line 7)",
     "output_type": "error",
     "traceback": [
      "\u001b[1;36m  Cell \u001b[1;32mIn[25], line 7\u001b[1;36m\u001b[0m\n\u001b[1;33m    print(\"The value of x is \"x)\u001b[0m\n\u001b[1;37m          ^\u001b[0m\n\u001b[1;31mSyntaxError\u001b[0m\u001b[1;31m:\u001b[0m invalid syntax. Perhaps you forgot a comma?\n"
     ]
    }
   ],
   "source": [
    "def func1(a):\n",
    "    print(\"xyz\")\n",
    "    print(a)\n",
    "    print()\n",
    "\n",
    "x = func1(78)\n",
    "print(\"The value of x is \"x)"
   ]
  },
  {
   "cell_type": "code",
   "execution_count": 26,
   "id": "36a38f16",
   "metadata": {},
   "outputs": [
    {
     "name": "stdout",
     "output_type": "stream",
     "text": [
      "xyz\n",
      "78\n",
      "\n",
      "The value of x is  None\n"
     ]
    }
   ],
   "source": [
    "def func1(a):\n",
    "    print(\"xyz\")\n",
    "    print(a)\n",
    "    print()\n",
    "\n",
    "x = func1(78)\n",
    "print(\"The value of x is \",x)"
   ]
  },
  {
   "cell_type": "code",
   "execution_count": 32,
   "id": "48aad9e1",
   "metadata": {},
   "outputs": [
    {
     "name": "stdout",
     "output_type": "stream",
     "text": [
      "xyz\n",
      "78\n",
      "The value of x is  None\n"
     ]
    }
   ],
   "source": [
    "def func1(a):\n",
    "    print(\"xyz\")\n",
    "    print(a)\n",
    "    \n",
    "x = func1(78)\n",
    "print(\"The value of x is \",x)"
   ]
  },
  {
   "cell_type": "code",
   "execution_count": 30,
   "id": "e78f076c",
   "metadata": {},
   "outputs": [
    {
     "name": "stdout",
     "output_type": "stream",
     "text": [
      "xyz\n",
      "78\n",
      "The value of x is  78\n"
     ]
    }
   ],
   "source": [
    "def func1(a):\n",
    "    print(\"xyz\")\n",
    "    print(a)\n",
    "    return a\n",
    "    print(78)\n",
    "\n",
    "x = func1(78)\n",
    "print(\"The value of x is \",x)"
   ]
  },
  {
   "cell_type": "code",
   "execution_count": 28,
   "id": "b6259ead",
   "metadata": {},
   "outputs": [
    {
     "name": "stdout",
     "output_type": "stream",
     "text": [
      "Hello\n",
      "None\n"
     ]
    }
   ],
   "source": [
    "print(print(\"Hello\"))"
   ]
  },
  {
   "cell_type": "code",
   "execution_count": 33,
   "id": "05fb52c7",
   "metadata": {},
   "outputs": [
    {
     "name": "stdout",
     "output_type": "stream",
     "text": [
      "Hello\n",
      "None\n",
      "None\n"
     ]
    }
   ],
   "source": [
    "print(print(print(\"Hello\")))   ### print() will return \"None\" in PYthon -- and the DEfault value in print() \"none\""
   ]
  },
  {
   "cell_type": "code",
   "execution_count": 34,
   "id": "72835c56",
   "metadata": {},
   "outputs": [],
   "source": [
    "None"
   ]
  },
  {
   "cell_type": "code",
   "execution_count": 36,
   "id": "5abf58d9",
   "metadata": {},
   "outputs": [
    {
     "name": "stdout",
     "output_type": "stream",
     "text": [
      "None\n"
     ]
    }
   ],
   "source": [
    "print(None)"
   ]
  },
  {
   "cell_type": "markdown",
   "id": "8d640be9",
   "metadata": {},
   "source": [
    "## 17 July 2023"
   ]
  },
  {
   "cell_type": "code",
   "execution_count": 1,
   "id": "f506f925",
   "metadata": {},
   "outputs": [
    {
     "name": "stdout",
     "output_type": "stream",
     "text": [
      "\n",
      "None\n"
     ]
    }
   ],
   "source": [
    "print(print())"
   ]
  },
  {
   "cell_type": "code",
   "execution_count": 2,
   "id": "d090761b",
   "metadata": {},
   "outputs": [
    {
     "name": "stdout",
     "output_type": "stream",
     "text": [
      "Hello\n",
      "None\n"
     ]
    }
   ],
   "source": [
    "print(print(\"Hello\"))"
   ]
  },
  {
   "cell_type": "code",
   "execution_count": 3,
   "id": "18a5861d",
   "metadata": {},
   "outputs": [
    {
     "name": "stdout",
     "output_type": "stream",
     "text": [
      "\n"
     ]
    }
   ],
   "source": [
    "print()"
   ]
  },
  {
   "cell_type": "code",
   "execution_count": 4,
   "id": "419b5a51",
   "metadata": {},
   "outputs": [],
   "source": [
    "None"
   ]
  },
  {
   "cell_type": "code",
   "execution_count": 5,
   "id": "357482b1",
   "metadata": {},
   "outputs": [
    {
     "name": "stdout",
     "output_type": "stream",
     "text": [
      "None\n"
     ]
    }
   ],
   "source": [
    "print(None)"
   ]
  },
  {
   "cell_type": "code",
   "execution_count": 6,
   "id": "c0d27aa8",
   "metadata": {},
   "outputs": [
    {
     "name": "stdout",
     "output_type": "stream",
     "text": [
      "Data\n"
     ]
    },
    {
     "data": {
      "text/plain": [
       "NoneType"
      ]
     },
     "execution_count": 6,
     "metadata": {},
     "output_type": "execute_result"
    }
   ],
   "source": [
    "type(print(\"Data\"))"
   ]
  },
  {
   "cell_type": "code",
   "execution_count": null,
   "id": "053d3b4c",
   "metadata": {},
   "outputs": [],
   "source": []
  },
  {
   "cell_type": "code",
   "execution_count": 1,
   "id": "ce4b48a4",
   "metadata": {},
   "outputs": [
    {
     "name": "stdout",
     "output_type": "stream",
     "text": [
      "DATA\n"
     ]
    }
   ],
   "source": [
    "def print_a(a):\n",
    "    print(a)\n",
    "    return None\n",
    "\n",
    "print_a(\"DATA\")"
   ]
  },
  {
   "cell_type": "code",
   "execution_count": 3,
   "id": "03a397a0",
   "metadata": {},
   "outputs": [
    {
     "data": {
      "text/plain": [
       "26"
      ]
     },
     "execution_count": 3,
     "metadata": {},
     "output_type": "execute_result"
    }
   ],
   "source": [
    "def add(a,b):\n",
    "    sum = a+b\n",
    "    return sum\n",
    "\n",
    "add(11,15)"
   ]
  },
  {
   "cell_type": "code",
   "execution_count": 14,
   "id": "4b547374",
   "metadata": {},
   "outputs": [
    {
     "name": "stdout",
     "output_type": "stream",
     "text": [
      "26\n"
     ]
    }
   ],
   "source": [
    "def add(a,b):\n",
    "    sum = a+b\n",
    "    print(sum)\n",
    "    \n",
    "#    return sum\n",
    "\n",
    "add(11,15)\n"
   ]
  },
  {
   "cell_type": "code",
   "execution_count": 15,
   "id": "1540612f",
   "metadata": {},
   "outputs": [
    {
     "name": "stdout",
     "output_type": "stream",
     "text": [
      "None\n"
     ]
    }
   ],
   "source": [
    "def add(a,b):\n",
    "    sum = a+b\n",
    "#    return sum\n",
    "\n",
    "print(add(11,15))"
   ]
  },
  {
   "cell_type": "code",
   "execution_count": null,
   "id": "7401d87e",
   "metadata": {},
   "outputs": [],
   "source": []
  },
  {
   "cell_type": "code",
   "execution_count": 16,
   "id": "a3ea6af2",
   "metadata": {},
   "outputs": [
    {
     "name": "stdout",
     "output_type": "stream",
     "text": [
      "32\n",
      "None\n"
     ]
    }
   ],
   "source": [
    "def add(a,b):\n",
    "    sum = a+b\n",
    "    print(sum)\n",
    "\n",
    "print(add(22,10))"
   ]
  },
  {
   "cell_type": "code",
   "execution_count": 5,
   "id": "a39b2416",
   "metadata": {},
   "outputs": [
    {
     "name": "stdout",
     "output_type": "stream",
     "text": [
      "None\n"
     ]
    },
    {
     "ename": "TypeError",
     "evalue": "unsupported operand type(s) for *: 'NoneType' and 'int'",
     "output_type": "error",
     "traceback": [
      "\u001b[1;31m---------------------------------------------------------------------------\u001b[0m",
      "\u001b[1;31mTypeError\u001b[0m                                 Traceback (most recent call last)",
      "Cell \u001b[1;32mIn[5], line 5\u001b[0m\n\u001b[0;32m      1\u001b[0m \u001b[38;5;28;01mdef\u001b[39;00m \u001b[38;5;21madd\u001b[39m(a,b):\n\u001b[0;32m      2\u001b[0m     \u001b[38;5;28msum\u001b[39m \u001b[38;5;241m=\u001b[39m a\u001b[38;5;241m+\u001b[39mb\n\u001b[1;32m----> 5\u001b[0m \u001b[38;5;28;43mprint\u001b[39;49m\u001b[43m(\u001b[49m\u001b[43madd\u001b[49m\u001b[43m(\u001b[49m\u001b[38;5;241;43m22\u001b[39;49m\u001b[43m,\u001b[49m\u001b[38;5;241;43m10\u001b[39;49m\u001b[43m)\u001b[49m\u001b[43m)\u001b[49m\u001b[38;5;241;43m*\u001b[39;49m\u001b[38;5;241;43m5\u001b[39;49m\n",
      "\u001b[1;31mTypeError\u001b[0m: unsupported operand type(s) for *: 'NoneType' and 'int'"
     ]
    }
   ],
   "source": [
    "def add(a,b):\n",
    "    sum = a+b\n",
    "    \n",
    "\n",
    "print(add(22,10))*5"
   ]
  },
  {
   "cell_type": "code",
   "execution_count": 6,
   "id": "e83690a0",
   "metadata": {},
   "outputs": [],
   "source": [
    "None"
   ]
  },
  {
   "cell_type": "code",
   "execution_count": 7,
   "id": "d519622a",
   "metadata": {},
   "outputs": [
    {
     "name": "stdout",
     "output_type": "stream",
     "text": [
      "h\n",
      "None\n"
     ]
    }
   ],
   "source": [
    "print(print(\"h\"))"
   ]
  },
  {
   "cell_type": "code",
   "execution_count": 8,
   "id": "e849a777",
   "metadata": {},
   "outputs": [
    {
     "name": "stdout",
     "output_type": "stream",
     "text": [
      "h\n",
      "None\n",
      "None\n"
     ]
    }
   ],
   "source": [
    "print(print(print(\"h\")))"
   ]
  },
  {
   "cell_type": "code",
   "execution_count": 12,
   "id": "01001e52",
   "metadata": {},
   "outputs": [
    {
     "name": "stdout",
     "output_type": "stream",
     "text": [
      "None\n"
     ]
    }
   ],
   "source": [
    "print(None)"
   ]
  },
  {
   "cell_type": "code",
   "execution_count": 13,
   "id": "350a0296",
   "metadata": {},
   "outputs": [
    {
     "name": "stdout",
     "output_type": "stream",
     "text": [
      "\n",
      "None\n"
     ]
    }
   ],
   "source": [
    "print(print())"
   ]
  },
  {
   "cell_type": "code",
   "execution_count": 11,
   "id": "90c714ff",
   "metadata": {},
   "outputs": [
    {
     "name": "stdout",
     "output_type": "stream",
     "text": [
      "\n",
      "\n"
     ]
    }
   ],
   "source": [
    "print()\n",
    "print()"
   ]
  },
  {
   "cell_type": "code",
   "execution_count": null,
   "id": "f86b68a9",
   "metadata": {},
   "outputs": [],
   "source": []
  },
  {
   "cell_type": "code",
   "execution_count": null,
   "id": "0a8fc14a",
   "metadata": {},
   "outputs": [],
   "source": []
  },
  {
   "cell_type": "code",
   "execution_count": 2,
   "id": "05487193",
   "metadata": {},
   "outputs": [
    {
     "name": "stdout",
     "output_type": "stream",
     "text": [
      "26\n",
      "None\n"
     ]
    }
   ],
   "source": [
    "def add(a,b):\n",
    "    sum = a+b\n",
    "    print(sum)\n",
    "\n",
    "print(add(11,15))"
   ]
  },
  {
   "cell_type": "code",
   "execution_count": null,
   "id": "bf9334ef",
   "metadata": {},
   "outputs": [],
   "source": []
  },
  {
   "cell_type": "code",
   "execution_count": null,
   "id": "0aa2e827",
   "metadata": {},
   "outputs": [],
   "source": []
  },
  {
   "cell_type": "code",
   "execution_count": null,
   "id": "d75481c1",
   "metadata": {},
   "outputs": [],
   "source": []
  },
  {
   "cell_type": "code",
   "execution_count": null,
   "id": "499dd9e6",
   "metadata": {},
   "outputs": [],
   "source": []
  },
  {
   "cell_type": "code",
   "execution_count": 7,
   "id": "716c8162",
   "metadata": {},
   "outputs": [
    {
     "data": {
      "text/plain": [
       "35"
      ]
     },
     "execution_count": 7,
     "metadata": {},
     "output_type": "execute_result"
    }
   ],
   "source": [
    "def add(a,b):\n",
    "    sum = a+b\n",
    "    return sum\n",
    "\n",
    "add(13,22)"
   ]
  },
  {
   "cell_type": "code",
   "execution_count": 8,
   "id": "4cca9951",
   "metadata": {},
   "outputs": [
    {
     "name": "stdout",
     "output_type": "stream",
     "text": [
      "35\n"
     ]
    }
   ],
   "source": [
    "def add(a,b):\n",
    "    sum = a+b\n",
    "    print(sum)\n",
    "#    return sum -- Not demanded to print() \n",
    "\n",
    "add(13,22)  # If return is not written \"None Data type is returned in the function\" -- By DEFUALT"
   ]
  },
  {
   "cell_type": "code",
   "execution_count": 1,
   "id": "a5a7641f",
   "metadata": {},
   "outputs": [
    {
     "name": "stdout",
     "output_type": "stream",
     "text": [
      "35\n"
     ]
    }
   ],
   "source": [
    "def add(a,b):\n",
    "    sum = a+b\n",
    "    print(sum)\n",
    "    return None               # None is \"NOT printed without print() function\"\n",
    "\n",
    "add(13,22)  # If return is not written \"None Data type is returned in the function\" -- By DEFUALT"
   ]
  },
  {
   "cell_type": "code",
   "execution_count": null,
   "id": "34d1e2f2",
   "metadata": {},
   "outputs": [],
   "source": []
  },
  {
   "cell_type": "code",
   "execution_count": null,
   "id": "9d823559",
   "metadata": {},
   "outputs": [],
   "source": []
  },
  {
   "cell_type": "code",
   "execution_count": null,
   "id": "dcf2f8f5",
   "metadata": {},
   "outputs": [],
   "source": []
  },
  {
   "cell_type": "code",
   "execution_count": null,
   "id": "e7de8c85",
   "metadata": {},
   "outputs": [],
   "source": []
  },
  {
   "cell_type": "code",
   "execution_count": null,
   "id": "a8efbb95",
   "metadata": {},
   "outputs": [],
   "source": []
  },
  {
   "cell_type": "code",
   "execution_count": null,
   "id": "5e0d4e33",
   "metadata": {},
   "outputs": [],
   "source": []
  },
  {
   "cell_type": "code",
   "execution_count": 35,
   "id": "c3bb94ce",
   "metadata": {},
   "outputs": [
    {
     "data": {
      "text/plain": [
       "'string'"
      ]
     },
     "execution_count": 35,
     "metadata": {},
     "output_type": "execute_result"
    }
   ],
   "source": [
    "\"string\""
   ]
  },
  {
   "cell_type": "code",
   "execution_count": 1,
   "id": "2814508b",
   "metadata": {},
   "outputs": [
    {
     "data": {
      "text/plain": [
       "<function print>"
      ]
     },
     "execution_count": 1,
     "metadata": {},
     "output_type": "execute_result"
    }
   ],
   "source": [
    "print"
   ]
  },
  {
   "cell_type": "code",
   "execution_count": 2,
   "id": "ae7b6ca1",
   "metadata": {},
   "outputs": [
    {
     "data": {
      "text/plain": [
       "<bound method Kernel.raw_input of <ipykernel.ipkernel.IPythonKernel object at 0x00000111F8617310>>"
      ]
     },
     "execution_count": 2,
     "metadata": {},
     "output_type": "execute_result"
    }
   ],
   "source": [
    "input"
   ]
  },
  {
   "cell_type": "code",
   "execution_count": 3,
   "id": "0e426277",
   "metadata": {},
   "outputs": [
    {
     "data": {
      "text/plain": [
       "<function len(obj, /)>"
      ]
     },
     "execution_count": 3,
     "metadata": {},
     "output_type": "execute_result"
    }
   ],
   "source": [
    "len"
   ]
  },
  {
   "cell_type": "code",
   "execution_count": 4,
   "id": "e1eaa1ac",
   "metadata": {},
   "outputs": [
    {
     "data": {
      "text/plain": [
       "<function id(obj, /)>"
      ]
     },
     "execution_count": 4,
     "metadata": {},
     "output_type": "execute_result"
    }
   ],
   "source": [
    "id"
   ]
  },
  {
   "cell_type": "code",
   "execution_count": 13,
   "id": "02ea19f7",
   "metadata": {},
   "outputs": [
    {
     "data": {
      "text/plain": [
       "type"
      ]
     },
     "execution_count": 13,
     "metadata": {},
     "output_type": "execute_result"
    }
   ],
   "source": [
    "type"
   ]
  },
  {
   "cell_type": "code",
   "execution_count": 14,
   "id": "c4ba2086",
   "metadata": {},
   "outputs": [
    {
     "ename": "TypeError",
     "evalue": "type() takes 1 or 3 arguments",
     "output_type": "error",
     "traceback": [
      "\u001b[1;31m---------------------------------------------------------------------------\u001b[0m",
      "\u001b[1;31mTypeError\u001b[0m                                 Traceback (most recent call last)",
      "Cell \u001b[1;32mIn[14], line 1\u001b[0m\n\u001b[1;32m----> 1\u001b[0m \u001b[38;5;28;43mtype\u001b[39;49m\u001b[43m(\u001b[49m\u001b[43m)\u001b[49m\n",
      "\u001b[1;31mTypeError\u001b[0m: type() takes 1 or 3 arguments"
     ]
    }
   ],
   "source": [
    "type()"
   ]
  },
  {
   "cell_type": "code",
   "execution_count": null,
   "id": "18644dd1",
   "metadata": {},
   "outputs": [],
   "source": []
  },
  {
   "cell_type": "code",
   "execution_count": null,
   "id": "946c7ea3",
   "metadata": {},
   "outputs": [],
   "source": []
  },
  {
   "cell_type": "code",
   "execution_count": 12,
   "id": "0e92ca8d",
   "metadata": {},
   "outputs": [
    {
     "ename": "NameError",
     "evalue": "name 'call' is not defined",
     "output_type": "error",
     "traceback": [
      "\u001b[1;31m---------------------------------------------------------------------------\u001b[0m",
      "\u001b[1;31mNameError\u001b[0m                                 Traceback (most recent call last)",
      "Cell \u001b[1;32mIn[12], line 1\u001b[0m\n\u001b[1;32m----> 1\u001b[0m \u001b[43mcall\u001b[49m\n",
      "\u001b[1;31mNameError\u001b[0m: name 'call' is not defined"
     ]
    }
   ],
   "source": [
    "call"
   ]
  },
  {
   "cell_type": "code",
   "execution_count": null,
   "id": "5d095ae9",
   "metadata": {},
   "outputs": [],
   "source": []
  },
  {
   "cell_type": "code",
   "execution_count": null,
   "id": "7d569422",
   "metadata": {},
   "outputs": [],
   "source": []
  },
  {
   "cell_type": "code",
   "execution_count": null,
   "id": "1c1de3ad",
   "metadata": {},
   "outputs": [],
   "source": []
  },
  {
   "cell_type": "code",
   "execution_count": null,
   "id": "26d02cee",
   "metadata": {},
   "outputs": [],
   "source": []
  },
  {
   "cell_type": "code",
   "execution_count": null,
   "id": "ed848b37",
   "metadata": {},
   "outputs": [],
   "source": []
  },
  {
   "cell_type": "code",
   "execution_count": null,
   "id": "8a9f46a4",
   "metadata": {},
   "outputs": [],
   "source": []
  },
  {
   "cell_type": "code",
   "execution_count": 5,
   "id": "2130a2c9",
   "metadata": {},
   "outputs": [
    {
     "name": "stdout",
     "output_type": "stream",
     "text": [
      "xyz\n",
      "45\n",
      "The value of x is: None\n"
     ]
    }
   ],
   "source": [
    "def func1(a):\n",
    "    print(\"xyz\")\n",
    "    print(a)\n",
    "\n",
    "x = func1(45)\n",
    "print(\"The value of x is:\", x)"
   ]
  },
  {
   "cell_type": "code",
   "execution_count": 6,
   "id": "586a1caf",
   "metadata": {},
   "outputs": [
    {
     "name": "stdout",
     "output_type": "stream",
     "text": [
      "xyz\n",
      "45\n"
     ]
    },
    {
     "ename": "TypeError",
     "evalue": "unsupported operand type(s) for -: 'NoneType' and 'int'",
     "output_type": "error",
     "traceback": [
      "\u001b[1;31m---------------------------------------------------------------------------\u001b[0m",
      "\u001b[1;31mTypeError\u001b[0m                                 Traceback (most recent call last)",
      "Cell \u001b[1;32mIn[6], line 5\u001b[0m\n\u001b[0;32m      2\u001b[0m     \u001b[38;5;28mprint\u001b[39m(\u001b[38;5;124m\"\u001b[39m\u001b[38;5;124mxyz\u001b[39m\u001b[38;5;124m\"\u001b[39m)\n\u001b[0;32m      3\u001b[0m     \u001b[38;5;28mprint\u001b[39m(a)\n\u001b[1;32m----> 5\u001b[0m x \u001b[38;5;241m=\u001b[39m \u001b[43mfunc1\u001b[49m\u001b[43m(\u001b[49m\u001b[38;5;241;43m45\u001b[39;49m\u001b[43m)\u001b[49m\u001b[43m \u001b[49m\u001b[38;5;241;43m-\u001b[39;49m\u001b[38;5;241;43m23\u001b[39;49m\n\u001b[0;32m      6\u001b[0m \u001b[38;5;28mprint\u001b[39m(\u001b[38;5;124m\"\u001b[39m\u001b[38;5;124mThe value of x is:\u001b[39m\u001b[38;5;124m\"\u001b[39m, x)\n",
      "\u001b[1;31mTypeError\u001b[0m: unsupported operand type(s) for -: 'NoneType' and 'int'"
     ]
    }
   ],
   "source": [
    "def func1(a):\n",
    "    print(\"xyz\")\n",
    "    print(a)\n",
    "\n",
    "x = func1(45) -23\n",
    "print(\"The value of x is:\", x)"
   ]
  },
  {
   "cell_type": "code",
   "execution_count": 7,
   "id": "28d54f12",
   "metadata": {},
   "outputs": [
    {
     "name": "stdout",
     "output_type": "stream",
     "text": [
      "xyz\n",
      "45\n",
      "23\n"
     ]
    },
    {
     "ename": "TypeError",
     "evalue": "unsupported operand type(s) for -: 'NoneType' and 'int'",
     "output_type": "error",
     "traceback": [
      "\u001b[1;31m---------------------------------------------------------------------------\u001b[0m",
      "\u001b[1;31mTypeError\u001b[0m                                 Traceback (most recent call last)",
      "Cell \u001b[1;32mIn[7], line 6\u001b[0m\n\u001b[0;32m      3\u001b[0m     \u001b[38;5;28mprint\u001b[39m(a)\n\u001b[0;32m      4\u001b[0m     \u001b[38;5;28mprint\u001b[39m(a\u001b[38;5;241m-\u001b[39m\u001b[38;5;241m22\u001b[39m)\n\u001b[1;32m----> 6\u001b[0m x \u001b[38;5;241m=\u001b[39m \u001b[43mfunc1\u001b[49m\u001b[43m(\u001b[49m\u001b[38;5;241;43m45\u001b[39;49m\u001b[43m)\u001b[49m\u001b[43m \u001b[49m\u001b[38;5;241;43m-\u001b[39;49m\u001b[38;5;241;43m23\u001b[39;49m\n\u001b[0;32m      7\u001b[0m \u001b[38;5;28mprint\u001b[39m(\u001b[38;5;124m\"\u001b[39m\u001b[38;5;124mThe value of x is:\u001b[39m\u001b[38;5;124m\"\u001b[39m, x)\n",
      "\u001b[1;31mTypeError\u001b[0m: unsupported operand type(s) for -: 'NoneType' and 'int'"
     ]
    }
   ],
   "source": [
    "def func1(a):\n",
    "    print(\"xyz\")\n",
    "    print(a)\n",
    "    print(a-22)\n",
    "\n",
    "x = func1(45) -23\n",
    "print(\"The value of x is:\", x)"
   ]
  },
  {
   "cell_type": "code",
   "execution_count": 8,
   "id": "97cffd40",
   "metadata": {},
   "outputs": [
    {
     "name": "stdout",
     "output_type": "stream",
     "text": [
      "xyz\n",
      "45\n",
      "23\n"
     ]
    },
    {
     "ename": "TypeError",
     "evalue": "unsupported operand type(s) for -: 'NoneType' and 'int'",
     "output_type": "error",
     "traceback": [
      "\u001b[1;31m---------------------------------------------------------------------------\u001b[0m",
      "\u001b[1;31mTypeError\u001b[0m                                 Traceback (most recent call last)",
      "Cell \u001b[1;32mIn[8], line 7\u001b[0m\n\u001b[0;32m      4\u001b[0m     \u001b[38;5;28mprint\u001b[39m(a\u001b[38;5;241m-\u001b[39m\u001b[38;5;241m22\u001b[39m)\n\u001b[0;32m      5\u001b[0m     \u001b[38;5;28;01mreturn\u001b[39;00m\n\u001b[1;32m----> 7\u001b[0m x \u001b[38;5;241m=\u001b[39m \u001b[43mfunc1\u001b[49m\u001b[43m(\u001b[49m\u001b[38;5;241;43m45\u001b[39;49m\u001b[43m)\u001b[49m\u001b[43m \u001b[49m\u001b[38;5;241;43m-\u001b[39;49m\u001b[38;5;241;43m23\u001b[39;49m\n\u001b[0;32m      8\u001b[0m \u001b[38;5;28mprint\u001b[39m(\u001b[38;5;124m\"\u001b[39m\u001b[38;5;124mThe value of x is:\u001b[39m\u001b[38;5;124m\"\u001b[39m, x)\n",
      "\u001b[1;31mTypeError\u001b[0m: unsupported operand type(s) for -: 'NoneType' and 'int'"
     ]
    }
   ],
   "source": [
    "def func1(a):\n",
    "    print(\"xyz\")\n",
    "    print(a)\n",
    "    print(a-22)\n",
    "    return\n",
    "\n",
    "x = func1(45) -23\n",
    "print(\"The value of x is:\", x)"
   ]
  },
  {
   "cell_type": "code",
   "execution_count": 9,
   "id": "bbdd1f6b",
   "metadata": {},
   "outputs": [
    {
     "name": "stdout",
     "output_type": "stream",
     "text": [
      "xyz\n",
      "45\n",
      "23\n",
      "The value of x is: None\n"
     ]
    }
   ],
   "source": [
    "def func1(a):\n",
    "    print(\"xyz\")\n",
    "    print(a)\n",
    "    print(a-22)\n",
    "    return\n",
    "\n",
    "x = func1(45)\n",
    "print(\"The value of x is:\", x)"
   ]
  },
  {
   "cell_type": "code",
   "execution_count": 10,
   "id": "8939e3ac",
   "metadata": {},
   "outputs": [
    {
     "name": "stdout",
     "output_type": "stream",
     "text": [
      "xyz\n",
      "45\n",
      "23\n",
      "The value of x is: 45\n"
     ]
    }
   ],
   "source": [
    "def func1(a):\n",
    "    print(\"xyz\")\n",
    "    print(a)\n",
    "    print(a-22)\n",
    "    return a\n",
    "\n",
    "x = func1(45)\n",
    "print(\"The value of x is:\", x)"
   ]
  },
  {
   "cell_type": "code",
   "execution_count": 11,
   "id": "2bfb3a60",
   "metadata": {},
   "outputs": [
    {
     "name": "stdout",
     "output_type": "stream",
     "text": [
      "xyz\n",
      "45\n",
      "23\n",
      "The value of x is: 68\n"
     ]
    }
   ],
   "source": [
    "def func1(a):\n",
    "    print(\"xyz\")\n",
    "    print(a)\n",
    "    print(a-22)\n",
    "    return a\n",
    "\n",
    "x = func1(45) +23\n",
    "print(\"The value of x is:\", x)"
   ]
  },
  {
   "cell_type": "code",
   "execution_count": 15,
   "id": "df14dbb8",
   "metadata": {},
   "outputs": [
    {
     "name": "stdout",
     "output_type": "stream",
     "text": [
      "\n",
      "None\n",
      "None\n",
      "None\n"
     ]
    }
   ],
   "source": [
    "print(print(print(print())))"
   ]
  },
  {
   "cell_type": "markdown",
   "id": "dccf397b",
   "metadata": {},
   "source": [
    "## Applications of Loop\n",
    "- ATM\n",
    "- User Login\n",
    "- Network Jammer (Military Application\n",
    "\n",
    "- "
   ]
  }
 ],
 "metadata": {
  "kernelspec": {
   "display_name": "Python 3 (ipykernel)",
   "language": "python",
   "name": "python3"
  },
  "language_info": {
   "codemirror_mode": {
    "name": "ipython",
    "version": 3
   },
   "file_extension": ".py",
   "mimetype": "text/x-python",
   "name": "python",
   "nbconvert_exporter": "python",
   "pygments_lexer": "ipython3",
   "version": "3.10.9"
  }
 },
 "nbformat": 4,
 "nbformat_minor": 5
}
