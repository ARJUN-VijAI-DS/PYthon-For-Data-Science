{
 "cells": [
  {
   "cell_type": "code",
   "execution_count": 7,
   "id": "f699b99d",
   "metadata": {},
   "outputs": [
    {
     "data": {
      "text/plain": [
       "''"
      ]
     },
     "execution_count": 7,
     "metadata": {},
     "output_type": "execute_result"
    }
   ],
   "source": [
    "x = \"Python is easyT\"        # IMPORTANT \n",
    "x[-1:-6]                    ## Python language move in forward direction.  "
   ]
  },
  {
   "cell_type": "code",
   "execution_count": 8,
   "id": "2ca0ff77",
   "metadata": {},
   "outputs": [
    {
     "data": {
      "text/plain": [
       "' easy'"
      ]
     },
     "execution_count": 8,
     "metadata": {},
     "output_type": "execute_result"
    }
   ],
   "source": [
    "x[-6:-1]                ## -1 is excluded"
   ]
  },
  {
   "cell_type": "code",
   "execution_count": 9,
   "id": "40002fec",
   "metadata": {},
   "outputs": [
    {
     "data": {
      "text/plain": [
       "'y'"
      ]
     },
     "execution_count": 9,
     "metadata": {},
     "output_type": "execute_result"
    }
   ],
   "source": [
    "x[-2:-1]                ## -1 is excluded"
   ]
  },
  {
   "cell_type": "code",
   "execution_count": 10,
   "id": "bfb26ffa",
   "metadata": {},
   "outputs": [
    {
     "data": {
      "text/plain": [
       "''"
      ]
     },
     "execution_count": 10,
     "metadata": {},
     "output_type": "execute_result"
    }
   ],
   "source": [
    "x[-2:0]                ## Python language move in forward direction.\n"
   ]
  },
  {
   "cell_type": "markdown",
   "id": "8a3d20d4",
   "metadata": {},
   "source": [
    "# .endswith() \n",
    "\n",
    "- reply in the form of boolen form"
   ]
  },
  {
   "cell_type": "code",
   "execution_count": 11,
   "id": "055d36f7",
   "metadata": {},
   "outputs": [
    {
     "data": {
      "text/plain": [
       "True"
      ]
     },
     "execution_count": 11,
     "metadata": {},
     "output_type": "execute_result"
    }
   ],
   "source": [
    "x = \"Hello world\"              # reply in the form of boolen form\n",
    "x.endswith('ld') "
   ]
  },
  {
   "cell_type": "code",
   "execution_count": 12,
   "id": "e2c5f6ff",
   "metadata": {},
   "outputs": [
    {
     "data": {
      "text/plain": [
       "True"
      ]
     },
     "execution_count": 12,
     "metadata": {},
     "output_type": "execute_result"
    }
   ],
   "source": [
    "x = \"Hello world\"\n",
    "x.endswith('d')"
   ]
  },
  {
   "cell_type": "code",
   "execution_count": 13,
   "id": "656f1926",
   "metadata": {},
   "outputs": [
    {
     "data": {
      "text/plain": [
       "True"
      ]
     },
     "execution_count": 13,
     "metadata": {},
     "output_type": "execute_result"
    }
   ],
   "source": [
    "x = \"Hello world\"\n",
    "x.endswith('world')"
   ]
  },
  {
   "cell_type": "code",
   "execution_count": 14,
   "id": "cf55dc0d",
   "metadata": {},
   "outputs": [
    {
     "data": {
      "text/plain": [
       "False"
      ]
     },
     "execution_count": 14,
     "metadata": {},
     "output_type": "execute_result"
    }
   ],
   "source": [
    "x = \"Hello world\"\n",
    "x.endswith('zz')"
   ]
  },
  {
   "cell_type": "code",
   "execution_count": 15,
   "id": "d973292d",
   "metadata": {},
   "outputs": [
    {
     "data": {
      "text/plain": [
       "False"
      ]
     },
     "execution_count": 15,
     "metadata": {},
     "output_type": "execute_result"
    }
   ],
   "source": [
    "x = \"Hello world\"\n",
    "x.endswith('xx')"
   ]
  },
  {
   "cell_type": "code",
   "execution_count": 16,
   "id": "3839dfca",
   "metadata": {},
   "outputs": [
    {
     "data": {
      "text/plain": [
       "False"
      ]
     },
     "execution_count": 16,
     "metadata": {},
     "output_type": "execute_result"
    }
   ],
   "source": [
    "x = \"Hello world\"\n",
    "x.endswith('Hello')"
   ]
  },
  {
   "cell_type": "code",
   "execution_count": 17,
   "id": "386dd6c3",
   "metadata": {},
   "outputs": [
    {
     "data": {
      "text/plain": [
       "False"
      ]
     },
     "execution_count": 17,
     "metadata": {},
     "output_type": "execute_result"
    }
   ],
   "source": [
    "x = \"Hello world\"      ## IMPORTANT point -- ONLY the ending word is important in the .endswith() method.  \n",
    "x.endswith('00')"
   ]
  },
  {
   "cell_type": "code",
   "execution_count": null,
   "id": "7a2d0d06",
   "metadata": {},
   "outputs": [],
   "source": []
  },
  {
   "cell_type": "code",
   "execution_count": null,
   "id": "5cc09cc9",
   "metadata": {},
   "outputs": [],
   "source": []
  },
  {
   "cell_type": "code",
   "execution_count": null,
   "id": "52fa3192",
   "metadata": {},
   "outputs": [],
   "source": []
  },
  {
   "cell_type": "code",
   "execution_count": null,
   "id": "c6c42f19",
   "metadata": {},
   "outputs": [],
   "source": []
  },
  {
   "cell_type": "code",
   "execution_count": null,
   "id": "08e8314a",
   "metadata": {},
   "outputs": [],
   "source": []
  },
  {
   "cell_type": "markdown",
   "id": "ed473fb6",
   "metadata": {},
   "source": [
    "'.'  -- DOT   \n",
    "\"()\" -- perenthesis\n"
   ]
  },
  {
   "cell_type": "markdown",
   "id": "371ceeed",
   "metadata": {},
   "source": [
    "# .split()  -- Method -- Used for creating list. [ ]"
   ]
  },
  {
   "cell_type": "code",
   "execution_count": 18,
   "id": "fca05cac",
   "metadata": {},
   "outputs": [
    {
     "data": {
      "text/plain": [
       "['Hello', 'World']"
      ]
     },
     "execution_count": 18,
     "metadata": {},
     "output_type": "execute_result"
    }
   ],
   "source": [
    "# .split()\n",
    "\n",
    "x = (\"Hello World\")\n",
    "x.split(\" \")              # -- output is list DATA type"
   ]
  },
  {
   "cell_type": "code",
   "execution_count": 20,
   "id": "f1ea7bcb",
   "metadata": {},
   "outputs": [
    {
     "data": {
      "text/plain": [
       "['Hello ', 'orld']"
      ]
     },
     "execution_count": 20,
     "metadata": {},
     "output_type": "execute_result"
    }
   ],
   "source": [
    "# .split()\n",
    "\n",
    "x = (\"Hello World\")\n",
    "x.split(\"W\")              # -- output is list DATA type"
   ]
  },
  {
   "cell_type": "code",
   "execution_count": 21,
   "id": "cd3fea14",
   "metadata": {},
   "outputs": [
    {
     "data": {
      "text/plain": [
       "['Hell', ' W', 'rld']"
      ]
     },
     "execution_count": 21,
     "metadata": {},
     "output_type": "execute_result"
    }
   ],
   "source": [
    "# .split()\n",
    "\n",
    "x = (\"Hello World\")\n",
    "x.split(\"o\")              #  -- output is list DATA type"
   ]
  },
  {
   "cell_type": "code",
   "execution_count": 1,
   "id": "efcca169",
   "metadata": {
    "scrolled": true
   },
   "outputs": [
    {
     "ename": "ValueError",
     "evalue": "empty separator",
     "output_type": "error",
     "traceback": [
      "\u001b[1;31m---------------------------------------------------------------------------\u001b[0m",
      "\u001b[1;31mValueError\u001b[0m                                Traceback (most recent call last)",
      "Cell \u001b[1;32mIn[1], line 4\u001b[0m\n\u001b[0;32m      1\u001b[0m \u001b[38;5;66;03m# .split()\u001b[39;00m\n\u001b[0;32m      3\u001b[0m x \u001b[38;5;241m=\u001b[39m (\u001b[38;5;124m\"\u001b[39m\u001b[38;5;124mHello World\u001b[39m\u001b[38;5;124m\"\u001b[39m)\n\u001b[1;32m----> 4\u001b[0m \u001b[43mx\u001b[49m\u001b[38;5;241;43m.\u001b[39;49m\u001b[43msplit\u001b[49m\u001b[43m(\u001b[49m\u001b[38;5;124;43m\"\u001b[39;49m\u001b[38;5;124;43m\"\u001b[39;49m\u001b[43m)\u001b[49m\n",
      "\u001b[1;31mValueError\u001b[0m: empty separator"
     ]
    }
   ],
   "source": [
    "# .split()\n",
    "\n",
    "x = (\"Hello World\")\n",
    "x.split(\"\")              #  -- output is list DATA type"
   ]
  },
  {
   "cell_type": "markdown",
   "id": "3aab3b6b",
   "metadata": {},
   "source": [
    "-  .split() -- Empty Space will be taken by **\"DEFAULT\"**"
   ]
  },
  {
   "cell_type": "code",
   "execution_count": 2,
   "id": "44db38e7",
   "metadata": {},
   "outputs": [
    {
     "data": {
      "text/plain": [
       "['Hello', 'World']"
      ]
     },
     "execution_count": 2,
     "metadata": {},
     "output_type": "execute_result"
    }
   ],
   "source": [
    "# .split()\n",
    "\n",
    "x = (\"Hello World\")\n",
    "x.split()              #  -- output is list DATA type"
   ]
  },
  {
   "cell_type": "code",
   "execution_count": null,
   "id": "4a71fbe5",
   "metadata": {},
   "outputs": [],
   "source": []
  },
  {
   "cell_type": "code",
   "execution_count": null,
   "id": "561288c5",
   "metadata": {},
   "outputs": [],
   "source": []
  },
  {
   "cell_type": "code",
   "execution_count": null,
   "id": "2bb883a1",
   "metadata": {},
   "outputs": [],
   "source": []
  },
  {
   "cell_type": "code",
   "execution_count": 23,
   "id": "6875f848",
   "metadata": {},
   "outputs": [
    {
     "data": {
      "text/plain": [
       "['He', '', 'o Wor', 'd']"
      ]
     },
     "execution_count": 23,
     "metadata": {},
     "output_type": "execute_result"
    }
   ],
   "source": [
    "# .split()\n",
    "\n",
    "x = (\"Hello World\")\n",
    "x.split(\"l\")              #  -- output is list DATA type  -- Output is in Square bracet -- [] -- L -- for list."
   ]
  },
  {
   "cell_type": "code",
   "execution_count": 24,
   "id": "8963b350",
   "metadata": {},
   "outputs": [
    {
     "data": {
      "text/plain": [
       "['H', 'llo World']"
      ]
     },
     "execution_count": 24,
     "metadata": {},
     "output_type": "execute_result"
    }
   ],
   "source": [
    "# .split()\n",
    "\n",
    "x = (\"Hello World\")\n",
    "x.split(\"e\")              #  -- output is list DATA type"
   ]
  },
  {
   "cell_type": "code",
   "execution_count": 25,
   "id": "5c8bb8c2",
   "metadata": {},
   "outputs": [
    {
     "data": {
      "text/plain": [
       "['Hello Wo', 'ld']"
      ]
     },
     "execution_count": 25,
     "metadata": {},
     "output_type": "execute_result"
    }
   ],
   "source": [
    "# .split()\n",
    "\n",
    "x = (\"Hello World\")\n",
    "x.split(\"r\")              #  -- output is list DATA type  -- Output is in Square bracet -- [] -- L -- for list."
   ]
  },
  {
   "cell_type": "code",
   "execution_count": 26,
   "id": "aa3c342e",
   "metadata": {},
   "outputs": [
    {
     "data": {
      "text/plain": [
       "['Potato', 'Tomatos', 'salt', 'spices']"
      ]
     },
     "execution_count": 26,
     "metadata": {},
     "output_type": "execute_result"
    }
   ],
   "source": [
    "veg = \"Potato Tomatos salt spices\"\n",
    "veg.split(\" \")"
   ]
  },
  {
   "cell_type": "code",
   "execution_count": 27,
   "id": "0782e0ff",
   "metadata": {},
   "outputs": [
    {
     "data": {
      "text/plain": [
       "['Potato', ' Tomatos', ' salt', ' spices']"
      ]
     },
     "execution_count": 27,
     "metadata": {},
     "output_type": "execute_result"
    }
   ],
   "source": [
    "veg = \"Potato, Tomatos, salt, spices\"\n",
    "veg.split(\",\")"
   ]
  },
  {
   "cell_type": "code",
   "execution_count": 29,
   "id": "a641019a",
   "metadata": {},
   "outputs": [
    {
     "data": {
      "text/plain": [
       "['Potato Tomatos salt spices']"
      ]
     },
     "execution_count": 29,
     "metadata": {},
     "output_type": "execute_result"
    }
   ],
   "source": [
    "veg = \"Potato Tomatos salt spices\"\n",
    "veg.split(\"x\")              ## -- printed as it is -- same-same"
   ]
  },
  {
   "cell_type": "markdown",
   "id": "4b40b896",
   "metadata": {},
   "source": [
    "# .find() \n",
    "\n",
    "-  Index number finding technique."
   ]
  },
  {
   "cell_type": "code",
   "execution_count": 30,
   "id": "88ff9b62",
   "metadata": {},
   "outputs": [
    {
     "data": {
      "text/plain": [
       "4"
      ]
     },
     "execution_count": 30,
     "metadata": {},
     "output_type": "execute_result"
    }
   ],
   "source": [
    "# .find()  -- Printng index NUMBER at which \"o\" occurs for the FIRST TIME.\n",
    "x = \"hello world\"   \n",
    "x.find(\"o\")"
   ]
  },
  {
   "cell_type": "code",
   "execution_count": 31,
   "id": "f24bc9a7",
   "metadata": {},
   "outputs": [
    {
     "data": {
      "text/plain": [
       "6"
      ]
     },
     "execution_count": 31,
     "metadata": {},
     "output_type": "execute_result"
    }
   ],
   "source": [
    "x = \"hello world\"\n",
    "x.find(\"wo\")"
   ]
  },
  {
   "cell_type": "code",
   "execution_count": 32,
   "id": "7fae9380",
   "metadata": {},
   "outputs": [
    {
     "data": {
      "text/plain": [
       "9"
      ]
     },
     "execution_count": 32,
     "metadata": {},
     "output_type": "execute_result"
    }
   ],
   "source": [
    "x = \"hello world\"\n",
    "x.find(\"ld\")"
   ]
  },
  {
   "cell_type": "markdown",
   "id": "c7d6ce09",
   "metadata": {},
   "source": [
    "- If String is not present .find() will display **\"-1\" BY DEFAULT**"
   ]
  },
  {
   "cell_type": "code",
   "execution_count": 2,
   "id": "94daa972",
   "metadata": {},
   "outputs": [
    {
     "data": {
      "text/plain": [
       "-1"
      ]
     },
     "execution_count": 2,
     "metadata": {},
     "output_type": "execute_result"
    }
   ],
   "source": [
    "aj = \"DATA SCIENTIST\"\n",
    "aj.find(\"aj\")"
   ]
  },
  {
   "cell_type": "code",
   "execution_count": 1,
   "id": "71864608",
   "metadata": {},
   "outputs": [
    {
     "data": {
      "text/plain": [
       "-1"
      ]
     },
     "execution_count": 1,
     "metadata": {},
     "output_type": "execute_result"
    }
   ],
   "source": [
    "x = \"hello world\"\n",
    "x.find(\"oo\")"
   ]
  },
  {
   "cell_type": "code",
   "execution_count": 34,
   "id": "9de6b7de",
   "metadata": {},
   "outputs": [
    {
     "data": {
      "text/plain": [
       "-1"
      ]
     },
     "execution_count": 34,
     "metadata": {},
     "output_type": "execute_result"
    }
   ],
   "source": [
    "x = \"hello world\"\n",
    "x.find(\"vv\")"
   ]
  },
  {
   "cell_type": "code",
   "execution_count": null,
   "id": "a0bb29e7",
   "metadata": {},
   "outputs": [],
   "source": []
  },
  {
   "cell_type": "code",
   "execution_count": null,
   "id": "8b61aee5",
   "metadata": {},
   "outputs": [],
   "source": []
  },
  {
   "cell_type": "code",
   "execution_count": 35,
   "id": "1c90a186",
   "metadata": {},
   "outputs": [
    {
     "data": {
      "text/plain": [
       "2"
      ]
     },
     "execution_count": 35,
     "metadata": {},
     "output_type": "execute_result"
    }
   ],
   "source": [
    "x = \"hello world\"\n",
    "x.find(\"ll\")"
   ]
  },
  {
   "cell_type": "code",
   "execution_count": 36,
   "id": "a1c267f3",
   "metadata": {},
   "outputs": [
    {
     "data": {
      "text/plain": [
       "4"
      ]
     },
     "execution_count": 36,
     "metadata": {},
     "output_type": "execute_result"
    }
   ],
   "source": [
    "x = \"hello world\"   # -- IMPORTANT\n",
    "x.find(\"o w\")"
   ]
  },
  {
   "cell_type": "code",
   "execution_count": 37,
   "id": "840ae7d1",
   "metadata": {},
   "outputs": [
    {
     "data": {
      "text/plain": [
       "-1"
      ]
     },
     "execution_count": 37,
     "metadata": {},
     "output_type": "execute_result"
    }
   ],
   "source": [
    "x = \"hello world\"\n",
    "x.find(\"6\")"
   ]
  },
  {
   "cell_type": "code",
   "execution_count": null,
   "id": "7fa4a7ca",
   "metadata": {},
   "outputs": [],
   "source": []
  },
  {
   "cell_type": "code",
   "execution_count": null,
   "id": "36227cf7",
   "metadata": {},
   "outputs": [],
   "source": []
  },
  {
   "cell_type": "code",
   "execution_count": null,
   "id": "6305e135",
   "metadata": {},
   "outputs": [],
   "source": []
  },
  {
   "cell_type": "markdown",
   "id": "5f0485c9",
   "metadata": {},
   "source": [
    "#  len()  -- it is a function."
   ]
  },
  {
   "cell_type": "code",
   "execution_count": 39,
   "id": "2b3b8c83",
   "metadata": {},
   "outputs": [
    {
     "data": {
      "text/plain": [
       "21"
      ]
     },
     "execution_count": 39,
     "metadata": {},
     "output_type": "execute_result"
    }
   ],
   "source": [
    "# len()  -- find the length of the string\n",
    "\n",
    "x = \"I am a data scientist\"\n",
    "len(x)"
   ]
  },
  {
   "cell_type": "code",
   "execution_count": 40,
   "id": "e5e1a023",
   "metadata": {},
   "outputs": [
    {
     "data": {
      "text/plain": [
       "9"
      ]
     },
     "execution_count": 40,
     "metadata": {},
     "output_type": "execute_result"
    }
   ],
   "source": [
    "len(\"   python\")"
   ]
  },
  {
   "cell_type": "code",
   "execution_count": 41,
   "id": "072f116d",
   "metadata": {},
   "outputs": [
    {
     "data": {
      "text/plain": [
       "1"
      ]
     },
     "execution_count": 41,
     "metadata": {},
     "output_type": "execute_result"
    }
   ],
   "source": [
    "len(\"o\")"
   ]
  },
  {
   "cell_type": "code",
   "execution_count": 42,
   "id": "3f49ff71",
   "metadata": {},
   "outputs": [
    {
     "ename": "AttributeError",
     "evalue": "'str' object has no attribute 'len'",
     "output_type": "error",
     "traceback": [
      "\u001b[1;31m---------------------------------------------------------------------------\u001b[0m",
      "\u001b[1;31mAttributeError\u001b[0m                            Traceback (most recent call last)",
      "Cell \u001b[1;32mIn[42], line 1\u001b[0m\n\u001b[1;32m----> 1\u001b[0m \u001b[43mx\u001b[49m\u001b[38;5;241;43m.\u001b[39;49m\u001b[43mlen\u001b[49m(\u001b[38;5;124m\"\u001b[39m\u001b[38;5;124mo\u001b[39m\u001b[38;5;124m\"\u001b[39m)\n",
      "\u001b[1;31mAttributeError\u001b[0m: 'str' object has no attribute 'len'"
     ]
    }
   ],
   "source": [
    "x.len(\"o\")"
   ]
  },
  {
   "cell_type": "code",
   "execution_count": 43,
   "id": "46b782fd",
   "metadata": {},
   "outputs": [
    {
     "data": {
      "text/plain": [
       "53"
      ]
     },
     "execution_count": 43,
     "metadata": {},
     "output_type": "execute_result"
    }
   ],
   "source": [
    "len(\"nbjhcbjhscjbjshbcjhbbbbbbb b b b blbdbbb b bbc cjhbjh\")"
   ]
  },
  {
   "cell_type": "code",
   "execution_count": null,
   "id": "7bc300c1",
   "metadata": {},
   "outputs": [],
   "source": []
  }
 ],
 "metadata": {
  "kernelspec": {
   "display_name": "Python 3 (ipykernel)",
   "language": "python",
   "name": "python3"
  },
  "language_info": {
   "codemirror_mode": {
    "name": "ipython",
    "version": 3
   },
   "file_extension": ".py",
   "mimetype": "text/x-python",
   "name": "python",
   "nbconvert_exporter": "python",
   "pygments_lexer": "ipython3",
   "version": "3.10.9"
  }
 },
 "nbformat": 4,
 "nbformat_minor": 5
}
