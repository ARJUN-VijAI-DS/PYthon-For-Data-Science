{
 "cells": [
  {
   "cell_type": "code",
   "execution_count": 1,
   "id": "a550c88c",
   "metadata": {},
   "outputs": [
    {
     "data": {
      "text/plain": [
       "True"
      ]
     },
     "execution_count": 1,
     "metadata": {},
     "output_type": "execute_result"
    }
   ],
   "source": [
    "X = \"I am Data scientist\"\n",
    "X.endswith('ist')"
   ]
  },
  {
   "cell_type": "code",
   "execution_count": 4,
   "id": "ea2e6d76",
   "metadata": {},
   "outputs": [
    {
     "name": "stdout",
     "output_type": "stream",
     "text": [
      "True\n"
     ]
    }
   ],
   "source": [
    "X = \"I am Data scientist\"\n",
    "print(X.endswith('ist'))"
   ]
  },
  {
   "cell_type": "code",
   "execution_count": 5,
   "id": "ac156c2a",
   "metadata": {},
   "outputs": [
    {
     "name": "stdout",
     "output_type": "stream",
     "text": [
      "False\n"
     ]
    }
   ],
   "source": [
    "X = \"I am Data scientist\"\n",
    "print(X.endswith('PYthon'))"
   ]
  },
  {
   "cell_type": "code",
   "execution_count": 6,
   "id": "c3c9fe20",
   "metadata": {},
   "outputs": [
    {
     "name": "stdout",
     "output_type": "stream",
     "text": [
      "True\n"
     ]
    }
   ],
   "source": [
    "Z = \"hello everyone\"\n",
    "print(Z.endswith(\"one\"))"
   ]
  },
  {
   "cell_type": "code",
   "execution_count": 7,
   "id": "e0b4e995",
   "metadata": {},
   "outputs": [
    {
     "name": "stdout",
     "output_type": "stream",
     "text": [
      "False\n"
     ]
    }
   ],
   "source": [
    "Z = \"hello everyone\"\n",
    "print(Z.endswith(\"data\"))"
   ]
  },
  {
   "cell_type": "markdown",
   "id": "6529de8e",
   "metadata": {},
   "source": [
    "#  The .endswith() method is used for string (DATA type)."
   ]
  },
  {
   "cell_type": "code",
   "execution_count": 9,
   "id": "df9d01f9",
   "metadata": {},
   "outputs": [
    {
     "ename": "AttributeError",
     "evalue": "'int' object has no attribute 'endswith'",
     "output_type": "error",
     "traceback": [
      "\u001b[1;31m---------------------------------------------------------------------------\u001b[0m",
      "\u001b[1;31mAttributeError\u001b[0m                            Traceback (most recent call last)",
      "Cell \u001b[1;32mIn[9], line 2\u001b[0m\n\u001b[0;32m      1\u001b[0m z \u001b[38;5;241m=\u001b[39m \u001b[38;5;241m123456\u001b[39m    \u001b[38;5;66;03m# The .endswith() method is a string method.\u001b[39;00m\n\u001b[1;32m----> 2\u001b[0m \u001b[43mz\u001b[49m\u001b[38;5;241;43m.\u001b[39;49m\u001b[43mendswith\u001b[49m(\u001b[38;5;241m6\u001b[39m)\n",
      "\u001b[1;31mAttributeError\u001b[0m: 'int' object has no attribute 'endswith'"
     ]
    }
   ],
   "source": [
    "z = 123456                    # The .endswith() method is a string method.\n",
    "z.endswith(6)"
   ]
  },
  {
   "cell_type": "code",
   "execution_count": 10,
   "id": "b60062a4",
   "metadata": {},
   "outputs": [
    {
     "ename": "AttributeError",
     "evalue": "'complex' object has no attribute 'endswith'",
     "output_type": "error",
     "traceback": [
      "\u001b[1;31m---------------------------------------------------------------------------\u001b[0m",
      "\u001b[1;31mAttributeError\u001b[0m                            Traceback (most recent call last)",
      "Cell \u001b[1;32mIn[10], line 2\u001b[0m\n\u001b[0;32m      1\u001b[0m k \u001b[38;5;241m=\u001b[39m \u001b[38;5;241m10\u001b[39m \u001b[38;5;241m+\u001b[39m \u001b[38;5;241m20\u001b[39mj\n\u001b[1;32m----> 2\u001b[0m \u001b[43mk\u001b[49m\u001b[38;5;241;43m.\u001b[39;49m\u001b[43mendswith\u001b[49m(\u001b[38;5;241m20\u001b[39mj)\n",
      "\u001b[1;31mAttributeError\u001b[0m: 'complex' object has no attribute 'endswith'"
     ]
    }
   ],
   "source": [
    "k = 10 + 20j                  # The .endswith() method is a string method.\n",
    "k.endswith(20j)"
   ]
  },
  {
   "cell_type": "code",
   "execution_count": 11,
   "id": "2002d12d",
   "metadata": {},
   "outputs": [
    {
     "ename": "AttributeError",
     "evalue": "'bool' object has no attribute 'endswith'",
     "output_type": "error",
     "traceback": [
      "\u001b[1;31m---------------------------------------------------------------------------\u001b[0m",
      "\u001b[1;31mAttributeError\u001b[0m                            Traceback (most recent call last)",
      "Cell \u001b[1;32mIn[11], line 2\u001b[0m\n\u001b[0;32m      1\u001b[0m m \u001b[38;5;241m=\u001b[39m \u001b[38;5;28;01mTrue\u001b[39;00m\n\u001b[1;32m----> 2\u001b[0m \u001b[43mm\u001b[49m\u001b[38;5;241;43m.\u001b[39;49m\u001b[43mendswith\u001b[49m(e)\n",
      "\u001b[1;31mAttributeError\u001b[0m: 'bool' object has no attribute 'endswith'"
     ]
    }
   ],
   "source": [
    "m = True                      # The .endswith() method is a string method.\n",
    "m.endswith(e)"
   ]
  },
  {
   "cell_type": "code",
   "execution_count": 12,
   "id": "557e44ac",
   "metadata": {},
   "outputs": [
    {
     "ename": "AttributeError",
     "evalue": "'float' object has no attribute 'endswith'",
     "output_type": "error",
     "traceback": [
      "\u001b[1;31m---------------------------------------------------------------------------\u001b[0m",
      "\u001b[1;31mAttributeError\u001b[0m                            Traceback (most recent call last)",
      "Cell \u001b[1;32mIn[12], line 2\u001b[0m\n\u001b[0;32m      1\u001b[0m q \u001b[38;5;241m=\u001b[39m \u001b[38;5;241m1234.56\u001b[39m\n\u001b[1;32m----> 2\u001b[0m \u001b[43mq\u001b[49m\u001b[38;5;241;43m.\u001b[39;49m\u001b[43mendswith\u001b[49m(\u001b[38;5;241m.56\u001b[39m)\n",
      "\u001b[1;31mAttributeError\u001b[0m: 'float' object has no attribute 'endswith'"
     ]
    }
   ],
   "source": [
    "q = 1234.56                   # The .endswith() method is a string method.\n",
    "q.endswith(.56)"
   ]
  },
  {
   "cell_type": "markdown",
   "id": "3769857c",
   "metadata": {},
   "source": [
    "# .split()  -- split method is used for string Data type."
   ]
  },
  {
   "cell_type": "code",
   "execution_count": 13,
   "id": "fd291a42",
   "metadata": {},
   "outputs": [
    {
     "ename": "SyntaxError",
     "evalue": "invalid syntax (90419976.py, line 2)",
     "output_type": "error",
     "traceback": [
      "\u001b[1;36m  Cell \u001b[1;32mIn[13], line 2\u001b[1;36m\u001b[0m\n\u001b[1;33m    p.split(.)\u001b[0m\n\u001b[1;37m            ^\u001b[0m\n\u001b[1;31mSyntaxError\u001b[0m\u001b[1;31m:\u001b[0m invalid syntax\n"
     ]
    }
   ],
   "source": [
    "p = 10.36\n",
    "p.split(.)"
   ]
  },
  {
   "cell_type": "code",
   "execution_count": 14,
   "id": "a9021af4",
   "metadata": {},
   "outputs": [
    {
     "ename": "AttributeError",
     "evalue": "'float' object has no attribute 'split'",
     "output_type": "error",
     "traceback": [
      "\u001b[1;31m---------------------------------------------------------------------------\u001b[0m",
      "\u001b[1;31mAttributeError\u001b[0m                            Traceback (most recent call last)",
      "Cell \u001b[1;32mIn[14], line 2\u001b[0m\n\u001b[0;32m      1\u001b[0m p \u001b[38;5;241m=\u001b[39m \u001b[38;5;241m10.36\u001b[39m\n\u001b[1;32m----> 2\u001b[0m \u001b[43mp\u001b[49m\u001b[38;5;241;43m.\u001b[39;49m\u001b[43msplit\u001b[49m(\u001b[38;5;241m3\u001b[39m)\n",
      "\u001b[1;31mAttributeError\u001b[0m: 'float' object has no attribute 'split'"
     ]
    }
   ],
   "source": [
    "p = 10.36\n",
    "p.split(3)"
   ]
  },
  {
   "cell_type": "code",
   "execution_count": 15,
   "id": "74420928",
   "metadata": {},
   "outputs": [
    {
     "name": "stdout",
     "output_type": "stream",
     "text": [
      "['I', 'am', 'data', 'scientist']\n"
     ]
    }
   ],
   "source": [
    "x = \"I am data scientist\"\n",
    "print(x.split(\" \"))"
   ]
  },
  {
   "cell_type": "code",
   "execution_count": 16,
   "id": "d051322f",
   "metadata": {},
   "outputs": [
    {
     "name": "stdout",
     "output_type": "stream",
     "text": [
      "['I am data sci', 'ntist']\n"
     ]
    }
   ],
   "source": [
    "x = \"I am data scientist\"\n",
    "print(x.split(\"e\"))"
   ]
  },
  {
   "cell_type": "markdown",
   "id": "967ce954",
   "metadata": {},
   "source": [
    "# Important error"
   ]
  },
  {
   "cell_type": "code",
   "execution_count": 17,
   "id": "096ed74e",
   "metadata": {},
   "outputs": [
    {
     "ename": "ValueError",
     "evalue": "empty separator",
     "output_type": "error",
     "traceback": [
      "\u001b[1;31m---------------------------------------------------------------------------\u001b[0m",
      "\u001b[1;31mValueError\u001b[0m                                Traceback (most recent call last)",
      "Cell \u001b[1;32mIn[17], line 2\u001b[0m\n\u001b[0;32m      1\u001b[0m x \u001b[38;5;241m=\u001b[39m \u001b[38;5;124m\"\u001b[39m\u001b[38;5;124mI am data scientist\u001b[39m\u001b[38;5;124m\"\u001b[39m\n\u001b[1;32m----> 2\u001b[0m \u001b[38;5;28mprint\u001b[39m(\u001b[43mx\u001b[49m\u001b[38;5;241;43m.\u001b[39;49m\u001b[43msplit\u001b[49m\u001b[43m(\u001b[49m\u001b[38;5;124;43m\"\u001b[39;49m\u001b[38;5;124;43m\"\u001b[39;49m\u001b[43m)\u001b[49m)\n",
      "\u001b[1;31mValueError\u001b[0m: empty separator"
     ]
    }
   ],
   "source": [
    "x = \"I am data scientist\"         # Value Error\n",
    "print(x.split(\"\"))"
   ]
  },
  {
   "cell_type": "code",
   "execution_count": 18,
   "id": "106a20d3",
   "metadata": {},
   "outputs": [
    {
     "name": "stdout",
     "output_type": "stream",
     "text": [
      "['I ', 'm d', 't', ' scientist']\n"
     ]
    }
   ],
   "source": [
    "x = \"I am data scientist\"   # 'a' is EXCLUDED from the statement \"String DATA type\"\n",
    "print(x.split(\"a\"))"
   ]
  },
  {
   "cell_type": "markdown",
   "id": "f76f38e8",
   "metadata": {},
   "source": [
    "# Important Examples"
   ]
  },
  {
   "cell_type": "code",
   "execution_count": 19,
   "id": "d8c3d7f2",
   "metadata": {},
   "outputs": [
    {
     "name": "stdout",
     "output_type": "stream",
     "text": [
      "['I', 'am', 'data', 'scientist']\n"
     ]
    }
   ],
   "source": [
    "x = \"I am data scientist\"    # no argument is given, still string is separated BY SPACE CHARACTER.\n",
    "print(x.split())"
   ]
  },
  {
   "cell_type": "markdown",
   "id": "264e8e04",
   "metadata": {},
   "source": [
    "# IF no argument is given. BY DEFAULT SEPARATE WITH SPACE STRING."
   ]
  },
  {
   "cell_type": "code",
   "execution_count": 21,
   "id": "eff749fc",
   "metadata": {},
   "outputs": [
    {
     "name": "stdout",
     "output_type": "stream",
     "text": [
      "['Iamdatascientist']\n"
     ]
    }
   ],
   "source": [
    "z = \"Iamdatascientist\"    # no argument is given. BY DEFAULT SEPARATE WITH SPACE STRING.\n",
    "print(z.split())"
   ]
  },
  {
   "cell_type": "code",
   "execution_count": 23,
   "id": "5bc454fe",
   "metadata": {},
   "outputs": [
    {
     "name": "stdout",
     "output_type": "stream",
     "text": [
      "['Iamdatasc', 'ent', 'st']\n"
     ]
    }
   ],
   "source": [
    "w = \"Iamdatascientist\"    # Argument is given, \"i\" is excluded\n",
    "print(z.split(\"i\"))"
   ]
  },
  {
   "cell_type": "code",
   "execution_count": 24,
   "id": "ba01a544",
   "metadata": {},
   "outputs": [
    {
     "data": {
      "text/plain": [
       "['Say hello to the world 5', ' times']"
      ]
     },
     "execution_count": 24,
     "metadata": {},
     "output_type": "execute_result"
    }
   ],
   "source": [
    "cc = \"Say hello to the world 50 times\"\n",
    "cc.split(\"0\")"
   ]
  },
  {
   "cell_type": "code",
   "execution_count": 25,
   "id": "166c6ff6",
   "metadata": {},
   "outputs": [
    {
     "data": {
      "text/plain": [
       "['He', '', 'o wor', 'd']"
      ]
     },
     "execution_count": 25,
     "metadata": {},
     "output_type": "execute_result"
    }
   ],
   "source": [
    "ee = \"Hello world\"      # Example 25,26 and 27 is very IMPORTANT\n",
    "ee.split(\"l\")"
   ]
  },
  {
   "cell_type": "code",
   "execution_count": 26,
   "id": "e4b6c0a9",
   "metadata": {},
   "outputs": [
    {
     "data": {
      "text/plain": [
       "['He', 'o wor', 'd']"
      ]
     },
     "execution_count": 26,
     "metadata": {},
     "output_type": "execute_result"
    }
   ],
   "source": [
    "rr = \"Helo world\"      # Example 25,26 and 27 is very IMPORTANT \n",
    "rr.split(\"l\")"
   ]
  },
  {
   "cell_type": "code",
   "execution_count": 27,
   "id": "0a440e0b",
   "metadata": {},
   "outputs": [
    {
     "data": {
      "text/plain": [
       "['He', 'o world']"
      ]
     },
     "execution_count": 27,
     "metadata": {},
     "output_type": "execute_result"
    }
   ],
   "source": [
    "t = \"Hello world\"      # Example 25,26 and 27 is very IMPORTANT\n",
    "t.split(\"ll\")"
   ]
  },
  {
   "cell_type": "markdown",
   "id": "d2fec3df",
   "metadata": {},
   "source": [
    "#  .find()"
   ]
  },
  {
   "cell_type": "code",
   "execution_count": null,
   "id": "771faa16",
   "metadata": {},
   "outputs": [],
   "source": []
  }
 ],
 "metadata": {
  "kernelspec": {
   "display_name": "Python 3 (ipykernel)",
   "language": "python",
   "name": "python3"
  },
  "language_info": {
   "codemirror_mode": {
    "name": "ipython",
    "version": 3
   },
   "file_extension": ".py",
   "mimetype": "text/x-python",
   "name": "python",
   "nbconvert_exporter": "python",
   "pygments_lexer": "ipython3",
   "version": "3.10.9"
  }
 },
 "nbformat": 4,
 "nbformat_minor": 5
}
