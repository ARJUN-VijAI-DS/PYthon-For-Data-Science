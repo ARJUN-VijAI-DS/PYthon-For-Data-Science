{
 "cells": [
  {
   "cell_type": "markdown",
   "id": "8d86d38b",
   "metadata": {},
   "source": [
    "# Revision"
   ]
  },
  {
   "cell_type": "code",
   "execution_count": 2,
   "id": "509c2028",
   "metadata": {},
   "outputs": [
    {
     "name": "stdout",
     "output_type": "stream",
     "text": [
      ".endswith()\n"
     ]
    }
   ],
   "source": [
    "z = \"hello\"\n",
    "print(\".endswith()\")"
   ]
  },
  {
   "cell_type": "code",
   "execution_count": 3,
   "id": "34aa16a1",
   "metadata": {},
   "outputs": [
    {
     "name": "stdout",
     "output_type": "stream",
     "text": [
      "z.endswith()\n"
     ]
    }
   ],
   "source": [
    "z = \"hello\"\n",
    "print(\"z.endswith()\")"
   ]
  },
  {
   "cell_type": "code",
   "execution_count": 1,
   "id": "d0e0781b",
   "metadata": {},
   "outputs": [
    {
     "name": "stdout",
     "output_type": "stream",
     "text": [
      "HELL\n"
     ]
    }
   ],
   "source": [
    "x = 'HELLOO'            # Important example\n",
    "print(\"HELLOO\" [0:4])"
   ]
  },
  {
   "cell_type": "markdown",
   "id": "22ce1960",
   "metadata": {},
   "source": [
    "# IMPORTANT ERROR"
   ]
  },
  {
   "cell_type": "code",
   "execution_count": 4,
   "id": "6fdcb3c2",
   "metadata": {
    "scrolled": true
   },
   "outputs": [
    {
     "ename": "TypeError",
     "evalue": "endswith() takes at least 1 argument (0 given)",
     "output_type": "error",
     "traceback": [
      "\u001b[1;31m---------------------------------------------------------------------------\u001b[0m",
      "\u001b[1;31mTypeError\u001b[0m                                 Traceback (most recent call last)",
      "Cell \u001b[1;32mIn[4], line 2\u001b[0m\n\u001b[0;32m      1\u001b[0m z \u001b[38;5;241m=\u001b[39m \u001b[38;5;124m\"\u001b[39m\u001b[38;5;124mhello\u001b[39m\u001b[38;5;124m\"\u001b[39m\n\u001b[1;32m----> 2\u001b[0m \u001b[38;5;28mprint\u001b[39m(\u001b[43mz\u001b[49m\u001b[38;5;241;43m.\u001b[39;49m\u001b[43mendswith\u001b[49m\u001b[43m(\u001b[49m\u001b[43m)\u001b[49m)\n",
      "\u001b[1;31mTypeError\u001b[0m: endswith() takes at least 1 argument (0 given)"
     ]
    }
   ],
   "source": [
    "z = \"hello\"                          # IMPORTANT ERROR\n",
    "print(z.endswith())"
   ]
  },
  {
   "cell_type": "code",
   "execution_count": 6,
   "id": "4c125586",
   "metadata": {},
   "outputs": [
    {
     "name": "stdout",
     "output_type": "stream",
     "text": [
      "I am data scientist \n",
      " I am learning\n"
     ]
    }
   ],
   "source": [
    "print(\"I am data scientist \\n I am learning\")"
   ]
  },
  {
   "cell_type": "code",
   "execution_count": 7,
   "id": "66276f93",
   "metadata": {},
   "outputs": [
    {
     "data": {
      "text/plain": [
       "'I am data scientist \\n I am learning'"
      ]
     },
     "execution_count": 7,
     "metadata": {},
     "output_type": "execute_result"
    }
   ],
   "source": [
    "x = (\"I am data scientist \\n I am learning\")\n",
    "x"
   ]
  },
  {
   "cell_type": "code",
   "execution_count": 16,
   "id": "83fd3b7f",
   "metadata": {},
   "outputs": [
    {
     "data": {
      "text/plain": [
       "str"
      ]
     },
     "execution_count": 16,
     "metadata": {},
     "output_type": "execute_result"
    }
   ],
   "source": [
    "a = \"I am\" \n",
    "type(a)"
   ]
  },
  {
   "cell_type": "code",
   "execution_count": 17,
   "id": "50c5b5b8",
   "metadata": {},
   "outputs": [
    {
     "ename": "SyntaxError",
     "evalue": "invalid syntax (3903958252.py, line 1)",
     "output_type": "error",
     "traceback": [
      "\u001b[1;36m  Cell \u001b[1;32mIn[17], line 1\u001b[1;36m\u001b[0m\n\u001b[1;33m    a = #  \"I am\"\u001b[0m\n\u001b[1;37m        ^\u001b[0m\n\u001b[1;31mSyntaxError\u001b[0m\u001b[1;31m:\u001b[0m invalid syntax\n"
     ]
    }
   ],
   "source": [
    "a = #  \"I am\"   -- #\"  is punctuator \n",
    "print(a)"
   ]
  },
  {
   "cell_type": "code",
   "execution_count": 11,
   "id": "da84ef32",
   "metadata": {},
   "outputs": [
    {
     "name": "stdout",
     "output_type": "stream",
     "text": [
      " A \n",
      " B \n"
     ]
    }
   ],
   "source": [
    "z = \" A \\n B \"\n",
    "print(z)"
   ]
  },
  {
   "cell_type": "code",
   "execution_count": 10,
   "id": "f6d293e4",
   "metadata": {},
   "outputs": [
    {
     "ename": "SyntaxError",
     "evalue": "unexpected character after line continuation character (316829911.py, line 1)",
     "output_type": "error",
     "traceback": [
      "\u001b[1;36m  Cell \u001b[1;32mIn[10], line 1\u001b[1;36m\u001b[0m\n\u001b[1;33m    t = \\n\u001b[0m\n\u001b[1;37m         ^\u001b[0m\n\u001b[1;31mSyntaxError\u001b[0m\u001b[1;31m:\u001b[0m unexpected character after line continuation character\n"
     ]
    }
   ],
   "source": [
    "t = \\n\n",
    "print(t)"
   ]
  },
  {
   "cell_type": "code",
   "execution_count": 14,
   "id": "7298710c",
   "metadata": {},
   "outputs": [],
   "source": [
    "# ggfhdfkjfj"
   ]
  },
  {
   "cell_type": "markdown",
   "id": "2648ffa0",
   "metadata": {},
   "source": [
    "# Operators\n",
    "\n",
    "## 1. ARithmetic Operators\n",
    "## 2. Comparison Operators\n",
    "## 3. Assignment Operators\n",
    "## 4. Logical Operators\n",
    "## 5. Bitwise Operators\n",
    "## 6. Membership Operators\n",
    "## 7. Identity Operators"
   ]
  },
  {
   "cell_type": "code",
   "execution_count": 18,
   "id": "22ac910d",
   "metadata": {},
   "outputs": [
    {
     "data": {
      "text/plain": [
       "19"
      ]
     },
     "execution_count": 18,
     "metadata": {},
     "output_type": "execute_result"
    }
   ],
   "source": [
    "# Arithmetic Operators   +   -   *  /    //   **   %\n",
    "\n",
    "\n",
    "9 + 10"
   ]
  },
  {
   "cell_type": "code",
   "execution_count": null,
   "id": "d8df047e",
   "metadata": {},
   "outputs": [],
   "source": []
  },
  {
   "cell_type": "code",
   "execution_count": null,
   "id": "3a9f7ce3",
   "metadata": {},
   "outputs": [],
   "source": []
  },
  {
   "cell_type": "code",
   "execution_count": null,
   "id": "1fee3859",
   "metadata": {},
   "outputs": [],
   "source": []
  },
  {
   "cell_type": "markdown",
   "id": "be14ad9d",
   "metadata": {},
   "source": [
    "# example practices"
   ]
  },
  {
   "cell_type": "code",
   "execution_count": 2,
   "id": "c13e8b8a",
   "metadata": {},
   "outputs": [
    {
     "ename": "SyntaxError",
     "evalue": "invalid syntax (1317521300.py, line 1)",
     "output_type": "error",
     "traceback": [
      "\u001b[1;36m  Cell \u001b[1;32mIn[2], line 1\u001b[1;36m\u001b[0m\n\u001b[1;33m    x = x+= 2\u001b[0m\n\u001b[1;37m         ^\u001b[0m\n\u001b[1;31mSyntaxError\u001b[0m\u001b[1;31m:\u001b[0m invalid syntax\n"
     ]
    }
   ],
   "source": [
    "x = x+= 2\n"
   ]
  },
  {
   "cell_type": "code",
   "execution_count": 3,
   "id": "efd3b41d",
   "metadata": {},
   "outputs": [
    {
     "data": {
      "text/plain": [
       "8"
      ]
     },
     "execution_count": 3,
     "metadata": {},
     "output_type": "execute_result"
    }
   ],
   "source": [
    "x = 10\n",
    "x-= 2\n",
    "x"
   ]
  },
  {
   "cell_type": "code",
   "execution_count": 4,
   "id": "d6e46050",
   "metadata": {},
   "outputs": [
    {
     "data": {
      "text/plain": [
       "False"
      ]
     },
     "execution_count": 4,
     "metadata": {},
     "output_type": "execute_result"
    }
   ],
   "source": [
    "a = {1,2,3,4}\n",
    "b = {5}\n",
    "a in b"
   ]
  },
  {
   "cell_type": "code",
   "execution_count": 5,
   "id": "feddb232",
   "metadata": {},
   "outputs": [
    {
     "data": {
      "text/plain": [
       "False"
      ]
     },
     "execution_count": 5,
     "metadata": {},
     "output_type": "execute_result"
    }
   ],
   "source": [
    "aa = [1,2,3,4]\n",
    "bb = [77]\n",
    "bb in aa"
   ]
  },
  {
   "cell_type": "code",
   "execution_count": 6,
   "id": "0694da66",
   "metadata": {},
   "outputs": [
    {
     "data": {
      "text/plain": [
       "True"
      ]
     },
     "execution_count": 6,
     "metadata": {},
     "output_type": "execute_result"
    }
   ],
   "source": [
    "cc = {1,2,3,4}\n",
    "dd = 1\n",
    "dd in cc"
   ]
  },
  {
   "cell_type": "code",
   "execution_count": null,
   "id": "2fe1e692",
   "metadata": {},
   "outputs": [],
   "source": []
  },
  {
   "cell_type": "code",
   "execution_count": null,
   "id": "19baaf40",
   "metadata": {},
   "outputs": [],
   "source": []
  },
  {
   "cell_type": "code",
   "execution_count": null,
   "id": "151864ce",
   "metadata": {},
   "outputs": [],
   "source": []
  },
  {
   "cell_type": "code",
   "execution_count": null,
   "id": "b564c91f",
   "metadata": {},
   "outputs": [],
   "source": []
  },
  {
   "cell_type": "code",
   "execution_count": null,
   "id": "755d64b9",
   "metadata": {},
   "outputs": [],
   "source": []
  },
  {
   "cell_type": "code",
   "execution_count": 20,
   "id": "926b8424",
   "metadata": {},
   "outputs": [
    {
     "name": "stdout",
     "output_type": "stream",
     "text": [
      "False\n"
     ]
    }
   ],
   "source": [
    "# Comparison Operators   \"==\"    '!='    >    <   <=     >= \n",
    "\n",
    "x = 7\n",
    "y = 10\n",
    "\n",
    "print(x==y)"
   ]
  },
  {
   "cell_type": "code",
   "execution_count": 21,
   "id": "42e88098",
   "metadata": {},
   "outputs": [
    {
     "name": "stdout",
     "output_type": "stream",
     "text": [
      "True\n"
     ]
    }
   ],
   "source": [
    "# Comparison Operators   ==    !=    >    <   <=     >= \n",
    "\n",
    "x = 7\n",
    "y = 10\n",
    "\n",
    "print(x!=y)"
   ]
  },
  {
   "cell_type": "code",
   "execution_count": 22,
   "id": "aa11e74a",
   "metadata": {},
   "outputs": [
    {
     "name": "stdout",
     "output_type": "stream",
     "text": [
      "False\n"
     ]
    }
   ],
   "source": [
    "# Comparison Operators   ==    !=    >    <   <=     >= \n",
    "\n",
    "x = 7\n",
    "y = 10\n",
    "\n",
    "print(x>=y)"
   ]
  },
  {
   "cell_type": "code",
   "execution_count": 24,
   "id": "6f518e71",
   "metadata": {},
   "outputs": [
    {
     "name": "stdout",
     "output_type": "stream",
     "text": [
      "True\n"
     ]
    }
   ],
   "source": [
    "# Comparison Operators   ==    !=    >    <   <=     >= \n",
    "\n",
    "x = 7\n",
    "y = 10\n",
    "\n",
    "print(x<=y)"
   ]
  },
  {
   "cell_type": "code",
   "execution_count": 25,
   "id": "e3999096",
   "metadata": {},
   "outputs": [
    {
     "name": "stdout",
     "output_type": "stream",
     "text": [
      "True\n"
     ]
    }
   ],
   "source": [
    "# Comparison Operators   ==    !=    >    <   <=     >= \n",
    "\n",
    "x = 7\n",
    "y = 10\n",
    "\n",
    "print(x<y)"
   ]
  },
  {
   "cell_type": "code",
   "execution_count": 26,
   "id": "988574f7",
   "metadata": {},
   "outputs": [
    {
     "name": "stdout",
     "output_type": "stream",
     "text": [
      "False\n"
     ]
    }
   ],
   "source": [
    "# Comparison Operators   ==    !=    >    <   <=     >= \n",
    "\n",
    "x = 7\n",
    "y = 10\n",
    "\n",
    "print(x>y)"
   ]
  },
  {
   "cell_type": "code",
   "execution_count": 27,
   "id": "e85555ad",
   "metadata": {},
   "outputs": [
    {
     "ename": "SyntaxError",
     "evalue": "invalid syntax (2993175821.py, line 6)",
     "output_type": "error",
     "traceback": [
      "\u001b[1;36m  Cell \u001b[1;32mIn[27], line 6\u001b[1;36m\u001b[0m\n\u001b[1;33m    print(x=>y)\u001b[0m\n\u001b[1;37m            ^\u001b[0m\n\u001b[1;31mSyntaxError\u001b[0m\u001b[1;31m:\u001b[0m invalid syntax\n"
     ]
    }
   ],
   "source": [
    "# Comparison Operators   ==    !=    >    <   <=     >= \n",
    "\n",
    "x = 7\n",
    "y = 10\n",
    "\n",
    "print(x=>y)"
   ]
  },
  {
   "cell_type": "code",
   "execution_count": 28,
   "id": "a79b6ab5",
   "metadata": {},
   "outputs": [
    {
     "ename": "SyntaxError",
     "evalue": "invalid syntax (1746066131.py, line 6)",
     "output_type": "error",
     "traceback": [
      "\u001b[1;36m  Cell \u001b[1;32mIn[28], line 6\u001b[1;36m\u001b[0m\n\u001b[1;33m    print(x=<y)\u001b[0m\n\u001b[1;37m            ^\u001b[0m\n\u001b[1;31mSyntaxError\u001b[0m\u001b[1;31m:\u001b[0m invalid syntax\n"
     ]
    }
   ],
   "source": [
    "# Comparison Operators   ==    !=    >    <   <=     >= \n",
    "\n",
    "x = 7\n",
    "y = 10\n",
    "\n",
    "print(x=<y)"
   ]
  },
  {
   "cell_type": "code",
   "execution_count": 29,
   "id": "5863ec79",
   "metadata": {},
   "outputs": [
    {
     "ename": "SyntaxError",
     "evalue": "invalid syntax (3212258563.py, line 6)",
     "output_type": "error",
     "traceback": [
      "\u001b[1;36m  Cell \u001b[1;32mIn[29], line 6\u001b[1;36m\u001b[0m\n\u001b[1;33m    print(x=!y)\u001b[0m\n\u001b[1;37m            ^\u001b[0m\n\u001b[1;31mSyntaxError\u001b[0m\u001b[1;31m:\u001b[0m invalid syntax\n"
     ]
    }
   ],
   "source": [
    "# Comparison Operators   ==    !=    >    <   <=     >= \n",
    "\n",
    "x = 7\n",
    "y = 10\n",
    "\n",
    "print(x=!y)"
   ]
  },
  {
   "cell_type": "code",
   "execution_count": null,
   "id": "ff8eaa3d",
   "metadata": {},
   "outputs": [],
   "source": [
    "#  Logical Operators are ---  and       or       not\n"
   ]
  },
  {
   "cell_type": "markdown",
   "id": "b4114bc5",
   "metadata": {},
   "source": [
    "# Logical operators   --- 'and' operator\n",
    "\n",
    "### True and True        ----  True\n",
    "\n",
    "### True and False       ----  False\n",
    "\n",
    "### False and False      ----  False\n",
    "\n",
    "### False and True       ----  False\n",
    "\n",
    "-  When one condition is true it will print False AND when both are True then it will print TRUE.\n",
    "- True and True is  -- True  --- Else   -- FALSE.\n",
    "\n",
    "# Logical operators   --- 'or' operator\n",
    "\n",
    "### True or True        ----  True\n",
    "\n",
    "### True or False       ----  True\n",
    "\n",
    "### False or True       ----  True\n",
    "\n",
    "### False or False     ----  False\n",
    "\n",
    "-  When one condition is ture it will print True AND when both are false then it will print False.\n",
    "\n",
    "- False and False is -- FALSE  -- Else -- TRUE. \n",
    "\n",
    "# Logical operators   --- 'not' operator\n",
    "\n",
    "###     not     True    --- False\n",
    "###     not     False   --- True\n",
    "\n",
    "\n",
    "\n",
    "\n",
    "\n",
    "\n"
   ]
  },
  {
   "cell_type": "code",
   "execution_count": 30,
   "id": "2bf3f9f5",
   "metadata": {},
   "outputs": [
    {
     "data": {
      "text/plain": [
       "False"
      ]
     },
     "execution_count": 30,
     "metadata": {},
     "output_type": "execute_result"
    }
   ],
   "source": [
    "#  Logical Operators are ---  and       or       not\n",
    "\n",
    "x = 11\n",
    "y = 33\n",
    "\n",
    "x>=y and x<=y\n"
   ]
  },
  {
   "cell_type": "code",
   "execution_count": 33,
   "id": "4fd9ba72",
   "metadata": {},
   "outputs": [
    {
     "data": {
      "text/plain": [
       "False"
      ]
     },
     "execution_count": 33,
     "metadata": {},
     "output_type": "execute_result"
    }
   ],
   "source": [
    "x = 11\n",
    "y = 33\n",
    "\n",
    "x==y and x<=y"
   ]
  },
  {
   "cell_type": "code",
   "execution_count": 34,
   "id": "71cc4d25",
   "metadata": {},
   "outputs": [
    {
     "data": {
      "text/plain": [
       "True"
      ]
     },
     "execution_count": 34,
     "metadata": {},
     "output_type": "execute_result"
    }
   ],
   "source": [
    "x = 11\n",
    "y = 33\n",
    "\n",
    "x<y and x<y"
   ]
  },
  {
   "cell_type": "code",
   "execution_count": 35,
   "id": "4db71f5d",
   "metadata": {},
   "outputs": [
    {
     "ename": "SyntaxError",
     "evalue": "invalid syntax (664989848.py, line 4)",
     "output_type": "error",
     "traceback": [
      "\u001b[1;36m  Cell \u001b[1;32mIn[35], line 4\u001b[1;36m\u001b[0m\n\u001b[1;33m    x<y and x<y not\u001b[0m\n\u001b[1;37m                    ^\u001b[0m\n\u001b[1;31mSyntaxError\u001b[0m\u001b[1;31m:\u001b[0m invalid syntax\n"
     ]
    }
   ],
   "source": [
    "x = 11\n",
    "y = 33\n",
    "\n",
    "x<y and x<y not "
   ]
  },
  {
   "cell_type": "code",
   "execution_count": 1,
   "id": "ee4b7b05",
   "metadata": {},
   "outputs": [
    {
     "data": {
      "text/plain": [
       "False"
      ]
     },
     "execution_count": 1,
     "metadata": {},
     "output_type": "execute_result"
    }
   ],
   "source": [
    "x = 11\n",
    "y = 33\n",
    "\n",
    "not (x<y and x<y) "
   ]
  },
  {
   "cell_type": "code",
   "execution_count": 2,
   "id": "5b1c8d12",
   "metadata": {},
   "outputs": [
    {
     "ename": "IndentationError",
     "evalue": "unexpected indent (2338597643.py, line 4)",
     "output_type": "error",
     "traceback": [
      "\u001b[1;36m  Cell \u001b[1;32mIn[2], line 4\u001b[1;36m\u001b[0m\n\u001b[1;33m    not (x<y and x<y)    ## empty space - error\u001b[0m\n\u001b[1;37m    ^\u001b[0m\n\u001b[1;31mIndentationError\u001b[0m\u001b[1;31m:\u001b[0m unexpected indent\n"
     ]
    }
   ],
   "source": [
    "x = 11\n",
    "y = 33\n",
    "\n",
    " not (x<y and x<y)    ## empty space - error"
   ]
  },
  {
   "cell_type": "code",
   "execution_count": 42,
   "id": "12e1935d",
   "metadata": {},
   "outputs": [
    {
     "data": {
      "text/plain": [
       "False"
      ]
     },
     "execution_count": 42,
     "metadata": {},
     "output_type": "execute_result"
    }
   ],
   "source": [
    "x = 11\n",
    "y = 33\n",
    "\n",
    "not x<y and x<y "
   ]
  },
  {
   "cell_type": "code",
   "execution_count": 43,
   "id": "f17db943",
   "metadata": {},
   "outputs": [
    {
     "ename": "IndentationError",
     "evalue": "unexpected indent (1023836438.py, line 4)",
     "output_type": "error",
     "traceback": [
      "\u001b[1;36m  Cell \u001b[1;32mIn[43], line 4\u001b[1;36m\u001b[0m\n\u001b[1;33m    not (x<y and x<y)\u001b[0m\n\u001b[1;37m    ^\u001b[0m\n\u001b[1;31mIndentationError\u001b[0m\u001b[1;31m:\u001b[0m unexpected indent\n"
     ]
    }
   ],
   "source": [
    "x = 11\n",
    "y = 33\n",
    "\n",
    " not (x<y and x<y)"
   ]
  },
  {
   "cell_type": "code",
   "execution_count": 45,
   "id": "81669bd5",
   "metadata": {},
   "outputs": [
    {
     "data": {
      "text/plain": [
       "True"
      ]
     },
     "execution_count": 45,
     "metadata": {},
     "output_type": "execute_result"
    }
   ],
   "source": [
    "x = 11\n",
    "y = 33\n",
    "\n",
    "x<y and x!=y or x<=y"
   ]
  },
  {
   "cell_type": "markdown",
   "id": "7312ba64",
   "metadata": {},
   "source": [
    "#  --  Take two values as input from the user in variables a and b, swap the values of a and b.   "
   ]
  },
  {
   "cell_type": "code",
   "execution_count": 1,
   "id": "867ff159",
   "metadata": {},
   "outputs": [
    {
     "name": "stdout",
     "output_type": "stream",
     "text": [
      "First variable:  AAAA\n",
      "\n",
      "Second variable: BBBB\n",
      "AAAABBBB BBBBAAAA\n"
     ]
    }
   ],
   "source": [
    "a = input('First variable:  ')\n",
    "b = input('\\nSecond variable: ')\n",
    "x = (a + b)\n",
    "y = (b + a)\n",
    "print(x , y)"
   ]
  },
  {
   "cell_type": "code",
   "execution_count": 1,
   "id": "1590ff93",
   "metadata": {},
   "outputs": [
    {
     "name": "stdout",
     "output_type": "stream",
     "text": [
      "First variable:  24\n",
      "Second variable: \n",
      "25\n",
      "\n",
      " a , b\n"
     ]
    }
   ],
   "source": [
    "a = input('First variable:  ')\n",
    "b = input('Second variable: \\n')\n",
    "print(\"\\n a , b\")\n",
    "a = a.replace(\"a\" , \"b\")"
   ]
  },
  {
   "cell_type": "code",
   "execution_count": 2,
   "id": "f72eb373",
   "metadata": {},
   "outputs": [
    {
     "name": "stdout",
     "output_type": "stream",
     "text": [
      "First variable:  24\n",
      "\n",
      "Second variable: 25\n"
     ]
    }
   ],
   "source": [
    "a = input('First variable:  ')\n",
    "b = input('\\nSecond variable: ')\n",
    "x = a\n",
    "y = b\n",
    "x = x.replace(\"a\" , \"b\")"
   ]
  },
  {
   "cell_type": "code",
   "execution_count": 3,
   "id": "91806b3c",
   "metadata": {},
   "outputs": [
    {
     "name": "stdout",
     "output_type": "stream",
     "text": [
      "First variable:  24\n",
      "\n",
      "Second variable: 25\n"
     ]
    },
    {
     "data": {
      "text/plain": [
       "'24'"
      ]
     },
     "execution_count": 3,
     "metadata": {},
     "output_type": "execute_result"
    }
   ],
   "source": [
    "a = input('First variable:  ')\n",
    "b = input('\\nSecond variable: ')\n",
    "x = a\n",
    "y = b\n",
    "x = x.replace(\"a\" , \"b\")\n",
    "x"
   ]
  },
  {
   "cell_type": "code",
   "execution_count": 4,
   "id": "cb577d6e",
   "metadata": {
    "scrolled": true
   },
   "outputs": [
    {
     "name": "stdout",
     "output_type": "stream",
     "text": [
      "First variable:  24\n",
      "\n",
      "Second variable: 25\n"
     ]
    },
    {
     "ename": "TypeError",
     "evalue": "replace expected at least 2 arguments, got 1",
     "output_type": "error",
     "traceback": [
      "\u001b[1;31m---------------------------------------------------------------------------\u001b[0m",
      "\u001b[1;31mTypeError\u001b[0m                                 Traceback (most recent call last)",
      "Cell \u001b[1;32mIn[4], line 5\u001b[0m\n\u001b[0;32m      3\u001b[0m x \u001b[38;5;241m=\u001b[39m a\n\u001b[0;32m      4\u001b[0m y \u001b[38;5;241m=\u001b[39m b\n\u001b[1;32m----> 5\u001b[0m x \u001b[38;5;241m=\u001b[39m \u001b[43mx\u001b[49m\u001b[38;5;241;43m.\u001b[39;49m\u001b[43mreplace\u001b[49m\u001b[43m(\u001b[49m\u001b[38;5;124;43m\"\u001b[39;49m\u001b[38;5;124;43my\u001b[39;49m\u001b[38;5;124;43m\"\u001b[39;49m\u001b[43m)\u001b[49m\n\u001b[0;32m      6\u001b[0m x\n",
      "\u001b[1;31mTypeError\u001b[0m: replace expected at least 2 arguments, got 1"
     ]
    }
   ],
   "source": [
    "a = input('First variable:  ')\n",
    "b = input('\\nSecond variable: ')\n",
    "x = a\n",
    "y = b\n",
    "x = x.replace(\"y\")\n",
    "x"
   ]
  },
  {
   "cell_type": "code",
   "execution_count": 1,
   "id": "d8edc4a6",
   "metadata": {},
   "outputs": [
    {
     "name": "stdout",
     "output_type": "stream",
     "text": [
      "First variable:  24\n",
      "\n",
      "Second variable: 25\n",
      "2425\n"
     ]
    },
    {
     "ename": "NameError",
     "evalue": "name 'x' is not defined",
     "output_type": "error",
     "traceback": [
      "\u001b[1;31m---------------------------------------------------------------------------\u001b[0m",
      "\u001b[1;31mNameError\u001b[0m                                 Traceback (most recent call last)",
      "Cell \u001b[1;32mIn[1], line 5\u001b[0m\n\u001b[0;32m      2\u001b[0m b \u001b[38;5;241m=\u001b[39m \u001b[38;5;28minput\u001b[39m(\u001b[38;5;124m'\u001b[39m\u001b[38;5;130;01m\\n\u001b[39;00m\u001b[38;5;124mSecond variable: \u001b[39m\u001b[38;5;124m'\u001b[39m)\n\u001b[0;32m      3\u001b[0m \u001b[38;5;28mprint\u001b[39m(a\u001b[38;5;241m+\u001b[39mb)\n\u001b[1;32m----> 5\u001b[0m x \u001b[38;5;241m=\u001b[39m \u001b[43mx\u001b[49m\u001b[38;5;241m.\u001b[39mreplace(\u001b[38;5;124m\"\u001b[39m\u001b[38;5;124ma\u001b[39m\u001b[38;5;124m\"\u001b[39m , \u001b[38;5;124m\"\u001b[39m\u001b[38;5;124mb\u001b[39m\u001b[38;5;124m\"\u001b[39m)\n\u001b[0;32m      6\u001b[0m x\n",
      "\u001b[1;31mNameError\u001b[0m: name 'x' is not defined"
     ]
    }
   ],
   "source": [
    "a = input('First variable:  ')\n",
    "b = input('\\nSecond variable: ')\n",
    "print(a+b)\n",
    "\n",
    "x = x.replace(\"a\" , \"b\")\n",
    "x"
   ]
  },
  {
   "cell_type": "code",
   "execution_count": 2,
   "id": "275a8273",
   "metadata": {},
   "outputs": [
    {
     "name": "stdout",
     "output_type": "stream",
     "text": [
      "First variable:  24\n",
      "\n",
      "Second variable: 25\n",
      "2425\n"
     ]
    },
    {
     "data": {
      "text/plain": [
       "'2425'"
      ]
     },
     "execution_count": 2,
     "metadata": {},
     "output_type": "execute_result"
    }
   ],
   "source": [
    "a = input('First variable:  ')\n",
    "b = input('\\nSecond variable: ')\n",
    "print(a+b)\n",
    "X = a + b\n",
    "\n",
    "X = X.replace(\"a\" , \"b\")\n",
    "X"
   ]
  },
  {
   "cell_type": "code",
   "execution_count": 4,
   "id": "56920143",
   "metadata": {},
   "outputs": [
    {
     "name": "stdout",
     "output_type": "stream",
     "text": [
      "First variable:  24\n",
      "\n",
      "Second variable: 25\n",
      "2425\n",
      "a + b\n"
     ]
    },
    {
     "data": {
      "text/plain": [
       "'b + b'"
      ]
     },
     "execution_count": 4,
     "metadata": {},
     "output_type": "execute_result"
    }
   ],
   "source": [
    "a = input('First variable:  ')\n",
    "b = input('\\nSecond variable: ')\n",
    "print(a+b)\n",
    "X = 'a + b'\n",
    "print(X)\n",
    "X = X.replace(\"a\" , \"b\")\n",
    "X"
   ]
  },
  {
   "cell_type": "code",
   "execution_count": 5,
   "id": "3817aa20",
   "metadata": {},
   "outputs": [
    {
     "name": "stdout",
     "output_type": "stream",
     "text": [
      "First variable:  24\n",
      "\n",
      "Second variable: 25\n",
      "2425\n",
      "2425\n"
     ]
    },
    {
     "data": {
      "text/plain": [
       "'2425'"
      ]
     },
     "execution_count": 5,
     "metadata": {},
     "output_type": "execute_result"
    }
   ],
   "source": [
    "a = input('First variable:  ')\n",
    "b = input('\\nSecond variable: ')\n",
    "print(a+b)\n",
    "X = a + b\n",
    "print(X)\n",
    "X = X.replace(\"a\" , \"b\")\n",
    "X"
   ]
  },
  {
   "cell_type": "code",
   "execution_count": 6,
   "id": "3772cfdb",
   "metadata": {},
   "outputs": [
    {
     "name": "stdout",
     "output_type": "stream",
     "text": [
      "First variable:  24\n",
      "\n",
      "Second variable: 25\n",
      "<class 'int'>\n",
      "<class 'int'>\n"
     ]
    },
    {
     "ename": "TypeError",
     "evalue": "unsupported operand type(s) for -: 'str' and 'str'",
     "output_type": "error",
     "traceback": [
      "\u001b[1;31m---------------------------------------------------------------------------\u001b[0m",
      "\u001b[1;31mTypeError\u001b[0m                                 Traceback (most recent call last)",
      "Cell \u001b[1;32mIn[6], line 9\u001b[0m\n\u001b[0;32m      6\u001b[0m y \u001b[38;5;241m=\u001b[39m \u001b[38;5;28mint\u001b[39m(\u001b[38;5;28mstr\u001b[39m(b))\n\u001b[0;32m      7\u001b[0m \u001b[38;5;28mprint\u001b[39m(\u001b[38;5;28mtype\u001b[39m (y))\n\u001b[1;32m----> 9\u001b[0m \u001b[38;5;28mprint\u001b[39m(\u001b[43ma\u001b[49m\u001b[38;5;241;43m+\u001b[39;49m\u001b[43mb\u001b[49m\u001b[38;5;241;43m-\u001b[39;49m\u001b[43ma\u001b[49m, a\u001b[38;5;241m+\u001b[39mb\u001b[38;5;241m-\u001b[39mb)\n",
      "\u001b[1;31mTypeError\u001b[0m: unsupported operand type(s) for -: 'str' and 'str'"
     ]
    }
   ],
   "source": [
    "a = input('First variable:  ')\n",
    "b = input('\\nSecond variable: ')\n",
    "\n",
    "x = int(str(a))\n",
    "print(type (x))\n",
    "y = int(str(b))\n",
    "print(type (y))\n",
    "\n",
    "print(a+b-a, a+b-b)\n"
   ]
  },
  {
   "cell_type": "code",
   "execution_count": 7,
   "id": "9a81f616",
   "metadata": {},
   "outputs": [
    {
     "name": "stdout",
     "output_type": "stream",
     "text": [
      "First variable:  24\n",
      "\n",
      "Second variable: 25\n",
      "<class 'int'>\n",
      "<class 'int'>\n"
     ]
    },
    {
     "ename": "TypeError",
     "evalue": "unsupported operand type(s) for -: 'str' and 'str'",
     "output_type": "error",
     "traceback": [
      "\u001b[1;31m---------------------------------------------------------------------------\u001b[0m",
      "\u001b[1;31mTypeError\u001b[0m                                 Traceback (most recent call last)",
      "Cell \u001b[1;32mIn[7], line 9\u001b[0m\n\u001b[0;32m      6\u001b[0m y \u001b[38;5;241m=\u001b[39m \u001b[38;5;28mint\u001b[39m(\u001b[38;5;28mstr\u001b[39m(b))\n\u001b[0;32m      7\u001b[0m \u001b[38;5;28mprint\u001b[39m(\u001b[38;5;28mtype\u001b[39m (y))\n\u001b[1;32m----> 9\u001b[0m X \u001b[38;5;241m=\u001b[39m \u001b[43ma\u001b[49m\u001b[38;5;241;43m+\u001b[39;49m\u001b[43mb\u001b[49m\u001b[38;5;241;43m-\u001b[39;49m\u001b[43ma\u001b[49m\n\u001b[0;32m     10\u001b[0m Y \u001b[38;5;241m=\u001b[39m a\u001b[38;5;241m+\u001b[39mb\u001b[38;5;241m-\u001b[39mb\n",
      "\u001b[1;31mTypeError\u001b[0m: unsupported operand type(s) for -: 'str' and 'str'"
     ]
    }
   ],
   "source": [
    "a = input('First variable:  ')\n",
    "b = input('\\nSecond variable: ')\n",
    "\n",
    "x = int(str(a))\n",
    "print(type (x))\n",
    "y = int(str(b))\n",
    "print(type (y))\n",
    "\n",
    "X = a+b-a\n",
    "Y = a+b-b\n"
   ]
  },
  {
   "cell_type": "code",
   "execution_count": 8,
   "id": "7860f72a",
   "metadata": {},
   "outputs": [
    {
     "name": "stdout",
     "output_type": "stream",
     "text": [
      "First variable:  24\n",
      "\n",
      "Second variable: 25\n",
      "<class 'int'>\n",
      "<class 'int'>\n",
      "25 24\n"
     ]
    }
   ],
   "source": [
    "a = input('First variable:  ')\n",
    "b = input('\\nSecond variable: ')\n",
    "\n",
    "x = int(str(a))\n",
    "print(type (x))\n",
    "y = int(str(b))\n",
    "print(type (y))\n",
    "\n",
    "X = x+y-x\n",
    "Y = x+y-y\n",
    "print(X , Y)\n"
   ]
  },
  {
   "cell_type": "code",
   "execution_count": 10,
   "id": "0abd723f",
   "metadata": {},
   "outputs": [
    {
     "ename": "SyntaxError",
     "evalue": "invalid syntax (1895113046.py, line 7)",
     "output_type": "error",
     "traceback": [
      "\u001b[1;36m  Cell \u001b[1;32mIn[10], line 7\u001b[1;36m\u001b[0m\n\u001b[1;33m    x = .replace(\"a\" , \"b\")\u001b[0m\n\u001b[1;37m        ^\u001b[0m\n\u001b[1;31mSyntaxError\u001b[0m\u001b[1;31m:\u001b[0m invalid syntax\n"
     ]
    }
   ],
   "source": [
    "a = input('First variable:  ')\n",
    "b = input('\\nSecond variable: ')\n",
    "\n",
    "x = a\n",
    "y = b\n",
    "\n",
    "x = .replace(\"a\" , \"b\")\n"
   ]
  },
  {
   "cell_type": "code",
   "execution_count": 13,
   "id": "685d23e6",
   "metadata": {},
   "outputs": [
    {
     "name": "stdout",
     "output_type": "stream",
     "text": [
      "First variable:  H \n",
      "\n",
      "Second variable: N\n"
     ]
    },
    {
     "data": {
      "text/plain": [
       "'N'"
      ]
     },
     "execution_count": 13,
     "metadata": {},
     "output_type": "execute_result"
    }
   ],
   "source": [
    "a = input('First variable:  ')\n",
    "b = input('\\nSecond variable: ')\n",
    "\n",
    "x = a\n",
    "y = b\n",
    "\n",
    "x = x.replace(\"a\" , \"b\")\n",
    "x\n",
    "y"
   ]
  },
  {
   "cell_type": "code",
   "execution_count": 14,
   "id": "90e7b60b",
   "metadata": {},
   "outputs": [
    {
     "name": "stdout",
     "output_type": "stream",
     "text": [
      "First variable:  HHHH\n",
      "\n",
      "Second variable: NNNN\n",
      "HHHHNNNN NNNNHHHH\n"
     ]
    }
   ],
   "source": [
    "a = input('First variable:  ')\n",
    "b = input('\\nSecond variable: ')\n",
    "\n",
    "x = a + b\n",
    "y = b + a\n",
    "\n",
    "print(x , y)\n"
   ]
  },
  {
   "cell_type": "code",
   "execution_count": 15,
   "id": "5255d6a7",
   "metadata": {},
   "outputs": [
    {
     "name": "stdout",
     "output_type": "stream",
     "text": [
      "First variable:  HHHH\n",
      "\n",
      "Second variable: NNNN\n"
     ]
    },
    {
     "ename": "TypeError",
     "evalue": "unsupported operand type(s) for -: 'str' and 'str'",
     "output_type": "error",
     "traceback": [
      "\u001b[1;31m---------------------------------------------------------------------------\u001b[0m",
      "\u001b[1;31mTypeError\u001b[0m                                 Traceback (most recent call last)",
      "Cell \u001b[1;32mIn[15], line 4\u001b[0m\n\u001b[0;32m      1\u001b[0m a \u001b[38;5;241m=\u001b[39m \u001b[38;5;28minput\u001b[39m(\u001b[38;5;124m'\u001b[39m\u001b[38;5;124mFirst variable:  \u001b[39m\u001b[38;5;124m'\u001b[39m)\n\u001b[0;32m      2\u001b[0m b \u001b[38;5;241m=\u001b[39m \u001b[38;5;28minput\u001b[39m(\u001b[38;5;124m'\u001b[39m\u001b[38;5;130;01m\\n\u001b[39;00m\u001b[38;5;124mSecond variable: \u001b[39m\u001b[38;5;124m'\u001b[39m)\n\u001b[1;32m----> 4\u001b[0m x \u001b[38;5;241m=\u001b[39m \u001b[43ma\u001b[49m\u001b[43m \u001b[49m\u001b[38;5;241;43m+\u001b[39;49m\u001b[43m \u001b[49m\u001b[43mb\u001b[49m\u001b[43m \u001b[49m\u001b[38;5;241;43m-\u001b[39;49m\u001b[43m \u001b[49m\u001b[43ma\u001b[49m\n\u001b[0;32m      5\u001b[0m y \u001b[38;5;241m=\u001b[39m b \u001b[38;5;241m+\u001b[39m a \u001b[38;5;241m-\u001b[39m b\n\u001b[0;32m      7\u001b[0m \u001b[38;5;28mprint\u001b[39m(x , y)\n",
      "\u001b[1;31mTypeError\u001b[0m: unsupported operand type(s) for -: 'str' and 'str'"
     ]
    }
   ],
   "source": [
    "a = input('First variable:  ')\n",
    "b = input('\\nSecond variable: ')\n",
    "\n",
    "x = a + b - a\n",
    "y = b + a - b\n",
    "\n",
    "print(x , y)"
   ]
  },
  {
   "cell_type": "code",
   "execution_count": 16,
   "id": "8f825bbb",
   "metadata": {
    "scrolled": true
   },
   "outputs": [
    {
     "name": "stdout",
     "output_type": "stream",
     "text": [
      "First variable:  HH\n",
      "\n",
      "Second variable: NN\n"
     ]
    },
    {
     "ename": "TypeError",
     "evalue": "unsupported operand type(s) for -: 'str' and 'str'",
     "output_type": "error",
     "traceback": [
      "\u001b[1;31m---------------------------------------------------------------------------\u001b[0m",
      "\u001b[1;31mTypeError\u001b[0m                                 Traceback (most recent call last)",
      "Cell \u001b[1;32mIn[16], line 4\u001b[0m\n\u001b[0;32m      1\u001b[0m a \u001b[38;5;241m=\u001b[39m \u001b[38;5;28minput\u001b[39m(\u001b[38;5;124m'\u001b[39m\u001b[38;5;124mFirst variable:  \u001b[39m\u001b[38;5;124m'\u001b[39m)\n\u001b[0;32m      2\u001b[0m b \u001b[38;5;241m=\u001b[39m \u001b[38;5;28minput\u001b[39m(\u001b[38;5;124m'\u001b[39m\u001b[38;5;130;01m\\n\u001b[39;00m\u001b[38;5;124mSecond variable: \u001b[39m\u001b[38;5;124m'\u001b[39m)\n\u001b[1;32m----> 4\u001b[0m x \u001b[38;5;241m=\u001b[39m (\u001b[43ma\u001b[49m\u001b[43m \u001b[49m\u001b[38;5;241;43m+\u001b[39;49m\u001b[43m \u001b[49m\u001b[43mb\u001b[49m\u001b[43m \u001b[49m\u001b[38;5;241;43m-\u001b[39;49m\u001b[43m \u001b[49m\u001b[43ma\u001b[49m)\n\u001b[0;32m      5\u001b[0m y \u001b[38;5;241m=\u001b[39m (b \u001b[38;5;241m+\u001b[39m a \u001b[38;5;241m-\u001b[39m b)\n\u001b[0;32m      7\u001b[0m \u001b[38;5;28mprint\u001b[39m(x , y)\n",
      "\u001b[1;31mTypeError\u001b[0m: unsupported operand type(s) for -: 'str' and 'str'"
     ]
    }
   ],
   "source": [
    "a = input('First variable:  ')\n",
    "b = input('\\nSecond variable: ')\n",
    "\n",
    "x = (a + b - a)\n",
    "\n",
    "y = (b + a - b)\n",
    "\n",
    "print(x , y)\n"
   ]
  },
  {
   "cell_type": "code",
   "execution_count": 3,
   "id": "d66a8d68",
   "metadata": {},
   "outputs": [
    {
     "name": "stdout",
     "output_type": "stream",
     "text": [
      "First variable:  NN\n",
      "\n",
      "Second variable: HH\n",
      "HH NN\n"
     ]
    }
   ],
   "source": [
    "a = input('First variable:  ')                # This is NOTHING\n",
    "b = input('\\nSecond variable: ')\n",
    "\n",
    "x = b\n",
    "\n",
    "y = a\n",
    "\n",
    "print(x , y)\n"
   ]
  },
  {
   "cell_type": "code",
   "execution_count": 4,
   "id": "adc9e4b4",
   "metadata": {},
   "outputs": [
    {
     "name": "stdout",
     "output_type": "stream",
     "text": [
      "First variable:  NNNNN\n",
      "\n",
      "Second variable: HHHHH\n",
      "HHHHH NNNNN\n",
      "HHHHH NNNNN\n"
     ]
    }
   ],
   "source": [
    "a = input('First variable:  ')               # IMPORTANT STEP\n",
    "b = input('\\nSecond variable: ')\n",
    "x = b\n",
    "y = a \n",
    "a = x      # IMPORTANT STEP\n",
    "b = y      # IMPORTANT STEP \n",
    "print(x , y)\n",
    "print(a,b)"
   ]
  },
  {
   "cell_type": "code",
   "execution_count": 22,
   "id": "34bf0393",
   "metadata": {},
   "outputs": [
    {
     "name": "stdout",
     "output_type": "stream",
     "text": [
      "First variable:    HH\n",
      "\n",
      "Second variable: NN\n",
      "HHNN\n",
      "NN\n",
      "HH\n"
     ]
    }
   ],
   "source": [
    "a = input('First variable:    ')          ## By positive slicing  \n",
    "b = input('\\nSecond variable: ')          # This is NOTHING\n",
    "\n",
    "X = (a + b)\n",
    "print(X)\n",
    "a = X[2:4]\n",
    "print(a)\n",
    "b = X[0:2]\n",
    "print(b)"
   ]
  },
  {
   "cell_type": "code",
   "execution_count": 26,
   "id": "4e460c34",
   "metadata": {},
   "outputs": [
    {
     "name": "stdout",
     "output_type": "stream",
     "text": [
      "First variable:    HH\n",
      "\n",
      "Second variable: NN\n",
      "HHNN\n",
      "NN\n",
      "HH\n"
     ]
    }
   ],
   "source": [
    "a = input('First variable:    ')          ## By negative slicing\n",
    "b = input('\\nSecond variable: ')          # This is NOTHING\n",
    "\n",
    "X = (a + b)\n",
    "print(X)\n",
    "a = X[-2:]\n",
    "print(a)\n",
    "b = X[-4:-2]\n",
    "print(b)"
   ]
  },
  {
   "cell_type": "code",
   "execution_count": 1,
   "id": "68654c1f",
   "metadata": {},
   "outputs": [
    {
     "data": {
      "text/plain": [
       "0"
      ]
     },
     "execution_count": 1,
     "metadata": {},
     "output_type": "execute_result"
    }
   ],
   "source": [
    "45//984"
   ]
  },
  {
   "cell_type": "code",
   "execution_count": 2,
   "id": "8278f66f",
   "metadata": {},
   "outputs": [
    {
     "data": {
      "text/plain": [
       "0.04573170731707317"
      ]
     },
     "execution_count": 2,
     "metadata": {},
     "output_type": "execute_result"
    }
   ],
   "source": [
    "45/984"
   ]
  },
  {
   "cell_type": "code",
   "execution_count": 1,
   "id": "2fe9147c",
   "metadata": {},
   "outputs": [
    {
     "data": {
      "text/plain": [
       "45"
      ]
     },
     "execution_count": 1,
     "metadata": {},
     "output_type": "execute_result"
    }
   ],
   "source": [
    "45%984   # Important Example"
   ]
  },
  {
   "attachments": {
    "Screenshot%20%28141%29.png": {
     "image/png": "[encoded data removed]"
    }
   },
   "cell_type": "markdown",
   "id": "eafc8e46",
   "metadata": {},
   "source": [
    "![Screenshot%20%28141%29.png](attachment:Screenshot%20%28141%29.png)"
   ]
  },
  {
   "cell_type": "code",
   "execution_count": null,
   "id": "2d1d7d79",
   "metadata": {},
   "outputs": [],
   "source": []
  }
 ],
 "metadata": {
  "kernelspec": {
   "display_name": "Python 3 (ipykernel)",
   "language": "python",
   "name": "python3"
  },
  "language_info": {
   "codemirror_mode": {
    "name": "ipython",
    "version": 3
   },
   "file_extension": ".py",
   "mimetype": "text/x-python",
   "name": "python",
   "nbconvert_exporter": "python",
   "pygments_lexer": "ipython3",
   "version": "3.10.9"
  }
 },
 "nbformat": 4,
 "nbformat_minor": 5
}
