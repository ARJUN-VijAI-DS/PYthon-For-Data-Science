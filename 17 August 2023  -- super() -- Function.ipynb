{
 "cells": [
  {
   "cell_type": "markdown",
   "id": "097cf12d",
   "metadata": {},
   "source": [
    "<font size = 5.5> **super ()**\n",
    "    <li> The super fuction is used to refer to the parent class.<br> Super ()--  Call's the parent class."
   ]
  },
  {
   "cell_type": "code",
   "execution_count": 1,
   "id": "06535312",
   "metadata": {},
   "outputs": [
    {
     "name": "stdout",
     "output_type": "stream",
     "text": [
      "This is Tech Dept\n",
      "This is a Data Scientist\n"
     ]
    }
   ],
   "source": [
    "class Tech_Dept:\n",
    "    def descrip(self):\n",
    "        print(\"This is Tech Dept\")\n",
    "        \n",
    "class Programmer(Tech_Dept):\n",
    "    def descrip(self):\n",
    "        print(\"This is Tech Dept\")\n",
    "        print(\"This is a Data Scientist\")\n",
    "        \n",
    "tech1 = Programmer()\n",
    "tech1.descrip()"
   ]
  },
  {
   "cell_type": "code",
   "execution_count": 3,
   "id": "f02d1718",
   "metadata": {},
   "outputs": [
    {
     "name": "stdout",
     "output_type": "stream",
     "text": [
      "This is Tech Dept\n",
      "This is a Data Scientist\n"
     ]
    }
   ],
   "source": [
    "class Tech_Dept:\n",
    "    def descrip(self):\n",
    "        print(\"This is Tech Dept\")\n",
    "        \n",
    "class Programmer(Tech_Dept):\n",
    "    def descrip(self):\n",
    "        super().descrip()                  ## try to write here self.descrip()\n",
    "        print(\"This is a Data Scientist\")\n",
    "        \n",
    "tech1 = Programmer()\n",
    "tech1.descrip()"
   ]
  },
  {
   "cell_type": "markdown",
   "id": "eb134ffd",
   "metadata": {},
   "source": [
    "<font size = 5.5>  In the programme below kernel is \"DEAD\" --- Why? -- \"Infinite LOOP is formed\""
   ]
  },
  {
   "cell_type": "code",
   "execution_count": null,
   "id": "8d8db55f",
   "metadata": {},
   "outputs": [],
   "source": [
    "class Tech_Dept:\n",
    "    def descrip(self):\n",
    "        print(\"This is Tech Dept\")\n",
    "        \n",
    "class Programmer(Tech_Dept):\n",
    "    def descrip(self):\n",
    "        self.descrip()            ## ---> \"Infinite LOOP is formed\"\n",
    "        print(\"This is a Data Scientist\")\n",
    "        \n",
    "tech1 = Programmer()\n",
    "tech1.descrip()                   ####  --- recursion is happening here -- Infinite loop"
   ]
  },
  {
   "cell_type": "code",
   "execution_count": null,
   "id": "f2d30060",
   "metadata": {},
   "outputs": [],
   "source": [
    "# Exercise  -- How to reduce this code using super() -- function."
   ]
  },
  {
   "cell_type": "code",
   "execution_count": null,
   "id": "9ecdc619",
   "metadata": {},
   "outputs": [],
   "source": []
  },
  {
   "cell_type": "code",
   "execution_count": null,
   "id": "93908b1a",
   "metadata": {},
   "outputs": [],
   "source": []
  },
  {
   "cell_type": "code",
   "execution_count": null,
   "id": "16471a25",
   "metadata": {},
   "outputs": [],
   "source": []
  },
  {
   "cell_type": "code",
   "execution_count": null,
   "id": "a95372b3",
   "metadata": {},
   "outputs": [],
   "source": []
  },
  {
   "cell_type": "code",
   "execution_count": null,
   "id": "d21a86d9",
   "metadata": {},
   "outputs": [],
   "source": []
  },
  {
   "cell_type": "markdown",
   "id": "32f09371",
   "metadata": {},
   "source": [
    "<font size = 5.5> Method Overriding\n",
    "    <font size = 4> <li> Method overriding is a powerful feature that allows you to redefine a method of the parent class in the child class\n",
    "        <li> When a child class method has the same name, same parameters, and same return type as a method in its parent class, then the method in the child class is said to override the method in the parent class."
   ]
  },
  {
   "cell_type": "code",
   "execution_count": 2,
   "id": "7626f7c9",
   "metadata": {},
   "outputs": [
    {
     "name": "stdout",
     "output_type": "stream",
     "text": [
      "This is Dog Class\n"
     ]
    }
   ],
   "source": [
    "class Animal:\n",
    "    def show_name(self):\n",
    "        print(\"This is Animal Class\")\n",
    "        \n",
    "class Dog(Animal):\n",
    "    def show_name(self):\n",
    "        print(\"This is Dog Class\")\n",
    "        \n",
    "dog1 = Dog()\n",
    "dog1.show_name()     ## --> none is returned here in both the methods"
   ]
  },
  {
   "cell_type": "code",
   "execution_count": 3,
   "id": "8753d562",
   "metadata": {},
   "outputs": [
    {
     "name": "stdout",
     "output_type": "stream",
     "text": [
      "This is Dog Class\n"
     ]
    }
   ],
   "source": [
    "class Animal:\n",
    "    def show_name(self):\n",
    "        print(\"This is Animal Class\")\n",
    "        return 123\n",
    "class Dog(Animal):\n",
    "    def show_name(self):\n",
    "        print(\"This is Dog Class\")\n",
    "        \n",
    "dog1 = Dog()\n",
    "dog1.show_name()     ## --> none is returned here in both the methods"
   ]
  },
  {
   "cell_type": "code",
   "execution_count": null,
   "id": "73a9669d",
   "metadata": {},
   "outputs": [],
   "source": []
  },
  {
   "cell_type": "markdown",
   "id": "06fd8dba",
   "metadata": {},
   "source": [
    "<font size = 4.5> Object Class -- All class will inherit the object class by \"Default\"\n",
    "    <li> All the classes in PYthon are \"Objects\"\n",
    "        <li> Almost **everything** in PYthon is an \"Object\""
   ]
  },
  {
   "cell_type": "markdown",
   "id": "15cde914",
   "metadata": {},
   "source": [
    "<font size = 5.5> **Method Resolution Order**\n",
    "    <li> It is the order in which methods are searched for an Object"
   ]
  },
  {
   "cell_type": "code",
   "execution_count": 5,
   "id": "c05f2578",
   "metadata": {},
   "outputs": [
    {
     "name": "stdout",
     "output_type": "stream",
     "text": [
      "In Class C\n"
     ]
    }
   ],
   "source": [
    "class A:\n",
    "    def process(self):\n",
    "        print(\"In Class A\")\n",
    "        \n",
    "class B(A):\n",
    "    def process(self):\n",
    "        print(\"In Class B\")\n",
    "        \n",
    "class C(B,A):\n",
    "    def process(self):\n",
    "        print(\"In Class C\")\n",
    "        \n",
    "# Creating object of class C\n",
    "\n",
    "C1 = C()\n",
    "C1.process()"
   ]
  },
  {
   "cell_type": "code",
   "execution_count": 11,
   "id": "d695b96f",
   "metadata": {},
   "outputs": [
    {
     "data": {
      "text/plain": [
       "(__main__.C, __main__.B, __main__.A, object)"
      ]
     },
     "execution_count": 11,
     "metadata": {},
     "output_type": "execute_result"
    }
   ],
   "source": [
    "C.__mro__"
   ]
  },
  {
   "cell_type": "markdown",
   "id": "a94a2df7",
   "metadata": {},
   "source": [
    "<font size = 4> **Object is also a class in PYthon**"
   ]
  },
  {
   "cell_type": "code",
   "execution_count": null,
   "id": "0a75bb14",
   "metadata": {},
   "outputs": [],
   "source": []
  },
  {
   "cell_type": "code",
   "execution_count": 6,
   "id": "68b62ae0",
   "metadata": {},
   "outputs": [
    {
     "name": "stdout",
     "output_type": "stream",
     "text": [
      "In Class B\n"
     ]
    }
   ],
   "source": [
    "class A:\n",
    "    def process(self):\n",
    "        print(\"In Class A\")\n",
    "        \n",
    "class B(A):\n",
    "    def process(self):\n",
    "        print(\"In Class B\")\n",
    "        \n",
    "class C(B,A):\n",
    "    pass\n",
    "        \n",
    "# Creating object of class C\n",
    "\n",
    "C1 = C()\n",
    "C1.process()"
   ]
  },
  {
   "cell_type": "code",
   "execution_count": 10,
   "id": "c306b20e",
   "metadata": {},
   "outputs": [
    {
     "data": {
      "text/plain": [
       "(__main__.C, __main__.B, __main__.A, object)"
      ]
     },
     "execution_count": 10,
     "metadata": {},
     "output_type": "execute_result"
    }
   ],
   "source": [
    "C.__mro__"
   ]
  },
  {
   "cell_type": "code",
   "execution_count": 7,
   "id": "31173e98",
   "metadata": {},
   "outputs": [
    {
     "ename": "TypeError",
     "evalue": "Cannot create a consistent method resolution\norder (MRO) for bases A, B",
     "output_type": "error",
     "traceback": [
      "\u001b[1;31m---------------------------------------------------------------------------\u001b[0m",
      "\u001b[1;31mTypeError\u001b[0m                                 Traceback (most recent call last)",
      "Cell \u001b[1;32mIn[7], line 9\u001b[0m\n\u001b[0;32m      6\u001b[0m     \u001b[38;5;28;01mdef\u001b[39;00m \u001b[38;5;21mprocess\u001b[39m(\u001b[38;5;28mself\u001b[39m):\n\u001b[0;32m      7\u001b[0m         \u001b[38;5;28mprint\u001b[39m(\u001b[38;5;124m\"\u001b[39m\u001b[38;5;124mIn Class B\u001b[39m\u001b[38;5;124m\"\u001b[39m)\n\u001b[1;32m----> 9\u001b[0m \u001b[38;5;28;01mclass\u001b[39;00m \u001b[38;5;21;01mC\u001b[39;00m(A,B):\n\u001b[0;32m     10\u001b[0m     \u001b[38;5;28;01mpass\u001b[39;00m\n\u001b[0;32m     12\u001b[0m \u001b[38;5;66;03m# Creating object of class C\u001b[39;00m\n",
      "\u001b[1;31mTypeError\u001b[0m: Cannot create a consistent method resolution\norder (MRO) for bases A, B"
     ]
    }
   ],
   "source": [
    "class A:\n",
    "    def process(self):\n",
    "        print(\"In Class A\")\n",
    "        \n",
    "class B(A):\n",
    "    def process(self):\n",
    "        print(\"In Class B\")\n",
    "        \n",
    "class C(A,B):\n",
    "    pass\n",
    "        \n",
    "# Creating object of class C\n",
    "\n",
    "C1 = C()\n",
    "C1.process()"
   ]
  },
  {
   "cell_type": "code",
   "execution_count": 8,
   "id": "c160d490",
   "metadata": {},
   "outputs": [
    {
     "name": "stdout",
     "output_type": "stream",
     "text": [
      "In Class B\n"
     ]
    }
   ],
   "source": [
    "class A:\n",
    "    def process(self):\n",
    "        print(\"In Class A\")\n",
    "        \n",
    "class B():\n",
    "    def process(self):\n",
    "        print(\"In Class B\")\n",
    "        \n",
    "class C(B,A):\n",
    "    pass\n",
    "        \n",
    "# Creating object of class C\n",
    "\n",
    "C1 = C()\n",
    "C1.process()"
   ]
  },
  {
   "cell_type": "code",
   "execution_count": 9,
   "id": "dc466919",
   "metadata": {},
   "outputs": [
    {
     "data": {
      "text/plain": [
       "(__main__.C, __main__.B, __main__.A, object)"
      ]
     },
     "execution_count": 9,
     "metadata": {},
     "output_type": "execute_result"
    }
   ],
   "source": [
    "C.__mro__"
   ]
  },
  {
   "cell_type": "code",
   "execution_count": 2,
   "id": "7fdd9bb2",
   "metadata": {},
   "outputs": [
    {
     "name": "stdout",
     "output_type": "stream",
     "text": [
      "In Class B\n"
     ]
    }
   ],
   "source": [
    "class A:\n",
    "    def process(self):\n",
    "        print(\"In Class A\")\n",
    "        \n",
    "class B(A):\n",
    "    def process(self):\n",
    "        print(\"In Class B\")\n",
    "        \n",
    "class C(B,A):                ## --- Two parent classes\n",
    "    pass\n",
    "        \n",
    "# Creating object of class C\n",
    "\n",
    "C1 = C()\n",
    "C1.process()"
   ]
  },
  {
   "cell_type": "code",
   "execution_count": 12,
   "id": "929b2a80",
   "metadata": {},
   "outputs": [
    {
     "data": {
      "text/plain": [
       "(__main__.A, object)"
      ]
     },
     "execution_count": 12,
     "metadata": {},
     "output_type": "execute_result"
    }
   ],
   "source": [
    "A.__mro__"
   ]
  },
  {
   "cell_type": "code",
   "execution_count": 13,
   "id": "500051c0",
   "metadata": {},
   "outputs": [
    {
     "data": {
      "text/plain": [
       "type"
      ]
     },
     "execution_count": 13,
     "metadata": {},
     "output_type": "execute_result"
    }
   ],
   "source": [
    "type(B)"
   ]
  },
  {
   "cell_type": "code",
   "execution_count": 3,
   "id": "048520ec",
   "metadata": {},
   "outputs": [
    {
     "name": "stdout",
     "output_type": "stream",
     "text": [
      "<class 'type'>\n",
      "<class 'type'>\n"
     ]
    }
   ],
   "source": [
    "print(type(B))\n",
    "print(type(C))   ##  -- All the class are object of **Class Type**"
   ]
  },
  {
   "cell_type": "code",
   "execution_count": null,
   "id": "fe5fc41d",
   "metadata": {},
   "outputs": [],
   "source": []
  },
  {
   "cell_type": "code",
   "execution_count": 14,
   "id": "b4331b74",
   "metadata": {},
   "outputs": [
    {
     "data": {
      "text/plain": [
       "(__main__.B, object)"
      ]
     },
     "execution_count": 14,
     "metadata": {},
     "output_type": "execute_result"
    }
   ],
   "source": [
    "B.__mro__   ### All classes inherit the object class"
   ]
  },
  {
   "cell_type": "code",
   "execution_count": 4,
   "id": "e006400c",
   "metadata": {
    "scrolled": true
   },
   "outputs": [
    {
     "ename": "NameError",
     "evalue": "name 'process' is not defined",
     "output_type": "error",
     "traceback": [
      "\u001b[1;31m---------------------------------------------------------------------------\u001b[0m",
      "\u001b[1;31mNameError\u001b[0m                                 Traceback (most recent call last)",
      "Cell \u001b[1;32mIn[4], line 1\u001b[0m\n\u001b[1;32m----> 1\u001b[0m \u001b[38;5;28mprint\u001b[39m(\u001b[38;5;28mtype\u001b[39m(\u001b[43mprocess\u001b[49m))\n",
      "\u001b[1;31mNameError\u001b[0m: name 'process' is not defined"
     ]
    }
   ],
   "source": [
    "print(type(process))"
   ]
  },
  {
   "cell_type": "code",
   "execution_count": 7,
   "id": "fd6c5d3f",
   "metadata": {},
   "outputs": [
    {
     "name": "stdout",
     "output_type": "stream",
     "text": [
      "<class 'method'>\n"
     ]
    }
   ],
   "source": [
    "print(type(C1.process))"
   ]
  },
  {
   "cell_type": "code",
   "execution_count": null,
   "id": "d72cc719",
   "metadata": {},
   "outputs": [],
   "source": []
  },
  {
   "cell_type": "code",
   "execution_count": null,
   "id": "66219e56",
   "metadata": {},
   "outputs": [],
   "source": []
  },
  {
   "cell_type": "code",
   "execution_count": 5,
   "id": "6276b19a",
   "metadata": {},
   "outputs": [
    {
     "name": "stdout",
     "output_type": "stream",
     "text": [
      "<class 'function'>\n"
     ]
    }
   ],
   "source": [
    "def my_func():\n",
    "    pass\n",
    "\n",
    "print(type(my_func))"
   ]
  },
  {
   "cell_type": "code",
   "execution_count": 6,
   "id": "a57a89b9",
   "metadata": {},
   "outputs": [
    {
     "name": "stdout",
     "output_type": "stream",
     "text": [
      "<class '_sitebuiltins._Helper'>\n"
     ]
    }
   ],
   "source": [
    "print(type(help))"
   ]
  },
  {
   "cell_type": "code",
   "execution_count": 8,
   "id": "a44318c2",
   "metadata": {},
   "outputs": [
    {
     "ename": "SyntaxError",
     "evalue": "invalid syntax (1329047164.py, line 1)",
     "output_type": "error",
     "traceback": [
      "\u001b[1;36m  Cell \u001b[1;32mIn[8], line 1\u001b[1;36m\u001b[0m\n\u001b[1;33m    print(type(for))\u001b[0m\n\u001b[1;37m               ^\u001b[0m\n\u001b[1;31mSyntaxError\u001b[0m\u001b[1;31m:\u001b[0m invalid syntax\n"
     ]
    }
   ],
   "source": [
    "print(type(for))"
   ]
  },
  {
   "cell_type": "code",
   "execution_count": 9,
   "id": "9c862ab7",
   "metadata": {},
   "outputs": [
    {
     "ename": "SyntaxError",
     "evalue": "invalid syntax (1116878633.py, line 1)",
     "output_type": "error",
     "traceback": [
      "\u001b[1;36m  Cell \u001b[1;32mIn[9], line 1\u001b[1;36m\u001b[0m\n\u001b[1;33m    print(type(class))\u001b[0m\n\u001b[1;37m               ^\u001b[0m\n\u001b[1;31mSyntaxError\u001b[0m\u001b[1;31m:\u001b[0m invalid syntax\n"
     ]
    }
   ],
   "source": [
    "print(type(class))  ## Almost everything in PYthon is an Object....."
   ]
  },
  {
   "cell_type": "code",
   "execution_count": null,
   "id": "5d44ed3c",
   "metadata": {},
   "outputs": [],
   "source": []
  },
  {
   "cell_type": "code",
   "execution_count": null,
   "id": "4927150b",
   "metadata": {},
   "outputs": [],
   "source": []
  },
  {
   "cell_type": "markdown",
   "id": "453b0a82",
   "metadata": {},
   "source": [
    "<font size = 5.5> **ERRORS**"
   ]
  },
  {
   "cell_type": "code",
   "execution_count": 1,
   "id": "d519bb15",
   "metadata": {},
   "outputs": [
    {
     "ename": "TypeError",
     "evalue": "'Programmer' object is not callable",
     "output_type": "error",
     "traceback": [
      "\u001b[1;31m---------------------------------------------------------------------------\u001b[0m",
      "\u001b[1;31mTypeError\u001b[0m                                 Traceback (most recent call last)",
      "Cell \u001b[1;32mIn[1], line 11\u001b[0m\n\u001b[0;32m      8\u001b[0m         \u001b[38;5;28mprint\u001b[39m(\u001b[38;5;124m\"\u001b[39m\u001b[38;5;124mThis is a Data Scientist\u001b[39m\u001b[38;5;124m\"\u001b[39m)\n\u001b[0;32m     10\u001b[0m tech1 \u001b[38;5;241m=\u001b[39m Programmer()\n\u001b[1;32m---> 11\u001b[0m \u001b[43mtech1\u001b[49m\u001b[38;5;241;43m.\u001b[39;49m\u001b[43mdescrip\u001b[49m\u001b[43m(\u001b[49m\u001b[43m)\u001b[49m\n",
      "Cell \u001b[1;32mIn[1], line 7\u001b[0m, in \u001b[0;36mProgrammer.descrip\u001b[1;34m(self)\u001b[0m\n\u001b[0;32m      6\u001b[0m \u001b[38;5;28;01mdef\u001b[39;00m \u001b[38;5;21mdescrip\u001b[39m(\u001b[38;5;28mself\u001b[39m):\n\u001b[1;32m----> 7\u001b[0m     \u001b[38;5;28;43mself\u001b[39;49m\u001b[43m(\u001b[49m\u001b[43m)\u001b[49m\u001b[38;5;241m.\u001b[39mdescrip()                  \u001b[38;5;66;03m## try to write here self.descrip()\u001b[39;00m\n\u001b[0;32m      8\u001b[0m     \u001b[38;5;28mprint\u001b[39m(\u001b[38;5;124m\"\u001b[39m\u001b[38;5;124mThis is a Data Scientist\u001b[39m\u001b[38;5;124m\"\u001b[39m)\n",
      "\u001b[1;31mTypeError\u001b[0m: 'Programmer' object is not callable"
     ]
    }
   ],
   "source": [
    "class Tech_Dept:\n",
    "    def descrip(self):\n",
    "        print(\"This is Tech Dept\")\n",
    "        \n",
    "class Programmer(Tech_Dept):\n",
    "    def descrip(self):\n",
    "        self().descrip()                  ## try to write here self.descrip()  --> Error ---> self()  to self\n",
    "        print(\"This is a Data Scientist\")\n",
    "        \n",
    "tech1 = Programmer()\n",
    "tech1.descrip()"
   ]
  }
 ],
 "metadata": {
  "kernelspec": {
   "display_name": "Python 3 (ipykernel)",
   "language": "python",
   "name": "python3"
  },
  "language_info": {
   "codemirror_mode": {
    "name": "ipython",
    "version": 3
   },
   "file_extension": ".py",
   "mimetype": "text/x-python",
   "name": "python",
   "nbconvert_exporter": "python",
   "pygments_lexer": "ipython3",
   "version": "3.10.9"
  }
 },
 "nbformat": 4,
 "nbformat_minor": 5
}
