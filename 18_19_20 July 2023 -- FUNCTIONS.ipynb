{
 "cells": [
  {
   "cell_type": "markdown",
   "id": "2453289d",
   "metadata": {},
   "source": [
    "##  Returning Multiple values from a Function"
   ]
  },
  {
   "cell_type": "code",
   "execution_count": 1,
   "id": "ebdd30f6",
   "metadata": {},
   "outputs": [
    {
     "name": "stdout",
     "output_type": "stream",
     "text": [
      "Hello\n",
      "55\n"
     ]
    }
   ],
   "source": [
    "a,b = (\"Hello\",55)\n",
    "print(a)\n",
    "print(b)"
   ]
  },
  {
   "cell_type": "markdown",
   "id": "9fd7a5f6",
   "metadata": {},
   "source": [
    "## Values will be returned in form of \"tuple\""
   ]
  },
  {
   "cell_type": "code",
   "execution_count": 2,
   "id": "e817d1f0",
   "metadata": {},
   "outputs": [
    {
     "name": "stdout",
     "output_type": "stream",
     "text": [
      "(12, 8, 20, 5.0)\n"
     ]
    }
   ],
   "source": [
    "def calculator(a,b):\n",
    "    sum =a+b\n",
    "    diff=a-b\n",
    "    product=a*b\n",
    "    div=a/b\n",
    "    \n",
    "    return sum,diff,product,div  # Returns the value in form of a \"Tuple\"\n",
    "\n",
    "x= calculator(10,2)\n",
    "print(x)"
   ]
  },
  {
   "cell_type": "code",
   "execution_count": 3,
   "id": "53dd09ef",
   "metadata": {},
   "outputs": [
    {
     "name": "stdout",
     "output_type": "stream",
     "text": [
      "12 8 20 5.0\n"
     ]
    }
   ],
   "source": [
    "def calculator(a,b):\n",
    "    sum =a+b\n",
    "    diff=a-b\n",
    "    product=a*b\n",
    "    div=a/b\n",
    "    \n",
    "    return sum,diff,product,div  # Returns the value in form of a \"Tuple\"\n",
    "\n",
    "a,b,c,d = calculator(10,2)\n",
    "print(a,b,c,d)"
   ]
  },
  {
   "cell_type": "code",
   "execution_count": 1,
   "id": "0cf36699",
   "metadata": {},
   "outputs": [],
   "source": [
    "def calculator(a,b):\n",
    "    sum =a+b\n",
    "    diff=a-b\n",
    "    product=a*b\n",
    "    div=a/b\n",
    "    \n",
    "    return sum,diff,product,div  # Returns the value in form of a \"Tuple\"\n",
    "\n",
    "a,b,c,d = calculator(10,2)"
   ]
  },
  {
   "cell_type": "code",
   "execution_count": 2,
   "id": "2c3ae2a0",
   "metadata": {},
   "outputs": [
    {
     "name": "stdout",
     "output_type": "stream",
     "text": [
      "12 8 20 5.0\n"
     ]
    }
   ],
   "source": [
    "def calculator(a,b):\n",
    "    sum =a+b\n",
    "    diff=a-b\n",
    "    product=a*b\n",
    "    div=a/b\n",
    "    \n",
    "    return sum,diff,product,div  # Returns the value in form of a \"Tuple\"\n",
    "\n",
    "a,b,c,d = calculator(10,2)\n",
    "print(a,b,c,d)"
   ]
  },
  {
   "cell_type": "code",
   "execution_count": null,
   "id": "b6259171",
   "metadata": {},
   "outputs": [],
   "source": []
  },
  {
   "cell_type": "code",
   "execution_count": 1,
   "id": "469c1c0e",
   "metadata": {},
   "outputs": [
    {
     "name": "stdout",
     "output_type": "stream",
     "text": [
      "(12, 8, 20, 5.0)\n"
     ]
    }
   ],
   "source": [
    "def calculator(a,b):\n",
    "    sum =a+b\n",
    "    diff=a-b\n",
    "    product=a*b\n",
    "    div=a/b\n",
    "    \n",
    "    return sum,diff,product,div  # Returns the value in form of a \"Tuple\"\n",
    "\n",
    "s = calculator(10,2)\n",
    "print(s)        ### Output in form of \"tuple\""
   ]
  },
  {
   "cell_type": "code",
   "execution_count": null,
   "id": "ce474e3e",
   "metadata": {},
   "outputs": [],
   "source": []
  },
  {
   "cell_type": "markdown",
   "id": "2fa36c55",
   "metadata": {},
   "source": [
    "### \"Important EXAMPLE -- Very Important\""
   ]
  },
  {
   "cell_type": "code",
   "execution_count": 2,
   "id": "4587a4f7",
   "metadata": {},
   "outputs": [
    {
     "name": "stdout",
     "output_type": "stream",
     "text": [
      "Data\n",
      "55\n",
      "-12\n",
      "True\n"
     ]
    }
   ],
   "source": [
    "a,b,c,d = (\"Data\",55,-12,True)\n",
    "print(a)\n",
    "print(b)\n",
    "print(c)\n",
    "print(d)"
   ]
  },
  {
   "cell_type": "code",
   "execution_count": 3,
   "id": "f3e5af17",
   "metadata": {},
   "outputs": [
    {
     "name": "stdout",
     "output_type": "stream",
     "text": [
      "(12, 4, 32, 2.0)\n"
     ]
    }
   ],
   "source": [
    "y = calculator(8,4)\n",
    "print(y)"
   ]
  },
  {
   "cell_type": "code",
   "execution_count": 1,
   "id": "ba109dae",
   "metadata": {},
   "outputs": [
    {
     "name": "stdout",
     "output_type": "stream",
     "text": [
      "27\n"
     ]
    }
   ],
   "source": [
    "def add(a,b):\n",
    "    s = a+b\n",
    "    print(s)\n",
    "    \n",
    "add(12,15)"
   ]
  },
  {
   "cell_type": "code",
   "execution_count": 2,
   "id": "e13fdbf9",
   "metadata": {},
   "outputs": [
    {
     "name": "stdout",
     "output_type": "stream",
     "text": [
      "27\n",
      "None\n"
     ]
    }
   ],
   "source": [
    "def add(a,b):\n",
    "    s = a+b\n",
    "    print(s)\n",
    "    \n",
    "print(add(12,15))"
   ]
  },
  {
   "cell_type": "code",
   "execution_count": 3,
   "id": "1b501b05",
   "metadata": {},
   "outputs": [
    {
     "ename": "SyntaxError",
     "evalue": "duplicate argument 'b' in function definition (3120960319.py, line 1)",
     "output_type": "error",
     "traceback": [
      "\u001b[1;36m  Cell \u001b[1;32mIn[3], line 1\u001b[1;36m\u001b[0m\n\u001b[1;33m    def add(a,b,b):\u001b[0m\n\u001b[1;37m                ^\u001b[0m\n\u001b[1;31mSyntaxError\u001b[0m\u001b[1;31m:\u001b[0m duplicate argument 'b' in function definition\n"
     ]
    }
   ],
   "source": [
    "def add(a,b,b):\n",
    "    s = a+b\n",
    "    print(s)\n",
    "    \n",
    "print(add(12,15))"
   ]
  },
  {
   "cell_type": "markdown",
   "id": "aa3dcd34",
   "metadata": {},
   "source": [
    "<font size = 4><center> <h1>**Left**"
   ]
  },
  {
   "cell_type": "code",
   "execution_count": 11,
   "id": "5b5f5004",
   "metadata": {},
   "outputs": [
    {
     "name": "stdout",
     "output_type": "stream",
     "text": [
      "32\n"
     ]
    },
    {
     "data": {
      "text/plain": [
       "32"
      ]
     },
     "execution_count": 11,
     "metadata": {},
     "output_type": "execute_result"
    }
   ],
   "source": [
    "y = calculator(8,4)\n",
    "print(y[2])\n",
    "y[2]                    ## \"Done\" "
   ]
  },
  {
   "cell_type": "code",
   "execution_count": 5,
   "id": "1cd109ac",
   "metadata": {},
   "outputs": [],
   "source": [
    "product = calculator(8,4)"
   ]
  },
  {
   "cell_type": "code",
   "execution_count": 6,
   "id": "068c609d",
   "metadata": {},
   "outputs": [],
   "source": [
    "y = product "
   ]
  },
  {
   "cell_type": "code",
   "execution_count": null,
   "id": "1e467958",
   "metadata": {},
   "outputs": [],
   "source": []
  },
  {
   "cell_type": "code",
   "execution_count": 8,
   "id": "a19d55b1",
   "metadata": {
    "scrolled": true
   },
   "outputs": [
    {
     "ename": "TypeError",
     "evalue": "'tuple' object does not support item assignment",
     "output_type": "error",
     "traceback": [
      "\u001b[1;31m---------------------------------------------------------------------------\u001b[0m",
      "\u001b[1;31mTypeError\u001b[0m                                 Traceback (most recent call last)",
      "Cell \u001b[1;32mIn[8], line 1\u001b[0m\n\u001b[1;32m----> 1\u001b[0m y[\u001b[38;5;241m2\u001b[39m] \u001b[38;5;241m=\u001b[39m calculator(\u001b[38;5;241m8\u001b[39m,\u001b[38;5;241m4\u001b[39m)\n",
      "\u001b[1;31mTypeError\u001b[0m: 'tuple' object does not support item assignment"
     ]
    }
   ],
   "source": [
    "y[2] = calculator(8,4)"
   ]
  },
  {
   "cell_type": "code",
   "execution_count": 18,
   "id": "70d5b561",
   "metadata": {},
   "outputs": [
    {
     "ename": "SyntaxError",
     "evalue": "'return' outside function (3239700139.py, line 2)",
     "output_type": "error",
     "traceback": [
      "\u001b[1;36m  Cell \u001b[1;32mIn[18], line 2\u001b[1;36m\u001b[0m\n\u001b[1;33m    return product\u001b[0m\n\u001b[1;37m    ^\u001b[0m\n\u001b[1;31mSyntaxError\u001b[0m\u001b[1;31m:\u001b[0m 'return' outside function\n"
     ]
    }
   ],
   "source": [
    "y = calculator(8,4)\n",
    "return product"
   ]
  },
  {
   "cell_type": "code",
   "execution_count": 19,
   "id": "bf52a688",
   "metadata": {},
   "outputs": [
    {
     "ename": "SyntaxError",
     "evalue": "invalid syntax (2238942086.py, line 1)",
     "output_type": "error",
     "traceback": [
      "\u001b[1;36m  Cell \u001b[1;32mIn[19], line 1\u001b[1;36m\u001b[0m\n\u001b[1;33m    y = calculator(8,4):\u001b[0m\n\u001b[1;37m                       ^\u001b[0m\n\u001b[1;31mSyntaxError\u001b[0m\u001b[1;31m:\u001b[0m invalid syntax\n"
     ]
    }
   ],
   "source": [
    "y = calculator(8,4):\n",
    "    return product"
   ]
  },
  {
   "cell_type": "code",
   "execution_count": null,
   "id": "bb4ebe26",
   "metadata": {},
   "outputs": [],
   "source": []
  },
  {
   "cell_type": "code",
   "execution_count": 9,
   "id": "f1a8526f",
   "metadata": {},
   "outputs": [
    {
     "name": "stdout",
     "output_type": "stream",
     "text": [
      "Help on method_descriptor:\n",
      "\n",
      "append(self, object, /)\n",
      "    Append object to the end of the list.\n",
      "\n"
     ]
    }
   ],
   "source": [
    "help(list.append)"
   ]
  },
  {
   "cell_type": "code",
   "execution_count": 10,
   "id": "58ff5f41",
   "metadata": {},
   "outputs": [
    {
     "name": "stdout",
     "output_type": "stream",
     "text": [
      "Help on built-in function print in module builtins:\n",
      "\n",
      "print(...)\n",
      "    print(value, ..., sep=' ', end='\\n', file=sys.stdout, flush=False)\n",
      "    \n",
      "    Prints the values to a stream, or to sys.stdout by default.\n",
      "    Optional keyword arguments:\n",
      "    file:  a file-like object (stream); defaults to the current sys.stdout.\n",
      "    sep:   string inserted between values, default a space.\n",
      "    end:   string appended after the last value, default a newline.\n",
      "    flush: whether to forcibly flush the stream.\n",
      "\n"
     ]
    }
   ],
   "source": [
    "help(print)"
   ]
  },
  {
   "cell_type": "code",
   "execution_count": 11,
   "id": "23422ec6",
   "metadata": {},
   "outputs": [
    {
     "name": "stdout",
     "output_type": "stream",
     "text": [
      "Help on method_descriptor:\n",
      "\n",
      "remove(self, value, /)\n",
      "    Remove first occurrence of value.\n",
      "    \n",
      "    Raises ValueError if the value is not present.\n",
      "\n"
     ]
    }
   ],
   "source": [
    "help(list.remove)"
   ]
  },
  {
   "cell_type": "code",
   "execution_count": null,
   "id": "316816ba",
   "metadata": {},
   "outputs": [],
   "source": []
  },
  {
   "cell_type": "code",
   "execution_count": null,
   "id": "578e9cc2",
   "metadata": {},
   "outputs": [],
   "source": []
  },
  {
   "cell_type": "code",
   "execution_count": null,
   "id": "b5c2744a",
   "metadata": {},
   "outputs": [],
   "source": []
  },
  {
   "cell_type": "markdown",
   "id": "f2c2b8dc",
   "metadata": {},
   "source": [
    "# Using Docstring in Functions\n",
    "\n",
    "- SIngle-line Docstring"
   ]
  },
  {
   "cell_type": "code",
   "execution_count": 12,
   "id": "9b73dfe2",
   "metadata": {},
   "outputs": [],
   "source": [
    "def show_result():\n",
    "    \"\"\"Let us understand Docstrings\"\"\"\n",
    "    print(\"This is a test program\")"
   ]
  },
  {
   "cell_type": "markdown",
   "id": "87ce5610",
   "metadata": {},
   "source": [
    "### \"Important command\""
   ]
  },
  {
   "cell_type": "code",
   "execution_count": 13,
   "id": "36ee4770",
   "metadata": {},
   "outputs": [
    {
     "data": {
      "text/plain": [
       "'Let us understand Docstrings'"
      ]
     },
     "execution_count": 13,
     "metadata": {},
     "output_type": "execute_result"
    }
   ],
   "source": [
    "show_result.__doc__"
   ]
  },
  {
   "cell_type": "code",
   "execution_count": 14,
   "id": "10abb5c1",
   "metadata": {},
   "outputs": [
    {
     "name": "stdout",
     "output_type": "stream",
     "text": [
      "Help on function show_result in module __main__:\n",
      "\n",
      "show_result()\n",
      "    Let us understand Docstrings\n",
      "\n"
     ]
    }
   ],
   "source": [
    "help(show_result)"
   ]
  },
  {
   "cell_type": "code",
   "execution_count": null,
   "id": "11524328",
   "metadata": {},
   "outputs": [],
   "source": []
  },
  {
   "cell_type": "markdown",
   "id": "d8d78ef3",
   "metadata": {},
   "source": [
    "- **Multi-line Docstring**"
   ]
  },
  {
   "cell_type": "code",
   "execution_count": 5,
   "id": "5d971c34",
   "metadata": {},
   "outputs": [
    {
     "name": "stdout",
     "output_type": "stream",
     "text": [
      "This is a test program\n"
     ]
    }
   ],
   "source": [
    "\n",
    "def show_result():\n",
    "    \"\"\"Let us understand Docstrings\n",
    "    \n",
    "    I am using this function to understand about Docstring\n",
    "    Docstring are used to document functions\"\"\"\n",
    "    print(\"This is a test program\")\n",
    "show_result()"
   ]
  },
  {
   "cell_type": "code",
   "execution_count": 17,
   "id": "28cf91cb",
   "metadata": {},
   "outputs": [
    {
     "name": "stdout",
     "output_type": "stream",
     "text": [
      "Let us understand Docstrings\n",
      "    \n",
      "    I am using this function to understand about Docstring\n",
      "    Docstring are used to document functions\n"
     ]
    }
   ],
   "source": [
    "print(show_result.__doc__)"
   ]
  },
  {
   "cell_type": "code",
   "execution_count": 20,
   "id": "fa9890cb",
   "metadata": {},
   "outputs": [
    {
     "name": "stdout",
     "output_type": "stream",
     "text": [
      "Help on function show_result in module __main__:\n",
      "\n",
      "show_result()\n",
      "    Let us understand Docstrings\n",
      "    \n",
      "    I am using this function to understand about Docstring\n",
      "    Docstring are used to document functions\n",
      "\n"
     ]
    }
   ],
   "source": [
    "help(show_result)"
   ]
  },
  {
   "cell_type": "code",
   "execution_count": null,
   "id": "18309529",
   "metadata": {},
   "outputs": [],
   "source": []
  },
  {
   "cell_type": "code",
   "execution_count": 21,
   "id": "22bfcc67",
   "metadata": {},
   "outputs": [
    {
     "name": "stdout",
     "output_type": "stream",
     "text": [
      "12 8 20 5.0\n"
     ]
    }
   ],
   "source": [
    "def show_result():\n",
    "    sum =a+b\n",
    "    diff=a-b\n",
    "    \n",
    "    \"\"\"Let us understand Docstrings\n",
    "    \n",
    "    I am using this function to understand about Docstring\n",
    "    Docstring are used to document functions\"\"\"\n",
    "    product=a*b\n",
    "    div=a/b\n",
    "    return sum,diff,product,div  # Returns the value in form of a \"Tuple\"\n",
    "    \n",
    "    print(\"This is a test program\")\n",
    "    \n",
    "a,b,c,d = calculator(10,2)\n",
    "print(a,b,c,d)"
   ]
  },
  {
   "cell_type": "code",
   "execution_count": 22,
   "id": "545b0f66",
   "metadata": {},
   "outputs": [
    {
     "name": "stdout",
     "output_type": "stream",
     "text": [
      "Help on function show_result in module __main__:\n",
      "\n",
      "show_result()\n",
      "\n"
     ]
    }
   ],
   "source": [
    "help(show_result)"
   ]
  },
  {
   "cell_type": "code",
   "execution_count": null,
   "id": "0e5a964e",
   "metadata": {},
   "outputs": [],
   "source": []
  },
  {
   "cell_type": "markdown",
   "id": "04d10adf",
   "metadata": {},
   "source": [
    "## Scope of Variables  -- \"local\" and \"global\""
   ]
  },
  {
   "cell_type": "code",
   "execution_count": 23,
   "id": "b6539ea9",
   "metadata": {},
   "outputs": [
    {
     "name": "stdout",
     "output_type": "stream",
     "text": [
      "T is  PYthon\n",
      "The value of t is  PYthon\n"
     ]
    },
    {
     "ename": "NameError",
     "evalue": "name 'u' is not defined",
     "output_type": "error",
     "traceback": [
      "\u001b[1;31m---------------------------------------------------------------------------\u001b[0m",
      "\u001b[1;31mNameError\u001b[0m                                 Traceback (most recent call last)",
      "Cell \u001b[1;32mIn[23], line 9\u001b[0m\n\u001b[0;32m      6\u001b[0m scope_var()\n\u001b[0;32m      8\u001b[0m \u001b[38;5;28mprint\u001b[39m(\u001b[38;5;124m\"\u001b[39m\u001b[38;5;124mThe value of t is \u001b[39m\u001b[38;5;124m\"\u001b[39m, t)\n\u001b[1;32m----> 9\u001b[0m \u001b[38;5;28mprint\u001b[39m(\u001b[38;5;124m\"\u001b[39m\u001b[38;5;124mThe value of u is \u001b[39m\u001b[38;5;124m\"\u001b[39m, \u001b[43mu\u001b[49m)\n",
      "\u001b[1;31mNameError\u001b[0m: name 'u' is not defined"
     ]
    }
   ],
   "source": [
    "t = \"PYthon\"                # Global Variable\n",
    "\n",
    "def scope_var():\n",
    "    u = \"analytics\"         # Local Variable\n",
    "    print(\"T is \",t)\n",
    "scope_var()\n",
    "\n",
    "print(\"The value of t is \", t)\n",
    "print(\"The value of u is \", u)\n"
   ]
  },
  {
   "cell_type": "code",
   "execution_count": 25,
   "id": "f0c67143",
   "metadata": {},
   "outputs": [
    {
     "name": "stdout",
     "output_type": "stream",
     "text": [
      "Data analytics\n",
      "T is  PYthon\n",
      "The value of t is  PYthon\n",
      "The value of u is  analytics\n"
     ]
    }
   ],
   "source": [
    "t = \"PYthon\"                # Global Variable\n",
    "u = \"analytics\"             # Global Variable\n",
    "\n",
    "def scope_var():\n",
    "    u = \"Data analytics\"         # Local Variable\n",
    "    print(u)\n",
    "    print(\"T is \",t)\n",
    "scope_var()\n",
    "\n",
    "print(\"The value of t is \", t)\n",
    "print(\"The value of u is \", u) # Global Variable --- u\n"
   ]
  },
  {
   "cell_type": "code",
   "execution_count": 27,
   "id": "369bca63",
   "metadata": {},
   "outputs": [
    {
     "ename": "UnboundLocalError",
     "evalue": "local variable 'u' referenced before assignment",
     "output_type": "error",
     "traceback": [
      "\u001b[1;31m---------------------------------------------------------------------------\u001b[0m",
      "\u001b[1;31mUnboundLocalError\u001b[0m                         Traceback (most recent call last)",
      "Cell \u001b[1;32mIn[27], line 8\u001b[0m\n\u001b[0;32m      6\u001b[0m     u \u001b[38;5;241m=\u001b[39m \u001b[38;5;124m\"\u001b[39m\u001b[38;5;124mData analytics\u001b[39m\u001b[38;5;124m\"\u001b[39m         \u001b[38;5;66;03m# Local Variable\u001b[39;00m\n\u001b[0;32m      7\u001b[0m     \u001b[38;5;28mprint\u001b[39m(\u001b[38;5;124m\"\u001b[39m\u001b[38;5;124mT is \u001b[39m\u001b[38;5;124m\"\u001b[39m,t)\n\u001b[1;32m----> 8\u001b[0m \u001b[43mscope_var\u001b[49m\u001b[43m(\u001b[49m\u001b[43m)\u001b[49m\n\u001b[0;32m     10\u001b[0m \u001b[38;5;28mprint\u001b[39m(\u001b[38;5;124m\"\u001b[39m\u001b[38;5;124mThe value of t is \u001b[39m\u001b[38;5;124m\"\u001b[39m, t)\n\u001b[0;32m     11\u001b[0m \u001b[38;5;28mprint\u001b[39m(\u001b[38;5;124m\"\u001b[39m\u001b[38;5;124mThe value of u is \u001b[39m\u001b[38;5;124m\"\u001b[39m, u)\n",
      "Cell \u001b[1;32mIn[27], line 5\u001b[0m, in \u001b[0;36mscope_var\u001b[1;34m()\u001b[0m\n\u001b[0;32m      4\u001b[0m \u001b[38;5;28;01mdef\u001b[39;00m \u001b[38;5;21mscope_var\u001b[39m():\n\u001b[1;32m----> 5\u001b[0m     \u001b[38;5;28mprint\u001b[39m(\u001b[43mu\u001b[49m)\n\u001b[0;32m      6\u001b[0m     u \u001b[38;5;241m=\u001b[39m \u001b[38;5;124m\"\u001b[39m\u001b[38;5;124mData analytics\u001b[39m\u001b[38;5;124m\"\u001b[39m         \u001b[38;5;66;03m# Local Variable\u001b[39;00m\n\u001b[0;32m      7\u001b[0m     \u001b[38;5;28mprint\u001b[39m(\u001b[38;5;124m\"\u001b[39m\u001b[38;5;124mT is \u001b[39m\u001b[38;5;124m\"\u001b[39m,t)\n",
      "\u001b[1;31mUnboundLocalError\u001b[0m: local variable 'u' referenced before assignment"
     ]
    }
   ],
   "source": [
    "t = \"PYthon\"                # Global Variable\n",
    "u = \"analytics\"             # Global Variable\n",
    "\n",
    "def scope_var():\n",
    "    print(u)\n",
    "    u = \"Data analytics\"         # Local Variable\n",
    "    print(\"T is \",t)\n",
    "scope_var()\n",
    "\n",
    "print(\"The value of t is \", t)\n",
    "print(\"The value of u is \", u) # Global Variable --- u"
   ]
  },
  {
   "cell_type": "code",
   "execution_count": 1,
   "id": "c71f4194",
   "metadata": {},
   "outputs": [
    {
     "ename": "NameError",
     "evalue": "name 't' is not defined",
     "output_type": "error",
     "traceback": [
      "\u001b[1;31m---------------------------------------------------------------------------\u001b[0m",
      "\u001b[1;31mNameError\u001b[0m                                 Traceback (most recent call last)",
      "Cell \u001b[1;32mIn[1], line 1\u001b[0m\n\u001b[1;32m----> 1\u001b[0m \u001b[38;5;28mprint\u001b[39m(\u001b[43mt\u001b[49m)\n\u001b[0;32m      2\u001b[0m t \u001b[38;5;241m=\u001b[39m \u001b[38;5;124m\"\u001b[39m\u001b[38;5;124mPYthon\u001b[39m\u001b[38;5;124m\"\u001b[39m                \u001b[38;5;66;03m# Global Variable\u001b[39;00m\n\u001b[0;32m      3\u001b[0m u \u001b[38;5;241m=\u001b[39m \u001b[38;5;124m\"\u001b[39m\u001b[38;5;124manalytics\u001b[39m\u001b[38;5;124m\"\u001b[39m             \u001b[38;5;66;03m# Global Variable\u001b[39;00m\n",
      "\u001b[1;31mNameError\u001b[0m: name 't' is not defined"
     ]
    }
   ],
   "source": [
    "print(t)\n",
    "t = \"PYthon\"                # Global Variable\n",
    "u = \"analytics\"             # Global Variable\n",
    "\n",
    "def scope_var():\n",
    "    print(u)\n",
    "    u = \"Data analytics\"         # Local Variable\n",
    "    print(\"T is \",t)\n",
    "scope_var()\n",
    "\n",
    "print(\"The value of t is \", t)\n",
    "print(\"The value of u is \", u) # Global Variable --- u"
   ]
  },
  {
   "cell_type": "code",
   "execution_count": 2,
   "id": "d47763b0",
   "metadata": {},
   "outputs": [
    {
     "ename": "UnboundLocalError",
     "evalue": "local variable 'u' referenced before assignment",
     "output_type": "error",
     "traceback": [
      "\u001b[1;31m---------------------------------------------------------------------------\u001b[0m",
      "\u001b[1;31mUnboundLocalError\u001b[0m                         Traceback (most recent call last)",
      "Cell \u001b[1;32mIn[2], line 8\u001b[0m\n\u001b[0;32m      6\u001b[0m     u \u001b[38;5;241m=\u001b[39m \u001b[38;5;124m\"\u001b[39m\u001b[38;5;124mData analytics\u001b[39m\u001b[38;5;124m\"\u001b[39m         \u001b[38;5;66;03m# Local Variable\u001b[39;00m\n\u001b[0;32m      7\u001b[0m     \u001b[38;5;28mprint\u001b[39m(\u001b[38;5;124m\"\u001b[39m\u001b[38;5;124mT is \u001b[39m\u001b[38;5;124m\"\u001b[39m,t)\n\u001b[1;32m----> 8\u001b[0m \u001b[43mscope_var\u001b[49m\u001b[43m(\u001b[49m\u001b[43m)\u001b[49m\n\u001b[0;32m     10\u001b[0m \u001b[38;5;28mprint\u001b[39m(\u001b[38;5;124m\"\u001b[39m\u001b[38;5;124mThe value of t is \u001b[39m\u001b[38;5;124m\"\u001b[39m, t)\n\u001b[0;32m     11\u001b[0m \u001b[38;5;28mprint\u001b[39m(\u001b[38;5;124m\"\u001b[39m\u001b[38;5;124mThe value of u is \u001b[39m\u001b[38;5;124m\"\u001b[39m, u)\n",
      "Cell \u001b[1;32mIn[2], line 5\u001b[0m, in \u001b[0;36mscope_var\u001b[1;34m()\u001b[0m\n\u001b[0;32m      4\u001b[0m \u001b[38;5;28;01mdef\u001b[39;00m \u001b[38;5;21mscope_var\u001b[39m():\n\u001b[1;32m----> 5\u001b[0m     \u001b[38;5;28mprint\u001b[39m(\u001b[38;5;124m\"\u001b[39m\u001b[38;5;124mValue of u inside fuction before declaring it as local is\u001b[39m\u001b[38;5;124m\"\u001b[39m,\u001b[43mu\u001b[49m)\n\u001b[0;32m      6\u001b[0m     u \u001b[38;5;241m=\u001b[39m \u001b[38;5;124m\"\u001b[39m\u001b[38;5;124mData analytics\u001b[39m\u001b[38;5;124m\"\u001b[39m         \u001b[38;5;66;03m# Local Variable\u001b[39;00m\n\u001b[0;32m      7\u001b[0m     \u001b[38;5;28mprint\u001b[39m(\u001b[38;5;124m\"\u001b[39m\u001b[38;5;124mT is \u001b[39m\u001b[38;5;124m\"\u001b[39m,t)\n",
      "\u001b[1;31mUnboundLocalError\u001b[0m: local variable 'u' referenced before assignment"
     ]
    }
   ],
   "source": [
    "t = \"PYthon\"                # Global Variable\n",
    "u = \"analytics\"             # Global Variable\n",
    "\n",
    "def scope_var():\n",
    "    print(\"Value of u inside fuction before declaring it as local is\",u)\n",
    "    u = \"Data analytics\"         # Local Variable\n",
    "    print(\"T is \",t)\n",
    "scope_var()\n",
    "\n",
    "print(\"The value of t is \", t)\n",
    "print(\"The value of u is \", u) # Global Variable --- u"
   ]
  },
  {
   "cell_type": "code",
   "execution_count": 3,
   "id": "762b245d",
   "metadata": {},
   "outputs": [
    {
     "ename": "IndentationError",
     "evalue": "unexpected indent (1064569394.py, line 7)",
     "output_type": "error",
     "traceback": [
      "\u001b[1;36m  Cell \u001b[1;32mIn[3], line 7\u001b[1;36m\u001b[0m\n\u001b[1;33m    print(\"T is \",t)\u001b[0m\n\u001b[1;37m    ^\u001b[0m\n\u001b[1;31mIndentationError\u001b[0m\u001b[1;31m:\u001b[0m unexpected indent\n"
     ]
    }
   ],
   "source": [
    "t = \"PYthon\"                # Global Variable\n",
    "u = \"analytics\"             # Global Variable\n",
    "\n",
    "def scope_var():\n",
    "    print(\"Value of u inside fuction before declaring it as local is\",u)\n",
    "u = \"Data analytics\"         # Local Variable\n",
    "    print(\"T is \",t)\n",
    "scope_var()\n",
    "\n",
    "print(\"The value of t is \", t)\n",
    "print(\"The value of u is \", u) # Global Variable --- u"
   ]
  },
  {
   "cell_type": "code",
   "execution_count": 4,
   "id": "f8277f00",
   "metadata": {},
   "outputs": [
    {
     "ename": "UnboundLocalError",
     "evalue": "local variable 'u' referenced before assignment",
     "output_type": "error",
     "traceback": [
      "\u001b[1;31m---------------------------------------------------------------------------\u001b[0m",
      "\u001b[1;31mUnboundLocalError\u001b[0m                         Traceback (most recent call last)",
      "Cell \u001b[1;32mIn[4], line 8\u001b[0m\n\u001b[0;32m      6\u001b[0m     u \u001b[38;5;241m=\u001b[39m \u001b[38;5;124m\"\u001b[39m\u001b[38;5;124mData analytics\u001b[39m\u001b[38;5;124m\"\u001b[39m         \u001b[38;5;66;03m# Local Variable\u001b[39;00m\n\u001b[0;32m      7\u001b[0m     \u001b[38;5;28mprint\u001b[39m(\u001b[38;5;124m\"\u001b[39m\u001b[38;5;124mT is \u001b[39m\u001b[38;5;124m\"\u001b[39m,t)\n\u001b[1;32m----> 8\u001b[0m \u001b[43mscope_var\u001b[49m\u001b[43m(\u001b[49m\u001b[43m)\u001b[49m\n\u001b[0;32m     10\u001b[0m \u001b[38;5;28mprint\u001b[39m(\u001b[38;5;124m\"\u001b[39m\u001b[38;5;124mThe value of t is \u001b[39m\u001b[38;5;124m\"\u001b[39m, t)\n\u001b[0;32m     11\u001b[0m \u001b[38;5;28mprint\u001b[39m(\u001b[38;5;124m\"\u001b[39m\u001b[38;5;124mThe value of u is \u001b[39m\u001b[38;5;124m\"\u001b[39m, u)\n",
      "Cell \u001b[1;32mIn[4], line 5\u001b[0m, in \u001b[0;36mscope_var\u001b[1;34m()\u001b[0m\n\u001b[0;32m      4\u001b[0m \u001b[38;5;28;01mdef\u001b[39;00m \u001b[38;5;21mscope_var\u001b[39m():\n\u001b[1;32m----> 5\u001b[0m     \u001b[38;5;28mprint\u001b[39m(\u001b[38;5;124m\"\u001b[39m\u001b[38;5;124mValue of u inside fuction before declaring it as local is\u001b[39m\u001b[38;5;124m\"\u001b[39m,\u001b[43mu\u001b[49m)\n\u001b[0;32m      6\u001b[0m     u \u001b[38;5;241m=\u001b[39m \u001b[38;5;124m\"\u001b[39m\u001b[38;5;124mData analytics\u001b[39m\u001b[38;5;124m\"\u001b[39m         \u001b[38;5;66;03m# Local Variable\u001b[39;00m\n\u001b[0;32m      7\u001b[0m     \u001b[38;5;28mprint\u001b[39m(\u001b[38;5;124m\"\u001b[39m\u001b[38;5;124mT is \u001b[39m\u001b[38;5;124m\"\u001b[39m,t)\n",
      "\u001b[1;31mUnboundLocalError\u001b[0m: local variable 'u' referenced before assignment"
     ]
    }
   ],
   "source": [
    "t = \"PYthon\"                # Global Variable\n",
    "u = \"analytics\"             # Global Variable\n",
    "\n",
    "def scope_var():\n",
    "    print(\"Value of u inside fuction before declaring it as local is\",u)\n",
    "    u = \"Data analytics\"         # Local Variable\n",
    "    print(\"T is \",t)\n",
    "scope_var()\n",
    "\n",
    "print(\"The value of t is \", t)\n",
    "print(\"The value of u is \", u) # Global Variable --- u"
   ]
  },
  {
   "cell_type": "code",
   "execution_count": 5,
   "id": "4b99d109",
   "metadata": {},
   "outputs": [
    {
     "name": "stdout",
     "output_type": "stream",
     "text": [
      "Data analytics\n",
      "T is  PYthon\n",
      "The value of t is  PYthon\n",
      "The value of u is  Data analytics\n"
     ]
    }
   ],
   "source": [
    "t = \"PYthon\"                # Global Variable\n",
    "u = \"analytics\"             # Global Variable\n",
    "\n",
    "def scope_var():\n",
    "    global u\n",
    "    u = \"Data analytics\"         # Local Variable\n",
    "    print(u)\n",
    "    print(\"T is \",t)\n",
    "scope_var()\n",
    "\n",
    "print(\"The value of t is \", t)\n",
    "print(\"The value of u is \", u) # Global Variable --- u"
   ]
  },
  {
   "cell_type": "code",
   "execution_count": 6,
   "id": "92fae0df",
   "metadata": {},
   "outputs": [
    {
     "name": "stdout",
     "output_type": "stream",
     "text": [
      "Data analytics\n",
      "T is  PYthon\n",
      "The value of t is  PYthon\n",
      "The value of u is  analytics\n"
     ]
    }
   ],
   "source": [
    "t = \"PYthon\"                # Global Variable\n",
    "u = \"analytics\"             # Global Variable\n",
    "\n",
    "def scope_var():\n",
    "    u = \"Data analytics\"         # Local Variable\n",
    "    print(u)\n",
    "    print(\"T is \",t)\n",
    "scope_var()\n",
    "\n",
    "print(\"The value of t is \", t)\n",
    "print(\"The value of u is \", u) # Global Variable --- u"
   ]
  },
  {
   "cell_type": "code",
   "execution_count": null,
   "id": "011f119c",
   "metadata": {},
   "outputs": [],
   "source": []
  },
  {
   "cell_type": "markdown",
   "id": "d2c90149",
   "metadata": {},
   "source": [
    "## Global Variable"
   ]
  },
  {
   "cell_type": "code",
   "execution_count": 8,
   "id": "52ef7ee8",
   "metadata": {},
   "outputs": [
    {
     "name": "stdout",
     "output_type": "stream",
     "text": [
      "x inside the functionis: 55\n",
      "x outside functionis is: 55\n"
     ]
    }
   ],
   "source": [
    "# Creating a global variable inside a function.\n",
    "\n",
    "def test_global():\n",
    "    global x\n",
    "    x = 55\n",
    "    print(\"x inside the functionis:\", x)\n",
    "    \n",
    "test_global()\n",
    "print(\"x outside functionis is:\",x)"
   ]
  },
  {
   "cell_type": "code",
   "execution_count": 9,
   "id": "f23db0b3",
   "metadata": {},
   "outputs": [
    {
     "ename": "SyntaxError",
     "evalue": "invalid syntax (2959196334.py, line 4)",
     "output_type": "error",
     "traceback": [
      "\u001b[1;36m  Cell \u001b[1;32mIn[9], line 4\u001b[1;36m\u001b[0m\n\u001b[1;33m    global x = 55\u001b[0m\n\u001b[1;37m             ^\u001b[0m\n\u001b[1;31mSyntaxError\u001b[0m\u001b[1;31m:\u001b[0m invalid syntax\n"
     ]
    }
   ],
   "source": [
    "# Creating a global variable inside a function.\n",
    "\n",
    "def test_global():\n",
    "    global x = 55\n",
    "    print(\"x inside the functionis:\", x)\n",
    "    \n",
    "test_global()\n",
    "print(\"x outside functionis is:\",x)"
   ]
  },
  {
   "cell_type": "code",
   "execution_count": 10,
   "id": "bb7c6a51",
   "metadata": {},
   "outputs": [
    {
     "ename": "SyntaxError",
     "evalue": "invalid syntax (2407974879.py, line 4)",
     "output_type": "error",
     "traceback": [
      "\u001b[1;36m  Cell \u001b[1;32mIn[10], line 4\u001b[1;36m\u001b[0m\n\u001b[1;33m    global x == 55\u001b[0m\n\u001b[1;37m             ^\u001b[0m\n\u001b[1;31mSyntaxError\u001b[0m\u001b[1;31m:\u001b[0m invalid syntax\n"
     ]
    }
   ],
   "source": [
    "# Creating a global variable inside a function.\n",
    "\n",
    "def test_global():\n",
    "    global x == 55\n",
    "    print(\"x inside the functionis:\", x)\n",
    "    \n",
    "test_global()\n",
    "print(\"x outside functionis is:\",x)"
   ]
  },
  {
   "cell_type": "code",
   "execution_count": null,
   "id": "ee9a7d34",
   "metadata": {},
   "outputs": [],
   "source": []
  },
  {
   "cell_type": "code",
   "execution_count": 1,
   "id": "64515471",
   "metadata": {},
   "outputs": [
    {
     "name": "stdout",
     "output_type": "stream",
     "text": [
      "88\n"
     ]
    },
    {
     "ename": "NameError",
     "evalue": "name 'a' is not defined",
     "output_type": "error",
     "traceback": [
      "\u001b[1;31m---------------------------------------------------------------------------\u001b[0m",
      "\u001b[1;31mNameError\u001b[0m                                 Traceback (most recent call last)",
      "Cell \u001b[1;32mIn[1], line 7\u001b[0m\n\u001b[0;32m      4\u001b[0m     \u001b[38;5;28mprint\u001b[39m(\u001b[38;5;28msum\u001b[39m)\n\u001b[0;32m      6\u001b[0m show_result()\n\u001b[1;32m----> 7\u001b[0m \u001b[38;5;28mprint\u001b[39m(\u001b[43ma\u001b[49m)\n",
      "\u001b[1;31mNameError\u001b[0m: name 'a' is not defined"
     ]
    }
   ],
   "source": [
    "def show_result():\n",
    "    a = 10\n",
    "    sum = a+78\n",
    "    print(sum)\n",
    "\n",
    "show_result()\n",
    "print(a)"
   ]
  },
  {
   "cell_type": "code",
   "execution_count": 2,
   "id": "23cd09be",
   "metadata": {},
   "outputs": [
    {
     "name": "stdout",
     "output_type": "stream",
     "text": [
      "88\n",
      "10\n"
     ]
    }
   ],
   "source": [
    "def show_result():\n",
    "    global a\n",
    "    a = 10\n",
    "    sum = a+78\n",
    "    print(sum)\n",
    "\n",
    "show_result()\n",
    "print(a)"
   ]
  },
  {
   "cell_type": "code",
   "execution_count": null,
   "id": "afc069a3",
   "metadata": {},
   "outputs": [],
   "source": []
  },
  {
   "cell_type": "code",
   "execution_count": 3,
   "id": "1b88ad2c",
   "metadata": {},
   "outputs": [
    {
     "name": "stdout",
     "output_type": "stream",
     "text": [
      "hi\n",
      "Hello World\n"
     ]
    }
   ],
   "source": [
    "x = \"Hello World\"\n",
    "\n",
    "def print_result():\n",
    "    x = \"hi\"\n",
    "    print(x)\n",
    "\n",
    "print_result()\n",
    "print(x)"
   ]
  },
  {
   "cell_type": "code",
   "execution_count": 4,
   "id": "f6269a40",
   "metadata": {},
   "outputs": [
    {
     "name": "stdout",
     "output_type": "stream",
     "text": [
      "Hello World\n",
      "hi\n"
     ]
    }
   ],
   "source": [
    "x = \"Hello World\"\n",
    "print(x)\n",
    "\n",
    "def print_result():\n",
    "    x = \"hi\"\n",
    "    print(x)\n",
    "\n",
    "print_result()"
   ]
  },
  {
   "cell_type": "code",
   "execution_count": 5,
   "id": "f6e3c99b",
   "metadata": {},
   "outputs": [
    {
     "name": "stdout",
     "output_type": "stream",
     "text": [
      "Hello World\n",
      "hi\n"
     ]
    }
   ],
   "source": [
    "x = \"Hello World\"\n",
    "\n",
    "def print_result():\n",
    "    x = \"hi\"\n",
    "    print(x)\n",
    "\n",
    "print(x)    \n",
    "print_result()     ##  First \"Hello World\" is print as it is given Before the \"Calling of Function\""
   ]
  },
  {
   "cell_type": "code",
   "execution_count": 6,
   "id": "d4290404",
   "metadata": {},
   "outputs": [
    {
     "name": "stdout",
     "output_type": "stream",
     "text": [
      "Hello World\n"
     ]
    }
   ],
   "source": [
    "x = \"Hello World\"\n",
    "\n",
    "def print_result():\n",
    "    x = \"hi\"\n",
    "    print(x)     ## \"Function is ENDED HERE --- Function is CLOSED here\"\n",
    "    ## \"Function is NOT called -- It is lying DORMANT in the PYthon\" \n",
    "    ## \"Calling the Function breaks the Dormancy Period of the Function\"\n",
    "\n",
    "print(x) "
   ]
  },
  {
   "cell_type": "code",
   "execution_count": 7,
   "id": "bb994cb8",
   "metadata": {},
   "outputs": [
    {
     "name": "stdout",
     "output_type": "stream",
     "text": [
      "11\n",
      "10\n",
      "11\n"
     ]
    }
   ],
   "source": [
    "def addition(x,y):\n",
    "    sum =x+y\n",
    "    return sum\n",
    "\n",
    "print(addition(1,10))\n",
    "print(addition(6,4))\n",
    "print(addition(5,6))"
   ]
  },
  {
   "cell_type": "code",
   "execution_count": null,
   "id": "dfea7655",
   "metadata": {},
   "outputs": [],
   "source": []
  },
  {
   "cell_type": "markdown",
   "id": "abc7f79b",
   "metadata": {},
   "source": [
    "## \"Nonlocal Variables\""
   ]
  },
  {
   "cell_type": "code",
   "execution_count": 9,
   "id": "84cbeb12",
   "metadata": {},
   "outputs": [
    {
     "name": "stdout",
     "output_type": "stream",
     "text": [
      "67\n",
      "89\n"
     ]
    }
   ],
   "source": [
    "def outer():\n",
    "    w=89\n",
    "    def inner():\n",
    "        w=67\n",
    "        print(w)\n",
    "    inner()\n",
    "    print(w)\n",
    "\n",
    "outer()     ##  First outer function is called then inner function will be called \"BY outer function\""
   ]
  },
  {
   "cell_type": "code",
   "execution_count": 1,
   "id": "2cd22f10",
   "metadata": {},
   "outputs": [
    {
     "name": "stdout",
     "output_type": "stream",
     "text": [
      "89\n",
      "89\n"
     ]
    }
   ],
   "source": [
    "def outer():\n",
    "    w=89\n",
    "    def inner():\n",
    "        print(w)\n",
    "    inner()\n",
    "    print(w)   ## Inner function and outer function accessing the same value of \"w\"\n",
    "\n",
    "outer()     ##  First outer function is called then inner function will be called \"BY outer function\""
   ]
  },
  {
   "cell_type": "code",
   "execution_count": 4,
   "id": "2eaa8ba1",
   "metadata": {},
   "outputs": [],
   "source": [
    "def outer():\n",
    "    w=89\n",
    "    def inner():\n",
    "        w=67\n",
    "        print(w)\n",
    "    inner()\n",
    "    print(w)\n",
    "    ##  No output as -- outer function is never called."
   ]
  },
  {
   "cell_type": "code",
   "execution_count": null,
   "id": "cd34c37d",
   "metadata": {},
   "outputs": [],
   "source": []
  },
  {
   "cell_type": "code",
   "execution_count": null,
   "id": "26824c14",
   "metadata": {},
   "outputs": [],
   "source": []
  },
  {
   "cell_type": "code",
   "execution_count": 2,
   "id": "328d0a1d",
   "metadata": {},
   "outputs": [
    {
     "name": "stdout",
     "output_type": "stream",
     "text": [
      "67\n",
      "67\n"
     ]
    }
   ],
   "source": [
    "def outer():\n",
    "    w=89\n",
    "    def inner():\n",
    "        nonlocal w  ## this nonlocal \"w\" wiil access the value of \"outer function's 'w' and value of outer 'w' WILL change\"\n",
    "        w=67        ## nonlocal means \"NOT local of inner function\"\n",
    "        print(w)\n",
    "    inner()\n",
    "    print(w)\n",
    "\n",
    "outer()     ##  First outer function is called then inner function will be called \"BY outer function\""
   ]
  },
  {
   "cell_type": "code",
   "execution_count": 5,
   "id": "198740b9",
   "metadata": {},
   "outputs": [
    {
     "ename": "SyntaxError",
     "evalue": "no binding for nonlocal 'w' found (1177231103.py, line 4)",
     "output_type": "error",
     "traceback": [
      "\u001b[1;36m  Cell \u001b[1;32mIn[5], line 4\u001b[1;36m\u001b[0m\n\u001b[1;33m    nonlocal w  ## this nonlocal \"w\" wiil access the value of \"outer function's 'w' and value of outer 'w' WILL change\"\u001b[0m\n\u001b[1;37m    ^\u001b[0m\n\u001b[1;31mSyntaxError\u001b[0m\u001b[1;31m:\u001b[0m no binding for nonlocal 'w' found\n"
     ]
    }
   ],
   "source": [
    "def outer():\n",
    "    \n",
    "    def inner():\n",
    "        nonlocal w  ## this nonlocal \"w\" wiil access the value of \"outer function's 'w' and value of outer 'w' WILL change\"\n",
    "        w=67        ## nonlocal means \"NOT local of inner function\"\n",
    "        print(w)\n",
    "    inner()\n",
    "    print(w)\n",
    "\n",
    "outer()     ##  First outer function is called then inner function will be called \"BY outer function\""
   ]
  },
  {
   "cell_type": "code",
   "execution_count": 6,
   "id": "fa952469",
   "metadata": {},
   "outputs": [
    {
     "name": "stdout",
     "output_type": "stream",
     "text": [
      "23\n",
      "23\n"
     ]
    }
   ],
   "source": [
    "def outer():\n",
    "    # w=2\n",
    "    x= 12\n",
    "    def inner():\n",
    "        nonlocal x\n",
    "        ## nonlocal w  ## this nonlocal \"w\" wiil access the value of \"outer function's 'w' and value of outer 'w' WILL change\"\n",
    "        ## w=67        ## nonlocal means \"NOT local of inner function\"\n",
    "        x = 23\n",
    "        print(x)\n",
    "    inner()\n",
    "    print(x)\n",
    "\n",
    "outer()     ##  First outer function is called then inner function will be called \"BY outer function\""
   ]
  },
  {
   "cell_type": "code",
   "execution_count": 7,
   "id": "cce775fc",
   "metadata": {},
   "outputs": [
    {
     "ename": "SyntaxError",
     "evalue": "no binding for nonlocal 'x' found (1909239921.py, line 5)",
     "output_type": "error",
     "traceback": [
      "\u001b[1;36m  Cell \u001b[1;32mIn[7], line 5\u001b[1;36m\u001b[0m\n\u001b[1;33m    nonlocal x\u001b[0m\n\u001b[1;37m    ^\u001b[0m\n\u001b[1;31mSyntaxError\u001b[0m\u001b[1;31m:\u001b[0m no binding for nonlocal 'x' found\n"
     ]
    }
   ],
   "source": [
    "def outer():\n",
    "    # w=2\n",
    "    ## x= 12\n",
    "    def inner():\n",
    "        nonlocal x\n",
    "        ## nonlocal w  ## this nonlocal \"w\" wiil access the value of \"outer function's 'w' and value of outer 'w' WILL change\"\n",
    "        ## w=67        ## nonlocal means \"NOT local of inner function\"\n",
    "        x = 23\n",
    "        print(x)\n",
    "    inner()\n",
    "    print(x)\n",
    "\n",
    "outer()     ##  First outer function is called then inner function will be called \"BY outer function\""
   ]
  },
  {
   "cell_type": "code",
   "execution_count": null,
   "id": "cb128291",
   "metadata": {},
   "outputs": [],
   "source": []
  },
  {
   "cell_type": "code",
   "execution_count": 8,
   "id": "ad7b695d",
   "metadata": {},
   "outputs": [
    {
     "data": {
      "text/plain": [
       "110"
      ]
     },
     "execution_count": 8,
     "metadata": {},
     "output_type": "execute_result"
    }
   ],
   "source": [
    "# Arguments and parameters\n",
    "\n",
    "def my_func(x,y):    ## here x and y are the parameters\n",
    "    return x+y\n",
    "\n",
    "my_func(45,65)   # here 45 and 65 are the arguments"
   ]
  },
  {
   "cell_type": "code",
   "execution_count": null,
   "id": "17d33821",
   "metadata": {},
   "outputs": [],
   "source": []
  },
  {
   "cell_type": "code",
   "execution_count": 9,
   "id": "40ac75b7",
   "metadata": {},
   "outputs": [
    {
     "ename": "TypeError",
     "evalue": "my_function() takes 0 positional arguments but 1 was given",
     "output_type": "error",
     "traceback": [
      "\u001b[1;31m---------------------------------------------------------------------------\u001b[0m",
      "\u001b[1;31mTypeError\u001b[0m                                 Traceback (most recent call last)",
      "Cell \u001b[1;32mIn[9], line 4\u001b[0m\n\u001b[0;32m      1\u001b[0m \u001b[38;5;28;01mdef\u001b[39;00m \u001b[38;5;21mmy_function\u001b[39m():\n\u001b[0;32m      2\u001b[0m     \u001b[38;5;28;01mpass\u001b[39;00m\n\u001b[1;32m----> 4\u001b[0m \u001b[43mmy_function\u001b[49m\u001b[43m(\u001b[49m\u001b[38;5;241;43m55\u001b[39;49m\u001b[43m)\u001b[49m\n",
      "\u001b[1;31mTypeError\u001b[0m: my_function() takes 0 positional arguments but 1 was given"
     ]
    }
   ],
   "source": [
    "def my_function():\n",
    "    pass\n",
    "\n",
    "my_function(55)"
   ]
  },
  {
   "cell_type": "code",
   "execution_count": null,
   "id": "ab94ddf0",
   "metadata": {},
   "outputs": [],
   "source": []
  },
  {
   "cell_type": "code",
   "execution_count": null,
   "id": "60321c89",
   "metadata": {},
   "outputs": [],
   "source": []
  },
  {
   "cell_type": "markdown",
   "id": "35b3f762",
   "metadata": {},
   "source": [
    "# PYthon Function Arguments\n",
    "\n",
    "### 1. Positional Arguments\n",
    "\n",
    "### 2. Keyword Arguments\n",
    "\n",
    "### 3. Default Arguments\n",
    "\n",
    "### 4. Varialble_length  Arguments"
   ]
  },
  {
   "cell_type": "markdown",
   "id": "0576de51",
   "metadata": {},
   "source": [
    "### Positional arguments -- are arguments that are passed to a function in proper positional order\n",
    "\n",
    "### Similar to a \"vector quantity\""
   ]
  },
  {
   "cell_type": "code",
   "execution_count": 10,
   "id": "64307dd0",
   "metadata": {},
   "outputs": [
    {
     "data": {
      "text/plain": [
       "44"
      ]
     },
     "execution_count": 10,
     "metadata": {},
     "output_type": "execute_result"
    }
   ],
   "source": [
    "def calc(p,q):\n",
    "    diff=p-q\n",
    "    return diff\n",
    "\n",
    "calc(89,45)      ## p=89, q=45"
   ]
  },
  {
   "cell_type": "code",
   "execution_count": 11,
   "id": "5d552a2c",
   "metadata": {},
   "outputs": [
    {
     "data": {
      "text/plain": [
       "-44"
      ]
     },
     "execution_count": 11,
     "metadata": {},
     "output_type": "execute_result"
    }
   ],
   "source": [
    "def calc(p,q):\n",
    "    diff=p-q\n",
    "    return diff\n",
    "\n",
    "calc(45,89)      ## p=45, q=89"
   ]
  },
  {
   "cell_type": "code",
   "execution_count": 12,
   "id": "f690f453",
   "metadata": {},
   "outputs": [
    {
     "ename": "TypeError",
     "evalue": "calc() takes 2 positional arguments but 3 were given",
     "output_type": "error",
     "traceback": [
      "\u001b[1;31m---------------------------------------------------------------------------\u001b[0m",
      "\u001b[1;31mTypeError\u001b[0m                                 Traceback (most recent call last)",
      "Cell \u001b[1;32mIn[12], line 1\u001b[0m\n\u001b[1;32m----> 1\u001b[0m \u001b[43mcalc\u001b[49m\u001b[43m(\u001b[49m\u001b[38;5;241;43m89\u001b[39;49m\u001b[43m,\u001b[49m\u001b[38;5;241;43m45\u001b[39;49m\u001b[43m,\u001b[49m\u001b[38;5;241;43m56\u001b[39;49m\u001b[43m)\u001b[49m\n",
      "\u001b[1;31mTypeError\u001b[0m: calc() takes 2 positional arguments but 3 were given"
     ]
    }
   ],
   "source": [
    "calc(89,45,56)"
   ]
  },
  {
   "cell_type": "code",
   "execution_count": 13,
   "id": "ab620905",
   "metadata": {},
   "outputs": [
    {
     "data": {
      "text/plain": [
       "44"
      ]
     },
     "execution_count": 13,
     "metadata": {},
     "output_type": "execute_result"
    }
   ],
   "source": [
    "def calc(q,p):\n",
    "    diff=p-q\n",
    "    return diff\n",
    "\n",
    "calc(45,89)      ## p=89, q=45"
   ]
  },
  {
   "cell_type": "code",
   "execution_count": 14,
   "id": "64878c6c",
   "metadata": {},
   "outputs": [
    {
     "data": {
      "text/plain": [
       "-44"
      ]
     },
     "execution_count": 14,
     "metadata": {},
     "output_type": "execute_result"
    }
   ],
   "source": [
    "def calc(q,p):\n",
    "    diff=p-q\n",
    "    return diff\n",
    "\n",
    "calc(89,45)      ## p=45, q=89  -- positional argument"
   ]
  },
  {
   "cell_type": "code",
   "execution_count": null,
   "id": "589e7e83",
   "metadata": {},
   "outputs": [],
   "source": []
  },
  {
   "cell_type": "markdown",
   "id": "b71d40b9",
   "metadata": {},
   "source": [
    "### Keyword arguments -- \n",
    "\n",
    "- Values get assigned to the parameters by their names(keywords)\n",
    "- Here the order of the arguments does not matter."
   ]
  },
  {
   "cell_type": "code",
   "execution_count": 15,
   "id": "28eeb093",
   "metadata": {},
   "outputs": [
    {
     "data": {
      "text/plain": [
       "-8"
      ]
     },
     "execution_count": 15,
     "metadata": {},
     "output_type": "execute_result"
    }
   ],
   "source": [
    "def calc(p,q):\n",
    "    diff = p-q\n",
    "    return diff\n",
    "\n",
    "calc(p=2,q=10)"
   ]
  },
  {
   "cell_type": "code",
   "execution_count": 16,
   "id": "f6d0fa6b",
   "metadata": {},
   "outputs": [
    {
     "data": {
      "text/plain": [
       "-8"
      ]
     },
     "execution_count": 16,
     "metadata": {},
     "output_type": "execute_result"
    }
   ],
   "source": [
    "def calc(p,q):\n",
    "    diff = p-q\n",
    "    return diff\n",
    "\n",
    "calc(q=10,p=2)"
   ]
  },
  {
   "cell_type": "code",
   "execution_count": 17,
   "id": "e85b6afb",
   "metadata": {},
   "outputs": [
    {
     "ename": "TypeError",
     "evalue": "calc() got an unexpected keyword argument 'a'",
     "output_type": "error",
     "traceback": [
      "\u001b[1;31m---------------------------------------------------------------------------\u001b[0m",
      "\u001b[1;31mTypeError\u001b[0m                                 Traceback (most recent call last)",
      "Cell \u001b[1;32mIn[17], line 1\u001b[0m\n\u001b[1;32m----> 1\u001b[0m \u001b[43mcalc\u001b[49m\u001b[43m(\u001b[49m\u001b[43ma\u001b[49m\u001b[38;5;241;43m=\u001b[39;49m\u001b[38;5;241;43m10\u001b[39;49m\u001b[43m,\u001b[49m\u001b[43mb\u001b[49m\u001b[38;5;241;43m=\u001b[39;49m\u001b[38;5;241;43m2\u001b[39;49m\u001b[43m)\u001b[49m\n",
      "\u001b[1;31mTypeError\u001b[0m: calc() got an unexpected keyword argument 'a'"
     ]
    }
   ],
   "source": [
    "calc(a=10,b=2)"
   ]
  },
  {
   "cell_type": "code",
   "execution_count": null,
   "id": "8140c357",
   "metadata": {},
   "outputs": [],
   "source": []
  },
  {
   "cell_type": "markdown",
   "id": "c413d7d6",
   "metadata": {},
   "source": [
    "## Default Arguments - \n",
    "\n",
    "### Take the default value during the function call if we do not pass them."
   ]
  },
  {
   "cell_type": "code",
   "execution_count": 18,
   "id": "43514bf9",
   "metadata": {},
   "outputs": [
    {
     "name": "stdout",
     "output_type": "stream",
     "text": [
      "Hi!\n"
     ]
    }
   ],
   "source": [
    "def get_message(msg=\"Hello World\"):\n",
    "    print(msg)\n",
    "\n",
    "get_message(\"Hi!\")   ## Default Argument"
   ]
  },
  {
   "cell_type": "code",
   "execution_count": 19,
   "id": "12c6be91",
   "metadata": {},
   "outputs": [
    {
     "name": "stdout",
     "output_type": "stream",
     "text": [
      "Hello World\n"
     ]
    }
   ],
   "source": [
    "get_message()"
   ]
  },
  {
   "cell_type": "code",
   "execution_count": 20,
   "id": "21526fe9",
   "metadata": {},
   "outputs": [
    {
     "name": "stdout",
     "output_type": "stream",
     "text": [
      "Hi!\n"
     ]
    }
   ],
   "source": [
    "def get_message(msg):\n",
    "    print(msg)\n",
    "\n",
    "get_message(\"Hi!\")"
   ]
  },
  {
   "cell_type": "code",
   "execution_count": 21,
   "id": "aa1fb811",
   "metadata": {},
   "outputs": [
    {
     "ename": "TypeError",
     "evalue": "get_message() missing 1 required positional argument: 'msg'",
     "output_type": "error",
     "traceback": [
      "\u001b[1;31m---------------------------------------------------------------------------\u001b[0m",
      "\u001b[1;31mTypeError\u001b[0m                                 Traceback (most recent call last)",
      "Cell \u001b[1;32mIn[21], line 4\u001b[0m\n\u001b[0;32m      1\u001b[0m \u001b[38;5;28;01mdef\u001b[39;00m \u001b[38;5;21mget_message\u001b[39m(msg):\n\u001b[0;32m      2\u001b[0m     \u001b[38;5;28mprint\u001b[39m(msg)\n\u001b[1;32m----> 4\u001b[0m \u001b[43mget_message\u001b[49m\u001b[43m(\u001b[49m\u001b[43m)\u001b[49m\n",
      "\u001b[1;31mTypeError\u001b[0m: get_message() missing 1 required positional argument: 'msg'"
     ]
    }
   ],
   "source": [
    "def get_message(msg):\n",
    "    print(msg)\n",
    "\n",
    "get_message()"
   ]
  },
  {
   "cell_type": "code",
   "execution_count": 22,
   "id": "3c22beb1",
   "metadata": {},
   "outputs": [
    {
     "name": "stdout",
     "output_type": "stream",
     "text": [
      "Hi!,DATA\n"
     ]
    }
   ],
   "source": [
    "def get_message(msg=\"Hello World\"):\n",
    "    print(msg)\n",
    "\n",
    "get_message(\"Hi!,DATA\")"
   ]
  },
  {
   "cell_type": "code",
   "execution_count": 23,
   "id": "6812af10",
   "metadata": {},
   "outputs": [
    {
     "ename": "TypeError",
     "evalue": "get_message() takes from 0 to 1 positional arguments but 2 were given",
     "output_type": "error",
     "traceback": [
      "\u001b[1;31m---------------------------------------------------------------------------\u001b[0m",
      "\u001b[1;31mTypeError\u001b[0m                                 Traceback (most recent call last)",
      "Cell \u001b[1;32mIn[23], line 4\u001b[0m\n\u001b[0;32m      1\u001b[0m \u001b[38;5;28;01mdef\u001b[39;00m \u001b[38;5;21mget_message\u001b[39m(msg\u001b[38;5;241m=\u001b[39m\u001b[38;5;124m\"\u001b[39m\u001b[38;5;124mHello World\u001b[39m\u001b[38;5;124m\"\u001b[39m):\n\u001b[0;32m      2\u001b[0m     \u001b[38;5;28mprint\u001b[39m(msg)\n\u001b[1;32m----> 4\u001b[0m \u001b[43mget_message\u001b[49m\u001b[43m(\u001b[49m\u001b[38;5;124;43m\"\u001b[39;49m\u001b[38;5;124;43mHi!\u001b[39;49m\u001b[38;5;124;43m\"\u001b[39;49m\u001b[43m,\u001b[49m\u001b[38;5;124;43m\"\u001b[39;49m\u001b[38;5;124;43mDATA\u001b[39;49m\u001b[38;5;124;43m\"\u001b[39;49m\u001b[43m)\u001b[49m\n",
      "\u001b[1;31mTypeError\u001b[0m: get_message() takes from 0 to 1 positional arguments but 2 were given"
     ]
    }
   ],
   "source": [
    "def get_message(msg=\"Hello World\"):\n",
    "    print(msg)\n",
    "\n",
    "get_message(\"Hi!\",\"DATA\")"
   ]
  },
  {
   "cell_type": "code",
   "execution_count": 24,
   "id": "a5ec270b",
   "metadata": {},
   "outputs": [
    {
     "name": "stdout",
     "output_type": "stream",
     "text": [
      "Hi!,DATA\n"
     ]
    }
   ],
   "source": [
    "def get_message(msg=\"Hello World\",q=33):\n",
    "    print(msg)\n",
    "\n",
    "get_message(\"Hi!,DATA\")"
   ]
  },
  {
   "cell_type": "code",
   "execution_count": 25,
   "id": "21897f45",
   "metadata": {},
   "outputs": [
    {
     "name": "stdout",
     "output_type": "stream",
     "text": [
      "Hi!,DATA\n"
     ]
    }
   ],
   "source": [
    "def get_message(msg=\"Hello World\",q=33):\n",
    "    print(msg)\n",
    "\n",
    "get_message(\"Hi!,DATA\",23)"
   ]
  },
  {
   "cell_type": "code",
   "execution_count": 26,
   "id": "96e44f9c",
   "metadata": {},
   "outputs": [
    {
     "ename": "NameError",
     "evalue": "name 'p' is not defined",
     "output_type": "error",
     "traceback": [
      "\u001b[1;31m---------------------------------------------------------------------------\u001b[0m",
      "\u001b[1;31mNameError\u001b[0m                                 Traceback (most recent call last)",
      "Cell \u001b[1;32mIn[26], line 4\u001b[0m\n\u001b[0;32m      1\u001b[0m \u001b[38;5;28;01mdef\u001b[39;00m \u001b[38;5;21mget_message\u001b[39m(msg\u001b[38;5;241m=\u001b[39m\u001b[38;5;124m\"\u001b[39m\u001b[38;5;124mHello World\u001b[39m\u001b[38;5;124m\"\u001b[39m,q\u001b[38;5;241m=\u001b[39m\u001b[38;5;241m33\u001b[39m):\n\u001b[0;32m      2\u001b[0m     \u001b[38;5;28mprint\u001b[39m(msg,p)\n\u001b[1;32m----> 4\u001b[0m \u001b[43mget_message\u001b[49m\u001b[43m(\u001b[49m\u001b[38;5;124;43m\"\u001b[39;49m\u001b[38;5;124;43mHi!,DATA\u001b[39;49m\u001b[38;5;124;43m\"\u001b[39;49m\u001b[43m,\u001b[49m\u001b[38;5;241;43m23\u001b[39;49m\u001b[43m)\u001b[49m\n",
      "Cell \u001b[1;32mIn[26], line 2\u001b[0m, in \u001b[0;36mget_message\u001b[1;34m(msg, q)\u001b[0m\n\u001b[0;32m      1\u001b[0m \u001b[38;5;28;01mdef\u001b[39;00m \u001b[38;5;21mget_message\u001b[39m(msg\u001b[38;5;241m=\u001b[39m\u001b[38;5;124m\"\u001b[39m\u001b[38;5;124mHello World\u001b[39m\u001b[38;5;124m\"\u001b[39m,q\u001b[38;5;241m=\u001b[39m\u001b[38;5;241m33\u001b[39m):\n\u001b[1;32m----> 2\u001b[0m     \u001b[38;5;28mprint\u001b[39m(msg,\u001b[43mp\u001b[49m)\n",
      "\u001b[1;31mNameError\u001b[0m: name 'p' is not defined"
     ]
    }
   ],
   "source": [
    "def get_message(msg=\"Hello World\",q=33):\n",
    "    print(msg,p)\n",
    "\n",
    "get_message(\"Hi!,DATA\",23)"
   ]
  },
  {
   "cell_type": "code",
   "execution_count": 27,
   "id": "5b78337d",
   "metadata": {},
   "outputs": [
    {
     "name": "stdout",
     "output_type": "stream",
     "text": [
      "Hi!,DATA 23\n"
     ]
    }
   ],
   "source": [
    "def get_message(msg=\"Hello World\",q=33):\n",
    "    print(msg,q)\n",
    "\n",
    "get_message(\"Hi!,DATA\",23)"
   ]
  },
  {
   "cell_type": "code",
   "execution_count": 28,
   "id": "05edb32e",
   "metadata": {},
   "outputs": [
    {
     "name": "stdout",
     "output_type": "stream",
     "text": [
      "Hello World\n"
     ]
    }
   ],
   "source": [
    "def get_message(msg=\"Hello World\",q=33):\n",
    "    print(msg)\n",
    "\n",
    "get_message()      ## Default Argument"
   ]
  },
  {
   "cell_type": "code",
   "execution_count": 29,
   "id": "83517fcc",
   "metadata": {},
   "outputs": [
    {
     "name": "stdout",
     "output_type": "stream",
     "text": [
      "Hello World 33\n"
     ]
    }
   ],
   "source": [
    "def get_message(msg=\"Hello World\",q=33):\n",
    "    print(msg,q)\n",
    "\n",
    "get_message()   ## Default Argument"
   ]
  },
  {
   "cell_type": "code",
   "execution_count": 30,
   "id": "ff3b1223",
   "metadata": {},
   "outputs": [
    {
     "ename": "TypeError",
     "evalue": "get_message() missing 1 required positional argument: 'msg'",
     "output_type": "error",
     "traceback": [
      "\u001b[1;31m---------------------------------------------------------------------------\u001b[0m",
      "\u001b[1;31mTypeError\u001b[0m                                 Traceback (most recent call last)",
      "Cell \u001b[1;32mIn[30], line 4\u001b[0m\n\u001b[0;32m      1\u001b[0m \u001b[38;5;28;01mdef\u001b[39;00m \u001b[38;5;21mget_message\u001b[39m(msg,q\u001b[38;5;241m=\u001b[39m\u001b[38;5;241m33\u001b[39m):\n\u001b[0;32m      2\u001b[0m     \u001b[38;5;28mprint\u001b[39m(msg,q)\n\u001b[1;32m----> 4\u001b[0m \u001b[43mget_message\u001b[49m\u001b[43m(\u001b[49m\u001b[43m)\u001b[49m\n",
      "\u001b[1;31mTypeError\u001b[0m: get_message() missing 1 required positional argument: 'msg'"
     ]
    }
   ],
   "source": [
    "def get_message(msg,q=33):\n",
    "    print(msg,q)\n",
    "\n",
    "get_message()   ## Default Argument"
   ]
  },
  {
   "cell_type": "code",
   "execution_count": 31,
   "id": "f80cb1c4",
   "metadata": {},
   "outputs": [
    {
     "name": "stdout",
     "output_type": "stream",
     "text": [
      "xyz 33\n"
     ]
    }
   ],
   "source": [
    "def get_message(msg,q=33):\n",
    "    print(msg,q)\n",
    "\n",
    "get_message(\"xyz\")   ## Default Argument"
   ]
  },
  {
   "cell_type": "code",
   "execution_count": 32,
   "id": "2d998541",
   "metadata": {},
   "outputs": [
    {
     "name": "stdout",
     "output_type": "stream",
     "text": [
      "Hi! 55\n"
     ]
    }
   ],
   "source": [
    "def get_message(msg,q=33):  ## Default Argument  --- (msg - is a parameter)\n",
    "    print(msg,q)\n",
    "\n",
    "get_message(msg = \"Hi!\",q=55)   ## Keyword Argument"
   ]
  },
  {
   "cell_type": "code",
   "execution_count": null,
   "id": "7f308eee",
   "metadata": {},
   "outputs": [],
   "source": []
  },
  {
   "cell_type": "markdown",
   "id": "13cc317e",
   "metadata": {},
   "source": [
    "## 21 July 2023"
   ]
  },
  {
   "cell_type": "code",
   "execution_count": 4,
   "id": "8ab78183",
   "metadata": {},
   "outputs": [
    {
     "data": {
      "text/plain": [
       "32"
      ]
     },
     "execution_count": 4,
     "metadata": {},
     "output_type": "execute_result"
    }
   ],
   "source": [
    "def my_func(x,y):\n",
    "    return x+y\n",
    "my_func(x=10,y=22)"
   ]
  },
  {
   "cell_type": "code",
   "execution_count": null,
   "id": "c09ff53d",
   "metadata": {},
   "outputs": [],
   "source": []
  },
  {
   "cell_type": "markdown",
   "id": "1e6395b5",
   "metadata": {},
   "source": [
    "## Variable-length Arguments  OR Arbitary Arguments:\n",
    "\n",
    "### When we need to pass multiple arguments to the function \"THEN\" we can use Variable-length arguments\n",
    "\n",
    "\n",
    "#### 1. Arbitary Positional Arguments\n",
    "\n",
    "#### 2. Arbitary Keywords Arguments"
   ]
  },
  {
   "cell_type": "code",
   "execution_count": 5,
   "id": "70029079",
   "metadata": {},
   "outputs": [
    {
     "name": "stdout",
     "output_type": "stream",
     "text": [
      "(6, 8, 5)\n",
      "6.333333333333333\n"
     ]
    }
   ],
   "source": [
    "# Arbitary Positional Arguments\n",
    "\n",
    "def average(*numbers):       ## \"Numbers are passed in Tuple Data type\"\n",
    "    print(numbers)\n",
    "    sum=0\n",
    "    for x in numbers:\n",
    "        sum += x\n",
    "    print(sum/len(numbers))\n",
    "\n",
    "average(6,8,5)"
   ]
  },
  {
   "cell_type": "code",
   "execution_count": 3,
   "id": "57786389",
   "metadata": {},
   "outputs": [
    {
     "name": "stdout",
     "output_type": "stream",
     "text": [
      "(6, 8, 5)\n",
      "6.333333333333333\n"
     ]
    }
   ],
   "source": [
    "# Arbitary Positional Arguments\n",
    "\n",
    "def average(*DATA):       ## \"Numbers are passed in Tuple Data type\"\n",
    "    print(DATA)\n",
    "    sum=0\n",
    "    for x in DATA:\n",
    "        sum += x\n",
    "    print(sum/len(DATA))\n",
    "\n",
    "average(6,8,5)"
   ]
  },
  {
   "cell_type": "code",
   "execution_count": 4,
   "id": "8c54ee56",
   "metadata": {},
   "outputs": [
    {
     "ename": "SyntaxError",
     "evalue": "invalid syntax (414338956.py, line 3)",
     "output_type": "error",
     "traceback": [
      "\u001b[1;36m  Cell \u001b[1;32mIn[4], line 3\u001b[1;36m\u001b[0m\n\u001b[1;33m    def average(DATA*):       ## \"Numbers are passed in Tuple Data type\"\u001b[0m\n\u001b[1;37m                    ^\u001b[0m\n\u001b[1;31mSyntaxError\u001b[0m\u001b[1;31m:\u001b[0m invalid syntax\n"
     ]
    }
   ],
   "source": [
    "# Arbitary Positional Arguments\n",
    "\n",
    "def average(DATA*):       ## \"Numbers are passed in Tuple Data type\"\n",
    "    print(DATA)\n",
    "    sum=0\n",
    "    for x in DATA:\n",
    "        sum += x\n",
    "    print(sum/len(DATA))\n",
    "\n",
    "average(6,8,5)"
   ]
  },
  {
   "cell_type": "code",
   "execution_count": null,
   "id": "e2a22da1",
   "metadata": {},
   "outputs": [],
   "source": []
  },
  {
   "cell_type": "code",
   "execution_count": 11,
   "id": "1311bdcc",
   "metadata": {},
   "outputs": [
    {
     "name": "stdout",
     "output_type": "stream",
     "text": [
      "(6, 4, 12)\n",
      "-0.6666666666666666\n"
     ]
    }
   ],
   "source": [
    "# Arbitary Positional Arguments\n",
    "\n",
    "def average(*numbers):       ## \"Numbers are passed in Tuple Data type\"\n",
    "    print(numbers)\n",
    "    sum=20\n",
    "    for x in numbers:\n",
    "        sum = sum -x\n",
    "    print(sum/len(numbers))\n",
    "\n",
    "average(6,4,12)"
   ]
  },
  {
   "cell_type": "code",
   "execution_count": 14,
   "id": "b065a998",
   "metadata": {},
   "outputs": [
    {
     "name": "stdout",
     "output_type": "stream",
     "text": [
      "(6, 4, 12)\n",
      "-2\n"
     ]
    }
   ],
   "source": [
    "# Arbitary Positional Arguments\n",
    "\n",
    "def testing(*numbers):       ## \"Numbers are passed in Tuple Data type\"\n",
    "    print(numbers)\n",
    "    sum=20\n",
    "    for x in numbers:\n",
    "        sum = sum -x\n",
    "    print(sum)\n",
    "testing(6,4,12)"
   ]
  },
  {
   "cell_type": "code",
   "execution_count": 13,
   "id": "de880fcf",
   "metadata": {},
   "outputs": [
    {
     "ename": "SyntaxError",
     "evalue": "incomplete input (2015528485.py, line 1)",
     "output_type": "error",
     "traceback": [
      "\u001b[1;36m  Cell \u001b[1;32mIn[13], line 1\u001b[1;36m\u001b[0m\n\u001b[1;33m    def my_func(x,y):\u001b[0m\n\u001b[1;37m                     ^\u001b[0m\n\u001b[1;31mSyntaxError\u001b[0m\u001b[1;31m:\u001b[0m incomplete input\n"
     ]
    }
   ],
   "source": [
    "def my_func(x,y):"
   ]
  },
  {
   "cell_type": "code",
   "execution_count": 15,
   "id": "13820ca9",
   "metadata": {},
   "outputs": [
    {
     "ename": "TypeError",
     "evalue": "my_func() missing 2 required positional arguments: 'x' and 'y'",
     "output_type": "error",
     "traceback": [
      "\u001b[1;31m---------------------------------------------------------------------------\u001b[0m",
      "\u001b[1;31mTypeError\u001b[0m                                 Traceback (most recent call last)",
      "Cell \u001b[1;32mIn[15], line 4\u001b[0m\n\u001b[0;32m      1\u001b[0m \u001b[38;5;28;01mdef\u001b[39;00m \u001b[38;5;21mmy_func\u001b[39m(x,y):\n\u001b[0;32m      2\u001b[0m     \u001b[38;5;28;01mpass\u001b[39;00m\n\u001b[1;32m----> 4\u001b[0m \u001b[43mmy_func\u001b[49m\u001b[43m(\u001b[49m\u001b[43m)\u001b[49m\n",
      "\u001b[1;31mTypeError\u001b[0m: my_func() missing 2 required positional arguments: 'x' and 'y'"
     ]
    }
   ],
   "source": [
    "def my_func(x,y):\n",
    "    pass\n",
    "\n",
    "my_func()"
   ]
  },
  {
   "cell_type": "code",
   "execution_count": 16,
   "id": "c8ed5976",
   "metadata": {},
   "outputs": [],
   "source": [
    "def my_func(x,y):\n",
    "    pass\n",
    "\n",
    "my_func(x,y)"
   ]
  },
  {
   "cell_type": "code",
   "execution_count": null,
   "id": "de9ff934",
   "metadata": {},
   "outputs": [],
   "source": []
  },
  {
   "cell_type": "code",
   "execution_count": null,
   "id": "7f7184d6",
   "metadata": {},
   "outputs": [],
   "source": []
  },
  {
   "cell_type": "code",
   "execution_count": 6,
   "id": "c04973de",
   "metadata": {},
   "outputs": [
    {
     "ename": "SyntaxError",
     "evalue": "cannot assign to literal here. Maybe you meant '==' instead of '='? (152307954.py, line 1)",
     "output_type": "error",
     "traceback": [
      "\u001b[1;36m  Cell \u001b[1;32mIn[6], line 1\u001b[1;36m\u001b[0m\n\u001b[1;33m    dict = {\"a\"=1,\"b\"=2,\"c\"=3}\u001b[0m\n\u001b[1;37m            ^\u001b[0m\n\u001b[1;31mSyntaxError\u001b[0m\u001b[1;31m:\u001b[0m cannot assign to literal here. Maybe you meant '==' instead of '='?\n"
     ]
    }
   ],
   "source": [
    "dict = {\"a\"=1,\"b\"=2,\"c\"=3}\n",
    "for x in dict:\n",
    "    print(x)"
   ]
  },
  {
   "cell_type": "code",
   "execution_count": 7,
   "id": "45eadbb1",
   "metadata": {},
   "outputs": [
    {
     "name": "stdout",
     "output_type": "stream",
     "text": [
      "a\n",
      "b\n",
      "c\n"
     ]
    }
   ],
   "source": [
    "dict = {\"a\":1,\"b\":2,\"c\":3}\n",
    "for x in dict:\n",
    "    print(x)"
   ]
  },
  {
   "cell_type": "code",
   "execution_count": 8,
   "id": "31fdc67b",
   "metadata": {},
   "outputs": [
    {
     "name": "stdout",
     "output_type": "stream",
     "text": [
      "a\n",
      "b\n",
      "c\n"
     ]
    },
    {
     "data": {
      "text/plain": [
       "1"
      ]
     },
     "execution_count": 8,
     "metadata": {},
     "output_type": "execute_result"
    }
   ],
   "source": [
    "dict = {\"a\":1,\"b\":2,\"c\":3}\n",
    "for x in dict:\n",
    "    print(x)\n",
    "dict[\"a\"]                 ## Access the value of dictionary"
   ]
  },
  {
   "cell_type": "code",
   "execution_count": 17,
   "id": "4cfd89e1",
   "metadata": {},
   "outputs": [
    {
     "name": "stdout",
     "output_type": "stream",
     "text": [
      "{'math': 90, 'english': 70, 'science': 95}\n",
      "math\n",
      "math = 90\n",
      "english\n",
      "english = 70\n",
      "science\n",
      "science = 95\n"
     ]
    }
   ],
   "source": [
    "# Arbitary keyword Argument\n",
    "\n",
    "def my_func(**keyword_arg):   ## keyword_Arg is passed in the form of \"dictionary\" - Data Type\n",
    "    print(keyword_arg)\n",
    "    for sub in keyword_arg:\n",
    "        ## get argument name\n",
    "        sub_name = sub\n",
    "        print(sub_name)\n",
    "        ## get argument value\n",
    "        sub_marks = keyword_arg[sub]\n",
    "        print(sub, \"=\", sub_marks)\n",
    "\n",
    "\n",
    "## pass multiple keyword arguments\n",
    "my_func(math=90, english=70, science=95)"
   ]
  },
  {
   "cell_type": "code",
   "execution_count": 19,
   "id": "500f5964",
   "metadata": {},
   "outputs": [
    {
     "name": "stdout",
     "output_type": "stream",
     "text": [
      "{'math': 90, 'english': 70, 'science': 95, 'SST': 85, 'Hindi': 77, 'SKT': 99}\n",
      "math\n",
      "math = 90\n",
      "english\n",
      "english = 70\n",
      "science\n",
      "science = 95\n",
      "SST\n",
      "SST = 85\n",
      "Hindi\n",
      "Hindi = 77\n",
      "SKT\n",
      "SKT = 99\n"
     ]
    }
   ],
   "source": [
    "# Arbitary keyword Argument\n",
    "\n",
    "def my_func(**keyword_arg):   ## keyword_Arg is passed in the form of \"dictionary\" - Data Type\n",
    "    print(keyword_arg)\n",
    "    for sub in keyword_arg:\n",
    "        ## get argument name\n",
    "        sub_name = sub\n",
    "        print(sub_name)\n",
    "        ## get argument value\n",
    "        sub_marks = keyword_arg[sub]\n",
    "        print(sub, \"=\", sub_marks)\n",
    "\n",
    "\n",
    "## pass multiple keyword arguments\n",
    "my_func(math=90, english=70, science=95,SST=85,Hindi=77,SKT=99)"
   ]
  },
  {
   "cell_type": "code",
   "execution_count": null,
   "id": "a90c689b",
   "metadata": {},
   "outputs": [],
   "source": []
  },
  {
   "cell_type": "code",
   "execution_count": 18,
   "id": "ec54c9fe",
   "metadata": {},
   "outputs": [
    {
     "name": "stdout",
     "output_type": "stream",
     "text": [
      "{'math': 90, 'english': 70, 'science': 95}\n"
     ]
    },
    {
     "ename": "NameError",
     "evalue": "name 'sub' is not defined",
     "output_type": "error",
     "traceback": [
      "\u001b[1;31m---------------------------------------------------------------------------\u001b[0m",
      "\u001b[1;31mNameError\u001b[0m                                 Traceback (most recent call last)",
      "Cell \u001b[1;32mIn[18], line 14\u001b[0m\n\u001b[0;32m     10\u001b[0m     \u001b[38;5;28mprint\u001b[39m(sub, \u001b[38;5;124m\"\u001b[39m\u001b[38;5;124m=\u001b[39m\u001b[38;5;124m\"\u001b[39m, sub_marks)\n\u001b[0;32m     13\u001b[0m \u001b[38;5;66;03m## pass multiple keyword arguments\u001b[39;00m\n\u001b[1;32m---> 14\u001b[0m \u001b[43mmy_func\u001b[49m\u001b[43m(\u001b[49m\u001b[43mmath\u001b[49m\u001b[38;5;241;43m=\u001b[39;49m\u001b[38;5;241;43m90\u001b[39;49m\u001b[43m,\u001b[49m\u001b[43m \u001b[49m\u001b[43menglish\u001b[49m\u001b[38;5;241;43m=\u001b[39;49m\u001b[38;5;241;43m70\u001b[39;49m\u001b[43m,\u001b[49m\u001b[43m \u001b[49m\u001b[43mscience\u001b[49m\u001b[38;5;241;43m=\u001b[39;49m\u001b[38;5;241;43m95\u001b[39;49m\u001b[43m)\u001b[49m\n",
      "Cell \u001b[1;32mIn[18], line 6\u001b[0m, in \u001b[0;36mmy_func\u001b[1;34m(**keyword_arg)\u001b[0m\n\u001b[0;32m      4\u001b[0m \u001b[38;5;28mprint\u001b[39m(keyword_arg)\n\u001b[0;32m      5\u001b[0m \u001b[38;5;66;03m## get argument name\u001b[39;00m\n\u001b[1;32m----> 6\u001b[0m sub_name \u001b[38;5;241m=\u001b[39m \u001b[43msub\u001b[49m\n\u001b[0;32m      7\u001b[0m \u001b[38;5;28mprint\u001b[39m(sub_name)\n\u001b[0;32m      8\u001b[0m \u001b[38;5;66;03m## get argument value\u001b[39;00m\n",
      "\u001b[1;31mNameError\u001b[0m: name 'sub' is not defined"
     ]
    }
   ],
   "source": [
    "# Arbitary keyword Argument\n",
    "\n",
    "def my_func(**keyword_arg):   ## keyword_Arg is passed in the form of \"dictionary\" - Data Type\n",
    "    print(keyword_arg)\n",
    "    ## get argument name\n",
    "    sub_name = sub\n",
    "    print(sub_name)\n",
    "    ## get argument value\n",
    "    sub_marks = keyword_arg[sub]\n",
    "    print(sub, \"=\", sub_marks)\n",
    "\n",
    "\n",
    "## pass multiple keyword arguments\n",
    "my_func(math=90, english=70, science=95)"
   ]
  },
  {
   "cell_type": "code",
   "execution_count": null,
   "id": "72425c8d",
   "metadata": {},
   "outputs": [],
   "source": []
  },
  {
   "cell_type": "code",
   "execution_count": null,
   "id": "ffab3942",
   "metadata": {},
   "outputs": [],
   "source": [
    "def test():\n",
    "    test()\n",
    "    \n",
    "test()     ## loop is FORMED-- It \"WILL\" not stop --- \"Warning don't RUN IT!\""
   ]
  },
  {
   "cell_type": "code",
   "execution_count": null,
   "id": "0e3554bf",
   "metadata": {},
   "outputs": [],
   "source": [
    "while True:\n",
    "    pass    ## loop is FORMED-- It \"WILL\" not stop --- \"Warning don't RUN IT!\""
   ]
  },
  {
   "cell_type": "code",
   "execution_count": 21,
   "id": "4f884953",
   "metadata": {},
   "outputs": [
    {
     "ename": "SyntaxError",
     "evalue": "'break' outside loop (3656375386.py, line 3)",
     "output_type": "error",
     "traceback": [
      "\u001b[1;36m  Cell \u001b[1;32mIn[21], line 3\u001b[1;36m\u001b[0m\n\u001b[1;33m    break\u001b[0m\n\u001b[1;37m    ^\u001b[0m\n\u001b[1;31mSyntaxError\u001b[0m\u001b[1;31m:\u001b[0m 'break' outside loop\n"
     ]
    }
   ],
   "source": [
    "def test(x):\n",
    "    if x==10:\n",
    "        break\n",
    "    test(x+1)\n",
    "    \n",
    "test()"
   ]
  },
  {
   "cell_type": "code",
   "execution_count": null,
   "id": "760958b4",
   "metadata": {},
   "outputs": [],
   "source": [
    "def test(x):\n",
    "    if x==10:\n",
    "        return None\n",
    "    test(x+1)\n",
    "    \n",
    "test(45)   ## loop is FORMED-- It \"WILL\" not stop --- \"Warning don't RUN IT!\""
   ]
  },
  {
   "cell_type": "code",
   "execution_count": 22,
   "id": "8a3609b4",
   "metadata": {},
   "outputs": [],
   "source": [
    "def test(x):\n",
    "    if x==10:\n",
    "        return None\n",
    "    test(x-1)\n",
    "    \n",
    "test(45)"
   ]
  },
  {
   "cell_type": "code",
   "execution_count": 25,
   "id": "73a96ef9",
   "metadata": {},
   "outputs": [
    {
     "name": "stdout",
     "output_type": "stream",
     "text": [
      "Hello World\n",
      "None\n",
      "None\n",
      "None\n",
      "None\n"
     ]
    }
   ],
   "source": [
    "def test(x):\n",
    "    if x==10:\n",
    "        return \"Hello World\"\n",
    "    print(test(x-1))\n",
    "    \n",
    "test(15)"
   ]
  },
  {
   "cell_type": "code",
   "execution_count": 27,
   "id": "7f46c905",
   "metadata": {},
   "outputs": [
    {
     "data": {
      "text/plain": [
       "23"
      ]
     },
     "execution_count": 27,
     "metadata": {},
     "output_type": "execute_result"
    }
   ],
   "source": [
    "def test(x):\n",
    "    if x==10:\n",
    "        return \"Hello World\"\n",
    "    return 23\n",
    "    \n",
    "test(15)"
   ]
  },
  {
   "cell_type": "code",
   "execution_count": 26,
   "id": "f20fc745",
   "metadata": {},
   "outputs": [
    {
     "data": {
      "text/plain": [
       "'Hello World'"
      ]
     },
     "execution_count": 26,
     "metadata": {},
     "output_type": "execute_result"
    }
   ],
   "source": [
    "def test(x):\n",
    "    if x==10:\n",
    "        return \"Hello World\"\n",
    "    return test(x-1)\n",
    "    \n",
    "test(15)"
   ]
  },
  {
   "cell_type": "code",
   "execution_count": null,
   "id": "f45c3fce",
   "metadata": {},
   "outputs": [],
   "source": []
  }
 ],
 "metadata": {
  "kernelspec": {
   "display_name": "Python 3 (ipykernel)",
   "language": "python",
   "name": "python3"
  },
  "language_info": {
   "codemirror_mode": {
    "name": "ipython",
    "version": 3
   },
   "file_extension": ".py",
   "mimetype": "text/x-python",
   "name": "python",
   "nbconvert_exporter": "python",
   "pygments_lexer": "ipython3",
   "version": "3.10.9"
  }
 },
 "nbformat": 4,
 "nbformat_minor": 5
}
