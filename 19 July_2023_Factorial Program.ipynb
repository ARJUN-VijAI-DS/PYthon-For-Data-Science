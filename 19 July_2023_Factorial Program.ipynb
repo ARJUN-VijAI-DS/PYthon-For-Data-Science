{
 "cells": [
  {
   "cell_type": "code",
   "execution_count": 2,
   "id": "46a7b17b",
   "metadata": {},
   "outputs": [
    {
     "name": "stdout",
     "output_type": "stream",
     "text": [
      "Enter a Positive Integer:9\n",
      "0\n",
      "0\n",
      "0\n",
      "0\n",
      "0\n",
      "0\n",
      "0\n",
      "0\n",
      "0\n",
      "The Factorial of number N is: 0\n"
     ]
    }
   ],
   "source": [
    "# Find the factorial of a number using while loop. And 0! == 1.\n",
    "\n",
    "N = int(input(\"Enter a Positive Integer:\"))\n",
    "i=1\n",
    "n=0\n",
    "while i<=N:\n",
    "    n = (N-1)*n\n",
    "    print(n)\n",
    "    i = i+1\n",
    "print(\"The Factorial of number N is:\",n)"
   ]
  },
  {
   "cell_type": "code",
   "execution_count": 2,
   "id": "c7915828",
   "metadata": {},
   "outputs": [
    {
     "name": "stdout",
     "output_type": "stream",
     "text": [
      "Enter a Positive Integer:4\n",
      "3\n",
      "12\n",
      "39\n",
      "120\n",
      "The Factorial of number N is: 120\n"
     ]
    }
   ],
   "source": [
    "# Find the factorial of a number using while loop. And 0! == 1.\n",
    "\n",
    "N = int(input(\"Enter a Positive Integer:\"))\n",
    "i=1\n",
    "n=0\n",
    "while i<=N:\n",
    "    n = (N-1)*(n+1)\n",
    "    print(n)\n",
    "    i = i+1\n",
    "print(\"The Factorial of number N is:\",n)"
   ]
  },
  {
   "cell_type": "code",
   "execution_count": null,
   "id": "765e8aa3",
   "metadata": {},
   "outputs": [],
   "source": []
  },
  {
   "cell_type": "code",
   "execution_count": null,
   "id": "56317345",
   "metadata": {},
   "outputs": [],
   "source": []
  },
  {
   "cell_type": "code",
   "execution_count": null,
   "id": "6d08b73f",
   "metadata": {},
   "outputs": [],
   "source": []
  },
  {
   "cell_type": "code",
   "execution_count": null,
   "id": "17fddf48",
   "metadata": {},
   "outputs": [],
   "source": []
  }
 ],
 "metadata": {
  "kernelspec": {
   "display_name": "Python 3 (ipykernel)",
   "language": "python",
   "name": "python3"
  },
  "language_info": {
   "codemirror_mode": {
    "name": "ipython",
    "version": 3
   },
   "file_extension": ".py",
   "mimetype": "text/x-python",
   "name": "python",
   "nbconvert_exporter": "python",
   "pygments_lexer": "ipython3",
   "version": "3.10.9"
  }
 },
 "nbformat": 4,
 "nbformat_minor": 5
}
