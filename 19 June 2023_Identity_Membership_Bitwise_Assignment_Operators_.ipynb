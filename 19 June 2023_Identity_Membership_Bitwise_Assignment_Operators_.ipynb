{
 "cells": [
  {
   "cell_type": "markdown",
   "id": "ae6091c4",
   "metadata": {},
   "source": [
    "# Identity Operators   --- \"is\"       and    \"is not\"\n",
    "\n",
    "### \"is\" and \"is not\" are opposite of each other.\n",
    "### Identity Operators   --- \"is\"       and    \"is not\"   ----- Check's whether two variables or objects share the same memory location or NOT.\n",
    "### Address OR Memory location"
   ]
  },
  {
   "cell_type": "code",
   "execution_count": 1,
   "id": "d17f9ade",
   "metadata": {},
   "outputs": [
    {
     "name": "stdout",
     "output_type": "stream",
     "text": [
      "2780459565648\n",
      "2780459565712\n",
      "False\n"
     ]
    }
   ],
   "source": [
    "X = 12\n",
    "Y = 14\n",
    "print(id(X))\n",
    "print(id(Y))\n",
    "print(X is Y)"
   ]
  },
  {
   "cell_type": "code",
   "execution_count": 2,
   "id": "315f0e5f",
   "metadata": {},
   "outputs": [
    {
     "name": "stdout",
     "output_type": "stream",
     "text": [
      "2780459565648\n",
      "2780459565648\n",
      "True\n"
     ]
    }
   ],
   "source": [
    "X = 12\n",
    "Y = 12\n",
    "print(id(X))\n",
    "print(id(Y))\n",
    "print(X is Y)"
   ]
  },
  {
   "cell_type": "code",
   "execution_count": 3,
   "id": "61feb7dc",
   "metadata": {},
   "outputs": [
    {
     "name": "stdout",
     "output_type": "stream",
     "text": [
      "2780459565648\n",
      "2780459565712\n",
      "True\n"
     ]
    }
   ],
   "source": [
    "X = 12\n",
    "Y = 14\n",
    "print(id(X))\n",
    "print(id(Y))\n",
    "print(X is not Y)"
   ]
  },
  {
   "cell_type": "code",
   "execution_count": 4,
   "id": "9adf916a",
   "metadata": {},
   "outputs": [
    {
     "name": "stdout",
     "output_type": "stream",
     "text": [
      "2780459565648\n",
      "2780459565648\n",
      "False\n"
     ]
    }
   ],
   "source": [
    "X = 12\n",
    "Y = 12\n",
    "print(id(X))\n",
    "print(id(Y))\n",
    "print(X is not Y)"
   ]
  },
  {
   "cell_type": "code",
   "execution_count": 5,
   "id": "6e1c8808",
   "metadata": {},
   "outputs": [
    {
     "data": {
      "text/plain": [
       "False"
      ]
     },
     "execution_count": 5,
     "metadata": {},
     "output_type": "execute_result"
    }
   ],
   "source": [
    "a = [12]             #  Examples of List DATA -- TYPE\n",
    "b = [12]\n",
    "a is b"
   ]
  },
  {
   "cell_type": "code",
   "execution_count": 6,
   "id": "6e3a17cc",
   "metadata": {},
   "outputs": [
    {
     "data": {
      "text/plain": [
       "True"
      ]
     },
     "execution_count": 6,
     "metadata": {},
     "output_type": "execute_result"
    }
   ],
   "source": [
    "a = [12]             #  Examples of List DATA -- TYPE\n",
    "b = [12]\n",
    "a is not b"
   ]
  },
  {
   "cell_type": "code",
   "execution_count": 7,
   "id": "c182232e",
   "metadata": {},
   "outputs": [
    {
     "name": "stdout",
     "output_type": "stream",
     "text": [
      "False\n",
      "True\n"
     ]
    }
   ],
   "source": [
    "a = [12]             #  Examples of List DATA -- TYPE\n",
    "b = [12]\n",
    "print(a is b)        # Differet memory location  -- False\n",
    "print(a==b)          # Value Check  -- Same value  -- True"
   ]
  },
  {
   "cell_type": "code",
   "execution_count": 8,
   "id": "87b261cc",
   "metadata": {},
   "outputs": [
    {
     "name": "stdout",
     "output_type": "stream",
     "text": [
      "False\n",
      "True\n",
      "2780544056768\n",
      "2780544055488\n"
     ]
    }
   ],
   "source": [
    "a = [12]             #  Examples of List DATA -- TYPE\n",
    "b = [12]\n",
    "print(a is b)        # Differet memory location  -- False\n",
    "print(a==b)          # Value Check  -- Same value  -- True\n",
    "\n",
    "print(id(a))\n",
    "print(id(b))"
   ]
  },
  {
   "cell_type": "markdown",
   "id": "c7a19a9b",
   "metadata": {},
   "source": [
    "# Membership Operators   ---   \"in\"    and \"not in\"\n",
    "\n",
    "### Membership Operators   ---   \"in\"    and \"not in\"  -- Check's whether a value is present in a sequence of values.\n",
    "### Sequences  -- Stings, Lists, Tuples, sets, Dictionaries"
   ]
  },
  {
   "cell_type": "code",
   "execution_count": 9,
   "id": "9bd1dec6",
   "metadata": {},
   "outputs": [
    {
     "data": {
      "text/plain": [
       "True"
      ]
     },
     "execution_count": 9,
     "metadata": {},
     "output_type": "execute_result"
    }
   ],
   "source": [
    "a = \"data science\"\n",
    "          b = \"data\"\n",
    "b in a"
   ]
  },
  {
   "cell_type": "code",
   "execution_count": 10,
   "id": "39508c69",
   "metadata": {},
   "outputs": [
    {
     "data": {
      "text/plain": [
       "False"
      ]
     },
     "execution_count": 10,
     "metadata": {},
     "output_type": "execute_result"
    }
   ],
   "source": [
    "a = \"data science\"\n",
    "b = \"data\"\n",
    "b not in a"
   ]
  },
  {
   "cell_type": "code",
   "execution_count": 12,
   "id": "47c1455a",
   "metadata": {},
   "outputs": [
    {
     "data": {
      "text/plain": [
       "False"
      ]
     },
     "execution_count": 12,
     "metadata": {},
     "output_type": "execute_result"
    }
   ],
   "source": [
    "a = \"data science\"\n",
    "b = \"data\"\n",
    "\"AJ\" in a"
   ]
  },
  {
   "cell_type": "code",
   "execution_count": 13,
   "id": "e62c85e6",
   "metadata": {},
   "outputs": [
    {
     "data": {
      "text/plain": [
       "False"
      ]
     },
     "execution_count": 13,
     "metadata": {},
     "output_type": "execute_result"
    }
   ],
   "source": [
    "a = \"data science\"\n",
    "b = \"data\"\n",
    "\"string\" in a"
   ]
  },
  {
   "cell_type": "code",
   "execution_count": 14,
   "id": "43ca321c",
   "metadata": {},
   "outputs": [
    {
     "data": {
      "text/plain": [
       "True"
      ]
     },
     "execution_count": 14,
     "metadata": {},
     "output_type": "execute_result"
    }
   ],
   "source": [
    "c = [1,2,3,4,5]\n",
    "d = 4\n",
    "d in c"
   ]
  },
  {
   "cell_type": "code",
   "execution_count": 15,
   "id": "75345a07",
   "metadata": {},
   "outputs": [
    {
     "data": {
      "text/plain": [
       "False"
      ]
     },
     "execution_count": 15,
     "metadata": {},
     "output_type": "execute_result"
    }
   ],
   "source": [
    "c = [1,2,3,4,5]\n",
    "d = 4\n",
    "d not in c"
   ]
  },
  {
   "cell_type": "code",
   "execution_count": 16,
   "id": "cbe56bdb",
   "metadata": {},
   "outputs": [
    {
     "data": {
      "text/plain": [
       "False"
      ]
     },
     "execution_count": 16,
     "metadata": {},
     "output_type": "execute_result"
    }
   ],
   "source": [
    "c = [1,2,3,4,5]\n",
    "d = [4]\n",
    "d in c"
   ]
  },
  {
   "cell_type": "code",
   "execution_count": 17,
   "id": "b843e63e",
   "metadata": {},
   "outputs": [
    {
     "data": {
      "text/plain": [
       "True"
      ]
     },
     "execution_count": 17,
     "metadata": {},
     "output_type": "execute_result"
    }
   ],
   "source": [
    "c = [1,2,3,4,5]\n",
    "d = [4]\n",
    "d not in c"
   ]
  },
  {
   "cell_type": "code",
   "execution_count": 18,
   "id": "cf0f88c2",
   "metadata": {},
   "outputs": [
    {
     "data": {
      "text/plain": [
       "True"
      ]
     },
     "execution_count": 18,
     "metadata": {},
     "output_type": "execute_result"
    }
   ],
   "source": [
    "c = [1,2,3,[4],5]\n",
    "d = [4]\n",
    "d in c"
   ]
  },
  {
   "cell_type": "code",
   "execution_count": 1,
   "id": "100d8799",
   "metadata": {},
   "outputs": [
    {
     "data": {
      "text/plain": [
       "False"
      ]
     },
     "execution_count": 1,
     "metadata": {},
     "output_type": "execute_result"
    }
   ],
   "source": [
    "c = [1,2,3,[4],5]\n",
    "d = [4]\n",
    "d not in c"
   ]
  },
  {
   "cell_type": "code",
   "execution_count": 2,
   "id": "e17be4ba",
   "metadata": {},
   "outputs": [
    {
     "data": {
      "text/plain": [
       "True"
      ]
     },
     "execution_count": 2,
     "metadata": {},
     "output_type": "execute_result"
    }
   ],
   "source": [
    "c = [1,2,3,[4],5]\n",
    "d = [4]\n",
    "d in c"
   ]
  },
  {
   "cell_type": "code",
   "execution_count": 20,
   "id": "360f7a94",
   "metadata": {},
   "outputs": [
    {
     "data": {
      "text/plain": [
       "True"
      ]
     },
     "execution_count": 20,
     "metadata": {},
     "output_type": "execute_result"
    }
   ],
   "source": [
    "c = [1,2,3,[4],5,a]\n",
    "d = a\n",
    "d in c"
   ]
  },
  {
   "cell_type": "code",
   "execution_count": 21,
   "id": "85dd665a",
   "metadata": {},
   "outputs": [
    {
     "data": {
      "text/plain": [
       "False"
      ]
     },
     "execution_count": 21,
     "metadata": {},
     "output_type": "execute_result"
    }
   ],
   "source": [
    "c = [1,2,3,[4],5,a]         # a is defined previously  -- a is variable\n",
    "d = a\n",
    "d not in c"
   ]
  },
  {
   "cell_type": "code",
   "execution_count": 23,
   "id": "88b2a463",
   "metadata": {},
   "outputs": [
    {
     "ename": "NameError",
     "evalue": "name 'Aj' is not defined",
     "output_type": "error",
     "traceback": [
      "\u001b[1;31m---------------------------------------------------------------------------\u001b[0m",
      "\u001b[1;31mNameError\u001b[0m                                 Traceback (most recent call last)",
      "Cell \u001b[1;32mIn[23], line 1\u001b[0m\n\u001b[1;32m----> 1\u001b[0m c \u001b[38;5;241m=\u001b[39m [\u001b[43mAj\u001b[49m,rr,pp,[\u001b[38;5;241m4\u001b[39m],cc,aa]\n\u001b[0;32m      2\u001b[0m d \u001b[38;5;241m=\u001b[39m \u001b[38;5;124m'\u001b[39m\u001b[38;5;124mAj\u001b[39m\u001b[38;5;124m'\u001b[39m\n\u001b[0;32m      3\u001b[0m d \u001b[38;5;129;01min\u001b[39;00m c\n",
      "\u001b[1;31mNameError\u001b[0m: name 'Aj' is not defined"
     ]
    }
   ],
   "source": [
    "c = [Aj,rr,pp,[4],cc,aa]\n",
    "d = 'Aj'\n",
    "d in c"
   ]
  },
  {
   "cell_type": "code",
   "execution_count": 24,
   "id": "f43dc67f",
   "metadata": {},
   "outputs": [
    {
     "ename": "NameError",
     "evalue": "name 'Aj' is not defined",
     "output_type": "error",
     "traceback": [
      "\u001b[1;31m---------------------------------------------------------------------------\u001b[0m",
      "\u001b[1;31mNameError\u001b[0m                                 Traceback (most recent call last)",
      "Cell \u001b[1;32mIn[24], line 1\u001b[0m\n\u001b[1;32m----> 1\u001b[0m c \u001b[38;5;241m=\u001b[39m [\u001b[43mAj\u001b[49m,rr,pp,[\u001b[38;5;241m4\u001b[39m],cc,aa]\n\u001b[0;32m      2\u001b[0m d \u001b[38;5;241m=\u001b[39m \u001b[38;5;124m'\u001b[39m\u001b[38;5;124mrr\u001b[39m\u001b[38;5;124m'\u001b[39m\n\u001b[0;32m      3\u001b[0m d \u001b[38;5;129;01min\u001b[39;00m c\n",
      "\u001b[1;31mNameError\u001b[0m: name 'Aj' is not defined"
     ]
    }
   ],
   "source": [
    "c = [Aj,rr,pp,[4],cc,aa]\n",
    "d = 'rr'\n",
    "d in c"
   ]
  },
  {
   "cell_type": "markdown",
   "id": "772ff77a",
   "metadata": {},
   "source": [
    "###      Bitwise Operators  -- &  |   ^   ~    <<     >>\n",
    "\n",
    "###      & -- Bitwise Operators  -- AND\n",
    "\n",
    "###       | -- Bitwise Operators  -- OR\n",
    "\n",
    "###       ^ -- Bitwise Operators  -- XOR\n",
    "### ~ -- Bitwise Operators  -- NOT\n",
    "### << -- Bitwise Operators  -- Left Shift\n",
    "### >> -- Bitwise Operators  -- Right Shift"
   ]
  },
  {
   "cell_type": "code",
   "execution_count": 26,
   "id": "674d752e",
   "metadata": {},
   "outputs": [],
   "source": [
    "### Bitwise Operators  --   &    |     ^     ~      <<      >>\n",
    "###  & --  Bitwise Operators  -- AND\n",
    "###  | --  Bitwise Operators  -- OR\n",
    "###  ^ --  Bitwise Operators  -- XOR\n",
    "###  ~ --  Bitwise Operators  -- NOT\n",
    "###  << -- Bitwise Operators  -- Left Shift\n",
    "###  >> -- Bitwise Operators  -- Right Shift\n",
    "\n",
    "#   |  -- Pike  --- It is not slash"
   ]
  },
  {
   "cell_type": "markdown",
   "id": "4e0aca45",
   "metadata": {},
   "source": [
    "# Assignment Operators"
   ]
  },
  {
   "cell_type": "code",
   "execution_count": 27,
   "id": "a26e5c26",
   "metadata": {},
   "outputs": [],
   "source": [
    "# Assignment Operators  -- +=   -=  *=  /=  //=  **=  %=    |=   &=  ^=  >>=   <<=   \n",
    "\n",
    "#  \"~=\" is NOT -- an Assignment Operators"
   ]
  },
  {
   "cell_type": "code",
   "execution_count": 28,
   "id": "5b412915",
   "metadata": {},
   "outputs": [
    {
     "data": {
      "text/plain": [
       "11"
      ]
     },
     "execution_count": 28,
     "metadata": {},
     "output_type": "execute_result"
    }
   ],
   "source": [
    "x = 9\n",
    "x += 2     # x = x + 2\n",
    "x"
   ]
  },
  {
   "cell_type": "code",
   "execution_count": 29,
   "id": "2d6fdf3f",
   "metadata": {},
   "outputs": [
    {
     "data": {
      "text/plain": [
       "7"
      ]
     },
     "execution_count": 29,
     "metadata": {},
     "output_type": "execute_result"
    }
   ],
   "source": [
    "x = 9\n",
    "x -= 2     # x = x - 2\n",
    "x"
   ]
  },
  {
   "cell_type": "code",
   "execution_count": 30,
   "id": "3269acbb",
   "metadata": {},
   "outputs": [
    {
     "data": {
      "text/plain": [
       "18"
      ]
     },
     "execution_count": 30,
     "metadata": {},
     "output_type": "execute_result"
    }
   ],
   "source": [
    "x = 9\n",
    "x *= 2     # x = x * 2\n",
    "x"
   ]
  },
  {
   "cell_type": "code",
   "execution_count": 31,
   "id": "b501d79c",
   "metadata": {},
   "outputs": [
    {
     "data": {
      "text/plain": [
       "4.5"
      ]
     },
     "execution_count": 31,
     "metadata": {},
     "output_type": "execute_result"
    }
   ],
   "source": [
    "x = 9\n",
    "x /= 2     # x = x / 2\n",
    "x"
   ]
  },
  {
   "cell_type": "code",
   "execution_count": 32,
   "id": "d3a2389e",
   "metadata": {},
   "outputs": [
    {
     "data": {
      "text/plain": [
       "4"
      ]
     },
     "execution_count": 32,
     "metadata": {},
     "output_type": "execute_result"
    }
   ],
   "source": [
    "x = 9\n",
    "x //= 2     # x = x // 2\n",
    "x"
   ]
  },
  {
   "cell_type": "code",
   "execution_count": 33,
   "id": "8b470560",
   "metadata": {},
   "outputs": [
    {
     "data": {
      "text/plain": [
       "1"
      ]
     },
     "execution_count": 33,
     "metadata": {},
     "output_type": "execute_result"
    }
   ],
   "source": [
    "x = 9\n",
    "x %= 2     # x = x % 2\n",
    "x"
   ]
  },
  {
   "cell_type": "code",
   "execution_count": null,
   "id": "f139d4f7",
   "metadata": {},
   "outputs": [],
   "source": []
  }
 ],
 "metadata": {
  "kernelspec": {
   "display_name": "Python 3 (ipykernel)",
   "language": "python",
   "name": "python3"
  },
  "language_info": {
   "codemirror_mode": {
    "name": "ipython",
    "version": 3
   },
   "file_extension": ".py",
   "mimetype": "text/x-python",
   "name": "python",
   "nbconvert_exporter": "python",
   "pygments_lexer": "ipython3",
   "version": "3.10.9"
  }
 },
 "nbformat": 4,
 "nbformat_minor": 5
}
