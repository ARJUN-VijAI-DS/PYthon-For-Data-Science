{
 "cells": [
  {
   "cell_type": "raw",
   "id": "024fb9e9",
   "metadata": {},
   "source": [
    "# Raw NBConvert cells\n",
    "A raw cell is defined as content that should be included unmodified in nbconvert output. For example, this cell could include raw LaTeX for nbconvert to pdf via latex, or restructured text for use in Sphinx documentation. The notebook authoring environment does not render raw cells."
   ]
  },
  {
   "cell_type": "code",
   "execution_count": 9,
   "id": "bfccb12f",
   "metadata": {},
   "outputs": [],
   "source": [
    "## Raw NBConvert cells"
   ]
  },
  {
   "cell_type": "markdown",
   "id": "5a89e5f2",
   "metadata": {},
   "source": [
    "# BFS ---  BROKEN Focus Syndrome\n",
    "# KMF --   KEEP Moving Forward\n",
    "\n",
    "# Reduce your Interaction with EXTRA PEOPLE!"
   ]
  },
  {
   "cell_type": "markdown",
   "id": "4f1e3adc",
   "metadata": {},
   "source": [
    "## --> All data in a Python Program is represented by objects\n",
    "## -->Every object has an Identity(Address, Memory location), a type and a value.\n",
    "- An object's type \"determines\" the operations that the object supports and also defines the possible values for objects of that type.\n",
    "- The value of some objects can CHANGE. Objects whose value can change are said to be mutable; objects whose value is unchangeable once they are created are called IMMUTABLE.\n",
    "\n",
    "\n",
    "## An object that allows you to change its value without changing its identity is a Mutable Object"
   ]
  },
  {
   "cell_type": "code",
   "execution_count": 1,
   "id": "7ad99859",
   "metadata": {},
   "outputs": [
    {
     "name": "stdout",
     "output_type": "stream",
     "text": [
      "2897421327088\n",
      "2897454726192\n"
     ]
    }
   ],
   "source": [
    "x = \"Data\"\n",
    "print(id(x))\n",
    "x = \"scientist\"\n",
    "print(id(x))            # here 'x' is just pointing towards a location\n",
    "                        # A variable is NOT A CONTAINER but it points to an OBJECT."
   ]
  },
  {
   "cell_type": "markdown",
   "id": "b5a60662",
   "metadata": {},
   "source": [
    "# Very very Important Example"
   ]
  },
  {
   "cell_type": "code",
   "execution_count": 4,
   "id": "be83f835",
   "metadata": {},
   "outputs": [
    {
     "name": "stdout",
     "output_type": "stream",
     "text": [
      "2146278207168\n",
      "2146277982400\n"
     ]
    }
   ],
   "source": [
    "y = [12,34]                         # MUTABLE -- List, set, Dictionary\n",
    "print(id(y))\n",
    "\n",
    "y = [77,99]\n",
    "print(id(y))           ## previous VALUE OF 'y' IS LOST IN SPACE -- garbaged...."
   ]
  },
  {
   "cell_type": "code",
   "execution_count": 2,
   "id": "c595e6d2",
   "metadata": {},
   "outputs": [
    {
     "name": "stdout",
     "output_type": "stream",
     "text": [
      "2897455181312\n",
      "2897455181760\n"
     ]
    }
   ],
   "source": [
    "z = [55]\n",
    "print(id(z))\n",
    "\n",
    "z = [55]\n",
    "print(id(z))"
   ]
  },
  {
   "cell_type": "code",
   "execution_count": 4,
   "id": "a7d54dfe",
   "metadata": {},
   "outputs": [
    {
     "name": "stdout",
     "output_type": "stream",
     "text": [
      "2897455180928\n",
      "[12, 13, 14, 66, 'HELLO']\n",
      "2897455180928\n"
     ]
    }
   ],
   "source": [
    "# Mutable  --- The Id or location or Address of a list NEVER CHANGES even if \n",
    "## the said list elements edited.\n",
    "\n",
    "list = [12, 13, 14, 66, \"DATA\"]\n",
    "print(id(list))\n",
    "list[4]=\"HELLO\"\n",
    "print(list)\n",
    "print(id(list))"
   ]
  },
  {
   "cell_type": "code",
   "execution_count": 5,
   "id": "ad0ead6c",
   "metadata": {},
   "outputs": [
    {
     "name": "stdout",
     "output_type": "stream",
     "text": [
      "2897455180736\n",
      "[12, 13, 14, 66, 'DATA', 'Scientist']\n",
      "2897455180736\n"
     ]
    }
   ],
   "source": [
    "lisT = [12, 13, 14, 66, \"DATA\"]\n",
    "print(id(lisT))\n",
    "lisT.append(\"Scientist\")\n",
    "print(lisT)\n",
    "print(id(lisT))"
   ]
  },
  {
   "cell_type": "code",
   "execution_count": 7,
   "id": "2a95f080",
   "metadata": {},
   "outputs": [
    {
     "name": "stdout",
     "output_type": "stream",
     "text": [
      "2897455188928\n",
      "[12, 13, 14, 66, 'DATA', 'Scientist']\n",
      "None\n",
      "2897455188928\n",
      "140721578733248\n"
     ]
    }
   ],
   "source": [
    "lisT = [12, 13, 14, 66, \"DATA\"]\n",
    "print(id(lisT))\n",
    "z = lisT.append(\"Scientist\")\n",
    "print(lisT)\n",
    "print(z)\n",
    "print(id(lisT))\n",
    "print(id(z))\n"
   ]
  },
  {
   "cell_type": "code",
   "execution_count": 3,
   "id": "8648bd4f",
   "metadata": {},
   "outputs": [
    {
     "name": "stdout",
     "output_type": "stream",
     "text": [
      "2897370548528\n",
      "2897370548528\n"
     ]
    }
   ],
   "source": [
    "a = 67\n",
    "print(id(a))\n",
    "a = 67\n",
    "print(id(a))"
   ]
  },
  {
   "cell_type": "code",
   "execution_count": 5,
   "id": "e8e23dcf",
   "metadata": {},
   "outputs": [
    {
     "name": "stdout",
     "output_type": "stream",
     "text": [
      "[77, 55]\n",
      "2146277982400\n"
     ]
    }
   ],
   "source": [
    "y[1] = 55\n",
    "print(y)\n",
    "print(id(y))"
   ]
  },
  {
   "cell_type": "code",
   "execution_count": null,
   "id": "2fbdf69e",
   "metadata": {},
   "outputs": [],
   "source": []
  },
  {
   "cell_type": "markdown",
   "id": "6aa6c02b",
   "metadata": {},
   "source": [
    "# Very very Important Example"
   ]
  },
  {
   "cell_type": "code",
   "execution_count": 6,
   "id": "7da983c0",
   "metadata": {},
   "outputs": [
    {
     "name": "stdout",
     "output_type": "stream",
     "text": [
      "2146244615152\n",
      "2146277412208\n"
     ]
    }
   ],
   "source": [
    "x = \"Data\"\n",
    "print(id(x))\n",
    "x = \"Scientist\"\n",
    "print(id(x))          ## previous VALUE OF \"x\" IS LOST IN SPACE -- garbaged...."
   ]
  },
  {
   "cell_type": "code",
   "execution_count": null,
   "id": "6a7b1a02",
   "metadata": {},
   "outputs": [],
   "source": []
  },
  {
   "cell_type": "code",
   "execution_count": 7,
   "id": "3048877b",
   "metadata": {},
   "outputs": [
    {
     "data": {
      "text/plain": [
       "'I AM A DATA SCIENTIST'"
      ]
     },
     "execution_count": 7,
     "metadata": {},
     "output_type": "execute_result"
    }
   ],
   "source": [
    "p =\"I am a DATA Scientist\"   # String is printed -- without command -- \"WHY?\"\n",
    "p.upper()                    # it creates a NEW String \n"
   ]
  },
  {
   "cell_type": "code",
   "execution_count": 11,
   "id": "a8f2cb40",
   "metadata": {},
   "outputs": [
    {
     "data": {
      "text/plain": [
       "'I am a DATA Scientist'"
      ]
     },
     "execution_count": 11,
     "metadata": {},
     "output_type": "execute_result"
    }
   ],
   "source": [
    "p"
   ]
  },
  {
   "cell_type": "code",
   "execution_count": 9,
   "id": "b400a214",
   "metadata": {},
   "outputs": [
    {
     "name": "stdout",
     "output_type": "stream",
     "text": [
      "2146278210176\n",
      "[1, 1, 2, 2, 3, 4, 5]\n",
      "2146278210176\n"
     ]
    }
   ],
   "source": [
    "z = [2,3,4,5,1,1,2]\n",
    "print(id(z))\n",
    "z.sort()\n",
    "print(z)\n",
    "print(id(z))           #  IDENTITY of LIST - \"z\" remains the same -- MUTABLE"
   ]
  },
  {
   "cell_type": "code",
   "execution_count": 10,
   "id": "ebf7af42",
   "metadata": {},
   "outputs": [
    {
     "name": "stdout",
     "output_type": "stream",
     "text": [
      "2146278210432\n",
      "2146278210432\n"
     ]
    }
   ],
   "source": [
    "z = [2,3,4,5,1,1,2]    # \"z\" -- is not printed, \"WHY?\"\n",
    "print(id(z))           \n",
    "z.sort()\n",
    "print(id(z))           #  IDENTITY of LIST - \"z\" remains the same -- MUTABLE"
   ]
  },
  {
   "cell_type": "code",
   "execution_count": null,
   "id": "818b6482",
   "metadata": {},
   "outputs": [],
   "source": []
  },
  {
   "cell_type": "code",
   "execution_count": 1,
   "id": "96379d76",
   "metadata": {},
   "outputs": [
    {
     "name": "stdout",
     "output_type": "stream",
     "text": [
      "2120316900288\n",
      "[12, 13, 14, 66, 'DATA', 'Scientist']\n",
      "None\n",
      "2120316900288\n",
      "140721588694720\n"
     ]
    }
   ],
   "source": [
    "lisT = [12, 13, 14, 66, \"DATA\"]\n",
    "print(id(lisT))\n",
    "z = lisT.append(\"Scientist\")\n",
    "print(lisT)\n",
    "print(z)\n",
    "print(id(lisT))\n",
    "print(id(z))"
   ]
  },
  {
   "cell_type": "code",
   "execution_count": 2,
   "id": "b4b662fb",
   "metadata": {},
   "outputs": [
    {
     "name": "stdout",
     "output_type": "stream",
     "text": [
      "2120316909376\n",
      "[12, 13, 14, 66, 'DATA', 'Scientist']\n"
     ]
    },
    {
     "ename": "TypeError",
     "evalue": "'NoneType' object is not iterable",
     "output_type": "error",
     "traceback": [
      "\u001b[1;31m---------------------------------------------------------------------------\u001b[0m",
      "\u001b[1;31mTypeError\u001b[0m                                 Traceback (most recent call last)",
      "Cell \u001b[1;32mIn[2], line 5\u001b[0m\n\u001b[0;32m      3\u001b[0m z \u001b[38;5;241m=\u001b[39m lisT\u001b[38;5;241m.\u001b[39mappend(\u001b[38;5;124m\"\u001b[39m\u001b[38;5;124mScientist\u001b[39m\u001b[38;5;124m\"\u001b[39m)\n\u001b[0;32m      4\u001b[0m \u001b[38;5;28mprint\u001b[39m(lisT)\n\u001b[1;32m----> 5\u001b[0m \u001b[38;5;28mtype\u001b[39m(\u001b[38;5;28;43mlist\u001b[39;49m\u001b[43m(\u001b[49m\u001b[43mz\u001b[49m\u001b[43m)\u001b[49m)\n\u001b[0;32m      6\u001b[0m \u001b[38;5;28mprint\u001b[39m(z)\n\u001b[0;32m      8\u001b[0m \u001b[38;5;28mprint\u001b[39m(\u001b[38;5;28mid\u001b[39m(lisT))\n",
      "\u001b[1;31mTypeError\u001b[0m: 'NoneType' object is not iterable"
     ]
    }
   ],
   "source": [
    "lisT = [12, 13, 14, 66, \"DATA\"]\n",
    "print(id(lisT))\n",
    "z = lisT.append(\"Scientist\")\n",
    "print(lisT)\n",
    "type(list(z))\n",
    "print(z)\n",
    "\n",
    "print(id(lisT))\n",
    "print(id(z))"
   ]
  },
  {
   "cell_type": "code",
   "execution_count": 3,
   "id": "c07d6719",
   "metadata": {},
   "outputs": [
    {
     "name": "stdout",
     "output_type": "stream",
     "text": [
      "2120345310016\n"
     ]
    },
    {
     "ename": "TypeError",
     "evalue": "cannot unpack non-iterable NoneType object",
     "output_type": "error",
     "traceback": [
      "\u001b[1;31m---------------------------------------------------------------------------\u001b[0m",
      "\u001b[1;31mTypeError\u001b[0m                                 Traceback (most recent call last)",
      "Cell \u001b[1;32mIn[3], line 3\u001b[0m\n\u001b[0;32m      1\u001b[0m lisT \u001b[38;5;241m=\u001b[39m [\u001b[38;5;241m12\u001b[39m, \u001b[38;5;241m13\u001b[39m, \u001b[38;5;241m14\u001b[39m, \u001b[38;5;241m66\u001b[39m, \u001b[38;5;124m\"\u001b[39m\u001b[38;5;124mDATA\u001b[39m\u001b[38;5;124m\"\u001b[39m]\n\u001b[0;32m      2\u001b[0m \u001b[38;5;28mprint\u001b[39m(\u001b[38;5;28mid\u001b[39m(lisT))\n\u001b[1;32m----> 3\u001b[0m [z] \u001b[38;5;241m=\u001b[39m lisT\u001b[38;5;241m.\u001b[39mappend(\u001b[38;5;124m\"\u001b[39m\u001b[38;5;124mScientist\u001b[39m\u001b[38;5;124m\"\u001b[39m)\n\u001b[0;32m      4\u001b[0m \u001b[38;5;28mprint\u001b[39m(lisT)\n\u001b[0;32m      5\u001b[0m \u001b[38;5;28mprint\u001b[39m(z)\n",
      "\u001b[1;31mTypeError\u001b[0m: cannot unpack non-iterable NoneType object"
     ]
    }
   ],
   "source": [
    "lisT = [12, 13, 14, 66, \"DATA\"]\n",
    "print(id(lisT))\n",
    "[z] = lisT.append(\"Scientist\")\n",
    "print(lisT)\n",
    "print(z)\n",
    "\n",
    "print(id(lisT))\n",
    "print(id(z))"
   ]
  },
  {
   "cell_type": "code",
   "execution_count": 4,
   "id": "ba4fa0c7",
   "metadata": {},
   "outputs": [
    {
     "ename": "SyntaxError",
     "evalue": "cannot assign to function call here. Maybe you meant '==' instead of '='? (4012822835.py, line 3)",
     "output_type": "error",
     "traceback": [
      "\u001b[1;36m  Cell \u001b[1;32mIn[4], line 3\u001b[1;36m\u001b[0m\n\u001b[1;33m    list(z) = lisT.append(\"Scientist\")\u001b[0m\n\u001b[1;37m    ^\u001b[0m\n\u001b[1;31mSyntaxError\u001b[0m\u001b[1;31m:\u001b[0m cannot assign to function call here. Maybe you meant '==' instead of '='?\n"
     ]
    }
   ],
   "source": [
    "lisT = [12, 13, 14, 66, \"DATA\"]\n",
    "print(id(lisT))\n",
    "list(z) = lisT.append(\"Scientist\")\n",
    "print(lisT)\n",
    "print(z)\n",
    "\n",
    "print(id(lisT))\n",
    "print(id(z))"
   ]
  },
  {
   "cell_type": "code",
   "execution_count": 5,
   "id": "f6ca054b",
   "metadata": {},
   "outputs": [
    {
     "name": "stdout",
     "output_type": "stream",
     "text": [
      "2120345470080\n"
     ]
    },
    {
     "ename": "TypeError",
     "evalue": "'NoneType' object is not iterable",
     "output_type": "error",
     "traceback": [
      "\u001b[1;31m---------------------------------------------------------------------------\u001b[0m",
      "\u001b[1;31mTypeError\u001b[0m                                 Traceback (most recent call last)",
      "Cell \u001b[1;32mIn[5], line 3\u001b[0m\n\u001b[0;32m      1\u001b[0m lisT \u001b[38;5;241m=\u001b[39m [\u001b[38;5;241m12\u001b[39m, \u001b[38;5;241m13\u001b[39m, \u001b[38;5;241m14\u001b[39m, \u001b[38;5;241m66\u001b[39m, \u001b[38;5;124m\"\u001b[39m\u001b[38;5;124mDATA\u001b[39m\u001b[38;5;124m\"\u001b[39m]\n\u001b[0;32m      2\u001b[0m \u001b[38;5;28mprint\u001b[39m(\u001b[38;5;28mid\u001b[39m(lisT))\n\u001b[1;32m----> 3\u001b[0m \u001b[38;5;28;43mlist\u001b[39;49m\u001b[43m(\u001b[49m\u001b[43mz\u001b[49m\u001b[43m)\u001b[49m \u001b[38;5;241m==\u001b[39m lisT\u001b[38;5;241m.\u001b[39mappend(\u001b[38;5;124m\"\u001b[39m\u001b[38;5;124mScientist\u001b[39m\u001b[38;5;124m\"\u001b[39m)\n\u001b[0;32m      4\u001b[0m \u001b[38;5;28mprint\u001b[39m(lisT)\n\u001b[0;32m      5\u001b[0m \u001b[38;5;28mprint\u001b[39m(z)\n",
      "\u001b[1;31mTypeError\u001b[0m: 'NoneType' object is not iterable"
     ]
    }
   ],
   "source": [
    "lisT = [12, 13, 14, 66, \"DATA\"]\n",
    "print(id(lisT))\n",
    "list(z) == lisT.append(\"Scientist\")\n",
    "print(lisT)\n",
    "print(z)\n",
    "\n",
    "print(id(lisT))\n",
    "print(id(z))"
   ]
  },
  {
   "cell_type": "code",
   "execution_count": 6,
   "id": "c31afe20",
   "metadata": {},
   "outputs": [
    {
     "name": "stdout",
     "output_type": "stream",
     "text": [
      "2120345647616\n",
      "<class 'NoneType'>\n",
      "[12, 13, 14, 66, 'DATA', 'Scientist']\n",
      "None\n",
      "2120345647616\n",
      "140721588694720\n"
     ]
    }
   ],
   "source": [
    "lisT = [12, 13, 14, 66, \"DATA\"]\n",
    "print(id(lisT))\n",
    "z = lisT.append(\"Scientist\")\n",
    "print(type(z))\n",
    "print(lisT)\n",
    "\n",
    "print(z)\n",
    "\n",
    "print(id(lisT))\n",
    "print(id(z))"
   ]
  },
  {
   "cell_type": "code",
   "execution_count": 7,
   "id": "53ff1dcc",
   "metadata": {},
   "outputs": [
    {
     "name": "stdout",
     "output_type": "stream",
     "text": [
      "2120345629888\n",
      "<class 'NoneType'>\n",
      "None\n",
      "140721588694720\n"
     ]
    }
   ],
   "source": [
    "lisT = [12, 13, 14, 66, \"DATA\"]\n",
    "print(id(lisT))\n",
    "lisT = lisT.append(\"Scientist\")\n",
    "print(type(lisT))\n",
    "print(lisT)\n",
    "print(id(lisT))"
   ]
  },
  {
   "cell_type": "code",
   "execution_count": 8,
   "id": "5285b4a1",
   "metadata": {},
   "outputs": [
    {
     "name": "stdout",
     "output_type": "stream",
     "text": [
      "2120345629888\n",
      "<class 'list'>\n",
      "[12, 13, 14, 66, 'DATA', 'Scientist']\n",
      "2120345629888\n"
     ]
    }
   ],
   "source": [
    "lisT = [12, 13, 14, 66, \"DATA\"]\n",
    "print(id(lisT))\n",
    "lisT.append(\"Scientist\")\n",
    "print(type(lisT))\n",
    "print(lisT)\n",
    "print(id(lisT))"
   ]
  },
  {
   "cell_type": "code",
   "execution_count": 3,
   "id": "f5608667",
   "metadata": {},
   "outputs": [
    {
     "data": {
      "text/plain": [
       "'DATA'"
      ]
     },
     "execution_count": 3,
     "metadata": {},
     "output_type": "execute_result"
    }
   ],
   "source": [
    "a = \"DATA\"\n",
    "a"
   ]
  },
  {
   "cell_type": "code",
   "execution_count": 4,
   "id": "94c21815",
   "metadata": {},
   "outputs": [
    {
     "name": "stdout",
     "output_type": "stream",
     "text": [
      "<class 'str'>\n"
     ]
    }
   ],
   "source": [
    "a = \"DATA\"\n",
    "a\n",
    "print(type(a))"
   ]
  },
  {
   "cell_type": "code",
   "execution_count": null,
   "id": "3da6f7f8",
   "metadata": {},
   "outputs": [],
   "source": []
  },
  {
   "cell_type": "code",
   "execution_count": null,
   "id": "5f548495",
   "metadata": {},
   "outputs": [],
   "source": []
  },
  {
   "cell_type": "code",
   "execution_count": 1,
   "id": "3cb45e99",
   "metadata": {},
   "outputs": [
    {
     "data": {
      "text/plain": [
       "[1, 2, 33, 'AA']"
      ]
     },
     "execution_count": 1,
     "metadata": {},
     "output_type": "execute_result"
    }
   ],
   "source": [
    "A = [1,2,33,\"AA\"]                      #   [0 1 2 3] \n",
    "A"
   ]
  },
  {
   "cell_type": "code",
   "execution_count": 6,
   "id": "8e2f343e",
   "metadata": {},
   "outputs": [
    {
     "data": {
      "text/plain": [
       "2"
      ]
     },
     "execution_count": 6,
     "metadata": {},
     "output_type": "execute_result"
    }
   ],
   "source": [
    "A.index(33)"
   ]
  },
  {
   "cell_type": "code",
   "execution_count": 5,
   "id": "91cc231f",
   "metadata": {},
   "outputs": [
    {
     "name": "stdout",
     "output_type": "stream",
     "text": [
      "<class 'str'>\n"
     ]
    }
   ],
   "source": [
    "print(type(A[3]))"
   ]
  },
  {
   "cell_type": "code",
   "execution_count": null,
   "id": "dda08b2a",
   "metadata": {},
   "outputs": [],
   "source": []
  },
  {
   "cell_type": "code",
   "execution_count": 7,
   "id": "9ad765ac",
   "metadata": {},
   "outputs": [
    {
     "data": {
      "text/plain": [
       "[1, 2, 33, 'AA', {}, []]"
      ]
     },
     "execution_count": 7,
     "metadata": {},
     "output_type": "execute_result"
    }
   ],
   "source": [
    "k = [1,2,33,\"AA\",{},[] ]                      #   [0 1 2 3 4 5 ] \n",
    "k"
   ]
  },
  {
   "cell_type": "code",
   "execution_count": 8,
   "id": "ef6b7085",
   "metadata": {},
   "outputs": [
    {
     "ename": "SyntaxError",
     "evalue": "invalid syntax (3397100209.py, line 1)",
     "output_type": "error",
     "traceback": [
      "\u001b[1;36m  Cell \u001b[1;32mIn[8], line 1\u001b[1;36m\u001b[0m\n\u001b[1;33m    k = [1,2,33,\"AA\",{},[], [[]], + ]                      #   [0 1 2 3 4 5 6 7 ]\u001b[0m\n\u001b[1;37m                                    ^\u001b[0m\n\u001b[1;31mSyntaxError\u001b[0m\u001b[1;31m:\u001b[0m invalid syntax\n"
     ]
    }
   ],
   "source": [
    "k = [1,2,33,\"AA\",{},[], [[]], + ]                      #   [0 1 2 3 4 5 6 7 ] \n",
    "k"
   ]
  },
  {
   "cell_type": "code",
   "execution_count": 9,
   "id": "81b434d3",
   "metadata": {},
   "outputs": [
    {
     "data": {
      "text/plain": [
       "[1, 2, 33, 'AA', {}, [], [[]], ()]"
      ]
     },
     "execution_count": 9,
     "metadata": {},
     "output_type": "execute_result"
    }
   ],
   "source": [
    "k = [1,2,33,\"AA\",{},[], [[]], () ]                      #   [0 1 2 3 4 5 6 7 ] \n",
    "k"
   ]
  },
  {
   "cell_type": "code",
   "execution_count": 10,
   "id": "4811615a",
   "metadata": {},
   "outputs": [
    {
     "name": "stdout",
     "output_type": "stream",
     "text": [
      "<class 'list'>\n",
      "<class 'list'>\n"
     ]
    }
   ],
   "source": [
    "print(type(k))\n",
    "print(type(k[6]))"
   ]
  },
  {
   "cell_type": "code",
   "execution_count": 11,
   "id": "746f1fc7",
   "metadata": {},
   "outputs": [
    {
     "name": "stdout",
     "output_type": "stream",
     "text": [
      "<class 'list'>\n",
      "<class 'tuple'>\n"
     ]
    }
   ],
   "source": [
    "print(type(k))\n",
    "print(type(k[7]))"
   ]
  },
  {
   "cell_type": "code",
   "execution_count": 12,
   "id": "ae66c7eb",
   "metadata": {},
   "outputs": [
    {
     "name": "stdout",
     "output_type": "stream",
     "text": [
      "<class 'list'>\n",
      "<class 'dict'>\n"
     ]
    }
   ],
   "source": [
    "print(type(k))\n",
    "print(type(k[4]))"
   ]
  },
  {
   "cell_type": "code",
   "execution_count": null,
   "id": "9200ea95",
   "metadata": {},
   "outputs": [],
   "source": []
  },
  {
   "cell_type": "code",
   "execution_count": 1,
   "id": "50acf18c",
   "metadata": {},
   "outputs": [
    {
     "ename": "NameError",
     "evalue": "name 'a' is not defined",
     "output_type": "error",
     "traceback": [
      "\u001b[1;31m---------------------------------------------------------------------------\u001b[0m",
      "\u001b[1;31mNameError\u001b[0m                                 Traceback (most recent call last)",
      "Cell \u001b[1;32mIn[1], line 1\u001b[0m\n\u001b[1;32m----> 1\u001b[0m H \u001b[38;5;241m=\u001b[39m [\u001b[38;5;241m1\u001b[39m,\u001b[38;5;241m2\u001b[39m,\u001b[38;5;241m33\u001b[39m,\u001b[38;5;124m\"\u001b[39m\u001b[38;5;124mAA\u001b[39m\u001b[38;5;124m\"\u001b[39m,{},[],[[]],(),{\u001b[43ma\u001b[49m,b,c} ]                      \u001b[38;5;66;03m#   [0 1 2 3 4 5 6 7  8] \u001b[39;00m\n\u001b[0;32m      2\u001b[0m H\n",
      "\u001b[1;31mNameError\u001b[0m: name 'a' is not defined"
     ]
    }
   ],
   "source": [
    "H = [1,2,33,\"AA\",{},[],[[]],(),{a,b,c} ]                      #   [0 1 2 3 4 5 6 7  8] \n",
    "H"
   ]
  },
  {
   "cell_type": "code",
   "execution_count": 2,
   "id": "c266c245",
   "metadata": {},
   "outputs": [
    {
     "data": {
      "text/plain": [
       "[1, 2, 33, 'AA', {}, [], [[]], (), {'a', 'b', 'c'}]"
      ]
     },
     "execution_count": 2,
     "metadata": {},
     "output_type": "execute_result"
    }
   ],
   "source": [
    "H = [1,2,33,\"AA\",{},[],[[]],(),{\"a\",\"b\",\"c\"} ]                      #   [0 1 2 3 4 5 6 7  8] \n",
    "H"
   ]
  },
  {
   "cell_type": "code",
   "execution_count": 4,
   "id": "48f8c1a0",
   "metadata": {},
   "outputs": [
    {
     "name": "stdout",
     "output_type": "stream",
     "text": [
      "<class 'list'>\n",
      "<class 'set'>\n",
      "<class 'dict'>\n"
     ]
    }
   ],
   "source": [
    "print(type(H))\n",
    "print(type(H[8]))\n",
    "print(type(H[4]))"
   ]
  },
  {
   "cell_type": "code",
   "execution_count": null,
   "id": "1ed8a020",
   "metadata": {},
   "outputs": [],
   "source": []
  },
  {
   "cell_type": "code",
   "execution_count": 5,
   "id": "0422bd3b",
   "metadata": {},
   "outputs": [
    {
     "data": {
      "text/plain": [
       "[1,\n",
       " 2,\n",
       " 33,\n",
       " 'AA',\n",
       " {},\n",
       " [],\n",
       " [111, 222, 333, ['aaa', 'bbb', 'ccc']],\n",
       " (),\n",
       " {'a', 'b', 'c'}]"
      ]
     },
     "execution_count": 5,
     "metadata": {},
     "output_type": "execute_result"
    }
   ],
   "source": [
    "L = [1,2,33,\"AA\",{},[],[111,222,333,[\"aaa\",\"bbb\",\"ccc\"]],(),{\"a\",\"b\",\"c\"} ]                      #   [0 1 2 3 4 5 6 7  8] \n",
    "L"
   ]
  },
  {
   "cell_type": "code",
   "execution_count": 8,
   "id": "a7c81b07",
   "metadata": {},
   "outputs": [
    {
     "name": "stdout",
     "output_type": "stream",
     "text": [
      "<class 'list'>\n",
      "<class 'list'>\n",
      "<class 'list'>\n",
      "<class 'dict'>\n",
      "<class 'list'>\n"
     ]
    }
   ],
   "source": [
    "print(type(L))\n",
    "print(type(L[6]))\n",
    "print(type(L[5]))\n",
    "print(type(L[4]))\n",
    "print(type(L[6][3]))"
   ]
  },
  {
   "cell_type": "code",
   "execution_count": null,
   "id": "09668c16",
   "metadata": {},
   "outputs": [],
   "source": []
  },
  {
   "cell_type": "code",
   "execution_count": 5,
   "id": "b0f95b64",
   "metadata": {},
   "outputs": [
    {
     "ename": "ValueError",
     "evalue": "3 is not in list",
     "output_type": "error",
     "traceback": [
      "\u001b[1;31m---------------------------------------------------------------------------\u001b[0m",
      "\u001b[1;31mValueError\u001b[0m                                Traceback (most recent call last)",
      "Cell \u001b[1;32mIn[5], line 1\u001b[0m\n\u001b[1;32m----> 1\u001b[0m \u001b[43mA\u001b[49m\u001b[38;5;241;43m.\u001b[39;49m\u001b[43mindex\u001b[49m\u001b[43m(\u001b[49m\u001b[38;5;241;43m3\u001b[39;49m\u001b[43m)\u001b[49m\n",
      "\u001b[1;31mValueError\u001b[0m: 3 is not in list"
     ]
    }
   ],
   "source": [
    "A.index(3)"
   ]
  },
  {
   "cell_type": "code",
   "execution_count": 7,
   "id": "9ccddb0c",
   "metadata": {},
   "outputs": [
    {
     "data": {
      "text/plain": [
       "int"
      ]
     },
     "execution_count": 7,
     "metadata": {},
     "output_type": "execute_result"
    }
   ],
   "source": [
    "b = A.index(2)\n",
    "type(b)"
   ]
  },
  {
   "cell_type": "code",
   "execution_count": 2,
   "id": "af56f1f7",
   "metadata": {},
   "outputs": [
    {
     "name": "stdout",
     "output_type": "stream",
     "text": [
      "<class 'list'>\n",
      "[1, 2, 33, 'AA', 'NNN']\n"
     ]
    }
   ],
   "source": [
    "A.append(\"NNN\")\n",
    "print(type(A))\n",
    "print(A)"
   ]
  },
  {
   "cell_type": "code",
   "execution_count": null,
   "id": "271cae28",
   "metadata": {},
   "outputs": [],
   "source": []
  }
 ],
 "metadata": {
  "kernelspec": {
   "display_name": "Python 3 (ipykernel)",
   "language": "python",
   "name": "python3"
  },
  "language_info": {
   "codemirror_mode": {
    "name": "ipython",
    "version": 3
   },
   "file_extension": ".py",
   "mimetype": "text/x-python",
   "name": "python",
   "nbconvert_exporter": "python",
   "pygments_lexer": "ipython3",
   "version": "3.10.9"
  }
 },
 "nbformat": 4,
 "nbformat_minor": 5
}
