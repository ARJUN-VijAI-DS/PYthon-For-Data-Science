{
 "cells": [
  {
   "cell_type": "markdown",
   "id": "5509e4d4",
   "metadata": {},
   "source": [
    "# Sets \n",
    "\n",
    "### 1. Unordered -- The items in the set are unordered, i.e., it will not maintain the order in which the items are inserted.\n",
    "### 2. Unindexed - Set items are unindexed.\n",
    "### 3. Unique: There cannot be two items with the same value in the set.\n",
    "### 4. Set items must be immutable --  We cannot change the set items.\n",
    "### 5. Sets are MUTABLE.\n",
    "\n",
    "- SET is a collection of immutable things to preseve there **\"CHARACTER\"** -- **Preserve its UNIQUENESS-- uniqueness**\n",
    "- We use **\"Curly\" brackets {}**\n"
   ]
  },
  {
   "cell_type": "code",
   "execution_count": 1,
   "id": "e019e15d",
   "metadata": {},
   "outputs": [],
   "source": [
    "# SET is a collection of immutable things to preseve there \"CHARACTER\"  -- **Preserve its UNIQUENESS-- uniqueness**"
   ]
  },
  {
   "cell_type": "code",
   "execution_count": 1,
   "id": "027a5cfe",
   "metadata": {},
   "outputs": [
    {
     "data": {
      "text/plain": [
       "{1, 2, 3}"
      ]
     },
     "execution_count": 1,
     "metadata": {},
     "output_type": "execute_result"
    }
   ],
   "source": [
    "# Sets\n",
    "\n",
    "s = {1,2,3}   # Curly brackets\n",
    "s "
   ]
  },
  {
   "cell_type": "code",
   "execution_count": 2,
   "id": "8d70c1ee",
   "metadata": {},
   "outputs": [
    {
     "name": "stdout",
     "output_type": "stream",
     "text": [
      "{1, 'string', 2, 45}\n",
      "{1, 2, 't', 'string', 45, 'r', 's'}\n",
      "{1, 2, 't', 'string', 'r', 's'}\n"
     ]
    }
   ],
   "source": [
    "# Set Methods \n",
    "\n",
    "set = {1, \"string\", 2}\n",
    "\n",
    "# .add(item)   ---- This is same as .append() in lists\n",
    "set.add(45)\n",
    "print(set)\n",
    "\n",
    "# . update(iterable)   ---- This is same as .extend() in lists\n",
    "set.update(\"str\")\n",
    "print(set)\n",
    "\n",
    "# .remove()\n",
    "set.remove(45)\n",
    "print(set)\n",
    "\n"
   ]
  },
  {
   "cell_type": "code",
   "execution_count": 1,
   "id": "1aec1e91",
   "metadata": {},
   "outputs": [
    {
     "ename": "NameError",
     "evalue": "name 'Set' is not defined",
     "output_type": "error",
     "traceback": [
      "\u001b[1;31m---------------------------------------------------------------------------\u001b[0m",
      "\u001b[1;31mNameError\u001b[0m                                 Traceback (most recent call last)",
      "Cell \u001b[1;32mIn[1], line 2\u001b[0m\n\u001b[0;32m      1\u001b[0m \u001b[38;5;66;03m# . update(iterable)   ---- This is same as .extend() in lists\u001b[39;00m\n\u001b[1;32m----> 2\u001b[0m \u001b[43mSet\u001b[49m\u001b[38;5;241m.\u001b[39mupdate(\u001b[38;5;28mstr\u001b[39m)\n\u001b[0;32m      3\u001b[0m \u001b[38;5;28mprint\u001b[39m(Set)\n",
      "\u001b[1;31mNameError\u001b[0m: name 'Set' is not defined"
     ]
    }
   ],
   "source": [
    "# . update(iterable)   ---- This is same as .extend() in lists\n",
    "Set.update(str)\n",
    "print(Set)"
   ]
  },
  {
   "cell_type": "code",
   "execution_count": 4,
   "id": "b50d0edf",
   "metadata": {
    "scrolled": true
   },
   "outputs": [
    {
     "ename": "TypeError",
     "evalue": "'type' object is not iterable",
     "output_type": "error",
     "traceback": [
      "\u001b[1;31m---------------------------------------------------------------------------\u001b[0m",
      "\u001b[1;31mTypeError\u001b[0m                                 Traceback (most recent call last)",
      "Cell \u001b[1;32mIn[4], line 3\u001b[0m\n\u001b[0;32m      1\u001b[0m \u001b[38;5;66;03m# . update(iterable)   ---- This is same as .extend() in lists\u001b[39;00m\n\u001b[0;32m      2\u001b[0m Set \u001b[38;5;241m=\u001b[39m {\u001b[38;5;241m1\u001b[39m, \u001b[38;5;241m2\u001b[39m, \u001b[38;5;241m4\u001b[39m}\n\u001b[1;32m----> 3\u001b[0m \u001b[43mSet\u001b[49m\u001b[38;5;241;43m.\u001b[39;49m\u001b[43mupdate\u001b[49m\u001b[43m(\u001b[49m\u001b[38;5;28;43mstr\u001b[39;49m\u001b[43m)\u001b[49m\n\u001b[0;32m      4\u001b[0m \u001b[38;5;28mprint\u001b[39m(Set)\n",
      "\u001b[1;31mTypeError\u001b[0m: 'type' object is not iterable"
     ]
    }
   ],
   "source": [
    "# . update(iterable)   ---- This is same as .extend() in lists\n",
    "Set = {1, 2, 4}\n",
    "Set.update(str)\n",
    "print(Set)"
   ]
  },
  {
   "cell_type": "code",
   "execution_count": null,
   "id": "72a79927",
   "metadata": {},
   "outputs": [],
   "source": []
  },
  {
   "cell_type": "code",
   "execution_count": null,
   "id": "272fa189",
   "metadata": {},
   "outputs": [],
   "source": []
  },
  {
   "cell_type": "code",
   "execution_count": null,
   "id": "a4965640",
   "metadata": {},
   "outputs": [],
   "source": []
  },
  {
   "cell_type": "code",
   "execution_count": null,
   "id": "4dee5326",
   "metadata": {},
   "outputs": [],
   "source": []
  },
  {
   "cell_type": "code",
   "execution_count": 2,
   "id": "5d3fe665",
   "metadata": {},
   "outputs": [
    {
     "name": "stdout",
     "output_type": "stream",
     "text": [
      "{1, 2, 4, 'i', ']', 'L', 's', 't', '['}\n"
     ]
    }
   ],
   "source": [
    "Set1 = {1, 2, 4}\n",
    "Set1.update(\"[List]\")\n",
    "print(Set1)"
   ]
  },
  {
   "cell_type": "code",
   "execution_count": 2,
   "id": "aad67e8d",
   "metadata": {},
   "outputs": [
    {
     "name": "stdout",
     "output_type": "stream",
     "text": [
      "{1, 2, 4, '{', 'E', 'T', 'S', '}'}\n"
     ]
    }
   ],
   "source": [
    "Set2 = {1, 2, 4}\n",
    "Set2.update(\"{SET}\")\n",
    "print(Set2)"
   ]
  },
  {
   "cell_type": "code",
   "execution_count": 3,
   "id": "08402ca7",
   "metadata": {},
   "outputs": [
    {
     "ename": "TypeError",
     "evalue": "unhashable type: 'list'",
     "output_type": "error",
     "traceback": [
      "\u001b[1;31m---------------------------------------------------------------------------\u001b[0m",
      "\u001b[1;31mTypeError\u001b[0m                                 Traceback (most recent call last)",
      "Cell \u001b[1;32mIn[3], line 1\u001b[0m\n\u001b[1;32m----> 1\u001b[0m Set3 \u001b[38;5;241m=\u001b[39m {\u001b[38;5;241m1\u001b[39m, \u001b[38;5;241m2\u001b[39m, \u001b[38;5;241m4\u001b[39m, [\u001b[38;5;241m1\u001b[39m,\u001b[38;5;241m2\u001b[39m,\u001b[38;5;241m3\u001b[39m,\u001b[38;5;241m4\u001b[39m,\u001b[38;5;241m5\u001b[39m,\u001b[38;5;241m6\u001b[39m]}\n\u001b[0;32m      2\u001b[0m \u001b[38;5;28mprint\u001b[39m(Set3)\n",
      "\u001b[1;31mTypeError\u001b[0m: unhashable type: 'list'"
     ]
    }
   ],
   "source": [
    "Set3 = {1, 2, 4, [1,2,3,4,5,6]}\n",
    "print(Set3)"
   ]
  },
  {
   "cell_type": "code",
   "execution_count": 4,
   "id": "023115d4",
   "metadata": {},
   "outputs": [
    {
     "ename": "TypeError",
     "evalue": "unhashable type: 'set'",
     "output_type": "error",
     "traceback": [
      "\u001b[1;31m---------------------------------------------------------------------------\u001b[0m",
      "\u001b[1;31mTypeError\u001b[0m                                 Traceback (most recent call last)",
      "Cell \u001b[1;32mIn[4], line 1\u001b[0m\n\u001b[1;32m----> 1\u001b[0m Set4 \u001b[38;5;241m=\u001b[39m {\u001b[38;5;241m1\u001b[39m, \u001b[38;5;241m2\u001b[39m, \u001b[38;5;241m4\u001b[39m, {\u001b[38;5;241m1\u001b[39m,\u001b[38;5;241m2\u001b[39m,\u001b[38;5;241m3\u001b[39m,\u001b[38;5;124m\"\u001b[39m\u001b[38;5;124mabc\u001b[39m\u001b[38;5;124m\"\u001b[39m}}\n\u001b[0;32m      2\u001b[0m \u001b[38;5;28mprint\u001b[39m(Set4)\n",
      "\u001b[1;31mTypeError\u001b[0m: unhashable type: 'set'"
     ]
    }
   ],
   "source": [
    "Set4 = {1, 2, 4, {1,2,3,\"abc\"}}\n",
    "print(Set4)"
   ]
  },
  {
   "cell_type": "code",
   "execution_count": 5,
   "id": "221d82e1",
   "metadata": {},
   "outputs": [
    {
     "name": "stdout",
     "output_type": "stream",
     "text": [
      "1692849992672\n",
      "1692849992672\n"
     ]
    }
   ],
   "source": [
    "FF = {1,2,3,\"AJ\",\"ff\"}\n",
    "print(id(FF))\n",
    "FF.add(\"DATA\")\n",
    "print(id(FF))"
   ]
  },
  {
   "cell_type": "markdown",
   "id": "d4eb72ae",
   "metadata": {},
   "source": []
  },
  {
   "cell_type": "code",
   "execution_count": 7,
   "id": "d0322ce3",
   "metadata": {},
   "outputs": [
    {
     "name": "stdout",
     "output_type": "stream",
     "text": [
      "{1, 2, 3, 4, 5, 66}\n",
      "Union Method is used {1, 2, 3, 4, 5, 66, 55}\n",
      "Update Method is used None\n"
     ]
    }
   ],
   "source": [
    "# Union\n",
    "\n",
    "a ={1,2,3,4,5,66}\n",
    "b ={1,2,3,4,55}\n",
    "a.union(b)\n",
    "print(a)\n",
    "\n",
    "print(\"Union Method is used\", a.union(b))\n",
    "print(\"Update Method is used\", a.update(b))"
   ]
  },
  {
   "cell_type": "code",
   "execution_count": 8,
   "id": "690a95a5",
   "metadata": {},
   "outputs": [
    {
     "name": "stdout",
     "output_type": "stream",
     "text": [
      "{1, 2, 3, 4, 5, 66}\n",
      "Union Method is used {1, 2, 3, 4, 5, 66, 55}\n",
      "Update Method is used {1, 2, 3, 4, 5, 66, 55}\n"
     ]
    }
   ],
   "source": [
    "# Union\n",
    "\n",
    "a ={1,2,3,4,5,66}\n",
    "b ={1,2,3,4,55}\n",
    "a.union(b)\n",
    "print(a)\n",
    "\n",
    "print(\"Union Method is used\", a.union(b))\n",
    "a.update(b)\n",
    "print(\"Update Method is used\", a)"
   ]
  },
  {
   "cell_type": "code",
   "execution_count": 3,
   "id": "40302013",
   "metadata": {},
   "outputs": [
    {
     "name": "stdout",
     "output_type": "stream",
     "text": [
      "{2, 3, 4}\n",
      "{1, 2, 3, 4, 5}\n",
      "{2, 3, 4}\n"
     ]
    }
   ],
   "source": [
    "# Intersection\n",
    "\n",
    "x = {1,2,3,4,5}\n",
    "y = {2,3,4,55}\n",
    "\n",
    "print(x.intersection(y))              # This will not apply the changes to \"x\"\n",
    "print(x)\n",
    "x.intersection_update(y)       # This will APPLY the changes to \"x\"\n",
    "print(x)"
   ]
  },
  {
   "cell_type": "code",
   "execution_count": 4,
   "id": "c82840d2",
   "metadata": {},
   "outputs": [
    {
     "ename": "SyntaxError",
     "evalue": "unterminated string literal (detected at line 2) (3253805224.py, line 2)",
     "output_type": "error",
     "traceback": [
      "\u001b[1;36m  Cell \u001b[1;32mIn[4], line 2\u001b[1;36m\u001b[0m\n\u001b[1;33m    p = {\"str, \"hello\",True,1,False}\u001b[0m\n\u001b[1;37m                     ^\u001b[0m\n\u001b[1;31mSyntaxError\u001b[0m\u001b[1;31m:\u001b[0m unterminated string literal (detected at line 2)\n"
     ]
    }
   ],
   "source": [
    "# Difference\n",
    "p = {\"str,\"hello\",True,1,False}\n",
    "q = {1,2,3,\"Hello\",\"str\"}\n",
    "print(p.difference(q))\n",
    "p.difference_update(q)\n",
    "print(p)"
   ]
  },
  {
   "cell_type": "code",
   "execution_count": 5,
   "id": "f6d535dc",
   "metadata": {},
   "outputs": [
    {
     "name": "stdout",
     "output_type": "stream",
     "text": [
      "{False, 'hello'}\n",
      "{False, 'hello'}\n"
     ]
    }
   ],
   "source": [
    "# Difference\n",
    "p = {\"str\", \"hello\",True,1,False}\n",
    "q = {1,2,3,\"Hello\",\"str\"}\n",
    "print(p.difference(q))\n",
    "p.difference_update(q)\n",
    "print(p)"
   ]
  },
  {
   "cell_type": "code",
   "execution_count": null,
   "id": "4bc82572",
   "metadata": {},
   "outputs": [],
   "source": []
  },
  {
   "cell_type": "code",
   "execution_count": 6,
   "id": "445a920b",
   "metadata": {},
   "outputs": [
    {
     "name": "stdout",
     "output_type": "stream",
     "text": [
      "{False, 2, 3, 'hello', 'Hello'}\n",
      "{False, 2, 3, 'Hello', 'hello'}\n"
     ]
    }
   ],
   "source": [
    "# Symmetric Difference\n",
    "\n",
    "p = {\"str\", \"hello\",True,1,False}\n",
    "q = {1,2,3,\"Hello\",\"str\"}\n",
    "print(p.symmetric_difference(q))\n",
    "p.symmetric_difference_update(q)\n",
    "print(p)"
   ]
  },
  {
   "cell_type": "code",
   "execution_count": 7,
   "id": "88f599ad",
   "metadata": {},
   "outputs": [
    {
     "name": "stdout",
     "output_type": "stream",
     "text": [
      "1552138954656\n",
      "{False, 2, 3, 'hello', 'Hello'}\n",
      "{False, 2, 3, 'Hello', 'hello'}\n",
      "1552138954656\n"
     ]
    }
   ],
   "source": [
    "# Symmetric Difference\n",
    "\n",
    "p = {\"str\", \"hello\",True,1,False}\n",
    "q = {1,2,3,\"Hello\",\"str\"}\n",
    "print(id(p))\n",
    "print(p.symmetric_difference(q))\n",
    "p.symmetric_difference_update(q)\n",
    "print(p)\n",
    "print(id(p))"
   ]
  },
  {
   "cell_type": "code",
   "execution_count": null,
   "id": "4acc1573",
   "metadata": {},
   "outputs": [],
   "source": []
  },
  {
   "cell_type": "code",
   "execution_count": 21,
   "id": "d96b5f8b",
   "metadata": {},
   "outputs": [
    {
     "name": "stdout",
     "output_type": "stream",
     "text": [
      "{2, 3, 4}\n",
      "{2, 3, 4, 55}\n",
      "None\n"
     ]
    }
   ],
   "source": [
    "# Intersection\n",
    "\n",
    "x = {1,2,3,4,5}\n",
    "y = {2,3,4,55}\n",
    "\n",
    "k = x.intersection(y)              # This will not apply the changes to \"x\"\n",
    "\n",
    "z = x.intersection_update(y)       # This will APPLY the changes to \"x\"\n",
    "\n",
    "print(x)\n",
    "print(y)\n",
    "print(z)"
   ]
  },
  {
   "cell_type": "markdown",
   "id": "be7e1544",
   "metadata": {},
   "source": [
    "# Subset and Superset"
   ]
  },
  {
   "cell_type": "code",
   "execution_count": 9,
   "id": "e9b8ca68",
   "metadata": {},
   "outputs": [
    {
     "data": {
      "text/plain": [
       "True"
      ]
     },
     "execution_count": 9,
     "metadata": {},
     "output_type": "execute_result"
    }
   ],
   "source": [
    "r = {1,2,3,4,5,6,7,8,9,99}\n",
    "s = {1,2,3,4,6,8}\n",
    "\n",
    "s.issubset(r)\n",
    "s.issubset(s)"
   ]
  },
  {
   "cell_type": "code",
   "execution_count": 11,
   "id": "03ec37b5",
   "metadata": {},
   "outputs": [
    {
     "data": {
      "text/plain": [
       "False"
      ]
     },
     "execution_count": 11,
     "metadata": {},
     "output_type": "execute_result"
    }
   ],
   "source": [
    "r = {1,2,3,4,5,6,7,8,9,99}\n",
    "s = {1,2,3,4,6,8}\n",
    "\n",
    "r.issubset(s)"
   ]
  },
  {
   "cell_type": "code",
   "execution_count": 10,
   "id": "230a268c",
   "metadata": {},
   "outputs": [
    {
     "data": {
      "text/plain": [
       "True"
      ]
     },
     "execution_count": 10,
     "metadata": {},
     "output_type": "execute_result"
    }
   ],
   "source": [
    "r = {1,2,3,4,5,6,7,8,9,99}\n",
    "s = {1,2,3,4,6,8}\n",
    "\n",
    "s.issubset(s)"
   ]
  },
  {
   "cell_type": "markdown",
   "id": "67de3d58",
   "metadata": {},
   "source": [
    "# Superset"
   ]
  },
  {
   "cell_type": "code",
   "execution_count": 12,
   "id": "943a8f36",
   "metadata": {},
   "outputs": [
    {
     "data": {
      "text/plain": [
       "True"
      ]
     },
     "execution_count": 12,
     "metadata": {},
     "output_type": "execute_result"
    }
   ],
   "source": [
    "r = {1,2,3,4,5,6,7,8,9,99}\n",
    "s = {1,2,3,4,6,8}\n",
    "\n",
    "r.issuperset(s)"
   ]
  },
  {
   "cell_type": "code",
   "execution_count": 13,
   "id": "67390928",
   "metadata": {},
   "outputs": [
    {
     "data": {
      "text/plain": [
       "False"
      ]
     },
     "execution_count": 13,
     "metadata": {},
     "output_type": "execute_result"
    }
   ],
   "source": [
    "r = {1,2,3,4,5,6,7,8,9,99}\n",
    "s = {1,2,3,4,6,8}\n",
    "\n",
    "s.issuperset(r)"
   ]
  },
  {
   "cell_type": "code",
   "execution_count": 14,
   "id": "cf28cbb5",
   "metadata": {},
   "outputs": [
    {
     "data": {
      "text/plain": [
       "True"
      ]
     },
     "execution_count": 14,
     "metadata": {},
     "output_type": "execute_result"
    }
   ],
   "source": [
    "r = {1,2,3,4,5,6,7,8,9,99}\n",
    "s = {1,2,3,4,6,8}\n",
    "\n",
    "s.issuperset(s)"
   ]
  },
  {
   "cell_type": "code",
   "execution_count": 16,
   "id": "0e5a581d",
   "metadata": {},
   "outputs": [
    {
     "name": "stdout",
     "output_type": "stream",
     "text": [
      "True\n",
      "True\n",
      "False\n",
      "True\n"
     ]
    }
   ],
   "source": [
    "r = {1,2,3,4,5,6,7,8,9,99}\n",
    "s = {1,2,3,4,6,8}\n",
    "\n",
    "print(r.issuperset(r))\n",
    "print(s.issuperset(s))\n",
    "print(s.issuperset(r))\n",
    "print(r.issuperset(s))"
   ]
  },
  {
   "cell_type": "code",
   "execution_count": 17,
   "id": "bb537b55",
   "metadata": {},
   "outputs": [
    {
     "name": "stdout",
     "output_type": "stream",
     "text": [
      "True\n"
     ]
    }
   ],
   "source": [
    "r = {1,2,3,4,5,6,7,8,9,99}\n",
    "s = {1,2,3,4,6,8}\n",
    "\n",
    "d = r.issuperset(r)\n",
    "print(d)"
   ]
  },
  {
   "cell_type": "markdown",
   "id": "ab772b1a",
   "metadata": {},
   "source": [
    "# Disjoint SET"
   ]
  },
  {
   "cell_type": "code",
   "execution_count": 18,
   "id": "e106bdee",
   "metadata": {},
   "outputs": [
    {
     "data": {
      "text/plain": [
       "True"
      ]
     },
     "execution_count": 18,
     "metadata": {},
     "output_type": "execute_result"
    }
   ],
   "source": [
    "v = {1,2,3,77,88,99}\n",
    "w = {22,11,33,44}\n",
    "v.isdisjoint(w)"
   ]
  },
  {
   "cell_type": "code",
   "execution_count": 19,
   "id": "2f58282c",
   "metadata": {},
   "outputs": [
    {
     "data": {
      "text/plain": [
       "False"
      ]
     },
     "execution_count": 19,
     "metadata": {},
     "output_type": "execute_result"
    }
   ],
   "source": [
    "v.isdisjoint(v)"
   ]
  },
  {
   "cell_type": "code",
   "execution_count": null,
   "id": "309cfaf1",
   "metadata": {},
   "outputs": [],
   "source": []
  }
 ],
 "metadata": {
  "kernelspec": {
   "display_name": "Python 3 (ipykernel)",
   "language": "python",
   "name": "python3"
  },
  "language_info": {
   "codemirror_mode": {
    "name": "ipython",
    "version": 3
   },
   "file_extension": ".py",
   "mimetype": "text/x-python",
   "name": "python",
   "nbconvert_exporter": "python",
   "pygments_lexer": "ipython3",
   "version": "3.10.9"
  }
 },
 "nbformat": 4,
 "nbformat_minor": 5
}
