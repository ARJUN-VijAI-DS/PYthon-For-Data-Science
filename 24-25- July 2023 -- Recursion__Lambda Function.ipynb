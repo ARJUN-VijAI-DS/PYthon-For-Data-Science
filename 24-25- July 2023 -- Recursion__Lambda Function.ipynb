{
 "cells": [
  {
   "cell_type": "markdown",
   "id": "581da3ae",
   "metadata": {},
   "source": [
    "## Recursion -- \n",
    "\n",
    "\n",
    "\n",
    "- A recursion function is a function that call itself, **AGAIN and AGAIN**"
   ]
  },
  {
   "cell_type": "code",
   "execution_count": null,
   "id": "3b963bdf",
   "metadata": {},
   "outputs": [],
   "source": [
    "def my_func():\n",
    "    my_func()\n",
    "\n",
    "my_func()        #### Infinite loop is \"FORMED\""
   ]
  },
  {
   "cell_type": "raw",
   "id": "cef8176a",
   "metadata": {},
   "source": [
    "Factorial 4  = 4 * Factorial 3\n",
    "             = 4 * 3 * Factorial 2\n",
    "             = 4 * 3 * 2 * Factorial 1\n",
    "             = 4 * 3 * 2 * 1\n",
    "             = 24\n"
   ]
  },
  {
   "cell_type": "code",
   "execution_count": 1,
   "id": "2e00da17",
   "metadata": {},
   "outputs": [
    {
     "ename": "NameError",
     "evalue": "name 'N' is not defined",
     "output_type": "error",
     "traceback": [
      "\u001b[1;31m---------------------------------------------------------------------------\u001b[0m",
      "\u001b[1;31mNameError\u001b[0m                                 Traceback (most recent call last)",
      "Cell \u001b[1;32mIn[1], line 1\u001b[0m\n\u001b[1;32m----> 1\u001b[0m N \u001b[38;5;241m=\u001b[39m \u001b[38;5;28mint\u001b[39m(\u001b[38;5;28minput\u001b[39m(\u001b[43mN\u001b[49m))\n\u001b[0;32m      2\u001b[0m \u001b[38;5;28;01mdef\u001b[39;00m \u001b[38;5;21mfact\u001b[39m(N):\n\u001b[0;32m      3\u001b[0m     \u001b[38;5;28;01mif\u001b[39;00m N \u001b[38;5;241m==\u001b[39m \u001b[38;5;241m0\u001b[39m:\n",
      "\u001b[1;31mNameError\u001b[0m: name 'N' is not defined"
     ]
    }
   ],
   "source": [
    "N = int(input(N))\n",
    "def fact(N):\n",
    "    if N == 0:\n",
    "        return 1\n",
    "    else:\n",
    "        return N * fact(N-1)\n",
    "    \n",
    "print(\"Factorial of Number is:\", fact(N))"
   ]
  },
  {
   "cell_type": "code",
   "execution_count": 3,
   "id": "4e899ace",
   "metadata": {},
   "outputs": [
    {
     "data": {
      "text/plain": [
       "720"
      ]
     },
     "execution_count": 3,
     "metadata": {},
     "output_type": "execute_result"
    }
   ],
   "source": [
    "6*5*4*3*2*1 "
   ]
  },
  {
   "cell_type": "markdown",
   "id": "192c2c01",
   "metadata": {},
   "source": [
    "## Calculating Factorial  -- \"BY Recursion\" "
   ]
  },
  {
   "cell_type": "code",
   "execution_count": 2,
   "id": "e060db14",
   "metadata": {},
   "outputs": [
    {
     "name": "stdout",
     "output_type": "stream",
     "text": [
      "Factorial of Number is: 720\n"
     ]
    }
   ],
   "source": [
    "def fact(N):\n",
    "    if N == 0:\n",
    "        return 1\n",
    "    else:\n",
    "        return N * fact(N-1)\n",
    "    \n",
    "print(\"Factorial of Number is:\", fact(6))"
   ]
  },
  {
   "cell_type": "code",
   "execution_count": null,
   "id": "d81bb433",
   "metadata": {},
   "outputs": [],
   "source": []
  },
  {
   "cell_type": "code",
   "execution_count": null,
   "id": "c3594436",
   "metadata": {},
   "outputs": [],
   "source": []
  },
  {
   "cell_type": "code",
   "execution_count": null,
   "id": "c0b551e5",
   "metadata": {},
   "outputs": [],
   "source": []
  },
  {
   "cell_type": "code",
   "execution_count": null,
   "id": "a70df00b",
   "metadata": {},
   "outputs": [],
   "source": []
  },
  {
   "cell_type": "code",
   "execution_count": null,
   "id": "8664d7c7",
   "metadata": {},
   "outputs": [],
   "source": []
  },
  {
   "cell_type": "code",
   "execution_count": null,
   "id": "736e5b62",
   "metadata": {},
   "outputs": [],
   "source": []
  },
  {
   "cell_type": "code",
   "execution_count": null,
   "id": "3741dacf",
   "metadata": {},
   "outputs": [],
   "source": []
  },
  {
   "cell_type": "code",
   "execution_count": null,
   "id": "06815df1",
   "metadata": {},
   "outputs": [],
   "source": []
  },
  {
   "cell_type": "markdown",
   "id": "398a8151",
   "metadata": {},
   "source": [
    "## Lambda Function (Anonymous - function)"
   ]
  },
  {
   "cell_type": "code",
   "execution_count": null,
   "id": "44b38da7",
   "metadata": {},
   "outputs": [],
   "source": [
    "#   Used for instant use\n",
    "##  Used for one-TIME \"ONLY\"\n",
    "### Written in just one \"LINE\""
   ]
  },
  {
   "cell_type": "code",
   "execution_count": null,
   "id": "56e5b9b0",
   "metadata": {},
   "outputs": [],
   "source": []
  },
  {
   "cell_type": "code",
   "execution_count": null,
   "id": "80f1459e",
   "metadata": {},
   "outputs": [],
   "source": [
    "# lambda : expression                        --- Coding Formate\n",
    "# lambda (Parameters): expression            --- Coding Formate"
   ]
  },
  {
   "cell_type": "code",
   "execution_count": null,
   "id": "adbdd1b4",
   "metadata": {},
   "outputs": [],
   "source": []
  },
  {
   "cell_type": "code",
   "execution_count": 4,
   "id": "37e09c49",
   "metadata": {},
   "outputs": [
    {
     "data": {
      "text/plain": [
       "<function __main__.<lambda>()>"
      ]
     },
     "execution_count": 4,
     "metadata": {},
     "output_type": "execute_result"
    }
   ],
   "source": [
    "lambda : print(\"Hello World\")              ### Function is \"NOT called\""
   ]
  },
  {
   "cell_type": "code",
   "execution_count": 5,
   "id": "1f29e687",
   "metadata": {},
   "outputs": [
    {
     "name": "stdout",
     "output_type": "stream",
     "text": [
      "Hello World\n"
     ]
    }
   ],
   "source": [
    "(lambda : print(\"Hello World\"))()          ### Function is \"CALLED\""
   ]
  },
  {
   "cell_type": "code",
   "execution_count": 2,
   "id": "14228539",
   "metadata": {},
   "outputs": [
    {
     "name": "stdout",
     "output_type": "stream",
     "text": [
      "\n"
     ]
    }
   ],
   "source": [
    "(lambda : print(\"\"))()          ### Function is \"CALLED\"\n",
    "\n",
    "## print()  -- is an expression as \"None is printed here -- None data type\""
   ]
  },
  {
   "cell_type": "code",
   "execution_count": null,
   "id": "ce5301b5",
   "metadata": {},
   "outputs": [],
   "source": []
  },
  {
   "cell_type": "code",
   "execution_count": 6,
   "id": "cdc6f642",
   "metadata": {},
   "outputs": [
    {
     "data": {
      "text/plain": [
       "<function __main__.<lambda>()>"
      ]
     },
     "execution_count": 6,
     "metadata": {},
     "output_type": "execute_result"
    }
   ],
   "source": [
    "lambda: print(\"Hello World\")              ### Function is \"NOT called\""
   ]
  },
  {
   "cell_type": "code",
   "execution_count": 7,
   "id": "42acbe7a",
   "metadata": {},
   "outputs": [
    {
     "data": {
      "text/plain": [
       "<function __main__.<lambda>()>"
      ]
     },
     "execution_count": 7,
     "metadata": {},
     "output_type": "execute_result"
    }
   ],
   "source": [
    "lambda:print(\"Hello World\")              ### Function is \"NOT called\""
   ]
  },
  {
   "cell_type": "code",
   "execution_count": null,
   "id": "1c0dcf5e",
   "metadata": {},
   "outputs": [],
   "source": []
  },
  {
   "cell_type": "code",
   "execution_count": 8,
   "id": "a20fde21",
   "metadata": {},
   "outputs": [
    {
     "ename": "NameError",
     "evalue": "name 'expression' is not defined",
     "output_type": "error",
     "traceback": [
      "\u001b[1;31m---------------------------------------------------------------------------\u001b[0m",
      "\u001b[1;31mNameError\u001b[0m                                 Traceback (most recent call last)",
      "Cell \u001b[1;32mIn[8], line 1\u001b[0m\n\u001b[1;32m----> 1\u001b[0m help(\u001b[43mexpression\u001b[49m)\n",
      "\u001b[1;31mNameError\u001b[0m: name 'expression' is not defined"
     ]
    }
   ],
   "source": [
    "help(expression)"
   ]
  },
  {
   "cell_type": "code",
   "execution_count": 9,
   "id": "40521562",
   "metadata": {},
   "outputs": [
    {
     "ename": "SyntaxError",
     "evalue": "invalid syntax (670488139.py, line 1)",
     "output_type": "error",
     "traceback": [
      "\u001b[1;36m  Cell \u001b[1;32mIn[9], line 1\u001b[1;36m\u001b[0m\n\u001b[1;33m    help(lambda)\u001b[0m\n\u001b[1;37m               ^\u001b[0m\n\u001b[1;31mSyntaxError\u001b[0m\u001b[1;31m:\u001b[0m invalid syntax\n"
     ]
    }
   ],
   "source": [
    "help(lambda)"
   ]
  },
  {
   "cell_type": "code",
   "execution_count": 12,
   "id": "f2a6e2e7",
   "metadata": {},
   "outputs": [
    {
     "name": "stdout",
     "output_type": "stream",
     "text": [
      "Help on _Helper in module _sitebuiltins object:\n",
      "\n",
      "class _Helper(builtins.object)\n",
      " |  Define the builtin 'help'.\n",
      " |  \n",
      " |  This is a wrapper around pydoc.help that provides a helpful message\n",
      " |  when 'help' is typed at the Python interactive prompt.\n",
      " |  \n",
      " |  Calling help() at the Python prompt starts an interactive help session.\n",
      " |  Calling help(thing) prints help for the python object 'thing'.\n",
      " |  \n",
      " |  Methods defined here:\n",
      " |  \n",
      " |  __call__(self, *args, **kwds)\n",
      " |      Call self as a function.\n",
      " |  \n",
      " |  __repr__(self)\n",
      " |      Return repr(self).\n",
      " |  \n",
      " |  ----------------------------------------------------------------------\n",
      " |  Data descriptors defined here:\n",
      " |  \n",
      " |  __dict__\n",
      " |      dictionary for instance variables (if defined)\n",
      " |  \n",
      " |  __weakref__\n",
      " |      list of weak references to the object (if defined)\n",
      "\n"
     ]
    }
   ],
   "source": [
    "help(help)"
   ]
  },
  {
   "cell_type": "code",
   "execution_count": 5,
   "id": "0a6f517d",
   "metadata": {},
   "outputs": [
    {
     "ename": "SyntaxError",
     "evalue": "cannot assign to lambda (63604583.py, line 2)",
     "output_type": "error",
     "traceback": [
      "\u001b[1;36m  Cell \u001b[1;32mIn[5], line 2\u001b[1;36m\u001b[0m\n\u001b[1;33m    lambda a : sum = 9\u001b[0m\n\u001b[1;37m    ^\u001b[0m\n\u001b[1;31mSyntaxError\u001b[0m\u001b[1;31m:\u001b[0m cannot assign to lambda\n"
     ]
    }
   ],
   "source": [
    "sum = 12\n",
    "lambda a : sum = 9"
   ]
  },
  {
   "cell_type": "code",
   "execution_count": 6,
   "id": "d990c26a",
   "metadata": {},
   "outputs": [
    {
     "ename": "SyntaxError",
     "evalue": "invalid syntax (633983257.py, line 2)",
     "output_type": "error",
     "traceback": [
      "\u001b[1;36m  Cell \u001b[1;32mIn[6], line 2\u001b[1;36m\u001b[0m\n\u001b[1;33m    lambda (a) : sum = 9\u001b[0m\n\u001b[1;37m           ^\u001b[0m\n\u001b[1;31mSyntaxError\u001b[0m\u001b[1;31m:\u001b[0m invalid syntax\n"
     ]
    }
   ],
   "source": [
    "sum = 12\n",
    "lambda (a) : sum = 9"
   ]
  },
  {
   "cell_type": "code",
   "execution_count": 8,
   "id": "7d8723c7",
   "metadata": {},
   "outputs": [
    {
     "ename": "SyntaxError",
     "evalue": "cannot assign to lambda (305360237.py, line 2)",
     "output_type": "error",
     "traceback": [
      "\u001b[1;36m  Cell \u001b[1;32mIn[8], line 2\u001b[1;36m\u001b[0m\n\u001b[1;33m    lambda : sum = 9\u001b[0m\n\u001b[1;37m    ^\u001b[0m\n\u001b[1;31mSyntaxError\u001b[0m\u001b[1;31m:\u001b[0m cannot assign to lambda\n"
     ]
    }
   ],
   "source": [
    "sum = 12\n",
    "lambda : sum = 9 "
   ]
  },
  {
   "cell_type": "code",
   "execution_count": 9,
   "id": "aa344b29",
   "metadata": {},
   "outputs": [
    {
     "ename": "SyntaxError",
     "evalue": "cannot assign to lambda (2531319543.py, line 2)",
     "output_type": "error",
     "traceback": [
      "\u001b[1;36m  Cell \u001b[1;32mIn[9], line 2\u001b[1;36m\u001b[0m\n\u001b[1;33m    lambda : sum = 9\u001b[0m\n\u001b[1;37m    ^\u001b[0m\n\u001b[1;31mSyntaxError\u001b[0m\u001b[1;31m:\u001b[0m cannot assign to lambda\n"
     ]
    }
   ],
   "source": [
    "sum = 9\n",
    "lambda : sum = 9    ## Assignment operators Can't be used  -- Assign -- Error -- It is not an expression"
   ]
  },
  {
   "cell_type": "code",
   "execution_count": null,
   "id": "baa4325c",
   "metadata": {},
   "outputs": [],
   "source": []
  },
  {
   "cell_type": "code",
   "execution_count": null,
   "id": "914474c5",
   "metadata": {},
   "outputs": [],
   "source": []
  },
  {
   "cell_type": "code",
   "execution_count": null,
   "id": "714771f0",
   "metadata": {},
   "outputs": [],
   "source": []
  },
  {
   "cell_type": "code",
   "execution_count": null,
   "id": "04188c28",
   "metadata": {},
   "outputs": [],
   "source": []
  },
  {
   "cell_type": "code",
   "execution_count": 10,
   "id": "85d21794",
   "metadata": {},
   "outputs": [
    {
     "data": {
      "text/plain": [
       "<function __main__.<lambda>(x, y)>"
      ]
     },
     "execution_count": 10,
     "metadata": {},
     "output_type": "execute_result"
    }
   ],
   "source": [
    "(lambda x,y: print(x+y)(10,5))"
   ]
  },
  {
   "cell_type": "code",
   "execution_count": 11,
   "id": "323fbd5e",
   "metadata": {},
   "outputs": [
    {
     "name": "stdout",
     "output_type": "stream",
     "text": [
      "15\n"
     ]
    }
   ],
   "source": [
    "# lambda (Parameters): expression            --- Coding Formate\n",
    "(lambda x,y: print(x+y))(10,5)"
   ]
  },
  {
   "cell_type": "code",
   "execution_count": 7,
   "id": "ac32a12a",
   "metadata": {},
   "outputs": [
    {
     "name": "stdout",
     "output_type": "stream",
     "text": [
      "5\n"
     ]
    }
   ],
   "source": [
    "# lambda (Parameters): expression            --- Coding Formate\n",
    "(lambda x,y: print(x-y))(10,5)"
   ]
  },
  {
   "cell_type": "code",
   "execution_count": null,
   "id": "74b2aeef",
   "metadata": {},
   "outputs": [],
   "source": []
  },
  {
   "cell_type": "code",
   "execution_count": null,
   "id": "fd44bd3f",
   "metadata": {},
   "outputs": [],
   "source": []
  },
  {
   "cell_type": "code",
   "execution_count": 10,
   "id": "6e07fbd0",
   "metadata": {},
   "outputs": [
    {
     "data": {
      "text/plain": [
       "range(1, 7)"
      ]
     },
     "execution_count": 10,
     "metadata": {},
     "output_type": "execute_result"
    }
   ],
   "source": [
    "range(1,7)"
   ]
  },
  {
   "cell_type": "code",
   "execution_count": null,
   "id": "d6519989",
   "metadata": {},
   "outputs": [],
   "source": []
  },
  {
   "cell_type": "code",
   "execution_count": null,
   "id": "d8c70650",
   "metadata": {},
   "outputs": [],
   "source": []
  },
  {
   "cell_type": "code",
   "execution_count": 11,
   "id": "c2fbc5aa",
   "metadata": {},
   "outputs": [
    {
     "data": {
      "text/plain": [
       "<filter at 0x146221c1f60>"
      ]
     },
     "execution_count": 11,
     "metadata": {},
     "output_type": "execute_result"
    }
   ],
   "source": [
    "# filter(function,iterable)\n",
    "filter(lambda x: x%2==0 , (1,2,3,4,5,6,7,8,9,10))"
   ]
  },
  {
   "cell_type": "code",
   "execution_count": 12,
   "id": "7fe1af64",
   "metadata": {},
   "outputs": [
    {
     "data": {
      "text/plain": [
       "filter"
      ]
     },
     "execution_count": 12,
     "metadata": {},
     "output_type": "execute_result"
    }
   ],
   "source": [
    "# filter(function,iterable)\n",
    "type(filter(lambda x: x%2==0 , (1,2,3,4,5,6,7,8,9,10)))"
   ]
  },
  {
   "cell_type": "code",
   "execution_count": 13,
   "id": "990982e6",
   "metadata": {},
   "outputs": [
    {
     "data": {
      "text/plain": [
       "[2, 4, 6, 8, 10]"
      ]
     },
     "execution_count": 13,
     "metadata": {},
     "output_type": "execute_result"
    }
   ],
   "source": [
    "# filter(function,iterable)\n",
    "list(filter(lambda x: x%2==0 , (1,2,3,4,5,6,7,8,9,10)))"
   ]
  },
  {
   "cell_type": "code",
   "execution_count": 14,
   "id": "3db437da",
   "metadata": {},
   "outputs": [
    {
     "data": {
      "text/plain": [
       "[1, 2, 3, 4, 5, 6, 7, 8, 9, 10]"
      ]
     },
     "execution_count": 14,
     "metadata": {},
     "output_type": "execute_result"
    }
   ],
   "source": [
    "# filter(function,iterable)\n",
    "list(filter(lambda x: True , (1,2,3,4,5,6,7,8,9,10)))"
   ]
  },
  {
   "cell_type": "code",
   "execution_count": 15,
   "id": "91c211ff",
   "metadata": {},
   "outputs": [
    {
     "data": {
      "text/plain": [
       "[]"
      ]
     },
     "execution_count": 15,
     "metadata": {},
     "output_type": "execute_result"
    }
   ],
   "source": [
    "# filter(function,iterable)\n",
    "list(filter(lambda x: False , (1,2,3,4,5,6,7,8,9,10)))"
   ]
  },
  {
   "cell_type": "code",
   "execution_count": 16,
   "id": "d809dc5f",
   "metadata": {},
   "outputs": [
    {
     "data": {
      "text/plain": [
       "[]"
      ]
     },
     "execution_count": 16,
     "metadata": {},
     "output_type": "execute_result"
    }
   ],
   "source": [
    "# filter(function,iterable)\n",
    "list(filter(lambda x: None , (1,2,3,4,5,6,7,8,9,10)))"
   ]
  },
  {
   "cell_type": "code",
   "execution_count": 17,
   "id": "b6339c62",
   "metadata": {},
   "outputs": [
    {
     "data": {
      "text/plain": [
       "[1, 2, 3, 4, 5, 6, 7, 8, 9, 10]"
      ]
     },
     "execution_count": 17,
     "metadata": {},
     "output_type": "execute_result"
    }
   ],
   "source": [
    "# filter(function,iterable)\n",
    "list(filter(lambda x: 55 , (1,2,3,4,5,6,7,8,9,10)))   ## 55 is \"True in PYthon\""
   ]
  },
  {
   "cell_type": "code",
   "execution_count": 18,
   "id": "ec20d851",
   "metadata": {},
   "outputs": [
    {
     "data": {
      "text/plain": [
       "[1, 2, 3, 4, 5, 6, 7, 8, 9, 10]"
      ]
     },
     "execution_count": 18,
     "metadata": {},
     "output_type": "execute_result"
    }
   ],
   "source": [
    "# filter(function,iterable)\n",
    "list(filter(lambda x: \"DATA\" , (1,2,3,4,5,6,7,8,9,10)))   ## \"DATA\" is \"True in PYthon\""
   ]
  },
  {
   "cell_type": "code",
   "execution_count": 20,
   "id": "72557b87",
   "metadata": {},
   "outputs": [
    {
     "data": {
      "text/plain": [
       "[]"
      ]
     },
     "execution_count": 20,
     "metadata": {},
     "output_type": "execute_result"
    }
   ],
   "source": [
    "# filter(function,iterable)\n",
    "list(filter(lambda x: 0 , (1,2,3,4,5,6,7,8,9,10)))   ## \"0\" is \"False in PYthon\""
   ]
  },
  {
   "cell_type": "code",
   "execution_count": 21,
   "id": "325237c6",
   "metadata": {},
   "outputs": [
    {
     "data": {
      "text/plain": [
       "()"
      ]
     },
     "execution_count": 21,
     "metadata": {},
     "output_type": "execute_result"
    }
   ],
   "source": [
    "# filter(function,iterable)\n",
    "tuple(filter(lambda x: None , (1,2,3,4,5,6,7,8,9,10)))"
   ]
  },
  {
   "cell_type": "code",
   "execution_count": 22,
   "id": "38c87771",
   "metadata": {},
   "outputs": [
    {
     "data": {
      "text/plain": [
       "(3, 6, 9)"
      ]
     },
     "execution_count": 22,
     "metadata": {},
     "output_type": "execute_result"
    }
   ],
   "source": [
    "# filter(function,iterable)\n",
    "tuple(filter(lambda x: x%3==0 , (1,2,3,4,5,6,7,8,9,10)))"
   ]
  },
  {
   "cell_type": "code",
   "execution_count": 23,
   "id": "ff78cfbf",
   "metadata": {},
   "outputs": [
    {
     "data": {
      "text/plain": [
       "'<filter object at 0x00000146221C2350>'"
      ]
     },
     "execution_count": 23,
     "metadata": {},
     "output_type": "execute_result"
    }
   ],
   "source": [
    "# filter(function,iterable)\n",
    "str(filter(lambda x: x%3==0 , (1,2,3,4,5,6,7,8,9,10)))  ##  find answer yourself"
   ]
  },
  {
   "cell_type": "code",
   "execution_count": 28,
   "id": "051b36bb",
   "metadata": {},
   "outputs": [
    {
     "data": {
      "text/plain": [
       "'Data'"
      ]
     },
     "execution_count": 28,
     "metadata": {},
     "output_type": "execute_result"
    }
   ],
   "source": [
    "str(\"Data\")"
   ]
  },
  {
   "cell_type": "code",
   "execution_count": 29,
   "id": "c78d85e0",
   "metadata": {},
   "outputs": [
    {
     "data": {
      "text/plain": [
       "<filter at 0x146238d4670>"
      ]
     },
     "execution_count": 29,
     "metadata": {},
     "output_type": "execute_result"
    }
   ],
   "source": [
    "# filter(function,iterable)\n",
    "(filter(lambda x: x%3==0 , (1,2,3,4,5,6,7,8,9,10)))"
   ]
  },
  {
   "cell_type": "code",
   "execution_count": null,
   "id": "48e250fd",
   "metadata": {},
   "outputs": [],
   "source": []
  },
  {
   "cell_type": "code",
   "execution_count": 24,
   "id": "e66b57ad",
   "metadata": {},
   "outputs": [
    {
     "ename": "TypeError",
     "evalue": "cannot convert dictionary update sequence element #0 to a sequence",
     "output_type": "error",
     "traceback": [
      "\u001b[1;31m---------------------------------------------------------------------------\u001b[0m",
      "\u001b[1;31mTypeError\u001b[0m                                 Traceback (most recent call last)",
      "Cell \u001b[1;32mIn[24], line 2\u001b[0m\n\u001b[0;32m      1\u001b[0m \u001b[38;5;66;03m# filter(function,iterable)\u001b[39;00m\n\u001b[1;32m----> 2\u001b[0m \u001b[38;5;28;43mdict\u001b[39;49m\u001b[43m(\u001b[49m\u001b[38;5;28;43mfilter\u001b[39;49m\u001b[43m(\u001b[49m\u001b[38;5;28;43;01mlambda\u001b[39;49;00m\u001b[43m \u001b[49m\u001b[43mx\u001b[49m\u001b[43m:\u001b[49m\u001b[43m \u001b[49m\u001b[43mx\u001b[49m\u001b[38;5;241;43m%\u001b[39;49m\u001b[38;5;241;43m3\u001b[39;49m\u001b[38;5;241;43m==\u001b[39;49m\u001b[38;5;241;43m0\u001b[39;49m\u001b[43m \u001b[49m\u001b[43m,\u001b[49m\u001b[43m \u001b[49m\u001b[43m(\u001b[49m\u001b[38;5;241;43m1\u001b[39;49m\u001b[43m,\u001b[49m\u001b[38;5;241;43m2\u001b[39;49m\u001b[43m,\u001b[49m\u001b[38;5;241;43m3\u001b[39;49m\u001b[43m,\u001b[49m\u001b[38;5;241;43m4\u001b[39;49m\u001b[43m,\u001b[49m\u001b[38;5;241;43m5\u001b[39;49m\u001b[43m,\u001b[49m\u001b[38;5;241;43m6\u001b[39;49m\u001b[43m,\u001b[49m\u001b[38;5;241;43m7\u001b[39;49m\u001b[43m,\u001b[49m\u001b[38;5;241;43m8\u001b[39;49m\u001b[43m,\u001b[49m\u001b[38;5;241;43m9\u001b[39;49m\u001b[43m,\u001b[49m\u001b[38;5;241;43m10\u001b[39;49m\u001b[43m)\u001b[49m\u001b[43m)\u001b[49m\u001b[43m)\u001b[49m\n",
      "\u001b[1;31mTypeError\u001b[0m: cannot convert dictionary update sequence element #0 to a sequence"
     ]
    }
   ],
   "source": [
    "# filter(function,iterable)\n",
    "dict(filter(lambda x: x%3==0 , (1,2,3,4,5,6,7,8,9,10)))"
   ]
  },
  {
   "cell_type": "code",
   "execution_count": 25,
   "id": "db4e3b3a",
   "metadata": {},
   "outputs": [
    {
     "ename": "TypeError",
     "evalue": "'filter' object cannot be interpreted as an integer",
     "output_type": "error",
     "traceback": [
      "\u001b[1;31m---------------------------------------------------------------------------\u001b[0m",
      "\u001b[1;31mTypeError\u001b[0m                                 Traceback (most recent call last)",
      "Cell \u001b[1;32mIn[25], line 2\u001b[0m\n\u001b[0;32m      1\u001b[0m \u001b[38;5;66;03m# filter(function,iterable)\u001b[39;00m\n\u001b[1;32m----> 2\u001b[0m \u001b[38;5;28;43mrange\u001b[39;49m\u001b[43m(\u001b[49m\u001b[38;5;28;43mfilter\u001b[39;49m\u001b[43m(\u001b[49m\u001b[38;5;28;43;01mlambda\u001b[39;49;00m\u001b[43m \u001b[49m\u001b[43mx\u001b[49m\u001b[43m:\u001b[49m\u001b[43m \u001b[49m\u001b[43mx\u001b[49m\u001b[38;5;241;43m%\u001b[39;49m\u001b[38;5;241;43m3\u001b[39;49m\u001b[38;5;241;43m==\u001b[39;49m\u001b[38;5;241;43m0\u001b[39;49m\u001b[43m \u001b[49m\u001b[43m,\u001b[49m\u001b[43m \u001b[49m\u001b[43m(\u001b[49m\u001b[38;5;241;43m1\u001b[39;49m\u001b[43m,\u001b[49m\u001b[38;5;241;43m2\u001b[39;49m\u001b[43m,\u001b[49m\u001b[38;5;241;43m3\u001b[39;49m\u001b[43m,\u001b[49m\u001b[38;5;241;43m4\u001b[39;49m\u001b[43m,\u001b[49m\u001b[38;5;241;43m5\u001b[39;49m\u001b[43m,\u001b[49m\u001b[38;5;241;43m6\u001b[39;49m\u001b[43m,\u001b[49m\u001b[38;5;241;43m7\u001b[39;49m\u001b[43m,\u001b[49m\u001b[38;5;241;43m8\u001b[39;49m\u001b[43m,\u001b[49m\u001b[38;5;241;43m9\u001b[39;49m\u001b[43m,\u001b[49m\u001b[38;5;241;43m10\u001b[39;49m\u001b[43m)\u001b[49m\u001b[43m)\u001b[49m\u001b[43m)\u001b[49m\n",
      "\u001b[1;31mTypeError\u001b[0m: 'filter' object cannot be interpreted as an integer"
     ]
    }
   ],
   "source": [
    "# filter(function,iterable)\n",
    "range(filter(lambda x: x%3==0 , (1,2,3,4,5,6,7,8,9,10)))"
   ]
  },
  {
   "cell_type": "code",
   "execution_count": 26,
   "id": "37461517",
   "metadata": {},
   "outputs": [
    {
     "data": {
      "text/plain": [
       "{3, 6, 9}"
      ]
     },
     "execution_count": 26,
     "metadata": {},
     "output_type": "execute_result"
    }
   ],
   "source": [
    "# filter(function,iterable)\n",
    "set(filter(lambda x: x%3==0 , (1,2,3,4,5,6,7,8,9,10)))"
   ]
  },
  {
   "cell_type": "code",
   "execution_count": 27,
   "id": "00109b24",
   "metadata": {},
   "outputs": [
    {
     "data": {
      "text/plain": [
       "filter"
      ]
     },
     "execution_count": 27,
     "metadata": {},
     "output_type": "execute_result"
    }
   ],
   "source": [
    "# filter(function,iterable)\n",
    "type(filter(lambda x: x%3==0 , (1,2,3,4,5,6,7,8,9,10)))"
   ]
  },
  {
   "cell_type": "code",
   "execution_count": 42,
   "id": "fbc58568",
   "metadata": {},
   "outputs": [
    {
     "data": {
      "text/plain": [
       "True"
      ]
     },
     "execution_count": 42,
     "metadata": {},
     "output_type": "execute_result"
    }
   ],
   "source": [
    "# filter(function,iterable)\n",
    "bool(filter(lambda x: x%3==0 , (1,2,3,4,5,6,7,8,9,10)))"
   ]
  },
  {
   "cell_type": "code",
   "execution_count": 43,
   "id": "218d5773",
   "metadata": {},
   "outputs": [
    {
     "ename": "TypeError",
     "evalue": "int() argument must be a string, a bytes-like object or a real number, not 'filter'",
     "output_type": "error",
     "traceback": [
      "\u001b[1;31m---------------------------------------------------------------------------\u001b[0m",
      "\u001b[1;31mTypeError\u001b[0m                                 Traceback (most recent call last)",
      "Cell \u001b[1;32mIn[43], line 2\u001b[0m\n\u001b[0;32m      1\u001b[0m \u001b[38;5;66;03m# filter(function,iterable)\u001b[39;00m\n\u001b[1;32m----> 2\u001b[0m \u001b[38;5;28;43mint\u001b[39;49m\u001b[43m(\u001b[49m\u001b[38;5;28;43mfilter\u001b[39;49m\u001b[43m(\u001b[49m\u001b[38;5;28;43;01mlambda\u001b[39;49;00m\u001b[43m \u001b[49m\u001b[43mx\u001b[49m\u001b[43m:\u001b[49m\u001b[43m \u001b[49m\u001b[43mx\u001b[49m\u001b[38;5;241;43m%\u001b[39;49m\u001b[38;5;241;43m3\u001b[39;49m\u001b[38;5;241;43m==\u001b[39;49m\u001b[38;5;241;43m0\u001b[39;49m\u001b[43m \u001b[49m\u001b[43m,\u001b[49m\u001b[43m \u001b[49m\u001b[43m(\u001b[49m\u001b[38;5;241;43m1\u001b[39;49m\u001b[43m,\u001b[49m\u001b[38;5;241;43m2\u001b[39;49m\u001b[43m,\u001b[49m\u001b[38;5;241;43m3\u001b[39;49m\u001b[43m,\u001b[49m\u001b[38;5;241;43m4\u001b[39;49m\u001b[43m,\u001b[49m\u001b[38;5;241;43m5\u001b[39;49m\u001b[43m,\u001b[49m\u001b[38;5;241;43m6\u001b[39;49m\u001b[43m,\u001b[49m\u001b[38;5;241;43m7\u001b[39;49m\u001b[43m,\u001b[49m\u001b[38;5;241;43m8\u001b[39;49m\u001b[43m,\u001b[49m\u001b[38;5;241;43m9\u001b[39;49m\u001b[43m,\u001b[49m\u001b[38;5;241;43m10\u001b[39;49m\u001b[43m)\u001b[49m\u001b[43m)\u001b[49m\u001b[43m)\u001b[49m\n",
      "\u001b[1;31mTypeError\u001b[0m: int() argument must be a string, a bytes-like object or a real number, not 'filter'"
     ]
    }
   ],
   "source": [
    "# filter(function,iterable)\n",
    "int(filter(lambda x: x%3==0 , (1,2,3,4,5,6,7,8,9,10)))"
   ]
  },
  {
   "cell_type": "code",
   "execution_count": 44,
   "id": "91203ada",
   "metadata": {},
   "outputs": [
    {
     "ename": "TypeError",
     "evalue": "float() argument must be a string or a real number, not 'filter'",
     "output_type": "error",
     "traceback": [
      "\u001b[1;31m---------------------------------------------------------------------------\u001b[0m",
      "\u001b[1;31mTypeError\u001b[0m                                 Traceback (most recent call last)",
      "Cell \u001b[1;32mIn[44], line 2\u001b[0m\n\u001b[0;32m      1\u001b[0m \u001b[38;5;66;03m# filter(function,iterable)\u001b[39;00m\n\u001b[1;32m----> 2\u001b[0m \u001b[38;5;28;43mfloat\u001b[39;49m\u001b[43m(\u001b[49m\u001b[38;5;28;43mfilter\u001b[39;49m\u001b[43m(\u001b[49m\u001b[38;5;28;43;01mlambda\u001b[39;49;00m\u001b[43m \u001b[49m\u001b[43mx\u001b[49m\u001b[43m:\u001b[49m\u001b[43m \u001b[49m\u001b[43mx\u001b[49m\u001b[38;5;241;43m%\u001b[39;49m\u001b[38;5;241;43m3\u001b[39;49m\u001b[38;5;241;43m==\u001b[39;49m\u001b[38;5;241;43m0\u001b[39;49m\u001b[43m \u001b[49m\u001b[43m,\u001b[49m\u001b[43m \u001b[49m\u001b[43m(\u001b[49m\u001b[38;5;241;43m1\u001b[39;49m\u001b[43m,\u001b[49m\u001b[38;5;241;43m2\u001b[39;49m\u001b[43m,\u001b[49m\u001b[38;5;241;43m3\u001b[39;49m\u001b[43m,\u001b[49m\u001b[38;5;241;43m4\u001b[39;49m\u001b[43m,\u001b[49m\u001b[38;5;241;43m5\u001b[39;49m\u001b[43m,\u001b[49m\u001b[38;5;241;43m6\u001b[39;49m\u001b[43m,\u001b[49m\u001b[38;5;241;43m7\u001b[39;49m\u001b[43m,\u001b[49m\u001b[38;5;241;43m8\u001b[39;49m\u001b[43m,\u001b[49m\u001b[38;5;241;43m9\u001b[39;49m\u001b[43m,\u001b[49m\u001b[38;5;241;43m10\u001b[39;49m\u001b[43m)\u001b[49m\u001b[43m)\u001b[49m\u001b[43m)\u001b[49m\n",
      "\u001b[1;31mTypeError\u001b[0m: float() argument must be a string or a real number, not 'filter'"
     ]
    }
   ],
   "source": [
    "# filter(function,iterable)\n",
    "float(filter(lambda x: x%3==0 , (1,2,3,4,5,6,7,8,9,10)))"
   ]
  },
  {
   "cell_type": "code",
   "execution_count": 46,
   "id": "c012f47d",
   "metadata": {},
   "outputs": [
    {
     "name": "stdout",
     "output_type": "stream",
     "text": [
      "Help on class filter in module builtins:\n",
      "\n",
      "class filter(object)\n",
      " |  filter(function or None, iterable) --> filter object\n",
      " |  \n",
      " |  Return an iterator yielding those items of iterable for which function(item)\n",
      " |  is true. If function is None, return the items that are true.\n",
      " |  \n",
      " |  Methods defined here:\n",
      " |  \n",
      " |  __getattribute__(self, name, /)\n",
      " |      Return getattr(self, name).\n",
      " |  \n",
      " |  __iter__(self, /)\n",
      " |      Implement iter(self).\n",
      " |  \n",
      " |  __next__(self, /)\n",
      " |      Implement next(self).\n",
      " |  \n",
      " |  __reduce__(...)\n",
      " |      Return state information for pickling.\n",
      " |  \n",
      " |  ----------------------------------------------------------------------\n",
      " |  Static methods defined here:\n",
      " |  \n",
      " |  __new__(*args, **kwargs) from builtins.type\n",
      " |      Create and return a new object.  See help(type) for accurate signature.\n",
      "\n"
     ]
    }
   ],
   "source": [
    "help(filter)"
   ]
  },
  {
   "cell_type": "code",
   "execution_count": null,
   "id": "44778704",
   "metadata": {},
   "outputs": [],
   "source": []
  },
  {
   "cell_type": "code",
   "execution_count": null,
   "id": "98c7c195",
   "metadata": {},
   "outputs": [],
   "source": []
  },
  {
   "cell_type": "code",
   "execution_count": null,
   "id": "97c43e21",
   "metadata": {},
   "outputs": [],
   "source": []
  },
  {
   "cell_type": "code",
   "execution_count": 30,
   "id": "687e8092",
   "metadata": {},
   "outputs": [
    {
     "name": "stdout",
     "output_type": "stream",
     "text": [
      "Result is: <map object at 0x00000146238D6A10>\n"
     ]
    }
   ],
   "source": [
    "## map(function,iterable)\n",
    "### Takes a function as a first argument and applies it to each of the elment of the iterable\n",
    "\n",
    "list11 = [4,5,6,89,88,90]\n",
    "list22 = (map(lambda y : y-5, list11))\n",
    "print(\"Result is:\", list22)"
   ]
  },
  {
   "cell_type": "code",
   "execution_count": 31,
   "id": "2aa6277a",
   "metadata": {},
   "outputs": [
    {
     "name": "stdout",
     "output_type": "stream",
     "text": [
      "Result is: [-1, 0, 1, 84, 83, 85]\n"
     ]
    }
   ],
   "source": [
    "## map(function,iterable)\n",
    "### Takes a function as a first argument and applies it to each of the elment of the iterable\n",
    "\n",
    "list11 = [4,5,6,89,88,90]\n",
    "list22 = list(map(lambda y : y-5, list11))\n",
    "print(\"Result is:\", list22)"
   ]
  },
  {
   "cell_type": "code",
   "execution_count": 32,
   "id": "5ead26f8",
   "metadata": {},
   "outputs": [
    {
     "name": "stdout",
     "output_type": "stream",
     "text": [
      "Result is: ['DATA', 'DATA', 'DATA', 'DATA', 'DATA', 'DATA']\n"
     ]
    }
   ],
   "source": [
    "## map(function,iterable)\n",
    "### Takes a function as a first argument and applies it to each of the elment of the iterable\n",
    "\n",
    "list11 = [4,5,6,89,88,90]\n",
    "list22 = list(map(lambda y : \"DATA\", list11))\n",
    "print(\"Result is:\", list22)"
   ]
  },
  {
   "cell_type": "code",
   "execution_count": 33,
   "id": "0012f149",
   "metadata": {},
   "outputs": [
    {
     "name": "stdout",
     "output_type": "stream",
     "text": [
      "Result is: ('DATA', 'DATA', 'DATA', 'DATA', 'DATA', 'DATA')\n"
     ]
    }
   ],
   "source": [
    "## map(function,iterable)\n",
    "### Takes a function as a first argument and applies it to each of the elment of the iterable\n",
    "\n",
    "list11 = [4,5,6,89,88,90]\n",
    "list22 = tuple(map(lambda y : \"DATA\", list11))\n",
    "print(\"Result is:\", list22)"
   ]
  },
  {
   "cell_type": "code",
   "execution_count": 34,
   "id": "a731cc26",
   "metadata": {},
   "outputs": [
    {
     "name": "stdout",
     "output_type": "stream",
     "text": [
      "Result is: {'DATA'}\n"
     ]
    }
   ],
   "source": [
    "## map(function,iterable)\n",
    "### Takes a function as a first argument and applies it to each of the elment of the iterable\n",
    "\n",
    "list11 = [4,5,6,89,88,90]\n",
    "list22 = set(map(lambda y : \"DATA\", list11))\n",
    "print(\"Result is:\", list22)"
   ]
  },
  {
   "cell_type": "code",
   "execution_count": 35,
   "id": "94787ad5",
   "metadata": {},
   "outputs": [
    {
     "name": "stdout",
     "output_type": "stream",
     "text": [
      "Result is: <map object at 0x00000146238A9D50>\n"
     ]
    }
   ],
   "source": [
    "## map(function,iterable)\n",
    "### Takes a function as a first argument and applies it to each of the elment of the iterable\n",
    "\n",
    "list11 = [4,5,6,89,88,90]\n",
    "list22 = str(map(lambda y : \"DATA\", list11))\n",
    "print(\"Result is:\", list22)"
   ]
  },
  {
   "cell_type": "code",
   "execution_count": 36,
   "id": "55a2c36c",
   "metadata": {},
   "outputs": [
    {
     "ename": "ValueError",
     "evalue": "dictionary update sequence element #0 has length 4; 2 is required",
     "output_type": "error",
     "traceback": [
      "\u001b[1;31m---------------------------------------------------------------------------\u001b[0m",
      "\u001b[1;31mValueError\u001b[0m                                Traceback (most recent call last)",
      "Cell \u001b[1;32mIn[36], line 5\u001b[0m\n\u001b[0;32m      1\u001b[0m \u001b[38;5;66;03m## map(function,iterable)\u001b[39;00m\n\u001b[0;32m      2\u001b[0m \u001b[38;5;66;03m### Takes a function as a first argument and applies it to each of the elment of the iterable\u001b[39;00m\n\u001b[0;32m      4\u001b[0m list11 \u001b[38;5;241m=\u001b[39m [\u001b[38;5;241m4\u001b[39m,\u001b[38;5;241m5\u001b[39m,\u001b[38;5;241m6\u001b[39m,\u001b[38;5;241m89\u001b[39m,\u001b[38;5;241m88\u001b[39m,\u001b[38;5;241m90\u001b[39m]\n\u001b[1;32m----> 5\u001b[0m list22 \u001b[38;5;241m=\u001b[39m \u001b[38;5;28;43mdict\u001b[39;49m\u001b[43m(\u001b[49m\u001b[38;5;28;43mmap\u001b[39;49m\u001b[43m(\u001b[49m\u001b[38;5;28;43;01mlambda\u001b[39;49;00m\u001b[43m \u001b[49m\u001b[43my\u001b[49m\u001b[43m \u001b[49m\u001b[43m:\u001b[49m\u001b[43m \u001b[49m\u001b[38;5;124;43m\"\u001b[39;49m\u001b[38;5;124;43mDATA\u001b[39;49m\u001b[38;5;124;43m\"\u001b[39;49m\u001b[43m,\u001b[49m\u001b[43m \u001b[49m\u001b[43mlist11\u001b[49m\u001b[43m)\u001b[49m\u001b[43m)\u001b[49m\n\u001b[0;32m      6\u001b[0m \u001b[38;5;28mprint\u001b[39m(\u001b[38;5;124m\"\u001b[39m\u001b[38;5;124mResult is:\u001b[39m\u001b[38;5;124m\"\u001b[39m, list22)\n",
      "\u001b[1;31mValueError\u001b[0m: dictionary update sequence element #0 has length 4; 2 is required"
     ]
    }
   ],
   "source": [
    "## map(function,iterable)\n",
    "### Takes a function as a first argument and applies it to each of the elment of the iterable\n",
    "\n",
    "list11 = [4,5,6,89,88,90]\n",
    "list22 = dict(map(lambda y : \"DATA\", list11))\n",
    "print(\"Result is:\", list22)"
   ]
  },
  {
   "cell_type": "code",
   "execution_count": 37,
   "id": "4da57ad1",
   "metadata": {},
   "outputs": [
    {
     "ename": "TypeError",
     "evalue": "'map' object cannot be interpreted as an integer",
     "output_type": "error",
     "traceback": [
      "\u001b[1;31m---------------------------------------------------------------------------\u001b[0m",
      "\u001b[1;31mTypeError\u001b[0m                                 Traceback (most recent call last)",
      "Cell \u001b[1;32mIn[37], line 5\u001b[0m\n\u001b[0;32m      1\u001b[0m \u001b[38;5;66;03m## map(function,iterable)\u001b[39;00m\n\u001b[0;32m      2\u001b[0m \u001b[38;5;66;03m### Takes a function as a first argument and applies it to each of the elment of the iterable\u001b[39;00m\n\u001b[0;32m      4\u001b[0m list11 \u001b[38;5;241m=\u001b[39m [\u001b[38;5;241m4\u001b[39m,\u001b[38;5;241m5\u001b[39m,\u001b[38;5;241m6\u001b[39m,\u001b[38;5;241m89\u001b[39m,\u001b[38;5;241m88\u001b[39m,\u001b[38;5;241m90\u001b[39m]\n\u001b[1;32m----> 5\u001b[0m list22 \u001b[38;5;241m=\u001b[39m \u001b[38;5;28;43mrange\u001b[39;49m\u001b[43m(\u001b[49m\u001b[38;5;28;43mmap\u001b[39;49m\u001b[43m(\u001b[49m\u001b[38;5;28;43;01mlambda\u001b[39;49;00m\u001b[43m \u001b[49m\u001b[43my\u001b[49m\u001b[43m \u001b[49m\u001b[43m:\u001b[49m\u001b[43m \u001b[49m\u001b[38;5;124;43m\"\u001b[39;49m\u001b[38;5;124;43mDATA\u001b[39;49m\u001b[38;5;124;43m\"\u001b[39;49m\u001b[43m,\u001b[49m\u001b[43m \u001b[49m\u001b[43mlist11\u001b[49m\u001b[43m)\u001b[49m\u001b[43m)\u001b[49m\n\u001b[0;32m      6\u001b[0m \u001b[38;5;28mprint\u001b[39m(\u001b[38;5;124m\"\u001b[39m\u001b[38;5;124mResult is:\u001b[39m\u001b[38;5;124m\"\u001b[39m, list22)\n",
      "\u001b[1;31mTypeError\u001b[0m: 'map' object cannot be interpreted as an integer"
     ]
    }
   ],
   "source": [
    "## map(function,iterable)\n",
    "### Takes a function as a first argument and applies it to each of the elment of the iterable\n",
    "\n",
    "list11 = [4,5,6,89,88,90]\n",
    "list22 = range(map(lambda y : \"DATA\", list11))\n",
    "print(\"Result is:\", list22)"
   ]
  },
  {
   "cell_type": "code",
   "execution_count": 38,
   "id": "66c37fb9",
   "metadata": {},
   "outputs": [
    {
     "name": "stdout",
     "output_type": "stream",
     "text": [
      "Result is: True\n"
     ]
    }
   ],
   "source": [
    "## map(function,iterable)\n",
    "### Takes a function as a first argument and applies it to each of the elment of the iterable\n",
    "\n",
    "list11 = [4,5,6,89,88,90]\n",
    "list22 = bool(map(lambda y : \"DATA\", list11))\n",
    "print(\"Result is:\", list22)"
   ]
  },
  {
   "cell_type": "code",
   "execution_count": 39,
   "id": "3f1a1831",
   "metadata": {},
   "outputs": [
    {
     "ename": "TypeError",
     "evalue": "int() argument must be a string, a bytes-like object or a real number, not 'map'",
     "output_type": "error",
     "traceback": [
      "\u001b[1;31m---------------------------------------------------------------------------\u001b[0m",
      "\u001b[1;31mTypeError\u001b[0m                                 Traceback (most recent call last)",
      "Cell \u001b[1;32mIn[39], line 5\u001b[0m\n\u001b[0;32m      1\u001b[0m \u001b[38;5;66;03m## map(function,iterable)\u001b[39;00m\n\u001b[0;32m      2\u001b[0m \u001b[38;5;66;03m### Takes a function as a first argument and applies it to each of the elment of the iterable\u001b[39;00m\n\u001b[0;32m      4\u001b[0m list11 \u001b[38;5;241m=\u001b[39m [\u001b[38;5;241m4\u001b[39m,\u001b[38;5;241m5\u001b[39m,\u001b[38;5;241m6\u001b[39m,\u001b[38;5;241m89\u001b[39m,\u001b[38;5;241m88\u001b[39m,\u001b[38;5;241m90\u001b[39m]\n\u001b[1;32m----> 5\u001b[0m list22 \u001b[38;5;241m=\u001b[39m \u001b[38;5;28;43mint\u001b[39;49m\u001b[43m(\u001b[49m\u001b[38;5;28;43mmap\u001b[39;49m\u001b[43m(\u001b[49m\u001b[38;5;28;43;01mlambda\u001b[39;49;00m\u001b[43m \u001b[49m\u001b[43my\u001b[49m\u001b[43m \u001b[49m\u001b[43m:\u001b[49m\u001b[43m \u001b[49m\u001b[38;5;124;43m\"\u001b[39;49m\u001b[38;5;124;43mDATA\u001b[39;49m\u001b[38;5;124;43m\"\u001b[39;49m\u001b[43m,\u001b[49m\u001b[43m \u001b[49m\u001b[43mlist11\u001b[49m\u001b[43m)\u001b[49m\u001b[43m)\u001b[49m\n\u001b[0;32m      6\u001b[0m \u001b[38;5;28mprint\u001b[39m(\u001b[38;5;124m\"\u001b[39m\u001b[38;5;124mResult is:\u001b[39m\u001b[38;5;124m\"\u001b[39m, list22)\n",
      "\u001b[1;31mTypeError\u001b[0m: int() argument must be a string, a bytes-like object or a real number, not 'map'"
     ]
    }
   ],
   "source": [
    "## map(function,iterable)\n",
    "### Takes a function as a first argument and applies it to each of the elment of the iterable\n",
    "\n",
    "list11 = [4,5,6,89,88,90]\n",
    "list22 = int(map(lambda y : \"DATA\", list11))\n",
    "print(\"Result is:\", list22)"
   ]
  },
  {
   "cell_type": "code",
   "execution_count": 40,
   "id": "ada2e802",
   "metadata": {},
   "outputs": [
    {
     "ename": "TypeError",
     "evalue": "float() argument must be a string or a real number, not 'map'",
     "output_type": "error",
     "traceback": [
      "\u001b[1;31m---------------------------------------------------------------------------\u001b[0m",
      "\u001b[1;31mTypeError\u001b[0m                                 Traceback (most recent call last)",
      "Cell \u001b[1;32mIn[40], line 5\u001b[0m\n\u001b[0;32m      1\u001b[0m \u001b[38;5;66;03m## map(function,iterable)\u001b[39;00m\n\u001b[0;32m      2\u001b[0m \u001b[38;5;66;03m### Takes a function as a first argument and applies it to each of the elment of the iterable\u001b[39;00m\n\u001b[0;32m      4\u001b[0m list11 \u001b[38;5;241m=\u001b[39m [\u001b[38;5;241m4\u001b[39m,\u001b[38;5;241m5\u001b[39m,\u001b[38;5;241m6\u001b[39m,\u001b[38;5;241m89\u001b[39m,\u001b[38;5;241m88\u001b[39m,\u001b[38;5;241m90\u001b[39m]\n\u001b[1;32m----> 5\u001b[0m list22 \u001b[38;5;241m=\u001b[39m \u001b[38;5;28;43mfloat\u001b[39;49m\u001b[43m(\u001b[49m\u001b[38;5;28;43mmap\u001b[39;49m\u001b[43m(\u001b[49m\u001b[38;5;28;43;01mlambda\u001b[39;49;00m\u001b[43m \u001b[49m\u001b[43my\u001b[49m\u001b[43m \u001b[49m\u001b[43m:\u001b[49m\u001b[43m \u001b[49m\u001b[38;5;124;43m\"\u001b[39;49m\u001b[38;5;124;43mDATA\u001b[39;49m\u001b[38;5;124;43m\"\u001b[39;49m\u001b[43m,\u001b[49m\u001b[43m \u001b[49m\u001b[43mlist11\u001b[49m\u001b[43m)\u001b[49m\u001b[43m)\u001b[49m\n\u001b[0;32m      6\u001b[0m \u001b[38;5;28mprint\u001b[39m(\u001b[38;5;124m\"\u001b[39m\u001b[38;5;124mResult is:\u001b[39m\u001b[38;5;124m\"\u001b[39m, list22)\n",
      "\u001b[1;31mTypeError\u001b[0m: float() argument must be a string or a real number, not 'map'"
     ]
    }
   ],
   "source": [
    "## map(function,iterable)\n",
    "### Takes a function as a first argument and applies it to each of the elment of the iterable\n",
    "\n",
    "list11 = [4,5,6,89,88,90]\n",
    "list22 = float(map(lambda y : \"DATA\", list11))\n",
    "print(\"Result is:\", list22)"
   ]
  },
  {
   "cell_type": "code",
   "execution_count": 41,
   "id": "fbcf90c7",
   "metadata": {},
   "outputs": [
    {
     "name": "stdout",
     "output_type": "stream",
     "text": [
      "Result is: <class 'map'>\n"
     ]
    }
   ],
   "source": [
    "## map(function,iterable)\n",
    "### Takes a function as a first argument and applies it to each of the elment of the iterable\n",
    "\n",
    "list11 = [4,5,6,89,88,90]\n",
    "list22 = type(map(lambda y : \"DATA\", list11))\n",
    "print(\"Result is:\", list22)"
   ]
  },
  {
   "cell_type": "code",
   "execution_count": 45,
   "id": "96f75c15",
   "metadata": {},
   "outputs": [
    {
     "name": "stdout",
     "output_type": "stream",
     "text": [
      "Help on class map in module builtins:\n",
      "\n",
      "class map(object)\n",
      " |  map(func, *iterables) --> map object\n",
      " |  \n",
      " |  Make an iterator that computes the function using arguments from\n",
      " |  each of the iterables.  Stops when the shortest iterable is exhausted.\n",
      " |  \n",
      " |  Methods defined here:\n",
      " |  \n",
      " |  __getattribute__(self, name, /)\n",
      " |      Return getattr(self, name).\n",
      " |  \n",
      " |  __iter__(self, /)\n",
      " |      Implement iter(self).\n",
      " |  \n",
      " |  __next__(self, /)\n",
      " |      Implement next(self).\n",
      " |  \n",
      " |  __reduce__(...)\n",
      " |      Return state information for pickling.\n",
      " |  \n",
      " |  ----------------------------------------------------------------------\n",
      " |  Static methods defined here:\n",
      " |  \n",
      " |  __new__(*args, **kwargs) from builtins.type\n",
      " |      Create and return a new object.  See help(type) for accurate signature.\n",
      "\n"
     ]
    }
   ],
   "source": [
    "help(map)"
   ]
  },
  {
   "cell_type": "code",
   "execution_count": null,
   "id": "ece52289",
   "metadata": {},
   "outputs": [],
   "source": []
  },
  {
   "cell_type": "code",
   "execution_count": 47,
   "id": "6397f9ae",
   "metadata": {},
   "outputs": [
    {
     "ename": "SyntaxError",
     "evalue": "invalid syntax (1745699923.py, line 1)",
     "output_type": "error",
     "traceback": [
      "\u001b[1;36m  Cell \u001b[1;32mIn[47], line 1\u001b[1;36m\u001b[0m\n\u001b[1;33m    (lambda x : if(x%2==0): print(x)) (2)\u001b[0m\n\u001b[1;37m                ^\u001b[0m\n\u001b[1;31mSyntaxError\u001b[0m\u001b[1;31m:\u001b[0m invalid syntax\n"
     ]
    }
   ],
   "source": [
    "(lambda x : if(x%2==0): print(x)) (2)"
   ]
  },
  {
   "cell_type": "code",
   "execution_count": 48,
   "id": "989163b0",
   "metadata": {},
   "outputs": [
    {
     "ename": "NameError",
     "evalue": "name 'x' is not defined",
     "output_type": "error",
     "traceback": [
      "\u001b[1;31m---------------------------------------------------------------------------\u001b[0m",
      "\u001b[1;31mNameError\u001b[0m                                 Traceback (most recent call last)",
      "Cell \u001b[1;32mIn[48], line 1\u001b[0m\n\u001b[1;32m----> 1\u001b[0m \u001b[38;5;28;01mif\u001b[39;00m(x\u001b[38;5;241m%\u001b[39m\u001b[38;5;241m2\u001b[39m\u001b[38;5;241m==\u001b[39m\u001b[38;5;241m0\u001b[39m): \u001b[38;5;28mprint\u001b[39m(x)\n",
      "\u001b[1;31mNameError\u001b[0m: name 'x' is not defined"
     ]
    }
   ],
   "source": [
    "if(x%2==0): print(x)"
   ]
  },
  {
   "cell_type": "code",
   "execution_count": 50,
   "id": "9a7876d4",
   "metadata": {},
   "outputs": [
    {
     "name": "stdout",
     "output_type": "stream",
     "text": [
      "10\n"
     ]
    }
   ],
   "source": [
    "x = 10\n",
    "if(x%2==0): print(x)"
   ]
  },
  {
   "cell_type": "code",
   "execution_count": 51,
   "id": "ee4cee3b",
   "metadata": {},
   "outputs": [
    {
     "ename": "SyntaxError",
     "evalue": "invalid syntax (922344802.py, line 2)",
     "output_type": "error",
     "traceback": [
      "\u001b[1;36m  Cell \u001b[1;32mIn[51], line 2\u001b[1;36m\u001b[0m\n\u001b[1;33m    (lambda x : if(z%2==0): print(z)) ()\u001b[0m\n\u001b[1;37m                ^\u001b[0m\n\u001b[1;31mSyntaxError\u001b[0m\u001b[1;31m:\u001b[0m invalid syntax\n"
     ]
    }
   ],
   "source": [
    "z = 10\n",
    "(lambda x : if(z%2==0): print(z)) ()"
   ]
  },
  {
   "cell_type": "code",
   "execution_count": 52,
   "id": "c5e3a9d0",
   "metadata": {},
   "outputs": [
    {
     "ename": "SyntaxError",
     "evalue": "invalid syntax (2316274839.py, line 2)",
     "output_type": "error",
     "traceback": [
      "\u001b[1;36m  Cell \u001b[1;32mIn[52], line 2\u001b[1;36m\u001b[0m\n\u001b[1;33m    (lambda x : if(z%2==0): print(z)) (10)\u001b[0m\n\u001b[1;37m                ^\u001b[0m\n\u001b[1;31mSyntaxError\u001b[0m\u001b[1;31m:\u001b[0m invalid syntax\n"
     ]
    }
   ],
   "source": [
    "z = 10\n",
    "(lambda x : if(z%2==0): print(z)) (10)"
   ]
  },
  {
   "cell_type": "code",
   "execution_count": 1,
   "id": "083a34a0",
   "metadata": {},
   "outputs": [
    {
     "name": "stdout",
     "output_type": "stream",
     "text": [
      "55 99\n"
     ]
    }
   ],
   "source": [
    "## Single Line if statement\n",
    "\n",
    "x = 55\n",
    "y = 99\n",
    "\n",
    "if x>y: print(x)\n",
    "elif x == y: print(y)\n",
    "else: print(x,y)\n"
   ]
  },
  {
   "cell_type": "code",
   "execution_count": null,
   "id": "df14be13",
   "metadata": {},
   "outputs": [],
   "source": []
  }
 ],
 "metadata": {
  "kernelspec": {
   "display_name": "Python 3 (ipykernel)",
   "language": "python",
   "name": "python3"
  },
  "language_info": {
   "codemirror_mode": {
    "name": "ipython",
    "version": 3
   },
   "file_extension": ".py",
   "mimetype": "text/x-python",
   "name": "python",
   "nbconvert_exporter": "python",
   "pygments_lexer": "ipython3",
   "version": "3.10.9"
  }
 },
 "nbformat": 4,
 "nbformat_minor": 5
}
