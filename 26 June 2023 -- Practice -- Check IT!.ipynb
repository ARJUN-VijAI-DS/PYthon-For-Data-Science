{
 "cells": [
  {
   "cell_type": "markdown",
   "id": "70cfc9c6",
   "metadata": {},
   "source": [
    "# Practice "
   ]
  },
  {
   "cell_type": "code",
   "execution_count": 1,
   "id": "bf666e18",
   "metadata": {
    "scrolled": true
   },
   "outputs": [
    {
     "name": "stdout",
     "output_type": "stream",
     "text": [
      "1772535778752\n",
      "<class 'NoneType'>\n",
      "[12, 13, 14, 66, 'DATA', 'Scientist']\n",
      "None\n",
      "1772535778752\n",
      "140716162379456\n"
     ]
    }
   ],
   "source": [
    "lisT = [12, 13, 14, 66, \"DATA\"]\n",
    "print(id(lisT))\n",
    "z = lisT.append(\"Scientist\")\n",
    "print(type(z))\n",
    "print(lisT)\n",
    "\n",
    "print(z)\n",
    "\n",
    "print(id(lisT))\n",
    "print(id(z))"
   ]
  },
  {
   "cell_type": "code",
   "execution_count": 1,
   "id": "8e65d40a",
   "metadata": {},
   "outputs": [
    {
     "name": "stdout",
     "output_type": "stream",
     "text": [
      "1981716227776\n",
      "<class 'NoneType'>\n",
      "None\n",
      "140716162379456\n"
     ]
    }
   ],
   "source": [
    "k = [12, 13, 14, 66, \"DATA\"]\n",
    "print(id(k))\n",
    "k = k.append(\"Scientist\")\n",
    "print(type(k))\n",
    "print(k)\n",
    "print(id(k))"
   ]
  },
  {
   "cell_type": "code",
   "execution_count": null,
   "id": "d1903db8",
   "metadata": {},
   "outputs": [],
   "source": []
  },
  {
   "cell_type": "markdown",
   "id": "b7b58712",
   "metadata": {},
   "source": [
    "- List within a list is **\"Immutable\"** --- \"MAY BE\"  --- CHECK IT"
   ]
  },
  {
   "cell_type": "code",
   "execution_count": 3,
   "id": "6d065903",
   "metadata": {},
   "outputs": [
    {
     "name": "stdout",
     "output_type": "stream",
     "text": [
      "[1, 2, 33, 55, 77, 88, [123, 111, 444, ['aaa', 'bbb', 'fff']]]\n"
     ]
    }
   ],
   "source": [
    "P = [1,2,33,55,77,88, [123, 111, 444, [\"aaa\",\"bbb\",\"fff\"]]] # List within a list is \"Immutable\" --- \"MAY BE\"  --- CHECK IT\n",
    "print(P)"
   ]
  },
  {
   "cell_type": "code",
   "execution_count": null,
   "id": "534e06f7",
   "metadata": {},
   "outputs": [],
   "source": []
  },
  {
   "cell_type": "code",
   "execution_count": 2,
   "id": "42c9027c",
   "metadata": {},
   "outputs": [
    {
     "name": "stdout",
     "output_type": "stream",
     "text": [
      "{'list', 1, 2, 34, 66, 'set'}\n",
      "2200556069472\n",
      "None\n",
      "{'list', 1, 2, 34, 66, 33, 'Dic', 'set'}\n",
      "140716527873728\n",
      "{'list', 1, 2, 34, 66, 33, 'Dic', 'set'}\n",
      "2200556069696\n",
      "2200556069472\n"
     ]
    }
   ],
   "source": [
    "a = {1,2,34,66,\"list\",\"set\"}\n",
    "b = {1,33,\"Dic\"}\n",
    "print(a)\n",
    "print(id(a))\n",
    "c = a.update(b)\n",
    "print(c)\n",
    "print(a)\n",
    "print(id(c))\n",
    "# since here the update method is modifing set\"a\" therefore it will return \"NONE\" if we want to get some result from \"c\" \n",
    "\n",
    "\n",
    "#  Here \"a\" is now modified by update method and set\"a\" has new elements which are in set \"b\" thus here a new set \n",
    "## is not formed when we are apllying \"UPDATE\" method on set \"a\".\n",
    "### If we want a new set in which elements set \"a\" and  elements set \"b\" both should be present \"THEN\" we have to create new set\n",
    "#### let it be \"d\" this \"NEW SET\" will have a separate momery location because \n",
    "##### here in this case neither set \"a\" nor set \"b\" is modified\n",
    "###### ID of set \"a\" and ID of modified (here set \"c\") will be same because of the MUTABLE property of sets BUT the ID of set\n",
    "####### Created by \"UNION METHOD\" will be different because here in this case we have create a new set d = a.union(b)\n",
    "\n",
    "d = a.union(b)  # here set \"a\" is not modified BUT a new set \"d\" is created\n",
    "print(d)\n",
    "print(id(d))\n",
    "print(id(a))\n"
   ]
  },
  {
   "cell_type": "code",
   "execution_count": null,
   "id": "fcd93060",
   "metadata": {},
   "outputs": [],
   "source": []
  },
  {
   "cell_type": "code",
   "execution_count": null,
   "id": "c962be09",
   "metadata": {},
   "outputs": [],
   "source": []
  },
  {
   "cell_type": "markdown",
   "id": "15e461a4",
   "metadata": {},
   "source": [
    "## -- IMPORTANT EXAMPLE"
   ]
  },
  {
   "cell_type": "code",
   "execution_count": 1,
   "id": "a1f24345",
   "metadata": {},
   "outputs": [
    {
     "name": "stdout",
     "output_type": "stream",
     "text": [
      "{1, 2, 'string', 45}\n",
      "None\n",
      "140704104214208\n"
     ]
    }
   ],
   "source": [
    "xx = {1,\"string\",2}\n",
    "z = xx.add(45)\n",
    "print(xx)\n",
    "print(z)\n",
    "print(id(z))"
   ]
  },
  {
   "cell_type": "code",
   "execution_count": 2,
   "id": "9d4e9a2a",
   "metadata": {},
   "outputs": [
    {
     "name": "stdout",
     "output_type": "stream",
     "text": [
      "{1, 2, 'string'}\n",
      "None\n",
      "140704104214208\n"
     ]
    }
   ],
   "source": [
    "y = xx.remove(45)\n",
    "print(xx)\n",
    "print(y)\n",
    "print(id(y))   #   -- all none type DATA is stored at **ONE LOCATION**"
   ]
  },
  {
   "cell_type": "code",
   "execution_count": null,
   "id": "3d816294",
   "metadata": {},
   "outputs": [],
   "source": []
  }
 ],
 "metadata": {
  "kernelspec": {
   "display_name": "Python 3 (ipykernel)",
   "language": "python",
   "name": "python3"
  },
  "language_info": {
   "codemirror_mode": {
    "name": "ipython",
    "version": 3
   },
   "file_extension": ".py",
   "mimetype": "text/x-python",
   "name": "python",
   "nbconvert_exporter": "python",
   "pygments_lexer": "ipython3",
   "version": "3.10.9"
  }
 },
 "nbformat": 4,
 "nbformat_minor": 5
}
