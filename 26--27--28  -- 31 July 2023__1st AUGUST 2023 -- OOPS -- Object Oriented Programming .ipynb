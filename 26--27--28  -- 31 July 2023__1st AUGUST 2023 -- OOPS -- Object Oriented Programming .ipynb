{
 "cells": [
  {
   "cell_type": "markdown",
   "id": "b7548ca3",
   "metadata": {},
   "source": [
    "<br><font size = 6.5> OOPS <br>    \n",
    "     <font size = 3.5>- Object Oriented programming"
   ]
  },
  {
   "cell_type": "markdown",
   "id": "ed00652f",
   "metadata": {},
   "source": [
    "<font size = 5.5> Every object has the following properties: <br>\n",
    "    <font size = 3.5>1. Identity: Every object must be uniquely Identified.(Address) Memory Location <br>\n",
    "    2. State: An object has attributes() that represent the state of an object. <br>\n",
    "    3. Behaviour: An object has methods (functions) that represent its behaviour. <br>\n",
    "    \n",
    "    "
   ]
  },
  {
   "cell_type": "markdown",
   "id": "5110d756",
   "metadata": {},
   "source": [
    "<font size = 4> Object is an instance (Example) of a class."
   ]
  },
  {
   "cell_type": "markdown",
   "id": "643ea6ee",
   "metadata": {},
   "source": [
    "<font size = 4.5> Class is a blueprint (FORMAT) or code template for object creation. Using a class, you can create as many objects as you want."
   ]
  },
  {
   "cell_type": "code",
   "execution_count": null,
   "id": "fea7d4de",
   "metadata": {},
   "outputs": [],
   "source": []
  },
  {
   "cell_type": "code",
   "execution_count": 2,
   "id": "3106ff7c",
   "metadata": {},
   "outputs": [
    {
     "data": {
      "text/plain": [
       "'This is a Doc-String. I have created a Class.'"
      ]
     },
     "execution_count": 2,
     "metadata": {},
     "output_type": "execute_result"
    }
   ],
   "source": [
    "## Creating a class  -- Doc String - to explain about a class\n",
    "\n",
    "class class_name:\n",
    "    \"\"\"This is a Doc-String. I have created a Class.\"\"\"\n",
    "    \n",
    "class_name.__doc__"
   ]
  },
  {
   "cell_type": "code",
   "execution_count": null,
   "id": "61cf843a",
   "metadata": {},
   "outputs": [],
   "source": []
  },
  {
   "cell_type": "code",
   "execution_count": null,
   "id": "b676cfe5",
   "metadata": {},
   "outputs": [],
   "source": []
  },
  {
   "cell_type": "code",
   "execution_count": 3,
   "id": "767bbad3",
   "metadata": {},
   "outputs": [],
   "source": [
    "## Class Creation\n",
    "class Preson:\n",
    "    \n",
    "    def __init__():\n",
    "        self.name = Name\n",
    "        self.age  = Age\n",
    "        self.job  = Job"
   ]
  },
  {
   "cell_type": "code",
   "execution_count": 4,
   "id": "3fad97dc",
   "metadata": {},
   "outputs": [
    {
     "ename": "TypeError",
     "evalue": "Preson.__init__() takes 0 positional arguments but 1 was given",
     "output_type": "error",
     "traceback": [
      "\u001b[1;31m---------------------------------------------------------------------------\u001b[0m",
      "\u001b[1;31mTypeError\u001b[0m                                 Traceback (most recent call last)",
      "Cell \u001b[1;32mIn[4], line 3\u001b[0m\n\u001b[0;32m      1\u001b[0m \u001b[38;5;66;03m## Object Creation\u001b[39;00m\n\u001b[1;32m----> 3\u001b[0m Aj \u001b[38;5;241m=\u001b[39m \u001b[43mPreson\u001b[49m\u001b[43m(\u001b[49m\u001b[43m)\u001b[49m\n",
      "\u001b[1;31mTypeError\u001b[0m: Preson.__init__() takes 0 positional arguments but 1 was given"
     ]
    }
   ],
   "source": [
    "## Object Creation\n",
    "\n",
    "Aj = Preson()        ## Object is passing itself to \"__init__\"  and no parameter is there...."
   ]
  },
  {
   "cell_type": "code",
   "execution_count": 4,
   "id": "7f74bae0",
   "metadata": {},
   "outputs": [],
   "source": [
    "# Define a class\n",
    "class Person:\n",
    "    def __init__(self,name,gender,profession):       ### Object initialization\n",
    "        ## State(attribute -- variables)\n",
    "        self.name_        = name\n",
    "        self.gender_      = gender\n",
    "        self.profession_  = profession\n",
    "        \n",
    "    ## Behaviour (methods)"
   ]
  },
  {
   "cell_type": "code",
   "execution_count": 3,
   "id": "28b9a9d1",
   "metadata": {},
   "outputs": [
    {
     "data": {
      "text/plain": [
       "<__main__.Person at 0x2ab717205e0>"
      ]
     },
     "execution_count": 3,
     "metadata": {},
     "output_type": "execute_result"
    }
   ],
   "source": [
    "## Object Creation\n",
    "\n",
    "Person(\"Aj\",\"Male\",\"Data Scientist\")\n",
    "Person(\"SS\",\"Female\",\"Teacher\")"
   ]
  },
  {
   "cell_type": "code",
   "execution_count": 6,
   "id": "eb3e9a77",
   "metadata": {},
   "outputs": [
    {
     "data": {
      "text/plain": [
       "<__main__.Person at 0x221c8c491e0>"
      ]
     },
     "execution_count": 6,
     "metadata": {},
     "output_type": "execute_result"
    }
   ],
   "source": [
    "Person(\"SS\",\"Female\",\"Teacher\")"
   ]
  },
  {
   "cell_type": "code",
   "execution_count": 7,
   "id": "a0210272",
   "metadata": {},
   "outputs": [
    {
     "data": {
      "text/plain": [
       "<__main__.Person at 0x221c8ce86a0>"
      ]
     },
     "execution_count": 7,
     "metadata": {},
     "output_type": "execute_result"
    }
   ],
   "source": [
    "Person(\"Aj\",\"Male\",\"Data Scientist\")"
   ]
  },
  {
   "cell_type": "code",
   "execution_count": null,
   "id": "f3b16b0d",
   "metadata": {},
   "outputs": [],
   "source": []
  },
  {
   "cell_type": "code",
   "execution_count": 10,
   "id": "5b10529b",
   "metadata": {},
   "outputs": [],
   "source": [
    "## Object Creation\n",
    "\n",
    "Aj = Person(\"Aj\",\"Male\",\"Data Scientist\")\n",
    "SS = Person(\"SS\",\"Female\",\"Teacher\")"
   ]
  },
  {
   "cell_type": "code",
   "execution_count": 11,
   "id": "ce1609a2",
   "metadata": {},
   "outputs": [
    {
     "name": "stdout",
     "output_type": "stream",
     "text": [
      "Data Scientist\n",
      "Aj\n",
      "Male\n"
     ]
    }
   ],
   "source": [
    "print(Aj.profession_)\n",
    "print(Aj.name_)\n",
    "print(Aj.gender_)"
   ]
  },
  {
   "cell_type": "code",
   "execution_count": 14,
   "id": "e68f2ada",
   "metadata": {},
   "outputs": [
    {
     "name": "stdout",
     "output_type": "stream",
     "text": [
      "1000000000000000000\n"
     ]
    }
   ],
   "source": [
    "Aj.salary_ = 1000000000000000000\n",
    "print(Aj.salary_)"
   ]
  },
  {
   "cell_type": "code",
   "execution_count": 17,
   "id": "64ebee7e",
   "metadata": {},
   "outputs": [
    {
     "name": "stdout",
     "output_type": "stream",
     "text": [
      "Data Scientist Aj Male 1000000000000000000\n"
     ]
    }
   ],
   "source": [
    "print(Aj.profession_,Aj.name_,Aj.gender_,Aj.salary_)"
   ]
  },
  {
   "cell_type": "code",
   "execution_count": null,
   "id": "1df0be2b",
   "metadata": {},
   "outputs": [],
   "source": []
  },
  {
   "cell_type": "code",
   "execution_count": null,
   "id": "deeb81b3",
   "metadata": {},
   "outputs": [],
   "source": []
  },
  {
   "cell_type": "code",
   "execution_count": 4,
   "id": "ee317472",
   "metadata": {},
   "outputs": [
    {
     "data": {
      "text/plain": [
       "[1, 2, 3, 4, 5, 6, 4]"
      ]
     },
     "execution_count": 4,
     "metadata": {},
     "output_type": "execute_result"
    }
   ],
   "source": [
    "lst = [1,2,3,4,5,6]\n",
    "lst.append(4)\n",
    "lst"
   ]
  },
  {
   "cell_type": "code",
   "execution_count": 1,
   "id": "9c69aa89",
   "metadata": {},
   "outputs": [],
   "source": [
    "# Define a class\n",
    "class Person:\n",
    "    def __init__(self,name,gender,profession):       ### Object initialization\n",
    "        ## Sate(attribute -- variables)\n",
    "        self.name_        = name\n",
    "        self.gender_      = gender\n",
    "        self.profession_  = profession    ## instance variable\n",
    "        \n",
    "    ## Behaviour (methods)\n",
    "    def show(self):\n",
    "        print(\"Name:\", self.name_, \"Gender:\", self.gender_, \"Profession:\", self.profession_)\n",
    "    \n",
    "    def work(self):\n",
    "        print(self.name_, \"is working as a\", self.profession_)\n",
    "        \n",
    "## --> In Self --- Object being initialised is \" Moving to self  -- self is object....\"    --> Important..."
   ]
  },
  {
   "cell_type": "code",
   "execution_count": 19,
   "id": "4a5569fd",
   "metadata": {},
   "outputs": [],
   "source": [
    "## Object Creation\n",
    "\n",
    "Aj = Person(\"Aj\",\"Male\",\"Data Scientist\")\n",
    "SS = Person(\"SS\",\"Female\",\"Teacher\")\n",
    "RR = Person(\"RR\",\"Male\", \"DATA Anaylist\")"
   ]
  },
  {
   "cell_type": "code",
   "execution_count": null,
   "id": "28bd9097",
   "metadata": {},
   "outputs": [],
   "source": [
    "# Creating attributes outside the class"
   ]
  },
  {
   "cell_type": "code",
   "execution_count": null,
   "id": "6050a5f8",
   "metadata": {},
   "outputs": [],
   "source": []
  },
  {
   "cell_type": "code",
   "execution_count": null,
   "id": "54c64095",
   "metadata": {},
   "outputs": [],
   "source": []
  },
  {
   "cell_type": "code",
   "execution_count": null,
   "id": "2cc59a9b",
   "metadata": {},
   "outputs": [],
   "source": []
  },
  {
   "cell_type": "code",
   "execution_count": 9,
   "id": "63b462dc",
   "metadata": {},
   "outputs": [
    {
     "name": "stdout",
     "output_type": "stream",
     "text": [
      "Aj is working as a Data Scientist\n"
     ]
    }
   ],
   "source": [
    "Aj.work()"
   ]
  },
  {
   "cell_type": "code",
   "execution_count": 10,
   "id": "48b570e5",
   "metadata": {},
   "outputs": [
    {
     "name": "stdout",
     "output_type": "stream",
     "text": [
      "Name: SS Gender: Female Profession: Teacher\n"
     ]
    }
   ],
   "source": [
    "SS.show()"
   ]
  },
  {
   "cell_type": "code",
   "execution_count": 20,
   "id": "b7d9c625",
   "metadata": {},
   "outputs": [
    {
     "name": "stdout",
     "output_type": "stream",
     "text": [
      "Name: RR Gender: Male Profession: DATA Anaylist\n"
     ]
    }
   ],
   "source": [
    "RR.show()"
   ]
  },
  {
   "cell_type": "code",
   "execution_count": 12,
   "id": "0c60fb96",
   "metadata": {},
   "outputs": [
    {
     "ename": "NameError",
     "evalue": "name 'Marital_status_' is not defined",
     "output_type": "error",
     "traceback": [
      "\u001b[1;31m---------------------------------------------------------------------------\u001b[0m",
      "\u001b[1;31mNameError\u001b[0m                                 Traceback (most recent call last)",
      "Cell \u001b[1;32mIn[12], line 2\u001b[0m\n\u001b[0;32m      1\u001b[0m Aj\u001b[38;5;241m.\u001b[39mMarital_status_ \u001b[38;5;241m=\u001b[39m \u001b[38;5;124m\"\u001b[39m\u001b[38;5;124mMarried\u001b[39m\u001b[38;5;124m\"\u001b[39m\n\u001b[1;32m----> 2\u001b[0m \u001b[38;5;28mprint\u001b[39m(\u001b[43mMarital_status_\u001b[49m)\n",
      "\u001b[1;31mNameError\u001b[0m: name 'Marital_status_' is not defined"
     ]
    }
   ],
   "source": [
    "Aj.Marital_status_ = \"Married\"\n",
    "print(Marital_status_)"
   ]
  },
  {
   "cell_type": "code",
   "execution_count": 13,
   "id": "50443b15",
   "metadata": {},
   "outputs": [
    {
     "name": "stdout",
     "output_type": "stream",
     "text": [
      "Married\n"
     ]
    }
   ],
   "source": [
    "Aj.Marital_status_ = \"Married\"\n",
    "print(Aj.Marital_status_)"
   ]
  },
  {
   "cell_type": "code",
   "execution_count": 16,
   "id": "d4cc4eb7",
   "metadata": {},
   "outputs": [
    {
     "name": "stdout",
     "output_type": "stream",
     "text": [
      "Principal\n"
     ]
    }
   ],
   "source": [
    "SS.profession_ = \"Principal\"              ## Editing the DATA in Person()\n",
    "print(SS.profession_)"
   ]
  },
  {
   "cell_type": "code",
   "execution_count": null,
   "id": "dbfa9728",
   "metadata": {},
   "outputs": [],
   "source": []
  },
  {
   "cell_type": "markdown",
   "id": "bc694ee0",
   "metadata": {},
   "source": [
    "<font size = 6.5> Difference Between functions and Methods <br>\n",
    "    <font size = 3.5> Methods are defined for the ojects of a particular class *whereas* functions are not defined for a particular class.<br>\n",
    "        Methods are functions defined in a particular class...**__init__**  -- **A Method.**  "
   ]
  },
  {
   "cell_type": "code",
   "execution_count": 27,
   "id": "d0a30dfb",
   "metadata": {},
   "outputs": [],
   "source": [
    "## - Methods are functions defined in a particular class...__init__ is  -- Method.."
   ]
  },
  {
   "cell_type": "code",
   "execution_count": null,
   "id": "d7007c3f",
   "metadata": {},
   "outputs": [],
   "source": []
  },
  {
   "cell_type": "code",
   "execution_count": null,
   "id": "041e9a9a",
   "metadata": {},
   "outputs": [],
   "source": []
  },
  {
   "cell_type": "code",
   "execution_count": 1,
   "id": "4bd171e4",
   "metadata": {},
   "outputs": [
    {
     "ename": "NameError",
     "evalue": "name 'keywords' is not defined",
     "output_type": "error",
     "traceback": [
      "\u001b[1;31m---------------------------------------------------------------------------\u001b[0m",
      "\u001b[1;31mNameError\u001b[0m                                 Traceback (most recent call last)",
      "Cell \u001b[1;32mIn[1], line 1\u001b[0m\n\u001b[1;32m----> 1\u001b[0m help(\u001b[43mkeywords\u001b[49m)\n",
      "\u001b[1;31mNameError\u001b[0m: name 'keywords' is not defined"
     ]
    }
   ],
   "source": [
    "help(keywords)"
   ]
  },
  {
   "cell_type": "code",
   "execution_count": 2,
   "id": "7e3643aa",
   "metadata": {},
   "outputs": [
    {
     "ename": "NameError",
     "evalue": "name 'keyword' is not defined",
     "output_type": "error",
     "traceback": [
      "\u001b[1;31m---------------------------------------------------------------------------\u001b[0m",
      "\u001b[1;31mNameError\u001b[0m                                 Traceback (most recent call last)",
      "Cell \u001b[1;32mIn[2], line 1\u001b[0m\n\u001b[1;32m----> 1\u001b[0m help(\u001b[43mkeyword\u001b[49m)\n",
      "\u001b[1;31mNameError\u001b[0m: name 'keyword' is not defined"
     ]
    }
   ],
   "source": [
    "help(keyword)"
   ]
  },
  {
   "cell_type": "code",
   "execution_count": null,
   "id": "4ba5ebbe",
   "metadata": {},
   "outputs": [],
   "source": []
  },
  {
   "cell_type": "code",
   "execution_count": null,
   "id": "93e63b7f",
   "metadata": {},
   "outputs": [],
   "source": []
  },
  {
   "cell_type": "markdown",
   "id": "bea3a22e",
   "metadata": {},
   "source": [
    "<font size = 6.5> Class Attributes <br>\n",
    "    <font size = 3.5>1. Instance Variable<br>2. Class Variable"
   ]
  },
  {
   "cell_type": "code",
   "execution_count": 6,
   "id": "728bfbf4",
   "metadata": {},
   "outputs": [
    {
     "ename": "IndentationError",
     "evalue": "unindent does not match any outer indentation level (<tokenize>, line 3)",
     "output_type": "error",
     "traceback": [
      "\u001b[1;36m  File \u001b[1;32m<tokenize>:3\u001b[1;36m\u001b[0m\n\u001b[1;33m    -- Every object will have it's own copy\u001b[0m\n\u001b[1;37m    ^\u001b[0m\n\u001b[1;31mIndentationError\u001b[0m\u001b[1;31m:\u001b[0m unindent does not match any outer indentation level\n"
     ]
    }
   ],
   "source": [
    "<font size = 4.5> Instance Variable  -- Attached to an istance (oject) of a class.<br>\n",
    "                    -- Defined inside any method but generally inside the __init__() method. <br>\n",
    "                   -- Every object will have it's own copy  \n",
    "\n",
    "\n",
    "### Class Variables -- - Attached to the class\n",
    "###                      Declared inside the class but outside of any method\n",
    "###                 --- Every object will share the same class variable........  \"IMPORTANT\"\n",
    "\n"
   ]
  },
  {
   "cell_type": "markdown",
   "id": "ef648c17",
   "metadata": {},
   "source": [
    "<font size = 4.5> Instance Variable <br>\n",
    "    <font size = 3.5>\n",
    "        -- Attached to an istance (oject) of a class.<br>\n",
    "        -- Defined inside any method but generally inside the __init__() method. <br>\n",
    "        -- Every object will have it's own copy. <br>\n",
    "\n",
    "\n",
    "<font size = 4.5> Class Variables <br>\n",
    "    <font size = 3.5>\n",
    "        -- Attached to the class.<br>\n",
    "        -- Declared inside the class but outside of any method. <br>\n",
    "        -- Every object will share the same class variable........  \"IMPORTANT\"<br>\n",
    "\n"
   ]
  },
  {
   "cell_type": "code",
   "execution_count": null,
   "id": "66db29d5",
   "metadata": {},
   "outputs": [],
   "source": []
  },
  {
   "cell_type": "code",
   "execution_count": 22,
   "id": "5de3134c",
   "metadata": {},
   "outputs": [
    {
     "ename": "TypeError",
     "evalue": "Student() takes no arguments",
     "output_type": "error",
     "traceback": [
      "\u001b[1;31m---------------------------------------------------------------------------\u001b[0m",
      "\u001b[1;31mTypeError\u001b[0m                                 Traceback (most recent call last)",
      "Cell \u001b[1;32mIn[22], line 10\u001b[0m\n\u001b[0;32m      7\u001b[0m         \u001b[38;5;28mself\u001b[39m\u001b[38;5;241m.\u001b[39mname \u001b[38;5;241m=\u001b[39m name\n\u001b[0;32m      8\u001b[0m         \u001b[38;5;28mself\u001b[39m\u001b[38;5;241m.\u001b[39mage  \u001b[38;5;241m=\u001b[39m age\n\u001b[1;32m---> 10\u001b[0m s1 \u001b[38;5;241m=\u001b[39m \u001b[43mStudent\u001b[49m\u001b[43m(\u001b[49m\u001b[38;5;124;43m\"\u001b[39;49m\u001b[38;5;124;43mAJ\u001b[39;49m\u001b[38;5;124;43m\"\u001b[39;49m\u001b[43m,\u001b[49m\u001b[38;5;241;43m12\u001b[39;49m\u001b[43m)\u001b[49m\n",
      "\u001b[1;31mTypeError\u001b[0m: Student() takes no arguments"
     ]
    }
   ],
   "source": [
    "class Student:\n",
    "    ## Class Variables\n",
    "    school_name = \"ABC School\"\n",
    "    \n",
    "    def __int__(self,name,age):    ##  Error -->  __init__\n",
    "        # Instance Variables\n",
    "        self.name = name\n",
    "        self.age  = age\n",
    "\n",
    "s1 = Student(\"AJ\",12)"
   ]
  },
  {
   "cell_type": "code",
   "execution_count": 24,
   "id": "192a9e7f",
   "metadata": {},
   "outputs": [],
   "source": [
    "class Student:\n",
    "    ## Class Variables\n",
    "    school_name = \"ABC School\"\n",
    "    \n",
    "    def __init__(self,name,age):\n",
    "        # Instance Variables\n",
    "        self.name = name\n",
    "        self.age  = age\n",
    "\n",
    "s1 = Student(\"AJ\",12)\n",
    "\n",
    "## self.name & self.age  --- Instance Variables\n",
    "## name & age  --- Local Variables"
   ]
  },
  {
   "cell_type": "code",
   "execution_count": 25,
   "id": "0b479fb6",
   "metadata": {},
   "outputs": [
    {
     "name": "stdout",
     "output_type": "stream",
     "text": [
      "Student:  AJ 12\n"
     ]
    }
   ],
   "source": [
    "# Access instance Variables\n",
    "print(\"Student: \", s1.name,s1.age)"
   ]
  },
  {
   "cell_type": "code",
   "execution_count": 26,
   "id": "748fc861",
   "metadata": {},
   "outputs": [
    {
     "name": "stdout",
     "output_type": "stream",
     "text": [
      "School name :  ABC School\n"
     ]
    }
   ],
   "source": [
    "# Access class Variables\n",
    "print(\"School name : \", Student.school_name)"
   ]
  },
  {
   "cell_type": "code",
   "execution_count": null,
   "id": "533b7f9b",
   "metadata": {},
   "outputs": [],
   "source": []
  },
  {
   "cell_type": "code",
   "execution_count": null,
   "id": "e6323ce2",
   "metadata": {},
   "outputs": [],
   "source": []
  },
  {
   "cell_type": "markdown",
   "id": "b74b59eb",
   "metadata": {},
   "source": [
    "### 31 July 2023"
   ]
  },
  {
   "cell_type": "code",
   "execution_count": 11,
   "id": "4c465ec6",
   "metadata": {},
   "outputs": [
    {
     "name": "stdout",
     "output_type": "stream",
     "text": [
      "<class 'list'>\n"
     ]
    }
   ],
   "source": [
    "# Different class - In PYthon\n",
    "## Class of list\n",
    "set11 = [1,2,3,4]\n",
    "print(type(set11))"
   ]
  },
  {
   "cell_type": "code",
   "execution_count": 7,
   "id": "3ec61ddc",
   "metadata": {},
   "outputs": [
    {
     "name": "stdout",
     "output_type": "stream",
     "text": [
      "<class 'function'>\n"
     ]
    }
   ],
   "source": [
    "# Different class - In PYthon\n",
    "def fun_11():\n",
    "    pass\n",
    "print(type(fun_11))"
   ]
  },
  {
   "cell_type": "code",
   "execution_count": 8,
   "id": "3fe0bf32",
   "metadata": {},
   "outputs": [
    {
     "name": "stdout",
     "output_type": "stream",
     "text": [
      "<class 'set'>\n"
     ]
    }
   ],
   "source": [
    "# Different class - In PYthon\n",
    "## Class of set\n",
    "set1 = {1,2,3,4,5,6}\n",
    "print(type(set1))"
   ]
  },
  {
   "cell_type": "code",
   "execution_count": 9,
   "id": "4a3006b4",
   "metadata": {},
   "outputs": [
    {
     "name": "stdout",
     "output_type": "stream",
     "text": [
      "<class 'bool'>\n"
     ]
    }
   ],
   "source": [
    "# Different class - In PYthon\n",
    "## Class of boolean\n",
    "set2 = True\n",
    "print(type(set2))"
   ]
  },
  {
   "cell_type": "code",
   "execution_count": 10,
   "id": "0fa50aca",
   "metadata": {},
   "outputs": [
    {
     "name": "stdout",
     "output_type": "stream",
     "text": [
      "<class 'int'>\n"
     ]
    }
   ],
   "source": [
    "# Different class - In PYthon\n",
    "## Class of integer\n",
    "set12 = 1111\n",
    "print(type(set12))"
   ]
  },
  {
   "cell_type": "code",
   "execution_count": 12,
   "id": "f26286e7",
   "metadata": {},
   "outputs": [
    {
     "name": "stdout",
     "output_type": "stream",
     "text": [
      "<class 'float'>\n"
     ]
    }
   ],
   "source": [
    "# Different class - In PYthon\n",
    "## Class of float\n",
    "set21 = 11.11\n",
    "print(type(set21))"
   ]
  },
  {
   "cell_type": "code",
   "execution_count": null,
   "id": "149b311a",
   "metadata": {},
   "outputs": [],
   "source": []
  },
  {
   "cell_type": "code",
   "execution_count": 13,
   "id": "401b05b0",
   "metadata": {},
   "outputs": [],
   "source": [
    "class Student:\n",
    "    ## Class Variables\n",
    "    school_name = \"ABC School\"\n",
    "    \n",
    "    def __init__(self,name,age):\n",
    "        # Instance Variables\n",
    "        self.name = name\n",
    "        self.age  = age\n",
    "\n",
    "s1 = Student(\"AJ\",40)\n",
    "\n",
    "## self.name & self.age  --- Instance Variables\n",
    "## name & age  --- Local Variables"
   ]
  },
  {
   "cell_type": "code",
   "execution_count": 14,
   "id": "96ae1b16",
   "metadata": {},
   "outputs": [
    {
     "name": "stdout",
     "output_type": "stream",
     "text": [
      "Student: TAVI 4\n"
     ]
    }
   ],
   "source": [
    "# Modify instance variables\n",
    "s1.name = \"TAVI\"\n",
    "s1.age = 4\n",
    "print(\"Student:\",s1.name,s1.age)"
   ]
  },
  {
   "cell_type": "code",
   "execution_count": 15,
   "id": "ee071e5d",
   "metadata": {},
   "outputs": [
    {
     "name": "stdout",
     "output_type": "stream",
     "text": [
      "School name: XYZ School\n"
     ]
    }
   ],
   "source": [
    "# Modify class variables\n",
    "Student.school_name = \"XYZ School\"\n",
    "print(\"School name:\",Student.school_name)"
   ]
  },
  {
   "cell_type": "code",
   "execution_count": 13,
   "id": "1a78ffeb",
   "metadata": {},
   "outputs": [
    {
     "name": "stdout",
     "output_type": "stream",
     "text": [
      "XYZ SCHOOL\n",
      "<class 'str'>\n",
      "XYZ School\n",
      "<class 'str'>\n"
     ]
    }
   ],
   "source": [
    "## Experiment\n",
    "s2 = Student(\"NOMI\",8)\n",
    "s2.school_name = \"XYZ SCHOOL\"   # This creates an instance variable \"school_name\" -- for s2\n",
    "print(s2.school_name)\n",
    "print(type(s2.school_name))\n",
    "print(Student.school_name)    #### But the class variable \"school_name\" does not change\n",
    "print(type(Student.school_name))"
   ]
  },
  {
   "cell_type": "code",
   "execution_count": 8,
   "id": "8f7587a4",
   "metadata": {},
   "outputs": [
    {
     "data": {
      "text/plain": [
       "'XYZ School'"
      ]
     },
     "execution_count": 8,
     "metadata": {},
     "output_type": "execute_result"
    }
   ],
   "source": [
    "s1.school_name"
   ]
  },
  {
   "cell_type": "code",
   "execution_count": 15,
   "id": "48f5e74d",
   "metadata": {},
   "outputs": [
    {
     "ename": "AttributeError",
     "evalue": "'Student' object has no attribute 'profession'",
     "output_type": "error",
     "traceback": [
      "\u001b[1;31m---------------------------------------------------------------------------\u001b[0m",
      "\u001b[1;31mAttributeError\u001b[0m                            Traceback (most recent call last)",
      "Cell \u001b[1;32mIn[15], line 2\u001b[0m\n\u001b[0;32m      1\u001b[0m s1\u001b[38;5;241m.\u001b[39mprofession \u001b[38;5;241m=\u001b[39m \u001b[38;5;124m\"\u001b[39m\u001b[38;5;124mDATA Scientist\u001b[39m\u001b[38;5;124m\"\u001b[39m\n\u001b[1;32m----> 2\u001b[0m \u001b[43ms2\u001b[49m\u001b[38;5;241;43m.\u001b[39;49m\u001b[43mprofession\u001b[49m\n",
      "\u001b[1;31mAttributeError\u001b[0m: 'Student' object has no attribute 'profession'"
     ]
    }
   ],
   "source": [
    "s1.profession = \"DATA Scientist\"\n",
    "s2.profession "
   ]
  },
  {
   "cell_type": "code",
   "execution_count": 19,
   "id": "b66d17d4",
   "metadata": {},
   "outputs": [
    {
     "name": "stdout",
     "output_type": "stream",
     "text": [
      "DATA Scientist \n",
      " DATA scientist\n"
     ]
    }
   ],
   "source": [
    "Student.profession = \"DATA scientist\"\n",
    "\n",
    "print(s1.profession,\"\\n\",s2.profession)"
   ]
  },
  {
   "cell_type": "markdown",
   "id": "966a77e6",
   "metadata": {},
   "source": [
    "<font size = 4> 1st AUGUST 2023"
   ]
  },
  {
   "cell_type": "code",
   "execution_count": null,
   "id": "2361830e",
   "metadata": {},
   "outputs": [],
   "source": []
  },
  {
   "cell_type": "code",
   "execution_count": 1,
   "id": "4a2675da",
   "metadata": {},
   "outputs": [],
   "source": [
    "class Student:\n",
    "    ## Class Variables\n",
    "    school_name = \"ABC School\"\n",
    "    \n",
    "    def __init__(self,name,age):\n",
    "        # Instance Variables\n",
    "        self.name = name\n",
    "        self.age  = age\n",
    "\n",
    "s1 = Student(\"AJ\",12)\n",
    "\n",
    "## self.name & self.age  --- Instance Variables\n",
    "## name & age  --- Local Variables"
   ]
  },
  {
   "cell_type": "code",
   "execution_count": 2,
   "id": "6ad08be2",
   "metadata": {},
   "outputs": [
    {
     "name": "stdout",
     "output_type": "stream",
     "text": [
      "ABC School\n",
      "XYZ SCHOOL\n",
      "<class 'str'>\n",
      "ABC School\n",
      "<class 'str'>\n"
     ]
    }
   ],
   "source": [
    "## Experiment\n",
    "s2 = Student(\"NOMI\",8)\n",
    "print(s2.school_name)\n",
    "s2.school_name = \"XYZ SCHOOL\"   # This creates an instance variable \"school_name\" -- for s2\n",
    "print(s2.school_name)\n",
    "print(type(s2.school_name))\n",
    "print(Student.school_name)    #### But the class variable \"school_name\" does not change\n",
    "print(type(Student.school_name))"
   ]
  },
  {
   "cell_type": "code",
   "execution_count": 3,
   "id": "329c3f77",
   "metadata": {},
   "outputs": [
    {
     "data": {
      "text/plain": [
       "'ABC School'"
      ]
     },
     "execution_count": 3,
     "metadata": {},
     "output_type": "execute_result"
    }
   ],
   "source": [
    "s3 = Student(\"SS\", 36)\n",
    "s3.school_name"
   ]
  },
  {
   "cell_type": "code",
   "execution_count": 4,
   "id": "e203a402",
   "metadata": {},
   "outputs": [
    {
     "data": {
      "text/plain": [
       "'Teacher'"
      ]
     },
     "execution_count": 4,
     "metadata": {},
     "output_type": "execute_result"
    }
   ],
   "source": [
    "s3 = Student(\"SS\", 36)\n",
    "s3.school_name = \"Teacher\"\n",
    "s3.school_name"
   ]
  },
  {
   "cell_type": "markdown",
   "id": "fdae7317",
   "metadata": {},
   "source": [
    "### Deleting  -- object attributes"
   ]
  },
  {
   "cell_type": "code",
   "execution_count": 5,
   "id": "5afa1641",
   "metadata": {},
   "outputs": [],
   "source": [
    "del s2.school_name"
   ]
  },
  {
   "cell_type": "code",
   "execution_count": 6,
   "id": "af84b2a2",
   "metadata": {},
   "outputs": [
    {
     "data": {
      "text/plain": [
       "'ABC School'"
      ]
     },
     "execution_count": 6,
     "metadata": {},
     "output_type": "execute_result"
    }
   ],
   "source": [
    "s2.school_name"
   ]
  },
  {
   "cell_type": "code",
   "execution_count": null,
   "id": "b7c20a15",
   "metadata": {},
   "outputs": [],
   "source": []
  },
  {
   "cell_type": "code",
   "execution_count": null,
   "id": "8340ce23",
   "metadata": {},
   "outputs": [],
   "source": []
  },
  {
   "cell_type": "markdown",
   "id": "54f857b0",
   "metadata": {},
   "source": [
    "### Deleting -- an \"Object\""
   ]
  },
  {
   "cell_type": "code",
   "execution_count": 7,
   "id": "6a8d0f14",
   "metadata": {},
   "outputs": [],
   "source": [
    "del s2"
   ]
  },
  {
   "cell_type": "code",
   "execution_count": 8,
   "id": "1c452f6e",
   "metadata": {},
   "outputs": [
    {
     "ename": "NameError",
     "evalue": "name 's2' is not defined",
     "output_type": "error",
     "traceback": [
      "\u001b[1;31m---------------------------------------------------------------------------\u001b[0m",
      "\u001b[1;31mNameError\u001b[0m                                 Traceback (most recent call last)",
      "Cell \u001b[1;32mIn[8], line 1\u001b[0m\n\u001b[1;32m----> 1\u001b[0m \u001b[43ms2\u001b[49m\u001b[38;5;241m.\u001b[39mschool_name\n",
      "\u001b[1;31mNameError\u001b[0m: name 's2' is not defined"
     ]
    }
   ],
   "source": [
    "s2.school_name"
   ]
  },
  {
   "cell_type": "code",
   "execution_count": 9,
   "id": "b3cad2f8",
   "metadata": {},
   "outputs": [
    {
     "ename": "NameError",
     "evalue": "name 'school_name' is not defined",
     "output_type": "error",
     "traceback": [
      "\u001b[1;31m---------------------------------------------------------------------------\u001b[0m",
      "\u001b[1;31mNameError\u001b[0m                                 Traceback (most recent call last)",
      "Cell \u001b[1;32mIn[9], line 1\u001b[0m\n\u001b[1;32m----> 1\u001b[0m \u001b[38;5;28;01mdel\u001b[39;00m school_name\n",
      "\u001b[1;31mNameError\u001b[0m: name 'school_name' is not defined"
     ]
    }
   ],
   "source": [
    "del school_name"
   ]
  },
  {
   "cell_type": "code",
   "execution_count": null,
   "id": "7010bd65",
   "metadata": {},
   "outputs": [],
   "source": [
    "del "
   ]
  },
  {
   "cell_type": "code",
   "execution_count": null,
   "id": "8a9e2538",
   "metadata": {},
   "outputs": [],
   "source": []
  },
  {
   "cell_type": "code",
   "execution_count": 4,
   "id": "f2a5c86f",
   "metadata": {},
   "outputs": [
    {
     "ename": "SyntaxError",
     "evalue": "leading zeros in decimal integer literals are not permitted; use an 0o prefix for octal integers (1353732123.py, line 3)",
     "output_type": "error",
     "traceback": [
      "\u001b[1;36m  Cell \u001b[1;32mIn[4], line 3\u001b[1;36m\u001b[0m\n\u001b[1;33m    s1.age = 04\u001b[0m\n\u001b[1;37m             ^\u001b[0m\n\u001b[1;31mSyntaxError\u001b[0m\u001b[1;31m:\u001b[0m leading zeros in decimal integer literals are not permitted; use an 0o prefix for octal integers\n"
     ]
    }
   ],
   "source": [
    "# Modify instance variables\n",
    "s1.name = \"TAVI\"\n",
    "s1.age = 04\n",
    "print(\"Student:\",s1.name,s1.age)"
   ]
  },
  {
   "cell_type": "code",
   "execution_count": null,
   "id": "34baea40",
   "metadata": {},
   "outputs": [],
   "source": []
  }
 ],
 "metadata": {
  "kernelspec": {
   "display_name": "Python 3 (ipykernel)",
   "language": "python",
   "name": "python3"
  },
  "language_info": {
   "codemirror_mode": {
    "name": "ipython",
    "version": 3
   },
   "file_extension": ".py",
   "mimetype": "text/x-python",
   "name": "python",
   "nbconvert_exporter": "python",
   "pygments_lexer": "ipython3",
   "version": "3.10.9"
  }
 },
 "nbformat": 4,
 "nbformat_minor": 5
}
