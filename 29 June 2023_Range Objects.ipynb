{
 "cells": [
  {
   "cell_type": "markdown",
   "id": "4e226abd",
   "metadata": {},
   "source": [
    "## Range Objects (or range data type) is an immutable sequence of \"INTEGERS\" starting from the given start integer to the stop integer.\n",
    "\n",
    "### Used in \" loops \"\n",
    "### Default Value of -- start is '0'\n"
   ]
  },
  {
   "cell_type": "code",
   "execution_count": 1,
   "id": "75823d29",
   "metadata": {},
   "outputs": [
    {
     "data": {
      "text/plain": [
       "range(1, 11, 2)"
      ]
     },
     "execution_count": 1,
     "metadata": {},
     "output_type": "execute_result"
    }
   ],
   "source": [
    "# range (start,stop,step)\n",
    "x = range(1,11,2)\n",
    "x"
   ]
  },
  {
   "cell_type": "code",
   "execution_count": 1,
   "id": "a4ef9047",
   "metadata": {},
   "outputs": [
    {
     "data": {
      "text/plain": [
       "1"
      ]
     },
     "execution_count": 1,
     "metadata": {},
     "output_type": "execute_result"
    }
   ],
   "source": [
    "# range (start,stop,step)\n",
    "x = range(1,11,2)\n",
    "x[0]"
   ]
  },
  {
   "cell_type": "code",
   "execution_count": 2,
   "id": "af230330",
   "metadata": {},
   "outputs": [
    {
     "data": {
      "text/plain": [
       "range"
      ]
     },
     "execution_count": 2,
     "metadata": {},
     "output_type": "execute_result"
    }
   ],
   "source": [
    "# Let us check the data type of range object  --- **type casting**\n",
    "type(range(1,10))"
   ]
  },
  {
   "cell_type": "code",
   "execution_count": 3,
   "id": "9ebe6df9",
   "metadata": {},
   "outputs": [
    {
     "data": {
      "text/plain": [
       "4"
      ]
     },
     "execution_count": 3,
     "metadata": {},
     "output_type": "execute_result"
    }
   ],
   "source": [
    "# range indexing\n",
    "range_x = range(1,10)\n",
    "range_x[3]"
   ]
  },
  {
   "cell_type": "code",
   "execution_count": 4,
   "id": "91a8f2da",
   "metadata": {},
   "outputs": [
    {
     "data": {
      "text/plain": [
       "(1, 2, 3, 4, 5, 6, 7, 8, 9)"
      ]
     },
     "execution_count": 4,
     "metadata": {},
     "output_type": "execute_result"
    }
   ],
   "source": [
    "# type Casting\n",
    "tuple(range(1,10))"
   ]
  },
  {
   "cell_type": "code",
   "execution_count": 5,
   "id": "106784c2",
   "metadata": {},
   "outputs": [
    {
     "data": {
      "text/plain": [
       "[1, 2, 3, 4, 5, 6, 7, 8, 9]"
      ]
     },
     "execution_count": 5,
     "metadata": {},
     "output_type": "execute_result"
    }
   ],
   "source": [
    "# type Casting\n",
    "list(range(1,10))"
   ]
  },
  {
   "cell_type": "code",
   "execution_count": null,
   "id": "d88c88bb",
   "metadata": {},
   "outputs": [],
   "source": []
  },
  {
   "cell_type": "code",
   "execution_count": 6,
   "id": "82c84cc5",
   "metadata": {},
   "outputs": [
    {
     "data": {
      "text/plain": [
       "[0, 1, 2, 3, 4, 5, 6, 7, 8, 9]"
      ]
     },
     "execution_count": 6,
     "metadata": {},
     "output_type": "execute_result"
    }
   ],
   "source": [
    "# What happens when I pass only one \"ARGUMENT\" in range()\n",
    "\n",
    "list(range(10))"
   ]
  },
  {
   "cell_type": "code",
   "execution_count": 7,
   "id": "ddffd0a7",
   "metadata": {},
   "outputs": [
    {
     "data": {
      "text/plain": [
       "'range(0, 10)'"
      ]
     },
     "execution_count": 7,
     "metadata": {},
     "output_type": "execute_result"
    }
   ],
   "source": [
    "# What happens when I pass only one \"ARGUMENT\" in range()\n",
    "\n",
    "str(range(10))            # Default starting value is '0'"
   ]
  },
  {
   "cell_type": "code",
   "execution_count": 8,
   "id": "c4e6a15b",
   "metadata": {},
   "outputs": [
    {
     "ename": "TypeError",
     "evalue": "cannot convert dictionary update sequence element #0 to a sequence",
     "output_type": "error",
     "traceback": [
      "\u001b[1;31m---------------------------------------------------------------------------\u001b[0m",
      "\u001b[1;31mTypeError\u001b[0m                                 Traceback (most recent call last)",
      "Cell \u001b[1;32mIn[8], line 3\u001b[0m\n\u001b[0;32m      1\u001b[0m \u001b[38;5;66;03m# What happens when I pass only one \"ARGUMENT\" in range()\u001b[39;00m\n\u001b[1;32m----> 3\u001b[0m \u001b[38;5;28;43mdict\u001b[39;49m\u001b[43m(\u001b[49m\u001b[38;5;28;43mrange\u001b[39;49m\u001b[43m(\u001b[49m\u001b[38;5;241;43m10\u001b[39;49m\u001b[43m)\u001b[49m\u001b[43m)\u001b[49m\n",
      "\u001b[1;31mTypeError\u001b[0m: cannot convert dictionary update sequence element #0 to a sequence"
     ]
    }
   ],
   "source": [
    "# What happens when I pass only one \"ARGUMENT\" in range()\n",
    "\n",
    "dict(range(10))"
   ]
  },
  {
   "cell_type": "code",
   "execution_count": 9,
   "id": "0067291e",
   "metadata": {},
   "outputs": [
    {
     "data": {
      "text/plain": [
       "'range(0, 30)'"
      ]
     },
     "execution_count": 9,
     "metadata": {},
     "output_type": "execute_result"
    }
   ],
   "source": [
    "# What happens when I pass only one \"ARGUMENT\" in range()\n",
    "\n",
    "str(range(30))     # by \"DEFAULT\" Starting value is 0"
   ]
  },
  {
   "cell_type": "code",
   "execution_count": 1,
   "id": "a1898af8",
   "metadata": {},
   "outputs": [
    {
     "data": {
      "text/plain": [
       "{0, 1, 2, 3, 4, 5, 6, 7, 8, 9}"
      ]
     },
     "execution_count": 1,
     "metadata": {},
     "output_type": "execute_result"
    }
   ],
   "source": [
    "# What happens when I pass only one \"ARGUMENT\" in range()\n",
    "\n",
    "set(range(10))"
   ]
  },
  {
   "cell_type": "code",
   "execution_count": 2,
   "id": "5112ac64",
   "metadata": {},
   "outputs": [
    {
     "ename": "TypeError",
     "evalue": "int() argument must be a string, a bytes-like object or a real number, not 'range'",
     "output_type": "error",
     "traceback": [
      "\u001b[1;31m---------------------------------------------------------------------------\u001b[0m",
      "\u001b[1;31mTypeError\u001b[0m                                 Traceback (most recent call last)",
      "Cell \u001b[1;32mIn[2], line 3\u001b[0m\n\u001b[0;32m      1\u001b[0m \u001b[38;5;66;03m# What happens when I pass only one \"ARGUMENT\" in range()\u001b[39;00m\n\u001b[1;32m----> 3\u001b[0m \u001b[38;5;28;43mint\u001b[39;49m\u001b[43m(\u001b[49m\u001b[38;5;28;43mrange\u001b[39;49m\u001b[43m(\u001b[49m\u001b[38;5;241;43m10\u001b[39;49m\u001b[43m)\u001b[49m\u001b[43m)\u001b[49m\n",
      "\u001b[1;31mTypeError\u001b[0m: int() argument must be a string, a bytes-like object or a real number, not 'range'"
     ]
    }
   ],
   "source": [
    "# What happens when I pass only one \"ARGUMENT\" in range()\n",
    "\n",
    "int(range(10))"
   ]
  },
  {
   "cell_type": "code",
   "execution_count": 3,
   "id": "d2c3bf7e",
   "metadata": {},
   "outputs": [
    {
     "data": {
      "text/plain": [
       "True"
      ]
     },
     "execution_count": 3,
     "metadata": {},
     "output_type": "execute_result"
    }
   ],
   "source": [
    "# What happens when I pass only one \"ARGUMENT\" in range()\n",
    "\n",
    "bool(range(10))"
   ]
  },
  {
   "cell_type": "code",
   "execution_count": 4,
   "id": "cb3e99fa",
   "metadata": {},
   "outputs": [
    {
     "ename": "TypeError",
     "evalue": "complex() first argument must be a string or a number, not 'range'",
     "output_type": "error",
     "traceback": [
      "\u001b[1;31m---------------------------------------------------------------------------\u001b[0m",
      "\u001b[1;31mTypeError\u001b[0m                                 Traceback (most recent call last)",
      "Cell \u001b[1;32mIn[4], line 3\u001b[0m\n\u001b[0;32m      1\u001b[0m \u001b[38;5;66;03m# What happens when I pass only one \"ARGUMENT\" in range()\u001b[39;00m\n\u001b[1;32m----> 3\u001b[0m \u001b[38;5;28;43mcomplex\u001b[39;49m\u001b[43m(\u001b[49m\u001b[38;5;28;43mrange\u001b[39;49m\u001b[43m(\u001b[49m\u001b[38;5;241;43m10\u001b[39;49m\u001b[43m)\u001b[49m\u001b[43m)\u001b[49m\n",
      "\u001b[1;31mTypeError\u001b[0m: complex() first argument must be a string or a number, not 'range'"
     ]
    }
   ],
   "source": [
    "# What happens when I pass only one \"ARGUMENT\" in range()\n",
    "\n",
    "complex(range(10))"
   ]
  },
  {
   "cell_type": "code",
   "execution_count": 5,
   "id": "39f726eb",
   "metadata": {},
   "outputs": [
    {
     "name": "stderr",
     "output_type": "stream",
     "text": [
      "<>:3: SyntaxWarning: 'NoneType' object is not callable; perhaps you missed a comma?\n",
      "<>:3: SyntaxWarning: 'NoneType' object is not callable; perhaps you missed a comma?\n",
      "C:\\Users\\user\\AppData\\Local\\Temp\\ipykernel_8444\\2161819841.py:3: SyntaxWarning: 'NoneType' object is not callable; perhaps you missed a comma?\n",
      "  None(range(10))\n",
      "C:\\Users\\user\\AppData\\Local\\Temp\\ipykernel_8444\\2161819841.py:3: SyntaxWarning: 'NoneType' object is not callable; perhaps you missed a comma?\n",
      "  None(range(10))\n",
      "C:\\Users\\user\\AppData\\Local\\Temp\\ipykernel_8444\\2161819841.py:3: SyntaxWarning: 'NoneType' object is not callable; perhaps you missed a comma?\n",
      "  None(range(10))\n",
      "C:\\Users\\user\\AppData\\Local\\Temp\\ipykernel_8444\\2161819841.py:3: SyntaxWarning: 'NoneType' object is not callable; perhaps you missed a comma?\n",
      "  None(range(10))\n"
     ]
    },
    {
     "ename": "TypeError",
     "evalue": "'NoneType' object is not callable",
     "output_type": "error",
     "traceback": [
      "\u001b[1;31m---------------------------------------------------------------------------\u001b[0m",
      "\u001b[1;31mTypeError\u001b[0m                                 Traceback (most recent call last)",
      "Cell \u001b[1;32mIn[5], line 3\u001b[0m\n\u001b[0;32m      1\u001b[0m \u001b[38;5;66;03m# What happens when I pass only one \"ARGUMENT\" in range()\u001b[39;00m\n\u001b[1;32m----> 3\u001b[0m \u001b[38;5;28;43;01mNone\u001b[39;49;00m\u001b[43m(\u001b[49m\u001b[38;5;28;43mrange\u001b[39;49m\u001b[43m(\u001b[49m\u001b[38;5;241;43m10\u001b[39;49m\u001b[43m)\u001b[49m\u001b[43m)\u001b[49m\n",
      "\u001b[1;31mTypeError\u001b[0m: 'NoneType' object is not callable"
     ]
    }
   ],
   "source": [
    "# What happens when I pass only one \"ARGUMENT\" in range()\n",
    "\n",
    "None(range(10))"
   ]
  },
  {
   "cell_type": "code",
   "execution_count": null,
   "id": "3f95999d",
   "metadata": {},
   "outputs": [],
   "source": []
  },
  {
   "cell_type": "code",
   "execution_count": 1,
   "id": "1355f18c",
   "metadata": {},
   "outputs": [
    {
     "data": {
      "text/plain": [
       "'range(0, 30)'"
      ]
     },
     "execution_count": 1,
     "metadata": {},
     "output_type": "execute_result"
    }
   ],
   "source": [
    "# What happens when I pass only one \"ARGUMENT\" in range()\n",
    "\n",
    "str(range(30))     # by \"DEFAULT\" Starting value is 0"
   ]
  },
  {
   "cell_type": "code",
   "execution_count": 10,
   "id": "8cc5f406",
   "metadata": {},
   "outputs": [
    {
     "data": {
      "text/plain": [
       "str"
      ]
     },
     "execution_count": 10,
     "metadata": {},
     "output_type": "execute_result"
    }
   ],
   "source": [
    "type('range(0, 30)')"
   ]
  },
  {
   "cell_type": "code",
   "execution_count": null,
   "id": "37b43348",
   "metadata": {},
   "outputs": [],
   "source": []
  }
 ],
 "metadata": {
  "kernelspec": {
   "display_name": "Python 3 (ipykernel)",
   "language": "python",
   "name": "python3"
  },
  "language_info": {
   "codemirror_mode": {
    "name": "ipython",
    "version": 3
   },
   "file_extension": ".py",
   "mimetype": "text/x-python",
   "name": "python",
   "nbconvert_exporter": "python",
   "pygments_lexer": "ipython3",
   "version": "3.10.9"
  }
 },
 "nbformat": 4,
 "nbformat_minor": 5
}
