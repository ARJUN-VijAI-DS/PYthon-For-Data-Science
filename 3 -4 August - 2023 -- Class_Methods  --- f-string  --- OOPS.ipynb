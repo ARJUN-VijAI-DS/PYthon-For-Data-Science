{
 "cells": [
  {
   "cell_type": "code",
   "execution_count": null,
   "id": "44d93968",
   "metadata": {},
   "outputs": [],
   "source": []
  },
  {
   "cell_type": "code",
   "execution_count": 1,
   "id": "e80d0e6a",
   "metadata": {},
   "outputs": [
    {
     "name": "stdout",
     "output_type": "stream",
     "text": [
      "the value of x is  82  and the value of y is  88\n"
     ]
    }
   ],
   "source": [
    "x = 82\n",
    "y = 88\n",
    "print(\"the value of x is \",x,\" and the value of y is \",y)"
   ]
  },
  {
   "cell_type": "code",
   "execution_count": 11,
   "id": "9cd11863",
   "metadata": {},
   "outputs": [
    {
     "ename": "SyntaxError",
     "evalue": "unterminated string literal (detected at line 1) (3358644096.py, line 1)",
     "output_type": "error",
     "traceback": [
      "\u001b[1;36m  Cell \u001b[1;32mIn[11], line 1\u001b[1;36m\u001b[0m\n\u001b[1;33m    print(f\"the value of x is {x} and the value of y is {y})   ### f-string  -- string formating\u001b[0m\n\u001b[1;37m          ^\u001b[0m\n\u001b[1;31mSyntaxError\u001b[0m\u001b[1;31m:\u001b[0m unterminated string literal (detected at line 1)\n"
     ]
    }
   ],
   "source": [
    "print(f\"the value of x is {x} and the value of y is {y})   ### f-string  -- string formating"
   ]
  },
  {
   "cell_type": "code",
   "execution_count": 3,
   "id": "40320baa",
   "metadata": {},
   "outputs": [
    {
     "name": "stdout",
     "output_type": "stream",
     "text": [
      "the value of x is 82 and the value of y is 88\n"
     ]
    }
   ],
   "source": [
    "print(f\"the value of x is {x} and the value of y is {y}\")  ### f-string  -- string formating"
   ]
  },
  {
   "cell_type": "code",
   "execution_count": null,
   "id": "a18da33b",
   "metadata": {},
   "outputs": [],
   "source": []
  },
  {
   "cell_type": "markdown",
   "id": "d93364e0",
   "metadata": {},
   "source": [
    "<font size = 6.5> Class Method\n",
    "    <font size = 4>\n",
    "        <li> Methods in which only class variables are used.\n",
    "        <li> Take the **cls parameter**.\n",
    "        <li> Used to access or modify the class state.\n",
    "        <br> "
   ]
  },
  {
   "cell_type": "code",
   "execution_count": null,
   "id": "487f5e86",
   "metadata": {},
   "outputs": [],
   "source": []
  },
  {
   "cell_type": "code",
   "execution_count": 1,
   "id": "86e4f413",
   "metadata": {},
   "outputs": [
    {
     "ename": "AttributeError",
     "evalue": "type object 'School' has no attribute 'loc1'",
     "output_type": "error",
     "traceback": [
      "\u001b[1;31m---------------------------------------------------------------------------\u001b[0m",
      "\u001b[1;31mAttributeError\u001b[0m                            Traceback (most recent call last)",
      "Cell \u001b[1;32mIn[1], line 13\u001b[0m\n\u001b[0;32m      9\u001b[0m         \u001b[38;5;28mcls\u001b[39m\u001b[38;5;241m.\u001b[39mloc \u001b[38;5;241m=\u001b[39m loc1\n\u001b[0;32m     12\u001b[0m std1 \u001b[38;5;241m=\u001b[39m School()\n\u001b[1;32m---> 13\u001b[0m \u001b[38;5;28mprint\u001b[39m(\u001b[38;5;124mf\u001b[39m\u001b[38;5;124m\"\u001b[39m\u001b[38;5;124mThe name of present school is \u001b[39m\u001b[38;5;132;01m{\u001b[39;00mSchool\u001b[38;5;241m.\u001b[39mschool_name\u001b[38;5;132;01m}\u001b[39;00m\u001b[38;5;124m and it\u001b[39m\u001b[38;5;124m'\u001b[39m\u001b[38;5;124ms location is \u001b[39m\u001b[38;5;132;01m{\u001b[39;00mSchool\u001b[38;5;241m.\u001b[39mloc1\u001b[38;5;132;01m}\u001b[39;00m\u001b[38;5;124m\"\u001b[39m)  \u001b[38;5;66;03m###   f-string\u001b[39;00m\n\u001b[0;32m     14\u001b[0m School\u001b[38;5;241m.\u001b[39mschool_change(\u001b[38;5;124m\"\u001b[39m\u001b[38;5;124mABC School\u001b[39m\u001b[38;5;124m\"\u001b[39m,\u001b[38;5;124m\"\u001b[39m\u001b[38;5;124mDelhi\u001b[39m\u001b[38;5;124m\"\u001b[39m)\n\u001b[0;32m     15\u001b[0m \u001b[38;5;28mprint\u001b[39m(\u001b[38;5;124mf\u001b[39m\u001b[38;5;124m\"\u001b[39m\u001b[38;5;124mThe name of new school is \u001b[39m\u001b[38;5;132;01m{\u001b[39;00mSchool\u001b[38;5;241m.\u001b[39mschool_name\u001b[38;5;132;01m}\u001b[39;00m\u001b[38;5;124m and it\u001b[39m\u001b[38;5;124m'\u001b[39m\u001b[38;5;124ms location is \u001b[39m\u001b[38;5;132;01m{\u001b[39;00mSchool\u001b[38;5;241m.\u001b[39mloc1\u001b[38;5;132;01m}\u001b[39;00m\u001b[38;5;124m\"\u001b[39m)\n",
      "\u001b[1;31mAttributeError\u001b[0m: type object 'School' has no attribute 'loc1'"
     ]
    }
   ],
   "source": [
    "class School:\n",
    "    school_name = \"XYZ School\"       ###  class variables\n",
    "    loc = \"HALDWANI\"                 ###  class variables\n",
    "    \n",
    "    @classmethod                     ### Decorator\n",
    "    def school_change(cls,name,loc1):\n",
    "        print(cls)\n",
    "        cls.school_name = name\n",
    "        cls.loc = loc1            ## - ERROR- loc1--> loc\n",
    "\n",
    "        \n",
    "std1 = School()\n",
    "print(f\"The name of present school is {School.school_name} and it's location is {School.loc1}\")  # f-string - ERROR- loc1--> loc\n",
    "School.school_change(\"ABC School\",\"Delhi\")\n",
    "print(f\"The name of new school is {School.school_name} and it's location is {School.loc1}\")  ###   f-string   "
   ]
  },
  {
   "cell_type": "code",
   "execution_count": 2,
   "id": "9d328bcb",
   "metadata": {},
   "outputs": [
    {
     "name": "stdout",
     "output_type": "stream",
     "text": [
      "The name of present school is XYZ School and it's location is HALDWANI\n",
      "<class '__main__.School'>\n",
      "The name of new school is ABC School and it's location is Delhi\n"
     ]
    }
   ],
   "source": [
    "class School:\n",
    "    school_name = \"XYZ School\"       ###  class variables\n",
    "    loc = \"HALDWANI\"                 ###  class variables\n",
    "    \n",
    "    @classmethod                     ### Decorator\n",
    "    def school_change(cls,name,loc1):\n",
    "        print(cls)\n",
    "        cls.school_name = name\n",
    "        cls.loc = loc1\n",
    "        \n",
    "        \n",
    "std1 = School()\n",
    "print(f\"The name of present school is {School.school_name} and it's location is {School.loc}\")  # f-string\n",
    "School.school_change(\"ABC School\",\"Delhi\")                                                   ### class.class method()\n",
    "print(f\"The name of new school is {School.school_name} and it's location is {School.loc}\")  ###   f-string"
   ]
  },
  {
   "cell_type": "code",
   "execution_count": 9,
   "id": "f8bc626b",
   "metadata": {},
   "outputs": [
    {
     "name": "stdout",
     "output_type": "stream",
     "text": [
      "The name of present school is XYZ School and it's location is HALDWANI\n",
      "<class '__main__.School'>\n"
     ]
    },
    {
     "ename": "NameError",
     "evalue": "name 'cls' is not defined",
     "output_type": "error",
     "traceback": [
      "\u001b[1;31m---------------------------------------------------------------------------\u001b[0m",
      "\u001b[1;31mNameError\u001b[0m                                 Traceback (most recent call last)",
      "Cell \u001b[1;32mIn[9], line 15\u001b[0m\n\u001b[0;32m     13\u001b[0m \u001b[38;5;28mprint\u001b[39m(\u001b[38;5;124mf\u001b[39m\u001b[38;5;124m\"\u001b[39m\u001b[38;5;124mThe name of present school is \u001b[39m\u001b[38;5;132;01m{\u001b[39;00mSchool\u001b[38;5;241m.\u001b[39mschool_name\u001b[38;5;132;01m}\u001b[39;00m\u001b[38;5;124m and it\u001b[39m\u001b[38;5;124m'\u001b[39m\u001b[38;5;124ms location is \u001b[39m\u001b[38;5;132;01m{\u001b[39;00mSchool\u001b[38;5;241m.\u001b[39mloc\u001b[38;5;132;01m}\u001b[39;00m\u001b[38;5;124m\"\u001b[39m)  \u001b[38;5;66;03m###   f-string\u001b[39;00m\n\u001b[0;32m     14\u001b[0m School\u001b[38;5;241m.\u001b[39mschool_change(\u001b[38;5;124m\"\u001b[39m\u001b[38;5;124mABC School\u001b[39m\u001b[38;5;124m\"\u001b[39m,\u001b[38;5;124m\"\u001b[39m\u001b[38;5;124mDelhi\u001b[39m\u001b[38;5;124m\"\u001b[39m)\n\u001b[1;32m---> 15\u001b[0m \u001b[38;5;28mprint\u001b[39m(\u001b[38;5;124mf\u001b[39m\u001b[38;5;124m\"\u001b[39m\u001b[38;5;124mThe name of new school is \u001b[39m\u001b[38;5;132;01m{\u001b[39;00m\u001b[38;5;28mcls\u001b[39m\u001b[38;5;241m.\u001b[39mschool_name\u001b[38;5;132;01m}\u001b[39;00m\u001b[38;5;124m and it\u001b[39m\u001b[38;5;124m'\u001b[39m\u001b[38;5;124ms location is \u001b[39m\u001b[38;5;132;01m{\u001b[39;00mSchool\u001b[38;5;241m.\u001b[39mloc\u001b[38;5;132;01m}\u001b[39;00m\u001b[38;5;124m\"\u001b[39m)\n",
      "\u001b[1;31mNameError\u001b[0m: name 'cls' is not defined"
     ]
    }
   ],
   "source": [
    "class School:\n",
    "    school_name = \"XYZ School\"       ###  class variables\n",
    "    loc = \"HALDWANI\"                 ###  class variables\n",
    "    \n",
    "    @classmethod                     ### Decorator\n",
    "    def school_change(cls,name,loc1):\n",
    "        print(cls)\n",
    "        cls.school_name = name\n",
    "        cls.loc = loc1\n",
    "        \n",
    "        \n",
    "std1 = School()\n",
    "print(f\"The name of present school is {School.school_name} and it's location is {School.loc}\")  ###   f-string\n",
    "School.school_change(\"ABC School\",\"Delhi\")\n",
    "print(f\"The name of new school is {cls.school_name} and it's location is {School.loc}\")  ###   f-string \n",
    "\n",
    "## cls is a Local Parameter -- that's why Error is coming....."
   ]
  },
  {
   "cell_type": "code",
   "execution_count": null,
   "id": "48bb518c",
   "metadata": {},
   "outputs": [],
   "source": []
  },
  {
   "cell_type": "code",
   "execution_count": 10,
   "id": "f7cf6374",
   "metadata": {},
   "outputs": [
    {
     "name": "stdout",
     "output_type": "stream",
     "text": [
      "The name of present school is XYZ School and it's location is HALDWANI\n"
     ]
    },
    {
     "ename": "TypeError",
     "evalue": "School.school_change() missing 1 required positional argument: 'loc1'",
     "output_type": "error",
     "traceback": [
      "\u001b[1;31m---------------------------------------------------------------------------\u001b[0m",
      "\u001b[1;31mTypeError\u001b[0m                                 Traceback (most recent call last)",
      "Cell \u001b[1;32mIn[10], line 14\u001b[0m\n\u001b[0;32m     12\u001b[0m std1 \u001b[38;5;241m=\u001b[39m School()\n\u001b[0;32m     13\u001b[0m \u001b[38;5;28mprint\u001b[39m(\u001b[38;5;124mf\u001b[39m\u001b[38;5;124m\"\u001b[39m\u001b[38;5;124mThe name of present school is \u001b[39m\u001b[38;5;132;01m{\u001b[39;00mSchool\u001b[38;5;241m.\u001b[39mschool_name\u001b[38;5;132;01m}\u001b[39;00m\u001b[38;5;124m and it\u001b[39m\u001b[38;5;124m'\u001b[39m\u001b[38;5;124ms location is \u001b[39m\u001b[38;5;132;01m{\u001b[39;00mSchool\u001b[38;5;241m.\u001b[39mloc\u001b[38;5;132;01m}\u001b[39;00m\u001b[38;5;124m\"\u001b[39m)  \u001b[38;5;66;03m###   f-string\u001b[39;00m\n\u001b[1;32m---> 14\u001b[0m \u001b[43mSchool\u001b[49m\u001b[38;5;241;43m.\u001b[39;49m\u001b[43mschool_change\u001b[49m\u001b[43m(\u001b[49m\u001b[38;5;124;43m\"\u001b[39;49m\u001b[38;5;124;43mABC School\u001b[39;49m\u001b[38;5;124;43m\"\u001b[39;49m\u001b[43m,\u001b[49m\u001b[38;5;124;43m\"\u001b[39;49m\u001b[38;5;124;43mDelhi\u001b[39;49m\u001b[38;5;124;43m\"\u001b[39;49m\u001b[43m)\u001b[49m\n\u001b[0;32m     15\u001b[0m \u001b[38;5;28mprint\u001b[39m(\u001b[38;5;124mf\u001b[39m\u001b[38;5;124m\"\u001b[39m\u001b[38;5;124mThe name of new school is \u001b[39m\u001b[38;5;132;01m{\u001b[39;00mSchool\u001b[38;5;241m.\u001b[39mschool_name\u001b[38;5;132;01m}\u001b[39;00m\u001b[38;5;124m and it\u001b[39m\u001b[38;5;124m'\u001b[39m\u001b[38;5;124ms location is \u001b[39m\u001b[38;5;132;01m{\u001b[39;00mSchool\u001b[38;5;241m.\u001b[39mloc\u001b[38;5;132;01m}\u001b[39;00m\u001b[38;5;124m\"\u001b[39m)\n",
      "\u001b[1;31mTypeError\u001b[0m: School.school_change() missing 1 required positional argument: 'loc1'"
     ]
    }
   ],
   "source": [
    "class School:\n",
    "    school_name = \"XYZ School\"       ###  class variables\n",
    "    loc = \"HALDWANI\"                 ###  class variables\n",
    "    \n",
    "##     @classmethod                     ### Decorator       --- ERROR\n",
    "    def school_change(cls,name,loc1):\n",
    "        print(cls)\n",
    "        cls.school_name = name\n",
    "        cls.loc = loc1\n",
    "        \n",
    "        \n",
    "std1 = School()\n",
    "print(f\"The name of present school is {School.school_name} and it's location is {School.loc}\")  ###   f-string\n",
    "School.school_change(\"ABC School\",\"Delhi\")\n",
    "print(f\"The name of new school is {School.school_name} and it's location is {School.loc}\")  ###   f-string"
   ]
  },
  {
   "cell_type": "code",
   "execution_count": null,
   "id": "b551553d",
   "metadata": {},
   "outputs": [],
   "source": []
  },
  {
   "cell_type": "markdown",
   "id": "26cb05bd",
   "metadata": {},
   "source": [
    "<font size = 5.5> 4 August 2023"
   ]
  },
  {
   "cell_type": "code",
   "execution_count": 5,
   "id": "ef0634e3",
   "metadata": {},
   "outputs": [
    {
     "name": "stdout",
     "output_type": "stream",
     "text": [
      "['Tavi', '1st']\n",
      "Tavi 1st\n",
      "Tavi\n"
     ]
    }
   ],
   "source": [
    "## Using class methods as \"Alternative Constructors\"\n",
    "\n",
    "class School:\n",
    "    schoo_name = \"XYZ School\"\n",
    "    loc = \"Haldwani\"\n",
    "    \n",
    "    def __init__(self,name,class_):       ## Special constructor\n",
    "        self.name = name          ### Tavi\n",
    "        self.class_ = class_      ### 1st\n",
    "        \n",
    "    \n",
    "    @classmethod                          ### Decotrator\n",
    "    def new_admission(cls,info):       ## Alternative Constructor\n",
    "        lst = info.split(\"@\")\n",
    "        print(lst)\n",
    "        return cls(lst[0],lst[1])        ### class  -- School(\"Tavi\", \"1st\") ---- Object is created\n",
    "    \n",
    "std2 = School.new_admission(\"Tavi@1st\")     ### cls(lst[0],lst[1])\n",
    "\n",
    "print(std2.name,std2.class_)\n",
    "print(std2.name)"
   ]
  },
  {
   "cell_type": "code",
   "execution_count": 3,
   "id": "021cc6d0",
   "metadata": {},
   "outputs": [
    {
     "data": {
      "text/plain": [
       "<__main__.School at 0x2101f5d0100>"
      ]
     },
     "execution_count": 3,
     "metadata": {},
     "output_type": "execute_result"
    }
   ],
   "source": [
    "School(\"Tavi\",\"1st\")        ### Object is created ...."
   ]
  },
  {
   "cell_type": "code",
   "execution_count": null,
   "id": "4acbba1c",
   "metadata": {},
   "outputs": [],
   "source": []
  },
  {
   "cell_type": "code",
   "execution_count": null,
   "id": "386a32b4",
   "metadata": {},
   "outputs": [],
   "source": []
  },
  {
   "cell_type": "code",
   "execution_count": 3,
   "id": "d9fbd702",
   "metadata": {},
   "outputs": [
    {
     "name": "stdout",
     "output_type": "stream",
     "text": [
      "['Tavi', '1st']\n"
     ]
    },
    {
     "ename": "IndexError",
     "evalue": "list index out of range",
     "output_type": "error",
     "traceback": [
      "\u001b[1;31m---------------------------------------------------------------------------\u001b[0m",
      "\u001b[1;31mIndexError\u001b[0m                                Traceback (most recent call last)",
      "Cell \u001b[1;32mIn[3], line 18\u001b[0m\n\u001b[0;32m     15\u001b[0m         \u001b[38;5;28mprint\u001b[39m(lst)\n\u001b[0;32m     16\u001b[0m         \u001b[38;5;28;01mreturn\u001b[39;00m \u001b[38;5;28mcls\u001b[39m(lst[\u001b[38;5;241m0\u001b[39m],lst[\u001b[38;5;241m1\u001b[39m],lst[\u001b[38;5;241m2\u001b[39m])        \u001b[38;5;66;03m### class  -- School(\"Tavi\", \"1st\") ---- Object is created\u001b[39;00m\n\u001b[1;32m---> 18\u001b[0m std2 \u001b[38;5;241m=\u001b[39m \u001b[43mSchool\u001b[49m\u001b[38;5;241;43m.\u001b[39;49m\u001b[43mnew_admission\u001b[49m\u001b[43m(\u001b[49m\u001b[38;5;124;43m\"\u001b[39;49m\u001b[38;5;124;43mTavi@1st\u001b[39;49m\u001b[38;5;124;43m\"\u001b[39;49m\u001b[43m)\u001b[49m     \u001b[38;5;66;03m### cls(lst[0],lst[1])\u001b[39;00m\n\u001b[0;32m     20\u001b[0m \u001b[38;5;28mprint\u001b[39m(std2\u001b[38;5;241m.\u001b[39mname,std2\u001b[38;5;241m.\u001b[39mclass_)\n",
      "Cell \u001b[1;32mIn[3], line 16\u001b[0m, in \u001b[0;36mSchool.new_admission\u001b[1;34m(cls, info)\u001b[0m\n\u001b[0;32m     14\u001b[0m lst \u001b[38;5;241m=\u001b[39m info\u001b[38;5;241m.\u001b[39msplit(\u001b[38;5;124m\"\u001b[39m\u001b[38;5;124m@\u001b[39m\u001b[38;5;124m\"\u001b[39m)\n\u001b[0;32m     15\u001b[0m \u001b[38;5;28mprint\u001b[39m(lst)\n\u001b[1;32m---> 16\u001b[0m \u001b[38;5;28;01mreturn\u001b[39;00m \u001b[38;5;28mcls\u001b[39m(lst[\u001b[38;5;241m0\u001b[39m],lst[\u001b[38;5;241m1\u001b[39m],\u001b[43mlst\u001b[49m\u001b[43m[\u001b[49m\u001b[38;5;241;43m2\u001b[39;49m\u001b[43m]\u001b[49m)\n",
      "\u001b[1;31mIndexError\u001b[0m: list index out of range"
     ]
    }
   ],
   "source": [
    "## Using class methods as \"Alternative Constructors\"\n",
    "\n",
    "class School:\n",
    "    schoo_name = \"XYZ School\"\n",
    "    loc = \"Haldwani\"\n",
    "    \n",
    "    def __init__(self,name,class_):       ## Special constructor\n",
    "        self.name = name          ### Tavi\n",
    "        self.class_ = class_      ### 1st\n",
    "        \n",
    "    \n",
    "    @classmethod                          ### Decotrator\n",
    "    def new_admission(cls,info):\n",
    "        lst = info.split(\"@\")\n",
    "        print(lst)\n",
    "        return cls(lst[0],lst[1],lst[2])        ### class  -- School(\"Tavi\", \"1st\") ---- Object is created\n",
    "    \n",
    "std2 = School.new_admission(\"Tavi@1st\")     ### cls(lst[0],lst[1])\n",
    "\n",
    "print(std2.name,std2.class_)"
   ]
  },
  {
   "cell_type": "code",
   "execution_count": null,
   "id": "4682d04d",
   "metadata": {},
   "outputs": [],
   "source": []
  }
 ],
 "metadata": {
  "kernelspec": {
   "display_name": "Python 3 (ipykernel)",
   "language": "python",
   "name": "python3"
  },
  "language_info": {
   "codemirror_mode": {
    "name": "ipython",
    "version": 3
   },
   "file_extension": ".py",
   "mimetype": "text/x-python",
   "name": "python",
   "nbconvert_exporter": "python",
   "pygments_lexer": "ipython3",
   "version": "3.10.9"
  }
 },
 "nbformat": 4,
 "nbformat_minor": 5
}
