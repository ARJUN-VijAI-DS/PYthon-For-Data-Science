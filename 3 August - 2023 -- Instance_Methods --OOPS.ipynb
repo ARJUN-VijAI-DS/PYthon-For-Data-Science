{
 "cells": [
  {
   "cell_type": "code",
   "execution_count": null,
   "id": "cb74bcf2",
   "metadata": {},
   "outputs": [],
   "source": []
  },
  {
   "cell_type": "markdown",
   "id": "b62076dc",
   "metadata": {},
   "source": [
    "<font size = 5.5> **Instance Methods**\n",
    "    <font size = 3.5>\n",
    "        <li> Methods in which instance variables and class variables are used.\n",
    "        <li> Used to access or modify both the objects and class state.\n",
    "        <li> It must be a **self parameter** to refer to the current object.\n",
    "        <li> By default all methods are **Instance Methods**."
   ]
  },
  {
   "cell_type": "code",
   "execution_count": null,
   "id": "41a3619e",
   "metadata": {},
   "outputs": [],
   "source": []
  },
  {
   "cell_type": "code",
   "execution_count": 1,
   "id": "0b3c3485",
   "metadata": {},
   "outputs": [
    {
     "name": "stdout",
     "output_type": "stream",
     "text": [
      "Hey! I am a Data Scientist\n",
      "My name is: Aj\n"
     ]
    }
   ],
   "source": [
    "class  Aspirant:\n",
    "    def __init__(self,name):           ## \"Constructors\" are special methods --\n",
    "        print(\"Hey! I am a Data Scientist\")\n",
    "        self.name = name\n",
    "    def show(self):                   ### show() is an instance method\n",
    "        print(\"My name is:\", self.name)\n",
    "\n",
    "        \n",
    "a1 = Aspirant(\"Aj\")\n",
    "a1.show()                           #### Calling an instance method        "
   ]
  },
  {
   "cell_type": "code",
   "execution_count": 2,
   "id": "4e0eb574",
   "metadata": {},
   "outputs": [
    {
     "name": "stdout",
     "output_type": "stream",
     "text": [
      "Hey! I am a Data Scientist\n",
      "My name is: Tavi\n"
     ]
    }
   ],
   "source": [
    "a2 = Aspirant(\"Tavi\")\n",
    "a2.show()"
   ]
  },
  {
   "cell_type": "code",
   "execution_count": null,
   "id": "cb69666f",
   "metadata": {},
   "outputs": [],
   "source": []
  },
  {
   "cell_type": "code",
   "execution_count": 4,
   "id": "4688c503",
   "metadata": {},
   "outputs": [
    {
     "name": "stdout",
     "output_type": "stream",
     "text": [
      "Data Scientist\n"
     ]
    }
   ],
   "source": [
    "class Person:\n",
    "    Job = \"Data Scientist\"        ###  class variable    \n",
    "    def change_class_state(self):                      ### self -- is a Instance variable\n",
    "        self.Job = \"Teacher\"      #### Instance Variable\n",
    "        print(Person.Job)\n",
    "\n",
    "p1 = Person()               ### p1 is an object...\n",
    "p1.change_class_state()\n",
    "\n",
    "## Jis object ne call kiya method koo voo hi \"self\" -- Instance variable me JAYEGA\n",
    "##  The object \"p1\" -- called the instance variable -- \"self\" and move into self\n",
    "\n",
    "## Object will call Method and \"Passed as an argument\""
   ]
  },
  {
   "cell_type": "code",
   "execution_count": null,
   "id": "6b7dda49",
   "metadata": {},
   "outputs": [],
   "source": []
  },
  {
   "cell_type": "code",
   "execution_count": 6,
   "id": "c8b1f7fb",
   "metadata": {},
   "outputs": [
    {
     "name": "stdout",
     "output_type": "stream",
     "text": [
      "Data Scientist\n"
     ]
    }
   ],
   "source": [
    "class Person:\n",
    "    Job = \"Teacher\"        ###  class variable    \n",
    "    def change_class_state(self):                      ### self -- is a Instance variable -- Instance Method...\n",
    "        Person.Job = \"Data Scientist\"      #### Class Variable --- Access class attributes and change the \"Class state\"\n",
    "        print(Person.Job)\n",
    "\n",
    "p1 = Person()               ### p1 is an object...\n",
    "p1.change_class_state()"
   ]
  },
  {
   "cell_type": "code",
   "execution_count": null,
   "id": "5fbc3b7c",
   "metadata": {},
   "outputs": [],
   "source": []
  }
 ],
 "metadata": {
  "kernelspec": {
   "display_name": "Python 3 (ipykernel)",
   "language": "python",
   "name": "python3"
  },
  "language_info": {
   "codemirror_mode": {
    "name": "ipython",
    "version": 3
   },
   "file_extension": ".py",
   "mimetype": "text/x-python",
   "name": "python",
   "nbconvert_exporter": "python",
   "pygments_lexer": "ipython3",
   "version": "3.10.9"
  }
 },
 "nbformat": 4,
 "nbformat_minor": 5
}
