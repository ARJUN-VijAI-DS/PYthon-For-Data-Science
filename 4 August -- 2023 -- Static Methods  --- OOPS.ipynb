{
 "cells": [
  {
   "cell_type": "markdown",
   "id": "b1a8580a",
   "metadata": {},
   "source": [
    "<font size = 6.5> Static Methods\n",
    "    <font size = 3.5>\n",
    "        <li> Similar to a normal function\n",
    "        <li> It does not take **cls and self parameters**\n",
    "        <li> **It cannot modify the state of object or class**  -- state or attributes...\n",
    "            \n",
    "\n",
    "<font size = 4.5> Advantages\n",
    "    <li> Safer code -- As they cannot change the class or instance variable"
   ]
  },
  {
   "cell_type": "code",
   "execution_count": null,
   "id": "d7291c4a",
   "metadata": {},
   "outputs": [],
   "source": []
  },
  {
   "cell_type": "code",
   "execution_count": 3,
   "id": "e70bae95",
   "metadata": {},
   "outputs": [
    {
     "name": "stdout",
     "output_type": "stream",
     "text": [
      "Inside static method 44\n",
      "\n",
      "None\n",
      "Inside static method 55\n",
      "\n",
      "None\n"
     ]
    }
   ],
   "source": [
    "class Employee:\n",
    "    \n",
    "    @staticmethod\n",
    "    def sample(x):\n",
    "        print(\"Inside static method\",x)\n",
    "        \n",
    "\n",
    "## Call using class\n",
    "Employee.sample(44)\n",
    "print(print())\n",
    "\n",
    "## Call using object\n",
    "emp = Employee()\n",
    "emp.sample(55)\n",
    "print(print())\n",
    "\n",
    "## Here the class and the object is not being \"passed\", so we can't change the state of \"class and object\""
   ]
  },
  {
   "cell_type": "code",
   "execution_count": null,
   "id": "6f07f8a8",
   "metadata": {},
   "outputs": [],
   "source": []
  }
 ],
 "metadata": {
  "kernelspec": {
   "display_name": "Python 3 (ipykernel)",
   "language": "python",
   "name": "python3"
  },
  "language_info": {
   "codemirror_mode": {
    "name": "ipython",
    "version": 3
   },
   "file_extension": ".py",
   "mimetype": "text/x-python",
   "name": "python",
   "nbconvert_exporter": "python",
   "pygments_lexer": "ipython3",
   "version": "3.10.9"
  }
 },
 "nbformat": 4,
 "nbformat_minor": 5
}
