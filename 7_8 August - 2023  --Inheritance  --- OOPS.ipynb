{
 "cells": [
  {
   "cell_type": "markdown",
   "id": "24c6746d",
   "metadata": {},
   "source": [
    "<font size = 5.5> Procedural Programming\n",
    "\n",
    "<font size = 5>Object Oriented Programming"
   ]
  },
  {
   "cell_type": "code",
   "execution_count": null,
   "id": "d10757e9",
   "metadata": {},
   "outputs": [],
   "source": []
  },
  {
   "cell_type": "markdown",
   "id": "e16209b6",
   "metadata": {},
   "source": [
    "<font size = 6.5> Disadvantages of procedural programming\n",
    "    <font size =3.5> Time Taking -- Scrolling -- Mistakes -- Memory Consuming -- Repetition -- Lenthy codes\n",
    "        <font size =3.5> Unstructured  -- Too many variables -- No Format  -- Finding variables -- Difficult to Remember\n"
   ]
  },
  {
   "cell_type": "code",
   "execution_count": null,
   "id": "ccdc00ed",
   "metadata": {},
   "outputs": [],
   "source": []
  },
  {
   "cell_type": "markdown",
   "id": "adfa0770",
   "metadata": {},
   "source": [
    "<font size = 4.5> Empty form/Unfilled form  -- Class\n",
    "\n",
    "<font size = 4.5> Filled form  --- Object (Instance) of the Class  --- All fields are it's Attributes"
   ]
  },
  {
   "cell_type": "markdown",
   "id": "2ebce6c5",
   "metadata": {},
   "source": [
    "<font size = 5> Font Size<br>Break line<br>*Italics*<br>**Bold Font**\n",
    "    "
   ]
  },
  {
   "cell_type": "code",
   "execution_count": null,
   "id": "5c2f6efa",
   "metadata": {},
   "outputs": [],
   "source": []
  },
  {
   "cell_type": "markdown",
   "id": "96e17673",
   "metadata": {},
   "source": [
    "<font size = 4.5> Name, Age, DOB, Phone Number, Email, Computer Konwledge, Programming Experience,  Education, "
   ]
  },
  {
   "cell_type": "code",
   "execution_count": null,
   "id": "022dc1f8",
   "metadata": {},
   "outputs": [],
   "source": []
  },
  {
   "cell_type": "code",
   "execution_count": 1,
   "id": "88de161e",
   "metadata": {},
   "outputs": [],
   "source": [
    "# Homework\n",
    "class VijAI:\n",
    "    Institute_name = \"VijAI\"\n",
    "    location    = \"Haldwani\"\n",
    "    \n",
    "    def __init__(self,Name,Age,Phone_Number,Email,Education,Knowledge_of_Computer,Programming_Experience,Profession):\n",
    "        self.Name                          = Name\n",
    "        self.Age                           = Age\n",
    "        self.Phone_Number                  = Phone_Number\n",
    "        self.Email                         = Email\n",
    "        self.Education                     = Education\n",
    "        self.Knowledge_of_Computer         = Knowledge_of_Computer\n",
    "        self.Programming_Experience        = Programming_Experience\n",
    "        self.Profession                    = Profession"
   ]
  },
  {
   "cell_type": "code",
   "execution_count": 4,
   "id": "b009accb",
   "metadata": {},
   "outputs": [],
   "source": [
    "Aj = VijAI(\"Arjun\",40,9811384859,\"arjun.gupta.24@gmail.com\",\"B.Ed B.Tech\",\"Yes\",\"No\",\"Teacher\")\n",
    "SS = VijAI(\"Sheena\",35,9811384859,\"arjun.gupta.24@gmail.com\",\"M.A English\",\"Yes\",\"No\",\"Teacher\")\n",
    "Ti = VijAI(\"Tavishi\",4,9811384859,\"arjun.gupta.24@gmail.com\",\"Nursery\",\"No\",\"No\",\"Student\")"
   ]
  },
  {
   "cell_type": "code",
   "execution_count": 3,
   "id": "17ee9b4a",
   "metadata": {},
   "outputs": [
    {
     "name": "stdout",
     "output_type": "stream",
     "text": [
      "Arjun\n",
      "Sheena\n"
     ]
    }
   ],
   "source": [
    "print(Aj.Name)\n",
    "print(SS.Name)"
   ]
  },
  {
   "cell_type": "code",
   "execution_count": null,
   "id": "51fa6025",
   "metadata": {},
   "outputs": [],
   "source": []
  },
  {
   "cell_type": "markdown",
   "id": "4c72d1a9",
   "metadata": {},
   "source": [
    "<font size = 6.5> OOPS - Pillars of OOPS <br>\n",
    "    <font size = 4.5> 1. Encapsulation <br> 2. Inheritance <br> 3. Polymorphism. <br> 4. Abstraction"
   ]
  },
  {
   "cell_type": "markdown",
   "id": "5989f320",
   "metadata": {},
   "source": [
    "<font size = 5.5> Inheritance <br>\n",
    "    <font size = 4> Process of inheriting the properties of the parent class into a child class is called \"Inheritance <br><br>\n",
    "        The child class acquires all the attributes and methods from the parent class.<br><br> Also, a child class can provide its specific implementations to the methods of the parent class. "
   ]
  },
  {
   "cell_type": "code",
   "execution_count": 5,
   "id": "47c7b525",
   "metadata": {},
   "outputs": [],
   "source": [
    "class Parentclass:\n",
    "    pass\n",
    "class Childclass(Parentclass):\n",
    "    pass"
   ]
  },
  {
   "cell_type": "code",
   "execution_count": 21,
   "id": "e1f58dda",
   "metadata": {},
   "outputs": [],
   "source": [
    "class Employee:\n",
    "    def __init__(self,name,age,gender,salary,id):\n",
    "        self.name       = name\n",
    "        self.age        = age\n",
    "        self.gender     = gender\n",
    "        self.salary     = salary\n",
    "        self.id         = id\n",
    "        \n",
    "class Programmer(Employee):\n",
    "    def Programming_Language(self,Prog_Lang):\n",
    "        self.Prog_Lang  = Prog_Lang\n",
    "        \n",
    "        \n",
    "class Manager(Employee):\n",
    "    def Specific_Domain(self,Domain):\n",
    "        self.Domain  = Domain"
   ]
  },
  {
   "cell_type": "code",
   "execution_count": 23,
   "id": "8eef9645",
   "metadata": {},
   "outputs": [
    {
     "name": "stdout",
     "output_type": "stream",
     "text": [
      "AJ\n"
     ]
    }
   ],
   "source": [
    "Emp1 = Employee(\"AJ\",40,\"M\",1000000000000,12345)\n",
    "print(Emp1.name)"
   ]
  },
  {
   "cell_type": "code",
   "execution_count": 11,
   "id": "ebf81e24",
   "metadata": {},
   "outputs": [
    {
     "ename": "NameError",
     "evalue": "name 'Programmer_Language' is not defined",
     "output_type": "error",
     "traceback": [
      "\u001b[1;31m---------------------------------------------------------------------------\u001b[0m",
      "\u001b[1;31mNameError\u001b[0m                                 Traceback (most recent call last)",
      "Cell \u001b[1;32mIn[11], line 1\u001b[0m\n\u001b[1;32m----> 1\u001b[0m Prog1 \u001b[38;5;241m=\u001b[39m \u001b[43mProgrammer_Language\u001b[49m(\u001b[38;5;124m\"\u001b[39m\u001b[38;5;124mPYthon\u001b[39m\u001b[38;5;124m\"\u001b[39m)\n",
      "\u001b[1;31mNameError\u001b[0m: name 'Programmer_Language' is not defined"
     ]
    }
   ],
   "source": [
    "Prog1 = Programmer_Language(\"PYthon\")"
   ]
  },
  {
   "cell_type": "code",
   "execution_count": 12,
   "id": "08768311",
   "metadata": {},
   "outputs": [
    {
     "ename": "TypeError",
     "evalue": "Employee.__init__() missing 4 required positional arguments: 'age', 'gender', 'salary', and 'id'",
     "output_type": "error",
     "traceback": [
      "\u001b[1;31m---------------------------------------------------------------------------\u001b[0m",
      "\u001b[1;31mTypeError\u001b[0m                                 Traceback (most recent call last)",
      "Cell \u001b[1;32mIn[12], line 1\u001b[0m\n\u001b[1;32m----> 1\u001b[0m Prog1 \u001b[38;5;241m=\u001b[39m \u001b[43mProgrammer\u001b[49m\u001b[43m(\u001b[49m\u001b[38;5;124;43m\"\u001b[39;49m\u001b[38;5;124;43mPYthon\u001b[39;49m\u001b[38;5;124;43m\"\u001b[39;49m\u001b[43m)\u001b[49m\n",
      "\u001b[1;31mTypeError\u001b[0m: Employee.__init__() missing 4 required positional arguments: 'age', 'gender', 'salary', and 'id'"
     ]
    }
   ],
   "source": [
    "Prog1 = Programmer(\"PYthon\")"
   ]
  },
  {
   "cell_type": "code",
   "execution_count": 13,
   "id": "53941df9",
   "metadata": {
    "scrolled": true
   },
   "outputs": [
    {
     "ename": "AttributeError",
     "evalue": "type object 'Programmer' has no attribute 'Prog_Lang'",
     "output_type": "error",
     "traceback": [
      "\u001b[1;31m---------------------------------------------------------------------------\u001b[0m",
      "\u001b[1;31mAttributeError\u001b[0m                            Traceback (most recent call last)",
      "Cell \u001b[1;32mIn[13], line 1\u001b[0m\n\u001b[1;32m----> 1\u001b[0m Prog1 \u001b[38;5;241m=\u001b[39m \u001b[43mProgrammer\u001b[49m\u001b[38;5;241;43m.\u001b[39;49m\u001b[43mProg_Lang\u001b[49m(\u001b[38;5;124m\"\u001b[39m\u001b[38;5;124mPYthon\u001b[39m\u001b[38;5;124m\"\u001b[39m)\n",
      "\u001b[1;31mAttributeError\u001b[0m: type object 'Programmer' has no attribute 'Prog_Lang'"
     ]
    }
   ],
   "source": [
    "Prog1 = Programmer.Prog_Lang(\"PYthon\")"
   ]
  },
  {
   "cell_type": "code",
   "execution_count": 14,
   "id": "41a0389c",
   "metadata": {},
   "outputs": [
    {
     "ename": "AttributeError",
     "evalue": "type object 'Programmer' has no attribute 'Prog_Lang'",
     "output_type": "error",
     "traceback": [
      "\u001b[1;31m---------------------------------------------------------------------------\u001b[0m",
      "\u001b[1;31mAttributeError\u001b[0m                            Traceback (most recent call last)",
      "Cell \u001b[1;32mIn[14], line 1\u001b[0m\n\u001b[1;32m----> 1\u001b[0m Prog1 \u001b[38;5;241m=\u001b[39m \u001b[43mProgrammer\u001b[49m\u001b[38;5;241;43m.\u001b[39;49m\u001b[43mProg_Lang\u001b[49m(\u001b[38;5;124m\"\u001b[39m\u001b[38;5;124mPYthon\u001b[39m\u001b[38;5;124m\"\u001b[39m)\n",
      "\u001b[1;31mAttributeError\u001b[0m: type object 'Programmer' has no attribute 'Prog_Lang'"
     ]
    }
   ],
   "source": [
    "Prog1 = Programmer.Prog_Lang(\"PYthon\")"
   ]
  },
  {
   "cell_type": "code",
   "execution_count": 16,
   "id": "eda094da",
   "metadata": {},
   "outputs": [
    {
     "ename": "TypeError",
     "evalue": "Employee.__init__() missing 4 required positional arguments: 'age', 'gender', 'salary', and 'id'",
     "output_type": "error",
     "traceback": [
      "\u001b[1;31m---------------------------------------------------------------------------\u001b[0m",
      "\u001b[1;31mTypeError\u001b[0m                                 Traceback (most recent call last)",
      "Cell \u001b[1;32mIn[16], line 1\u001b[0m\n\u001b[1;32m----> 1\u001b[0m Prog1 \u001b[38;5;241m=\u001b[39m \u001b[43mProgrammer\u001b[49m\u001b[43m(\u001b[49m\u001b[38;5;124;43m\"\u001b[39;49m\u001b[38;5;124;43mPYthon\u001b[39;49m\u001b[38;5;124;43m\"\u001b[39;49m\u001b[43m)\u001b[49m\n",
      "\u001b[1;31mTypeError\u001b[0m: Employee.__init__() missing 4 required positional arguments: 'age', 'gender', 'salary', and 'id'"
     ]
    }
   ],
   "source": [
    "Prog1 = Programmer(\"PYthon\")"
   ]
  },
  {
   "cell_type": "code",
   "execution_count": 17,
   "id": "02f6191f",
   "metadata": {},
   "outputs": [
    {
     "ename": "TypeError",
     "evalue": "Employee.__init__() takes 6 positional arguments but 7 were given",
     "output_type": "error",
     "traceback": [
      "\u001b[1;31m---------------------------------------------------------------------------\u001b[0m",
      "\u001b[1;31mTypeError\u001b[0m                                 Traceback (most recent call last)",
      "Cell \u001b[1;32mIn[17], line 1\u001b[0m\n\u001b[1;32m----> 1\u001b[0m Prog1 \u001b[38;5;241m=\u001b[39m \u001b[43mProgrammer\u001b[49m\u001b[43m(\u001b[49m\u001b[38;5;124;43m\"\u001b[39;49m\u001b[38;5;124;43mAJ\u001b[39;49m\u001b[38;5;124;43m\"\u001b[39;49m\u001b[43m,\u001b[49m\u001b[38;5;241;43m40\u001b[39;49m\u001b[43m,\u001b[49m\u001b[38;5;124;43m\"\u001b[39;49m\u001b[38;5;124;43mM\u001b[39;49m\u001b[38;5;124;43m\"\u001b[39;49m\u001b[43m,\u001b[49m\u001b[38;5;241;43m1000000000000\u001b[39;49m\u001b[43m,\u001b[49m\u001b[38;5;241;43m12345\u001b[39;49m\u001b[43m,\u001b[49m\u001b[38;5;124;43m\"\u001b[39;49m\u001b[38;5;124;43mPYthon\u001b[39;49m\u001b[38;5;124;43m\"\u001b[39;49m\u001b[43m)\u001b[49m\n",
      "\u001b[1;31mTypeError\u001b[0m: Employee.__init__() takes 6 positional arguments but 7 were given"
     ]
    }
   ],
   "source": [
    "Prog1 = Programmer(\"AJ\",40,\"M\",1000000000000,12345,\"PYthon\")"
   ]
  },
  {
   "cell_type": "code",
   "execution_count": 18,
   "id": "a8ab71a9",
   "metadata": {},
   "outputs": [
    {
     "ename": "NameError",
     "evalue": "name 'Domain' is not defined",
     "output_type": "error",
     "traceback": [
      "\u001b[1;31m---------------------------------------------------------------------------\u001b[0m",
      "\u001b[1;31mNameError\u001b[0m                                 Traceback (most recent call last)",
      "Cell \u001b[1;32mIn[18], line 1\u001b[0m\n\u001b[1;32m----> 1\u001b[0m Prog1 \u001b[38;5;241m=\u001b[39m \u001b[43mDomain\u001b[49m(\u001b[38;5;124m\"\u001b[39m\u001b[38;5;124mPYthon\u001b[39m\u001b[38;5;124m\"\u001b[39m)\n",
      "\u001b[1;31mNameError\u001b[0m: name 'Domain' is not defined"
     ]
    }
   ],
   "source": [
    "Prog1 = Domain(\"PYthon\")"
   ]
  },
  {
   "cell_type": "code",
   "execution_count": 19,
   "id": "4ee69362",
   "metadata": {},
   "outputs": [
    {
     "ename": "NameError",
     "evalue": "name 'Specific_Domain' is not defined",
     "output_type": "error",
     "traceback": [
      "\u001b[1;31m---------------------------------------------------------------------------\u001b[0m",
      "\u001b[1;31mNameError\u001b[0m                                 Traceback (most recent call last)",
      "Cell \u001b[1;32mIn[19], line 1\u001b[0m\n\u001b[1;32m----> 1\u001b[0m Prog1 \u001b[38;5;241m=\u001b[39m \u001b[43mSpecific_Domain\u001b[49m(\u001b[38;5;124m\"\u001b[39m\u001b[38;5;124mPYthon\u001b[39m\u001b[38;5;124m\"\u001b[39m)\n",
      "\u001b[1;31mNameError\u001b[0m: name 'Specific_Domain' is not defined"
     ]
    }
   ],
   "source": [
    "Prog1 = Specific_Domain(\"PYthon\")"
   ]
  },
  {
   "cell_type": "code",
   "execution_count": 20,
   "id": "6e4657ed",
   "metadata": {},
   "outputs": [
    {
     "ename": "NameError",
     "evalue": "name 'Specific_Domain' is not defined",
     "output_type": "error",
     "traceback": [
      "\u001b[1;31m---------------------------------------------------------------------------\u001b[0m",
      "\u001b[1;31mNameError\u001b[0m                                 Traceback (most recent call last)",
      "Cell \u001b[1;32mIn[20], line 1\u001b[0m\n\u001b[1;32m----> 1\u001b[0m Prog1 \u001b[38;5;241m=\u001b[39m \u001b[43mSpecific_Domain\u001b[49m\u001b[38;5;241m.\u001b[39mDomain(\u001b[38;5;124m\"\u001b[39m\u001b[38;5;124mPYthon\u001b[39m\u001b[38;5;124m\"\u001b[39m)\n",
      "\u001b[1;31mNameError\u001b[0m: name 'Specific_Domain' is not defined"
     ]
    }
   ],
   "source": [
    "Prog1 = Specific_Domain.Domain(\"PYthon\")"
   ]
  },
  {
   "cell_type": "markdown",
   "id": "1c194360",
   "metadata": {},
   "source": [
    "<font size = 5.5> 10 August 2023"
   ]
  },
  {
   "cell_type": "markdown",
   "id": "f0621225",
   "metadata": {},
   "source": [
    "<font size = 6.5> Types of inheritance <br> <font size = 3.5> 1. Single Inheritance <br> 2. Multipe Inheritance <br>3. Multilevel Inheritance <br>4. Hierarchical Inheritance <br>5. Hybrid Inheritance <br> "
   ]
  },
  {
   "cell_type": "markdown",
   "id": "1c5a736d",
   "metadata": {},
   "source": [
    "<font size = 5.5> <li> Parent Class or Super Class or Base Class\n",
    "    <br><li> Child Class or Sub Class or Derived Class"
   ]
  },
  {
   "cell_type": "markdown",
   "id": "9e74b56f",
   "metadata": {},
   "source": [
    "<font size = 4.5> Single Inheritance"
   ]
  },
  {
   "cell_type": "code",
   "execution_count": 1,
   "id": "f6a40fb3",
   "metadata": {},
   "outputs": [
    {
     "name": "stdout",
     "output_type": "stream",
     "text": [
      "Inside Vehicle Class\n",
      "Inside Car Class\n"
     ]
    }
   ],
   "source": [
    "# Parent Class\n",
    "class Vehicle:\n",
    "    \n",
    "    def Vehicle_info(self):\n",
    "        print(\"Inside Vehicle Class\")\n",
    "        \n",
    "## Child Class\n",
    "\n",
    "class Car(Vehicle):\n",
    "    \n",
    "    def car_info(self):\n",
    "        print(\"Inside Car Class\")\n",
    "        \n",
    "car = Car()\n",
    "car.Vehicle_info()\n",
    "car.car_info()  ## ---> No attribute class_info"
   ]
  },
  {
   "cell_type": "code",
   "execution_count": 2,
   "id": "efa85c20",
   "metadata": {},
   "outputs": [
    {
     "ename": "AttributeError",
     "evalue": "'Vehicle' object has no attribute 'car_info'",
     "output_type": "error",
     "traceback": [
      "\u001b[1;31m---------------------------------------------------------------------------\u001b[0m",
      "\u001b[1;31mAttributeError\u001b[0m                            Traceback (most recent call last)",
      "Cell \u001b[1;32mIn[2], line 2\u001b[0m\n\u001b[0;32m      1\u001b[0m V1 \u001b[38;5;241m=\u001b[39m Vehicle()\n\u001b[1;32m----> 2\u001b[0m \u001b[43mV1\u001b[49m\u001b[38;5;241;43m.\u001b[39;49m\u001b[43mcar_info\u001b[49m()\n",
      "\u001b[1;31mAttributeError\u001b[0m: 'Vehicle' object has no attribute 'car_info'"
     ]
    }
   ],
   "source": [
    "V1 = Vehicle()\n",
    "V1.car_info()"
   ]
  },
  {
   "cell_type": "code",
   "execution_count": 8,
   "id": "b5876a05",
   "metadata": {},
   "outputs": [
    {
     "ename": "AttributeError",
     "evalue": "'Vehicle' object has no attribute 'Vehicle'",
     "output_type": "error",
     "traceback": [
      "\u001b[1;31m---------------------------------------------------------------------------\u001b[0m",
      "\u001b[1;31mAttributeError\u001b[0m                            Traceback (most recent call last)",
      "Cell \u001b[1;32mIn[8], line 2\u001b[0m\n\u001b[0;32m      1\u001b[0m V1 \u001b[38;5;241m=\u001b[39m Vehicle()\n\u001b[1;32m----> 2\u001b[0m \u001b[43mV1\u001b[49m\u001b[38;5;241;43m.\u001b[39;49m\u001b[43mVehicle\u001b[49m()\n\u001b[0;32m      3\u001b[0m V1\u001b[38;5;241m.\u001b[39mcar_info()\n",
      "\u001b[1;31mAttributeError\u001b[0m: 'Vehicle' object has no attribute 'Vehicle'"
     ]
    }
   ],
   "source": [
    "V1 = Vehicle()\n",
    "V1.Vehicle()\n",
    "V1.car_info()"
   ]
  },
  {
   "cell_type": "code",
   "execution_count": 7,
   "id": "cb853fcc",
   "metadata": {},
   "outputs": [
    {
     "ename": "AttributeError",
     "evalue": "'Vehicle' object has no attribute 'Car'",
     "output_type": "error",
     "traceback": [
      "\u001b[1;31m---------------------------------------------------------------------------\u001b[0m",
      "\u001b[1;31mAttributeError\u001b[0m                            Traceback (most recent call last)",
      "Cell \u001b[1;32mIn[7], line 2\u001b[0m\n\u001b[0;32m      1\u001b[0m V1 \u001b[38;5;241m=\u001b[39m Vehicle()\n\u001b[1;32m----> 2\u001b[0m \u001b[43mV1\u001b[49m\u001b[38;5;241;43m.\u001b[39;49m\u001b[43mCar\u001b[49m\u001b[38;5;241m.\u001b[39mcar_info()\n",
      "\u001b[1;31mAttributeError\u001b[0m: 'Vehicle' object has no attribute 'Car'"
     ]
    }
   ],
   "source": [
    "V1 = Vehicle()\n",
    "V1.Car.car_info()"
   ]
  },
  {
   "cell_type": "markdown",
   "id": "96b43f49",
   "metadata": {},
   "source": [
    "<font size = 4.5> Can the parent class ojects access the child class attributes and methods?\n",
    "    <li> NO"
   ]
  },
  {
   "cell_type": "code",
   "execution_count": null,
   "id": "7d406f30",
   "metadata": {},
   "outputs": [],
   "source": []
  },
  {
   "cell_type": "code",
   "execution_count": null,
   "id": "b57d7bbc",
   "metadata": {},
   "outputs": [],
   "source": []
  },
  {
   "cell_type": "code",
   "execution_count": null,
   "id": "7dfb0ca8",
   "metadata": {},
   "outputs": [],
   "source": []
  },
  {
   "cell_type": "markdown",
   "id": "d4eb6215",
   "metadata": {},
   "source": [
    "<font size = 5.5> 14 August 2023"
   ]
  },
  {
   "cell_type": "code",
   "execution_count": 17,
   "id": "ce4e5586",
   "metadata": {},
   "outputs": [
    {
     "ename": "NameError",
     "evalue": "name 'Car' is not defined",
     "output_type": "error",
     "traceback": [
      "\u001b[1;31m---------------------------------------------------------------------------\u001b[0m",
      "\u001b[1;31mNameError\u001b[0m                                 Traceback (most recent call last)",
      "Cell \u001b[1;32mIn[17], line 2\u001b[0m\n\u001b[0;32m      1\u001b[0m \u001b[38;5;66;03m# Parent Class\u001b[39;00m\n\u001b[1;32m----> 2\u001b[0m \u001b[38;5;28;01mclass\u001b[39;00m \u001b[38;5;21;01mVehicle\u001b[39;00m(\u001b[43mCar\u001b[49m):\n\u001b[0;32m      4\u001b[0m     \u001b[38;5;28;01mdef\u001b[39;00m \u001b[38;5;21mVehicle_info\u001b[39m(\u001b[38;5;28mself\u001b[39m):\n\u001b[0;32m      5\u001b[0m         \u001b[38;5;28mprint\u001b[39m(\u001b[38;5;124m\"\u001b[39m\u001b[38;5;124mInside Vehicle Class\u001b[39m\u001b[38;5;124m\"\u001b[39m)\n",
      "\u001b[1;31mNameError\u001b[0m: name 'Car' is not defined"
     ]
    }
   ],
   "source": [
    "# Parent Class\n",
    "class Vehicle(Car):\n",
    "    \n",
    "    def Vehicle_info(self):\n",
    "        print(\"Inside Vehicle Class\")\n",
    "        \n",
    "## Child Class\n",
    "\n",
    "class Car(Vehicle):\n",
    "    \n",
    "    def car_info(self):\n",
    "        print(\"Inside Car Class\")\n",
    "        \n",
    "car = Car()\n",
    "car.Vehicle_info()\n",
    "car.car_info()"
   ]
  },
  {
   "cell_type": "code",
   "execution_count": 12,
   "id": "9e4b0563",
   "metadata": {},
   "outputs": [
    {
     "name": "stdout",
     "output_type": "stream",
     "text": [
      "Inside Car Class\n"
     ]
    }
   ],
   "source": [
    "V1 = Vehicle()\n",
    "V1.car_info()"
   ]
  },
  {
   "cell_type": "code",
   "execution_count": 15,
   "id": "09cc9097",
   "metadata": {},
   "outputs": [],
   "source": [
    "del Car"
   ]
  },
  {
   "cell_type": "code",
   "execution_count": 3,
   "id": "b001d860",
   "metadata": {},
   "outputs": [
    {
     "name": "stdout",
     "output_type": "stream",
     "text": [
      "Jaguar\n"
     ]
    },
    {
     "data": {
      "text/plain": [
       "'Jaguar'"
      ]
     },
     "execution_count": 3,
     "metadata": {},
     "output_type": "execute_result"
    }
   ],
   "source": [
    "# Parent Class\n",
    "class Vehicle:\n",
    "    \n",
    "    def __init__(self):\n",
    "        self.brand = \"Jaguar\"\n",
    "        print(self.brand)\n",
    "        \n",
    "    def Vehicle_info(self):\n",
    "        print(\"Inside Vehicle Class\")\n",
    "        \n",
    "## Child Class\n",
    "\n",
    "class Car(Vehicle):\n",
    "    \n",
    "    def car_info(self):\n",
    "        print(\"Inside Car Class\")\n",
    "        \n",
    "car = Car()\n",
    "car.brand"
   ]
  },
  {
   "cell_type": "code",
   "execution_count": 6,
   "id": "1ccd5cf8",
   "metadata": {},
   "outputs": [
    {
     "name": "stdout",
     "output_type": "stream",
     "text": [
      "Jaguar\n",
      "Inside Car Class\n"
     ]
    },
    {
     "data": {
      "text/plain": [
       "'Jaguar'"
      ]
     },
     "execution_count": 6,
     "metadata": {},
     "output_type": "execute_result"
    }
   ],
   "source": [
    "class Car(Vehicle):\n",
    "    \n",
    "    def __init__(self):\n",
    "        self.brand = \"Jaguar\"\n",
    "        print(self.brand)\n",
    "        print(\"Inside Car Class\")\n",
    "        \n",
    "c2 = Car()\n",
    "car.brand"
   ]
  },
  {
   "cell_type": "code",
   "execution_count": null,
   "id": "df7ad21a",
   "metadata": {},
   "outputs": [],
   "source": []
  },
  {
   "cell_type": "code",
   "execution_count": 11,
   "id": "53ca381d",
   "metadata": {},
   "outputs": [
    {
     "name": "stdout",
     "output_type": "stream",
     "text": [
      "Data Scientist\n"
     ]
    },
    {
     "ename": "AttributeError",
     "evalue": "'Car' object has no attribute 'brand'",
     "output_type": "error",
     "traceback": [
      "\u001b[1;31m---------------------------------------------------------------------------\u001b[0m",
      "\u001b[1;31mAttributeError\u001b[0m                            Traceback (most recent call last)",
      "Cell \u001b[1;32mIn[11], line 22\u001b[0m\n\u001b[0;32m     19\u001b[0m         \u001b[38;5;28mprint\u001b[39m(\u001b[38;5;124m\"\u001b[39m\u001b[38;5;124mInside Car Class\u001b[39m\u001b[38;5;124m\"\u001b[39m)\n\u001b[0;32m     21\u001b[0m car \u001b[38;5;241m=\u001b[39m Car()\n\u001b[1;32m---> 22\u001b[0m \u001b[43mcar\u001b[49m\u001b[38;5;241;43m.\u001b[39;49m\u001b[43mbrand\u001b[49m\n",
      "\u001b[1;31mAttributeError\u001b[0m: 'Car' object has no attribute 'brand'"
     ]
    }
   ],
   "source": [
    "# Parent Class\n",
    "class Vehicle:\n",
    "    \n",
    "    def __init__(self):\n",
    "        self.brand = \"Jaguar\"\n",
    "        print(self.brand)\n",
    "        \n",
    "    def Vehicle_info(self):\n",
    "        print(\"Inside Vehicle Class\")\n",
    "        \n",
    "## Child Class\n",
    "\n",
    "class Car(Vehicle):\n",
    "    def __init__(self):\n",
    "        self.name = \"Data Scientist\"\n",
    "        print(self.name)\n",
    "    \n",
    "    def car_info(self):\n",
    "        print(\"Inside Car Class\")\n",
    "        \n",
    "car = Car()\n",
    "car.brand"
   ]
  },
  {
   "cell_type": "code",
   "execution_count": null,
   "id": "1ae59ff4",
   "metadata": {},
   "outputs": [],
   "source": []
  },
  {
   "cell_type": "code",
   "execution_count": null,
   "id": "57e951c0",
   "metadata": {},
   "outputs": [],
   "source": []
  },
  {
   "cell_type": "code",
   "execution_count": 1,
   "id": "eb3ee529",
   "metadata": {},
   "outputs": [
    {
     "ename": "SyntaxError",
     "evalue": "invalid syntax (2596463537.py, line 4)",
     "output_type": "error",
     "traceback": [
      "\u001b[1;36m  Cell \u001b[1;32mIn[1], line 4\u001b[1;36m\u001b[0m\n\u001b[1;33m    def Vehicle _info(self):\u001b[0m\n\u001b[1;37m                ^\u001b[0m\n\u001b[1;31mSyntaxError\u001b[0m\u001b[1;31m:\u001b[0m invalid syntax\n"
     ]
    }
   ],
   "source": [
    "# Parent Class\n",
    "class Vehicle:\n",
    "    \n",
    "    def Vehicle _info(self):\n",
    "        print(\"Inside Vehicle Class\")\n",
    "        \n",
    "## Child Class\n",
    "\n",
    "class Car(Vehicle):\n",
    "    \n",
    "    def car_info(self):\n",
    "        print(\"Inside Car Class\")\n",
    "        \n",
    "car = Car()\n",
    "car.Vehicle_info()\n",
    "car.car_info()"
   ]
  },
  {
   "cell_type": "code",
   "execution_count": 9,
   "id": "2d858136",
   "metadata": {},
   "outputs": [
    {
     "ename": "NameError",
     "evalue": "name 'self' is not defined",
     "output_type": "error",
     "traceback": [
      "\u001b[1;31m---------------------------------------------------------------------------\u001b[0m",
      "\u001b[1;31mNameError\u001b[0m                                 Traceback (most recent call last)",
      "Cell \u001b[1;32mIn[9], line 20\u001b[0m\n\u001b[0;32m     17\u001b[0m     \u001b[38;5;28;01mdef\u001b[39;00m \u001b[38;5;21mcar_info\u001b[39m(\u001b[38;5;28mself\u001b[39m):\n\u001b[0;32m     18\u001b[0m         \u001b[38;5;28mprint\u001b[39m(\u001b[38;5;124m\"\u001b[39m\u001b[38;5;124mInside Car Class\u001b[39m\u001b[38;5;124m\"\u001b[39m)\n\u001b[1;32m---> 20\u001b[0m car \u001b[38;5;241m=\u001b[39m \u001b[43mCar\u001b[49m\u001b[43m(\u001b[49m\u001b[43m)\u001b[49m\n\u001b[0;32m     21\u001b[0m car\u001b[38;5;241m.\u001b[39mbrand\n",
      "Cell \u001b[1;32mIn[9], line 15\u001b[0m, in \u001b[0;36mCar.__init__\u001b[1;34m(self1)\u001b[0m\n\u001b[0;32m     14\u001b[0m \u001b[38;5;28;01mdef\u001b[39;00m \u001b[38;5;21m__init__\u001b[39m(self1):\n\u001b[1;32m---> 15\u001b[0m     \u001b[38;5;28;43mself\u001b[39;49m\u001b[38;5;241m.\u001b[39mname \u001b[38;5;241m=\u001b[39m \u001b[38;5;124m\"\u001b[39m\u001b[38;5;124mData Scientist\u001b[39m\u001b[38;5;124m\"\u001b[39m\n",
      "\u001b[1;31mNameError\u001b[0m: name 'self' is not defined"
     ]
    }
   ],
   "source": [
    "# Parent Class\n",
    "class Vehicle:\n",
    "    \n",
    "    def __init__(self):\n",
    "        self.brand = \"Jaguar\"\n",
    "        print(self.brand)\n",
    "        \n",
    "    def Vehicle_info(self):\n",
    "        print(\"Inside Vehicle Class\")\n",
    "        \n",
    "## Child Class\n",
    "\n",
    "class Car(Vehicle):\n",
    "    def __init__(self1):         ##     <---- Error \n",
    "        self.name = \"Data Scientist\"\n",
    "    \n",
    "    def car_info(self):\n",
    "        print(\"Inside Car Class\")\n",
    "        \n",
    "car = Car()\n",
    "car.brand"
   ]
  }
 ],
 "metadata": {
  "kernelspec": {
   "display_name": "Python 3 (ipykernel)",
   "language": "python",
   "name": "python3"
  },
  "language_info": {
   "codemirror_mode": {
    "name": "ipython",
    "version": 3
   },
   "file_extension": ".py",
   "mimetype": "text/x-python",
   "name": "python",
   "nbconvert_exporter": "python",
   "pygments_lexer": "ipython3",
   "version": "3.10.9"
  }
 },
 "nbformat": 4,
 "nbformat_minor": 5
}
