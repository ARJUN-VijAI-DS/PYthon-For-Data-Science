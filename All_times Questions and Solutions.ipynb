{
 "cells": [
  {
   "cell_type": "code",
   "execution_count": 5,
   "id": "06e5bb9c",
   "metadata": {},
   "outputs": [
    {
     "name": "stdout",
     "output_type": "stream",
     "text": [
      "19 12\n"
     ]
    }
   ],
   "source": [
    "# Swapping of two values.\n",
    "x,z =12,19\n",
    "x,z = z,x\n",
    "print(x,z)"
   ]
  },
  {
   "cell_type": "code",
   "execution_count": null,
   "id": "2c602475",
   "metadata": {},
   "outputs": [],
   "source": [
    "# Swapping of two values.\n",
    "A = input(\"First Data:    \")\n",
    "B = input(\"Second Data:   \") \n",
    "A,B = B,A \n",
    "print(\"Swapped Value A:\" , A)\n",
    "print(\"Swapped Value B:\" , B) "
   ]
  },
  {
   "cell_type": "code",
   "execution_count": null,
   "id": "c7b4606e",
   "metadata": {},
   "outputs": [],
   "source": [
    "# Swapping of two values.\n",
    "A = input(\"First Data:    \"); B = input(\"Second Data:   \"); A,B = B,A ; print(\"Swap Value A:\" , A); print(\"Swap Value B:\" , B) "
   ]
  },
  {
   "cell_type": "code",
   "execution_count": null,
   "id": "11ce44c7",
   "metadata": {},
   "outputs": [],
   "source": [
    "# Swapping of two values.\n",
    "A = input(\"First Data:    \")            #SWAPPING  using .split() method   +  INDEXING OF STRING\n",
    "B = input(\"Second Data:   \")      \n",
    "X = A + B\n",
    "P = X.split(A)             # X,Y,A,B  are already STRINGS so no need to use DOUBLE Quotation MARKs\n",
    "print(P)\n",
    "print(P[1])\n",
    "Q = X.split(B)\n",
    "print(Q)\n",
    "print(Q[0])\n",
    "B = Q[0]\n",
    "A = P[1]\n",
    "print(A,B)\n"
   ]
  },
  {
   "cell_type": "code",
   "execution_count": null,
   "id": "8cd1d1cf",
   "metadata": {},
   "outputs": [],
   "source": [
    "# Swapping of two values.\n",
    "A = input(\"First Data:    \")     # using .replace() method\n",
    "B = input(\"Second Data:   \")      \n",
    "X = Y = A + B\n",
    "X = X.replace(A+B, B)             # X,Y,A,B  are already STRINGS so no need to use DOUBLE Quotation MARKs\n",
    "print(X)\n",
    "Y = Y.replace(A+B, A)\n",
    "print(Y)"
   ]
  },
  {
   "cell_type": "code",
   "execution_count": null,
   "id": "77aabeb4",
   "metadata": {},
   "outputs": [],
   "source": []
  },
  {
   "cell_type": "code",
   "execution_count": null,
   "id": "7ffa6fe8",
   "metadata": {},
   "outputs": [],
   "source": []
  },
  {
   "cell_type": "code",
   "execution_count": null,
   "id": "d7a67fff",
   "metadata": {},
   "outputs": [],
   "source": [
    "x = \"arjun\"    #### make first letter in uppercase.\n",
    "y = \"Arjun\"\n",
    "x,y = y,x\n",
    "print(x)"
   ]
  },
  {
   "cell_type": "code",
   "execution_count": null,
   "id": "af081d4a",
   "metadata": {},
   "outputs": [],
   "source": [
    "#  Q3. Take any two numbers (two digit positive numbers) as inputs form the users multiply the numbers in this way\n",
    " #  25\n",
    " #  36\n",
    " #  5*3 + 2*5 = 25\n",
    "    \n",
    "X = int(input(\"Enter a First two digit integer:  \"))\n",
    "Y = int(input(\"Enter a Second two digit integer: \"))\n",
    "print(X%10 * Y//10 + Y%10 * X//10)"
   ]
  },
  {
   "cell_type": "code",
   "execution_count": null,
   "id": "a7839454",
   "metadata": {},
   "outputs": [],
   "source": [
    "#  Take any two numbers (two digit positive numbers) as inputs form the users multiply the numbers in this way\n",
    " #  25\n",
    " #  36\n",
    " #  5*3 + 2*6 = 27\n",
    "    \n",
    "X = input(\"Enter a First two digit integer:  \")\n",
    "print(X)\n",
    "Y = input(\"Enter a Second two digit integer: \")\n",
    "print(Y)\n",
    "Q = int(str(X))\n",
    "P = int(str(Y))\n",
    "\n",
    "A = Q%10\n",
    "B = P%10\n",
    "C = (Q//10)\n",
    "D = (P//10)\n",
    "E = A*D + B*C\n",
    "print(A,B,C,D)\n",
    "print(\"\\n\")\n",
    "print(E)"
   ]
  },
  {
   "cell_type": "code",
   "execution_count": null,
   "id": "0c2deb4c",
   "metadata": {},
   "outputs": [],
   "source": [
    "#  Q3. Take any two numbers (two digit positive numbers) as inputs form the users multiply the numbers in this way\n",
    " #  25\n",
    " #  36\n",
    " #  5*3 + 2*6 = 27\n",
    "    \n",
    "X = input(\"Enter a First two digit integer:  \")\n",
    "print(X)\n",
    "Y = input(\"Enter a Second two digit integer: \")\n",
    "print(Y)\n",
    "Q = int(str(X))\n",
    "P = int(str(Y))\n",
    "\n",
    "A = (Q%10)*(P//10)\n",
    "B = (P%10)*(Q//10)\n",
    "C = A + B\n",
    "print(\"\\n\" , A,B , \"\\n\" , C)"
   ]
  },
  {
   "cell_type": "code",
   "execution_count": null,
   "id": "60923259",
   "metadata": {},
   "outputs": [],
   "source": [
    "# Find Average of two numbers.\n",
    "    \n",
    "X = input(\"Enter a First two digit integer:  \")\n",
    "print(X)\n",
    "Y = input(\"Enter a Second two digit integer: \")\n",
    "print(Y)\n",
    "Q = int(str(X))\n",
    "P = int(str(Y))\n",
    "\n",
    "A = ((Q+P)//2)\n",
    "print(A)"
   ]
  },
  {
   "cell_type": "code",
   "execution_count": null,
   "id": "56f944d1",
   "metadata": {},
   "outputs": [],
   "source": [
    "#  Find Average of two numbers.\n",
    "    \n",
    "X = input(\"Enter a First two digit integer:  \")\n",
    "print(X)\n",
    "Y = input(\"Enter a Second two digit integer: \")\n",
    "print(Y)\n",
    "Q = int(str(X))\n",
    "P = int(str(Y))\n",
    "\n",
    "A = ((Q+P)/2)\n",
    "print(A)"
   ]
  },
  {
   "cell_type": "code",
   "execution_count": null,
   "id": "cc118b99",
   "metadata": {},
   "outputs": [],
   "source": []
  },
  {
   "cell_type": "code",
   "execution_count": null,
   "id": "47169b23",
   "metadata": {},
   "outputs": [],
   "source": []
  },
  {
   "cell_type": "code",
   "execution_count": null,
   "id": "1615c708",
   "metadata": {},
   "outputs": [],
   "source": []
  },
  {
   "cell_type": "code",
   "execution_count": null,
   "id": "db469be7",
   "metadata": {},
   "outputs": [],
   "source": []
  },
  {
   "cell_type": "code",
   "execution_count": null,
   "id": "cbb60b39",
   "metadata": {},
   "outputs": [],
   "source": []
  },
  {
   "cell_type": "code",
   "execution_count": 4,
   "id": "4b3fd903",
   "metadata": {},
   "outputs": [
    {
     "name": "stdout",
     "output_type": "stream",
     "text": [
      "Enter a Two Digit integer: 234\n",
      "<class 'int'>\n"
     ]
    },
    {
     "data": {
      "text/plain": [
       "4"
      ]
     },
     "execution_count": 4,
     "metadata": {},
     "output_type": "execute_result"
    }
   ],
   "source": [
    "# Q1. take a two digit Integer form user and print the digit at one's place separately.\n",
    "\n",
    "X = input(\"Enter a Two Digit integer: \")\n",
    "Z = int(str(X))\n",
    "print(type(Z))\n",
    "Z%10"
   ]
  },
  {
   "cell_type": "code",
   "execution_count": null,
   "id": "b6c41293",
   "metadata": {},
   "outputs": [],
   "source": [
    "# Accidental Question\n",
    "X = input(\"Enter a First two digit integer:  \")\n",
    "Y = input(\"Enter a Second two digit integer: \")\n",
    "Q = int(str(X))\n",
    "P = int(str(Y))\n",
    "\n",
    "Z = X*10 + Y\n",
    "print('\\n')\n",
    "print(Z)"
   ]
  },
  {
   "cell_type": "code",
   "execution_count": null,
   "id": "13c16e96",
   "metadata": {},
   "outputs": [],
   "source": []
  },
  {
   "cell_type": "code",
   "execution_count": 3,
   "id": "d3a382e8",
   "metadata": {
    "collapsed": true
   },
   "outputs": [
    {
     "name": "stdout",
     "output_type": "stream",
     "text": [
      "Name of student\t\tAA\t\tBB\t\tCC\t\tDD\n",
      "\n",
      "\n",
      "Hindi          \t\t90\t\t80\t\t77\t\t91\n",
      "\n",
      "\n",
      "English        \t\t65\t\t55\t\t88\t\t79\n",
      "\n",
      "\n",
      "Sanskrit       \t\t91\t\t85\t\t75\t\t65\n",
      "\n",
      "\n",
      "SST            \t\t92\t\t88\t\t98\t\t58\n"
     ]
    }
   ],
   "source": [
    "print(\"Name of student\"\"\\t\\tAA\\t\\tBB\\t\\tCC\\t\\tDD\")\n",
    "print(\"\\n\")\n",
    "print(\"Hindi          \"\"\\t\\t90\\t\\t80\\t\\t77\\t\\t91\")\n",
    "print(\"\\n\")\n",
    "print(\"English        \"\"\\t\\t65\\t\\t55\\t\\t88\\t\\t79\")\n",
    "print(\"\\n\")\n",
    "print(\"Sanskrit       \"\"\\t\\t91\\t\\t85\\t\\t75\\t\\t65\")\n",
    "print(\"\\n\")\n",
    "print(\"SST            \"\"\\t\\t92\\t\\t88\\t\\t98\\t\\t58\")"
   ]
  },
  {
   "cell_type": "code",
   "execution_count": 2,
   "id": "b6cfd370",
   "metadata": {},
   "outputs": [
    {
     "name": "stdout",
     "output_type": "stream",
     "text": [
      "Enter any number:  12343\n",
      "<class 'int'>\n",
      "Number is Odd\n",
      "END\n"
     ]
    }
   ],
   "source": [
    "# Program to check whether a number is **EVEN or ODD**\n",
    "n = int(input(\"Enter any number:  \"))\n",
    "print(type(n))\n",
    "if n%2 ==0:\n",
    "    print(\"Number is Even\")\n",
    "else:\n",
    "    print(\"Number is Odd\")\n",
    "print(\"END\")"
   ]
  },
  {
   "cell_type": "code",
   "execution_count": 1,
   "id": "99a71182",
   "metadata": {},
   "outputs": [
    {
     "name": "stdout",
     "output_type": "stream",
     "text": [
      "Enter any number:23432\n",
      "Number is Palindrome\n",
      "END\n"
     ]
    }
   ],
   "source": [
    "# Program to check whether a number is 'Palindrome number'\n",
    "pn = (input(\"Enter any number:\"))\n",
    "y = pn[::-1]\n",
    "if pn == y:\n",
    "    print(\"Number is Palindrome\")\n",
    "else:\n",
    "    print(\"Number is NOT Palindrome\")\n",
    "print(\"END\")"
   ]
  },
  {
   "cell_type": "code",
   "execution_count": 1,
   "id": "2515eac2",
   "metadata": {},
   "outputs": [
    {
     "name": "stdout",
     "output_type": "stream",
     "text": [
      "students:3\n"
     ]
    },
    {
     "data": {
      "text/plain": [
       "'cc'"
      ]
     },
     "execution_count": 1,
     "metadata": {},
     "output_type": "execute_result"
    }
   ],
   "source": [
    "# Write a code to display the name of 10 students through their Roll Number (By User)\n",
    "students = {1:\"aa\",2:\"bb\",3:\"cc\",4:\"dd\",5:\"ee\",6:\"ff\",7:\"gg\",8:\"hh\",9:\"ii\",10:\"jj\"}\n",
    "x = int(input(\"students:\"))\n",
    "students[x]"
   ]
  },
  {
   "cell_type": "code",
   "execution_count": 2,
   "id": "5e505c45",
   "metadata": {},
   "outputs": [
    {
     "name": "stdout",
     "output_type": "stream",
     "text": [
      "students:5\n",
      "ee\n"
     ]
    }
   ],
   "source": [
    "# Write a code to display the name of 10 students through their Roll Number (By User)\n",
    "students = {1:\"aa\",2:\"bb\",3:\"cc\",4:\"dd\",5:\"ee\",6:\"ff\",7:\"gg\",8:\"hh\",9:\"ii\",10:\"jj\"}\n",
    "x = int(input(\"students:\"))\n",
    "print(students[x])"
   ]
  },
  {
   "cell_type": "code",
   "execution_count": 1,
   "id": "07d1cc03",
   "metadata": {},
   "outputs": [
    {
     "name": "stdout",
     "output_type": "stream",
     "text": [
      "Roll number of Student:77\n",
      "Enter the name of Student:Aj\n",
      "{77: 'Aj'}\n"
     ]
    }
   ],
   "source": [
    "# User wants to give admission to a to a new student -- Roll number and Name must be given by user.\n",
    "y = int(input(\"Roll number of Student:\"))\n",
    "x = input(\"Enter the name of Student:\")\n",
    "student = {y:x}\n",
    "print(student)"
   ]
  },
  {
   "cell_type": "code",
   "execution_count": 2,
   "id": "a6c79ba2",
   "metadata": {},
   "outputs": [
    {
     "name": "stdout",
     "output_type": "stream",
     "text": [
      "students:5\n",
      "ee\n",
      "Roll number of Student:99\n",
      "Enter the name of Student:AJ\n",
      "{1: 'aa', 2: 'bb', 3: 'cc', 4: 'dd', 5: 'ee', 6: 'ff', 7: 'gg', 8: 'hh', 9: 'ii', 10: 'jj', 99: 'AJ'}\n"
     ]
    }
   ],
   "source": [
    "# User wants to give admission to a to a new student -- Roll number and Name must be given by user.\n",
    "students = {1:\"aa\",2:\"bb\",3:\"cc\",4:\"dd\",5:\"ee\",6:\"ff\",7:\"gg\",8:\"hh\",9:\"ii\",10:\"jj\"}\n",
    "x = int(input(\"students:\"))\n",
    "print(students[x])\n",
    "New = int(input(\"Roll number of Student:\"))\n",
    "New_Name = input(\"Enter the name of Student:\")\n",
    "students.update({New:New_Name})\n",
    "print(students)"
   ]
  },
  {
   "cell_type": "code",
   "execution_count": null,
   "id": "7676e9e3",
   "metadata": {},
   "outputs": [],
   "source": []
  },
  {
   "cell_type": "code",
   "execution_count": null,
   "id": "c368b430",
   "metadata": {},
   "outputs": [],
   "source": []
  },
  {
   "cell_type": "code",
   "execution_count": 6,
   "id": "9db3ba78",
   "metadata": {},
   "outputs": [
    {
     "name": "stdout",
     "output_type": "stream",
     "text": [
      "18\n",
      "Remove N characters from the string:12\n",
      "entist\n"
     ]
    }
   ],
   "source": [
    "# Remove first \"N\" characters form a string.\n",
    "x = \"I'm DATA Scientist\"\n",
    "print(len(x))\n",
    "N = int(input(\"Remove N characters from the string:\"))\n",
    "x = x[N:len(x)]\n",
    "print(x)"
   ]
  },
  {
   "cell_type": "code",
   "execution_count": 2,
   "id": "b61e8934",
   "metadata": {},
   "outputs": [
    {
     "name": "stdout",
     "output_type": "stream",
     "text": [
      "18\n",
      "Remove N characters from the string:123\n",
      "\n"
     ]
    }
   ],
   "source": [
    "# Return the \"COUNT\" of a given SUBSTRING from a String  -- \"From last of the string\".\n",
    "x = \"I'm DATA Scientist\"\n",
    "print(len(x))\n",
    "N = int(input(\"Remove N characters from the string:\"))\n",
    "x = x[:len(x)-N]             #  used slicing of string... \n",
    "print(x)"
   ]
  },
  {
   "cell_type": "code",
   "execution_count": null,
   "id": "f018ae6b",
   "metadata": {},
   "outputs": [],
   "source": []
  }
 ],
 "metadata": {
  "kernelspec": {
   "display_name": "Python 3 (ipykernel)",
   "language": "python",
   "name": "python3"
  },
  "language_info": {
   "codemirror_mode": {
    "name": "ipython",
    "version": 3
   },
   "file_extension": ".py",
   "mimetype": "text/x-python",
   "name": "python",
   "nbconvert_exporter": "python",
   "pygments_lexer": "ipython3",
   "version": "3.10.9"
  }
 },
 "nbformat": 4,
 "nbformat_minor": 5
}
