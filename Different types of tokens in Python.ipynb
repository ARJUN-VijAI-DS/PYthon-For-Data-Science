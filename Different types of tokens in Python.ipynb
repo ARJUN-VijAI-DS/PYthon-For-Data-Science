{
 "cells": [
  {
   "cell_type": "markdown",
   "id": "9c74b2c9",
   "metadata": {},
   "source": [
    "# Tokens\n",
    "\n",
    "- A token is the smallest individual unit in a python program. All statements and instructions in a program are built with tokens.\n",
    "\n",
    "\n",
    "- Keywords\n",
    "\n",
    "- Identifiers\n",
    "\n",
    "- Literals\n",
    "\n",
    "- Operators\n",
    "\n",
    "- Punctuators"
   ]
  },
  {
   "cell_type": "markdown",
   "id": "d2e45d30",
   "metadata": {},
   "source": [
    "# Literals\n",
    "\n",
    "- 1. String Litrals\n",
    "- 2. Numeric Litrals\n",
    "  - A. Integer\n",
    "  - B. Float\n",
    "  - C. Complex\n",
    "\n",
    "- 3. Boolean Litrals\n",
    "\n",
    "- 4. Special Litrals (None)\n",
    "\n",
    "- 5. Litrals Collections\n",
    "  - A. List Litrals\n",
    "  - B. Tuple Litrals\n",
    "  - C. Dictionary Litrals\n",
    "  - D. Set Litrals\n"
   ]
  },
  {
   "cell_type": "markdown",
   "id": "b86594fe",
   "metadata": {},
   "source": [
    "# Keywords \n",
    "\n",
    "- Keywords are special words which have a unique meaning and purpose in Python.\n",
    "- Keywords cannot be used as Variable names, function names etc."
   ]
  },
  {
   "cell_type": "code",
   "execution_count": 1,
   "id": "31d50e4e",
   "metadata": {},
   "outputs": [
    {
     "name": "stdout",
     "output_type": "stream",
     "text": [
      "\n",
      "Here is a list of the Python keywords.  Enter any keyword to get more help.\n",
      "\n",
      "False               class               from                or\n",
      "None                continue            global              pass\n",
      "True                def                 if                  raise\n",
      "and                 del                 import              return\n",
      "as                  elif                in                  try\n",
      "assert              else                is                  while\n",
      "async               except              lambda              with\n",
      "await               finally             nonlocal            yield\n",
      "break               for                 not                 \n",
      "\n"
     ]
    }
   ],
   "source": [
    "help(\"keywords\")"
   ]
  },
  {
   "cell_type": "code",
   "execution_count": 2,
   "id": "10786e2f",
   "metadata": {
    "scrolled": true
   },
   "outputs": [
    {
     "name": "stdout",
     "output_type": "stream",
     "text": [
      "Help on built-in function print in module builtins:\n",
      "\n",
      "print(...)\n",
      "    print(value, ..., sep=' ', end='\\n', file=sys.stdout, flush=False)\n",
      "    \n",
      "    Prints the values to a stream, or to sys.stdout by default.\n",
      "    Optional keyword arguments:\n",
      "    file:  a file-like object (stream); defaults to the current sys.stdout.\n",
      "    sep:   string inserted between values, default a space.\n",
      "    end:   string appended after the last value, default a newline.\n",
      "    flush: whether to forcibly flush the stream.\n",
      "\n"
     ]
    }
   ],
   "source": [
    "help(\"print\")"
   ]
  },
  {
   "cell_type": "code",
   "execution_count": 3,
   "id": "22a4e387",
   "metadata": {},
   "outputs": [
    {
     "name": "stdout",
     "output_type": "stream",
     "text": [
      "The \"for\" statement\n",
      "*******************\n",
      "\n",
      "The \"for\" statement is used to iterate over the elements of a sequence\n",
      "(such as a string, tuple or list) or other iterable object:\n",
      "\n",
      "   for_stmt ::= \"for\" target_list \"in\" expression_list \":\" suite\n",
      "                [\"else\" \":\" suite]\n",
      "\n",
      "The expression list is evaluated once; it should yield an iterable\n",
      "object.  An iterator is created for the result of the\n",
      "\"expression_list\".  The suite is then executed once for each item\n",
      "provided by the iterator, in the order returned by the iterator.  Each\n",
      "item in turn is assigned to the target list using the standard rules\n",
      "for assignments (see Assignment statements), and then the suite is\n",
      "executed.  When the items are exhausted (which is immediately when the\n",
      "sequence is empty or an iterator raises a \"StopIteration\" exception),\n",
      "the suite in the \"else\" clause, if present, is executed, and the loop\n",
      "terminates.\n",
      "\n",
      "A \"break\" statement executed in the first suite terminates the loop\n",
      "without executing the \"else\" clause’s suite.  A \"continue\" statement\n",
      "executed in the first suite skips the rest of the suite and continues\n",
      "with the next item, or with the \"else\" clause if there is no next\n",
      "item.\n",
      "\n",
      "The for-loop makes assignments to the variables in the target list.\n",
      "This overwrites all previous assignments to those variables including\n",
      "those made in the suite of the for-loop:\n",
      "\n",
      "   for i in range(10):\n",
      "       print(i)\n",
      "       i = 5             # this will not affect the for-loop\n",
      "                         # because i will be overwritten with the next\n",
      "                         # index in the range\n",
      "\n",
      "Names in the target list are not deleted when the loop is finished,\n",
      "but if the sequence is empty, they will not have been assigned to at\n",
      "all by the loop.  Hint: the built-in function \"range()\" returns an\n",
      "iterator of integers suitable to emulate the effect of Pascal’s \"for i\n",
      ":= a to b do\"; e.g., \"list(range(3))\" returns the list \"[0, 1, 2]\".\n",
      "\n",
      "Related help topics: break, continue, while\n",
      "\n"
     ]
    }
   ],
   "source": [
    "help(\"for\")"
   ]
  },
  {
   "cell_type": "markdown",
   "id": "c9129c12",
   "metadata": {},
   "source": [
    "# Identifiers\n",
    "\n",
    "- Identifiers -- are names given to any variable, class, function, method etc.\n"
   ]
  },
  {
   "cell_type": "markdown",
   "id": "4397c94f",
   "metadata": {},
   "source": [
    "# Punctuators\n",
    "\n",
    "- Punctuators are symbols that are used to structure the statements. Some commonly used punctuators are: \",\", #, \\, (), {}, [], @, :, "
   ]
  },
  {
   "cell_type": "code",
   "execution_count": null,
   "id": "446e21b5",
   "metadata": {},
   "outputs": [],
   "source": []
  }
 ],
 "metadata": {
  "kernelspec": {
   "display_name": "Python 3 (ipykernel)",
   "language": "python",
   "name": "python3"
  },
  "language_info": {
   "codemirror_mode": {
    "name": "ipython",
    "version": 3
   },
   "file_extension": ".py",
   "mimetype": "text/x-python",
   "name": "python",
   "nbconvert_exporter": "python",
   "pygments_lexer": "ipython3",
   "version": "3.10.9"
  }
 },
 "nbformat": 4,
 "nbformat_minor": 5
}
