{
 "cells": [
  {
   "cell_type": "markdown",
   "id": "3f940f8b",
   "metadata": {},
   "source": [
    "<Font size = 5.5> <head> <center> Getters and Setters \n",
    "    <font size = 4> <br> Getters are the methods used to **access** the values of private Attributes. <Br> Setters are the methods used to **Change** the values of private Attributes  <Font size = 3.5><br> <li> Used to achieve encapsulation. They control the access to the private variables. <Li> Prevent any invalid values from being initialized to the variables. <li> We can hide the implementation details of a class from external users"
   ]
  },
  {
   "cell_type": "code",
   "execution_count": 1,
   "id": "b39cb266",
   "metadata": {},
   "outputs": [
    {
     "name": "stdout",
     "output_type": "stream",
     "text": [
      "55\n"
     ]
    },
    {
     "data": {
      "text/plain": [
       "99"
      ]
     },
     "execution_count": 1,
     "metadata": {},
     "output_type": "execute_result"
    }
   ],
   "source": [
    "class Number:\n",
    "    def __init__(self):\n",
    "        self.__num = 55\n",
    "        \n",
    "    @property   ### Getter\n",
    "    def num(self):\n",
    "        return self.__num\n",
    "    \n",
    "    @num.setter\n",
    "    def num(self,new_num):\n",
    "        self.__num = new_num\n",
    "        \n",
    "        \n",
    "x = Number()\n",
    "y = Number()\n",
    "print(x.num)\n",
    "x.num = 99\n",
    "x.num"
   ]
  },
  {
   "cell_type": "code",
   "execution_count": null,
   "id": "cc701724",
   "metadata": {},
   "outputs": [],
   "source": []
  },
  {
   "cell_type": "code",
   "execution_count": 16,
   "id": "a1b6ba8c",
   "metadata": {},
   "outputs": [
    {
     "name": "stdout",
     "output_type": "stream",
     "text": [
      "55\n",
      "99\n",
      "Invalid Value \n",
      " Enter value between 0 to 100\n",
      "40\n",
      " \n",
      "\n",
      "\n",
      "No one will break the convention --- \n",
      "300\n"
     ]
    }
   ],
   "source": [
    "class Number:\n",
    "    def __init__(self):\n",
    "        self.__num = 55\n",
    "        self.__age = 40\n",
    "        \n",
    "    @property                   ### Getter\n",
    "    def num(self):\n",
    "        return self.__num\n",
    "    \n",
    "    @num.setter                ### Setter   \n",
    "    def num(self,new_num):\n",
    "        self.__num = new_num\n",
    "    \n",
    "    @property                   ### Getter\n",
    "    def age(self):\n",
    "        return self.__age\n",
    "    \n",
    "    @age.setter                 ### Setter\n",
    "    def age(self,new_age):\n",
    "        if new_age > 100:\n",
    "            print(\"Invalid Value \\n Enter value between 0 to 100\")\n",
    "        else:\n",
    "            self.__age = new_age\n",
    "    \n",
    "    \n",
    "        \n",
    "x = Number()\n",
    "y = Number()\n",
    "print(x.num)\n",
    "x.num = 99\n",
    "print(x.num)\n",
    "\n",
    "y.age = 4000\n",
    "print(y.age)\n",
    "\n",
    "print(\" \\n\\n\\nNo one will break the convention --- \")\n",
    "y._Number__age = 300  ### Just for practice ....\n",
    "print(y.age)"
   ]
  },
  {
   "cell_type": "code",
   "execution_count": null,
   "id": "74ebbd33",
   "metadata": {},
   "outputs": [],
   "source": []
  },
  {
   "cell_type": "code",
   "execution_count": null,
   "id": "a984f348",
   "metadata": {},
   "outputs": [],
   "source": []
  }
 ],
 "metadata": {
  "kernelspec": {
   "display_name": "Python 3 (ipykernel)",
   "language": "python",
   "name": "python3"
  },
  "language_info": {
   "codemirror_mode": {
    "name": "ipython",
    "version": 3
   },
   "file_extension": ".py",
   "mimetype": "text/x-python",
   "name": "python",
   "nbconvert_exporter": "python",
   "pygments_lexer": "ipython3",
   "version": "3.10.9"
  }
 },
 "nbformat": 4,
 "nbformat_minor": 5
}
