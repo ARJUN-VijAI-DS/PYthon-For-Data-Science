{
 "cells": [
  {
   "cell_type": "markdown",
   "id": "1203ddbf",
   "metadata": {},
   "source": [
    "<font size = 5> Encapsulation involves bundling of data(Attributes) and Functions(methods) within a single unit(class).\n",
    "    <br><br> <li> Encapsulation is a way to restrict access to methods and attributes from outside of class. <br><li> Whenever we are working with the class and dealing with sensitive data, providing access to all variables used within the class is not a good choice."
   ]
  },
  {
   "cell_type": "markdown",
   "id": "a78e8294",
   "metadata": {},
   "source": [
    "<font size = 4> **Access Modifiers in PYthon**"
   ]
  },
  {
   "cell_type": "markdown",
   "id": "51a051b2",
   "metadata": {},
   "source": [
    "<font size = 4> 1. Access Modifiers limit access to the attributes and methods of a class. <br> 2. PYthon provides three types of access modifiers Public, Private and Protected."
   ]
  },
  {
   "cell_type": "markdown",
   "id": "6616c227",
   "metadata": {},
   "source": [
    "<font size = 4>**Public Member**\n",
    "    <li> Accessible within and outside of a class\n",
    "        <li> All Variables and methods are public by default."
   ]
  },
  {
   "cell_type": "code",
   "execution_count": 1,
   "id": "4f7b7bba",
   "metadata": {},
   "outputs": [
    {
     "name": "stdout",
     "output_type": "stream",
     "text": [
      "40\n",
      "Aj 40\n",
      "41\n"
     ]
    }
   ],
   "source": [
    "class Aspirant:\n",
    "    \n",
    "    def __init__(self,name,age):\n",
    "        \n",
    "        self.name = name\n",
    "        self.age = age\n",
    "                \n",
    "    def show(self):\n",
    "        print(self.name,self.age)\n",
    "        \n",
    "\n",
    "a1 = Aspirant(\"Aj\",40)\n",
    "print(a1.age)\n",
    "a1.show()\n",
    "a1.age = 41\n",
    "print(a1.age)"
   ]
  },
  {
   "cell_type": "code",
   "execution_count": null,
   "id": "6ec195a0",
   "metadata": {},
   "outputs": [],
   "source": []
  },
  {
   "cell_type": "markdown",
   "id": "f443c08b",
   "metadata": {},
   "source": [
    "<font size = 5>**Private Member**\n",
    "    <br> <li> Accessible only within the class.<li> Can't access them directly from class objects. <li> Wew can create private members using \"Double Underscore\""
   ]
  },
  {
   "cell_type": "code",
   "execution_count": 1,
   "id": "cf8274f1",
   "metadata": {},
   "outputs": [
    {
     "ename": "AttributeError",
     "evalue": "'Aspirant' object has no attribute '__profession'",
     "output_type": "error",
     "traceback": [
      "\u001b[1;31m---------------------------------------------------------------------------\u001b[0m",
      "\u001b[1;31mAttributeError\u001b[0m                            Traceback (most recent call last)",
      "Cell \u001b[1;32mIn[1], line 11\u001b[0m\n\u001b[0;32m      7\u001b[0m         \u001b[38;5;28mself\u001b[39m\u001b[38;5;241m.\u001b[39m__profession \u001b[38;5;241m=\u001b[39m profession   \u001b[38;5;66;03m## private variable\u001b[39;00m\n\u001b[0;32m     10\u001b[0m a1 \u001b[38;5;241m=\u001b[39m Aspirant(\u001b[38;5;124m\"\u001b[39m\u001b[38;5;124mAj\u001b[39m\u001b[38;5;124m\"\u001b[39m,\u001b[38;5;241m40\u001b[39m,\u001b[38;5;124m\"\u001b[39m\u001b[38;5;124mData Scientist\u001b[39m\u001b[38;5;124m\"\u001b[39m)\n\u001b[1;32m---> 11\u001b[0m \u001b[38;5;28mprint\u001b[39m(\u001b[43ma1\u001b[49m\u001b[38;5;241;43m.\u001b[39;49m\u001b[43m__profession\u001b[49m)\n",
      "\u001b[1;31mAttributeError\u001b[0m: 'Aspirant' object has no attribute '__profession'"
     ]
    }
   ],
   "source": [
    "class Aspirant:\n",
    "    \n",
    "    def __init__(self,name,age,profession):\n",
    "        \n",
    "        self.name = name\n",
    "        self.age = age\n",
    "        self.__profession = profession   ## private variable\n",
    "        \n",
    "\n",
    "a1 = Aspirant(\"Aj\",40,\"Data Scientist\")\n",
    "print(a1.__profession)"
   ]
  },
  {
   "cell_type": "code",
   "execution_count": 5,
   "id": "2b8450bb",
   "metadata": {},
   "outputs": [
    {
     "ename": "AttributeError",
     "evalue": "'Aspirant' object has no attribute '__show'",
     "output_type": "error",
     "traceback": [
      "\u001b[1;31m---------------------------------------------------------------------------\u001b[0m",
      "\u001b[1;31mAttributeError\u001b[0m                            Traceback (most recent call last)",
      "Cell \u001b[1;32mIn[5], line 14\u001b[0m\n\u001b[0;32m     10\u001b[0m         \u001b[38;5;28mprint\u001b[39m(\u001b[38;5;28mself\u001b[39m\u001b[38;5;241m.\u001b[39mname,\u001b[38;5;28mself\u001b[39m\u001b[38;5;241m.\u001b[39mage)\n\u001b[0;32m     13\u001b[0m a1 \u001b[38;5;241m=\u001b[39m Aspirant(\u001b[38;5;124m\"\u001b[39m\u001b[38;5;124mAj\u001b[39m\u001b[38;5;124m\"\u001b[39m,\u001b[38;5;241m40\u001b[39m,\u001b[38;5;124m\"\u001b[39m\u001b[38;5;124mData Scientist\u001b[39m\u001b[38;5;124m\"\u001b[39m)\n\u001b[1;32m---> 14\u001b[0m \u001b[38;5;28mprint\u001b[39m(\u001b[43ma1\u001b[49m\u001b[38;5;241;43m.\u001b[39;49m\u001b[43m__show\u001b[49m())\n",
      "\u001b[1;31mAttributeError\u001b[0m: 'Aspirant' object has no attribute '__show'"
     ]
    }
   ],
   "source": [
    "class Aspirant:\n",
    "    \n",
    "    def __init__(self,name,age,profession):\n",
    "        \n",
    "        self.name = name\n",
    "        self.age = age\n",
    "        self.__profession = profession   ## private variable\n",
    "        \n",
    "    def __show(self):                  ## private method\n",
    "        print(self.name,self.age)\n",
    "        \n",
    "\n",
    "a1 = Aspirant(\"Aj\",40,\"Data Scientist\")\n",
    "print(a1.__show())"
   ]
  },
  {
   "cell_type": "markdown",
   "id": "c6b78a34",
   "metadata": {},
   "source": [
    "<font size = 4.5>**Accessing Private Attributes using a method**"
   ]
  },
  {
   "cell_type": "code",
   "execution_count": 6,
   "id": "a5e2f86c",
   "metadata": {},
   "outputs": [
    {
     "name": "stdout",
     "output_type": "stream",
     "text": [
      "Aj with age 40 is a Data Scientist\n",
      "None\n"
     ]
    }
   ],
   "source": [
    "class Aspirant:\n",
    "    \n",
    "    def __init__(self,name,age,profession):\n",
    "        \n",
    "        self.name = name\n",
    "        self.age = age\n",
    "        self.__profession = profession   ## private variable\n",
    "        \n",
    "    def show(self):                  ## private method\n",
    "        print(f\"{self.name} with age {self.age} is a {self.__profession}\")\n",
    "        \n",
    "\n",
    "a1 = Aspirant(\"Aj\",40,\"Data Scientist\")\n",
    "print(a1.show())  ## print function will return None"
   ]
  },
  {
   "cell_type": "code",
   "execution_count": 7,
   "id": "f6c5b290",
   "metadata": {},
   "outputs": [
    {
     "name": "stdout",
     "output_type": "stream",
     "text": [
      "Aj with age 40 is a Data Scientist\n",
      "None\n"
     ]
    },
    {
     "ename": "AttributeError",
     "evalue": "'Aspirant' object has no attribute '__profession'",
     "output_type": "error",
     "traceback": [
      "\u001b[1;31m---------------------------------------------------------------------------\u001b[0m",
      "\u001b[1;31mAttributeError\u001b[0m                            Traceback (most recent call last)",
      "Cell \u001b[1;32mIn[7], line 16\u001b[0m\n\u001b[0;32m     13\u001b[0m a1 \u001b[38;5;241m=\u001b[39m Aspirant(\u001b[38;5;124m\"\u001b[39m\u001b[38;5;124mAj\u001b[39m\u001b[38;5;124m\"\u001b[39m,\u001b[38;5;241m40\u001b[39m,\u001b[38;5;124m\"\u001b[39m\u001b[38;5;124mData Scientist\u001b[39m\u001b[38;5;124m\"\u001b[39m)\n\u001b[0;32m     14\u001b[0m \u001b[38;5;28mprint\u001b[39m(a1\u001b[38;5;241m.\u001b[39mshow())\n\u001b[1;32m---> 16\u001b[0m \u001b[43ma1\u001b[49m\u001b[38;5;241;43m.\u001b[39;49m\u001b[43m__profession\u001b[49m\n",
      "\u001b[1;31mAttributeError\u001b[0m: 'Aspirant' object has no attribute '__profession'"
     ]
    }
   ],
   "source": [
    "class Aspirant:\n",
    "    \n",
    "    def __init__(self,name,age,profession):\n",
    "        \n",
    "        self.name = name\n",
    "        self.age = age\n",
    "        self.__profession = profession   ## private variable\n",
    "        \n",
    "    def show(self):                  ## private method\n",
    "        print(f\"{self.name} with age {self.age} is a {self.__profession}\")\n",
    "        \n",
    "\n",
    "a1 = Aspirant(\"Aj\",40,\"Data Scientist\")\n",
    "print(a1.show())\n",
    "\n",
    "a1.__profession"
   ]
  },
  {
   "cell_type": "code",
   "execution_count": 8,
   "id": "3f616ef2",
   "metadata": {},
   "outputs": [
    {
     "ename": "AttributeError",
     "evalue": "'Aspirant' object has no attribute '__show'",
     "output_type": "error",
     "traceback": [
      "\u001b[1;31m---------------------------------------------------------------------------\u001b[0m",
      "\u001b[1;31mAttributeError\u001b[0m                            Traceback (most recent call last)",
      "Cell \u001b[1;32mIn[8], line 14\u001b[0m\n\u001b[0;32m     10\u001b[0m         \u001b[38;5;28mprint\u001b[39m(\u001b[38;5;124mf\u001b[39m\u001b[38;5;124m\"\u001b[39m\u001b[38;5;132;01m{\u001b[39;00m\u001b[38;5;28mself\u001b[39m\u001b[38;5;241m.\u001b[39mname\u001b[38;5;132;01m}\u001b[39;00m\u001b[38;5;124m with age \u001b[39m\u001b[38;5;132;01m{\u001b[39;00m\u001b[38;5;28mself\u001b[39m\u001b[38;5;241m.\u001b[39mage\u001b[38;5;132;01m}\u001b[39;00m\u001b[38;5;124m is a \u001b[39m\u001b[38;5;132;01m{\u001b[39;00m\u001b[38;5;28mself\u001b[39m\u001b[38;5;241m.\u001b[39m__profession\u001b[38;5;132;01m}\u001b[39;00m\u001b[38;5;124m\"\u001b[39m)\n\u001b[0;32m     13\u001b[0m a1 \u001b[38;5;241m=\u001b[39m Aspirant(\u001b[38;5;124m\"\u001b[39m\u001b[38;5;124mAj\u001b[39m\u001b[38;5;124m\"\u001b[39m,\u001b[38;5;241m40\u001b[39m,\u001b[38;5;124m\"\u001b[39m\u001b[38;5;124mData Scientist\u001b[39m\u001b[38;5;124m\"\u001b[39m)\n\u001b[1;32m---> 14\u001b[0m \u001b[38;5;28mprint\u001b[39m(\u001b[43ma1\u001b[49m\u001b[38;5;241;43m.\u001b[39;49m\u001b[43m__show\u001b[49m())\n",
      "\u001b[1;31mAttributeError\u001b[0m: 'Aspirant' object has no attribute '__show'"
     ]
    }
   ],
   "source": [
    "class Aspirant:\n",
    "    \n",
    "    def __init__(self,name,age,profession):\n",
    "        \n",
    "        self.name = name\n",
    "        self.age = age\n",
    "        self.__profession = profession   ## private variable\n",
    "        \n",
    "    def __show(self):                  ## private method\n",
    "        print(f\"{self.name} with age {self.age} is a {self.__profession}\")\n",
    "        \n",
    "\n",
    "a1 = Aspirant(\"Aj\",40,\"Data Scientist\")\n",
    "print(a1.__show())"
   ]
  },
  {
   "cell_type": "code",
   "execution_count": 9,
   "id": "2c1408c7",
   "metadata": {},
   "outputs": [
    {
     "name": "stdout",
     "output_type": "stream",
     "text": [
      "Aj with age 40 is a Data Scientist\n",
      "None\n"
     ]
    }
   ],
   "source": [
    "class Aspirant:\n",
    "    \n",
    "    def __init__(self,name,age,profession):\n",
    "        \n",
    "        self.name = name\n",
    "        self.age = age\n",
    "        self.__profession = profession   ## private variable\n",
    "        \n",
    "    def __show(self):                  ## private method\n",
    "        print(f\"{self.name} with age {self.age} is a {self.__profession}\")\n",
    "        \n",
    "    print(a1.__show())      ## Accessing private method in side the class\n",
    "\n",
    "a1 = Aspirant(\"Aj\",40,\"Data Scientist\")\n"
   ]
  },
  {
   "cell_type": "code",
   "execution_count": 10,
   "id": "1b752c83",
   "metadata": {},
   "outputs": [
    {
     "name": "stdout",
     "output_type": "stream",
     "text": [
      "Aj with age 40 is a Data Scientist\n"
     ]
    }
   ],
   "source": [
    "class Aspirant:\n",
    "    \n",
    "    def __init__(self,name,age,profession):\n",
    "        \n",
    "        self.name = name\n",
    "        self.age = age\n",
    "        self.__profession = profession   ## private variable\n",
    "        \n",
    "    def __show(self):                  ## private method\n",
    "        print(f\"{self.name} with age {self.age} is a {self.__profession}\")\n",
    "        \n",
    "    Aspirant.__show(a1)      ## Accessing private method in side the class\n",
    "\n",
    "a1 = Aspirant(\"Aj\",40,\"Data Scientist\")"
   ]
  },
  {
   "cell_type": "code",
   "execution_count": 11,
   "id": "37736cdf",
   "metadata": {},
   "outputs": [
    {
     "name": "stdout",
     "output_type": "stream",
     "text": [
      "Aj with age 40 is a Data Scientist\n",
      "Aj with age 40 is a Data Scientist\n"
     ]
    }
   ],
   "source": [
    "class Aspirant:\n",
    "    \n",
    "    def __init__(self,name,age,profession):\n",
    "        \n",
    "        self.name = name\n",
    "        self.age = age\n",
    "        self.__profession = profession   ## private variable\n",
    "        \n",
    "        \n",
    "        self.__show()                   ## Accessing private method in side the class\n",
    "        \n",
    "    def __show(self):                   ## private method\n",
    "        print(f\"{self.name} with age {self.age} is a {self.__profession}\")\n",
    "        \n",
    "    def access_show(self):              ## Accessing private method in side the class\n",
    "        self.__show()\n",
    "\n",
    "a1 = Aspirant(\"Aj\",40,\"Data Scientist\")\n",
    "a1.access_show()"
   ]
  },
  {
   "cell_type": "code",
   "execution_count": 12,
   "id": "6ea3b5b8",
   "metadata": {},
   "outputs": [
    {
     "name": "stdout",
     "output_type": "stream",
     "text": [
      "I am Data Scientist\n",
      "Aj with age 40 is a Data Scientist\n",
      "Aj with age 40 is a Data Scientist\n"
     ]
    }
   ],
   "source": [
    "class Aspirant:\n",
    "    print(\"I am Data Scientist\")\n",
    "    def __init__(self,name,age,profession):\n",
    "        \n",
    "        self.name = name\n",
    "        self.age = age\n",
    "        self.__profession = profession   ## private variable\n",
    "        \n",
    "        \n",
    "        self.__show()                   ## Accessing private method in side the class\n",
    "        \n",
    "    def __show(self):                   ## private method\n",
    "        print(f\"{self.name} with age {self.age} is a {self.__profession}\")\n",
    "        \n",
    "    def access_show(self):              ## Accessing private method in side the class\n",
    "        self.__show()\n",
    "\n",
    "a1 = Aspirant(\"Aj\",40,\"Data Scientist\")\n",
    "a1.access_show()"
   ]
  },
  {
   "cell_type": "code",
   "execution_count": null,
   "id": "40c8466a",
   "metadata": {},
   "outputs": [],
   "source": []
  },
  {
   "cell_type": "markdown",
   "id": "a61321b2",
   "metadata": {},
   "source": [
    "<font size = 5.5> Protected Member <br> Accessible only within the class and its child class. <br> Can't access them dirctly from objects. <br> We can create protected members using a single underscore."
   ]
  },
  {
   "cell_type": "code",
   "execution_count": 2,
   "id": "b33be1d2",
   "metadata": {},
   "outputs": [
    {
     "name": "stdout",
     "output_type": "stream",
     "text": [
      "Employee Name: Aj\n",
      "Working on Project: NLP\n"
     ]
    }
   ],
   "source": [
    "## Protected variables  -- Used with inheritance\n",
    "\n",
    "class Company:\n",
    "    def __init__(self):\n",
    "        ## Protected Variable (Member)\n",
    "        self._project  = \"NLP\"\n",
    "        \n",
    "## Child class \n",
    "class Employee(Company):\n",
    "    def __init__(self,name):\n",
    "        self.name = name\n",
    "        super().__init__()\n",
    "        \n",
    "    def show(self):\n",
    "        print(\"Employee Name:\" , self.name)\n",
    "        ## Accessing protected member inside child class\n",
    "        print(\"Working on Project:\", self._project)\n",
    "        \n",
    "\n",
    "A1 = Employee(\"Aj\")\n",
    "A1.show()"
   ]
  },
  {
   "cell_type": "code",
   "execution_count": null,
   "id": "0af60d96",
   "metadata": {},
   "outputs": [],
   "source": []
  },
  {
   "cell_type": "code",
   "execution_count": null,
   "id": "43f9251f",
   "metadata": {},
   "outputs": [],
   "source": []
  },
  {
   "cell_type": "code",
   "execution_count": null,
   "id": "dcad9906",
   "metadata": {},
   "outputs": [],
   "source": []
  },
  {
   "cell_type": "code",
   "execution_count": null,
   "id": "8f9201f5",
   "metadata": {},
   "outputs": [],
   "source": []
  },
  {
   "cell_type": "code",
   "execution_count": null,
   "id": "373a0b82",
   "metadata": {},
   "outputs": [],
   "source": []
  },
  {
   "cell_type": "code",
   "execution_count": null,
   "id": "f116da19",
   "metadata": {},
   "outputs": [],
   "source": []
  },
  {
   "cell_type": "markdown",
   "id": "5a3bc351",
   "metadata": {},
   "source": [
    "<font size = 5.5> Actually there are **NO access modifiers in PYthon**"
   ]
  },
  {
   "cell_type": "code",
   "execution_count": null,
   "id": "b7152a16",
   "metadata": {},
   "outputs": [],
   "source": [
    "## PYthon is for Adults....."
   ]
  },
  {
   "cell_type": "code",
   "execution_count": 3,
   "id": "f85ec717",
   "metadata": {},
   "outputs": [
    {
     "name": "stdout",
     "output_type": "stream",
     "text": [
      "Employee Name: Aj\n",
      "Working on Project: NLP\n"
     ]
    }
   ],
   "source": [
    "## Protected variables  -- Used with inheritance\n",
    "\n",
    "class Company:\n",
    "    def __init__(self):\n",
    "        ## Protected Variable (Member)\n",
    "        self._project  = \"NLP\"\n",
    "        \n",
    "## Child class \n",
    "class Employee(Company):\n",
    "    def __init__(self,name):\n",
    "        self.name = name\n",
    "        super().__init__()\n",
    "        \n",
    "    def show(self):\n",
    "        print(\"Employee Name:\" , self.name)\n",
    "        ## Accessing protected member inside child class\n",
    "        print(\"Working on Project:\", self._project)\n",
    "        \n",
    "\n",
    "A1 = Employee(\"Aj\")\n",
    "A1.show()"
   ]
  },
  {
   "cell_type": "code",
   "execution_count": 4,
   "id": "dea8d087",
   "metadata": {},
   "outputs": [
    {
     "data": {
      "text/plain": [
       "['__class__',\n",
       " '__delattr__',\n",
       " '__dict__',\n",
       " '__dir__',\n",
       " '__doc__',\n",
       " '__eq__',\n",
       " '__format__',\n",
       " '__ge__',\n",
       " '__getattribute__',\n",
       " '__gt__',\n",
       " '__hash__',\n",
       " '__init__',\n",
       " '__init_subclass__',\n",
       " '__le__',\n",
       " '__lt__',\n",
       " '__module__',\n",
       " '__ne__',\n",
       " '__new__',\n",
       " '__reduce__',\n",
       " '__reduce_ex__',\n",
       " '__repr__',\n",
       " '__setattr__',\n",
       " '__sizeof__',\n",
       " '__str__',\n",
       " '__subclasshook__',\n",
       " '__weakref__',\n",
       " '_project',\n",
       " 'name',\n",
       " 'show']"
      ]
     },
     "execution_count": 4,
     "metadata": {},
     "output_type": "execute_result"
    }
   ],
   "source": [
    "A1._project  ## can access protected members\n",
    "dir(A1)"
   ]
  },
  {
   "cell_type": "markdown",
   "id": "46d9b493",
   "metadata": {},
   "source": [
    "<font size = 4.4> Accessing private variables using name mangling <br> <li> Name mangling is a mechanism which causes the attributes with double underscores to become _ClassName__atrribute internally within PYthon"
   ]
  },
  {
   "cell_type": "code",
   "execution_count": 5,
   "id": "02a051c0",
   "metadata": {},
   "outputs": [
    {
     "name": "stdout",
     "output_type": "stream",
     "text": [
      "DS1\n"
     ]
    }
   ],
   "source": [
    "class Aspirant:\n",
    "    \n",
    "    def __init__(self,name,age,profession):\n",
    "        self.name = name\n",
    "        self.age = age\n",
    "        self.__profession = profession  ## private variable\n",
    "        \n",
    "\n",
    "A1 = Aspirant(\"Aj\",40,\"DS\")\n",
    "A1._Aspirant__profession = \"DS1\"\n",
    "print(A1._Aspirant__profession)   ## object.classname__variablename"
   ]
  },
  {
   "cell_type": "code",
   "execution_count": 6,
   "id": "48a8f75b",
   "metadata": {},
   "outputs": [
    {
     "data": {
      "text/plain": [
       "['_Aspirant__profession',\n",
       " '__class__',\n",
       " '__delattr__',\n",
       " '__dict__',\n",
       " '__dir__',\n",
       " '__doc__',\n",
       " '__eq__',\n",
       " '__format__',\n",
       " '__ge__',\n",
       " '__getattribute__',\n",
       " '__gt__',\n",
       " '__hash__',\n",
       " '__init__',\n",
       " '__init_subclass__',\n",
       " '__le__',\n",
       " '__lt__',\n",
       " '__module__',\n",
       " '__ne__',\n",
       " '__new__',\n",
       " '__reduce__',\n",
       " '__reduce_ex__',\n",
       " '__repr__',\n",
       " '__setattr__',\n",
       " '__sizeof__',\n",
       " '__str__',\n",
       " '__subclasshook__',\n",
       " '__weakref__',\n",
       " 'age',\n",
       " 'name']"
      ]
     },
     "execution_count": 6,
     "metadata": {},
     "output_type": "execute_result"
    }
   ],
   "source": [
    "dir(A1)   ## gives a list of all attributes and methods associated with the object"
   ]
  },
  {
   "cell_type": "code",
   "execution_count": null,
   "id": "c9591591",
   "metadata": {},
   "outputs": [],
   "source": []
  },
  {
   "cell_type": "code",
   "execution_count": null,
   "id": "e99adae9",
   "metadata": {},
   "outputs": [],
   "source": []
  }
 ],
 "metadata": {
  "kernelspec": {
   "display_name": "Python 3 (ipykernel)",
   "language": "python",
   "name": "python3"
  },
  "language_info": {
   "codemirror_mode": {
    "name": "ipython",
    "version": 3
   },
   "file_extension": ".py",
   "mimetype": "text/x-python",
   "name": "python",
   "nbconvert_exporter": "python",
   "pygments_lexer": "ipython3",
   "version": "3.10.9"
  }
 },
 "nbformat": 4,
 "nbformat_minor": 5
}
