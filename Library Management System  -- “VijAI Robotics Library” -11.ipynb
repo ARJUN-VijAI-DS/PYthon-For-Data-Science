{
 "cells": [
  {
   "cell_type": "markdown",
   "id": "bdf4fd2d",
   "metadata": {},
   "source": [
    "<font size = 6.5> Library Management System  -- “VijAI Robotics Library”"
   ]
  },
  {
   "cell_type": "code",
   "execution_count": null,
   "id": "93feee1e",
   "metadata": {},
   "outputs": [],
   "source": []
  },
  {
   "cell_type": "code",
   "execution_count": 3,
   "id": "2f065ad4",
   "metadata": {},
   "outputs": [
    {
     "name": "stdout",
     "output_type": "stream",
     "text": [
      "['C ', 'C++ ', 'HTML', 'JAVA', 'PY0 ', 'PY1 ', 'PY2 ', 'PY3 ', 'PYTHON ', 'Python']\n",
      "Aj 40 M HLD 12345 AJ_11\n",
      "Enter the position of Book in the Catalogue:1\n",
      "Enter the ID of the Borrower:AJ_11\n",
      "Book borrowed by AJ_11 is C \n",
      "List of books present in library\n",
      "['C ', 'HTML', 'JAVA', 'PY0 ', 'PY1 ', 'PY2 ', 'PY3 ', 'PYTHON ', 'Python']\n"
     ]
    },
    {
     "ename": "NameError",
     "evalue": "name 'X' is not defined",
     "output_type": "error",
     "traceback": [
      "\u001b[1;31m---------------------------------------------------------------------------\u001b[0m",
      "\u001b[1;31mNameError\u001b[0m                                 Traceback (most recent call last)",
      "Cell \u001b[1;32mIn[3], line 59\u001b[0m\n\u001b[0;32m     57\u001b[0m \u001b[38;5;28mprint\u001b[39m(C1\u001b[38;5;241m.\u001b[39mName,C1\u001b[38;5;241m.\u001b[39mAge,C1\u001b[38;5;241m.\u001b[39mGender,C1\u001b[38;5;241m.\u001b[39mAddress,C1\u001b[38;5;241m.\u001b[39mPhone,C1\u001b[38;5;241m.\u001b[39mID)\n\u001b[0;32m     58\u001b[0m C1\u001b[38;5;241m.\u001b[39mBorrow_book()\n\u001b[1;32m---> 59\u001b[0m \u001b[43mC1\u001b[49m\u001b[38;5;241;43m.\u001b[39;49m\u001b[43mReturn_book\u001b[49m\u001b[43m(\u001b[49m\u001b[43m)\u001b[49m\n",
      "Cell \u001b[1;32mIn[3], line 28\u001b[0m, in \u001b[0;36mLibrary.Return_book\u001b[1;34m(self)\u001b[0m\n\u001b[0;32m     27\u001b[0m \u001b[38;5;28;01mdef\u001b[39;00m \u001b[38;5;21mReturn_book\u001b[39m(\u001b[38;5;28mself\u001b[39m):\n\u001b[1;32m---> 28\u001b[0m     \u001b[38;5;28;01mif\u001b[39;00m \u001b[43mX\u001b[49m \u001b[38;5;241m>\u001b[39m \u001b[38;5;241m10\u001b[39m:\n\u001b[0;32m     29\u001b[0m         \u001b[38;5;28mprint\u001b[39m(\u001b[38;5;124m\"\u001b[39m\u001b[38;5;124mInvalid Input\u001b[39m\u001b[38;5;124m\"\u001b[39m)\n\u001b[0;32m     30\u001b[0m     \u001b[38;5;28;01melse\u001b[39;00m: \n",
      "\u001b[1;31mNameError\u001b[0m: name 'X' is not defined"
     ]
    }
   ],
   "source": [
    "Cata = [\"C \",\"C++ \",\"HTML\",\"JAVA\",\"PY0 \",\"PY1 \",\"PY2 \",\"PY3 \",\"PYTHON \",\"Python\"]\n",
    "class Library:\n",
    "    Library_name = \"VijAI Robotics Library\"\n",
    "    print(Cata)\n",
    "    def __init__(self,Name,Age,Gender,Address,Phone,ID):\n",
    "        global Cata,X\n",
    "        self.Name = Name\n",
    "        self.Age = Age\n",
    "        self.Gender = Gender\n",
    "        self.Address = Address\n",
    "        self.Phone = Phone\n",
    "        self.ID = ID\n",
    "        \n",
    "        \n",
    "    def Borrow_book(self):\n",
    "        X = int(input(\"Enter the position of Book in the Catalogue:\"))\n",
    "        if X > 10:\n",
    "            print(\"Invalid Input\")\n",
    "        else: \n",
    "            ID = input(\"Enter the ID of the Borrower:\")\n",
    "            print(f\"Book borrowed by {ID} is {Cata[X-1]}\")\n",
    "            print(\"List of books present in library\")\n",
    "            Cata.remove(Cata[X])\n",
    "            print(Cata)\n",
    "        \n",
    "        \n",
    "    def Return_book(self):\n",
    "        if X > 10:\n",
    "            print(\"Invalid Input\")\n",
    "        else: \n",
    "            ID = input(\"Enter the ID of the Borrower:\")\n",
    "            Z = input(\"Name of Book returned by Borrower:\")\n",
    "            print(\"List of books present in library\")\n",
    "            Cata.append(Z)\n",
    "            print(Cata)\n",
    "        \n",
    "\n",
    "        \n",
    "    @classmethod\n",
    "    def Books_present(cls,Catalogue):\n",
    "        BP = Catalogue.split(\" \")           #BP --> Books Prenent in Library \n",
    "        print(Cata)\n",
    "        \n",
    "\n",
    "C1 = Library(\"Aj\",\"40\",\"M\",\"HLD\",12345,\"AJ_11\")\n",
    "C2 = Library(\"Parth Sir\",\"17\",\"M\",\"HLD\",1111,\"PA_11\")\n",
    "C3 = Library(\"Rishi Sir\",\"25\",\"M\",\"HLD\",22222,\"RI_11\")\n",
    "C4 = Library(\"Rohit Sir\",\"24\",\"M\",\"HLD\",33333,\"RO_11\")\n",
    "C5 = Library(\"Bhumika Ji\",\"21\",\"F\",\"HLD\",44444,\"BH_11\")\n",
    "C6 = Library(\"Pushpendra Ji\",\"20\",\"M\",\"HLD\",55555,\"PU_11\")\n",
    "C7 = Library(\"Gaurav Sir\",\"20\",\"M\",\"HLD\",66666,\"GA_11\")\n",
    "C8 = Library(\"Pratiksha Ji\",\"20\",\"F\",\"HLD\",77777,\"PR_11\")\n",
    "C9 = Library(\"Himanshu Ji\",\"18\",\"M\",\"HLD\",88888,\"HI_11\")\n",
    "C10 = Library(\"Priyanshu Ji\",\"17\",\"M\",\"HLD\",99999,\"PR_22\")\n",
    "\n",
    "## Z = int(input(\"Enter the Customer Number:\"))\n",
    "print(C1.Name,C1.Age,C1.Gender,C1.Address,C1.Phone,C1.ID)\n",
    "C1.Borrow_book()\n",
    "C1.Return_book()"
   ]
  },
  {
   "cell_type": "code",
   "execution_count": null,
   "id": "562e7637",
   "metadata": {},
   "outputs": [],
   "source": []
  }
 ],
 "metadata": {
  "kernelspec": {
   "display_name": "Python 3 (ipykernel)",
   "language": "python",
   "name": "python3"
  },
  "language_info": {
   "codemirror_mode": {
    "name": "ipython",
    "version": 3
   },
   "file_extension": ".py",
   "mimetype": "text/x-python",
   "name": "python",
   "nbconvert_exporter": "python",
   "pygments_lexer": "ipython3",
   "version": "3.10.9"
  }
 },
 "nbformat": 4,
 "nbformat_minor": 5
}
