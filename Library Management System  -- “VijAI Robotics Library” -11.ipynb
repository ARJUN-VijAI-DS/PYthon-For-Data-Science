{
 "cells": [
  {
   "cell_type": "markdown",
   "id": "bdf4fd2d",
   "metadata": {},
   "source": [
    "<font size = 6.5> Library Management System  -- “VijAI Robotics Library”"
   ]
  },
  {
   "cell_type": "code",
   "execution_count": null,
   "id": "93feee1e",
   "metadata": {},
   "outputs": [],
   "source": []
  },
  {
   "cell_type": "code",
   "execution_count": 2,
   "id": "2f065ad4",
   "metadata": {},
   "outputs": [
    {
     "name": "stdout",
     "output_type": "stream",
     "text": [
      "Welcome to VijAI Robotics Library:\n",
      "\n",
      "['C', 'C++', 'HTML', 'JAVA', 'PY0', 'PY1', 'PY2', 'PY3', 'PYTHON', 'Python']\n",
      "\n",
      " Aj 40 M HLD 12345 AJ_11 \n",
      "\n",
      "Enter the position of Book in the Catalogue:\n",
      "5\n",
      "Enter the ID of the Borrower:\n",
      "AJ_11\n",
      "Book borrowed by AJ_11 is PY0\n",
      "\n",
      "List of books present in library is mentioned below:\n",
      "\n",
      "['C', 'C++', 'HTML', 'JAVA', 'PY1', 'PY2', 'PY3', 'PYTHON', 'Python']\n",
      "Enter the ID of the Borrower:\n",
      "AJ_11\n",
      "Name of Book returned by Borrower:\n",
      "PY0\n",
      "List of books present in library is mentioned below:\n",
      "\n",
      "['C', 'C++', 'HTML', 'JAVA', 'PY1', 'PY2', 'PY3', 'PYTHON', 'Python', 'PY0']\n"
     ]
    }
   ],
   "source": [
    "Cata = [\"C\",\"C++\",\"HTML\",\"JAVA\",\"PY0\",\"PY1\",\"PY2\",\"PY3\",\"PYTHON\",\"Python\"]\n",
    "X = 0\n",
    "Z = 0\n",
    "class Library:\n",
    "    Library_name = \"VijAI Robotics Library\"\n",
    "    print(\"Welcome to VijAI Robotics Library:\\n\")\n",
    "    print(Cata)\n",
    "    def __init__(self,Name,Age,Gender,Address,Phone,ID):\n",
    "        global Cata,X,Z\n",
    "        self.Name = Name\n",
    "        self.Age = Age\n",
    "        self.Gender = Gender\n",
    "        self.Address = Address\n",
    "        self.Phone = Phone\n",
    "        self.ID = ID\n",
    "        \n",
    "        \n",
    "    def Borrow_book(self):\n",
    "        X = int(input(\"Enter the position of Book in the Catalogue:\\n\"))\n",
    "        if X > 10:\n",
    "            print(\"Invalid Input\")\n",
    "        else: \n",
    "            ID = input(\"Enter the ID of the Borrower:\\n\")\n",
    "            print(f\"Book borrowed by {ID} is {Cata[X-1]}\\n\")\n",
    "            Cata.remove(Cata[X-1])\n",
    "        C1.Books_present(Cata)\n",
    "            \n",
    "        \n",
    "        \n",
    "    def Return_book(self):\n",
    "        ID = input(\"Enter the ID of the Borrower:\\n\")\n",
    "        Z = input(\"Name of Book returned by Borrower:\\n\")\n",
    "        Cata.append(Z)\n",
    "        C1.Books_present(Cata)\n",
    "        \n",
    "\n",
    "        \n",
    "    @classmethod\n",
    "    def Books_present(cls,Cata):\n",
    "        print(\"List of books present in library is mentioned below:\\n\")\n",
    "        print(Cata)\n",
    "        pass\n",
    "\n",
    "C1 = Library(\"Aj\",\"40\",\"M\",\"HLD\",12345,\"AJ_11\")\n",
    "C2 = Library(\"Parth Sir\",\"17\",\"M\",\"HLD\",1111,\"PA_11\")\n",
    "C3 = Library(\"Rishi Sir\",\"25\",\"M\",\"HLD\",22222,\"RI_11\")\n",
    "C4 = Library(\"Rohit Sir\",\"24\",\"M\",\"HLD\",33333,\"RO_11\")\n",
    "C5 = Library(\"Bhumika Ji\",\"21\",\"F\",\"HLD\",44444,\"BH_11\")\n",
    "C6 = Library(\"Pushpendra Ji\",\"20\",\"M\",\"HLD\",55555,\"PU_11\")\n",
    "C7 = Library(\"Gaurav Sir\",\"20\",\"M\",\"HLD\",66666,\"GA_11\")\n",
    "C8 = Library(\"Pratiksha Ji\",\"20\",\"F\",\"HLD\",77777,\"PR_11\")\n",
    "C9 = Library(\"Himanshu Ji\",\"18\",\"M\",\"HLD\",88888,\"HI_11\")\n",
    "C10 = Library(\"Priyanshu Ji\",\"17\",\"M\",\"HLD\",99999,\"PR_22\")\n",
    "\n",
    "print(\"\\n\", C1.Name,C1.Age,C1.Gender,C1.Address,C1.Phone,C1.ID, \"\\n\")\n",
    "C1.Borrow_book()\n",
    "C1.Return_book()"
   ]
  },
  {
   "cell_type": "code",
   "execution_count": null,
   "id": "97cd63e8",
   "metadata": {},
   "outputs": [],
   "source": []
  }
 ],
 "metadata": {
  "kernelspec": {
   "display_name": "Python 3 (ipykernel)",
   "language": "python",
   "name": "python3"
  },
  "language_info": {
   "codemirror_mode": {
    "name": "ipython",
    "version": 3
   },
   "file_extension": ".py",
   "mimetype": "text/x-python",
   "name": "python",
   "nbconvert_exporter": "python",
   "pygments_lexer": "ipython3",
   "version": "3.10.9"
  }
 },
 "nbformat": 4,
 "nbformat_minor": 5
}
