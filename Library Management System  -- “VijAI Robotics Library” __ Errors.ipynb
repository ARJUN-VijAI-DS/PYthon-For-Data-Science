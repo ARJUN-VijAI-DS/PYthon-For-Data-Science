{
 "cells": [
  {
   "cell_type": "markdown",
   "id": "56d454c2",
   "metadata": {},
   "source": [
    "<font size = 6.5> Library Management System  -- “VijAI Robotics Library”"
   ]
  },
  {
   "cell_type": "code",
   "execution_count": null,
   "id": "e5b38472",
   "metadata": {},
   "outputs": [],
   "source": []
  },
  {
   "cell_type": "code",
   "execution_count": 1,
   "id": "85bb002b",
   "metadata": {},
   "outputs": [
    {
     "name": "stdout",
     "output_type": "stream",
     "text": [
      "['C ', 'C++ ', 'HTML', 'JAVA', 'PY0 ', 'PY1 ', 'PY2 ', 'PY3 ', 'PYTHON ', 'Python']\n",
      "Aj 40 M HLD 12345 AJ_11\n",
      "Enter the position of Book in the Catalogue:10\n",
      "Enter the ID of the Borrower:AJ_11\n",
      "Book borrowed by AJ_11 is Python\n",
      "List of books present in library\n"
     ]
    },
    {
     "ename": "IndexError",
     "evalue": "list index out of range",
     "output_type": "error",
     "traceback": [
      "\u001b[1;31m---------------------------------------------------------------------------\u001b[0m",
      "\u001b[1;31mIndexError\u001b[0m                                Traceback (most recent call last)",
      "Cell \u001b[1;32mIn[1], line 58\u001b[0m\n\u001b[0;32m     56\u001b[0m \u001b[38;5;66;03m## Z = int(input(\"Enter the Customer Number:\"))\u001b[39;00m\n\u001b[0;32m     57\u001b[0m \u001b[38;5;28mprint\u001b[39m(C1\u001b[38;5;241m.\u001b[39mName,C1\u001b[38;5;241m.\u001b[39mAge,C1\u001b[38;5;241m.\u001b[39mGender,C1\u001b[38;5;241m.\u001b[39mAddress,C1\u001b[38;5;241m.\u001b[39mPhone,C1\u001b[38;5;241m.\u001b[39mID)\n\u001b[1;32m---> 58\u001b[0m \u001b[43mC1\u001b[49m\u001b[38;5;241;43m.\u001b[39;49m\u001b[43mBorrow_book\u001b[49m\u001b[43m(\u001b[49m\u001b[43m)\u001b[49m\n\u001b[0;32m     59\u001b[0m C1\u001b[38;5;241m.\u001b[39mReturn_book()\n",
      "Cell \u001b[1;32mIn[1], line 23\u001b[0m, in \u001b[0;36mLibrary.Borrow_book\u001b[1;34m(self)\u001b[0m\n\u001b[0;32m     21\u001b[0m \u001b[38;5;28mprint\u001b[39m(\u001b[38;5;124mf\u001b[39m\u001b[38;5;124m\"\u001b[39m\u001b[38;5;124mBook borrowed by \u001b[39m\u001b[38;5;132;01m{\u001b[39;00mID\u001b[38;5;132;01m}\u001b[39;00m\u001b[38;5;124m is \u001b[39m\u001b[38;5;132;01m{\u001b[39;00mCata[X\u001b[38;5;241m-\u001b[39m\u001b[38;5;241m1\u001b[39m]\u001b[38;5;132;01m}\u001b[39;00m\u001b[38;5;124m\"\u001b[39m)\n\u001b[0;32m     22\u001b[0m \u001b[38;5;28mprint\u001b[39m(\u001b[38;5;124m\"\u001b[39m\u001b[38;5;124mList of books present in library\u001b[39m\u001b[38;5;124m\"\u001b[39m)\n\u001b[1;32m---> 23\u001b[0m Cata\u001b[38;5;241m.\u001b[39mremove(\u001b[43mCata\u001b[49m\u001b[43m[\u001b[49m\u001b[43mX\u001b[49m\u001b[43m]\u001b[49m)\n\u001b[0;32m     24\u001b[0m \u001b[38;5;28mprint\u001b[39m(Cata)\n",
      "\u001b[1;31mIndexError\u001b[0m: list index out of range"
     ]
    }
   ],
   "source": [
    "Cata = [\"C \",\"C++ \",\"HTML\",\"JAVA\",\"PY0 \",\"PY1 \",\"PY2 \",\"PY3 \",\"PYTHON \",\"Python\"]\n",
    "class Library:\n",
    "    Library_name = \"VijAI Robotics Library\"\n",
    "    print(Cata)\n",
    "    def __init__(self,Name,Age,Gender,Address,Phone,ID):\n",
    "        global Cata,X\n",
    "        self.Name = Name\n",
    "        self.Age = Age\n",
    "        self.Gender = Gender\n",
    "        self.Address = Address\n",
    "        self.Phone = Phone\n",
    "        self.ID = ID\n",
    "        \n",
    "        \n",
    "    def Borrow_book(self):\n",
    "        X = int(input(\"Enter the position of Book in the Catalogue:\"))\n",
    "        if X > 10:\n",
    "            print(\"Invalid Input\")\n",
    "        else: \n",
    "            ID = input(\"Enter the ID of the Borrower:\")\n",
    "            print(f\"Book borrowed by {ID} is {Cata[X-1]}\")\n",
    "            print(\"List of books present in library\")\n",
    "            Cata.remove(Cata[X])\n",
    "            print(Cata)\n",
    "        \n",
    "        \n",
    "    def Return_book(self):\n",
    "        if X > 10:\n",
    "            print(\"Invalid Input\")\n",
    "        else: \n",
    "            ID = input(\"Enter the ID of the Borrower:\")\n",
    "            Z = input(\"Name of Book returned by Borrower:\")\n",
    "            print(\"List of books present in library\")\n",
    "            Cata.append(Z)\n",
    "            print(Cata)\n",
    "        \n",
    "\n",
    "        \n",
    "    @classmethod\n",
    "    def Books_present(cls,Catalogue):\n",
    "        BP = Catalogue.split(\" \")           #BP --> Books Prenent in Library \n",
    "        print(Cata)\n",
    "        \n",
    "\n",
    "C1 = Library(\"Aj\",\"40\",\"M\",\"HLD\",12345,\"AJ_11\")\n",
    "C2 = Library(\"Parth Sir\",\"17\",\"M\",\"HLD\",1111,\"PA_11\")\n",
    "C3 = Library(\"Rishi Sir\",\"25\",\"M\",\"HLD\",22222,\"RI_11\")\n",
    "C4 = Library(\"Rohit Sir\",\"24\",\"M\",\"HLD\",33333,\"RO_11\")\n",
    "C5 = Library(\"Bhumika Ji\",\"21\",\"F\",\"HLD\",44444,\"BH_11\")\n",
    "C6 = Library(\"Pushpendra Ji\",\"20\",\"M\",\"HLD\",55555,\"PU_11\")\n",
    "C7 = Library(\"Gaurav Sir\",\"20\",\"M\",\"HLD\",66666,\"GA_11\")\n",
    "C8 = Library(\"Pratiksha Ji\",\"20\",\"F\",\"HLD\",77777,\"PR_11\")\n",
    "C9 = Library(\"Himanshu Ji\",\"18\",\"M\",\"HLD\",88888,\"HI_11\")\n",
    "C10 = Library(\"Priyanshu Ji\",\"17\",\"M\",\"HLD\",99999,\"PR_22\")\n",
    "\n",
    "## Z = int(input(\"Enter the Customer Number:\"))\n",
    "print(C1.Name,C1.Age,C1.Gender,C1.Address,C1.Phone,C1.ID)\n",
    "C1.Borrow_book()\n",
    "C1.Return_book()"
   ]
  },
  {
   "cell_type": "code",
   "execution_count": null,
   "id": "062751c7",
   "metadata": {},
   "outputs": [],
   "source": []
  },
  {
   "cell_type": "code",
   "execution_count": null,
   "id": "d3c58bf8",
   "metadata": {},
   "outputs": [],
   "source": []
  },
  {
   "cell_type": "code",
   "execution_count": null,
   "id": "6453b84a",
   "metadata": {},
   "outputs": [],
   "source": []
  },
  {
   "cell_type": "code",
   "execution_count": 5,
   "id": "9cedf136",
   "metadata": {},
   "outputs": [
    {
     "ename": "SyntaxError",
     "evalue": "invalid character '“' (U+201C) (3256952598.py, line 2)",
     "output_type": "error",
     "traceback": [
      "\u001b[1;36m  Cell \u001b[1;32mIn[5], line 2\u001b[1;36m\u001b[0m\n\u001b[1;33m    Library_name = “VijAI Robotics Library”\u001b[0m\n\u001b[1;37m                   ^\u001b[0m\n\u001b[1;31mSyntaxError\u001b[0m\u001b[1;31m:\u001b[0m invalid character '“' (U+201C)\n"
     ]
    }
   ],
   "source": [
    "class Library:\n",
    "    Library_name = “VijAI Robotics Library”\n",
    "    \n",
    "    def __init__(self,Name,Age,Gender,Address,Phone,ID):\n",
    "        self.Name = Name\n",
    "        self.Age = Age\n",
    "        self.Gender = Gender\n",
    "        self.Address = Address\n",
    "        self.Phone = Phone\n",
    "        self.Library_ID = ID\n",
    "        \n",
    "    def Borrow_Book(self):\n",
    "        print(f\"\")\n",
    "        print(\"List of books present in library\")\n",
    "        \n",
    "        \n",
    "    def Return_Book(self):\n",
    "        \n",
    "        print(\"List of books present in library\")\n",
    "        \n",
    "    "
   ]
  },
  {
   "cell_type": "code",
   "execution_count": 3,
   "id": "ab0b1dc2",
   "metadata": {},
   "outputs": [
    {
     "ename": "NameError",
     "evalue": "name 'Pbooks' is not defined",
     "output_type": "error",
     "traceback": [
      "\u001b[1;31m---------------------------------------------------------------------------\u001b[0m",
      "\u001b[1;31mNameError\u001b[0m                                 Traceback (most recent call last)",
      "Cell \u001b[1;32mIn[3], line 28\u001b[0m\n\u001b[0;32m     25\u001b[0m         \u001b[38;5;28mprint\u001b[39m(Pbooks)\n\u001b[0;32m     26\u001b[0m         \u001b[38;5;28;01mreturn\u001b[39;00m \u001b[38;5;28mcls\u001b[39m(BP[\u001b[38;5;241m0\u001b[39m],BP[\u001b[38;5;241m1\u001b[39m],BP[\u001b[38;5;241m2\u001b[39m],BP[\u001b[38;5;241m3\u001b[39m],BP[\u001b[38;5;241m4\u001b[39m],BP[\u001b[38;5;241m5\u001b[39m],BP[\u001b[38;5;241m6\u001b[39m],BP[\u001b[38;5;241m7\u001b[39m],BP[\u001b[38;5;241m8\u001b[39m],BP[\u001b[38;5;241m9\u001b[39m])\n\u001b[1;32m---> 28\u001b[0m Books \u001b[38;5;241m=\u001b[39m \u001b[43mLibrary\u001b[49m\u001b[38;5;241;43m.\u001b[39;49m\u001b[43mBooks_present\u001b[49m\u001b[43m(\u001b[49m\u001b[38;5;124;43m\"\u001b[39;49m\u001b[38;5;124;43mJava C++ C PY1 PY2 HTML PY3 PY0 PYthon Python\u001b[39;49m\u001b[38;5;124;43m\"\u001b[39;49m\u001b[43m)\u001b[49m\n\u001b[0;32m     29\u001b[0m \u001b[38;5;28mprint\u001b[39m(Books\u001b[38;5;241m.\u001b[39mname)\n",
      "Cell \u001b[1;32mIn[3], line 25\u001b[0m, in \u001b[0;36mLibrary.Books_present\u001b[1;34m(cls, Catalogue)\u001b[0m\n\u001b[0;32m     22\u001b[0m \u001b[38;5;129m@classmethod\u001b[39m\n\u001b[0;32m     23\u001b[0m \u001b[38;5;28;01mdef\u001b[39;00m \u001b[38;5;21mBooks_present\u001b[39m(\u001b[38;5;28mcls\u001b[39m,Catalogue):\n\u001b[0;32m     24\u001b[0m     BP \u001b[38;5;241m=\u001b[39m Catalogue\u001b[38;5;241m.\u001b[39msplit(\u001b[38;5;124m\"\u001b[39m\u001b[38;5;124m \u001b[39m\u001b[38;5;124m\"\u001b[39m)           \u001b[38;5;66;03m#BP --> Books Prenent in Library \u001b[39;00m\n\u001b[1;32m---> 25\u001b[0m     \u001b[38;5;28mprint\u001b[39m(\u001b[43mPbooks\u001b[49m)\n\u001b[0;32m     26\u001b[0m     \u001b[38;5;28;01mreturn\u001b[39;00m \u001b[38;5;28mcls\u001b[39m(BP[\u001b[38;5;241m0\u001b[39m],BP[\u001b[38;5;241m1\u001b[39m],BP[\u001b[38;5;241m2\u001b[39m],BP[\u001b[38;5;241m3\u001b[39m],BP[\u001b[38;5;241m4\u001b[39m],BP[\u001b[38;5;241m5\u001b[39m],BP[\u001b[38;5;241m6\u001b[39m],BP[\u001b[38;5;241m7\u001b[39m],BP[\u001b[38;5;241m8\u001b[39m],BP[\u001b[38;5;241m9\u001b[39m])\n",
      "\u001b[1;31mNameError\u001b[0m: name 'Pbooks' is not defined"
     ]
    }
   ],
   "source": [
    "class Library:\n",
    "    Library_name = \"VijAI Robotics Library\"\n",
    "    \n",
    "    def __init__(self,Name,Age,Gender,Address,Phone,ID):\n",
    "        self.Name = Name\n",
    "        self.Age = Age\n",
    "        self.Gender = Gender\n",
    "        self.Address = Address\n",
    "        self.Phone = Phone\n",
    "        self.Library_ID = ID\n",
    "        print(\"\")\n",
    "        \n",
    "    def Borrow_book(self):\n",
    "        print(f\"\")\n",
    "        print(\"List of books present in library\")\n",
    "        \n",
    "        \n",
    "    def Return_book(self):\n",
    "        \n",
    "        print(\"List of books present in library\")\n",
    "        \n",
    "    @classmethod\n",
    "    def Books_present(cls,Catalogue):\n",
    "        BP = Catalogue.split(\" \")           #BP --> Books Prenent in Library \n",
    "        print(Pbooks)\n",
    "        return cls(BP[0],BP[1],BP[2],BP[3],BP[4],BP[5],BP[6],BP[7],BP[8],BP[9])\n",
    "\n",
    "Books = Library.Books_present(\"Java C++ C PY1 PY2 HTML PY3 PY0 PYthon Python\")\n",
    "print(Books.name)\n",
    "        \n",
    "    "
   ]
  },
  {
   "cell_type": "code",
   "execution_count": 4,
   "id": "f8907c37",
   "metadata": {},
   "outputs": [
    {
     "name": "stdout",
     "output_type": "stream",
     "text": [
      "['Java', 'C++', 'C', 'PY1', 'PY2', 'HTML', 'PY3', 'PY0', 'PYthon', 'Python']\n"
     ]
    },
    {
     "ename": "TypeError",
     "evalue": "Library.__init__() takes 7 positional arguments but 11 were given",
     "output_type": "error",
     "traceback": [
      "\u001b[1;31m---------------------------------------------------------------------------\u001b[0m",
      "\u001b[1;31mTypeError\u001b[0m                                 Traceback (most recent call last)",
      "Cell \u001b[1;32mIn[4], line 28\u001b[0m\n\u001b[0;32m     25\u001b[0m         \u001b[38;5;28mprint\u001b[39m(BP)\n\u001b[0;32m     26\u001b[0m         \u001b[38;5;28;01mreturn\u001b[39;00m \u001b[38;5;28mcls\u001b[39m(BP[\u001b[38;5;241m0\u001b[39m],BP[\u001b[38;5;241m1\u001b[39m],BP[\u001b[38;5;241m2\u001b[39m],BP[\u001b[38;5;241m3\u001b[39m],BP[\u001b[38;5;241m4\u001b[39m],BP[\u001b[38;5;241m5\u001b[39m],BP[\u001b[38;5;241m6\u001b[39m],BP[\u001b[38;5;241m7\u001b[39m],BP[\u001b[38;5;241m8\u001b[39m],BP[\u001b[38;5;241m9\u001b[39m])\n\u001b[1;32m---> 28\u001b[0m Books \u001b[38;5;241m=\u001b[39m \u001b[43mLibrary\u001b[49m\u001b[38;5;241;43m.\u001b[39;49m\u001b[43mBooks_present\u001b[49m\u001b[43m(\u001b[49m\u001b[38;5;124;43m\"\u001b[39;49m\u001b[38;5;124;43mJava C++ C PY1 PY2 HTML PY3 PY0 PYthon Python\u001b[39;49m\u001b[38;5;124;43m\"\u001b[39;49m\u001b[43m)\u001b[49m\n\u001b[0;32m     29\u001b[0m \u001b[38;5;28mprint\u001b[39m(Books\u001b[38;5;241m.\u001b[39mname)\n",
      "Cell \u001b[1;32mIn[4], line 26\u001b[0m, in \u001b[0;36mLibrary.Books_present\u001b[1;34m(cls, Catalogue)\u001b[0m\n\u001b[0;32m     24\u001b[0m BP \u001b[38;5;241m=\u001b[39m Catalogue\u001b[38;5;241m.\u001b[39msplit(\u001b[38;5;124m\"\u001b[39m\u001b[38;5;124m \u001b[39m\u001b[38;5;124m\"\u001b[39m)           \u001b[38;5;66;03m#BP --> Books Prenent in Library \u001b[39;00m\n\u001b[0;32m     25\u001b[0m \u001b[38;5;28mprint\u001b[39m(BP)\n\u001b[1;32m---> 26\u001b[0m \u001b[38;5;28;01mreturn\u001b[39;00m \u001b[38;5;28;43mcls\u001b[39;49m\u001b[43m(\u001b[49m\u001b[43mBP\u001b[49m\u001b[43m[\u001b[49m\u001b[38;5;241;43m0\u001b[39;49m\u001b[43m]\u001b[49m\u001b[43m,\u001b[49m\u001b[43mBP\u001b[49m\u001b[43m[\u001b[49m\u001b[38;5;241;43m1\u001b[39;49m\u001b[43m]\u001b[49m\u001b[43m,\u001b[49m\u001b[43mBP\u001b[49m\u001b[43m[\u001b[49m\u001b[38;5;241;43m2\u001b[39;49m\u001b[43m]\u001b[49m\u001b[43m,\u001b[49m\u001b[43mBP\u001b[49m\u001b[43m[\u001b[49m\u001b[38;5;241;43m3\u001b[39;49m\u001b[43m]\u001b[49m\u001b[43m,\u001b[49m\u001b[43mBP\u001b[49m\u001b[43m[\u001b[49m\u001b[38;5;241;43m4\u001b[39;49m\u001b[43m]\u001b[49m\u001b[43m,\u001b[49m\u001b[43mBP\u001b[49m\u001b[43m[\u001b[49m\u001b[38;5;241;43m5\u001b[39;49m\u001b[43m]\u001b[49m\u001b[43m,\u001b[49m\u001b[43mBP\u001b[49m\u001b[43m[\u001b[49m\u001b[38;5;241;43m6\u001b[39;49m\u001b[43m]\u001b[49m\u001b[43m,\u001b[49m\u001b[43mBP\u001b[49m\u001b[43m[\u001b[49m\u001b[38;5;241;43m7\u001b[39;49m\u001b[43m]\u001b[49m\u001b[43m,\u001b[49m\u001b[43mBP\u001b[49m\u001b[43m[\u001b[49m\u001b[38;5;241;43m8\u001b[39;49m\u001b[43m]\u001b[49m\u001b[43m,\u001b[49m\u001b[43mBP\u001b[49m\u001b[43m[\u001b[49m\u001b[38;5;241;43m9\u001b[39;49m\u001b[43m]\u001b[49m\u001b[43m)\u001b[49m\n",
      "\u001b[1;31mTypeError\u001b[0m: Library.__init__() takes 7 positional arguments but 11 were given"
     ]
    }
   ],
   "source": [
    "class Library:\n",
    "    Library_name = \"VijAI Robotics Library\"\n",
    "    \n",
    "    def __init__(self,Name,Age,Gender,Address,Phone,ID):\n",
    "        self.Name = Name\n",
    "        self.Age = Age\n",
    "        self.Gender = Gender\n",
    "        self.Address = Address\n",
    "        self.Phone = Phone\n",
    "        self.Library_ID = ID\n",
    "        print(\"\")\n",
    "        \n",
    "    def Borrow_book(self):\n",
    "        print(f\"\")\n",
    "        print(\"List of books present in library\")\n",
    "        \n",
    "        \n",
    "    def Return_book(self):\n",
    "        \n",
    "        print(\"List of books present in library\")\n",
    "    \n",
    "    @classmethod\n",
    "    def Books_present(cls,Catalogue):\n",
    "        BP = Catalogue.split(\" \")           #BP --> Books Prenent in Library \n",
    "        print(BP)\n",
    "        return cls(BP[0],BP[1],BP[2],BP[3],BP[4],BP[5],BP[6],BP[7],BP[8],BP[9])\n",
    "\n",
    "Books = Library.Books_present(\"Java C++ C PY1 PY2 HTML PY3 PY0 PYthon Python\")\n",
    "print(Books.name)"
   ]
  },
  {
   "cell_type": "code",
   "execution_count": 5,
   "id": "f44765c4",
   "metadata": {},
   "outputs": [
    {
     "ename": "IndentationError",
     "evalue": "expected an indented block after function definition on line 22 (2450219737.py, line 24)",
     "output_type": "error",
     "traceback": [
      "\u001b[1;36m  Cell \u001b[1;32mIn[5], line 24\u001b[1;36m\u001b[0m\n\u001b[1;33m    @classmethod\u001b[0m\n\u001b[1;37m    ^\u001b[0m\n\u001b[1;31mIndentationError\u001b[0m\u001b[1;31m:\u001b[0m expected an indented block after function definition on line 22\n"
     ]
    }
   ],
   "source": [
    "class Library:\n",
    "    Library_name = \"VijAI Robotics Library\"\n",
    "    \n",
    "    def __init__(self,Name,Age,Gender,Address,Phone,ID):\n",
    "        self.Name = Name\n",
    "        self.Age = Age\n",
    "        self.Gender = Gender\n",
    "        self.Address = Address\n",
    "        self.Phone = Phone\n",
    "        self.Library_ID = ID\n",
    "        print(\"\")\n",
    "        \n",
    "    def Borrow_book(self):\n",
    "        print(f\"\")\n",
    "        print(\"List of books present in library\")\n",
    "        \n",
    "        \n",
    "    def Return_book(self):\n",
    "        \n",
    "        print(\"List of books present in library\")\n",
    "    \n",
    "    def __init__(self1,n1,n2,n3,n4,n5,n6,n7,n8,n9,n10):\n",
    "        \n",
    "    @classmethod\n",
    "    def Books_present(cls,Catalogue):\n",
    "        BP = Catalogue.split(\" \")           #BP --> Books Prenent in Library \n",
    "        print(BP)\n",
    "        return cls(BP[0],BP[1],BP[2],BP[3],BP[4],BP[5],BP[6],BP[7],BP[8],BP[9])\n",
    "\n",
    "Books = Library.Books_present(\"Java C++ C PY1 PY2 HTML PY3 PY0 PYthon Python\")\n",
    "print(Books.name)"
   ]
  },
  {
   "cell_type": "code",
   "execution_count": 1,
   "id": "6e34a122",
   "metadata": {},
   "outputs": [
    {
     "ename": "SyntaxError",
     "evalue": "unterminated string literal (detected at line 3) (2112125867.py, line 3)",
     "output_type": "error",
     "traceback": [
      "\u001b[1;36m  Cell \u001b[1;32mIn[1], line 3\u001b[1;36m\u001b[0m\n\u001b[1;33m    Cata = [\"Java\" \"C++\"\" \"C\" \"PY1\" \"PY2\" \"HTML\" \"PY3\" \"PY0\" \"PYthon\" \"Python\")]\u001b[0m\n\u001b[1;37m                                                                             ^\u001b[0m\n\u001b[1;31mSyntaxError\u001b[0m\u001b[1;31m:\u001b[0m unterminated string literal (detected at line 3)\n"
     ]
    }
   ],
   "source": [
    "class Library:\n",
    "    Library_name = \"VijAI Robotics Library\"\n",
    "    Cata = [\"Java\" \"C++\"\" \"C\" \"PY1\" \"PY2\" \"HTML\" \"PY3\" \"PY0\" \"PYthon\" \"Python\")]\n",
    "    \n",
    "    def __init__(self,Name,Age,Gender,Address,Phone,ID,BP):\n",
    "        self.Name = Name\n",
    "        self.Age = Age\n",
    "        self.Gender = Gender\n",
    "        self.Address = Address\n",
    "        self.Phone = Phone\n",
    "        self.Library_ID = ID\n",
    "        self.Books = BP\n",
    "        \n",
    "        \n",
    "    def Borrow_book(self):\n",
    "        print(f\"\")\n",
    "        print(\"List of books present in library\")\n",
    "        \n",
    "        \n",
    "    def Return_book(self):\n",
    "        \n",
    "        print(\"List of books present in library\")\n",
    "\n",
    "        \n",
    "    @classmethod\n",
    "    def Books_present(cls,Catalogue):\n",
    "        BP = Catalogue.split(\" \")           #BP --> Books Prenent in Library \n",
    "        print(Cata)\n",
    "        \n",
    "\n"
   ]
  },
  {
   "cell_type": "code",
   "execution_count": 1,
   "id": "cddd8444",
   "metadata": {},
   "outputs": [
    {
     "name": "stdout",
     "output_type": "stream",
     "text": [
      "['Java C++ C PY1 PY2 HTML PY3 PY0 PYthon Python']\n",
      "['Java C++ C PY1 PY2 HTML PY3 PY0 PYthon Python']\n"
     ]
    },
    {
     "ename": "NameError",
     "evalue": "name 'Cata' is not defined",
     "output_type": "error",
     "traceback": [
      "\u001b[1;31m---------------------------------------------------------------------------\u001b[0m",
      "\u001b[1;31mNameError\u001b[0m                                 Traceback (most recent call last)",
      "Cell \u001b[1;32mIn[1], line 31\u001b[0m\n\u001b[0;32m     28\u001b[0m         \u001b[38;5;28mprint\u001b[39m(Cata)\n\u001b[0;32m     29\u001b[0m     \u001b[38;5;28mprint\u001b[39m(Cata)    \n\u001b[1;32m---> 31\u001b[0m \u001b[38;5;28mprint\u001b[39m(\u001b[43mCata\u001b[49m)\n",
      "\u001b[1;31mNameError\u001b[0m: name 'Cata' is not defined"
     ]
    }
   ],
   "source": [
    "class Library:\n",
    "    Library_name = \"VijAI Robotics Library\"\n",
    "    Cata = [\"Java \" \"C++ \" \"C \" \"PY1 \" \"PY2 \" \"HTML \" \"PY3 \" \"PY0 \" \"PYthon \" \"Python\"]\n",
    "    print(Cata)\n",
    "    def __init__(self,Name,Age,Gender,Address,Phone,ID,BP):\n",
    "        self.Name = Name\n",
    "        self.Age = Age\n",
    "        self.Gender = Gender\n",
    "        self.Address = Address\n",
    "        self.Phone = Phone\n",
    "        self.Library_ID = ID\n",
    "        self.Books = BP\n",
    "        \n",
    "        \n",
    "    def Borrow_book(self):\n",
    "        print(f\"\")\n",
    "        print(\"List of books present in library\")\n",
    "        \n",
    "        \n",
    "    def Return_book(self):\n",
    "        \n",
    "        print(\"List of books present in library\")\n",
    "\n",
    "        \n",
    "    @classmethod\n",
    "    def Books_present(cls,Catalogue):\n",
    "        BP = Catalogue.split(\" \")           #BP --> Books Prenent in Library \n",
    "        print(Cata)\n",
    "    print(Cata)    \n",
    "\n",
    "print(Cata)"
   ]
  },
  {
   "cell_type": "code",
   "execution_count": 4,
   "id": "0eb7248b",
   "metadata": {},
   "outputs": [
    {
     "name": "stdout",
     "output_type": "stream",
     "text": [
      "['Java C++ C PY1 PY2 HTML PY3 PY0 PYthon Python']\n",
      "['Java C++ C PY1 PY2 HTML PY3 PY0 PYthon Python']\n"
     ]
    },
    {
     "ename": "NameError",
     "evalue": "name 'Aj' is not defined",
     "output_type": "error",
     "traceback": [
      "\u001b[1;31m---------------------------------------------------------------------------\u001b[0m",
      "\u001b[1;31mNameError\u001b[0m                                 Traceback (most recent call last)",
      "Cell \u001b[1;32mIn[4], line 31\u001b[0m\n\u001b[0;32m     28\u001b[0m         \u001b[38;5;28mprint\u001b[39m(Cata)\n\u001b[0;32m     29\u001b[0m     \u001b[38;5;28mprint\u001b[39m(Cata)    \n\u001b[1;32m---> 31\u001b[0m C1 \u001b[38;5;241m=\u001b[39m Library(\u001b[38;5;124mf\u001b[39m\u001b[38;5;124m\"\u001b[39m\u001b[38;5;132;01m{\u001b[39;00mAj\u001b[38;5;132;01m}\u001b[39;00m\u001b[38;5;132;01m{\u001b[39;00m\u001b[38;5;241m40\u001b[39m\u001b[38;5;132;01m}\u001b[39;00m\u001b[38;5;132;01m{\u001b[39;00mM\u001b[38;5;132;01m}\u001b[39;00m\u001b[38;5;132;01m{\u001b[39;00mHLD\u001b[38;5;132;01m}\u001b[39;00m\u001b[38;5;132;01m{\u001b[39;00m\u001b[38;5;241m1234\u001b[39m\u001b[38;5;132;01m}\u001b[39;00m\u001b[38;5;132;01m{\u001b[39;00mAJ_11\u001b[38;5;132;01m}\u001b[39;00m\u001b[38;5;124m\"\u001b[39m)\n",
      "\u001b[1;31mNameError\u001b[0m: name 'Aj' is not defined"
     ]
    }
   ],
   "source": [
    "class Library:\n",
    "    Library_name = \"VijAI Robotics Library\"\n",
    "    Cata = [\"Java \" \"C++ \" \"C \" \"PY1 \" \"PY2 \" \"HTML \" \"PY3 \" \"PY0 \" \"PYthon \" \"Python\"]\n",
    "    print(Cata)\n",
    "    def __init__(self,Name,Age,Gender,Address,Phone,ID,BP):\n",
    "        self.Name = Name\n",
    "        self.Age = Age\n",
    "        self.Gender = Gender\n",
    "        self.Address = Address\n",
    "        self.Phone = Phone\n",
    "        self.Library_ID = ID\n",
    "        self.Books = BP\n",
    "        \n",
    "        \n",
    "    def Borrow_book(self):\n",
    "        print(f\"\")\n",
    "        print(\"List of books present in library\")\n",
    "        \n",
    "        \n",
    "    def Return_book(self):\n",
    "        \n",
    "        print(\"List of books present in library\")\n",
    "\n",
    "        \n",
    "    @classmethod\n",
    "    def Books_present(cls,Catalogue):\n",
    "        BP = Catalogue.split(\" \")           #BP --> Books Prenent in Library \n",
    "        print(Cata)\n",
    "    print(Cata)    \n",
    "\n",
    "C1 = Library({Aj}{40}{M}{HLD}{1234}{AJ_11}\")"
   ]
  },
  {
   "cell_type": "code",
   "execution_count": 19,
   "id": "a5f3f8e7",
   "metadata": {},
   "outputs": [
    {
     "name": "stdout",
     "output_type": "stream",
     "text": [
      "['Java C++ C PY1 PY2 HTML PY3 PY0 PYthon Python']\n",
      "['Java C++ C PY1 PY2 HTML PY3 PY0 PYthon Python']\n"
     ]
    },
    {
     "ename": "AttributeError",
     "evalue": "'Library' object has no attribute 'ID'",
     "output_type": "error",
     "traceback": [
      "\u001b[1;31m---------------------------------------------------------------------------\u001b[0m",
      "\u001b[1;31mAttributeError\u001b[0m                            Traceback (most recent call last)",
      "Cell \u001b[1;32mIn[19], line 40\u001b[0m\n\u001b[0;32m     38\u001b[0m C9 \u001b[38;5;241m=\u001b[39m Library(\u001b[38;5;124m\"\u001b[39m\u001b[38;5;124mHimanshu Ji\u001b[39m\u001b[38;5;124m\"\u001b[39m,\u001b[38;5;124m\"\u001b[39m\u001b[38;5;124m18\u001b[39m\u001b[38;5;124m\"\u001b[39m,\u001b[38;5;124m\"\u001b[39m\u001b[38;5;124mM\u001b[39m\u001b[38;5;124m\"\u001b[39m,\u001b[38;5;124m\"\u001b[39m\u001b[38;5;124mHLD\u001b[39m\u001b[38;5;124m\"\u001b[39m,\u001b[38;5;241m88888\u001b[39m,\u001b[38;5;124m\"\u001b[39m\u001b[38;5;124mHI_11\u001b[39m\u001b[38;5;124m\"\u001b[39m)\n\u001b[0;32m     39\u001b[0m C10 \u001b[38;5;241m=\u001b[39m Library(\u001b[38;5;124m\"\u001b[39m\u001b[38;5;124mPriyanshu Ji\u001b[39m\u001b[38;5;124m\"\u001b[39m,\u001b[38;5;124m\"\u001b[39m\u001b[38;5;124m17\u001b[39m\u001b[38;5;124m\"\u001b[39m,\u001b[38;5;124m\"\u001b[39m\u001b[38;5;124mM\u001b[39m\u001b[38;5;124m\"\u001b[39m,\u001b[38;5;124m\"\u001b[39m\u001b[38;5;124mHLD\u001b[39m\u001b[38;5;124m\"\u001b[39m,\u001b[38;5;241m99999\u001b[39m,\u001b[38;5;124m\"\u001b[39m\u001b[38;5;124mPR_22\u001b[39m\u001b[38;5;124m\"\u001b[39m)\n\u001b[1;32m---> 40\u001b[0m \u001b[38;5;28mprint\u001b[39m(C1\u001b[38;5;241m.\u001b[39mName,C1\u001b[38;5;241m.\u001b[39mAge,C1\u001b[38;5;241m.\u001b[39mGender,C1\u001b[38;5;241m.\u001b[39mAddress,C1\u001b[38;5;241m.\u001b[39mPhone,\u001b[43mC1\u001b[49m\u001b[38;5;241;43m.\u001b[39;49m\u001b[43mID\u001b[49m)\n\u001b[0;32m     41\u001b[0m C1\u001b[38;5;241m.\u001b[39mBorrow_book\n",
      "\u001b[1;31mAttributeError\u001b[0m: 'Library' object has no attribute 'ID'"
     ]
    }
   ],
   "source": [
    "class Library:\n",
    "    Library_name = \"VijAI Robotics Library\"\n",
    "    Cata = [\"Java \" \"C++ \" \"C \" \"PY1 \" \"PY2 \" \"HTML \" \"PY3 \" \"PY0 \" \"PYthon \" \"Python\"]\n",
    "    print(Cata)\n",
    "    def __init__(self,Name,Age,Gender,Address,Phone,ID):\n",
    "        self.Name = Name\n",
    "        self.Age = Age\n",
    "        self.Gender = Gender\n",
    "        self.Address = Address\n",
    "        self.Phone = Phone\n",
    "        self.Library_ID = ID    ## Error\n",
    "        \n",
    "        \n",
    "    def Borrow_book(self):\n",
    "        print(f\"Book borrowed by {Library.ID} is {Cata[9]}\")\n",
    "        print(\"List of books present in library\")\n",
    "        \n",
    "        \n",
    "    def Return_book(self):\n",
    "        \n",
    "        print(\"List of books present in library\")\n",
    "\n",
    "        \n",
    "    @classmethod\n",
    "    def Books_present(cls,Catalogue):\n",
    "        BP = Catalogue.split(\" \")           #BP --> Books Prenent in Library \n",
    "        print(Cata)\n",
    "    print(Cata)    \n",
    "\n",
    "C1 = Library(\"Aj\",\"40\",\"M\",\"HLD\",12345,\"AJ_11\")\n",
    "C2 = Library(\"Parth Sir\",\"17\",\"M\",\"HLD\",1111,\"PA_11\")\n",
    "C3 = Library(\"Rishi Sir\",\"25\",\"M\",\"HLD\",22222,\"RI_11\")\n",
    "C4 = Library(\"Rohit Sir\",\"24\",\"M\",\"HLD\",33333,\"RO_11\")\n",
    "C5 = Library(\"Bhumika Ji\",\"21\",\"F\",\"HLD\",44444,\"BH_11\")\n",
    "C6 = Library(\"Pushpendra Ji\",\"20\",\"M\",\"HLD\",55555,\"PU_11\")\n",
    "C7 = Library(\"Gaurav Sir\",\"20\",\"M\",\"HLD\",66666,\"GA_11\")\n",
    "C8 = Library(\"Pratiksha Ji\",\"20\",\"F\",\"HLD\",77777,\"PR_11\")\n",
    "C9 = Library(\"Himanshu Ji\",\"18\",\"M\",\"HLD\",88888,\"HI_11\")\n",
    "C10 = Library(\"Priyanshu Ji\",\"17\",\"M\",\"HLD\",99999,\"PR_22\")\n",
    "print(C1.Name,C1.Age,C1.Gender,C1.Address,C1.Phone,C1.ID)\n",
    "C1.Borrow_book"
   ]
  },
  {
   "cell_type": "code",
   "execution_count": 1,
   "id": "ca076331",
   "metadata": {},
   "outputs": [
    {
     "name": "stdout",
     "output_type": "stream",
     "text": [
      "['Java C++ C PY1 PY2 HTML PY3 PY0 PYthon Python']\n",
      "['Java C++ C PY1 PY2 HTML PY3 PY0 PYthon Python']\n",
      "Aj 40 M HLD 12345 AJ_11\n"
     ]
    },
    {
     "ename": "AttributeError",
     "evalue": "type object 'Library' has no attribute 'ID'",
     "output_type": "error",
     "traceback": [
      "\u001b[1;31m---------------------------------------------------------------------------\u001b[0m",
      "\u001b[1;31mAttributeError\u001b[0m                            Traceback (most recent call last)",
      "Cell \u001b[1;32mIn[1], line 42\u001b[0m\n\u001b[0;32m     40\u001b[0m C10 \u001b[38;5;241m=\u001b[39m Library(\u001b[38;5;124m\"\u001b[39m\u001b[38;5;124mPriyanshu Ji\u001b[39m\u001b[38;5;124m\"\u001b[39m,\u001b[38;5;124m\"\u001b[39m\u001b[38;5;124m17\u001b[39m\u001b[38;5;124m\"\u001b[39m,\u001b[38;5;124m\"\u001b[39m\u001b[38;5;124mM\u001b[39m\u001b[38;5;124m\"\u001b[39m,\u001b[38;5;124m\"\u001b[39m\u001b[38;5;124mHLD\u001b[39m\u001b[38;5;124m\"\u001b[39m,\u001b[38;5;241m99999\u001b[39m,\u001b[38;5;124m\"\u001b[39m\u001b[38;5;124mPR_22\u001b[39m\u001b[38;5;124m\"\u001b[39m)\n\u001b[0;32m     41\u001b[0m \u001b[38;5;28mprint\u001b[39m(C1\u001b[38;5;241m.\u001b[39mName,C1\u001b[38;5;241m.\u001b[39mAge,C1\u001b[38;5;241m.\u001b[39mGender,C1\u001b[38;5;241m.\u001b[39mAddress,C1\u001b[38;5;241m.\u001b[39mPhone,C1\u001b[38;5;241m.\u001b[39mID)\n\u001b[1;32m---> 42\u001b[0m \u001b[43mC1\u001b[49m\u001b[38;5;241;43m.\u001b[39;49m\u001b[43mBorrow_book\u001b[49m\u001b[43m(\u001b[49m\u001b[43m)\u001b[49m\n",
      "Cell \u001b[1;32mIn[1], line 16\u001b[0m, in \u001b[0;36mLibrary.Borrow_book\u001b[1;34m(self)\u001b[0m\n\u001b[0;32m     15\u001b[0m \u001b[38;5;28;01mdef\u001b[39;00m \u001b[38;5;21mBorrow_book\u001b[39m(\u001b[38;5;28mself\u001b[39m):\n\u001b[1;32m---> 16\u001b[0m     \u001b[38;5;28mprint\u001b[39m(\u001b[38;5;124mf\u001b[39m\u001b[38;5;124m\"\u001b[39m\u001b[38;5;124mBook borrowed by \u001b[39m\u001b[38;5;132;01m{\u001b[39;00mLibrary\u001b[38;5;241m.\u001b[39mID\u001b[38;5;132;01m}\u001b[39;00m\u001b[38;5;124m is \u001b[39m\u001b[38;5;132;01m{\u001b[39;00mCata[\u001b[38;5;241m9\u001b[39m]\u001b[38;5;132;01m}\u001b[39;00m\u001b[38;5;124m\"\u001b[39m)\n\u001b[0;32m     17\u001b[0m     \u001b[38;5;28mprint\u001b[39m(\u001b[38;5;124m\"\u001b[39m\u001b[38;5;124mList of books present in library\u001b[39m\u001b[38;5;124m\"\u001b[39m)\n",
      "\u001b[1;31mAttributeError\u001b[0m: type object 'Library' has no attribute 'ID'"
     ]
    }
   ],
   "source": [
    "class Library:\n",
    "    Library_name = \"VijAI Robotics Library\"\n",
    "    Cata = [\"Java \" \"C++ \" \"C \" \"PY1 \" \"PY2 \" \"HTML \" \"PY3 \" \"PY0 \" \"PYthon \" \"Python\"]\n",
    "    print(Cata)\n",
    "    def __init__(self,Name,Age,Gender,Address,Phone,ID):\n",
    "        global Cata\n",
    "        self.Name = Name\n",
    "        self.Age = Age\n",
    "        self.Gender = Gender\n",
    "        self.Address = Address\n",
    "        self.Phone = Phone\n",
    "        self.ID = ID\n",
    "        \n",
    "        \n",
    "    def Borrow_book(self):\n",
    "        print(f\"Book borrowed by {Library.ID} is {Cata[9]}\")\n",
    "        print(\"List of books present in library\")\n",
    "        \n",
    "        \n",
    "    def Return_book(self):\n",
    "        \n",
    "        print(\"List of books present in library\")\n",
    "\n",
    "        \n",
    "    @classmethod\n",
    "    def Books_present(cls,Catalogue):\n",
    "        BP = Catalogue.split(\" \")           #BP --> Books Prenent in Library \n",
    "        print(Cata)\n",
    "    print(Cata)    \n",
    "\n",
    "C1 = Library(\"Aj\",\"40\",\"M\",\"HLD\",12345,\"AJ_11\")\n",
    "C2 = Library(\"Parth Sir\",\"17\",\"M\",\"HLD\",1111,\"PA_11\")\n",
    "C3 = Library(\"Rishi Sir\",\"25\",\"M\",\"HLD\",22222,\"RI_11\")\n",
    "C4 = Library(\"Rohit Sir\",\"24\",\"M\",\"HLD\",33333,\"RO_11\")\n",
    "C5 = Library(\"Bhumika Ji\",\"21\",\"F\",\"HLD\",44444,\"BH_11\")\n",
    "C6 = Library(\"Pushpendra Ji\",\"20\",\"M\",\"HLD\",55555,\"PU_11\")\n",
    "C7 = Library(\"Gaurav Sir\",\"20\",\"M\",\"HLD\",66666,\"GA_11\")\n",
    "C8 = Library(\"Pratiksha Ji\",\"20\",\"F\",\"HLD\",77777,\"PR_11\")\n",
    "C9 = Library(\"Himanshu Ji\",\"18\",\"M\",\"HLD\",88888,\"HI_11\")\n",
    "C10 = Library(\"Priyanshu Ji\",\"17\",\"M\",\"HLD\",99999,\"PR_22\")\n",
    "print(C1.Name,C1.Age,C1.Gender,C1.Address,C1.Phone,C1.ID)\n",
    "C1.Borrow_book()"
   ]
  },
  {
   "cell_type": "code",
   "execution_count": 3,
   "id": "b50436a7",
   "metadata": {},
   "outputs": [
    {
     "name": "stdout",
     "output_type": "stream",
     "text": [
      "['C ', 'C++ ', 'HTML', 'JAVA', 'PY0 ', 'PY1 ', 'PY2 ', 'PY3 ', 'PYthon ', 'Python']\n",
      "['C ', 'C++ ', 'HTML', 'JAVA', 'PY0 ', 'PY1 ', 'PY2 ', 'PY3 ', 'PYthon ', 'Python']\n",
      "Aj 40 M HLD 12345 AJ_11\n"
     ]
    },
    {
     "ename": "AttributeError",
     "evalue": "type object 'Library' has no attribute 'C1'",
     "output_type": "error",
     "traceback": [
      "\u001b[1;31m---------------------------------------------------------------------------\u001b[0m",
      "\u001b[1;31mAttributeError\u001b[0m                            Traceback (most recent call last)",
      "Cell \u001b[1;32mIn[3], line 42\u001b[0m\n\u001b[0;32m     40\u001b[0m C10 \u001b[38;5;241m=\u001b[39m Library(\u001b[38;5;124m\"\u001b[39m\u001b[38;5;124mPriyanshu Ji\u001b[39m\u001b[38;5;124m\"\u001b[39m,\u001b[38;5;124m\"\u001b[39m\u001b[38;5;124m17\u001b[39m\u001b[38;5;124m\"\u001b[39m,\u001b[38;5;124m\"\u001b[39m\u001b[38;5;124mM\u001b[39m\u001b[38;5;124m\"\u001b[39m,\u001b[38;5;124m\"\u001b[39m\u001b[38;5;124mHLD\u001b[39m\u001b[38;5;124m\"\u001b[39m,\u001b[38;5;241m99999\u001b[39m,\u001b[38;5;124m\"\u001b[39m\u001b[38;5;124mPR_22\u001b[39m\u001b[38;5;124m\"\u001b[39m)\n\u001b[0;32m     41\u001b[0m \u001b[38;5;28mprint\u001b[39m(C1\u001b[38;5;241m.\u001b[39mName,C1\u001b[38;5;241m.\u001b[39mAge,C1\u001b[38;5;241m.\u001b[39mGender,C1\u001b[38;5;241m.\u001b[39mAddress,C1\u001b[38;5;241m.\u001b[39mPhone,C1\u001b[38;5;241m.\u001b[39mID)\n\u001b[1;32m---> 42\u001b[0m \u001b[43mC1\u001b[49m\u001b[38;5;241;43m.\u001b[39;49m\u001b[43mBorrow_book\u001b[49m\u001b[43m(\u001b[49m\u001b[43m)\u001b[49m\n",
      "Cell \u001b[1;32mIn[3], line 16\u001b[0m, in \u001b[0;36mLibrary.Borrow_book\u001b[1;34m(self)\u001b[0m\n\u001b[0;32m     15\u001b[0m \u001b[38;5;28;01mdef\u001b[39;00m \u001b[38;5;21mBorrow_book\u001b[39m(\u001b[38;5;28mself\u001b[39m):\n\u001b[1;32m---> 16\u001b[0m     \u001b[38;5;28mprint\u001b[39m(\u001b[38;5;124mf\u001b[39m\u001b[38;5;124m\"\u001b[39m\u001b[38;5;124mBook borrowed by \u001b[39m\u001b[38;5;132;01m{\u001b[39;00mLibrary\u001b[38;5;241m.\u001b[39mC1\u001b[38;5;241m.\u001b[39mID\u001b[38;5;132;01m}\u001b[39;00m\u001b[38;5;124m is \u001b[39m\u001b[38;5;132;01m{\u001b[39;00mCata[\u001b[38;5;241m9\u001b[39m]\u001b[38;5;132;01m}\u001b[39;00m\u001b[38;5;124m\"\u001b[39m)\n\u001b[0;32m     17\u001b[0m     \u001b[38;5;28mprint\u001b[39m(\u001b[38;5;124m\"\u001b[39m\u001b[38;5;124mList of books present in library\u001b[39m\u001b[38;5;124m\"\u001b[39m)\n",
      "\u001b[1;31mAttributeError\u001b[0m: type object 'Library' has no attribute 'C1'"
     ]
    }
   ],
   "source": [
    "class Library:\n",
    "    Library_name = \"VijAI Robotics Library\"\n",
    "    Cata = [\"C \",\"C++ \",\"HTML\",\"JAVA\",\"PY0 \",\"PY1 \",\"PY2 \",\"PY3 \",\"PYthon \",\"Python\"]\n",
    "    print(Cata)\n",
    "    def __init__(self,Name,Age,Gender,Address,Phone,ID):\n",
    "        global Cata\n",
    "        self.Name = Name\n",
    "        self.Age = Age\n",
    "        self.Gender = Gender\n",
    "        self.Address = Address\n",
    "        self.Phone = Phone\n",
    "        self.ID = ID\n",
    "        \n",
    "        \n",
    "    def Borrow_book(self):\n",
    "        print(f\"Book borrowed by {Library.C1.ID} is {Cata[9]}\")\n",
    "        print(\"List of books present in library\")\n",
    "        \n",
    "        \n",
    "    def Return_book(self):\n",
    "        \n",
    "        print(\"List of books present in library\")\n",
    "\n",
    "        \n",
    "    @classmethod\n",
    "    def Books_present(cls,Catalogue):\n",
    "        BP = Catalogue.split(\" \")           #BP --> Books Prenent in Library \n",
    "        print(Cata)\n",
    "    print(Cata)    \n",
    "\n",
    "C1 = Library(\"Aj\",\"40\",\"M\",\"HLD\",12345,\"AJ_11\")\n",
    "C2 = Library(\"Parth Sir\",\"17\",\"M\",\"HLD\",1111,\"PA_11\")\n",
    "C3 = Library(\"Rishi Sir\",\"25\",\"M\",\"HLD\",22222,\"RI_11\")\n",
    "C4 = Library(\"Rohit Sir\",\"24\",\"M\",\"HLD\",33333,\"RO_11\")\n",
    "C5 = Library(\"Bhumika Ji\",\"21\",\"F\",\"HLD\",44444,\"BH_11\")\n",
    "C6 = Library(\"Pushpendra Ji\",\"20\",\"M\",\"HLD\",55555,\"PU_11\")\n",
    "C7 = Library(\"Gaurav Sir\",\"20\",\"M\",\"HLD\",66666,\"GA_11\")\n",
    "C8 = Library(\"Pratiksha Ji\",\"20\",\"F\",\"HLD\",77777,\"PR_11\")\n",
    "C9 = Library(\"Himanshu Ji\",\"18\",\"M\",\"HLD\",88888,\"HI_11\")\n",
    "C10 = Library(\"Priyanshu Ji\",\"17\",\"M\",\"HLD\",99999,\"PR_22\")\n",
    "print(C1.Name,C1.Age,C1.Gender,C1.Address,C1.Phone,C1.ID)\n",
    "C1.Borrow_book()"
   ]
  },
  {
   "cell_type": "code",
   "execution_count": 8,
   "id": "bd30cfd8",
   "metadata": {},
   "outputs": [
    {
     "name": "stdout",
     "output_type": "stream",
     "text": [
      "['C ', 'C++ ', 'HTML', 'JAVA', 'PY0 ', 'PY1 ', 'PY2 ', 'PY3 ', 'PYthon ', 'Python']\n",
      "['C ', 'C++ ', 'HTML', 'JAVA', 'PY0 ', 'PY1 ', 'PY2 ', 'PY3 ', 'PYthon ', 'Python']\n",
      "Aj 40 M HLD 12345 AJ_11\n",
      "8\n",
      "AJ_11\n"
     ]
    },
    {
     "ename": "AttributeError",
     "evalue": "'Library' object has no attribute 'Y'",
     "output_type": "error",
     "traceback": [
      "\u001b[1;31m---------------------------------------------------------------------------\u001b[0m",
      "\u001b[1;31mAttributeError\u001b[0m                            Traceback (most recent call last)",
      "Cell \u001b[1;32mIn[8], line 46\u001b[0m\n\u001b[0;32m     44\u001b[0m C10 \u001b[38;5;241m=\u001b[39m Library(\u001b[38;5;124m\"\u001b[39m\u001b[38;5;124mPriyanshu Ji\u001b[39m\u001b[38;5;124m\"\u001b[39m,\u001b[38;5;124m\"\u001b[39m\u001b[38;5;124m17\u001b[39m\u001b[38;5;124m\"\u001b[39m,\u001b[38;5;124m\"\u001b[39m\u001b[38;5;124mM\u001b[39m\u001b[38;5;124m\"\u001b[39m,\u001b[38;5;124m\"\u001b[39m\u001b[38;5;124mHLD\u001b[39m\u001b[38;5;124m\"\u001b[39m,\u001b[38;5;241m99999\u001b[39m,\u001b[38;5;124m\"\u001b[39m\u001b[38;5;124mPR_22\u001b[39m\u001b[38;5;124m\"\u001b[39m)\n\u001b[0;32m     45\u001b[0m \u001b[38;5;28mprint\u001b[39m(C1\u001b[38;5;241m.\u001b[39mName,C1\u001b[38;5;241m.\u001b[39mAge,C1\u001b[38;5;241m.\u001b[39mGender,C1\u001b[38;5;241m.\u001b[39mAddress,C1\u001b[38;5;241m.\u001b[39mPhone,C1\u001b[38;5;241m.\u001b[39mID)\n\u001b[1;32m---> 46\u001b[0m \u001b[43mC1\u001b[49m\u001b[38;5;241;43m.\u001b[39;49m\u001b[43mBorrow_book\u001b[49m\u001b[43m(\u001b[49m\u001b[43m)\u001b[49m\n",
      "Cell \u001b[1;32mIn[8], line 18\u001b[0m, in \u001b[0;36mLibrary.Borrow_book\u001b[1;34m(self)\u001b[0m\n\u001b[0;32m     16\u001b[0m X \u001b[38;5;241m=\u001b[39m \u001b[38;5;28mint\u001b[39m(\u001b[38;5;28minput\u001b[39m())\n\u001b[0;32m     17\u001b[0m Y \u001b[38;5;241m=\u001b[39m \u001b[38;5;28minput\u001b[39m()\n\u001b[1;32m---> 18\u001b[0m \u001b[38;5;28mprint\u001b[39m(\u001b[38;5;124mf\u001b[39m\u001b[38;5;124m\"\u001b[39m\u001b[38;5;124mBook borrowed by \u001b[39m\u001b[38;5;132;01m{\u001b[39;00mC1\u001b[38;5;241m.\u001b[39mY\u001b[38;5;132;01m}\u001b[39;00m\u001b[38;5;124m is \u001b[39m\u001b[38;5;132;01m{\u001b[39;00mCata[X]\u001b[38;5;132;01m}\u001b[39;00m\u001b[38;5;124m\"\u001b[39m)\n\u001b[0;32m     19\u001b[0m \u001b[38;5;28mprint\u001b[39m(\u001b[38;5;124m\"\u001b[39m\u001b[38;5;124mList of books present in library\u001b[39m\u001b[38;5;124m\"\u001b[39m)\n\u001b[0;32m     20\u001b[0m Cata\u001b[38;5;241m.\u001b[39mremove(Cata[\u001b[38;5;241m9\u001b[39m])\n",
      "\u001b[1;31mAttributeError\u001b[0m: 'Library' object has no attribute 'Y'"
     ]
    }
   ],
   "source": [
    "Cata = [\"C \",\"C++ \",\"HTML\",\"JAVA\",\"PY0 \",\"PY1 \",\"PY2 \",\"PY3 \",\"PYthon \",\"Python\"]\n",
    "class Library:\n",
    "    Library_name = \"VijAI Robotics Library\"\n",
    "    print(Cata)\n",
    "    def __init__(self,Name,Age,Gender,Address,Phone,ID):\n",
    "        global Cata\n",
    "        self.Name = Name\n",
    "        self.Age = Age\n",
    "        self.Gender = Gender\n",
    "        self.Address = Address\n",
    "        self.Phone = Phone\n",
    "        self.ID = ID\n",
    "        \n",
    "        \n",
    "    def Borrow_book(self):\n",
    "        X = int(input())\n",
    "        Y = input()\n",
    "        print(f\"Book borrowed by {C1.Y} is {Cata[X]}\")\n",
    "        print(\"List of books present in library\")\n",
    "        Cata.remove(Cata[9])\n",
    "        print(Cata)\n",
    "        \n",
    "        \n",
    "    def Return_book(self):\n",
    "        \n",
    "        print(\"List of books present in library\")\n",
    "\n",
    "        \n",
    "    @classmethod\n",
    "    def Books_present(cls,Catalogue):\n",
    "        BP = Catalogue.split(\" \")           #BP --> Books Prenent in Library \n",
    "        print(Cata)\n",
    "    print(Cata)    \n",
    "\n",
    "C1 = Library(\"Aj\",\"40\",\"M\",\"HLD\",12345,\"AJ_11\")\n",
    "C2 = Library(\"Parth Sir\",\"17\",\"M\",\"HLD\",1111,\"PA_11\")\n",
    "C3 = Library(\"Rishi Sir\",\"25\",\"M\",\"HLD\",22222,\"RI_11\")\n",
    "C4 = Library(\"Rohit Sir\",\"24\",\"M\",\"HLD\",33333,\"RO_11\")\n",
    "C5 = Library(\"Bhumika Ji\",\"21\",\"F\",\"HLD\",44444,\"BH_11\")\n",
    "C6 = Library(\"Pushpendra Ji\",\"20\",\"M\",\"HLD\",55555,\"PU_11\")\n",
    "C7 = Library(\"Gaurav Sir\",\"20\",\"M\",\"HLD\",66666,\"GA_11\")\n",
    "C8 = Library(\"Pratiksha Ji\",\"20\",\"F\",\"HLD\",77777,\"PR_11\")\n",
    "C9 = Library(\"Himanshu Ji\",\"18\",\"M\",\"HLD\",88888,\"HI_11\")\n",
    "C10 = Library(\"Priyanshu Ji\",\"17\",\"M\",\"HLD\",99999,\"PR_22\")\n",
    "print(C1.Name,C1.Age,C1.Gender,C1.Address,C1.Phone,C1.ID)\n",
    "C1.Borrow_book()"
   ]
  },
  {
   "cell_type": "code",
   "execution_count": 3,
   "id": "ade4dcb1",
   "metadata": {},
   "outputs": [
    {
     "name": "stdout",
     "output_type": "stream",
     "text": [
      "['C ', 'C++ ', 'HTML', 'JAVA', 'PY0 ', 'PY1 ', 'PY2 ', 'PY3 ', 'PYthon ', 'Python']\n",
      "['C ', 'C++ ', 'HTML', 'JAVA', 'PY0 ', 'PY1 ', 'PY2 ', 'PY3 ', 'PYthon ', 'Python']\n",
      "Aj 40 M HLD 12345 AJ_11\n",
      "Enter the position of Book in the Catalogue:9\n"
     ]
    },
    {
     "ename": "TypeError",
     "evalue": "can only concatenate str (not \"int\") to str",
     "output_type": "error",
     "traceback": [
      "\u001b[1;31m---------------------------------------------------------------------------\u001b[0m",
      "\u001b[1;31mTypeError\u001b[0m                                 Traceback (most recent call last)",
      "Cell \u001b[1;32mIn[3], line 46\u001b[0m\n\u001b[0;32m     44\u001b[0m C10 \u001b[38;5;241m=\u001b[39m Library(\u001b[38;5;124m\"\u001b[39m\u001b[38;5;124mPriyanshu Ji\u001b[39m\u001b[38;5;124m\"\u001b[39m,\u001b[38;5;124m\"\u001b[39m\u001b[38;5;124m17\u001b[39m\u001b[38;5;124m\"\u001b[39m,\u001b[38;5;124m\"\u001b[39m\u001b[38;5;124mM\u001b[39m\u001b[38;5;124m\"\u001b[39m,\u001b[38;5;124m\"\u001b[39m\u001b[38;5;124mHLD\u001b[39m\u001b[38;5;124m\"\u001b[39m,\u001b[38;5;241m99999\u001b[39m,\u001b[38;5;124m\"\u001b[39m\u001b[38;5;124mPR_22\u001b[39m\u001b[38;5;124m\"\u001b[39m)\n\u001b[0;32m     45\u001b[0m \u001b[38;5;28mprint\u001b[39m(C1\u001b[38;5;241m.\u001b[39mName,C1\u001b[38;5;241m.\u001b[39mAge,C1\u001b[38;5;241m.\u001b[39mGender,C1\u001b[38;5;241m.\u001b[39mAddress,C1\u001b[38;5;241m.\u001b[39mPhone,C1\u001b[38;5;241m.\u001b[39mID)\n\u001b[1;32m---> 46\u001b[0m \u001b[43mC1\u001b[49m\u001b[38;5;241;43m.\u001b[39;49m\u001b[43mBorrow_book\u001b[49m\u001b[43m(\u001b[49m\u001b[43m)\u001b[49m\n",
      "Cell \u001b[1;32mIn[3], line 16\u001b[0m, in \u001b[0;36mLibrary.Borrow_book\u001b[1;34m(self)\u001b[0m\n\u001b[0;32m     15\u001b[0m \u001b[38;5;28;01mdef\u001b[39;00m \u001b[38;5;21mBorrow_book\u001b[39m(\u001b[38;5;28mself\u001b[39m):\n\u001b[1;32m---> 16\u001b[0m     X \u001b[38;5;241m=\u001b[39m \u001b[38;5;28mint\u001b[39m(\u001b[38;5;28;43minput\u001b[39;49m\u001b[43m(\u001b[49m\u001b[38;5;124;43m\"\u001b[39;49m\u001b[38;5;124;43mEnter the position of Book in the Catalogue:\u001b[39;49m\u001b[38;5;124;43m\"\u001b[39;49m\u001b[43m)\u001b[49m\u001b[38;5;241;43m+\u001b[39;49m\u001b[38;5;241;43m1\u001b[39;49m)\n\u001b[0;32m     17\u001b[0m     Y \u001b[38;5;241m=\u001b[39m \u001b[38;5;28minput\u001b[39m(\u001b[38;5;124m\"\u001b[39m\u001b[38;5;124mEnter the ID of the Borrower:\u001b[39m\u001b[38;5;124m\"\u001b[39m)\n\u001b[0;32m     18\u001b[0m     \u001b[38;5;28mprint\u001b[39m(\u001b[38;5;124mf\u001b[39m\u001b[38;5;124m\"\u001b[39m\u001b[38;5;124mBook borrowed by \u001b[39m\u001b[38;5;132;01m{\u001b[39;00mC1\u001b[38;5;241m.\u001b[39mY\u001b[38;5;132;01m}\u001b[39;00m\u001b[38;5;124m is \u001b[39m\u001b[38;5;132;01m{\u001b[39;00mCata[X]\u001b[38;5;132;01m}\u001b[39;00m\u001b[38;5;124m\"\u001b[39m)\n",
      "\u001b[1;31mTypeError\u001b[0m: can only concatenate str (not \"int\") to str"
     ]
    }
   ],
   "source": [
    "Cata = [\"C \",\"C++ \",\"HTML\",\"JAVA\",\"PY0 \",\"PY1 \",\"PY2 \",\"PY3 \",\"PYthon \",\"Python\"]\n",
    "class Library:\n",
    "    Library_name = \"VijAI Robotics Library\"\n",
    "    print(Cata)\n",
    "    def __init__(self,Name,Age,Gender,Address,Phone,ID):\n",
    "        global Cata,Y,X\n",
    "        self.Name = Name\n",
    "        self.Age = Age\n",
    "        self.Gender = Gender\n",
    "        self.Address = Address\n",
    "        self.Phone = Phone\n",
    "        self.ID = ID\n",
    "        \n",
    "        \n",
    "    def Borrow_book(self):\n",
    "        X = int(input(\"Enter the position of Book in the Catalogue:\")+1)\n",
    "        Y = input(\"Enter the ID of the Borrower:\")\n",
    "        print(f\"Book borrowed by {C1.Y} is {Cata[X]}\")\n",
    "        print(\"List of books present in library\")\n",
    "        Cata.remove(Cata[X])\n",
    "        print(Cata)\n",
    "        \n",
    "        \n",
    "    def Return_book(self):\n",
    "        \n",
    "        print(\"List of books present in library\")\n",
    "\n",
    "        \n",
    "    @classmethod\n",
    "    def Books_present(cls,Catalogue):\n",
    "        BP = Catalogue.split(\" \")           #BP --> Books Prenent in Library \n",
    "        print(Cata)\n",
    "    print(Cata)    \n",
    "\n",
    "C1 = Library(\"Aj\",\"40\",\"M\",\"HLD\",12345,\"AJ_11\")\n",
    "C2 = Library(\"Parth Sir\",\"17\",\"M\",\"HLD\",1111,\"PA_11\")\n",
    "C3 = Library(\"Rishi Sir\",\"25\",\"M\",\"HLD\",22222,\"RI_11\")\n",
    "C4 = Library(\"Rohit Sir\",\"24\",\"M\",\"HLD\",33333,\"RO_11\")\n",
    "C5 = Library(\"Bhumika Ji\",\"21\",\"F\",\"HLD\",44444,\"BH_11\")\n",
    "C6 = Library(\"Pushpendra Ji\",\"20\",\"M\",\"HLD\",55555,\"PU_11\")\n",
    "C7 = Library(\"Gaurav Sir\",\"20\",\"M\",\"HLD\",66666,\"GA_11\")\n",
    "C8 = Library(\"Pratiksha Ji\",\"20\",\"F\",\"HLD\",77777,\"PR_11\")\n",
    "C9 = Library(\"Himanshu Ji\",\"18\",\"M\",\"HLD\",88888,\"HI_11\")\n",
    "C10 = Library(\"Priyanshu Ji\",\"17\",\"M\",\"HLD\",99999,\"PR_22\")\n",
    "print(C1.Name,C1.Age,C1.Gender,C1.Address,C1.Phone,C1.ID)\n",
    "C1.Borrow_book()"
   ]
  },
  {
   "cell_type": "code",
   "execution_count": 7,
   "id": "8449bc2a",
   "metadata": {},
   "outputs": [
    {
     "name": "stdout",
     "output_type": "stream",
     "text": [
      "['C ', 'C++ ', 'HTML', 'JAVA', 'PY0 ', 'PY1 ', 'PY2 ', 'PY3 ', 'PYthon ', 'Python']\n",
      "Enter the Customer Number:9\n"
     ]
    },
    {
     "ename": "NameError",
     "evalue": "name 'CZ' is not defined",
     "output_type": "error",
     "traceback": [
      "\u001b[1;31m---------------------------------------------------------------------------\u001b[0m",
      "\u001b[1;31mNameError\u001b[0m                                 Traceback (most recent call last)",
      "Cell \u001b[1;32mIn[7], line 46\u001b[0m\n\u001b[0;32m     44\u001b[0m C10 \u001b[38;5;241m=\u001b[39m Library(\u001b[38;5;124m\"\u001b[39m\u001b[38;5;124mPriyanshu Ji\u001b[39m\u001b[38;5;124m\"\u001b[39m,\u001b[38;5;124m\"\u001b[39m\u001b[38;5;124m17\u001b[39m\u001b[38;5;124m\"\u001b[39m,\u001b[38;5;124m\"\u001b[39m\u001b[38;5;124mM\u001b[39m\u001b[38;5;124m\"\u001b[39m,\u001b[38;5;124m\"\u001b[39m\u001b[38;5;124mHLD\u001b[39m\u001b[38;5;124m\"\u001b[39m,\u001b[38;5;241m99999\u001b[39m,\u001b[38;5;124m\"\u001b[39m\u001b[38;5;124mPR_22\u001b[39m\u001b[38;5;124m\"\u001b[39m)\n\u001b[0;32m     45\u001b[0m Z \u001b[38;5;241m=\u001b[39m \u001b[38;5;28mint\u001b[39m(\u001b[38;5;28minput\u001b[39m(\u001b[38;5;124m\"\u001b[39m\u001b[38;5;124mEnter the Customer Number:\u001b[39m\u001b[38;5;124m\"\u001b[39m))\n\u001b[1;32m---> 46\u001b[0m \u001b[38;5;28mprint\u001b[39m(\u001b[43mCZ\u001b[49m\u001b[38;5;241m.\u001b[39mName,CZ\u001b[38;5;241m.\u001b[39mAge,CZ\u001b[38;5;241m.\u001b[39mGender,CZ\u001b[38;5;241m.\u001b[39mAddress,CZ\u001b[38;5;241m.\u001b[39mPhone,CZ\u001b[38;5;241m.\u001b[39mID)\n\u001b[0;32m     47\u001b[0m C1\u001b[38;5;241m.\u001b[39mBorrow_book()\n",
      "\u001b[1;31mNameError\u001b[0m: name 'CZ' is not defined"
     ]
    }
   ],
   "source": [
    "Cata = [\"C \",\"C++ \",\"HTML\",\"JAVA\",\"PY0 \",\"PY1 \",\"PY2 \",\"PY3 \",\"PYthon \",\"Python\"]\n",
    "class Library:\n",
    "    Library_name = \"VijAI Robotics Library\"\n",
    "    print(Cata)\n",
    "    def __init__(self,Name,Age,Gender,Address,Phone,ID):\n",
    "        global Cata,X\n",
    "        self.Name = Name\n",
    "        self.Age = Age\n",
    "        self.Gender = Gender\n",
    "        self.Address = Address\n",
    "        self.Phone = Phone\n",
    "        self.ID = ID\n",
    "        \n",
    "        \n",
    "    def Borrow_book(self):\n",
    "        X = int(input(\"Enter the position of Book in the Catalogue:\"))\n",
    "        ID = input(\"Enter the ID of the Borrower:\")\n",
    "        print(f\"Book borrowed by {ID} is {Cata[X]}\")\n",
    "        print(\"List of books present in library\")\n",
    "        Cata.remove(Cata[X])\n",
    "        print(Cata)\n",
    "        \n",
    "        \n",
    "    def Return_book(self):\n",
    "        \n",
    "        print(\"List of books present in library\")\n",
    "\n",
    "        \n",
    "    @classmethod\n",
    "    def Books_present(cls,Catalogue):\n",
    "        BP = Catalogue.split(\" \")           #BP --> Books Prenent in Library \n",
    "        print(Cata)\n",
    "        \n",
    "\n",
    "C1 = Library(\"Aj\",\"40\",\"M\",\"HLD\",12345,\"AJ_11\")\n",
    "C2 = Library(\"Parth Sir\",\"17\",\"M\",\"HLD\",1111,\"PA_11\")\n",
    "C3 = Library(\"Rishi Sir\",\"25\",\"M\",\"HLD\",22222,\"RI_11\")\n",
    "C4 = Library(\"Rohit Sir\",\"24\",\"M\",\"HLD\",33333,\"RO_11\")\n",
    "C5 = Library(\"Bhumika Ji\",\"21\",\"F\",\"HLD\",44444,\"BH_11\")\n",
    "C6 = Library(\"Pushpendra Ji\",\"20\",\"M\",\"HLD\",55555,\"PU_11\")\n",
    "C7 = Library(\"Gaurav Sir\",\"20\",\"M\",\"HLD\",66666,\"GA_11\")\n",
    "C8 = Library(\"Pratiksha Ji\",\"20\",\"F\",\"HLD\",77777,\"PR_11\")\n",
    "C9 = Library(\"Himanshu Ji\",\"18\",\"M\",\"HLD\",88888,\"HI_11\")\n",
    "C10 = Library(\"Priyanshu Ji\",\"17\",\"M\",\"HLD\",99999,\"PR_22\")\n",
    "Z = int(input(\"Enter the Customer Number:\"))\n",
    "print(CZ.Name,CZ.Age,CZ.Gender,CZ.Address,CZ.Phone,CZ.ID)\n",
    "C1.Borrow_book()"
   ]
  },
  {
   "cell_type": "code",
   "execution_count": 4,
   "id": "e24f525f",
   "metadata": {},
   "outputs": [
    {
     "name": "stdout",
     "output_type": "stream",
     "text": [
      "['C ', 'C++ ', 'HTML', 'JAVA', 'PY0 ', 'PY1 ', 'PY2 ', 'PY3 ', 'PYTHON ', 'Python']\n",
      "Aj 40 M HLD 12345 AJ_11\n",
      "Enter the position of Book in the Catalogue:12\n",
      "Invalid Input\n"
     ]
    },
    {
     "ename": "UnboundLocalError",
     "evalue": "local variable 'ID' referenced before assignment",
     "output_type": "error",
     "traceback": [
      "\u001b[1;31m---------------------------------------------------------------------------\u001b[0m",
      "\u001b[1;31mUnboundLocalError\u001b[0m                         Traceback (most recent call last)",
      "Cell \u001b[1;32mIn[4], line 55\u001b[0m\n\u001b[0;32m     53\u001b[0m \u001b[38;5;66;03m## Z = int(input(\"Enter the Customer Number:\"))\u001b[39;00m\n\u001b[0;32m     54\u001b[0m \u001b[38;5;28mprint\u001b[39m(C1\u001b[38;5;241m.\u001b[39mName,C1\u001b[38;5;241m.\u001b[39mAge,C1\u001b[38;5;241m.\u001b[39mGender,C1\u001b[38;5;241m.\u001b[39mAddress,C1\u001b[38;5;241m.\u001b[39mPhone,C1\u001b[38;5;241m.\u001b[39mID)\n\u001b[1;32m---> 55\u001b[0m \u001b[43mC1\u001b[49m\u001b[38;5;241;43m.\u001b[39;49m\u001b[43mBorrow_book\u001b[49m\u001b[43m(\u001b[49m\u001b[43m)\u001b[49m\n\u001b[0;32m     56\u001b[0m C1\u001b[38;5;241m.\u001b[39mReturn_book()\n",
      "Cell \u001b[1;32mIn[4], line 21\u001b[0m, in \u001b[0;36mLibrary.Borrow_book\u001b[1;34m(self)\u001b[0m\n\u001b[0;32m     19\u001b[0m \u001b[38;5;28;01melse\u001b[39;00m: \n\u001b[0;32m     20\u001b[0m     ID \u001b[38;5;241m=\u001b[39m \u001b[38;5;28minput\u001b[39m(\u001b[38;5;124m\"\u001b[39m\u001b[38;5;124mEnter the ID of the Borrower:\u001b[39m\u001b[38;5;124m\"\u001b[39m)\n\u001b[1;32m---> 21\u001b[0m \u001b[38;5;28mprint\u001b[39m(\u001b[38;5;124mf\u001b[39m\u001b[38;5;124m\"\u001b[39m\u001b[38;5;124mBook borrowed by \u001b[39m\u001b[38;5;132;01m{\u001b[39;00mID\u001b[38;5;132;01m}\u001b[39;00m\u001b[38;5;124m is \u001b[39m\u001b[38;5;132;01m{\u001b[39;00mCata[X]\u001b[38;5;132;01m}\u001b[39;00m\u001b[38;5;124m\"\u001b[39m)\n\u001b[0;32m     22\u001b[0m \u001b[38;5;28mprint\u001b[39m(\u001b[38;5;124m\"\u001b[39m\u001b[38;5;124mList of books present in library\u001b[39m\u001b[38;5;124m\"\u001b[39m)\n\u001b[0;32m     23\u001b[0m Cata\u001b[38;5;241m.\u001b[39mremove(Cata[X])\n",
      "\u001b[1;31mUnboundLocalError\u001b[0m: local variable 'ID' referenced before assignment"
     ]
    }
   ],
   "source": [
    "Cata = [\"C \",\"C++ \",\"HTML\",\"JAVA\",\"PY0 \",\"PY1 \",\"PY2 \",\"PY3 \",\"PYTHON \",\"Python\"]\n",
    "class Library:\n",
    "    Library_name = \"VijAI Robotics Library\"\n",
    "    print(Cata)\n",
    "    def __init__(self,Name,Age,Gender,Address,Phone,ID):\n",
    "        global Cata,X\n",
    "        self.Name = Name\n",
    "        self.Age = Age\n",
    "        self.Gender = Gender\n",
    "        self.Address = Address\n",
    "        self.Phone = Phone\n",
    "        self.ID = ID\n",
    "        \n",
    "        \n",
    "    def Borrow_book(self):\n",
    "        X = int(input(\"Enter the position of Book in the Catalogue:\"))\n",
    "        if X > 10:\n",
    "            print(\"Invalid Input\")\n",
    "        else: \n",
    "            ID = input(\"Enter the ID of the Borrower:\")\n",
    "        print(f\"Book borrowed by {ID} is {Cata[X]}\")\n",
    "        print(\"List of books present in library\")\n",
    "        Cata.remove(Cata[X])\n",
    "        print(Cata)\n",
    "        \n",
    "        \n",
    "    def Return_book(self):\n",
    "        ID = input(\"Enter the ID of the Borrower:\")\n",
    "        Z = input(\"Name of Book returned by Borrower:\")\n",
    "        print(\"List of books present in library\")\n",
    "        Cata.append(Z)\n",
    "        print(Cata)\n",
    "        \n",
    "\n",
    "        \n",
    "    @classmethod\n",
    "    def Books_present(cls,Catalogue):\n",
    "        BP = Catalogue.split(\" \")           #BP --> Books Prenent in Library \n",
    "        print(Cata)\n",
    "        \n",
    "\n",
    "C1 = Library(\"Aj\",\"40\",\"M\",\"HLD\",12345,\"AJ_11\")\n",
    "C2 = Library(\"Parth Sir\",\"17\",\"M\",\"HLD\",1111,\"PA_11\")\n",
    "C3 = Library(\"Rishi Sir\",\"25\",\"M\",\"HLD\",22222,\"RI_11\")\n",
    "C4 = Library(\"Rohit Sir\",\"24\",\"M\",\"HLD\",33333,\"RO_11\")\n",
    "C5 = Library(\"Bhumika Ji\",\"21\",\"F\",\"HLD\",44444,\"BH_11\")\n",
    "C6 = Library(\"Pushpendra Ji\",\"20\",\"M\",\"HLD\",55555,\"PU_11\")\n",
    "C7 = Library(\"Gaurav Sir\",\"20\",\"M\",\"HLD\",66666,\"GA_11\")\n",
    "C8 = Library(\"Pratiksha Ji\",\"20\",\"F\",\"HLD\",77777,\"PR_11\")\n",
    "C9 = Library(\"Himanshu Ji\",\"18\",\"M\",\"HLD\",88888,\"HI_11\")\n",
    "C10 = Library(\"Priyanshu Ji\",\"17\",\"M\",\"HLD\",99999,\"PR_22\")\n",
    "\n",
    "## Z = int(input(\"Enter the Customer Number:\"))\n",
    "print(C1.Name,C1.Age,C1.Gender,C1.Address,C1.Phone,C1.ID)\n",
    "C1.Borrow_book()\n",
    "C1.Return_book()"
   ]
  }
 ],
 "metadata": {
  "kernelspec": {
   "display_name": "Python 3 (ipykernel)",
   "language": "python",
   "name": "python3"
  },
  "language_info": {
   "codemirror_mode": {
    "name": "ipython",
    "version": 3
   },
   "file_extension": ".py",
   "mimetype": "text/x-python",
   "name": "python",
   "nbconvert_exporter": "python",
   "pygments_lexer": "ipython3",
   "version": "3.10.9"
  }
 },
 "nbformat": 4,
 "nbformat_minor": 5
}
