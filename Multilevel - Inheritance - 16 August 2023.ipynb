{
 "cells": [
  {
   "cell_type": "code",
   "execution_count": 5,
   "id": "3cd67280",
   "metadata": {},
   "outputs": [
    {
     "name": "stdout",
     "output_type": "stream",
     "text": [
      "Inside Vehicle Class\n",
      "Inside Car Class\n"
     ]
    },
    {
     "ename": "AttributeError",
     "evalue": "'Car' object has no attribute 'truck_info'",
     "output_type": "error",
     "traceback": [
      "\u001b[1;31m---------------------------------------------------------------------------\u001b[0m",
      "\u001b[1;31mAttributeError\u001b[0m                            Traceback (most recent call last)",
      "Cell \u001b[1;32mIn[5], line 23\u001b[0m\n\u001b[0;32m     21\u001b[0m car\u001b[38;5;241m.\u001b[39mvehicle_info()\n\u001b[0;32m     22\u001b[0m car\u001b[38;5;241m.\u001b[39mcar_info()\n\u001b[1;32m---> 23\u001b[0m \u001b[43mcar\u001b[49m\u001b[38;5;241;43m.\u001b[39;49m\u001b[43mtruck_info\u001b[49m()\n",
      "\u001b[1;31mAttributeError\u001b[0m: 'Car' object has no attribute 'truck_info'"
     ]
    }
   ],
   "source": [
    "# Parent Class\n",
    "class Vehicle:\n",
    "    \n",
    "    def vehicle_info(self):\n",
    "        print(\"Inside Vehicle Class\")\n",
    "        \n",
    "## Child Class\n",
    "\n",
    "class Car(Vehicle):\n",
    "    \n",
    "    def car_info(self):\n",
    "        print(\"Inside Car Class\")\n",
    "        \n",
    "## Multilevel\n",
    "\n",
    "class Truck(Car):\n",
    "    def truck_info(self):\n",
    "        print(\"Inside Truck Class\")\n",
    "        \n",
    "car = Car()\n",
    "car.vehicle_info()\n",
    "car.car_info()\n",
    "car.truck_info()"
   ]
  },
  {
   "cell_type": "markdown",
   "id": "a06446cc",
   "metadata": {},
   "source": [
    "<font size = 4.5> Can the parent class ojects access the child class attributes and methods?\n",
    "    <li> NO"
   ]
  },
  {
   "cell_type": "code",
   "execution_count": 8,
   "id": "dbd30a7b",
   "metadata": {},
   "outputs": [
    {
     "name": "stdout",
     "output_type": "stream",
     "text": [
      "Benz\n",
      "Inside Vehicle Class\n",
      "Inside Car Class\n"
     ]
    },
    {
     "data": {
      "text/plain": [
       "'Benz'"
      ]
     },
     "execution_count": 8,
     "metadata": {},
     "output_type": "execute_result"
    }
   ],
   "source": [
    "# Parent Class\n",
    "class Vehicle:\n",
    "    \n",
    "    def __init__(self):\n",
    "        self.brand = \"Benz\"\n",
    "        print(self.brand)\n",
    "    \n",
    "    def vehicle_info(self):\n",
    "        print(\"Inside Vehicle Class\")\n",
    "        \n",
    "## Child Class\n",
    "\n",
    "class Car(Vehicle):\n",
    "    \n",
    "    def car_info(self):\n",
    "        print(\"Inside Car Class\")\n",
    "        \n",
    "## Multilevel\n",
    "\n",
    "class Truck(Car):\n",
    "    def truck_info(self):\n",
    "        print(\"Inside Truck Class\")\n",
    "        \n",
    "car = Car()\n",
    "car.vehicle_info()\n",
    "car.car_info()\n",
    "\n",
    "car.brand\n"
   ]
  },
  {
   "cell_type": "markdown",
   "id": "669115d0",
   "metadata": {},
   "source": [
    "<font size = 4.5> Q. Make constructors for both parent and child classes.\n",
    "    <li> Create an object of the child class. <li> Do both the constructors run?"
   ]
  },
  {
   "cell_type": "code",
   "execution_count": null,
   "id": "e4c3202d",
   "metadata": {},
   "outputs": [],
   "source": []
  },
  {
   "cell_type": "code",
   "execution_count": 11,
   "id": "a61c5df6",
   "metadata": {},
   "outputs": [
    {
     "name": "stdout",
     "output_type": "stream",
     "text": [
      "Inside Vehicle Class\n",
      "Inside Car Class\n",
      "Inside Truck Class\n"
     ]
    }
   ],
   "source": [
    "# Parent Class\n",
    "class Vehicle:\n",
    "    \n",
    "    def vehicle_info(self):\n",
    "        print(\"Inside Vehicle Class\")\n",
    "        \n",
    "## Child Class\n",
    "\n",
    "class Car(Vehicle):\n",
    "    \n",
    "    def car_info(self):\n",
    "        print(\"Inside Car Class\")\n",
    "        \n",
    "## Multilevel  -- child class\n",
    "\n",
    "class Truck(Car):\n",
    "    def truck_info(self):\n",
    "        print(\"Inside Truck Class\")\n",
    "        \n",
    "car = Car()\n",
    "car.vehicle_info()\n",
    "car.car_info()\n",
    "\n",
    "T1 = Truck()\n",
    "T1.truck_info()"
   ]
  },
  {
   "cell_type": "code",
   "execution_count": null,
   "id": "f7413038",
   "metadata": {},
   "outputs": [],
   "source": []
  },
  {
   "cell_type": "markdown",
   "id": "3e6169fa",
   "metadata": {},
   "source": [
    "<font size = 6.5> Multilevel "
   ]
  },
  {
   "cell_type": "code",
   "execution_count": 13,
   "id": "0eec03e1",
   "metadata": {},
   "outputs": [
    {
     "name": "stdout",
     "output_type": "stream",
     "text": [
      "Inside Vehicle Class\n",
      "Inside Car Class\n",
      "Inside SportsCar Class\n"
     ]
    }
   ],
   "source": [
    "# Parent Class\n",
    "class Vehicle:\n",
    "    \n",
    "    def vehicle_info(self):\n",
    "        print(\"Inside Vehicle Class\")\n",
    "        \n",
    "## Child Class\n",
    "\n",
    "class Car(Vehicle):\n",
    "    \n",
    "    def car_info(self):\n",
    "        print(\"Inside Car Class\")\n",
    "        \n",
    "## Multilevel  -- child class\n",
    "\n",
    "class SportsCar(Car):\n",
    "    def sport_car_info(self):\n",
    "        print(\"Inside SportsCar Class\")\n",
    "        \n",
    "## Create object of SprotsCar\n",
    "\n",
    "S_1 = SportsCar()\n",
    "\n",
    "## Access Vehicle's and Car's info using SportsCar object\n",
    "\n",
    "S_1.vehicle_info()\n",
    "S_1.car_info()\n",
    "S_1.sport_car_info()"
   ]
  },
  {
   "cell_type": "code",
   "execution_count": null,
   "id": "235ed2fd",
   "metadata": {},
   "outputs": [],
   "source": []
  },
  {
   "cell_type": "markdown",
   "id": "7ebd69ac",
   "metadata": {},
   "source": [
    "<font size = 6.5> Hierarchial"
   ]
  },
  {
   "cell_type": "code",
   "execution_count": 15,
   "id": "292d854e",
   "metadata": {},
   "outputs": [
    {
     "name": "stdout",
     "output_type": "stream",
     "text": [
      "Inside Vehicle Class\n"
     ]
    },
    {
     "ename": "AttributeError",
     "evalue": "'SportsCar' object has no attribute 'car_info'",
     "output_type": "error",
     "traceback": [
      "\u001b[1;31m---------------------------------------------------------------------------\u001b[0m",
      "\u001b[1;31mAttributeError\u001b[0m                            Traceback (most recent call last)",
      "Cell \u001b[1;32mIn[15], line 27\u001b[0m\n\u001b[0;32m     24\u001b[0m \u001b[38;5;66;03m## Access Vehicle's and Car's info using SportsCar object\u001b[39;00m\n\u001b[0;32m     26\u001b[0m S_1\u001b[38;5;241m.\u001b[39mvehicle_info()\n\u001b[1;32m---> 27\u001b[0m \u001b[43mS_1\u001b[49m\u001b[38;5;241;43m.\u001b[39;49m\u001b[43mcar_info\u001b[49m()  \u001b[38;5;66;03m## --> Can the parent class ojects access the child class attributes and methods?\u001b[39;00m\n\u001b[0;32m     28\u001b[0m                 \u001b[38;5;66;03m##  --> NO\u001b[39;00m\n\u001b[0;32m     29\u001b[0m S_1\u001b[38;5;241m.\u001b[39msport_car_info()\n",
      "\u001b[1;31mAttributeError\u001b[0m: 'SportsCar' object has no attribute 'car_info'"
     ]
    }
   ],
   "source": [
    "# Parent Class\n",
    "class Vehicle:\n",
    "    \n",
    "    def vehicle_info(self):\n",
    "        print(\"Inside Vehicle Class\")\n",
    "        \n",
    "## Child Class\n",
    "\n",
    "class Car(Vehicle):\n",
    "    \n",
    "    def car_info(self):\n",
    "        print(\"Inside Car Class\")\n",
    "        \n",
    "## Multilevel  -- child class\n",
    "\n",
    "class SportsCar(Vehicle):\n",
    "    def sport_car_info(self):\n",
    "        print(\"Inside SportsCar Class\")\n",
    "        \n",
    "## Create object of SprotsCar\n",
    "\n",
    "S_1 = SportsCar()\n",
    "\n",
    "## Access Vehicle's and Car's info using SportsCar object\n",
    "\n",
    "S_1.vehicle_info()\n",
    "S_1.car_info()  ## --> Can the parent class ojects access the child class attributes and methods?\n",
    "                ##  --> NO\n",
    "S_1.sport_car_info()"
   ]
  },
  {
   "cell_type": "code",
   "execution_count": null,
   "id": "7f6e4f56",
   "metadata": {},
   "outputs": [],
   "source": []
  }
 ],
 "metadata": {
  "kernelspec": {
   "display_name": "Python 3 (ipykernel)",
   "language": "python",
   "name": "python3"
  },
  "language_info": {
   "codemirror_mode": {
    "name": "ipython",
    "version": 3
   },
   "file_extension": ".py",
   "mimetype": "text/x-python",
   "name": "python",
   "nbconvert_exporter": "python",
   "pygments_lexer": "ipython3",
   "version": "3.10.9"
  }
 },
 "nbformat": 4,
 "nbformat_minor": 5
}
