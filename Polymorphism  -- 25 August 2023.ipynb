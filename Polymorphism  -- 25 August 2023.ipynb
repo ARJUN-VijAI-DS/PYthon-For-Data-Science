{
 "cells": [
  {
   "cell_type": "markdown",
   "id": "7b59c093",
   "metadata": {},
   "source": [
    "<font size = 5> The term **\"Polymorphism\"** comes from the Greek Language and means **\"Something that takes on multiple forms.\"**\n",
    "\n",
    "<font size = 4> <br> In OOPS, it refers to the ability of a method to exist in various forms (behaviours). <br><li> Poly (Many) + morph (forms) = Polymorphism"
   ]
  },
  {
   "cell_type": "code",
   "execution_count": null,
   "id": "725415ba",
   "metadata": {},
   "outputs": [],
   "source": []
  },
  {
   "cell_type": "code",
   "execution_count": null,
   "id": "bdd4ca06",
   "metadata": {},
   "outputs": [],
   "source": []
  },
  {
   "cell_type": "markdown",
   "id": "b3c8cc29",
   "metadata": {},
   "source": [
    "<font size = 5> Method Overriding <br> <Font size = 4>  Method overriding is a powerful feature that allows you to redefine a method of the parent class in the child class."
   ]
  },
  {
   "cell_type": "code",
   "execution_count": 1,
   "id": "b803f2c5",
   "metadata": {},
   "outputs": [
    {
     "name": "stdout",
     "output_type": "stream",
     "text": [
      "Aj is a Data Scientist\n"
     ]
    }
   ],
   "source": [
    "class Profession:\n",
    "    \n",
    "    def __init__(self,name,prof):\n",
    "        self.name = name\n",
    "        self.prof = prof\n",
    "        \n",
    "    def display_prof(self):\n",
    "        print(f\"{self.name} has profession {self.prof}\")\n",
    "        \n",
    "class Data_Scientist(Profession):\n",
    "    def display_prof(self):\n",
    "        print(f\"{self.name} is a Data Scientist\")\n",
    "        \n",
    "        \n",
    "x = Data_Scientist(\"Aj\", \"Data Scientist\")\n",
    "x.display_prof()"
   ]
  },
  {
   "cell_type": "code",
   "execution_count": null,
   "id": "e0163227",
   "metadata": {},
   "outputs": [],
   "source": []
  },
  {
   "cell_type": "markdown",
   "id": "4fd3d544",
   "metadata": {},
   "source": [
    "<font size = 5.5> **Method Overloading** <br> <font size = 4> Two or More methods have the same name but different numbers of parameters **within the same class.**"
   ]
  },
  {
   "cell_type": "code",
   "execution_count": 5,
   "id": "4cb807be",
   "metadata": {},
   "outputs": [
    {
     "name": "stdout",
     "output_type": "stream",
     "text": [
      "Aj has work experience of 15 years\n"
     ]
    },
    {
     "ename": "TypeError",
     "evalue": "Person.display() missing 1 required positional argument: 'new_exp'",
     "output_type": "error",
     "traceback": [
      "\u001b[1;31m---------------------------------------------------------------------------\u001b[0m",
      "\u001b[1;31mTypeError\u001b[0m                                 Traceback (most recent call last)",
      "Cell \u001b[1;32mIn[5], line 16\u001b[0m\n\u001b[0;32m     14\u001b[0m P1 \u001b[38;5;241m=\u001b[39m Person(\u001b[38;5;124m\"\u001b[39m\u001b[38;5;124mAj\u001b[39m\u001b[38;5;124m\"\u001b[39m,\u001b[38;5;241m40\u001b[39m,\u001b[38;5;241m10\u001b[39m)\n\u001b[0;32m     15\u001b[0m P1\u001b[38;5;241m.\u001b[39mdisplay(\u001b[38;5;241m15\u001b[39m)\n\u001b[1;32m---> 16\u001b[0m \u001b[43mP1\u001b[49m\u001b[38;5;241;43m.\u001b[39;49m\u001b[43mdisplay\u001b[49m\u001b[43m(\u001b[49m\u001b[43m)\u001b[49m\n",
      "\u001b[1;31mTypeError\u001b[0m: Person.display() missing 1 required positional argument: 'new_exp'"
     ]
    }
   ],
   "source": [
    "class Person:\n",
    "    def __init__(self,name,age,exp):\n",
    "        self.name = name\n",
    "        self.age = age\n",
    "        self.exp = exp\n",
    "        \n",
    "    def display(self):\n",
    "        print(f\"{self.name} has work experience of {self.exp} years\")\n",
    "        \n",
    "    def display(self,new_exp):\n",
    "        self.exp = new_exp\n",
    "        print(f\"{self.name} has work experience of {self.exp} years\")\n",
    "        \n",
    "P1 = Person(\"Aj\",40,10)\n",
    "P1.display(15)\n",
    "P1.display()"
   ]
  },
  {
   "cell_type": "code",
   "execution_count": 7,
   "id": "6608af96",
   "metadata": {},
   "outputs": [
    {
     "name": "stdout",
     "output_type": "stream",
     "text": [
      "Aj has work experience of 10 years\n",
      "Aj has work experience of 15 years\n"
     ]
    },
    {
     "ename": "NameError",
     "evalue": "name 'self' is not defined",
     "output_type": "error",
     "traceback": [
      "\u001b[1;31m---------------------------------------------------------------------------\u001b[0m",
      "\u001b[1;31mNameError\u001b[0m                                 Traceback (most recent call last)",
      "Cell \u001b[1;32mIn[7], line 18\u001b[0m\n\u001b[0;32m     16\u001b[0m P1\u001b[38;5;241m.\u001b[39mdisplay()\n\u001b[0;32m     17\u001b[0m P1\u001b[38;5;241m.\u001b[39mdisplay(\u001b[38;5;241m15\u001b[39m)\n\u001b[1;32m---> 18\u001b[0m \u001b[38;5;28;43mself\u001b[39;49m\u001b[38;5;241m.\u001b[39mdisplay()\n",
      "\u001b[1;31mNameError\u001b[0m: name 'self' is not defined"
     ]
    }
   ],
   "source": [
    "class Person:\n",
    "    def __init__(self,name,age,exp):\n",
    "        self.name = name\n",
    "        self.age = age\n",
    "        self.exp = exp\n",
    "        \n",
    "            \n",
    "    def display(self,new_exp = None):\n",
    "        if new_exp != None:\n",
    "            self.exp = new_exp\n",
    "            print(f\"{self.name} has work experience of {self.exp} years\")\n",
    "        else:\n",
    "            print(f\"{self.name} has work experience of {self.exp} years\")\n",
    "                \n",
    "P1 = Person(\"Aj\",40,10)\n",
    "P1.display()\n",
    "P1.display(15)\n",
    "self.display()   ###  ---> Reason of Error -- Scope of \"self is Local (instance method)--self in not Global it is \n",
    "## defined in the class or method only \" "
   ]
  },
  {
   "cell_type": "code",
   "execution_count": 16,
   "id": "d09a8027",
   "metadata": {},
   "outputs": [
    {
     "name": "stdout",
     "output_type": "stream",
     "text": [
      "Aj has work experience of 10 years\n",
      "Aj has work experience of 15 years\n",
      "SS has work experience of 3 years\n",
      "SS has work experience of 5 years\n"
     ]
    }
   ],
   "source": [
    "class Person:\n",
    "    def __init__(self,name,age,exp):\n",
    "        self.name = name\n",
    "        self.age = age\n",
    "        self.exp = exp\n",
    "        \n",
    "            \n",
    "    def display(self,new_exp = None):\n",
    "        if new_exp != None:\n",
    "            self.exp = new_exp\n",
    "            print(f\"{self.name} has work experience of {self.exp} years\")\n",
    "        else:\n",
    "            print(f\"{self.name} has work experience of {self.exp} years\")\n",
    "                \n",
    "P1 = Person(\"Aj\",40,10)\n",
    "P1.display()\n",
    "P1.display(15)\n",
    "P2 = Person(\"SS\",35,3)\n",
    "\n",
    "## Important   \"class\".\"method\".\"object\"\n",
    "Person.display(P2)\n",
    "\n",
    "Person.display(P2,5)  ## --->\"Important\" "
   ]
  },
  {
   "cell_type": "markdown",
   "id": "3c62f853",
   "metadata": {},
   "source": [
    "<font size = 5.5> **Important   \"class\".\"method\".\"object\"**"
   ]
  },
  {
   "cell_type": "code",
   "execution_count": 14,
   "id": "6805d698",
   "metadata": {},
   "outputs": [
    {
     "ename": "TypeError",
     "evalue": "unsupported operand type(s) for +: 'Person' and 'Person'",
     "output_type": "error",
     "traceback": [
      "\u001b[1;31m---------------------------------------------------------------------------\u001b[0m",
      "\u001b[1;31mTypeError\u001b[0m                                 Traceback (most recent call last)",
      "Cell \u001b[1;32mIn[14], line 1\u001b[0m\n\u001b[1;32m----> 1\u001b[0m \u001b[43mP1\u001b[49m\u001b[43m \u001b[49m\u001b[38;5;241;43m+\u001b[39;49m\u001b[43m \u001b[49m\u001b[43mP2\u001b[49m\n",
      "\u001b[1;31mTypeError\u001b[0m: unsupported operand type(s) for +: 'Person' and 'Person'"
     ]
    }
   ],
   "source": [
    "P1 + P2"
   ]
  },
  {
   "cell_type": "code",
   "execution_count": null,
   "id": "55d2aabe",
   "metadata": {},
   "outputs": [],
   "source": []
  },
  {
   "cell_type": "code",
   "execution_count": 19,
   "id": "a795d5a8",
   "metadata": {},
   "outputs": [
    {
     "name": "stdout",
     "output_type": "stream",
     "text": [
      "SS has work experience of 3 years\n",
      "SS has work experience of 5 years\n"
     ]
    }
   ],
   "source": [
    "class Person:\n",
    "    def __init__(self,name,age,exp):\n",
    "        self.name = name\n",
    "        self.age = age\n",
    "        self.exp = exp\n",
    "        \n",
    "            \n",
    "    def display(self,new_exp = None):\n",
    "        if new_exp != None:\n",
    "            self.exp = new_exp\n",
    "            print(f\"{self.name} has work experience of {self.exp} years\")\n",
    "        else:\n",
    "            print(f\"{self.name} has work experience of {self.exp} years\")\n",
    "                \n",
    "P1 = Person(\"Aj\",40,10)\n",
    "\n",
    "P2 = Person(\"SS\",35,3)\n",
    "\n",
    "## Important   \"class\".\"method\".\"object\"\n",
    "Person.display(P2)\n",
    "\n",
    "Person.display(P2,5)  ## --->\"Important\" \n",
    "\n",
    "## classname.method_name(self,  ,  ,  ,  ,  ,....)   --- >  \"IMPORTANT\""
   ]
  },
  {
   "cell_type": "code",
   "execution_count": 18,
   "id": "a91993d5",
   "metadata": {},
   "outputs": [
    {
     "data": {
      "text/plain": [
       "0.24"
      ]
     },
     "execution_count": 18,
     "metadata": {},
     "output_type": "execute_result"
    }
   ],
   "source": [
    "int.__truediv__(12,50)"
   ]
  },
  {
   "cell_type": "code",
   "execution_count": 9,
   "id": "f850893f",
   "metadata": {},
   "outputs": [
    {
     "data": {
      "text/plain": [
       "67"
      ]
     },
     "execution_count": 9,
     "metadata": {},
     "output_type": "execute_result"
    }
   ],
   "source": [
    "12+55"
   ]
  },
  {
   "cell_type": "code",
   "execution_count": 11,
   "id": "0c204ccd",
   "metadata": {},
   "outputs": [
    {
     "data": {
      "text/plain": [
       "'Data Scientist'"
      ]
     },
     "execution_count": 11,
     "metadata": {},
     "output_type": "execute_result"
    }
   ],
   "source": [
    "\"Data\" + \" Scientist\""
   ]
  },
  {
   "cell_type": "code",
   "execution_count": 12,
   "id": "7844fa20",
   "metadata": {},
   "outputs": [
    {
     "data": {
      "text/plain": [
       "[1, 2, 3, 4, 'Aj']"
      ]
     },
     "execution_count": 12,
     "metadata": {},
     "output_type": "execute_result"
    }
   ],
   "source": [
    "[1,2,3,4] + [\"Aj\"]"
   ]
  },
  {
   "cell_type": "code",
   "execution_count": null,
   "id": "78fe4afc",
   "metadata": {},
   "outputs": [],
   "source": []
  },
  {
   "cell_type": "code",
   "execution_count": null,
   "id": "4b0feaf5",
   "metadata": {},
   "outputs": [],
   "source": []
  },
  {
   "cell_type": "code",
   "execution_count": null,
   "id": "0f14caab",
   "metadata": {},
   "outputs": [],
   "source": []
  },
  {
   "cell_type": "code",
   "execution_count": null,
   "id": "1443c994",
   "metadata": {},
   "outputs": [],
   "source": []
  }
 ],
 "metadata": {
  "kernelspec": {
   "display_name": "Python 3 (ipykernel)",
   "language": "python",
   "name": "python3"
  },
  "language_info": {
   "codemirror_mode": {
    "name": "ipython",
    "version": 3
   },
   "file_extension": ".py",
   "mimetype": "text/x-python",
   "name": "python",
   "nbconvert_exporter": "python",
   "pygments_lexer": "ipython3",
   "version": "3.10.9"
  }
 },
 "nbformat": 4,
 "nbformat_minor": 5
}
