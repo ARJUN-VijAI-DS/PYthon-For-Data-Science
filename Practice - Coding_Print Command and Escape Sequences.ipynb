{
 "cells": [
  {
   "cell_type": "code",
   "execution_count": 1,
   "id": "fce22890",
   "metadata": {},
   "outputs": [
    {
     "name": "stdout",
     "output_type": "stream",
     "text": [
      "22\n"
     ]
    }
   ],
   "source": [
    "print(22)"
   ]
  },
  {
   "cell_type": "code",
   "execution_count": 2,
   "id": "c53cb234",
   "metadata": {},
   "outputs": [
    {
     "name": "stdout",
     "output_type": "stream",
     "text": [
      "aj\n"
     ]
    }
   ],
   "source": [
    "print('aj')"
   ]
  },
  {
   "cell_type": "code",
   "execution_count": 3,
   "id": "ea20ebcb",
   "metadata": {},
   "outputs": [
    {
     "name": "stdout",
     "output_type": "stream",
     "text": [
      "/\n"
     ]
    }
   ],
   "source": [
    "print('/')"
   ]
  },
  {
   "cell_type": "code",
   "execution_count": 4,
   "id": "4dd6f660",
   "metadata": {},
   "outputs": [
    {
     "ename": "SyntaxError",
     "evalue": "unexpected character after line continuation character (302496029.py, line 1)",
     "output_type": "error",
     "traceback": [
      "\u001b[1;36m  Cell \u001b[1;32mIn[4], line 1\u001b[1;36m\u001b[0m\n\u001b[1;33m    print(\\\\)\u001b[0m\n\u001b[1;37m           ^\u001b[0m\n\u001b[1;31mSyntaxError\u001b[0m\u001b[1;31m:\u001b[0m unexpected character after line continuation character\n"
     ]
    }
   ],
   "source": [
    "print(\\\\)"
   ]
  },
  {
   "cell_type": "code",
   "execution_count": 5,
   "id": "25839b2f",
   "metadata": {},
   "outputs": [
    {
     "name": "stdout",
     "output_type": "stream",
     "text": [
      "\\\n"
     ]
    }
   ],
   "source": [
    "print('\\\\')"
   ]
  },
  {
   "cell_type": "code",
   "execution_count": 6,
   "id": "2e6e8a68",
   "metadata": {},
   "outputs": [
    {
     "name": "stdout",
     "output_type": "stream",
     "text": [
      "\n",
      "\n"
     ]
    }
   ],
   "source": [
    "print('\\n')"
   ]
  },
  {
   "cell_type": "code",
   "execution_count": 7,
   "id": "28fc0ccf",
   "metadata": {},
   "outputs": [
    {
     "ename": "SyntaxError",
     "evalue": "unterminated string literal (detected at line 1) (748355843.py, line 1)",
     "output_type": "error",
     "traceback": [
      "\u001b[1;36m  Cell \u001b[1;32mIn[7], line 1\u001b[1;36m\u001b[0m\n\u001b[1;33m    print('\\\\n'')\u001b[0m\n\u001b[1;37m               ^\u001b[0m\n\u001b[1;31mSyntaxError\u001b[0m\u001b[1;31m:\u001b[0m unterminated string literal (detected at line 1)\n"
     ]
    }
   ],
   "source": [
    "print('\\\\n'')"
   ]
  },
  {
   "cell_type": "code",
   "execution_count": 8,
   "id": "7a0c28d0",
   "metadata": {},
   "outputs": [
    {
     "name": "stdout",
     "output_type": "stream",
     "text": [
      "\\n'\n"
     ]
    }
   ],
   "source": [
    "print(\"\\\\n'\")"
   ]
  },
  {
   "cell_type": "code",
   "execution_count": 9,
   "id": "6cf2bb22",
   "metadata": {},
   "outputs": [
    {
     "name": "stdout",
     "output_type": "stream",
     "text": [
      "\\n\n"
     ]
    }
   ],
   "source": [
    "print(\"\\\\n\")"
   ]
  },
  {
   "cell_type": "code",
   "execution_count": 1,
   "id": "2506eabd",
   "metadata": {},
   "outputs": [
    {
     "name": "stdout",
     "output_type": "stream",
     "text": [
      "\\b\t\r\n"
     ]
    }
   ],
   "source": [
    "print(\"\\\\b\\t\\r\")           # point to discuss"
   ]
  },
  {
   "cell_type": "code",
   "execution_count": 11,
   "id": "cba176b4",
   "metadata": {},
   "outputs": [
    {
     "name": "stdout",
     "output_type": "stream",
     "text": [
      "\n",
      "aj\n"
     ]
    }
   ],
   "source": [
    "print(\"\\naj\")"
   ]
  },
  {
   "cell_type": "code",
   "execution_count": 12,
   "id": "20463373",
   "metadata": {},
   "outputs": [
    {
     "name": "stdout",
     "output_type": "stream",
     "text": [
      "Scientist\n"
     ]
    }
   ],
   "source": [
    "print(\"Scientist\")"
   ]
  },
  {
   "cell_type": "code",
   "execution_count": 13,
   "id": "7887e8ac",
   "metadata": {},
   "outputs": [
    {
     "name": "stdout",
     "output_type": "stream",
     "text": [
      "\\n-AJ\n"
     ]
    }
   ],
   "source": [
    "print(\"\\\\n-AJ\")"
   ]
  },
  {
   "cell_type": "code",
   "execution_count": 14,
   "id": "a12ecc2d",
   "metadata": {},
   "outputs": [
    {
     "name": "stdout",
     "output_type": "stream",
     "text": [
      "true\n"
     ]
    }
   ],
   "source": [
    "print(\"true\")"
   ]
  },
  {
   "cell_type": "code",
   "execution_count": 15,
   "id": "193d5d3b",
   "metadata": {},
   "outputs": [
    {
     "ename": "NameError",
     "evalue": "name 'Print' is not defined",
     "output_type": "error",
     "traceback": [
      "\u001b[1;31m---------------------------------------------------------------------------\u001b[0m",
      "\u001b[1;31mNameError\u001b[0m                                 Traceback (most recent call last)",
      "Cell \u001b[1;32mIn[15], line 1\u001b[0m\n\u001b[1;32m----> 1\u001b[0m \u001b[43mPrint\u001b[49m(\u001b[38;5;124m\"\u001b[39m\u001b[38;5;124mtrue\u001b[39m\u001b[38;5;124m\"\u001b[39m)\n",
      "\u001b[1;31mNameError\u001b[0m: name 'Print' is not defined"
     ]
    }
   ],
   "source": [
    "Print(\"true\")              # Python is case sensitive language"
   ]
  },
  {
   "cell_type": "code",
   "execution_count": 16,
   "id": "70049528",
   "metadata": {},
   "outputs": [
    {
     "name": "stdout",
     "output_type": "stream",
     "text": [
      "'Python'\n"
     ]
    }
   ],
   "source": [
    "print(\"\\'Python'\")        #    Use of \\''"
   ]
  },
  {
   "cell_type": "code",
   "execution_count": 17,
   "id": "21294046",
   "metadata": {},
   "outputs": [
    {
     "name": "stdout",
     "output_type": "stream",
     "text": [
      "'I am a learner'\n"
     ]
    }
   ],
   "source": [
    "print(\"\\'I am a learner'\")"
   ]
  },
  {
   "cell_type": "code",
   "execution_count": 18,
   "id": "df208dba",
   "metadata": {},
   "outputs": [
    {
     "name": "stdout",
     "output_type": "stream",
     "text": [
      "'I am a learner\n"
     ]
    }
   ],
   "source": [
    "print('\\'I am a learner')"
   ]
  },
  {
   "cell_type": "code",
   "execution_count": 19,
   "id": "98cc0e49",
   "metadata": {},
   "outputs": [
    {
     "ename": "SyntaxError",
     "evalue": "unterminated string literal (detected at line 1) (1311962687.py, line 1)",
     "output_type": "error",
     "traceback": [
      "\u001b[1;36m  Cell \u001b[1;32mIn[19], line 1\u001b[1;36m\u001b[0m\n\u001b[1;33m    print('\\'I am a learner'')\u001b[0m\n\u001b[1;37m                            ^\u001b[0m\n\u001b[1;31mSyntaxError\u001b[0m\u001b[1;31m:\u001b[0m unterminated string literal (detected at line 1)\n"
     ]
    }
   ],
   "source": [
    "print('\\'I am a learner'')"
   ]
  },
  {
   "cell_type": "code",
   "execution_count": 20,
   "id": "232cbe6f",
   "metadata": {},
   "outputs": [
    {
     "ename": "SyntaxError",
     "evalue": "unexpected character after line continuation character (1720043865.py, line 1)",
     "output_type": "error",
     "traceback": [
      "\u001b[1;36m  Cell \u001b[1;32mIn[20], line 1\u001b[1;36m\u001b[0m\n\u001b[1;33m    print(\"\"\\'I am a learner'\")\u001b[0m\n\u001b[1;37m             ^\u001b[0m\n\u001b[1;31mSyntaxError\u001b[0m\u001b[1;31m:\u001b[0m unexpected character after line continuation character\n"
     ]
    }
   ],
   "source": [
    "print(\"\"\\'I am a learner'\")      # typing error - blunder"
   ]
  },
  {
   "cell_type": "code",
   "execution_count": 21,
   "id": "3ab9e148",
   "metadata": {},
   "outputs": [
    {
     "name": "stdout",
     "output_type": "stream",
     "text": [
      "'I am a learner'\n"
     ]
    }
   ],
   "source": [
    "print(\"\\'I am a learner'\")"
   ]
  },
  {
   "cell_type": "code",
   "execution_count": 22,
   "id": "bb2c9ed4",
   "metadata": {},
   "outputs": [
    {
     "name": "stdout",
     "output_type": "stream",
     "text": [
      "\\PYTHON\n"
     ]
    }
   ],
   "source": [
    "print('\\PYTHON')             # string"
   ]
  },
  {
   "cell_type": "code",
   "execution_count": 23,
   "id": "eec5f9a3",
   "metadata": {},
   "outputs": [
    {
     "name": "stdout",
     "output_type": "stream",
     "text": [
      "\\PYTHON\n"
     ]
    }
   ],
   "source": [
    "print('\\\\PYTHON')"
   ]
  },
  {
   "cell_type": "code",
   "execution_count": 24,
   "id": "7e9c7f4d",
   "metadata": {},
   "outputs": [
    {
     "ename": "SyntaxError",
     "evalue": "unterminated string literal (detected at line 1) (4052409844.py, line 1)",
     "output_type": "error",
     "traceback": [
      "\u001b[1;36m  Cell \u001b[1;32mIn[24], line 1\u001b[1;36m\u001b[0m\n\u001b[1;33m    print('\\\\PYTHON'')\u001b[0m\n\u001b[1;37m                    ^\u001b[0m\n\u001b[1;31mSyntaxError\u001b[0m\u001b[1;31m:\u001b[0m unterminated string literal (detected at line 1)\n"
     ]
    }
   ],
   "source": [
    "print('\\\\PYTHON'')"
   ]
  },
  {
   "cell_type": "code",
   "execution_count": 25,
   "id": "cf0a74f8",
   "metadata": {},
   "outputs": [
    {
     "name": "stdout",
     "output_type": "stream",
     "text": [
      "\\PYTHON\n"
     ]
    }
   ],
   "source": [
    "print('\\\\PYTHON')        # line continuation character"
   ]
  },
  {
   "cell_type": "code",
   "execution_count": 26,
   "id": "9845e143",
   "metadata": {},
   "outputs": [
    {
     "name": "stdout",
     "output_type": "stream",
     "text": [
      "\\n\n"
     ]
    }
   ],
   "source": [
    "print('\\\\n')"
   ]
  },
  {
   "cell_type": "code",
   "execution_count": 27,
   "id": "615ee2b1",
   "metadata": {},
   "outputs": [
    {
     "name": "stdout",
     "output_type": "stream",
     "text": [
      "Python\b\n"
     ]
    }
   ],
   "source": [
    "print('Python\\b')        # \\b -- uses"
   ]
  },
  {
   "cell_type": "code",
   "execution_count": 28,
   "id": "042afec7",
   "metadata": {},
   "outputs": [
    {
     "name": "stdout",
     "output_type": "stream",
     "text": [
      "Python\b\b\n"
     ]
    }
   ],
   "source": [
    "print('Python\\b\\b')"
   ]
  },
  {
   "cell_type": "code",
   "execution_count": 29,
   "id": "987cf1b3",
   "metadata": {},
   "outputs": [
    {
     "name": "stdout",
     "output_type": "stream",
     "text": [
      "Python\b\b\b\n"
     ]
    }
   ],
   "source": [
    "print('Python\\b\\b\\b')          # \\b -- even and odd usage"
   ]
  },
  {
   "cell_type": "code",
   "execution_count": 30,
   "id": "318d5e28",
   "metadata": {},
   "outputs": [
    {
     "name": "stdout",
     "output_type": "stream",
     "text": [
      "Python\b \tPython\n"
     ]
    }
   ],
   "source": [
    "print('Python\\b \\tPython')     # \\t  -- tab(four spaces)"
   ]
  },
  {
   "cell_type": "code",
   "execution_count": 31,
   "id": "c1144ee5",
   "metadata": {},
   "outputs": [
    {
     "name": "stdout",
     "output_type": "stream",
     "text": [
      "Python\b \t\tPython\n"
     ]
    }
   ],
   "source": [
    "print('Python\\b \\t\\tPython')"
   ]
  },
  {
   "cell_type": "code",
   "execution_count": 32,
   "id": "9008d306",
   "metadata": {},
   "outputs": [
    {
     "name": "stdout",
     "output_type": "stream",
     "text": [
      "Python\b \t\tPython \t\t\tPython\n"
     ]
    }
   ],
   "source": [
    "print('Python\\b \\t\\tPython \\t\\t\\tPython')"
   ]
  },
  {
   "cell_type": "code",
   "execution_count": 33,
   "id": "bd6d2521",
   "metadata": {},
   "outputs": [
    {
     "name": "stdout",
     "output_type": "stream",
     "text": [
      "I am learning to focus\n"
     ]
    }
   ],
   "source": [
    "print(\"I am learning to focus\")"
   ]
  },
  {
   "cell_type": "code",
   "execution_count": 34,
   "id": "5f044e1b",
   "metadata": {},
   "outputs": [
    {
     "name": "stdout",
     "output_type": "stream",
     "text": [
      "focus\tfocus\t\tfocus\n"
     ]
    }
   ],
   "source": [
    "print('focus\\tfocus\\t\\tfocus')"
   ]
  },
  {
   "cell_type": "code",
   "execution_count": 35,
   "id": "66529c81",
   "metadata": {},
   "outputs": [
    {
     "name": "stdout",
     "output_type": "stream",
     "text": [
      "Hello \r",
      " Namaste\r",
      " Jaithakur\n"
     ]
    }
   ],
   "source": [
    "print('Hello \\r Namaste\\r Jaithakur')"
   ]
  },
  {
   "cell_type": "code",
   "execution_count": null,
   "id": "6cc9c366",
   "metadata": {},
   "outputs": [],
   "source": []
  }
 ],
 "metadata": {
  "kernelspec": {
   "display_name": "Python 3 (ipykernel)",
   "language": "python",
   "name": "python3"
  },
  "language_info": {
   "codemirror_mode": {
    "name": "ipython",
    "version": 3
   },
   "file_extension": ".py",
   "mimetype": "text/x-python",
   "name": "python",
   "nbconvert_exporter": "python",
   "pygments_lexer": "ipython3",
   "version": "3.10.9"
  }
 },
 "nbformat": 4,
 "nbformat_minor": 5
}
