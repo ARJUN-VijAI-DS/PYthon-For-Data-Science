{
 "cells": [
  {
   "cell_type": "code",
   "execution_count": 1,
   "id": "5aed6fd8",
   "metadata": {},
   "outputs": [
    {
     "name": "stdout",
     "output_type": "stream",
     "text": [
      "ArjunGupta\n"
     ]
    }
   ],
   "source": [
    "print('Arjun'                            'Gupta')  # Here empty space is IGNORED!"
   ]
  },
  {
   "cell_type": "code",
   "execution_count": 2,
   "id": "44273ba3",
   "metadata": {},
   "outputs": [
    {
     "name": "stdout",
     "output_type": "stream",
     "text": [
      "Arjun                       Gupta\n"
     ]
    }
   ],
   "source": [
    "print('Arjun                       Gupta')         # Here empty space is CONSIDERED!"
   ]
  },
  {
   "cell_type": "code",
   "execution_count": 3,
   "id": "b041c7c1",
   "metadata": {},
   "outputs": [
    {
     "data": {
      "text/plain": [
       "'I am Data Scientist'"
      ]
     },
     "execution_count": 3,
     "metadata": {},
     "output_type": "execute_result"
    }
   ],
   "source": [
    "\"\"\"I am Data Scientist\"\"\"                         # Doc string "
   ]
  },
  {
   "cell_type": "code",
   "execution_count": 6,
   "id": "baaae5c1",
   "metadata": {},
   "outputs": [
    {
     "data": {
      "text/plain": [
       "2"
      ]
     },
     "execution_count": 6,
     "metadata": {},
     "output_type": "execute_result"
    }
   ],
   "source": [
    "10//4                                             # '//'    floor division -- ONLY give us Quotient."
   ]
  },
  {
   "cell_type": "code",
   "execution_count": 5,
   "id": "25c57388",
   "metadata": {},
   "outputs": [
    {
     "data": {
      "text/plain": [
       "1"
      ]
     },
     "execution_count": 5,
     "metadata": {},
     "output_type": "execute_result"
    }
   ],
   "source": [
    "5%4                                               # '%'    Modulous -- ONLY gives us remainder."
   ]
  },
  {
   "cell_type": "code",
   "execution_count": null,
   "id": "dde2d7eb",
   "metadata": {},
   "outputs": [],
   "source": []
  },
  {
   "cell_type": "code",
   "execution_count": 8,
   "id": "3674c5d5",
   "metadata": {},
   "outputs": [
    {
     "data": {
      "text/plain": [
       "10000000000"
      ]
     },
     "execution_count": 8,
     "metadata": {},
     "output_type": "execute_result"
    }
   ],
   "source": [
    "10**10                                            # '**' - Power"
   ]
  },
  {
   "cell_type": "code",
   "execution_count": 9,
   "id": "99b7da5b",
   "metadata": {},
   "outputs": [
    {
     "data": {
      "text/plain": [
       "int"
      ]
     },
     "execution_count": 9,
     "metadata": {},
     "output_type": "execute_result"
    }
   ],
   "source": [
    "type(100)                                        # type function  --- it tells the type of the FUNCTION."
   ]
  },
  {
   "cell_type": "code",
   "execution_count": 10,
   "id": "3c1a41b2",
   "metadata": {},
   "outputs": [
    {
     "data": {
      "text/plain": [
       "complex"
      ]
     },
     "execution_count": 10,
     "metadata": {},
     "output_type": "execute_result"
    }
   ],
   "source": [
    "type(55 + 55j)"
   ]
  },
  {
   "cell_type": "code",
   "execution_count": 11,
   "id": "c6d2ef70",
   "metadata": {},
   "outputs": [
    {
     "ename": "SyntaxError",
     "evalue": "invalid syntax. Perhaps you forgot a comma? (3023273333.py, line 1)",
     "output_type": "error",
     "traceback": [
      "\u001b[1;36m  Cell \u001b[1;32mIn[11], line 1\u001b[1;36m\u001b[0m\n\u001b[1;33m    type(I am Data Scientist)\u001b[0m\n\u001b[1;37m         ^\u001b[0m\n\u001b[1;31mSyntaxError\u001b[0m\u001b[1;31m:\u001b[0m invalid syntax. Perhaps you forgot a comma?\n"
     ]
    }
   ],
   "source": [
    "type(I am Data Scientist)                   # quotations are MISSING!"
   ]
  },
  {
   "cell_type": "code",
   "execution_count": 12,
   "id": "2392daba",
   "metadata": {},
   "outputs": [
    {
     "data": {
      "text/plain": [
       "str"
      ]
     },
     "execution_count": 12,
     "metadata": {},
     "output_type": "execute_result"
    }
   ],
   "source": [
    "type('I am Data Scientist')"
   ]
  },
  {
   "cell_type": "code",
   "execution_count": 14,
   "id": "d105704f",
   "metadata": {},
   "outputs": [
    {
     "ename": "NameError",
     "evalue": "name 'Type' is not defined",
     "output_type": "error",
     "traceback": [
      "\u001b[1;31m---------------------------------------------------------------------------\u001b[0m",
      "\u001b[1;31mNameError\u001b[0m                                 Traceback (most recent call last)",
      "Cell \u001b[1;32mIn[14], line 1\u001b[0m\n\u001b[1;32m----> 1\u001b[0m \u001b[43mType\u001b[49m(\u001b[38;5;124m'\u001b[39m\u001b[38;5;124mI am Data Scientist\u001b[39m\u001b[38;5;124m'\u001b[39m)\n",
      "\u001b[1;31mNameError\u001b[0m: name 'Type' is not defined"
     ]
    }
   ],
   "source": [
    "Type('I am Data Scientist')                 # Python is a CASE SENSITIVE language."
   ]
  },
  {
   "cell_type": "code",
   "execution_count": 15,
   "id": "a891c602",
   "metadata": {},
   "outputs": [
    {
     "data": {
      "text/plain": [
       "345"
      ]
     },
     "execution_count": 15,
     "metadata": {},
     "output_type": "execute_result"
    }
   ],
   "source": [
    "int(345.33)                                # Type Casting"
   ]
  },
  {
   "cell_type": "code",
   "execution_count": 16,
   "id": "2d595777",
   "metadata": {},
   "outputs": [
    {
     "data": {
      "text/plain": [
       "(55+0j)"
      ]
     },
     "execution_count": 16,
     "metadata": {},
     "output_type": "execute_result"
    }
   ],
   "source": [
    "complex(50 + 5)                            # Type Casting"
   ]
  },
  {
   "cell_type": "code",
   "execution_count": 17,
   "id": "fe068cf2",
   "metadata": {},
   "outputs": [
    {
     "ename": "SyntaxError",
     "evalue": "invalid decimal literal (3950327023.py, line 1)",
     "output_type": "error",
     "traceback": [
      "\u001b[1;36m  Cell \u001b[1;32mIn[17], line 1\u001b[1;36m\u001b[0m\n\u001b[1;33m    str(55__ 55 abc)\u001b[0m\n\u001b[1;37m          ^\u001b[0m\n\u001b[1;31mSyntaxError\u001b[0m\u001b[1;31m:\u001b[0m invalid decimal literal\n"
     ]
    }
   ],
   "source": [
    "str(55__ 55 abc)                           # Error not properly DEFINED - quotations were MISSING!"
   ]
  },
  {
   "cell_type": "code",
   "execution_count": 1,
   "id": "6988b096",
   "metadata": {},
   "outputs": [
    {
     "data": {
      "text/plain": [
       "'55__ 55 abc'"
      ]
     },
     "execution_count": 1,
     "metadata": {},
     "output_type": "execute_result"
    }
   ],
   "source": [
    "str('55__ 55 abc')"
   ]
  },
  {
   "cell_type": "code",
   "execution_count": 19,
   "id": "286aa918",
   "metadata": {},
   "outputs": [
    {
     "ename": "NameError",
     "evalue": "name 'Data' is not defined",
     "output_type": "error",
     "traceback": [
      "\u001b[1;31m---------------------------------------------------------------------------\u001b[0m",
      "\u001b[1;31mNameError\u001b[0m                                 Traceback (most recent call last)",
      "Cell \u001b[1;32mIn[19], line 1\u001b[0m\n\u001b[1;32m----> 1\u001b[0m \u001b[38;5;28mstr\u001b[39m(\u001b[43mData\u001b[49m\u001b[38;5;241m-\u001b[39mScientist)\n",
      "\u001b[1;31mNameError\u001b[0m: name 'Data' is not defined"
     ]
    }
   ],
   "source": [
    "str(Data-Scientist)"
   ]
  },
  {
   "cell_type": "code",
   "execution_count": 2,
   "id": "3b9b264c",
   "metadata": {},
   "outputs": [
    {
     "data": {
      "text/plain": [
       "'Data-Scientist'"
      ]
     },
     "execution_count": 2,
     "metadata": {},
     "output_type": "execute_result"
    }
   ],
   "source": [
    "str('Data-Scientist')"
   ]
  },
  {
   "cell_type": "code",
   "execution_count": 20,
   "id": "b83f7f56",
   "metadata": {},
   "outputs": [
    {
     "ename": "TypeError",
     "evalue": "float() argument must be a string or a real number, not 'complex'",
     "output_type": "error",
     "traceback": [
      "\u001b[1;31m---------------------------------------------------------------------------\u001b[0m",
      "\u001b[1;31mTypeError\u001b[0m                                 Traceback (most recent call last)",
      "Cell \u001b[1;32mIn[20], line 1\u001b[0m\n\u001b[1;32m----> 1\u001b[0m \u001b[38;5;28;43mfloat\u001b[39;49m\u001b[43m(\u001b[49m\u001b[38;5;241;43m33\u001b[39;49m\u001b[43mj\u001b[49m\u001b[43m)\u001b[49m\n",
      "\u001b[1;31mTypeError\u001b[0m: float() argument must be a string or a real number, not 'complex'"
     ]
    }
   ],
   "source": [
    "float(33j)                      # complex data type cannot be converted to float "
   ]
  },
  {
   "cell_type": "code",
   "execution_count": 21,
   "id": "1cb469ec",
   "metadata": {},
   "outputs": [
    {
     "data": {
      "text/plain": [
       "True"
      ]
     },
     "execution_count": 21,
     "metadata": {},
     "output_type": "execute_result"
    }
   ],
   "source": [
    "bool('I am Data Scientist')     # Boolean -- ONLY 0 gives False --- Except 0 Everything is True"
   ]
  },
  {
   "cell_type": "code",
   "execution_count": 22,
   "id": "e5de5a9a",
   "metadata": {},
   "outputs": [
    {
     "data": {
      "text/plain": [
       "True"
      ]
     },
     "execution_count": 22,
     "metadata": {},
     "output_type": "execute_result"
    }
   ],
   "source": [
    "bool('0')                       # It is a string NOT  --- 0"
   ]
  },
  {
   "cell_type": "markdown",
   "id": "5d7c793e",
   "metadata": {},
   "source": [
    "Variables rules\n",
    "\n",
    " --- A variable name must start with an alphabet OR an UNDERSCORE.\n",
    " \n",
    " --- Cannot Start with a  number or any special character.\n",
    " \n",
    " --- Can ONLY contain alphabets, number and underscore.\n",
    " \n",
    " --- It is CASE SENSITIVE.\n",
    " \n",
    " --- Keywords cannot be used as variable names. example -- class, for, True, False....\n",
    " \n",
    " "
   ]
  },
  {
   "cell_type": "code",
   "execution_count": 26,
   "id": "24f1462d",
   "metadata": {},
   "outputs": [],
   "source": [
    "___1982 = 567\n"
   ]
  },
  {
   "cell_type": "code",
   "execution_count": 4,
   "id": "4c70f822",
   "metadata": {},
   "outputs": [
    {
     "ename": "SyntaxError",
     "evalue": "unterminated string literal (detected at line 1) (3961926585.py, line 1)",
     "output_type": "error",
     "traceback": [
      "\u001b[1;36m  Cell \u001b[1;32mIn[4], line 1\u001b[1;36m\u001b[0m\n\u001b[1;33m    print('I am \\'Data Scientist\\')\u001b[0m\n\u001b[1;37m          ^\u001b[0m\n\u001b[1;31mSyntaxError\u001b[0m\u001b[1;31m:\u001b[0m unterminated string literal (detected at line 1)\n"
     ]
    }
   ],
   "source": [
    "print('I am \\'Data Scientist\\')         ## quotation Marks! are MISSING! "
   ]
  },
  {
   "cell_type": "code",
   "execution_count": 28,
   "id": "eaba9b4d",
   "metadata": {},
   "outputs": [
    {
     "name": "stdout",
     "output_type": "stream",
     "text": [
      "I am 'Data Scientist'\n"
     ]
    }
   ],
   "source": [
    "print('I am \\'Data Scientist\\'')        # --- \\'   It will give us SINGLE QUOTE"
   ]
  },
  {
   "cell_type": "code",
   "execution_count": 29,
   "id": "873058d9",
   "metadata": {},
   "outputs": [
    {
     "name": "stdout",
     "output_type": "stream",
     "text": [
      "I am \t 'Data Scientist'\n"
     ]
    }
   ],
   "source": [
    "print('I am \\t \\'Data Scientist\\'')     # --- \\t    Use tab function of the keyboard (4 spaces)"
   ]
  },
  {
   "cell_type": "code",
   "execution_count": 8,
   "id": "bf22e0bd",
   "metadata": {},
   "outputs": [
    {
     "name": "stdout",
     "output_type": "stream",
     "text": [
      "I ama\b \t 'Data Scientist'\n"
     ]
    }
   ],
   "source": [
    "print('I ama\\b \\t \\'Data Scientist\\'')\n",
    "                             # --- \\b                        Use backspace function of the keyboard. \n",
    "                             #                               -- (Even number of \\b -- TWO spaces)\n",
    "                             #                               -- (Odd number of \\b -- ONE spaces)"
   ]
  },
  {
   "cell_type": "code",
   "execution_count": 32,
   "id": "975c9266",
   "metadata": {},
   "outputs": [
    {
     "name": "stdout",
     "output_type": "stream",
     "text": [
      "I ama\b \t \n",
      "'Data Scientist'\n"
     ]
    }
   ],
   "source": [
    "print('I ama\\b \\t \\n\\'Data Scientist\\'')         # --- \\n                        New line character."
   ]
  },
  {
   "cell_type": "code",
   "execution_count": 6,
   "id": "5840237d",
   "metadata": {},
   "outputs": [
    {
     "ename": "SyntaxError",
     "evalue": "invalid syntax. Perhaps you forgot a comma? (226212396.py, line 1)",
     "output_type": "error",
     "traceback": [
      "\u001b[1;36m  Cell \u001b[1;32mIn[6], line 1\u001b[1;36m\u001b[0m\n\u001b[1;33m    print('I ama\\b \\t \\n\\        Arjun Gupta \\r 'Data Scientist\\'')            #  --- \\r      Carriage Return.\u001b[0m\n\u001b[1;37m          ^\u001b[0m\n\u001b[1;31mSyntaxError\u001b[0m\u001b[1;31m:\u001b[0m invalid syntax. Perhaps you forgot a comma?\n"
     ]
    }
   ],
   "source": [
    "print('I ama\\b \\t \\n\\        Arjun Gupta \\r 'Data Scientist\\'')            #  --- \\r      Carriage Return."
   ]
  },
  {
   "cell_type": "code",
   "execution_count": 7,
   "id": "c7cb30b0",
   "metadata": {},
   "outputs": [
    {
     "name": "stdout",
     "output_type": "stream",
     "text": [
      "I ama\b \t \n",
      "\\        Arjun Gupta \r",
      " 'Data Scientist'\n"
     ]
    }
   ],
   "source": [
    "print('I ama\\b \\t \\n\\        Arjun Gupta \\r \\'Data Scientist\\'')        # -- \\r       Carriage Return."
   ]
  },
  {
   "cell_type": "code",
   "execution_count": 35,
   "id": "1d1fbfd7",
   "metadata": {},
   "outputs": [
    {
     "name": "stdout",
     "output_type": "stream",
     "text": [
      "I ama\b \t \n",
      "\\    Arjun Gupta \r",
      " 'Data Scientist'\n"
     ]
    }
   ],
   "source": [
    "print('I ama\\b \\t \\n\\    Arjun Gupta \\r \\'Data Scientist\\'')            # -- \\r       Carriage Return."
   ]
  },
  {
   "cell_type": "code",
   "execution_count": 36,
   "id": "72ebca1d",
   "metadata": {},
   "outputs": [
    {
     "ename": "SyntaxError",
     "evalue": "invalid syntax (428123319.py, line 2)",
     "output_type": "error",
     "traceback": [
      "\u001b[1;36m  Cell \u001b[1;32mIn[36], line 2\u001b[1;36m\u001b[0m\n\u001b[1;33m    123 + 123 + 123\u001b[0m\n\u001b[1;37m    ^\u001b[0m\n\u001b[1;31mSyntaxError\u001b[0m\u001b[1;31m:\u001b[0m invalid syntax\n"
     ]
    }
   ],
   "source": [
    "x = 234+234+12 \\                  # operator is MISSING!    \n",
    "123 + 123 + 123\n",
    "print(x)"
   ]
  },
  {
   "cell_type": "code",
   "execution_count": 37,
   "id": "c35ee225",
   "metadata": {},
   "outputs": [
    {
     "name": "stdout",
     "output_type": "stream",
     "text": [
      "849\n"
     ]
    }
   ],
   "source": [
    "x = 234+234+12 + \\                 #   '\\'             Line continuation character.      \n",
    "123 + 123 + 123\n",
    "print(x)"
   ]
  },
  {
   "cell_type": "code",
   "execution_count": null,
   "id": "417ceb23",
   "metadata": {},
   "outputs": [],
   "source": []
  }
 ],
 "metadata": {
  "kernelspec": {
   "display_name": "Python 3 (ipykernel)",
   "language": "python",
   "name": "python3"
  },
  "language_info": {
   "codemirror_mode": {
    "name": "ipython",
    "version": 3
   },
   "file_extension": ".py",
   "mimetype": "text/x-python",
   "name": "python",
   "nbconvert_exporter": "python",
   "pygments_lexer": "ipython3",
   "version": "3.10.9"
  }
 },
 "nbformat": 4,
 "nbformat_minor": 5
}
