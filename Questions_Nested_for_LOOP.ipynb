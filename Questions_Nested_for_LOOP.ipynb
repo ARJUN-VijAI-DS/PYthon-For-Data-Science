{
 "cells": [
  {
   "cell_type": "markdown",
   "id": "26f77e48",
   "metadata": {},
   "source": [
    "### Questions of \"for\"_LOOP\n",
    "\n",
    "### Questions of \"Nested\" for_LOOP"
   ]
  },
  {
   "cell_type": "code",
   "execution_count": null,
   "id": "1c8535cf",
   "metadata": {},
   "outputs": [],
   "source": []
  },
  {
   "cell_type": "code",
   "execution_count": null,
   "id": "5db456cf",
   "metadata": {},
   "outputs": [],
   "source": [
    "# print the multiplication table of 2.\n",
    "\n",
    "start = int(input(\"Enter the start value:\"))\n",
    "stop = 1+int(input(\"Enter the stop value:\"))\n",
    "print(start)\n",
    "print(stop)\n",
    "for z in range(start,stop):\n",
    "    print(2,\" X \",z, \"=\", z*2)"
   ]
  },
  {
   "cell_type": "code",
   "execution_count": null,
   "id": "7391242e",
   "metadata": {},
   "outputs": [],
   "source": [
    "# print the multiplication table of 2.\n",
    "\n",
    "start = int(input(\"Enter the start value:\"))\n",
    "stop = 1+int(input(\"Enter the stop value:\"))\n",
    "print(start)\n",
    "print(stop)\n",
    "for z in range(start,stop):\n",
    "    print(\"Table of 2: 2*\",z,\"=\",2*z)"
   ]
  },
  {
   "cell_type": "code",
   "execution_count": null,
   "id": "bc37e8c2",
   "metadata": {},
   "outputs": [],
   "source": [
    "# print the multiplication table of n.\n",
    "n = int(input(\"Enter the value of n:\"))\n",
    "start = int(input(\"Enter the start value:\"))\n",
    "stop = 1+int(input(\"Enter the stop value:\"))\n",
    "print(start)\n",
    "print(stop)\n",
    "for z in range(start,stop):\n",
    "    print(n*z)"
   ]
  },
  {
   "cell_type": "code",
   "execution_count": null,
   "id": "f19168b7",
   "metadata": {},
   "outputs": [],
   "source": [
    "# print the multiplication table of 2,3,4,5,6,7\n",
    "for z in range(1,11):\n",
    "    print(2,\" X \",z, \"=\", z*2)\n",
    "    if z>=10:\n",
    "        for z in range(1,11):\n",
    "            print(3,\" X \",z, \"=\", z*3)\n",
    "            if z>=10:\n",
    "                for z in range(1,11):\n",
    "                    print(4,\" X \",z, \"=\", z*4)\n",
    "                    if z>=10:\n",
    "                        for z in range(1,11):\n",
    "                            print(5,\" X \",z, \"=\", z*5)\n",
    "                            if z>=10:\n",
    "                                for z in range(1,11):\n",
    "                                    print(6,\" X \",z, \"=\", z*6)\n",
    "                                    if z>=10:\n",
    "                                        for z in range(1,11):\n",
    "                                            print(7,\" X \",z, \"=\", z*7)\n",
    "                    "
   ]
  },
  {
   "cell_type": "code",
   "execution_count": null,
   "id": "89e3639d",
   "metadata": {},
   "outputs": [],
   "source": [
    "# print the multiplication table of 2,3,4,5,6,7\n",
    "for z in range(1,11):\n",
    "    print(2,\" X \",z, \"=\", z*2)\n",
    "    if z>=10:\n",
    "        for z in range(1,11):\n",
    "            print(3,\" X \",z, \"=\", z*3)\n",
    "        for z in range(1,11):\n",
    "            print(4,\" X \",z, \"=\", z*4)\n",
    "        for z in range(1,11):\n",
    "            print(5,\" X \",z, \"=\", z*5)\n",
    "        for z in range(1,11):\n",
    "            print(6,\" X \",z, \"=\", z*6)\n",
    "        for z in range(1,11):\n",
    "            print(7,\" X \",z, \"=\", z*7)"
   ]
  },
  {
   "cell_type": "markdown",
   "id": "5ae35ae4",
   "metadata": {},
   "source": [
    "### Use of \"end\"_command"
   ]
  },
  {
   "cell_type": "code",
   "execution_count": 2,
   "id": "1c8333fa",
   "metadata": {},
   "outputs": [
    {
     "name": "stdout",
     "output_type": "stream",
     "text": [
      "I am DATAScientist\n"
     ]
    }
   ],
   "source": [
    "## end -- command in PYthon\n",
    "\n",
    "print(\"I am DATA\",end=\"\")\n",
    "print(\"Scientist\")"
   ]
  },
  {
   "cell_type": "code",
   "execution_count": 3,
   "id": "40472076",
   "metadata": {},
   "outputs": [
    {
     "name": "stdout",
     "output_type": "stream",
     "text": [
      "I am DATA Scientist\n"
     ]
    }
   ],
   "source": [
    "## end -- command in PYthon\n",
    "\n",
    "print(\"I am DATA\",end=\" \")\n",
    "print(\"Scientist\")"
   ]
  },
  {
   "cell_type": "code",
   "execution_count": 4,
   "id": "2747263f",
   "metadata": {},
   "outputs": [
    {
     "name": "stdout",
     "output_type": "stream",
     "text": [
      "I am DATA_Scientist\n"
     ]
    }
   ],
   "source": [
    "## end -- command in PYthon\n",
    "\n",
    "print(\"I am DATA\",end=\"_\")\n",
    "print(\"Scientist\")"
   ]
  },
  {
   "cell_type": "code",
   "execution_count": null,
   "id": "189f0ea6",
   "metadata": {},
   "outputs": [],
   "source": []
  },
  {
   "cell_type": "code",
   "execution_count": null,
   "id": "d18b70f4",
   "metadata": {},
   "outputs": [],
   "source": [
    "# print \"*\" in output in line -- using for_loop\n",
    "\n",
    "for x in range(0,5):\n",
    "    print(\"*\")"
   ]
  },
  {
   "cell_type": "code",
   "execution_count": null,
   "id": "a8644887",
   "metadata": {},
   "outputs": [],
   "source": [
    "# print \"*\" in output in line -- using for_loop\n",
    "\n",
    "for x in range(5):\n",
    "    print(\"*\")"
   ]
  },
  {
   "cell_type": "code",
   "execution_count": null,
   "id": "f1653e9c",
   "metadata": {},
   "outputs": [],
   "source": [
    "X  = input()\n",
    "print(type(X))\n",
    "p = int(input())\n",
    "for z in range(p):\n",
    "    z = X*p\n",
    "    print(z)"
   ]
  },
  {
   "cell_type": "code",
   "execution_count": null,
   "id": "553d0be5",
   "metadata": {},
   "outputs": [],
   "source": [
    "X  = input()\n",
    "print(type(X))\n",
    "p = 1+int(input())\n",
    "for z in range(p):\n",
    "    z = X*z\n",
    "    print(z)"
   ]
  },
  {
   "cell_type": "code",
   "execution_count": 5,
   "id": "c8f80201",
   "metadata": {},
   "outputs": [
    {
     "name": "stdout",
     "output_type": "stream",
     "text": [
      "1\n",
      "<class 'str'>\n",
      "5\n",
      "\n",
      "1\n",
      "11\n",
      "111\n",
      "1111\n",
      "11111\n"
     ]
    }
   ],
   "source": [
    "X  = input()\n",
    "print(type(X))\n",
    "p = 1+int(input())\n",
    "for z in range(p):\n",
    "    z = X*z\n",
    "    print(z)"
   ]
  },
  {
   "cell_type": "code",
   "execution_count": null,
   "id": "f1f13dea",
   "metadata": {},
   "outputs": [],
   "source": []
  },
  {
   "cell_type": "code",
   "execution_count": null,
   "id": "98d23d8a",
   "metadata": {},
   "outputs": [],
   "source": []
  },
  {
   "cell_type": "code",
   "execution_count": null,
   "id": "2b9d0347",
   "metadata": {},
   "outputs": [],
   "source": []
  },
  {
   "cell_type": "code",
   "execution_count": null,
   "id": "e18d2c83",
   "metadata": {},
   "outputs": [],
   "source": []
  },
  {
   "cell_type": "markdown",
   "id": "5a495ae1",
   "metadata": {},
   "source": [
    "### Nested \"for\"_LOOP"
   ]
  },
  {
   "cell_type": "code",
   "execution_count": 7,
   "id": "ebe6849e",
   "metadata": {
    "collapsed": true
   },
   "outputs": [
    {
     "name": "stdout",
     "output_type": "stream",
     "text": [
      "2\n",
      "*********"
     ]
    }
   ],
   "source": [
    "p = 1+int(input())\n",
    "for x in range(p):\n",
    "    for y in range(p):\n",
    "        print(\"*\",end=\"\")"
   ]
  },
  {
   "cell_type": "code",
   "execution_count": 8,
   "id": "676738d0",
   "metadata": {
    "collapsed": true
   },
   "outputs": [
    {
     "name": "stdout",
     "output_type": "stream",
     "text": [
      "2\n",
      "* \n",
      "* \n",
      "* \n",
      "* \n",
      "* \n",
      "* \n",
      "* \n",
      "* \n",
      "* \n"
     ]
    }
   ],
   "source": [
    "p = 1+int(input())\n",
    "for x in range(p):\n",
    "    for y in range(p):\n",
    "        print(\"*\",end=\" \")\n",
    "        print()"
   ]
  },
  {
   "cell_type": "code",
   "execution_count": null,
   "id": "3dc8556b",
   "metadata": {},
   "outputs": [],
   "source": [
    "p = 1+int(input())\n",
    "for x in range(p):\n",
    "    for y in range(p):\n",
    "        if x>=y:\n",
    "            print(\"*\\n\",end=\" \")"
   ]
  },
  {
   "cell_type": "code",
   "execution_count": null,
   "id": "3779518a",
   "metadata": {},
   "outputs": [],
   "source": [
    "p = 1+int(input())\n",
    "for x in range(p):\n",
    "    for y in range(p):\n",
    "        print(\"*\"*y)"
   ]
  },
  {
   "cell_type": "code",
   "execution_count": null,
   "id": "9a5a31f8",
   "metadata": {},
   "outputs": [],
   "source": [
    "p = 1+int(input())\n",
    "for x in range(p):\n",
    "    for y in range(p):\n",
    "        if y>=x:\n",
    "            print(\"*\"*y)"
   ]
  },
  {
   "cell_type": "markdown",
   "id": "72a44758",
   "metadata": {},
   "source": [
    "### \"DONE\""
   ]
  },
  {
   "cell_type": "code",
   "execution_count": 9,
   "id": "b068ace7",
   "metadata": {},
   "outputs": [
    {
     "name": "stdout",
     "output_type": "stream",
     "text": [
      "3\n",
      "\n",
      "*\n",
      "**\n",
      "***\n"
     ]
    }
   ],
   "source": [
    "p = 1+int(input())\n",
    "for x in range(p):\n",
    "    for y in range(p):\n",
    "        if y==x:\n",
    "            print(\"*\"*y)"
   ]
  },
  {
   "cell_type": "markdown",
   "id": "ddca95a5",
   "metadata": {},
   "source": [
    "### \"DONE\""
   ]
  },
  {
   "cell_type": "code",
   "execution_count": 10,
   "id": "47976b4e",
   "metadata": {},
   "outputs": [
    {
     "name": "stdout",
     "output_type": "stream",
     "text": [
      "3\n",
      "\n",
      "* \n",
      "* * \n",
      "* * * \n"
     ]
    }
   ],
   "source": [
    "p = 1+int(input())\n",
    "for x in range(p):\n",
    "    for y in range(p):\n",
    "        if y==x:\n",
    "            print(\"* \"*y)"
   ]
  },
  {
   "cell_type": "markdown",
   "id": "92547786",
   "metadata": {},
   "source": [
    "### \"DONE\""
   ]
  },
  {
   "cell_type": "code",
   "execution_count": 11,
   "id": "9b9f0306",
   "metadata": {},
   "outputs": [
    {
     "name": "stdout",
     "output_type": "stream",
     "text": [
      "3\n",
      "* * * \n",
      "* * \n",
      "* \n",
      "\n"
     ]
    }
   ],
   "source": [
    "p = 1+int(input())\n",
    "for x in range(p):\n",
    "    for y in range(p):\n",
    "        p=p-1\n",
    "        print(\"* \"*p)"
   ]
  },
  {
   "cell_type": "markdown",
   "id": "fbb367a1",
   "metadata": {},
   "source": [
    "### \"DONE\""
   ]
  },
  {
   "cell_type": "code",
   "execution_count": 12,
   "id": "7719bc18",
   "metadata": {},
   "outputs": [
    {
     "name": "stdout",
     "output_type": "stream",
     "text": [
      "3\n",
      "***\n",
      "**\n",
      "*\n",
      "\n"
     ]
    }
   ],
   "source": [
    "p = 1+int(input())\n",
    "for x in range(p):\n",
    "    for y in range(p):\n",
    "        p=p-1\n",
    "        print(\"*\"*p)"
   ]
  },
  {
   "cell_type": "markdown",
   "id": "d212e191",
   "metadata": {},
   "source": [
    "## \"DONE\""
   ]
  },
  {
   "cell_type": "code",
   "execution_count": 3,
   "id": "d152aa32",
   "metadata": {},
   "outputs": [
    {
     "name": "stdout",
     "output_type": "stream",
     "text": [
      "3\n",
      "\n",
      "*\n",
      "**\n",
      "***\n",
      "***\n",
      "**\n",
      "*\n",
      "\n"
     ]
    }
   ],
   "source": [
    "p = 1+int(input())\n",
    "for x in range(p):\n",
    "    for y in range(p):\n",
    "        if y==x:\n",
    "            print(\"*\"*y)\n",
    "for y in range(p):\n",
    "    p=p-1\n",
    "    print(\"*\"*p)"
   ]
  },
  {
   "cell_type": "code",
   "execution_count": 4,
   "id": "e9dcec4d",
   "metadata": {},
   "outputs": [
    {
     "name": "stdout",
     "output_type": "stream",
     "text": [
      "3\n",
      "\n",
      "* \n",
      "* * \n",
      "* * * \n",
      "* * * \n",
      "* * \n",
      "* \n",
      "\n"
     ]
    }
   ],
   "source": [
    "p = 1+int(input())\n",
    "for x in range(p):\n",
    "    for y in range(p):\n",
    "        if y==x:\n",
    "            print(\"* \"*y)\n",
    "for y in range(p):\n",
    "    p=p-1\n",
    "    print(\"* \"*p)"
   ]
  },
  {
   "cell_type": "markdown",
   "id": "0d5c55fe",
   "metadata": {},
   "source": []
  },
  {
   "cell_type": "code",
   "execution_count": null,
   "id": "9a649ff9",
   "metadata": {},
   "outputs": [],
   "source": []
  },
  {
   "cell_type": "code",
   "execution_count": null,
   "id": "0cafb56c",
   "metadata": {},
   "outputs": [],
   "source": []
  },
  {
   "cell_type": "code",
   "execution_count": null,
   "id": "7540801d",
   "metadata": {},
   "outputs": [],
   "source": []
  },
  {
   "cell_type": "code",
   "execution_count": null,
   "id": "6fbab3cf",
   "metadata": {},
   "outputs": [],
   "source": []
  },
  {
   "cell_type": "code",
   "execution_count": null,
   "id": "d6f87996",
   "metadata": {},
   "outputs": [],
   "source": []
  },
  {
   "cell_type": "code",
   "execution_count": null,
   "id": "44921cbe",
   "metadata": {},
   "outputs": [],
   "source": []
  },
  {
   "cell_type": "markdown",
   "id": "f5a455c9",
   "metadata": {},
   "source": [
    "### \"DONE\""
   ]
  },
  {
   "cell_type": "code",
   "execution_count": 2,
   "id": "92ea4bc6",
   "metadata": {},
   "outputs": [
    {
     "name": "stdout",
     "output_type": "stream",
     "text": [
      "[1, 2, 3, 4, 5]\n",
      "2633682876544\n",
      "1\n",
      "4\n",
      "9\n",
      "16\n",
      "25\n",
      "[1, 4, 9, 16, 25]\n",
      "2633682876544\n"
     ]
    }
   ],
   "source": [
    "# Square each number inside a list and finally print list\n",
    "lst=[1,2,3,4,5]\n",
    "print(lst)\n",
    "print(id(lst))\n",
    "for x in range(1,6):\n",
    "    lst.remove(x)\n",
    "    x = x**2\n",
    "    print(x)\n",
    "    lst.append(x)\n",
    "print(lst)\n",
    "print(id(lst))"
   ]
  },
  {
   "cell_type": "code",
   "execution_count": null,
   "id": "5d07fe57",
   "metadata": {},
   "outputs": [],
   "source": [
    "def Function_lst():\n",
    "    lst=[1,2,3,4,5]\n",
    "    print(lst)\n",
    "    print(id(lst))\n",
    "    for x in range(1,6):\n",
    "        lst.remove(x)\n",
    "        x = x**2\n",
    "        print(x)\n",
    "        lst.append(x)\n",
    "    print(lst)\n",
    "    print(id(lst))\n",
    "    "
   ]
  },
  {
   "cell_type": "code",
   "execution_count": null,
   "id": "1add129f",
   "metadata": {},
   "outputs": [],
   "source": []
  },
  {
   "cell_type": "code",
   "execution_count": null,
   "id": "e87e86d3",
   "metadata": {},
   "outputs": [],
   "source": []
  },
  {
   "cell_type": "code",
   "execution_count": null,
   "id": "b00d1b0b",
   "metadata": {},
   "outputs": [],
   "source": []
  },
  {
   "cell_type": "code",
   "execution_count": null,
   "id": "31788c8f",
   "metadata": {},
   "outputs": [],
   "source": []
  },
  {
   "cell_type": "code",
   "execution_count": null,
   "id": "3b7f4647",
   "metadata": {},
   "outputs": [],
   "source": []
  }
 ],
 "metadata": {
  "kernelspec": {
   "display_name": "Python 3 (ipykernel)",
   "language": "python",
   "name": "python3"
  },
  "language_info": {
   "codemirror_mode": {
    "name": "ipython",
    "version": 3
   },
   "file_extension": ".py",
   "mimetype": "text/x-python",
   "name": "python",
   "nbconvert_exporter": "python",
   "pygments_lexer": "ipython3",
   "version": "3.10.9"
  }
 },
 "nbformat": 4,
 "nbformat_minor": 5
}
