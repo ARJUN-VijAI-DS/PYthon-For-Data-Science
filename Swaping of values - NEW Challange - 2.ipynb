{
 "cells": [
  {
   "cell_type": "markdown",
   "id": "4397c25d",
   "metadata": {},
   "source": [
    "##  Q. Take two values as input from the user in variables a and b, swap the values of a and b.   "
   ]
  },
  {
   "cell_type": "code",
   "execution_count": null,
   "id": "60d64f55",
   "metadata": {},
   "outputs": [],
   "source": [
    "# h = float(input(\"no. of products sold\"))\n",
    "# print(\"type is :\" , type(h))\n",
    "\n",
    "\n",
    "# print(input(type(int(89898))))\n",
    "\n",
    "# Q = input(\"Value given : \")\n",
    "# print(type(float(Q)), type(int(Q)), type(complex(Q)))"
   ]
  },
  {
   "cell_type": "code",
   "execution_count": 18,
   "id": "5d7977bd",
   "metadata": {},
   "outputs": [
    {
     "name": "stdout",
     "output_type": "stream",
     "text": [
      "First Data:    aaaa\n",
      "Second Data:   bbbb\n",
      "aaaabbbb\n",
      " bbbb  b \n"
     ]
    }
   ],
   "source": [
    "A = input(\"First Data:    \")     \n",
    "B = input(\"Second Data:   \")\n",
    "X = A + B\n",
    "print(X)\n",
    "print(X,\"\\r\",B,\" \\r\")\n",
    "\n"
   ]
  },
  {
   "cell_type": "code",
   "execution_count": 17,
   "id": "4ce0449b",
   "metadata": {},
   "outputs": [
    {
     "name": "stdout",
     "output_type": "stream",
     "text": [
      "aaa\r",
      "bbb\n"
     ]
    }
   ],
   "source": [
    "print(\"aaa\\rbbb\")"
   ]
  },
  {
   "cell_type": "code",
   "execution_count": 21,
   "id": "02f6070d",
   "metadata": {},
   "outputs": [
    {
     "name": "stdout",
     "output_type": "stream",
     "text": [
      "First Data:    aaaa\n",
      "Second Data:   bbbb\n",
      "aaaabbbb\n",
      " bbbb  b \n"
     ]
    }
   ],
   "source": [
    "A = input(\"First Data:    \")\n",
    "B = input(\"Second Data:   \")\n",
    "X = A + B\n",
    "print(X)\n",
    "print(X,\"\\r\",B,\" \\r\")"
   ]
  },
  {
   "cell_type": "code",
   "execution_count": 1,
   "id": "49e33c66",
   "metadata": {},
   "outputs": [
    {
     "name": "stdout",
     "output_type": "stream",
     "text": [
      "First variable:  AAA\n",
      "\n",
      "Second variable: BBB\n",
      "AAABBB\n",
      "a + b\n"
     ]
    },
    {
     "data": {
      "text/plain": [
       "'b + b'"
      ]
     },
     "execution_count": 1,
     "metadata": {},
     "output_type": "execute_result"
    }
   ],
   "source": [
    "a = input('First variable:  ')             # .replace()\n",
    "b = input('\\nSecond variable: ')\n",
    "print(a+b)\n",
    "X = 'a + b'\n",
    "print(X)\n",
    "X = X.replace(\"a\" , \"b\")\n",
    "X"
   ]
  },
  {
   "cell_type": "code",
   "execution_count": 12,
   "id": "91829e81",
   "metadata": {},
   "outputs": [
    {
     "name": "stdout",
     "output_type": "stream",
     "text": [
      "First Data:    a\n",
      "Second Data:   b\n",
      "ab\n",
      " b \n",
      "ab\n",
      " None\n"
     ]
    }
   ],
   "source": [
    "A = input(\"First Data:    \")\n",
    "B = input(\"Second Data:   \")\n",
    "X = A + B\n",
    "Y = A + B\n",
    "print(X)\n",
    "A = print(X,\"\\r\",B)\n",
    "\n",
    "print (Y)\n",
    "B = print(Y,\"\\r\",A)"
   ]
  },
  {
   "cell_type": "code",
   "execution_count": 13,
   "id": "92f8928e",
   "metadata": {},
   "outputs": [
    {
     "name": "stdout",
     "output_type": "stream",
     "text": [
      "First Data:    a\n",
      "Second Data:   b\n",
      "ab\n",
      " b \n",
      "ab\n",
      " a \n"
     ]
    }
   ],
   "source": [
    "A = input(\"First Data:    \")\n",
    "B = input(\"Second Data:   \")\n",
    "X = A + B\n",
    "Y = A + B\n",
    "print(X)\n",
    "print(X,\"\\r\",B)\n",
    "\n",
    "print (Y)\n",
    "print(Y,\"\\r\",A)\n"
   ]
  },
  {
   "cell_type": "code",
   "execution_count": 1,
   "id": "50d36662",
   "metadata": {},
   "outputs": [
    {
     "name": "stdout",
     "output_type": "stream",
     "text": [
      "First variable:  AAA\n",
      "\n",
      "Second variable: BBB\n",
      "AAABBB\n",
      "A + B\n"
     ]
    },
    {
     "data": {
      "text/plain": [
       "'B + B'"
      ]
     },
     "execution_count": 1,
     "metadata": {},
     "output_type": "execute_result"
    }
   ],
   "source": [
    "A = input('First variable:  ')         # using .replace() method\n",
    "B = input('\\nSecond variable: ')\n",
    "print(A+B)\n",
    "X = 'A + B'\n",
    "print(X)\n",
    "X = X.replace(\"A\" , \"B\")\n",
    "X\n"
   ]
  },
  {
   "cell_type": "code",
   "execution_count": 5,
   "id": "ba12c3c2",
   "metadata": {},
   "outputs": [
    {
     "name": "stdout",
     "output_type": "stream",
     "text": [
      "First Data:    AAAAA\n",
      "Second Data:   BBBBB\n",
      "AAAAABBBBB\n",
      "BBBBB\n",
      "BBBBB\n"
     ]
    }
   ],
   "source": [
    "A = input(\"First Data:    \")     # using .replace() method\n",
    "B = input(\"Second Data:   \")      \n",
    "X = A + B\n",
    "print(X)\n",
    "X = X.replace(A+B, B)             # X,A,B  are already STRINGS so no need to use DOUBLE Quotation MARKs\n",
    "print(X)\n",
    "\n",
    "X = X.replace(A+B, A)\n",
    "print(X)"
   ]
  },
  {
   "cell_type": "code",
   "execution_count": 6,
   "id": "4390999b",
   "metadata": {},
   "outputs": [
    {
     "name": "stdout",
     "output_type": "stream",
     "text": [
      "First Data:    AAAAA\n",
      "Second Data:   BBBBB\n",
      "AAAAABBBBB\n",
      "AAAAABBBBB\n",
      "BBBBB\n",
      "AAAAA\n"
     ]
    }
   ],
   "source": [
    "A = input(\"First Data:    \")     # using .replace() method\n",
    "B = input(\"Second Data:   \")      \n",
    "X = A + B\n",
    "print(X)\n",
    "Y = A + B\n",
    "print(Y)\n",
    "X = X.replace(A+B, B)             # X,Y,A,B  are already STRINGS so no need to use DOUBLE Quotation MARKs\n",
    "print(X)\n",
    "\n",
    "Y = Y.replace(A+B, A)\n",
    "print(Y)"
   ]
  },
  {
   "cell_type": "code",
   "execution_count": 7,
   "id": "bd04a795",
   "metadata": {},
   "outputs": [
    {
     "name": "stdout",
     "output_type": "stream",
     "text": [
      "First Data:    AAAAA\n",
      "Second Data:   BBBBB\n",
      "AAAAABBBBB\n",
      "AAAAABBBBB\n",
      "BBBBB\n",
      "BBBBB\n",
      "AAAAABBBBB\n",
      "BBBBB\n"
     ]
    }
   ],
   "source": [
    "A = input(\"First Data:    \")     # using .replace() method\n",
    "B = input(\"Second Data:   \")      \n",
    "X = A + B\n",
    "print(X)\n",
    "Y = A + B\n",
    "print(Y)\n",
    "X = X.replace(A+B, B)             # X,Y,A,B  are already STRINGS so no need to use DOUBLE Quotation MARKs\n",
    "print(X)\n",
    "A = X\n",
    "print(A)                          # MISTAKE iS \"HERE\"\n",
    "Y = Y.replace(A+B, A)\n",
    "print(Y)\n",
    "B = Y\n",
    "print(B)"
   ]
  },
  {
   "cell_type": "code",
   "execution_count": 10,
   "id": "1602605e",
   "metadata": {},
   "outputs": [
    {
     "name": "stdout",
     "output_type": "stream",
     "text": [
      "First Data:    30+7j\n",
      "Second Data:   31+j\n",
      "30+7j31+j\n",
      "30+7j31+j\n",
      "31+j\n",
      "30+7j\n"
     ]
    },
    {
     "ename": "ValueError",
     "evalue": "too many values to unpack (expected 2)",
     "output_type": "error",
     "traceback": [
      "\u001b[1;31m---------------------------------------------------------------------------\u001b[0m",
      "\u001b[1;31mValueError\u001b[0m                                Traceback (most recent call last)",
      "Cell \u001b[1;32mIn[10], line 11\u001b[0m\n\u001b[0;32m      9\u001b[0m Y \u001b[38;5;241m=\u001b[39m Y\u001b[38;5;241m.\u001b[39mreplace(A\u001b[38;5;241m+\u001b[39mB, A)\n\u001b[0;32m     10\u001b[0m \u001b[38;5;28mprint\u001b[39m(Y)\n\u001b[1;32m---> 11\u001b[0m X \u001b[38;5;241m=\u001b[39m A, Y \u001b[38;5;241m=\u001b[39m B\n\u001b[0;32m     12\u001b[0m \u001b[38;5;28mprint\u001b[39m(A,B)\n",
      "\u001b[1;31mValueError\u001b[0m: too many values to unpack (expected 2)"
     ]
    }
   ],
   "source": [
    "A = input(\"First Data:    \")     # using .replace() method\n",
    "B = input(\"Second Data:   \")      \n",
    "X = A + B\n",
    "print(X)\n",
    "Y = A + B\n",
    "print(Y)\n",
    "X = X.replace(A+B, B)             # X,Y,A,B  are already STRINGS so no need to use DOUBLE Quotation MARKs\n",
    "print(X)\n",
    "Y = Y.replace(A+B, A)\n",
    "print(Y)\n",
    "X = A, Y = B\n",
    "print(A,B)"
   ]
  },
  {
   "cell_type": "code",
   "execution_count": 15,
   "id": "4ea6e900",
   "metadata": {},
   "outputs": [
    {
     "name": "stdout",
     "output_type": "stream",
     "text": [
      "First Data:    31+2j\n",
      "Second Data:   21+j\n",
      "31+2j21+j\n",
      "31+2j21+j\n",
      "21+j\n",
      "31+2j\n",
      "31+2j 21+j\n"
     ]
    }
   ],
   "source": [
    "A = input(\"First Data:    \")     # using .replace() method\n",
    "B = input(\"Second Data:   \")      \n",
    "X = A + B\n",
    "print(X)\n",
    "Y = A + B\n",
    "print(Y)\n",
    "X = X.replace(A+B, B)             # X,Y,A,B  are already STRINGS so no need to use DOUBLE Quotation MARKs\n",
    "print(X)\n",
    "Y = Y.replace(A+B, A)\n",
    "print(Y)\n",
    "X = B\n",
    "Y = A\n",
    "print(A,B)"
   ]
  },
  {
   "cell_type": "code",
   "execution_count": 16,
   "id": "c0bb986e",
   "metadata": {},
   "outputs": [
    {
     "name": "stdout",
     "output_type": "stream",
     "text": [
      "First Data:    31+2j\n",
      "Second Data:   21+j\n",
      "31+2j21+j\n",
      "31+2j21+j\n",
      "21+j\n",
      "31+2j\n",
      "31+2j 21+j\n"
     ]
    }
   ],
   "source": [
    "A = input(\"First Data:    \")     # using .replace() method\n",
    "B = input(\"Second Data:   \")      \n",
    "X = A + B\n",
    "print(X)\n",
    "Y = A + B\n",
    "print(Y)\n",
    "X = X.replace(A+B, B)             # X,Y,A,B  are already STRINGS so no need to use DOUBLE Quotation MARKs\n",
    "print(X)\n",
    "Y = Y.replace(A+B, A)\n",
    "print(Y)\n",
    "B = X\n",
    "A = Y\n",
    "print(A,B)"
   ]
  },
  {
   "cell_type": "code",
   "execution_count": 17,
   "id": "f10dfb3b",
   "metadata": {},
   "outputs": [
    {
     "name": "stdout",
     "output_type": "stream",
     "text": [
      "First Data:    31+2j \n",
      "Second Data:   21+j\n",
      "21+j\n",
      "31+2j \n",
      "31+2j  21+j\n"
     ]
    }
   ],
   "source": [
    "A = input(\"First Data:    \")     # using .replace() method\n",
    "B = input(\"Second Data:   \")      \n",
    "X = A + B\n",
    "Y = A + B\n",
    "X = X.replace(A+B, B)             # X,Y,A,B  are already STRINGS so no need to use DOUBLE Quotation MARKs\n",
    "print(X)\n",
    "Y = Y.replace(A+B, A)\n",
    "print(Y)\n",
    "B = X\n",
    "A = Y\n",
    "print(A,B)"
   ]
  },
  {
   "cell_type": "code",
   "execution_count": 18,
   "id": "26d5f38d",
   "metadata": {},
   "outputs": [
    {
     "name": "stdout",
     "output_type": "stream",
     "text": [
      "First Data:    31+2j\n",
      "Second Data:   21+j\n",
      "31+2j 21+j\n"
     ]
    }
   ],
   "source": [
    "A = input(\"First Data:    \")     # using .replace() method\n",
    "B = input(\"Second Data:   \")      \n",
    "X = A + B\n",
    "Y = A + B\n",
    "X = X.replace(A+B, B)             # X,Y,A,B  are already STRINGS so no need to use DOUBLE Quotation MARKs\n",
    "X\n",
    "Y = Y.replace(A+B, A)\n",
    "Y\n",
    "B = X\n",
    "A = Y\n",
    "print(A,B)"
   ]
  },
  {
   "cell_type": "code",
   "execution_count": 1,
   "id": "3e74dcaa",
   "metadata": {},
   "outputs": [
    {
     "name": "stdout",
     "output_type": "stream",
     "text": [
      "First Data:    31+2j\n",
      "Second Data:   45+j\n",
      "45+j\n",
      "31+2j\n",
      "31+2j 45+j\n"
     ]
    }
   ],
   "source": [
    "A = input(\"First Data:    \")     # using .replace() method\n",
    "B = input(\"Second Data:   \")      \n",
    "X = A + B\n",
    "Y = A + B\n",
    "X = X.replace(A+B, B)             # X,Y,A,B  are already STRINGS so no need to use DOUBLE Quotation MARKs\n",
    "print(X)\n",
    "Y = Y.replace(A+B, A)\n",
    "print(Y)\n",
    "B = X\n",
    "A = Y\n",
    "print(A,B)"
   ]
  },
  {
   "cell_type": "code",
   "execution_count": 3,
   "id": "bf876e38",
   "metadata": {},
   "outputs": [
    {
     "name": "stdout",
     "output_type": "stream",
     "text": [
      "First Data:    31+5j\n",
      "Second Data:   20+7j\n",
      "20+7j\n",
      "31+5j\n"
     ]
    }
   ],
   "source": [
    "A = input(\"First Data:    \")     # using .replace() method\n",
    "B = input(\"Second Data:   \")      \n",
    "X = A + B\n",
    "Y = A + B\n",
    "X = X.replace(A+B, B)             # X,Y,A,B  are already STRINGS so no need to use DOUBLE Quotation MARKs\n",
    "print(X)\n",
    "Y = Y.replace(A+B, A)\n",
    "print(Y)"
   ]
  },
  {
   "cell_type": "code",
   "execution_count": 2,
   "id": "d2207087",
   "metadata": {},
   "outputs": [
    {
     "name": "stdout",
     "output_type": "stream",
     "text": [
      "First Data:    aaaaaaaaaa\n",
      "Second Data:   bbbb\n",
      "bbbb\n",
      "aaaaaaaaaabbbb\n"
     ]
    }
   ],
   "source": [
    "A = input(\"First Data:    \")     # using .replace() method  ----- Swapping of values of two variables.\n",
    "B = input(\"Second Data:   \")      \n",
    "X = Y = A + B\n",
    "A = X.replace(A+B, B)             # X,Y,A,B  are already STRINGS so no need to use DOUBLE Quotation MARKs\n",
    "print(A)\n",
    "B = Y.replace(A+B, A)\n",
    "print(B)"
   ]
  },
  {
   "cell_type": "code",
   "execution_count": 5,
   "id": "3b2ee648",
   "metadata": {},
   "outputs": [
    {
     "name": "stdout",
     "output_type": "stream",
     "text": [
      "First Data:    aaaa\n",
      "Second Data:   BB\n",
      "aaaaBB\n",
      "aaaaBB\n",
      "BB aaaa\n"
     ]
    }
   ],
   "source": [
    "A = input(\"First Data:    \")     # using .replace() method  -- DONE  -- Swapping\n",
    "B = input(\"Second Data:   \")      \n",
    "X = A + B\n",
    "Y = A + B\n",
    "Q = X.replace(A+B, B)             # X,Y,A,B  are already STRINGS so no need to use DOUBLE Quotation MARKs\n",
    "print(X)\n",
    "P = Y.replace(A+B, A)\n",
    "print(Y)\n",
    "A = Q\n",
    "B = P\n",
    "print(A,B)"
   ]
  },
  {
   "cell_type": "code",
   "execution_count": 12,
   "id": "398a0660",
   "metadata": {},
   "outputs": [
    {
     "ename": "SyntaxError",
     "evalue": "closing parenthesis '}' does not match opening parenthesis '(' (2199476061.py, line 6)",
     "output_type": "error",
     "traceback": [
      "\u001b[1;36m  Cell \u001b[1;32mIn[12], line 6\u001b[1;36m\u001b[0m\n\u001b[1;33m    {(X = A)(Y = B)(print(A,B)}\u001b[0m\n\u001b[1;37m                              ^\u001b[0m\n\u001b[1;31mSyntaxError\u001b[0m\u001b[1;31m:\u001b[0m closing parenthesis '}' does not match opening parenthesis '('\n"
     ]
    }
   ],
   "source": [
    "A = input(\"First Data:    \"), B = input(\"Second Data:   \")      \n",
    "X = A + B, print(X)\n",
    "Y = A + B, print(Y)\n",
    "X = X.replace(A+B, B), print(X)\n",
    "Y = Y.replace(A+B, A), print(Y)\n",
    "{(X = A)(Y = B)(print(A,B)}"
   ]
  },
  {
   "cell_type": "code",
   "execution_count": null,
   "id": "76726a7e",
   "metadata": {},
   "outputs": [],
   "source": []
  },
  {
   "cell_type": "code",
   "execution_count": 13,
   "id": "9243d5da",
   "metadata": {},
   "outputs": [
    {
     "ename": "SyntaxError",
     "evalue": "invalid syntax. Maybe you meant '==' or ':=' instead of '='? (1934831336.py, line 1)",
     "output_type": "error",
     "traceback": [
      "\u001b[1;36m  Cell \u001b[1;32mIn[13], line 1\u001b[1;36m\u001b[0m\n\u001b[1;33m    A = input(\"First Data:    \"), B = input(\"Second Data:   \")\u001b[0m\n\u001b[1;37m    ^\u001b[0m\n\u001b[1;31mSyntaxError\u001b[0m\u001b[1;31m:\u001b[0m invalid syntax. Maybe you meant '==' or ':=' instead of '='?\n"
     ]
    }
   ],
   "source": [
    "A = input(\"First Data:    \"), B = input(\"Second Data:   \")      \n",
    "X = A + B, print(X)\n",
    "Y = A + B, print(Y)\n",
    "X = X.replace(A+B, B), print(X)\n",
    "Y = Y.replace(A+B, A), print(Y)\n",
    "{(X = A)(Y = B)(print(A,B))}"
   ]
  },
  {
   "cell_type": "code",
   "execution_count": 14,
   "id": "2aee62f0",
   "metadata": {},
   "outputs": [
    {
     "ename": "SyntaxError",
     "evalue": "invalid syntax. Maybe you meant '==' or ':=' instead of '='? (177398709.py, line 6)",
     "output_type": "error",
     "traceback": [
      "\u001b[1;36m  Cell \u001b[1;32mIn[14], line 6\u001b[1;36m\u001b[0m\n\u001b[1;33m    {(X = A)(Y = B)(print(A,B))}\u001b[0m\n\u001b[1;37m      ^\u001b[0m\n\u001b[1;31mSyntaxError\u001b[0m\u001b[1;31m:\u001b[0m invalid syntax. Maybe you meant '==' or ':=' instead of '='?\n"
     ]
    }
   ],
   "source": [
    "A == input(\"First Data:    \"), B == input(\"Second Data:   \")      \n",
    "X = A + B, print(X)\n",
    "Y = A + B, print(Y)\n",
    "X = X.replace(A+B, B), print(X)\n",
    "Y = Y.replace(A+B, A), print(Y)\n",
    "{(X = A)(Y = B)(print(A,B))}"
   ]
  },
  {
   "cell_type": "code",
   "execution_count": 15,
   "id": "4ce15860",
   "metadata": {},
   "outputs": [
    {
     "name": "stdout",
     "output_type": "stream",
     "text": [
      "First Data:    AAaa\n",
      "Second Data:   BBbb\n",
      "30+7j\n",
      "31+j\n"
     ]
    },
    {
     "ename": "AttributeError",
     "evalue": "'tuple' object has no attribute 'replace'",
     "output_type": "error",
     "traceback": [
      "\u001b[1;31m---------------------------------------------------------------------------\u001b[0m",
      "\u001b[1;31mAttributeError\u001b[0m                            Traceback (most recent call last)",
      "Cell \u001b[1;32mIn[15], line 4\u001b[0m\n\u001b[0;32m      2\u001b[0m X \u001b[38;5;241m=\u001b[39m A \u001b[38;5;241m+\u001b[39m B, \u001b[38;5;28mprint\u001b[39m(X)\n\u001b[0;32m      3\u001b[0m Y \u001b[38;5;241m=\u001b[39m A \u001b[38;5;241m+\u001b[39m B, \u001b[38;5;28mprint\u001b[39m(Y)\n\u001b[1;32m----> 4\u001b[0m X \u001b[38;5;241m=\u001b[39m \u001b[43mX\u001b[49m\u001b[38;5;241;43m.\u001b[39;49m\u001b[43mreplace\u001b[49m(A\u001b[38;5;241m+\u001b[39mB, B), \u001b[38;5;28mprint\u001b[39m(X)\n\u001b[0;32m      5\u001b[0m Y \u001b[38;5;241m=\u001b[39m Y\u001b[38;5;241m.\u001b[39mreplace(A\u001b[38;5;241m+\u001b[39mB, A), \u001b[38;5;28mprint\u001b[39m(Y)\n\u001b[0;32m      6\u001b[0m {(X \u001b[38;5;241m==\u001b[39m A)(Y \u001b[38;5;241m==\u001b[39m B)(\u001b[38;5;28mprint\u001b[39m(A,B))}\n",
      "\u001b[1;31mAttributeError\u001b[0m: 'tuple' object has no attribute 'replace'"
     ]
    }
   ],
   "source": [
    "A == input(\"First Data:    \"), B == input(\"Second Data:   \")      \n",
    "X = A + B, print(X)\n",
    "Y = A + B, print(Y)\n",
    "X = X.replace(A+B, B), print(X)\n",
    "Y = Y.replace(A+B, A), print(Y)\n",
    "{(X == A)(Y == B)(print(A,B))}"
   ]
  },
  {
   "cell_type": "code",
   "execution_count": 1,
   "id": "fd41cd9c",
   "metadata": {},
   "outputs": [
    {
     "ename": "NameError",
     "evalue": "name 'A' is not defined",
     "output_type": "error",
     "traceback": [
      "\u001b[1;31m---------------------------------------------------------------------------\u001b[0m",
      "\u001b[1;31mNameError\u001b[0m                                 Traceback (most recent call last)",
      "Cell \u001b[1;32mIn[1], line 1\u001b[0m\n\u001b[1;32m----> 1\u001b[0m \u001b[43mA\u001b[49m \u001b[38;5;241m==\u001b[39m \u001b[38;5;28minput\u001b[39m(\u001b[38;5;124m\"\u001b[39m\u001b[38;5;124mFirst Data:    \u001b[39m\u001b[38;5;124m\"\u001b[39m), B \u001b[38;5;241m==\u001b[39m \u001b[38;5;28minput\u001b[39m(\u001b[38;5;124m\"\u001b[39m\u001b[38;5;124mSecond Data:   \u001b[39m\u001b[38;5;124m\"\u001b[39m)      \n\u001b[0;32m      2\u001b[0m (X \u001b[38;5;241m==\u001b[39m A \u001b[38;5;241m+\u001b[39m B), (Y \u001b[38;5;241m==\u001b[39m A \u001b[38;5;241m+\u001b[39m B) \n\u001b[0;32m      3\u001b[0m (\u001b[38;5;28mprint\u001b[39m(X),\u001b[38;5;28mprint\u001b[39m(Y))\n",
      "\u001b[1;31mNameError\u001b[0m: name 'A' is not defined"
     ]
    }
   ],
   "source": [
    "A == input(\"First Data:    \"), B == input(\"Second Data:   \")      \n",
    "(X == A + B), (Y == A + B) \n",
    "(print(X),print(Y))\n",
    "X = X.replace(A+B, B), print(X)\n",
    "Y = Y.replace(A+B, A), print(Y)\n",
    "{(X == A)(Y == B)(print(A,B))}"
   ]
  },
  {
   "cell_type": "code",
   "execution_count": 2,
   "id": "80f938f0",
   "metadata": {},
   "outputs": [
    {
     "ename": "SyntaxError",
     "evalue": "invalid syntax. Maybe you meant '==' or ':=' instead of '='? (3937047203.py, line 1)",
     "output_type": "error",
     "traceback": [
      "\u001b[1;36m  Cell \u001b[1;32mIn[2], line 1\u001b[1;36m\u001b[0m\n\u001b[1;33m    A = input(\"First Data:    \"), B = input(\"Second Data:   \")\u001b[0m\n\u001b[1;37m    ^\u001b[0m\n\u001b[1;31mSyntaxError\u001b[0m\u001b[1;31m:\u001b[0m invalid syntax. Maybe you meant '==' or ':=' instead of '='?\n"
     ]
    }
   ],
   "source": [
    "A = input(\"First Data:    \"), B = input(\"Second Data:   \")      \n",
    "(P == A + B), (Q == A + B) \n",
    "(print(P),print(Q))\n",
    "P = P.replace(A+B, B), print(P)\n",
    "Q = Q.replace(A+B, A), print(Q)\n",
    "{(P = A)(Q = B)(print(A,B))}"
   ]
  },
  {
   "cell_type": "code",
   "execution_count": 3,
   "id": "fa26306e",
   "metadata": {},
   "outputs": [
    {
     "ename": "SyntaxError",
     "evalue": "invalid syntax. Maybe you meant '==' or ':=' instead of '='? (757492840.py, line 1)",
     "output_type": "error",
     "traceback": [
      "\u001b[1;36m  Cell \u001b[1;32mIn[3], line 1\u001b[1;36m\u001b[0m\n\u001b[1;33m    A = input(\"First Data:    \") and B = input(\"Second Data:   \")\u001b[0m\n\u001b[1;37m    ^\u001b[0m\n\u001b[1;31mSyntaxError\u001b[0m\u001b[1;31m:\u001b[0m invalid syntax. Maybe you meant '==' or ':=' instead of '='?\n"
     ]
    }
   ],
   "source": [
    "A = input(\"First Data:    \") and B = input(\"Second Data:   \")      \n",
    "(P == A + B), (Q == A + B) \n",
    "(print(P),print(Q))\n",
    "P = P.replace(A+B, B), print(P)\n",
    "Q = Q.replace(A+B, A), print(Q)\n",
    "{(P = A)(Q = B)(print(A,B))}"
   ]
  },
  {
   "cell_type": "code",
   "execution_count": 4,
   "id": "e4ac2be4",
   "metadata": {},
   "outputs": [
    {
     "ename": "SyntaxError",
     "evalue": "invalid syntax. Maybe you meant '==' or ':=' instead of '='? (3498659094.py, line 6)",
     "output_type": "error",
     "traceback": [
      "\u001b[1;36m  Cell \u001b[1;32mIn[4], line 6\u001b[1;36m\u001b[0m\n\u001b[1;33m    {(P = A)(Q = B)(print(A,B))}\u001b[0m\n\u001b[1;37m      ^\u001b[0m\n\u001b[1;31mSyntaxError\u001b[0m\u001b[1;31m:\u001b[0m invalid syntax. Maybe you meant '==' or ':=' instead of '='?\n"
     ]
    }
   ],
   "source": [
    "A == input(\"First Data:    \"), B == input(\"Second Data:   \")      \n",
    "(P == A + B), (Q == A + B) \n",
    "(print(P),print(Q))\n",
    "P = P.replace(A+B, B), print(P)\n",
    "Q = Q.replace(A+B, A), print(Q)\n",
    "{(P = A)(Q = B)(print(A,B))}"
   ]
  },
  {
   "cell_type": "code",
   "execution_count": 5,
   "id": "7d82298e",
   "metadata": {},
   "outputs": [
    {
     "ename": "NameError",
     "evalue": "name 'A' is not defined",
     "output_type": "error",
     "traceback": [
      "\u001b[1;31m---------------------------------------------------------------------------\u001b[0m",
      "\u001b[1;31mNameError\u001b[0m                                 Traceback (most recent call last)",
      "Cell \u001b[1;32mIn[5], line 1\u001b[0m\n\u001b[1;32m----> 1\u001b[0m \u001b[43mA\u001b[49m \u001b[38;5;241m==\u001b[39m \u001b[38;5;28minput\u001b[39m(\u001b[38;5;124m\"\u001b[39m\u001b[38;5;124mFirst Data:    \u001b[39m\u001b[38;5;124m\"\u001b[39m), B \u001b[38;5;241m==\u001b[39m \u001b[38;5;28minput\u001b[39m(\u001b[38;5;124m\"\u001b[39m\u001b[38;5;124mSecond Data:   \u001b[39m\u001b[38;5;124m\"\u001b[39m)      \n\u001b[0;32m      2\u001b[0m (P \u001b[38;5;241m==\u001b[39m A \u001b[38;5;241m+\u001b[39m B), (Q \u001b[38;5;241m==\u001b[39m A \u001b[38;5;241m+\u001b[39m B) \n\u001b[0;32m      3\u001b[0m (\u001b[38;5;28mprint\u001b[39m(P),\u001b[38;5;28mprint\u001b[39m(Q))\n",
      "\u001b[1;31mNameError\u001b[0m: name 'A' is not defined"
     ]
    }
   ],
   "source": [
    "A == input(\"First Data:    \"), B == input(\"Second Data:   \")      \n",
    "(P == A + B), (Q == A + B) \n",
    "(print(P),print(Q))\n",
    "P = P.replace(A+B, B), print(P)\n",
    "Q = Q.replace(A+B, A), print(Q)\n",
    "{(P == A)(Q == B)(print(A,B))}"
   ]
  },
  {
   "cell_type": "code",
   "execution_count": 7,
   "id": "ce339e7f",
   "metadata": {},
   "outputs": [
    {
     "ename": "SyntaxError",
     "evalue": "invalid syntax. Maybe you meant '==' or ':=' instead of '='? (4261288850.py, line 1)",
     "output_type": "error",
     "traceback": [
      "\u001b[1;36m  Cell \u001b[1;32mIn[7], line 1\u001b[1;36m\u001b[0m\n\u001b[1;33m    (A = input(\"First Data:    \"), B = input(\"Second Data:   \"))\u001b[0m\n\u001b[1;37m     ^\u001b[0m\n\u001b[1;31mSyntaxError\u001b[0m\u001b[1;31m:\u001b[0m invalid syntax. Maybe you meant '==' or ':=' instead of '='?\n"
     ]
    }
   ],
   "source": [
    "(A = input(\"First Data:    \"), B = input(\"Second Data:   \"))      \n",
    "(P == A + B), (Q == A + B) \n",
    "(print(P),print(Q))\n",
    "P = P.replace(A+B, B), print(P)\n",
    "Q = Q.replace(A+B, A), print(Q)\n",
    "{(P == A)(Q == B)(print(A,B))}"
   ]
  },
  {
   "cell_type": "code",
   "execution_count": 9,
   "id": "19c38671",
   "metadata": {},
   "outputs": [
    {
     "ename": "SyntaxError",
     "evalue": "invalid syntax (1157137377.py, line 1)",
     "output_type": "error",
     "traceback": [
      "\u001b[1;36m  Cell \u001b[1;32mIn[9], line 1\u001b[1;36m\u001b[0m\n\u001b[1;33m    (A == input(\"First Data:    \") !+ B == input(\"Second Data:   \"))\u001b[0m\n\u001b[1;37m                                   ^\u001b[0m\n\u001b[1;31mSyntaxError\u001b[0m\u001b[1;31m:\u001b[0m invalid syntax\n"
     ]
    }
   ],
   "source": [
    "(A == input(\"First Data:    \") !+ B == input(\"Second Data:   \"))      \n",
    "(P == A + B), (Q == A + B) \n",
    "(print(P),print(Q))\n",
    "P = P.replace(A+B, B), print(P)\n",
    "Q = Q.replace(A+B, A), print(Q)\n",
    "{(P == A)(Q == B)(print(A,B))}"
   ]
  },
  {
   "cell_type": "code",
   "execution_count": 10,
   "id": "2cc429d7",
   "metadata": {},
   "outputs": [
    {
     "ename": "NameError",
     "evalue": "name 'A' is not defined",
     "output_type": "error",
     "traceback": [
      "\u001b[1;31m---------------------------------------------------------------------------\u001b[0m",
      "\u001b[1;31mNameError\u001b[0m                                 Traceback (most recent call last)",
      "Cell \u001b[1;32mIn[10], line 1\u001b[0m\n\u001b[1;32m----> 1\u001b[0m ((\u001b[43mA\u001b[49m \u001b[38;5;241m==\u001b[39m \u001b[38;5;28minput\u001b[39m(\u001b[38;5;124m\"\u001b[39m\u001b[38;5;124mFirst Data:    \u001b[39m\u001b[38;5;124m\"\u001b[39m)) (B \u001b[38;5;241m==\u001b[39m \u001b[38;5;28minput\u001b[39m(\u001b[38;5;124m\"\u001b[39m\u001b[38;5;124mSecond Data:   \u001b[39m\u001b[38;5;124m\"\u001b[39m)))      \n\u001b[0;32m      2\u001b[0m (P \u001b[38;5;241m==\u001b[39m A \u001b[38;5;241m+\u001b[39m B), (Q \u001b[38;5;241m==\u001b[39m A \u001b[38;5;241m+\u001b[39m B) \n\u001b[0;32m      3\u001b[0m (\u001b[38;5;28mprint\u001b[39m(P),\u001b[38;5;28mprint\u001b[39m(Q))\n",
      "\u001b[1;31mNameError\u001b[0m: name 'A' is not defined"
     ]
    }
   ],
   "source": [
    "((A == input(\"First Data:    \")) (B == input(\"Second Data:   \")))      \n",
    "(P == A + B), (Q == A + B) \n",
    "(print(P),print(Q))\n",
    "P = P.replace(A+B, B), print(P)\n",
    "Q = Q.replace(A+B, A), print(Q)\n",
    "{(P == A)(Q == B)(print(A,B))}"
   ]
  },
  {
   "cell_type": "code",
   "execution_count": 11,
   "id": "ab2f7bb0",
   "metadata": {},
   "outputs": [
    {
     "name": "stdout",
     "output_type": "stream",
     "text": [
      "First Data:    AAaa\n",
      "Second Data:   BBaa\n"
     ]
    },
    {
     "ename": "NameError",
     "evalue": "name 'P' is not defined",
     "output_type": "error",
     "traceback": [
      "\u001b[1;31m---------------------------------------------------------------------------\u001b[0m",
      "\u001b[1;31mNameError\u001b[0m                                 Traceback (most recent call last)",
      "Cell \u001b[1;32mIn[11], line 3\u001b[0m\n\u001b[0;32m      1\u001b[0m A \u001b[38;5;241m=\u001b[39m \u001b[38;5;28minput\u001b[39m(\u001b[38;5;124m\"\u001b[39m\u001b[38;5;124mFirst Data:    \u001b[39m\u001b[38;5;124m\"\u001b[39m)\n\u001b[0;32m      2\u001b[0m B \u001b[38;5;241m=\u001b[39m \u001b[38;5;28minput\u001b[39m(\u001b[38;5;124m\"\u001b[39m\u001b[38;5;124mSecond Data:   \u001b[39m\u001b[38;5;124m\"\u001b[39m)      \n\u001b[1;32m----> 3\u001b[0m (\u001b[43mP\u001b[49m \u001b[38;5;241m==\u001b[39m A \u001b[38;5;241m+\u001b[39m B), (Q \u001b[38;5;241m==\u001b[39m A \u001b[38;5;241m+\u001b[39m B) \n\u001b[0;32m      4\u001b[0m (\u001b[38;5;28mprint\u001b[39m(P),\u001b[38;5;28mprint\u001b[39m(Q))\n\u001b[0;32m      5\u001b[0m P \u001b[38;5;241m=\u001b[39m P\u001b[38;5;241m.\u001b[39mreplace(A\u001b[38;5;241m+\u001b[39mB, B), \u001b[38;5;28mprint\u001b[39m(P)\n",
      "\u001b[1;31mNameError\u001b[0m: name 'P' is not defined"
     ]
    }
   ],
   "source": [
    "A = input(\"First Data:    \")\n",
    "B = input(\"Second Data:   \")      \n",
    "(P == A + B), (Q == A + B) \n",
    "(print(P),print(Q))\n",
    "P = P.replace(A+B, B), print(P)\n",
    "Q = Q.replace(A+B, A), print(Q)\n",
    "{(P == A)(Q == B)(print(A,B))}"
   ]
  },
  {
   "cell_type": "code",
   "execution_count": 12,
   "id": "bbb954d0",
   "metadata": {},
   "outputs": [
    {
     "ename": "SyntaxError",
     "evalue": "invalid syntax. Maybe you meant '==' or ':=' instead of '='? (3367627560.py, line 3)",
     "output_type": "error",
     "traceback": [
      "\u001b[1;36m  Cell \u001b[1;32mIn[12], line 3\u001b[1;36m\u001b[0m\n\u001b[1;33m    (P = A + B), (Q = A + B)\u001b[0m\n\u001b[1;37m     ^\u001b[0m\n\u001b[1;31mSyntaxError\u001b[0m\u001b[1;31m:\u001b[0m invalid syntax. Maybe you meant '==' or ':=' instead of '='?\n"
     ]
    }
   ],
   "source": [
    "A = input(\"First Data:    \")\n",
    "B = input(\"Second Data:   \")      \n",
    "(P = A + B), (Q = A + B) \n",
    "(print(P),print(Q))\n",
    "P = P.replace(A+B, B), print(P)\n",
    "Q = Q.replace(A+B, A), print(Q)\n",
    "{(P = A)(Q = B)(print(A,B))}"
   ]
  },
  {
   "cell_type": "code",
   "execution_count": 9,
   "id": "4f8aa210",
   "metadata": {},
   "outputs": [
    {
     "name": "stdout",
     "output_type": "stream",
     "text": [
      "First Data:    AAAaaa\n",
      "Second Data:   BBBbbb\n"
     ]
    },
    {
     "ename": "NameError",
     "evalue": "name 'P' is not defined",
     "output_type": "error",
     "traceback": [
      "\u001b[1;31m---------------------------------------------------------------------------\u001b[0m",
      "\u001b[1;31mNameError\u001b[0m                                 Traceback (most recent call last)",
      "Cell \u001b[1;32mIn[9], line 3\u001b[0m\n\u001b[0;32m      1\u001b[0m A \u001b[38;5;241m=\u001b[39m \u001b[38;5;28minput\u001b[39m(\u001b[38;5;124m\"\u001b[39m\u001b[38;5;124mFirst Data:    \u001b[39m\u001b[38;5;124m\"\u001b[39m)\n\u001b[0;32m      2\u001b[0m B \u001b[38;5;241m=\u001b[39m \u001b[38;5;28minput\u001b[39m(\u001b[38;5;124m\"\u001b[39m\u001b[38;5;124mSecond Data:   \u001b[39m\u001b[38;5;124m\"\u001b[39m)      \n\u001b[1;32m----> 3\u001b[0m (\u001b[43mP\u001b[49m \u001b[38;5;241m==\u001b[39m A \u001b[38;5;241m+\u001b[39m B)\n\u001b[0;32m      4\u001b[0m (Q \u001b[38;5;241m==\u001b[39m A \u001b[38;5;241m+\u001b[39m B) \n\u001b[0;32m      5\u001b[0m (\u001b[38;5;28mprint\u001b[39m(P),\u001b[38;5;28mprint\u001b[39m(Q))\n",
      "\u001b[1;31mNameError\u001b[0m: name 'P' is not defined"
     ]
    }
   ],
   "source": [
    "A = input(\"First Data:    \")\n",
    "B = input(\"Second Data:   \")      \n",
    "(P == A + B)\n",
    "(Q == A + B) \n",
    "(print(P),print(Q))\n",
    "P = P.replace(A+B, B), print(P)\n",
    "Q = Q.replace(A+B, A), print(Q)\n",
    "{(P == A),(Q == B),(print(A,B))}"
   ]
  },
  {
   "cell_type": "code",
   "execution_count": 11,
   "id": "1369f71d",
   "metadata": {},
   "outputs": [
    {
     "ename": "SyntaxError",
     "evalue": "incomplete input (735385334.py, line 9)",
     "output_type": "error",
     "traceback": [
      "\u001b[1;36m  Cell \u001b[1;32mIn[11], line 9\u001b[1;36m\u001b[0m\n\u001b[1;33m    (print(A,B)\u001b[0m\n\u001b[1;37m               ^\u001b[0m\n\u001b[1;31mSyntaxError\u001b[0m\u001b[1;31m:\u001b[0m incomplete input\n"
     ]
    }
   ],
   "source": [
    "A = input(\"First Data:    \")\n",
    "B = input(\"Second Data:   \")      \n",
    "P = A + B\n",
    "Q = A + B \n",
    "(print(P),print(Q))\n",
    "P = P.replace(A+B, B), print(P)\n",
    "Q = Q.replace(A+B, A), print(Q)\n",
    "P = A,Q = B,(print(A,B)"
   ]
  },
  {
   "cell_type": "code",
   "execution_count": 14,
   "id": "3e05c11d",
   "metadata": {},
   "outputs": [
    {
     "name": "stdout",
     "output_type": "stream",
     "text": [
      "First Data:    AAAaaa\n",
      "Second Data:   BBBbbb\n",
      "AAAaaaBBBbbb\n",
      "AAAaaaBBBbbb\n",
      "AAAaaa BBBbbb\n"
     ]
    }
   ],
   "source": [
    "A = input(\"First Data:    \")\n",
    "B = input(\"Second Data:   \")      \n",
    "P = A + B\n",
    "Q = A + B \n",
    "(print(P),print(Q))\n",
    "P = P.replace(A+B, B)\n",
    "Q = Q.replace(A+B, A)\n",
    "P = B,Q = A,(print(A,B))"
   ]
  },
  {
   "cell_type": "markdown",
   "id": "10794f29",
   "metadata": {},
   "source": [
    "# Swapping  --- BY  -- .split() method"
   ]
  },
  {
   "cell_type": "code",
   "execution_count": 1,
   "id": "d5f92abb",
   "metadata": {},
   "outputs": [
    {
     "name": "stdout",
     "output_type": "stream",
     "text": [
      "First Data:    23\n",
      "Second Data:   56\n",
      "['', '56']\n",
      "['23', '']\n"
     ]
    }
   ],
   "source": [
    "A = input(\"First Data:    \")     # using .split() method\n",
    "B = input(\"Second Data:   \")      \n",
    "X = Y = A + B\n",
    "X = X.split(A)             # X,Y,A,B  are already STRINGS so no need to use DOUBLE Quotation MARKs\n",
    "print(X)\n",
    "Y = Y.split(B)\n",
    "print(Y)"
   ]
  },
  {
   "cell_type": "code",
   "execution_count": 7,
   "id": "cd4ba62c",
   "metadata": {},
   "outputs": [
    {
     "name": "stdout",
     "output_type": "stream",
     "text": [
      "First Data:    23\n",
      "Second Data:   45\n",
      "\n",
      "['23', '']\n"
     ]
    }
   ],
   "source": [
    "A = input(\"First Data:    \")     # using .split() method   +  INDEXING OF STRING\n",
    "B = input(\"Second Data:   \")      \n",
    "X = Y = A + B\n",
    "X = X.split(A)             # X,Y,A,B  are already STRINGS so no need to use DOUBLE Quotation MARKs\n",
    "print(X[0])\n",
    "\n",
    "Y = Y.split(B)\n",
    "print(Y)"
   ]
  },
  {
   "cell_type": "code",
   "execution_count": 8,
   "id": "5c173127",
   "metadata": {},
   "outputs": [
    {
     "name": "stdout",
     "output_type": "stream",
     "text": [
      "First Data:    23\n",
      "Second Data:   45\n",
      "45\n",
      "['23', '']\n"
     ]
    }
   ],
   "source": [
    "A = input(\"First Data:    \")     # using .split() method   +  INDEXING OF STRING\n",
    "B = input(\"Second Data:   \")      \n",
    "X = Y = A + B\n",
    "X = X.split(A)             # X,Y,A,B  are already STRINGS so no need to use DOUBLE Quotation MARKs\n",
    "print(X[1])\n",
    "\n",
    "Y = Y.split(B)\n",
    "print(Y)"
   ]
  },
  {
   "cell_type": "code",
   "execution_count": 9,
   "id": "51a5b66c",
   "metadata": {},
   "outputs": [
    {
     "name": "stdout",
     "output_type": "stream",
     "text": [
      "First Data:    23\n",
      "Second Data:   45\n",
      "45\n",
      "23\n"
     ]
    }
   ],
   "source": [
    "A = input(\"First Data:    \")     # using .split() method   +  INDEXING OF STRING\n",
    "B = input(\"Second Data:   \")      \n",
    "X = Y = A + B\n",
    "X = X.split(A)             # X,Y,A,B  are already STRINGS so no need to use DOUBLE Quotation MARKs\n",
    "print(X[1])\n",
    "Y = Y.split(B)\n",
    "print(Y[0])"
   ]
  },
  {
   "cell_type": "code",
   "execution_count": 10,
   "id": "9eb1e3a4",
   "metadata": {},
   "outputs": [
    {
     "name": "stdout",
     "output_type": "stream",
     "text": [
      "First Data:    234\n",
      "Second Data:   567\n",
      "567\n",
      "234\n"
     ]
    }
   ],
   "source": [
    "A = input(\"First Data:    \")     # SWAPPING  using .split() method   +  INDEXING OF STRING\n",
    "B = input(\"Second Data:   \")      \n",
    "X = Y = A + B\n",
    "A = X.split(A)             # X,Y,A,B  are already STRINGS so no need to use DOUBLE Quotation MARKs\n",
    "print(A[1])\n",
    "B = Y.split(B)\n",
    "print(B[0])"
   ]
  },
  {
   "cell_type": "code",
   "execution_count": null,
   "id": "b5fa2ccd",
   "metadata": {},
   "outputs": [],
   "source": [
    "# --- DONE --SWAPPING  using .split() method   +  INDEXING OF STRING"
   ]
  },
  {
   "cell_type": "code",
   "execution_count": 11,
   "id": "3e9d5145",
   "metadata": {},
   "outputs": [
    {
     "name": "stdout",
     "output_type": "stream",
     "text": [
      "First Data:    2345\n",
      "Second Data:   6789\n",
      "['', '6789']\n",
      "6789\n",
      "['2345', '']\n",
      "2345\n"
     ]
    }
   ],
   "source": [
    "A = input(\"First Data:    \")            #SWAPPING  using .split() method   +  INDEXING OF STRING\n",
    "B = input(\"Second Data:   \")      \n",
    "X = Y = A + B\n",
    "A = X.split(A)             # X,Y,A,B  are already STRINGS so no need to use DOUBLE Quotation MARKs\n",
    "print(A)\n",
    "print(A[1])\n",
    "B = Y.split(B)\n",
    "print(B)\n",
    "print(B[0])"
   ]
  },
  {
   "cell_type": "code",
   "execution_count": 3,
   "id": "81af930d",
   "metadata": {
    "scrolled": true
   },
   "outputs": [
    {
     "name": "stdout",
     "output_type": "stream",
     "text": [
      "First Data:    234\n",
      "Second Data:   567\n",
      "['', '567']\n",
      "567\n",
      "['234', '']\n",
      "234\n",
      "567 234\n"
     ]
    }
   ],
   "source": [
    "A = input(\"First Data:    \")            #SWAPPING  using .split() method   +  INDEXING OF STRING\n",
    "B = input(\"Second Data:   \")      \n",
    "X = Y = A + B\n",
    "P = X.split(A)             # X,Y,A,B  are already STRINGS so no need to use DOUBLE Quotation MARKs\n",
    "print(P)\n",
    "print(P[1])\n",
    "Q = Y.split(B)\n",
    "print(Q)\n",
    "print(Q[0])\n",
    "B = Q[0]\n",
    "A = P[1]\n",
    "print(A,B)"
   ]
  },
  {
   "cell_type": "code",
   "execution_count": 2,
   "id": "ae65356a",
   "metadata": {},
   "outputs": [
    {
     "name": "stdout",
     "output_type": "stream",
     "text": [
      "First Data:    aaaaaaaaaa\n",
      "Second Data:   bbb\n",
      "['aaaaaaaaaabbb']\n"
     ]
    },
    {
     "ename": "IndexError",
     "evalue": "list index out of range",
     "output_type": "error",
     "traceback": [
      "\u001b[1;31m---------------------------------------------------------------------------\u001b[0m",
      "\u001b[1;31mIndexError\u001b[0m                                Traceback (most recent call last)",
      "Cell \u001b[1;32mIn[2], line 6\u001b[0m\n\u001b[0;32m      4\u001b[0m P \u001b[38;5;241m=\u001b[39m X\u001b[38;5;241m.\u001b[39msplit()             \u001b[38;5;66;03m# X,Y,A,B  are already STRINGS so no need to use DOUBLE Quotation MARKs\u001b[39;00m\n\u001b[0;32m      5\u001b[0m \u001b[38;5;28mprint\u001b[39m(P)\n\u001b[1;32m----> 6\u001b[0m \u001b[38;5;28mprint\u001b[39m(\u001b[43mP\u001b[49m\u001b[43m[\u001b[49m\u001b[38;5;241;43m1\u001b[39;49m\u001b[43m]\u001b[49m)\n\u001b[0;32m      7\u001b[0m Q \u001b[38;5;241m=\u001b[39m Y\u001b[38;5;241m.\u001b[39msplit()\n\u001b[0;32m      8\u001b[0m \u001b[38;5;28mprint\u001b[39m(Q)\n",
      "\u001b[1;31mIndexError\u001b[0m: list index out of range"
     ]
    }
   ],
   "source": [
    "A = input(\"First Data:    \")            #SWAPPING  using .split() method   +  INDEXING OF STRING\n",
    "B = input(\"Second Data:   \")      \n",
    "X = Y = A + B\n",
    "P = X.split()             # X,Y,A,B  are already STRINGS so no need to use DOUBLE Quotation MARKs\n",
    "print(P)\n",
    "print(P[1])\n",
    "Q = Y.split()\n",
    "print(Q)\n",
    "print(Q[0])\n",
    "B = Q[0]\n",
    "A = P[1]\n",
    "print(A,B)            #   Do it by Rohit ji's method"
   ]
  },
  {
   "cell_type": "markdown",
   "id": "3054ac14",
   "metadata": {},
   "source": [
    "# Swapping  --- BY  -- \"\\t\"  method"
   ]
  },
  {
   "cell_type": "code",
   "execution_count": null,
   "id": "4a287784",
   "metadata": {},
   "outputs": [],
   "source": []
  }
 ],
 "metadata": {
  "kernelspec": {
   "display_name": "Python 3 (ipykernel)",
   "language": "python",
   "name": "python3"
  },
  "language_info": {
   "codemirror_mode": {
    "name": "ipython",
    "version": 3
   },
   "file_extension": ".py",
   "mimetype": "text/x-python",
   "name": "python",
   "nbconvert_exporter": "python",
   "pygments_lexer": "ipython3",
   "version": "3.10.9"
  }
 },
 "nbformat": 4,
 "nbformat_minor": 5
}
