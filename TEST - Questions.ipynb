{
 "cells": [
  {
   "cell_type": "markdown",
   "id": "b81fee44",
   "metadata": {},
   "source": [
    "# TEST\n"
   ]
  },
  {
   "cell_type": "code",
   "execution_count": 6,
   "id": "16e76fce",
   "metadata": {
    "scrolled": true
   },
   "outputs": [
    {
     "name": "stdout",
     "output_type": "stream",
     "text": [
      "First  number:   23\n",
      "Second number:   2\n",
      "25 21 46 11.5 11 1 529\n"
     ]
    }
   ],
   "source": [
    "# Calculator\n",
    "\n",
    "x = int(input(\"First  number:   \"))\n",
    "y = int(input(\"Second number:   \"))\n",
    "print(x+y,x-y,x*y,x/y,x//y,x%y,x**y)\n"
   ]
  },
  {
   "cell_type": "code",
   "execution_count": null,
   "id": "1da08df6",
   "metadata": {},
   "outputs": [],
   "source": [
    "\n"
   ]
  },
  {
   "cell_type": "code",
   "execution_count": null,
   "id": "a7867483",
   "metadata": {},
   "outputs": [],
   "source": []
  },
  {
   "cell_type": "code",
   "execution_count": null,
   "id": "727e3d4c",
   "metadata": {},
   "outputs": [],
   "source": []
  },
  {
   "cell_type": "code",
   "execution_count": null,
   "id": "5ef552a8",
   "metadata": {},
   "outputs": [],
   "source": []
  },
  {
   "cell_type": "code",
   "execution_count": 1,
   "id": "dc93379d",
   "metadata": {},
   "outputs": [
    {
     "ename": "ValueError",
     "evalue": "invalid literal for int() with base 10: 'Enter a Two Digit integer: '",
     "output_type": "error",
     "traceback": [
      "\u001b[1;31m---------------------------------------------------------------------------\u001b[0m",
      "\u001b[1;31mValueError\u001b[0m                                Traceback (most recent call last)",
      "Cell \u001b[1;32mIn[1], line 3\u001b[0m\n\u001b[0;32m      1\u001b[0m \u001b[38;5;66;03m# take a two digit Integer form user and print the digit at one's place separately.\u001b[39;00m\n\u001b[1;32m----> 3\u001b[0m Data \u001b[38;5;241m=\u001b[39m \u001b[38;5;28minput\u001b[39m(\u001b[38;5;28;43mint\u001b[39;49m\u001b[43m(\u001b[49m\u001b[38;5;124;43m\"\u001b[39;49m\u001b[38;5;124;43mEnter a Two Digit integer: \u001b[39;49m\u001b[38;5;124;43m\"\u001b[39;49m\u001b[43m)\u001b[49m)\n\u001b[0;32m      4\u001b[0m \u001b[38;5;28mprint\u001b[39m(\u001b[38;5;124m\"\u001b[39m\u001b[38;5;130;01m\\n\u001b[39;00m\u001b[38;5;124m\"\u001b[39m)\n\u001b[0;32m      6\u001b[0m x  \u001b[38;5;241m=\u001b[39m Data\u001b[38;5;241m%\u001b[39m\u001b[38;5;241m10\u001b[39m \n",
      "\u001b[1;31mValueError\u001b[0m: invalid literal for int() with base 10: 'Enter a Two Digit integer: '"
     ]
    }
   ],
   "source": [
    "# take a two digit Integer form user and print the digit at one's place separately.\n",
    "\n",
    "Data = input(int(\"Enter a Two Digit integer: \"))\n",
    "print(\"\\n\")\n",
    "\n",
    "x  = Data%10 \n",
    "\n",
    "print(\"x\")\n"
   ]
  },
  {
   "cell_type": "code",
   "execution_count": 2,
   "id": "5c8d7a00",
   "metadata": {
    "scrolled": true
   },
   "outputs": [
    {
     "name": "stdout",
     "output_type": "stream",
     "text": [
      "Enter a Two Digit integer: 24\n",
      "\n",
      "\n",
      "x\n"
     ]
    }
   ],
   "source": [
    "# take a two digit Integer form user and print the digit at one's place separately.\n",
    "\n",
    "Data = int(input(\"Enter a Two Digit integer: \"))\n",
    "print(\"\\n\")\n",
    "\n",
    "x  = Data%10 \n",
    "\n",
    "print(\"x\")"
   ]
  },
  {
   "cell_type": "code",
   "execution_count": 3,
   "id": "2238d965",
   "metadata": {
    "scrolled": true
   },
   "outputs": [
    {
     "name": "stdout",
     "output_type": "stream",
     "text": [
      "Enter a Two Digit integer: 24\n"
     ]
    },
    {
     "ename": "TypeError",
     "evalue": "type() takes 1 or 3 arguments",
     "output_type": "error",
     "traceback": [
      "\u001b[1;31m---------------------------------------------------------------------------\u001b[0m",
      "\u001b[1;31mTypeError\u001b[0m                                 Traceback (most recent call last)",
      "Cell \u001b[1;32mIn[3], line 4\u001b[0m\n\u001b[0;32m      1\u001b[0m \u001b[38;5;66;03m# take a two digit Integer form user and print the digit at one's place separately.\u001b[39;00m\n\u001b[0;32m      3\u001b[0m Data \u001b[38;5;241m=\u001b[39m (\u001b[38;5;28minput\u001b[39m(\u001b[38;5;124m\"\u001b[39m\u001b[38;5;124mEnter a Two Digit integer: \u001b[39m\u001b[38;5;124m\"\u001b[39m))\n\u001b[1;32m----> 4\u001b[0m Data \u001b[38;5;241m=\u001b[39m \u001b[38;5;28;43mtype\u001b[39;49m\u001b[43m(\u001b[49m\u001b[38;5;28;43mint\u001b[39;49m\u001b[43m \u001b[49m\u001b[38;5;241;43m=\u001b[39;49m\u001b[43m \u001b[49m\u001b[43mData\u001b[49m\u001b[43m)\u001b[49m\n\u001b[0;32m      5\u001b[0m \u001b[38;5;28mprint\u001b[39m(\u001b[38;5;124m\"\u001b[39m\u001b[38;5;130;01m\\n\u001b[39;00m\u001b[38;5;124m\"\u001b[39m)\n\u001b[0;32m      7\u001b[0m x  \u001b[38;5;241m=\u001b[39m Data\u001b[38;5;241m%\u001b[39m\u001b[38;5;241m10\u001b[39m\n",
      "\u001b[1;31mTypeError\u001b[0m: type() takes 1 or 3 arguments"
     ]
    }
   ],
   "source": [
    "# take a two digit Integer form user and print the digit at one's place separately.\n",
    "\n",
    "Data = (input(\"Enter a Two Digit integer: \"))\n",
    "Data = type(int = Data)\n",
    "print(\"\\n\")\n",
    "\n",
    "x  = Data%10 \n",
    "\n"
   ]
  },
  {
   "cell_type": "code",
   "execution_count": 4,
   "id": "c290b93d",
   "metadata": {
    "scrolled": false
   },
   "outputs": [
    {
     "name": "stdout",
     "output_type": "stream",
     "text": [
      "Enter a Two Digit integer: 24\n",
      "\n",
      "\n"
     ]
    },
    {
     "ename": "TypeError",
     "evalue": "not all arguments converted during string formatting",
     "output_type": "error",
     "traceback": [
      "\u001b[1;31m---------------------------------------------------------------------------\u001b[0m",
      "\u001b[1;31mTypeError\u001b[0m                                 Traceback (most recent call last)",
      "Cell \u001b[1;32mIn[4], line 7\u001b[0m\n\u001b[0;32m      4\u001b[0m Answer \u001b[38;5;241m=\u001b[39m \u001b[38;5;28mtype\u001b[39m(\u001b[38;5;28mint\u001b[39m(Data))\n\u001b[0;32m      5\u001b[0m \u001b[38;5;28mprint\u001b[39m(\u001b[38;5;124m\"\u001b[39m\u001b[38;5;130;01m\\n\u001b[39;00m\u001b[38;5;124m\"\u001b[39m)\n\u001b[1;32m----> 7\u001b[0m x  \u001b[38;5;241m=\u001b[39m \u001b[43mData\u001b[49m\u001b[38;5;241;43m%\u001b[39;49m\u001b[38;5;241;43m10\u001b[39;49m\n",
      "\u001b[1;31mTypeError\u001b[0m: not all arguments converted during string formatting"
     ]
    }
   ],
   "source": [
    "# take a two digit Integer form user and print the digit at one's place separately.\n",
    "\n",
    "Data = (input(\"Enter a Two Digit integer: \"))\n",
    "Answer = type(int(Data))\n",
    "print(\"\\n\")\n",
    "\n",
    "x  = Data%10"
   ]
  },
  {
   "cell_type": "code",
   "execution_count": 5,
   "id": "bb725190",
   "metadata": {},
   "outputs": [
    {
     "name": "stdout",
     "output_type": "stream",
     "text": [
      "Enter a Two Digit integer: 24\n"
     ]
    },
    {
     "ename": "TypeError",
     "evalue": "type() takes 1 or 3 arguments",
     "output_type": "error",
     "traceback": [
      "\u001b[1;31m---------------------------------------------------------------------------\u001b[0m",
      "\u001b[1;31mTypeError\u001b[0m                                 Traceback (most recent call last)",
      "Cell \u001b[1;32mIn[5], line 4\u001b[0m\n\u001b[0;32m      1\u001b[0m \u001b[38;5;66;03m# take a two digit Integer form user and print the digit at one's place separately.\u001b[39;00m\n\u001b[0;32m      3\u001b[0m Data \u001b[38;5;241m=\u001b[39m (\u001b[38;5;28minput\u001b[39m(\u001b[38;5;124m\"\u001b[39m\u001b[38;5;124mEnter a Two Digit integer: \u001b[39m\u001b[38;5;124m\"\u001b[39m))\n\u001b[1;32m----> 4\u001b[0m Data \u001b[38;5;241m=\u001b[39m \u001b[38;5;28;43mtype\u001b[39;49m\u001b[43m(\u001b[49m\u001b[38;5;28;43mint\u001b[39;49m\u001b[43m \u001b[49m\u001b[38;5;241;43m=\u001b[39;49m\u001b[43m \u001b[49m\u001b[43mData\u001b[49m\u001b[43m)\u001b[49m\n\u001b[0;32m      5\u001b[0m \u001b[38;5;28mprint\u001b[39m(\u001b[38;5;124m\"\u001b[39m\u001b[38;5;130;01m\\n\u001b[39;00m\u001b[38;5;124m\"\u001b[39m)\n\u001b[0;32m      7\u001b[0m Answer  \u001b[38;5;241m=\u001b[39m Data\u001b[38;5;241m%\u001b[39m\u001b[38;5;241m10\u001b[39m\n",
      "\u001b[1;31mTypeError\u001b[0m: type() takes 1 or 3 arguments"
     ]
    }
   ],
   "source": [
    "# take a two digit Integer form user and print the digit at one's place separately.\n",
    "\n",
    "Data = (input(\"Enter a Two Digit integer: \"))\n",
    "Data = type(int = Data)\n",
    "print(\"\\n\")\n",
    "\n",
    "Answer  = Data%10"
   ]
  },
  {
   "cell_type": "code",
   "execution_count": 6,
   "id": "bea7dd2a",
   "metadata": {
    "scrolled": true
   },
   "outputs": [
    {
     "name": "stdout",
     "output_type": "stream",
     "text": [
      "Enter a Two Digit integer: 24\n",
      "\n",
      "\n"
     ]
    },
    {
     "ename": "TypeError",
     "evalue": "unsupported operand type(s) for %: 'type' and 'int'",
     "output_type": "error",
     "traceback": [
      "\u001b[1;31m---------------------------------------------------------------------------\u001b[0m",
      "\u001b[1;31mTypeError\u001b[0m                                 Traceback (most recent call last)",
      "Cell \u001b[1;32mIn[6], line 7\u001b[0m\n\u001b[0;32m      4\u001b[0m Data \u001b[38;5;241m=\u001b[39m \u001b[38;5;28mtype\u001b[39m(\u001b[38;5;28mint\u001b[39m(Data))\n\u001b[0;32m      5\u001b[0m \u001b[38;5;28mprint\u001b[39m(\u001b[38;5;124m\"\u001b[39m\u001b[38;5;130;01m\\n\u001b[39;00m\u001b[38;5;124m\"\u001b[39m)\n\u001b[1;32m----> 7\u001b[0m Answer  \u001b[38;5;241m=\u001b[39m \u001b[43mData\u001b[49m\u001b[38;5;241;43m%\u001b[39;49m\u001b[38;5;241;43m10\u001b[39;49m\n",
      "\u001b[1;31mTypeError\u001b[0m: unsupported operand type(s) for %: 'type' and 'int'"
     ]
    }
   ],
   "source": [
    "# take a two digit Integer form user and print the digit at one's place separately.\n",
    "\n",
    "Data = (input(\"Enter a Two Digit integer: \"))\n",
    "Data = type(int(Data))\n",
    "print(\"\\n\")\n",
    "\n",
    "Answer  = Data%10\n"
   ]
  },
  {
   "cell_type": "code",
   "execution_count": 7,
   "id": "ce9ce3e9",
   "metadata": {},
   "outputs": [
    {
     "name": "stdout",
     "output_type": "stream",
     "text": [
      "Enter a Two Digit integer: 24\n",
      "\n",
      "\n"
     ]
    }
   ],
   "source": [
    "# take a two digit Integer form user and print the digit at one's place separately.\n",
    "\n",
    "Data = (input(\"Enter a Two Digit integer: \"))\n",
    "Data = (int(Data))\n",
    "print(\"\\n\")\n",
    "\n",
    "Answer  = Data%10"
   ]
  },
  {
   "cell_type": "code",
   "execution_count": 8,
   "id": "19ee87fb",
   "metadata": {},
   "outputs": [
    {
     "name": "stdout",
     "output_type": "stream",
     "text": [
      "Enter a Two Digit integer: 24\n",
      "\n",
      "\n",
      "Answer\n"
     ]
    }
   ],
   "source": [
    "# take a two digit Integer form user and print the digit at one's place separately.\n",
    "\n",
    "Data = (input(\"Enter a Two Digit integer: \"))\n",
    "Data = (int(Data))\n",
    "print(\"\\n\")\n",
    "\n",
    "Answer  = Data%10\n",
    "print(\"Answer\")"
   ]
  },
  {
   "cell_type": "code",
   "execution_count": 2,
   "id": "b0016e53",
   "metadata": {},
   "outputs": [],
   "source": [
    "x = 24 % 10"
   ]
  },
  {
   "cell_type": "code",
   "execution_count": 3,
   "id": "5a85c27e",
   "metadata": {},
   "outputs": [
    {
     "data": {
      "text/plain": [
       "4"
      ]
     },
     "execution_count": 3,
     "metadata": {},
     "output_type": "execute_result"
    }
   ],
   "source": [
    "24 % 10"
   ]
  },
  {
   "cell_type": "code",
   "execution_count": 4,
   "id": "03075350",
   "metadata": {},
   "outputs": [
    {
     "ename": "SyntaxError",
     "evalue": "'(' was never closed (2995521875.py, line 4)",
     "output_type": "error",
     "traceback": [
      "\u001b[1;36m  Cell \u001b[1;32mIn[4], line 4\u001b[1;36m\u001b[0m\n\u001b[1;33m    Data = (int(type(Data))\u001b[0m\n\u001b[1;37m           ^\u001b[0m\n\u001b[1;31mSyntaxError\u001b[0m\u001b[1;31m:\u001b[0m '(' was never closed\n"
     ]
    }
   ],
   "source": [
    "# take a two digit Integer form user and print the digit at one's place separately.\n",
    "\n",
    "Data = (input(\"Enter a Two Digit integer: \"))\n",
    "Data = (int(type(Data))\n",
    "print(\"\\n\")\n",
    "\n",
    "Answer  = Data%10\n",
    "print(\"Answer\")"
   ]
  },
  {
   "cell_type": "code",
   "execution_count": 5,
   "id": "09dd1622",
   "metadata": {},
   "outputs": [
    {
     "ename": "SyntaxError",
     "evalue": "'(' was never closed (119119316.py, line 4)",
     "output_type": "error",
     "traceback": [
      "\u001b[1;36m  Cell \u001b[1;32mIn[5], line 4\u001b[1;36m\u001b[0m\n\u001b[1;33m    Data = int(type(Data)\u001b[0m\n\u001b[1;37m              ^\u001b[0m\n\u001b[1;31mSyntaxError\u001b[0m\u001b[1;31m:\u001b[0m '(' was never closed\n"
     ]
    }
   ],
   "source": [
    "# take a two digit Integer form user and print the digit at one's place separately.\n",
    "\n",
    "Data = (input(\"Enter a Two Digit integer: \"))\n",
    "Data = int(type(Data)\n",
    "print(\"\\n\")\n",
    "\n",
    "Answer  = Data%10\n"
   ]
  },
  {
   "cell_type": "code",
   "execution_count": 6,
   "id": "0dbdc3ea",
   "metadata": {
    "scrolled": true
   },
   "outputs": [
    {
     "name": "stdout",
     "output_type": "stream",
     "text": [
      "Enter a Two Digit integer: 24\n"
     ]
    },
    {
     "ename": "TypeError",
     "evalue": "int() argument must be a string, a bytes-like object or a real number, not 'type'",
     "output_type": "error",
     "traceback": [
      "\u001b[1;31m---------------------------------------------------------------------------\u001b[0m",
      "\u001b[1;31mTypeError\u001b[0m                                 Traceback (most recent call last)",
      "Cell \u001b[1;32mIn[6], line 2\u001b[0m\n\u001b[0;32m      1\u001b[0m Data \u001b[38;5;241m=\u001b[39m (\u001b[38;5;28minput\u001b[39m(\u001b[38;5;124m\"\u001b[39m\u001b[38;5;124mEnter a Two Digit integer: \u001b[39m\u001b[38;5;124m\"\u001b[39m))\n\u001b[1;32m----> 2\u001b[0m Data \u001b[38;5;241m=\u001b[39m \u001b[38;5;28;43mint\u001b[39;49m\u001b[43m(\u001b[49m\u001b[38;5;28;43mtype\u001b[39;49m\u001b[43m(\u001b[49m\u001b[43mData\u001b[49m\u001b[43m)\u001b[49m\u001b[43m)\u001b[49m\n\u001b[0;32m      3\u001b[0m \u001b[38;5;28mprint\u001b[39m(\u001b[38;5;124m\"\u001b[39m\u001b[38;5;130;01m\\n\u001b[39;00m\u001b[38;5;124m\"\u001b[39m)\n\u001b[0;32m      5\u001b[0m Answer  \u001b[38;5;241m=\u001b[39m Data\u001b[38;5;241m%\u001b[39m\u001b[38;5;241m10\u001b[39m\n",
      "\u001b[1;31mTypeError\u001b[0m: int() argument must be a string, a bytes-like object or a real number, not 'type'"
     ]
    }
   ],
   "source": [
    "Data = (input(\"Enter a Two Digit integer: \"))\n",
    "Data = int(type(Data))\n",
    "print(\"\\n\")\n",
    "\n",
    "Answer  = Data%10"
   ]
  },
  {
   "cell_type": "code",
   "execution_count": 7,
   "id": "a633ffe3",
   "metadata": {},
   "outputs": [
    {
     "name": "stdout",
     "output_type": "stream",
     "text": [
      "Enter a Two Digit integer: 24\n"
     ]
    },
    {
     "ename": "ValueError",
     "evalue": "invalid literal for int() with base 10: '\\n'",
     "output_type": "error",
     "traceback": [
      "\u001b[1;31m---------------------------------------------------------------------------\u001b[0m",
      "\u001b[1;31mValueError\u001b[0m                                Traceback (most recent call last)",
      "Cell \u001b[1;32mIn[7], line 3\u001b[0m\n\u001b[0;32m      1\u001b[0m Data \u001b[38;5;241m=\u001b[39m (\u001b[38;5;28minput\u001b[39m(\u001b[38;5;124m\"\u001b[39m\u001b[38;5;124mEnter a Two Digit integer: \u001b[39m\u001b[38;5;124m\"\u001b[39m))\n\u001b[0;32m      2\u001b[0m \u001b[38;5;28mprint\u001b[39m \u001b[38;5;241m=\u001b[39m (\u001b[38;5;28mtype\u001b[39m(\u001b[38;5;28mint\u001b[39m(Data)))\n\u001b[1;32m----> 3\u001b[0m \u001b[38;5;28;43mprint\u001b[39;49m\u001b[43m(\u001b[49m\u001b[38;5;124;43m\"\u001b[39;49m\u001b[38;5;130;43;01m\\n\u001b[39;49;00m\u001b[38;5;124;43m\"\u001b[39;49m\u001b[43m)\u001b[49m\n\u001b[0;32m      5\u001b[0m Answer  \u001b[38;5;241m=\u001b[39m Data\u001b[38;5;241m%\u001b[39m\u001b[38;5;241m10\u001b[39m\n",
      "\u001b[1;31mValueError\u001b[0m: invalid literal for int() with base 10: '\\n'"
     ]
    }
   ],
   "source": [
    "Data = (input(\"Enter a Two Digit integer: \"))\n",
    "print = (type(int(Data)))\n",
    "print(\"\\n\")\n",
    "\n",
    "Answer  = Data%10"
   ]
  },
  {
   "cell_type": "code",
   "execution_count": 8,
   "id": "3bbbb665",
   "metadata": {
    "scrolled": true
   },
   "outputs": [
    {
     "name": "stdout",
     "output_type": "stream",
     "text": [
      "Enter a Two Digit integer: 24\n"
     ]
    },
    {
     "ename": "TypeError",
     "evalue": "not all arguments converted during string formatting",
     "output_type": "error",
     "traceback": [
      "\u001b[1;31m---------------------------------------------------------------------------\u001b[0m",
      "\u001b[1;31mTypeError\u001b[0m                                 Traceback (most recent call last)",
      "Cell \u001b[1;32mIn[8], line 5\u001b[0m\n\u001b[0;32m      1\u001b[0m Data \u001b[38;5;241m=\u001b[39m (\u001b[38;5;28minput\u001b[39m(\u001b[38;5;124m\"\u001b[39m\u001b[38;5;124mEnter a Two Digit integer: \u001b[39m\u001b[38;5;124m\"\u001b[39m))\n\u001b[0;32m      2\u001b[0m \u001b[38;5;28mprint\u001b[39m \u001b[38;5;241m=\u001b[39m (\u001b[38;5;28mtype\u001b[39m(\u001b[38;5;28mint\u001b[39m(Data)))\n\u001b[1;32m----> 5\u001b[0m Answer  \u001b[38;5;241m=\u001b[39m \u001b[43mData\u001b[49m\u001b[38;5;241;43m%\u001b[39;49m\u001b[38;5;241;43m10\u001b[39;49m\n",
      "\u001b[1;31mTypeError\u001b[0m: not all arguments converted during string formatting"
     ]
    }
   ],
   "source": [
    "Data = (input(\"Enter a Two Digit integer: \"))\n",
    "print = (type(int(Data)))\n",
    "\n",
    "\n",
    "Answer  = Data%10"
   ]
  },
  {
   "cell_type": "code",
   "execution_count": 9,
   "id": "bd175003",
   "metadata": {},
   "outputs": [
    {
     "name": "stdout",
     "output_type": "stream",
     "text": [
      "Enter a Two Digit integer: 24\n"
     ]
    }
   ],
   "source": [
    "Data = input(\"Enter a Two Digit integer: \")\n",
    "print = (type(int(Data)))"
   ]
  },
  {
   "cell_type": "code",
   "execution_count": 11,
   "id": "f1b77abe",
   "metadata": {},
   "outputs": [
    {
     "name": "stdout",
     "output_type": "stream",
     "text": [
      "Enter a Two Digit integer: 24\n"
     ]
    }
   ],
   "source": [
    "Data = input(\"Enter a Two Digit integer: \")\n",
    "print(Data)\n",
    "print = (type(int(Data)))\n"
   ]
  },
  {
   "cell_type": "code",
   "execution_count": 12,
   "id": "8aef3514",
   "metadata": {},
   "outputs": [
    {
     "name": "stdout",
     "output_type": "stream",
     "text": [
      "Enter a Two Digit integer: 24\n"
     ]
    }
   ],
   "source": [
    "X = input(\"Enter a Two Digit integer: \")\n",
    "print(X)\n",
    "print = (type(int(X)))"
   ]
  },
  {
   "cell_type": "code",
   "execution_count": 13,
   "id": "79984870",
   "metadata": {},
   "outputs": [
    {
     "name": "stdout",
     "output_type": "stream",
     "text": [
      "Enter a Two Digit integer: 24\n"
     ]
    }
   ],
   "source": [
    "X = input(\"Enter a Two Digit integer: \")\n",
    "print = (type(int(X)))"
   ]
  },
  {
   "cell_type": "code",
   "execution_count": 15,
   "id": "68d6e5b3",
   "metadata": {
    "scrolled": true
   },
   "outputs": [
    {
     "name": "stdout",
     "output_type": "stream",
     "text": [
      "Enter a Two Digit integer: 24\n"
     ]
    },
    {
     "ename": "TypeError",
     "evalue": "int() argument must be a string, a bytes-like object or a real number, not 'type'",
     "output_type": "error",
     "traceback": [
      "\u001b[1;31m---------------------------------------------------------------------------\u001b[0m",
      "\u001b[1;31mTypeError\u001b[0m                                 Traceback (most recent call last)",
      "Cell \u001b[1;32mIn[15], line 2\u001b[0m\n\u001b[0;32m      1\u001b[0m x \u001b[38;5;241m=\u001b[39m \u001b[38;5;28minput\u001b[39m(\u001b[38;5;124m\"\u001b[39m\u001b[38;5;124mEnter a Two Digit integer: \u001b[39m\u001b[38;5;124m\"\u001b[39m)\n\u001b[1;32m----> 2\u001b[0m \u001b[38;5;28;43mprint\u001b[39;49m\u001b[43m(\u001b[49m\u001b[38;5;28;43mtype\u001b[39;49m\u001b[43m(\u001b[49m\u001b[38;5;28;43mint\u001b[39;49m\u001b[43m(\u001b[49m\u001b[43mx\u001b[49m\u001b[43m)\u001b[49m\u001b[43m)\u001b[49m\u001b[43m)\u001b[49m\n",
      "\u001b[1;31mTypeError\u001b[0m: int() argument must be a string, a bytes-like object or a real number, not 'type'"
     ]
    }
   ],
   "source": [
    "x = input(\"Enter a Two Digit integer: \")\n",
    "print(type(int(x)))"
   ]
  },
  {
   "cell_type": "code",
   "execution_count": 16,
   "id": "43e6db41",
   "metadata": {},
   "outputs": [
    {
     "name": "stdout",
     "output_type": "stream",
     "text": [
      "Enter a Two Digit integer: 24\n"
     ]
    },
    {
     "ename": "TypeError",
     "evalue": "int() argument must be a string, a bytes-like object or a real number, not 'type'",
     "output_type": "error",
     "traceback": [
      "\u001b[1;31m---------------------------------------------------------------------------\u001b[0m",
      "\u001b[1;31mTypeError\u001b[0m                                 Traceback (most recent call last)",
      "Cell \u001b[1;32mIn[16], line 3\u001b[0m\n\u001b[0;32m      1\u001b[0m x \u001b[38;5;241m=\u001b[39m \u001b[38;5;28minput\u001b[39m(\u001b[38;5;124m\"\u001b[39m\u001b[38;5;124mEnter a Two Digit integer: \u001b[39m\u001b[38;5;124m\"\u001b[39m)\n\u001b[0;32m      2\u001b[0m \u001b[38;5;28mint\u001b[39m(x)\n\u001b[1;32m----> 3\u001b[0m \u001b[38;5;28;43mprint\u001b[39;49m\u001b[43m(\u001b[49m\u001b[38;5;28;43mtype\u001b[39;49m\u001b[43m(\u001b[49m\u001b[43mx\u001b[49m\u001b[43m)\u001b[49m\u001b[43m)\u001b[49m\n",
      "\u001b[1;31mTypeError\u001b[0m: int() argument must be a string, a bytes-like object or a real number, not 'type'"
     ]
    }
   ],
   "source": [
    "x = input(\"Enter a Two Digit integer: \")\n",
    "int(x)\n",
    "print(type(x))"
   ]
  },
  {
   "cell_type": "code",
   "execution_count": 17,
   "id": "4011cdb8",
   "metadata": {},
   "outputs": [
    {
     "name": "stdout",
     "output_type": "stream",
     "text": [
      "Enter a Two Digit integer: 24\n"
     ]
    },
    {
     "ename": "TypeError",
     "evalue": "int() argument must be a string, a bytes-like object or a real number, not 'type'",
     "output_type": "error",
     "traceback": [
      "\u001b[1;31m---------------------------------------------------------------------------\u001b[0m",
      "\u001b[1;31mTypeError\u001b[0m                                 Traceback (most recent call last)",
      "Cell \u001b[1;32mIn[17], line 3\u001b[0m\n\u001b[0;32m      1\u001b[0m x \u001b[38;5;241m=\u001b[39m \u001b[38;5;28minput\u001b[39m(\u001b[38;5;124m\"\u001b[39m\u001b[38;5;124mEnter a Two Digit integer: \u001b[39m\u001b[38;5;124m\"\u001b[39m)\n\u001b[0;32m      2\u001b[0m \u001b[38;5;28mint\u001b[39m(\u001b[38;5;28mstr\u001b[39m(x))\n\u001b[1;32m----> 3\u001b[0m \u001b[38;5;28;43mprint\u001b[39;49m\u001b[43m(\u001b[49m\u001b[38;5;28;43mtype\u001b[39;49m\u001b[43m(\u001b[49m\u001b[43mx\u001b[49m\u001b[43m)\u001b[49m\u001b[43m)\u001b[49m\n",
      "\u001b[1;31mTypeError\u001b[0m: int() argument must be a string, a bytes-like object or a real number, not 'type'"
     ]
    }
   ],
   "source": [
    "x = input(\"Enter a Two Digit integer: \")\n",
    "int(str(x))\n",
    "print(type(x))"
   ]
  },
  {
   "cell_type": "code",
   "execution_count": 18,
   "id": "fa4da3a7",
   "metadata": {},
   "outputs": [
    {
     "name": "stdout",
     "output_type": "stream",
     "text": [
      "Enter a Two Digit integer: 24\n"
     ]
    },
    {
     "data": {
      "text/plain": [
       "24"
      ]
     },
     "execution_count": 18,
     "metadata": {},
     "output_type": "execute_result"
    }
   ],
   "source": [
    "x = input(\"Enter a Two Digit integer: \")\n",
    "int(str(x))\n"
   ]
  },
  {
   "cell_type": "code",
   "execution_count": 19,
   "id": "c3034103",
   "metadata": {},
   "outputs": [
    {
     "name": "stdout",
     "output_type": "stream",
     "text": [
      "Enter a Two Digit integer: 24\n"
     ]
    },
    {
     "data": {
      "text/plain": [
       "24"
      ]
     },
     "execution_count": 19,
     "metadata": {},
     "output_type": "execute_result"
    }
   ],
   "source": [
    "X = input(\"Enter a Two Digit integer: \")\n",
    "int(str(X))"
   ]
  },
  {
   "cell_type": "code",
   "execution_count": 20,
   "id": "c36d6e63",
   "metadata": {},
   "outputs": [
    {
     "name": "stdout",
     "output_type": "stream",
     "text": [
      "Enter a Two Digit integer: 24\n"
     ]
    },
    {
     "data": {
      "text/plain": [
       "str"
      ]
     },
     "execution_count": 20,
     "metadata": {},
     "output_type": "execute_result"
    }
   ],
   "source": [
    "X = input(\"Enter a Two Digit integer: \")\n",
    "int(str(X))\n",
    "type(X)"
   ]
  },
  {
   "cell_type": "code",
   "execution_count": 21,
   "id": "c1942314",
   "metadata": {},
   "outputs": [
    {
     "name": "stdout",
     "output_type": "stream",
     "text": [
      "Enter a Two Digit integer: 24\n"
     ]
    },
    {
     "ename": "NameError",
     "evalue": "name 'Z' is not defined",
     "output_type": "error",
     "traceback": [
      "\u001b[1;31m---------------------------------------------------------------------------\u001b[0m",
      "\u001b[1;31mNameError\u001b[0m                                 Traceback (most recent call last)",
      "Cell \u001b[1;32mIn[21], line 2\u001b[0m\n\u001b[0;32m      1\u001b[0m X \u001b[38;5;241m=\u001b[39m \u001b[38;5;28minput\u001b[39m(\u001b[38;5;124m\"\u001b[39m\u001b[38;5;124mEnter a Two Digit integer: \u001b[39m\u001b[38;5;124m\"\u001b[39m)\n\u001b[1;32m----> 2\u001b[0m X \u001b[38;5;241m=\u001b[39m \u001b[38;5;28mint\u001b[39m(\u001b[43mZ\u001b[49m)\n",
      "\u001b[1;31mNameError\u001b[0m: name 'Z' is not defined"
     ]
    }
   ],
   "source": [
    "X = input(\"Enter a Two Digit integer: \")\n",
    "X = int(Z)\n"
   ]
  },
  {
   "cell_type": "code",
   "execution_count": 22,
   "id": "0605aae4",
   "metadata": {},
   "outputs": [
    {
     "name": "stdout",
     "output_type": "stream",
     "text": [
      "Enter a Two Digit integer: 24\n"
     ]
    },
    {
     "data": {
      "text/plain": [
       "24"
      ]
     },
     "execution_count": 22,
     "metadata": {},
     "output_type": "execute_result"
    }
   ],
   "source": [
    "X = input(\"Enter a Two Digit integer: \")\n",
    "int(str(X))"
   ]
  },
  {
   "cell_type": "code",
   "execution_count": 23,
   "id": "446a56c4",
   "metadata": {},
   "outputs": [
    {
     "name": "stdout",
     "output_type": "stream",
     "text": [
      "Enter a Two Digit integer: 24\n"
     ]
    }
   ],
   "source": [
    "X = input(\"Enter a Two Digit integer: \")\n",
    "Z = int(str(X))"
   ]
  },
  {
   "cell_type": "code",
   "execution_count": 24,
   "id": "d853f08b",
   "metadata": {},
   "outputs": [
    {
     "name": "stdout",
     "output_type": "stream",
     "text": [
      "Enter a Two Digit integer: 24\n"
     ]
    },
    {
     "data": {
      "text/plain": [
       "int"
      ]
     },
     "execution_count": 24,
     "metadata": {},
     "output_type": "execute_result"
    }
   ],
   "source": [
    "X = input(\"Enter a Two Digit integer: \")\n",
    "Z = int(str(X))\n",
    "type(Z)"
   ]
  },
  {
   "cell_type": "code",
   "execution_count": 25,
   "id": "996a9401",
   "metadata": {},
   "outputs": [
    {
     "name": "stdout",
     "output_type": "stream",
     "text": [
      "Enter a Two Digit integer: 24\n"
     ]
    },
    {
     "data": {
      "text/plain": [
       "4"
      ]
     },
     "execution_count": 25,
     "metadata": {},
     "output_type": "execute_result"
    }
   ],
   "source": [
    "X = input(\"Enter a Two Digit integer: \")\n",
    "Z = int(str(X))\n",
    "type(Z)\n",
    "\n",
    "Z%10"
   ]
  },
  {
   "cell_type": "code",
   "execution_count": 26,
   "id": "5bb87532",
   "metadata": {},
   "outputs": [],
   "source": [
    "# Q1. take a two digit Integer form user and print the digit at one's place separately.\n",
    "\n",
    "#  Q2. Take two numbers (two digit positive numbers) as inputs form the users and add two numbers in this way x + y = Z \n",
    " # eg 25 + 36 = 2536.\n",
    " \n",
    " \n",
    " #  Q3. Take any two numbers (two digit positive numbers) as inputs form the users multiply the numbers in this way\n",
    " #  25\n",
    " #  36\n",
    " #  5*3 + 2*5 = 25\n",
    "    "
   ]
  },
  {
   "cell_type": "markdown",
   "id": "8b0418c0",
   "metadata": {},
   "source": [
    "# Question 1:Answer"
   ]
  },
  {
   "cell_type": "code",
   "execution_count": 1,
   "id": "d4246601",
   "metadata": {},
   "outputs": [
    {
     "name": "stdout",
     "output_type": "stream",
     "text": [
      "Enter a Two Digit integer: 123\n"
     ]
    },
    {
     "data": {
      "text/plain": [
       "3"
      ]
     },
     "execution_count": 1,
     "metadata": {},
     "output_type": "execute_result"
    }
   ],
   "source": [
    "# Q1. take a two digit Integer form user and print the digit at one's place separately.\n",
    "\n",
    "X = input(\"Enter a Two Digit integer: \")\n",
    "Z = int(str(X))\n",
    "type(Z)\n",
    "\n",
    "Z%10\n"
   ]
  },
  {
   "cell_type": "code",
   "execution_count": 2,
   "id": "2c6ca822",
   "metadata": {},
   "outputs": [
    {
     "name": "stdout",
     "output_type": "stream",
     "text": [
      "Enter a Two Digit integer: 456\n",
      "<class 'int'>\n"
     ]
    },
    {
     "data": {
      "text/plain": [
       "6"
      ]
     },
     "execution_count": 2,
     "metadata": {},
     "output_type": "execute_result"
    }
   ],
   "source": [
    "# Q1. take a two digit Integer form user and print the digit at one's place separately.\n",
    "\n",
    "X = input(\"Enter a Two Digit integer: \")\n",
    "Z = int(str(X))\n",
    "print(type(Z))\n",
    "\n",
    "Z%10\n"
   ]
  },
  {
   "cell_type": "code",
   "execution_count": 30,
   "id": "07ccf68d",
   "metadata": {},
   "outputs": [
    {
     "name": "stdout",
     "output_type": "stream",
     "text": [
      "Enter a First Digit integer:  24\n",
      "Enter a Second Digit integer: 35\n"
     ]
    }
   ],
   "source": [
    "#  Q2. Take two numbers (two digit positive numbers) as inputs form the users and add two numbers in this way x + y = Z \n",
    " # eg 25 + 36 = 2536.\n",
    "\n",
    "X = input(\"Enter a First Digit integer:  \")\n",
    "Y = input(\"Enter a Second Digit integer: \")\n"
   ]
  },
  {
   "cell_type": "code",
   "execution_count": 31,
   "id": "628475c6",
   "metadata": {},
   "outputs": [
    {
     "name": "stdout",
     "output_type": "stream",
     "text": [
      "Enter a First Digit integer:  24\n",
      "Enter a Second Digit integer: 36\n"
     ]
    }
   ],
   "source": [
    "Data1 = input(\"Enter a First Digit integer:  \")\n",
    "Data2 = input(\"Enter a Second Digit integer: \")\n",
    "\n",
    "Z = Data1 + Data2"
   ]
  },
  {
   "cell_type": "code",
   "execution_count": 32,
   "id": "b67d272a",
   "metadata": {},
   "outputs": [
    {
     "name": "stdout",
     "output_type": "stream",
     "text": [
      "Enter a First Digit integer:  24\n",
      "Enter a Second Digit integer: 35\n"
     ]
    }
   ],
   "source": [
    "X = input(\"Enter a First Digit integer:  \")\n",
    "Y = input(\"Enter a Second Digit integer: \")\n",
    "\n",
    "Z = X + Y"
   ]
  },
  {
   "cell_type": "code",
   "execution_count": 1,
   "id": "484a7616",
   "metadata": {},
   "outputs": [
    {
     "name": "stdout",
     "output_type": "stream",
     "text": [
      "Enter a First Digit integer:  24\n",
      "Enter a Second Digit integer: 35\n",
      "\n",
      "\n",
      "2435\n"
     ]
    }
   ],
   "source": [
    "X = input(\"Enter a First Digit integer:  \")\n",
    "Y = input(\"Enter a Second Digit integer: \")\n",
    "Z = X + Y\n",
    "\n",
    "print('\\n')\n",
    "print(Z)"
   ]
  },
  {
   "cell_type": "code",
   "execution_count": 2,
   "id": "80204f53",
   "metadata": {},
   "outputs": [
    {
     "name": "stdout",
     "output_type": "stream",
     "text": [
      "Enter a First Digit integer:  24\n",
      "Enter a Second Digit integer: 35\n",
      "\n",
      "\n",
      "2435\n"
     ]
    }
   ],
   "source": [
    "X = input(\"Enter a First Digit integer:  \")\n",
    "Y = input(\"Enter a Second Digit integer: \")\n",
    "Z = X + Y\n",
    "print('\\n')\n",
    "print(Z)"
   ]
  },
  {
   "cell_type": "code",
   "execution_count": 4,
   "id": "3835b0e9",
   "metadata": {},
   "outputs": [
    {
     "name": "stdout",
     "output_type": "stream",
     "text": [
      "Enter a First Digit integer:  24\n",
      "Enter a Second Digit integer: 35\n",
      "\n",
      "\n",
      "X + Y = Z\n"
     ]
    }
   ],
   "source": [
    "X = input(\"Enter a First Digit integer:  \")\n",
    "Y = input(\"Enter a Second Digit integer: \")\n",
    "Z = X + Y\n",
    "A = (\"X + Y = Z\")\n",
    "\n",
    "print('\\n')\n",
    "print(A)"
   ]
  },
  {
   "cell_type": "code",
   "execution_count": 5,
   "id": "d9396268",
   "metadata": {},
   "outputs": [
    {
     "name": "stdout",
     "output_type": "stream",
     "text": [
      "Enter a First two digit integer:  24\n",
      "Enter a Second two digit integer: 25\n",
      "\n",
      "\n",
      "X + Y = Z\n"
     ]
    }
   ],
   "source": [
    "X = input(\"Enter a First two digit integer:  \")\n",
    "Y = input(\"Enter a Second two digit integer: \")\n",
    "Z = X + Y\n",
    "A = (\"X + Y = Z\")\n",
    "\n",
    "print('\\n')\n",
    "print(A)"
   ]
  },
  {
   "cell_type": "code",
   "execution_count": 6,
   "id": "160d7dee",
   "metadata": {},
   "outputs": [
    {
     "name": "stdout",
     "output_type": "stream",
     "text": [
      "Enter a First two digit integer:  24\n",
      "Enter a Second two digit integer: 35\n",
      "\n",
      "\n",
      "2435\n",
      "X + Y = Z\n"
     ]
    }
   ],
   "source": [
    "X = input(\"Enter a First two digit integer:  \")\n",
    "Y = input(\"Enter a Second two digit integer: \")\n",
    "Z = X + Y\n",
    "A = (\"X + Y = Z\")\n",
    "\n",
    "print('\\n')\n",
    "print(Z)\n",
    "print(A)"
   ]
  },
  {
   "cell_type": "code",
   "execution_count": 1,
   "id": "25c75e9e",
   "metadata": {},
   "outputs": [
    {
     "name": "stdout",
     "output_type": "stream",
     "text": [
      "Enter a First two digit integer:  24\n",
      "Enter a Second two digit integer: 35\n",
      "\n",
      "\n",
      "2435\n",
      "X + Y = Z\n",
      "X + Y = Z\n"
     ]
    }
   ],
   "source": [
    "X = input(\"Enter a First two digit integer:  \")\n",
    "Y = input(\"Enter a Second two digit integer: \")\n",
    "Z = X + Y\n",
    "A = (\"X + Y = Z\")\n",
    "\n",
    "print('\\n')\n",
    "print(Z)\n",
    "print(A)\n",
    "print(A[0],A[2],A[4],A[6],A[8]) "
   ]
  },
  {
   "cell_type": "markdown",
   "id": "a7aa07cf",
   "metadata": {},
   "source": [
    "#  By Himanshu ji"
   ]
  },
  {
   "cell_type": "code",
   "execution_count": 4,
   "id": "3616d22a",
   "metadata": {},
   "outputs": [
    {
     "name": "stdout",
     "output_type": "stream",
     "text": [
      "2535 = 25 + 35\n"
     ]
    }
   ],
   "source": [
    "T = input(\"25\" + \"35\")    "
   ]
  },
  {
   "cell_type": "code",
   "execution_count": null,
   "id": "ae4962a3",
   "metadata": {},
   "outputs": [],
   "source": []
  },
  {
   "cell_type": "code",
   "execution_count": 1,
   "id": "4533a3eb",
   "metadata": {},
   "outputs": [
    {
     "name": "stdout",
     "output_type": "stream",
     "text": [
      "Enter a First two digit integer:  55\n",
      "Enter a Second two digit integer: 65\n",
      "\n",
      "\n",
      "5555555555555555555555555555555555555555555555555555555555555555555555555555555555555555555555555555555555555555555555555555555555555555555555555555555555555555555555555555555555555555555555555555555565\n"
     ]
    }
   ],
   "source": [
    "X = input(\"Enter a First two digit integer:  \")\n",
    "Y = input(\"Enter a Second two digit integer: \")\n",
    "Q = int(str(X))\n",
    "P = int(str(Y))\n",
    "\n",
    "Z = X*100 + Y\n",
    "print('\\n')\n",
    "print(Z)"
   ]
  },
  {
   "cell_type": "code",
   "execution_count": 1,
   "id": "21d9296d",
   "metadata": {},
   "outputs": [
    {
     "name": "stdout",
     "output_type": "stream",
     "text": [
      "Enter a First two digit integer:  55\n",
      "Enter a Second two digit integer: 67\n",
      "\n",
      "\n",
      "5555555555555555555567\n"
     ]
    }
   ],
   "source": [
    "X = input(\"Enter a First two digit integer:  \")\n",
    "Y = input(\"Enter a Second two digit integer: \")\n",
    "Q = int(str(X))\n",
    "P = int(str(Y))\n",
    "\n",
    "Z = X*10 + Y\n",
    "print('\\n')\n",
    "print(Z)"
   ]
  },
  {
   "cell_type": "code",
   "execution_count": 2,
   "id": "4a7564c2",
   "metadata": {},
   "outputs": [
    {
     "name": "stdout",
     "output_type": "stream",
     "text": [
      "Enter a First two digit integer:  55 \n",
      "Enter a Second two digit integer: 65\n",
      "\n",
      "\n",
      "55 65\n"
     ]
    }
   ],
   "source": [
    "X = input(\"Enter a First two digit integer:  \")\n",
    "Y = input(\"Enter a Second two digit integer: \")\n",
    "Q = int(str(X))\n",
    "P = int(str(Y))\n",
    "\n",
    "Z = X*1 + Y\n",
    "print('\\n')\n",
    "print(Z)"
   ]
  },
  {
   "cell_type": "code",
   "execution_count": 1,
   "id": "ab97b975",
   "metadata": {},
   "outputs": [
    {
     "name": "stdout",
     "output_type": "stream",
     "text": [
      "Enter a First two digit integer:  24\n",
      "Enter a Second two digit integer: 67\n",
      "\n",
      "\n",
      "2467\n"
     ]
    }
   ],
   "source": [
    "#  Q2. Take two numbers (two digit positive numbers) as inputs form the users and add two numbers in this way x + y = Z \n",
    " # eg 25 + 36 = 2536.\n",
    "    \n",
    "X = input(\"Enter a First two digit integer:  \")\n",
    "Y = input(\"Enter a Second two digit integer: \")\n",
    "Q = int(str(X))\n",
    "P = int(str(Y))\n",
    "\n",
    "Z = Q*100 + P\n",
    "print('\\n')\n",
    "print(Z)"
   ]
  },
  {
   "cell_type": "code",
   "execution_count": 8,
   "id": "d7500273",
   "metadata": {
    "scrolled": true
   },
   "outputs": [
    {
     "name": "stdout",
     "output_type": "stream",
     "text": [
      "Enter a First two digit integer:  55\n",
      "Enter a Second two digit integer: 67\n",
      "5 7\n"
     ]
    }
   ],
   "source": [
    " #  Q3. Take any two numbers (two digit positive numbers) as inputs form the users multiply the numbers in this way\n",
    " #  25\n",
    " #  36\n",
    " #  5*3 + 2*5 = 25\n",
    "\n",
    "X = input(\"Enter a First two digit integer:  \")\n",
    "Y = input(\"Enter a Second two digit integer: \")\n",
    "Q = int(str(X))\n",
    "P = int(str(Y))\n",
    "\n",
    "A = Q%10\n",
    "B = P%10\n",
    "\n",
    "print(A,B)"
   ]
  },
  {
   "cell_type": "code",
   "execution_count": 11,
   "id": "42335419",
   "metadata": {},
   "outputs": [
    {
     "name": "stdout",
     "output_type": "stream",
     "text": [
      "5.7\n"
     ]
    }
   ],
   "source": [
    "c = 57/10\n",
    "print(c)"
   ]
  },
  {
   "cell_type": "code",
   "execution_count": 1,
   "id": "17229430",
   "metadata": {},
   "outputs": [
    {
     "name": "stdout",
     "output_type": "stream",
     "text": [
      "Enter a First two digit integer:  56\n",
      "Enter a Second two digit integer: 87\n",
      "6 7 0 0\n"
     ]
    }
   ],
   "source": [
    "X = input(\"Enter a First two digit integer:  \")\n",
    "Y = input(\"Enter a Second two digit integer: \")\n",
    "Q = int(str(X))\n",
    "P = int(str(Y))\n",
    "\n",
    "A = Q%10\n",
    "B = P%10\n",
    "C = int(A/10)\n",
    "D = int(B/10)\n",
    "print(A,B,C,D)"
   ]
  },
  {
   "cell_type": "code",
   "execution_count": 2,
   "id": "149cea99",
   "metadata": {},
   "outputs": [
    {
     "name": "stdout",
     "output_type": "stream",
     "text": [
      "Enter a First two digit integer:  56\n",
      "Enter a Second two digit integer: 78\n",
      "6 8 0.6 0.8\n"
     ]
    }
   ],
   "source": [
    "X = input(\"Enter a First two digit integer:  \")\n",
    "Y = input(\"Enter a Second two digit integer: \")\n",
    "Q = int(str(X))\n",
    "P = int(str(Y))\n",
    "\n",
    "A = Q%10\n",
    "B = P%10\n",
    "C = (A/10)\n",
    "D = (B/10)\n",
    "print(A,B,C,D)"
   ]
  },
  {
   "cell_type": "code",
   "execution_count": 3,
   "id": "847e5282",
   "metadata": {},
   "outputs": [
    {
     "name": "stdout",
     "output_type": "stream",
     "text": [
      "Enter a First two digit integer:  56\n",
      "Enter a Second two digit integer: 78\n",
      "6 8 0 0\n"
     ]
    }
   ],
   "source": [
    "X = input(\"Enter a First two digit integer:  \")\n",
    "Y = input(\"Enter a Second two digit integer: \")\n",
    "Q = int(str(X))\n",
    "P = int(str(Y))\n",
    "\n",
    "A = Q%10\n",
    "B = P%10\n",
    "C = (A//10)\n",
    "D = (B//10)\n",
    "print(A,B,C,D)"
   ]
  },
  {
   "cell_type": "code",
   "execution_count": 6,
   "id": "795782d4",
   "metadata": {},
   "outputs": [
    {
     "name": "stdout",
     "output_type": "stream",
     "text": [
      "Enter a First two digit integer:  56\n",
      "56\n",
      "Enter a Second two digit integer: 78\n",
      "78\n",
      "6 8 5 7\n"
     ]
    }
   ],
   "source": [
    "X = input(\"Enter a First two digit integer:  \")\n",
    "print(X)\n",
    "Y = input(\"Enter a Second two digit integer: \")\n",
    "print(Y)\n",
    "Q = int(str(X))\n",
    "P = int(str(Y))\n",
    "\n",
    "A = Q%10\n",
    "B = P%10\n",
    "C = (Q//10)\n",
    "D = (P//10)\n",
    "\n",
    "print(A,B,C,D)"
   ]
  },
  {
   "cell_type": "code",
   "execution_count": 7,
   "id": "854abf0b",
   "metadata": {},
   "outputs": [
    {
     "name": "stdout",
     "output_type": "stream",
     "text": [
      "Enter a First two digit integer:  56\n",
      "56\n",
      "Enter a Second two digit integer: 78\n",
      "78\n",
      "6 8 5 7\n",
      "\n",
      "\n",
      "86\n"
     ]
    }
   ],
   "source": [
    "X = input(\"Enter a First two digit integer:  \")\n",
    "print(X)\n",
    "Y = input(\"Enter a Second two digit integer: \")\n",
    "print(Y)\n",
    "Q = int(str(X))\n",
    "P = int(str(Y))\n",
    "\n",
    "A = Q%10\n",
    "B = P%10\n",
    "C = (Q//10)\n",
    "D = (P//10)\n",
    "E = A*C + B*D\n",
    "print(A,B,C,D)\n",
    "print(\"\\n\")\n",
    "print(E)"
   ]
  },
  {
   "cell_type": "code",
   "execution_count": 2,
   "id": "2288c156",
   "metadata": {},
   "outputs": [
    {
     "name": "stdout",
     "output_type": "stream",
     "text": [
      "Enter a First two digit integer:  24\n",
      "24\n",
      "Enter a Second two digit integer: 67\n",
      "67\n",
      "4 7 2 6\n",
      "\n",
      "\n",
      "38\n"
     ]
    }
   ],
   "source": [
    "#  Q3. Take any two numbers (two digit positive numbers) as inputs form the users multiply the numbers in this way\n",
    " #  25\n",
    " #  36\n",
    " #  5*3 + 2*6 = 27\n",
    "    \n",
    "X = input(\"Enter a First two digit integer:  \")\n",
    "print(X)\n",
    "Y = input(\"Enter a Second two digit integer: \")\n",
    "print(Y)\n",
    "Q = int(str(X))\n",
    "P = int(str(Y))\n",
    "\n",
    "A = Q%10\n",
    "B = P%10\n",
    "C = (Q//10)\n",
    "D = (P//10)\n",
    "E = A*D + B*C\n",
    "print(A,B,C,D)\n",
    "print(\"\\n\")\n",
    "print(E)"
   ]
  },
  {
   "cell_type": "code",
   "execution_count": 2,
   "id": "2dac4b2f",
   "metadata": {},
   "outputs": [
    {
     "name": "stdout",
     "output_type": "stream",
     "text": [
      "Enter a First two digit integer:  45\n",
      "45\n",
      "Enter a Second two digit integer: 66\n",
      "66\n",
      "55\n"
     ]
    }
   ],
   "source": [
    "#  Q4. Find Average of two numbers.\n",
    "    \n",
    "X = input(\"Enter a First two digit integer:  \")\n",
    "print(X)\n",
    "Y = input(\"Enter a Second two digit integer: \")\n",
    "print(Y)\n",
    "Q = int(str(X))\n",
    "P = int(str(Y))\n",
    "\n",
    "A = ((Q+P)//2)\n",
    "print(A)"
   ]
  },
  {
   "cell_type": "code",
   "execution_count": 3,
   "id": "14b2c4e5",
   "metadata": {},
   "outputs": [
    {
     "name": "stdout",
     "output_type": "stream",
     "text": [
      "Enter a First two digit integer:  45\n",
      "45\n",
      "Enter a Second two digit integer: 55\n",
      "55\n",
      "50.0\n"
     ]
    }
   ],
   "source": [
    "#  Q4. Find Average of two numbers.\n",
    "    \n",
    "X = input(\"Enter a First two digit integer:  \")\n",
    "print(X)\n",
    "Y = input(\"Enter a Second two digit integer: \")\n",
    "print(Y)\n",
    "Q = int(str(X))\n",
    "P = int(str(Y))\n",
    "\n",
    "A = ((Q+P)/2)\n",
    "print(A)"
   ]
  },
  {
   "cell_type": "code",
   "execution_count": 7,
   "id": "64cef5cb",
   "metadata": {
    "scrolled": true
   },
   "outputs": [
    {
     "name": "stdout",
     "output_type": "stream",
     "text": [
      "Enter a First two digit integer:  21\n",
      "21\n",
      "Enter a Second two digit integer: 35\n",
      "35\n",
      "3 10\n",
      "\n",
      "\n",
      "13\n"
     ]
    }
   ],
   "source": [
    "#  Q3. Take any two numbers (two digit positive numbers) as inputs form the users multiply the numbers in this way\n",
    " #  25\n",
    " #  36\n",
    " #  5*3 + 2*5 = 25\n",
    "    \n",
    "X = input(\"Enter a First two digit integer:  \")\n",
    "print(X)\n",
    "Y = input(\"Enter a Second two digit integer: \")\n",
    "print(Y)\n",
    "Q = int(str(X))\n",
    "P = int(str(Y))\n",
    "\n",
    "A = ((Q%10)*(P//10)) \n",
    "B = ((P%10)*(Q//10))\n",
    "C = A + B\n",
    "print(A,B)\n",
    "print(\"\\n\")\n",
    "print(C)"
   ]
  },
  {
   "cell_type": "code",
   "execution_count": 5,
   "id": "6e212ef7",
   "metadata": {},
   "outputs": [
    {
     "name": "stdout",
     "output_type": "stream",
     "text": [
      "Enter a First two digit integer:  23\n",
      "Enter a Second two digit integer: 34\n",
      "19\n"
     ]
    }
   ],
   "source": [
    "#  Q3. Take any two numbers (two digit positive numbers) as inputs form the users multiply the numbers in this way\n",
    " #  25\n",
    " #  36\n",
    " #  5*3 + 2*5 = 25\n",
    "    \n",
    "X = int(input(\"Enter a First two digit integer:  \"))\n",
    "Y = int(input(\"Enter a Second two digit integer: \"))\n",
    "print (X%10 * Y//10 + Y%10 * X//10)"
   ]
  },
  {
   "cell_type": "code",
   "execution_count": 4,
   "id": "5802ea0d",
   "metadata": {},
   "outputs": [
    {
     "name": "stdout",
     "output_type": "stream",
     "text": [
      "Enter a First two digit integer:  89\n",
      "Enter a Second two digit integer: 99\n",
      "153\n"
     ]
    }
   ],
   "source": [
    "#  Q3. Take any two numbers (two digit positive numbers) as inputs form the users multiply the numbers in this way\n",
    " #  25\n",
    " #  36\n",
    " #  5*3 + 2*5 = 25\n",
    "    \n",
    "X = int(input(\"Enter a First two digit integer:  \"))\n",
    "Y = int(input(\"Enter a Second two digit integer: \"))\n",
    "print (((X%10)*(Y//10)) + ((Y%10)*(X//10)))\n"
   ]
  },
  {
   "cell_type": "code",
   "execution_count": null,
   "id": "dd665e3d",
   "metadata": {},
   "outputs": [],
   "source": [
    "#  Q3. Take any two numbers (two digit positive numbers) as inputs form the users multiply the numbers in this way\n",
    " #  25\n",
    " #  36\n",
    " #  5*3 + 2*5 = 25\n",
    "    \n",
    "X = int(input(\"Enter a First two digit integer:  \"))\n",
    "Y = int(input(\"Enter a Second two digit integer: \"))\n",
    "print (X%10) * (Y//10) + (Y%10) * (X//10)"
   ]
  },
  {
   "cell_type": "code",
   "execution_count": 1,
   "id": "1cef0c64",
   "metadata": {},
   "outputs": [
    {
     "name": "stdout",
     "output_type": "stream",
     "text": [
      "Enter a First two digit integer:  12\n",
      "Enter a Second two digit integer: 34\n",
      "10\n"
     ]
    }
   ],
   "source": [
    "#  Q3. Take any two numbers (two digit positive numbers) as inputs form the users multiply the numbers in this way\n",
    " #  25\n",
    " #  36\n",
    " #  5*3 + 2*5 = 25\n",
    "    \n",
    "X = int(input(\"Enter a First two digit integer:  \"))\n",
    "Y = int(input(\"Enter a Second two digit integer: \"))\n",
    "print (X%10 * Y//10 + Y%10 * X//10)"
   ]
  },
  {
   "cell_type": "code",
   "execution_count": null,
   "id": "cc1ed18c",
   "metadata": {},
   "outputs": [],
   "source": []
  }
 ],
 "metadata": {
  "kernelspec": {
   "display_name": "Python 3 (ipykernel)",
   "language": "python",
   "name": "python3"
  },
  "language_info": {
   "codemirror_mode": {
    "name": "ipython",
    "version": 3
   },
   "file_extension": ".py",
   "mimetype": "text/x-python",
   "name": "python",
   "nbconvert_exporter": "python",
   "pygments_lexer": "ipython3",
   "version": "3.10.9"
  }
 },
 "nbformat": 4,
 "nbformat_minor": 5
}
