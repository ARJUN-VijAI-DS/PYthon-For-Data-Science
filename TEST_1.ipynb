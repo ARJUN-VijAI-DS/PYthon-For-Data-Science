{
 "cells": [
  {
   "cell_type": "markdown",
   "id": "c876bbe3",
   "metadata": {},
   "source": [
    "<Font Size = 4> - Discounted Shopping:<Br>\n",
    "In an online store, you want to offer a discount on certain products. Explain how you would use the \"or\" operator to apply a discount if either the product is in a specific category or the customer is a premium member.\n"
   ]
  },
  {
   "cell_type": "code",
   "execution_count": 2,
   "id": "f83da47e",
   "metadata": {},
   "outputs": [
    {
     "name": "stdout",
     "output_type": "stream",
     "text": [
      "Is customer a Premium Member, Enter Yes or No:Y\n",
      "Type the name of the product from the list x:Fruits\n",
      "Give 20% Discount to the customer.\n",
      "Give 20% Discount to the customer.\n",
      "Give 20% Discount to the customer.\n",
      "Give 20% Discount to the customer.\n"
     ]
    }
   ],
   "source": [
    "### - Discounted Shopping:\n",
    "### In an online store, you want to offer a discount on certain products. Explain how you would use the \n",
    "### \"or\" operator to apply a discount if either \n",
    "### the product is in a specific category or the customer is a premium member.\n",
    "\n",
    "x = [\"Fruits\",\"Clothes\",\"Vegetables\",\"Electronics\"]\n",
    "y = input(\"Is customer a Premium Member, Enter Yes or No:\")\n",
    "z = input(\"Type the name of the product from the list x:\")\n",
    "\n",
    "for i in x:\n",
    "    if i == \"Electronics\" or y == \"Y\":\n",
    "        print(\"Give 20% Discount to the customer.\")\n",
    "    else:\n",
    "        print(\"Give 5% Discount to the customer.\")"
   ]
  },
  {
   "cell_type": "code",
   "execution_count": 3,
   "id": "f5bf7902",
   "metadata": {},
   "outputs": [
    {
     "name": "stdout",
     "output_type": "stream",
     "text": [
      "Is customer a Premium Member, Enter Yes or No:Y\n",
      "Type the name of the product from the list x:Clothes\n",
      "Give 20% Discount to the customer.\n"
     ]
    }
   ],
   "source": [
    "### - Discounted Shopping:\n",
    "### In an online store, you want to offer a discount on certain products. Explain how you would use the \n",
    "### \"or\" operator to apply a discount if either \n",
    "### the product is in a specific category or the customer is a premium member.\n",
    "\n",
    "x = [\"Fruits\",\"Clothes\",\"Vegetables\",\"Electronics\"]\n",
    "y = input(\"Is customer a Premium Member, Enter Yes or No:\")\n",
    "z = input(\"Type the name of the product from the list x:\")\n",
    "\n",
    "if z == \"Electronics\" or y == \"Y\":\n",
    "    print(\"Give 20% Discount to the customer.\")\n",
    "else:\n",
    "    print(\"Give 5% Discount to the customer.\")"
   ]
  },
  {
   "cell_type": "code",
   "execution_count": null,
   "id": "76e739fa",
   "metadata": {},
   "outputs": [],
   "source": [
    "### - Discounted Shopping:\n",
    "### In an online store, you want to offer a discount on certain products. Explain how you would use the \n",
    "### \"or\" operator to apply a discount if either \n",
    "### the product is in a specific category or the customer is a premium member.\n",
    "\n",
    "Product_Price = int(input(\"Price of the product:\"))\n",
    "Status_of_Customer = input(\"Premium or Not:\")\n",
    "\n",
    "if (Product_Price >= 5000 or Status_of_Customer == \"Premium\"):\n",
    "    print(\"Give 20% Discount to the Customer.\")\n",
    "else:\n",
    "    print(\"Give 5% Discount to the Customer.\")"
   ]
  },
  {
   "cell_type": "code",
   "execution_count": 4,
   "id": "a093c733",
   "metadata": {},
   "outputs": [
    {
     "name": "stdout",
     "output_type": "stream",
     "text": [
      "Discount is given or available\n"
     ]
    }
   ],
   "source": [
    "### - Discounted Shopping:\n",
    "\n",
    "Discount_products = [\"Oil\", \"Sugar\", \"Rice\", \"Tea\", \"Bread\"]\n",
    "\n",
    "def Discount(products,account):\n",
    "    if (products in Discount_products) or (account == \"Premium\"):\n",
    "        print(\"Discount is given or available\")\n",
    "        \n",
    "    else: \n",
    "        print(\"Discount is unavailable\")\n",
    "        \n",
    "Discount(\"Sugar\",\"Non-premium\")"
   ]
  },
  {
   "cell_type": "markdown",
   "id": "431c4f71",
   "metadata": {},
   "source": [
    "<font size = 4> - Music Streaming Service: <br>\n",
    "When recommending music to users on a streaming platform, you want to suggest songs they might like. How could you use the \"or\" operator to recommend songs if they are either in the user's favourite genre or have a high rating?\n"
   ]
  },
  {
   "cell_type": "code",
   "execution_count": null,
   "id": "28a6c532",
   "metadata": {},
   "outputs": [],
   "source": [
    "### - Music Streaming Service:\n",
    "### When recommending music to users on a streaming platform, you want to suggest songs they might like.\n",
    "### How could you use the \"or\" operator to recommend songs if they are either in the user's favourite genre or \n",
    "### have a high rating?\n",
    "\"\"\"- Music Streaming Service:\n",
    "When recommending music to users on a streaming platform, you want to suggest songs they might like.\n",
    "How could you use the \"or\" operator to recommend songs if they are either in the user's \n",
    "favourite genre or have a high rating?\"\"\""
   ]
  },
  {
   "cell_type": "code",
   "execution_count": null,
   "id": "1185793f",
   "metadata": {},
   "outputs": [],
   "source": [
    "### - Music Streaming Service:\n",
    "### When recommending music to users on a streaming platform, you want to suggest songs they might like.\n",
    "### How could you use the \"or\" operator to recommend songs if they are either in the user's favourite genre or \n",
    "### have a high rating?\n",
    "\n",
    "Rating = int(input(\"Enter rating of the song: \\n\"))\n",
    "Song_Name = input(\"Song is in User's favourite Genre or Not: \\n\")\n",
    "\n",
    "if (Song_Name == \"In Genre\" or Rating >= 10000):\n",
    "    print(\"\\n Playing the song from your favourite list.\")\n",
    "    \n",
    "else: \n",
    "    print(\"\\n Song is not in the Genre or List.\")"
   ]
  },
  {
   "cell_type": "code",
   "execution_count": 5,
   "id": "e56d51ce",
   "metadata": {},
   "outputs": [
    {
     "name": "stdout",
     "output_type": "stream",
     "text": [
      "Playing your favourite Song: e\n"
     ]
    }
   ],
   "source": [
    "### - Music Streaming Service:\n",
    "\n",
    "Song_list = [\"a\",\"b\",\"c\",\"d\",\"e\"]\n",
    "def Play_song(Genre,High_rating):\n",
    "    if (Genre in Song_list) or (High_rating == \"Yes\"):\n",
    "        print(\"Playing your favourite Song:\", Genre)\n",
    "    else:\n",
    "        print(\"Song is not present in list\")\n",
    "        \n",
    "Play_song(\"e\",\"No\")"
   ]
  },
  {
   "cell_type": "code",
   "execution_count": 6,
   "id": "f2985ffd",
   "metadata": {},
   "outputs": [
    {
     "name": "stdout",
     "output_type": "stream",
     "text": [
      "Song is highly recommended: Rap\n"
     ]
    }
   ],
   "source": [
    "### - Music Streaming Service:\n",
    "\n",
    "Fav_genre = [\"Rock\",\"Pop\",\"Rap\",\"Blues\",\"Classical\"]\n",
    "def Recommend_song(Genre,Rating):\n",
    "    if (Genre in Fav_genre) or (Rating >= 7):\n",
    "        print(\"Song is highly recommended:\", Genre)\n",
    "    else:\n",
    "        print(\"Song is not recommended\")\n",
    "Recommend_song(\"Rap\",5)"
   ]
  },
  {
   "cell_type": "markdown",
   "id": "b4a167f8",
   "metadata": {},
   "source": [
    "<font size = 4> - Bank Account Validation: <br>\n",
    "You are developing a banking application. Explain how you would use the \"and\" operator to validate a customer's eligibility for a premium account. What conditions would you check using \"and\"?\n"
   ]
  },
  {
   "cell_type": "code",
   "execution_count": null,
   "id": "e946329c",
   "metadata": {},
   "outputs": [],
   "source": [
    "### - Bank Account Validation:\n",
    "### You are developing a banking application. Explain how you would use the \"and\" operator to validate a customer's eligibility\n",
    "### for a premium account. What conditions would you check using \"and\"?\n",
    "\n",
    "Bank_Balance = int(input(\"Enter the Bank Balance:\"))\n",
    "Cheque_Bounce = input(\"Any Incident of cheque bounce: Yes or No\")\n",
    "Fixed_Deposit = int(input(\"Enter the amount of fixed deposit:\"))\n",
    "Monthly_Deposit = int(input(\"Enter the monthly deposit amount:\"))\n",
    "\n",
    "if Bank_Balance >= 50000 and Cheque_Bounce == \"No\" and Fixed_Deposit >= 10000 and Monthly_Deposit >= 5000:\n",
    "    print(\"Premium Account.\")\n",
    "    \n",
    "else:\n",
    "    print(\"Account is not Premium.\")"
   ]
  },
  {
   "cell_type": "code",
   "execution_count": 7,
   "id": "56590209",
   "metadata": {},
   "outputs": [],
   "source": [
    "### - Bank Account Validation:   ----- \"By Parth Sir\"\n",
    "\n",
    "def eligible_premium(name,default,balance,age,loyalty_score):\n",
    "    if default == \"No\" and balance >= 100000 and age >= 38 and loyalty_score>=7:\n",
    "        print(name,\"is eligible for premium account\")\n",
    "    else:\n",
    "        print(name,\"is not eligible for premium account\")"
   ]
  },
  {
   "cell_type": "code",
   "execution_count": 8,
   "id": "13389f19",
   "metadata": {
    "scrolled": true
   },
   "outputs": [
    {
     "name": "stdout",
     "output_type": "stream",
     "text": [
      "Aj is eligible for premium account\n"
     ]
    }
   ],
   "source": [
    "eligible_premium(\"Aj\",\"No\",200000,39,8)"
   ]
  },
  {
   "cell_type": "markdown",
   "id": "2926e86c",
   "metadata": {},
   "source": [
    "<font size = 4> - Traffic Light Decision: <br>\n",
    "Imagine you are designing the logic for a traffic light system. How would you use the \"and\" operator to determine when the traffic light should turn green? What conditions involving sensors and timers might you consider?"
   ]
  },
  {
   "cell_type": "code",
   "execution_count": 9,
   "id": "735f6542",
   "metadata": {},
   "outputs": [],
   "source": [
    "### - Traffic Light Decision:\n",
    "\n",
    "def traffic_light(time,vehicles,pedestrians,current_state):\n",
    "    if time>2:\n",
    "        if vehicles > 20 and pedestrians > 10:\n",
    "            print(\"RED SIGNAL\")\n",
    "        elif current_state == \"YELLOW\":\n",
    "            print(\"RED SIGNAL\")\n",
    "        elif current_state == \"GREEN\":\n",
    "            print(\"YELLOW SIGNAL\")\n",
    "            current_state = \"YELLOW\"\n",
    "            print(\"RED SIGNAL\")\n",
    "    else:\n",
    "        print(current_state)"
   ]
  },
  {
   "cell_type": "code",
   "execution_count": 13,
   "id": "b4b7d246",
   "metadata": {},
   "outputs": [
    {
     "name": "stdout",
     "output_type": "stream",
     "text": [
      "YELLOW SIGNAL\n",
      "RED SIGNAL\n"
     ]
    }
   ],
   "source": [
    "traffic_light(3,20,23,\"GREEN\")"
   ]
  },
  {
   "cell_type": "code",
   "execution_count": 14,
   "id": "585aff53",
   "metadata": {},
   "outputs": [
    {
     "name": "stdout",
     "output_type": "stream",
     "text": [
      "RED SIGNAL\n"
     ]
    }
   ],
   "source": [
    "traffic_light(2.5,20,15,\"YELLOW\")"
   ]
  },
  {
   "cell_type": "code",
   "execution_count": null,
   "id": "2d590ff1",
   "metadata": {},
   "outputs": [],
   "source": []
  },
  {
   "cell_type": "markdown",
   "id": "093315fa",
   "metadata": {},
   "source": [
    "<font size = 4> - Password Strength Checker: <br>\n",
    "When users create passwords for their accounts on a website, it's important to ensure they meet certain criteria for security. Describe how you might use the \"and\" operator to check if a user's chosen password contains both uppercase letters and numbers."
   ]
  },
  {
   "cell_type": "code",
   "execution_count": null,
   "id": "824b13aa",
   "metadata": {},
   "outputs": [],
   "source": [
    "### - Password Strength Checker:\n",
    "\n",
    "Password = input(\"Enter the password:\")\n",
    "for z in Password:\n",
    "    if z == ((\"A\" or \"B\" or \"C\" or \"D\" or \"E\") and (\"1\" or \"2\" or \"3\")):\n",
    "        print(\"Your password is strong!\")\n",
    "    else:\n",
    "        print(\"Your password is weak!\")"
   ]
  },
  {
   "cell_type": "code",
   "execution_count": null,
   "id": "f95fa133",
   "metadata": {},
   "outputs": [],
   "source": [
    "### - Password Strength Checker:\n",
    "\n",
    "Password = input(\"Enter the password:\")\n",
    "\n",
    "if z == ((\"A\" or \"B\" or \"C\" or \"D\" or \"E\") and (\"1\" or \"2\" or \"3\")):\n",
    "    print(\"Your password is strong!\")\n",
    "else:\n",
    "    print(\"Your password is weak!\")"
   ]
  },
  {
   "cell_type": "code",
   "execution_count": null,
   "id": "9a63706e",
   "metadata": {},
   "outputs": [],
   "source": [
    "### - Password Strength Checker:\n",
    "\n",
    "Password = input(\"Enter the password:\")\n",
    "for z in Password:\n",
    "    if z == ((\"A\"or\"B\"or\"C\"or\"D\"or\"E\"or\"F\"or\"G\"or\"H\"or\"I\"or\"J\"or\"K\"or\"L\"or\"M\"or\"N\"or\"O\"or\"P\"or\"Q\"or\"R\"or\"S\"or\"T\"or\"U\"or\"V\"or\"W\"or\"X\"or\"Y\"or\"Z\") and (\"1\"or\"2\"or\"3\"or\"4\"or\"5\"or\"6\"or\"7\"or\"8\"or\"9\"or\"0\")):\n",
    "        print(\"Your password is strong!\")\n",
    "    else:\n",
    "        print(\"Your password is weak!\")\n",
    "print(z)"
   ]
  },
  {
   "cell_type": "code",
   "execution_count": null,
   "id": "265fda34",
   "metadata": {},
   "outputs": [],
   "source": [
    "### - Password Strength Checker:\n",
    "\n",
    "Password = input(\"Enter the password:\")\n",
    "for z in Password:\n",
    "    if z == (Password.upper() and int()):\n",
    "        print(\"Your password is strong!\")\n",
    "    else:\n",
    "        print(\"Your password is weak!\")"
   ]
  },
  {
   "cell_type": "code",
   "execution_count": null,
   "id": "a797e5dd",
   "metadata": {},
   "outputs": [],
   "source": [
    "### - Password Strength Checker:\n",
    "\n",
    "def Password_Check(password):\n",
    "##    uppercase = False\n",
    "##    numbers = False\n",
    "    for x in password:\n",
    "        if \"A\" <= x and x <= \"Z\" :\n",
    "            uppercase = True\n",
    "        elif \"0\" <= x and x <= \"9\" :\n",
    "            numbers = True\n",
    "            \n",
    "    if uppercase and numbers:\n",
    "        print(\"Password is Strong!\")\n",
    "    else: \n",
    "        print(\"Password is Weak!\")\n",
    "\n",
    "Password_Check(\"AAA123\")"
   ]
  },
  {
   "cell_type": "code",
   "execution_count": null,
   "id": "c561199b",
   "metadata": {},
   "outputs": [],
   "source": [
    "### - Password Strength Checker:\n",
    "\n",
    "def Password_Check(password):\n",
    "##    uppercase = False\n",
    "##    numbers = False\n",
    "    for x in password:\n",
    "        if \"A\" <= x and x <= \"Z\" :\n",
    "            uppercase = True\n",
    "        elif \"0\" <= x and x <= \"9\" :\n",
    "            numbers = True\n",
    "            \n",
    "    if uppercase and numbers:\n",
    "        print(\"Password is Strong!\")\n",
    "    else: \n",
    "        print(\"Password is Weak!\")\n",
    "\n",
    "Password_Check(\"AAA123$$$\")"
   ]
  },
  {
   "cell_type": "code",
   "execution_count": null,
   "id": "8bf14d35",
   "metadata": {},
   "outputs": [],
   "source": [
    "### - Password Strength Checker:\n",
    "\n",
    "def Password_Check(password):\n",
    "##    uppercase = False\n",
    "##    numbers = False\n",
    "    for x in password:\n",
    "        if \"A\" <= x and x <= \"Z\" :\n",
    "            uppercase = True\n",
    "        elif \"0\" <= x and x <= \"9\" :\n",
    "            numbers = True\n",
    "            \n",
    "    if uppercase and numbers:\n",
    "        print(\"Password is Strong!\")\n",
    "    else: \n",
    "        print(\"Password is Weak!\")\n",
    "\n",
    "Password_Check(\"AAA123aaa\")"
   ]
  },
  {
   "cell_type": "code",
   "execution_count": null,
   "id": "36b4c46d",
   "metadata": {},
   "outputs": [],
   "source": [
    "### - Password Strength Checker:\n",
    "\n",
    "def Password_Check(password):\n",
    "##    uppercase = False\n",
    "##    numbers = False\n",
    "    for x in password:\n",
    "        if \"A\" <= x and x <= \"Z\" :\n",
    "            uppercase = True\n",
    "        elif \"0\" <= x and x <= \"9\" :\n",
    "            numbers = True\n",
    "            \n",
    "    if uppercase and numbers:\n",
    "        print(\"Password is Strong!\")\n",
    "    else: \n",
    "        print(\"Password is Weak!\")\n",
    "\n",
    "Password_Check(\"123$$$\")\n",
    "\n",
    "###  \"NOTE\"-- One of the the above conditions in the for \"loop\" is not satisfied\n",
    "###   ........that's why we predefined \"uppercase and numbers\" "
   ]
  },
  {
   "cell_type": "code",
   "execution_count": null,
   "id": "8f043df1",
   "metadata": {},
   "outputs": [],
   "source": [
    "print(xx)             ### Both the errors \"Above\" and \"This one\" ARE SIMILAR........"
   ]
  },
  {
   "cell_type": "code",
   "execution_count": null,
   "id": "f468af0f",
   "metadata": {},
   "outputs": [],
   "source": []
  },
  {
   "cell_type": "code",
   "execution_count": 15,
   "id": "715cea75",
   "metadata": {},
   "outputs": [],
   "source": [
    "### - Password Strength Checker:\n",
    "\n",
    "def Password_Check(password):\n",
    "    uppercase = False\n",
    "    numbers = False\n",
    "    for x in password:\n",
    "        if \"A\" <= x and x <= \"Z\" :\n",
    "            uppercase = True\n",
    "        elif \"0\" <= x and x <= \"9\" :\n",
    "            numbers = True\n",
    "            \n",
    "    if uppercase and numbers:\n",
    "        print(\"Password is Strong!\")\n",
    "    else: \n",
    "        print(\"Password is Weak!\")"
   ]
  },
  {
   "cell_type": "code",
   "execution_count": 16,
   "id": "b7851716",
   "metadata": {},
   "outputs": [
    {
     "name": "stdout",
     "output_type": "stream",
     "text": [
      "Password is Strong!\n"
     ]
    }
   ],
   "source": [
    "Password_Check(\"ANMaa1239\")"
   ]
  },
  {
   "cell_type": "code",
   "execution_count": 17,
   "id": "efa094c1",
   "metadata": {},
   "outputs": [
    {
     "name": "stdout",
     "output_type": "stream",
     "text": [
      "Password is Weak!\n"
     ]
    }
   ],
   "source": [
    "Password_Check(\"aa1239\")"
   ]
  },
  {
   "cell_type": "code",
   "execution_count": 1,
   "id": "97f8f9e4",
   "metadata": {},
   "outputs": [],
   "source": [
    "### - Password Strength Checker:...........\"Without and operator....\"\n",
    "\n",
    "def Password_Check(password):\n",
    "    uppercase = False\n",
    "    numbers = False\n",
    "    special = False\n",
    "    for x in password:\n",
    "        if \"A\" <= x <= \"Z\" :\n",
    "            uppercase = True\n",
    "        elif \"0\" <= x <= \"9\" :\n",
    "            numbers = True\n",
    "        elif \"!\" <= x <= \"*\":\n",
    "            special = True\n",
    "            \n",
    "    if uppercase and numbers and special:\n",
    "        print(\"Password is Strong!\")\n",
    "    else: \n",
    "        print(\"Password is Weak!\")"
   ]
  },
  {
   "cell_type": "code",
   "execution_count": 9,
   "id": "dae6e30e",
   "metadata": {},
   "outputs": [],
   "source": [
    "### - Password Strength Checker:\n",
    "\n",
    "def Password_Check(password):\n",
    "    uppercase = False\n",
    "    numbers = False\n",
    "    special = False\n",
    "    for x in password:\n",
    "        if \"A\" <= x and x <= \"Z\" :\n",
    "            uppercase = True\n",
    "        elif \"0\" <= x and x <= \"9\" :\n",
    "            numbers = True\n",
    "        elif \"!\" <= x and x <= \"*\":\n",
    "            special = True\n",
    "            \n",
    "    if uppercase and numbers and special:\n",
    "        print(\"Password is Strong!\")\n",
    "    else: \n",
    "        print(\"Password is Weak!\")"
   ]
  },
  {
   "cell_type": "code",
   "execution_count": 2,
   "id": "90c422fb",
   "metadata": {
    "scrolled": true
   },
   "outputs": [
    {
     "name": "stdout",
     "output_type": "stream",
     "text": [
      "Password is Strong!\n"
     ]
    }
   ],
   "source": [
    "Password_Check(\"Abmb&&&46346\")"
   ]
  },
  {
   "cell_type": "code",
   "execution_count": 11,
   "id": "83551164",
   "metadata": {},
   "outputs": [
    {
     "name": "stdout",
     "output_type": "stream",
     "text": [
      "Password is Weak!\n"
     ]
    }
   ],
   "source": [
    "Password_Check(\"Abm46346\")"
   ]
  },
  {
   "cell_type": "code",
   "execution_count": 12,
   "id": "f1aa2254",
   "metadata": {},
   "outputs": [
    {
     "ename": "TypeError",
     "evalue": "'>' not supported between instances of 'tuple' and 'list'",
     "output_type": "error",
     "traceback": [
      "\u001b[1;31m---------------------------------------------------------------------------\u001b[0m",
      "\u001b[1;31mTypeError\u001b[0m                                 Traceback (most recent call last)",
      "Cell \u001b[1;32mIn[12], line 1\u001b[0m\n\u001b[1;32m----> 1\u001b[0m \u001b[43m(\u001b[49m\u001b[43m)\u001b[49m\u001b[43m \u001b[49m\u001b[38;5;241;43m>\u001b[39;49m\u001b[43m \u001b[49m\u001b[43m[\u001b[49m\u001b[43m]\u001b[49m\n",
      "\u001b[1;31mTypeError\u001b[0m: '>' not supported between instances of 'tuple' and 'list'"
     ]
    }
   ],
   "source": [
    "() > []"
   ]
  },
  {
   "cell_type": "markdown",
   "id": "be289c77",
   "metadata": {},
   "source": [
    "<Font size = 5.5> Important Examples"
   ]
  },
  {
   "cell_type": "code",
   "execution_count": null,
   "id": "90fd5cc2",
   "metadata": {},
   "outputs": [],
   "source": [
    "\"A\"<\"Z\""
   ]
  },
  {
   "cell_type": "code",
   "execution_count": null,
   "id": "bdfa63d2",
   "metadata": {},
   "outputs": [],
   "source": [
    "\"A\"<\"a\""
   ]
  },
  {
   "cell_type": "code",
   "execution_count": null,
   "id": "0fe2cf82",
   "metadata": {},
   "outputs": [],
   "source": [
    "\"a\">\"z\""
   ]
  },
  {
   "cell_type": "code",
   "execution_count": null,
   "id": "17e91575",
   "metadata": {},
   "outputs": [],
   "source": [
    "(\"!\" > \"*\"), (\"^\" > \"!\")"
   ]
  },
  {
   "cell_type": "code",
   "execution_count": null,
   "id": "d33266ab",
   "metadata": {},
   "outputs": [],
   "source": [
    "(\"0\" < \"1\"), (\"0\" < \"9\"), (\"a\" > \"0\"), (\"A\" > \"0\")"
   ]
  },
  {
   "cell_type": "code",
   "execution_count": null,
   "id": "c7af674e",
   "metadata": {},
   "outputs": [],
   "source": [
    "(\">\" > \"+\"), (\"{\" > \"?\")"
   ]
  },
  {
   "cell_type": "code",
   "execution_count": null,
   "id": "c9fc4852",
   "metadata": {},
   "outputs": [],
   "source": []
  },
  {
   "cell_type": "code",
   "execution_count": null,
   "id": "4b75263e",
   "metadata": {},
   "outputs": [],
   "source": [
    "### - Password Strength Checker:"
   ]
  },
  {
   "cell_type": "code",
   "execution_count": null,
   "id": "f9c9cf87",
   "metadata": {},
   "outputs": [],
   "source": [
    "x = 8\n",
    "for i in range(1):\n",
    "    x += 1\n",
    "print(x)"
   ]
  },
  {
   "cell_type": "code",
   "execution_count": null,
   "id": "05faa8aa",
   "metadata": {},
   "outputs": [],
   "source": [
    "lst = [\"Aj\",\"SS\",\"Tavi\"]\n",
    "for x in lst:\n",
    "    print(\"Hello\",lst)"
   ]
  },
  {
   "cell_type": "code",
   "execution_count": null,
   "id": "26ca8ed1",
   "metadata": {},
   "outputs": [],
   "source": [
    "x = {\"a\":1,\"b\":2,\"c\":3}\n",
    "x[0]"
   ]
  },
  {
   "cell_type": "code",
   "execution_count": null,
   "id": "d5c235c6",
   "metadata": {},
   "outputs": [],
   "source": [
    "x = [1,2,3,4]\n",
    "x[2]"
   ]
  },
  {
   "cell_type": "code",
   "execution_count": null,
   "id": "92e36d3b",
   "metadata": {},
   "outputs": [],
   "source": [
    "x = {1,2,3,4,5,(1,2,3)}\n",
    "x[0]"
   ]
  },
  {
   "cell_type": "code",
   "execution_count": null,
   "id": "6586bfb1",
   "metadata": {},
   "outputs": [],
   "source": [
    "x = 10\n",
    "x = 8\n",
    "x"
   ]
  },
  {
   "cell_type": "markdown",
   "id": "5300c2d4",
   "metadata": {},
   "source": [
    "<Font size = 5.5> 11_12 OCT 2023"
   ]
  },
  {
   "cell_type": "code",
   "execution_count": 18,
   "id": "e0c731ed",
   "metadata": {},
   "outputs": [
    {
     "ename": "SyntaxError",
     "evalue": "invalid syntax (3178653268.py, line 2)",
     "output_type": "error",
     "traceback": [
      "\u001b[1;36m  Cell \u001b[1;32mIn[18], line 2\u001b[1;36m\u001b[0m\n\u001b[1;33m    print(\"Table of 3:\", 3 * x == )\u001b[0m\n\u001b[1;37m                                  ^\u001b[0m\n\u001b[1;31mSyntaxError\u001b[0m\u001b[1;31m:\u001b[0m invalid syntax\n"
     ]
    }
   ],
   "source": [
    "for x in range(1,11):\n",
    "    print(\"Table of 3:\", 3 * x == )"
   ]
  },
  {
   "cell_type": "code",
   "execution_count": 19,
   "id": "f214f993",
   "metadata": {},
   "outputs": [
    {
     "name": "stdout",
     "output_type": "stream",
     "text": [
      "Table of 3:3*1 = 3\n",
      "Table of 3:3*2 = 6\n",
      "Table of 3:3*3 = 9\n",
      "Table of 3:3*4 = 12\n",
      "Table of 3:3*5 = 15\n",
      "Table of 3:3*6 = 18\n",
      "Table of 3:3*7 = 21\n",
      "Table of 3:3*8 = 24\n",
      "Table of 3:3*9 = 27\n",
      "Table of 3:3*10 = 30\n"
     ]
    }
   ],
   "source": [
    "for x in range(1,11):\n",
    "    print(f\"Table of 3:{3}*{x} =\",3*x)"
   ]
  },
  {
   "cell_type": "code",
   "execution_count": 21,
   "id": "b61d38c4",
   "metadata": {},
   "outputs": [
    {
     "name": "stdout",
     "output_type": "stream",
     "text": [
      "8\n",
      "Table of y:8*1 = 8\n",
      "Table of y:8*2 = 16\n",
      "Table of y:8*3 = 24\n",
      "Table of y:8*4 = 32\n",
      "Table of y:8*5 = 40\n",
      "Table of y:8*6 = 48\n",
      "Table of y:8*7 = 56\n",
      "Table of y:8*8 = 64\n",
      "Table of y:8*9 = 72\n",
      "Table of y:8*10 = 80\n"
     ]
    }
   ],
   "source": [
    "y = int(input())\n",
    "for x in range(1,11):\n",
    "    print(f\"Table of y:{y}*{x} =\",y*x)"
   ]
  },
  {
   "cell_type": "code",
   "execution_count": 22,
   "id": "4cc74e31",
   "metadata": {},
   "outputs": [
    {
     "name": "stdout",
     "output_type": "stream",
     "text": [
      "Enter the number:9\n",
      "Enter the range:11\n",
      "Table of y:9*0 = 0\n",
      "Table of y:9*1 = 9\n",
      "Table of y:9*2 = 18\n",
      "Table of y:9*3 = 27\n",
      "Table of y:9*4 = 36\n",
      "Table of y:9*5 = 45\n",
      "Table of y:9*6 = 54\n",
      "Table of y:9*7 = 63\n",
      "Table of y:9*8 = 72\n",
      "Table of y:9*9 = 81\n",
      "Table of y:9*10 = 90\n",
      "Table of y:9*11 = 99\n"
     ]
    }
   ],
   "source": [
    "y = int(input(\"Enter the number:\"))\n",
    "n = int(input(\"Enter the range:\"))+1\n",
    "for x in range(n):\n",
    "    print(f\"Table of y:{y}*{x} =\",y*x)"
   ]
  },
  {
   "cell_type": "code",
   "execution_count": null,
   "id": "90f0497b",
   "metadata": {},
   "outputs": [],
   "source": []
  },
  {
   "cell_type": "code",
   "execution_count": null,
   "id": "df5169c9",
   "metadata": {},
   "outputs": [],
   "source": []
  },
  {
   "cell_type": "code",
   "execution_count": 6,
   "id": "7c1a1b71",
   "metadata": {},
   "outputs": [
    {
     "name": "stdout",
     "output_type": "stream",
     "text": [
      "4\n"
     ]
    },
    {
     "ename": "KeyboardInterrupt",
     "evalue": "",
     "output_type": "error",
     "traceback": [
      "\u001b[1;31m---------------------------------------------------------------------------\u001b[0m",
      "\u001b[1;31mKeyboardInterrupt\u001b[0m                         Traceback (most recent call last)",
      "Cell \u001b[1;32mIn[6], line 3\u001b[0m\n\u001b[0;32m      1\u001b[0m n \u001b[38;5;241m=\u001b[39m \u001b[38;5;28mint\u001b[39m(\u001b[38;5;28minput\u001b[39m())\n\u001b[1;32m----> 3\u001b[0m \u001b[38;5;28;01mwhile\u001b[39;00m \u001b[43mn\u001b[49m\u001b[43m \u001b[49m\u001b[38;5;241;43m>\u001b[39;49m\u001b[38;5;241;43m=\u001b[39;49m\u001b[43m \u001b[49m\u001b[38;5;241;43m1\u001b[39;49m:\n\u001b[0;32m      4\u001b[0m     z \u001b[38;5;241m=\u001b[39m n\u001b[38;5;241m*\u001b[39m(n\u001b[38;5;241m-\u001b[39m\u001b[38;5;241m1\u001b[39m)\n\u001b[0;32m      5\u001b[0m \u001b[38;5;28mprint\u001b[39m(z)\n",
      "\u001b[1;31mKeyboardInterrupt\u001b[0m: "
     ]
    }
   ],
   "source": [
    "n = int(input())\n",
    "\n",
    "while n >= 1:\n",
    "    z = n*(n-1)\n",
    "print(z)"
   ]
  },
  {
   "cell_type": "code",
   "execution_count": 5,
   "id": "07c5fd4a",
   "metadata": {},
   "outputs": [
    {
     "name": "stdout",
     "output_type": "stream",
     "text": [
      "3\n"
     ]
    },
    {
     "ename": "KeyboardInterrupt",
     "evalue": "",
     "output_type": "error",
     "traceback": [
      "\u001b[1;31m---------------------------------------------------------------------------\u001b[0m",
      "\u001b[1;31mKeyboardInterrupt\u001b[0m                         Traceback (most recent call last)",
      "Cell \u001b[1;32mIn[5], line 3\u001b[0m\n\u001b[0;32m      1\u001b[0m n \u001b[38;5;241m=\u001b[39m \u001b[38;5;28mint\u001b[39m(\u001b[38;5;28minput\u001b[39m())\n\u001b[1;32m----> 3\u001b[0m \u001b[38;5;28;01mwhile\u001b[39;00m \u001b[43mn\u001b[49m\u001b[43m \u001b[49m\u001b[38;5;241;43m>\u001b[39;49m\u001b[38;5;241;43m=\u001b[39;49m\u001b[43m \u001b[49m\u001b[38;5;241;43m1\u001b[39;49m:\n\u001b[0;32m      4\u001b[0m     y \u001b[38;5;241m=\u001b[39m n\u001b[38;5;241m-\u001b[39m\u001b[38;5;241m1\u001b[39m\n\u001b[0;32m      5\u001b[0m     z \u001b[38;5;241m=\u001b[39m n\u001b[38;5;241m*\u001b[39my\n",
      "\u001b[1;31mKeyboardInterrupt\u001b[0m: "
     ]
    }
   ],
   "source": [
    "n = int(input())\n",
    "\n",
    "while n >= 1:\n",
    "    y = n-1\n",
    "    z = n*y\n",
    "print(z)"
   ]
  },
  {
   "cell_type": "code",
   "execution_count": null,
   "id": "def20bd6",
   "metadata": {},
   "outputs": [],
   "source": [
    "n = int(input())    #######   Infinite loop.........Donot run it.....\n",
    "\n",
    "while n >= 1:\n",
    "    y = n-1\n",
    "    z = n*y\n",
    "    print(z)\n",
    "print(z)"
   ]
  },
  {
   "cell_type": "code",
   "execution_count": 7,
   "id": "5f09f6d1",
   "metadata": {},
   "outputs": [
    {
     "name": "stdout",
     "output_type": "stream",
     "text": [
      "4\n",
      "12\n"
     ]
    }
   ],
   "source": [
    "n = int(input())    \n",
    "\n",
    "for x in range(1,n):\n",
    "    y = n-1\n",
    "    z = n*y\n",
    "\n",
    "print(z)"
   ]
  },
  {
   "cell_type": "code",
   "execution_count": 8,
   "id": "f62e2f19",
   "metadata": {},
   "outputs": [
    {
     "name": "stdout",
     "output_type": "stream",
     "text": [
      "4\n"
     ]
    },
    {
     "ename": "TypeError",
     "evalue": "unsupported operand type(s) for -: 'int' and 'range'",
     "output_type": "error",
     "traceback": [
      "\u001b[1;31m---------------------------------------------------------------------------\u001b[0m",
      "\u001b[1;31mTypeError\u001b[0m                                 Traceback (most recent call last)",
      "Cell \u001b[1;32mIn[8], line 4\u001b[0m\n\u001b[0;32m      1\u001b[0m n \u001b[38;5;241m=\u001b[39m \u001b[38;5;28mint\u001b[39m(\u001b[38;5;28minput\u001b[39m())    \n\u001b[0;32m      3\u001b[0m \u001b[38;5;28;01mfor\u001b[39;00m x \u001b[38;5;129;01min\u001b[39;00m \u001b[38;5;28mrange\u001b[39m(\u001b[38;5;241m1\u001b[39m,n):\n\u001b[1;32m----> 4\u001b[0m     y \u001b[38;5;241m=\u001b[39m \u001b[43mn\u001b[49m\u001b[38;5;241;43m-\u001b[39;49m\u001b[43m(\u001b[49m\u001b[38;5;28;43mrange\u001b[39;49m\u001b[43m(\u001b[49m\u001b[38;5;241;43m1\u001b[39;49m\u001b[43m,\u001b[49m\u001b[43mn\u001b[49m\u001b[43m)\u001b[49m\u001b[43m)\u001b[49m\n\u001b[0;32m      5\u001b[0m     z \u001b[38;5;241m=\u001b[39m n\u001b[38;5;241m*\u001b[39my\n\u001b[0;32m      7\u001b[0m \u001b[38;5;28mprint\u001b[39m(z)\n",
      "\u001b[1;31mTypeError\u001b[0m: unsupported operand type(s) for -: 'int' and 'range'"
     ]
    }
   ],
   "source": [
    "n = int(input())    \n",
    "\n",
    "for x in range(1,n):\n",
    "    y = n-(range(1,n))\n",
    "    z = n*y\n",
    "\n",
    "print(z)"
   ]
  },
  {
   "cell_type": "code",
   "execution_count": 9,
   "id": "fbebf76d",
   "metadata": {},
   "outputs": [
    {
     "name": "stdout",
     "output_type": "stream",
     "text": [
      "4\n"
     ]
    },
    {
     "ename": "TypeError",
     "evalue": "int() argument must be a string, a bytes-like object or a real number, not 'range'",
     "output_type": "error",
     "traceback": [
      "\u001b[1;31m---------------------------------------------------------------------------\u001b[0m",
      "\u001b[1;31mTypeError\u001b[0m                                 Traceback (most recent call last)",
      "Cell \u001b[1;32mIn[9], line 4\u001b[0m\n\u001b[0;32m      1\u001b[0m n \u001b[38;5;241m=\u001b[39m \u001b[38;5;28mint\u001b[39m(\u001b[38;5;28minput\u001b[39m())    \n\u001b[0;32m      3\u001b[0m \u001b[38;5;28;01mfor\u001b[39;00m x \u001b[38;5;129;01min\u001b[39;00m \u001b[38;5;28mrange\u001b[39m(\u001b[38;5;241m1\u001b[39m,n):\n\u001b[1;32m----> 4\u001b[0m     y \u001b[38;5;241m=\u001b[39m n \u001b[38;5;241m-\u001b[39m \u001b[38;5;28;43mint\u001b[39;49m\u001b[43m(\u001b[49m\u001b[38;5;28;43mrange\u001b[39;49m\u001b[43m(\u001b[49m\u001b[38;5;241;43m1\u001b[39;49m\u001b[43m,\u001b[49m\u001b[43mn\u001b[49m\u001b[43m)\u001b[49m\u001b[43m)\u001b[49m\n\u001b[0;32m      5\u001b[0m     z \u001b[38;5;241m=\u001b[39m n\u001b[38;5;241m*\u001b[39my\n\u001b[0;32m      7\u001b[0m \u001b[38;5;28mprint\u001b[39m(z)\n",
      "\u001b[1;31mTypeError\u001b[0m: int() argument must be a string, a bytes-like object or a real number, not 'range'"
     ]
    }
   ],
   "source": [
    "n = int(input())    \n",
    "\n",
    "for x in range(1,n):\n",
    "    y = n - int(range(1,n))\n",
    "    z = n*y\n",
    "\n",
    "print(z)"
   ]
  },
  {
   "cell_type": "markdown",
   "id": "d0b03e81",
   "metadata": {},
   "source": [
    "<font size = 5.5> Frozen Set...."
   ]
  },
  {
   "cell_type": "code",
   "execution_count": 13,
   "id": "74c5f3d3",
   "metadata": {},
   "outputs": [
    {
     "name": "stdout",
     "output_type": "stream",
     "text": [
      "frozenset({1, 2, 3})\n",
      "{frozenset({1, 2, 3}), 1, 2, 3}\n"
     ]
    },
    {
     "ename": "AttributeError",
     "evalue": "'frozenset' object has no attribute 'add'",
     "output_type": "error",
     "traceback": [
      "\u001b[1;31m---------------------------------------------------------------------------\u001b[0m",
      "\u001b[1;31mAttributeError\u001b[0m                            Traceback (most recent call last)",
      "Cell \u001b[1;32mIn[13], line 6\u001b[0m\n\u001b[0;32m      4\u001b[0m set1\u001b[38;5;241m.\u001b[39madd(a)\n\u001b[0;32m      5\u001b[0m \u001b[38;5;28mprint\u001b[39m(set1)\n\u001b[1;32m----> 6\u001b[0m \u001b[43ma\u001b[49m\u001b[38;5;241;43m.\u001b[39;49m\u001b[43madd\u001b[49m(\u001b[38;5;241m4\u001b[39m,\u001b[38;5;241m44\u001b[39m)\n\u001b[0;32m      7\u001b[0m \u001b[38;5;28mprint\u001b[39m(a)\n",
      "\u001b[1;31mAttributeError\u001b[0m: 'frozenset' object has no attribute 'add'"
     ]
    }
   ],
   "source": [
    "set1 = {1,2,3}\n",
    "a = frozenset(set1)\n",
    "print(a)\n",
    "set1.add(a)\n",
    "print(set1)\n",
    "a.add(4,44)\n",
    "print(a)"
   ]
  },
  {
   "cell_type": "code",
   "execution_count": 16,
   "id": "5a8ebc67",
   "metadata": {},
   "outputs": [
    {
     "name": "stdout",
     "output_type": "stream",
     "text": [
      "frozenset({1, 2, 3})\n",
      "{frozenset({1, 2, 3}), 1, 2, 3}\n"
     ]
    }
   ],
   "source": [
    "set1 = {1,2,3}\n",
    "a = frozenset(set1)\n",
    "print(a)\n",
    "set1.add(a)\n",
    "print(set1)"
   ]
  },
  {
   "cell_type": "code",
   "execution_count": 17,
   "id": "3c731091",
   "metadata": {},
   "outputs": [
    {
     "name": "stdout",
     "output_type": "stream",
     "text": [
      "frozenset({1, 2, 3})\n",
      "{frozenset({1, 2, 3}), 1, 2, 3}\n"
     ]
    },
    {
     "ename": "NameError",
     "evalue": "name 'unfrozenset' is not defined",
     "output_type": "error",
     "traceback": [
      "\u001b[1;31m---------------------------------------------------------------------------\u001b[0m",
      "\u001b[1;31mNameError\u001b[0m                                 Traceback (most recent call last)",
      "Cell \u001b[1;32mIn[17], line 6\u001b[0m\n\u001b[0;32m      4\u001b[0m set1\u001b[38;5;241m.\u001b[39madd(a)\n\u001b[0;32m      5\u001b[0m \u001b[38;5;28mprint\u001b[39m(set1)\n\u001b[1;32m----> 6\u001b[0m a \u001b[38;5;241m=\u001b[39m \u001b[43munfrozenset\u001b[49m(set1)\n",
      "\u001b[1;31mNameError\u001b[0m: name 'unfrozenset' is not defined"
     ]
    }
   ],
   "source": [
    "set1 = {1,2,3}\n",
    "a = frozenset(set1)\n",
    "print(a)\n",
    "set1.add(a)\n",
    "print(set1)\n",
    "a = unfrozenset(set1)"
   ]
  },
  {
   "cell_type": "markdown",
   "id": "ff7b5875",
   "metadata": {},
   "source": [
    "<Font size = 5.5> Factorial.."
   ]
  },
  {
   "cell_type": "code",
   "execution_count": 13,
   "id": "1fcb5263",
   "metadata": {},
   "outputs": [
    {
     "name": "stdout",
     "output_type": "stream",
     "text": [
      "5\n"
     ]
    },
    {
     "ename": "TypeError",
     "evalue": "'int' object is not iterable",
     "output_type": "error",
     "traceback": [
      "\u001b[1;31m---------------------------------------------------------------------------\u001b[0m",
      "\u001b[1;31mTypeError\u001b[0m                                 Traceback (most recent call last)",
      "Cell \u001b[1;32mIn[13], line 2\u001b[0m\n\u001b[0;32m      1\u001b[0m x \u001b[38;5;241m=\u001b[39m \u001b[38;5;28mint\u001b[39m(\u001b[38;5;28minput\u001b[39m())\n\u001b[1;32m----> 2\u001b[0m \u001b[38;5;28;01mfor\u001b[39;00m i \u001b[38;5;129;01min\u001b[39;00m x:\n\u001b[0;32m      3\u001b[0m     \u001b[38;5;28mprint\u001b[39m(\u001b[38;5;124m\"\u001b[39m\u001b[38;5;124m*\u001b[39m\u001b[38;5;124m\"\u001b[39m)\n\u001b[0;32m      4\u001b[0m     x \u001b[38;5;241m=\u001b[39m x\u001b[38;5;241m-\u001b[39m\u001b[38;5;241m1\u001b[39m\n",
      "\u001b[1;31mTypeError\u001b[0m: 'int' object is not iterable"
     ]
    }
   ],
   "source": [
    "x = int(input())\n",
    "for i in x:\n",
    "    print(\"*\")\n",
    "    x = x-1"
   ]
  },
  {
   "cell_type": "code",
   "execution_count": null,
   "id": "9a7e1a9e",
   "metadata": {},
   "outputs": [],
   "source": []
  },
  {
   "cell_type": "code",
   "execution_count": null,
   "id": "5f3535d3",
   "metadata": {},
   "outputs": [],
   "source": []
  }
 ],
 "metadata": {
  "kernelspec": {
   "display_name": "Python 3 (ipykernel)",
   "language": "python",
   "name": "python3"
  },
  "language_info": {
   "codemirror_mode": {
    "name": "ipython",
    "version": 3
   },
   "file_extension": ".py",
   "mimetype": "text/x-python",
   "name": "python",
   "nbconvert_exporter": "python",
   "pygments_lexer": "ipython3",
   "version": "3.10.9"
  }
 },
 "nbformat": 4,
 "nbformat_minor": 5
}
