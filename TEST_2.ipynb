{
 "cells": [
  {
   "cell_type": "markdown",
   "id": "e7f33aa8",
   "metadata": {},
   "source": [
    "<Font size = 4> Q1. Write a function that checks if a given number is palindrome."
   ]
  },
  {
   "cell_type": "code",
   "execution_count": 1,
   "id": "a75d27a2",
   "metadata": {},
   "outputs": [
    {
     "name": "stdout",
     "output_type": "stream",
     "text": [
      "Entered number not palindrome.\n"
     ]
    }
   ],
   "source": [
    "def Palindrome(Number):\n",
    "    x = str(Number)\n",
    "    y = x[::-1]\n",
    "    if x == y:\n",
    "        print(\"Entered number is palindrome.\")\n",
    "    else:\n",
    "        print(\"Entered number not palindrome.\")\n",
    "Palindrome(1234)"
   ]
  },
  {
   "cell_type": "code",
   "execution_count": 2,
   "id": "c41c69cd",
   "metadata": {},
   "outputs": [
    {
     "name": "stdout",
     "output_type": "stream",
     "text": [
      "Entered number is palindrome.\n"
     ]
    }
   ],
   "source": [
    "Palindrome(12321)"
   ]
  },
  {
   "cell_type": "code",
   "execution_count": null,
   "id": "5f507818",
   "metadata": {},
   "outputs": [],
   "source": []
  },
  {
   "cell_type": "markdown",
   "id": "0faad3d8",
   "metadata": {},
   "source": [
    "<Font size = 4> Q2. Write a program to swap the values of two variables without using a temporary variable."
   ]
  },
  {
   "cell_type": "code",
   "execution_count": 9,
   "id": "538fecb8",
   "metadata": {},
   "outputs": [
    {
     "name": "stdout",
     "output_type": "stream",
     "text": [
      "Enter first number:66\n",
      "\n",
      "Enter second number:77\n",
      "\n",
      "First number is: 77\n",
      "\n",
      "Second number is: 66\n"
     ]
    }
   ],
   "source": [
    "x = input(\"Enter first number:\")\n",
    "y = input(\"\\n\"\"Enter second number:\")\n",
    "x,y = y,x\n",
    "\n",
    "print(\"\\n\"\"First number is:\",x)\n",
    "print(\"\\n\"\"Second number is:\",y)"
   ]
  },
  {
   "cell_type": "markdown",
   "id": "ab179149",
   "metadata": {},
   "source": [
    "<Font size = 4> Q3. Write a program to add the elements of set B in A without changing the id of set A.\n",
    "<br> A = {1,2,3,4}\n",
    "<br> B = {5,6,7,8}"
   ]
  },
  {
   "cell_type": "code",
   "execution_count": 11,
   "id": "17ba9c59",
   "metadata": {},
   "outputs": [
    {
     "name": "stdout",
     "output_type": "stream",
     "text": [
      "2061359702176\n",
      "{1, 2, 3, 4, 5, 6, 7, 8}\n",
      "2061359702176\n"
     ]
    }
   ],
   "source": [
    "A = {1,2,3,4}\n",
    "B = {5,6,7,8}\n",
    "print(id(A))\n",
    "A.symmetric_difference_update(B)\n",
    "print(A)\n",
    "print(id(A))"
   ]
  },
  {
   "cell_type": "code",
   "execution_count": 1,
   "id": "07aa0e7a",
   "metadata": {},
   "outputs": [
    {
     "name": "stdout",
     "output_type": "stream",
     "text": [
      "1577098470656\n",
      "{1, 2, 3, 4, 5, 6, 7, 8}\n",
      "1577098470656\n"
     ]
    }
   ],
   "source": [
    "A = {1,2,3,4}\n",
    "B = {5,6,7,8}\n",
    "print(id(A))\n",
    "A.update(B)\n",
    "print(A)\n",
    "print(id(A))"
   ]
  },
  {
   "cell_type": "markdown",
   "id": "0ecaeda2",
   "metadata": {},
   "source": [
    "<font size = 4> Q4. Write a Python program that uses a for loop to print the first 10 terms of the Fibonacci sequence. The Fibonacci sequence starts with 0 and 1 and each subsequent term is the sum of the two preceding terms. Your program should output the following sequence:<br>\n",
    "**0, 1, 1, 2, 3, 5, 8, 13, 21, 34**\n"
   ]
  },
  {
   "cell_type": "code",
   "execution_count": 5,
   "id": "5284c72e",
   "metadata": {},
   "outputs": [
    {
     "name": "stdout",
     "output_type": "stream",
     "text": [
      "Enter the range:11\n",
      "0, 1, 1, 2, 3, 5, 8, 13, 21, 34, 55, 89, "
     ]
    }
   ],
   "source": [
    "a = 0\n",
    "b = 1\n",
    "n = int(input(\"Enter the range:\"))+1\n",
    "for x in range(n):\n",
    "    print(a, end = \", \")\n",
    "    a,b = b,a+b"
   ]
  },
  {
   "cell_type": "code",
   "execution_count": 25,
   "id": "460b946e",
   "metadata": {},
   "outputs": [
    {
     "name": "stdout",
     "output_type": "stream",
     "text": [
      "1,1,2,3,5,8,13,21,34,"
     ]
    }
   ],
   "source": [
    "a = 0\n",
    "b = 1\n",
    "for x in range(9):\n",
    "    a,b = b,a+b\n",
    "    print(a, end = \",\")"
   ]
  },
  {
   "cell_type": "code",
   "execution_count": 23,
   "id": "f098eeba",
   "metadata": {},
   "outputs": [
    {
     "name": "stdout",
     "output_type": "stream",
     "text": [
      "1,2,3,5,8,13,21,34,55,"
     ]
    }
   ],
   "source": [
    "a = 0\n",
    "b = 1\n",
    "for x in range(9):\n",
    "    a,b = b,a+b\n",
    "    print(b, end = \",\")"
   ]
  },
  {
   "cell_type": "code",
   "execution_count": 1,
   "id": "88d37dfe",
   "metadata": {},
   "outputs": [
    {
     "name": "stdout",
     "output_type": "stream",
     "text": [
      "1,2,4,8,16,32,64,128,256,"
     ]
    }
   ],
   "source": [
    "a = 0\n",
    "b = 1\n",
    "for x in range(9):\n",
    "    a = b\n",
    "    b = a+b\n",
    "    print(a, end = \",\")"
   ]
  },
  {
   "cell_type": "code",
   "execution_count": null,
   "id": "7e798693",
   "metadata": {},
   "outputs": [],
   "source": []
  },
  {
   "cell_type": "code",
   "execution_count": 1,
   "id": "cab492a7",
   "metadata": {},
   "outputs": [
    {
     "name": "stdout",
     "output_type": "stream",
     "text": [
      "[1, 2, 3, 4, 5]\n",
      "[1, 2, 3, 4, 5]\n",
      "[1, 2, 3, 4, 5]\n",
      "[1, 2, 3, 4, 5]\n",
      "[1, 2, 3, 4, 5]\n"
     ]
    }
   ],
   "source": [
    "lst = [1,2,3,4,5]\n",
    "for x in lst:\n",
    "    print(lst)"
   ]
  },
  {
   "cell_type": "code",
   "execution_count": 2,
   "id": "aff7763e",
   "metadata": {},
   "outputs": [
    {
     "name": "stdout",
     "output_type": "stream",
     "text": [
      "1\n",
      "2\n",
      "3\n",
      "4\n",
      "5\n"
     ]
    }
   ],
   "source": [
    "lst = [1,2,3,4,5]\n",
    "for x in lst:\n",
    "    print(x)"
   ]
  },
  {
   "cell_type": "code",
   "execution_count": null,
   "id": "0889a44a",
   "metadata": {},
   "outputs": [],
   "source": []
  }
 ],
 "metadata": {
  "kernelspec": {
   "display_name": "Python 3 (ipykernel)",
   "language": "python",
   "name": "python3"
  },
  "language_info": {
   "codemirror_mode": {
    "name": "ipython",
    "version": 3
   },
   "file_extension": ".py",
   "mimetype": "text/x-python",
   "name": "python",
   "nbconvert_exporter": "python",
   "pygments_lexer": "ipython3",
   "version": "3.10.9"
  }
 },
 "nbformat": 4,
 "nbformat_minor": 5
}
