{
 "cells": [
  {
   "cell_type": "code",
   "execution_count": 3,
   "id": "54460cc5",
   "metadata": {},
   "outputs": [
    {
     "name": "stdout",
     "output_type": "stream",
     "text": [
      "*\n",
      "<class 'str'>\n",
      "4\n",
      "****\n",
      "****\n",
      "****\n",
      "****\n"
     ]
    }
   ],
   "source": [
    "X  = input()\n",
    "print(type(X))\n",
    "p = int(input())\n",
    "for z in range(p):\n",
    "    z = X*p\n",
    "    print(z)"
   ]
  },
  {
   "cell_type": "code",
   "execution_count": 4,
   "id": "f6e18798",
   "metadata": {},
   "outputs": [
    {
     "name": "stdout",
     "output_type": "stream",
     "text": [
      "*\n",
      "<class 'str'>\n",
      "4\n",
      "***\n",
      "***\n",
      "***\n",
      "***\n"
     ]
    }
   ],
   "source": [
    "X  = input()\n",
    "print(type(X))\n",
    "p = int(input())\n",
    "for z in range(p):\n",
    "    z = X*(p-1)\n",
    "    print(z)"
   ]
  },
  {
   "cell_type": "code",
   "execution_count": 5,
   "id": "a73c266c",
   "metadata": {},
   "outputs": [
    {
     "name": "stdout",
     "output_type": "stream",
     "text": [
      "4\n",
      "\n",
      "*\n",
      "**\n",
      "***\n",
      "****\n"
     ]
    }
   ],
   "source": [
    "p = 1+int(input())\n",
    "for x in range(p):\n",
    "    print(\"*\"*x)"
   ]
  },
  {
   "cell_type": "code",
   "execution_count": 6,
   "id": "bab48c09",
   "metadata": {},
   "outputs": [
    {
     "name": "stdout",
     "output_type": "stream",
     "text": [
      "4\n",
      "\n",
      "*\n",
      "**\n",
      "***\n",
      "****\n"
     ]
    }
   ],
   "source": [
    "p = int(input())\n",
    "for x in range(p+1):\n",
    "    print(\"*\"*x)"
   ]
  },
  {
   "cell_type": "code",
   "execution_count": 3,
   "id": "7de7cbfb",
   "metadata": {},
   "outputs": [
    {
     "name": "stdout",
     "output_type": "stream",
     "text": [
      "4\n",
      "\n",
      "***\n",
      " \n",
      "***\n",
      "  \n",
      "***\n",
      "   \n",
      "***\n",
      "    \n",
      "***\n"
     ]
    }
   ],
   "source": [
    "p = int(input())\n",
    "for x in range(p+1):\n",
    "    print(\" \"*x)\n",
    "    print(\"*\"*(p-1))"
   ]
  },
  {
   "cell_type": "code",
   "execution_count": null,
   "id": "3bc06e6a",
   "metadata": {},
   "outputs": [],
   "source": []
  },
  {
   "cell_type": "code",
   "execution_count": 10,
   "id": "779216ca",
   "metadata": {},
   "outputs": [
    {
     "name": "stdout",
     "output_type": "stream",
     "text": [
      "*\n",
      "<class 'str'>\n",
      "4\n",
      "\n",
      "*\n",
      "**\n",
      "***\n",
      "****\n"
     ]
    }
   ],
   "source": [
    "X  = input()\n",
    "print(type(X))\n",
    "p = 1+int(input())\n",
    "for z in range(p):\n",
    "    z = X*z\n",
    "    print(z)"
   ]
  },
  {
   "cell_type": "code",
   "execution_count": 11,
   "id": "12fe6a96",
   "metadata": {},
   "outputs": [
    {
     "name": "stdout",
     "output_type": "stream",
     "text": [
      "*\n",
      "<class 'str'>\n",
      "4\n",
      "\n",
      "*\n",
      "**\n",
      "***\n",
      "****\n"
     ]
    }
   ],
   "source": [
    "X  = input()\n",
    "print(type(X))\n",
    "p = int(input())\n",
    "for z in range(p+1):\n",
    "    z = X*z\n",
    "    print(z)"
   ]
  },
  {
   "cell_type": "code",
   "execution_count": 42,
   "id": "0d67bdc7",
   "metadata": {},
   "outputs": [
    {
     "name": "stdout",
     "output_type": "stream",
     "text": [
      " \n",
      "4\n"
     ]
    },
    {
     "ename": "TypeError",
     "evalue": "can't multiply sequence by non-int of type 'str'",
     "output_type": "error",
     "traceback": [
      "\u001b[1;31m---------------------------------------------------------------------------\u001b[0m",
      "\u001b[1;31mTypeError\u001b[0m                                 Traceback (most recent call last)",
      "Cell \u001b[1;32mIn[42], line 5\u001b[0m\n\u001b[0;32m      3\u001b[0m \u001b[38;5;28;01mfor\u001b[39;00m z \u001b[38;5;129;01min\u001b[39;00m \u001b[38;5;28mrange\u001b[39m(p):\n\u001b[0;32m      4\u001b[0m     z \u001b[38;5;241m=\u001b[39m x\u001b[38;5;241m*\u001b[39m(p\u001b[38;5;241m-\u001b[39mz)\n\u001b[1;32m----> 5\u001b[0m     z \u001b[38;5;241m=\u001b[39m \u001b[38;5;124;43m\"\u001b[39;49m\u001b[38;5;124;43m*\u001b[39;49m\u001b[38;5;124;43m\"\u001b[39;49m\u001b[38;5;241;43m*\u001b[39;49m\u001b[43mz\u001b[49m\n\u001b[0;32m      6\u001b[0m     \u001b[38;5;28mprint\u001b[39m(z)\n",
      "\u001b[1;31mTypeError\u001b[0m: can't multiply sequence by non-int of type 'str'"
     ]
    }
   ],
   "source": [
    "x = input()\n",
    "n = input()\n",
    "for z in range(p):\n",
    "    z = x*(p-z)\n",
    "    z = \"*\"*z\n",
    "    print(z)"
   ]
  },
  {
   "cell_type": "code",
   "execution_count": 15,
   "id": "74f6adb9",
   "metadata": {},
   "outputs": [
    {
     "name": "stdout",
     "output_type": "stream",
     "text": [
      "*\n",
      "<class 'str'>\n",
      "4\n",
      "****\n",
      "***\n",
      "**\n",
      "*\n"
     ]
    }
   ],
   "source": [
    "X  = input()\n",
    "print(type(X))\n",
    "p = int(input())\n",
    "for z in range(p):\n",
    "    z = X*(p-z)\n",
    "    print(z)\n",
    "##print(z)"
   ]
  },
  {
   "cell_type": "code",
   "execution_count": 16,
   "id": "cda1a3f4",
   "metadata": {},
   "outputs": [
    {
     "name": "stdout",
     "output_type": "stream",
     "text": [
      "4\n",
      "****\n",
      "***\n",
      "**\n",
      "*\n"
     ]
    }
   ],
   "source": [
    "p = int(input())\n",
    "for z in range(p):\n",
    "    z = \"*\"*(p-z)\n",
    "    print(z)"
   ]
  },
  {
   "cell_type": "markdown",
   "id": "16e72cb5",
   "metadata": {},
   "source": [
    "<font size = 5.5> 26 OCT 2023"
   ]
  },
  {
   "cell_type": "code",
   "execution_count": 2,
   "id": "d868e0a4",
   "metadata": {},
   "outputs": [
    {
     "name": "stdout",
     "output_type": "stream",
     "text": [
      "4\n",
      "     \n",
      "    *\n",
      "   **\n",
      "  ***\n",
      " ****\n"
     ]
    }
   ],
   "source": [
    "p = 1+int(input())\n",
    "for x in range(p):\n",
    "    for y in range(p):\n",
    "        p=p-1\n",
    "        y = \"*\"*y\n",
    "        print(\" \"*p,y)"
   ]
  },
  {
   "cell_type": "code",
   "execution_count": 4,
   "id": "8dc893bd",
   "metadata": {},
   "outputs": [
    {
     "name": "stdout",
     "output_type": "stream",
     "text": [
      "4\n",
      "      0\n",
      "     1\n",
      "    2\n",
      "   3\n",
      "  4\n"
     ]
    }
   ],
   "source": [
    "p = 1+int(input())\n",
    "for x in range(p):\n",
    "    for y in range(p):\n",
    "        print(\" \"*p,y)\n",
    "        p=p-1\n",
    "        y = \"*\"*y"
   ]
  },
  {
   "cell_type": "code",
   "execution_count": 7,
   "id": "e21fb3c9",
   "metadata": {},
   "outputs": [
    {
     "name": "stdout",
     "output_type": "stream",
     "text": [
      "4\n",
      "         \n",
      "       *\n",
      "     **\n",
      "   ***\n",
      " ****\n"
     ]
    }
   ],
   "source": [
    "p = 1+int(input())\n",
    "for x in range(p):\n",
    "    for y in range(p):\n",
    "        p=p-1\n",
    "        y = \"*\"*y\n",
    "        print(\"  \"*p,y)"
   ]
  },
  {
   "cell_type": "code",
   "execution_count": 5,
   "id": "bc11b2af",
   "metadata": {},
   "outputs": [
    {
     "name": "stdout",
     "output_type": "stream",
     "text": [
      "4\n",
      "     \n",
      "    * \n",
      "   * * \n",
      "  * * * \n",
      " * * * * \n"
     ]
    }
   ],
   "source": [
    "p = 1+int(input())\n",
    "for x in range(p):\n",
    "    for y in range(p):\n",
    "        p=p-1\n",
    "        y = \"* \"*y\n",
    "        print(\" \"*p,y)"
   ]
  },
  {
   "cell_type": "code",
   "execution_count": null,
   "id": "797dad82",
   "metadata": {},
   "outputs": [],
   "source": []
  },
  {
   "cell_type": "code",
   "execution_count": null,
   "id": "a47717ea",
   "metadata": {},
   "outputs": [],
   "source": []
  },
  {
   "cell_type": "code",
   "execution_count": null,
   "id": "3ff1099c",
   "metadata": {},
   "outputs": [],
   "source": []
  },
  {
   "cell_type": "code",
   "execution_count": 17,
   "id": "bd2ca699",
   "metadata": {},
   "outputs": [
    {
     "name": "stdout",
     "output_type": "stream",
     "text": [
      "4\n",
      "* * * * \n",
      "* * * \n",
      "* * \n",
      "* \n",
      "\n"
     ]
    }
   ],
   "source": [
    "p = 1+int(input())\n",
    "for x in range(p):\n",
    "    for y in range(p):\n",
    "        p=p-1\n",
    "        print(\"* \"*p)"
   ]
  },
  {
   "cell_type": "code",
   "execution_count": 19,
   "id": "a7df6fec",
   "metadata": {},
   "outputs": [
    {
     "name": "stdout",
     "output_type": "stream",
     "text": [
      "3\n",
      "* * * \n",
      "* * \n",
      "* \n"
     ]
    }
   ],
   "source": [
    "p = int(input())\n",
    "for z in range(p):\n",
    "    z = \"* \"*(p-z)\n",
    "    print(z)"
   ]
  },
  {
   "cell_type": "code",
   "execution_count": 20,
   "id": "6781dd60",
   "metadata": {},
   "outputs": [
    {
     "name": "stdout",
     "output_type": "stream",
     "text": [
      "5\n",
      "<class 'str'>\n",
      "4\n",
      "X X X X \n",
      "X X X \n",
      "X X \n",
      "X \n"
     ]
    }
   ],
   "source": [
    "X  = input()     ### No use....\n",
    "print(type(X))\n",
    "p = int(input())\n",
    "for z in range(p):\n",
    "    z = \"X \" *(p-z)\n",
    "    print(z)"
   ]
  },
  {
   "cell_type": "code",
   "execution_count": 24,
   "id": "ce7afe43",
   "metadata": {},
   "outputs": [
    {
     "name": "stdout",
     "output_type": "stream",
     "text": [
      "4\n",
      "* \n",
      "* * \n",
      "* * * \n",
      "* * * * \n"
     ]
    }
   ],
   "source": [
    "n = int(input())\n",
    "for i in range(0, n):\n",
    "    for j in range(0, i+1):\n",
    "        print(\"*\",end=\" \")\n",
    "    print()"
   ]
  },
  {
   "cell_type": "code",
   "execution_count": 29,
   "id": "847e9589",
   "metadata": {},
   "outputs": [
    {
     "name": "stdout",
     "output_type": "stream",
     "text": [
      "4\n",
      "  *\n",
      "\n",
      "  *\n",
      "  *\n",
      "\n",
      "  *\n",
      "  *\n",
      "  *\n",
      "\n",
      "  *\n",
      "  *\n",
      "  *\n",
      "  *\n",
      "\n"
     ]
    }
   ],
   "source": [
    "n = int(input())\n",
    "for i in range(0, n):\n",
    "    for j in range(0, i+1):\n",
    "        print(\" \",\"*\")\n",
    "    print()"
   ]
  },
  {
   "cell_type": "code",
   "execution_count": 30,
   "id": "d5ffc12a",
   "metadata": {},
   "outputs": [
    {
     "name": "stdout",
     "output_type": "stream",
     "text": [
      "4\n",
      "  * \n",
      "  *   * \n",
      "  *   *   * \n",
      "  *   *   *   * \n"
     ]
    }
   ],
   "source": [
    "n = int(input())\n",
    "for i in range(0, n):\n",
    "    for j in range(0, i+1):\n",
    "        print(\" \",\"*\",end=\" \")\n",
    "    print()"
   ]
  },
  {
   "cell_type": "code",
   "execution_count": 31,
   "id": "de827e07",
   "metadata": {},
   "outputs": [
    {
     "name": "stdout",
     "output_type": "stream",
     "text": [
      "4\n",
      " \n",
      "* \n",
      " \n",
      "*  \n",
      "* \n",
      " \n",
      "*  \n",
      "*  \n",
      "* \n",
      " \n",
      "*  \n",
      "*  \n",
      "*  \n",
      "* \n"
     ]
    }
   ],
   "source": [
    "n = int(input())\n",
    "for i in range(0, n):\n",
    "    for j in range(0, i+1):\n",
    "        print(\" \")\n",
    "        print(\"*\",end=\" \")\n",
    "    print()"
   ]
  },
  {
   "cell_type": "code",
   "execution_count": 40,
   "id": "dbc3858b",
   "metadata": {},
   "outputs": [
    {
     "name": "stdout",
     "output_type": "stream",
     "text": [
      "4\n",
      "* \n",
      "* * \n",
      "* * * \n",
      "* * * * \n"
     ]
    }
   ],
   "source": [
    "n = int(input())\n",
    "for i in range(n):\n",
    "    for j in range(i+1):\n",
    "        print(\"*\",end=\" \")\n",
    "    print()"
   ]
  },
  {
   "cell_type": "code",
   "execution_count": 41,
   "id": "3637c445",
   "metadata": {},
   "outputs": [
    {
     "name": "stdout",
     "output_type": "stream",
     "text": [
      "4\n",
      "* * * * * * * * * * "
     ]
    }
   ],
   "source": [
    "n = int(input())\n",
    "for i in range(n):\n",
    "    for j in range(i+1):\n",
    "        print(\"*\",end=\" \")"
   ]
  },
  {
   "cell_type": "code",
   "execution_count": 38,
   "id": "e72eb371",
   "metadata": {},
   "outputs": [
    {
     "name": "stdout",
     "output_type": "stream",
     "text": [
      "4\n",
      "   * \n",
      "   *    * \n",
      "   *    *    * \n",
      "   *    *    *    * \n"
     ]
    }
   ],
   "source": [
    "n = int(input())\n",
    "for i in range(n):\n",
    "    for j in range(i+1):\n",
    "        for k in range(n-1):\n",
    "            print(\" \", end=\"\")\n",
    "        print(\"*\",end=\" \")\n",
    "    print()"
   ]
  },
  {
   "cell_type": "code",
   "execution_count": null,
   "id": "31631d4f",
   "metadata": {},
   "outputs": [],
   "source": []
  },
  {
   "cell_type": "code",
   "execution_count": null,
   "id": "420e1566",
   "metadata": {},
   "outputs": [],
   "source": []
  },
  {
   "cell_type": "code",
   "execution_count": null,
   "id": "8d9eb5cf",
   "metadata": {},
   "outputs": [],
   "source": []
  },
  {
   "cell_type": "code",
   "execution_count": 26,
   "id": "5bd871c1",
   "metadata": {},
   "outputs": [
    {
     "name": "stdout",
     "output_type": "stream",
     "text": [
      "4\n",
      " *\n",
      "\n",
      " *\n",
      " *\n",
      "\n",
      " *\n",
      " *\n",
      " *\n",
      "\n",
      " *\n",
      " *\n",
      " *\n",
      " *\n",
      "\n"
     ]
    }
   ],
   "source": [
    "n = int(input())\n",
    "for i in range(0, n):\n",
    "    for j in range(0, i+1):\n",
    "        print(end=\" \")\n",
    "        print(\"*\")\n",
    "    print()"
   ]
  },
  {
   "cell_type": "code",
   "execution_count": 27,
   "id": "b1540e6e",
   "metadata": {},
   "outputs": [
    {
     "ename": "SyntaxError",
     "evalue": "positional argument follows keyword argument (262203095.py, line 4)",
     "output_type": "error",
     "traceback": [
      "\u001b[1;36m  Cell \u001b[1;32mIn[27], line 4\u001b[1;36m\u001b[0m\n\u001b[1;33m    print(end=\" \",\"*\")\u001b[0m\n\u001b[1;37m                     ^\u001b[0m\n\u001b[1;31mSyntaxError\u001b[0m\u001b[1;31m:\u001b[0m positional argument follows keyword argument\n"
     ]
    }
   ],
   "source": [
    "n = int(input())\n",
    "for i in range(0, n):\n",
    "    for j in range(0, i+1):\n",
    "        print(end=\" \",\"*\")\n",
    "    print()"
   ]
  },
  {
   "cell_type": "code",
   "execution_count": 28,
   "id": "cf94d794",
   "metadata": {},
   "outputs": [
    {
     "name": "stdout",
     "output_type": "stream",
     "text": [
      "4\n",
      "*\n",
      "\n",
      "*\n",
      "*\n",
      "\n",
      "*\n",
      "*\n",
      "*\n",
      "\n",
      "*\n",
      "*\n",
      "*\n",
      "*\n",
      "\n"
     ]
    }
   ],
   "source": [
    "n = int(input())\n",
    "for i in range(0, n):\n",
    "    for j in range(0, i+1):\n",
    "        print(\"*\")\n",
    "    print()"
   ]
  },
  {
   "cell_type": "code",
   "execution_count": 22,
   "id": "beb8cf84",
   "metadata": {},
   "outputs": [
    {
     "name": "stdout",
     "output_type": "stream",
     "text": [
      "*\n",
      "<class 'str'>\n",
      "4\n",
      "      \n",
      "      *\n",
      "      **\n",
      "      ***\n",
      "      ****\n"
     ]
    }
   ],
   "source": [
    "X  = input()\n",
    "print(type(X))\n",
    "p = 1+int(input())\n",
    "for z in range(p):\n",
    "    z = X*z\n",
    "    x = \" \"*p\n",
    "    print(x,z)"
   ]
  },
  {
   "cell_type": "code",
   "execution_count": null,
   "id": "68f26d51",
   "metadata": {},
   "outputs": [],
   "source": []
  }
 ],
 "metadata": {
  "kernelspec": {
   "display_name": "Python 3 (ipykernel)",
   "language": "python",
   "name": "python3"
  },
  "language_info": {
   "codemirror_mode": {
    "name": "ipython",
    "version": 3
   },
   "file_extension": ".py",
   "mimetype": "text/x-python",
   "name": "python",
   "nbconvert_exporter": "python",
   "pygments_lexer": "ipython3",
   "version": "3.10.9"
  }
 },
 "nbformat": 4,
 "nbformat_minor": 5
}
