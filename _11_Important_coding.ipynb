{
 "cells": [
  {
   "cell_type": "markdown",
   "id": "c5c155d6",
   "metadata": {},
   "source": [
    "## Using Print command and Escape sequences only."
   ]
  },
  {
   "cell_type": "code",
   "execution_count": 4,
   "id": "de93b0a1",
   "metadata": {
    "collapsed": true
   },
   "outputs": [
    {
     "name": "stdout",
     "output_type": "stream",
     "text": [
      "Name of student\t\tAA\t\tBB\t\tCC\t\tDD\n",
      "\n",
      "\n",
      "Hindi          \t\t90\t\t80\t\t77\t\t91\n",
      "\n",
      "\n",
      "English        \t\t65\t\t55\t\t88\t\t79\n",
      "\n",
      "\n",
      "Sanskrit       \t\t91\t\t85\t\t75\t\t65\n",
      "\n",
      "\n",
      "SST            \t\t92\t\t88\t\t98\t\t58\n"
     ]
    }
   ],
   "source": [
    "print(\"Name of student\"\"\\t\\tAA\\t\\tBB\\t\\tCC\\t\\tDD\")\n",
    "print(\"\\n\")\n",
    "print(\"Hindi          \"\"\\t\\t90\\t\\t80\\t\\t77\\t\\t91\")\n",
    "print(\"\\n\")\n",
    "print(\"English        \"\"\\t\\t65\\t\\t55\\t\\t88\\t\\t79\")\n",
    "print(\"\\n\")\n",
    "print(\"Sanskrit       \"\"\\t\\t91\\t\\t85\\t\\t75\\t\\t65\")\n",
    "print(\"\\n\")\n",
    "print(\"SST            \"\"\\t\\t92\\t\\t88\\t\\t98\\t\\t58\")"
   ]
  },
  {
   "cell_type": "code",
   "execution_count": 3,
   "id": "a152a463",
   "metadata": {
    "collapsed": true
   },
   "outputs": [
    {
     "name": "stdout",
     "output_type": "stream",
     "text": [
      "Name of student\t\tAA\t\tBB\t\tCC\t\tDD\n",
      "\n",
      "Hindi          \t\t90\t\t80\t\t77\t\t91\n",
      "\n",
      "English        \t\t65\t\t55\t\t88\t\t79\n",
      "\n",
      "Sanskrit       \t\t91\t\t85\t\t75\t\t65\n",
      "\n",
      "SST            \t\t92\t\t88\t\t98\t\t58\n"
     ]
    }
   ],
   "source": [
    "print(\"Name of student\"\"\\t\\tAA\\t\\tBB\\t\\tCC\\t\\tDD\\n\")\n",
    "print(\"Hindi          \"\"\\t\\t90\\t\\t80\\t\\t77\\t\\t91\\n\")\n",
    "print(\"English        \"\"\\t\\t65\\t\\t55\\t\\t88\\t\\t79\\n\")\n",
    "print(\"Sanskrit       \"\"\\t\\t91\\t\\t85\\t\\t75\\t\\t65\\n\")\n",
    "print(\"SST            \"\"\\t\\t92\\t\\t88\\t\\t98\\t\\t58\")"
   ]
  },
  {
   "cell_type": "markdown",
   "id": "cfcb3959",
   "metadata": {},
   "source": [
    "## Q1. Take a two digit Integer form user and print the digit at one's place separately.\n",
    "\n",
    "##  Q2. Take two numbers (two digit positive numbers) as inputs form the users and add two numbers in this way x + y = Z \n",
    "###   eg 25 + 36 = 2536.\n",
    " \n",
    " \n",
    "##  Q3. Take any two numbers (two digit positive numbers) as inputs form the users multiply the numbers in this way\n",
    "###  25\n",
    "###  36\n",
    "###  5*3 + 2*5 = 25\n"
   ]
  },
  {
   "cell_type": "code",
   "execution_count": 5,
   "id": "4aea90cc",
   "metadata": {},
   "outputs": [
    {
     "name": "stdout",
     "output_type": "stream",
     "text": [
      "Enter a Two Digit integer: 234\n",
      "<class 'int'>\n"
     ]
    },
    {
     "data": {
      "text/plain": [
       "4"
      ]
     },
     "execution_count": 5,
     "metadata": {},
     "output_type": "execute_result"
    }
   ],
   "source": [
    "# Q1. take a two digit Integer form user and print the digit at one's place separately.\n",
    "\n",
    "X = input(\"Enter a Two Digit integer: \")\n",
    "Z = int(str(X))\n",
    "print(type(Z))\n",
    "Z%10\n"
   ]
  },
  {
   "cell_type": "code",
   "execution_count": 1,
   "id": "35c86a51",
   "metadata": {},
   "outputs": [
    {
     "name": "stdout",
     "output_type": "stream",
     "text": [
      "Any number:  123\n",
      "3\n"
     ]
    }
   ],
   "source": [
    "x = int(input(\"Any number:  \")) ###  ***\"Short coding -- Good\"***  \n",
    "print(x%10)"
   ]
  },
  {
   "cell_type": "code",
   "execution_count": null,
   "id": "71e1e8d3",
   "metadata": {},
   "outputs": [],
   "source": []
  },
  {
   "cell_type": "code",
   "execution_count": null,
   "id": "51fb13fe",
   "metadata": {},
   "outputs": [],
   "source": []
  },
  {
   "cell_type": "code",
   "execution_count": 6,
   "id": "45274b79",
   "metadata": {
    "scrolled": false
   },
   "outputs": [
    {
     "name": "stdout",
     "output_type": "stream",
     "text": [
      "Enter a First two digit integer:  55\n",
      "Enter a Second two digit integer: 89\n",
      "\n",
      "\n",
      "5555555555555555555589\n"
     ]
    }
   ],
   "source": [
    "X = input(\"Enter a First two digit integer:  \")\n",
    "Y = input(\"Enter a Second two digit integer: \")\n",
    "Q = int(str(X))\n",
    "P = int(str(Y))\n",
    "\n",
    "Z = X*10 + Y\n",
    "print('\\n')\n",
    "print(Z)"
   ]
  },
  {
   "cell_type": "code",
   "execution_count": 7,
   "id": "d662d5cb",
   "metadata": {},
   "outputs": [
    {
     "name": "stdout",
     "output_type": "stream",
     "text": [
      "Enter a First two digit integer:  24\n",
      "Enter a Second two digit integer: 56\n",
      "\n",
      "\n",
      "2456\n"
     ]
    }
   ],
   "source": [
    "#  Q2. Take two numbers (two digit positive numbers) as inputs form the users and add two numbers in this way x + y = Z \n",
    " # eg 25 + 36 = 2536.\n",
    "    \n",
    "X = input(\"Enter a First two digit integer:  \")\n",
    "Y = input(\"Enter a Second two digit integer: \")\n",
    "Q = int(str(X))\n",
    "P = int(str(Y))\n",
    "\n",
    "Z = Q*100 + P\n",
    "print('\\n')\n",
    "print(Z)\n"
   ]
  },
  {
   "cell_type": "code",
   "execution_count": 8,
   "id": "2523d850",
   "metadata": {},
   "outputs": [
    {
     "name": "stdout",
     "output_type": "stream",
     "text": [
      "Enter a First two digit integer:  24\n",
      "24\n",
      "Enter a Second two digit integer: 67\n",
      "67\n",
      "4 7 2 6\n",
      "\n",
      "\n",
      "38\n"
     ]
    }
   ],
   "source": [
    " #  Take any two numbers (two digit positive numbers) as inputs form the users multiply the numbers in this way\n",
    " #  25\n",
    " #  36\n",
    " #  5*3 + 2*6 = 27\n",
    "    \n",
    "X = input(\"Enter a First two digit integer:  \")\n",
    "print(X)\n",
    "Y = input(\"Enter a Second two digit integer: \")\n",
    "print(Y)\n",
    "Q = int(str(X))\n",
    "P = int(str(Y))\n",
    "\n",
    "A = Q%10\n",
    "B = P%10\n",
    "C = (Q//10)\n",
    "D = (P//10)\n",
    "E = A*D + B*C\n",
    "print(A,B,C,D)\n",
    "print(\"\\n\")\n",
    "print(E)"
   ]
  },
  {
   "cell_type": "code",
   "execution_count": 9,
   "id": "44b0116d",
   "metadata": {
    "scrolled": false
   },
   "outputs": [
    {
     "name": "stdout",
     "output_type": "stream",
     "text": [
      "Enter a First two digit integer:  24\n",
      "24\n",
      "Enter a Second two digit integer: 67\n",
      "67\n",
      "<class 'int'>\n",
      "<class 'int'>\n"
     ]
    },
    {
     "ename": "TypeError",
     "evalue": "unsupported operand type(s) for %: 'NoneType' and 'int'",
     "output_type": "error",
     "traceback": [
      "\u001b[1;31m---------------------------------------------------------------------------\u001b[0m",
      "\u001b[1;31mTypeError\u001b[0m                                 Traceback (most recent call last)",
      "Cell \u001b[1;32mIn[9], line 13\u001b[0m\n\u001b[0;32m     10\u001b[0m Q \u001b[38;5;241m=\u001b[39m \u001b[38;5;28mprint\u001b[39m(\u001b[38;5;28mtype\u001b[39m(\u001b[38;5;28mint\u001b[39m(\u001b[38;5;28mstr\u001b[39m(X))))\n\u001b[0;32m     11\u001b[0m P \u001b[38;5;241m=\u001b[39m \u001b[38;5;28mprint\u001b[39m(\u001b[38;5;28mtype\u001b[39m(\u001b[38;5;28mint\u001b[39m(\u001b[38;5;28mstr\u001b[39m(Y))))\n\u001b[1;32m---> 13\u001b[0m A \u001b[38;5;241m=\u001b[39m \u001b[43mQ\u001b[49m\u001b[38;5;241;43m%\u001b[39;49m\u001b[38;5;241;43m10\u001b[39;49m\u001b[38;5;241m*\u001b[39m(P\u001b[38;5;241m/\u001b[39m\u001b[38;5;241m/\u001b[39m\u001b[38;5;241m10\u001b[39m)\n\u001b[0;32m     14\u001b[0m B \u001b[38;5;241m=\u001b[39m P\u001b[38;5;241m%\u001b[39m\u001b[38;5;241m10\u001b[39m\u001b[38;5;241m*\u001b[39m(Q\u001b[38;5;241m/\u001b[39m\u001b[38;5;241m/\u001b[39m\u001b[38;5;241m10\u001b[39m)\n\u001b[0;32m     15\u001b[0m C \u001b[38;5;241m=\u001b[39m A \u001b[38;5;241m+\u001b[39m B\n",
      "\u001b[1;31mTypeError\u001b[0m: unsupported operand type(s) for %: 'NoneType' and 'int'"
     ]
    }
   ],
   "source": [
    "#  Q3. Take any two numbers (two digit positive numbers) as inputs form the users multiply the numbers in this way\n",
    " #  25\n",
    " #  36\n",
    " #  5*3 + 2*6 = 27\n",
    "    \n",
    "X = input(\"Enter a First two digit integer:  \")\n",
    "print(X)\n",
    "Y = input(\"Enter a Second two digit integer: \")\n",
    "print(Y)\n",
    "Q = print(type(int(str(X))))\n",
    "P = print(type(int(str(Y))))\n",
    "\n",
    "A = Q%10*(P//10)\n",
    "B = P%10*(Q//10)\n",
    "C = A + B\n",
    "print(A,B , \"\\n\" , C)"
   ]
  },
  {
   "cell_type": "code",
   "execution_count": 11,
   "id": "853dd3db",
   "metadata": {
    "scrolled": false
   },
   "outputs": [
    {
     "name": "stdout",
     "output_type": "stream",
     "text": [
      "Enter a First two digit integer:  24\n",
      "24\n",
      "Enter a Second two digit integer: 67\n",
      "67\n",
      "<class 'int'>\n",
      "<class 'int'>\n"
     ]
    },
    {
     "ename": "TypeError",
     "evalue": "unsupported operand type(s) for %: 'NoneType' and 'int'",
     "output_type": "error",
     "traceback": [
      "\u001b[1;31m---------------------------------------------------------------------------\u001b[0m",
      "\u001b[1;31mTypeError\u001b[0m                                 Traceback (most recent call last)",
      "Cell \u001b[1;32mIn[11], line 13\u001b[0m\n\u001b[0;32m     10\u001b[0m Q \u001b[38;5;241m=\u001b[39m \u001b[38;5;28mprint\u001b[39m(\u001b[38;5;28mtype\u001b[39m(\u001b[38;5;28mint\u001b[39m(\u001b[38;5;28mstr\u001b[39m(X))))\n\u001b[0;32m     11\u001b[0m P \u001b[38;5;241m=\u001b[39m \u001b[38;5;28mprint\u001b[39m(\u001b[38;5;28mtype\u001b[39m(\u001b[38;5;28mint\u001b[39m(\u001b[38;5;28mstr\u001b[39m(Y))))\n\u001b[1;32m---> 13\u001b[0m A \u001b[38;5;241m=\u001b[39m (\u001b[43mQ\u001b[49m\u001b[38;5;241;43m%\u001b[39;49m\u001b[38;5;241;43m10\u001b[39;49m)\u001b[38;5;241m*\u001b[39m(P\u001b[38;5;241m/\u001b[39m\u001b[38;5;241m/\u001b[39m\u001b[38;5;241m10\u001b[39m)\n\u001b[0;32m     14\u001b[0m B \u001b[38;5;241m=\u001b[39m (P\u001b[38;5;241m%\u001b[39m\u001b[38;5;241m10\u001b[39m)\u001b[38;5;241m*\u001b[39m(Q\u001b[38;5;241m/\u001b[39m\u001b[38;5;241m/\u001b[39m\u001b[38;5;241m10\u001b[39m)\n\u001b[0;32m     15\u001b[0m C \u001b[38;5;241m=\u001b[39m A \u001b[38;5;241m+\u001b[39m B\n",
      "\u001b[1;31mTypeError\u001b[0m: unsupported operand type(s) for %: 'NoneType' and 'int'"
     ]
    }
   ],
   "source": [
    "#  Q3. Take any two numbers (two digit positive numbers) as inputs form the users multiply the numbers in this way\n",
    " #  25\n",
    " #  36\n",
    " #  5*3 + 2*6 = 27\n",
    "    \n",
    "X = input(\"Enter a First two digit integer:  \")\n",
    "print(X)\n",
    "Y = input(\"Enter a Second two digit integer: \")\n",
    "print(Y)\n",
    "Q = print(type(int(str(X))))\n",
    "P = print(type(int(str(Y))))\n",
    "\n",
    "A = (Q%10)*(P//10)\n",
    "B = (P%10)*(Q//10)\n",
    "C = A + B\n",
    "print(A,B , \"\\n\" , C)"
   ]
  },
  {
   "cell_type": "code",
   "execution_count": 16,
   "id": "f7da14b6",
   "metadata": {},
   "outputs": [
    {
     "name": "stdout",
     "output_type": "stream",
     "text": [
      "Enter a First two digit integer:  24\n",
      "24\n",
      "Enter a Second two digit integer: 67\n",
      "67\n",
      "\n",
      " 24 14 \n",
      " 38\n"
     ]
    }
   ],
   "source": [
    " #  Q3. Take any two numbers (two digit positive numbers) as inputs form the users multiply the numbers in this way\n",
    " #  25\n",
    " #  36\n",
    " #  5*3 + 2*6 = 27\n",
    "    \n",
    "X = input(\"Enter a First two digit integer:  \")\n",
    "print(X)\n",
    "Y = input(\"Enter a Second two digit integer: \")\n",
    "print(Y)\n",
    "Q = int(str(X))\n",
    "P = int(str(Y))\n",
    "\n",
    "A = (Q%10)*(P//10)\n",
    "B = (P%10)*(Q//10)\n",
    "C = A + B\n",
    "print(\"\\n\" , A,B , \"\\n\" , C)"
   ]
  },
  {
   "cell_type": "code",
   "execution_count": 17,
   "id": "75847e57",
   "metadata": {},
   "outputs": [
    {
     "name": "stdout",
     "output_type": "stream",
     "text": [
      "Enter a First two digit integer:  24\n",
      "24\n",
      "Enter a Second two digit integer: 46\n",
      "46\n",
      "35\n"
     ]
    }
   ],
   "source": [
    "#  Q4. Find Average of two numbers.\n",
    "    \n",
    "X = input(\"Enter a First two digit integer:  \")\n",
    "print(X)\n",
    "Y = input(\"Enter a Second two digit integer: \")\n",
    "print(Y)\n",
    "Q = int(str(X))\n",
    "P = int(str(Y))\n",
    "\n",
    "A = ((Q+P)//2)\n",
    "print(A)"
   ]
  },
  {
   "cell_type": "code",
   "execution_count": 18,
   "id": "aea86030",
   "metadata": {},
   "outputs": [
    {
     "name": "stdout",
     "output_type": "stream",
     "text": [
      "Enter a First two digit integer:  55\n",
      "55\n",
      "Enter a Second two digit integer: 67\n",
      "67\n",
      "61.0\n"
     ]
    }
   ],
   "source": [
    "#  Find Average of two numbers.\n",
    "    \n",
    "X = input(\"Enter a First two digit integer:  \")\n",
    "print(X)\n",
    "Y = input(\"Enter a Second two digit integer: \")\n",
    "print(Y)\n",
    "Q = int(str(X))\n",
    "P = int(str(Y))\n",
    "\n",
    "A = ((Q+P)/2)\n",
    "print(A)"
   ]
  },
  {
   "cell_type": "code",
   "execution_count": 1,
   "id": "9b5641e9",
   "metadata": {},
   "outputs": [
    {
     "name": "stdout",
     "output_type": "stream",
     "text": [
      "First Data:    31+2j\n",
      "Second Data:   45+j\n",
      "45+j\n",
      "31+2j\n",
      "31+2j 45+j\n"
     ]
    }
   ],
   "source": [
    "A = input(\"First Data:    \")     # using .replace() method\n",
    "B = input(\"Second Data:   \")      \n",
    "X = A + B\n",
    "Y = A + B\n",
    "X = X.replace(A+B, B)             # X,Y,A,B  are already STRINGS so no need to use DOUBLE Quotation MARKs\n",
    "print(X)\n",
    "Y = Y.replace(A+B, A)\n",
    "print(Y)\n",
    "B = X\n",
    "A = Y\n",
    "print(A,B)                        # Something is wrong. \"IMPROVE IT\""
   ]
  },
  {
   "cell_type": "code",
   "execution_count": 1,
   "id": "b48de6ce",
   "metadata": {},
   "outputs": [
    {
     "name": "stdout",
     "output_type": "stream",
     "text": [
      "First Data:    qqqqqqqqq\n",
      "Second Data:   eeee\n",
      "eeee\n",
      "qqqqqqqqq\n"
     ]
    }
   ],
   "source": [
    "A = input(\"First Data:    \")     # using .replace() method\n",
    "B = input(\"Second Data:   \")      \n",
    "X = Y = A + B\n",
    "X = X.replace(A+B, B)             # X,Y,A,B  are already STRINGS so no need to use DOUBLE Quotation MARKs\n",
    "print(X)\n",
    "Y = Y.replace(A+B, A)\n",
    "print(Y)"
   ]
  },
  {
   "cell_type": "code",
   "execution_count": 1,
   "id": "5be453ea",
   "metadata": {},
   "outputs": [
    {
     "name": "stdout",
     "output_type": "stream",
     "text": [
      "First variable:  NNN\n",
      "\n",
      "Second variable: HHH\n",
      "HHH NNN\n",
      "HHH NNN\n"
     ]
    }
   ],
   "source": [
    "a = input('First variable:  ')                # This is NOTHING\n",
    "b = input('\\nSecond variable: ')\n",
    "\n",
    "x = b\n",
    "y = a\n",
    "a = x\n",
    "b = y\n",
    "print(x , y)\n",
    "print(a,b)"
   ]
  },
  {
   "cell_type": "code",
   "execution_count": 2,
   "id": "3acede06",
   "metadata": {},
   "outputs": [
    {
     "name": "stdout",
     "output_type": "stream",
     "text": [
      "First variable:  HHHHHH\n",
      "\n",
      "Second variable: NNNNN\n",
      "NNNNN HHHHHH\n",
      "NNNNN HHHHHH\n"
     ]
    }
   ],
   "source": [
    "a = input('First variable:  ')               # IMPORTANT STEP\n",
    "b = input('\\nSecond variable: ')\n",
    "x = b\n",
    "y = a \n",
    "a = x      # IMPORTANT STEP\n",
    "b = y      # IMPORTANT STEP \n",
    "print(x , y)\n",
    "print(a,b)"
   ]
  },
  {
   "cell_type": "code",
   "execution_count": 6,
   "id": "73c38502",
   "metadata": {},
   "outputs": [
    {
     "name": "stdout",
     "output_type": "stream",
     "text": [
      "First Data:    aaaaaaa\n",
      "Second Data:   BB\n",
      "BB aaaaaaa\n"
     ]
    }
   ],
   "source": [
    "A = input(\"First Data:    \")     # using .replace() method  --- DONE -- Swapping\n",
    "B = input(\"Second Data:   \")      \n",
    "X = A + B\n",
    "Y = A + B\n",
    "Q = X.replace(A+B, B)             # X,Y,A,B  are already STRINGS so no need to use DOUBLE Quotation MARKs\n",
    "P = Y.replace(A+B, A)\n",
    "A = Q\n",
    "B = P\n",
    "print(A,B)"
   ]
  },
  {
   "cell_type": "code",
   "execution_count": 1,
   "id": "fbe56c05",
   "metadata": {
    "scrolled": true
   },
   "outputs": [
    {
     "name": "stdout",
     "output_type": "stream",
     "text": [
      "First Data:    AAAAAAAA\n",
      "Second Data:   BB\n",
      "['', 'BB']\n",
      "BB\n",
      "['AAAAAAAA', '']\n",
      "AAAAAAAA\n",
      "BB AAAAAAAA\n"
     ]
    }
   ],
   "source": [
    "A = input(\"First Data:    \")            #SWAPPING  using .split() method   +  INDEXING OF STRING\n",
    "B = input(\"Second Data:   \")      \n",
    "X = Y = A + B\n",
    "P = X.split(A)             # X,Y,A,B  are already STRINGS so no need to use DOUBLE Quotation MARKs\n",
    "print(P)\n",
    "print(P[1])\n",
    "Q = Y.split(B)\n",
    "print(Q)\n",
    "print(Q[0])\n",
    "B = Q[0]\n",
    "A = P[1]\n",
    "print(A,B)"
   ]
  },
  {
   "cell_type": "markdown",
   "id": "bdd541ac",
   "metadata": {},
   "source": [
    "# By Pushpendra ji  --- Mathematical Problem"
   ]
  },
  {
   "cell_type": "code",
   "execution_count": 1,
   "id": "63e65d06",
   "metadata": {},
   "outputs": [
    {
     "name": "stdout",
     "output_type": "stream",
     "text": [
      "Enter a First two digit integer:  21\n",
      "Enter a Second two digit integer: 34\n",
      "11\n"
     ]
    }
   ],
   "source": [
    "#  Q3. Take any two numbers (two digit positive numbers) as inputs form the users multiply the numbers in this way\n",
    " #  25\n",
    " #  36\n",
    " #  5*3 + 2*5 = 25\n",
    "    \n",
    "X = int(input(\"Enter a First two digit integer:  \"))\n",
    "Y = int(input(\"Enter a Second two digit integer: \"))\n",
    "print(X%10 * Y//10 + Y%10 * X//10)"
   ]
  },
  {
   "cell_type": "code",
   "execution_count": 2,
   "id": "18b4bd58",
   "metadata": {},
   "outputs": [
    {
     "name": "stdout",
     "output_type": "stream",
     "text": [
      "Enter a First two digit integer:  21\n",
      "Enter a Second two digit integer: 34\n",
      "11\n"
     ]
    }
   ],
   "source": [
    "#  Q3. Take any two numbers (two digit positive numbers) as inputs form the users multiply the numbers in this way\n",
    " #  25\n",
    " #  36\n",
    " #  5*3 + 2*5 = 25\n",
    "    \n",
    "X = int(input(\"Enter a First two digit integer:  \"))\n",
    "Y = int(input(\"Enter a Second two digit integer: \"))\n",
    "print(((X%10)*(Y//10)) + ((Y%10)*(X//10)))"
   ]
  },
  {
   "cell_type": "code",
   "execution_count": 3,
   "id": "ea5fa531",
   "metadata": {},
   "outputs": [
    {
     "data": {
      "text/plain": [
       "23"
      ]
     },
     "execution_count": 3,
     "metadata": {},
     "output_type": "execute_result"
    }
   ],
   "source": [
    "23%46\n"
   ]
  },
  {
   "cell_type": "code",
   "execution_count": 2,
   "id": "74daa01c",
   "metadata": {},
   "outputs": [
    {
     "name": "stdout",
     "output_type": "stream",
     "text": [
      "First Data:    aaaaaaa\n",
      "Second Data:   bb\n",
      "['', 'bb']\n",
      "bb\n",
      "['aaaaaaa', '']\n",
      "aaaaaaa\n",
      "bb aaaaaaa\n"
     ]
    }
   ],
   "source": [
    "A = input(\"First Data:    \")            #SWAPPING  using .split() method   +  INDEXING OF STRING\n",
    "B = input(\"Second Data:   \")      \n",
    "X = A + B\n",
    "P = X.split(A)             # X,Y,A,B  are already STRINGS so no need to use DOUBLE Quotation MARKs\n",
    "print(P)\n",
    "print(P[1])\n",
    "Q = X.split(B)\n",
    "print(Q)\n",
    "print(Q[0])\n",
    "B = Q[0]\n",
    "A = P[1]\n",
    "print(A,B)"
   ]
  },
  {
   "cell_type": "code",
   "execution_count": 4,
   "id": "c13e20a3",
   "metadata": {},
   "outputs": [
    {
     "name": "stdout",
     "output_type": "stream",
     "text": [
      "First Data:    llllllllll\n",
      "Second Data:   mmmm\n",
      "Swap Value A: mmmm\n",
      "Swap Value B: llllllllll\n"
     ]
    }
   ],
   "source": [
    "A = input(\"First Data:    \"); B = input(\"Second Data:   \"); A,B = B,A ; print(\"Swap Value A:\" , A); print(\"Swap Value B:\" , B) "
   ]
  },
  {
   "cell_type": "code",
   "execution_count": 1,
   "id": "04887e30",
   "metadata": {},
   "outputs": [
    {
     "name": "stdout",
     "output_type": "stream",
     "text": [
      "First Data:    12\n",
      "Second Data:   45\n",
      "Swapped Value A: 45\n",
      "Swapped Value B: 12\n"
     ]
    }
   ],
   "source": [
    "A = input(\"First Data:    \")\n",
    "B = input(\"Second Data:   \") \n",
    "A,B = B,A \n",
    "print(\"Swapped Value A:\" , A)\n",
    "print(\"Swapped Value B:\" , B) "
   ]
  },
  {
   "cell_type": "code",
   "execution_count": 2,
   "id": "6744f20c",
   "metadata": {},
   "outputs": [
    {
     "name": "stdout",
     "output_type": "stream",
     "text": [
      "19 12\n"
     ]
    }
   ],
   "source": [
    "x,z =12,19\n",
    "x,z = z,x\n",
    "print(x,z)"
   ]
  },
  {
   "cell_type": "code",
   "execution_count": null,
   "id": "7d04ff1e",
   "metadata": {},
   "outputs": [],
   "source": []
  }
 ],
 "metadata": {
  "kernelspec": {
   "display_name": "Python 3 (ipykernel)",
   "language": "python",
   "name": "python3"
  },
  "language_info": {
   "codemirror_mode": {
    "name": "ipython",
    "version": 3
   },
   "file_extension": ".py",
   "mimetype": "text/x-python",
   "name": "python",
   "nbconvert_exporter": "python",
   "pygments_lexer": "ipython3",
   "version": "3.10.9"
  }
 },
 "nbformat": 4,
 "nbformat_minor": 5
}
