{
 "cells": [
  {
   "cell_type": "markdown",
   "id": "c98546fb",
   "metadata": {},
   "source": [
    "# By ROHIT ji"
   ]
  },
  {
   "cell_type": "code",
   "execution_count": 1,
   "id": "a095f171",
   "metadata": {},
   "outputs": [
    {
     "name": "stdout",
     "output_type": "stream",
     "text": [
      "Enter first number:  234\n",
      "Enter second number: 567\n",
      "Value of first number:    567\n",
      "Value of second number:   234\n"
     ]
    }
   ],
   "source": [
    "# Swapping of two values.\n",
    "\n",
    "x = int(input(\"Enter first number:  \"))            # by OPERATERS\n",
    "y = int(input(\"Enter second number: \"))\n",
    "x = x+y\n",
    "y = x-y\n",
    "x = x-y\n",
    "print(\"Value of first number:   \", x)\n",
    "print(\"Value of second number:  \", y)"
   ]
  },
  {
   "cell_type": "code",
   "execution_count": 7,
   "id": "ec45ffdf",
   "metadata": {},
   "outputs": [
    {
     "name": "stdout",
     "output_type": "stream",
     "text": [
      "Enter first number:  aaaaaaa\n",
      "Enter second number: BBB\n",
      "Value of first number  x:   BBB\n",
      "Value of second number y:   aaaaaaa\n"
     ]
    }
   ],
   "source": [
    "# Swapping of two values.\n",
    "\n",
    "x = input(\"Enter first number:  \")            # by .replace()\n",
    "y = input(\"Enter second number: \")\n",
    "z = x.replace(\"x\",\"y\")\n",
    "x = y\n",
    "y = z.replace(\"y\",\"z\")\n",
    "print(\"Value of first number  x:  \",x)\n",
    "print(\"Value of second number y:  \",y)"
   ]
  },
  {
   "cell_type": "code",
   "execution_count": 8,
   "id": "12b0513e",
   "metadata": {},
   "outputs": [
    {
     "name": "stdout",
     "output_type": "stream",
     "text": [
      "Enter first number:  AAAAAAAAA\n",
      "Enter second number: bbb\n",
      "Value of first number x:    ['bbb']\n",
      "Value of second number y:   ['AAAAAAAAA']\n"
     ]
    }
   ],
   "source": [
    "# Swapping of two values.\n",
    "\n",
    "x = input(\"Enter first number:  \")            # by .split()\n",
    "y = input(\"Enter second number: \")\n",
    "z = x \n",
    "x = y.split()\n",
    "y = z.split()\n",
    "print(\"Value of first number x:   \",x)\n",
    "print(\"Value of second number y:  \",y)"
   ]
  },
  {
   "cell_type": "code",
   "execution_count": 1,
   "id": "baaf2af2",
   "metadata": {},
   "outputs": [
    {
     "name": "stdout",
     "output_type": "stream",
     "text": [
      "Enter first number:  AAAAA\n",
      "Enter second number: NN\n",
      "Value of first number x:    ['NN']\n",
      "Value of second number y:   ['AAAAA']\n",
      "NN\n"
     ]
    }
   ],
   "source": [
    "x = input(\"Enter first number:  \")            # by .split()\n",
    "y = input(\"Enter second number: \")\n",
    "z = x \n",
    "x = y.split()\n",
    "y = z.split()\n",
    "print(\"Value of first number x:   \",x)\n",
    "print(\"Value of second number y:  \",y)\n",
    "print(x[0])\n"
   ]
  },
  {
   "cell_type": "code",
   "execution_count": 2,
   "id": "1b4fddad",
   "metadata": {},
   "outputs": [
    {
     "name": "stdout",
     "output_type": "stream",
     "text": [
      "Enter first number:  PPPPP\n",
      "Enter second number: KK\n",
      "Value of first number x:    KK\n",
      "Value of second number y:   ['PPPPP']\n"
     ]
    }
   ],
   "source": [
    "x = input(\"Enter first number:  \")            # by .split()\n",
    "y = input(\"Enter second number: \")\n",
    "z = x \n",
    "x = y.split()\n",
    "y = z.split()\n",
    "print(\"Value of first number x:   \",x[0])\n",
    "print(\"Value of second number y:  \",y)\n",
    "# print(x[0])\n"
   ]
  },
  {
   "cell_type": "code",
   "execution_count": 3,
   "id": "0cc4c144",
   "metadata": {},
   "outputs": [
    {
     "name": "stdout",
     "output_type": "stream",
     "text": [
      "Enter first number:  TTTTTTTT\n",
      "Enter second number: MMM\n",
      "Value of first number x:    MMM\n",
      "Value of second number y:   TTTTTTTT\n"
     ]
    }
   ],
   "source": [
    "x = input(\"Enter first number:  \")            # by .split()\n",
    "y = input(\"Enter second number: \")\n",
    "z = x \n",
    "x = y.split()\n",
    "y = z.split()\n",
    "print(\"Value of first number x:   \",x[0])\n",
    "print(\"Value of second number y:  \",y[0])\n",
    "# print(x[0])\n",
    "# print(y[0])"
   ]
  },
  {
   "cell_type": "code",
   "execution_count": 6,
   "id": "fdab093a",
   "metadata": {},
   "outputs": [
    {
     "name": "stdout",
     "output_type": "stream",
     "text": [
      "Enter first number:  JJJJJJJ\n",
      "Enter second number: II\n",
      "II\n",
      "JJJJJJJ\n"
     ]
    }
   ],
   "source": [
    "x = input(\"Enter first number:  \")            # by .split()\n",
    "y = input(\"Enter second number: \")\n",
    "z = x \n",
    "x = y.split()\n",
    "y = z.split()\n",
    "\n",
    "x = (x[0])\n",
    "print(x)\n",
    "y = (y[0])\n",
    "print(y)"
   ]
  },
  {
   "cell_type": "code",
   "execution_count": 1,
   "id": "999ac1e9",
   "metadata": {},
   "outputs": [
    {
     "name": "stdout",
     "output_type": "stream",
     "text": [
      "Enter first number:  LLLLLLL\n",
      "Enter second number: MM\n",
      "Value of first number x:    MM\n",
      "Value of second number y:   \n"
     ]
    }
   ],
   "source": [
    "x = input(\"Enter first number:  \")            # by positive and negative STRIDE\n",
    "y = input(\"Enter second number: \")\n",
    "z = x \n",
    "x = y[0:10:1]\n",
    "y = z[0:-10:1]\n",
    "print(\"Value of first number x:   \",x)\n",
    "print(\"Value of second number y:  \",y)"
   ]
  },
  {
   "cell_type": "code",
   "execution_count": 1,
   "id": "33a80879",
   "metadata": {},
   "outputs": [
    {
     "name": "stdout",
     "output_type": "stream",
     "text": [
      "Enter first number:  LLLLLL\n",
      "Enter second number: MM\n",
      "Value of first number x:    MM\n",
      "Value of second number y:   LLLLLL\n"
     ]
    }
   ],
   "source": [
    "x = input(\"Enter first number:  \")            # by positive and negative STRIDE\n",
    "y = input(\"Enter second number: \")\n",
    "z = x \n",
    "x = y[0:10:1]\n",
    "y = z[-10::1]\n",
    "print(\"Value of first number x:   \",x)\n",
    "print(\"Value of second number y:  \",y)"
   ]
  },
  {
   "cell_type": "code",
   "execution_count": 1,
   "id": "ceab97bd",
   "metadata": {},
   "outputs": [
    {
     "name": "stdout",
     "output_type": "stream",
     "text": [
      "Enter first number:  21\n",
      "Enter second number: 34\n"
     ]
    },
    {
     "ename": "TypeError",
     "evalue": "can't multiply sequence by non-int of type 'str'",
     "output_type": "error",
     "traceback": [
      "\u001b[1;31m---------------------------------------------------------------------------\u001b[0m",
      "\u001b[1;31mTypeError\u001b[0m                                 Traceback (most recent call last)",
      "Cell \u001b[1;32mIn[1], line 3\u001b[0m\n\u001b[0;32m      1\u001b[0m x \u001b[38;5;241m=\u001b[39m \u001b[38;5;28minput\u001b[39m(\u001b[38;5;124m\"\u001b[39m\u001b[38;5;124mEnter first number:  \u001b[39m\u001b[38;5;124m\"\u001b[39m)            \u001b[38;5;66;03m# by positive and negative STRIDE\u001b[39;00m\n\u001b[0;32m      2\u001b[0m y \u001b[38;5;241m=\u001b[39m \u001b[38;5;28minput\u001b[39m(\u001b[38;5;124m\"\u001b[39m\u001b[38;5;124mEnter second number: \u001b[39m\u001b[38;5;124m\"\u001b[39m)\n\u001b[1;32m----> 3\u001b[0m z \u001b[38;5;241m=\u001b[39m \u001b[43mx\u001b[49m\u001b[38;5;241;43m*\u001b[39;49m\u001b[43my\u001b[49m \n\u001b[0;32m      4\u001b[0m y \u001b[38;5;241m=\u001b[39m x\u001b[38;5;241m/\u001b[39my\n\u001b[0;32m      5\u001b[0m x \u001b[38;5;241m=\u001b[39m x\u001b[38;5;241m/\u001b[39my\n",
      "\u001b[1;31mTypeError\u001b[0m: can't multiply sequence by non-int of type 'str'"
     ]
    }
   ],
   "source": [
    "x = input(\"Enter first number:  \")            # by positive and negative STRIDE\n",
    "y = input(\"Enter second number: \")\n",
    "z = x*y \n",
    "y = x/y\n",
    "x = x/y\n",
    "print(\"Value of first number x:   \",x)\n",
    "print(\"Value of second number y:  \",y)"
   ]
  },
  {
   "cell_type": "code",
   "execution_count": 3,
   "id": "13e69e19",
   "metadata": {},
   "outputs": [
    {
     "name": "stdout",
     "output_type": "stream",
     "text": [
      "Enter first number:  35\n",
      "Enter second number: 46\n",
      "Value of first number x:    46.0\n",
      "Value of second number y:   0.7608695652173914\n"
     ]
    }
   ],
   "source": [
    "x = int(input(\"Enter first number:  \"))           # by positive and negative STRIDE\n",
    "y = int(input(\"Enter second number: \"))\n",
    "z = x*y \n",
    "y = x/y\n",
    "x = x/y\n",
    "print(\"Value of first number x:   \",x)\n",
    "print(\"Value of second number y:  \",y)\n"
   ]
  },
  {
   "cell_type": "code",
   "execution_count": 4,
   "id": "22c734c5",
   "metadata": {},
   "outputs": [
    {
     "name": "stdout",
     "output_type": "stream",
     "text": [
      "Enter first number:  34\n",
      "Enter second number: 46\n"
     ]
    },
    {
     "ename": "ZeroDivisionError",
     "evalue": "integer division or modulo by zero",
     "output_type": "error",
     "traceback": [
      "\u001b[1;31m---------------------------------------------------------------------------\u001b[0m",
      "\u001b[1;31mZeroDivisionError\u001b[0m                         Traceback (most recent call last)",
      "Cell \u001b[1;32mIn[4], line 5\u001b[0m\n\u001b[0;32m      3\u001b[0m z \u001b[38;5;241m=\u001b[39m x\u001b[38;5;241m*\u001b[39my \n\u001b[0;32m      4\u001b[0m y \u001b[38;5;241m=\u001b[39m x\u001b[38;5;241m/\u001b[39m\u001b[38;5;241m/\u001b[39my\n\u001b[1;32m----> 5\u001b[0m x \u001b[38;5;241m=\u001b[39m \u001b[43mx\u001b[49m\u001b[38;5;241;43m/\u001b[39;49m\u001b[38;5;241;43m/\u001b[39;49m\u001b[43my\u001b[49m\n\u001b[0;32m      6\u001b[0m \u001b[38;5;28mprint\u001b[39m(\u001b[38;5;124m\"\u001b[39m\u001b[38;5;124mValue of first number x:   \u001b[39m\u001b[38;5;124m\"\u001b[39m,x)\n\u001b[0;32m      7\u001b[0m \u001b[38;5;28mprint\u001b[39m(\u001b[38;5;124m\"\u001b[39m\u001b[38;5;124mValue of second number y:  \u001b[39m\u001b[38;5;124m\"\u001b[39m,y)\n",
      "\u001b[1;31mZeroDivisionError\u001b[0m: integer division or modulo by zero"
     ]
    }
   ],
   "source": [
    "x = int(input(\"Enter first number:  \"))           # by positive and negative STRIDE\n",
    "y = int(input(\"Enter second number: \"))\n",
    "z = x*y \n",
    "y = x//y\n",
    "x = x//y\n",
    "print(\"Value of first number x:   \",x)\n",
    "print(\"Value of second number y:  \",y)"
   ]
  },
  {
   "cell_type": "code",
   "execution_count": 5,
   "id": "24556205",
   "metadata": {},
   "outputs": [
    {
     "name": "stdout",
     "output_type": "stream",
     "text": [
      "Enter first number:  34\n",
      "Enter second number: 56\n",
      "Value of first number x:    56\n",
      "Value of second number y:   34\n"
     ]
    }
   ],
   "source": [
    "x = int(input(\"Enter first number:  \"))           # by positive and negative STRIDE\n",
    "y = int(input(\"Enter second number: \"))\n",
    "x = x*y \n",
    "y = x//y\n",
    "x = x//y\n",
    "print(\"Value of first number x:   \",x)\n",
    "print(\"Value of second number y:  \",y)"
   ]
  },
  {
   "cell_type": "code",
   "execution_count": 6,
   "id": "90723f56",
   "metadata": {},
   "outputs": [
    {
     "name": "stdout",
     "output_type": "stream",
     "text": [
      "Enter first number:  67\n",
      "Enter second number: 89\n",
      "Value of first number x:    89.0\n",
      "Value of second number y:   67.0\n"
     ]
    }
   ],
   "source": [
    "x = int(input(\"Enter first number:  \"))           # by positive and negative STRIDE\n",
    "y = int(input(\"Enter second number: \"))\n",
    "x = x*y \n",
    "y = x/y\n",
    "x = x/y\n",
    "print(\"Value of first number x:   \",x)\n",
    "print(\"Value of second number y:  \",y)"
   ]
  },
  {
   "cell_type": "code",
   "execution_count": 1,
   "id": "452e6593",
   "metadata": {},
   "outputs": [
    {
     "name": "stdout",
     "output_type": "stream",
     "text": [
      "Enter first number:  21\n",
      "Enter second number: 34\n"
     ]
    }
   ],
   "source": [
    "x = input(\"Enter first number:  \");y = input(\"Enter second number: \")"
   ]
  },
  {
   "cell_type": "code",
   "execution_count": null,
   "id": "0e7a5000",
   "metadata": {},
   "outputs": [],
   "source": [
    "x = input(\"Enter first number:  \");y = input(\"Enter second number: \");"
   ]
  },
  {
   "cell_type": "code",
   "execution_count": null,
   "id": "9e9b2929",
   "metadata": {},
   "outputs": [],
   "source": []
  },
  {
   "cell_type": "markdown",
   "id": "a41b1de7",
   "metadata": {},
   "source": [
    "# Question given by Bhumika ji \n",
    "### x = ['5867','857','937']\n",
    "### o/p = ['000','857','666']   ---> without using method or function"
   ]
  },
  {
   "cell_type": "code",
   "execution_count": 1,
   "id": "362e5264",
   "metadata": {},
   "outputs": [
    {
     "name": "stdout",
     "output_type": "stream",
     "text": [
      "['000', '857', '666']\n"
     ]
    }
   ],
   "source": [
    "x = ['5867','857','937']     ### o/p = ['000','857','666']   ---> without using method or function\n",
    "y = ['000','857','666']\n",
    "\n",
    "x,y = y,x\n",
    "\n",
    "print(x)"
   ]
  },
  {
   "cell_type": "code",
   "execution_count": null,
   "id": "d9e6ef35",
   "metadata": {},
   "outputs": [],
   "source": []
  },
  {
   "cell_type": "code",
   "execution_count": null,
   "id": "46c9b8fa",
   "metadata": {},
   "outputs": [],
   "source": []
  }
 ],
 "metadata": {
  "kernelspec": {
   "display_name": "Python 3 (ipykernel)",
   "language": "python",
   "name": "python3"
  },
  "language_info": {
   "codemirror_mode": {
    "name": "ipython",
    "version": 3
   },
   "file_extension": ".py",
   "mimetype": "text/x-python",
   "name": "python",
   "nbconvert_exporter": "python",
   "pygments_lexer": "ipython3",
   "version": "3.10.9"
  }
 },
 "nbformat": 4,
 "nbformat_minor": 5
}
